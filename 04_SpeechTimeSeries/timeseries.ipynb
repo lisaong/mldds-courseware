{
 "cells": [
  {
   "cell_type": "markdown",
   "metadata": {},
   "source": [
    "## Time Series Forecasting\n",
    "\n",
    "A survey of statistical and deep learning models"
   ]
  },
  {
   "cell_type": "markdown",
   "metadata": {
    "slideshow": {
     "slide_type": "slide"
    }
   },
   "source": [
    "## What's a time series\n",
    "\n",
    "A set of observations at regular time steps"
   ]
  },
  {
   "cell_type": "code",
   "execution_count": 43,
   "metadata": {
    "slideshow": {
     "slide_type": "slide"
    }
   },
   "outputs": [
    {
     "name": "stdout",
     "output_type": "stream",
     "text": [
      "HDB Resale Price Index (Univariate)\n"
     ]
    },
    {
     "data": {
      "text/html": [
       "\n",
       "        <iframe\n",
       "            width=\"600\"\n",
       "            height=\"400\"\n",
       "            src=\"https://data.gov.sg/dataset/hdb-resale-price-index/resource/52e93430-01b7-4de0-80df-bc83d0afed40/view/14c47d07-1395-4661-8466-728abce27f5f\"\n",
       "            frameborder=\"0\"\n",
       "            allowfullscreen\n",
       "        ></iframe>\n",
       "        "
      ],
      "text/plain": [
       "<IPython.lib.display.IFrame at 0x25f4d18c518>"
      ]
     },
     "execution_count": 43,
     "metadata": {},
     "output_type": "execute_result"
    }
   ],
   "source": [
    "from IPython.display import IFrame\n",
    "\n",
    "# Source: https://data.gov.sg/dataset/hdb-resale-price-index\n",
    "print(\"HDB Resale Price Index (Univariate)\")\n",
    "IFrame('https://data.gov.sg/dataset/hdb-resale-price-index/resource/52e93430-01b7-4de0-80df-bc83d0afed40/view/14c47d07-1395-4661-8466-728abce27f5f', width=600, height=400)"
   ]
  },
  {
   "cell_type": "code",
   "execution_count": 44,
   "metadata": {
    "slideshow": {
     "slide_type": "slide"
    }
   },
   "outputs": [
    {
     "name": "stdout",
     "output_type": "stream",
     "text": [
      "Annual Average Weekly Paid Hours Worked Per Employee, By Industry And Type Of Employment (Multi-variate)\n"
     ]
    },
    {
     "data": {
      "text/html": [
       "\n",
       "        <iframe\n",
       "            width=\"600\"\n",
       "            height=\"400\"\n",
       "            src=\"https://data.gov.sg/dataset/average-weekly-paid-hours-worked-per-employee-by-industry-and-type-of-employment-annual/resource/dd2147ce-20b7-401c-ac8f-8dbcc0d8e0d9/view/431f44b1-e58d-4131-998d-7e7aeee14479\"\n",
       "            frameborder=\"0\"\n",
       "            allowfullscreen\n",
       "        ></iframe>\n",
       "        "
      ],
      "text/plain": [
       "<IPython.lib.display.IFrame at 0x25f4d18c5c0>"
      ]
     },
     "execution_count": 44,
     "metadata": {},
     "output_type": "execute_result"
    }
   ],
   "source": [
    "from IPython.display import IFrame\n",
    "\n",
    "# Source: https://data.gov.sg/dataset/average-weekly-paid-hours-worked-per-employee-by-industry-and-type-of-employment-annual\n",
    "print(\"Annual Average Weekly Paid Hours Worked Per Employee, By Industry And Type Of Employment (Multi-variate)\")\n",
    "IFrame('https://data.gov.sg/dataset/average-weekly-paid-hours-worked-per-employee-by-industry-and-type-of-employment-annual/resource/dd2147ce-20b7-401c-ac8f-8dbcc0d8e0d9/view/431f44b1-e58d-4131-998d-7e7aeee14479', width='600', height='400')"
   ]
  },
  {
   "cell_type": "markdown",
   "metadata": {
    "slideshow": {
     "slide_type": "slide"
    }
   },
   "source": [
    "## Time Series Decomposition\n",
    "\n",
    "- For analysis\n",
    "- Split into trend, cyclic, seasonal, noise\n",
    "- Multiplicative or additive"
   ]
  },
  {
   "cell_type": "markdown",
   "metadata": {
    "slideshow": {
     "slide_type": "slide"
    }
   },
   "source": [
    "## Walkthrough: Time Series Decomposition\n",
    "1. Go to https://data.gov.sg/dataset/hdb-resale-price-index\n",
    "2. Click on the `Download` button\n",
    "3. Unzip and extract the `.csv` file. Note that path to that file for use later.\n"
   ]
  },
  {
   "cell_type": "markdown",
   "metadata": {
    "slideshow": {
     "slide_type": "slide"
    }
   },
   "source": [
    "We will use the [StatsModels](https://www.statsmodels.org/stable/index.html) Python library to perform the decomposition. \n",
    "\n",
    "This library will also be used later to perform statistical analysis. [Pandas](https://pandas.pydata.org/pandas-docs/stable/timeseries.html) is also useful for manipulating time series data."
   ]
  },
  {
   "cell_type": "code",
   "execution_count": null,
   "metadata": {
    "slideshow": {
     "slide_type": "-"
    }
   },
   "outputs": [],
   "source": [
    "\"\"\"Walkthrough: Time Series Decomposition\"\"\"\n",
    "\n",
    "#!pip install statsmodels\n",
    "from statsmodels.tsa.seasonal import seasonal_decompose\n",
    "from matplotlib import pyplot as plt\n",
    "import pandas as pd\n",
    "\n",
    "# ==================================================================\n",
    "# Update this path to match your actual path\n",
    "data_path = 'D:\\\\tmp\\\\hdb-resale-price-index\\\\housing-and-development-board-resale-price-index-1q2009-100-quarterly.csv'\n",
    "\n",
    "# load data\n",
    "df = pd.read_csv(data_path, index_col=0,\n",
    "                 parse_dates=True, infer_datetime_format=True)\n",
    "\n",
    "# print first few rows to make sure we loaded it properly\n",
    "df.head(5)"
   ]
  },
  {
   "cell_type": "markdown",
   "metadata": {
    "slideshow": {
     "slide_type": "-"
    }
   },
   "source": [
    "### DateTimeIndex\n",
    "\n",
    "From the table above, we can confirm it is indeed a quarterly distribution. \n",
    "\n",
    "`seasonal_decompose` ([docs](http://www.statsmodels.org/dev/generated/statsmodels.tsa.seasonal.seasonal_decompose.html)) expects a DateTimeIndex to indicate the frequency of the time series. \n",
    "\n",
    "To enable this, we've set `parse_dates=True` and `index_col=0` so that the `DataFrame.index` property is correctly set as a `pandas.DatetimeIndex` ([docs](https://pandas.pydata.org/pandas-docs/stable/timeseries.html#generating-ranges-of-timestamps)), with a quarterly frequency."
   ]
  },
  {
   "cell_type": "code",
   "execution_count": null,
   "metadata": {},
   "outputs": [],
   "source": [
    "# print the index.\n",
    "# note that this is different from the \"index\" column in the DataFrame,\n",
    "# which refers to the Resale Price Index.\n",
    "print(df.index)"
   ]
  },
  {
   "cell_type": "code",
   "execution_count": null,
   "metadata": {
    "slideshow": {
     "slide_type": "-"
    }
   },
   "outputs": [],
   "source": [
    "# plot the raw data, how that we have a DatetimeIndex\n",
    "ax = df.plot()"
   ]
  },
  {
   "cell_type": "markdown",
   "metadata": {
    "slideshow": {
     "slide_type": "-"
    }
   },
   "source": [
    "## Additive vs. Multiplicative Decomposition\n",
    "\n",
    "Now we are ready to decompose.  Let's try two models: `additive` and `multiplicative`.\n",
    "\n",
    "You can find the definitions in the [StatsModels documentation](http://www.statsmodels.org/dev/generated/statsmodels.tsa.seasonal.seasonal_decompose.html), but in a nutshell, the `additive` model \"adds up\" the components, while the `multiplicative` model \"multiplies\" the components together.\n",
    "\n",
    "Additive: $$y(t) = Trend + Seasonal + Residual$$\n",
    "\n",
    "Mulplicative: $$y(t) = Trend * Seasonal * Residual$$"
   ]
  },
  {
   "cell_type": "code",
   "execution_count": null,
   "metadata": {
    "slideshow": {
     "slide_type": "-"
    }
   },
   "outputs": [],
   "source": [
    "# it's a bit confusing, but `index` here refers to the HDB resale price index,\n",
    "# not the DataFrame.index (for time series)\n",
    "additive = seasonal_decompose(df, model='additive')\n",
    "additive.plot()\n",
    "plt.show()"
   ]
  },
  {
   "cell_type": "code",
   "execution_count": null,
   "metadata": {
    "slideshow": {
     "slide_type": "-"
    }
   },
   "outputs": [],
   "source": [
    "multiplicative = seasonal_decompose(df, model='multiplicative')\n",
    "multiplicative.plot()\n",
    "plt.show()"
   ]
  },
  {
   "cell_type": "markdown",
   "metadata": {
    "slideshow": {
     "slide_type": "-"
    }
   },
   "source": [
    "## Observations\n",
    "\n",
    "- There is a strong seasonal component. The component values are available as part of the object returned by `seasonal_decompose`\n",
    "- The multiplicative model seems like a better fit, because the resulting residuals are smaller. In general, residuals (noise) are difficult to fit statistically.\n",
    "\n",
    "## Why decompose?\n",
    "- The purpose of decomposition is to \"subtract\" known variability and simpilify creating models. For example, we can ignore the seasonal component and focus on predicting the trend.\n",
    "- `series_decompose` uses a naive implementation. For a more advanced decomposition library, see [STLDecompose]( https://github.com/jrmontag/STLDecompose/blob/master/STL%20usage%20example.ipynb)"
   ]
  },
  {
   "cell_type": "code",
   "execution_count": null,
   "metadata": {
    "slideshow": {
     "slide_type": "-"
    }
   },
   "outputs": [],
   "source": [
    "# print out the first few elements of each seasonal component\n",
    "print('Multiplicative model: Seasonal component')\n",
    "print(multiplicative.seasonal[:10])\n",
    "\n",
    "print('Multiplicative model: Trend component')\n",
    "print(multiplicative.trend[:10])\n",
    "\n",
    "print('Additive model: Seasonal component')\n",
    "print(additive.seasonal[:10])\n",
    "\n",
    "print('Additive model: Trend component')\n",
    "print(additive.trend[:10])"
   ]
  },
  {
   "cell_type": "markdown",
   "metadata": {
    "slideshow": {
     "slide_type": "slide"
    }
   },
   "source": [
    "## Forecasting"
   ]
  },
  {
   "cell_type": "markdown",
   "metadata": {
    "slideshow": {
     "slide_type": "fragment"
    }
   },
   "source": [
    "- Statistical: Auto-regressive, Moving average models"
   ]
  },
  {
   "cell_type": "markdown",
   "metadata": {
    "slideshow": {
     "slide_type": "fragment"
    }
   },
   "source": [
    "- Deep Learning: LSTMs"
   ]
  },
  {
   "cell_type": "markdown",
   "metadata": {
    "slideshow": {
     "slide_type": "slide"
    }
   },
   "source": [
    "## Auto-regressive models\n",
    "\n",
    "$AR(p): X_t=c + \\sum_{i=1}^p \\varphi_iX_{t-i} + \\varepsilon_t$"
   ]
  },
  {
   "cell_type": "markdown",
   "metadata": {
    "slideshow": {
     "slide_type": "fragment"
    }
   },
   "source": [
    "Output ($X_t$) depends on past values ($X_{t-i}$) + white noise ($\\varepsilon_t$)"
   ]
  },
  {
   "cell_type": "markdown",
   "metadata": {
    "slideshow": {
     "slide_type": "slide"
    }
   },
   "source": [
    "## Fitting auto-regressive models\n",
    "\n",
    "1. Use Autocorrelation to pick parameter $p$, which indicates how far back in time $X_{t-i}$ should go\n",
    "2. Train model to fit data, minimizing mean squared error"
   ]
  },
  {
   "cell_type": "markdown",
   "metadata": {
    "slideshow": {
     "slide_type": "slide"
    }
   },
   "source": [
    "## Workshop: Auto-regression\n",
    "\n",
    "In this workshop, we'll take the dataset we've been working with and see if we can train an auto-regressive model for it.\n",
    "\n",
    "Credits: borrowed heavily from https://machinelearningmastery.com/autoregression-models-time-series-forecasting-python/"
   ]
  },
  {
   "cell_type": "code",
   "execution_count": null,
   "metadata": {},
   "outputs": [],
   "source": [
    "\"\"\"Workshop: Auto-regression\"\"\"\n",
    "\n",
    "from matplotlib import pyplot as plt\n",
    "import numpy as np\n",
    "import pandas as pd\n",
    "from statsmodels.tsa.seasonal import seasonal_decompose\n",
    "\n",
    "# ==================================================================\n",
    "# Update this path to match your actual path\n",
    "data_path = 'D:\\\\tmp\\\\hdb-resale-price-index\\\\housing-and-development-board-resale-price-index-1q2009-100-quarterly.csv'\n",
    "\n",
    "# load data\n",
    "df = pd.read_csv(data_path, index_col=0,\n",
    "                 parse_dates=True, infer_datetime_format=True)\n",
    "\n",
    "# print first few rows to make sure we loaded it properly\n",
    "df.head(5)"
   ]
  },
  {
   "cell_type": "markdown",
   "metadata": {
    "slideshow": {
     "slide_type": "-"
    }
   },
   "source": [
    "## Lag plots\n",
    "\n",
    "A quick first test is to check if the data is random. If random, the data will not exhibit a structure in the lag plot.\n",
    "\n",
    "Let's try [`pandas.plotting.lag_plot`](https://pandas.pydata.org/pandas-docs/stable/visualization.html#lag-plot)."
   ]
  },
  {
   "cell_type": "code",
   "execution_count": null,
   "metadata": {
    "slideshow": {
     "slide_type": "-"
    }
   },
   "outputs": [],
   "source": [
    "# try to see if there are correlations between X(t) and X(t-1)\n",
    "\n",
    "fig, (ax1, ax2) = plt.subplots(nrows=2, ncols=1)\n",
    "df.plot(ax=ax1) # series plot\n",
    "pd.plotting.lag_plot(df['index']) # lag plot"
   ]
  },
  {
   "cell_type": "markdown",
   "metadata": {
    "slideshow": {
     "slide_type": "-"
    }
   },
   "source": [
    "As a comparison, here's what the lag plot will look like for a random series:"
   ]
  },
  {
   "cell_type": "code",
   "execution_count": null,
   "metadata": {
    "slideshow": {
     "slide_type": "-"
    }
   },
   "outputs": [],
   "source": [
    "# generate a random series\n",
    "random_df = pd.DataFrame(np.random.randint(0, 100, size=(100, 1)))\n",
    "\n",
    "fig, (ax1, ax2) = plt.subplots(nrows=2, ncols=1)\n",
    "random_df.plot(ax=ax1) # series plot\n",
    "pd.plotting.lag_plot(random_df, ax=ax2) # lag plot (shows no correlation!)"
   ]
  },
  {
   "cell_type": "markdown",
   "metadata": {
    "slideshow": {
     "slide_type": "-"
    }
   },
   "source": [
    "So, it does look like there is correlation with the current and previous value of the HDB resale price index.\n",
    "\n",
    "We are ready to move to the next step.\n",
    "\n",
    "## Auto-correlation plots\n",
    "The next test is use auto-correlation to pick a good value of `p` to use for the equation:\n",
    "\n",
    "$AR(p): X_t=c + \\sum_{i=1}^p \\varphi_iX_{t-i} + \\varepsilon_t$\n",
    "\n",
    "We will use the `pandas.plotting.autocorrelation_plot`: https://pandas.pydata.org/pandas-docs/stable/visualization.html#autocorrelation-plot"
   ]
  },
  {
   "cell_type": "code",
   "execution_count": null,
   "metadata": {
    "slideshow": {
     "slide_type": "-"
    }
   },
   "outputs": [],
   "source": [
    "pd.plotting.autocorrelation_plot(df['index'])"
   ]
  },
  {
   "cell_type": "markdown",
   "metadata": {
    "slideshow": {
     "slide_type": "-"
    }
   },
   "source": [
    "Again, it is helpful to compare with a random series:"
   ]
  },
  {
   "cell_type": "code",
   "execution_count": null,
   "metadata": {
    "slideshow": {
     "slide_type": "-"
    }
   },
   "outputs": [],
   "source": [
    "pd.plotting.autocorrelation_plot(random_df)"
   ]
  },
  {
   "cell_type": "markdown",
   "metadata": {
    "slideshow": {
     "slide_type": "-"
    }
   },
   "source": [
    "## Interpreting Auto-correlation plots\n",
    "\n",
    "The [docs](https://pandas.pydata.org/pandas-docs/stable/visualization.html#autocorrelation-plot) have a good explanation that we'll summarize here:\n",
    "\n",
    "- Auto-correlation plots show the auto-correlation at different time lags (`p`)\n",
    "- Random time series: the auto-correlations always hover around zero\n",
    "- Non-random time series: find values of Lag where auto-correlations are outside of the 95% or 99% confidence band.\n",
    "  - 95%: solid line\n",
    "  - 99%: dashed line\n",
    "- Both negative and positive auto-correlations are valid"
   ]
  },
  {
   "cell_type": "markdown",
   "metadata": {
    "slideshow": {
     "slide_type": "-"
    }
   },
   "source": [
    "## Auto-regressive model\n",
    "\n",
    "Since the dataset is about HDB quarterly resale prices, we can develop a model to predict the resale prices for the next year (4 quarters).\n",
    "\n",
    "Recall that an Auto-regessive model uses the past values to predict the next value in the series:\n",
    "\n",
    "$$AR(p): X_t=c + \\sum_{i=1}^p \\varphi_iX_{t-i} + \\varepsilon_t$$"
   ]
  },
  {
   "cell_type": "markdown",
   "metadata": {},
   "source": [
    "## Baseline model\n",
    "\n",
    "Before we fit the AR model, it's a good idea to create a baseline model.\n",
    "\n",
    "The simplest possible one is a \"Persistence Model\", which just predicts the current value based on the last observation.\n",
    "\n",
    "$$X_t = X_{t-1}$$\n",
    "\n",
    "### Predictions using a Persistence Model\n",
    "1. The time series is a vector of (t, X) values. To model it, we will time-shift the dataset to produce two vectors (x, y).\n",
    "    - input: $x = X_t$\n",
    "    - output: $y = X_{t+1}$\n",
    "2. We'll then split the (x, y) dataset into train and test\n",
    "3. Run the baseline model to get predictions:\n",
    "$$\\hat{y} = BaselineModel(x)$$ Where: $$BaselineModel(x) = x$$\n",
    "\n",
    "4. Then compute the means square error:\n",
    "$$score = MSE(y, \\hat{y})$$"
   ]
  },
  {
   "cell_type": "code",
   "execution_count": null,
   "metadata": {
    "slideshow": {
     "slide_type": "-"
    }
   },
   "outputs": [],
   "source": [
    "def create_lagged_dataset(data):\n",
    "    \"\"\"Creates the dataset used for time-series modeling\n",
    "    Args:\n",
    "        data: the time series data (X)\n",
    "    Returns:\n",
    "        the lagged dataset (X[t], X[t+1]) as a pandas.DataFrame\n",
    "    \"\"\"\n",
    "    values = pd.DataFrame(data)\n",
    "    df = pd.concat([values.shift(1), values], axis=1) # concat in the column axis\n",
    "    df.columns = ['t-1', 't']\n",
    "    return df\n",
    "    \n",
    "def split_train_test(data, split_percent=10):\n",
    "    \"\"\"Splits the dataset into train and test sets\n",
    "    Note that for time series data, we should not use random split\n",
    "    because sequence is important.\n",
    "    We'll just split by taking the last split_percent values\n",
    "    \n",
    "    Args:\n",
    "        data: the dataset (x, y)\n",
    "    Returns:\n",
    "        tuple: (train, test) as pandas.DataFrames\n",
    "    \"\"\"\n",
    "    split_index = int(((1-split_percent)/100) * data.shape[0])\n",
    "    \n",
    "    x = data.values\n",
    "    train, test = x[1:split_index], x[split_index:]\n",
    "    \n",
    "    train_df = pd.DataFrame.from_records(train, columns=['x', 'y'])\n",
    "    test_df = pd.DataFrame.from_records(test, columns=['x', 'y'])\n",
    "\n",
    "    return train_df, test_df\n",
    "\n",
    "def baseline_model(x):\n",
    "    \"\"\"Baseline model which gives the provided value\n",
    "    It implements: f(x) = x\n",
    "    Args:\n",
    "        x: the value\n",
    "    Returns:\n",
    "        the provided value\n",
    "    \"\"\"\n",
    "    return x"
   ]
  },
  {
   "cell_type": "code",
   "execution_count": null,
   "metadata": {
    "slideshow": {
     "slide_type": "-"
    }
   },
   "outputs": [],
   "source": [
    "from sklearn.metrics import mean_squared_error\n",
    "\n",
    "# create datasets\n",
    "dataset = create_lagged_dataset(df['index'])\n",
    "print(\"\\nDataset:\\n\", dataset.head(5))\n",
    "\n",
    "train, test = split_train_test(dataset)\n",
    "print(\"\\nTrain:\\n\", train.head(5))\n",
    "print(\"\\nTest:\\n\", test.head(5))\n",
    "\n",
    "# walk-forward validation using baseline model: f(x) = x\n",
    "baseline_predictions = [baseline_model(x) for x in test['x']]\n",
    "\n",
    "# plot the predictions vs truth\n",
    "f1, = plt.plot(test['y'])\n",
    "f2, = plt.plot(baseline_predictions, color='red')\n",
    "plt.legend([f1, f2], ['truth', 'baseline prediction'])\n",
    "plt.show()\n",
    "\n",
    "score = mean_squared_error(test['y'], baseline_predictions)\n",
    "print(\"MSE:\", score)"
   ]
  },
  {
   "cell_type": "markdown",
   "metadata": {
    "slideshow": {
     "slide_type": "-"
    }
   },
   "source": [
    "## Auto-regression model\n",
    "\n",
    "Now that we have our baseline model in place, we can proceed with Auto-regression.\n",
    "\n",
    "We'll use the [`statsmodels.tsa.ar_model.AR`](http://www.statsmodels.org/devel/generated/statsmodels.tsa.ar_model.AR.html)\n",
    "\n",
    "Unlike the baseline model where we have to create a lagged time series, the AR model takes in a time series directly."
   ]
  },
  {
   "cell_type": "code",
   "execution_count": null,
   "metadata": {
    "slideshow": {
     "slide_type": "-"
    }
   },
   "outputs": [],
   "source": [
    "def split_train_test_timeseries(timeseries, split_percent=10):\n",
    "    \"\"\"Splits a time series DataFrame into train and test sets\n",
    "    Note that for time series data, we should not use random split\n",
    "    because sequence is important.\n",
    "    We'll just split by taking the last split_percent values\n",
    "    \n",
    "    Args:\n",
    "        timeseries: the time series DataFrame (index=date_time, X)\n",
    "    Returns:\n",
    "        tuple: (train, test) as pandas.DataFrames\n",
    "    \"\"\"\n",
    "    split_index = int(((1-split_percent)/100) * timeseries.shape[0])\n",
    "    \n",
    "    train = timeseries.iloc[:split_index, :]\n",
    "    test = timeseries.iloc[split_index:, :]\n",
    "    \n",
    "    return train, test"
   ]
  },
  {
   "cell_type": "code",
   "execution_count": null,
   "metadata": {
    "slideshow": {
     "slide_type": "-"
    }
   },
   "outputs": [],
   "source": [
    "from statsmodels.tsa.ar_model import AR\n",
    "\n",
    "# create the Auto-regression model using the training set\n",
    "train_ts, test_ts = split_train_test_timeseries(df)\n",
    "print(\"\\nTrain:\\n\", train_ts.head(5))\n",
    "print(\"\\nTest:\\n\", test_ts.head(5))\n",
    "\n",
    "model = AR(train_ts)\n",
    "\n",
    "# fit the model\n",
    "%time ar_model = model.fit()\n",
    "\n",
    "print('Best lag: %s' % ar_model.k_ar)\n",
    "print('Coefficients: %s' % ar_model.params)"
   ]
  },
  {
   "cell_type": "markdown",
   "metadata": {
    "slideshow": {
     "slide_type": "-"
    }
   },
   "source": [
    "The `statsmodels.tsa.ar_model.AR` implementation picked the 12-lag model as the best one.\n",
    "\n",
    "Next, we'll make some predictions using the AR model."
   ]
  },
  {
   "cell_type": "code",
   "execution_count": null,
   "metadata": {
    "slideshow": {
     "slide_type": "-"
    }
   },
   "outputs": [],
   "source": [
    "test_start = pd.to_datetime(test_ts.index.values[0])\n",
    "print(\"Start date\", test_start)\n",
    "test_end = pd.to_datetime(test_ts.index.values[-1])\n",
    "print(\"End date\", test_end)\n",
    "\n",
    "ar_predictions = ar_model.predict(start=test_start, end=test_end)\n",
    "baseline_predictions_ts = pd.DataFrame({'index': baseline_predictions}, index=ar_predictions.index)\n",
    "\n",
    "# plot the predictions vs truth\n",
    "f3, = plt.plot(test_ts)\n",
    "f4, = plt.plot(ar_predictions, color='red')\n",
    "f5, = plt.plot(baseline_predictions_ts, color='black')\n",
    "plt.legend([f3, f4, f5], ['truth', 'AR(12) prediction', 'baseline prediction'])\n",
    "plt.show()\n",
    "\n",
    "score_ts = mean_squared_error(test_ts, ar_predictions)\n",
    "print(\"MSE (AR 12):\", score_ts)\n",
    "print(\"MSE (baseline):\", score)"
   ]
  },
  {
   "cell_type": "markdown",
   "metadata": {
    "slideshow": {
     "slide_type": "-"
    }
   },
   "source": [
    "## What happened?\n",
    "\n",
    "The AR fitted model performed MUCH WORSE than the baseline model.\n",
    "\n",
    "Can you think of reasons to explain this?\n",
    "\n",
    "Hint: look at the series, and think about what we are trying to predict here. "
   ]
  },
  {
   "cell_type": "markdown",
   "metadata": {
    "slideshow": {
     "slide_type": "-"
    }
   },
   "source": [
    "## Try Decomposition?\n",
    "\n",
    "Let's see if decomposition can help us fit a better model.\n",
    "\n",
    "We'll use the Multiplicative model, because it appears to result in a smaller random component."
   ]
  },
  {
   "cell_type": "code",
   "execution_count": null,
   "metadata": {},
   "outputs": [],
   "source": [
    "# ==================================================================\n",
    "# Exercise:\n",
    "# 1. Use multiplicative decomposition to extract the trend\n",
    "#    Hint: You'll need to drop the first 2 NaN values using iloc\n",
    "#    Otherwise, you'll get \"LinAlgError: SVD did not converge\"\n",
    "#\n",
    "#       df_trend = multiplicative.trend.dropna()\n",
    "#\n",
    "\n",
    "\n",
    "\n",
    "\n",
    "\n",
    "\n",
    "\n",
    "\n",
    "\n",
    "\n",
    "\n",
    "\n",
    "# 2. Re-train the AR model\n",
    "#    Hint: use split_train_test_timeseries like above.\n",
    "\n",
    "\n",
    "\n",
    "\n",
    "\n",
    "\n",
    "\n",
    "\n",
    "\n",
    "\n",
    "\n",
    "\n",
    "# 3. Compare the performance with the other models\n",
    "#    Hint: you should plot 4 lines\n",
    "#            truth\n",
    "#            baseline\n",
    "#            AR(12) on original series\n",
    "#            AR(12) on multiplicative trend\n",
    "#          you should also compute the MSE for predictions from the new model\n",
    "#\n",
    "\n",
    "\n",
    "\n",
    "\n",
    "\n",
    "\n",
    "\n",
    "\n",
    "\n",
    "\n",
    "\n",
    "\n",
    "\n"
   ]
  },
  {
   "cell_type": "code",
   "execution_count": null,
   "metadata": {
    "slideshow": {
     "slide_type": "-"
    }
   },
   "outputs": [],
   "source": []
  },
  {
   "cell_type": "markdown",
   "metadata": {
    "slideshow": {
     "slide_type": "slide"
    }
   },
   "source": [
    "## Moving Average Model\n",
    "\n",
    "We spent some time looking and trying out an Auto-regressive (AR) model. \n",
    "\n",
    "Next: Moving Average (MA) model, and the combination of both."
   ]
  },
  {
   "cell_type": "markdown",
   "metadata": {
    "slideshow": {
     "slide_type": "slide"
    }
   },
   "source": [
    "## Moving Average Model"
   ]
  },
  {
   "cell_type": "markdown",
   "metadata": {
    "slideshow": {
     "slide_type": "fragment"
    }
   },
   "source": [
    "$MA(p): X_t=\\mu + \\varepsilon_t + \\sum_{i=1}^p\\theta_i\\varepsilon_{t-i}$"
   ]
  },
  {
   "cell_type": "markdown",
   "metadata": {
    "slideshow": {
     "slide_type": "fragment"
    }
   },
   "source": [
    "Output hovers around an average ($\\mu$) and depends on past $p$ values of white noise ($\\varepsilon_{t-i}$). "
   ]
  },
  {
   "cell_type": "markdown",
   "metadata": {
    "slideshow": {
     "slide_type": "slide"
    }
   },
   "source": [
    "## Auto-regressive, Moving Average Model (ARMA)\n",
    "\n",
    "This is a combination of AR + MA:"
   ]
  },
  {
   "cell_type": "markdown",
   "metadata": {
    "slideshow": {
     "slide_type": "fragment"
    }
   },
   "source": [
    "$ARMA(p, q): AR(p) + MA(q)$\n",
    "\n",
    "$X_t=c + \\varepsilon_t + \\sum_{i=1}^p \\varphi_i X_{t-i} + \\sum_{i=1}^q\\theta_i\\varepsilon_{t-i}$"
   ]
  },
  {
   "cell_type": "markdown",
   "metadata": {
    "slideshow": {
     "slide_type": "slide"
    }
   },
   "source": [
    "## Auto-regressive, Integrated Moving Average Model (ARIMA)"
   ]
  },
  {
   "cell_type": "markdown",
   "metadata": {
    "slideshow": {
     "slide_type": "fragment"
    }
   },
   "source": [
    "$ARIMA(p, d, q): \\biggl(1-\\sum_{i=1}^p\\varphi_iB^i\\biggr)(1 - B)^dX_t = c + \\biggl(1 + \\sum_{i=1}^q\\theta_iB^i\\biggr)\\varepsilon_t$"
   ]
  },
  {
   "cell_type": "markdown",
   "metadata": {
    "slideshow": {
     "slide_type": "fragment"
    }
   },
   "source": [
    "<img src='assets/time-series/short_answers_headscratch.png' style='float:right'/>"
   ]
  },
  {
   "cell_type": "markdown",
   "metadata": {
    "slideshow": {
     "slide_type": "slide"
    }
   },
   "source": [
    "$ARIMA(p, d, q): X'_t = c + \\varepsilon_t + \\sum_{i=1}^p \\varphi_i X'_{t-i} + \\sum_{i=1}^q\\theta_i\\varepsilon_{t-i}$"
   ]
  },
  {
   "cell_type": "markdown",
   "metadata": {
    "slideshow": {
     "slide_type": "fragment"
    }
   },
   "source": [
    "$ARMA(p, d, q): X_t=c + \\varepsilon_t + \\sum_{i=1}^p \\varphi_i X_{t-i} + \\sum_{i=1}^q\\theta_i\\varepsilon_{t-i}$"
   ]
  },
  {
   "cell_type": "markdown",
   "metadata": {
    "slideshow": {
     "slide_type": "fragment"
    }
   },
   "source": [
    "$X'_t$ = $X_t$, differentiated $d$ times"
   ]
  },
  {
   "cell_type": "code",
   "execution_count": null,
   "metadata": {
    "slideshow": {
     "slide_type": "slide"
    }
   },
   "outputs": [],
   "source": []
  }
 ],
 "metadata": {
  "celltoolbar": "Slideshow",
  "kernelspec": {
   "display_name": "Python 3",
   "language": "python",
   "name": "python3"
  },
  "language_info": {
   "codemirror_mode": {
    "name": "ipython",
    "version": 3
   },
   "file_extension": ".py",
   "mimetype": "text/x-python",
   "name": "python",
   "nbconvert_exporter": "python",
   "pygments_lexer": "ipython3",
   "version": "3.6.4"
  },
  "livereveal": {
   "autolaunch": true,
   "overlay": "<div class='logo'><img src='assets/Stackup_Logo_Small.png' width='90%'/></div>"
  }
 },
 "nbformat": 4,
 "nbformat_minor": 2
}
