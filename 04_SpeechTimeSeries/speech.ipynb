{
 "cells": [
  {
   "cell_type": "markdown",
   "metadata": {},
   "source": [
    "## Speech Recognition\n",
    "\n",
    "A survey of statistical and deep learning models"
   ]
  },
  {
   "cell_type": "markdown",
   "metadata": {
    "slideshow": {
     "slide_type": "slide"
    }
   },
   "source": [
    "## Automatic Speech Recognition Pipeline\n",
    "\n",
    "<img src='assets/speech/asr-pipeline.jpg'/>\n",
    "\n",
    "\n",
    "Source: https://www.techrepublic.com/article/how-we-learned-to-talk-to-computers/"
   ]
  },
  {
   "cell_type": "markdown",
   "metadata": {
    "slideshow": {
     "slide_type": "slide"
    }
   },
   "source": [
    "## Speech Feature Extraction\n",
    "\n",
    "<img src='assets/speech/Spectrogram-19thC.png'/>\n",
    "\n",
    "A spectrogram for \"nineteen century\" - power vs. frequency\n",
    "\n",
    "Common method: Mel-frequency cepstral coefficients (MFCC)"
   ]
  },
  {
   "cell_type": "markdown",
   "metadata": {
    "slideshow": {
     "slide_type": "slide"
    }
   },
   "source": [
    "## Statistical Speech Recognition\n",
    "\n",
    "$$W^* = \\underset{W}{\\operatorname{argmax}}P(W|X)$$\n",
    "\n",
    "- word sequence: $W$\n",
    "- most likely word sequence: $W^*$\n",
    "- acoustic input feature vector (e.g. MFCC): $X$"
   ]
  },
  {
   "cell_type": "markdown",
   "metadata": {
    "slideshow": {
     "slide_type": "slide"
    }
   },
   "source": [
    "## Statistical Speech Recognition\n",
    "\n",
    "After Bayes' Theorem:\n",
    "\n",
    "$$W^* = \\underset{W}{\\operatorname{argmax}}p(X|W)P(W)$$\n",
    "\n",
    "- acoustic model: $p(X|W)$\n",
    "- language model (e.g. N-gram): $P(W)$"
   ]
  },
  {
   "cell_type": "markdown",
   "metadata": {
    "slideshow": {
     "slide_type": "slide"
    }
   },
   "source": [
    "## Statistical Acoustic Model: $p(X|W)$\n",
    "\n",
    "<img src='assets/speech/acoustic-statistical.png' width='50%'/>\n",
    "\n",
    "Credits: https://www.inf.ed.ac.uk/teaching/courses/asr/2016-17/asr03-hmmgmm-handout.pdf"
   ]
  },
  {
   "cell_type": "markdown",
   "metadata": {
    "slideshow": {
     "slide_type": "slide"
    }
   },
   "source": [
    "## Hidden Markov Model: $p(S_i|S_{i-1})$, Gaussian Mixture Model: $p(X|S_i)$\n",
    "\n",
    "<img src='assets/speech/acoustic-hmm-gmm.png' width='50%'/>\n",
    "\n",
    "Credits: https://www.inf.ed.ac.uk/teaching/courses/asr/2016-17/asr03-hmmgmm-handout.pdf"
   ]
  },
  {
   "cell_type": "markdown",
   "metadata": {},
   "source": [
    "## Gaussian Mixture Model\n",
    "\n",
    "Mixture distribution: combine multiple probabability distributions to make an improved model\n",
    "\n",
    "$$P(x) = \\sum_iP(c=i)P(x \\mid c=i)$$\n",
    "\n",
    "$i^{th}$ Gaussian component: $P(x \\mid c=i)$\n",
    "\n",
    "Applications\n",
    "- Clustering\n",
    "- Classification\n",
    "\n",
    "Nice intro:\n",
    "https://yulearning.blogspot.sg/2014/11/einsteins-most-famous-equation-is-emc2.html"
   ]
  },
  {
   "cell_type": "markdown",
   "metadata": {
    "slideshow": {
     "slide_type": "slide"
    }
   },
   "source": [
    "## Workshop: GMM gender detector\n",
    "---\n",
    "\n",
    "Credits: https://github.com/abhijeet3922/PyGender-Voice\n",
    "\n",
    "<img src='assets/speech/workshop1_pygender.png' style='float:right'/>\n",
    "\n",
    "1. Download data from [here](\n",
    "https://www.dropbox.com/s/hcku4t7alrhacqv/pygender.zip?dl=0)\n",
    "\n",
    "2. Extract the .zip file to a folder of your choice. Note down the path as you will need to enter it in the workshop code."
   ]
  },
  {
   "cell_type": "code",
   "execution_count": null,
   "metadata": {
    "slideshow": {
     "slide_type": "slide"
    }
   },
   "outputs": [],
   "source": [
    "!pip3 install python_speech_features\n",
    "\n",
    "import os\n",
    "from os.path import basename, join\n",
    "import numpy as np\n",
    "\n",
    "import python_speech_features as mfcc\n",
    "from scipy.io.wavfile import read\n",
    "from sklearn import preprocessing\n",
    "from sklearn.mixture import GaussianMixture\n",
    "\n",
    "TRAIN_PATH = 'C:\\\\mldds\\\\pygender\\\\train_data\\\\youtube\\\\' # modify to your actual path"
   ]
  },
  {
   "cell_type": "code",
   "execution_count": null,
   "metadata": {
    "slideshow": {
     "slide_type": "slide"
    }
   },
   "outputs": [],
   "source": [
    "def get_MFCC(audio_file, scale=True):\n",
    "    '''Computes the Mel-frequency ceptrum coefficients for an audio file,\n",
    "    with optional scaling\n",
    "    See: https://github.com/jameslyons/python_speech_features\n",
    "    '''\n",
    "    sample_rate, audio = read(audio_file)\n",
    "    features = mfcc.mfcc(audio, sample_rate, winlen=0.025, winstep=0.01, numcep=13, appendEnergy=False)\n",
    "    if scale:\n",
    "        features = preprocessing.scale(features) # scale to (0, 1)\n",
    "    return features"
   ]
  },
  {
   "cell_type": "code",
   "execution_count": null,
   "metadata": {
    "slideshow": {
     "slide_type": "slide"
    }
   },
   "outputs": [],
   "source": [
    "# Playback a sample file\n",
    "from IPython import display\n",
    "\n",
    "sample_file = join(TRAIN_PATH, 'male', 'male1.wav')\n",
    "sample_rate, audio = read(sample_file)\n",
    "display.Audio(data=audio, rate=sample_rate)"
   ]
  },
  {
   "cell_type": "code",
   "execution_count": null,
   "metadata": {
    "slideshow": {
     "slide_type": "slide"
    }
   },
   "outputs": [],
   "source": [
    "# Plot the MFCC\n",
    "import matplotlib.pyplot as plt\n",
    "\n",
    "mfcc_vector = get_MFCC(sample_file, scale=False)\n",
    "fig, ax = plt.subplots(nrows=1, ncols=1, figsize=(20,4))\n",
    "cax = ax.matshow(np.transpose(mfcc_vector), interpolation='nearest', aspect='auto', cmap='coolwarm', origin='lower')\n",
    "fig.colorbar(cax)\n",
    "plt.title(\"Spectrogram of {}\".format(sample_file))\n",
    "plt.show()"
   ]
  },
  {
   "cell_type": "code",
   "execution_count": null,
   "metadata": {
    "slideshow": {
     "slide_type": "slide"
    }
   },
   "outputs": [],
   "source": [
    "def train_GMM(data_path, n_components=8, covariance_type='diag'):\n",
    "    '''Trains a Gaussian mixture model for a given label and data path'''\n",
    "    files = [join(data_path, f) for f in os.listdir(data_path) if f.endswith('.wav')]\n",
    "    features = np.asarray(());\n",
    "\n",
    "    for f in files:\n",
    "        mfcc_vector = get_MFCC(f)\n",
    "\n",
    "        if features.size:\n",
    "            features = np.vstack((features, mfcc_vector))\n",
    "        else:\n",
    "            features = mfcc_vector\n",
    "\n",
    "    # http://scikit-learn.org/stable/modules/generated/sklearn.mixture.GaussianMixture.html\n",
    "    gmm = GaussianMixture(n_components=n_components, covariance_type=covariance_type,\n",
    "                          max_iter=200, n_init=3)\n",
    "    gmm.fit(features)\n",
    "    \n",
    "    # print some metrics applicable to GMMs\n",
    "    print('BIC: ', gmm.bic(features), ', AIC: ', gmm.aic(features))\n",
    "    return gmm"
   ]
  },
  {
   "cell_type": "code",
   "execution_count": null,
   "metadata": {
    "slideshow": {
     "slide_type": "slide"
    }
   },
   "outputs": [],
   "source": [
    "models = dict()\n",
    "%time models['male'] = train_GMM(join(TRAIN_PATH, 'male'), n_components=8, covariance_type='diag')\n",
    "\n",
    "# ==================================================================\n",
    "# Exercise:\n",
    "# Add code below to train the female model, using the above as an example\n",
    "\n",
    "\n",
    "\n",
    "\n",
    "\n",
    "\n",
    "\n",
    "\n",
    "# ==================================================================\n",
    "# Optional Exercises:\n",
    "# a. Try different values of n_component (e.g. 2, 16)\n",
    "# b. Try different values of covariance_type (e.g. full)\n",
    "#\n",
    "# See http://scikit-learn.org/stable/modules/generated/sklearn.mixture.GaussianMixture.html\n",
    "# on how to interpret the BIC and AIC metrics for selecting models\n",
    "\n",
    "\n",
    "\n",
    "\n",
    "\n",
    "\n",
    "\n"
   ]
  },
  {
   "cell_type": "code",
   "execution_count": null,
   "metadata": {
    "slideshow": {
     "slide_type": "slide"
    }
   },
   "outputs": [],
   "source": [
    "def test_GMM(models, test_data_path):\n",
    "    '''Tests multiple Gaussian mixture models with test data'''\n",
    "    files = [os.path.join(test_data_path,f) for f in os.listdir(test_data_path)\n",
    "             if f.endswith(\".wav\")]\n",
    "    \n",
    "    predictions = []\n",
    "    for f in files:\n",
    "        features = get_MFCC(f)\n",
    "        keys = []\n",
    "        log_likelihood = np.zeros(len(models))\n",
    "\n",
    "        for i, (key, gmm) in enumerate(models.items()):\n",
    "            scores = np.array(gmm.score(features))\n",
    "            keys.append(key)\n",
    "            log_likelihood[i] = scores.sum()\n",
    "\n",
    "        # find the model with the maximum score\n",
    "        winner = np.argmax(log_likelihood)\n",
    "        # print('prediction:', keys[winner], \"\\tscores:\", log_likelihood[winner])\n",
    "        predictions.append(keys[winner])\n",
    "    return predictions"
   ]
  },
  {
   "cell_type": "code",
   "execution_count": null,
   "metadata": {
    "slideshow": {
     "slide_type": "slide"
    }
   },
   "outputs": [],
   "source": [
    "# ==================================================================\n",
    "# Exercise:\n",
    "# 1. Complete the code below to test the GMM models using test_GMM().\n",
    "#    Be sure to run against both male and female models.\n",
    "# 2. Plot the confusion matrix\n",
    "\n",
    "from sklearn.metrics import confusion_matrix\n",
    "\n",
    "TEST_PATH = 'C:\\\\mldds\\\\pygender\\\\test_data\\\\AudioSet' # modify to your actual path\n",
    "\n",
    "\n",
    "\n",
    "\n",
    "\n",
    "\n",
    "\n",
    "\n"
   ]
  },
  {
   "cell_type": "markdown",
   "metadata": {
    "slideshow": {
     "slide_type": "slide"
    }
   },
   "source": [
    "## Shortcomings of Statistical Approaches\n",
    "\n",
    "Lots of hand-tuning\n",
    "\n",
    "Inefficient for approximating non-linear data: combination covariance matrices get very large / complicated\n",
    "\n",
    "Solution: deep learning"
   ]
  },
  {
   "cell_type": "markdown",
   "metadata": {
    "slideshow": {
     "slide_type": "slide"
    }
   },
   "source": [
    "## Deep Belief Nets\n",
    "\n",
    "[Paper](https://static.googleusercontent.com/media/research.google.com/en//pubs/archive/38131.pdf)\n",
    "\n",
    "- Replaces the Gaussian Mixture Model in an ASR system \n",
    "- Generative pre-training\n",
    " - Speeds up training with less overfitting\n",
    " - Train a hidden layer (using Restricted Boltmann Machines or Gaussian RBM)\n",
    " - Use the weights as inputs to train next layer\n",
    " - Stack up into a forward-only \"Deep Belief Net\" (DBN)\n",
    " - Add softmax to create the DBM-DNN\n",
    "\n",
    "Python: https://pypi.org/project/nolearn/"
   ]
  },
  {
   "cell_type": "markdown",
   "metadata": {
    "slideshow": {
     "slide_type": "slide"
    }
   },
   "source": [
    "![DBN-DNN](assets/speech/dbn-dnn.png)"
   ]
  },
  {
   "cell_type": "markdown",
   "metadata": {
    "slideshow": {
     "slide_type": "slide"
    }
   },
   "source": [
    "![DBN-DNN performance](assets/speech/dbn-dnn-compare.png)"
   ]
  },
  {
   "cell_type": "markdown",
   "metadata": {
    "slideshow": {
     "slide_type": "slide"
    }
   },
   "source": [
    "## Word Error Rate\n",
    "\n",
    "$$WER = \\frac{S + D + I}{N}$$\n",
    "\n",
    "- substitution word count: $S$\n",
    "- deletion word count: $D$\n",
    "- insertion word count: $I$\n",
    "- correct word count: $C$\n",
    "- number of reference words: $N = S + D + C$\n",
    "\n",
    "## Word Accuracy\n",
    "$$WAcc = 1 - WER = \\frac{(N - S - D) - I}{N} = \\frac{C - I}{N} $$"
   ]
  },
  {
   "cell_type": "markdown",
   "metadata": {
    "slideshow": {
     "slide_type": "slide"
    }
   },
   "source": [
    "## Recurrent Neural Networks\n",
    "\n",
    "[Paper](http://proceedings.mlr.press/v32/graves14.pdf)\n",
    "\n",
    "End-to-End Speech Recognition\n",
    "- Transcription is hard. Skip it and train model that converts speech directly to text\n",
    "- Bidirectional LSTM to learn long sequences\n",
    "- Correctionist Temporal Classification (CTC) to align audio with text "
   ]
  },
  {
   "cell_type": "markdown",
   "metadata": {
    "slideshow": {
     "slide_type": "slide"
    }
   },
   "source": [
    "## LSTM\n",
    "\n",
    "- Learns long sequences (like speech)\n",
    "- Forget gate learns what to forget\n",
    "\n",
    "![lstm](assets/speech/lstm.png)"
   ]
  },
  {
   "cell_type": "markdown",
   "metadata": {
    "slideshow": {
     "slide_type": "slide"
    }
   },
   "source": [
    "## Birectional RNN\n",
    "\n",
    "- Forward ($\\overrightarrow{h}$) and backward ($\\overleftarrow{h}$) hidden sequences\n",
    "- Learns context in both directions (like words in speech)\n",
    "- Bidirectional LSTM: LSTM hidden units \n",
    "\n",
    "![BRNN](assets/speech/brnn.png)"
   ]
  },
  {
   "cell_type": "markdown",
   "metadata": {
    "slideshow": {
     "slide_type": "slide"
    }
   },
   "source": [
    "## Correctionist Temporal Classification\n",
    "\n",
    "[Paper](https://www.cs.toronto.edu/~graves/icml_2006.pdf)\n",
    "\n",
    "- To train speech to text, we need to know how audio \"lines up\" with transcripts\n",
    "- Input sequences: $X$ (such as audio)\n",
    "- Output sequences: $Y$ (such as transcripts)"
   ]
  },
  {
   "cell_type": "markdown",
   "metadata": {
    "slideshow": {
     "slide_type": "slide"
    }
   },
   "source": [
    "## Correctionist Temporal Classification\n",
    "\n",
    "Problem: $X$ and $Y$ can vary in length, in different ways\n",
    "![CTC](assets/speech/naive_alignment.svg)\n",
    "\n",
    "Solution: introduce the blank token ($\\epsilon$)\n",
    "![CTC](assets/speech/ctc_alignment_steps.svg)\n",
    "\n",
    "Process: train an RNN to estimate probabilities of each character per time step"
   ]
  },
  {
   "cell_type": "markdown",
   "metadata": {
    "slideshow": {
     "slide_type": "slide"
    }
   },
   "source": [
    "## Correctionist Temporal Classification\n",
    "\n",
    "![CTC](assets/speech/full_collapse_from_audio.svg)\n",
    "\n",
    "[Visual Guide and Explanation](https://distill.pub/2017/ctc/)"
   ]
  },
  {
   "cell_type": "markdown",
   "metadata": {
    "slideshow": {
     "slide_type": "slide"
    }
   },
   "source": [
    "## Walkthrough: CTC + BLSTM\n",
    "---\n",
    "Credits: https://github.com/jonrein/tensorflow_CTC_example"
   ]
  },
  {
   "cell_type": "code",
   "execution_count": 4,
   "metadata": {
    "slideshow": {
     "slide_type": "slide"
    }
   },
   "outputs": [],
   "source": [
    "'''\n",
    "Example of a single-layer bidirectional long short-term memory network trained with\n",
    "connectionist temporal classification to predict character sequences from nFeatures x nFrames\n",
    "arrays of Mel-Frequency Cepstral Coefficients.  This is test code to run on the\n",
    "8-item data set in the \"sample_data\" directory, for those without access to TIMIT.\n",
    "Author: Jon Rein\n",
    "'''\n",
    "\n",
    "import os\n",
    "import sys\n",
    "import numpy as np\n",
    "import tensorflow as tf\n",
    "from tensorflow.python.ops import ctc_ops as ctc\n",
    "\n",
    "# Learning Parameters\n",
    "learningRate = 0.001\n",
    "momentum = 0.9\n",
    "nEpochs = 300\n",
    "batchSize = 4\n",
    "\n",
    "# Network Parameters\n",
    "nFeatures = 26 # 12 MFCC coefficients + energy, and derivatives\n",
    "nHidden = 128\n",
    "nClasses = 28 # 27 characters, plus the \"blank\" for CTC"
   ]
  },
  {
   "cell_type": "code",
   "execution_count": 5,
   "metadata": {
    "slideshow": {
     "slide_type": "slide"
    }
   },
   "outputs": [],
   "source": [
    "# Load data\n",
    "sys.path += ['demos/tensorflow_CTC_example']\n",
    "from utils import load_batched_data\n",
    "\n",
    "# directory of MFCC nFeatures x nFrames 2-D array .npy files\n",
    "INPUT_PATH = 'demos/tensorflow_CTC_example/sample_data/mfcc' \n",
    "\n",
    "# directory of nCharacters 1-D array .npy files\n",
    "TARGET_PATH = 'demos/tensorflow_CTC_example/sample_data/char_y/'\n",
    "\n",
    "batchedData, maxTimeSteps, totalN = load_batched_data(INPUT_PATH, TARGET_PATH, batchSize)"
   ]
  },
  {
   "cell_type": "code",
   "execution_count": 6,
   "metadata": {
    "slideshow": {
     "slide_type": "-"
    }
   },
   "outputs": [],
   "source": [
    "# Define graph\n",
    "\n",
    "graph = tf.Graph()\n",
    "with graph.as_default():\n",
    "\n",
    "    ####NOTE: try variable-steps inputs and dynamic bidirectional rnn, when it's implemented in tensorflow\n",
    "        \n",
    "    ####Graph input\n",
    "    inputX = tf.placeholder(tf.float32, shape=(maxTimeSteps, batchSize, nFeatures))\n",
    "    #Prep input data to fit requirements of rnn.bidirectional_rnn\n",
    "    #  Reshape to 2-D tensor (nTimeSteps*batchSize, nfeatures)\n",
    "    inputXrs = tf.reshape(inputX, [-1, nFeatures])\n",
    "    #  Split to get a list of 'n_steps' tensors of shape (batch_size, n_hidden)\n",
    "    inputList = tf.split(inputXrs, maxTimeSteps, 0)\n",
    "    targetIxs = tf.placeholder(tf.int64)\n",
    "    targetVals = tf.placeholder(tf.int32)\n",
    "    targetShape = tf.placeholder(tf.int64)\n",
    "    targetY = tf.SparseTensor(targetIxs, targetVals, targetShape)\n",
    "    seqLengths = tf.placeholder(tf.int32, shape=(batchSize))\n",
    "\n",
    "    ####Weights & biases\n",
    "    weightsOutH1 = tf.Variable(tf.truncated_normal([2, nHidden],\n",
    "                                                   stddev=np.sqrt(2.0 / (2*nHidden))))\n",
    "    biasesOutH1 = tf.Variable(tf.zeros([nHidden]))\n",
    "    weightsOutH2 = tf.Variable(tf.truncated_normal([2, nHidden],\n",
    "                                                   stddev=np.sqrt(2.0 / (2*nHidden))))\n",
    "    biasesOutH2 = tf.Variable(tf.zeros([nHidden]))\n",
    "    weightsClasses = tf.Variable(tf.truncated_normal([nHidden, nClasses],\n",
    "                                                     stddev=np.sqrt(2.0 / nHidden)))\n",
    "    biasesClasses = tf.Variable(tf.zeros([nClasses]))\n",
    "\n",
    "    ####Network\n",
    "    forwardH1 = tf.contrib.rnn.LSTMCell(nHidden, use_peepholes=True, state_is_tuple=True)\n",
    "    backwardH1 = tf.contrib.rnn.LSTMCell(nHidden, use_peepholes=True, state_is_tuple=True)\n",
    "    fbH1, _, _ = tf.contrib.rnn.static_bidirectional_rnn(forwardH1, backwardH1, inputList, dtype=tf.float32,\n",
    "                                                         scope='BDLSTM_H1')\n",
    "    fbH1rs = [tf.reshape(t, [batchSize, 2, nHidden]) for t in fbH1]\n",
    "    outH1 = [tf.reduce_sum(tf.multiply(t, weightsOutH1), reduction_indices=1) + biasesOutH1 for t in fbH1rs]\n",
    "\n",
    "    logits = [tf.matmul(t, weightsClasses) + biasesClasses for t in outH1]\n",
    "\n",
    "    ####Optimizing\n",
    "    logits3d = tf.stack(logits)\n",
    "    loss = tf.reduce_mean(ctc.ctc_loss(targetY, logits3d, seqLengths))\n",
    "    optimizer = tf.train.MomentumOptimizer(learningRate, momentum).minimize(loss)\n",
    "\n",
    "    ####Evaluating\n",
    "    logitsMaxTest = tf.slice(tf.argmax(logits3d, 2), [0, 0], [seqLengths[0], 1])\n",
    "    predictions = tf.to_int32(ctc.ctc_beam_search_decoder(logits3d, seqLengths)[0][0])\n",
    "    errorRate = tf.reduce_sum(tf.edit_distance(predictions, targetY, normalize=False)) / \\\n",
    "                tf.to_float(tf.size(targetY.values))"
   ]
  },
  {
   "cell_type": "code",
   "execution_count": null,
   "metadata": {},
   "outputs": [
    {
     "name": "stdout",
     "output_type": "stream",
     "text": [
      "Initializing\n",
      "Epoch 1 ...\n",
      "[ 0  1  2  3  4  6  7  8  9 12 13 14 15 18 19 20 21 22 23 24 25 26 27]\n",
      "Minibatch 0 / 0 loss: 983.0135\n",
      "Minibatch 0 / 0 error rate: 1.6624606\n",
      "[27]\n",
      "Minibatch 1 / 1 loss: 756.6208\n",
      "Minibatch 1 / 1 error rate: 1.1083916\n",
      "Epoch 1 error rate: 1.385426104068756\n",
      "Epoch 2 ...\n",
      "[27]\n",
      "Minibatch 0 / 0 loss: 707.8548\n",
      "Minibatch 0 / 0 error rate: 0.77287066\n",
      "[27]\n",
      "Minibatch 1 / 1 loss: 317.00232\n",
      "Minibatch 1 / 1 error rate: 0.9230769\n",
      "Epoch 2 error rate: 0.8479737937450409\n",
      "Epoch 3 ...\n",
      "[27]\n",
      "Minibatch 0 / 1 loss: 241.61523\n",
      "Minibatch 0 / 1 error rate: 0.9755245\n",
      "[27]\n",
      "Minibatch 1 / 0 loss: 398.18564\n",
      "Minibatch 1 / 0 error rate: 1.0\n",
      "Epoch 3 error rate: 0.9877622425556183\n",
      "Epoch 4 ...\n",
      "[27]\n",
      "Minibatch 0 / 0 loss: 477.6514\n",
      "Minibatch 0 / 0 error rate: 1.0\n",
      "[27]\n",
      "Minibatch 1 / 1 loss: 405.84705\n",
      "Minibatch 1 / 1 error rate: 1.0\n",
      "Epoch 4 error rate: 1.0\n",
      "Epoch 5 ...\n",
      "[27]\n",
      "Minibatch 0 / 1 loss: 293.55075\n",
      "Minibatch 0 / 1 error rate: 0.986014\n",
      "[27]\n",
      "Minibatch 1 / 0 loss: 241.51056\n",
      "Minibatch 1 / 0 error rate: 0.9873817\n",
      "Epoch 5 error rate: 0.9866978526115417\n",
      "Epoch 6 ...\n",
      "[27]\n",
      "Minibatch 0 / 1 loss: 374.2955\n",
      "Minibatch 0 / 1 error rate: 1.451049\n",
      "[27]\n",
      "Minibatch 1 / 0 loss: 338.95007\n",
      "Minibatch 1 / 0 error rate: 0.82649845\n",
      "Epoch 6 error rate: 1.1387737095355988\n",
      "Epoch 7 ...\n",
      "[27]\n",
      "Minibatch 0 / 1 loss: 229.02983\n",
      "Minibatch 0 / 1 error rate: 0.986014\n",
      "[27]\n",
      "Minibatch 1 / 0 loss: 356.99344\n",
      "Minibatch 1 / 0 error rate: 1.0\n",
      "Epoch 7 error rate: 0.9930070042610168\n",
      "Epoch 8 ...\n",
      "[27]\n",
      "Minibatch 0 / 0 loss: 381.25693\n",
      "Minibatch 0 / 0 error rate: 1.0\n",
      "[27]\n",
      "Minibatch 1 / 1 loss: 297.1026\n",
      "Minibatch 1 / 1 error rate: 0.9895105\n",
      "Epoch 8 error rate: 0.9947552382946014\n",
      "Epoch 9 ...\n",
      "[27]\n",
      "Minibatch 0 / 1 loss: 227.09045\n",
      "Minibatch 0 / 1 error rate: 0.986014\n",
      "[27]\n",
      "Minibatch 1 / 0 loss: 261.0407\n",
      "Minibatch 1 / 0 error rate: 0.9873817\n",
      "Epoch 9 error rate: 0.9866978526115417\n",
      "Epoch 10 ...\n",
      "[27]\n",
      "Minibatch 0 / 0 loss: 309.97064\n",
      "Minibatch 0 / 0 error rate: 0.84542584\n",
      "[27]\n",
      "Minibatch 1 / 1 loss: 228.2059\n",
      "Minibatch 1 / 1 error rate: 0.8636364\n",
      "Epoch 10 error rate: 0.8545311093330383\n",
      "Epoch 11 ...\n",
      "[27]\n",
      "Minibatch 0 / 0 loss: 229.31924\n",
      "Minibatch 0 / 0 error rate: 0.95268136\n",
      "[27]\n",
      "Minibatch 1 / 1 loss: 212.88196\n",
      "Minibatch 1 / 1 error rate: 0.97202796\n",
      "Epoch 11 error rate: 0.9623546600341797\n",
      "Epoch 12 ...\n",
      "[27]\n",
      "Minibatch 0 / 0 loss: 245.25345\n",
      "Minibatch 0 / 0 error rate: 0.9873817\n",
      "[27]\n",
      "Minibatch 1 / 1 loss: 227.39417\n",
      "Minibatch 1 / 1 error rate: 0.986014\n",
      "Epoch 12 error rate: 0.9866978526115417\n",
      "Epoch 13 ...\n",
      "[27]\n",
      "Minibatch 0 / 1 loss: 223.06824\n",
      "Minibatch 0 / 1 error rate: 0.986014\n",
      "[27]\n",
      "Minibatch 1 / 0 loss: 235.89783\n",
      "Minibatch 1 / 0 error rate: 0.9873817\n",
      "Epoch 13 error rate: 0.9866978526115417\n",
      "Epoch 14 ...\n",
      "[27]\n",
      "Minibatch 0 / 1 loss: 208.99251\n",
      "Minibatch 0 / 1 error rate: 0.986014\n",
      "[27]\n",
      "Minibatch 1 / 0 loss: 227.63034\n",
      "Minibatch 1 / 0 error rate: 0.9873817\n",
      "Epoch 14 error rate: 0.9866978526115417\n",
      "Epoch 15 ...\n",
      "[27]\n",
      "Minibatch 0 / 1 loss: 206.42775\n",
      "Minibatch 0 / 1 error rate: 0.986014\n",
      "[27]\n",
      "Minibatch 1 / 0 loss: 232.68701\n",
      "Minibatch 1 / 0 error rate: 0.9873817\n",
      "Epoch 15 error rate: 0.9866978526115417\n",
      "Epoch 16 ...\n",
      "[27]\n",
      "Minibatch 0 / 0 loss: 234.49786\n",
      "Minibatch 0 / 0 error rate: 0.9873817\n",
      "[27]\n",
      "Minibatch 1 / 1 loss: 209.13788\n",
      "Minibatch 1 / 1 error rate: 0.986014\n",
      "Epoch 16 error rate: 0.9866978526115417\n",
      "Epoch 17 ...\n",
      "[27]\n",
      "Minibatch 0 / 0 loss: 231.78378\n",
      "Minibatch 0 / 0 error rate: 0.9873817\n",
      "[27]\n",
      "Minibatch 1 / 1 loss: 206.48709\n",
      "Minibatch 1 / 1 error rate: 0.986014\n",
      "Epoch 17 error rate: 0.9866978526115417\n",
      "Epoch 18 ...\n",
      "[27]\n",
      "Minibatch 0 / 0 loss: 228.0741\n",
      "Minibatch 0 / 0 error rate: 0.9873817\n",
      "[27]\n",
      "Minibatch 1 / 1 loss: 205.86876\n",
      "Minibatch 1 / 1 error rate: 0.986014\n",
      "Epoch 18 error rate: 0.9866978526115417\n",
      "Epoch 19 ...\n",
      "[27]\n",
      "Minibatch 0 / 0 loss: 227.46606\n",
      "Minibatch 0 / 0 error rate: 0.9873817\n",
      "[27]\n",
      "Minibatch 1 / 1 loss: 206.68835\n",
      "Minibatch 1 / 1 error rate: 0.986014\n",
      "Epoch 19 error rate: 0.9866978526115417\n",
      "Epoch 20 ...\n",
      "[27]\n",
      "Minibatch 0 / 0 loss: 227.52814\n",
      "Minibatch 0 / 0 error rate: 0.9873817\n",
      "[27]\n",
      "Minibatch 1 / 1 loss: 206.25842\n",
      "Minibatch 1 / 1 error rate: 0.97202796\n",
      "Epoch 20 error rate: 0.9797048270702362\n",
      "Epoch 21 ...\n",
      "[27]\n",
      "Minibatch 0 / 1 loss: 205.25226\n",
      "Minibatch 0 / 1 error rate: 0.97202796\n",
      "[27]\n",
      "Minibatch 1 / 0 loss: 225.09491\n",
      "Minibatch 1 / 0 error rate: 0.9747634\n",
      "Epoch 21 error rate: 0.9733956754207611\n",
      "Epoch 22 ...\n",
      "[27]\n",
      "Minibatch 0 / 1 loss: 202.6661\n",
      "Minibatch 0 / 1 error rate: 0.9370629\n",
      "[27]\n",
      "Minibatch 1 / 0 loss: 223.79408\n",
      "Minibatch 1 / 0 error rate: 0.9621451\n",
      "Epoch 22 error rate: 0.9496040046215057\n",
      "Epoch 23 ...\n",
      "[27]\n",
      "Minibatch 0 / 1 loss: 201.27524\n",
      "Minibatch 0 / 1 error rate: 0.92657346\n",
      "[27]\n",
      "Minibatch 1 / 0 loss: 224.32904\n",
      "Minibatch 1 / 0 error rate: 0.96529967\n",
      "Epoch 23 error rate: 0.9459365606307983\n",
      "Epoch 24 ...\n",
      "[27]\n",
      "Minibatch 0 / 0 loss: 224.48267\n",
      "Minibatch 0 / 0 error rate: 0.9495268\n",
      "[27]\n",
      "Minibatch 1 / 1 loss: 200.68462\n",
      "Minibatch 1 / 1 error rate: 0.93356645\n",
      "Epoch 24 error rate: 0.941546618938446\n",
      "Epoch 25 ...\n",
      "[27]\n",
      "Minibatch 0 / 0 loss: 223.28339\n",
      "Minibatch 0 / 0 error rate: 0.9747634\n",
      "[27]\n",
      "Minibatch 1 / 1 loss: 199.77454\n",
      "Minibatch 1 / 1 error rate: 0.9440559\n",
      "Epoch 25 error rate: 0.9594096541404724\n",
      "Epoch 26 ...\n",
      "[27]\n",
      "Minibatch 0 / 0 loss: 221.9167\n",
      "Minibatch 0 / 0 error rate: 0.9747634\n",
      "[27]\n",
      "Minibatch 1 / 1 loss: 199.71236\n",
      "Minibatch 1 / 1 error rate: 0.97202796\n",
      "Epoch 26 error rate: 0.9733956754207611\n",
      "Epoch 27 ...\n",
      "[27]\n",
      "Minibatch 0 / 1 loss: 199.83356\n",
      "Minibatch 0 / 1 error rate: 0.97202796\n",
      "[27]\n",
      "Minibatch 1 / 0 loss: 221.63869\n",
      "Minibatch 1 / 0 error rate: 0.98107255\n",
      "Epoch 27 error rate: 0.9765502512454987\n",
      "Epoch 28 ...\n",
      "[27]\n",
      "Minibatch 0 / 1 loss: 199.54562\n",
      "Minibatch 0 / 1 error rate: 0.97202796\n",
      "[27]\n",
      "Minibatch 1 / 0 loss: 221.32051\n",
      "Minibatch 1 / 0 error rate: 0.98107255\n",
      "Epoch 28 error rate: 0.9765502512454987\n",
      "Epoch 29 ...\n",
      "[27]\n",
      "Minibatch 0 / 1 loss: 198.73547\n",
      "Minibatch 0 / 1 error rate: 0.95804197\n",
      "[27]\n",
      "Minibatch 1 / 0 loss: 221.19225\n",
      "Minibatch 1 / 0 error rate: 0.9747634\n",
      "Epoch 29 error rate: 0.966402679681778\n",
      "Epoch 30 ...\n",
      "[27]\n",
      "Minibatch 0 / 0 loss: 221.27661\n",
      "Minibatch 0 / 0 error rate: 0.9747634\n",
      "[27]\n",
      "Minibatch 1 / 1 loss: 198.14795\n",
      "Minibatch 1 / 1 error rate: 0.951049\n",
      "Epoch 30 error rate: 0.9629061818122864\n",
      "Epoch 31 ...\n",
      "[27]\n",
      "Minibatch 0 / 1 loss: 198.06169\n",
      "Minibatch 0 / 1 error rate: 0.9370629\n",
      "[27]\n",
      "Minibatch 1 / 0 loss: 221.27307\n",
      "Minibatch 1 / 0 error rate: 0.9621451\n",
      "Epoch 31 error rate: 0.9496040046215057\n",
      "Epoch 32 ...\n",
      "[27]\n",
      "Minibatch 0 / 1 loss: 197.86441\n",
      "Minibatch 0 / 1 error rate: 0.91608393\n",
      "[27]\n",
      "Minibatch 1 / 0 loss: 220.88167\n",
      "Minibatch 1 / 0 error rate: 0.9621451\n",
      "Epoch 32 error rate: 0.939114511013031\n",
      "Epoch 33 ...\n",
      "[27]\n",
      "Minibatch 0 / 1 loss: 197.79102\n",
      "Minibatch 0 / 1 error rate: 0.9195804\n",
      "[27]\n",
      "Minibatch 1 / 0 loss: 220.58969\n",
      "Minibatch 1 / 0 error rate: 0.9463722\n",
      "Epoch 33 error rate: 0.9329763054847717\n",
      "Epoch 34 ...\n",
      "[27]\n",
      "Minibatch 0 / 0 loss: 220.50829\n",
      "Minibatch 0 / 0 error rate: 0.9400631\n",
      "[27]\n",
      "Minibatch 1 / 1 loss: 197.96039\n",
      "Minibatch 1 / 1 error rate: 0.92657346\n",
      "Epoch 34 error rate: 0.9333182871341705\n",
      "Epoch 35 ...\n",
      "[27]\n",
      "Minibatch 0 / 0 loss: 220.34619\n",
      "Minibatch 0 / 0 error rate: 0.9432177\n",
      "[27]\n",
      "Minibatch 1 / 1 loss: 197.80515\n",
      "Minibatch 1 / 1 error rate: 0.93356645\n",
      "Epoch 35 error rate: 0.9383920729160309\n",
      "Epoch 36 ...\n",
      "[27]\n",
      "Minibatch 0 / 0 loss: 220.1638\n",
      "Minibatch 0 / 0 error rate: 0.9463722\n",
      "[27]\n",
      "Minibatch 1 / 1 loss: 197.52402\n",
      "Minibatch 1 / 1 error rate: 0.9125874\n",
      "Epoch 36 error rate: 0.9294798076152802\n",
      "Epoch 37 ...\n",
      "[27]\n",
      "Minibatch 0 / 1 loss: 197.4246\n",
      "Minibatch 0 / 1 error rate: 0.9125874\n",
      "[27]\n",
      "Minibatch 1 / 0 loss: 220.27039\n",
      "Minibatch 1 / 0 error rate: 0.95583594\n",
      "Epoch 37 error rate: 0.9342116713523865\n",
      "Epoch 38 ...\n",
      "[27]\n",
      "Minibatch 0 / 0 loss: 220.21375\n",
      "Minibatch 0 / 0 error rate: 0.95583594\n",
      "[27]\n",
      "Minibatch 1 / 1 loss: 197.30432\n",
      "Minibatch 1 / 1 error rate: 0.90909094\n",
      "Epoch 38 error rate: 0.9324634373188019\n",
      "Epoch 39 ...\n",
      "[27]\n",
      "Minibatch 0 / 1 loss: 197.28314\n",
      "Minibatch 0 / 1 error rate: 0.9125874\n",
      "[27]\n",
      "Minibatch 1 / 0 loss: 219.6886\n",
      "Minibatch 1 / 0 error rate: 0.95583594\n",
      "Epoch 39 error rate: 0.9342116713523865\n",
      "Epoch 40 ...\n",
      "[27]\n",
      "Minibatch 0 / 1 loss: 197.27608\n",
      "Minibatch 0 / 1 error rate: 0.9195804\n",
      "[27]\n",
      "Minibatch 1 / 0 loss: 219.47685\n",
      "Minibatch 1 / 0 error rate: 0.95583594\n",
      "Epoch 40 error rate: 0.937708169221878\n",
      "Epoch 41 ...\n",
      "[27]\n",
      "Minibatch 0 / 0 loss: 219.38104\n",
      "Minibatch 0 / 0 error rate: 0.95583594\n"
     ]
    },
    {
     "name": "stdout",
     "output_type": "stream",
     "text": [
      "[27]\n",
      "Minibatch 1 / 1 loss: 197.31396\n",
      "Minibatch 1 / 1 error rate: 0.91608393\n",
      "Epoch 41 error rate: 0.9359599351882935\n",
      "Epoch 42 ...\n",
      "[27]\n",
      "Minibatch 0 / 1 loss: 197.23546\n",
      "Minibatch 0 / 1 error rate: 0.92657346\n",
      "[27]\n",
      "Minibatch 1 / 0 loss: 219.14828\n",
      "Minibatch 1 / 0 error rate: 0.9495268\n",
      "Epoch 42 error rate: 0.9380501210689545\n",
      "Epoch 43 ...\n",
      "[27]\n",
      "Minibatch 0 / 0 loss: 219.0971\n",
      "Minibatch 0 / 0 error rate: 0.9495268\n",
      "[27]\n",
      "Minibatch 1 / 1 loss: 196.97356\n",
      "Minibatch 1 / 1 error rate: 0.90909094\n",
      "Epoch 43 error rate: 0.9293088614940643\n",
      "Epoch 44 ...\n",
      "[27]\n",
      "Minibatch 0 / 0 loss: 218.94452\n",
      "Minibatch 0 / 0 error rate: 0.95583594\n",
      "[27]\n",
      "Minibatch 1 / 1 loss: 196.9032\n",
      "Minibatch 1 / 1 error rate: 0.9125874\n",
      "Epoch 44 error rate: 0.9342116713523865\n",
      "Epoch 45 ...\n",
      "[27]\n",
      "Minibatch 0 / 1 loss: 196.85579\n",
      "Minibatch 0 / 1 error rate: 0.9125874\n",
      "[27]\n",
      "Minibatch 1 / 0 loss: 218.70096\n",
      "Minibatch 1 / 0 error rate: 0.9463722\n",
      "Epoch 45 error rate: 0.9294798076152802\n",
      "Epoch 46 ...\n",
      "[27]\n",
      "Minibatch 0 / 0 loss: 218.57118\n",
      "Minibatch 0 / 0 error rate: 0.9621451\n",
      "[27]\n",
      "Minibatch 1 / 1 loss: 196.7707\n",
      "Minibatch 1 / 1 error rate: 0.9125874\n",
      "Epoch 46 error rate: 0.937366247177124\n",
      "Epoch 47 ...\n",
      "[27]\n",
      "Minibatch 0 / 0 loss: 218.27634\n",
      "Minibatch 0 / 0 error rate: 0.9463722\n",
      "[27]\n",
      "Minibatch 1 / 1 loss: 196.76921\n",
      "Minibatch 1 / 1 error rate: 0.91608393\n",
      "Epoch 47 error rate: 0.9312280714511871\n",
      "Epoch 48 ...\n",
      "[27]\n",
      "Minibatch 0 / 0 loss: 218.04605\n",
      "Minibatch 0 / 0 error rate: 0.9400631\n",
      "[27]\n",
      "Minibatch 1 / 1 loss: 196.66364\n",
      "Minibatch 1 / 1 error rate: 0.92657346\n",
      "Epoch 48 error rate: 0.9333182871341705\n",
      "Epoch 49 ...\n"
     ]
    }
   ],
   "source": [
    "# Train\n",
    "####Run session\n",
    "with tf.Session(graph=graph) as session:\n",
    "    print('Initializing')\n",
    "    tf.global_variables_initializer().run()\n",
    "    for epoch in range(nEpochs):\n",
    "        print('Epoch', epoch+1, '...')\n",
    "        batchErrors = np.zeros(len(batchedData))\n",
    "        batchRandIxs = np.random.permutation(len(batchedData)) #randomize batch order\n",
    "        for batch, batchOrigI in enumerate(batchRandIxs):\n",
    "            batchInputs, batchTargetSparse, batchSeqLengths = batchedData[batchOrigI]\n",
    "            batchTargetIxs, batchTargetVals, batchTargetShape = batchTargetSparse\n",
    "            feedDict = {inputX: batchInputs, targetIxs: batchTargetIxs, targetVals: batchTargetVals,\n",
    "                        targetShape: batchTargetShape, seqLengths: batchSeqLengths}\n",
    "            _, l, er, lmt = session.run([optimizer, loss, errorRate, logitsMaxTest], feed_dict=feedDict)\n",
    "            print(np.unique(lmt)) #print unique argmax values of first sample in batch; should be blank for a while, then spit out target values\n",
    "            if (batch % 1) == 0:\n",
    "                print('Minibatch', batch, '/', batchOrigI, 'loss:', l)\n",
    "                print('Minibatch', batch, '/', batchOrigI, 'error rate:', er)\n",
    "            batchErrors[batch] = er*len(batchSeqLengths)\n",
    "        epochErrorRate = batchErrors.sum() / totalN\n",
    "        print('Epoch', epoch+1, 'error rate:', epochErrorRate)"
   ]
  },
  {
   "cell_type": "markdown",
   "metadata": {
    "slideshow": {
     "slide_type": "slide"
    }
   },
   "source": [
    "## Deep Speech\n",
    "\n",
    "Deep Speech 1: https://arxiv.org/abs/1412.5567\n",
    "\n",
    "Deep Speech 2: https://arxiv.org/abs/1512.02595"
   ]
  },
  {
   "cell_type": "markdown",
   "metadata": {
    "slideshow": {
     "slide_type": "slide"
    }
   },
   "source": [
    "## Workshop: Deep Speech"
   ]
  },
  {
   "cell_type": "code",
   "execution_count": null,
   "metadata": {
    "slideshow": {
     "slide_type": "slide"
    }
   },
   "outputs": [],
   "source": []
  },
  {
   "cell_type": "code",
   "execution_count": null,
   "metadata": {},
   "outputs": [],
   "source": []
  },
  {
   "cell_type": "code",
   "execution_count": null,
   "metadata": {},
   "outputs": [],
   "source": []
  }
 ],
 "metadata": {
  "celltoolbar": "Slideshow",
  "kernelspec": {
   "display_name": "Python 3",
   "language": "python",
   "name": "python3"
  },
  "language_info": {
   "codemirror_mode": {
    "name": "ipython",
    "version": 3
   },
   "file_extension": ".py",
   "mimetype": "text/x-python",
   "name": "python",
   "nbconvert_exporter": "python",
   "pygments_lexer": "ipython3",
   "version": "3.6.4"
  },
  "livereveal": {
   "autolaunch": true,
   "overlay": "<div class='logo'><img src='assets/Stackup_Logo_Small.png' width='90%'/></div>"
  }
 },
 "nbformat": 4,
 "nbformat_minor": 2
}
