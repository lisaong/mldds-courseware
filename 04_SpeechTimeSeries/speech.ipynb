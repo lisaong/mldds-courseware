{
 "cells": [
  {
   "cell_type": "markdown",
   "metadata": {},
   "source": [
    "## Speech Recognition\n",
    "\n",
    "A survey of statistical and deep learning models"
   ]
  },
  {
   "cell_type": "markdown",
   "metadata": {
    "slideshow": {
     "slide_type": "slide"
    }
   },
   "source": [
    "## Automatic Speech Recognition Pipeline\n",
    "\n",
    "<img src='assets/speech/asr-pipeline.jpg'/>\n",
    "\n",
    "\n",
    "Source: https://www.techrepublic.com/article/how-we-learned-to-talk-to-computers/"
   ]
  },
  {
   "cell_type": "markdown",
   "metadata": {
    "slideshow": {
     "slide_type": "slide"
    }
   },
   "source": [
    "## Speech Feature Extraction\n",
    "\n",
    "<img src='assets/speech/Spectrogram-19thC.png'/>\n",
    "\n",
    "A spectrogram for \"nineteen century\" - power vs. frequency\n",
    "\n",
    "Common method: Mel-frequency cepstral coefficients (MFCC)"
   ]
  },
  {
   "cell_type": "markdown",
   "metadata": {
    "slideshow": {
     "slide_type": "slide"
    }
   },
   "source": [
    "## Statistical Speech Recognition\n",
    "\n",
    "$$W^* = \\underset{W}{\\operatorname{argmax}}P(W|X)$$\n",
    "\n",
    "- word sequence: $W$\n",
    "- most likely word sequence: $W^*$\n",
    "- acoustic input feature vector (e.g. MFCC): $X$"
   ]
  },
  {
   "cell_type": "markdown",
   "metadata": {
    "slideshow": {
     "slide_type": "slide"
    }
   },
   "source": [
    "## Statistical Speech Recognition\n",
    "\n",
    "After Bayes' Theorem:\n",
    "\n",
    "$$W^* = \\underset{W}{\\operatorname{argmax}}p(X|W)P(W)$$\n",
    "\n",
    "- acoustic model: $p(X|W)$\n",
    "- language model (e.g. N-gram): $P(W)$"
   ]
  },
  {
   "cell_type": "markdown",
   "metadata": {
    "slideshow": {
     "slide_type": "slide"
    }
   },
   "source": [
    "## Statistical Acoustic Model: $p(X|W)$\n",
    "\n",
    "<img src='assets/speech/acoustic-statistical.png' width='50%'/>\n",
    "\n",
    "Credits: https://www.inf.ed.ac.uk/teaching/courses/asr/2016-17/asr03-hmmgmm-handout.pdf"
   ]
  },
  {
   "cell_type": "markdown",
   "metadata": {
    "slideshow": {
     "slide_type": "slide"
    }
   },
   "source": [
    "## Hidden Markov Model: $p(S_i|S_{i-1})$, Gaussian Mixture Model: $p(X|S_i)$\n",
    "\n",
    "<img src='assets/speech/acoustic-hmm-gmm.png' width='50%'/>\n",
    "\n",
    "Credits: https://www.inf.ed.ac.uk/teaching/courses/asr/2016-17/asr03-hmmgmm-handout.pdf"
   ]
  },
  {
   "cell_type": "markdown",
   "metadata": {},
   "source": [
    "## Gaussian Mixture Model\n",
    "\n",
    "Mixture distribution: combine multiple probabability distributions to make an improved model\n",
    "\n",
    "$$P(x) = \\sum_iP(c=i)P(x \\mid c=i)$$\n",
    "\n",
    "$i^{th}$ Gaussian component: $P(x \\mid c=i)$\n",
    "\n",
    "Applications\n",
    "- Clustering\n",
    "- Classification\n",
    "\n",
    "Nice intro:\n",
    "https://yulearning.blogspot.sg/2014/11/einsteins-most-famous-equation-is-emc2.html"
   ]
  },
  {
   "cell_type": "markdown",
   "metadata": {
    "slideshow": {
     "slide_type": "slide"
    }
   },
   "source": [
    "## Workshop: GMM gender detector\n",
    "---\n",
    "\n",
    "Credits: https://github.com/abhijeet3922/PyGender-Voice\n",
    "\n",
    "<img src='assets/speech/workshop1_pygender.png' style='float:right'/>\n",
    "\n",
    "1. Download data from [here](\n",
    "https://www.dropbox.com/s/hcku4t7alrhacqv/pygender.zip?dl=0)\n",
    "\n",
    "2. Extract the .zip file to a folder of your choice. Note down the path as you will need to enter it in the workshop code."
   ]
  },
  {
   "cell_type": "code",
   "execution_count": null,
   "metadata": {
    "slideshow": {
     "slide_type": "skip"
    }
   },
   "outputs": [],
   "source": [
    "# !pip3 install python_speech_features\n",
    "\n",
    "import os\n",
    "from os.path import basename, join\n",
    "import numpy as np\n",
    "\n",
    "from python_speech_features import mfcc\n",
    "from scipy.io.wavfile import read\n",
    "from sklearn import preprocessing\n",
    "from sklearn.mixture import GaussianMixture\n",
    "\n",
    "TRAIN_PATH = 'C:\\\\mldds\\\\pygender\\\\train_data\\\\youtube\\\\' # modify to your actual path"
   ]
  },
  {
   "cell_type": "code",
   "execution_count": null,
   "metadata": {
    "slideshow": {
     "slide_type": "skip"
    }
   },
   "outputs": [],
   "source": [
    "def get_MFCC(audio_file, scale=True):\n",
    "    \"\"\"Computes the Mel-frequency ceptrum coefficients for an audio file\n",
    "    Args:\n",
    "        audio_file: input audio file\n",
    "        scale: whether to scale the features between 0-1\n",
    "    Returns:\n",
    "        the MFCC features\n",
    "    \"\"\"    \n",
    "    sample_rate, audio = read(audio_file)\n",
    "    features = mfcc(audio, sample_rate, winlen=0.025, winstep=0.01,\n",
    "                    numcep=13, appendEnergy=False)\n",
    "    if scale:\n",
    "        features = preprocessing.scale(features) # scale to (0, 1)\n",
    "    return features"
   ]
  },
  {
   "cell_type": "code",
   "execution_count": null,
   "metadata": {
    "slideshow": {
     "slide_type": "slide"
    }
   },
   "outputs": [],
   "source": [
    "# Playback a sample file\n",
    "from IPython import display\n",
    "\n",
    "sample_file = join(TRAIN_PATH, 'male', 'male1.wav')\n",
    "sample_rate, audio = read(sample_file)\n",
    "display.Audio(data=audio, rate=sample_rate)"
   ]
  },
  {
   "cell_type": "code",
   "execution_count": null,
   "metadata": {
    "slideshow": {
     "slide_type": "skip"
    }
   },
   "outputs": [],
   "source": [
    "# Plot the MFCC\n",
    "import matplotlib.pyplot as plt\n",
    "\n",
    "mfcc_vector = get_MFCC(sample_file, scale=False)\n",
    "fig, ax = plt.subplots(nrows=1, ncols=1, figsize=(20,4))\n",
    "cax = ax.matshow(np.transpose(mfcc_vector), interpolation='nearest',\n",
    "                 aspect='auto', cmap='coolwarm', origin='lower')\n",
    "fig.colorbar(cax)\n",
    "plt.title(\"Spectrogram of {}\".format(sample_file))\n",
    "plt.show()"
   ]
  },
  {
   "cell_type": "code",
   "execution_count": null,
   "metadata": {
    "slideshow": {
     "slide_type": "skip"
    }
   },
   "outputs": [],
   "source": [
    "def train_GMM(data_path, n_components=8, covariance_type='diag'):\n",
    "    \"\"\"Trains a Gaussian mixture model\n",
    "    Args:\n",
    "        data_path: data folder path\n",
    "        n_components: number of Gaussian components\n",
    "        covariance_type: type of covariance matrix\n",
    "    Returns:\n",
    "        the GMM model\n",
    "    \"\"\"    \n",
    "    files = [join(data_path, f) for f in os.listdir(data_path) if f.endswith('.wav')]\n",
    "    features = np.asarray(());\n",
    "\n",
    "    for f in files:\n",
    "        mfcc_vector = get_MFCC(f)\n",
    "\n",
    "        if features.size:\n",
    "            features = np.vstack((features, mfcc_vector))\n",
    "        else:\n",
    "            features = mfcc_vector\n",
    "\n",
    "    gmm = GaussianMixture(n_components=n_components,\n",
    "                          covariance_type=covariance_type,\n",
    "                          max_iter=200, n_init=3)\n",
    "    gmm.fit(features)\n",
    "    \n",
    "    # print some metrics applicable to GMMs\n",
    "    print('BIC: ', gmm.bic(features), ', AIC: ', gmm.aic(features))\n",
    "    return gmm"
   ]
  },
  {
   "cell_type": "code",
   "execution_count": null,
   "metadata": {
    "slideshow": {
     "slide_type": "skip"
    }
   },
   "outputs": [],
   "source": [
    "models = dict()\n",
    "%time models['male'] = train_GMM(join(TRAIN_PATH, 'male'), n_components=8, \\\n",
    "                                 covariance_type='diag')\n",
    "\n",
    "# ==================================================================\n",
    "# Exercise:\n",
    "# Add code below to train the female model, using the above as an example\n",
    "\n",
    "\n",
    "\n",
    "\n",
    "\n",
    "\n",
    "\n",
    "\n",
    "# ==================================================================\n",
    "# Optional Exercises:\n",
    "# a. Try different values of n_component (e.g. 2, 16)\n",
    "# b. Try different values of covariance_type (e.g. full)\n",
    "#\n",
    "# See http://scikit-learn.org/stable/modules/generated/sklearn.mixture.GaussianMixture.html\n",
    "# on how to interpret the BIC and AIC metrics for selecting models\n",
    "\n",
    "\n",
    "\n",
    "\n",
    "\n",
    "\n",
    "\n"
   ]
  },
  {
   "cell_type": "code",
   "execution_count": null,
   "metadata": {
    "slideshow": {
     "slide_type": "skip"
    }
   },
   "outputs": [],
   "source": [
    "def test_GMM(models, test_data_path):\n",
    "    \"\"\"Trains a Gaussian mixture model\n",
    "    Args:\n",
    "        models: {name: gmm} dictionary of models\n",
    "        test_data_path: test data folder path\n",
    "    Returns:\n",
    "        the predictions\n",
    "    \"\"\"    \n",
    "    files = [os.path.join(test_data_path,f) for f in os.listdir(test_data_path)\n",
    "             if f.endswith(\".wav\")]\n",
    "    \n",
    "    predictions = []\n",
    "    for f in files:\n",
    "        features = get_MFCC(f)\n",
    "        keys = []\n",
    "        log_likelihood = np.zeros(len(models))\n",
    "\n",
    "        for i, (key, gmm) in enumerate(models.items()):\n",
    "            scores = np.array(gmm.score(features))\n",
    "            keys.append(key)\n",
    "            log_likelihood[i] = scores.sum()\n",
    "\n",
    "        # find the model with the maximum score\n",
    "        winner = np.argmax(log_likelihood)\n",
    "        # print('prediction:', keys[winner], \"\\tscores:\", log_likelihood[winner])\n",
    "        predictions.append(keys[winner])\n",
    "    return predictions"
   ]
  },
  {
   "cell_type": "code",
   "execution_count": null,
   "metadata": {
    "slideshow": {
     "slide_type": "skip"
    }
   },
   "outputs": [],
   "source": [
    "# ==================================================================\n",
    "# Exercise:\n",
    "# 1. Complete the code below to test the GMM models using test_GMM().\n",
    "#    Be sure to run against both male and female models.\n",
    "# 2. Plot the confusion matrix\n",
    "\n",
    "from sklearn.metrics import confusion_matrix\n",
    "\n",
    "TEST_PATH = 'C:\\\\mldds\\\\pygender\\\\test_data\\\\AudioSet' # modify to your actual path\n",
    "\n",
    "\n",
    "\n",
    "\n",
    "\n",
    "\n",
    "\n",
    "\n"
   ]
  },
  {
   "cell_type": "markdown",
   "metadata": {
    "slideshow": {
     "slide_type": "slide"
    }
   },
   "source": [
    "## Shortcomings of Statistical Approaches\n",
    "\n",
    "Lots of hand-tuning\n",
    "\n",
    "Inefficient for approximating non-linear data: combination covariance matrices get very large / complicated\n",
    "\n",
    "Solution: deep learning"
   ]
  },
  {
   "cell_type": "markdown",
   "metadata": {
    "slideshow": {
     "slide_type": "slide"
    }
   },
   "source": [
    "## Deep Belief Nets\n",
    "\n",
    "[Paper](https://static.googleusercontent.com/media/research.google.com/en//pubs/archive/38131.pdf)\n",
    "\n",
    "- Replaces the Gaussian Mixture Model in an ASR system \n",
    "- Generative pre-training\n",
    " - Speeds up training with less overfitting\n",
    " - Train a hidden layer (using Restricted Boltmann Machines or Gaussian RBM)\n",
    " - Use the weights as inputs to train next layer\n",
    " - Stack up into a forward-only \"Deep Belief Net\" (DBN)\n",
    " - Add softmax to create the DBM-DNN\n",
    "\n",
    "Python: https://pypi.org/project/nolearn/"
   ]
  },
  {
   "cell_type": "markdown",
   "metadata": {
    "slideshow": {
     "slide_type": "slide"
    }
   },
   "source": [
    "![DBN-DNN](assets/speech/dbn-dnn.png)"
   ]
  },
  {
   "cell_type": "markdown",
   "metadata": {
    "slideshow": {
     "slide_type": "slide"
    }
   },
   "source": [
    "![DBN-DNN performance](assets/speech/dbn-dnn-compare.png)"
   ]
  },
  {
   "cell_type": "markdown",
   "metadata": {
    "slideshow": {
     "slide_type": "slide"
    }
   },
   "source": [
    "## Word Error Rate\n",
    "\n",
    "$$WER = \\frac{S + D + I}{N}$$\n",
    "\n",
    "- substitution word count: $S$\n",
    "- deletion word count: $D$\n",
    "- insertion word count: $I$\n",
    "- correct word count: $C$\n",
    "- number of reference words: $N = S + D + C$\n",
    "\n",
    "## Word Accuracy\n",
    "$$WAcc = 1 - WER = \\frac{(N - S - D) - I}{N} = \\frac{C - I}{N} $$"
   ]
  },
  {
   "cell_type": "markdown",
   "metadata": {
    "slideshow": {
     "slide_type": "slide"
    }
   },
   "source": [
    "## Recurrent Neural Networks\n",
    "\n",
    "[Paper](http://proceedings.mlr.press/v32/graves14.pdf)\n",
    "\n",
    "End-to-End Speech Recognition\n",
    "- Transcription is hard. Skip it and train model that converts speech directly to text\n",
    "- Bidirectional LSTM to learn long sequences\n",
    "- Correctionist Temporal Classification (CTC) to align audio with text "
   ]
  },
  {
   "cell_type": "markdown",
   "metadata": {
    "slideshow": {
     "slide_type": "slide"
    }
   },
   "source": [
    "## LSTM\n",
    "\n",
    "- Learns long sequences (like speech)\n",
    "- Forget gate learns what to forget\n",
    "\n",
    "![lstm](assets/speech/lstm.png)"
   ]
  },
  {
   "cell_type": "markdown",
   "metadata": {
    "slideshow": {
     "slide_type": "slide"
    }
   },
   "source": [
    "## Birectional RNN\n",
    "\n",
    "- Forward ($\\overrightarrow{h}$) and backward ($\\overleftarrow{h}$) hidden sequences\n",
    "- Learns context in both directions (like words in speech)\n",
    "- Bidirectional LSTM: LSTM hidden units \n",
    "\n",
    "![BRNN](assets/speech/brnn.png)"
   ]
  },
  {
   "cell_type": "markdown",
   "metadata": {
    "slideshow": {
     "slide_type": "slide"
    }
   },
   "source": [
    "## Correctionist Temporal Classification\n",
    "\n",
    "[Paper](https://www.cs.toronto.edu/~graves/icml_2006.pdf)\n",
    "\n",
    "- To train speech to text, we need to know how audio \"lines up\" with transcripts\n",
    "- Input sequences: $X$ (such as audio)\n",
    "- Output sequences: $Y$ (such as transcripts)"
   ]
  },
  {
   "cell_type": "markdown",
   "metadata": {
    "slideshow": {
     "slide_type": "slide"
    }
   },
   "source": [
    "## Correctionist Temporal Classification\n",
    "\n",
    "Problem: $X$ and $Y$ can vary in length, in different ways\n",
    "![CTC](assets/speech/naive_alignment.svg)\n",
    "\n",
    "Solution: introduce the blank token ($\\epsilon$)\n",
    "![CTC](assets/speech/ctc_alignment_steps.svg)\n",
    "\n",
    "Process: train an RNN to estimate probabilities of each character per time step"
   ]
  },
  {
   "cell_type": "markdown",
   "metadata": {
    "slideshow": {
     "slide_type": "slide"
    }
   },
   "source": [
    "## Correctionist Temporal Classification\n",
    "\n",
    "![CTC](assets/speech/full_collapse_from_audio.svg)\n",
    "\n",
    "[Visual Guide and Explanation](https://distill.pub/2017/ctc/)"
   ]
  },
  {
   "cell_type": "markdown",
   "metadata": {
    "slideshow": {
     "slide_type": "slide"
    }
   },
   "source": [
    "## Walkthrough: CTC\n",
    "---\n",
    "Credits: https://github.com/igormq/ctc_tensorflow_example"
   ]
  },
  {
   "cell_type": "code",
   "execution_count": null,
   "metadata": {
    "scrolled": true,
    "slideshow": {
     "slide_type": "skip"
    }
   },
   "outputs": [],
   "source": [
    "# https://github.com/lspvic/jupyter_tensorboard\n",
    "# !pip3 install jupyter-tensorboard\n",
    "\n",
    "import os\n",
    "import sys\n",
    "import numpy as np\n",
    "from os.path import join\n",
    "from python_speech_features import mfcc\n",
    "from scipy.io.wavfile import read\n",
    "from sklearn import preprocessing\n",
    "import tensorflow as tf\n",
    "import time"
   ]
  },
  {
   "cell_type": "code",
   "execution_count": null,
   "metadata": {
    "slideshow": {
     "slide_type": "skip"
    }
   },
   "outputs": [],
   "source": [
    "# Constants\n",
    "SPACE_TOKEN = '<space>'\n",
    "SPACE_INDEX = 0\n",
    "FIRST_INDEX = ord('a') - 1  # 0 is reserved to space\n",
    "\n",
    "# Configuration\n",
    "num_features = 13\n",
    "num_units = 50 # Number of units in the LSTM cell\n",
    "\n",
    "# Number of classes: 'a' to 'z' +  space + blank label = 28 characters\n",
    "num_classes = ord('z') - ord('a') + 1 + 1 + 1\n",
    "\n",
    "# Hyper-parameters\n",
    "num_epochs = 200\n",
    "num_hidden = 50\n",
    "num_layers = 1\n",
    "batch_size = 1\n",
    "initial_learning_rate = 1e-2\n",
    "momentum = 0.9\n",
    "\n",
    "num_examples = 1\n",
    "num_batches_per_epoch = int(num_examples/batch_size)"
   ]
  },
  {
   "cell_type": "code",
   "execution_count": null,
   "metadata": {
    "slideshow": {
     "slide_type": "skip"
    }
   },
   "outputs": [],
   "source": [
    "def process_audio(audio_file):\n",
    "    \"\"\"Extracts the MFCC features from an audio file.\n",
    "    Args:\n",
    "        audio_file: file containing the input audio\n",
    "    Returns:\n",
    "        A tuple with (features, sequence length)\n",
    "    \"\"\"\n",
    "    sample_rate, audio = read(audio_file)\n",
    "    features = mfcc(audio, sample_rate)\n",
    "    features = preprocessing.scale(features) # scale to (0, 1)\n",
    "\n",
    "    features = np.asarray(features[np.newaxis, :])\n",
    "    features_seq_len = [features.shape[1]]\n",
    "    return features, features_seq_len\n",
    "\n",
    "# Process audio\n",
    "TRAIN_INPUT = join('files', 'CTC', 'LDC93S1.wav')\n",
    "train_input, train_seq_len = process_audio(TRAIN_INPUT)\n",
    "\n",
    "VAL_INPUT = join('files', 'CTC', '61-70968-0002.wav')\n",
    "val_input, val_seq_len = process_audio(VAL_INPUT)"
   ]
  },
  {
   "cell_type": "code",
   "execution_count": null,
   "metadata": {
    "slideshow": {
     "slide_type": "skip"
    }
   },
   "outputs": [],
   "source": [
    "def sparse_tuple_from(sequences, dtype=np.int32):\n",
    "    \"\"\"Create a sparse representation of sequences.\n",
    "    Args:\n",
    "        sequences: a list of lists of type dtype where each element is a sequence\n",
    "    Returns:\n",
    "        A tuple with (indices, values, shape)\n",
    "    \"\"\"\n",
    "    indices = []\n",
    "    values = []\n",
    "\n",
    "    for n, seq in enumerate(sequences):\n",
    "        indices.extend(zip([n]*len(seq), range(len(seq))))\n",
    "        values.extend(seq)\n",
    "\n",
    "    indices = np.asarray(indices, dtype=np.int64)\n",
    "    values = np.asarray(values, dtype=dtype)\n",
    "    shape = np.asarray([len(sequences), np.asarray(indices).max(0)[1]+1], dtype=np.int64)\n",
    "\n",
    "    return indices, values, shape\n",
    "\n",
    "def process_targets(text_file):\n",
    "    \"\"\"Extracts the CTC tokens from an input text file.\n",
    "    Args:\n",
    "        text_file: file containing the input text\n",
    "    Returns:\n",
    "        A nested tuple with (original text, (indices, CTC tokens, shape))\n",
    "    \"\"\"\n",
    "    with open(text_file, 'r') as f:\n",
    "        line = f.readlines()[-1] # take the last line\n",
    "\n",
    "        # Get only the words between [a-z], replace period for none\n",
    "        original = ' '.join(line.strip().lower().split(' ')).replace('.', '')\n",
    "        targets = original.replace(' ', '  ')\n",
    "        targets = targets.split(' ')\n",
    "\n",
    "    # Add blank label\n",
    "    targets = np.hstack([SPACE_TOKEN if x == '' else list(x) for x in targets])\n",
    "\n",
    "    # Transform char into index\n",
    "    targets = np.asarray([SPACE_INDEX if x == SPACE_TOKEN else ord(x) - FIRST_INDEX\n",
    "                          for x in targets])\n",
    "\n",
    "    # Creat sparse representation to feed into the graph\n",
    "    return original, sparse_tuple_from([targets])\n",
    "\n",
    "# Process transcription\n",
    "TRAIN_TARGET = join('files', 'CTC', 'LDC93S1.txt')\n",
    "train_original, train_targets = process_targets(TRAIN_TARGET)\n",
    "print(\"Original text:\", train_original)\n",
    "print(\"Targets:\", train_targets[1])\n",
    "\n",
    "VAL_TARGET = join('files', 'CTC', '61-70968-0002.txt')\n",
    "val_original, val_targets = process_targets(VAL_TARGET)\n",
    "print(\"Original text:\", val_original)\n",
    "print(\"Targets:\", val_targets[1])"
   ]
  },
  {
   "cell_type": "code",
   "execution_count": null,
   "metadata": {
    "slideshow": {
     "slide_type": "skip"
    }
   },
   "outputs": [],
   "source": [
    "graph = tf.Graph()\n",
    "with graph.as_default():\n",
    "    # e.g: log filter bank or MFCC features\n",
    "    # Has size [batch_size, max_stepsize, num_features], but the\n",
    "    # batch_size and max_stepsize can vary along each step\n",
    "    inputs = tf.placeholder(tf.float32, [None, None, num_features])\n",
    "\n",
    "    # Here we use sparse_placeholder that will generate a\n",
    "    # SparseTensor required by ctc_loss op.\n",
    "    targets = tf.sparse_placeholder(tf.int32)\n",
    "\n",
    "    # 1d array of size [batch_size]\n",
    "    seq_len = tf.placeholder(tf.int32, [None])\n",
    "\n",
    "    # Defining the cell\n",
    "    # Can be:\n",
    "    #   tf.nn.rnn_cell.RNNCell\n",
    "    #   tf.nn.rnn_cell.GRUCell \n",
    "    cells = []\n",
    "    for _ in range(num_layers):\n",
    "        cell = tf.contrib.rnn.LSTMCell(num_units)\n",
    "        cells.append(cell)\n",
    "    stack = tf.contrib.rnn.MultiRNNCell(cells)\n",
    "\n",
    "    # The second output is the last state and we will not use that\n",
    "    outputs, _ = tf.nn.dynamic_rnn(stack, inputs, seq_len, dtype=tf.float32)\n",
    "\n",
    "    shape = tf.shape(inputs)\n",
    "    batch_s, max_timesteps = shape[0], shape[1]\n",
    "\n",
    "    # Reshaping to apply the same weights over the timesteps\n",
    "    outputs = tf.reshape(outputs, [-1, num_hidden])\n",
    "\n",
    "    # Truncated normal with mean 0 and stdev=0.1\n",
    "    W = tf.Variable(tf.truncated_normal([num_hidden,\n",
    "                                         num_classes],\n",
    "                                        stddev=0.1))\n",
    "    # Zero initialization\n",
    "    b = tf.Variable(tf.constant(0., shape=[num_classes]))\n",
    "\n",
    "    # Doing the affine projection\n",
    "    logits = tf.matmul(outputs, W) + b\n",
    "\n",
    "    # Reshaping back to the original shape\n",
    "    logits = tf.reshape(logits, [batch_s, -1, num_classes])\n",
    "\n",
    "    # Time major\n",
    "    logits = tf.transpose(logits, (1, 0, 2))\n",
    "\n",
    "    loss = tf.nn.ctc_loss(targets, logits, seq_len)\n",
    "    cost = tf.reduce_mean(loss)\n",
    "\n",
    "    optimizer = tf.train.MomentumOptimizer(initial_learning_rate,\n",
    "                                           0.9).minimize(cost)\n",
    "\n",
    "    # Option 2: tf.nn.ctc_beam_search_decoder\n",
    "    # (it's slower but you'll get better results)\n",
    "    decoded, log_prob = tf.nn.ctc_greedy_decoder(logits, seq_len)\n",
    "\n",
    "    # Inaccuracy: label error rate\n",
    "    ler = tf.reduce_mean(tf.edit_distance(tf.cast(decoded[0], tf.int32),\n",
    "                                          targets))\n",
    "    \n",
    "    # TensorBoard summary operation\n",
    "    tf.summary.scalar('ctc_cost', cost)\n",
    "    tf.summary.scalar('label_error_rate', ler)\n",
    "    summary_op = tf.summary.merge_all()"
   ]
  },
  {
   "cell_type": "code",
   "execution_count": null,
   "metadata": {
    "scrolled": true,
    "slideshow": {
     "slide_type": "skip"
    }
   },
   "outputs": [],
   "source": [
    "with tf.Session(graph=graph) as session:\n",
    "    tf.global_variables_initializer().run()\n",
    "\n",
    "    # TensorBoard\n",
    "    train_summary_writer = tf.summary.FileWriter('./logs/ctc/train', session.graph)\n",
    "    val_summary_writer = tf.summary.FileWriter('./logs/ctc/val', session.graph)\n",
    "\n",
    "    for curr_epoch in range(num_epochs):\n",
    "        train_cost = train_ler = 0\n",
    "        start = time.time()\n",
    "\n",
    "        for batch in range(num_batches_per_epoch):\n",
    "\n",
    "            feed = {inputs: train_input,\n",
    "                    targets: train_targets,\n",
    "                    seq_len: train_seq_len}\n",
    "\n",
    "            batch_cost, _, summary = session.run([cost, optimizer, summary_op], feed)\n",
    "            train_summary_writer.add_summary(summary, curr_epoch * num_batches_per_epoch + batch)\n",
    "            \n",
    "            train_cost += batch_cost*batch_size\n",
    "            train_ler += session.run(ler, feed_dict=feed)*batch_size\n",
    "            \n",
    "        train_cost /= num_examples\n",
    "        train_ler /= num_examples\n",
    "\n",
    "        val_feed = {inputs: val_input,\n",
    "                    targets: val_targets,\n",
    "                    seq_len: val_seq_len}\n",
    "\n",
    "        val_cost, val_ler, val_summary = session.run([cost, ler, summary_op], feed_dict=val_feed)\n",
    "        val_summary_writer.add_summary(val_summary, curr_epoch * num_batches_per_epoch * batch_size)\n",
    "        \n",
    "        log = \"Epoch {}/{}, train_cost = {:.3f}, train_ler = {:.3f}, val_cost = {:.3f}, val_ler = {:.3f}, time = {:.3f}\"\n",
    "        print(log.format(curr_epoch+1, num_epochs, train_cost, train_ler,\n",
    "                         val_cost, val_ler, time.time() - start))\n",
    "    # Decoding\n",
    "    d = session.run(decoded[0], feed_dict=val_feed)\n",
    "    str_decoded = ''.join([chr(x) for x in np.asarray(d[1]) + FIRST_INDEX])\n",
    "\n",
    "    # Replacing blank label to none\n",
    "    str_decoded = str_decoded.replace(chr(ord('z') + 1), '')\n",
    "\n",
    "    # Replacing space label to space\n",
    "    str_decoded = str_decoded.replace(chr(ord('a') - 1), ' ')\n",
    "\n",
    "    print('Original:\\n%s' % val_original)\n",
    "    print('Decoded:\\n%s' % str_decoded)"
   ]
  },
  {
   "cell_type": "markdown",
   "metadata": {
    "slideshow": {
     "slide_type": "slide"
    }
   },
   "source": [
    "## Deep Speech\n",
    "\n",
    "Deep Speech 1: https://arxiv.org/abs/1412.5567\n",
    "\n",
    "Deep Speech 2: https://arxiv.org/abs/1512.02595"
   ]
  },
  {
   "cell_type": "markdown",
   "metadata": {
    "slideshow": {
     "slide_type": "slide"
    }
   },
   "source": [
    "## Workshop: Deep Speech"
   ]
  },
  {
   "cell_type": "code",
   "execution_count": null,
   "metadata": {
    "slideshow": {
     "slide_type": "slide"
    }
   },
   "outputs": [],
   "source": []
  },
  {
   "cell_type": "code",
   "execution_count": null,
   "metadata": {},
   "outputs": [],
   "source": []
  },
  {
   "cell_type": "code",
   "execution_count": null,
   "metadata": {},
   "outputs": [],
   "source": []
  }
 ],
 "metadata": {
  "celltoolbar": "Slideshow",
  "kernelspec": {
   "display_name": "Python 3",
   "language": "python",
   "name": "python3"
  },
  "language_info": {
   "codemirror_mode": {
    "name": "ipython",
    "version": 3
   },
   "file_extension": ".py",
   "mimetype": "text/x-python",
   "name": "python",
   "nbconvert_exporter": "python",
   "pygments_lexer": "ipython3",
   "version": "3.6.4"
  },
  "livereveal": {
   "autolaunch": true,
   "overlay": "<div class='logo'><img src='assets/Stackup_Logo_Small.png' width='90%'/></div>"
  }
 },
 "nbformat": 4,
 "nbformat_minor": 2
}
