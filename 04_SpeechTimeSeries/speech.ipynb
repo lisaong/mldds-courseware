{
 "cells": [
  {
   "cell_type": "markdown",
   "metadata": {},
   "source": [
    "## Speech Recognition\n",
    "\n",
    "A survey of statistical and deep learning models"
   ]
  },
  {
   "cell_type": "markdown",
   "metadata": {
    "slideshow": {
     "slide_type": "slide"
    }
   },
   "source": [
    "## Automatic Speech Recognition Pipeline\n",
    "\n",
    "<img src='assets/speech/asr-pipeline.jpg'/>\n",
    "\n",
    "\n",
    "Source: https://www.techrepublic.com/article/how-we-learned-to-talk-to-computers/"
   ]
  },
  {
   "cell_type": "markdown",
   "metadata": {
    "slideshow": {
     "slide_type": "slide"
    }
   },
   "source": [
    "## Speech Feature Extraction\n",
    "\n",
    "<img src='assets/speech/Spectrogram-19thC.png'/>\n",
    "\n",
    "A spectrogram for \"nineteen century\" - power vs. frequency\n",
    "\n",
    "Common method: Mel-frequency cepstral coefficients (MFCC)"
   ]
  },
  {
   "cell_type": "markdown",
   "metadata": {
    "slideshow": {
     "slide_type": "slide"
    }
   },
   "source": [
    "## Statistical Speech Recognition\n",
    "\n",
    "$$W^* = \\underset{W}{\\operatorname{argmax}}P(W|X)$$\n",
    "\n",
    "- word sequence: $W$\n",
    "- most likely word sequence: $W^*$\n",
    "- acoustic input feature vector (e.g. MFCC): $X$"
   ]
  },
  {
   "cell_type": "markdown",
   "metadata": {
    "slideshow": {
     "slide_type": "slide"
    }
   },
   "source": [
    "## Statistical Speech Recognition\n",
    "\n",
    "After Bayes' Theorem:\n",
    "\n",
    "$$W^* = \\underset{W}{\\operatorname{argmax}}p(X|W)P(W)$$\n",
    "\n",
    "- acoustic model: $p(X|W)$\n",
    "- language model (e.g. N-gram): $P(W)$"
   ]
  },
  {
   "cell_type": "markdown",
   "metadata": {
    "slideshow": {
     "slide_type": "slide"
    }
   },
   "source": [
    "## Statistical Acoustic Model: $p(X|W)$\n",
    "\n",
    "<img src='assets/speech/acoustic-statistical.png' width='50%'/>\n",
    "\n",
    "Credits: https://www.inf.ed.ac.uk/teaching/courses/asr/2016-17/asr03-hmmgmm-handout.pdf"
   ]
  },
  {
   "cell_type": "markdown",
   "metadata": {
    "slideshow": {
     "slide_type": "slide"
    }
   },
   "source": [
    "## Hidden Markov Model: $p(S_i|S_{i-1})$, Gaussian Mixture Model: $p(X|S_i)$\n",
    "\n",
    "<img src='assets/speech/acoustic-hmm-gmm.png' width='50%'/>\n",
    "\n",
    "Credits: https://www.inf.ed.ac.uk/teaching/courses/asr/2016-17/asr03-hmmgmm-handout.pdf"
   ]
  },
  {
   "cell_type": "markdown",
   "metadata": {
    "slideshow": {
     "slide_type": "slide"
    }
   },
   "source": [
    "## Gaussian Mixture Model\n",
    "\n",
    "Mixture distribution: combine multiple probabability distributions to make an improved model\n",
    "\n",
    "$$P(x) = \\sum_iP(c=i)P(x \\mid c=i)$$\n",
    "\n",
    "$i^{th}$ Gaussian component: $P(x \\mid c=i)$\n",
    "\n",
    "Applications\n",
    "- Clustering\n",
    "- Classification\n",
    "\n",
    "Nice intro:\n",
    "https://yulearning.blogspot.sg/2014/11/einsteins-most-famous-equation-is-emc2.html"
   ]
  },
  {
   "cell_type": "markdown",
   "metadata": {
    "slideshow": {
     "slide_type": "slide"
    }
   },
   "source": [
    "## Workshop: GMM gender detector\n",
    "---\n",
    "\n",
    "Credits: https://github.com/abhijeet3922/PyGender-Voice\n",
    "\n",
    "<img src='assets/speech/workshop1_pygender.png' style='float:right'/>\n",
    "\n",
    "1. Download data from [here](\n",
    "https://www.dropbox.com/s/hcku4t7alrhacqv/pygender.zip?dl=0)\n",
    "\n",
    "2. Extract the .zip file to a folder of your choice. Note down the path as you will need to enter it in the workshop code."
   ]
  },
  {
   "cell_type": "code",
   "execution_count": null,
   "metadata": {
    "slideshow": {
     "slide_type": "slide"
    }
   },
   "outputs": [],
   "source": [
    "# !pip3 install python_speech_features\n",
    "\n",
    "import os\n",
    "from os.path import basename, join\n",
    "import numpy as np\n",
    "\n",
    "from python_speech_features import mfcc\n",
    "from scipy.io.wavfile import read\n",
    "from sklearn import preprocessing\n",
    "from sklearn.mixture import GaussianMixture\n",
    "\n",
    "TRAIN_PATH = 'C:\\\\mldds\\\\pygender\\\\train_data\\\\youtube\\\\' # modify to your actual path"
   ]
  },
  {
   "cell_type": "code",
   "execution_count": null,
   "metadata": {
    "slideshow": {
     "slide_type": "-"
    }
   },
   "outputs": [],
   "source": [
    "def get_MFCC(audio_file, scale=True):\n",
    "    \"\"\"Computes the Mel-frequency ceptrum coefficients for an audio file\n",
    "    Args:\n",
    "        audio_file: input audio file\n",
    "        scale: whether to scale the features between 0-1\n",
    "    Returns:\n",
    "        the MFCC features\n",
    "    \"\"\"    \n",
    "    sample_rate, audio = read(audio_file)\n",
    "    features = mfcc(audio, sample_rate, winlen=0.025, winstep=0.01,\n",
    "                    numcep=13, appendEnergy=False)\n",
    "    if scale:\n",
    "        features = preprocessing.scale(features) # scale to (0, 1)\n",
    "    return features"
   ]
  },
  {
   "cell_type": "code",
   "execution_count": null,
   "metadata": {
    "slideshow": {
     "slide_type": "-"
    }
   },
   "outputs": [],
   "source": [
    "# Playback a sample file\n",
    "from IPython import display\n",
    "\n",
    "sample_file = join(TRAIN_PATH, 'male', 'male1.wav')\n",
    "sample_rate, audio = read(sample_file)\n",
    "display.Audio(data=audio, rate=sample_rate)"
   ]
  },
  {
   "cell_type": "code",
   "execution_count": null,
   "metadata": {
    "slideshow": {
     "slide_type": "-"
    }
   },
   "outputs": [],
   "source": [
    "# Plot the MFCC\n",
    "import matplotlib.pyplot as plt\n",
    "\n",
    "mfcc_vector = get_MFCC(sample_file, scale=False)\n",
    "fig, ax = plt.subplots(nrows=1, ncols=1, figsize=(20,4))\n",
    "cax = ax.matshow(np.transpose(mfcc_vector), interpolation='nearest',\n",
    "                 aspect='auto', cmap='coolwarm', origin='lower')\n",
    "fig.colorbar(cax)\n",
    "plt.title(\"Spectrogram of {}\".format(sample_file))\n",
    "plt.show()"
   ]
  },
  {
   "cell_type": "code",
   "execution_count": null,
   "metadata": {
    "slideshow": {
     "slide_type": "-"
    }
   },
   "outputs": [],
   "source": [
    "def train_GMM(data_path, n_components=8, covariance_type='diag'):\n",
    "    \"\"\"Trains a Gaussian mixture model\n",
    "    Args:\n",
    "        data_path: data folder path\n",
    "        n_components: number of Gaussian components\n",
    "        covariance_type: type of covariance matrix\n",
    "    Returns:\n",
    "        the GMM model\n",
    "    \"\"\"    \n",
    "    files = [join(data_path, f) for f in os.listdir(data_path) if f.endswith('.wav')]\n",
    "    features = np.asarray(());\n",
    "\n",
    "    for f in files:\n",
    "        mfcc_vector = get_MFCC(f)\n",
    "\n",
    "        if features.size:\n",
    "            features = np.vstack((features, mfcc_vector))\n",
    "        else:\n",
    "            features = mfcc_vector\n",
    "\n",
    "    gmm = GaussianMixture(n_components=n_components,\n",
    "                          covariance_type=covariance_type,\n",
    "                          max_iter=200, n_init=3)\n",
    "    gmm.fit(features)\n",
    "    \n",
    "    # print some metrics applicable to GMMs\n",
    "    print('BIC: ', gmm.bic(features), ', AIC: ', gmm.aic(features))\n",
    "    return gmm"
   ]
  },
  {
   "cell_type": "code",
   "execution_count": null,
   "metadata": {
    "slideshow": {
     "slide_type": "-"
    }
   },
   "outputs": [],
   "source": [
    "models = dict()\n",
    "%time models['male'] = train_GMM(join(TRAIN_PATH, 'male'), n_components=8, \\\n",
    "                                 covariance_type='diag')\n",
    "\n",
    "# ==================================================================\n",
    "# Exercise:\n",
    "# Add code below to train the female model, using the above as an example\n",
    "\n",
    "\n",
    "\n",
    "\n",
    "\n",
    "\n",
    "\n",
    "\n",
    "# ==================================================================\n",
    "# Optional Exercises:\n",
    "# a. Try different values of n_component (e.g. 2, 16)\n",
    "# b. Try different values of covariance_type (e.g. full)\n",
    "#\n",
    "# See http://scikit-learn.org/stable/modules/generated/sklearn.mixture.GaussianMixture.html\n",
    "# on how to interpret the BIC and AIC metrics for selecting models\n",
    "\n",
    "\n",
    "\n",
    "\n",
    "\n",
    "\n",
    "\n"
   ]
  },
  {
   "cell_type": "code",
   "execution_count": null,
   "metadata": {
    "slideshow": {
     "slide_type": "-"
    }
   },
   "outputs": [],
   "source": [
    "def test_GMM(models, test_data_path):\n",
    "    \"\"\"Trains a Gaussian mixture model\n",
    "    Args:\n",
    "        models: {name: gmm} dictionary of models\n",
    "        test_data_path: test data folder path\n",
    "    Returns:\n",
    "        the predictions\n",
    "    \"\"\"    \n",
    "    files = [os.path.join(test_data_path,f) for f in os.listdir(test_data_path)\n",
    "             if f.endswith(\".wav\")]\n",
    "    \n",
    "    predictions = []\n",
    "    for f in files:\n",
    "        features = get_MFCC(f)\n",
    "        keys = []\n",
    "        log_likelihood = np.zeros(len(models))\n",
    "\n",
    "        for i, (key, gmm) in enumerate(models.items()):\n",
    "            scores = np.array(gmm.score(features))\n",
    "            keys.append(key)\n",
    "            log_likelihood[i] = scores.sum()\n",
    "\n",
    "        # find the model with the maximum score\n",
    "        winner = np.argmax(log_likelihood)\n",
    "        # print('prediction:', keys[winner], \"\\tscores:\", log_likelihood[winner])\n",
    "        predictions.append(keys[winner])\n",
    "    return predictions"
   ]
  },
  {
   "cell_type": "code",
   "execution_count": null,
   "metadata": {
    "slideshow": {
     "slide_type": "-"
    }
   },
   "outputs": [],
   "source": [
    "# ==================================================================\n",
    "# Exercise:\n",
    "# 1. Complete the code below to test the GMM models using test_GMM().\n",
    "#    Be sure to run against both male and female models.\n",
    "# 2. Plot the confusion matrix\n",
    "\n",
    "from sklearn.metrics import confusion_matrix\n",
    "\n",
    "TEST_PATH = 'C:\\\\mldds\\\\pygender\\\\test_data\\\\AudioSet' # modify to your actual path\n",
    "\n",
    "\n",
    "\n",
    "\n",
    "\n",
    "\n",
    "\n",
    "\n"
   ]
  },
  {
   "cell_type": "markdown",
   "metadata": {
    "slideshow": {
     "slide_type": "slide"
    }
   },
   "source": [
    "## Shortcomings of Statistical Approaches\n",
    "\n",
    "Lots of hand-tuning\n",
    "\n",
    "Inefficient for approximating non-linear data: combination covariance matrices get very large / complicated\n",
    "\n",
    "Solution: deep learning"
   ]
  },
  {
   "cell_type": "markdown",
   "metadata": {
    "slideshow": {
     "slide_type": "slide"
    }
   },
   "source": [
    "## Deep Belief Nets\n",
    "\n",
    "[Paper](https://static.googleusercontent.com/media/research.google.com/en//pubs/archive/38131.pdf)\n",
    "\n",
    "- Replaces the Gaussian Mixture Model in an ASR system \n",
    "- Generative pre-training\n",
    " - Speeds up training with less overfitting\n",
    " - Train a hidden layer (using Restricted Boltmann Machines or Gaussian RBM)\n",
    " - Use the weights as inputs to train next layer\n",
    " - Stack up into a forward-only \"Deep Belief Net\" (DBN)\n",
    " - Add softmax to create the DBM-DNN\n",
    "\n",
    "Python: https://pypi.org/project/nolearn/"
   ]
  },
  {
   "cell_type": "markdown",
   "metadata": {
    "slideshow": {
     "slide_type": "slide"
    }
   },
   "source": [
    "![DBN-DNN](assets/speech/dbn-dnn.png)"
   ]
  },
  {
   "cell_type": "markdown",
   "metadata": {
    "slideshow": {
     "slide_type": "slide"
    }
   },
   "source": [
    "![DBN-DNN performance](assets/speech/dbn-dnn-compare.png)"
   ]
  },
  {
   "cell_type": "markdown",
   "metadata": {
    "slideshow": {
     "slide_type": "slide"
    }
   },
   "source": [
    "## Word Error Rate\n",
    "\n",
    "$$WER = \\frac{S + D + I}{N}$$\n",
    "\n",
    "- substitution word count: $S$\n",
    "- deletion word count: $D$\n",
    "- insertion word count: $I$\n",
    "- correct word count: $C$\n",
    "- number of reference words: $N = S + D + C$\n",
    "\n",
    "## Word Accuracy\n",
    "$$WAcc = 1 - WER = \\frac{(N - S - D) - I}{N} = \\frac{C - I}{N} $$"
   ]
  },
  {
   "cell_type": "markdown",
   "metadata": {
    "slideshow": {
     "slide_type": "slide"
    }
   },
   "source": [
    "## Recurrent Neural Networks\n",
    "\n",
    "[Paper](http://proceedings.mlr.press/v32/graves14.pdf)\n",
    "\n",
    "End-to-End Speech Recognition\n",
    "- Transcription is hard. Skip it and train model that converts speech directly to text\n",
    "- Bidirectional LSTM to learn long sequences\n",
    "- Correctionist Temporal Classification (CTC) to align audio with text "
   ]
  },
  {
   "cell_type": "markdown",
   "metadata": {
    "slideshow": {
     "slide_type": "slide"
    }
   },
   "source": [
    "## LSTM\n",
    "\n",
    "- Learns long sequences (like speech)\n",
    "- Forget gate learns what to forget\n",
    "\n",
    "![lstm](assets/speech/lstm.png)"
   ]
  },
  {
   "cell_type": "markdown",
   "metadata": {
    "slideshow": {
     "slide_type": "slide"
    }
   },
   "source": [
    "## Birectional RNN\n",
    "\n",
    "- Forward ($\\overrightarrow{h}$) and backward ($\\overleftarrow{h}$) hidden sequences\n",
    "- Learns context in both directions (like words in speech)\n",
    "- Bidirectional LSTM: LSTM hidden units \n",
    "\n",
    "![BRNN](assets/speech/brnn.png)"
   ]
  },
  {
   "cell_type": "markdown",
   "metadata": {
    "slideshow": {
     "slide_type": "slide"
    }
   },
   "source": [
    "## Correctionist Temporal Classification\n",
    "\n",
    "[Paper](https://www.cs.toronto.edu/~graves/icml_2006.pdf)\n",
    "\n",
    "- To train speech to text, we need to know how audio \"lines up\" with transcripts\n",
    "- Input sequences: $X$ (such as audio)\n",
    "- Output sequences: $Y$ (such as transcripts)"
   ]
  },
  {
   "cell_type": "markdown",
   "metadata": {
    "slideshow": {
     "slide_type": "slide"
    }
   },
   "source": [
    "## Correctionist Temporal Classification\n",
    "\n",
    "Problem: $X$ and $Y$ can vary in length, in different ways\n",
    "![CTC](assets/speech/naive_alignment.svg)\n",
    "\n",
    "Solution: introduce the blank token ($\\epsilon$)\n",
    "![CTC](assets/speech/ctc_alignment_steps.svg)\n",
    "\n",
    "Process: train an RNN to estimate probabilities of each character per time step"
   ]
  },
  {
   "cell_type": "markdown",
   "metadata": {
    "slideshow": {
     "slide_type": "slide"
    }
   },
   "source": [
    "## Correctionist Temporal Classification\n",
    "\n",
    "![CTC](assets/speech/full_collapse_from_audio.svg)\n",
    "\n",
    "[Visual Guide and Explanation](https://distill.pub/2017/ctc/)"
   ]
  },
  {
   "cell_type": "markdown",
   "metadata": {
    "slideshow": {
     "slide_type": "slide"
    }
   },
   "source": [
    "## Walkthrough: Correctionist Temporal Classification\n",
    "---\n",
    "Credits: https://github.com/igormq/ctc_tensorflow_example"
   ]
  },
  {
   "cell_type": "code",
   "execution_count": 6,
   "metadata": {
    "scrolled": true,
    "slideshow": {
     "slide_type": "slide"
    }
   },
   "outputs": [],
   "source": [
    "\"\"\"This is a simple example that illustrates how CTC is computed from TensorFlow\n",
    "For brevity, it only supports 1 training input and 1 validation input\n",
    "For an example of batched input, use:\n",
    "https://github.com/philipperemy/tensorflow-ctc-speech-recognition\n",
    "\"\"\"\n",
    "\n",
    "# https://github.com/lspvic/jupyter_tensorboard\n",
    "# !pip3 install jupyter-tensorboard\n",
    "\n",
    "import os\n",
    "import sys\n",
    "import numpy as np\n",
    "from os.path import join\n",
    "from python_speech_features import mfcc\n",
    "from scipy.io.wavfile import read\n",
    "from sklearn import preprocessing\n",
    "import tensorflow as tf\n",
    "import time\n",
    "\n",
    "# Constants\n",
    "SPACE_TOKEN = '<space>'\n",
    "SPACE_INDEX = 0\n",
    "FIRST_INDEX = ord('a') - 1  # 0 is reserved to space\n",
    "\n",
    "# Configuration\n",
    "num_features = 13\n",
    "num_units = 50 # Number of units in the LSTM cell\n",
    "\n",
    "# Number of classes: 'a' to 'z' +  space + blank label = 28 characters\n",
    "num_classes = ord('z') - ord('a') + 1 + 1 + 1\n",
    "\n",
    "# Hyper-parameters\n",
    "num_epochs = 200\n",
    "num_hidden = 50\n",
    "# Get training and validation inputs\n",
    "num_layers = 1\n",
    "batch_size = 1\n",
    "initial_learning_rate = 1e-2\n",
    "momentum = 0.9"
   ]
  },
  {
   "cell_type": "code",
   "execution_count": 10,
   "metadata": {
    "slideshow": {
     "slide_type": "-"
    }
   },
   "outputs": [
    {
     "name": "stdout",
     "output_type": "stream",
     "text": [
      "random_shift = 904\n"
     ]
    }
   ],
   "source": [
    "# Get training and validation inputs\n",
    "# Validation input is just the training audio shifted randomly\n",
    "\n",
    "def process_audio(audio_file, do_random_shift=None):\n",
    "    \"\"\"Extracts the MFCC features from an audio file.\n",
    "    Args:\n",
    "        audio_file: file containing the input audio\n",
    "        do_random_shift: whether to randomly shift the audio\n",
    "                      (e.g. for generating test inputs)\n",
    "    Returns:\n",
    "        A tuple with (features, sequence length)\n",
    "    \"\"\"\n",
    "    sample_rate, audio = read(audio_file)\n",
    "\n",
    "    if do_random_shift:\n",
    "        random_shift = np.random.randint(low=1, high=1000)\n",
    "        print('random_shift =', random_shift)\n",
    "        truncated_audio = audio[random_shift:]\n",
    "        \n",
    "    features = mfcc(audio, sample_rate)\n",
    "    features = preprocessing.scale(features) # scale to (0, 1)\n",
    "\n",
    "    features = np.asarray(features[np.newaxis, :])\n",
    "    features_seq_len = [features.shape[1]]\n",
    "    return features, features_seq_len\n",
    "\n",
    "# audio_file = join('files', 'CTC', 'LDC93S1.wav')\n",
    "audio_file = join('files', 'CTC', '61-70968-0002.wav')\n",
    "\n",
    "train_input, train_seq_len = process_audio(audio_file)\n",
    "val_input, val_seq_len = process_audio(audio_file, do_random_shift=True)"
   ]
  },
  {
   "cell_type": "code",
   "execution_count": 11,
   "metadata": {
    "slideshow": {
     "slide_type": "-"
    }
   },
   "outputs": [],
   "source": [
    "def sparse_tuple_from(sequences, dtype=np.int32):\n",
    "    \"\"\"Create a sparse representation of sequences.\n",
    "    Args:\n",
    "        sequences: a list of lists of type dtype where each element is a sequence\n",
    "    Returns:\n",
    "        A tuple with (indices, values, shape)\n",
    "    \"\"\"\n",
    "    indices = []\n",
    "    values = []\n",
    "\n",
    "    for n, seq in enumerate(sequences):\n",
    "        indices.extend(zip([n]*len(seq), range(len(seq))))\n",
    "        values.extend(seq)\n",
    "\n",
    "    indices = np.asarray(indices, dtype=np.int64)\n",
    "    values = np.asarray(values, dtype=dtype)\n",
    "    shape = np.asarray([len(sequences), np.asarray(indices).max(0)[1]+1], dtype=np.int64)\n",
    "\n",
    "    return indices, values, shape\n",
    "\n",
    "def process_targets(text_file):\n",
    "    \"\"\"Extracts the CTC tokens from an input text file.\n",
    "    Args:\n",
    "        text_file: file containing the input text\n",
    "    Returns:\n",
    "        A nested tuple with (original text, (indices, CTC tokens, shape))\n",
    "    \"\"\"\n",
    "    with open(text_file, 'r') as f:\n",
    "        line = f.readlines()[-1] # take the last line\n",
    "\n",
    "        # Get only the words between [a-z], replace period for none\n",
    "        original = ' '.join(line.strip().lower().split(' ')).replace('.', '')\n",
    "        targets = original.replace(' ', '  ')\n",
    "        targets = targets.split(' ')\n",
    "\n",
    "    # Add blank label\n",
    "    targets = np.hstack([SPACE_TOKEN if x == '' else list(x) for x in targets])\n",
    "\n",
    "    # Transform char into index\n",
    "    targets = np.asarray([SPACE_INDEX if x == SPACE_TOKEN else ord(x) - FIRST_INDEX\n",
    "                          for x in targets])\n",
    "\n",
    "    # Creat sparse representation to feed into the graph\n",
    "    return original, sparse_tuple_from([targets])\n",
    "\n",
    "# Generate training and validation targets\n",
    "# target = join('files', 'CTC', 'LDC93S1.txt')\n",
    "target = join('files', 'CTC', '61-70968-0002.txt')\n",
    "train_original, train_targets = process_targets(target)\n",
    "val_original, val_targets = train_original, train_targets"
   ]
  },
  {
   "cell_type": "code",
   "execution_count": 12,
   "metadata": {
    "slideshow": {
     "slide_type": "-"
    }
   },
   "outputs": [],
   "source": [
    "graph = tf.Graph()\n",
    "with graph.as_default():\n",
    "    # e.g: log filter bank or MFCC features\n",
    "    # Has size [batch_size, max_stepsize, num_features], but the\n",
    "    # batch_size and max_stepsize can vary along each step\n",
    "    inputs = tf.placeholder(tf.float32, [None, None, num_features])\n",
    "\n",
    "    # Here we use sparse_placeholder that will generate a\n",
    "    # SparseTensor required by ctc_loss op.\n",
    "    targets = tf.sparse_placeholder(tf.int32)\n",
    "\n",
    "    # 1d array of size [batch_size]\n",
    "    seq_len = tf.placeholder(tf.int32, [None])\n",
    "\n",
    "    # Defining the cell\n",
    "    # Can be:\n",
    "    #   tf.nn.rnn_cell.RNNCell\n",
    "    #   tf.nn.rnn_cell.GRUCell \n",
    "    cells = []\n",
    "    for _ in range(num_layers):\n",
    "        cell = tf.contrib.rnn.LSTMCell(num_units)\n",
    "        cells.append(cell)\n",
    "    stack = tf.contrib.rnn.MultiRNNCell(cells)\n",
    "\n",
    "    # The second output is the last state and we will not use that\n",
    "    outputs, _ = tf.nn.dynamic_rnn(stack, inputs, seq_len, dtype=tf.float32)\n",
    "\n",
    "    shape = tf.shape(inputs)\n",
    "    batch_s, max_timesteps = shape[0], shape[1]\n",
    "\n",
    "    # Reshaping to apply the same weights over the timesteps\n",
    "    outputs = tf.reshape(outputs, [-1, num_hidden])\n",
    "\n",
    "    # Truncated normal with mean 0 and stdev=0.1\n",
    "    W = tf.Variable(tf.truncated_normal([num_hidden,\n",
    "                                         num_classes],\n",
    "                                        stddev=0.1))\n",
    "    # Zero initialization\n",
    "    b = tf.Variable(tf.constant(0., shape=[num_classes]))\n",
    "\n",
    "    # Doing the affine projection\n",
    "    logits = tf.matmul(outputs, W) + b\n",
    "\n",
    "    # Reshaping back to the original shape\n",
    "    logits = tf.reshape(logits, [batch_s, -1, num_classes])\n",
    "\n",
    "    # Time major\n",
    "    logits = tf.transpose(logits, (1, 0, 2))\n",
    "\n",
    "    loss = tf.nn.ctc_loss(targets, logits, seq_len)\n",
    "    cost = tf.reduce_mean(loss)\n",
    "\n",
    "    optimizer = tf.train.MomentumOptimizer(initial_learning_rate,\n",
    "                                           0.9).minimize(cost)\n",
    "\n",
    "    # Option 2: tf.nn.ctc_beam_search_decoder\n",
    "    # (it's slower but you'll get better results)\n",
    "    decoded, log_prob = tf.nn.ctc_greedy_decoder(logits, seq_len)\n",
    "\n",
    "    # Inaccuracy: label error rate\n",
    "    ler = tf.reduce_mean(tf.edit_distance(tf.cast(decoded[0], tf.int32),\n",
    "                                          targets))\n",
    "    \n",
    "    # TensorBoard summary operation\n",
    "    tf.summary.scalar('ctc_cost', cost)\n",
    "    tf.summary.scalar('label_error_rate', ler)\n",
    "    summary_op = tf.summary.merge_all()"
   ]
  },
  {
   "cell_type": "code",
   "execution_count": 13,
   "metadata": {
    "scrolled": true,
    "slideshow": {
     "slide_type": "-"
    }
   },
   "outputs": [
    {
     "name": "stdout",
     "output_type": "stream",
     "text": [
      "Epoch 1/200, train_cost = 1746.360, train_ler = 2.727, val_cost = 714.081, val_ler = 0.818, time = 0.241\n",
      "Epoch 2/200, train_cost = 714.081, train_ler = 0.818, val_cost = 392.723, val_ler = 0.879, time = 0.136\n",
      "Epoch 3/200, train_cost = 392.723, train_ler = 0.879, val_cost = 398.620, val_ler = 0.879, time = 0.138\n",
      "Epoch 4/200, train_cost = 398.620, train_ler = 0.879, val_cost = 286.591, val_ler = 0.879, time = 0.133\n",
      "Epoch 5/200, train_cost = 286.591, train_ler = 0.879, val_cost = 239.429, val_ler = 0.970, time = 0.131\n",
      "Epoch 6/200, train_cost = 239.429, train_ler = 0.970, val_cost = 116.924, val_ler = 0.909, time = 0.139\n",
      "Epoch 7/200, train_cost = 116.924, train_ler = 0.909, val_cost = 124.181, val_ler = 0.818, time = 0.170\n",
      "Epoch 8/200, train_cost = 124.181, train_ler = 0.818, val_cost = 134.381, val_ler = 0.879, time = 0.150\n",
      "Epoch 9/200, train_cost = 134.381, train_ler = 0.879, val_cost = 138.009, val_ler = 0.879, time = 0.164\n",
      "Epoch 10/200, train_cost = 138.009, train_ler = 0.879, val_cost = 125.717, val_ler = 0.879, time = 0.158\n",
      "Epoch 11/200, train_cost = 125.717, train_ler = 0.879, val_cost = 121.009, val_ler = 0.879, time = 0.182\n",
      "Epoch 12/200, train_cost = 121.009, train_ler = 0.879, val_cost = 101.153, val_ler = 0.848, time = 0.174\n",
      "Epoch 13/200, train_cost = 101.153, train_ler = 0.848, val_cost = 89.812, val_ler = 0.788, time = 0.166\n",
      "Epoch 14/200, train_cost = 89.812, train_ler = 0.788, val_cost = 82.040, val_ler = 0.758, time = 0.177\n",
      "Epoch 15/200, train_cost = 82.040, train_ler = 0.758, val_cost = 81.771, val_ler = 0.697, time = 0.200\n",
      "Epoch 16/200, train_cost = 81.771, train_ler = 0.697, val_cost = 81.063, val_ler = 0.667, time = 0.178\n",
      "Epoch 17/200, train_cost = 81.063, train_ler = 0.667, val_cost = 137.333, val_ler = 0.818, time = 0.181\n",
      "Epoch 18/200, train_cost = 137.333, train_ler = 0.818, val_cost = 116.412, val_ler = 0.727, time = 0.171\n",
      "Epoch 19/200, train_cost = 116.412, train_ler = 0.727, val_cost = 115.723, val_ler = 0.758, time = 0.165\n",
      "Epoch 20/200, train_cost = 115.723, train_ler = 0.758, val_cost = 120.224, val_ler = 0.788, time = 0.169\n",
      "Epoch 21/200, train_cost = 120.224, train_ler = 0.788, val_cost = 102.845, val_ler = 0.788, time = 0.206\n",
      "Epoch 22/200, train_cost = 102.845, train_ler = 0.788, val_cost = 102.198, val_ler = 0.788, time = 0.241\n",
      "Epoch 23/200, train_cost = 102.198, train_ler = 0.788, val_cost = 97.476, val_ler = 0.758, time = 0.198\n",
      "Epoch 24/200, train_cost = 97.476, train_ler = 0.758, val_cost = 99.514, val_ler = 0.788, time = 0.240\n",
      "Epoch 25/200, train_cost = 99.514, train_ler = 0.788, val_cost = 96.433, val_ler = 0.788, time = 0.204\n",
      "Epoch 26/200, train_cost = 96.433, train_ler = 0.788, val_cost = 83.052, val_ler = 0.818, time = 0.226\n",
      "Epoch 27/200, train_cost = 83.052, train_ler = 0.818, val_cost = 80.021, val_ler = 0.848, time = 0.222\n",
      "Epoch 28/200, train_cost = 80.021, train_ler = 0.848, val_cost = 77.310, val_ler = 0.879, time = 0.211\n",
      "Epoch 29/200, train_cost = 77.310, train_ler = 0.879, val_cost = 73.379, val_ler = 0.818, time = 0.228\n",
      "Epoch 30/200, train_cost = 73.379, train_ler = 0.818, val_cost = 69.652, val_ler = 0.697, time = 0.219\n",
      "Epoch 31/200, train_cost = 69.652, train_ler = 0.697, val_cost = 67.713, val_ler = 0.758, time = 0.220\n",
      "Epoch 32/200, train_cost = 67.713, train_ler = 0.758, val_cost = 66.805, val_ler = 0.667, time = 0.260\n",
      "Epoch 33/200, train_cost = 66.805, train_ler = 0.667, val_cost = 65.764, val_ler = 0.727, time = 0.230\n",
      "Epoch 34/200, train_cost = 65.764, train_ler = 0.727, val_cost = 64.477, val_ler = 0.727, time = 0.183\n",
      "Epoch 35/200, train_cost = 64.477, train_ler = 0.727, val_cost = 62.948, val_ler = 0.606, time = 0.145\n",
      "Epoch 36/200, train_cost = 62.948, train_ler = 0.606, val_cost = 61.520, val_ler = 0.515, time = 0.153\n",
      "Epoch 37/200, train_cost = 61.520, train_ler = 0.515, val_cost = 60.648, val_ler = 0.636, time = 0.184\n",
      "Epoch 38/200, train_cost = 60.648, train_ler = 0.636, val_cost = 59.780, val_ler = 0.576, time = 0.140\n",
      "Epoch 39/200, train_cost = 59.780, train_ler = 0.576, val_cost = 58.437, val_ler = 0.576, time = 0.144\n",
      "Epoch 40/200, train_cost = 58.437, train_ler = 0.576, val_cost = 57.011, val_ler = 0.606, time = 0.156\n",
      "Epoch 41/200, train_cost = 57.011, train_ler = 0.606, val_cost = 55.690, val_ler = 0.636, time = 0.141\n",
      "Epoch 42/200, train_cost = 55.690, train_ler = 0.636, val_cost = 54.354, val_ler = 0.636, time = 0.156\n",
      "Epoch 43/200, train_cost = 54.354, train_ler = 0.636, val_cost = 53.145, val_ler = 0.636, time = 0.133\n",
      "Epoch 44/200, train_cost = 53.145, train_ler = 0.636, val_cost = 52.124, val_ler = 0.606, time = 0.141\n",
      "Epoch 45/200, train_cost = 52.124, train_ler = 0.606, val_cost = 51.041, val_ler = 0.485, time = 0.156\n",
      "Epoch 46/200, train_cost = 51.041, train_ler = 0.485, val_cost = 49.804, val_ler = 0.394, time = 0.147\n",
      "Epoch 47/200, train_cost = 49.804, train_ler = 0.394, val_cost = 48.568, val_ler = 0.455, time = 0.156\n",
      "Epoch 48/200, train_cost = 48.568, train_ler = 0.455, val_cost = 47.534, val_ler = 0.485, time = 0.143\n",
      "Epoch 49/200, train_cost = 47.534, train_ler = 0.485, val_cost = 46.720, val_ler = 0.485, time = 0.143\n",
      "Epoch 50/200, train_cost = 46.720, train_ler = 0.485, val_cost = 45.929, val_ler = 0.485, time = 0.152\n",
      "Epoch 51/200, train_cost = 45.929, train_ler = 0.485, val_cost = 45.054, val_ler = 0.485, time = 0.163\n",
      "Epoch 52/200, train_cost = 45.054, train_ler = 0.485, val_cost = 44.200, val_ler = 0.485, time = 0.139\n",
      "Epoch 53/200, train_cost = 44.200, train_ler = 0.485, val_cost = 43.469, val_ler = 0.455, time = 0.166\n",
      "Epoch 54/200, train_cost = 43.469, train_ler = 0.455, val_cost = 42.796, val_ler = 0.424, time = 0.196\n",
      "Epoch 55/200, train_cost = 42.796, train_ler = 0.424, val_cost = 42.106, val_ler = 0.515, time = 0.159\n",
      "Epoch 56/200, train_cost = 42.106, train_ler = 0.515, val_cost = 41.447, val_ler = 0.455, time = 0.149\n",
      "Epoch 57/200, train_cost = 41.447, train_ler = 0.455, val_cost = 40.871, val_ler = 0.455, time = 0.156\n",
      "Epoch 58/200, train_cost = 40.871, train_ler = 0.455, val_cost = 40.332, val_ler = 0.455, time = 0.148\n",
      "Epoch 59/200, train_cost = 40.332, train_ler = 0.455, val_cost = 39.760, val_ler = 0.394, time = 0.178\n",
      "Epoch 60/200, train_cost = 39.760, train_ler = 0.394, val_cost = 39.151, val_ler = 0.394, time = 0.172\n",
      "Epoch 61/200, train_cost = 39.151, train_ler = 0.394, val_cost = 38.566, val_ler = 0.394, time = 0.159\n",
      "Epoch 62/200, train_cost = 38.566, train_ler = 0.394, val_cost = 38.055, val_ler = 0.394, time = 0.185\n",
      "Epoch 63/200, train_cost = 38.055, train_ler = 0.394, val_cost = 37.593, val_ler = 0.455, time = 0.156\n",
      "Epoch 64/200, train_cost = 37.593, train_ler = 0.455, val_cost = 37.113, val_ler = 0.455, time = 0.144\n",
      "Epoch 65/200, train_cost = 37.113, train_ler = 0.455, val_cost = 36.598, val_ler = 0.455, time = 0.156\n",
      "Epoch 66/200, train_cost = 36.598, train_ler = 0.455, val_cost = 36.098, val_ler = 0.424, time = 0.155\n",
      "Epoch 67/200, train_cost = 36.098, train_ler = 0.424, val_cost = 35.652, val_ler = 0.424, time = 0.177\n",
      "Epoch 68/200, train_cost = 35.652, train_ler = 0.424, val_cost = 35.232, val_ler = 0.364, time = 0.181\n",
      "Epoch 69/200, train_cost = 35.232, train_ler = 0.364, val_cost = 34.790, val_ler = 0.364, time = 0.273\n",
      "Epoch 70/200, train_cost = 34.790, train_ler = 0.364, val_cost = 34.322, val_ler = 0.364, time = 0.279\n",
      "Epoch 71/200, train_cost = 34.322, train_ler = 0.364, val_cost = 33.860, val_ler = 0.364, time = 0.238\n",
      "Epoch 72/200, train_cost = 33.860, train_ler = 0.364, val_cost = 33.423, val_ler = 0.364, time = 0.212\n",
      "Epoch 73/200, train_cost = 33.423, train_ler = 0.364, val_cost = 33.006, val_ler = 0.303, time = 0.221\n",
      "Epoch 74/200, train_cost = 33.006, train_ler = 0.303, val_cost = 32.598, val_ler = 0.303, time = 0.242\n",
      "Epoch 75/200, train_cost = 32.598, train_ler = 0.303, val_cost = 32.192, val_ler = 0.333, time = 0.238\n",
      "Epoch 76/200, train_cost = 32.192, train_ler = 0.333, val_cost = 31.793, val_ler = 0.303, time = 0.317\n",
      "Epoch 77/200, train_cost = 31.793, train_ler = 0.303, val_cost = 31.406, val_ler = 0.333, time = 0.237\n",
      "Epoch 78/200, train_cost = 31.406, train_ler = 0.333, val_cost = 31.029, val_ler = 0.303, time = 0.188\n",
      "Epoch 79/200, train_cost = 31.029, train_ler = 0.303, val_cost = 30.662, val_ler = 0.273, time = 0.208\n",
      "Epoch 80/200, train_cost = 30.662, train_ler = 0.273, val_cost = 30.302, val_ler = 0.182, time = 0.188\n"
     ]
    },
    {
     "name": "stdout",
     "output_type": "stream",
     "text": [
      "Epoch 81/200, train_cost = 30.302, train_ler = 0.182, val_cost = 29.946, val_ler = 0.212, time = 0.185\n",
      "Epoch 82/200, train_cost = 29.946, train_ler = 0.212, val_cost = 29.594, val_ler = 0.182, time = 0.243\n",
      "Epoch 83/200, train_cost = 29.594, train_ler = 0.182, val_cost = 29.245, val_ler = 0.242, time = 0.219\n",
      "Epoch 84/200, train_cost = 29.245, train_ler = 0.242, val_cost = 28.902, val_ler = 0.242, time = 0.174\n",
      "Epoch 85/200, train_cost = 28.902, train_ler = 0.242, val_cost = 28.563, val_ler = 0.242, time = 0.141\n",
      "Epoch 86/200, train_cost = 28.563, train_ler = 0.242, val_cost = 28.226, val_ler = 0.242, time = 0.172\n",
      "Epoch 87/200, train_cost = 28.226, train_ler = 0.242, val_cost = 27.890, val_ler = 0.242, time = 0.148\n",
      "Epoch 88/200, train_cost = 27.890, train_ler = 0.242, val_cost = 27.557, val_ler = 0.182, time = 0.149\n",
      "Epoch 89/200, train_cost = 27.557, train_ler = 0.182, val_cost = 27.226, val_ler = 0.182, time = 0.156\n",
      "Epoch 90/200, train_cost = 27.226, train_ler = 0.182, val_cost = 26.897, val_ler = 0.182, time = 0.215\n",
      "Epoch 91/200, train_cost = 26.897, train_ler = 0.182, val_cost = 26.568, val_ler = 0.182, time = 0.209\n",
      "Epoch 92/200, train_cost = 26.568, train_ler = 0.182, val_cost = 26.241, val_ler = 0.182, time = 0.156\n",
      "Epoch 93/200, train_cost = 26.241, train_ler = 0.182, val_cost = 25.917, val_ler = 0.182, time = 0.139\n",
      "Epoch 94/200, train_cost = 25.917, train_ler = 0.182, val_cost = 25.593, val_ler = 0.182, time = 0.126\n",
      "Epoch 95/200, train_cost = 25.593, train_ler = 0.182, val_cost = 25.267, val_ler = 0.182, time = 0.172\n",
      "Epoch 96/200, train_cost = 25.267, train_ler = 0.182, val_cost = 24.939, val_ler = 0.182, time = 0.141\n",
      "Epoch 97/200, train_cost = 24.939, train_ler = 0.182, val_cost = 24.611, val_ler = 0.182, time = 0.157\n",
      "Epoch 98/200, train_cost = 24.611, train_ler = 0.182, val_cost = 24.282, val_ler = 0.182, time = 0.156\n",
      "Epoch 99/200, train_cost = 24.282, train_ler = 0.182, val_cost = 23.952, val_ler = 0.182, time = 0.141\n",
      "Epoch 100/200, train_cost = 23.952, train_ler = 0.182, val_cost = 23.620, val_ler = 0.152, time = 0.141\n",
      "Epoch 101/200, train_cost = 23.620, train_ler = 0.152, val_cost = 23.287, val_ler = 0.152, time = 0.141\n",
      "Epoch 102/200, train_cost = 23.287, train_ler = 0.152, val_cost = 22.954, val_ler = 0.152, time = 0.141\n",
      "Epoch 103/200, train_cost = 22.954, train_ler = 0.152, val_cost = 22.620, val_ler = 0.152, time = 0.172\n",
      "Epoch 104/200, train_cost = 22.620, train_ler = 0.152, val_cost = 22.286, val_ler = 0.152, time = 0.174\n",
      "Epoch 105/200, train_cost = 22.286, train_ler = 0.152, val_cost = 21.951, val_ler = 0.121, time = 0.141\n",
      "Epoch 106/200, train_cost = 21.951, train_ler = 0.121, val_cost = 21.615, val_ler = 0.121, time = 0.141\n",
      "Epoch 107/200, train_cost = 21.615, train_ler = 0.121, val_cost = 21.279, val_ler = 0.121, time = 0.142\n",
      "Epoch 108/200, train_cost = 21.279, train_ler = 0.121, val_cost = 20.942, val_ler = 0.091, time = 0.203\n",
      "Epoch 109/200, train_cost = 20.942, train_ler = 0.091, val_cost = 20.605, val_ler = 0.091, time = 0.197\n",
      "Epoch 110/200, train_cost = 20.605, train_ler = 0.091, val_cost = 20.267, val_ler = 0.091, time = 0.228\n",
      "Epoch 111/200, train_cost = 20.267, train_ler = 0.091, val_cost = 19.929, val_ler = 0.091, time = 0.246\n",
      "Epoch 112/200, train_cost = 19.929, train_ler = 0.091, val_cost = 19.593, val_ler = 0.091, time = 0.232\n",
      "Epoch 113/200, train_cost = 19.593, train_ler = 0.091, val_cost = 19.260, val_ler = 0.091, time = 0.203\n",
      "Epoch 114/200, train_cost = 19.260, train_ler = 0.091, val_cost = 18.930, val_ler = 0.091, time = 0.221\n",
      "Epoch 115/200, train_cost = 18.930, train_ler = 0.091, val_cost = 18.603, val_ler = 0.091, time = 0.274\n",
      "Epoch 116/200, train_cost = 18.603, train_ler = 0.091, val_cost = 18.280, val_ler = 0.091, time = 0.221\n",
      "Epoch 117/200, train_cost = 18.280, train_ler = 0.091, val_cost = 17.958, val_ler = 0.091, time = 0.233\n",
      "Epoch 118/200, train_cost = 17.958, train_ler = 0.091, val_cost = 17.637, val_ler = 0.091, time = 0.314\n",
      "Epoch 119/200, train_cost = 17.637, train_ler = 0.091, val_cost = 17.316, val_ler = 0.091, time = 0.227\n",
      "Epoch 120/200, train_cost = 17.316, train_ler = 0.091, val_cost = 16.996, val_ler = 0.091, time = 0.166\n",
      "Epoch 121/200, train_cost = 16.996, train_ler = 0.091, val_cost = 16.676, val_ler = 0.091, time = 0.173\n",
      "Epoch 122/200, train_cost = 16.676, train_ler = 0.091, val_cost = 16.357, val_ler = 0.061, time = 0.172\n",
      "Epoch 123/200, train_cost = 16.357, train_ler = 0.061, val_cost = 16.039, val_ler = 0.061, time = 0.172\n",
      "Epoch 124/200, train_cost = 16.039, train_ler = 0.061, val_cost = 15.723, val_ler = 0.061, time = 0.173\n",
      "Epoch 125/200, train_cost = 15.723, train_ler = 0.061, val_cost = 15.407, val_ler = 0.061, time = 0.172\n",
      "Epoch 126/200, train_cost = 15.407, train_ler = 0.061, val_cost = 15.092, val_ler = 0.030, time = 0.188\n",
      "Epoch 127/200, train_cost = 15.092, train_ler = 0.030, val_cost = 14.778, val_ler = 0.030, time = 0.235\n",
      "Epoch 128/200, train_cost = 14.778, train_ler = 0.030, val_cost = 14.464, val_ler = 0.030, time = 0.132\n",
      "Epoch 129/200, train_cost = 14.464, train_ler = 0.030, val_cost = 14.153, val_ler = 0.030, time = 0.141\n",
      "Epoch 130/200, train_cost = 14.153, train_ler = 0.030, val_cost = 13.844, val_ler = 0.030, time = 0.160\n",
      "Epoch 131/200, train_cost = 13.844, train_ler = 0.030, val_cost = 13.537, val_ler = 0.030, time = 0.182\n",
      "Epoch 132/200, train_cost = 13.537, train_ler = 0.030, val_cost = 13.234, val_ler = 0.030, time = 0.147\n",
      "Epoch 133/200, train_cost = 13.234, train_ler = 0.030, val_cost = 12.934, val_ler = 0.030, time = 0.129\n",
      "Epoch 134/200, train_cost = 12.934, train_ler = 0.030, val_cost = 12.637, val_ler = 0.030, time = 0.141\n",
      "Epoch 135/200, train_cost = 12.637, train_ler = 0.030, val_cost = 12.340, val_ler = 0.030, time = 0.125\n",
      "Epoch 136/200, train_cost = 12.340, train_ler = 0.030, val_cost = 12.042, val_ler = 0.030, time = 0.141\n",
      "Epoch 137/200, train_cost = 12.042, train_ler = 0.030, val_cost = 11.744, val_ler = 0.030, time = 0.142\n",
      "Epoch 138/200, train_cost = 11.744, train_ler = 0.030, val_cost = 11.445, val_ler = 0.030, time = 0.141\n",
      "Epoch 139/200, train_cost = 11.445, train_ler = 0.030, val_cost = 11.149, val_ler = 0.030, time = 0.141\n",
      "Epoch 140/200, train_cost = 11.149, train_ler = 0.030, val_cost = 10.859, val_ler = 0.030, time = 0.141\n",
      "Epoch 141/200, train_cost = 10.859, train_ler = 0.030, val_cost = 10.579, val_ler = 0.030, time = 0.156\n",
      "Epoch 142/200, train_cost = 10.579, train_ler = 0.030, val_cost = 10.309, val_ler = 0.030, time = 0.156\n",
      "Epoch 143/200, train_cost = 10.309, train_ler = 0.030, val_cost = 10.050, val_ler = 0.030, time = 0.163\n",
      "Epoch 144/200, train_cost = 10.050, train_ler = 0.030, val_cost = 9.801, val_ler = 0.030, time = 0.189\n",
      "Epoch 145/200, train_cost = 9.801, train_ler = 0.030, val_cost = 9.559, val_ler = 0.030, time = 0.209\n",
      "Epoch 146/200, train_cost = 9.559, train_ler = 0.030, val_cost = 9.324, val_ler = 0.030, time = 0.175\n",
      "Epoch 147/200, train_cost = 9.324, train_ler = 0.030, val_cost = 9.096, val_ler = 0.030, time = 0.188\n",
      "Epoch 148/200, train_cost = 9.096, train_ler = 0.030, val_cost = 8.876, val_ler = 0.030, time = 0.194\n",
      "Epoch 149/200, train_cost = 8.876, train_ler = 0.030, val_cost = 8.663, val_ler = 0.030, time = 0.178\n",
      "Epoch 150/200, train_cost = 8.663, train_ler = 0.030, val_cost = 8.455, val_ler = 0.030, time = 0.200\n",
      "Epoch 151/200, train_cost = 8.455, train_ler = 0.030, val_cost = 8.251, val_ler = 0.030, time = 0.199\n",
      "Epoch 152/200, train_cost = 8.251, train_ler = 0.030, val_cost = 8.053, val_ler = 0.030, time = 0.202\n",
      "Epoch 153/200, train_cost = 8.053, train_ler = 0.030, val_cost = 7.861, val_ler = 0.000, time = 0.234\n",
      "Epoch 154/200, train_cost = 7.861, train_ler = 0.000, val_cost = 7.673, val_ler = 0.000, time = 0.229\n",
      "Epoch 155/200, train_cost = 7.673, train_ler = 0.000, val_cost = 7.489, val_ler = 0.000, time = 0.223\n",
      "Epoch 156/200, train_cost = 7.489, train_ler = 0.000, val_cost = 7.310, val_ler = 0.000, time = 0.201\n",
      "Epoch 157/200, train_cost = 7.310, train_ler = 0.000, val_cost = 7.136, val_ler = 0.000, time = 0.209\n",
      "Epoch 158/200, train_cost = 7.136, train_ler = 0.000, val_cost = 6.966, val_ler = 0.000, time = 0.184\n",
      "Epoch 159/200, train_cost = 6.966, train_ler = 0.000, val_cost = 6.801, val_ler = 0.000, time = 0.200\n",
      "Epoch 160/200, train_cost = 6.801, train_ler = 0.000, val_cost = 6.640, val_ler = 0.000, time = 0.215\n"
     ]
    },
    {
     "name": "stdout",
     "output_type": "stream",
     "text": [
      "Epoch 161/200, train_cost = 6.640, train_ler = 0.000, val_cost = 6.484, val_ler = 0.000, time = 0.252\n",
      "Epoch 162/200, train_cost = 6.484, train_ler = 0.000, val_cost = 6.333, val_ler = 0.000, time = 0.232\n",
      "Epoch 163/200, train_cost = 6.333, train_ler = 0.000, val_cost = 6.187, val_ler = 0.000, time = 0.243\n",
      "Epoch 164/200, train_cost = 6.187, train_ler = 0.000, val_cost = 6.044, val_ler = 0.000, time = 0.266\n",
      "Epoch 165/200, train_cost = 6.044, train_ler = 0.000, val_cost = 5.907, val_ler = 0.000, time = 0.223\n",
      "Epoch 166/200, train_cost = 5.907, train_ler = 0.000, val_cost = 5.773, val_ler = 0.000, time = 0.229\n",
      "Epoch 167/200, train_cost = 5.773, train_ler = 0.000, val_cost = 5.642, val_ler = 0.000, time = 0.190\n",
      "Epoch 168/200, train_cost = 5.642, train_ler = 0.000, val_cost = 5.516, val_ler = 0.000, time = 0.138\n",
      "Epoch 169/200, train_cost = 5.516, train_ler = 0.000, val_cost = 5.393, val_ler = 0.000, time = 0.141\n",
      "Epoch 170/200, train_cost = 5.393, train_ler = 0.000, val_cost = 5.273, val_ler = 0.000, time = 0.166\n",
      "Epoch 171/200, train_cost = 5.273, train_ler = 0.000, val_cost = 5.157, val_ler = 0.000, time = 0.187\n",
      "Epoch 172/200, train_cost = 5.157, train_ler = 0.000, val_cost = 5.044, val_ler = 0.000, time = 0.172\n",
      "Epoch 173/200, train_cost = 5.044, train_ler = 0.000, val_cost = 4.934, val_ler = 0.000, time = 0.161\n",
      "Epoch 174/200, train_cost = 4.934, train_ler = 0.000, val_cost = 4.826, val_ler = 0.000, time = 0.168\n",
      "Epoch 175/200, train_cost = 4.826, train_ler = 0.000, val_cost = 4.722, val_ler = 0.000, time = 0.130\n",
      "Epoch 176/200, train_cost = 4.722, train_ler = 0.000, val_cost = 4.621, val_ler = 0.000, time = 0.141\n",
      "Epoch 177/200, train_cost = 4.621, train_ler = 0.000, val_cost = 4.522, val_ler = 0.000, time = 0.125\n",
      "Epoch 178/200, train_cost = 4.522, train_ler = 0.000, val_cost = 4.426, val_ler = 0.000, time = 0.142\n",
      "Epoch 179/200, train_cost = 4.426, train_ler = 0.000, val_cost = 4.333, val_ler = 0.000, time = 0.134\n",
      "Epoch 180/200, train_cost = 4.333, train_ler = 0.000, val_cost = 4.242, val_ler = 0.000, time = 0.141\n",
      "Epoch 181/200, train_cost = 4.242, train_ler = 0.000, val_cost = 4.153, val_ler = 0.000, time = 0.147\n",
      "Epoch 182/200, train_cost = 4.153, train_ler = 0.000, val_cost = 4.067, val_ler = 0.000, time = 0.130\n",
      "Epoch 183/200, train_cost = 4.067, train_ler = 0.000, val_cost = 3.983, val_ler = 0.000, time = 0.148\n",
      "Epoch 184/200, train_cost = 3.983, train_ler = 0.000, val_cost = 3.901, val_ler = 0.000, time = 0.141\n",
      "Epoch 185/200, train_cost = 3.901, train_ler = 0.000, val_cost = 3.821, val_ler = 0.000, time = 0.130\n",
      "Epoch 186/200, train_cost = 3.821, train_ler = 0.000, val_cost = 3.744, val_ler = 0.000, time = 0.150\n",
      "Epoch 187/200, train_cost = 3.744, train_ler = 0.000, val_cost = 3.668, val_ler = 0.000, time = 0.139\n",
      "Epoch 188/200, train_cost = 3.668, train_ler = 0.000, val_cost = 3.594, val_ler = 0.000, time = 0.135\n",
      "Epoch 189/200, train_cost = 3.594, train_ler = 0.000, val_cost = 3.522, val_ler = 0.000, time = 0.137\n",
      "Epoch 190/200, train_cost = 3.522, train_ler = 0.000, val_cost = 3.452, val_ler = 0.000, time = 0.135\n",
      "Epoch 191/200, train_cost = 3.452, train_ler = 0.000, val_cost = 3.384, val_ler = 0.000, time = 0.125\n",
      "Epoch 192/200, train_cost = 3.384, train_ler = 0.000, val_cost = 3.318, val_ler = 0.000, time = 0.153\n",
      "Epoch 193/200, train_cost = 3.318, train_ler = 0.000, val_cost = 3.253, val_ler = 0.000, time = 0.146\n",
      "Epoch 194/200, train_cost = 3.253, train_ler = 0.000, val_cost = 3.190, val_ler = 0.000, time = 0.135\n",
      "Epoch 195/200, train_cost = 3.190, train_ler = 0.000, val_cost = 3.129, val_ler = 0.000, time = 0.156\n",
      "Epoch 196/200, train_cost = 3.129, train_ler = 0.000, val_cost = 3.070, val_ler = 0.000, time = 0.206\n",
      "Epoch 197/200, train_cost = 3.070, train_ler = 0.000, val_cost = 3.012, val_ler = 0.000, time = 0.176\n",
      "Epoch 198/200, train_cost = 3.012, train_ler = 0.000, val_cost = 2.956, val_ler = 0.000, time = 0.178\n",
      "Epoch 199/200, train_cost = 2.956, train_ler = 0.000, val_cost = 2.901, val_ler = 0.000, time = 0.187\n",
      "Epoch 200/200, train_cost = 2.901, train_ler = 0.000, val_cost = 2.848, val_ler = 0.000, time = 0.205\n",
      "Original:\n",
      "a golden fortune and a happy life\n",
      "Decoded:\n",
      "a golden fortune and a happy life\n"
     ]
    }
   ],
   "source": [
    "with tf.Session(graph=graph) as session:\n",
    "    tf.global_variables_initializer().run()\n",
    "\n",
    "    log_index = int(time.time())\n",
    "    train_summary_writer = tf.summary.FileWriter('./logs/ctc/{}/train'.format(log_index), session.graph)\n",
    "    val_summary_writer = tf.summary.FileWriter('./logs/ctc/{}/val'.format(log_index), session.graph)\n",
    "\n",
    "    # Repeat for num_epochs\n",
    "    for curr_epoch in range(num_epochs):\n",
    "        start = time.time()\n",
    "\n",
    "        feed = {inputs: train_input,\n",
    "                targets: train_targets,\n",
    "                seq_len: train_seq_len}\n",
    "\n",
    "        train_cost, train_ler, _, summary = session.run([cost, ler, optimizer, summary_op], feed_dict=feed)\n",
    "        train_summary_writer.add_summary(summary, curr_epoch)\n",
    "\n",
    "        val_feed = {inputs: val_input,\n",
    "                    targets: val_targets,\n",
    "                    seq_len: val_seq_len}\n",
    "\n",
    "        val_cost, val_ler, val_summary = session.run([cost, ler, summary_op], feed_dict=val_feed)\n",
    "        val_summary_writer.add_summary(val_summary, curr_epoch)\n",
    "        \n",
    "        log = \"Epoch {}/{}, train_cost = {:.3f}, train_ler = {:.3f}, val_cost = {:.3f}, val_ler = {:.3f}, time = {:.3f}\"\n",
    "        print(log.format(curr_epoch+1, num_epochs, train_cost, train_ler,\n",
    "                         val_cost, val_ler, time.time() - start))\n",
    "    # Decoding\n",
    "    d = session.run(decoded[0], feed_dict=val_feed)\n",
    "    str_decoded = ''.join([chr(x) for x in np.asarray(d[1]) + FIRST_INDEX])\n",
    "\n",
    "    # Replacing blank label to none\n",
    "    str_decoded = str_decoded.replace(chr(ord('z') + 1), '')\n",
    "\n",
    "    # Replacing space label to space\n",
    "    str_decoded = str_decoded.replace(chr(ord('a') - 1), ' ')\n",
    "\n",
    "    print('Original:\\n%s' % val_original)\n",
    "    print('Decoded:\\n%s' % str_decoded)"
   ]
  },
  {
   "cell_type": "markdown",
   "metadata": {
    "slideshow": {
     "slide_type": "slide"
    }
   },
   "source": [
    "## Deep Speech\n",
    "\n",
    "- Deep Speech: https://arxiv.org/pdf/1412.5567.pdf\n",
    "- Deep Speech 2: https://arxiv.org/pdf/1512.02595.pdf"
   ]
  },
  {
   "cell_type": "markdown",
   "metadata": {
    "slideshow": {
     "slide_type": "slide"
    }
   },
   "source": [
    "## To be continued..."
   ]
  },
  {
   "cell_type": "code",
   "execution_count": null,
   "metadata": {},
   "outputs": [],
   "source": []
  }
 ],
 "metadata": {
  "celltoolbar": "Slideshow",
  "kernelspec": {
   "display_name": "Python 3",
   "language": "python",
   "name": "python3"
  },
  "language_info": {
   "codemirror_mode": {
    "name": "ipython",
    "version": 3
   },
   "file_extension": ".py",
   "mimetype": "text/x-python",
   "name": "python",
   "nbconvert_exporter": "python",
   "pygments_lexer": "ipython3",
   "version": "3.6.4"
  },
  "livereveal": {
   "autolaunch": true,
   "overlay": "<div class='logo'><img src='assets/Stackup_Logo_Small.png' width='90%'/></div>"
  }
 },
 "nbformat": 4,
 "nbformat_minor": 2
}
