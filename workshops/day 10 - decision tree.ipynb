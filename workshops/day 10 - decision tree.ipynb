{
 "cells": [
  {
   "cell_type": "code",
   "execution_count": null,
   "metadata": {},
   "outputs": [],
   "source": [
    "# Demonstration: IRIS dataset\n",
    "# - fit decision tree classifier\n",
    "# - inspect decision tree\n",
    "\n",
    "# - pros and cons\n",
    "# - tuning the decision tree\n",
    "\n",
    "# Exercise: MNIST dataset"
   ]
  },
  {
   "cell_type": "code",
   "execution_count": 15,
   "metadata": {},
   "outputs": [],
   "source": [
    "from sklearn.datasets import load_iris\n",
    "\n",
    "iris = load_iris()\n",
    "\n",
    "X = iris.data\n",
    "y = iris.target"
   ]
  },
  {
   "cell_type": "code",
   "execution_count": 17,
   "metadata": {},
   "outputs": [],
   "source": [
    "from sklearn.model_selection import train_test_split\n",
    "\n",
    "X_train, X_test, y_train, y_test = train_test_split(X, y, random_state=42)"
   ]
  },
  {
   "cell_type": "code",
   "execution_count": 41,
   "metadata": {},
   "outputs": [
    {
     "data": {
      "text/plain": [
       "(112, 4)"
      ]
     },
     "execution_count": 41,
     "metadata": {},
     "output_type": "execute_result"
    }
   ],
   "source": [
    "X_train.shape"
   ]
  },
  {
   "cell_type": "code",
   "execution_count": 55,
   "metadata": {},
   "outputs": [
    {
     "data": {
      "text/plain": [
       "['sepal length (cm)',\n",
       " 'sepal width (cm)',\n",
       " 'petal length (cm)',\n",
       " 'petal width (cm)']"
      ]
     },
     "execution_count": 55,
     "metadata": {},
     "output_type": "execute_result"
    }
   ],
   "source": [
    "iris.feature_names"
   ]
  },
  {
   "cell_type": "code",
   "execution_count": 62,
   "metadata": {},
   "outputs": [
    {
     "data": {
      "text/plain": [
       "array([0.2, 0.1, 1.9, 1.6, 1.5, 0.4, 0.2, 1. , 1.5, 1.8, 1.4, 2.5, 1.3,\n",
       "       2.1, 1.5, 0.2, 2. , 1. , 0.2, 0.3, 0.4, 1. , 1.8, 0.2, 0.2, 0.5,\n",
       "       1.3, 0.2, 1.2, 2.2, 0.2, 1.3, 2. , 0.2, 1.8, 1.9, 1. , 1.5, 2.3,\n",
       "       1.3, 0.4, 1. , 1.9, 0.2, 0.2, 1.1, 1.7, 0.1, 2.4, 0.2, 0.6, 1.8,\n",
       "       1.1, 2.3, 1.6, 1.4, 2.3, 1.3, 0.2, 0.1, 1.5, 1.8, 0.2, 0.3, 0.2,\n",
       "       1.5, 2.4, 0.3, 2.1, 2.5, 0.2, 1.4, 1.5, 1.8, 1.4, 2.3, 0.2, 2.1,\n",
       "       1.5, 2. , 1. , 1.4, 1.4, 0.3, 1.3, 1.2, 0.2, 1.3, 1.8, 2.1, 0.4,\n",
       "       1. , 2.5, 1.6, 0.1, 2.4, 0.2, 1.5, 1.9, 1.8, 1.3, 1.8, 1.3, 1.3,\n",
       "       2. , 1.8, 0.2, 1.3, 1.7, 0.2, 1.2, 2.1])"
      ]
     },
     "execution_count": 62,
     "metadata": {},
     "output_type": "execute_result"
    }
   ],
   "source": [
    "import numpy as np\n",
    "\n",
    "X_train[:, 3]"
   ]
  },
  {
   "cell_type": "code",
   "execution_count": 75,
   "metadata": {},
   "outputs": [
    {
     "data": {
      "text/plain": [
       "array([0.1, 0.1, 0.1, 0.1, 0.2, 0.2, 0.2, 0.2, 0.2, 0.2, 0.2, 0.2, 0.2,\n",
       "       0.2, 0.2, 0.2, 0.2, 0.2, 0.2, 0.2, 0.2, 0.2, 0.2, 0.2, 0.2, 0.3,\n",
       "       0.3, 0.3, 0.3, 0.4, 0.4, 0.4, 0.4, 0.5, 0.6, 1. , 1. , 1. , 1. ,\n",
       "       1. , 1. , 1. , 1.1, 1.1, 1.2, 1.2, 1.2, 1.3, 1.3, 1.3, 1.3, 1.3,\n",
       "       1.3, 1.3, 1.3, 1.3, 1.3, 1.3, 1.4, 1.4, 1.4, 1.4, 1.4, 1.4, 1.5,\n",
       "       1.5, 1.5, 1.5, 1.5, 1.5, 1.5, 1.5, 1.5, 1.6, 1.6, 1.6, 1.7, 1.7,\n",
       "       1.8, 1.8, 1.8, 1.8, 1.8, 1.8, 1.8, 1.8, 1.8, 1.8, 1.9, 1.9, 1.9,\n",
       "       1.9, 2. , 2. , 2. , 2. , 2.1, 2.1, 2.1, 2.1, 2.1, 2.2, 2.3, 2.3,\n",
       "       2.3, 2.3, 2.4, 2.4, 2.4, 2.5, 2.5, 2.5])"
      ]
     },
     "execution_count": 75,
     "metadata": {},
     "output_type": "execute_result"
    }
   ],
   "source": [
    "np.sort(X_train[:, 3])"
   ]
  },
  {
   "cell_type": "code",
   "execution_count": 42,
   "metadata": {},
   "outputs": [
    {
     "data": {
      "text/plain": [
       "(38, 4)"
      ]
     },
     "execution_count": 42,
     "metadata": {},
     "output_type": "execute_result"
    }
   ],
   "source": [
    "X_test.shape"
   ]
  },
  {
   "cell_type": "code",
   "execution_count": 64,
   "metadata": {
    "scrolled": false
   },
   "outputs": [
    {
     "data": {
      "text/plain": [
       "0.9736842105263158"
      ]
     },
     "execution_count": 64,
     "metadata": {},
     "output_type": "execute_result"
    }
   ],
   "source": [
    "# - fit decision tree classifier\n",
    "from sklearn.tree import DecisionTreeClassifier\n",
    "\n",
    "# 4: perfect score: investigate?\n",
    "dtc_entropy = DecisionTreeClassifier(criterion='entropy', max_depth=5)\n",
    "\n",
    "dtc_entropy.fit(X_train, y_train)\n",
    "dtc_entropy.score(X_test, y_test) # mean accuracy"
   ]
  },
  {
   "cell_type": "code",
   "execution_count": 28,
   "metadata": {},
   "outputs": [
    {
     "name": "stdout",
     "output_type": "stream",
     "text": [
      "             precision    recall  f1-score   support\n",
      "\n",
      "          0       1.00      1.00      1.00        15\n",
      "          1       0.92      1.00      0.96        11\n",
      "          2       1.00      0.92      0.96        12\n",
      "\n",
      "avg / total       0.98      0.97      0.97        38\n",
      "\n",
      "[[15  0  0]\n",
      " [ 0 11  0]\n",
      " [ 0  1 11]]\n"
     ]
    }
   ],
   "source": [
    "from sklearn.metrics import classification_report, confusion_matrix\n",
    "\n",
    "pred_entropy = dtc_entropy.predict(X_test)\n",
    "\n",
    "print(classification_report(y_test, pred_entropy))\n",
    "print(confusion_matrix(y_test, pred_entropy))"
   ]
  },
  {
   "cell_type": "code",
   "execution_count": null,
   "metadata": {},
   "outputs": [],
   "source": []
  },
  {
   "cell_type": "code",
   "execution_count": 52,
   "metadata": {},
   "outputs": [
    {
     "data": {
      "text/plain": [
       "'iris_entropy.dot.pdf'"
      ]
     },
     "execution_count": 52,
     "metadata": {},
     "output_type": "execute_result"
    }
   ],
   "source": [
    "# - inspect decision tree\n",
    "# conda install python-graphviz\n",
    "\n",
    "from sklearn.tree import export_graphviz\n",
    "import graphviz\n",
    "\n",
    "filename = 'iris_entropy.dot'\n",
    "export_graphviz(dtc_entropy,\n",
    "                out_file=filename,\n",
    "                feature_names=iris.feature_names,\n",
    "                class_names=iris.target_names, filled=True,\n",
    "                rounded=True)\n",
    "\n",
    "source = graphviz.Source.from_file(filename)\n",
    "source.render(view=True)"
   ]
  },
  {
   "cell_type": "code",
   "execution_count": 72,
   "metadata": {},
   "outputs": [
    {
     "name": "stdout",
     "output_type": "stream",
     "text": [
      "1.0\n",
      "1.0\n"
     ]
    },
    {
     "data": {
      "text/plain": [
       "'iris_gini_depth5.dot.pdf'"
      ]
     },
     "execution_count": 72,
     "metadata": {},
     "output_type": "execute_result"
    }
   ],
   "source": [
    "dtc_gini = DecisionTreeClassifier(criterion='gini', max_depth=4,\n",
    "                                  random_state=24)\n",
    "\n",
    "dtc_gini.fit(X_train, y_train)\n",
    "print(dtc_gini.score(X_test, y_test)) # mean accuracy\n",
    "\n",
    "filename = 'iris_gini_depth4.dot'\n",
    "export_graphviz(dtc_gini,\n",
    "                out_file=filename,\n",
    "                feature_names=iris.feature_names,\n",
    "                class_names=iris.target_names, filled=True,\n",
    "                rounded=True)\n",
    "\n",
    "source = graphviz.Source.from_file(filename)\n",
    "source.render(view=True)\n",
    "\n",
    "dtc_gini = DecisionTreeClassifier(criterion='gini', max_depth=5,\n",
    "                                  random_state=24)\n",
    "\n",
    "dtc_gini.fit(X_train, y_train)\n",
    "print(dtc_gini.score(X_test, y_test)) # mean accuracy\n",
    "\n",
    "filename = 'iris_gini_depth5.dot'\n",
    "export_graphviz(dtc_gini,\n",
    "                out_file=filename,\n",
    "                feature_names=iris.feature_names,\n",
    "                class_names=iris.target_names, filled=True,\n",
    "                rounded=True)\n",
    "\n",
    "source = graphviz.Source.from_file(filename)\n",
    "source.render(view=True)"
   ]
  },
  {
   "cell_type": "code",
   "execution_count": 68,
   "metadata": {},
   "outputs": [
    {
     "name": "stdout",
     "output_type": "stream",
     "text": [
      "1.0\n"
     ]
    }
   ],
   "source": [
    "print(dtc_gini.score(X_test, y_test)) # mean accurac"
   ]
  },
  {
   "cell_type": "code",
   "execution_count": 73,
   "metadata": {},
   "outputs": [
    {
     "data": {
      "text/plain": [
       "array([0.        , 0.03793136, 0.32291776, 0.63915088])"
      ]
     },
     "execution_count": 73,
     "metadata": {},
     "output_type": "execute_result"
    }
   ],
   "source": [
    "dtc_entropy.feature_importances_"
   ]
  },
  {
   "cell_type": "code",
   "execution_count": 74,
   "metadata": {},
   "outputs": [
    {
     "name": "stdout",
     "output_type": "stream",
     "text": [
      "sepal length (cm) 0.0\n",
      "sepal width (cm) 0.037931356617116406\n",
      "petal length (cm) 0.3229177588472077\n",
      "petal width (cm) 0.639150884535676\n"
     ]
    }
   ],
   "source": [
    "# Feature importance\n",
    "for i in range(len(iris.feature_names)):\n",
    "    print(iris.feature_names[i], dtc_entropy.feature_importances_[i])"
   ]
  },
  {
   "cell_type": "code",
   "execution_count": null,
   "metadata": {},
   "outputs": [],
   "source": []
  },
  {
   "cell_type": "code",
   "execution_count": null,
   "metadata": {},
   "outputs": [],
   "source": []
  },
  {
   "cell_type": "code",
   "execution_count": null,
   "metadata": {},
   "outputs": [],
   "source": [
    "# overfitting\n",
    "#\n",
    "# Tree-specific:\n",
    "#  max depth\n",
    "#  max leaf nodes\n",
    "#  min_samples_leaf\n",
    "#\n",
    "# Machine learning:\n",
    "#  Cross validation\n",
    "#  Forests\n",
    "#"
   ]
  },
  {
   "cell_type": "code",
   "execution_count": 79,
   "metadata": {},
   "outputs": [
    {
     "name": "stdout",
     "output_type": "stream",
     "text": [
      "Fitting 3 folds for each of 18 candidates, totalling 54 fits\n",
      "best score 1.0\n",
      "best parameters {'max_depth': 5, 'max_leaf_nodes': 10, 'min_samples_leaf': 5}\n"
     ]
    },
    {
     "name": "stderr",
     "output_type": "stream",
     "text": [
      "[Parallel(n_jobs=1)]: Done  54 out of  54 | elapsed:    0.0s finished\n"
     ]
    }
   ],
   "source": [
    "# Tune decision tree using GridSearchCV (for larger datasets like MNIST)\n",
    "\n",
    "from sklearn.model_selection import GridSearchCV\n",
    " \n",
    "param_grid = {\n",
    "    'max_depth': [5, 10, 15], # limit depth to avoid overfitting\n",
    "    'max_leaf_nodes': [10, 15], # limit leaf nodes also for overfitting\n",
    "    'min_samples_leaf': [5, 10, 15]  # sets minimum support for leaf\n",
    "}\n",
    "\n",
    "# Note: better to use RandomForestClassifier because result is more stable\n",
    "gs = GridSearchCV(DecisionTreeClassifier(random_state=42),\n",
    "                 param_grid, verbose=True) # verbose: print more information\n",
    "gs.fit(X_train, y_train)\n",
    "print('best score', gs.score(X_test, y_test))\n",
    "print('best parameters', gs.best_params_)"
   ]
  },
  {
   "cell_type": "code",
   "execution_count": 78,
   "metadata": {},
   "outputs": [],
   "source": []
  },
  {
   "cell_type": "code",
   "execution_count": 39,
   "metadata": {},
   "outputs": [],
   "source": [
    "# https://github.com/scikit-learn/scikit-learn/blob/79bdc8f711d0af225ed6be9fdb708cea9f98a910/sklearn/tree/export.py\n",
    "def export_dict(tree, feature_names=None, max_depth=None):\n",
    "    \"\"\"Export a decision tree in dict format.\n",
    "    Parameters\n",
    "    ----------\n",
    "    decision_tree : decision tree classifier\n",
    "        The decision tree to be exported\n",
    "    feature_names : list of strings, optional (default=None)\n",
    "        Names of each of the features.\n",
    "    max_depth : int, optional (default=None)\n",
    "        The maximum depth of the representation. If None, the tree is fully\n",
    "        generated.\n",
    "    Returns\n",
    "    -------\n",
    "    a dictionary of the format <tree> := {\n",
    "        'feature' <int> | <string>,\n",
    "        'threshold' : <float>,\n",
    "        'impurity' : <float>,\n",
    "        'n_node_samples' : <int>,\n",
    "        'left' : <tree>,\n",
    "        'right' : <tree>,\n",
    "        'value' : [<int>],\n",
    "    }\n",
    "    if feature_names is provided, it is used to map feature indicies\n",
    "    to feature names.  All types (including the value list) are native\n",
    "    python types as opposed to numpy types to make exporting to json\n",
    "    and other pythonic operations easier.\n",
    "    Examples\n",
    "    --------\n",
    "    >>> from sklearn.datasets import load_iris\n",
    "    >>> from sklearn import tree\n",
    "    >>> import json\n",
    "    >>> clf = tree.DecisionTreeClassifier()\n",
    "    >>> iris = load_iris()\n",
    "    >>> clf = clf.fit(iris.data, iris.target)\n",
    "    >>> d = export_dict(clf)\n",
    "    >>> j = json.dumps(d, indent=4)\n",
    "    \"\"\"\n",
    "    from sklearn.tree import _tree\n",
    "    \n",
    "    tree_ = tree.tree_\n",
    "\n",
    "    # i is the element in the tree_ to create a dict for\n",
    "    def recur(i, depth=0) :\n",
    "        if max_depth is not None and depth > max_depth :\n",
    "            return None\n",
    "        if i == _tree.TREE_LEAF :\n",
    "            return None\n",
    "\n",
    "        feature = int(tree_.feature[i])\n",
    "        threshold = float(tree_.threshold[i])\n",
    "        if feature == _tree.TREE_UNDEFINED :\n",
    "            feature = None\n",
    "            threshold = None\n",
    "            value = [map(int, l) for l in tree_.value[i].tolist()]\n",
    "        else :\n",
    "            value = None\n",
    "            if feature_names :\n",
    "                feature = feature_names[feature]\n",
    "\n",
    "        return {\n",
    "            'feature' : feature,\n",
    "            'threshold' : threshold,\n",
    "            'impurity' : float(tree_.impurity[i]),\n",
    "            'n_node_samples' : int(tree_.n_node_samples[i]),\n",
    "            'left'  : recur(tree_.children_left[i],  depth + 1),\n",
    "            'right' : recur(tree_.children_right[i], depth + 1),\n",
    "            'value' : value,\n",
    "        }\n",
    "\n",
    "    return recur(0)"
   ]
  },
  {
   "cell_type": "code",
   "execution_count": 40,
   "metadata": {
    "scrolled": false
   },
   "outputs": [
    {
     "data": {
      "text/plain": [
       "{'feature': 'petal length (cm)',\n",
       " 'threshold': 2.450000047683716,\n",
       " 'impurity': 1.5834545859901241,\n",
       " 'n_node_samples': 112,\n",
       " 'left': {'feature': None,\n",
       "  'threshold': None,\n",
       "  'impurity': 0.0,\n",
       "  'n_node_samples': 35,\n",
       "  'left': None,\n",
       "  'right': None,\n",
       "  'value': [<map at 0x212fa8231d0>]},\n",
       " 'right': {'feature': 'petal length (cm)',\n",
       "  'threshold': 4.75,\n",
       "  'impurity': 0.9998783322990061,\n",
       "  'n_node_samples': 77,\n",
       "  'left': {'feature': 'petal width (cm)',\n",
       "   'threshold': 1.6500000953674316,\n",
       "   'impurity': 0.18717625687320816,\n",
       "   'n_node_samples': 35,\n",
       "   'left': {'feature': None,\n",
       "    'threshold': None,\n",
       "    'impurity': 0.0,\n",
       "    'n_node_samples': 34,\n",
       "    'left': None,\n",
       "    'right': None,\n",
       "    'value': [<map at 0x212fa8232b0>]},\n",
       "   'right': {'feature': None,\n",
       "    'threshold': None,\n",
       "    'impurity': 0.0,\n",
       "    'n_node_samples': 1,\n",
       "    'left': None,\n",
       "    'right': None,\n",
       "    'value': [<map at 0x212fa8230f0>]},\n",
       "   'value': None},\n",
       "  'right': {'feature': 'petal length (cm)',\n",
       "   'threshold': 5.149999618530273,\n",
       "   'impurity': 0.5266170655714282,\n",
       "   'n_node_samples': 42,\n",
       "   'left': {'feature': 'petal width (cm)',\n",
       "    'threshold': 1.75,\n",
       "    'impurity': 0.8960382325345575,\n",
       "    'n_node_samples': 16,\n",
       "    'left': {'feature': 'sepal width (cm)',\n",
       "     'threshold': 2.3499999046325684,\n",
       "     'impurity': 0.9182958340544896,\n",
       "     'n_node_samples': 6,\n",
       "     'left': {'feature': None,\n",
       "      'threshold': None,\n",
       "      'impurity': 0.0,\n",
       "      'n_node_samples': 1,\n",
       "      'left': None,\n",
       "      'right': None,\n",
       "      'value': [<map at 0x212fa8230b8>]},\n",
       "     'right': {'feature': 'petal length (cm)',\n",
       "      'threshold': 5.050000190734863,\n",
       "      'impurity': 0.7219280948873623,\n",
       "      'n_node_samples': 5,\n",
       "      'left': {'feature': None,\n",
       "       'threshold': None,\n",
       "       'impurity': 0.0,\n",
       "       'n_node_samples': 3,\n",
       "       'left': None,\n",
       "       'right': None,\n",
       "       'value': [<map at 0x212fa823630>]},\n",
       "      'right': {'feature': 'sepal width (cm)',\n",
       "       'threshold': 2.75,\n",
       "       'impurity': 1.0,\n",
       "       'n_node_samples': 2,\n",
       "       'left': {'feature': None,\n",
       "        'threshold': None,\n",
       "        'impurity': 0.0,\n",
       "        'n_node_samples': 1,\n",
       "        'left': None,\n",
       "        'right': None,\n",
       "        'value': [<map at 0x212fa823390>]},\n",
       "       'right': {'feature': None,\n",
       "        'threshold': None,\n",
       "        'impurity': 0.0,\n",
       "        'n_node_samples': 1,\n",
       "        'left': None,\n",
       "        'right': None,\n",
       "        'value': [<map at 0x212fa823358>]},\n",
       "       'value': None},\n",
       "      'value': None},\n",
       "     'value': None},\n",
       "    'right': {'feature': 'sepal width (cm)',\n",
       "     'threshold': 3.0999999046325684,\n",
       "     'impurity': 0.4689955935892812,\n",
       "     'n_node_samples': 10,\n",
       "     'left': {'feature': None,\n",
       "      'threshold': None,\n",
       "      'impurity': 0.0,\n",
       "      'n_node_samples': 9,\n",
       "      'left': None,\n",
       "      'right': None,\n",
       "      'value': [<map at 0x212fa8232e8>]},\n",
       "     'right': {'feature': None,\n",
       "      'threshold': None,\n",
       "      'impurity': 0.0,\n",
       "      'n_node_samples': 1,\n",
       "      'left': None,\n",
       "      'right': None,\n",
       "      'value': [<map at 0x212fa823240>]},\n",
       "     'value': None},\n",
       "    'value': None},\n",
       "   'right': {'feature': None,\n",
       "    'threshold': None,\n",
       "    'impurity': 0.0,\n",
       "    'n_node_samples': 26,\n",
       "    'left': None,\n",
       "    'right': None,\n",
       "    'value': [<map at 0x212fa8239b0>]},\n",
       "   'value': None},\n",
       "  'value': None},\n",
       " 'value': None}"
      ]
     },
     "execution_count": 40,
     "metadata": {},
     "output_type": "execute_result"
    }
   ],
   "source": [
    "d = export_dict(dtc_entropy, iris.feature_names)\n",
    "d"
   ]
  },
  {
   "cell_type": "code",
   "execution_count": null,
   "metadata": {},
   "outputs": [],
   "source": []
  },
  {
   "cell_type": "code",
   "execution_count": null,
   "metadata": {},
   "outputs": [],
   "source": [
    "from sklearn.datasets import fetch_mldata\n",
    "mnist = fetch_mldata('MNIST original')"
   ]
  }
 ],
 "metadata": {
  "kernelspec": {
   "display_name": "Python 3",
   "language": "python",
   "name": "python3"
  },
  "language_info": {
   "codemirror_mode": {
    "name": "ipython",
    "version": 3
   },
   "file_extension": ".py",
   "mimetype": "text/x-python",
   "name": "python",
   "nbconvert_exporter": "python",
   "pygments_lexer": "ipython3",
   "version": "3.6.5"
  }
 },
 "nbformat": 4,
 "nbformat_minor": 2
}
