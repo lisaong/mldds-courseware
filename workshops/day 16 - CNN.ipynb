{
 "cells": [
  {
   "cell_type": "code",
   "execution_count": null,
   "metadata": {},
   "outputs": [],
   "source": [
    "# Train a CNN with MNIST dataset\n",
    "\n",
    "# Reference:\n",
    "# https://github.com/keras-team/keras/blob/master/examples/mnist_cnn.py"
   ]
  },
  {
   "cell_type": "code",
   "execution_count": 2,
   "metadata": {},
   "outputs": [],
   "source": [
    "# Data\n",
    "import keras\n",
    "from keras.datasets import mnist\n",
    "\n",
    "(X_train, y_train), (X_test, y_test) = mnist.load_data()\n",
    "\n",
    "X_train = X_train.astype('float32')\n",
    "X_test = X_test.astype('float32')\n",
    "X_train /= 255\n",
    "X_test /= 255"
   ]
  },
  {
   "cell_type": "code",
   "execution_count": 4,
   "metadata": {},
   "outputs": [],
   "source": [
    "# convert class vectors to binary class matrices\n",
    "num_classes = 10\n",
    "y_train = keras.utils.to_categorical(y_train, num_classes)\n",
    "y_test = keras.utils.to_categorical(y_test, num_classes)"
   ]
  },
  {
   "cell_type": "code",
   "execution_count": 10,
   "metadata": {},
   "outputs": [],
   "source": [
    "# consistency with keras\n",
    "from keras import backend as K\n",
    "\n",
    "img_rows = 28\n",
    "img_cols = 28\n",
    "\n",
    "if K.image_data_format() == 'channels_first':\n",
    "    X_train = X_train.reshape(X_train.shape[0], 1, img_rows, img_cols)\n",
    "    X_test = X_test.reshape(X_test.shape[0], 1, img_rows, img_cols)\n",
    "    input_shape = (1, img_rows, img_cols)\n",
    "else:\n",
    "    X_train = X_train.reshape(X_train.shape[0], img_rows, img_cols, 1)\n",
    "    X_test = X_test.reshape(X_test.shape[0], img_rows, img_cols, 1)\n",
    "    input_shape = (img_rows, img_cols, 1)"
   ]
  },
  {
   "cell_type": "code",
   "execution_count": 12,
   "metadata": {},
   "outputs": [
    {
     "name": "stdout",
     "output_type": "stream",
     "text": [
      "_________________________________________________________________\n",
      "Layer (type)                 Output Shape              Param #   \n",
      "=================================================================\n",
      "conv2d_3 (Conv2D)            (None, 26, 26, 32)        320       \n",
      "_________________________________________________________________\n",
      "conv2d_4 (Conv2D)            (None, 24, 24, 64)        18496     \n",
      "_________________________________________________________________\n",
      "max_pooling2d_2 (MaxPooling2 (None, 12, 12, 64)        0         \n",
      "_________________________________________________________________\n",
      "flatten_2 (Flatten)          (None, 9216)              0         \n",
      "_________________________________________________________________\n",
      "dense_3 (Dense)              (None, 128)               1179776   \n",
      "_________________________________________________________________\n",
      "dense_4 (Dense)              (None, 10)                1290      \n",
      "=================================================================\n",
      "Total params: 1,199,882\n",
      "Trainable params: 1,199,882\n",
      "Non-trainable params: 0\n",
      "_________________________________________________________________\n"
     ]
    }
   ],
   "source": [
    "# Model\n",
    "from keras.models import Sequential\n",
    "from keras.layers import Dense, Flatten\n",
    "from keras.layers import Conv2D, MaxPooling2D\n",
    "\n",
    "model = Sequential()\n",
    "model.add(Conv2D(32, kernel_size=(3, 3),\n",
    "                 activation='relu',\n",
    "                 input_shape=input_shape))\n",
    "model.add(Conv2D(64, (3, 3), activation='relu'))\n",
    "model.add(MaxPooling2D(pool_size=(2, 2)))\n",
    "\n",
    "model.add(Flatten())\n",
    "model.add(Dense(128, activation='relu'))\n",
    "model.add(Dense(num_classes, activation='softmax'))\n",
    "\n",
    "model.summary()"
   ]
  },
  {
   "cell_type": "code",
   "execution_count": 14,
   "metadata": {},
   "outputs": [
    {
     "name": "stdout",
     "output_type": "stream",
     "text": [
      "Train on 60000 samples, validate on 10000 samples\n",
      "Epoch 1/3\n",
      "60000/60000 [==============================] - 292s 5ms/step - loss: 0.0471 - acc: 0.9859 - val_loss: 0.0324 - val_acc: 0.9895\n",
      "Epoch 2/3\n",
      "60000/60000 [==============================] - 297s 5ms/step - loss: 0.0293 - acc: 0.9908 - val_loss: 0.0272 - val_acc: 0.9918\n",
      "Epoch 3/3\n",
      "60000/60000 [==============================] - 275s 5ms/step - loss: 0.0193 - acc: 0.9939 - val_loss: 0.0279 - val_acc: 0.9904\n",
      "Test loss: 0.02786233626063913\n",
      "Test accuracy: 0.9904\n"
     ]
    }
   ],
   "source": [
    "model.compile(loss=keras.losses.categorical_crossentropy,\n",
    "              optimizer=keras.optimizers.Adadelta(),\n",
    "              metrics=['accuracy'])\n",
    "\n",
    "model.fit(X_train, y_train,\n",
    "          batch_size=128,\n",
    "          epochs=3,\n",
    "          verbose=1,\n",
    "          validation_data=(X_test, y_test))\n",
    "score = model.evaluate(X_test, y_test, verbose=0)\n",
    "print('Test loss:', score[0])\n",
    "print('Test accuracy:', score[1])"
   ]
  },
  {
   "cell_type": "code",
   "execution_count": 15,
   "metadata": {},
   "outputs": [],
   "source": [
    "model.save('mnist_cnn.h5')"
   ]
  },
  {
   "cell_type": "code",
   "execution_count": null,
   "metadata": {},
   "outputs": [],
   "source": [
    "# Exercise:\n",
    "#\n",
    "# Setup Tensorboard. Check for overfit / underfit from the plots\n",
    "# Experiment with removing MaxPool (compare tensorboard plot and score)\n",
    "# Experiment with more or less filters (effect on score):\n",
    "#  Filter size: 16, 32\n",
    "#  Filter size: 64, 128\n",
    "\n",
    "# Visualize convolutional layers"
   ]
  },
  {
   "cell_type": "code",
   "execution_count": 41,
   "metadata": {},
   "outputs": [
    {
     "data": {
      "image/png": "[encoded data removed]",
      "text/plain": [
       "<Figure size 432x288 with 10 Axes>"
      ]
     },
     "metadata": {},
     "output_type": "display_data"
    }
   ],
   "source": [
    "from keras.models import Model\n",
    "import matplotlib.pyplot as plt\n",
    "import numpy as np\n",
    "\n",
    "def visualize(data, layer_index):\n",
    "\n",
    "    # intermediate model with input and nth layer layer only\n",
    "    int_model = Model(inputs=model.input,\n",
    "                      outputs=model.layers[layer_index].output)\n",
    "\n",
    "    output = int_model.predict(np.expand_dims(data, axis=0))[0]\n",
    "    \n",
    "    # first 10 feature maps\n",
    "    fig, axes = plt.subplots(nrows=2, ncols=5)\n",
    "    axes = axes.flatten()\n",
    "\n",
    "    for i in range(len(axes)):\n",
    "        axes[i].imshow(output[:, :, i])\n",
    "    \n",
    "visualize(X_test[0], 0)"
   ]
  },
  {
   "cell_type": "code",
   "execution_count": 42,
   "metadata": {},
   "outputs": [
    {
     "data": {
      "text/plain": [
       "[<keras.layers.convolutional.Conv2D at 0x14b270f2f98>,\n",
       " <keras.layers.convolutional.Conv2D at 0x14b270f2da0>,\n",
       " <keras.layers.pooling.MaxPooling2D at 0x14b27124c50>,\n",
       " <keras.layers.core.Flatten at 0x14b28580400>,\n",
       " <keras.layers.core.Dense at 0x14b285804e0>,\n",
       " <keras.layers.core.Dense at 0x14b28577d68>]"
      ]
     },
     "execution_count": 42,
     "metadata": {},
     "output_type": "execute_result"
    }
   ],
   "source": [
    "model.layers"
   ]
  },
  {
   "cell_type": "code",
   "execution_count": 65,
   "metadata": {},
   "outputs": [
    {
     "data": {
      "image/png": "[encoded data removed]",
      "text/plain": [
       "<Figure size 432x288 with 10 Axes>"
      ]
     },
     "metadata": {},
     "output_type": "display_data"
    }
   ],
   "source": [
    "visualize(X_test[321], 0)"
   ]
  },
  {
   "cell_type": "code",
   "execution_count": 66,
   "metadata": {},
   "outputs": [
    {
     "data": {
      "image/png": "[encoded data removed]",
      "text/plain": [
       "<Figure size 432x288 with 10 Axes>"
      ]
     },
     "metadata": {},
     "output_type": "display_data"
    }
   ],
   "source": [
    "visualize(X_test[321], 1)"
   ]
  },
  {
   "cell_type": "code",
   "execution_count": 67,
   "metadata": {},
   "outputs": [
    {
     "data": {
      "image/png": "[encoded data removed]",
      "text/plain": [
       "<Figure size 432x288 with 10 Axes>"
      ]
     },
     "metadata": {},
     "output_type": "display_data"
    }
   ],
   "source": [
    "visualize(X_test[321], 2)"
   ]
  },
  {
   "cell_type": "code",
   "execution_count": 70,
   "metadata": {},
   "outputs": [
    {
     "data": {
      "image/png": "[encoded data removed]",
      "text/plain": [
       "<Figure size 432x288 with 10 Axes>"
      ]
     },
     "metadata": {},
     "output_type": "display_data"
    }
   ],
   "source": [
    "visualize(X_test[1], 2)"
   ]
  },
  {
   "cell_type": "code",
   "execution_count": 61,
   "metadata": {},
   "outputs": [
    {
     "data": {
      "text/plain": [
       "array([7, 2, 1, 0, 4, 1, 4, 9, 5, 9, 0, 6, 9, 0, 1, 5, 9, 7, 3, 4],\n",
       "      dtype=int64)"
      ]
     },
     "execution_count": 61,
     "metadata": {},
     "output_type": "execute_result"
    }
   ],
   "source": [
    "np.argmax(y_test, axis=1)[:20]"
   ]
  },
  {
   "cell_type": "code",
   "execution_count": 60,
   "metadata": {},
   "outputs": [
    {
     "data": {
      "text/plain": [
       "array([7, 2, 1, 0, 4, 1, 4, 9, 5, 9], dtype=int64)"
      ]
     },
     "execution_count": 60,
     "metadata": {},
     "output_type": "execute_result"
    }
   ],
   "source": [
    "pred = model.predict_classes(X_test)"
   ]
  },
  {
   "cell_type": "code",
   "execution_count": 64,
   "metadata": {},
   "outputs": [
    {
     "data": {
      "text/plain": [
       "321"
      ]
     },
     "execution_count": 64,
     "metadata": {},
     "output_type": "execute_result"
    }
   ],
   "source": [
    "# find test with incorrect prediction\n",
    "np.argmax(np.argmax(y_test, axis=1) != pred)"
   ]
  },
  {
   "cell_type": "code",
   "execution_count": 69,
   "metadata": {},
   "outputs": [
    {
     "data": {
      "text/plain": [
       "2"
      ]
     },
     "execution_count": 69,
     "metadata": {},
     "output_type": "execute_result"
    }
   ],
   "source": [
    "# truth\n",
    "np.argmax(y_test, axis=1)[321]"
   ]
  },
  {
   "cell_type": "code",
   "execution_count": 68,
   "metadata": {},
   "outputs": [
    {
     "data": {
      "text/plain": [
       "7"
      ]
     },
     "execution_count": 68,
     "metadata": {},
     "output_type": "execute_result"
    }
   ],
   "source": [
    "# prediction\n",
    "pred[321]"
   ]
  },
  {
   "cell_type": "code",
   "execution_count": null,
   "metadata": {},
   "outputs": [],
   "source": []
  },
  {
   "cell_type": "code",
   "execution_count": 71,
   "metadata": {
    "scrolled": false
   },
   "outputs": [
    {
     "name": "stdout",
     "output_type": "stream",
     "text": [
      "{'name': 'conv2d_3', 'trainable': True, 'batch_input_shape': (None, 28, 28, 1), 'dtype': 'float32', 'filters': 32, 'kernel_size': (3, 3), 'strides': (1, 1), 'padding': 'valid', 'data_format': 'channels_last', 'dilation_rate': (1, 1), 'activation': 'relu', 'use_bias': True, 'kernel_initializer': {'class_name': 'VarianceScaling', 'config': {'scale': 1.0, 'mode': 'fan_avg', 'distribution': 'uniform', 'seed': None}}, 'bias_initializer': {'class_name': 'Zeros', 'config': {}}, 'kernel_regularizer': None, 'bias_regularizer': None, 'activity_regularizer': None, 'kernel_constraint': None, 'bias_constraint': None}\n",
      "[array([[[[ 0.2180723 , -0.06659871, -0.07424264,  0.17135014,\n",
      "           0.2457842 , -0.14364019, -0.1062628 ,  0.06728543,\n",
      "           0.06809814, -0.2199635 , -0.05241701, -0.09536486,\n",
      "           0.02001875, -0.01093138, -0.08396446, -0.09788153,\n",
      "           0.11094639,  0.10080877,  0.06758786,  0.21429527,\n",
      "           0.18237282,  0.07898905, -0.23877293, -0.1623342 ,\n",
      "          -0.34356454, -0.08149085, -0.03887585,  0.1085482 ,\n",
      "           0.14189422, -0.24006484,  0.22275771,  0.12526293]],\n",
      "\n",
      "        [[ 0.23142822,  0.08771253,  0.1761538 ,  0.1417792 ,\n",
      "           0.2620097 , -0.00837252, -0.2601747 ,  0.04339257,\n",
      "          -0.15603575, -0.14170721,  0.03036239, -0.10533783,\n",
      "          -0.19945173,  0.04097793, -0.00624368,  0.06268886,\n",
      "           0.20859256,  0.16928898, -0.11826021,  0.06408745,\n",
      "           0.08175693,  0.23297854, -0.2239238 ,  0.16858831,\n",
      "          -0.24663886, -0.26426908, -0.1193293 ,  0.3169825 ,\n",
      "           0.14975992, -0.13326995,  0.0207295 ,  0.15035133]],\n",
      "\n",
      "        [[ 0.19880363, -0.24219267,  0.01716626,  0.014987  ,\n",
      "           0.26510668,  0.22875647, -0.14417917, -0.23298265,\n",
      "          -0.15929452, -0.25318897,  0.05500514,  0.02351435,\n",
      "           0.11518455, -0.17037955,  0.02152595, -0.08425981,\n",
      "          -0.02375322,  0.15472065, -0.10616694, -0.17297354,\n",
      "           0.01625273,  0.20832232, -0.17118567,  0.22834033,\n",
      "          -0.05797016, -0.1591916 ,  0.03197284,  0.24285392,\n",
      "           0.06821297,  0.17476852,  0.05962728, -0.25617737]]],\n",
      "\n",
      "\n",
      "       [[[ 0.19391845,  0.03167251, -0.2614106 , -0.10971151,\n",
      "          -0.02556271, -0.12793103,  0.1282611 ,  0.1801271 ,\n",
      "           0.17480694,  0.02792696,  0.21082929,  0.06606576,\n",
      "           0.12526329,  0.166312  , -0.19025461, -0.0339477 ,\n",
      "          -0.02233738,  0.04972602,  0.18529022,  0.22463079,\n",
      "          -0.06815322, -0.01535784,  0.13547114, -0.07032232,\n",
      "          -0.09375237, -0.0094026 , -0.14925039,  0.00601761,\n",
      "           0.10707167, -0.16391091,  0.09094848,  0.16901559]],\n",
      "\n",
      "        [[-0.08415382,  0.11799294,  0.17682523, -0.0662204 ,\n",
      "          -0.10336917,  0.06651931,  0.05349565,  0.15214849,\n",
      "          -0.12434609,  0.00346257,  0.04120646,  0.21363354,\n",
      "          -0.23646069,  0.10431755,  0.05024799,  0.05824148,\n",
      "          -0.02739407,  0.13473068,  0.1322703 , -0.04232238,\n",
      "           0.1702829 , -0.03646537,  0.1867256 ,  0.06081918,\n",
      "          -0.05887038,  0.04724196,  0.16801581, -0.08400154,\n",
      "           0.13221443, -0.0299161 ,  0.07621645,  0.07142505]],\n",
      "\n",
      "        [[-0.1049    ,  0.12406461,  0.18112463,  0.18204994,\n",
      "           0.16134311,  0.10230656,  0.1608565 , -0.09856968,\n",
      "          -0.14765583, -0.18644977, -0.0627247 , -0.02456051,\n",
      "           0.0605078 , -0.16076064,  0.03888771,  0.07663819,\n",
      "          -0.17830557, -0.05357208, -0.1707235 , -0.14824319,\n",
      "           0.10217152,  0.18718812,  0.11621068, -0.06235184,\n",
      "           0.24618383,  0.06240068, -0.02874103, -0.01282174,\n",
      "           0.1490274 ,  0.25347504, -0.0080121 , -0.19462885]]],\n",
      "\n",
      "\n",
      "       [[[-0.06595574,  0.04240393, -0.21559377, -0.13591327,\n",
      "          -0.2961771 , -0.1677789 ,  0.19222242,  0.0201152 ,\n",
      "           0.24438962,  0.12276771,  0.29473698,  0.14950876,\n",
      "           0.07768603, -0.01003138, -0.19031873, -0.2278995 ,\n",
      "          -0.11200333, -0.14444324,  0.15027349,  0.19022344,\n",
      "          -0.2199791 ,  0.02156664,  0.1947133 ,  0.09182185,\n",
      "           0.20357451,  0.12187669,  0.0916703 , -0.256176  ,\n",
      "          -0.03359998, -0.14835896,  0.09942295, -0.0959808 ]],\n",
      "\n",
      "        [[-0.1370098 ,  0.15982339,  0.05115669, -0.12884748,\n",
      "          -0.18293527,  0.00535468,  0.02024826,  0.17166768,\n",
      "           0.06902137,  0.20481971,  0.02954734,  0.12357222,\n",
      "          -0.19471875,  0.11360735, -0.01327099,  0.00105085,\n",
      "          -0.12530851,  0.08705842,  0.17783475,  0.06643566,\n",
      "          -0.19389445, -0.13749592,  0.0731633 , -0.01575005,\n",
      "           0.16623199,  0.131449  ,  0.03382646, -0.21259652,\n",
      "          -0.05530352,  0.11581026, -0.11509859,  0.19092463]],\n",
      "\n",
      "        [[-0.2884429 ,  0.06164934,  0.25902617,  0.02412444,\n",
      "          -0.10746367,  0.00920619,  0.17348921,  0.11112404,\n",
      "          -0.01926635,  0.03638859, -0.20851171,  0.10383844,\n",
      "           0.11255898,  0.14170901,  0.22586036,  0.26020658,\n",
      "          -0.05160259, -0.05061138, -0.0207484 , -0.03353748,\n",
      "           0.00250871,  0.00851241, -0.04497498,  0.0515484 ,\n",
      "           0.1904506 ,  0.10683259,  0.23718949, -0.13587503,\n",
      "           0.0994076 ,  0.18273568, -0.1719401 ,  0.1608286 ]]]],\n",
      "      dtype=float32), array([ 0.05021396, -0.01812022,  0.02022827,  0.02735801,  0.07198533,\n",
      "        0.00838117,  0.01684568, -0.01466446,  0.02848313,  0.07829065,\n",
      "       -0.00201412,  0.0013938 ,  0.03152146, -0.01501836,  0.053746  ,\n",
      "        0.05466043,  0.02120265, -0.0208097 ,  0.01560221,  0.00823328,\n",
      "       -0.00128391, -0.01397012,  0.04475648, -0.0031436 ,  0.07848787,\n",
      "        0.04103715, -0.00555673,  0.00326484, -0.02764887,  0.05234542,\n",
      "       -0.01245383,  0.00620913], dtype=float32)]\n",
      "{'name': 'conv2d_4', 'trainable': True, 'filters': 64, 'kernel_size': (3, 3), 'strides': (1, 1), 'padding': 'valid', 'data_format': 'channels_last', 'dilation_rate': (1, 1), 'activation': 'relu', 'use_bias': True, 'kernel_initializer': {'class_name': 'VarianceScaling', 'config': {'scale': 1.0, 'mode': 'fan_avg', 'distribution': 'uniform', 'seed': None}}, 'bias_initializer': {'class_name': 'Zeros', 'config': {}}, 'kernel_regularizer': None, 'bias_regularizer': None, 'activity_regularizer': None, 'kernel_constraint': None, 'bias_constraint': None}\n",
      "[array([[[[-0.08571415,  0.13301696,  0.07425725, ..., -0.03373678,\n",
      "           0.00929826, -0.04612197],\n",
      "         [ 0.01916631, -0.03605748, -0.031881  , ..., -0.01927061,\n",
      "           0.05786519,  0.03094606],\n",
      "         [ 0.09701069, -0.00979302,  0.05287173, ..., -0.00385755,\n",
      "          -0.0487025 ,  0.08078787],\n",
      "         ...,\n",
      "         [-0.02036482,  0.00738834, -0.02947479, ...,  0.08393039,\n",
      "           0.05711264, -0.05589438],\n",
      "         [-0.04207727,  0.10574853,  0.00942712, ...,  0.04854799,\n",
      "          -0.06765021,  0.04443121],\n",
      "         [ 0.00852735,  0.02597238,  0.07380578, ..., -0.03992393,\n",
      "          -0.10931555,  0.02372536]],\n",
      "\n",
      "        [[ 0.07718859,  0.07481424, -0.00439348, ..., -0.05589924,\n",
      "           0.00549158, -0.00110031],\n",
      "         [-0.07653857,  0.02570128, -0.05883979, ...,  0.02815822,\n",
      "           0.04874888,  0.06757659],\n",
      "         [ 0.06651194, -0.13982199, -0.10156425, ...,  0.04621707,\n",
      "          -0.0687919 ,  0.01698433],\n",
      "         ...,\n",
      "         [ 0.03920713,  0.00844086,  0.05512157, ...,  0.04175841,\n",
      "          -0.02490875, -0.01944434],\n",
      "         [ 0.08394293,  0.07045805, -0.02463049, ...,  0.01517062,\n",
      "           0.03607911, -0.07292146],\n",
      "         [-0.07775173,  0.13934606,  0.08780959, ..., -0.01299077,\n",
      "          -0.02855559,  0.00689873]],\n",
      "\n",
      "        [[ 0.02539855, -0.0245438 , -0.02867869, ...,  0.08169883,\n",
      "           0.0383199 , -0.03677753],\n",
      "         [-0.09225381, -0.1201348 ,  0.04223845, ...,  0.0580317 ,\n",
      "           0.05916524, -0.14032221],\n",
      "         [-0.02133019, -0.11143775,  0.02286044, ..., -0.03376033,\n",
      "           0.04693741, -0.03528315],\n",
      "         ...,\n",
      "         [-0.0823209 , -0.05480975,  0.02522256, ...,  0.02746041,\n",
      "           0.04091428, -0.04899932],\n",
      "         [ 0.07639405, -0.00091957,  0.02344901, ..., -0.00148359,\n",
      "           0.06242878, -0.01117092],\n",
      "         [ 0.03960744,  0.07150009, -0.04800198, ...,  0.01765498,\n",
      "          -0.04790674, -0.08490266]]],\n",
      "\n",
      "\n",
      "       [[[ 0.09773023,  0.06657446,  0.0775395 , ..., -0.10512952,\n",
      "          -0.09439861, -0.03527062],\n",
      "         [ 0.02545634,  0.06786405,  0.06651045, ..., -0.01388278,\n",
      "          -0.02056946, -0.02208939],\n",
      "         [ 0.01656464, -0.00941062, -0.06242108, ...,  0.03999417,\n",
      "          -0.05847948,  0.05283294],\n",
      "         ...,\n",
      "         [-0.0371785 , -0.02421832, -0.06326043, ..., -0.06646737,\n",
      "           0.01538324,  0.03243113],\n",
      "         [ 0.00348614,  0.14051042,  0.09375331, ...,  0.02783718,\n",
      "          -0.08315203, -0.01145106],\n",
      "         [ 0.07687687,  0.06767725,  0.01144288, ...,  0.0333176 ,\n",
      "           0.0571182 ,  0.11294223]],\n",
      "\n",
      "        [[-0.00388772, -0.01173645, -0.01826955, ..., -0.0648803 ,\n",
      "          -0.01248772,  0.02143857],\n",
      "         [ 0.06754555, -0.06976091,  0.00699745, ...,  0.064817  ,\n",
      "           0.01615932,  0.09182924],\n",
      "         [-0.03560581, -0.03229503, -0.01853779, ..., -0.03549526,\n",
      "          -0.08711981, -0.04291899],\n",
      "         ...,\n",
      "         [-0.07435916, -0.03748737, -0.04085316, ..., -0.06602716,\n",
      "          -0.05050684, -0.06931929],\n",
      "         [ 0.05030593,  0.04903546,  0.01266881, ..., -0.00139066,\n",
      "           0.02275044,  0.03538728],\n",
      "         [ 0.02384488,  0.02157287,  0.02996584, ...,  0.00637603,\n",
      "          -0.02487943,  0.11412313]],\n",
      "\n",
      "        [[ 0.02759304, -0.02161408, -0.00779341, ..., -0.06490827,\n",
      "          -0.00207149, -0.05634976],\n",
      "         [-0.04391785, -0.12503341,  0.04313112, ..., -0.05529952,\n",
      "           0.06158251, -0.04486785],\n",
      "         [ 0.04827389, -0.10264424, -0.04127384, ...,  0.00771408,\n",
      "          -0.0373114 , -0.06344792],\n",
      "         ...,\n",
      "         [-0.04172837, -0.07897499, -0.01712522, ...,  0.02467984,\n",
      "          -0.09698382, -0.04175424],\n",
      "         [ 0.02105154, -0.10785855, -0.05424852, ...,  0.01927892,\n",
      "          -0.03483386, -0.06723978],\n",
      "         [-0.05336639, -0.03795541, -0.07571343, ..., -0.05307686,\n",
      "           0.01317382,  0.0477328 ]]],\n",
      "\n",
      "\n",
      "       [[[-0.07791699,  0.10065079,  0.10566501, ..., -0.04236805,\n",
      "          -0.01708774, -0.08038983],\n",
      "         [-0.02307335, -0.08639526, -0.05138778, ...,  0.04249293,\n",
      "          -0.02725296, -0.0128998 ],\n",
      "         [-0.01629568, -0.06552534, -0.09665804, ...,  0.05245435,\n",
      "           0.06370489,  0.18231384],\n",
      "         ...,\n",
      "         [ 0.02158597,  0.03618985,  0.05104175, ...,  0.00933306,\n",
      "          -0.01630607,  0.12455401],\n",
      "         [-0.02219969,  0.15016492,  0.02473504, ...,  0.03100825,\n",
      "           0.00962113, -0.09157573],\n",
      "         [ 0.00374461,  0.04670279,  0.02271015, ...,  0.06784801,\n",
      "          -0.04676233, -0.08431993]],\n",
      "\n",
      "        [[-0.0806402 , -0.02901129,  0.0806394 , ..., -0.06356855,\n",
      "           0.0682485 , -0.06370396],\n",
      "         [ 0.04027668, -0.05424044,  0.03648642, ...,  0.07852648,\n",
      "           0.01252038, -0.00847313],\n",
      "         [-0.03323887, -0.08520161, -0.04509893, ...,  0.01220957,\n",
      "           0.02088924,  0.00286569],\n",
      "         ...,\n",
      "         [-0.01165191, -0.10081263, -0.0053386 , ..., -0.06898807,\n",
      "           0.00504037, -0.08012024],\n",
      "         [-0.10516092, -0.07570648, -0.00483335, ...,  0.00745567,\n",
      "          -0.04841381, -0.05316903],\n",
      "         [ 0.01743359, -0.10393469,  0.02760368, ...,  0.012808  ,\n",
      "           0.06163969,  0.10518773]],\n",
      "\n",
      "        [[-0.084321  , -0.00437066, -0.02026726, ...,  0.01583725,\n",
      "          -0.00385469, -0.09342702],\n",
      "         [ 0.08145999,  0.00466402, -0.06663397, ..., -0.06921424,\n",
      "          -0.06248667, -0.01517483],\n",
      "         [ 0.05426437,  0.00963552, -0.13332003, ...,  0.00777429,\n",
      "          -0.0228065 , -0.05299263],\n",
      "         ...,\n",
      "         [ 0.04443077,  0.0510147 , -0.0324956 , ..., -0.0580812 ,\n",
      "           0.00424755, -0.0265564 ],\n",
      "         [-0.09100862, -0.07433738,  0.02946098, ...,  0.07064572,\n",
      "           0.05350861, -0.05272411],\n",
      "         [-0.02925271, -0.02832316, -0.10662052, ..., -0.02349904,\n",
      "          -0.0014895 ,  0.02521724]]]], dtype=float32), array([-0.01069099,  0.02272674, -0.01756068, -0.00936664,  0.00280084,\n",
      "       -0.01668407,  0.01923493,  0.02436849,  0.02511405, -0.02559339,\n",
      "       -0.05481247, -0.03853135, -0.00108748, -0.01878266, -0.05932373,\n",
      "       -0.01748224,  0.00078016, -0.0074584 , -0.0591137 , -0.04082584,\n",
      "       -0.05438323, -0.01958195,  0.00539558, -0.03734969, -0.02116414,\n",
      "       -0.00367418, -0.02522313, -0.00149765,  0.03983466,  0.02258543,\n",
      "       -0.0197644 , -0.0324271 , -0.01191538,  0.02768488, -0.01818716,\n",
      "       -0.02297566, -0.04350472, -0.00267011, -0.00640231, -0.00981226,\n",
      "       -0.02337164,  0.00724582, -0.0157563 , -0.02746685, -0.03069875,\n",
      "       -0.04647975, -0.01761444, -0.03327103, -0.01227138, -0.04837846,\n",
      "       -0.01293415, -0.04519193, -0.01316861, -0.01785816,  0.01987362,\n",
      "       -0.00952165, -0.01300839, -0.00864334, -0.00807639, -0.02497816,\n",
      "       -0.01392487, -0.03931912, -0.03319716, -0.02579213], dtype=float32)]\n",
      "{'name': 'max_pooling2d_2', 'trainable': True, 'pool_size': (2, 2), 'padding': 'valid', 'strides': (2, 2), 'data_format': 'channels_last'}\n",
      "[]\n",
      "{'name': 'flatten_2', 'trainable': True, 'data_format': 'channels_last'}\n",
      "[]\n",
      "{'name': 'dense_3', 'trainable': True, 'units': 128, 'activation': 'relu', 'use_bias': True, 'kernel_initializer': {'class_name': 'VarianceScaling', 'config': {'scale': 1.0, 'mode': 'fan_avg', 'distribution': 'uniform', 'seed': None}}, 'bias_initializer': {'class_name': 'Zeros', 'config': {}}, 'kernel_regularizer': None, 'bias_regularizer': None, 'activity_regularizer': None, 'kernel_constraint': None, 'bias_constraint': None}\n",
      "[array([[ 0.00234517,  0.01657562, -0.00196189, ..., -0.00666341,\n",
      "        -0.00574627, -0.00883868],\n",
      "       [-0.015336  , -0.01638082, -0.01351695, ..., -0.00837308,\n",
      "         0.00821359,  0.01942409],\n",
      "       [ 0.0105327 ,  0.01494022,  0.00063518, ...,  0.01862479,\n",
      "         0.00840306, -0.01464167],\n",
      "       ...,\n",
      "       [ 0.01949286, -0.00454045, -0.01675888, ...,  0.01803424,\n",
      "         0.02361846, -0.0237408 ],\n",
      "       [ 0.01793346,  0.00200413, -0.01107183, ...,  0.00652186,\n",
      "        -0.02493336,  0.01073501],\n",
      "       [ 0.02302613, -0.01127937, -0.00158634, ..., -0.02346696,\n",
      "         0.01065347, -0.01480939]], dtype=float32), array([ 0.01273043, -0.02715988, -0.0059103 , -0.00109993, -0.00718256,\n",
      "       -0.00376975,  0.02400361, -0.00311824, -0.03443306,  0.00850768,\n",
      "        0.02987264, -0.02530238, -0.00768125,  0.00063322, -0.00382481,\n",
      "       -0.00278237,  0.00833023, -0.01556925,  0.00286605, -0.01199527,\n",
      "       -0.00359952, -0.00265882, -0.02427053,  0.00962483, -0.00966153,\n",
      "        0.03142803, -0.00591098,  0.01587651,  0.0114    , -0.0051176 ,\n",
      "       -0.00329545,  0.02364975, -0.03218007, -0.01983027, -0.02761384,\n",
      "        0.01563149,  0.01309936,  0.01126878, -0.00516187, -0.00576492,\n",
      "        0.02501947,  0.00704555, -0.02333596,  0.00732481, -0.01559979,\n",
      "        0.00421749,  0.01279016, -0.03129214, -0.01782829,  0.00337887,\n",
      "        0.00698428, -0.00233385,  0.01404948,  0.02865589,  0.00671927,\n",
      "        0.02093148, -0.00548897,  0.03936135,  0.01569932,  0.00732762,\n",
      "        0.00662455, -0.00541484,  0.02096083, -0.00212772,  0.03712691,\n",
      "       -0.02739136, -0.00416499, -0.01466623, -0.0011222 ,  0.02026187,\n",
      "        0.0327704 , -0.02233225,  0.00103157, -0.00664223, -0.00686134,\n",
      "       -0.04047776,  0.02627699, -0.01122431, -0.01052605,  0.02189567,\n",
      "        0.0112549 , -0.00184242,  0.01033681,  0.00917769, -0.01298791,\n",
      "       -0.00022965,  0.00179764, -0.009172  , -0.01181941,  0.00011539,\n",
      "       -0.00626193, -0.00266914,  0.00826381, -0.00224805, -0.01084744,\n",
      "        0.01846086,  0.00532215, -0.00616381, -0.01471136,  0.03115173,\n",
      "        0.01142031, -0.01041187,  0.00504609,  0.01578576,  0.02449143,\n",
      "       -0.03115989, -0.00862884,  0.02605278,  0.00257138,  0.00828321,\n",
      "       -0.018391  , -0.01384489,  0.00984709,  0.02474995, -0.00258999,\n",
      "       -0.01006881,  0.01638719,  0.01422494,  0.01061485,  0.00915925,\n",
      "       -0.01327293, -0.01078806, -0.00980534, -0.00116522,  0.00188488,\n",
      "        0.02873474,  0.00363234, -0.00379352], dtype=float32)]\n",
      "{'name': 'dense_4', 'trainable': True, 'units': 10, 'activation': 'softmax', 'use_bias': True, 'kernel_initializer': {'class_name': 'VarianceScaling', 'config': {'scale': 1.0, 'mode': 'fan_avg', 'distribution': 'uniform', 'seed': None}}, 'bias_initializer': {'class_name': 'Zeros', 'config': {}}, 'kernel_regularizer': None, 'bias_regularizer': None, 'activity_regularizer': None, 'kernel_constraint': None, 'bias_constraint': None}\n",
      "[array([[ 0.01910819, -0.25474823, -0.20938595, ...,  0.00567098,\n",
      "        -0.12606001,  0.02548381],\n",
      "       [ 0.09804839, -0.1891972 , -0.06979218, ..., -0.2234872 ,\n",
      "         0.1763832 , -0.2379773 ],\n",
      "       [ 0.04903023, -0.18223056,  0.13305664, ...,  0.00122854,\n",
      "         0.12815623, -0.03083103],\n",
      "       ...,\n",
      "       [-0.15912382,  0.19837125, -0.14789149, ..., -0.07551915,\n",
      "         0.01413333, -0.00053631],\n",
      "       [ 0.02249191,  0.12682922, -0.2535479 , ..., -0.22093655,\n",
      "        -0.02401648, -0.13181342],\n",
      "       [ 0.045744  , -0.08703992,  0.00698109, ...,  0.02880451,\n",
      "        -0.15897454, -0.01070909]], dtype=float32), array([-0.00829801,  0.03140911, -0.00523217, -0.00480628, -0.00722337,\n",
      "        0.00096357, -0.02030859,  0.00638532, -0.03583924, -0.01681754],\n",
      "      dtype=float32)]\n"
     ]
    }
   ],
   "source": [
    "# How to print layer info\n",
    "# https://github.com/keras-team/keras/issues/91\n",
    "\n",
    "for layer in model.layers:\n",
    "    g = layer.get_config()\n",
    "    h = layer.get_weights()\n",
    "    print(g)\n",
    "    print(h)"
   ]
  },
  {
   "cell_type": "code",
   "execution_count": 72,
   "metadata": {},
   "outputs": [
    {
     "data": {
      "text/plain": [
       "{'name': 'conv2d_3',\n",
       " 'trainable': True,\n",
       " 'batch_input_shape': (None, 28, 28, 1),\n",
       " 'dtype': 'float32',\n",
       " 'filters': 32,\n",
       " 'kernel_size': (3, 3),\n",
       " 'strides': (1, 1),\n",
       " 'padding': 'valid',\n",
       " 'data_format': 'channels_last',\n",
       " 'dilation_rate': (1, 1),\n",
       " 'activation': 'relu',\n",
       " 'use_bias': True,\n",
       " 'kernel_initializer': {'class_name': 'VarianceScaling',\n",
       "  'config': {'scale': 1.0,\n",
       "   'mode': 'fan_avg',\n",
       "   'distribution': 'uniform',\n",
       "   'seed': None}},\n",
       " 'bias_initializer': {'class_name': 'Zeros', 'config': {}},\n",
       " 'kernel_regularizer': None,\n",
       " 'bias_regularizer': None,\n",
       " 'activity_regularizer': None,\n",
       " 'kernel_constraint': None,\n",
       " 'bias_constraint': None}"
      ]
     },
     "execution_count": 72,
     "metadata": {},
     "output_type": "execute_result"
    }
   ],
   "source": [
    "l = model.layers[0]\n",
    "l.get_config()"
   ]
  },
  {
   "cell_type": "code",
   "execution_count": 96,
   "metadata": {},
   "outputs": [
    {
     "name": "stdout",
     "output_type": "stream",
     "text": [
      "bias (64,) [-0.01069099  0.02272674 -0.01756068 -0.00936664  0.00280084 -0.01668407\n",
      "  0.01923493  0.02436849  0.02511405 -0.02559339 -0.05481247 -0.03853135\n",
      " -0.00108748 -0.01878266 -0.05932373 -0.01748224  0.00078016 -0.0074584\n",
      " -0.0591137  -0.04082584 -0.05438323 -0.01958195  0.00539558 -0.03734969\n",
      " -0.02116414 -0.00367418 -0.02522313 -0.00149765  0.03983466  0.02258543\n",
      " -0.0197644  -0.0324271  -0.01191538  0.02768488 -0.01818716 -0.02297566\n",
      " -0.04350472 -0.00267011 -0.00640231 -0.00981226 -0.02337164  0.00724582\n",
      " -0.0157563  -0.02746685 -0.03069875 -0.04647975 -0.01761444 -0.03327103\n",
      " -0.01227138 -0.04837846 -0.01293415 -0.04519193 -0.01316861 -0.01785816\n",
      "  0.01987362 -0.00952165 -0.01300839 -0.00864334 -0.00807639 -0.02497816\n",
      " -0.01392487 -0.03931912 -0.03319716 -0.02579213]\n",
      "filters/kernels (3, 3, 32, 64) [[[[-0.08571415  0.13301696  0.07425725 ... -0.03373678  0.00929826\n",
      "    -0.04612197]\n",
      "   [ 0.01916631 -0.03605748 -0.031881   ... -0.01927061  0.05786519\n",
      "     0.03094606]\n",
      "   [ 0.09701069 -0.00979302  0.05287173 ... -0.00385755 -0.0487025\n",
      "     0.08078787]\n",
      "   ...\n",
      "   [-0.02036482  0.00738834 -0.02947479 ...  0.08393039  0.05711264\n",
      "    -0.05589438]\n",
      "   [-0.04207727  0.10574853  0.00942712 ...  0.04854799 -0.06765021\n",
      "     0.04443121]\n",
      "   [ 0.00852735  0.02597238  0.07380578 ... -0.03992393 -0.10931555\n",
      "     0.02372536]]\n",
      "\n",
      "  [[ 0.07718859  0.07481424 -0.00439348 ... -0.05589924  0.00549158\n",
      "    -0.00110031]\n",
      "   [-0.07653857  0.02570128 -0.05883979 ...  0.02815822  0.04874888\n",
      "     0.06757659]\n",
      "   [ 0.06651194 -0.13982199 -0.10156425 ...  0.04621707 -0.0687919\n",
      "     0.01698433]\n",
      "   ...\n",
      "   [ 0.03920713  0.00844086  0.05512157 ...  0.04175841 -0.02490875\n",
      "    -0.01944434]\n",
      "   [ 0.08394293  0.07045805 -0.02463049 ...  0.01517062  0.03607911\n",
      "    -0.07292146]\n",
      "   [-0.07775173  0.13934606  0.08780959 ... -0.01299077 -0.02855559\n",
      "     0.00689873]]\n",
      "\n",
      "  [[ 0.02539855 -0.0245438  -0.02867869 ...  0.08169883  0.0383199\n",
      "    -0.03677753]\n",
      "   [-0.09225381 -0.1201348   0.04223845 ...  0.0580317   0.05916524\n",
      "    -0.14032221]\n",
      "   [-0.02133019 -0.11143775  0.02286044 ... -0.03376033  0.04693741\n",
      "    -0.03528315]\n",
      "   ...\n",
      "   [-0.0823209  -0.05480975  0.02522256 ...  0.02746041  0.04091428\n",
      "    -0.04899932]\n",
      "   [ 0.07639405 -0.00091957  0.02344901 ... -0.00148359  0.06242878\n",
      "    -0.01117092]\n",
      "   [ 0.03960744  0.07150009 -0.04800198 ...  0.01765498 -0.04790674\n",
      "    -0.08490266]]]\n",
      "\n",
      "\n",
      " [[[ 0.09773023  0.06657446  0.0775395  ... -0.10512952 -0.09439861\n",
      "    -0.03527062]\n",
      "   [ 0.02545634  0.06786405  0.06651045 ... -0.01388278 -0.02056946\n",
      "    -0.02208939]\n",
      "   [ 0.01656464 -0.00941062 -0.06242108 ...  0.03999417 -0.05847948\n",
      "     0.05283294]\n",
      "   ...\n",
      "   [-0.0371785  -0.02421832 -0.06326043 ... -0.06646737  0.01538324\n",
      "     0.03243113]\n",
      "   [ 0.00348614  0.14051042  0.09375331 ...  0.02783718 -0.08315203\n",
      "    -0.01145106]\n",
      "   [ 0.07687687  0.06767725  0.01144288 ...  0.0333176   0.0571182\n",
      "     0.11294223]]\n",
      "\n",
      "  [[-0.00388772 -0.01173645 -0.01826955 ... -0.0648803  -0.01248772\n",
      "     0.02143857]\n",
      "   [ 0.06754555 -0.06976091  0.00699745 ...  0.064817    0.01615932\n",
      "     0.09182924]\n",
      "   [-0.03560581 -0.03229503 -0.01853779 ... -0.03549526 -0.08711981\n",
      "    -0.04291899]\n",
      "   ...\n",
      "   [-0.07435916 -0.03748737 -0.04085316 ... -0.06602716 -0.05050684\n",
      "    -0.06931929]\n",
      "   [ 0.05030593  0.04903546  0.01266881 ... -0.00139066  0.02275044\n",
      "     0.03538728]\n",
      "   [ 0.02384488  0.02157287  0.02996584 ...  0.00637603 -0.02487943\n",
      "     0.11412313]]\n",
      "\n",
      "  [[ 0.02759304 -0.02161408 -0.00779341 ... -0.06490827 -0.00207149\n",
      "    -0.05634976]\n",
      "   [-0.04391785 -0.12503341  0.04313112 ... -0.05529952  0.06158251\n",
      "    -0.04486785]\n",
      "   [ 0.04827389 -0.10264424 -0.04127384 ...  0.00771408 -0.0373114\n",
      "    -0.06344792]\n",
      "   ...\n",
      "   [-0.04172837 -0.07897499 -0.01712522 ...  0.02467984 -0.09698382\n",
      "    -0.04175424]\n",
      "   [ 0.02105154 -0.10785855 -0.05424852 ...  0.01927892 -0.03483386\n",
      "    -0.06723978]\n",
      "   [-0.05336639 -0.03795541 -0.07571343 ... -0.05307686  0.01317382\n",
      "     0.0477328 ]]]\n",
      "\n",
      "\n",
      " [[[-0.07791699  0.10065079  0.10566501 ... -0.04236805 -0.01708774\n",
      "    -0.08038983]\n",
      "   [-0.02307335 -0.08639526 -0.05138778 ...  0.04249293 -0.02725296\n",
      "    -0.0128998 ]\n",
      "   [-0.01629568 -0.06552534 -0.09665804 ...  0.05245435  0.06370489\n",
      "     0.18231384]\n",
      "   ...\n",
      "   [ 0.02158597  0.03618985  0.05104175 ...  0.00933306 -0.01630607\n",
      "     0.12455401]\n",
      "   [-0.02219969  0.15016492  0.02473504 ...  0.03100825  0.00962113\n",
      "    -0.09157573]\n",
      "   [ 0.00374461  0.04670279  0.02271015 ...  0.06784801 -0.04676233\n",
      "    -0.08431993]]\n",
      "\n",
      "  [[-0.0806402  -0.02901129  0.0806394  ... -0.06356855  0.0682485\n",
      "    -0.06370396]\n",
      "   [ 0.04027668 -0.05424044  0.03648642 ...  0.07852648  0.01252038\n",
      "    -0.00847313]\n",
      "   [-0.03323887 -0.08520161 -0.04509893 ...  0.01220957  0.02088924\n",
      "     0.00286569]\n",
      "   ...\n",
      "   [-0.01165191 -0.10081263 -0.0053386  ... -0.06898807  0.00504037\n",
      "    -0.08012024]\n",
      "   [-0.10516092 -0.07570648 -0.00483335 ...  0.00745567 -0.04841381\n",
      "    -0.05316903]\n",
      "   [ 0.01743359 -0.10393469  0.02760368 ...  0.012808    0.06163969\n",
      "     0.10518773]]\n",
      "\n",
      "  [[-0.084321   -0.00437066 -0.02026726 ...  0.01583725 -0.00385469\n",
      "    -0.09342702]\n",
      "   [ 0.08145999  0.00466402 -0.06663397 ... -0.06921424 -0.06248667\n",
      "    -0.01517483]\n",
      "   [ 0.05426437  0.00963552 -0.13332003 ...  0.00777429 -0.0228065\n",
      "    -0.05299263]\n",
      "   ...\n",
      "   [ 0.04443077  0.0510147  -0.0324956  ... -0.0580812   0.00424755\n",
      "    -0.0265564 ]\n",
      "   [-0.09100862 -0.07433738  0.02946098 ...  0.07064572  0.05350861\n",
      "    -0.05272411]\n",
      "   [-0.02925271 -0.02832316 -0.10662052 ... -0.02349904 -0.0014895\n",
      "     0.02521724]]]]\n"
     ]
    }
   ],
   "source": [
    "# How to get the weights for a given Conv Layer\n",
    "w = np.array(l.get_weights())\n",
    "\n",
    "print('bias', w[1].shape, w[1])\n",
    "print('filters/kernels', w[0].shape, w[0])"
   ]
  },
  {
   "cell_type": "code",
   "execution_count": 97,
   "metadata": {},
   "outputs": [
    {
     "name": "stdout",
     "output_type": "stream",
     "text": [
      "bias (64,) [-0.01069099  0.02272674 -0.01756068 -0.00936664  0.00280084 -0.01668407\n",
      "  0.01923493  0.02436849  0.02511405 -0.02559339 -0.05481247 -0.03853135\n",
      " -0.00108748 -0.01878266 -0.05932373 -0.01748224  0.00078016 -0.0074584\n",
      " -0.0591137  -0.04082584 -0.05438323 -0.01958195  0.00539558 -0.03734969\n",
      " -0.02116414 -0.00367418 -0.02522313 -0.00149765  0.03983466  0.02258543\n",
      " -0.0197644  -0.0324271  -0.01191538  0.02768488 -0.01818716 -0.02297566\n",
      " -0.04350472 -0.00267011 -0.00640231 -0.00981226 -0.02337164  0.00724582\n",
      " -0.0157563  -0.02746685 -0.03069875 -0.04647975 -0.01761444 -0.03327103\n",
      " -0.01227138 -0.04837846 -0.01293415 -0.04519193 -0.01316861 -0.01785816\n",
      "  0.01987362 -0.00952165 -0.01300839 -0.00864334 -0.00807639 -0.02497816\n",
      " -0.01392487 -0.03931912 -0.03319716 -0.02579213]\n",
      "filters/kernels (3, 3, 32, 64) [[[[-0.08571415  0.13301696  0.07425725 ... -0.03373678  0.00929826\n",
      "    -0.04612197]\n",
      "   [ 0.01916631 -0.03605748 -0.031881   ... -0.01927061  0.05786519\n",
      "     0.03094606]\n",
      "   [ 0.09701069 -0.00979302  0.05287173 ... -0.00385755 -0.0487025\n",
      "     0.08078787]\n",
      "   ...\n",
      "   [-0.02036482  0.00738834 -0.02947479 ...  0.08393039  0.05711264\n",
      "    -0.05589438]\n",
      "   [-0.04207727  0.10574853  0.00942712 ...  0.04854799 -0.06765021\n",
      "     0.04443121]\n",
      "   [ 0.00852735  0.02597238  0.07380578 ... -0.03992393 -0.10931555\n",
      "     0.02372536]]\n",
      "\n",
      "  [[ 0.07718859  0.07481424 -0.00439348 ... -0.05589924  0.00549158\n",
      "    -0.00110031]\n",
      "   [-0.07653857  0.02570128 -0.05883979 ...  0.02815822  0.04874888\n",
      "     0.06757659]\n",
      "   [ 0.06651194 -0.13982199 -0.10156425 ...  0.04621707 -0.0687919\n",
      "     0.01698433]\n",
      "   ...\n",
      "   [ 0.03920713  0.00844086  0.05512157 ...  0.04175841 -0.02490875\n",
      "    -0.01944434]\n",
      "   [ 0.08394293  0.07045805 -0.02463049 ...  0.01517062  0.03607911\n",
      "    -0.07292146]\n",
      "   [-0.07775173  0.13934606  0.08780959 ... -0.01299077 -0.02855559\n",
      "     0.00689873]]\n",
      "\n",
      "  [[ 0.02539855 -0.0245438  -0.02867869 ...  0.08169883  0.0383199\n",
      "    -0.03677753]\n",
      "   [-0.09225381 -0.1201348   0.04223845 ...  0.0580317   0.05916524\n",
      "    -0.14032221]\n",
      "   [-0.02133019 -0.11143775  0.02286044 ... -0.03376033  0.04693741\n",
      "    -0.03528315]\n",
      "   ...\n",
      "   [-0.0823209  -0.05480975  0.02522256 ...  0.02746041  0.04091428\n",
      "    -0.04899932]\n",
      "   [ 0.07639405 -0.00091957  0.02344901 ... -0.00148359  0.06242878\n",
      "    -0.01117092]\n",
      "   [ 0.03960744  0.07150009 -0.04800198 ...  0.01765498 -0.04790674\n",
      "    -0.08490266]]]\n",
      "\n",
      "\n",
      " [[[ 0.09773023  0.06657446  0.0775395  ... -0.10512952 -0.09439861\n",
      "    -0.03527062]\n",
      "   [ 0.02545634  0.06786405  0.06651045 ... -0.01388278 -0.02056946\n",
      "    -0.02208939]\n",
      "   [ 0.01656464 -0.00941062 -0.06242108 ...  0.03999417 -0.05847948\n",
      "     0.05283294]\n",
      "   ...\n",
      "   [-0.0371785  -0.02421832 -0.06326043 ... -0.06646737  0.01538324\n",
      "     0.03243113]\n",
      "   [ 0.00348614  0.14051042  0.09375331 ...  0.02783718 -0.08315203\n",
      "    -0.01145106]\n",
      "   [ 0.07687687  0.06767725  0.01144288 ...  0.0333176   0.0571182\n",
      "     0.11294223]]\n",
      "\n",
      "  [[-0.00388772 -0.01173645 -0.01826955 ... -0.0648803  -0.01248772\n",
      "     0.02143857]\n",
      "   [ 0.06754555 -0.06976091  0.00699745 ...  0.064817    0.01615932\n",
      "     0.09182924]\n",
      "   [-0.03560581 -0.03229503 -0.01853779 ... -0.03549526 -0.08711981\n",
      "    -0.04291899]\n",
      "   ...\n",
      "   [-0.07435916 -0.03748737 -0.04085316 ... -0.06602716 -0.05050684\n",
      "    -0.06931929]\n",
      "   [ 0.05030593  0.04903546  0.01266881 ... -0.00139066  0.02275044\n",
      "     0.03538728]\n",
      "   [ 0.02384488  0.02157287  0.02996584 ...  0.00637603 -0.02487943\n",
      "     0.11412313]]\n",
      "\n",
      "  [[ 0.02759304 -0.02161408 -0.00779341 ... -0.06490827 -0.00207149\n",
      "    -0.05634976]\n",
      "   [-0.04391785 -0.12503341  0.04313112 ... -0.05529952  0.06158251\n",
      "    -0.04486785]\n",
      "   [ 0.04827389 -0.10264424 -0.04127384 ...  0.00771408 -0.0373114\n",
      "    -0.06344792]\n",
      "   ...\n",
      "   [-0.04172837 -0.07897499 -0.01712522 ...  0.02467984 -0.09698382\n",
      "    -0.04175424]\n",
      "   [ 0.02105154 -0.10785855 -0.05424852 ...  0.01927892 -0.03483386\n",
      "    -0.06723978]\n",
      "   [-0.05336639 -0.03795541 -0.07571343 ... -0.05307686  0.01317382\n",
      "     0.0477328 ]]]\n",
      "\n",
      "\n",
      " [[[-0.07791699  0.10065079  0.10566501 ... -0.04236805 -0.01708774\n",
      "    -0.08038983]\n",
      "   [-0.02307335 -0.08639526 -0.05138778 ...  0.04249293 -0.02725296\n",
      "    -0.0128998 ]\n",
      "   [-0.01629568 -0.06552534 -0.09665804 ...  0.05245435  0.06370489\n",
      "     0.18231384]\n",
      "   ...\n",
      "   [ 0.02158597  0.03618985  0.05104175 ...  0.00933306 -0.01630607\n",
      "     0.12455401]\n",
      "   [-0.02219969  0.15016492  0.02473504 ...  0.03100825  0.00962113\n",
      "    -0.09157573]\n",
      "   [ 0.00374461  0.04670279  0.02271015 ...  0.06784801 -0.04676233\n",
      "    -0.08431993]]\n",
      "\n",
      "  [[-0.0806402  -0.02901129  0.0806394  ... -0.06356855  0.0682485\n",
      "    -0.06370396]\n",
      "   [ 0.04027668 -0.05424044  0.03648642 ...  0.07852648  0.01252038\n",
      "    -0.00847313]\n",
      "   [-0.03323887 -0.08520161 -0.04509893 ...  0.01220957  0.02088924\n",
      "     0.00286569]\n",
      "   ...\n",
      "   [-0.01165191 -0.10081263 -0.0053386  ... -0.06898807  0.00504037\n",
      "    -0.08012024]\n",
      "   [-0.10516092 -0.07570648 -0.00483335 ...  0.00745567 -0.04841381\n",
      "    -0.05316903]\n",
      "   [ 0.01743359 -0.10393469  0.02760368 ...  0.012808    0.06163969\n",
      "     0.10518773]]\n",
      "\n",
      "  [[-0.084321   -0.00437066 -0.02026726 ...  0.01583725 -0.00385469\n",
      "    -0.09342702]\n",
      "   [ 0.08145999  0.00466402 -0.06663397 ... -0.06921424 -0.06248667\n",
      "    -0.01517483]\n",
      "   [ 0.05426437  0.00963552 -0.13332003 ...  0.00777429 -0.0228065\n",
      "    -0.05299263]\n",
      "   ...\n",
      "   [ 0.04443077  0.0510147  -0.0324956  ... -0.0580812   0.00424755\n",
      "    -0.0265564 ]\n",
      "   [-0.09100862 -0.07433738  0.02946098 ...  0.07064572  0.05350861\n",
      "    -0.05272411]\n",
      "   [-0.02925271 -0.02832316 -0.10662052 ... -0.02349904 -0.0014895\n",
      "     0.02521724]]]]\n"
     ]
    }
   ],
   "source": [
    "# weights for Conv layer 2\n",
    "\n",
    "l = model.layers[1]\n",
    "l.get_config()\n",
    "\n",
    "# filters (kernels) for Conv layer 1\n",
    "w = np.array(l.get_weights())\n",
    "\n",
    "print('bias', w[1].shape, w[1])\n",
    "print('filters/kernels', w[0].shape, w[0])"
   ]
  },
  {
   "cell_type": "code",
   "execution_count": null,
   "metadata": {},
   "outputs": [],
   "source": []
  }
 ],
 "metadata": {
  "kernelspec": {
   "display_name": "Python 3",
   "language": "python",
   "name": "python3"
  },
  "language_info": {
   "codemirror_mode": {
    "name": "ipython",
    "version": 3
   },
   "file_extension": ".py",
   "mimetype": "text/x-python",
   "name": "python",
   "nbconvert_exporter": "python",
   "pygments_lexer": "ipython3",
   "version": "3.6.5"
  }
 },
 "nbformat": 4,
 "nbformat_minor": 2
}
