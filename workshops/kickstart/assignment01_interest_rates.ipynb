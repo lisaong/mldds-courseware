{
 "cells": [
  {
   "cell_type": "markdown",
   "metadata": {},
   "source": [
    "# Regression Assignment: Predict Singapore Interest Rates\n",
    "\n",
    "Estimated Time: 3-4 hours\n",
    "\n",
    "Complete this assignment to predict interest rates using Linear Regression.\n",
    "\n",
    "The dataset consists of 6 month windows of interest rates, and your task is to train a Linear Regression model that predicts the next month's interest rate, given the past 5 months.\n",
    "\n",
    "Data source: [Monetary Authority of Singapore](https://secure.mas.gov.sg/msb/InterestRatesOfBanksAndFinanceCompanies.aspx)\n",
    "\n",
    "Attributes:\n",
    "- current_date: the current year and month (for reference only, do NOT use for training/prediction)\n",
    "- t-5: interest rate at (current_date - 5 months), in % p.a.\n",
    "- t-4: interest rate at (current_date - 4 months), in % p.a.\n",
    "- t-3: interest rate at (current_date - 3 months), in % p.a.\n",
    "- t-2: interest rate at (current_date - 2 months), in % p.a.\n",
    "- t-1: interest rate at (current_date - 1 month), in % p.a.\n",
    "\n",
    "Target variable to predict:\n",
    "- current_rate: interest rate at current_date, in % p.a."
   ]
  },
  {
   "cell_type": "code",
   "execution_count": null,
   "metadata": {},
   "outputs": [],
   "source": [
    "import pandas as pd\n",
    "import matplotlib.pyplot as plt\n",
    "import seaborn as sns\n",
    "from sklearn.model_selection import learning_curve\n",
    "from sklearn.linear_model import SGDRegressor\n",
    "from sklearn.metrics import mean_squared_error, r2_score\n",
    "import pickle\n",
    "import numpy as np\n",
    "\n",
    "%matplotlib inline"
   ]
  },
  {
   "cell_type": "markdown",
   "metadata": {},
   "source": [
    "## Load data\n",
    "\n",
    "Use pd.read_csv to load the data"
   ]
  },
  {
   "cell_type": "code",
   "execution_count": null,
   "metadata": {},
   "outputs": [],
   "source": []
  },
  {
   "cell_type": "markdown",
   "metadata": {},
   "source": [
    "## Data cleaning\n",
    "\n",
    "- Check for NaN values and clean them"
   ]
  },
  {
   "cell_type": "code",
   "execution_count": null,
   "metadata": {},
   "outputs": [],
   "source": []
  },
  {
   "cell_type": "markdown",
   "metadata": {},
   "source": [
    "## Data exploration\n",
    "\n",
    "- Plot the correlation matrix\n",
    "- Plot currrent_rate over time"
   ]
  },
  {
   "cell_type": "code",
   "execution_count": null,
   "metadata": {},
   "outputs": [],
   "source": []
  },
  {
   "cell_type": "markdown",
   "metadata": {},
   "source": [
    "## Feature reduction & scaling (not needed)\n",
    "\n",
    "- Feature reduction is not needed because the number of features is small and we are trying to predict a trend from past values.\n",
    "\n",
    "- Feature scaling is not needed because the columns are all historical interest rates (same ranges)."
   ]
  },
  {
   "cell_type": "markdown",
   "metadata": {},
   "source": [
    "## Train model\n",
    "\n",
    "Omit the current_date column when predicting the interest rates. \n",
    "\n",
    "- X should be the interest rate history columns\n",
    "- y should be the current_rate column\n",
    "- Hold out the 2018 interest rates as test data"
   ]
  },
  {
   "cell_type": "code",
   "execution_count": null,
   "metadata": {},
   "outputs": [],
   "source": []
  },
  {
   "cell_type": "markdown",
   "metadata": {},
   "source": [
    "## Evaluation metrics\n",
    "\n",
    "Use mean_square_error and r2_score"
   ]
  },
  {
   "cell_type": "code",
   "execution_count": null,
   "metadata": {},
   "outputs": [],
   "source": []
  },
  {
   "cell_type": "markdown",
   "metadata": {},
   "source": [
    "## Deployment and Prediction\n",
    "\n",
    "* Save the model\n",
    "* Load it from file\n",
    "* Get predictions for the 2018 interest rates.\n",
    "* Optional: Get predictions for the whole series and plot it."
   ]
  },
  {
   "cell_type": "code",
   "execution_count": null,
   "metadata": {},
   "outputs": [],
   "source": []
  },
  {
   "cell_type": "code",
   "execution_count": null,
   "metadata": {},
   "outputs": [],
   "source": []
  }
 ],
 "metadata": {
  "kernelspec": {
   "display_name": "Python 3",
   "language": "python",
   "name": "python3"
  },
  "language_info": {
   "codemirror_mode": {
    "name": "ipython",
    "version": 3
   },
   "file_extension": ".py",
   "mimetype": "text/x-python",
   "name": "python",
   "nbconvert_exporter": "python",
   "pygments_lexer": "ipython3",
   "version": "3.6.6"
  }
 },
 "nbformat": 4,
 "nbformat_minor": 2
}
