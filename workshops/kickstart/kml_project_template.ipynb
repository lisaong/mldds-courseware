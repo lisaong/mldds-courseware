{
 "cells": [
  {
   "cell_type": "markdown",
   "metadata": {},
   "source": [
    "# Final Project Template\n",
    "\n",
    "This workbook provides the template for the final project. \n",
    "\n",
    "## Instructions\n",
    "- Work individually or in pairs\n",
    "- Each team is to complete 1 copy of this template.\n",
    "  - Complete all sections.\n",
    "  - Feel free to include supporting material / slides / documents as needed.\n",
    "- At the end of the project, you will get 5 minutes to present this workbook to the class.\n",
    "\n",
    "### Submission Instructions\n",
    "- Submit the .ipynb with the Output cells showing the results\n",
    "  - Naming convention:\n",
    "  ```\n",
    "      <name1>-<name2>-<project_short_name>.ipynb\n",
    "  ```\n",
    "- If you provide your own datasets, include the data with your .ipynb, unless it is confidential"
   ]
  },
  {
   "cell_type": "code",
   "execution_count": null,
   "metadata": {},
   "outputs": [],
   "source": []
  },
  {
   "cell_type": "markdown",
   "metadata": {},
   "source": [
    "## Section 0: Team Members\n",
    "- Member 1\n",
    "- Member 2"
   ]
  },
  {
   "cell_type": "markdown",
   "metadata": {},
   "source": [
    "## Section 1: Project Title\n",
    "\n",
    "- The title should 1 sentence that describes the goal of this project.\n",
    "- Example: Vehicle category classification using COE premiums and quotas"
   ]
  },
  {
   "cell_type": "markdown",
   "metadata": {},
   "source": [
    "## Section 2: Project Definition\n",
    "\n",
    "### Goals\n",
    "\n",
    "Describe the goal of this project.\n",
    "\n",
    "Example:\n",
    "The goal of this project is to determine if the bid quotas and premiums can be > used to predict the vehicle category.\n",
    "\n",
    "Important:\n",
    "- If this is your first project, keep the project definition as simple as possible. \n",
    "- As a rule of thumb, pick something that can be completed in 2-3 hours.\n",
    "- If you are not sure, use the workshop problems as a reference.\n",
    "\n",
    "### Dataset\n",
    "\n",
    "Briefly describe the source(s) of data you are using.\n",
    "- Provide the URL to the data source.\n",
    "- If you are providing your own data set, include the data with your project submission, unless the data is confidential.\n",
    "- Describe the attributes of the dataset and the target variable (if any)\n",
    "\n",
    "### Tasks\n",
    "\n",
    "List the tasks you will perform. \n",
    "\n",
    "Example:\n",
    " \n",
    "1. Process the dataset to convert strings into labels.\n",
    "2. Shuffle and split into train and test sets\n",
    "3. Train a classification model, using algorithm A, B, C...\n",
    "4. Compute the metrics for the algorithm.\n",
    "5. Perform analysis for possible improvements."
   ]
  },
  {
   "cell_type": "markdown",
   "metadata": {},
   "source": [
    "## Section 3: Data Engineering\n",
    "\n",
    "Consider:\n",
    "* Data Cleaning\n",
    "* Data Exploration\n",
    "* Imbalance / Data Sampling\n",
    "* Data Encoding"
   ]
  },
  {
   "cell_type": "code",
   "execution_count": null,
   "metadata": {},
   "outputs": [],
   "source": []
  },
  {
   "cell_type": "code",
   "execution_count": null,
   "metadata": {},
   "outputs": [],
   "source": []
  },
  {
   "cell_type": "markdown",
   "metadata": {},
   "source": [
    "## Section 4: Feature Engineering\n",
    "\n",
    "Consider:\n",
    "* Feature Reduction\n",
    "* PCA plot in 2D"
   ]
  },
  {
   "cell_type": "code",
   "execution_count": null,
   "metadata": {},
   "outputs": [],
   "source": []
  },
  {
   "cell_type": "code",
   "execution_count": null,
   "metadata": {},
   "outputs": [],
   "source": []
  },
  {
   "cell_type": "markdown",
   "metadata": {},
   "source": [
    "## Section 5: Model Engineering\n",
    "\n",
    "Consider:\n",
    "* Learning Curve to avoid Overfitting"
   ]
  },
  {
   "cell_type": "code",
   "execution_count": null,
   "metadata": {},
   "outputs": [],
   "source": []
  },
  {
   "cell_type": "code",
   "execution_count": null,
   "metadata": {},
   "outputs": [],
   "source": []
  },
  {
   "cell_type": "markdown",
   "metadata": {},
   "source": [
    "## Section 6: Evaluate Metrics\n",
    "\n",
    "Consider:\n",
    "* Which metric to use?"
   ]
  },
  {
   "cell_type": "code",
   "execution_count": null,
   "metadata": {},
   "outputs": [],
   "source": []
  },
  {
   "cell_type": "code",
   "execution_count": null,
   "metadata": {},
   "outputs": [],
   "source": []
  },
  {
   "cell_type": "markdown",
   "metadata": {},
   "source": [
    "## Section 7: Observations and analysis\n",
    "\n",
    "Answer the following questions:\n",
    "1. What do you conclude from the metrics?\n",
    "\n",
    "3. What improvements do you propose?"
   ]
  },
  {
   "cell_type": "code",
   "execution_count": null,
   "metadata": {},
   "outputs": [],
   "source": []
  }
 ],
 "metadata": {
  "kernelspec": {
   "display_name": "Python 3",
   "language": "python",
   "name": "python3"
  },
  "language_info": {
   "codemirror_mode": {
    "name": "ipython",
    "version": 3
   },
   "file_extension": ".py",
   "mimetype": "text/x-python",
   "name": "python",
   "nbconvert_exporter": "python",
   "pygments_lexer": "ipython3",
   "version": "3.6.6"
  }
 },
 "nbformat": 4,
 "nbformat_minor": 2
}
