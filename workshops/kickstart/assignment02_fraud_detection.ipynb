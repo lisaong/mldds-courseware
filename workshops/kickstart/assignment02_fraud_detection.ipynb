{
 "cells": [
  {
   "cell_type": "markdown",
   "metadata": {},
   "source": [
    "# Classification Assignment: Detect Fraudulent Transactions\n",
    "\n",
    "Estimated Time: 2-3 hours\n",
    "\n",
    "Complete this assignment to detect whether a mobile money transaction is fraudulent.\n",
    "\n",
    "Data source: [Synthetic Financial Datasets For Fraud Detection](https://www.kaggle.com/ntnu-testimon/paysim1)\n",
    "\n",
    "Attributes:\n",
    "- step: Maps a unit of time in the real world. In this case 1 step is 1 hour of time.\n",
    "- type: CASH-IN, CASH-OUT, DEBIT, PAYMENT and TRANSFER\n",
    "- amount: amount of the transaction in local currency\n",
    "- nameOrig: customer who started the transaction\n",
    "- oldbalanceOrg - initial balance before the transaction\n",
    "- newbalanceOrig - customer's balance after the transaction.\n",
    "- nameDest - recipient ID of the transaction.\n",
    "- oldbalanceDest - initial recipient balance before the transaction.\n",
    "- newbalanceDest - recipient's balance after the transaction.\n",
    "- isFlaggedFraud - flags illegal attempts to transfer more than 200.000 in a single transaction.\n",
    "\n",
    "Target variable to predict:\n",
    "- isFraud - identifies a fraudulent transaction (1) and non fraudulent (0)"
   ]
  },
  {
   "cell_type": "code",
   "execution_count": null,
   "metadata": {},
   "outputs": [],
   "source": [
    "import pandas as pd\n",
    "import matplotlib.pyplot as plt\n",
    "import seaborn as sns\n",
    "from sklearn.preprocessing import LabelEncoder, StandardScaler\n",
    "from sklearn.decomposition import PCA\n",
    "from sklearn.model_selection import train_test_split\n",
    "from sklearn.linear_model import SGDClassifier\n",
    "from sklearn.svm import SVC\n",
    "from sklearn.metrics import classification_report, confusion_matrix, roc_curve, auc, accuracy_score\n",
    "import pickle\n",
    "import numpy as np\n",
    "\n",
    "%matplotlib inline"
   ]
  },
  {
   "cell_type": "markdown",
   "metadata": {},
   "source": [
    "## Load data\n",
    "\n",
    "Use pd.read_csv to load the data from `paysim_transactions_64k.csv`"
   ]
  },
  {
   "cell_type": "code",
   "execution_count": null,
   "metadata": {},
   "outputs": [],
   "source": []
  },
  {
   "cell_type": "markdown",
   "metadata": {},
   "source": [
    "## Data cleaning (not needed)\n",
    "\n",
    "Not needed because there are no NaN values."
   ]
  },
  {
   "cell_type": "markdown",
   "metadata": {},
   "source": [
    "## Data encoding\n",
    "Label encode the following columns from strings to numbers:\n",
    "  * `type`\n",
    "  * `nameOrig`\n",
    "  * `nameDest`"
   ]
  },
  {
   "cell_type": "code",
   "execution_count": null,
   "metadata": {},
   "outputs": [],
   "source": []
  },
  {
   "cell_type": "markdown",
   "metadata": {},
   "source": [
    "## Data exploration\n",
    "\n",
    "- Plot the correlation matrix"
   ]
  },
  {
   "cell_type": "code",
   "execution_count": null,
   "metadata": {},
   "outputs": [],
   "source": []
  },
  {
   "cell_type": "markdown",
   "metadata": {},
   "source": [
    "## Data sampling\n",
    "\n",
    "- Check for imbalance for the target column (`isFraud`)\n",
    "- If imbalance exists\n",
    "   - First, hold out a portion (5%) of each class for test data\n",
    "   - Then, use random over-sampling to increase the minority class training data to 10000"
   ]
  },
  {
   "cell_type": "code",
   "execution_count": null,
   "metadata": {},
   "outputs": [],
   "source": []
  },
  {
   "cell_type": "markdown",
   "metadata": {},
   "source": [
    "## PCA plot\n",
    "\n",
    "Visualise the dataset in 2D using PCA."
   ]
  },
  {
   "cell_type": "code",
   "execution_count": null,
   "metadata": {},
   "outputs": [],
   "source": []
  },
  {
   "cell_type": "markdown",
   "metadata": {},
   "source": [
    "## Train model\n",
    "\n",
    "- Scale X train by fitting a scaler on the training set\n",
    "- Train two classifiers: SGDClassifier and SVC\n",
    "\n",
    "Note: No need to use learning_curve, because the minority class is too small. Just call `.fit()` using the whole training set."
   ]
  },
  {
   "cell_type": "code",
   "execution_count": null,
   "metadata": {},
   "outputs": [],
   "source": []
  },
  {
   "cell_type": "markdown",
   "metadata": {},
   "source": [
    "## Evaluation metrics\n",
    "\n",
    "- Compare the F1 scores between the classifiers.\n",
    "- Plot the confusion matrix for both classifiers.\n",
    "- Plot the ROC curve and compute Area Under the Curve (AUC)"
   ]
  },
  {
   "cell_type": "code",
   "execution_count": null,
   "metadata": {},
   "outputs": [],
   "source": []
  },
  {
   "cell_type": "markdown",
   "metadata": {},
   "source": [
    "## Deployment and Prediction\n",
    "\n",
    "* Determine which is the better model based on AUC\n",
    "* Save X_scaler and **the better** model\n",
    "* Load the scaler and model\n",
    "* Get predictions for the fraud transactions in the test set"
   ]
  },
  {
   "cell_type": "code",
   "execution_count": null,
   "metadata": {},
   "outputs": [],
   "source": []
  }
 ],
 "metadata": {
  "kernelspec": {
   "display_name": "Python 3",
   "language": "python",
   "name": "python3"
  },
  "language_info": {
   "codemirror_mode": {
    "name": "ipython",
    "version": 3
   },
   "file_extension": ".py",
   "mimetype": "text/x-python",
   "name": "python",
   "nbconvert_exporter": "python",
   "pygments_lexer": "ipython3",
   "version": "3.6.6"
  }
 },
 "nbformat": 4,
 "nbformat_minor": 2
}
