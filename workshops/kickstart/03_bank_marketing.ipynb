{
 "cells": [
  {
   "cell_type": "markdown",
   "metadata": {},
   "source": [
    "## Clustering and Decision Trees\n",
    "\n",
    "### Dataset: Marketing in Banking\n",
    "\n",
    "Source: https://www.kaggle.com/janiobachmann/bank-marketing-dataset\n",
    "\n",
    "(Original source: https://archive.ics.uci.edu/ml/datasets/bank+marketing)\n",
    "\n",
    "#### Input variables:\n",
    "\n",
    "##### bank client data:\n",
    " 1. age (numeric)\n",
    " 2. job : type of job (categorical: 'admin.','blue-collar','entrepreneur','housemaid','management','retired','self-employed','services','student','technician','unemployed','unknown')\n",
    " 3. marital : marital status (categorical: 'divorced','married','single','unknown'; note: 'divorced' means divorced or widowed)\n",
    " 4. education (categorical: 'basic.4y','basic.6y','basic.9y','high.school','illiterate','professional.course','university.degree','unknown')\n",
    " 5. default: has credit in default? (categorical: 'no','yes','unknown')\n",
    " 6. housing: has housing loan? (categorical: 'no','yes','unknown')\n",
    " 7. loan: has personal loan? (categorical: 'no','yes','unknown')\n",
    "\n",
    "##### related with the last contact of the current campaign:\n",
    " 8. contact: contact communication type (categorical: 'cellular','telephone') \n",
    " 9. month: last contact month of year (categorical: 'jan', 'feb', 'mar', ..., 'nov', 'dec')\n",
    " 10. day_of_week: last contact day of the week (categorical: 'mon','tue','wed','thu','fri')\n",
    " 11. duration: last contact duration, in seconds (numeric). Important note: this attribute highly affects the output target (e.g., if duration=0 then y='no'). Yet, the duration is not known before a call is performed. Also, after the end of the call y is obviously known. Thus, this input should only be included for benchmark purposes and should be discarded if the intention is to have a realistic predictive model.\n",
    "\n",
    "##### other attributes:\n",
    " 12. campaign: number of contacts performed during this campaign and for this client (numeric, includes last contact)\n",
    " 13. pdays: number of days that passed by after the client was last contacted from a previous campaign (numeric; 999 means client was not previously contacted)\n",
    " 14. previous: number of contacts performed before this campaign and for this client (numeric)\n",
    " 15. poutcome: outcome of the previous marketing campaign (categorical: 'failure','nonexistent','success')\n",
    "\n",
    "##### social and economic context attributes\n",
    " 16. emp.var.rate: employment variation rate - quarterly indicator (numeric)\n",
    " 17. cons.price.idx: consumer price index - monthly indicator (numeric) \n",
    " 18. cons.conf.idx: consumer confidence index - monthly indicator (numeric) \n",
    " 19. euribor3m: euribor 3 month rate - daily indicator (numeric)\n",
    " 20. nr.employed: number of employees - quarterly indicator (numeric)\n",
    "\n",
    "#### Output variable (desired target):\n",
    " 21. y - has the client subscribed a term deposit? (binary: 'yes','no')\n",
    " \n",
    "### Tasks\n",
    "\n",
    "- Explore clustering algorithms on the dataset\n",
    "- Fit a decision tree on the dataset"
   ]
  },
  {
   "cell_type": "code",
   "execution_count": null,
   "metadata": {},
   "outputs": [],
   "source": []
  }
 ],
 "metadata": {
  "kernelspec": {
   "display_name": "Python 3",
   "language": "python",
   "name": "python3"
  },
  "language_info": {
   "codemirror_mode": {
    "name": "ipython",
    "version": 3
   },
   "file_extension": ".py",
   "mimetype": "text/x-python",
   "name": "python",
   "nbconvert_exporter": "python",
   "pygments_lexer": "ipython3",
   "version": "3.6.6"
  }
 },
 "nbformat": 4,
 "nbformat_minor": 2
}
