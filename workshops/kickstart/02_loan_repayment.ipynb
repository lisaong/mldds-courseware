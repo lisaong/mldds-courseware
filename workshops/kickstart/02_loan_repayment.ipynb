{
 "cells": [
  {
   "cell_type": "markdown",
   "metadata": {},
   "source": [
    "## Bank Loan Repayment\n",
    "\n",
    "### Tasks\n",
    "- Feature Reduction\n",
    "- Classification\n",
    "\n",
    "### Dataset\n",
    "\n",
    "https://www.kaggle.com/kirankarri/kiran-loans\n",
    "https://www.lendingclub.com/info/download-data.action\n",
    "\n",
    "### Description\n",
    "\n",
    "From: https://www.kaggle.com/indra90/predicting-loan-repayment\n",
    "\n",
    "In the lending industry, investors provide loans to borrowers in exchange for the promise of repayment with interest. If the borrower repays the loan, then the lender profits from the interest. However, if the borrower is unable to repay the loan, then the lender loses money. Therefore, lenders face the problem of predicting the risk of a borrower being unable to repay a loan.\n",
    "\n",
    "To address this problem, we will use publicly available data from LendingClub.com, a website that connects borrowers and investors over the Internet. This dataset represents 9,578 3-year loans that were funded through the LendingClub.com platform between May 2007 and February 2010. The binary dependent variable not_fully_paid indicates that the loan was not paid back in full (the borrower either defaulted or the loan was \"charged off,\" meaning the borrower was deemed unlikely to ever pay it back).\n",
    "\n",
    "#### Dependent Variable - 'not.fully.paid'\n",
    "\n",
    "A binary variable indicating that the loan was not paid back in full, i.e, (the borrower either defaulted or the loan was \"charged off,\" meaning the borrower was deemed unlikely to ever pay it back).\n",
    "\n",
    "#### Independent Variables\n",
    "  1. credit.policy: 1 if the customer meets the credit underwriting criteria of LendingClub.com, and 0 otherwise.\n",
    "  2. purpose: The purpose of the loan (takes values “credit_card”, “debt_consolidation”, “educational”, “major_purchase”, “small_business”, and “all_other”).\n",
    "  3. int.rate: The interest rate of the loan, as a proportion (a rate of 11% would be stored as 0.11). Borrowers judged by LendingClub.com to be more risky are assigned higher interest rates.\n",
    "  4. installment: The monthly installments ($) owed by the borrower if the loan is funded.\n",
    "  5. annualincome: the self-reported annual income of the borrower.\n",
    "  6. log.annual.inc: The natural log of the self-reported annual income of the borrower.\n",
    "  7. dti: The debt-to-income ratio of the borrower (amount of debt divided by annual income).\n",
    "  8. fico: The FICO credit score of the borrower.\n",
    "  9. days.with.cr.line: The number of days the borrower has had a credit line.\n",
    "  10. revol.bal: The borrower’s revolving balance (amount unpaid at the end of the credit card billing cycle).\n",
    "  11. revol.util: The borrower’s revolving line utilization rate (the amount of the credit line used relative to total credit available).\n",
    "  12. inq.last.6mths: The borrower’s number of inquiries by creditors in the last 6 months.\n",
    "  13. delinq.2yrs: The number of times the borrower had been 30+ days past due on a payment in the past 2 years.\n",
    "  14. pub.rec: The borrower’s number of derogatory public records (bankruptcy filings, tax liens, or judgments)."
   ]
  },
  {
   "cell_type": "code",
   "execution_count": 1,
   "metadata": {},
   "outputs": [],
   "source": [
    "import pandas as pd\n",
    "import matplotlib.pyplot as plt\n",
    "import seaborn as sns\n",
    "\n",
    "%matplotlib inline"
   ]
  },
  {
   "cell_type": "code",
   "execution_count": 2,
   "metadata": {},
   "outputs": [
    {
     "data": {
      "text/html": [
       "<div>\n",
       "<style scoped>\n",
       "    .dataframe tbody tr th:only-of-type {\n",
       "        vertical-align: middle;\n",
       "    }\n",
       "\n",
       "    .dataframe tbody tr th {\n",
       "        vertical-align: top;\n",
       "    }\n",
       "\n",
       "    .dataframe thead th {\n",
       "        text-align: right;\n",
       "    }\n",
       "</style>\n",
       "<table border=\"1\" class=\"dataframe\">\n",
       "  <thead>\n",
       "    <tr style=\"text-align: right;\">\n",
       "      <th></th>\n",
       "      <th>credit.policy</th>\n",
       "      <th>purpose</th>\n",
       "      <th>int.rate</th>\n",
       "      <th>installment</th>\n",
       "      <th>log.annual.inc</th>\n",
       "      <th>dti</th>\n",
       "      <th>fico</th>\n",
       "      <th>days.with.cr.line</th>\n",
       "      <th>revol.bal</th>\n",
       "      <th>revol.util</th>\n",
       "      <th>inq.last.6mths</th>\n",
       "      <th>delinq.2yrs</th>\n",
       "      <th>pub.rec</th>\n",
       "      <th>not.fully.paid</th>\n",
       "    </tr>\n",
       "  </thead>\n",
       "  <tbody>\n",
       "    <tr>\n",
       "      <th>0</th>\n",
       "      <td>1</td>\n",
       "      <td>debt_consolidation</td>\n",
       "      <td>0.1189</td>\n",
       "      <td>829.10</td>\n",
       "      <td>11.350407</td>\n",
       "      <td>19.48</td>\n",
       "      <td>737</td>\n",
       "      <td>5639.958333</td>\n",
       "      <td>28854</td>\n",
       "      <td>52.1</td>\n",
       "      <td>0.0</td>\n",
       "      <td>0.0</td>\n",
       "      <td>0.0</td>\n",
       "      <td>0</td>\n",
       "    </tr>\n",
       "    <tr>\n",
       "      <th>1</th>\n",
       "      <td>1</td>\n",
       "      <td>credit_card</td>\n",
       "      <td>0.1071</td>\n",
       "      <td>228.22</td>\n",
       "      <td>11.082143</td>\n",
       "      <td>14.29</td>\n",
       "      <td>707</td>\n",
       "      <td>2760.000000</td>\n",
       "      <td>33623</td>\n",
       "      <td>76.7</td>\n",
       "      <td>0.0</td>\n",
       "      <td>0.0</td>\n",
       "      <td>0.0</td>\n",
       "      <td>0</td>\n",
       "    </tr>\n",
       "    <tr>\n",
       "      <th>2</th>\n",
       "      <td>1</td>\n",
       "      <td>debt_consolidation</td>\n",
       "      <td>0.1357</td>\n",
       "      <td>366.86</td>\n",
       "      <td>10.373491</td>\n",
       "      <td>11.63</td>\n",
       "      <td>682</td>\n",
       "      <td>4710.000000</td>\n",
       "      <td>3511</td>\n",
       "      <td>25.6</td>\n",
       "      <td>1.0</td>\n",
       "      <td>0.0</td>\n",
       "      <td>0.0</td>\n",
       "      <td>0</td>\n",
       "    </tr>\n",
       "    <tr>\n",
       "      <th>3</th>\n",
       "      <td>1</td>\n",
       "      <td>debt_consolidation</td>\n",
       "      <td>0.1008</td>\n",
       "      <td>162.34</td>\n",
       "      <td>11.350407</td>\n",
       "      <td>8.10</td>\n",
       "      <td>712</td>\n",
       "      <td>2699.958333</td>\n",
       "      <td>33667</td>\n",
       "      <td>73.2</td>\n",
       "      <td>1.0</td>\n",
       "      <td>0.0</td>\n",
       "      <td>0.0</td>\n",
       "      <td>0</td>\n",
       "    </tr>\n",
       "    <tr>\n",
       "      <th>4</th>\n",
       "      <td>1</td>\n",
       "      <td>credit_card</td>\n",
       "      <td>0.1426</td>\n",
       "      <td>102.92</td>\n",
       "      <td>11.299732</td>\n",
       "      <td>14.97</td>\n",
       "      <td>667</td>\n",
       "      <td>4066.000000</td>\n",
       "      <td>4740</td>\n",
       "      <td>39.5</td>\n",
       "      <td>0.0</td>\n",
       "      <td>1.0</td>\n",
       "      <td>0.0</td>\n",
       "      <td>0</td>\n",
       "    </tr>\n",
       "  </tbody>\n",
       "</table>\n",
       "</div>"
      ],
      "text/plain": [
       "   credit.policy             purpose  int.rate  installment  log.annual.inc  \\\n",
       "0              1  debt_consolidation    0.1189       829.10       11.350407   \n",
       "1              1         credit_card    0.1071       228.22       11.082143   \n",
       "2              1  debt_consolidation    0.1357       366.86       10.373491   \n",
       "3              1  debt_consolidation    0.1008       162.34       11.350407   \n",
       "4              1         credit_card    0.1426       102.92       11.299732   \n",
       "\n",
       "     dti  fico  days.with.cr.line  revol.bal  revol.util  inq.last.6mths  \\\n",
       "0  19.48   737        5639.958333      28854        52.1             0.0   \n",
       "1  14.29   707        2760.000000      33623        76.7             0.0   \n",
       "2  11.63   682        4710.000000       3511        25.6             1.0   \n",
       "3   8.10   712        2699.958333      33667        73.2             1.0   \n",
       "4  14.97   667        4066.000000       4740        39.5             0.0   \n",
       "\n",
       "   delinq.2yrs  pub.rec  not.fully.paid  \n",
       "0          0.0      0.0               0  \n",
       "1          0.0      0.0               0  \n",
       "2          0.0      0.0               0  \n",
       "3          0.0      0.0               0  \n",
       "4          1.0      0.0               0  "
      ]
     },
     "execution_count": 2,
     "metadata": {},
     "output_type": "execute_result"
    }
   ],
   "source": [
    "df = pd.read_csv('../../data/loan-repayment/loans.csv')\n",
    "\n",
    "df.head()"
   ]
  },
  {
   "cell_type": "code",
   "execution_count": 3,
   "metadata": {},
   "outputs": [],
   "source": [
    "# select initial data columns\n",
    "target = 'not.fully.paid'\n",
    "features = df.columns[df.columns != target]"
   ]
  },
  {
   "cell_type": "markdown",
   "metadata": {},
   "source": [
    "## Data cleaning"
   ]
  },
  {
   "cell_type": "code",
   "execution_count": 4,
   "metadata": {},
   "outputs": [
    {
     "name": "stdout",
     "output_type": "stream",
     "text": [
      "<class 'pandas.core.frame.DataFrame'>\n",
      "RangeIndex: 9578 entries, 0 to 9577\n",
      "Data columns (total 14 columns):\n",
      "credit.policy        9578 non-null int64\n",
      "purpose              9578 non-null object\n",
      "int.rate             9578 non-null float64\n",
      "installment          9578 non-null float64\n",
      "log.annual.inc       9574 non-null float64\n",
      "dti                  9578 non-null float64\n",
      "fico                 9578 non-null int64\n",
      "days.with.cr.line    9549 non-null float64\n",
      "revol.bal            9578 non-null int64\n",
      "revol.util           9516 non-null float64\n",
      "inq.last.6mths       9549 non-null float64\n",
      "delinq.2yrs          9549 non-null float64\n",
      "pub.rec              9549 non-null float64\n",
      "not.fully.paid       9578 non-null int64\n",
      "dtypes: float64(9), int64(4), object(1)\n",
      "memory usage: 1.0+ MB\n"
     ]
    }
   ],
   "source": [
    "df.info()"
   ]
  },
  {
   "cell_type": "code",
   "execution_count": 5,
   "metadata": {},
   "outputs": [
    {
     "data": {
      "text/html": [
       "<div>\n",
       "<style scoped>\n",
       "    .dataframe tbody tr th:only-of-type {\n",
       "        vertical-align: middle;\n",
       "    }\n",
       "\n",
       "    .dataframe tbody tr th {\n",
       "        vertical-align: top;\n",
       "    }\n",
       "\n",
       "    .dataframe thead th {\n",
       "        text-align: right;\n",
       "    }\n",
       "</style>\n",
       "<table border=\"1\" class=\"dataframe\">\n",
       "  <thead>\n",
       "    <tr style=\"text-align: right;\">\n",
       "      <th></th>\n",
       "      <th>credit.policy</th>\n",
       "      <th>purpose</th>\n",
       "      <th>int.rate</th>\n",
       "      <th>installment</th>\n",
       "      <th>log.annual.inc</th>\n",
       "      <th>dti</th>\n",
       "      <th>fico</th>\n",
       "      <th>days.with.cr.line</th>\n",
       "      <th>revol.bal</th>\n",
       "      <th>revol.util</th>\n",
       "      <th>inq.last.6mths</th>\n",
       "      <th>delinq.2yrs</th>\n",
       "      <th>pub.rec</th>\n",
       "      <th>not.fully.paid</th>\n",
       "    </tr>\n",
       "  </thead>\n",
       "  <tbody>\n",
       "    <tr>\n",
       "      <th>781</th>\n",
       "      <td>1</td>\n",
       "      <td>all_other</td>\n",
       "      <td>0.1134</td>\n",
       "      <td>98.70</td>\n",
       "      <td>10.530495</td>\n",
       "      <td>7.72</td>\n",
       "      <td>677</td>\n",
       "      <td>1680.000000</td>\n",
       "      <td>0</td>\n",
       "      <td>NaN</td>\n",
       "      <td>1.0</td>\n",
       "      <td>0.0</td>\n",
       "      <td>0.0</td>\n",
       "      <td>1</td>\n",
       "    </tr>\n",
       "    <tr>\n",
       "      <th>803</th>\n",
       "      <td>1</td>\n",
       "      <td>educational</td>\n",
       "      <td>0.1103</td>\n",
       "      <td>52.41</td>\n",
       "      <td>10.532096</td>\n",
       "      <td>15.84</td>\n",
       "      <td>682</td>\n",
       "      <td>1829.958333</td>\n",
       "      <td>0</td>\n",
       "      <td>NaN</td>\n",
       "      <td>0.0</td>\n",
       "      <td>0.0</td>\n",
       "      <td>0.0</td>\n",
       "      <td>0</td>\n",
       "    </tr>\n",
       "    <tr>\n",
       "      <th>839</th>\n",
       "      <td>1</td>\n",
       "      <td>debt_consolidation</td>\n",
       "      <td>0.1134</td>\n",
       "      <td>263.20</td>\n",
       "      <td>10.714418</td>\n",
       "      <td>8.75</td>\n",
       "      <td>682</td>\n",
       "      <td>2490.000000</td>\n",
       "      <td>0</td>\n",
       "      <td>NaN</td>\n",
       "      <td>1.0</td>\n",
       "      <td>1.0</td>\n",
       "      <td>0.0</td>\n",
       "      <td>1</td>\n",
       "    </tr>\n",
       "    <tr>\n",
       "      <th>857</th>\n",
       "      <td>1</td>\n",
       "      <td>debt_consolidation</td>\n",
       "      <td>0.1229</td>\n",
       "      <td>23.35</td>\n",
       "      <td>9.852194</td>\n",
       "      <td>12.38</td>\n",
       "      <td>662</td>\n",
       "      <td>1199.958333</td>\n",
       "      <td>0</td>\n",
       "      <td>NaN</td>\n",
       "      <td>1.0</td>\n",
       "      <td>0.0</td>\n",
       "      <td>0.0</td>\n",
       "      <td>0</td>\n",
       "    </tr>\n",
       "    <tr>\n",
       "      <th>1213</th>\n",
       "      <td>1</td>\n",
       "      <td>major_purchase</td>\n",
       "      <td>0.1064</td>\n",
       "      <td>182.39</td>\n",
       "      <td>11.264464</td>\n",
       "      <td>4.26</td>\n",
       "      <td>697</td>\n",
       "      <td>4140.958333</td>\n",
       "      <td>0</td>\n",
       "      <td>NaN</td>\n",
       "      <td>0.0</td>\n",
       "      <td>0.0</td>\n",
       "      <td>1.0</td>\n",
       "      <td>0</td>\n",
       "    </tr>\n",
       "    <tr>\n",
       "      <th>1280</th>\n",
       "      <td>1</td>\n",
       "      <td>credit_card</td>\n",
       "      <td>0.1633</td>\n",
       "      <td>264.91</td>\n",
       "      <td>10.819778</td>\n",
       "      <td>10.80</td>\n",
       "      <td>667</td>\n",
       "      <td>5249.958333</td>\n",
       "      <td>0</td>\n",
       "      <td>NaN</td>\n",
       "      <td>0.0</td>\n",
       "      <td>0.0</td>\n",
       "      <td>0.0</td>\n",
       "      <td>1</td>\n",
       "    </tr>\n",
       "    <tr>\n",
       "      <th>1553</th>\n",
       "      <td>1</td>\n",
       "      <td>all_other</td>\n",
       "      <td>0.1557</td>\n",
       "      <td>314.51</td>\n",
       "      <td>10.596535</td>\n",
       "      <td>0.00</td>\n",
       "      <td>687</td>\n",
       "      <td>2940.041667</td>\n",
       "      <td>0</td>\n",
       "      <td>NaN</td>\n",
       "      <td>1.0</td>\n",
       "      <td>0.0</td>\n",
       "      <td>0.0</td>\n",
       "      <td>0</td>\n",
       "    </tr>\n",
       "    <tr>\n",
       "      <th>1782</th>\n",
       "      <td>1</td>\n",
       "      <td>educational</td>\n",
       "      <td>0.1695</td>\n",
       "      <td>97.98</td>\n",
       "      <td>8.342840</td>\n",
       "      <td>0.00</td>\n",
       "      <td>687</td>\n",
       "      <td>1238.041667</td>\n",
       "      <td>0</td>\n",
       "      <td>NaN</td>\n",
       "      <td>0.0</td>\n",
       "      <td>0.0</td>\n",
       "      <td>0.0</td>\n",
       "      <td>0</td>\n",
       "    </tr>\n",
       "    <tr>\n",
       "      <th>1927</th>\n",
       "      <td>1</td>\n",
       "      <td>all_other</td>\n",
       "      <td>0.1379</td>\n",
       "      <td>170.38</td>\n",
       "      <td>10.714418</td>\n",
       "      <td>6.00</td>\n",
       "      <td>722</td>\n",
       "      <td>5280.041667</td>\n",
       "      <td>0</td>\n",
       "      <td>NaN</td>\n",
       "      <td>1.0</td>\n",
       "      <td>0.0</td>\n",
       "      <td>0.0</td>\n",
       "      <td>0</td>\n",
       "    </tr>\n",
       "    <tr>\n",
       "      <th>2008</th>\n",
       "      <td>1</td>\n",
       "      <td>all_other</td>\n",
       "      <td>0.1316</td>\n",
       "      <td>405.25</td>\n",
       "      <td>11.350407</td>\n",
       "      <td>12.01</td>\n",
       "      <td>752</td>\n",
       "      <td>3749.041667</td>\n",
       "      <td>0</td>\n",
       "      <td>NaN</td>\n",
       "      <td>0.0</td>\n",
       "      <td>0.0</td>\n",
       "      <td>0.0</td>\n",
       "      <td>0</td>\n",
       "    </tr>\n",
       "    <tr>\n",
       "      <th>2193</th>\n",
       "      <td>1</td>\n",
       "      <td>all_other</td>\n",
       "      <td>0.1695</td>\n",
       "      <td>178.14</td>\n",
       "      <td>11.608236</td>\n",
       "      <td>14.95</td>\n",
       "      <td>677</td>\n",
       "      <td>6990.000000</td>\n",
       "      <td>49238</td>\n",
       "      <td>NaN</td>\n",
       "      <td>0.0</td>\n",
       "      <td>4.0</td>\n",
       "      <td>0.0</td>\n",
       "      <td>0</td>\n",
       "    </tr>\n",
       "    <tr>\n",
       "      <th>2528</th>\n",
       "      <td>1</td>\n",
       "      <td>small_business</td>\n",
       "      <td>0.1537</td>\n",
       "      <td>48.79</td>\n",
       "      <td>10.491274</td>\n",
       "      <td>5.07</td>\n",
       "      <td>712</td>\n",
       "      <td>2220.958333</td>\n",
       "      <td>0</td>\n",
       "      <td>NaN</td>\n",
       "      <td>2.0</td>\n",
       "      <td>0.0</td>\n",
       "      <td>0.0</td>\n",
       "      <td>0</td>\n",
       "    </tr>\n",
       "    <tr>\n",
       "      <th>2532</th>\n",
       "      <td>1</td>\n",
       "      <td>home_improvement</td>\n",
       "      <td>0.1411</td>\n",
       "      <td>222.49</td>\n",
       "      <td>11.198215</td>\n",
       "      <td>11.59</td>\n",
       "      <td>767</td>\n",
       "      <td>5522.958333</td>\n",
       "      <td>0</td>\n",
       "      <td>NaN</td>\n",
       "      <td>1.0</td>\n",
       "      <td>0.0</td>\n",
       "      <td>0.0</td>\n",
       "      <td>1</td>\n",
       "    </tr>\n",
       "    <tr>\n",
       "      <th>2705</th>\n",
       "      <td>1</td>\n",
       "      <td>major_purchase</td>\n",
       "      <td>0.1505</td>\n",
       "      <td>346.92</td>\n",
       "      <td>10.757988</td>\n",
       "      <td>20.19</td>\n",
       "      <td>752</td>\n",
       "      <td>4621.000000</td>\n",
       "      <td>0</td>\n",
       "      <td>NaN</td>\n",
       "      <td>2.0</td>\n",
       "      <td>0.0</td>\n",
       "      <td>0.0</td>\n",
       "      <td>0</td>\n",
       "    </tr>\n",
       "    <tr>\n",
       "      <th>3350</th>\n",
       "      <td>1</td>\n",
       "      <td>educational</td>\n",
       "      <td>0.1505</td>\n",
       "      <td>60.71</td>\n",
       "      <td>9.210340</td>\n",
       "      <td>15.84</td>\n",
       "      <td>677</td>\n",
       "      <td>2070.000000</td>\n",
       "      <td>0</td>\n",
       "      <td>NaN</td>\n",
       "      <td>1.0</td>\n",
       "      <td>0.0</td>\n",
       "      <td>0.0</td>\n",
       "      <td>0</td>\n",
       "    </tr>\n",
       "    <tr>\n",
       "      <th>3979</th>\n",
       "      <td>1</td>\n",
       "      <td>all_other</td>\n",
       "      <td>0.1284</td>\n",
       "      <td>47.07</td>\n",
       "      <td>8.494539</td>\n",
       "      <td>17.68</td>\n",
       "      <td>722</td>\n",
       "      <td>2100.000000</td>\n",
       "      <td>0</td>\n",
       "      <td>NaN</td>\n",
       "      <td>3.0</td>\n",
       "      <td>0.0</td>\n",
       "      <td>0.0</td>\n",
       "      <td>0</td>\n",
       "    </tr>\n",
       "    <tr>\n",
       "      <th>4958</th>\n",
       "      <td>1</td>\n",
       "      <td>credit_card</td>\n",
       "      <td>0.1913</td>\n",
       "      <td>201.97</td>\n",
       "      <td>11.877569</td>\n",
       "      <td>3.58</td>\n",
       "      <td>662</td>\n",
       "      <td>5130.000000</td>\n",
       "      <td>0</td>\n",
       "      <td>NaN</td>\n",
       "      <td>1.0</td>\n",
       "      <td>0.0</td>\n",
       "      <td>0.0</td>\n",
       "      <td>0</td>\n",
       "    </tr>\n",
       "    <tr>\n",
       "      <th>5521</th>\n",
       "      <td>1</td>\n",
       "      <td>all_other</td>\n",
       "      <td>0.1426</td>\n",
       "      <td>41.17</td>\n",
       "      <td>8.476371</td>\n",
       "      <td>13.75</td>\n",
       "      <td>702</td>\n",
       "      <td>2580.000000</td>\n",
       "      <td>0</td>\n",
       "      <td>NaN</td>\n",
       "      <td>0.0</td>\n",
       "      <td>0.0</td>\n",
       "      <td>0.0</td>\n",
       "      <td>1</td>\n",
       "    </tr>\n",
       "    <tr>\n",
       "      <th>6273</th>\n",
       "      <td>1</td>\n",
       "      <td>all_other</td>\n",
       "      <td>0.1461</td>\n",
       "      <td>172.38</td>\n",
       "      <td>10.491274</td>\n",
       "      <td>16.57</td>\n",
       "      <td>742</td>\n",
       "      <td>5400.000000</td>\n",
       "      <td>0</td>\n",
       "      <td>NaN</td>\n",
       "      <td>0.0</td>\n",
       "      <td>0.0</td>\n",
       "      <td>0.0</td>\n",
       "      <td>0</td>\n",
       "    </tr>\n",
       "    <tr>\n",
       "      <th>6318</th>\n",
       "      <td>1</td>\n",
       "      <td>major_purchase</td>\n",
       "      <td>0.1531</td>\n",
       "      <td>87.04</td>\n",
       "      <td>13.003580</td>\n",
       "      <td>0.18</td>\n",
       "      <td>712</td>\n",
       "      <td>1710.041667</td>\n",
       "      <td>0</td>\n",
       "      <td>NaN</td>\n",
       "      <td>1.0</td>\n",
       "      <td>0.0</td>\n",
       "      <td>0.0</td>\n",
       "      <td>0</td>\n",
       "    </tr>\n",
       "    <tr>\n",
       "      <th>6638</th>\n",
       "      <td>1</td>\n",
       "      <td>debt_consolidation</td>\n",
       "      <td>0.1531</td>\n",
       "      <td>174.08</td>\n",
       "      <td>10.915088</td>\n",
       "      <td>9.45</td>\n",
       "      <td>732</td>\n",
       "      <td>2643.041667</td>\n",
       "      <td>0</td>\n",
       "      <td>NaN</td>\n",
       "      <td>0.0</td>\n",
       "      <td>0.0</td>\n",
       "      <td>0.0</td>\n",
       "      <td>0</td>\n",
       "    </tr>\n",
       "    <tr>\n",
       "      <th>7013</th>\n",
       "      <td>1</td>\n",
       "      <td>major_purchase</td>\n",
       "      <td>0.1461</td>\n",
       "      <td>517.13</td>\n",
       "      <td>10.491274</td>\n",
       "      <td>9.17</td>\n",
       "      <td>732</td>\n",
       "      <td>1892.000000</td>\n",
       "      <td>0</td>\n",
       "      <td>NaN</td>\n",
       "      <td>2.0</td>\n",
       "      <td>0.0</td>\n",
       "      <td>0.0</td>\n",
       "      <td>0</td>\n",
       "    </tr>\n",
       "    <tr>\n",
       "      <th>7701</th>\n",
       "      <td>1</td>\n",
       "      <td>all_other</td>\n",
       "      <td>0.1600</td>\n",
       "      <td>70.32</td>\n",
       "      <td>10.085809</td>\n",
       "      <td>2.55</td>\n",
       "      <td>667</td>\n",
       "      <td>3509.958333</td>\n",
       "      <td>0</td>\n",
       "      <td>NaN</td>\n",
       "      <td>0.0</td>\n",
       "      <td>0.0</td>\n",
       "      <td>0.0</td>\n",
       "      <td>1</td>\n",
       "    </tr>\n",
       "    <tr>\n",
       "      <th>7702</th>\n",
       "      <td>1</td>\n",
       "      <td>debt_consolidation</td>\n",
       "      <td>0.1821</td>\n",
       "      <td>181.30</td>\n",
       "      <td>10.714418</td>\n",
       "      <td>11.39</td>\n",
       "      <td>662</td>\n",
       "      <td>5400.000000</td>\n",
       "      <td>0</td>\n",
       "      <td>NaN</td>\n",
       "      <td>3.0</td>\n",
       "      <td>2.0</td>\n",
       "      <td>0.0</td>\n",
       "      <td>1</td>\n",
       "    </tr>\n",
       "    <tr>\n",
       "      <th>7725</th>\n",
       "      <td>0</td>\n",
       "      <td>all_other</td>\n",
       "      <td>0.0775</td>\n",
       "      <td>156.11</td>\n",
       "      <td>11.156251</td>\n",
       "      <td>8.81</td>\n",
       "      <td>772</td>\n",
       "      <td>NaN</td>\n",
       "      <td>0</td>\n",
       "      <td>NaN</td>\n",
       "      <td>NaN</td>\n",
       "      <td>NaN</td>\n",
       "      <td>NaN</td>\n",
       "      <td>0</td>\n",
       "    </tr>\n",
       "    <tr>\n",
       "      <th>7725</th>\n",
       "      <td>0</td>\n",
       "      <td>all_other</td>\n",
       "      <td>0.0775</td>\n",
       "      <td>156.11</td>\n",
       "      <td>11.156251</td>\n",
       "      <td>8.81</td>\n",
       "      <td>772</td>\n",
       "      <td>NaN</td>\n",
       "      <td>0</td>\n",
       "      <td>NaN</td>\n",
       "      <td>NaN</td>\n",
       "      <td>NaN</td>\n",
       "      <td>NaN</td>\n",
       "      <td>0</td>\n",
       "    </tr>\n",
       "    <tr>\n",
       "      <th>7725</th>\n",
       "      <td>0</td>\n",
       "      <td>all_other</td>\n",
       "      <td>0.0775</td>\n",
       "      <td>156.11</td>\n",
       "      <td>11.156251</td>\n",
       "      <td>8.81</td>\n",
       "      <td>772</td>\n",
       "      <td>NaN</td>\n",
       "      <td>0</td>\n",
       "      <td>NaN</td>\n",
       "      <td>NaN</td>\n",
       "      <td>NaN</td>\n",
       "      <td>NaN</td>\n",
       "      <td>0</td>\n",
       "    </tr>\n",
       "    <tr>\n",
       "      <th>7725</th>\n",
       "      <td>0</td>\n",
       "      <td>all_other</td>\n",
       "      <td>0.0775</td>\n",
       "      <td>156.11</td>\n",
       "      <td>11.156251</td>\n",
       "      <td>8.81</td>\n",
       "      <td>772</td>\n",
       "      <td>NaN</td>\n",
       "      <td>0</td>\n",
       "      <td>NaN</td>\n",
       "      <td>NaN</td>\n",
       "      <td>NaN</td>\n",
       "      <td>NaN</td>\n",
       "      <td>0</td>\n",
       "    </tr>\n",
       "    <tr>\n",
       "      <th>7725</th>\n",
       "      <td>0</td>\n",
       "      <td>all_other</td>\n",
       "      <td>0.0775</td>\n",
       "      <td>156.11</td>\n",
       "      <td>11.156251</td>\n",
       "      <td>8.81</td>\n",
       "      <td>772</td>\n",
       "      <td>NaN</td>\n",
       "      <td>0</td>\n",
       "      <td>NaN</td>\n",
       "      <td>NaN</td>\n",
       "      <td>NaN</td>\n",
       "      <td>NaN</td>\n",
       "      <td>0</td>\n",
       "    </tr>\n",
       "    <tr>\n",
       "      <th>7726</th>\n",
       "      <td>0</td>\n",
       "      <td>all_other</td>\n",
       "      <td>0.0838</td>\n",
       "      <td>204.84</td>\n",
       "      <td>NaN</td>\n",
       "      <td>4.00</td>\n",
       "      <td>742</td>\n",
       "      <td>NaN</td>\n",
       "      <td>0</td>\n",
       "      <td>NaN</td>\n",
       "      <td>NaN</td>\n",
       "      <td>NaN</td>\n",
       "      <td>NaN</td>\n",
       "      <td>0</td>\n",
       "    </tr>\n",
       "    <tr>\n",
       "      <th>...</th>\n",
       "      <td>...</td>\n",
       "      <td>...</td>\n",
       "      <td>...</td>\n",
       "      <td>...</td>\n",
       "      <td>...</td>\n",
       "      <td>...</td>\n",
       "      <td>...</td>\n",
       "      <td>...</td>\n",
       "      <td>...</td>\n",
       "      <td>...</td>\n",
       "      <td>...</td>\n",
       "      <td>...</td>\n",
       "      <td>...</td>\n",
       "      <td>...</td>\n",
       "    </tr>\n",
       "    <tr>\n",
       "      <th>7750</th>\n",
       "      <td>0</td>\n",
       "      <td>all_other</td>\n",
       "      <td>0.1407</td>\n",
       "      <td>34.21</td>\n",
       "      <td>10.126631</td>\n",
       "      <td>16.27</td>\n",
       "      <td>642</td>\n",
       "      <td>NaN</td>\n",
       "      <td>0</td>\n",
       "      <td>NaN</td>\n",
       "      <td>NaN</td>\n",
       "      <td>NaN</td>\n",
       "      <td>NaN</td>\n",
       "      <td>0</td>\n",
       "    </tr>\n",
       "    <tr>\n",
       "      <th>7751</th>\n",
       "      <td>0</td>\n",
       "      <td>all_other</td>\n",
       "      <td>0.1091</td>\n",
       "      <td>45.78</td>\n",
       "      <td>10.596635</td>\n",
       "      <td>8.61</td>\n",
       "      <td>672</td>\n",
       "      <td>NaN</td>\n",
       "      <td>0</td>\n",
       "      <td>NaN</td>\n",
       "      <td>NaN</td>\n",
       "      <td>NaN</td>\n",
       "      <td>NaN</td>\n",
       "      <td>0</td>\n",
       "    </tr>\n",
       "    <tr>\n",
       "      <th>7751</th>\n",
       "      <td>0</td>\n",
       "      <td>all_other</td>\n",
       "      <td>0.1091</td>\n",
       "      <td>45.78</td>\n",
       "      <td>10.596635</td>\n",
       "      <td>8.61</td>\n",
       "      <td>672</td>\n",
       "      <td>NaN</td>\n",
       "      <td>0</td>\n",
       "      <td>NaN</td>\n",
       "      <td>NaN</td>\n",
       "      <td>NaN</td>\n",
       "      <td>NaN</td>\n",
       "      <td>0</td>\n",
       "    </tr>\n",
       "    <tr>\n",
       "      <th>7751</th>\n",
       "      <td>0</td>\n",
       "      <td>all_other</td>\n",
       "      <td>0.1091</td>\n",
       "      <td>45.78</td>\n",
       "      <td>10.596635</td>\n",
       "      <td>8.61</td>\n",
       "      <td>672</td>\n",
       "      <td>NaN</td>\n",
       "      <td>0</td>\n",
       "      <td>NaN</td>\n",
       "      <td>NaN</td>\n",
       "      <td>NaN</td>\n",
       "      <td>NaN</td>\n",
       "      <td>0</td>\n",
       "    </tr>\n",
       "    <tr>\n",
       "      <th>7751</th>\n",
       "      <td>0</td>\n",
       "      <td>all_other</td>\n",
       "      <td>0.1091</td>\n",
       "      <td>45.78</td>\n",
       "      <td>10.596635</td>\n",
       "      <td>8.61</td>\n",
       "      <td>672</td>\n",
       "      <td>NaN</td>\n",
       "      <td>0</td>\n",
       "      <td>NaN</td>\n",
       "      <td>NaN</td>\n",
       "      <td>NaN</td>\n",
       "      <td>NaN</td>\n",
       "      <td>0</td>\n",
       "    </tr>\n",
       "    <tr>\n",
       "      <th>7751</th>\n",
       "      <td>0</td>\n",
       "      <td>all_other</td>\n",
       "      <td>0.1091</td>\n",
       "      <td>45.78</td>\n",
       "      <td>10.596635</td>\n",
       "      <td>8.61</td>\n",
       "      <td>672</td>\n",
       "      <td>NaN</td>\n",
       "      <td>0</td>\n",
       "      <td>NaN</td>\n",
       "      <td>NaN</td>\n",
       "      <td>NaN</td>\n",
       "      <td>NaN</td>\n",
       "      <td>0</td>\n",
       "    </tr>\n",
       "    <tr>\n",
       "      <th>7752</th>\n",
       "      <td>0</td>\n",
       "      <td>all_other</td>\n",
       "      <td>0.1122</td>\n",
       "      <td>164.23</td>\n",
       "      <td>10.239960</td>\n",
       "      <td>3.51</td>\n",
       "      <td>672</td>\n",
       "      <td>NaN</td>\n",
       "      <td>0</td>\n",
       "      <td>NaN</td>\n",
       "      <td>NaN</td>\n",
       "      <td>NaN</td>\n",
       "      <td>NaN</td>\n",
       "      <td>0</td>\n",
       "    </tr>\n",
       "    <tr>\n",
       "      <th>7752</th>\n",
       "      <td>0</td>\n",
       "      <td>all_other</td>\n",
       "      <td>0.1122</td>\n",
       "      <td>164.23</td>\n",
       "      <td>10.239960</td>\n",
       "      <td>3.51</td>\n",
       "      <td>672</td>\n",
       "      <td>NaN</td>\n",
       "      <td>0</td>\n",
       "      <td>NaN</td>\n",
       "      <td>NaN</td>\n",
       "      <td>NaN</td>\n",
       "      <td>NaN</td>\n",
       "      <td>0</td>\n",
       "    </tr>\n",
       "    <tr>\n",
       "      <th>7752</th>\n",
       "      <td>0</td>\n",
       "      <td>all_other</td>\n",
       "      <td>0.1122</td>\n",
       "      <td>164.23</td>\n",
       "      <td>10.239960</td>\n",
       "      <td>3.51</td>\n",
       "      <td>672</td>\n",
       "      <td>NaN</td>\n",
       "      <td>0</td>\n",
       "      <td>NaN</td>\n",
       "      <td>NaN</td>\n",
       "      <td>NaN</td>\n",
       "      <td>NaN</td>\n",
       "      <td>0</td>\n",
       "    </tr>\n",
       "    <tr>\n",
       "      <th>7752</th>\n",
       "      <td>0</td>\n",
       "      <td>all_other</td>\n",
       "      <td>0.1122</td>\n",
       "      <td>164.23</td>\n",
       "      <td>10.239960</td>\n",
       "      <td>3.51</td>\n",
       "      <td>672</td>\n",
       "      <td>NaN</td>\n",
       "      <td>0</td>\n",
       "      <td>NaN</td>\n",
       "      <td>NaN</td>\n",
       "      <td>NaN</td>\n",
       "      <td>NaN</td>\n",
       "      <td>0</td>\n",
       "    </tr>\n",
       "    <tr>\n",
       "      <th>7752</th>\n",
       "      <td>0</td>\n",
       "      <td>all_other</td>\n",
       "      <td>0.1122</td>\n",
       "      <td>164.23</td>\n",
       "      <td>10.239960</td>\n",
       "      <td>3.51</td>\n",
       "      <td>672</td>\n",
       "      <td>NaN</td>\n",
       "      <td>0</td>\n",
       "      <td>NaN</td>\n",
       "      <td>NaN</td>\n",
       "      <td>NaN</td>\n",
       "      <td>NaN</td>\n",
       "      <td>0</td>\n",
       "    </tr>\n",
       "    <tr>\n",
       "      <th>7753</th>\n",
       "      <td>0</td>\n",
       "      <td>all_other</td>\n",
       "      <td>0.0901</td>\n",
       "      <td>38.17</td>\n",
       "      <td>10.491274</td>\n",
       "      <td>3.27</td>\n",
       "      <td>707</td>\n",
       "      <td>NaN</td>\n",
       "      <td>0</td>\n",
       "      <td>NaN</td>\n",
       "      <td>NaN</td>\n",
       "      <td>NaN</td>\n",
       "      <td>NaN</td>\n",
       "      <td>0</td>\n",
       "    </tr>\n",
       "    <tr>\n",
       "      <th>7753</th>\n",
       "      <td>0</td>\n",
       "      <td>all_other</td>\n",
       "      <td>0.0901</td>\n",
       "      <td>38.17</td>\n",
       "      <td>10.491274</td>\n",
       "      <td>3.27</td>\n",
       "      <td>707</td>\n",
       "      <td>NaN</td>\n",
       "      <td>0</td>\n",
       "      <td>NaN</td>\n",
       "      <td>NaN</td>\n",
       "      <td>NaN</td>\n",
       "      <td>NaN</td>\n",
       "      <td>0</td>\n",
       "    </tr>\n",
       "    <tr>\n",
       "      <th>7753</th>\n",
       "      <td>0</td>\n",
       "      <td>all_other</td>\n",
       "      <td>0.0901</td>\n",
       "      <td>38.17</td>\n",
       "      <td>10.491274</td>\n",
       "      <td>3.27</td>\n",
       "      <td>707</td>\n",
       "      <td>NaN</td>\n",
       "      <td>0</td>\n",
       "      <td>NaN</td>\n",
       "      <td>NaN</td>\n",
       "      <td>NaN</td>\n",
       "      <td>NaN</td>\n",
       "      <td>0</td>\n",
       "    </tr>\n",
       "    <tr>\n",
       "      <th>7753</th>\n",
       "      <td>0</td>\n",
       "      <td>all_other</td>\n",
       "      <td>0.0901</td>\n",
       "      <td>38.17</td>\n",
       "      <td>10.491274</td>\n",
       "      <td>3.27</td>\n",
       "      <td>707</td>\n",
       "      <td>NaN</td>\n",
       "      <td>0</td>\n",
       "      <td>NaN</td>\n",
       "      <td>NaN</td>\n",
       "      <td>NaN</td>\n",
       "      <td>NaN</td>\n",
       "      <td>0</td>\n",
       "    </tr>\n",
       "    <tr>\n",
       "      <th>7753</th>\n",
       "      <td>0</td>\n",
       "      <td>all_other</td>\n",
       "      <td>0.0901</td>\n",
       "      <td>38.17</td>\n",
       "      <td>10.491274</td>\n",
       "      <td>3.27</td>\n",
       "      <td>707</td>\n",
       "      <td>NaN</td>\n",
       "      <td>0</td>\n",
       "      <td>NaN</td>\n",
       "      <td>NaN</td>\n",
       "      <td>NaN</td>\n",
       "      <td>NaN</td>\n",
       "      <td>0</td>\n",
       "    </tr>\n",
       "    <tr>\n",
       "      <th>7758</th>\n",
       "      <td>0</td>\n",
       "      <td>debt_consolidation</td>\n",
       "      <td>0.0964</td>\n",
       "      <td>61.00</td>\n",
       "      <td>11.512925</td>\n",
       "      <td>10.00</td>\n",
       "      <td>707</td>\n",
       "      <td>NaN</td>\n",
       "      <td>0</td>\n",
       "      <td>NaN</td>\n",
       "      <td>NaN</td>\n",
       "      <td>NaN</td>\n",
       "      <td>NaN</td>\n",
       "      <td>0</td>\n",
       "    </tr>\n",
       "    <tr>\n",
       "      <th>7758</th>\n",
       "      <td>0</td>\n",
       "      <td>debt_consolidation</td>\n",
       "      <td>0.0964</td>\n",
       "      <td>61.00</td>\n",
       "      <td>11.512925</td>\n",
       "      <td>10.00</td>\n",
       "      <td>707</td>\n",
       "      <td>NaN</td>\n",
       "      <td>0</td>\n",
       "      <td>NaN</td>\n",
       "      <td>NaN</td>\n",
       "      <td>NaN</td>\n",
       "      <td>NaN</td>\n",
       "      <td>0</td>\n",
       "    </tr>\n",
       "    <tr>\n",
       "      <th>7758</th>\n",
       "      <td>0</td>\n",
       "      <td>debt_consolidation</td>\n",
       "      <td>0.0964</td>\n",
       "      <td>61.00</td>\n",
       "      <td>11.512925</td>\n",
       "      <td>10.00</td>\n",
       "      <td>707</td>\n",
       "      <td>NaN</td>\n",
       "      <td>0</td>\n",
       "      <td>NaN</td>\n",
       "      <td>NaN</td>\n",
       "      <td>NaN</td>\n",
       "      <td>NaN</td>\n",
       "      <td>0</td>\n",
       "    </tr>\n",
       "    <tr>\n",
       "      <th>7758</th>\n",
       "      <td>0</td>\n",
       "      <td>debt_consolidation</td>\n",
       "      <td>0.0964</td>\n",
       "      <td>61.00</td>\n",
       "      <td>11.512925</td>\n",
       "      <td>10.00</td>\n",
       "      <td>707</td>\n",
       "      <td>NaN</td>\n",
       "      <td>0</td>\n",
       "      <td>NaN</td>\n",
       "      <td>NaN</td>\n",
       "      <td>NaN</td>\n",
       "      <td>NaN</td>\n",
       "      <td>0</td>\n",
       "    </tr>\n",
       "    <tr>\n",
       "      <th>7758</th>\n",
       "      <td>0</td>\n",
       "      <td>debt_consolidation</td>\n",
       "      <td>0.0964</td>\n",
       "      <td>61.00</td>\n",
       "      <td>11.512925</td>\n",
       "      <td>10.00</td>\n",
       "      <td>707</td>\n",
       "      <td>NaN</td>\n",
       "      <td>0</td>\n",
       "      <td>NaN</td>\n",
       "      <td>NaN</td>\n",
       "      <td>NaN</td>\n",
       "      <td>NaN</td>\n",
       "      <td>0</td>\n",
       "    </tr>\n",
       "    <tr>\n",
       "      <th>7759</th>\n",
       "      <td>0</td>\n",
       "      <td>all_other</td>\n",
       "      <td>0.1312</td>\n",
       "      <td>180.57</td>\n",
       "      <td>8.294050</td>\n",
       "      <td>15.00</td>\n",
       "      <td>662</td>\n",
       "      <td>178.958333</td>\n",
       "      <td>0</td>\n",
       "      <td>NaN</td>\n",
       "      <td>1.0</td>\n",
       "      <td>0.0</td>\n",
       "      <td>0.0</td>\n",
       "      <td>0</td>\n",
       "    </tr>\n",
       "    <tr>\n",
       "      <th>7798</th>\n",
       "      <td>0</td>\n",
       "      <td>all_other</td>\n",
       "      <td>0.1091</td>\n",
       "      <td>196.18</td>\n",
       "      <td>8.853665</td>\n",
       "      <td>8.57</td>\n",
       "      <td>682</td>\n",
       "      <td>334.000000</td>\n",
       "      <td>0</td>\n",
       "      <td>NaN</td>\n",
       "      <td>2.0</td>\n",
       "      <td>0.0</td>\n",
       "      <td>0.0</td>\n",
       "      <td>1</td>\n",
       "    </tr>\n",
       "    <tr>\n",
       "      <th>7811</th>\n",
       "      <td>0</td>\n",
       "      <td>all_other</td>\n",
       "      <td>0.1565</td>\n",
       "      <td>131.19</td>\n",
       "      <td>8.892886</td>\n",
       "      <td>17.31</td>\n",
       "      <td>642</td>\n",
       "      <td>3478.958333</td>\n",
       "      <td>0</td>\n",
       "      <td>NaN</td>\n",
       "      <td>1.0</td>\n",
       "      <td>0.0</td>\n",
       "      <td>0.0</td>\n",
       "      <td>1</td>\n",
       "    </tr>\n",
       "    <tr>\n",
       "      <th>8554</th>\n",
       "      <td>0</td>\n",
       "      <td>debt_consolidation</td>\n",
       "      <td>0.1071</td>\n",
       "      <td>97.81</td>\n",
       "      <td>10.203592</td>\n",
       "      <td>18.89</td>\n",
       "      <td>697</td>\n",
       "      <td>3812.000000</td>\n",
       "      <td>0</td>\n",
       "      <td>NaN</td>\n",
       "      <td>0.0</td>\n",
       "      <td>0.0</td>\n",
       "      <td>0.0</td>\n",
       "      <td>0</td>\n",
       "    </tr>\n",
       "    <tr>\n",
       "      <th>8570</th>\n",
       "      <td>0</td>\n",
       "      <td>debt_consolidation</td>\n",
       "      <td>0.1387</td>\n",
       "      <td>163.75</td>\n",
       "      <td>10.736397</td>\n",
       "      <td>22.72</td>\n",
       "      <td>662</td>\n",
       "      <td>2010.000000</td>\n",
       "      <td>0</td>\n",
       "      <td>NaN</td>\n",
       "      <td>6.0</td>\n",
       "      <td>0.0</td>\n",
       "      <td>0.0</td>\n",
       "      <td>0</td>\n",
       "    </tr>\n",
       "    <tr>\n",
       "      <th>8676</th>\n",
       "      <td>0</td>\n",
       "      <td>major_purchase</td>\n",
       "      <td>0.0976</td>\n",
       "      <td>128.62</td>\n",
       "      <td>10.752484</td>\n",
       "      <td>7.29</td>\n",
       "      <td>707</td>\n",
       "      <td>990.000000</td>\n",
       "      <td>0</td>\n",
       "      <td>NaN</td>\n",
       "      <td>0.0</td>\n",
       "      <td>0.0</td>\n",
       "      <td>0.0</td>\n",
       "      <td>0</td>\n",
       "    </tr>\n",
       "    <tr>\n",
       "      <th>8759</th>\n",
       "      <td>0</td>\n",
       "      <td>credit_card</td>\n",
       "      <td>0.0863</td>\n",
       "      <td>170.80</td>\n",
       "      <td>10.680516</td>\n",
       "      <td>10.18</td>\n",
       "      <td>742</td>\n",
       "      <td>2399.958333</td>\n",
       "      <td>0</td>\n",
       "      <td>NaN</td>\n",
       "      <td>3.0</td>\n",
       "      <td>0.0</td>\n",
       "      <td>0.0</td>\n",
       "      <td>0</td>\n",
       "    </tr>\n",
       "    <tr>\n",
       "      <th>9073</th>\n",
       "      <td>0</td>\n",
       "      <td>all_other</td>\n",
       "      <td>0.1442</td>\n",
       "      <td>859.57</td>\n",
       "      <td>12.542545</td>\n",
       "      <td>5.58</td>\n",
       "      <td>737</td>\n",
       "      <td>7890.000000</td>\n",
       "      <td>290291</td>\n",
       "      <td>NaN</td>\n",
       "      <td>1.0</td>\n",
       "      <td>0.0</td>\n",
       "      <td>0.0</td>\n",
       "      <td>0</td>\n",
       "    </tr>\n",
       "    <tr>\n",
       "      <th>9364</th>\n",
       "      <td>0</td>\n",
       "      <td>debt_consolidation</td>\n",
       "      <td>0.1774</td>\n",
       "      <td>172.91</td>\n",
       "      <td>9.546813</td>\n",
       "      <td>9.51</td>\n",
       "      <td>692</td>\n",
       "      <td>1530.041667</td>\n",
       "      <td>0</td>\n",
       "      <td>NaN</td>\n",
       "      <td>4.0</td>\n",
       "      <td>0.0</td>\n",
       "      <td>0.0</td>\n",
       "      <td>0</td>\n",
       "    </tr>\n",
       "  </tbody>\n",
       "</table>\n",
       "<p>182 rows × 14 columns</p>\n",
       "</div>"
      ],
      "text/plain": [
       "      credit.policy             purpose  int.rate  installment  \\\n",
       "781               1           all_other    0.1134        98.70   \n",
       "803               1         educational    0.1103        52.41   \n",
       "839               1  debt_consolidation    0.1134       263.20   \n",
       "857               1  debt_consolidation    0.1229        23.35   \n",
       "1213              1      major_purchase    0.1064       182.39   \n",
       "1280              1         credit_card    0.1633       264.91   \n",
       "1553              1           all_other    0.1557       314.51   \n",
       "1782              1         educational    0.1695        97.98   \n",
       "1927              1           all_other    0.1379       170.38   \n",
       "2008              1           all_other    0.1316       405.25   \n",
       "2193              1           all_other    0.1695       178.14   \n",
       "2528              1      small_business    0.1537        48.79   \n",
       "2532              1    home_improvement    0.1411       222.49   \n",
       "2705              1      major_purchase    0.1505       346.92   \n",
       "3350              1         educational    0.1505        60.71   \n",
       "3979              1           all_other    0.1284        47.07   \n",
       "4958              1         credit_card    0.1913       201.97   \n",
       "5521              1           all_other    0.1426        41.17   \n",
       "6273              1           all_other    0.1461       172.38   \n",
       "6318              1      major_purchase    0.1531        87.04   \n",
       "6638              1  debt_consolidation    0.1531       174.08   \n",
       "7013              1      major_purchase    0.1461       517.13   \n",
       "7701              1           all_other    0.1600        70.32   \n",
       "7702              1  debt_consolidation    0.1821       181.30   \n",
       "7725              0           all_other    0.0775       156.11   \n",
       "7725              0           all_other    0.0775       156.11   \n",
       "7725              0           all_other    0.0775       156.11   \n",
       "7725              0           all_other    0.0775       156.11   \n",
       "7725              0           all_other    0.0775       156.11   \n",
       "7726              0           all_other    0.0838       204.84   \n",
       "...             ...                 ...       ...          ...   \n",
       "7750              0           all_other    0.1407        34.21   \n",
       "7751              0           all_other    0.1091        45.78   \n",
       "7751              0           all_other    0.1091        45.78   \n",
       "7751              0           all_other    0.1091        45.78   \n",
       "7751              0           all_other    0.1091        45.78   \n",
       "7751              0           all_other    0.1091        45.78   \n",
       "7752              0           all_other    0.1122       164.23   \n",
       "7752              0           all_other    0.1122       164.23   \n",
       "7752              0           all_other    0.1122       164.23   \n",
       "7752              0           all_other    0.1122       164.23   \n",
       "7752              0           all_other    0.1122       164.23   \n",
       "7753              0           all_other    0.0901        38.17   \n",
       "7753              0           all_other    0.0901        38.17   \n",
       "7753              0           all_other    0.0901        38.17   \n",
       "7753              0           all_other    0.0901        38.17   \n",
       "7753              0           all_other    0.0901        38.17   \n",
       "7758              0  debt_consolidation    0.0964        61.00   \n",
       "7758              0  debt_consolidation    0.0964        61.00   \n",
       "7758              0  debt_consolidation    0.0964        61.00   \n",
       "7758              0  debt_consolidation    0.0964        61.00   \n",
       "7758              0  debt_consolidation    0.0964        61.00   \n",
       "7759              0           all_other    0.1312       180.57   \n",
       "7798              0           all_other    0.1091       196.18   \n",
       "7811              0           all_other    0.1565       131.19   \n",
       "8554              0  debt_consolidation    0.1071        97.81   \n",
       "8570              0  debt_consolidation    0.1387       163.75   \n",
       "8676              0      major_purchase    0.0976       128.62   \n",
       "8759              0         credit_card    0.0863       170.80   \n",
       "9073              0           all_other    0.1442       859.57   \n",
       "9364              0  debt_consolidation    0.1774       172.91   \n",
       "\n",
       "      log.annual.inc    dti  fico  days.with.cr.line  revol.bal  revol.util  \\\n",
       "781        10.530495   7.72   677        1680.000000          0         NaN   \n",
       "803        10.532096  15.84   682        1829.958333          0         NaN   \n",
       "839        10.714418   8.75   682        2490.000000          0         NaN   \n",
       "857         9.852194  12.38   662        1199.958333          0         NaN   \n",
       "1213       11.264464   4.26   697        4140.958333          0         NaN   \n",
       "1280       10.819778  10.80   667        5249.958333          0         NaN   \n",
       "1553       10.596535   0.00   687        2940.041667          0         NaN   \n",
       "1782        8.342840   0.00   687        1238.041667          0         NaN   \n",
       "1927       10.714418   6.00   722        5280.041667          0         NaN   \n",
       "2008       11.350407  12.01   752        3749.041667          0         NaN   \n",
       "2193       11.608236  14.95   677        6990.000000      49238         NaN   \n",
       "2528       10.491274   5.07   712        2220.958333          0         NaN   \n",
       "2532       11.198215  11.59   767        5522.958333          0         NaN   \n",
       "2705       10.757988  20.19   752        4621.000000          0         NaN   \n",
       "3350        9.210340  15.84   677        2070.000000          0         NaN   \n",
       "3979        8.494539  17.68   722        2100.000000          0         NaN   \n",
       "4958       11.877569   3.58   662        5130.000000          0         NaN   \n",
       "5521        8.476371  13.75   702        2580.000000          0         NaN   \n",
       "6273       10.491274  16.57   742        5400.000000          0         NaN   \n",
       "6318       13.003580   0.18   712        1710.041667          0         NaN   \n",
       "6638       10.915088   9.45   732        2643.041667          0         NaN   \n",
       "7013       10.491274   9.17   732        1892.000000          0         NaN   \n",
       "7701       10.085809   2.55   667        3509.958333          0         NaN   \n",
       "7702       10.714418  11.39   662        5400.000000          0         NaN   \n",
       "7725       11.156251   8.81   772                NaN          0         NaN   \n",
       "7725       11.156251   8.81   772                NaN          0         NaN   \n",
       "7725       11.156251   8.81   772                NaN          0         NaN   \n",
       "7725       11.156251   8.81   772                NaN          0         NaN   \n",
       "7725       11.156251   8.81   772                NaN          0         NaN   \n",
       "7726             NaN   4.00   742                NaN          0         NaN   \n",
       "...              ...    ...   ...                ...        ...         ...   \n",
       "7750       10.126631  16.27   642                NaN          0         NaN   \n",
       "7751       10.596635   8.61   672                NaN          0         NaN   \n",
       "7751       10.596635   8.61   672                NaN          0         NaN   \n",
       "7751       10.596635   8.61   672                NaN          0         NaN   \n",
       "7751       10.596635   8.61   672                NaN          0         NaN   \n",
       "7751       10.596635   8.61   672                NaN          0         NaN   \n",
       "7752       10.239960   3.51   672                NaN          0         NaN   \n",
       "7752       10.239960   3.51   672                NaN          0         NaN   \n",
       "7752       10.239960   3.51   672                NaN          0         NaN   \n",
       "7752       10.239960   3.51   672                NaN          0         NaN   \n",
       "7752       10.239960   3.51   672                NaN          0         NaN   \n",
       "7753       10.491274   3.27   707                NaN          0         NaN   \n",
       "7753       10.491274   3.27   707                NaN          0         NaN   \n",
       "7753       10.491274   3.27   707                NaN          0         NaN   \n",
       "7753       10.491274   3.27   707                NaN          0         NaN   \n",
       "7753       10.491274   3.27   707                NaN          0         NaN   \n",
       "7758       11.512925  10.00   707                NaN          0         NaN   \n",
       "7758       11.512925  10.00   707                NaN          0         NaN   \n",
       "7758       11.512925  10.00   707                NaN          0         NaN   \n",
       "7758       11.512925  10.00   707                NaN          0         NaN   \n",
       "7758       11.512925  10.00   707                NaN          0         NaN   \n",
       "7759        8.294050  15.00   662         178.958333          0         NaN   \n",
       "7798        8.853665   8.57   682         334.000000          0         NaN   \n",
       "7811        8.892886  17.31   642        3478.958333          0         NaN   \n",
       "8554       10.203592  18.89   697        3812.000000          0         NaN   \n",
       "8570       10.736397  22.72   662        2010.000000          0         NaN   \n",
       "8676       10.752484   7.29   707         990.000000          0         NaN   \n",
       "8759       10.680516  10.18   742        2399.958333          0         NaN   \n",
       "9073       12.542545   5.58   737        7890.000000     290291         NaN   \n",
       "9364        9.546813   9.51   692        1530.041667          0         NaN   \n",
       "\n",
       "      inq.last.6mths  delinq.2yrs  pub.rec  not.fully.paid  \n",
       "781              1.0          0.0      0.0               1  \n",
       "803              0.0          0.0      0.0               0  \n",
       "839              1.0          1.0      0.0               1  \n",
       "857              1.0          0.0      0.0               0  \n",
       "1213             0.0          0.0      1.0               0  \n",
       "1280             0.0          0.0      0.0               1  \n",
       "1553             1.0          0.0      0.0               0  \n",
       "1782             0.0          0.0      0.0               0  \n",
       "1927             1.0          0.0      0.0               0  \n",
       "2008             0.0          0.0      0.0               0  \n",
       "2193             0.0          4.0      0.0               0  \n",
       "2528             2.0          0.0      0.0               0  \n",
       "2532             1.0          0.0      0.0               1  \n",
       "2705             2.0          0.0      0.0               0  \n",
       "3350             1.0          0.0      0.0               0  \n",
       "3979             3.0          0.0      0.0               0  \n",
       "4958             1.0          0.0      0.0               0  \n",
       "5521             0.0          0.0      0.0               1  \n",
       "6273             0.0          0.0      0.0               0  \n",
       "6318             1.0          0.0      0.0               0  \n",
       "6638             0.0          0.0      0.0               0  \n",
       "7013             2.0          0.0      0.0               0  \n",
       "7701             0.0          0.0      0.0               1  \n",
       "7702             3.0          2.0      0.0               1  \n",
       "7725             NaN          NaN      NaN               0  \n",
       "7725             NaN          NaN      NaN               0  \n",
       "7725             NaN          NaN      NaN               0  \n",
       "7725             NaN          NaN      NaN               0  \n",
       "7725             NaN          NaN      NaN               0  \n",
       "7726             NaN          NaN      NaN               0  \n",
       "...              ...          ...      ...             ...  \n",
       "7750             NaN          NaN      NaN               0  \n",
       "7751             NaN          NaN      NaN               0  \n",
       "7751             NaN          NaN      NaN               0  \n",
       "7751             NaN          NaN      NaN               0  \n",
       "7751             NaN          NaN      NaN               0  \n",
       "7751             NaN          NaN      NaN               0  \n",
       "7752             NaN          NaN      NaN               0  \n",
       "7752             NaN          NaN      NaN               0  \n",
       "7752             NaN          NaN      NaN               0  \n",
       "7752             NaN          NaN      NaN               0  \n",
       "7752             NaN          NaN      NaN               0  \n",
       "7753             NaN          NaN      NaN               0  \n",
       "7753             NaN          NaN      NaN               0  \n",
       "7753             NaN          NaN      NaN               0  \n",
       "7753             NaN          NaN      NaN               0  \n",
       "7753             NaN          NaN      NaN               0  \n",
       "7758             NaN          NaN      NaN               0  \n",
       "7758             NaN          NaN      NaN               0  \n",
       "7758             NaN          NaN      NaN               0  \n",
       "7758             NaN          NaN      NaN               0  \n",
       "7758             NaN          NaN      NaN               0  \n",
       "7759             1.0          0.0      0.0               0  \n",
       "7798             2.0          0.0      0.0               1  \n",
       "7811             1.0          0.0      0.0               1  \n",
       "8554             0.0          0.0      0.0               0  \n",
       "8570             6.0          0.0      0.0               0  \n",
       "8676             0.0          0.0      0.0               0  \n",
       "8759             3.0          0.0      0.0               0  \n",
       "9073             1.0          0.0      0.0               0  \n",
       "9364             4.0          0.0      0.0               0  \n",
       "\n",
       "[182 rows x 14 columns]"
      ]
     },
     "execution_count": 5,
     "metadata": {},
     "output_type": "execute_result"
    }
   ],
   "source": [
    "# preview the NaN values\n",
    "df[df.isna().values]"
   ]
  },
  {
   "cell_type": "code",
   "execution_count": 6,
   "metadata": {},
   "outputs": [
    {
     "name": "stdout",
     "output_type": "stream",
     "text": [
      "log.annual.inc nan count: 4 unique value count: 1988\n",
      "days.with.cr.line nan count: 29 unique value count: 2688\n",
      "revol.util nan count: 62 unique value count: 1036\n",
      "inq.last.6mths nan count: 29 unique value count: 29\n",
      "delinq.2yrs nan count: 29 unique value count: 12\n",
      "pub.rec nan count: 29 unique value count: 7\n"
     ]
    }
   ],
   "source": [
    "# look at how many NaN values there are for each column with NaN values\n",
    "for f in features:\n",
    "    nan_count = df[f].isna().sum()\n",
    "    if nan_count > 0:\n",
    "        print(f, 'nan count:', nan_count, 'unique value count:', len(df[f].unique()))"
   ]
  },
  {
   "cell_type": "code",
   "execution_count": null,
   "metadata": {},
   "outputs": [],
   "source": []
  },
  {
   "cell_type": "markdown",
   "metadata": {},
   "source": [
    "### log.annual.inc\n",
    "\n",
    "- log.annual.inc: The natural log of the self-reported annual income of the borrower.\n",
    "- nan count: 4 unique value count: 1988\n",
    "- Recommendation: hard to interpolate, let's drop those rows since NaN count is low"
   ]
  },
  {
   "cell_type": "code",
   "execution_count": 7,
   "metadata": {},
   "outputs": [
    {
     "data": {
      "text/plain": [
       "Int64Index([7726, 7741, 7742, 7743], dtype='int64')"
      ]
     },
     "execution_count": 7,
     "metadata": {},
     "output_type": "execute_result"
    }
   ],
   "source": [
    "index = df.loc[df['log.annual.inc'].isna()].index\n",
    "index"
   ]
  },
  {
   "cell_type": "code",
   "execution_count": 8,
   "metadata": {},
   "outputs": [],
   "source": [
    "# drop the rows\n",
    "df.drop(index, inplace=True)"
   ]
  },
  {
   "cell_type": "code",
   "execution_count": 9,
   "metadata": {},
   "outputs": [
    {
     "data": {
      "text/plain": [
       "0"
      ]
     },
     "execution_count": 9,
     "metadata": {},
     "output_type": "execute_result"
    }
   ],
   "source": [
    "# check the result\n",
    "df['log.annual.inc'].isna().sum()"
   ]
  },
  {
   "cell_type": "code",
   "execution_count": null,
   "metadata": {},
   "outputs": [],
   "source": []
  },
  {
   "cell_type": "markdown",
   "metadata": {},
   "source": [
    "### days.with.cr.line\n",
    "\n",
    "- days.with.cr.line: The number of days the borrower has had a credit line.\n",
    "- nan count: 29 unique value count: 2688\n",
    "- Recommendation: inspect the NaN values to see if they map to 0 days"
   ]
  },
  {
   "cell_type": "code",
   "execution_count": 10,
   "metadata": {},
   "outputs": [
    {
     "data": {
      "text/plain": [
       "<matplotlib.axes._subplots.AxesSubplot at 0x1f6a97a0240>"
      ]
     },
     "execution_count": 10,
     "metadata": {},
     "output_type": "execute_result"
    },
    {
     "data": {
      "image/png": "[encoded data removed]",
      "text/plain": [
       "<Figure size 432x288 with 1 Axes>"
      ]
     },
     "metadata": {},
     "output_type": "display_data"
    }
   ],
   "source": [
    "# see the distribution\n",
    "df['days.with.cr.line'].hist()"
   ]
  },
  {
   "cell_type": "code",
   "execution_count": 11,
   "metadata": {},
   "outputs": [
    {
     "data": {
      "text/plain": [
       "Int64Index([7725, 7727, 7728, 7729, 7731, 7732, 7733, 7734, 7735, 7736, 7737,\n",
       "            7738, 7739, 7740, 7744, 7745, 7746, 7747, 7748, 7749, 7750, 7751,\n",
       "            7752, 7753, 7758],\n",
       "           dtype='int64')"
      ]
     },
     "execution_count": 11,
     "metadata": {},
     "output_type": "execute_result"
    }
   ],
   "source": [
    "# There are no zero values, and 0 seems to be a reasonable value for days.with.cr.line\n",
    "\n",
    "# first, select the index for the rows with days.with.cr.line=NaN\n",
    "index = df[df['days.with.cr.line'].isna()].index\n",
    "index"
   ]
  },
  {
   "cell_type": "code",
   "execution_count": 12,
   "metadata": {},
   "outputs": [],
   "source": [
    "# next, set the entries to 0.\n",
    "# We use loc whenever we want to update rows, because it returns a view instead of a copy.\n",
    "df.loc[index, 'days.with.cr.line'] = 0"
   ]
  },
  {
   "cell_type": "code",
   "execution_count": 13,
   "metadata": {},
   "outputs": [
    {
     "data": {
      "text/plain": [
       "0"
      ]
     },
     "execution_count": 13,
     "metadata": {},
     "output_type": "execute_result"
    }
   ],
   "source": [
    "# check result\n",
    "df['days.with.cr.line'].isna().sum()"
   ]
  },
  {
   "cell_type": "code",
   "execution_count": null,
   "metadata": {},
   "outputs": [],
   "source": []
  },
  {
   "cell_type": "markdown",
   "metadata": {},
   "source": [
    "### revol.util\n",
    "\n",
    "- revol.util: The borrower’s revolving line utilization rate (the amount of the credit line used relative to total credit available).\n",
    "- nan count: 62 unique value count: 1036"
   ]
  },
  {
   "cell_type": "code",
   "execution_count": 14,
   "metadata": {},
   "outputs": [
    {
     "data": {
      "text/plain": [
       "<matplotlib.axes._subplots.AxesSubplot at 0x1f6a9ae0860>"
      ]
     },
     "execution_count": 14,
     "metadata": {},
     "output_type": "execute_result"
    },
    {
     "data": {
      "image/png": "[encoded data removed]",
      "text/plain": [
       "<Figure size 432x288 with 1 Axes>"
      ]
     },
     "metadata": {},
     "output_type": "display_data"
    }
   ],
   "source": [
    "# see the distribution\n",
    "df['revol.util'].hist()"
   ]
  },
  {
   "cell_type": "code",
   "execution_count": 15,
   "metadata": {},
   "outputs": [
    {
     "data": {
      "text/plain": [
       "0.00      295\n",
       "0.50       24\n",
       "73.70      22\n",
       "0.30       22\n",
       "3.30       21\n",
       "47.80      21\n",
       "1.00       20\n",
       "0.20       20\n",
       "0.10       20\n",
       "66.60      20\n",
       "0.70       20\n",
       "8.70       19\n",
       "32.40      18\n",
       "12.10      18\n",
       "63.00      18\n",
       "78.70      18\n",
       "52.70      18\n",
       "58.10      18\n",
       "57.70      18\n",
       "30.70      18\n",
       "27.70      17\n",
       "17.10      17\n",
       "54.30      17\n",
       "93.20      17\n",
       "57.80      17\n",
       "30.90      17\n",
       "54.60      17\n",
       "38.30      17\n",
       "37.60      17\n",
       "52.00      16\n",
       "         ... \n",
       "104.20      1\n",
       "105.20      1\n",
       "0.04        1\n",
       "106.10      1\n",
       "58.19       1\n",
       "49.63       1\n",
       "103.50      1\n",
       "106.50      1\n",
       "33.26       1\n",
       "33.29       1\n",
       "36.94       1\n",
       "105.30      1\n",
       "103.20      1\n",
       "105.70      1\n",
       "102.80      1\n",
       "104.30      1\n",
       "6.75        1\n",
       "108.80      1\n",
       "106.20      1\n",
       "91.40       1\n",
       "103.10      1\n",
       "101.50      1\n",
       "69.14       1\n",
       "100.60      1\n",
       "26.32       1\n",
       "7.28        1\n",
       "100.50      1\n",
       "5.34        1\n",
       "106.40      1\n",
       "103.90      1\n",
       "Name: revol.util, Length: 1035, dtype: int64"
      ]
     },
     "execution_count": 15,
     "metadata": {},
     "output_type": "execute_result"
    }
   ],
   "source": [
    "# inspect the actual values\n",
    "df['revol.util'].value_counts()"
   ]
  },
  {
   "cell_type": "code",
   "execution_count": 16,
   "metadata": {},
   "outputs": [
    {
     "data": {
      "text/plain": [
       "0"
      ]
     },
     "execution_count": 16,
     "metadata": {},
     "output_type": "execute_result"
    }
   ],
   "source": [
    "# these are percentages, so they are harder to interpolate or fill\n",
    "# drop these rows as their number is small\n",
    "\n",
    "col = 'revol.util'\n",
    "index = df[df[col].isna()].index\n",
    "df.drop(index, inplace=True)\n",
    "df[col].isna().sum()"
   ]
  },
  {
   "cell_type": "code",
   "execution_count": null,
   "metadata": {},
   "outputs": [],
   "source": []
  },
  {
   "cell_type": "markdown",
   "metadata": {},
   "source": [
    "### inq.last.6mths\n",
    "\n",
    "- nan count: 29 unique value count: 29\n",
    "- inq.last.6mths: The borrower’s number of inquiries by creditors in the last 6 months."
   ]
  },
  {
   "cell_type": "code",
   "execution_count": 17,
   "metadata": {},
   "outputs": [
    {
     "data": {
      "text/plain": [
       "<matplotlib.axes._subplots.AxesSubplot at 0x1f6a9b7da20>"
      ]
     },
     "execution_count": 17,
     "metadata": {},
     "output_type": "execute_result"
    },
    {
     "data": {
      "image/png": "[encoded data removed]",
      "text/plain": [
       "<Figure size 432x288 with 1 Axes>"
      ]
     },
     "metadata": {},
     "output_type": "display_data"
    }
   ],
   "source": [
    "df['inq.last.6mths'].hist()"
   ]
  },
  {
   "cell_type": "code",
   "execution_count": 18,
   "metadata": {},
   "outputs": [
    {
     "data": {
      "text/plain": [
       "0.0     3622\n",
       "1.0     2447\n",
       "2.0     1377\n",
       "3.0      857\n",
       "4.0      468\n",
       "5.0      273\n",
       "6.0      160\n",
       "7.0      100\n",
       "8.0       71\n",
       "9.0       47\n",
       "10.0      23\n",
       "11.0      15\n",
       "12.0      15\n",
       "15.0       9\n",
       "13.0       6\n",
       "14.0       6\n",
       "18.0       4\n",
       "16.0       3\n",
       "17.0       2\n",
       "19.0       2\n",
       "24.0       2\n",
       "28.0       1\n",
       "32.0       1\n",
       "33.0       1\n",
       "25.0       1\n",
       "31.0       1\n",
       "27.0       1\n",
       "20.0       1\n",
       "Name: inq.last.6mths, dtype: int64"
      ]
     },
     "execution_count": 18,
     "metadata": {},
     "output_type": "execute_result"
    }
   ],
   "source": [
    "df['inq.last.6mths'].value_counts()"
   ]
  },
  {
   "cell_type": "code",
   "execution_count": 19,
   "metadata": {},
   "outputs": [
    {
     "data": {
      "text/plain": [
       "0"
      ]
     },
     "execution_count": 19,
     "metadata": {},
     "output_type": "execute_result"
    }
   ],
   "source": [
    "# harder to interpolate or fill\n",
    "# drop these rows as the number of NaNs (29) is small\n",
    "\n",
    "col = 'inq.last.6mths'\n",
    "index = df[df[col].isna()].index\n",
    "df.drop(index, inplace=True)\n",
    "df[col].isna().sum()"
   ]
  },
  {
   "cell_type": "code",
   "execution_count": null,
   "metadata": {},
   "outputs": [],
   "source": []
  },
  {
   "cell_type": "markdown",
   "metadata": {},
   "source": [
    "### delinq.2yrs\n",
    "- nan count: 29 unique value count: 12\n",
    "- delinq.2yrs: The number of times the borrower had been 30+ days past due on a payment in the past 2 years."
   ]
  },
  {
   "cell_type": "code",
   "execution_count": 20,
   "metadata": {},
   "outputs": [
    {
     "data": {
      "text/plain": [
       "<matplotlib.axes._subplots.AxesSubplot at 0x1f6a9bf5208>"
      ]
     },
     "execution_count": 20,
     "metadata": {},
     "output_type": "execute_result"
    },
    {
     "data": {
      "image/png": "[encoded data removed]",
      "text/plain": [
       "<Figure size 432x288 with 1 Axes>"
      ]
     },
     "metadata": {},
     "output_type": "display_data"
    }
   ],
   "source": [
    "df['delinq.2yrs'].hist()"
   ]
  },
  {
   "cell_type": "code",
   "execution_count": 21,
   "metadata": {},
   "outputs": [
    {
     "data": {
      "text/plain": [
       "0.0     8403\n",
       "1.0      827\n",
       "2.0      191\n",
       "3.0       65\n",
       "4.0       18\n",
       "5.0        6\n",
       "6.0        2\n",
       "11.0       1\n",
       "13.0       1\n",
       "8.0        1\n",
       "7.0        1\n",
       "Name: delinq.2yrs, dtype: int64"
      ]
     },
     "execution_count": 21,
     "metadata": {},
     "output_type": "execute_result"
    }
   ],
   "source": [
    "df['delinq.2yrs'].value_counts()"
   ]
  },
  {
   "cell_type": "code",
   "execution_count": 22,
   "metadata": {},
   "outputs": [
    {
     "data": {
      "text/plain": [
       "0"
      ]
     },
     "execution_count": 22,
     "metadata": {},
     "output_type": "execute_result"
    }
   ],
   "source": [
    "# harder to interpolate or fill\n",
    "# drop these rows as the number of NaNs (29) is small\n",
    "\n",
    "col = 'delinq.2yrs'\n",
    "index = df[df[col].isna()].index\n",
    "df.drop(index, inplace=True)\n",
    "df[col].isna().sum()"
   ]
  },
  {
   "cell_type": "code",
   "execution_count": null,
   "metadata": {},
   "outputs": [],
   "source": []
  },
  {
   "cell_type": "markdown",
   "metadata": {},
   "source": [
    "### pub.rec\n",
    "- nan count: 29 unique value count: 7\n",
    "- pub.rec: The borrower’s number of derogatory public records (bankruptcy filings, tax liens, or judgments)."
   ]
  },
  {
   "cell_type": "code",
   "execution_count": 23,
   "metadata": {},
   "outputs": [
    {
     "data": {
      "text/plain": [
       "<matplotlib.axes._subplots.AxesSubplot at 0x1f6a9bc9978>"
      ]
     },
     "execution_count": 23,
     "metadata": {},
     "output_type": "execute_result"
    },
    {
     "data": {
      "image/png": "[encoded data removed]",
      "text/plain": [
       "<Figure size 432x288 with 1 Axes>"
      ]
     },
     "metadata": {},
     "output_type": "display_data"
    }
   ],
   "source": [
    "df['pub.rec'].hist()"
   ]
  },
  {
   "cell_type": "code",
   "execution_count": 24,
   "metadata": {},
   "outputs": [
    {
     "data": {
      "text/plain": [
       "0.0    8960\n",
       "1.0     530\n",
       "2.0      19\n",
       "3.0       5\n",
       "5.0       1\n",
       "4.0       1\n",
       "Name: pub.rec, dtype: int64"
      ]
     },
     "execution_count": 24,
     "metadata": {},
     "output_type": "execute_result"
    }
   ],
   "source": [
    "df['pub.rec'].value_counts()"
   ]
  },
  {
   "cell_type": "code",
   "execution_count": 25,
   "metadata": {},
   "outputs": [
    {
     "data": {
      "text/plain": [
       "0"
      ]
     },
     "execution_count": 25,
     "metadata": {},
     "output_type": "execute_result"
    }
   ],
   "source": [
    "# harder to interpolate or fill\n",
    "# drop these rows as the number of NaNs (29) is small\n",
    "\n",
    "col = 'pub.rec'\n",
    "index = df[df[col].isna()].index\n",
    "df.drop(index, inplace=True)\n",
    "df[col].isna().sum()"
   ]
  },
  {
   "cell_type": "code",
   "execution_count": null,
   "metadata": {},
   "outputs": [],
   "source": []
  },
  {
   "cell_type": "code",
   "execution_count": 26,
   "metadata": {},
   "outputs": [],
   "source": [
    "# check result again after cleaning\n",
    "for f in features:\n",
    "    nan_count = df[f].isna().sum()\n",
    "    if nan_count > 0:\n",
    "        print(f, 'nan count:', nan_count, 'unique value count:', len(df[f].unique()))"
   ]
  },
  {
   "cell_type": "code",
   "execution_count": null,
   "metadata": {},
   "outputs": [],
   "source": []
  },
  {
   "cell_type": "markdown",
   "metadata": {},
   "source": [
    "### Encode the `purpose` category\n",
    "\n",
    "```\n",
    "purpose              9516 non-null object\n",
    "```"
   ]
  },
  {
   "cell_type": "code",
   "execution_count": 27,
   "metadata": {},
   "outputs": [
    {
     "data": {
      "text/plain": [
       "debt_consolidation    3949\n",
       "all_other             2290\n",
       "credit_card           1259\n",
       "home_improvement       628\n",
       "small_business         618\n",
       "major_purchase         432\n",
       "educational            340\n",
       "Name: purpose, dtype: int64"
      ]
     },
     "execution_count": 27,
     "metadata": {},
     "output_type": "execute_result"
    }
   ],
   "source": [
    "df['purpose'].value_counts()"
   ]
  },
  {
   "cell_type": "code",
   "execution_count": 28,
   "metadata": {},
   "outputs": [
    {
     "data": {
      "text/plain": [
       "7"
      ]
     },
     "execution_count": 28,
     "metadata": {},
     "output_type": "execute_result"
    }
   ],
   "source": [
    "len(df['purpose'].unique())"
   ]
  },
  {
   "cell_type": "code",
   "execution_count": 29,
   "metadata": {},
   "outputs": [],
   "source": [
    "# Let's try label encoding, since there are quite a few columns already\n",
    "\n",
    "from sklearn.preprocessing import LabelEncoder\n",
    "\n",
    "le_purpose = LabelEncoder()\n",
    "le_purpose.fit(df['purpose'])\n",
    "\n",
    "df['purpose'] = le_purpose.transform(df['purpose'])"
   ]
  },
  {
   "cell_type": "code",
   "execution_count": 30,
   "metadata": {},
   "outputs": [
    {
     "data": {
      "text/plain": [
       "2    3949\n",
       "0    2290\n",
       "1    1259\n",
       "4     628\n",
       "6     618\n",
       "5     432\n",
       "3     340\n",
       "Name: purpose, dtype: int64"
      ]
     },
     "execution_count": 30,
     "metadata": {},
     "output_type": "execute_result"
    }
   ],
   "source": [
    "df['purpose'].value_counts()"
   ]
  },
  {
   "cell_type": "code",
   "execution_count": 31,
   "metadata": {},
   "outputs": [
    {
     "data": {
      "text/plain": [
       "array(['all_other', 'credit_card', 'debt_consolidation', 'educational',\n",
       "       'home_improvement', 'major_purchase', 'small_business'],\n",
       "      dtype=object)"
      ]
     },
     "execution_count": 31,
     "metadata": {},
     "output_type": "execute_result"
    }
   ],
   "source": [
    "# alphabetical\n",
    "le_purpose.classes_"
   ]
  },
  {
   "cell_type": "code",
   "execution_count": null,
   "metadata": {},
   "outputs": [],
   "source": []
  },
  {
   "cell_type": "markdown",
   "metadata": {},
   "source": [
    "## Data exploration"
   ]
  },
  {
   "cell_type": "code",
   "execution_count": 32,
   "metadata": {},
   "outputs": [
    {
     "data": {
      "text/html": [
       "<div>\n",
       "<style scoped>\n",
       "    .dataframe tbody tr th:only-of-type {\n",
       "        vertical-align: middle;\n",
       "    }\n",
       "\n",
       "    .dataframe tbody tr th {\n",
       "        vertical-align: top;\n",
       "    }\n",
       "\n",
       "    .dataframe thead th {\n",
       "        text-align: right;\n",
       "    }\n",
       "</style>\n",
       "<table border=\"1\" class=\"dataframe\">\n",
       "  <thead>\n",
       "    <tr style=\"text-align: right;\">\n",
       "      <th></th>\n",
       "      <th>credit.policy</th>\n",
       "      <th>purpose</th>\n",
       "      <th>int.rate</th>\n",
       "      <th>installment</th>\n",
       "      <th>log.annual.inc</th>\n",
       "      <th>dti</th>\n",
       "      <th>fico</th>\n",
       "      <th>days.with.cr.line</th>\n",
       "      <th>revol.bal</th>\n",
       "      <th>revol.util</th>\n",
       "      <th>inq.last.6mths</th>\n",
       "      <th>delinq.2yrs</th>\n",
       "      <th>pub.rec</th>\n",
       "      <th>not.fully.paid</th>\n",
       "    </tr>\n",
       "  </thead>\n",
       "  <tbody>\n",
       "    <tr>\n",
       "      <th>credit.policy</th>\n",
       "      <td>1.000000</td>\n",
       "      <td>0.010072</td>\n",
       "      <td>-0.305427</td>\n",
       "      <td>0.053583</td>\n",
       "      <td>0.033056</td>\n",
       "      <td>-0.095762</td>\n",
       "      <td>0.354431</td>\n",
       "      <td>0.098089</td>\n",
       "      <td>-0.191655</td>\n",
       "      <td>-0.109876</td>\n",
       "      <td>-0.535595</td>\n",
       "      <td>-0.078454</td>\n",
       "      <td>-0.055030</td>\n",
       "      <td>-0.161168</td>\n",
       "    </tr>\n",
       "    <tr>\n",
       "      <th>purpose</th>\n",
       "      <td>0.010072</td>\n",
       "      <td>1.000000</td>\n",
       "      <td>0.114799</td>\n",
       "      <td>0.152895</td>\n",
       "      <td>0.087836</td>\n",
       "      <td>-0.055718</td>\n",
       "      <td>0.058319</td>\n",
       "      <td>0.047660</td>\n",
       "      <td>0.042139</td>\n",
       "      <td>-0.065542</td>\n",
       "      <td>0.040449</td>\n",
       "      <td>-0.011116</td>\n",
       "      <td>0.004171</td>\n",
       "      <td>0.049166</td>\n",
       "    </tr>\n",
       "    <tr>\n",
       "      <th>int.rate</th>\n",
       "      <td>-0.305427</td>\n",
       "      <td>0.114799</td>\n",
       "      <td>1.000000</td>\n",
       "      <td>0.276447</td>\n",
       "      <td>0.059409</td>\n",
       "      <td>0.219707</td>\n",
       "      <td>-0.716325</td>\n",
       "      <td>-0.124562</td>\n",
       "      <td>0.091873</td>\n",
       "      <td>0.463864</td>\n",
       "      <td>0.207569</td>\n",
       "      <td>0.155540</td>\n",
       "      <td>0.099486</td>\n",
       "      <td>0.159250</td>\n",
       "    </tr>\n",
       "    <tr>\n",
       "      <th>installment</th>\n",
       "      <td>0.053583</td>\n",
       "      <td>0.152895</td>\n",
       "      <td>0.276447</td>\n",
       "      <td>1.000000</td>\n",
       "      <td>0.449624</td>\n",
       "      <td>0.048036</td>\n",
       "      <td>0.085824</td>\n",
       "      <td>0.181684</td>\n",
       "      <td>0.230600</td>\n",
       "      <td>0.079541</td>\n",
       "      <td>-0.008553</td>\n",
       "      <td>-0.004550</td>\n",
       "      <td>-0.032962</td>\n",
       "      <td>0.050921</td>\n",
       "    </tr>\n",
       "    <tr>\n",
       "      <th>log.annual.inc</th>\n",
       "      <td>0.033056</td>\n",
       "      <td>0.087836</td>\n",
       "      <td>0.059409</td>\n",
       "      <td>0.449624</td>\n",
       "      <td>1.000000</td>\n",
       "      <td>-0.053660</td>\n",
       "      <td>0.111367</td>\n",
       "      <td>0.334643</td>\n",
       "      <td>0.373555</td>\n",
       "      <td>0.056112</td>\n",
       "      <td>0.028469</td>\n",
       "      <td>0.028162</td>\n",
       "      <td>0.015566</td>\n",
       "      <td>-0.029924</td>\n",
       "    </tr>\n",
       "    <tr>\n",
       "      <th>dti</th>\n",
       "      <td>-0.095762</td>\n",
       "      <td>-0.055718</td>\n",
       "      <td>0.219707</td>\n",
       "      <td>0.048036</td>\n",
       "      <td>-0.053660</td>\n",
       "      <td>1.000000</td>\n",
       "      <td>-0.240890</td>\n",
       "      <td>0.059707</td>\n",
       "      <td>0.189338</td>\n",
       "      <td>0.336578</td>\n",
       "      <td>0.030491</td>\n",
       "      <td>-0.022605</td>\n",
       "      <td>0.006342</td>\n",
       "      <td>0.037547</td>\n",
       "    </tr>\n",
       "    <tr>\n",
       "      <th>fico</th>\n",
       "      <td>0.354431</td>\n",
       "      <td>0.058319</td>\n",
       "      <td>-0.716325</td>\n",
       "      <td>0.085824</td>\n",
       "      <td>0.111367</td>\n",
       "      <td>-0.240890</td>\n",
       "      <td>1.000000</td>\n",
       "      <td>0.263290</td>\n",
       "      <td>-0.016105</td>\n",
       "      <td>-0.541113</td>\n",
       "      <td>-0.188171</td>\n",
       "      <td>-0.216540</td>\n",
       "      <td>-0.147828</td>\n",
       "      <td>-0.148909</td>\n",
       "    </tr>\n",
       "    <tr>\n",
       "      <th>days.with.cr.line</th>\n",
       "      <td>0.098089</td>\n",
       "      <td>0.047660</td>\n",
       "      <td>-0.124562</td>\n",
       "      <td>0.181684</td>\n",
       "      <td>0.334643</td>\n",
       "      <td>0.059707</td>\n",
       "      <td>0.263290</td>\n",
       "      <td>1.000000</td>\n",
       "      <td>0.228339</td>\n",
       "      <td>-0.024019</td>\n",
       "      <td>-0.042134</td>\n",
       "      <td>0.080811</td>\n",
       "      <td>0.071104</td>\n",
       "      <td>-0.028621</td>\n",
       "    </tr>\n",
       "    <tr>\n",
       "      <th>revol.bal</th>\n",
       "      <td>-0.191655</td>\n",
       "      <td>0.042139</td>\n",
       "      <td>0.091873</td>\n",
       "      <td>0.230600</td>\n",
       "      <td>0.373555</td>\n",
       "      <td>0.189338</td>\n",
       "      <td>-0.016105</td>\n",
       "      <td>0.228339</td>\n",
       "      <td>1.000000</td>\n",
       "      <td>0.203002</td>\n",
       "      <td>0.023950</td>\n",
       "      <td>-0.034246</td>\n",
       "      <td>-0.031132</td>\n",
       "      <td>0.054897</td>\n",
       "    </tr>\n",
       "    <tr>\n",
       "      <th>revol.util</th>\n",
       "      <td>-0.109876</td>\n",
       "      <td>-0.065542</td>\n",
       "      <td>0.463864</td>\n",
       "      <td>0.079541</td>\n",
       "      <td>0.056112</td>\n",
       "      <td>0.336578</td>\n",
       "      <td>-0.541113</td>\n",
       "      <td>-0.024019</td>\n",
       "      <td>0.203002</td>\n",
       "      <td>1.000000</td>\n",
       "      <td>-0.011377</td>\n",
       "      <td>-0.042905</td>\n",
       "      <td>0.067375</td>\n",
       "      <td>0.082041</td>\n",
       "    </tr>\n",
       "    <tr>\n",
       "      <th>inq.last.6mths</th>\n",
       "      <td>-0.535595</td>\n",
       "      <td>0.040449</td>\n",
       "      <td>0.207569</td>\n",
       "      <td>-0.008553</td>\n",
       "      <td>0.028469</td>\n",
       "      <td>0.030491</td>\n",
       "      <td>-0.188171</td>\n",
       "      <td>-0.042134</td>\n",
       "      <td>0.023950</td>\n",
       "      <td>-0.011377</td>\n",
       "      <td>1.000000</td>\n",
       "      <td>0.021437</td>\n",
       "      <td>0.074234</td>\n",
       "      <td>0.150872</td>\n",
       "    </tr>\n",
       "    <tr>\n",
       "      <th>delinq.2yrs</th>\n",
       "      <td>-0.078454</td>\n",
       "      <td>-0.011116</td>\n",
       "      <td>0.155540</td>\n",
       "      <td>-0.004550</td>\n",
       "      <td>0.028162</td>\n",
       "      <td>-0.022605</td>\n",
       "      <td>-0.216540</td>\n",
       "      <td>0.080811</td>\n",
       "      <td>-0.034246</td>\n",
       "      <td>-0.042905</td>\n",
       "      <td>0.021437</td>\n",
       "      <td>1.000000</td>\n",
       "      <td>0.009641</td>\n",
       "      <td>0.008478</td>\n",
       "    </tr>\n",
       "    <tr>\n",
       "      <th>pub.rec</th>\n",
       "      <td>-0.055030</td>\n",
       "      <td>0.004171</td>\n",
       "      <td>0.099486</td>\n",
       "      <td>-0.032962</td>\n",
       "      <td>0.015566</td>\n",
       "      <td>0.006342</td>\n",
       "      <td>-0.147828</td>\n",
       "      <td>0.071104</td>\n",
       "      <td>-0.031132</td>\n",
       "      <td>0.067375</td>\n",
       "      <td>0.074234</td>\n",
       "      <td>0.009641</td>\n",
       "      <td>1.000000</td>\n",
       "      <td>0.049592</td>\n",
       "    </tr>\n",
       "    <tr>\n",
       "      <th>not.fully.paid</th>\n",
       "      <td>-0.161168</td>\n",
       "      <td>0.049166</td>\n",
       "      <td>0.159250</td>\n",
       "      <td>0.050921</td>\n",
       "      <td>-0.029924</td>\n",
       "      <td>0.037547</td>\n",
       "      <td>-0.148909</td>\n",
       "      <td>-0.028621</td>\n",
       "      <td>0.054897</td>\n",
       "      <td>0.082041</td>\n",
       "      <td>0.150872</td>\n",
       "      <td>0.008478</td>\n",
       "      <td>0.049592</td>\n",
       "      <td>1.000000</td>\n",
       "    </tr>\n",
       "  </tbody>\n",
       "</table>\n",
       "</div>"
      ],
      "text/plain": [
       "                   credit.policy   purpose  int.rate  installment  \\\n",
       "credit.policy           1.000000  0.010072 -0.305427     0.053583   \n",
       "purpose                 0.010072  1.000000  0.114799     0.152895   \n",
       "int.rate               -0.305427  0.114799  1.000000     0.276447   \n",
       "installment             0.053583  0.152895  0.276447     1.000000   \n",
       "log.annual.inc          0.033056  0.087836  0.059409     0.449624   \n",
       "dti                    -0.095762 -0.055718  0.219707     0.048036   \n",
       "fico                    0.354431  0.058319 -0.716325     0.085824   \n",
       "days.with.cr.line       0.098089  0.047660 -0.124562     0.181684   \n",
       "revol.bal              -0.191655  0.042139  0.091873     0.230600   \n",
       "revol.util             -0.109876 -0.065542  0.463864     0.079541   \n",
       "inq.last.6mths         -0.535595  0.040449  0.207569    -0.008553   \n",
       "delinq.2yrs            -0.078454 -0.011116  0.155540    -0.004550   \n",
       "pub.rec                -0.055030  0.004171  0.099486    -0.032962   \n",
       "not.fully.paid         -0.161168  0.049166  0.159250     0.050921   \n",
       "\n",
       "                   log.annual.inc       dti      fico  days.with.cr.line  \\\n",
       "credit.policy            0.033056 -0.095762  0.354431           0.098089   \n",
       "purpose                  0.087836 -0.055718  0.058319           0.047660   \n",
       "int.rate                 0.059409  0.219707 -0.716325          -0.124562   \n",
       "installment              0.449624  0.048036  0.085824           0.181684   \n",
       "log.annual.inc           1.000000 -0.053660  0.111367           0.334643   \n",
       "dti                     -0.053660  1.000000 -0.240890           0.059707   \n",
       "fico                     0.111367 -0.240890  1.000000           0.263290   \n",
       "days.with.cr.line        0.334643  0.059707  0.263290           1.000000   \n",
       "revol.bal                0.373555  0.189338 -0.016105           0.228339   \n",
       "revol.util               0.056112  0.336578 -0.541113          -0.024019   \n",
       "inq.last.6mths           0.028469  0.030491 -0.188171          -0.042134   \n",
       "delinq.2yrs              0.028162 -0.022605 -0.216540           0.080811   \n",
       "pub.rec                  0.015566  0.006342 -0.147828           0.071104   \n",
       "not.fully.paid          -0.029924  0.037547 -0.148909          -0.028621   \n",
       "\n",
       "                   revol.bal  revol.util  inq.last.6mths  delinq.2yrs  \\\n",
       "credit.policy      -0.191655   -0.109876       -0.535595    -0.078454   \n",
       "purpose             0.042139   -0.065542        0.040449    -0.011116   \n",
       "int.rate            0.091873    0.463864        0.207569     0.155540   \n",
       "installment         0.230600    0.079541       -0.008553    -0.004550   \n",
       "log.annual.inc      0.373555    0.056112        0.028469     0.028162   \n",
       "dti                 0.189338    0.336578        0.030491    -0.022605   \n",
       "fico               -0.016105   -0.541113       -0.188171    -0.216540   \n",
       "days.with.cr.line   0.228339   -0.024019       -0.042134     0.080811   \n",
       "revol.bal           1.000000    0.203002        0.023950    -0.034246   \n",
       "revol.util          0.203002    1.000000       -0.011377    -0.042905   \n",
       "inq.last.6mths      0.023950   -0.011377        1.000000     0.021437   \n",
       "delinq.2yrs        -0.034246   -0.042905        0.021437     1.000000   \n",
       "pub.rec            -0.031132    0.067375        0.074234     0.009641   \n",
       "not.fully.paid      0.054897    0.082041        0.150872     0.008478   \n",
       "\n",
       "                    pub.rec  not.fully.paid  \n",
       "credit.policy     -0.055030       -0.161168  \n",
       "purpose            0.004171        0.049166  \n",
       "int.rate           0.099486        0.159250  \n",
       "installment       -0.032962        0.050921  \n",
       "log.annual.inc     0.015566       -0.029924  \n",
       "dti                0.006342        0.037547  \n",
       "fico              -0.147828       -0.148909  \n",
       "days.with.cr.line  0.071104       -0.028621  \n",
       "revol.bal         -0.031132        0.054897  \n",
       "revol.util         0.067375        0.082041  \n",
       "inq.last.6mths     0.074234        0.150872  \n",
       "delinq.2yrs        0.009641        0.008478  \n",
       "pub.rec            1.000000        0.049592  \n",
       "not.fully.paid     0.049592        1.000000  "
      ]
     },
     "execution_count": 32,
     "metadata": {},
     "output_type": "execute_result"
    }
   ],
   "source": [
    "df.corr()"
   ]
  },
  {
   "cell_type": "code",
   "execution_count": 33,
   "metadata": {},
   "outputs": [
    {
     "data": {
      "text/plain": [
       "<matplotlib.axes._subplots.AxesSubplot at 0x1f6a9f55240>"
      ]
     },
     "execution_count": 33,
     "metadata": {},
     "output_type": "execute_result"
    },
    {
     "data": {
      "image/png": "[encoded data removed]",
      "text/plain": [
       "<Figure size 720x720 with 2 Axes>"
      ]
     },
     "metadata": {},
     "output_type": "display_data"
    }
   ],
   "source": [
    "fig, axes = plt.subplots(figsize=(10, 10))\n",
    "sns.heatmap(df.corr(), ax=axes, annot=True, fmt='.2f')"
   ]
  },
  {
   "cell_type": "code",
   "execution_count": null,
   "metadata": {},
   "outputs": [],
   "source": []
  },
  {
   "cell_type": "markdown",
   "metadata": {},
   "source": [
    "### Imbalance Check\n",
    "\n",
    "Since this is a classification task, check the target value counts for imbalance. \n",
    "\n",
    "If imbalanced, we need to sample so that the classes (0, 1) are not skewed."
   ]
  },
  {
   "cell_type": "code",
   "execution_count": 34,
   "metadata": {
    "scrolled": true
   },
   "outputs": [
    {
     "data": {
      "text/plain": [
       "<matplotlib.axes._subplots.AxesSubplot at 0x1f6aa31ff98>"
      ]
     },
     "execution_count": 34,
     "metadata": {},
     "output_type": "execute_result"
    },
    {
     "data": {
      "image/png": "[encoded data removed]",
      "text/plain": [
       "<Figure size 432x288 with 1 Axes>"
      ]
     },
     "metadata": {},
     "output_type": "display_data"
    }
   ],
   "source": [
    "df[target].hist()"
   ]
  },
  {
   "cell_type": "code",
   "execution_count": 35,
   "metadata": {},
   "outputs": [
    {
     "data": {
      "text/plain": [
       "0    7995\n",
       "1    1521\n",
       "Name: not.fully.paid, dtype: int64"
      ]
     },
     "execution_count": 35,
     "metadata": {},
     "output_type": "execute_result"
    }
   ],
   "source": [
    "df[target].value_counts()"
   ]
  },
  {
   "cell_type": "markdown",
   "metadata": {},
   "source": [
    "### Sampling\n",
    "\n",
    "Randomly select rows belonging to the 0 classes, to match the size of label=1"
   ]
  },
  {
   "cell_type": "code",
   "execution_count": 36,
   "metadata": {},
   "outputs": [
    {
     "data": {
      "text/html": [
       "<div>\n",
       "<style scoped>\n",
       "    .dataframe tbody tr th:only-of-type {\n",
       "        vertical-align: middle;\n",
       "    }\n",
       "\n",
       "    .dataframe tbody tr th {\n",
       "        vertical-align: top;\n",
       "    }\n",
       "\n",
       "    .dataframe thead th {\n",
       "        text-align: right;\n",
       "    }\n",
       "</style>\n",
       "<table border=\"1\" class=\"dataframe\">\n",
       "  <thead>\n",
       "    <tr style=\"text-align: right;\">\n",
       "      <th></th>\n",
       "      <th>credit.policy</th>\n",
       "      <th>purpose</th>\n",
       "      <th>int.rate</th>\n",
       "      <th>installment</th>\n",
       "      <th>log.annual.inc</th>\n",
       "      <th>dti</th>\n",
       "      <th>fico</th>\n",
       "      <th>days.with.cr.line</th>\n",
       "      <th>revol.bal</th>\n",
       "      <th>revol.util</th>\n",
       "      <th>inq.last.6mths</th>\n",
       "      <th>delinq.2yrs</th>\n",
       "      <th>pub.rec</th>\n",
       "      <th>not.fully.paid</th>\n",
       "    </tr>\n",
       "  </thead>\n",
       "  <tbody>\n",
       "    <tr>\n",
       "      <th>6358</th>\n",
       "      <td>1</td>\n",
       "      <td>0</td>\n",
       "      <td>0.1183</td>\n",
       "      <td>828.35</td>\n",
       "      <td>10.809004</td>\n",
       "      <td>21.45</td>\n",
       "      <td>777</td>\n",
       "      <td>3662.000000</td>\n",
       "      <td>1113</td>\n",
       "      <td>4.5</td>\n",
       "      <td>1.0</td>\n",
       "      <td>0.0</td>\n",
       "      <td>0.0</td>\n",
       "      <td>0</td>\n",
       "    </tr>\n",
       "    <tr>\n",
       "      <th>3031</th>\n",
       "      <td>1</td>\n",
       "      <td>1</td>\n",
       "      <td>0.0800</td>\n",
       "      <td>172.35</td>\n",
       "      <td>11.008744</td>\n",
       "      <td>22.45</td>\n",
       "      <td>752</td>\n",
       "      <td>4234.000000</td>\n",
       "      <td>14026</td>\n",
       "      <td>51.4</td>\n",
       "      <td>0.0</td>\n",
       "      <td>0.0</td>\n",
       "      <td>0.0</td>\n",
       "      <td>0</td>\n",
       "    </tr>\n",
       "    <tr>\n",
       "      <th>4298</th>\n",
       "      <td>1</td>\n",
       "      <td>2</td>\n",
       "      <td>0.1670</td>\n",
       "      <td>619.50</td>\n",
       "      <td>11.034890</td>\n",
       "      <td>22.06</td>\n",
       "      <td>672</td>\n",
       "      <td>4649.958333</td>\n",
       "      <td>24971</td>\n",
       "      <td>61.4</td>\n",
       "      <td>1.0</td>\n",
       "      <td>0.0</td>\n",
       "      <td>0.0</td>\n",
       "      <td>0</td>\n",
       "    </tr>\n",
       "    <tr>\n",
       "      <th>6837</th>\n",
       "      <td>1</td>\n",
       "      <td>0</td>\n",
       "      <td>0.1183</td>\n",
       "      <td>596.41</td>\n",
       "      <td>12.211060</td>\n",
       "      <td>18.33</td>\n",
       "      <td>732</td>\n",
       "      <td>4470.041667</td>\n",
       "      <td>15715</td>\n",
       "      <td>56.3</td>\n",
       "      <td>2.0</td>\n",
       "      <td>0.0</td>\n",
       "      <td>0.0</td>\n",
       "      <td>0</td>\n",
       "    </tr>\n",
       "    <tr>\n",
       "      <th>9012</th>\n",
       "      <td>0</td>\n",
       "      <td>0</td>\n",
       "      <td>0.1726</td>\n",
       "      <td>53.68</td>\n",
       "      <td>9.586583</td>\n",
       "      <td>5.27</td>\n",
       "      <td>687</td>\n",
       "      <td>2309.958333</td>\n",
       "      <td>2308</td>\n",
       "      <td>69.9</td>\n",
       "      <td>8.0</td>\n",
       "      <td>0.0</td>\n",
       "      <td>0.0</td>\n",
       "      <td>0</td>\n",
       "    </tr>\n",
       "  </tbody>\n",
       "</table>\n",
       "</div>"
      ],
      "text/plain": [
       "      credit.policy  purpose  int.rate  installment  log.annual.inc    dti  \\\n",
       "6358              1        0    0.1183       828.35       10.809004  21.45   \n",
       "3031              1        1    0.0800       172.35       11.008744  22.45   \n",
       "4298              1        2    0.1670       619.50       11.034890  22.06   \n",
       "6837              1        0    0.1183       596.41       12.211060  18.33   \n",
       "9012              0        0    0.1726        53.68        9.586583   5.27   \n",
       "\n",
       "      fico  days.with.cr.line  revol.bal  revol.util  inq.last.6mths  \\\n",
       "6358   777        3662.000000       1113         4.5             1.0   \n",
       "3031   752        4234.000000      14026        51.4             0.0   \n",
       "4298   672        4649.958333      24971        61.4             1.0   \n",
       "6837   732        4470.041667      15715        56.3             2.0   \n",
       "9012   687        2309.958333       2308        69.9             8.0   \n",
       "\n",
       "      delinq.2yrs  pub.rec  not.fully.paid  \n",
       "6358          0.0      0.0               0  \n",
       "3031          0.0      0.0               0  \n",
       "4298          0.0      0.0               0  \n",
       "6837          0.0      0.0               0  \n",
       "9012          0.0      0.0               0  "
      ]
     },
     "execution_count": 36,
     "metadata": {},
     "output_type": "execute_result"
    }
   ],
   "source": [
    "df_zeros = df.loc[df[target] == 0].sample(n=2000, random_state=42)\n",
    "df_zeros.head()"
   ]
  },
  {
   "cell_type": "code",
   "execution_count": 37,
   "metadata": {},
   "outputs": [
    {
     "data": {
      "text/plain": [
       "0    2000\n",
       "1    1521\n",
       "Name: not.fully.paid, dtype: int64"
      ]
     },
     "execution_count": 37,
     "metadata": {},
     "output_type": "execute_result"
    }
   ],
   "source": [
    "# get the rows for class=1\n",
    "df_ones = df.loc[df[target] == 1]\n",
    "\n",
    "# join the two, row-wise\n",
    "df_balanced = pd.concat([df_zeros, df_ones])\n",
    "\n",
    "# check the result\n",
    "df_balanced[target].value_counts()"
   ]
  },
  {
   "cell_type": "code",
   "execution_count": 38,
   "metadata": {},
   "outputs": [],
   "source": [
    "X = df_balanced.loc[:, features]  # df_balanced[features] also works, but .loc uses less memory because it does not\n",
    "                                  # return a copy of the dataframe. [] returns a copy.\n",
    "\n",
    "y = df_balanced.loc[:, target]"
   ]
  },
  {
   "cell_type": "code",
   "execution_count": null,
   "metadata": {},
   "outputs": [],
   "source": []
  },
  {
   "cell_type": "markdown",
   "metadata": {},
   "source": [
    "### PCA plot\n",
    "\n",
    "Let's visualise the features in a 2 or 3-D plot. This may help us get a sense of how to model the data."
   ]
  },
  {
   "cell_type": "code",
   "execution_count": 39,
   "metadata": {},
   "outputs": [
    {
     "name": "stderr",
     "output_type": "stream",
     "text": [
      "C:\\Users\\issohl\\AppData\\Local\\conda\\conda\\envs\\mldds03\\lib\\site-packages\\sklearn\\preprocessing\\data.py:617: DataConversionWarning: Data with input dtype int32, int64, float64 were all converted to float64 by StandardScaler.\n",
      "  return self.partial_fit(X, y)\n",
      "C:\\Users\\issohl\\AppData\\Local\\conda\\conda\\envs\\mldds03\\lib\\site-packages\\sklearn\\base.py:462: DataConversionWarning: Data with input dtype int32, int64, float64 were all converted to float64 by StandardScaler.\n",
      "  return self.fit(X, **fit_params).transform(X)\n"
     ]
    },
    {
     "data": {
      "text/plain": [
       "<matplotlib.legend.Legend at 0x1f6ab6c9c18>"
      ]
     },
     "execution_count": 39,
     "metadata": {},
     "output_type": "execute_result"
    },
    {
     "data": {
      "image/png": "[encoded data removed]",
      "text/plain": [
       "<Figure size 720x576 with 1 Axes>"
      ]
     },
     "metadata": {},
     "output_type": "display_data"
    }
   ],
   "source": [
    "from sklearn.decomposition import PCA\n",
    "from sklearn.preprocessing import StandardScaler\n",
    "\n",
    "# scale\n",
    "scaler = StandardScaler()\n",
    "X_scaled = scaler.fit_transform(X)\n",
    "\n",
    "# pca\n",
    "pca_2d = PCA(n_components=2)\n",
    "Z_2d = pca_2d.fit_transform(X_scaled)\n",
    "\n",
    "fig, ax = plt.subplots(figsize=(10, 8))\n",
    "\n",
    "# dimension 0, dimension 1, label\n",
    "ax.scatter(Z_2d[y==0, 0], Z_2d[y==0, 1], label='not.fully.paid: 0')\n",
    "ax.scatter(Z_2d[y==1, 0], Z_2d[y==1, 1], label='not.fully.paid: 1')\n",
    "ax.set(title='PCA 2-d projection', xlabel='Z[0]', ylabel='Z[1]')\n",
    "ax.legend()"
   ]
  },
  {
   "cell_type": "markdown",
   "metadata": {},
   "source": [
    "From the plot:\n",
    "- There is no clear boundary of separation, since the two classes overlap.\n",
    "- The boundary of separation doesn't look linear, so an SVM classifier may perform better than Logistic Regression\n",
    "\n",
    "This is a 2d projection, along the 2 axes of largest variances. Let's see how much variance is captured (how much we can trust the 2-d projection)"
   ]
  },
  {
   "cell_type": "code",
   "execution_count": 40,
   "metadata": {},
   "outputs": [
    {
     "data": {
      "text/plain": [
       "0.35901198046926497"
      ]
     },
     "execution_count": 40,
     "metadata": {},
     "output_type": "execute_result"
    }
   ],
   "source": [
    "sum(pca_2d.explained_variance_ratio_)"
   ]
  },
  {
   "cell_type": "markdown",
   "metadata": {},
   "source": [
    "The explained variance ratio is quite low (only about 36%)."
   ]
  },
  {
   "cell_type": "markdown",
   "metadata": {},
   "source": [
    "## Feature Reduction\n",
    "\n",
    "PCA can be used for feature reduction. Let's find out what dimensions to use."
   ]
  },
  {
   "cell_type": "code",
   "execution_count": 41,
   "metadata": {},
   "outputs": [
    {
     "data": {
      "image/png": "[encoded data removed]",
      "text/plain": [
       "<Figure size 432x288 with 1 Axes>"
      ]
     },
     "metadata": {},
     "output_type": "display_data"
    }
   ],
   "source": [
    "explained_variances = []\n",
    "\n",
    "for n in range(2, len(features)):\n",
    "    pca = PCA(n_components=n)\n",
    "    pca.fit_transform(X_scaled)\n",
    "    explained_variances.append(sum(pca.explained_variance_ratio_))\n",
    "    \n",
    "fig, ax = plt.subplots()\n",
    "ax.plot(range(2, len(features)), explained_variances, marker='o')\n",
    "ax.set(xlabel='PCA dimensions', ylabel='Explained Variance')\n",
    "ax.grid()"
   ]
  },
  {
   "cell_type": "markdown",
   "metadata": {},
   "source": [
    "10 dimensions gives us at >90% explained variance. Since this is close to the actual number of features (12), there's not that much benefit using PCA to reduce features."
   ]
  },
  {
   "cell_type": "code",
   "execution_count": null,
   "metadata": {},
   "outputs": [],
   "source": []
  },
  {
   "cell_type": "markdown",
   "metadata": {},
   "source": [
    "## Training"
   ]
  },
  {
   "cell_type": "code",
   "execution_count": 42,
   "metadata": {},
   "outputs": [
    {
     "name": "stderr",
     "output_type": "stream",
     "text": [
      "C:\\Users\\issohl\\AppData\\Local\\conda\\conda\\envs\\mldds03\\lib\\site-packages\\sklearn\\preprocessing\\data.py:617: DataConversionWarning: Data with input dtype int32, int64, float64 were all converted to float64 by StandardScaler.\n",
      "  return self.partial_fit(X, y)\n",
      "C:\\Users\\issohl\\AppData\\Local\\conda\\conda\\envs\\mldds03\\lib\\site-packages\\ipykernel_launcher.py:10: DataConversionWarning: Data with input dtype int32, int64, float64 were all converted to float64 by StandardScaler.\n",
      "  # Remove the CWD from sys.path while we load stuff.\n",
      "C:\\Users\\issohl\\AppData\\Local\\conda\\conda\\envs\\mldds03\\lib\\site-packages\\ipykernel_launcher.py:11: DataConversionWarning: Data with input dtype int32, int64, float64 were all converted to float64 by StandardScaler.\n",
      "  # This is added back by InteractiveShellApp.init_path()\n"
     ]
    }
   ],
   "source": [
    "from sklearn.model_selection import train_test_split\n",
    "\n",
    "# holdout method\n",
    "X_train, X_test, y_train, y_test = train_test_split(X, y, random_state=42)\n",
    "\n",
    "# fit a separate X_scaler on the training set only\n",
    "X_scaler = StandardScaler()\n",
    "X_scaler.fit(X_train)\n",
    "\n",
    "Z_train = X_scaler.transform(X_train)\n",
    "Z_test = X_scaler.transform(X_test)"
   ]
  },
  {
   "cell_type": "code",
   "execution_count": null,
   "metadata": {},
   "outputs": [],
   "source": []
  },
  {
   "cell_type": "code",
   "execution_count": 43,
   "metadata": {},
   "outputs": [
    {
     "name": "stdout",
     "output_type": "stream",
     "text": [
      "[learning_curve] Training set sizes: [ 175  571  967 1363 1759]\n"
     ]
    },
    {
     "name": "stderr",
     "output_type": "stream",
     "text": [
      "[Parallel(n_jobs=1)]: Using backend SequentialBackend with 1 concurrent workers.\n",
      "[Parallel(n_jobs=1)]: Done  15 out of  15 | elapsed:    0.0s finished\n"
     ]
    },
    {
     "data": {
      "text/plain": [
       "<matplotlib.legend.Legend at 0x1f6ab7509e8>"
      ]
     },
     "execution_count": 43,
     "metadata": {},
     "output_type": "execute_result"
    },
    {
     "data": {
      "image/png": "[encoded data removed]",
      "text/plain": [
       "<Figure size 720x576 with 1 Axes>"
      ]
     },
     "metadata": {},
     "output_type": "display_data"
    }
   ],
   "source": [
    "from sklearn.linear_model import SGDClassifier\n",
    "from sklearn.model_selection import learning_curve\n",
    "\n",
    "sgd = SGDClassifier(tol=1e-3, random_state=42)\n",
    "sample_sizes, train_scores, val_scores = learning_curve(sgd, Z_train, y_train, cv=3,\n",
    "                                                        verbose=1, random_state=42)\n",
    "\n",
    "fig, ax = plt.subplots(figsize=(10, 8))\n",
    "\n",
    "ax.plot(sample_sizes, train_scores.mean(axis=1), label='train')\n",
    "ax.plot(sample_sizes, val_scores.mean(axis=1), color='orange', label='validation')\n",
    "ax.set(xlabel='samples', ylabel='accuracy', title='Learning curve (SGD Logistic Regression)')\n",
    "ax.legend()"
   ]
  },
  {
   "cell_type": "code",
   "execution_count": null,
   "metadata": {},
   "outputs": [],
   "source": []
  },
  {
   "cell_type": "code",
   "execution_count": 44,
   "metadata": {},
   "outputs": [
    {
     "name": "stdout",
     "output_type": "stream",
     "text": [
      "[learning_curve] Training set sizes: [ 175  571  967 1363 1759]\n"
     ]
    },
    {
     "name": "stderr",
     "output_type": "stream",
     "text": [
      "[Parallel(n_jobs=1)]: Using backend SequentialBackend with 1 concurrent workers.\n",
      "[Parallel(n_jobs=1)]: Done  15 out of  15 | elapsed:    0.8s finished\n"
     ]
    },
    {
     "data": {
      "text/plain": [
       "<matplotlib.legend.Legend at 0x1f6ab7b9f98>"
      ]
     },
     "execution_count": 44,
     "metadata": {},
     "output_type": "execute_result"
    },
    {
     "data": {
      "image/png": "[encoded data removed]",
      "text/plain": [
       "<Figure size 720x576 with 1 Axes>"
      ]
     },
     "metadata": {},
     "output_type": "display_data"
    }
   ],
   "source": [
    "from sklearn.svm import SVC\n",
    "\n",
    "svc = SVC(gamma='auto', random_state=42)\n",
    "sample_sizes, train_scores, val_scores = learning_curve(svc, Z_train, y_train, cv=3,\n",
    "                                                        verbose=1, random_state=42)\n",
    "\n",
    "fig, ax = plt.subplots(figsize=(10, 8))\n",
    "\n",
    "ax.plot(sample_sizes, train_scores.mean(axis=1), label='train')\n",
    "ax.plot(sample_sizes, val_scores.mean(axis=1), color='orange', label='validation')\n",
    "ax.set(xlabel='samples', ylabel='accuracy', title='Learning curve (SVM classifier)')\n",
    "ax.legend()"
   ]
  },
  {
   "cell_type": "code",
   "execution_count": null,
   "metadata": {},
   "outputs": [],
   "source": []
  },
  {
   "cell_type": "markdown",
   "metadata": {},
   "source": [
    "# Evaluation Metrics\n",
    "\n",
    "http://scikit-learn.org/stable/modules/generated/sklearn.metrics.f1_score.html"
   ]
  },
  {
   "cell_type": "code",
   "execution_count": 45,
   "metadata": {},
   "outputs": [
    {
     "name": "stdout",
     "output_type": "stream",
     "text": [
      "              precision    recall  f1-score   support\n",
      "\n",
      "           0       0.65      0.63      0.64       523\n",
      "           1       0.48      0.50      0.49       358\n",
      "\n",
      "   micro avg       0.58      0.58      0.58       881\n",
      "   macro avg       0.56      0.56      0.56       881\n",
      "weighted avg       0.58      0.58      0.58       881\n",
      "\n"
     ]
    },
    {
     "data": {
      "text/plain": [
       "[Text(33,0.5,'Truth'), Text(0.5,15,'Prediction')]"
      ]
     },
     "execution_count": 45,
     "metadata": {},
     "output_type": "execute_result"
    },
    {
     "data": {
      "image/png": "[encoded data removed]",
      "text/plain": [
       "<Figure size 432x288 with 2 Axes>"
      ]
     },
     "metadata": {},
     "output_type": "display_data"
    }
   ],
   "source": [
    "from sklearn.metrics import classification_report, confusion_matrix\n",
    "\n",
    "# Fit sgd to 1400 samples (based on learning curve)\n",
    "early_stop = 1400\n",
    "sgd = SGDClassifier(tol=1e-3, random_state=42)\n",
    "sgd.fit(Z_train[:early_stop], y_train[:early_stop])\n",
    "\n",
    "pred_sgd = sgd.predict(Z_test)\n",
    "print(classification_report(y_test, pred_sgd))\n",
    "\n",
    "ax = sns.heatmap(confusion_matrix(y_test, pred_sgd), annot=True, fmt='d')\n",
    "ax.set(xlabel='Prediction', ylabel='Truth')"
   ]
  },
  {
   "cell_type": "code",
   "execution_count": 46,
   "metadata": {},
   "outputs": [
    {
     "name": "stdout",
     "output_type": "stream",
     "text": [
      "              precision    recall  f1-score   support\n",
      "\n",
      "           0       0.67      0.78      0.72       523\n",
      "           1       0.58      0.44      0.50       358\n",
      "\n",
      "   micro avg       0.64      0.64      0.64       881\n",
      "   macro avg       0.62      0.61      0.61       881\n",
      "weighted avg       0.63      0.64      0.63       881\n",
      "\n"
     ]
    },
    {
     "data": {
      "text/plain": [
       "[Text(33,0.5,'Truth'), Text(0.5,15,'Prediction')]"
      ]
     },
     "execution_count": 46,
     "metadata": {},
     "output_type": "execute_result"
    },
    {
     "data": {
      "image/png": "[encoded data removed]",
      "text/plain": [
       "<Figure size 432x288 with 2 Axes>"
      ]
     },
     "metadata": {},
     "output_type": "display_data"
    }
   ],
   "source": [
    "# fit SVM classifier on all samples (based on learning curve)\n",
    "\n",
    "svc = SVC(gamma='auto', random_state=42)\n",
    "svc.fit(Z_train, y_train)\n",
    "\n",
    "pred_svc = svc.predict(Z_test)\n",
    "print(classification_report(y_test, pred_svc))\n",
    "\n",
    "ax = sns.heatmap(confusion_matrix(y_test, pred_svc), annot=True, fmt='d')\n",
    "ax.set(xlabel='Prediction', ylabel='Truth')"
   ]
  },
  {
   "cell_type": "code",
   "execution_count": null,
   "metadata": {},
   "outputs": [],
   "source": []
  },
  {
   "cell_type": "code",
   "execution_count": 47,
   "metadata": {},
   "outputs": [
    {
     "data": {
      "text/plain": [
       "<matplotlib.legend.Legend at 0x1f6b14c9be0>"
      ]
     },
     "execution_count": 47,
     "metadata": {},
     "output_type": "execute_result"
    },
    {
     "data": {
      "image/png": "[encoded data removed]",
      "text/plain": [
       "<Figure size 720x576 with 1 Axes>"
      ]
     },
     "metadata": {},
     "output_type": "display_data"
    }
   ],
   "source": [
    "# Area under the curve - use for binary classifiers\n",
    "\n",
    "from sklearn.metrics import roc_curve, auc\n",
    "\n",
    "prob_sgd = sgd.decision_function(Z_test)\n",
    "fpr_sgd, tpr_sgd, _ = roc_curve(y_test, prob_sgd)\n",
    "auc_sgd = auc(fpr_sgd, tpr_sgd)\n",
    "\n",
    "prob_svc = svc.decision_function(Z_test)\n",
    "fpr_svc, tpr_svc, _ = roc_curve(y_test, prob_svc)\n",
    "auc_svc = auc(fpr_svc, tpr_svc)\n",
    "\n",
    "fig, ax = plt.subplots(figsize=(10, 8))\n",
    "ax.plot(fpr_sgd, tpr_sgd, label='Logistic Regression (auc %.3f)' % auc_sgd)\n",
    "ax.plot(fpr_svc, tpr_svc, label='SVC (auc %.3f)' % auc_svc)\n",
    "ax.set(xlabel='False positive rate', ylabel='True positive rate', title='ROC curve')\n",
    "ax.legend()"
   ]
  },
  {
   "cell_type": "code",
   "execution_count": null,
   "metadata": {},
   "outputs": [],
   "source": []
  },
  {
   "cell_type": "markdown",
   "metadata": {},
   "source": [
    "## Tuning\n",
    "\n",
    "SVC is performing better than Logistic Regression (based on AUC and F1-scores).\n",
    "\n",
    "Let's tune it by searching on hyperparameters."
   ]
  },
  {
   "cell_type": "code",
   "execution_count": 48,
   "metadata": {},
   "outputs": [
    {
     "name": "stdout",
     "output_type": "stream",
     "text": [
      "Fitting 3 folds for each of 25 candidates, totalling 75 fits\n"
     ]
    },
    {
     "name": "stderr",
     "output_type": "stream",
     "text": [
      "[Parallel(n_jobs=4)]: Using backend LokyBackend with 4 concurrent workers.\n",
      "[Parallel(n_jobs=4)]: Done  42 tasks      | elapsed:    2.6s\n",
      "[Parallel(n_jobs=4)]: Done  75 out of  75 | elapsed:    4.0s finished\n"
     ]
    },
    {
     "name": "stdout",
     "output_type": "stream",
     "text": [
      "{'C': 0.1, 'gamma': 0.1}\n",
      "              precision    recall  f1-score   support\n",
      "\n",
      "           0       0.67      0.76      0.72       523\n",
      "           1       0.57      0.46      0.51       358\n",
      "\n",
      "   micro avg       0.64      0.64      0.64       881\n",
      "   macro avg       0.62      0.61      0.61       881\n",
      "weighted avg       0.63      0.64      0.63       881\n",
      "\n"
     ]
    },
    {
     "data": {
      "text/plain": [
       "[Text(33,0.5,'Truth'), Text(0.5,15,'Prediction')]"
      ]
     },
     "execution_count": 48,
     "metadata": {},
     "output_type": "execute_result"
    },
    {
     "data": {
      "image/png": "[encoded data removed]",
      "text/plain": [
       "<Figure size 432x288 with 2 Axes>"
      ]
     },
     "metadata": {},
     "output_type": "display_data"
    }
   ],
   "source": [
    "from sklearn.model_selection import GridSearchCV\n",
    "\n",
    "# SVC(C=1.0, kernel='rbf', degree=3, gamma='auto'...)\n",
    "\n",
    "# Error penalty\n",
    "# smaller = more sensitive to noise\n",
    "Cs = [.001, .01, .1, 1., 10.]\n",
    "\n",
    "# Sensitivity: RBF(x, z) = exp(−gamma * ‖x − z‖^2)\n",
    "# larger = higher tendency to overfit\n",
    "gammas = [.001, .01, .1, 1., 10.]\n",
    "\n",
    "param_grid = {\n",
    "    'C':Cs,\n",
    "    'gamma':gammas\n",
    "}\n",
    "\n",
    "gs = GridSearchCV(SVC(random_state=42), param_grid, cv=3, verbose=True, n_jobs=4)\n",
    "gs.fit(Z_train, y_train)\n",
    "print(gs.best_params_)\n",
    "\n",
    "pred_svc_tuned = gs.predict(Z_test)\n",
    "print(classification_report(y_test, pred_svc_tuned))\n",
    "\n",
    "ax = sns.heatmap(confusion_matrix(y_test, pred_svc_tuned), annot=True, fmt='d')\n",
    "ax.set(xlabel='Prediction', ylabel='Truth')"
   ]
  },
  {
   "cell_type": "code",
   "execution_count": null,
   "metadata": {},
   "outputs": [],
   "source": []
  },
  {
   "cell_type": "code",
   "execution_count": 50,
   "metadata": {},
   "outputs": [
    {
     "data": {
      "text/plain": [
       "<matplotlib.legend.Legend at 0x1f6b28cae80>"
      ]
     },
     "execution_count": 50,
     "metadata": {},
     "output_type": "execute_result"
    },
    {
     "data": {
      "image/png": "[encoded data removed]",
      "text/plain": [
       "<Figure size 720x576 with 1 Axes>"
      ]
     },
     "metadata": {},
     "output_type": "display_data"
    }
   ],
   "source": [
    "prob_sgd = sgd.decision_function(Z_test)\n",
    "fpr_sgd, tpr_sgd, _ = roc_curve(y_test, prob_sgd)\n",
    "auc_sgd = auc(fpr_sgd, tpr_sgd)\n",
    "\n",
    "prob_svc = svc.decision_function(Z_test)\n",
    "fpr_svc, tpr_svc, _ = roc_curve(y_test, prob_svc)\n",
    "auc_svc = auc(fpr_svc, tpr_svc)\n",
    "\n",
    "prob_svc_gs = gs.decision_function(Z_test)\n",
    "fpr_svc_gs, tpr_svc_gs, _ = roc_curve(y_test, prob_svc_gs)\n",
    "auc_svc_gs = auc(fpr_svc_gs, tpr_svc_gs)\n",
    "\n",
    "fig, ax = plt.subplots(figsize=(10, 8))\n",
    "ax.plot(fpr_sgd, tpr_sgd, label='Logistic Regression (auc %.3f)' % auc_sgd)\n",
    "ax.plot(fpr_svc, tpr_svc, label='SVC (auc %.3f)' % auc_svc)\n",
    "ax.plot(fpr_svc_gs, tpr_svc_gs, label='Tuned SVC (auc %.3f)' % auc_svc_gs)\n",
    "ax.set(xlabel='False positive rate', ylabel='True positive rate', title='ROC curve')\n",
    "ax.legend()"
   ]
  },
  {
   "cell_type": "markdown",
   "metadata": {},
   "source": [
    "The untuned SVC still has a higher AUC, even though its F1-score is slightly lower"
   ]
  },
  {
   "cell_type": "code",
   "execution_count": null,
   "metadata": {},
   "outputs": [],
   "source": []
  },
  {
   "cell_type": "markdown",
   "metadata": {},
   "source": [
    "## Deployment and Predictions\n",
    "\n",
    "Inventory (what's needed for prediction):\n",
    "1. X scaler\n",
    "2. Model\n",
    "\n",
    "Which model to save?\n",
    "- Based on the AUC, we'll keep the original SVC model as the current best one"
   ]
  },
  {
   "cell_type": "code",
   "execution_count": 51,
   "metadata": {},
   "outputs": [],
   "source": [
    "# save model for later use\n",
    "import pickle\n",
    "\n",
    "pickle.dump(X_scaler, open('02_loans_X_scaler.pickle', 'wb'))\n",
    "pickle.dump(svc, open('02_loans_svc.pickle', 'wb'))"
   ]
  },
  {
   "cell_type": "code",
   "execution_count": 52,
   "metadata": {},
   "outputs": [
    {
     "name": "stdout",
     "output_type": "stream",
     "text": [
      "Truth [1 0 0 0 1 0 0 0 0 1 0 0 1 0 1 0 0 1 0 0]\n",
      "Predictions [0 0 0 0 1 0 0 0 0 0 0 0 1 0 0 0 0 0 0 0]\n",
      "Accuracy 0.8\n"
     ]
    },
    {
     "name": "stderr",
     "output_type": "stream",
     "text": [
      "C:\\Users\\issohl\\AppData\\Local\\conda\\conda\\envs\\mldds03\\lib\\site-packages\\ipykernel_launcher.py:11: DataConversionWarning: Data with input dtype int32, int64, float64 were all converted to float64 by StandardScaler.\n",
      "  # This is added back by InteractiveShellApp.init_path()\n"
     ]
    }
   ],
   "source": [
    "# load model in deployment\n",
    "from sklearn.metrics import accuracy_score\n",
    "\n",
    "X_scaler1 = pickle.load(open('02_loans_X_scaler.pickle', 'rb'))\n",
    "svc1 = pickle.load(open('02_loans_svc.pickle', 'rb'))\n",
    "\n",
    "# imagine we have test data\n",
    "test_data = X_test[:20]\n",
    "test_targets = y_test[:20]\n",
    "\n",
    "Z_test_data = X_scaler1.transform(test_data)\n",
    "y_test_pred = svc1.predict(Z_test_data)\n",
    "\n",
    "print('Truth', test_targets.values)\n",
    "print('Predictions', y_test_pred.flatten())\n",
    "print('Accuracy', accuracy_score(test_targets, y_test_pred))"
   ]
  },
  {
   "cell_type": "code",
   "execution_count": null,
   "metadata": {},
   "outputs": [],
   "source": []
  },
  {
   "cell_type": "markdown",
   "metadata": {},
   "source": [
    "## Improvements\n",
    "\n",
    "- Use LDA to apply dimensionality reduction first, then classify\n",
    "- Try a decision tree (good exercise after next module)"
   ]
  },
  {
   "cell_type": "code",
   "execution_count": null,
   "metadata": {},
   "outputs": [],
   "source": []
  }
 ],
 "metadata": {
  "kernelspec": {
   "display_name": "Python 3",
   "language": "python",
   "name": "python3"
  },
  "language_info": {
   "codemirror_mode": {
    "name": "ipython",
    "version": 3
   },
   "file_extension": ".py",
   "mimetype": "text/x-python",
   "name": "python",
   "nbconvert_exporter": "python",
   "pygments_lexer": "ipython3",
   "version": "3.6.6"
  }
 },
 "nbformat": 4,
 "nbformat_minor": 2
}
