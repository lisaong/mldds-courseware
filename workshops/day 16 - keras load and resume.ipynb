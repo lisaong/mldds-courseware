{
 "cells": [
  {
   "cell_type": "code",
   "execution_count": 50,
   "metadata": {},
   "outputs": [],
   "source": [
    "# Load MLP model trained from day 15 - 16\n",
    "\n",
    "import keras\n",
    "from keras.models import load_model\n",
    "\n",
    "model = load_model('mnist_mlp.h5')"
   ]
  },
  {
   "cell_type": "code",
   "execution_count": 51,
   "metadata": {},
   "outputs": [
    {
     "name": "stdout",
     "output_type": "stream",
     "text": [
      "_________________________________________________________________\n",
      "Layer (type)                 Output Shape              Param #   \n",
      "=================================================================\n",
      "dense_3 (Dense)              (None, 512)               401920    \n",
      "_________________________________________________________________\n",
      "dense_4 (Dense)              (None, 10)                5130      \n",
      "=================================================================\n",
      "Total params: 407,050\n",
      "Trainable params: 407,050\n",
      "Non-trainable params: 0\n",
      "_________________________________________________________________\n"
     ]
    }
   ],
   "source": [
    "model.summary()"
   ]
  },
  {
   "cell_type": "code",
   "execution_count": 52,
   "metadata": {},
   "outputs": [
    {
     "data": {
      "text/plain": [
       "[<tf.Variable 'dense_3_1/kernel:0' shape=(784, 512) dtype=float32_ref>,\n",
       " <tf.Variable 'dense_3_1/bias:0' shape=(512,) dtype=float32_ref>,\n",
       " <tf.Variable 'dense_4_1/kernel:0' shape=(512, 10) dtype=float32_ref>,\n",
       " <tf.Variable 'dense_4_1/bias:0' shape=(10,) dtype=float32_ref>]"
      ]
     },
     "execution_count": 52,
     "metadata": {},
     "output_type": "execute_result"
    }
   ],
   "source": [
    "model.weights"
   ]
  },
  {
   "cell_type": "code",
   "execution_count": 53,
   "metadata": {},
   "outputs": [
    {
     "data": {
      "image/png": "[encoded data removed]",
      "text/plain": [
       "<Figure size 432x288 with 1 Axes>"
      ]
     },
     "metadata": {},
     "output_type": "display_data"
    },
    {
     "name": "stdout",
     "output_type": "stream",
     "text": [
      "7\n"
     ]
    }
   ],
   "source": [
    "from keras.datasets import mnist\n",
    "import matplotlib.pyplot as plt\n",
    "\n",
    "(X_train, y_train), (X_test, y_test) = mnist.load_data()\n",
    "\n",
    "data = X_test[0]\n",
    "label = y_test[0]\n",
    "plt.imshow(data)\n",
    "plt.show()\n",
    "print(label)"
   ]
  },
  {
   "cell_type": "code",
   "execution_count": 54,
   "metadata": {},
   "outputs": [
    {
     "data": {
      "text/plain": [
       "(10000, 28, 28)"
      ]
     },
     "execution_count": 54,
     "metadata": {},
     "output_type": "execute_result"
    }
   ],
   "source": [
    "X_test.shape"
   ]
  },
  {
   "cell_type": "code",
   "execution_count": 55,
   "metadata": {},
   "outputs": [
    {
     "data": {
      "text/plain": [
       "<matplotlib.image.AxesImage at 0x1eb8ada4a90>"
      ]
     },
     "execution_count": 55,
     "metadata": {},
     "output_type": "execute_result"
    },
    {
     "data": {
      "image/png": "[encoded data removed]",
      "text/plain": [
       "<Figure size 432x288 with 1 Axes>"
      ]
     },
     "metadata": {},
     "output_type": "display_data"
    }
   ],
   "source": [
    "import numpy as np\n",
    "\n",
    "data2 = data.reshape(1, 784)\n",
    "data2 = data2.astype('float32')\n",
    "data2 /= 255\n",
    "\n",
    "output = model.predict(data2)\n",
    "\n",
    "output = output.reshape(1, -1) # make it look like image\n",
    "plt.imshow(output) # show image"
   ]
  },
  {
   "cell_type": "code",
   "execution_count": 70,
   "metadata": {},
   "outputs": [],
   "source": []
  },
  {
   "cell_type": "code",
   "execution_count": 59,
   "metadata": {},
   "outputs": [
    {
     "name": "stdout",
     "output_type": "stream",
     "text": [
      "10000/10000 [==============================] - 1s 86us/step\n"
     ]
    },
    {
     "data": {
      "text/plain": [
       "[0.23022360926419497, 0.9371]"
      ]
     },
     "execution_count": 59,
     "metadata": {},
     "output_type": "execute_result"
    }
   ],
   "source": [
    "# evaluate\n",
    "(X_train, y_train), (X_test, y_test) = mnist.load_data()\n",
    "\n",
    "# pre-process test data\n",
    "# MLP only receives vectors, so we flatten 28x28 to 784\n",
    "X_test = X_test.reshape(-1, 784) # from (-1, 28, 28) to (-1, 784)\n",
    "\n",
    "# Convert element datatype to float32 because Tensorflow prefers it\n",
    "# https://stackoverflow.com/questions/43406876/cant-use-float64-in-keras-with-tensorflow-backend\n",
    "X_test = X_test.astype('float32')\n",
    "\n",
    "# scale to between 0 and 1 because gradient descent is faster\n",
    "# image pixel values range from 0 to 255\n",
    "X_test /= 255\n",
    "\n",
    "num_classes = 10 # 10 digits\n",
    "y_test = keras.utils.to_categorical(y_test, num_classes)\n",
    "\n",
    "# model.evaluate()\n",
    "model.evaluate(X_test, y_test)"
   ]
  },
  {
   "cell_type": "code",
   "execution_count": 61,
   "metadata": {},
   "outputs": [
    {
     "data": {
      "text/plain": [
       "['loss', 'acc']"
      ]
     },
     "execution_count": 61,
     "metadata": {},
     "output_type": "execute_result"
    }
   ],
   "source": [
    "model.metrics_names"
   ]
  },
  {
   "cell_type": "code",
   "execution_count": 71,
   "metadata": {},
   "outputs": [],
   "source": [
    "# fine tune existing model\n",
    "#\n",
    "# 1. continue training: change all layers\n",
    "# 2. fine-tune: only change some layers\n",
    "#\n",
    "\n",
    "# pre-process train data\n",
    "\n",
    "X_train = X_train.reshape(-1, 784) # from (-1, 28, 28) to (-1, 784)\n",
    "\n",
    "# Convert element datatype to float32 because Tensorflow prefers it\n",
    "# https://stackoverflow.com/questions/43406876/cant-use-float64-in-keras-with-tensorflow-backend\n",
    "X_train = X_train.astype('float32')\n",
    "\n",
    "# scale to between 0 and 1 because gradient descent is faster\n",
    "# image pixel values range from 0 to 255\n",
    "X_train_scaled = X_train / 255\n",
    "\n",
    "y_train_cat = keras.utils.to_categorical(y_train, num_classes)"
   ]
  },
  {
   "cell_type": "code",
   "execution_count": 76,
   "metadata": {},
   "outputs": [
    {
     "name": "stdout",
     "output_type": "stream",
     "text": [
      "Train on 45000 samples, validate on 15000 samples\n",
      "Epoch 1/3\n",
      "45000/45000 [==============================] - 6s 142us/step - loss: 0.1288 - acc: 0.9652 - val_loss: 0.1507 - val_acc: 0.9573\n",
      "Epoch 2/3\n",
      "45000/45000 [==============================] - 7s 147us/step - loss: 0.1274 - acc: 0.9658 - val_loss: 0.1497 - val_acc: 0.9575\n",
      "Epoch 3/3\n",
      "45000/45000 [==============================] - 6s 134us/step - loss: 0.1260 - acc: 0.9663 - val_loss: 0.1483 - val_acc: 0.9577\n"
     ]
    }
   ],
   "source": [
    "from keras.callbacks import TensorBoard, EarlyStopping, ModelCheckpoint\n",
    "import time\n",
    "\n",
    "filepath = 'mnist_mlp.chkpt.h5' # save_best_only\n",
    "#filepath = 'mnist_mlp.{epoch:02d}-{val_loss:.4f}.h5' # keep everything\n",
    "modelcheckpoint = ModelCheckpoint(filepath, save_best_only=True)\n",
    "\n",
    "earlystop = EarlyStopping(patience=2)\n",
    "tensorboard = TensorBoard(log_dir='./logs/mnist_mlp/%d' % time.time())\n",
    "\n",
    "history = model.fit(X_train_scaled, y_train_cat, batch_size=128, epochs=3,\n",
    "                    callbacks=[tensorboard, earlystop, modelcheckpoint],\n",
    "                    validation_split=.25)"
   ]
  },
  {
   "cell_type": "code",
   "execution_count": 73,
   "metadata": {},
   "outputs": [],
   "source": []
  },
  {
   "cell_type": "code",
   "execution_count": null,
   "metadata": {},
   "outputs": [],
   "source": []
  }
 ],
 "metadata": {
  "kernelspec": {
   "display_name": "Python 3",
   "language": "python",
   "name": "python3"
  },
  "language_info": {
   "codemirror_mode": {
    "name": "ipython",
    "version": 3
   },
   "file_extension": ".py",
   "mimetype": "text/x-python",
   "name": "python",
   "nbconvert_exporter": "python",
   "pygments_lexer": "ipython3",
   "version": "3.6.5"
  }
 },
 "nbformat": 4,
 "nbformat_minor": 2
}
