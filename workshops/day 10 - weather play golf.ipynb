{
 "cells": [
  {
   "cell_type": "code",
   "execution_count": 1,
   "metadata": {},
   "outputs": [
    {
     "name": "stdout",
     "output_type": "stream",
     "text": [
      "[[2 1 0 1]\n",
      " [2 1 0 0]\n",
      " [0 1 0 1]\n",
      " [1 2 0 1]\n",
      " [1 0 1 1]\n",
      " [1 0 1 0]\n",
      " [0 0 1 0]\n",
      " [2 2 0 1]\n",
      " [2 0 1 1]\n",
      " [1 2 1 1]\n",
      " [2 2 1 0]\n",
      " [0 2 0 0]\n",
      " [0 1 1 1]\n",
      " [1 2 0 0]] [0 0 1 1 1 0 1 0 1 1 1 1 1 0]\n"
     ]
    },
    {
     "data": {
      "text/plain": [
       "'weather.dot.pdf'"
      ]
     },
     "execution_count": 1,
     "metadata": {},
     "output_type": "execute_result"
    }
   ],
   "source": [
    "from sklearn import tree\n",
    "from sklearn.preprocessing import LabelEncoder\n",
    "import pandas as pd\n",
    "\n",
    "df = pd.read_csv('../data/weather_play_golf.csv')\n",
    "\n",
    "array_of_series = []\n",
    "for i in range(df.shape[1]):\n",
    "    label_encoder = LabelEncoder()\n",
    "    label_encoded_series = pd.DataFrame(label_encoder.fit_transform(df.iloc[:,i]), columns=[df.iloc[:,i].name])\n",
    "    # df['Weather'] = label_encoded_weather\n",
    "    df[df.iloc[:,i].name] = label_encoded_series\n",
    "\n",
    "X = df.drop(labels=[\"Decision\"],axis=1).values\n",
    "y = df.loc[:,\"Decision\"].values\n",
    "\n",
    "print(X,y)\n",
    "\n",
    "model = tree.DecisionTreeClassifier(criterion='entropy')\n",
    "model.fit(X,y)\n",
    "\n",
    "import graphviz \n",
    "\n",
    "filename = 'weather.dot'\n",
    "dot_data = tree.export_graphviz(model,out_file=filename, \n",
    "                         feature_names=[\"Outlook\",\"Tempertaure\",\"Humidity\",\"Wind\"],  \n",
    "                         class_names=[\"No\",\"Yes\"],  \n",
    "                         filled=True, rounded=True,  \n",
    "                         special_characters=True)  \n",
    "source = graphviz.Source.from_file(filename)\n",
    "source.render(view=True)"
   ]
  },
  {
   "cell_type": "code",
   "execution_count": null,
   "metadata": {},
   "outputs": [],
   "source": []
  },
  {
   "cell_type": "code",
   "execution_count": 16,
   "metadata": {},
   "outputs": [
    {
     "name": "stdout",
     "output_type": "stream",
     "text": [
      "    Outlook_Overcast  Outlook_Rain  Outlook_Sunny  Temperature_Cool  \\\n",
      "0                  0             0              1                 0   \n",
      "1                  0             0              1                 0   \n",
      "2                  1             0              0                 0   \n",
      "3                  0             1              0                 0   \n",
      "4                  0             1              0                 1   \n",
      "5                  0             1              0                 1   \n",
      "6                  1             0              0                 1   \n",
      "7                  0             0              1                 0   \n",
      "8                  0             0              1                 1   \n",
      "9                  0             1              0                 0   \n",
      "10                 0             0              1                 0   \n",
      "11                 1             0              0                 0   \n",
      "12                 1             0              0                 0   \n",
      "13                 0             1              0                 0   \n",
      "\n",
      "    Temperature_Hot  Temperature_Mild  Humidity_High  Humidity_Normal  \\\n",
      "0                 1                 0              1                0   \n",
      "1                 1                 0              1                0   \n",
      "2                 1                 0              1                0   \n",
      "3                 0                 1              1                0   \n",
      "4                 0                 0              0                1   \n",
      "5                 0                 0              0                1   \n",
      "6                 0                 0              0                1   \n",
      "7                 0                 1              1                0   \n",
      "8                 0                 0              0                1   \n",
      "9                 0                 1              0                1   \n",
      "10                0                 1              0                1   \n",
      "11                0                 1              1                0   \n",
      "12                1                 0              0                1   \n",
      "13                0                 1              1                0   \n",
      "\n",
      "    Wind_Strong  Wind_Weak  \n",
      "0             0          1  \n",
      "1             1          0  \n",
      "2             0          1  \n",
      "3             0          1  \n",
      "4             0          1  \n",
      "5             1          0  \n",
      "6             1          0  \n",
      "7             0          1  \n",
      "8             0          1  \n",
      "9             0          1  \n",
      "10            1          0  \n",
      "11            1          0  \n",
      "12            0          1  \n",
      "13            1          0   0      No\n",
      "1      No\n",
      "2     Yes\n",
      "3     Yes\n",
      "4     Yes\n",
      "5      No\n",
      "6     Yes\n",
      "7      No\n",
      "8     Yes\n",
      "9     Yes\n",
      "10    Yes\n",
      "11    Yes\n",
      "12    Yes\n",
      "13     No\n",
      "Name: Decision, dtype: object\n"
     ]
    },
    {
     "data": {
      "text/plain": [
       "'weather_onehot.dot.pdf'"
      ]
     },
     "execution_count": 16,
     "metadata": {},
     "output_type": "execute_result"
    }
   ],
   "source": [
    "from sklearn import tree\n",
    "from sklearn.preprocessing import LabelEncoder\n",
    "import pandas as pd\n",
    "\n",
    "df = pd.read_csv('../data/weather_play_golf.csv')\n",
    "\n",
    "X = df.loc[:, df.columns != 'Decision'] # get all except 'Decision'\n",
    "X = pd.get_dummies(X) # convert to one-hot\n",
    "y = df.Decision # sklearn: no need to label encode y\n",
    "\n",
    "print(X,y)\n",
    "\n",
    "model = tree.DecisionTreeClassifier(criterion='entropy')\n",
    "model.fit(X,y)\n",
    "\n",
    "import graphviz \n",
    "\n",
    "filename = 'weather_onehot.dot'\n",
    "dot_data = tree.export_graphviz(model,out_file=filename, \n",
    "                         feature_names=X.columns,  \n",
    "                         class_names=[\"No\",\"Yes\"],  \n",
    "                         filled=True, rounded=True,  \n",
    "                         special_characters=True)  \n",
    "source = graphviz.Source.from_file(filename)\n",
    "source.render(view=True)"
   ]
  },
  {
   "cell_type": "code",
   "execution_count": null,
   "metadata": {},
   "outputs": [],
   "source": []
  }
 ],
 "metadata": {
  "kernelspec": {
   "display_name": "Python 3",
   "language": "python",
   "name": "python3"
  },
  "language_info": {
   "codemirror_mode": {
    "name": "ipython",
    "version": 3
   },
   "file_extension": ".py",
   "mimetype": "text/x-python",
   "name": "python",
   "nbconvert_exporter": "python",
   "pygments_lexer": "ipython3",
   "version": "3.6.5"
  }
 },
 "nbformat": 4,
 "nbformat_minor": 2
}
