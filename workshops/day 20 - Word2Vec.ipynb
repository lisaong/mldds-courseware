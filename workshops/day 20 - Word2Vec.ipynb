{
 "cells": [
  {
   "cell_type": "code",
   "execution_count": 127,
   "metadata": {},
   "outputs": [],
   "source": [
    "# Data: IMDB movie reviews\n",
    "# Classify positive / negative (same as day 18)\n",
    "\n",
    "# Approach: use pre-trained word2vec instead of counts to encode each word into vector"
   ]
  },
  {
   "cell_type": "code",
   "execution_count": 128,
   "metadata": {},
   "outputs": [],
   "source": [
    "# Word2Vec references:\n",
    "# https://arxiv.org/pdf/1301.3781.pdf\n",
    "# https://pdfs.semanticscholar.org/presentation/7ebd/be256766f11c8304ab34c42afe569ffe9776.pdf\n",
    "# http://www.jmlr.org/papers/volume3/bengio03a/bengio03a.pdf"
   ]
  },
  {
   "cell_type": "code",
   "execution_count": null,
   "metadata": {},
   "outputs": [],
   "source": []
  },
  {
   "cell_type": "code",
   "execution_count": 3,
   "metadata": {},
   "outputs": [
    {
     "name": "stderr",
     "output_type": "stream",
     "text": [
      "C:\\Users\\issohl\\AppData\\Local\\conda\\conda\\envs\\mldds03\\lib\\site-packages\\gensim\\utils.py:1197: UserWarning: detected Windows; aliasing chunkize to chunkize_serial\n",
      "  warnings.warn(\"detected Windows; aliasing chunkize to chunkize_serial\")\n"
     ]
    }
   ],
   "source": [
    "# conda install gensim cython\n",
    "import gensim\n",
    "import gensim.downloader as api"
   ]
  },
  {
   "cell_type": "code",
   "execution_count": 16,
   "metadata": {
    "scrolled": false
   },
   "outputs": [
    {
     "data": {
      "text/plain": [
       "dict_keys(['corpora', 'models'])"
      ]
     },
     "execution_count": 16,
     "metadata": {},
     "output_type": "execute_result"
    }
   ],
   "source": [
    "info = api.info()\n",
    "info.keys()"
   ]
  },
  {
   "cell_type": "code",
   "execution_count": 17,
   "metadata": {
    "scrolled": false
   },
   "outputs": [
    {
     "data": {
      "text/plain": [
       "dict_keys(['fasttext-wiki-news-subwords-300', 'conceptnet-numberbatch-17-06-300', 'word2vec-ruscorpora-300', 'word2vec-google-news-300', 'glove-wiki-gigaword-50', 'glove-wiki-gigaword-100', 'glove-wiki-gigaword-200', 'glove-wiki-gigaword-300', 'glove-twitter-25', 'glove-twitter-50', 'glove-twitter-100', 'glove-twitter-200', '__testing_word2vec-matrix-synopsis'])"
      ]
     },
     "execution_count": 17,
     "metadata": {},
     "output_type": "execute_result"
    }
   ],
   "source": [
    "info['models'].keys()"
   ]
  },
  {
   "cell_type": "code",
   "execution_count": 18,
   "metadata": {},
   "outputs": [
    {
     "data": {
      "text/plain": [
       "[('cats', 0.8099379539489746),\n",
       " ('dog', 0.7609457969665527),\n",
       " ('kitten', 0.7464984655380249),\n",
       " ('feline', 0.7326234579086304),\n",
       " ('beagle', 0.7150583267211914),\n",
       " ('puppy', 0.7075453400611877),\n",
       " ('pup', 0.6934291124343872),\n",
       " ('pet', 0.6891531348228455),\n",
       " ('felines', 0.6755931377410889),\n",
       " ('chihuahua', 0.6709762215614319)]"
      ]
     },
     "execution_count": 18,
     "metadata": {},
     "output_type": "execute_result"
    }
   ],
   "source": [
    "# model = api.load(\"glove-twitter-25\")\n",
    "model = api.load(\"word2vec-google-news-300\")\n",
    "\n",
    "model.most_similar(\"cat\")  # show words that similar to word 'cat'"
   ]
  },
  {
   "cell_type": "code",
   "execution_count": 19,
   "metadata": {},
   "outputs": [
    {
     "data": {
      "text/plain": [
       "[('kings', 0.7138045430183411),\n",
       " ('queen', 0.6510956883430481),\n",
       " ('monarch', 0.6413194537162781),\n",
       " ('crown_prince', 0.6204219460487366),\n",
       " ('prince', 0.6159993410110474),\n",
       " ('sultan', 0.5864823460578918),\n",
       " ('ruler', 0.5797567367553711),\n",
       " ('princes', 0.5646552443504333),\n",
       " ('Prince_Paras', 0.5432944297790527),\n",
       " ('throne', 0.5422105193138123)]"
      ]
     },
     "execution_count": 19,
     "metadata": {},
     "output_type": "execute_result"
    }
   ],
   "source": [
    "model.most_similar(\"king\")"
   ]
  },
  {
   "cell_type": "code",
   "execution_count": 20,
   "metadata": {},
   "outputs": [
    {
     "data": {
      "text/plain": [
       "array([ 0.32617188,  0.13085938,  0.03466797, -0.08300781,  0.08984375,\n",
       "       -0.04125977, -0.19824219,  0.00689697,  0.14355469,  0.0019455 ,\n",
       "        0.02880859, -0.25      , -0.08398438, -0.15136719, -0.10205078,\n",
       "        0.04077148, -0.09765625,  0.05932617,  0.02978516, -0.10058594,\n",
       "       -0.13085938,  0.001297  ,  0.02612305, -0.27148438,  0.06396484,\n",
       "       -0.19140625, -0.078125  ,  0.25976562,  0.375     , -0.04541016,\n",
       "        0.16210938,  0.13671875, -0.06396484, -0.02062988, -0.09667969,\n",
       "        0.25390625,  0.24804688, -0.12695312,  0.07177734,  0.3203125 ,\n",
       "        0.03149414, -0.03857422,  0.21191406, -0.00811768,  0.22265625,\n",
       "       -0.13476562, -0.07617188,  0.01049805, -0.05175781,  0.03808594,\n",
       "       -0.13378906,  0.125     ,  0.0559082 , -0.18261719,  0.08154297,\n",
       "       -0.08447266, -0.07763672, -0.04345703,  0.08105469, -0.01092529,\n",
       "        0.17480469,  0.30664062, -0.04321289, -0.01416016,  0.09082031,\n",
       "       -0.00927734, -0.03442383, -0.11523438,  0.12451172, -0.0246582 ,\n",
       "        0.08544922,  0.14355469, -0.27734375,  0.03662109, -0.11035156,\n",
       "        0.13085938, -0.01721191, -0.08056641, -0.00708008, -0.02954102,\n",
       "        0.30078125, -0.09033203,  0.03149414, -0.18652344, -0.11181641,\n",
       "        0.10253906, -0.25976562, -0.02209473,  0.16796875, -0.05322266,\n",
       "       -0.14550781, -0.01049805, -0.03039551, -0.03857422,  0.11523438,\n",
       "       -0.0062561 , -0.13964844,  0.08007812,  0.06103516, -0.15332031,\n",
       "       -0.11132812, -0.14160156,  0.19824219, -0.06933594,  0.29296875,\n",
       "       -0.16015625,  0.20898438,  0.00041771,  0.01831055, -0.20214844,\n",
       "        0.04760742,  0.05810547, -0.0123291 , -0.01989746, -0.00364685,\n",
       "       -0.0135498 , -0.08251953, -0.03149414,  0.00717163,  0.20117188,\n",
       "        0.08300781, -0.0480957 , -0.26367188, -0.09667969, -0.22558594,\n",
       "       -0.09667969,  0.06494141, -0.02502441,  0.08496094,  0.03198242,\n",
       "       -0.07568359, -0.25390625, -0.11669922, -0.01446533, -0.16015625,\n",
       "       -0.00701904, -0.05712891,  0.02807617, -0.09179688,  0.25195312,\n",
       "        0.24121094,  0.06640625,  0.12988281,  0.17089844, -0.13671875,\n",
       "        0.1875    , -0.10009766, -0.04199219, -0.12011719,  0.00524902,\n",
       "        0.15625   , -0.203125  , -0.07128906, -0.06103516,  0.01635742,\n",
       "        0.18261719,  0.03588867, -0.04248047,  0.16796875, -0.15039062,\n",
       "       -0.16992188,  0.01831055,  0.27734375, -0.01269531, -0.0390625 ,\n",
       "       -0.15429688,  0.18457031, -0.07910156,  0.09033203, -0.02709961,\n",
       "        0.08251953,  0.06738281, -0.16113281, -0.19628906, -0.15234375,\n",
       "       -0.04711914,  0.04760742,  0.05908203, -0.16894531, -0.14941406,\n",
       "        0.12988281,  0.04321289,  0.02624512, -0.1796875 , -0.19628906,\n",
       "        0.06445312,  0.08935547,  0.1640625 , -0.03808594, -0.09814453,\n",
       "       -0.01483154,  0.1875    ,  0.12792969,  0.22753906,  0.01818848,\n",
       "       -0.07958984, -0.11376953, -0.06933594, -0.15527344, -0.08105469,\n",
       "       -0.09277344, -0.11328125, -0.15136719, -0.08007812, -0.05126953,\n",
       "       -0.15332031,  0.11669922,  0.06835938,  0.0324707 , -0.33984375,\n",
       "       -0.08154297, -0.08349609,  0.04003906,  0.04907227, -0.24121094,\n",
       "       -0.13476562, -0.05932617,  0.12158203, -0.34179688,  0.16503906,\n",
       "        0.06176758, -0.18164062,  0.20117188, -0.07714844,  0.1640625 ,\n",
       "        0.00402832,  0.30273438, -0.10009766, -0.13671875, -0.05957031,\n",
       "        0.0625    , -0.21289062, -0.06542969,  0.1796875 , -0.07763672,\n",
       "       -0.01928711, -0.15039062, -0.00106049,  0.03417969,  0.03344727,\n",
       "        0.19335938,  0.01965332, -0.19921875, -0.10644531,  0.01525879,\n",
       "        0.00927734,  0.01416016, -0.02392578,  0.05883789,  0.02368164,\n",
       "        0.125     ,  0.04760742, -0.05566406,  0.11572266,  0.14746094,\n",
       "        0.1015625 , -0.07128906, -0.07714844, -0.12597656,  0.0291748 ,\n",
       "        0.09521484, -0.12402344, -0.109375  , -0.12890625,  0.16308594,\n",
       "        0.28320312, -0.03149414,  0.12304688, -0.23242188, -0.09375   ,\n",
       "       -0.12988281,  0.0135498 , -0.03881836, -0.08251953,  0.00897217,\n",
       "        0.16308594,  0.10546875, -0.13867188, -0.16503906, -0.03857422,\n",
       "        0.10839844, -0.10498047,  0.06396484,  0.38867188, -0.05981445,\n",
       "       -0.0612793 , -0.10449219, -0.16796875,  0.07177734,  0.13964844,\n",
       "        0.15527344, -0.03125   , -0.20214844, -0.12988281, -0.10058594,\n",
       "       -0.06396484, -0.08349609, -0.30273438, -0.08007812,  0.02099609],\n",
       "      dtype=float32)"
      ]
     },
     "execution_count": 20,
     "metadata": {},
     "output_type": "execute_result"
    }
   ],
   "source": [
    "model['man']"
   ]
  },
  {
   "cell_type": "code",
   "execution_count": 21,
   "metadata": {},
   "outputs": [
    {
     "data": {
      "text/plain": [
       "0.23359877690046482"
      ]
     },
     "execution_count": 21,
     "metadata": {},
     "output_type": "execute_result"
    }
   ],
   "source": [
    "model.distance('man', 'woman')"
   ]
  },
  {
   "cell_type": "code",
   "execution_count": 22,
   "metadata": {},
   "outputs": [
    {
     "data": {
      "text/plain": [
       "[('woman', 0.7664012312889099),\n",
       " ('boy', 0.6824870109558105),\n",
       " ('teenager', 0.6586930751800537),\n",
       " ('teenage_girl', 0.6147903203964233),\n",
       " ('girl', 0.5921714305877686),\n",
       " ('suspected_purse_snatcher', 0.571636438369751),\n",
       " ('robber', 0.5585119128227234),\n",
       " ('Robbery_suspect', 0.5584409236907959),\n",
       " ('teen_ager', 0.5549196004867554),\n",
       " ('men', 0.5489763021469116)]"
      ]
     },
     "execution_count": 22,
     "metadata": {},
     "output_type": "execute_result"
    }
   ],
   "source": [
    "model.most_similar(\"man\")"
   ]
  },
  {
   "cell_type": "code",
   "execution_count": 23,
   "metadata": {},
   "outputs": [
    {
     "data": {
      "application/javascript": [
       "/* Put everything inside the global mpl namespace */\n",
       "window.mpl = {};\n",
       "\n",
       "\n",
       "mpl.get_websocket_type = function() {\n",
       "    if (typeof(WebSocket) !== 'undefined') {\n",
       "        return WebSocket;\n",
       "    } else if (typeof(MozWebSocket) !== 'undefined') {\n",
       "        return MozWebSocket;\n",
       "    } else {\n",
       "        alert('Your browser does not have WebSocket support.' +\n",
       "              'Please try Chrome, Safari or Firefox ≥ 6. ' +\n",
       "              'Firefox 4 and 5 are also supported but you ' +\n",
       "              'have to enable WebSockets in about:config.');\n",
       "    };\n",
       "}\n",
       "\n",
       "mpl.figure = function(figure_id, websocket, ondownload, parent_element) {\n",
       "    this.id = figure_id;\n",
       "\n",
       "    this.ws = websocket;\n",
       "\n",
       "    this.supports_binary = (this.ws.binaryType != undefined);\n",
       "\n",
       "    if (!this.supports_binary) {\n",
       "        var warnings = document.getElementById(\"mpl-warnings\");\n",
       "        if (warnings) {\n",
       "            warnings.style.display = 'block';\n",
       "            warnings.textContent = (\n",
       "                \"This browser does not support binary websocket messages. \" +\n",
       "                    \"Performance may be slow.\");\n",
       "        }\n",
       "    }\n",
       "\n",
       "    this.imageObj = new Image();\n",
       "\n",
       "    this.context = undefined;\n",
       "    this.message = undefined;\n",
       "    this.canvas = undefined;\n",
       "    this.rubberband_canvas = undefined;\n",
       "    this.rubberband_context = undefined;\n",
       "    this.format_dropdown = undefined;\n",
       "\n",
       "    this.image_mode = 'full';\n",
       "\n",
       "    this.root = $('<div/>');\n",
       "    this._root_extra_style(this.root)\n",
       "    this.root.attr('style', 'display: inline-block');\n",
       "\n",
       "    $(parent_element).append(this.root);\n",
       "\n",
       "    this._init_header(this);\n",
       "    this._init_canvas(this);\n",
       "    this._init_toolbar(this);\n",
       "\n",
       "    var fig = this;\n",
       "\n",
       "    this.waiting = false;\n",
       "\n",
       "    this.ws.onopen =  function () {\n",
       "            fig.send_message(\"supports_binary\", {value: fig.supports_binary});\n",
       "            fig.send_message(\"send_image_mode\", {});\n",
       "            if (mpl.ratio != 1) {\n",
       "                fig.send_message(\"set_dpi_ratio\", {'dpi_ratio': mpl.ratio});\n",
       "            }\n",
       "            fig.send_message(\"refresh\", {});\n",
       "        }\n",
       "\n",
       "    this.imageObj.onload = function() {\n",
       "            if (fig.image_mode == 'full') {\n",
       "                // Full images could contain transparency (where diff images\n",
       "                // almost always do), so we need to clear the canvas so that\n",
       "                // there is no ghosting.\n",
       "                fig.context.clearRect(0, 0, fig.canvas.width, fig.canvas.height);\n",
       "            }\n",
       "            fig.context.drawImage(fig.imageObj, 0, 0);\n",
       "        };\n",
       "\n",
       "    this.imageObj.onunload = function() {\n",
       "        fig.ws.close();\n",
       "    }\n",
       "\n",
       "    this.ws.onmessage = this._make_on_message_function(this);\n",
       "\n",
       "    this.ondownload = ondownload;\n",
       "}\n",
       "\n",
       "mpl.figure.prototype._init_header = function() {\n",
       "    var titlebar = $(\n",
       "        '<div class=\"ui-dialog-titlebar ui-widget-header ui-corner-all ' +\n",
       "        'ui-helper-clearfix\"/>');\n",
       "    var titletext = $(\n",
       "        '<div class=\"ui-dialog-title\" style=\"width: 100%; ' +\n",
       "        'text-align: center; padding: 3px;\"/>');\n",
       "    titlebar.append(titletext)\n",
       "    this.root.append(titlebar);\n",
       "    this.header = titletext[0];\n",
       "}\n",
       "\n",
       "\n",
       "\n",
       "mpl.figure.prototype._canvas_extra_style = function(canvas_div) {\n",
       "\n",
       "}\n",
       "\n",
       "\n",
       "mpl.figure.prototype._root_extra_style = function(canvas_div) {\n",
       "\n",
       "}\n",
       "\n",
       "mpl.figure.prototype._init_canvas = function() {\n",
       "    var fig = this;\n",
       "\n",
       "    var canvas_div = $('<div/>');\n",
       "\n",
       "    canvas_div.attr('style', 'position: relative; clear: both; outline: 0');\n",
       "\n",
       "    function canvas_keyboard_event(event) {\n",
       "        return fig.key_event(event, event['data']);\n",
       "    }\n",
       "\n",
       "    canvas_div.keydown('key_press', canvas_keyboard_event);\n",
       "    canvas_div.keyup('key_release', canvas_keyboard_event);\n",
       "    this.canvas_div = canvas_div\n",
       "    this._canvas_extra_style(canvas_div)\n",
       "    this.root.append(canvas_div);\n",
       "\n",
       "    var canvas = $('<canvas/>');\n",
       "    canvas.addClass('mpl-canvas');\n",
       "    canvas.attr('style', \"left: 0; top: 0; z-index: 0; outline: 0\")\n",
       "\n",
       "    this.canvas = canvas[0];\n",
       "    this.context = canvas[0].getContext(\"2d\");\n",
       "\n",
       "    var backingStore = this.context.backingStorePixelRatio ||\n",
       "\tthis.context.webkitBackingStorePixelRatio ||\n",
       "\tthis.context.mozBackingStorePixelRatio ||\n",
       "\tthis.context.msBackingStorePixelRatio ||\n",
       "\tthis.context.oBackingStorePixelRatio ||\n",
       "\tthis.context.backingStorePixelRatio || 1;\n",
       "\n",
       "    mpl.ratio = (window.devicePixelRatio || 1) / backingStore;\n",
       "\n",
       "    var rubberband = $('<canvas/>');\n",
       "    rubberband.attr('style', \"position: absolute; left: 0; top: 0; z-index: 1;\")\n",
       "\n",
       "    var pass_mouse_events = true;\n",
       "\n",
       "    canvas_div.resizable({\n",
       "        start: function(event, ui) {\n",
       "            pass_mouse_events = false;\n",
       "        },\n",
       "        resize: function(event, ui) {\n",
       "            fig.request_resize(ui.size.width, ui.size.height);\n",
       "        },\n",
       "        stop: function(event, ui) {\n",
       "            pass_mouse_events = true;\n",
       "            fig.request_resize(ui.size.width, ui.size.height);\n",
       "        },\n",
       "    });\n",
       "\n",
       "    function mouse_event_fn(event) {\n",
       "        if (pass_mouse_events)\n",
       "            return fig.mouse_event(event, event['data']);\n",
       "    }\n",
       "\n",
       "    rubberband.mousedown('button_press', mouse_event_fn);\n",
       "    rubberband.mouseup('button_release', mouse_event_fn);\n",
       "    // Throttle sequential mouse events to 1 every 20ms.\n",
       "    rubberband.mousemove('motion_notify', mouse_event_fn);\n",
       "\n",
       "    rubberband.mouseenter('figure_enter', mouse_event_fn);\n",
       "    rubberband.mouseleave('figure_leave', mouse_event_fn);\n",
       "\n",
       "    canvas_div.on(\"wheel\", function (event) {\n",
       "        event = event.originalEvent;\n",
       "        event['data'] = 'scroll'\n",
       "        if (event.deltaY < 0) {\n",
       "            event.step = 1;\n",
       "        } else {\n",
       "            event.step = -1;\n",
       "        }\n",
       "        mouse_event_fn(event);\n",
       "    });\n",
       "\n",
       "    canvas_div.append(canvas);\n",
       "    canvas_div.append(rubberband);\n",
       "\n",
       "    this.rubberband = rubberband;\n",
       "    this.rubberband_canvas = rubberband[0];\n",
       "    this.rubberband_context = rubberband[0].getContext(\"2d\");\n",
       "    this.rubberband_context.strokeStyle = \"#000000\";\n",
       "\n",
       "    this._resize_canvas = function(width, height) {\n",
       "        // Keep the size of the canvas, canvas container, and rubber band\n",
       "        // canvas in synch.\n",
       "        canvas_div.css('width', width)\n",
       "        canvas_div.css('height', height)\n",
       "\n",
       "        canvas.attr('width', width * mpl.ratio);\n",
       "        canvas.attr('height', height * mpl.ratio);\n",
       "        canvas.attr('style', 'width: ' + width + 'px; height: ' + height + 'px;');\n",
       "\n",
       "        rubberband.attr('width', width);\n",
       "        rubberband.attr('height', height);\n",
       "    }\n",
       "\n",
       "    // Set the figure to an initial 600x600px, this will subsequently be updated\n",
       "    // upon first draw.\n",
       "    this._resize_canvas(600, 600);\n",
       "\n",
       "    // Disable right mouse context menu.\n",
       "    $(this.rubberband_canvas).bind(\"contextmenu\",function(e){\n",
       "        return false;\n",
       "    });\n",
       "\n",
       "    function set_focus () {\n",
       "        canvas.focus();\n",
       "        canvas_div.focus();\n",
       "    }\n",
       "\n",
       "    window.setTimeout(set_focus, 100);\n",
       "}\n",
       "\n",
       "mpl.figure.prototype._init_toolbar = function() {\n",
       "    var fig = this;\n",
       "\n",
       "    var nav_element = $('<div/>')\n",
       "    nav_element.attr('style', 'width: 100%');\n",
       "    this.root.append(nav_element);\n",
       "\n",
       "    // Define a callback function for later on.\n",
       "    function toolbar_event(event) {\n",
       "        return fig.toolbar_button_onclick(event['data']);\n",
       "    }\n",
       "    function toolbar_mouse_event(event) {\n",
       "        return fig.toolbar_button_onmouseover(event['data']);\n",
       "    }\n",
       "\n",
       "    for(var toolbar_ind in mpl.toolbar_items) {\n",
       "        var name = mpl.toolbar_items[toolbar_ind][0];\n",
       "        var tooltip = mpl.toolbar_items[toolbar_ind][1];\n",
       "        var image = mpl.toolbar_items[toolbar_ind][2];\n",
       "        var method_name = mpl.toolbar_items[toolbar_ind][3];\n",
       "\n",
       "        if (!name) {\n",
       "            // put a spacer in here.\n",
       "            continue;\n",
       "        }\n",
       "        var button = $('<button/>');\n",
       "        button.addClass('ui-button ui-widget ui-state-default ui-corner-all ' +\n",
       "                        'ui-button-icon-only');\n",
       "        button.attr('role', 'button');\n",
       "        button.attr('aria-disabled', 'false');\n",
       "        button.click(method_name, toolbar_event);\n",
       "        button.mouseover(tooltip, toolbar_mouse_event);\n",
       "\n",
       "        var icon_img = $('<span/>');\n",
       "        icon_img.addClass('ui-button-icon-primary ui-icon');\n",
       "        icon_img.addClass(image);\n",
       "        icon_img.addClass('ui-corner-all');\n",
       "\n",
       "        var tooltip_span = $('<span/>');\n",
       "        tooltip_span.addClass('ui-button-text');\n",
       "        tooltip_span.html(tooltip);\n",
       "\n",
       "        button.append(icon_img);\n",
       "        button.append(tooltip_span);\n",
       "\n",
       "        nav_element.append(button);\n",
       "    }\n",
       "\n",
       "    var fmt_picker_span = $('<span/>');\n",
       "\n",
       "    var fmt_picker = $('<select/>');\n",
       "    fmt_picker.addClass('mpl-toolbar-option ui-widget ui-widget-content');\n",
       "    fmt_picker_span.append(fmt_picker);\n",
       "    nav_element.append(fmt_picker_span);\n",
       "    this.format_dropdown = fmt_picker[0];\n",
       "\n",
       "    for (var ind in mpl.extensions) {\n",
       "        var fmt = mpl.extensions[ind];\n",
       "        var option = $(\n",
       "            '<option/>', {selected: fmt === mpl.default_extension}).html(fmt);\n",
       "        fmt_picker.append(option)\n",
       "    }\n",
       "\n",
       "    // Add hover states to the ui-buttons\n",
       "    $( \".ui-button\" ).hover(\n",
       "        function() { $(this).addClass(\"ui-state-hover\");},\n",
       "        function() { $(this).removeClass(\"ui-state-hover\");}\n",
       "    );\n",
       "\n",
       "    var status_bar = $('<span class=\"mpl-message\"/>');\n",
       "    nav_element.append(status_bar);\n",
       "    this.message = status_bar[0];\n",
       "}\n",
       "\n",
       "mpl.figure.prototype.request_resize = function(x_pixels, y_pixels) {\n",
       "    // Request matplotlib to resize the figure. Matplotlib will then trigger a resize in the client,\n",
       "    // which will in turn request a refresh of the image.\n",
       "    this.send_message('resize', {'width': x_pixels, 'height': y_pixels});\n",
       "}\n",
       "\n",
       "mpl.figure.prototype.send_message = function(type, properties) {\n",
       "    properties['type'] = type;\n",
       "    properties['figure_id'] = this.id;\n",
       "    this.ws.send(JSON.stringify(properties));\n",
       "}\n",
       "\n",
       "mpl.figure.prototype.send_draw_message = function() {\n",
       "    if (!this.waiting) {\n",
       "        this.waiting = true;\n",
       "        this.ws.send(JSON.stringify({type: \"draw\", figure_id: this.id}));\n",
       "    }\n",
       "}\n",
       "\n",
       "\n",
       "mpl.figure.prototype.handle_save = function(fig, msg) {\n",
       "    var format_dropdown = fig.format_dropdown;\n",
       "    var format = format_dropdown.options[format_dropdown.selectedIndex].value;\n",
       "    fig.ondownload(fig, format);\n",
       "}\n",
       "\n",
       "\n",
       "mpl.figure.prototype.handle_resize = function(fig, msg) {\n",
       "    var size = msg['size'];\n",
       "    if (size[0] != fig.canvas.width || size[1] != fig.canvas.height) {\n",
       "        fig._resize_canvas(size[0], size[1]);\n",
       "        fig.send_message(\"refresh\", {});\n",
       "    };\n",
       "}\n",
       "\n",
       "mpl.figure.prototype.handle_rubberband = function(fig, msg) {\n",
       "    var x0 = msg['x0'] / mpl.ratio;\n",
       "    var y0 = (fig.canvas.height - msg['y0']) / mpl.ratio;\n",
       "    var x1 = msg['x1'] / mpl.ratio;\n",
       "    var y1 = (fig.canvas.height - msg['y1']) / mpl.ratio;\n",
       "    x0 = Math.floor(x0) + 0.5;\n",
       "    y0 = Math.floor(y0) + 0.5;\n",
       "    x1 = Math.floor(x1) + 0.5;\n",
       "    y1 = Math.floor(y1) + 0.5;\n",
       "    var min_x = Math.min(x0, x1);\n",
       "    var min_y = Math.min(y0, y1);\n",
       "    var width = Math.abs(x1 - x0);\n",
       "    var height = Math.abs(y1 - y0);\n",
       "\n",
       "    fig.rubberband_context.clearRect(\n",
       "        0, 0, fig.canvas.width, fig.canvas.height);\n",
       "\n",
       "    fig.rubberband_context.strokeRect(min_x, min_y, width, height);\n",
       "}\n",
       "\n",
       "mpl.figure.prototype.handle_figure_label = function(fig, msg) {\n",
       "    // Updates the figure title.\n",
       "    fig.header.textContent = msg['label'];\n",
       "}\n",
       "\n",
       "mpl.figure.prototype.handle_cursor = function(fig, msg) {\n",
       "    var cursor = msg['cursor'];\n",
       "    switch(cursor)\n",
       "    {\n",
       "    case 0:\n",
       "        cursor = 'pointer';\n",
       "        break;\n",
       "    case 1:\n",
       "        cursor = 'default';\n",
       "        break;\n",
       "    case 2:\n",
       "        cursor = 'crosshair';\n",
       "        break;\n",
       "    case 3:\n",
       "        cursor = 'move';\n",
       "        break;\n",
       "    }\n",
       "    fig.rubberband_canvas.style.cursor = cursor;\n",
       "}\n",
       "\n",
       "mpl.figure.prototype.handle_message = function(fig, msg) {\n",
       "    fig.message.textContent = msg['message'];\n",
       "}\n",
       "\n",
       "mpl.figure.prototype.handle_draw = function(fig, msg) {\n",
       "    // Request the server to send over a new figure.\n",
       "    fig.send_draw_message();\n",
       "}\n",
       "\n",
       "mpl.figure.prototype.handle_image_mode = function(fig, msg) {\n",
       "    fig.image_mode = msg['mode'];\n",
       "}\n",
       "\n",
       "mpl.figure.prototype.updated_canvas_event = function() {\n",
       "    // Called whenever the canvas gets updated.\n",
       "    this.send_message(\"ack\", {});\n",
       "}\n",
       "\n",
       "// A function to construct a web socket function for onmessage handling.\n",
       "// Called in the figure constructor.\n",
       "mpl.figure.prototype._make_on_message_function = function(fig) {\n",
       "    return function socket_on_message(evt) {\n",
       "        if (evt.data instanceof Blob) {\n",
       "            /* FIXME: We get \"Resource interpreted as Image but\n",
       "             * transferred with MIME type text/plain:\" errors on\n",
       "             * Chrome.  But how to set the MIME type?  It doesn't seem\n",
       "             * to be part of the websocket stream */\n",
       "            evt.data.type = \"image/png\";\n",
       "\n",
       "            /* Free the memory for the previous frames */\n",
       "            if (fig.imageObj.src) {\n",
       "                (window.URL || window.webkitURL).revokeObjectURL(\n",
       "                    fig.imageObj.src);\n",
       "            }\n",
       "\n",
       "            fig.imageObj.src = (window.URL || window.webkitURL).createObjectURL(\n",
       "                evt.data);\n",
       "            fig.updated_canvas_event();\n",
       "            fig.waiting = false;\n",
       "            return;\n",
       "        }\n",
       "        else if (typeof evt.data === 'string' && evt.data.slice(0, 21) == \"data:image/png;base64\") {\n",
       "            fig.imageObj.src = evt.data;\n",
       "            fig.updated_canvas_event();\n",
       "            fig.waiting = false;\n",
       "            return;\n",
       "        }\n",
       "\n",
       "        var msg = JSON.parse(evt.data);\n",
       "        var msg_type = msg['type'];\n",
       "\n",
       "        // Call the  \"handle_{type}\" callback, which takes\n",
       "        // the figure and JSON message as its only arguments.\n",
       "        try {\n",
       "            var callback = fig[\"handle_\" + msg_type];\n",
       "        } catch (e) {\n",
       "            console.log(\"No handler for the '\" + msg_type + \"' message type: \", msg);\n",
       "            return;\n",
       "        }\n",
       "\n",
       "        if (callback) {\n",
       "            try {\n",
       "                // console.log(\"Handling '\" + msg_type + \"' message: \", msg);\n",
       "                callback(fig, msg);\n",
       "            } catch (e) {\n",
       "                console.log(\"Exception inside the 'handler_\" + msg_type + \"' callback:\", e, e.stack, msg);\n",
       "            }\n",
       "        }\n",
       "    };\n",
       "}\n",
       "\n",
       "// from http://stackoverflow.com/questions/1114465/getting-mouse-location-in-canvas\n",
       "mpl.findpos = function(e) {\n",
       "    //this section is from http://www.quirksmode.org/js/events_properties.html\n",
       "    var targ;\n",
       "    if (!e)\n",
       "        e = window.event;\n",
       "    if (e.target)\n",
       "        targ = e.target;\n",
       "    else if (e.srcElement)\n",
       "        targ = e.srcElement;\n",
       "    if (targ.nodeType == 3) // defeat Safari bug\n",
       "        targ = targ.parentNode;\n",
       "\n",
       "    // jQuery normalizes the pageX and pageY\n",
       "    // pageX,Y are the mouse positions relative to the document\n",
       "    // offset() returns the position of the element relative to the document\n",
       "    var x = e.pageX - $(targ).offset().left;\n",
       "    var y = e.pageY - $(targ).offset().top;\n",
       "\n",
       "    return {\"x\": x, \"y\": y};\n",
       "};\n",
       "\n",
       "/*\n",
       " * return a copy of an object with only non-object keys\n",
       " * we need this to avoid circular references\n",
       " * http://stackoverflow.com/a/24161582/3208463\n",
       " */\n",
       "function simpleKeys (original) {\n",
       "  return Object.keys(original).reduce(function (obj, key) {\n",
       "    if (typeof original[key] !== 'object')\n",
       "        obj[key] = original[key]\n",
       "    return obj;\n",
       "  }, {});\n",
       "}\n",
       "\n",
       "mpl.figure.prototype.mouse_event = function(event, name) {\n",
       "    var canvas_pos = mpl.findpos(event)\n",
       "\n",
       "    if (name === 'button_press')\n",
       "    {\n",
       "        this.canvas.focus();\n",
       "        this.canvas_div.focus();\n",
       "    }\n",
       "\n",
       "    var x = canvas_pos.x * mpl.ratio;\n",
       "    var y = canvas_pos.y * mpl.ratio;\n",
       "\n",
       "    this.send_message(name, {x: x, y: y, button: event.button,\n",
       "                             step: event.step,\n",
       "                             guiEvent: simpleKeys(event)});\n",
       "\n",
       "    /* This prevents the web browser from automatically changing to\n",
       "     * the text insertion cursor when the button is pressed.  We want\n",
       "     * to control all of the cursor setting manually through the\n",
       "     * 'cursor' event from matplotlib */\n",
       "    event.preventDefault();\n",
       "    return false;\n",
       "}\n",
       "\n",
       "mpl.figure.prototype._key_event_extra = function(event, name) {\n",
       "    // Handle any extra behaviour associated with a key event\n",
       "}\n",
       "\n",
       "mpl.figure.prototype.key_event = function(event, name) {\n",
       "\n",
       "    // Prevent repeat events\n",
       "    if (name == 'key_press')\n",
       "    {\n",
       "        if (event.which === this._key)\n",
       "            return;\n",
       "        else\n",
       "            this._key = event.which;\n",
       "    }\n",
       "    if (name == 'key_release')\n",
       "        this._key = null;\n",
       "\n",
       "    var value = '';\n",
       "    if (event.ctrlKey && event.which != 17)\n",
       "        value += \"ctrl+\";\n",
       "    if (event.altKey && event.which != 18)\n",
       "        value += \"alt+\";\n",
       "    if (event.shiftKey && event.which != 16)\n",
       "        value += \"shift+\";\n",
       "\n",
       "    value += 'k';\n",
       "    value += event.which.toString();\n",
       "\n",
       "    this._key_event_extra(event, name);\n",
       "\n",
       "    this.send_message(name, {key: value,\n",
       "                             guiEvent: simpleKeys(event)});\n",
       "    return false;\n",
       "}\n",
       "\n",
       "mpl.figure.prototype.toolbar_button_onclick = function(name) {\n",
       "    if (name == 'download') {\n",
       "        this.handle_save(this, null);\n",
       "    } else {\n",
       "        this.send_message(\"toolbar_button\", {name: name});\n",
       "    }\n",
       "};\n",
       "\n",
       "mpl.figure.prototype.toolbar_button_onmouseover = function(tooltip) {\n",
       "    this.message.textContent = tooltip;\n",
       "};\n",
       "mpl.toolbar_items = [[\"Home\", \"Reset original view\", \"fa fa-home icon-home\", \"home\"], [\"Back\", \"Back to  previous view\", \"fa fa-arrow-left icon-arrow-left\", \"back\"], [\"Forward\", \"Forward to next view\", \"fa fa-arrow-right icon-arrow-right\", \"forward\"], [\"\", \"\", \"\", \"\"], [\"Pan\", \"Pan axes with left mouse, zoom with right\", \"fa fa-arrows icon-move\", \"pan\"], [\"Zoom\", \"Zoom to rectangle\", \"fa fa-square-o icon-check-empty\", \"zoom\"], [\"\", \"\", \"\", \"\"], [\"Download\", \"Download plot\", \"fa fa-floppy-o icon-save\", \"download\"]];\n",
       "\n",
       "mpl.extensions = [\"eps\", \"jpeg\", \"pdf\", \"png\", \"ps\", \"raw\", \"svg\", \"tif\"];\n",
       "\n",
       "mpl.default_extension = \"png\";var comm_websocket_adapter = function(comm) {\n",
       "    // Create a \"websocket\"-like object which calls the given IPython comm\n",
       "    // object with the appropriate methods. Currently this is a non binary\n",
       "    // socket, so there is still some room for performance tuning.\n",
       "    var ws = {};\n",
       "\n",
       "    ws.close = function() {\n",
       "        comm.close()\n",
       "    };\n",
       "    ws.send = function(m) {\n",
       "        //console.log('sending', m);\n",
       "        comm.send(m);\n",
       "    };\n",
       "    // Register the callback with on_msg.\n",
       "    comm.on_msg(function(msg) {\n",
       "        //console.log('receiving', msg['content']['data'], msg);\n",
       "        // Pass the mpl event to the overridden (by mpl) onmessage function.\n",
       "        ws.onmessage(msg['content']['data'])\n",
       "    });\n",
       "    return ws;\n",
       "}\n",
       "\n",
       "mpl.mpl_figure_comm = function(comm, msg) {\n",
       "    // This is the function which gets called when the mpl process\n",
       "    // starts-up an IPython Comm through the \"matplotlib\" channel.\n",
       "\n",
       "    var id = msg.content.data.id;\n",
       "    // Get hold of the div created by the display call when the Comm\n",
       "    // socket was opened in Python.\n",
       "    var element = $(\"#\" + id);\n",
       "    var ws_proxy = comm_websocket_adapter(comm)\n",
       "\n",
       "    function ondownload(figure, format) {\n",
       "        window.open(figure.imageObj.src);\n",
       "    }\n",
       "\n",
       "    var fig = new mpl.figure(id, ws_proxy,\n",
       "                           ondownload,\n",
       "                           element.get(0));\n",
       "\n",
       "    // Call onopen now - mpl needs it, as it is assuming we've passed it a real\n",
       "    // web socket which is closed, not our websocket->open comm proxy.\n",
       "    ws_proxy.onopen();\n",
       "\n",
       "    fig.parent_element = element.get(0);\n",
       "    fig.cell_info = mpl.find_output_cell(\"<div id='\" + id + \"'></div>\");\n",
       "    if (!fig.cell_info) {\n",
       "        console.error(\"Failed to find cell for figure\", id, fig);\n",
       "        return;\n",
       "    }\n",
       "\n",
       "    var output_index = fig.cell_info[2]\n",
       "    var cell = fig.cell_info[0];\n",
       "\n",
       "};\n",
       "\n",
       "mpl.figure.prototype.handle_close = function(fig, msg) {\n",
       "    var width = fig.canvas.width/mpl.ratio\n",
       "    fig.root.unbind('remove')\n",
       "\n",
       "    // Update the output cell to use the data from the current canvas.\n",
       "    fig.push_to_output();\n",
       "    var dataURL = fig.canvas.toDataURL();\n",
       "    // Re-enable the keyboard manager in IPython - without this line, in FF,\n",
       "    // the notebook keyboard shortcuts fail.\n",
       "    IPython.keyboard_manager.enable()\n",
       "    $(fig.parent_element).html('<img src=\"' + dataURL + '\" width=\"' + width + '\">');\n",
       "    fig.close_ws(fig, msg);\n",
       "}\n",
       "\n",
       "mpl.figure.prototype.close_ws = function(fig, msg){\n",
       "    fig.send_message('closing', msg);\n",
       "    // fig.ws.close()\n",
       "}\n",
       "\n",
       "mpl.figure.prototype.push_to_output = function(remove_interactive) {\n",
       "    // Turn the data on the canvas into data in the output cell.\n",
       "    var width = this.canvas.width/mpl.ratio\n",
       "    var dataURL = this.canvas.toDataURL();\n",
       "    this.cell_info[1]['text/html'] = '<img src=\"' + dataURL + '\" width=\"' + width + '\">';\n",
       "}\n",
       "\n",
       "mpl.figure.prototype.updated_canvas_event = function() {\n",
       "    // Tell IPython that the notebook contents must change.\n",
       "    IPython.notebook.set_dirty(true);\n",
       "    this.send_message(\"ack\", {});\n",
       "    var fig = this;\n",
       "    // Wait a second, then push the new image to the DOM so\n",
       "    // that it is saved nicely (might be nice to debounce this).\n",
       "    setTimeout(function () { fig.push_to_output() }, 1000);\n",
       "}\n",
       "\n",
       "mpl.figure.prototype._init_toolbar = function() {\n",
       "    var fig = this;\n",
       "\n",
       "    var nav_element = $('<div/>')\n",
       "    nav_element.attr('style', 'width: 100%');\n",
       "    this.root.append(nav_element);\n",
       "\n",
       "    // Define a callback function for later on.\n",
       "    function toolbar_event(event) {\n",
       "        return fig.toolbar_button_onclick(event['data']);\n",
       "    }\n",
       "    function toolbar_mouse_event(event) {\n",
       "        return fig.toolbar_button_onmouseover(event['data']);\n",
       "    }\n",
       "\n",
       "    for(var toolbar_ind in mpl.toolbar_items){\n",
       "        var name = mpl.toolbar_items[toolbar_ind][0];\n",
       "        var tooltip = mpl.toolbar_items[toolbar_ind][1];\n",
       "        var image = mpl.toolbar_items[toolbar_ind][2];\n",
       "        var method_name = mpl.toolbar_items[toolbar_ind][3];\n",
       "\n",
       "        if (!name) { continue; };\n",
       "\n",
       "        var button = $('<button class=\"btn btn-default\" href=\"#\" title=\"' + name + '\"><i class=\"fa ' + image + ' fa-lg\"></i></button>');\n",
       "        button.click(method_name, toolbar_event);\n",
       "        button.mouseover(tooltip, toolbar_mouse_event);\n",
       "        nav_element.append(button);\n",
       "    }\n",
       "\n",
       "    // Add the status bar.\n",
       "    var status_bar = $('<span class=\"mpl-message\" style=\"text-align:right; float: right;\"/>');\n",
       "    nav_element.append(status_bar);\n",
       "    this.message = status_bar[0];\n",
       "\n",
       "    // Add the close button to the window.\n",
       "    var buttongrp = $('<div class=\"btn-group inline pull-right\"></div>');\n",
       "    var button = $('<button class=\"btn btn-mini btn-primary\" href=\"#\" title=\"Stop Interaction\"><i class=\"fa fa-power-off icon-remove icon-large\"></i></button>');\n",
       "    button.click(function (evt) { fig.handle_close(fig, {}); } );\n",
       "    button.mouseover('Stop Interaction', toolbar_mouse_event);\n",
       "    buttongrp.append(button);\n",
       "    var titlebar = this.root.find($('.ui-dialog-titlebar'));\n",
       "    titlebar.prepend(buttongrp);\n",
       "}\n",
       "\n",
       "mpl.figure.prototype._root_extra_style = function(el){\n",
       "    var fig = this\n",
       "    el.on(\"remove\", function(){\n",
       "\tfig.close_ws(fig, {});\n",
       "    });\n",
       "}\n",
       "\n",
       "mpl.figure.prototype._canvas_extra_style = function(el){\n",
       "    // this is important to make the div 'focusable\n",
       "    el.attr('tabindex', 0)\n",
       "    // reach out to IPython and tell the keyboard manager to turn it's self\n",
       "    // off when our div gets focus\n",
       "\n",
       "    // location in version 3\n",
       "    if (IPython.notebook.keyboard_manager) {\n",
       "        IPython.notebook.keyboard_manager.register_events(el);\n",
       "    }\n",
       "    else {\n",
       "        // location in version 2\n",
       "        IPython.keyboard_manager.register_events(el);\n",
       "    }\n",
       "\n",
       "}\n",
       "\n",
       "mpl.figure.prototype._key_event_extra = function(event, name) {\n",
       "    var manager = IPython.notebook.keyboard_manager;\n",
       "    if (!manager)\n",
       "        manager = IPython.keyboard_manager;\n",
       "\n",
       "    // Check for shift+enter\n",
       "    if (event.shiftKey && event.which == 13) {\n",
       "        this.canvas_div.blur();\n",
       "        event.shiftKey = false;\n",
       "        // Send a \"J\" for go to next cell\n",
       "        event.which = 74;\n",
       "        event.keyCode = 74;\n",
       "        manager.command_mode();\n",
       "        manager.handle_keydown(event);\n",
       "    }\n",
       "}\n",
       "\n",
       "mpl.figure.prototype.handle_save = function(fig, msg) {\n",
       "    fig.ondownload(fig, null);\n",
       "}\n",
       "\n",
       "\n",
       "mpl.find_output_cell = function(html_output) {\n",
       "    // Return the cell and output element which can be found *uniquely* in the notebook.\n",
       "    // Note - this is a bit hacky, but it is done because the \"notebook_saving.Notebook\"\n",
       "    // IPython event is triggered only after the cells have been serialised, which for\n",
       "    // our purposes (turning an active figure into a static one), is too late.\n",
       "    var cells = IPython.notebook.get_cells();\n",
       "    var ncells = cells.length;\n",
       "    for (var i=0; i<ncells; i++) {\n",
       "        var cell = cells[i];\n",
       "        if (cell.cell_type === 'code'){\n",
       "            for (var j=0; j<cell.output_area.outputs.length; j++) {\n",
       "                var data = cell.output_area.outputs[j];\n",
       "                if (data.data) {\n",
       "                    // IPython >= 3 moved mimebundle to data attribute of output\n",
       "                    data = data.data;\n",
       "                }\n",
       "                if (data['text/html'] == html_output) {\n",
       "                    return [cell, data, j];\n",
       "                }\n",
       "            }\n",
       "        }\n",
       "    }\n",
       "}\n",
       "\n",
       "// Register the function which deals with the matplotlib target/channel.\n",
       "// The kernel may be null if the page has been refreshed.\n",
       "if (IPython.notebook.kernel != null) {\n",
       "    IPython.notebook.kernel.comm_manager.register_target('matplotlib', mpl.mpl_figure_comm);\n",
       "}\n"
      ],
      "text/plain": [
       "<IPython.core.display.Javascript object>"
      ]
     },
     "metadata": {},
     "output_type": "display_data"
    },
    {
     "data": {
      "text/html": [
       "<img src=\"data:image/png;base64,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\" width=\"639.9999861283738\">"
      ],
      "text/plain": [
       "<IPython.core.display.HTML object>"
      ]
     },
     "metadata": {},
     "output_type": "display_data"
    }
   ],
   "source": [
    "%matplotlib notebook\n",
    "\n",
    "#from sklearn.manifold import TSNE\n",
    "from sklearn.decomposition import PCA\n",
    "import matplotlib.pyplot as plt\n",
    "\n",
    "vocab = ['man', 'woman', 'king', 'queen', 'uncle', 'aunt', 'monkey',\n",
    "         'cat', 'dog', 'mr', 'mrs', 'dad',\n",
    "         'nephew', 'daughter', 'husband', 'grandma', 'auntie',\n",
    "         'wife', 'mum', 'grandpa', 'son', 'boy', 'girl',\n",
    "         'niece', 'donkey', 'cousin', 'singapore']\n",
    "\n",
    "vectors = []\n",
    "for v in vocab:\n",
    "    vectors.append(model[v])\n",
    "\n",
    "# Apply t-SNE\n",
    "#tsne = TSNE(n_components=2)\n",
    "#Z = tsne.fit_transform(vectors)\n",
    "pca = PCA(n_components=2)\n",
    "Z = pca.fit_transform(vectors)\n",
    "\n",
    "plt.scatter(Z[:, 0], Z[:, 1])\n",
    "\n",
    "for word, pos in zip(vocab, Z):\n",
    "    plt.annotate(word, pos)"
   ]
  },
  {
   "cell_type": "code",
   "execution_count": null,
   "metadata": {},
   "outputs": [],
   "source": []
  },
  {
   "cell_type": "code",
   "execution_count": 24,
   "metadata": {},
   "outputs": [],
   "source": [
    "# Train LSTM to classify movie reviews (positive / negative reviews)"
   ]
  },
  {
   "cell_type": "code",
   "execution_count": 25,
   "metadata": {},
   "outputs": [
    {
     "name": "stdout",
     "output_type": "stream",
     "text": [
      "[==================================================] 100.0% 104.8/104.8MB downloaded\n"
     ]
    }
   ],
   "source": [
    "model = api.load(\"glove-twitter-25\")"
   ]
  },
  {
   "cell_type": "code",
   "execution_count": 26,
   "metadata": {},
   "outputs": [
    {
     "data": {
      "text/plain": [
       "597"
      ]
     },
     "execution_count": 26,
     "metadata": {},
     "output_type": "execute_result"
    }
   ],
   "source": [
    "model.vocab['boy'].index"
   ]
  },
  {
   "cell_type": "code",
   "execution_count": null,
   "metadata": {},
   "outputs": [],
   "source": []
  },
  {
   "cell_type": "code",
   "execution_count": 27,
   "metadata": {},
   "outputs": [
    {
     "name": "stderr",
     "output_type": "stream",
     "text": [
      "Using TensorFlow backend.\n"
     ]
    },
    {
     "name": "stdout",
     "output_type": "stream",
     "text": [
      "Downloading data from https://s3.amazonaws.com/text-datasets/imdb.npz\n",
      "17465344/17464789 [==============================] - 6s 0us/step\n"
     ]
    }
   ],
   "source": [
    "# Load dataset from IMDB\n",
    "from keras.datasets import imdb\n",
    "\n",
    "# load the reviews with the top 3000 words only\n",
    "# skip top 5 most frequent words (like 'a', 'the'): stop words\n",
    "(X_train, y_train), (X_test, y_test) = imdb.load_data(num_words=3000,\n",
    "                                                      skip_top=5)"
   ]
  },
  {
   "cell_type": "code",
   "execution_count": 28,
   "metadata": {},
   "outputs": [],
   "source": [
    "imdb.load_data??"
   ]
  },
  {
   "cell_type": "code",
   "execution_count": 29,
   "metadata": {
    "scrolled": true
   },
   "outputs": [
    {
     "data": {
      "text/plain": [
       "[2,\n",
       " 14,\n",
       " 22,\n",
       " 16,\n",
       " 43,\n",
       " 530,\n",
       " 973,\n",
       " 1622,\n",
       " 1385,\n",
       " 65,\n",
       " 458,\n",
       " 2,\n",
       " 66,\n",
       " 2,\n",
       " 2,\n",
       " 173,\n",
       " 36,\n",
       " 256,\n",
       " 5,\n",
       " 25,\n",
       " 100,\n",
       " 43,\n",
       " 838,\n",
       " 112,\n",
       " 50,\n",
       " 670,\n",
       " 2,\n",
       " 9,\n",
       " 35,\n",
       " 480,\n",
       " 284,\n",
       " 5,\n",
       " 150,\n",
       " 2,\n",
       " 172,\n",
       " 112,\n",
       " 167,\n",
       " 2,\n",
       " 336,\n",
       " 385,\n",
       " 39,\n",
       " 2,\n",
       " 172,\n",
       " 2,\n",
       " 1111,\n",
       " 17,\n",
       " 546,\n",
       " 38,\n",
       " 13,\n",
       " 447,\n",
       " 2,\n",
       " 192,\n",
       " 50,\n",
       " 16,\n",
       " 6,\n",
       " 147,\n",
       " 2025,\n",
       " 19,\n",
       " 14,\n",
       " 22,\n",
       " 2,\n",
       " 1920,\n",
       " 2,\n",
       " 469,\n",
       " 2,\n",
       " 22,\n",
       " 71,\n",
       " 87,\n",
       " 12,\n",
       " 16,\n",
       " 43,\n",
       " 530,\n",
       " 38,\n",
       " 76,\n",
       " 15,\n",
       " 13,\n",
       " 1247,\n",
       " 2,\n",
       " 22,\n",
       " 17,\n",
       " 515,\n",
       " 17,\n",
       " 12,\n",
       " 16,\n",
       " 626,\n",
       " 18,\n",
       " 2,\n",
       " 5,\n",
       " 62,\n",
       " 386,\n",
       " 12,\n",
       " 8,\n",
       " 316,\n",
       " 8,\n",
       " 106,\n",
       " 5,\n",
       " 2,\n",
       " 2223,\n",
       " 2,\n",
       " 16,\n",
       " 480,\n",
       " 66,\n",
       " 2,\n",
       " 33,\n",
       " 2,\n",
       " 130,\n",
       " 12,\n",
       " 16,\n",
       " 38,\n",
       " 619,\n",
       " 5,\n",
       " 25,\n",
       " 124,\n",
       " 51,\n",
       " 36,\n",
       " 135,\n",
       " 48,\n",
       " 25,\n",
       " 1415,\n",
       " 33,\n",
       " 6,\n",
       " 22,\n",
       " 12,\n",
       " 215,\n",
       " 28,\n",
       " 77,\n",
       " 52,\n",
       " 5,\n",
       " 14,\n",
       " 407,\n",
       " 16,\n",
       " 82,\n",
       " 2,\n",
       " 8,\n",
       " 2,\n",
       " 107,\n",
       " 117,\n",
       " 2,\n",
       " 15,\n",
       " 256,\n",
       " 2,\n",
       " 2,\n",
       " 7,\n",
       " 2,\n",
       " 5,\n",
       " 723,\n",
       " 36,\n",
       " 71,\n",
       " 43,\n",
       " 530,\n",
       " 476,\n",
       " 26,\n",
       " 400,\n",
       " 317,\n",
       " 46,\n",
       " 7,\n",
       " 2,\n",
       " 2,\n",
       " 1029,\n",
       " 13,\n",
       " 104,\n",
       " 88,\n",
       " 2,\n",
       " 381,\n",
       " 15,\n",
       " 297,\n",
       " 98,\n",
       " 32,\n",
       " 2071,\n",
       " 56,\n",
       " 26,\n",
       " 141,\n",
       " 6,\n",
       " 194,\n",
       " 2,\n",
       " 18,\n",
       " 2,\n",
       " 226,\n",
       " 22,\n",
       " 21,\n",
       " 134,\n",
       " 476,\n",
       " 26,\n",
       " 480,\n",
       " 5,\n",
       " 144,\n",
       " 30,\n",
       " 2,\n",
       " 18,\n",
       " 51,\n",
       " 36,\n",
       " 28,\n",
       " 224,\n",
       " 92,\n",
       " 25,\n",
       " 104,\n",
       " 2,\n",
       " 226,\n",
       " 65,\n",
       " 16,\n",
       " 38,\n",
       " 1334,\n",
       " 88,\n",
       " 12,\n",
       " 16,\n",
       " 283,\n",
       " 5,\n",
       " 16,\n",
       " 2,\n",
       " 113,\n",
       " 103,\n",
       " 32,\n",
       " 15,\n",
       " 16,\n",
       " 2,\n",
       " 19,\n",
       " 178,\n",
       " 32]"
      ]
     },
     "execution_count": 29,
     "metadata": {},
     "output_type": "execute_result"
    }
   ],
   "source": [
    "# Each review is encoded using word count frequency\n",
    "X_train[0]"
   ]
  },
  {
   "cell_type": "code",
   "execution_count": 30,
   "metadata": {},
   "outputs": [
    {
     "name": "stdout",
     "output_type": "stream",
     "text": [
      "Downloading data from https://s3.amazonaws.com/text-datasets/imdb_word_index.json\n",
      "1646592/1641221 [==============================] - 2s 1us/step\n",
      "label 1\n",
      "review (numbers): [2, 14, 22, 16, 43, 530, 973, 1622, 1385, 65, 458, 2, 66, 2, 2, 173, 36, 256, 5, 25, 100, 43, 838, 112, 50, 670, 2, 9, 35, 480, 284, 5, 150, 2, 172, 112, 167, 2, 336, 385, 39, 2, 172, 2, 1111, 17, 546, 38, 13, 447, 2, 192, 50, 16, 6, 147, 2025, 19, 14, 22, 2, 1920, 2, 469, 2, 22, 71, 87, 12, 16, 43, 530, 38, 76, 15, 13, 1247, 2, 22, 17, 515, 17, 12, 16, 626, 18, 2, 5, 62, 386, 12, 8, 316, 8, 106, 5, 2, 2223, 2, 16, 480, 66, 2, 33, 2, 130, 12, 16, 38, 619, 5, 25, 124, 51, 36, 135, 48, 25, 1415, 33, 6, 22, 12, 215, 28, 77, 52, 5, 14, 407, 16, 82, 2, 8, 2, 107, 117, 2, 15, 256, 2, 2, 7, 2, 5, 723, 36, 71, 43, 530, 476, 26, 400, 317, 46, 7, 2, 2, 1029, 13, 104, 88, 2, 381, 15, 297, 98, 32, 2071, 56, 26, 141, 6, 194, 2, 18, 2, 226, 22, 21, 134, 476, 26, 480, 5, 144, 30, 2, 18, 51, 36, 28, 224, 92, 25, 104, 2, 226, 65, 16, 38, 1334, 88, 12, 16, 283, 5, 16, 2, 113, 103, 32, 15, 16, 2, 19, 178, 32]\n",
      "review (words): and as you with out themselves powerful lets loves their becomes and had and and lot from anyone to have after out atmosphere never more room and it so heart shows to years and every never going and help moments or and every and visual movie except her was several and enough more with is now current film as you and mine and unfortunately and you than him that with out themselves her get for was camp and you movie sometimes movie that with scary but and to story wonderful that in seeing in character to and 70s and with heart had and they and here that with her serious to have does when from why what have critics they is you that isn't one will very to as itself with other and in and seen over and for anyone and and br and to whether from than out themselves history he name half some br and and odd was two most and mean for 1 any an boat she he should is thought and but and script you not while history he heart to real at and but when from one bit then have two and script their with her nobody most that with wasn't to with and acting watch an for with and film want an\n"
     ]
    }
   ],
   "source": [
    "# Steps to use Word2Vec\n",
    "# 1. Convert from frequency (2) into word ('and')\n",
    "# 2. Convert from word ('and') into Word2Vec index\n",
    "\n",
    "# If you have raw text input, skip step 1.\n",
    "\n",
    "# ----------------------------------------------\n",
    "# 1. Convert from frequency (2) into word ('and')\n",
    "# Get the word index json from IMDB dataset\n",
    "text_to_index = imdb.get_word_index()\n",
    "\n",
    "# maps word index json from term -> index to index -> term\n",
    "index_to_text = dict((text_to_index[k], k) for k in text_to_index)\n",
    "\n",
    "# converts first review from index to words \n",
    "print('label', y_train[0])\n",
    "print('review (numbers):', X_train[0])\n",
    "print('review (words):', \" \".join([index_to_text[x] for x in X_train[0]]))"
   ]
  },
  {
   "cell_type": "code",
   "execution_count": 31,
   "metadata": {},
   "outputs": [
    {
     "name": "stdout",
     "output_type": "stream",
     "text": [
      "1717\n",
      "cat\n"
     ]
    }
   ],
   "source": [
    "# 2. Convert from word ('and') into Word2Vec index\n",
    "\n",
    "def word2idx(model, word):\n",
    "    return model.vocab[word].index\n",
    "def idx2word(model, idx):\n",
    "    return model.index2word[idx]\n",
    "\n",
    "index = word2idx(model, 'cat')\n",
    "print(index)\n",
    "print(idx2word(model, index))"
   ]
  },
  {
   "cell_type": "code",
   "execution_count": 32,
   "metadata": {},
   "outputs": [
    {
     "data": {
      "text/plain": [
       "'cat'"
      ]
     },
     "execution_count": 32,
     "metadata": {},
     "output_type": "execute_result"
    }
   ],
   "source": [
    "model.index2word[1717]"
   ]
  },
  {
   "cell_type": "code",
   "execution_count": 33,
   "metadata": {},
   "outputs": [
    {
     "data": {
      "text/plain": [
       "<gensim.models.keyedvectors.Vocab at 0x1cc9171fa58>"
      ]
     },
     "execution_count": 33,
     "metadata": {},
     "output_type": "execute_result"
    }
   ],
   "source": [
    "model.vocab['cat']"
   ]
  },
  {
   "cell_type": "code",
   "execution_count": 34,
   "metadata": {},
   "outputs": [
    {
     "data": {
      "text/plain": [
       "array([-0.96419 , -0.60978 ,  0.67449 ,  0.35113 ,  0.41317 , -0.21241 ,\n",
       "        1.3796  ,  0.12854 ,  0.31567 ,  0.66325 ,  0.3391  , -0.18934 ,\n",
       "       -3.325   , -1.1491  , -0.4129  ,  0.2195  ,  0.8706  , -0.50616 ,\n",
       "       -0.12781 , -0.066965,  0.065761,  0.43927 ,  0.1758  , -0.56058 ,\n",
       "        0.13529 ], dtype=float32)"
      ]
     },
     "execution_count": 34,
     "metadata": {},
     "output_type": "execute_result"
    }
   ],
   "source": [
    "model['cat'] # vector"
   ]
  },
  {
   "cell_type": "code",
   "execution_count": 35,
   "metadata": {},
   "outputs": [
    {
     "data": {
      "text/plain": [
       "238"
      ]
     },
     "execution_count": 35,
     "metadata": {},
     "output_type": "execute_result"
    }
   ],
   "source": [
    "# Similar to day 18 - RNN, we'll have to pick \n",
    "# a review length, using the average length of reviews.\n",
    "\n",
    "import numpy as np\n",
    "lengths = np.array([len(X_train[i]) for i in range(len(X_train))])\n",
    "\n",
    "# to find out what window size to use\n",
    "# we'll have to tune this for speeding up training or improving accuracy\n",
    "window_size = int(np.mean(lengths))\n",
    "window_size"
   ]
  },
  {
   "cell_type": "code",
   "execution_count": 36,
   "metadata": {},
   "outputs": [
    {
     "name": "stdout",
     "output_type": "stream",
     "text": [
      "(25000, 238)\n",
      "(25000, 238)\n"
     ]
    }
   ],
   "source": [
    "# Steps to use Word2Vec\n",
    "# 1. Convert from frequency (2) into word ('and')\n",
    "# 2. Convert from word ('and') into Word2Vec index\n",
    "# If you have raw text input, skip step 1.\n",
    "\n",
    "# Helper function to convert from IMDB index to Word2Vec index\n",
    "def get_word2vec_index(word2vec_model, X, max_sentence_len):\n",
    "\n",
    "    Z = np.zeros([len(X), max_sentence_len], dtype=np.int32)\n",
    "\n",
    "    for i, sentence in enumerate(X):\n",
    "        t = 0\n",
    "        \n",
    "        for word in sentence:\n",
    "            # 1. Get the word from IMDB index\n",
    "            # Skip this part if you have raw text\n",
    "            word = index_to_text[word]\n",
    "\n",
    "            # 2. Get the Word2Vec index from the word\n",
    "            if word in word2vec_model.vocab:\n",
    "                Z[i, t] = word2idx(word2vec_model, word)\n",
    "                t += 1\n",
    "\n",
    "            # truncate to max_sentence_len\n",
    "            if t == max_sentence_len:\n",
    "                break\n",
    "    return Z\n",
    "      \n",
    "\n",
    "Z_train = get_word2vec_index(model, X_train, window_size)\n",
    "Z_test = get_word2vec_index(model, X_test, window_size)\n",
    "\n",
    "print(Z_train.shape)\n",
    "print(Z_test.shape)"
   ]
  },
  {
   "cell_type": "code",
   "execution_count": 37,
   "metadata": {},
   "outputs": [
    {
     "data": {
      "text/plain": [
       "False"
      ]
     },
     "execution_count": 37,
     "metadata": {},
     "output_type": "execute_result"
    }
   ],
   "source": [
    "'70s' in model.vocab # some words are not in the vocab\n",
    "# We can either\n",
    "# 1. Skip the word\n",
    "# 2. Replace with <NA>"
   ]
  },
  {
   "cell_type": "code",
   "execution_count": 38,
   "metadata": {},
   "outputs": [
    {
     "data": {
      "text/plain": [
       "array([   2,   14,   22,   16,   43,  530,  973, 1622, 1385,   65,  458,\n",
       "          2,   66,    2,    2,  173,   36,  256,    5,   25,  100,   43,\n",
       "        838,  112,   50,  670,    2,    9,   35,  480,  284,    5,  150,\n",
       "          2,  172,  112,  167,    2,  336,  385,   39,    2,  172,    2,\n",
       "       1111,   17,  546,   38,   13,  447,    2,  192,   50,   16,    6,\n",
       "        147, 2025,   19,   14,   22,    2, 1920,    2,  469,    2,   22,\n",
       "         71,   87,   12,   16,   43,  530,   38,   76,   15,   13, 1247,\n",
       "          2,   22,   17,  515,   17,   12,   16,  626,   18,    2,    5,\n",
       "         62,  386,   12,    8,  316,    8,  106,    5,    2, 2223,    2,\n",
       "         16,  480,   66,    2,   33,    2,  130,   12,   16,   38,  619,\n",
       "          5,   25,  124,   51,   36,  135,   48,   25, 1415,   33,    6,\n",
       "         22,   12,  215,   28,   77,   52,    5,   14,  407,   16,   82,\n",
       "          2,    8,    2,  107,  117,    2,   15,  256,    2,    2,    7,\n",
       "          2,    5,  723,   36,   71,   43,  530,  476,   26,  400,  317,\n",
       "         46,    7,    2,    2, 1029,   13,  104,   88,    2,  381,   15,\n",
       "        297,   98,   32, 2071,   56,   26,  141,    6,  194,    2,   18,\n",
       "          2,  226,   22,   21,  134,  476,   26,  480,    5,  144,   30,\n",
       "          2,   18,   51,   36,   28,  224,   92,   25,  104,    2,  226,\n",
       "         65,   16,   38, 1334,   88,   12,   16,  283,    5,   16,    2,\n",
       "        113,  103,   32,   15,   16,    2,   19,  178,   32])"
      ]
     },
     "execution_count": 38,
     "metadata": {},
     "output_type": "execute_result"
    }
   ],
   "source": [
    "np.array(X_train[0]) # before conversion from IMDB indices"
   ]
  },
  {
   "cell_type": "code",
   "execution_count": 39,
   "metadata": {},
   "outputs": [
    {
     "data": {
      "text/plain": [
       "array([   26,   124,    15,    58,    99,  3295,  6546,  1049,  1280,\n",
       "         350,  5800,    26,   260,    26,    26,   670,   133,   632,\n",
       "          16,    64,   393,    99, 19248,   190,   145,   878,    26,\n",
       "          33,    55,   533,  2074,    16,   641,    26,   381,   190,\n",
       "         211,    26,   515,  3638,   153,    26,   381,    26, 12414,\n",
       "         688,  3157,   168,    93, 10157,    26,   798,   145,    58,\n",
       "          32,   110,  4872,  1251,   124,    15,    26,   944,    26,\n",
       "        9237,    26,    15,   285,   282,    45,    58,    99,  3295,\n",
       "         168,    87,    37,    93,  3889,    26,    15,   688,   692,\n",
       "         688,    45,    58,  2893,    79,    26,    16,   939,  2644,\n",
       "          45,    35,  1321,    35,  4966,    16,    26,    26,    58,\n",
       "         533,   260,    26,   109,    26,   229,    45,    58,   168,\n",
       "        1507,    16,    64,   290,    92,   133,   164,    86,    64,\n",
       "       29384,   109,    32,    15,    45,    96,   128,   520,    16,\n",
       "         124,  7016,    58,   469,    26,    35,    26,   807,   254,\n",
       "          26,    37,   632,    26,    26,  4936,    26,    16,  4530,\n",
       "         133,   285,    99,  3295,  2162,   107,   590,  1030,   191,\n",
       "        4936,    26,    26,  8322,    93,   568,   449,    26,   478,\n",
       "          37,   496,   172,  6986,   147,   107,   276,    32,   621,\n",
       "          26,    79,    26, 11209,    15,    78,   654,  2162,   107,\n",
       "         533,    16,   312,    66,    26,    79,    92,   133,    96,\n",
       "        1205,   240,    64,   568,    26, 11209,   350,    58,   168,\n",
       "         929,   449,    45,    58,    16,    58,    26,  3169,   433,\n",
       "         172,    37,    58,    26,  1251,   129,   172,     0,     0,\n",
       "           0,     0,     0,     0,     0,     0,     0,     0,     0,\n",
       "           0,     0,     0,     0,     0,     0,     0,     0,     0,\n",
       "           0,     0,     0,     0])"
      ]
     },
     "execution_count": 39,
     "metadata": {},
     "output_type": "execute_result"
    }
   ],
   "source": [
    "Z_train[0] # after conversion to word2vec indices"
   ]
  },
  {
   "cell_type": "code",
   "execution_count": 40,
   "metadata": {},
   "outputs": [
    {
     "data": {
      "text/plain": [
       "array([   26,  1113,   720,   124,   152,    32, 54092,    10,    10,\n",
       "          26,    26,    16,    26,  6069,  4936,    26,   313,    26,\n",
       "         397,  1861,    26,   272,    33, 10071, 10071, 10071,    10,\n",
       "          10,    93,   240,   290,  1213,    26,   393,    96,  5099,\n",
       "         124,   152,    70,    56,    26,    75,   619,   868,    35,\n",
       "         290,   124,  1590,   802,    35,   598,   191,    16,    56,\n",
       "         896,    58,   367,    26,   168,   172,    64,    26,  4640,\n",
       "         720,   124,    32, 54092,     0,     0,     0,     0,     0,\n",
       "           0,     0,     0,     0,     0,     0,     0,     0,     0,\n",
       "           0,     0,     0,     0,     0,     0,     0,     0,     0,\n",
       "           0,     0,     0,     0,     0,     0,     0,     0,     0,\n",
       "           0,     0,     0,     0,     0,     0,     0,     0,     0,\n",
       "           0,     0,     0,     0,     0,     0,     0,     0,     0,\n",
       "           0,     0,     0,     0,     0,     0,     0,     0,     0,\n",
       "           0,     0,     0,     0,     0,     0,     0,     0,     0,\n",
       "           0,     0,     0,     0,     0,     0,     0,     0,     0,\n",
       "           0,     0,     0,     0,     0,     0,     0,     0,     0,\n",
       "           0,     0,     0,     0,     0,     0,     0,     0,     0,\n",
       "           0,     0,     0,     0,     0,     0,     0,     0,     0,\n",
       "           0,     0,     0,     0,     0,     0,     0,     0,     0,\n",
       "           0,     0,     0,     0,     0,     0,     0,     0,     0,\n",
       "           0,     0,     0,     0,     0,     0,     0,     0,     0,\n",
       "           0,     0,     0,     0,     0,     0,     0,     0,     0,\n",
       "           0,     0,     0,     0,     0,     0,     0,     0,     0,\n",
       "           0,     0,     0,     0,     0,     0,     0,     0,     0,\n",
       "           0,     0,     0,     0,     0,     0,     0,     0,     0,\n",
       "           0,     0,     0,     0])"
      ]
     },
     "execution_count": 40,
     "metadata": {},
     "output_type": "execute_result"
    }
   ],
   "source": [
    "np.array(Z_test[0])"
   ]
  },
  {
   "cell_type": "code",
   "execution_count": 41,
   "metadata": {},
   "outputs": [
    {
     "data": {
      "text/plain": [
       "1193514"
      ]
     },
     "execution_count": 41,
     "metadata": {},
     "output_type": "execute_result"
    }
   ],
   "source": [
    "len(model.vocab)"
   ]
  },
  {
   "cell_type": "code",
   "execution_count": 42,
   "metadata": {},
   "outputs": [],
   "source": [
    "# Compare: On Day 18, we used an empty Embedding (trained it from scratch)\n",
    "#\n",
    "# Create our RNN model\n",
    "# from keras.models import Sequential\n",
    "# from keras.layers import LSTM, Embedding, Dense\n",
    "\n",
    "# vocab_size = 3000 # this can also be tuned (speed vs. accuracy)\n",
    "# embedding_size = 50 # another parameter to tune (speed vs. accuracy)\n",
    "# lstm_output_size = 32 # tune to how many output features\n",
    "\n",
    "# model = Sequential()\n",
    "# model.add(Embedding(vocab_size, embedding_size)) # empty!\n",
    "# model.add(LSTM(64, return_sequences=True))\n",
    "# model.add(LSTM(32))\n",
    "# model.add(Dense(lstm_output_size, activation='relu'))\n",
    "# model.add(Dense(1, activation='sigmoid')) # binary classifier\n",
    "# model.summary()"
   ]
  },
  {
   "cell_type": "code",
   "execution_count": 43,
   "metadata": {},
   "outputs": [
    {
     "name": "stderr",
     "output_type": "stream",
     "text": [
      "C:\\Users\\issohl\\AppData\\Local\\conda\\conda\\envs\\mldds03\\lib\\site-packages\\ipykernel_launcher.py:8: DeprecationWarning: Call to deprecated `wv` (Attribute will be removed in 4.0.0, use self instead).\n",
      "  \n",
      "C:\\Users\\issohl\\AppData\\Local\\conda\\conda\\envs\\mldds03\\lib\\site-packages\\ipykernel_launcher.py:8: DeprecationWarning: Call to deprecated `syn0` (Attribute will be removed in 4.0.0, use self.wv.vectors instead).\n",
      "  \n"
     ]
    },
    {
     "name": "stdout",
     "output_type": "stream",
     "text": [
      "_________________________________________________________________\n",
      "Layer (type)                 Output Shape              Param #   \n",
      "=================================================================\n",
      "embedding_1 (Embedding)      (None, None, 25)          29837850  \n",
      "_________________________________________________________________\n",
      "lstm_1 (LSTM)                (None, None, 25)          5100      \n",
      "_________________________________________________________________\n",
      "lstm_2 (LSTM)                (None, 32)                7424      \n",
      "_________________________________________________________________\n",
      "dense_1 (Dense)              (None, 32)                1056      \n",
      "_________________________________________________________________\n",
      "dense_2 (Dense)              (None, 1)                 33        \n",
      "=================================================================\n",
      "Total params: 29,851,463\n",
      "Trainable params: 29,851,463\n",
      "Non-trainable params: 0\n",
      "_________________________________________________________________\n"
     ]
    }
   ],
   "source": [
    "# plaidml.keras\n",
    "from keras.models import Sequential\n",
    "from keras.layers import Embedding, LSTM, Dense\n",
    "\n",
    "embedding_size = 25 # if using \"glove-twitter-25\"\n",
    "# embedding_size = 300 # if using \"word2vec-google-news-300\"\n",
    "vocab_size = len(model.vocab)\n",
    "pretrained_weights = model.wv.syn0\n",
    "lstm_output_size = 32 # tune to how many output features\n",
    "\n",
    "model_keras = Sequential()\n",
    "model_keras.add(Embedding(input_dim=vocab_size, output_dim=embedding_size,\n",
    "                          weights=[pretrained_weights]))\n",
    "model_keras.add(LSTM(units=embedding_size, return_sequences=True))\n",
    "model_keras.add(LSTM(32))\n",
    "model_keras.add(Dense(lstm_output_size, activation='relu'))\n",
    "model_keras.add(Dense(1, activation='sigmoid')) # binary classifier\n",
    "model_keras.summary()"
   ]
  },
  {
   "cell_type": "code",
   "execution_count": null,
   "metadata": {},
   "outputs": [],
   "source": []
  },
  {
   "cell_type": "code",
   "execution_count": 44,
   "metadata": {},
   "outputs": [
    {
     "name": "stderr",
     "output_type": "stream",
     "text": [
      "C:\\Users\\issohl\\AppData\\Local\\conda\\conda\\envs\\mldds03\\lib\\site-packages\\ipykernel_launcher.py:6: DeprecationWarning: Call to deprecated `wv` (Attribute will be removed in 4.0.0, use self instead).\n",
      "  \n",
      "C:\\Users\\issohl\\AppData\\Local\\conda\\conda\\envs\\mldds03\\lib\\site-packages\\ipykernel_launcher.py:6: DeprecationWarning: Call to deprecated `syn0` (Attribute will be removed in 4.0.0, use self.wv.vectors instead).\n",
      "  \n"
     ]
    },
    {
     "data": {
      "text/plain": [
       "array([[ 0.62415 ,  0.62476 , -0.082335, ..., -0.48469 ,  0.40078 ,\n",
       "         0.75345 ],\n",
       "       [ 0.69586 , -1.1469  , -0.41797 , ..., -0.67877 ,  0.7061  ,\n",
       "         0.40833 ],\n",
       "       [ 1.1242  ,  0.054519, -0.037362, ..., -0.5268  , -0.047166,\n",
       "         0.71549 ],\n",
       "       ...,\n",
       "       [ 2.3229  , -1.8482  , -0.83149 , ..., -1.1397  ,  1.4996  ,\n",
       "         3.1768  ],\n",
       "       [-0.44589 , -3.5589  , -0.25854 , ..., -0.67204 ,  3.4037  ,\n",
       "        -0.16321 ],\n",
       "       [-2.5807  , -1.0965  , -0.59056 , ...,  1.7123  ,  0.79867 ,\n",
       "         0.32424 ]], dtype=float32)"
      ]
     },
     "execution_count": 44,
     "metadata": {},
     "output_type": "execute_result"
    }
   ],
   "source": [
    "# These are the pre-trained word vectors that we\n",
    "# pass into the Embedding Layer to be initialized\n",
    "#\n",
    "# Unlike in Day 18, where we just used an empty (untrained) \n",
    "# Embedding Layer, here we use the Word2Vec mapping\n",
    "model.wv.syn0"
   ]
  },
  {
   "cell_type": "code",
   "execution_count": 45,
   "metadata": {},
   "outputs": [
    {
     "name": "stdout",
     "output_type": "stream",
     "text": [
      "(25000, 238)\n"
     ]
    }
   ],
   "source": [
    "# Same as Day 18, we need to do this:\n",
    "# Feature Engineering: make sure sequences are same length (window_size)\n",
    "# before feeding into Keras\n",
    "from keras.preprocessing import sequence\n",
    "\n",
    "# pads or truncates the sequences\n",
    "# Note: maybe truncating='post' because earlier words may be\n",
    "# useful for semantic meaning\n",
    "# Note: if you are doing text prediction, then later words are\n",
    "# more useful for prediction\n",
    "Z_train = sequence.pad_sequences(Z_train, maxlen=window_size)\n",
    "Z_test = sequence.pad_sequences(Z_test, maxlen=window_size)\n",
    "\n",
    "print(Z_train.shape)"
   ]
  },
  {
   "cell_type": "code",
   "execution_count": 46,
   "metadata": {},
   "outputs": [],
   "source": [
    "# Train\n",
    "# Note: no sparse_binary_crossentropy\n",
    "# For multi-class, try sparse_categorical_crossentropy\n",
    "model_keras.compile('rmsprop', loss='binary_crossentropy',\n",
    "                    metrics=['accuracy'])"
   ]
  },
  {
   "cell_type": "code",
   "execution_count": 47,
   "metadata": {},
   "outputs": [
    {
     "name": "stdout",
     "output_type": "stream",
     "text": [
      "Train on 20000 samples, validate on 5000 samples\n",
      "Epoch 1/5\n",
      "20000/20000 [==============================] - 296s 15ms/step - loss: 0.6928 - acc: 0.5097 - val_loss: 0.6910 - val_acc: 0.5110\n",
      "Epoch 2/5\n",
      "20000/20000 [==============================] - 294s 15ms/step - loss: 0.6719 - acc: 0.5518 - val_loss: 0.6595 - val_acc: 0.5754\n",
      "Epoch 3/5\n",
      "20000/20000 [==============================] - 294s 15ms/step - loss: 0.5961 - acc: 0.6904 - val_loss: 0.5471 - val_acc: 0.7588\n",
      "Epoch 4/5\n",
      "20000/20000 [==============================] - 295s 15ms/step - loss: 0.5049 - acc: 0.7752 - val_loss: 0.4461 - val_acc: 0.7994\n",
      "Epoch 5/5\n",
      "20000/20000 [==============================] - 296s 15ms/step - loss: 0.3852 - acc: 0.8370 - val_loss: 0.3858 - val_acc: 0.8264\n"
     ]
    }
   ],
   "source": [
    "from keras.callbacks import TensorBoard, EarlyStopping\n",
    "import time\n",
    "\n",
    "tensorboard = TensorBoard(log_dir='logs/imdb_lstm_word2vec%d' % time.time())\n",
    "earlystop = EarlyStopping(patience=1)\n",
    "\n",
    "history = model_keras.fit(Z_train, y_train, batch_size=32, epochs=5,\n",
    "                          callbacks=[tensorboard, earlystop],\n",
    "                          validation_split=0.2)"
   ]
  },
  {
   "cell_type": "code",
   "execution_count": 49,
   "metadata": {},
   "outputs": [
    {
     "name": "stdout",
     "output_type": "stream",
     "text": [
      "25000/25000 [==============================] - 101s 4ms/step\n",
      "              precision    recall  f1-score   support\n",
      "\n",
      "           0       0.87      0.77      0.82     12500\n",
      "           1       0.80      0.89      0.84     12500\n",
      "\n",
      "   micro avg       0.83      0.83      0.83     25000\n",
      "   macro avg       0.83      0.83      0.83     25000\n",
      "weighted avg       0.83      0.83      0.83     25000\n",
      "\n",
      "[[ 9645  2855]\n",
      " [ 1426 11074]]\n"
     ]
    }
   ],
   "source": [
    "# To be continued\n",
    "\n",
    "# Score\n",
    "model_keras.evaluate(Z_test, y_test)\n",
    "\n",
    "# Predict\n",
    "pred = model_keras.predict_classes(Z_test)\n",
    "\n",
    "from sklearn.metrics import confusion_matrix, classification_report\n",
    "print(classification_report(y_test, pred))\n",
    "print(confusion_matrix(y_test, pred))"
   ]
  },
  {
   "cell_type": "code",
   "execution_count": null,
   "metadata": {},
   "outputs": [],
   "source": []
  },
  {
   "cell_type": "code",
   "execution_count": null,
   "metadata": {},
   "outputs": [],
   "source": []
  },
  {
   "cell_type": "code",
   "execution_count": 163,
   "metadata": {},
   "outputs": [
    {
     "name": "stderr",
     "output_type": "stream",
     "text": [
      "C:\\Users\\issohl\\AppData\\Local\\Continuum\\miniconda3\\envs\\mldds03\\lib\\site-packages\\ipykernel_launcher.py:9: DeprecationWarning: Call to deprecated `wv` (Attribute will be removed in 4.0.0, use self instead).\n",
      "  if __name__ == '__main__':\n",
      "C:\\Users\\issohl\\AppData\\Local\\Continuum\\miniconda3\\envs\\mldds03\\lib\\site-packages\\ipykernel_launcher.py:9: DeprecationWarning: Call to deprecated `syn0` (Attribute will be removed in 4.0.0, use self.wv.vectors instead).\n",
      "  if __name__ == '__main__':\n"
     ]
    },
    {
     "name": "stdout",
     "output_type": "stream",
     "text": [
      "_________________________________________________________________\n",
      "Layer (type)                 Output Shape              Param #   \n",
      "=================================================================\n",
      "input_3 (InputLayer)         (None, 238)               0         \n",
      "_________________________________________________________________\n",
      "embedding_14 (Embedding)     (None, 238, 25)           29837850  \n",
      "_________________________________________________________________\n",
      "lstm_11 (LSTM)               (None, 238, 25)           5100      \n",
      "_________________________________________________________________\n",
      "lstm_12 (LSTM)               (None, 32)                7424      \n",
      "_________________________________________________________________\n",
      "dense_10 (Dense)             (None, 32)                1056      \n",
      "_________________________________________________________________\n",
      "dense_11 (Dense)             (None, 1)                 33        \n",
      "=================================================================\n",
      "Total params: 29,851,463\n",
      "Trainable params: 29,851,463\n",
      "Non-trainable params: 0\n",
      "_________________________________________________________________\n"
     ]
    }
   ],
   "source": [
    "# Example of Functional Keras API\n",
    "# https://keras.io/getting-started/functional-api-guide/\n",
    "#\n",
    "# Functional API is more flexible because you can create\n",
    "# models with multi-input and multi-outputs\n",
    "#\n",
    "# But it's more advanced.\n",
    "\n",
    "from keras.models import Input, Model\n",
    "from keras.layers import Embedding, LSTM, Dense\n",
    "\n",
    "embedding_size = 25 # if using \"glove-twitter-25\"\n",
    "# embedding_size = 300 # if using \"word2vec-google-news-300\"\n",
    "vocab_size = len(model.vocab)\n",
    "pretrained_weights = model.wv.syn0\n",
    "lstm_output_size = 32 # tune to how many output features\n",
    "\n",
    "inputs = Input(shape=(window_size,))\n",
    "x = Embedding(input_dim=vocab_size, output_dim=embedding_size,\n",
    "              weights=[pretrained_weights])(inputs)\n",
    "x = LSTM(units=embedding_size, return_sequences=True)(x)\n",
    "x = LSTM(32)(x)\n",
    "x = Dense(lstm_output_size, activation='relu')(x)\n",
    "predictions = Dense(1, activation='sigmoid')(x)\n",
    "\n",
    "# This creates a model that includes the layers\n",
    "model_keras_2 = Model(inputs=inputs, outputs=predictions)\n",
    "model_keras_2.summary()"
   ]
  },
  {
   "cell_type": "code",
   "execution_count": 164,
   "metadata": {},
   "outputs": [
    {
     "name": "stdout",
     "output_type": "stream",
     "text": [
      "Train on 20000 samples, validate on 5000 samples\n",
      "Epoch 1/2\n",
      "20000/20000 [==============================] - 458s 23ms/step - loss: 0.6934 - acc: 0.5079 - val_loss: 0.6918 - val_acc: 0.5174\n",
      "Epoch 2/2\n",
      "20000/20000 [==============================] - 479s 24ms/step - loss: 0.6893 - acc: 0.5256 - val_loss: 0.6860 - val_acc: 0.5352\n"
     ]
    }
   ],
   "source": [
    "# Train\n",
    "# Note: no sparse_binary_crossentropy\n",
    "# For multi-class, try sparse_categorical_crossentropy\n",
    "model_keras_2.compile('rmsprop', loss='binary_crossentropy',\n",
    "                    metrics=['accuracy'])\n",
    "\n",
    "tensorboard = TensorBoard(log_dir='logs/imdb_lstm_word2vec2%d' % time.time())\n",
    "earlystop = EarlyStopping(patience=1)\n",
    "\n",
    "history = model_keras_2.fit(Z_train, y_train, batch_size=32, epochs=2,\n",
    "                          callbacks=[tensorboard, earlystop],\n",
    "                          validation_split=0.2)"
   ]
  },
  {
   "cell_type": "code",
   "execution_count": null,
   "metadata": {},
   "outputs": [],
   "source": []
  },
  {
   "cell_type": "code",
   "execution_count": 11,
   "metadata": {},
   "outputs": [],
   "source": [
    "# FastText\n",
    "\n",
    "fasttext = api.load('fasttext-wiki-news-subwords-300')"
   ]
  },
  {
   "cell_type": "code",
   "execution_count": 12,
   "metadata": {},
   "outputs": [
    {
     "data": {
      "text/plain": [
       "[('nephew', 0.8700860738754272),\n",
       " ('aunt', 0.858253538608551),\n",
       " ('great-uncle', 0.8447549343109131),\n",
       " ('brother', 0.8296002149581909),\n",
       " ('grandfather', 0.8230972290039062),\n",
       " ('grand-uncle', 0.8104560375213623),\n",
       " ('cousin', 0.8091127276420593),\n",
       " ('brother-in-law', 0.8052440881729126),\n",
       " ('father', 0.7952302694320679),\n",
       " ('niece', 0.7879735231399536)]"
      ]
     },
     "execution_count": 12,
     "metadata": {},
     "output_type": "execute_result"
    }
   ],
   "source": [
    "fasttext.most_similar(\"uncle\")"
   ]
  },
  {
   "cell_type": "code",
   "execution_count": 13,
   "metadata": {},
   "outputs": [
    {
     "data": {
      "text/plain": [
       "0.14174642094878065"
      ]
     },
     "execution_count": 13,
     "metadata": {},
     "output_type": "execute_result"
    }
   ],
   "source": [
    "fasttext.distance(\"uncle\", \"aunt\")"
   ]
  },
  {
   "cell_type": "code",
   "execution_count": 14,
   "metadata": {},
   "outputs": [
    {
     "data": {
      "text/plain": [
       "0.16593439273413002"
      ]
     },
     "execution_count": 14,
     "metadata": {},
     "output_type": "execute_result"
    }
   ],
   "source": [
    "fasttext.distance(\"grandpa\", \"grandma\")"
   ]
  },
  {
   "cell_type": "code",
   "execution_count": 15,
   "metadata": {},
   "outputs": [
    {
     "data": {
      "text/plain": [
       "0.1880191581559827"
      ]
     },
     "execution_count": 15,
     "metadata": {},
     "output_type": "execute_result"
    }
   ],
   "source": [
    "fasttext.distance(\"man\", \"woman\")"
   ]
  },
  {
   "cell_type": "code",
   "execution_count": null,
   "metadata": {},
   "outputs": [],
   "source": []
  }
 ],
 "metadata": {
  "kernelspec": {
   "display_name": "Python 3",
   "language": "python",
   "name": "python3"
  },
  "language_info": {
   "codemirror_mode": {
    "name": "ipython",
    "version": 3
   },
   "file_extension": ".py",
   "mimetype": "text/x-python",
   "name": "python",
   "nbconvert_exporter": "python",
   "pygments_lexer": "ipython3",
   "version": "3.6.6"
  }
 },
 "nbformat": 4,
 "nbformat_minor": 2
}
