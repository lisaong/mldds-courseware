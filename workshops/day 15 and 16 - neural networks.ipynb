{
 "cells": [
  {
   "cell_type": "code",
   "execution_count": 50,
   "metadata": {},
   "outputs": [],
   "source": [
    "# Keras introduction\n",
    "#\n",
    "# Train an MLP with MNIST dataset\n",
    "\n",
    "# Reference:\n",
    "# https://github.com/keras-team/keras/blob/master/examples/mnist_mlp.py"
   ]
  },
  {
   "cell_type": "code",
   "execution_count": 51,
   "metadata": {},
   "outputs": [],
   "source": [
    "import keras"
   ]
  },
  {
   "cell_type": "code",
   "execution_count": 52,
   "metadata": {},
   "outputs": [],
   "source": [
    "# Data\n",
    "from keras.datasets import mnist\n",
    "\n",
    "(X_train, y_train), (X_test, y_test) = mnist.load_data()"
   ]
  },
  {
   "cell_type": "code",
   "execution_count": 53,
   "metadata": {},
   "outputs": [
    {
     "data": {
      "text/plain": [
       "(60000, 28, 28)"
      ]
     },
     "execution_count": 53,
     "metadata": {},
     "output_type": "execute_result"
    }
   ],
   "source": [
    "X_train.shape # training set size"
   ]
  },
  {
   "cell_type": "code",
   "execution_count": 54,
   "metadata": {},
   "outputs": [
    {
     "data": {
      "text/plain": [
       "(10000, 28, 28)"
      ]
     },
     "execution_count": 54,
     "metadata": {},
     "output_type": "execute_result"
    }
   ],
   "source": [
    "X_test.shape # test set size"
   ]
  },
  {
   "cell_type": "code",
   "execution_count": 55,
   "metadata": {},
   "outputs": [
    {
     "name": "stdout",
     "output_type": "stream",
     "text": [
      "ylabel: 5\n"
     ]
    },
    {
     "data": {
      "image/png": "[encoded data removed]",
      "text/plain": [
       "<Figure size 432x288 with 1 Axes>"
      ]
     },
     "metadata": {},
     "output_type": "display_data"
    }
   ],
   "source": [
    "# plot an image\n",
    "import matplotlib.pyplot as plt\n",
    "\n",
    "image = X_train[0] # image\n",
    "plt.imshow(image)\n",
    "print('ylabel:', y_train[0]) # label"
   ]
  },
  {
   "cell_type": "code",
   "execution_count": 61,
   "metadata": {},
   "outputs": [
    {
     "name": "stdout",
     "output_type": "stream",
     "text": [
      "60000 train samples\n",
      "10000 test samples\n"
     ]
    }
   ],
   "source": [
    "# MLP only receives vectors, so we flatten 28x28 to 784\n",
    "X_train = X_train.reshape(60000, 784) # n_samples, 784\n",
    "X_test = X_test.reshape(10000, 784) # n_samples, 784\n",
    "\n",
    "# Convert element datatype to float32 because Tensorflow prefers it\n",
    "# https://stackoverflow.com/questions/43406876/cant-use-float64-in-keras-with-tensorflow-backend\n",
    "X_train = X_train.astype('float32')\n",
    "X_test = X_test.astype('float32')\n",
    "\n",
    "# scale to between 0 and 1 because gradient descent is faster\n",
    "# image pixel values range from 0 to 255\n",
    "# (maybe try without this?)\n",
    "X_train /= 255\n",
    "X_test /= 255\n",
    "\n",
    "print(X_train.shape[0], 'train samples')\n",
    "print(X_test.shape[0], 'test samples')"
   ]
  },
  {
   "cell_type": "code",
   "execution_count": 62,
   "metadata": {},
   "outputs": [],
   "source": [
    "# convert class vectors to categorical vectors\n",
    "# 5 to [0., 0., 0., 0., 0., 1., 0., 0., 0., 0.]\n",
    "num_classes = 10 # 10 digits\n",
    "y_train = keras.utils.to_categorical(y_train, num_classes)\n",
    "y_test = keras.utils.to_categorical(y_test, num_classes)"
   ]
  },
  {
   "cell_type": "code",
   "execution_count": 63,
   "metadata": {},
   "outputs": [],
   "source": [
    "# Training workflow\n",
    "# 1. Define initial neural net\n",
    "#    a. Setup Sequential model (pick layers, pooling, classifier)\n",
    "#    b. compile model (pick optimiser, loss)\n",
    "#\n",
    "# 2. Setup monitoring (tensorboard) for learning curve - overfit, underfit\n",
    "#    - tensorboard (plaidml)\n",
    "#    - early stopping\n",
    "#    - model checkpoint (auto save model)\n",
    "#\n",
    "# 3. Train\n",
    "#     - fit()\n",
    "#     - Unlike sklearn, fit is cumulative (continues progress if you\n",
    "#       call repeatedly)\n",
    "#\n",
    "#     SKlearn:\n",
    "#         model.fit()\n",
    "#         model.fit() # most likely start from scratch (not resume)\n",
    "#\n",
    "#     Keras:\n",
    "#         model.fit(epochs=100) \n",
    "#         model.fit(epochs=100) # resumes training from epoch 100\n",
    "#\n",
    "# 4. Update neural net (like step 1a, 1b)\n",
    "# 5. Go to step 3\n"
   ]
  },
  {
   "cell_type": "code",
   "execution_count": 64,
   "metadata": {},
   "outputs": [
    {
     "name": "stdout",
     "output_type": "stream",
     "text": [
      "_________________________________________________________________\n",
      "Layer (type)                 Output Shape              Param #   \n",
      "=================================================================\n",
      "dense_3 (Dense)              (None, 512)               401920    \n",
      "_________________________________________________________________\n",
      "dense_4 (Dense)              (None, 10)                5130      \n",
      "=================================================================\n",
      "Total params: 407,050\n",
      "Trainable params: 407,050\n",
      "Non-trainable params: 0\n",
      "_________________________________________________________________\n"
     ]
    }
   ],
   "source": [
    "# Training workflow\n",
    "# 1. Define initial neural net\n",
    "#    a. Setup Sequential model (pick layers, pooling, classifier)\n",
    "#    b. compile model (pick optimiser, loss)\n",
    "\n",
    "# https://keras.io/getting-started/sequential-model-guide/\n",
    "from keras.models import Sequential\n",
    "from keras.layers import Dense\n",
    "\n",
    "model = Sequential()\n",
    "model.add(Dense(512, activation='relu', input_shape=(784,)))\n",
    "model.add(Dense(num_classes, activation='softmax'))\n",
    "\n",
    "model.summary() # inspect model parameters"
   ]
  },
  {
   "cell_type": "code",
   "execution_count": 65,
   "metadata": {},
   "outputs": [
    {
     "data": {
      "text/plain": [
       "407050"
      ]
     },
     "execution_count": 65,
     "metadata": {},
     "output_type": "execute_result"
    }
   ],
   "source": [
    "# Dense: in * out + bias\n",
    "# bias = out\n",
    "784*512 + 512 + 512*10 + 10"
   ]
  },
  {
   "cell_type": "code",
   "execution_count": 66,
   "metadata": {},
   "outputs": [],
   "source": [
    "# b. compile model (pick optimiser, loss, metrics)\n",
    "#\n",
    "# https://keras.io/getting-started/sequential-model-guide/#compilation\n",
    "# https://keras.io/optimizers/\n",
    "# https://keras.io/losses/\n",
    "\n",
    "model.compile('sgd', loss='categorical_crossentropy', metrics=['accuracy'])"
   ]
  },
  {
   "cell_type": "code",
   "execution_count": 67,
   "metadata": {},
   "outputs": [],
   "source": [
    "# 2. Setup monitoring (tensorboard) for learning curve - overfit, underfit\n",
    "#    - tensorboard (plaidml use matplotlib)\n",
    "#    - early stopping\n",
    "#    - model checkpoint (auto save model)\n",
    "\n",
    "# Tensorboard side\n",
    "# Run from anaconda prompt, from the current directory\n",
    "# (mldds01) cd mldds-courseware/03_TextImage\n",
    "# (mldds01) tensorboard --logdir=logs --host=0.0.0.0\n",
    "\n",
    "# Keras\n",
    "from keras.callbacks import TensorBoard\n",
    "import time # to get unique timestamp for logs\n",
    "\n",
    "# creates a subfolder for our training project (mnist_mlp)\n",
    "# creates a timestamped folder each training session\n",
    "# e.g. logs/mnist_mlp/1535166088\n",
    "tensorboard = TensorBoard(log_dir='./logs/mnist_mlp/%d' % time.time())"
   ]
  },
  {
   "cell_type": "code",
   "execution_count": 71,
   "metadata": {},
   "outputs": [],
   "source": [
    "# Advanced: custom callback\n",
    "# https://keras.io/callbacks/\n",
    "\n",
    "# class LossHistory(keras.callbacks.Callback):\n",
    "#    def on_train_begin(self, logs={}):\n",
    "#        self.losses = []\n",
    "\n",
    "#    def on_batch_end(self, batch, logs={}):\n",
    "#        self.losses.append(logs.get('loss2'))\n",
    "\n",
    "# loss_history = LossHistory()"
   ]
  },
  {
   "cell_type": "code",
   "execution_count": 72,
   "metadata": {},
   "outputs": [
    {
     "name": "stdout",
     "output_type": "stream",
     "text": [
      "Train on 45000 samples, validate on 15000 samples\n",
      "Epoch 1/10\n",
      "45000/45000 [==============================] - 6s 126us/step - loss: 0.2936 - acc: 0.9187 - val_loss: 0.2858 - val_acc: 0.9205\n",
      "Epoch 2/10\n",
      "45000/45000 [==============================] - 6s 128us/step - loss: 0.2852 - acc: 0.9208 - val_loss: 0.2797 - val_acc: 0.9225\n",
      "Epoch 3/10\n",
      "45000/45000 [==============================] - 6s 136us/step - loss: 0.2777 - acc: 0.9225 - val_loss: 0.2724 - val_acc: 0.9231\n",
      "Epoch 4/10\n",
      "45000/45000 [==============================] - 6s 123us/step - loss: 0.2706 - acc: 0.9248 - val_loss: 0.2671 - val_acc: 0.9249\n",
      "Epoch 5/10\n",
      "45000/45000 [==============================] - 6s 125us/step - loss: 0.2640 - acc: 0.9264 - val_loss: 0.2622 - val_acc: 0.9267\n",
      "Epoch 6/10\n",
      "45000/45000 [==============================] - 5s 122us/step - loss: 0.2580 - acc: 0.9281 - val_loss: 0.2566 - val_acc: 0.9283\n",
      "Epoch 7/10\n",
      "45000/45000 [==============================] - 6s 124us/step - loss: 0.2523 - acc: 0.9299 - val_loss: 0.2518 - val_acc: 0.9290\n",
      "Epoch 8/10\n",
      "45000/45000 [==============================] - 5s 121us/step - loss: 0.2468 - acc: 0.9319 - val_loss: 0.2471 - val_acc: 0.9315\n",
      "Epoch 9/10\n",
      "45000/45000 [==============================] - 6s 130us/step - loss: 0.2417 - acc: 0.9332 - val_loss: 0.2431 - val_acc: 0.9323\n",
      "Epoch 10/10\n",
      "45000/45000 [==============================] - 6s 137us/step - loss: 0.2368 - acc: 0.9342 - val_loss: 0.2388 - val_acc: 0.9337\n"
     ]
    }
   ],
   "source": [
    "# 3. Train\n",
    "#     - fit()\n",
    "tensorboard = TensorBoard(log_dir='./logs/mnist_mlp/%d' % time.time())\n",
    "history = model.fit(X_train, y_train, batch_size=128, epochs=10,\n",
    "                    callbacks=[tensorboard], validation_split=.25)\n",
    "\n",
    "# Some GPUs will run out of memory for large batch sizes\n",
    "#\n",
    "# GEMV error: reduce batch_size (64, 32, ...)"
   ]
  },
  {
   "cell_type": "code",
   "execution_count": null,
   "metadata": {},
   "outputs": [],
   "source": []
  },
  {
   "cell_type": "code",
   "execution_count": 56,
   "metadata": {},
   "outputs": [
    {
     "name": "stdout",
     "output_type": "stream",
     "text": [
      "[1.2227737064255608, 0.5944019526587592, 0.46653657539155746, 0.40998556911150613, 0.3765012309392293, 0.3531170623143514, 0.3354952345689138, 0.3212888664298587, 0.30933087985515595, 0.2990037900818719]\n"
     ]
    },
    {
     "data": {
      "text/plain": [
       "[<matplotlib.lines.Line2D at 0x25f174079e8>]"
      ]
     },
     "execution_count": 56,
     "metadata": {},
     "output_type": "execute_result"
    },
    {
     "data": {
      "image/png": "[encoded data removed]",
      "text/plain": [
       "<Figure size 432x288 with 1 Axes>"
      ]
     },
     "metadata": {},
     "output_type": "display_data"
    }
   ],
   "source": [
    "print(history.history['loss'])\n",
    "\n",
    "plt.plot(history.history['loss'])"
   ]
  },
  {
   "cell_type": "code",
   "execution_count": 28,
   "metadata": {},
   "outputs": [
    {
     "data": {
      "text/plain": [
       "['loss', 'acc']"
      ]
     },
     "execution_count": 28,
     "metadata": {},
     "output_type": "execute_result"
    }
   ],
   "source": [
    "model.metrics_names"
   ]
  },
  {
   "cell_type": "code",
   "execution_count": 29,
   "metadata": {},
   "outputs": [
    {
     "name": "stdout",
     "output_type": "stream",
     "text": [
      "10000/10000 [==============================] - 1s 100us/step\n",
      "[0.2833544176340103, 0.922]\n"
     ]
    }
   ],
   "source": [
    "score = model.evaluate(X_test, y_test) # like sklearn's score\n",
    "print(score)"
   ]
  },
  {
   "cell_type": "code",
   "execution_count": 79,
   "metadata": {},
   "outputs": [
    {
     "name": "stdout",
     "output_type": "stream",
     "text": [
      "classes [7 2 1 ... 4 5 6] (10000,)\n",
      "(10000, 10)\n",
      "probabilities [[1.2510033e-04 3.0853192e-07 2.6768897e-04 ... 9.9693131e-01\n",
      "  3.2851200e-05 7.9694088e-04]\n",
      " [1.7474052e-03 1.3598341e-04 9.6223491e-01 ... 5.3287046e-08\n",
      "  2.1279543e-03 3.6829687e-07]\n",
      " [5.9518345e-05 9.7574019e-01 8.2809050e-03 ... 3.4405554e-03\n",
      "  3.5712507e-03 5.2651012e-04]\n",
      " ...\n",
      " [9.8891792e-07 2.1192882e-06 2.8916935e-05 ... 1.5330531e-03\n",
      "  6.2568905e-03 2.7574819e-02]\n",
      " [4.0193557e-04 7.4422470e-04 1.7318799e-04 ... 2.5269368e-05\n",
      "  3.4752820e-02 3.9526454e-05]\n",
      " [9.9844670e-05 5.0947486e-09 7.3429313e-04 ... 4.2080792e-09\n",
      "  1.8362721e-06 2.2983092e-07]]\n"
     ]
    }
   ],
   "source": [
    "pred = model.predict_classes(X_test) # return classes\n",
    "\n",
    "prob = model.predict(X_test) # returns probabilities\n",
    "\n",
    "print('classes', pred, pred.shape)\n",
    "print(prob.shape)\n",
    "print('probabilities', prob)\n",
    "\n",
    "# also probabilities because Sequential is a general keras model\n",
    "# prob2 = model.predict_proba(X_test)\n",
    "# print(prob2)"
   ]
  },
  {
   "cell_type": "code",
   "execution_count": 83,
   "metadata": {},
   "outputs": [
    {
     "name": "stdout",
     "output_type": "stream",
     "text": [
      "truth [0. 0. 0. 0. 0. 0. 0. 1. 0. 0.]\n",
      "prediction 7\n",
      "probability [1.2510033e-04 3.0853192e-07 2.6768897e-04 1.7600271e-03 4.0971740e-06\n",
      " 8.1567057e-05 1.4816885e-07 9.9693131e-01 3.2851200e-05 7.9694088e-04]\n",
      "predicted label 7\n",
      "truth label 7\n"
     ]
    }
   ],
   "source": [
    "print('truth', y_test[0])\n",
    "print('prediction', pred[0])\n",
    "print('probability', prob[0])\n",
    "\n",
    "import numpy as np\n",
    "print('predicted label', np.argmax(prob[0])) # get maximum value's index\n",
    "print('truth label', np.argmax(y_test[0]))"
   ]
  },
  {
   "cell_type": "code",
   "execution_count": 89,
   "metadata": {},
   "outputs": [
    {
     "name": "stdout",
     "output_type": "stream",
     "text": [
      "predicted labels [7 2 1 ... 4 5 6]\n",
      "truth labels [7 2 1 ... 4 5 6]\n",
      "             precision    recall  f1-score   support\n",
      "\n",
      "          0       0.95      0.98      0.97       980\n",
      "          1       0.98      0.98      0.98      1135\n",
      "          2       0.94      0.92      0.93      1032\n",
      "          3       0.92      0.94      0.93      1010\n",
      "          4       0.93      0.95      0.94       982\n",
      "          5       0.93      0.90      0.91       892\n",
      "          6       0.94      0.96      0.95       958\n",
      "          7       0.94      0.93      0.93      1028\n",
      "          8       0.92      0.91      0.91       974\n",
      "          9       0.92      0.91      0.92      1009\n",
      "\n",
      "avg / total       0.94      0.94      0.94     10000\n",
      "\n",
      "[[ 961    0    1    1    0    4    9    1    3    0]\n",
      " [   0 1113    2    2    0    1    4    2   11    0]\n",
      " [   6    4  948   13   11    4    9   12   21    4]\n",
      " [   0    1   15  947    0   18    2   10   12    5]\n",
      " [   1    1    4    0  931    0   11    2    4   28]\n",
      " [  10    2    4   31    4  800   13    5   16    7]\n",
      " [  11    3    3    2    9   10  916    2    2    0]\n",
      " [   4    7   25    5    6    0    0  955    2   24]\n",
      " [   7    3    4   22    8   15   11   11  883   10]\n",
      " [  10    7    1   11   31    7    1   16    8  917]]\n"
     ]
    }
   ],
   "source": [
    "from sklearn.metrics import confusion_matrix, classification_report\n",
    "\n",
    "print('predicted labels', pred) # from model.predict_classes\n",
    "print('truth labels', np.argmax(y_test, axis=1))\n",
    "\n",
    "y_true = np.argmax(y_test, axis=1)\n",
    "print(classification_report(y_true, pred))\n",
    "print(confusion_matrix(y_true, pred))"
   ]
  },
  {
   "cell_type": "code",
   "execution_count": null,
   "metadata": {},
   "outputs": [],
   "source": []
  },
  {
   "cell_type": "code",
   "execution_count": 91,
   "metadata": {},
   "outputs": [
    {
     "data": {
      "text/plain": [
       "[<keras.layers.core.Dense at 0x25f15c94550>,\n",
       " <keras.layers.core.Dense at 0x25f176ae828>]"
      ]
     },
     "execution_count": 91,
     "metadata": {},
     "output_type": "execute_result"
    }
   ],
   "source": [
    "# model = Sequential()\n",
    "# model.add(Dense(512, activation='relu', input_shape=(784,)))\n",
    "# model.add(Dense(num_classes, activation='softmax'))\n",
    "\n",
    "model.layers"
   ]
  },
  {
   "cell_type": "code",
   "execution_count": 95,
   "metadata": {},
   "outputs": [
    {
     "data": {
      "text/plain": [
       "<keras.layers.core.Dense at 0x25f15c94550>"
      ]
     },
     "execution_count": 95,
     "metadata": {},
     "output_type": "execute_result"
    }
   ],
   "source": [
    "model.layers[0]"
   ]
  },
  {
   "cell_type": "code",
   "execution_count": 122,
   "metadata": {},
   "outputs": [
    {
     "name": "stdout",
     "output_type": "stream",
     "text": [
      "7\n"
     ]
    },
    {
     "data": {
      "text/plain": [
       "<matplotlib.image.AxesImage at 0x25f25ad2d30>"
      ]
     },
     "execution_count": 122,
     "metadata": {},
     "output_type": "execute_result"
    },
    {
     "data": {
      "image/png": "[encoded data removed]",
      "text/plain": [
       "<Figure size 432x288 with 1 Axes>"
      ]
     },
     "metadata": {},
     "output_type": "display_data"
    }
   ],
   "source": [
    "from keras.models import Model\n",
    "\n",
    "# test input - first test image\n",
    "data = X_test[0]\n",
    "data = np.expand_dims(data, axis=0) # (784,) => (1, 784)\n",
    "\n",
    "# intermediate model with input and first Dense layer only\n",
    "int_model = Model(inputs=model.input,\n",
    "                  outputs=model.layers[0].output)\n",
    "\n",
    "output1 = int_model.predict(data)\n",
    "\n",
    "output1 = output1.reshape(16, -1) # make it look like image\n",
    "print(np.argmax(y_test[0])) # show original label\n",
    "plt.imshow(output1) # show image"
   ]
  },
  {
   "cell_type": "code",
   "execution_count": 123,
   "metadata": {},
   "outputs": [
    {
     "name": "stdout",
     "output_type": "stream",
     "text": [
      "7\n"
     ]
    },
    {
     "data": {
      "text/plain": [
       "<matplotlib.image.AxesImage at 0x25f1801ad30>"
      ]
     },
     "execution_count": 123,
     "metadata": {},
     "output_type": "execute_result"
    },
    {
     "data": {
      "image/png": "[encoded data removed]",
      "text/plain": [
       "<Figure size 432x288 with 1 Axes>"
      ]
     },
     "metadata": {},
     "output_type": "display_data"
    }
   ],
   "source": [
    "output2 = model.predict(data)\n",
    "\n",
    "output2 = output2.reshape(1, -1) # make it look like image\n",
    "print(np.argmax(y_test[0])) # show original label\n",
    "plt.imshow(output2) # show image"
   ]
  },
  {
   "cell_type": "code",
   "execution_count": null,
   "metadata": {},
   "outputs": [],
   "source": []
  },
  {
   "cell_type": "code",
   "execution_count": 120,
   "metadata": {},
   "outputs": [],
   "source": [
    "# save model weights\n",
    "\n",
    "model.save('mnist_mlp.h5') # HDF5 format"
   ]
  },
  {
   "cell_type": "code",
   "execution_count": 140,
   "metadata": {},
   "outputs": [],
   "source": [
    "model.compile??"
   ]
  },
  {
   "cell_type": "code",
   "execution_count": 121,
   "metadata": {},
   "outputs": [
    {
     "name": "stdout",
     "output_type": "stream",
     "text": [
      " Volume in drive D is Local Disk\n",
      " Volume Serial Number is 4A49-4F1A\n",
      "\n",
      " Directory of D:\\mldds04\\mldds-courseware\\03_TextImage\n",
      "\n",
      "05/09/2018  11:18 AM         3,277,872 mnist_mlp.h5\n",
      "               1 File(s)      3,277,872 bytes\n",
      "               0 Dir(s)  242,237,054,976 bytes free\n"
     ]
    }
   ],
   "source": [
    "!dir *.h5"
   ]
  },
  {
   "cell_type": "code",
   "execution_count": null,
   "metadata": {},
   "outputs": [],
   "source": [
    "!ls *.h5 # mac"
   ]
  },
  {
   "cell_type": "code",
   "execution_count": null,
   "metadata": {},
   "outputs": [],
   "source": []
  },
  {
   "cell_type": "markdown",
   "metadata": {},
   "source": [
    "## Appendix - Regression model"
   ]
  },
  {
   "cell_type": "code",
   "execution_count": 129,
   "metadata": {},
   "outputs": [
    {
     "name": "stdout",
     "output_type": "stream",
     "text": [
      "Downloading data from https://s3.amazonaws.com/keras-datasets/boston_housing.npz\n",
      "57344/57026 [==============================] - 2s 26us/step\n"
     ]
    }
   ],
   "source": [
    "from keras.datasets import boston_housing\n",
    "\n",
    "(X_train, y_train), (X_test, y_test) = boston_housing.load_data()"
   ]
  },
  {
   "cell_type": "code",
   "execution_count": 134,
   "metadata": {},
   "outputs": [
    {
     "name": "stdout",
     "output_type": "stream",
     "text": [
      "number of training samples: 404\n",
      "number of features: 13\n"
     ]
    }
   ],
   "source": [
    "print('number of training samples:', X_train.shape[0])\n",
    "print('number of features:', X_train.shape[1])"
   ]
  },
  {
   "cell_type": "code",
   "execution_count": 161,
   "metadata": {},
   "outputs": [
    {
     "data": {
      "text/plain": [
       "array([  1.23247,   0.     ,   8.14   ,   0.     ,   0.538  ,   6.142  ,\n",
       "        91.7    ,   3.9769 ,   4.     , 307.     ,  21.     , 396.9    ,\n",
       "        18.72   ])"
      ]
     },
     "execution_count": 161,
     "metadata": {},
     "output_type": "execute_result"
    }
   ],
   "source": [
    "X_train[0]"
   ]
  },
  {
   "cell_type": "code",
   "execution_count": null,
   "metadata": {},
   "outputs": [],
   "source": [
    "# Training workflow\n",
    "# 1. Define initial neural net\n",
    "#    a. Setup Sequential model (pick layers, pooling, classifier)\n",
    "#    b. compile model (pick optimiser, loss)\n",
    "#\n",
    "# 2. Setup monitoring (tensorboard) for learning curve - overfit, underfit\n",
    "#\n",
    "# 3. Train\n",
    "#     - fit()\n",
    "#\n",
    "# 4. Update neural net (like step 1a, 1b)\n",
    "# 5. Go to step 3"
   ]
  },
  {
   "cell_type": "code",
   "execution_count": 190,
   "metadata": {},
   "outputs": [
    {
     "name": "stdout",
     "output_type": "stream",
     "text": [
      "_________________________________________________________________\n",
      "Layer (type)                 Output Shape              Param #   \n",
      "=================================================================\n",
      "dense_18 (Dense)             (None, 64)                896       \n",
      "_________________________________________________________________\n",
      "dense_19 (Dense)             (None, 1)                 65        \n",
      "=================================================================\n",
      "Total params: 961\n",
      "Trainable params: 961\n",
      "Non-trainable params: 0\n",
      "_________________________________________________________________\n"
     ]
    }
   ],
   "source": [
    "# 1. Define initial neural net\n",
    "#    a. Setup Sequential model (pick layers, pooling, classifier)\n",
    "\n",
    "num_features = 13 # X_train.shape[1]\n",
    "\n",
    "model_reg = Sequential()\n",
    "model_reg.add(Dense(64, activation='relu', input_shape=(num_features,)))\n",
    "model_reg.add(Dense(1))\n",
    "model_reg.summary()"
   ]
  },
  {
   "cell_type": "code",
   "execution_count": 205,
   "metadata": {},
   "outputs": [],
   "source": [
    "#    b. compile model (pick optimiser, loss)\n",
    "\n",
    "from keras.optimizers import SGD\n",
    "\n",
    "model_reg.compile(optimizer='sgd', loss='mse', metrics=['mse'])"
   ]
  },
  {
   "cell_type": "code",
   "execution_count": 206,
   "metadata": {},
   "outputs": [
    {
     "name": "stdout",
     "output_type": "stream",
     "text": [
      "Train on 323 samples, validate on 81 samples\n",
      "Epoch 1/300\n",
      "323/323 [==============================] - 0s 467us/step - loss: 84.2212 - mean_squared_error: 84.2212 - val_loss: 88.4266 - val_mean_squared_error: 88.4266\n",
      "Epoch 2/300\n",
      "323/323 [==============================] - 0s 74us/step - loss: 84.1958 - mean_squared_error: 84.1958 - val_loss: 88.6624 - val_mean_squared_error: 88.6624\n",
      "Epoch 3/300\n",
      "323/323 [==============================] - 0s 50us/step - loss: 84.2264 - mean_squared_error: 84.2264 - val_loss: 88.9926 - val_mean_squared_error: 88.9926\n"
     ]
    },
    {
     "data": {
      "text/plain": [
       "<keras.callbacks.History at 0x25f0d244cc0>"
      ]
     },
     "execution_count": 206,
     "metadata": {},
     "output_type": "execute_result"
    }
   ],
   "source": [
    "# 2. Setup monitoring (tensorboard) for learning curve - overfit, underfit\n",
    "from keras.callbacks import TensorBoard\n",
    "\n",
    "tensorboard = TensorBoard(log_dir='./logs/boston_mlp/%d' % time.time())\n",
    "earlystop = EarlyStopping(patience=2)\n",
    "\n",
    "model_reg.fit(X_train, y_train, batch_size=32, epochs=300,\n",
    "              callbacks=[tensorboard, earlystop],\n",
    "              validation_split=.20)\n"
   ]
  },
  {
   "cell_type": "code",
   "execution_count": 207,
   "metadata": {},
   "outputs": [
    {
     "name": "stdout",
     "output_type": "stream",
     "text": [
      "102/102 [==============================] - 0s 147us/step\n"
     ]
    },
    {
     "data": {
      "text/plain": [
       "[84.99111280254289, 84.99111280254289]"
      ]
     },
     "execution_count": 207,
     "metadata": {},
     "output_type": "execute_result"
    }
   ],
   "source": [
    "model_reg.evaluate(X_test, y_test)"
   ]
  },
  {
   "cell_type": "code",
   "execution_count": 201,
   "metadata": {},
   "outputs": [],
   "source": [
    "EarlyStopping?"
   ]
  },
  {
   "cell_type": "code",
   "execution_count": null,
   "metadata": {},
   "outputs": [],
   "source": []
  }
 ],
 "metadata": {
  "kernelspec": {
   "display_name": "Python 3",
   "language": "python",
   "name": "python3"
  },
  "language_info": {
   "codemirror_mode": {
    "name": "ipython",
    "version": 3
   },
   "file_extension": ".py",
   "mimetype": "text/x-python",
   "name": "python",
   "nbconvert_exporter": "python",
   "pygments_lexer": "ipython3",
   "version": "3.6.5"
  }
 },
 "nbformat": 4,
 "nbformat_minor": 2
}
