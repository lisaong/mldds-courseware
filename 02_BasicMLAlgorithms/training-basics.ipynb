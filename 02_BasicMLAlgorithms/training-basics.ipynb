{
 "cells": [
  {
   "cell_type": "markdown",
   "metadata": {},
   "source": [
    "![training](assets/training-basics/puppy-training.jpg)\n",
    "\n",
    "(image: amazon)"
   ]
  },
  {
   "cell_type": "markdown",
   "metadata": {
    "slideshow": {
     "slide_type": "slide"
    }
   },
   "source": [
    "# Training basics"
   ]
  },
  {
   "cell_type": "markdown",
   "metadata": {
    "slideshow": {
     "slide_type": "slide"
    }
   },
   "source": [
    "Concepts in training models\n",
    "- Loss functions\n",
    "- Gradient descent\n",
    "- Overfitting, underfitting\n",
    "- Regularization\n",
    "- Cross-validation"
   ]
  },
  {
   "cell_type": "markdown",
   "metadata": {
    "slideshow": {
     "slide_type": "fragment"
    }
   },
   "source": [
    "Objective: a model that trains fast and performs well"
   ]
  },
  {
   "cell_type": "markdown",
   "metadata": {
    "slideshow": {
     "slide_type": "fragment"
    }
   },
   "source": [
    "Not an exhaustive list. We'll encounter more as we go over the different algorithms."
   ]
  },
  {
   "cell_type": "markdown",
   "metadata": {
    "slideshow": {
     "slide_type": "slide"
    }
   },
   "source": [
    "# Loss Functions\n",
    "\n",
    "What they are: a metric of how far away the predictions are from the truth\n",
    "\n",
    "For example:\n",
    "\n",
    "![MSE](http://scikit-learn.org/stable/_images/math/44f36557fef9b30b077b21550490a1b9a0ade154.png)"
   ]
  },
  {
   "cell_type": "markdown",
   "metadata": {
    "slideshow": {
     "slide_type": "fragment"
    }
   },
   "source": [
    "a.k.a.:\n",
    "- Objective function\n",
    "- Cost function\n",
    "- Error function"
   ]
  },
  {
   "cell_type": "markdown",
   "metadata": {
    "slideshow": {
     "slide_type": "slide"
    }
   },
   "source": [
    "### Definitions\n",
    "\n",
    "$$x^* = \\arg \\min L(x)$$\n",
    "\n",
    "where $x^*$ = value that minimizes the loss function $L(x)$\n",
    "\n",
    "The process of finding $x^*$ is called \"Optimization\". It usually involves running some type of Gradient Descent. "
   ]
  },
  {
   "cell_type": "markdown",
   "metadata": {
    "slideshow": {
     "slide_type": "slide"
    }
   },
   "source": [
    "### Loss Function Examples\n",
    "\n",
    "Scikit-learn:\n",
    "- [Mean squared error](http://scikit-learn.org/stable/modules/model_evaluation.html#mean-squared-error): `sklearn.metrics.mean_squared_error(y_true, y_pred)`\n",
    "- [Log loss](http://scikit-learn.org/stable/modules/model_evaluation.html#log-loss): `sklearn.metrics.log_loss(y_true, y_pred)`\n",
    "- [Zero one loss](http://scikit-learn.org/stable/modules/generated/sklearn.metrics.zero_one_loss.html#sklearn.metrics.zero_one_loss)\n",
    "`sklearn.metrics.zero_one_loss(y_true, y_pred)`\n",
    "- etc\n",
    "\n",
    "Keras:\n",
    "- https://keras.io/losses/\n",
    "- `keras.losses.mean_squared_error(y_true, y_pred)`\n",
    "- `keras.losses.binary_crossentropy(y_true, y_pred)`\n",
    "- etc"
   ]
  },
  {
   "cell_type": "markdown",
   "metadata": {
    "slideshow": {
     "slide_type": "slide"
    }
   },
   "source": [
    "# Gradient Descent\n",
    "\n",
    "What it is: technique for minimizing loss function for a given model\n",
    "\n",
    "Objective: find $w^*$ such that $$w^* = \\underset{w}\\arg \\min{L\\big(y_{true}, y_{pred}\\big)}$$\n",
    "\n",
    "$$w^* = \\underset{w}\\arg \\min{L\\big(y_{true}, f(x, w)\\big)}$$\n",
    "\n",
    "\n",
    "where\n",
    "- $L(...)$ is the loss function\n",
    "- $w$ are the weights\n",
    "- $f(x, w)$ is the model that computes $y_{pred}$"
   ]
  },
  {
   "cell_type": "markdown",
   "metadata": {
    "slideshow": {
     "slide_type": "slide"
    }
   },
   "source": [
    "### Gradient descent algorithm\n",
    "\n",
    "1. Initialize $w$ to some value (e.g. random)\n",
    "2. Compute gradient of $L\\big(y_{true}, f(x, w)\\big)$\n",
    "3. Update $w$ by a \"tiny factor\" in the negative of the gradient\n",
    "4. Repeat 2-3 until we reach the \"stopping criteria\" (more on this later)\n",
    "\n",
    "The \"tiny factor\" is known as the \"learning rate\""
   ]
  },
  {
   "cell_type": "markdown",
   "metadata": {
    "slideshow": {
     "slide_type": "slide"
    }
   },
   "source": [
    "### Workshop: Gradient descent. Animated\n",
    "\n",
    "![wake up](assets/training-basics/descend.jpg)\n",
    "\n",
    "(training incantation)"
   ]
  },
  {
   "cell_type": "markdown",
   "metadata": {
    "slideshow": {
     "slide_type": "slide"
    }
   },
   "source": [
    "### Environment Setup\n",
    "\n",
    "Create a new environment called `mldds02`. You may also reuse `mldds01`, but it's good to keep separate environments for different experiments.\n",
    "\n",
    "```\n",
    "conda create -n mldds02 python=3\n",
    "conda activate mldds02\n",
    "\n",
    "(mldds02) conda install jupyter numpy pandas matplotlib scikit-learn\n",
    "(mldds02) conda install -c conda-forge ffmpeg\n",
    "```"
   ]
  },
  {
   "cell_type": "code",
   "execution_count": null,
   "metadata": {
    "slideshow": {
     "slide_type": "-"
    }
   },
   "outputs": [],
   "source": [
    "# Credits: https://jed-ai.github.io/py1_gd_animation/\n",
    "\n",
    "import numpy as np\n",
    "import matplotlib.pyplot as plt\n",
    "\n",
    "\"\"\"Example gradient descent implementation\"\"\"\n",
    "\n",
    "def func_y(x):\n",
    "    \"\"\"A demonstrative loss function that happens to be convex (has global a minimum)\n",
    "    Args:\n",
    "        x - the input (can be the weights of a machine learning algorithm)\n",
    "    Returns:\n",
    "        The loss value\n",
    "    \"\"\"\n",
    "    return x**2 - 4*x + 2\n",
    "\n",
    "def gradient_func_y(x):\n",
    "    \"\"\"The gradient of func_y\n",
    "    Args:\n",
    "        x - the input\n",
    "    Returns:\n",
    "        The gradient value\n",
    "    \"\"\"\n",
    "    return 2*x - 4 # d(x^2 - 4x + 2)/dx = 2x - 4\n",
    "\n",
    "def gradient_descent(previous_x, learning_rate, epochs):\n",
    "    \"\"\"An implementation of gradient descent\n",
    "    Args:\n",
    "        previous_x - the previous input value\n",
    "        learning_rate - how much to change x per iteration\n",
    "        epochs - number of steps to run gradient descent\n",
    "    Returns:\n",
    "        A tuple: array of x values, array of loss values\n",
    "    \"\"\"\n",
    "    x_gd = []\n",
    "    y_gd = []\n",
    "    x_gd.append(previous_x)\n",
    "    y_gd.append(func_y(previous_x))\n",
    "    \n",
    "    # loop to update x and y\n",
    "    for i in range(epochs):\n",
    "        # x = lr * gradient(func(prev_x))\n",
    "        update = learning_rate *gradient_func_y(previous_x)\n",
    "        x = previous_x - update\n",
    "        print('step', i, 'previous x', previous_x,\n",
    "              'update:', -update, 'new x:', x)\n",
    "        x_gd.append(x)\n",
    "        y_gd.append(func_y(x))\n",
    "        \n",
    "        # update previous_x\n",
    "        previous_x = x\n",
    "    \n",
    "    return x_gd, y_gd"
   ]
  },
  {
   "cell_type": "markdown",
   "metadata": {
    "slideshow": {
     "slide_type": "-"
    }
   },
   "source": [
    "With gradient descent implemented, we'll will now run it."
   ]
  },
  {
   "cell_type": "code",
   "execution_count": null,
   "metadata": {
    "slideshow": {
     "slide_type": "-"
    }
   },
   "outputs": [],
   "source": [
    "x0 = 0.7\n",
    "learning_rate = 0.15\n",
    "epochs = 10\n",
    "\n",
    "x = np.arange(-1, 5, 0.01)\n",
    "y = func_y(x)\n",
    "x_gd, y_gd = gradient_descent(x0, learning_rate, epochs)"
   ]
  },
  {
   "cell_type": "markdown",
   "metadata": {
    "slideshow": {
     "slide_type": "-"
    }
   },
   "source": [
    "Plot the animation."
   ]
  },
  {
   "cell_type": "code",
   "execution_count": null,
   "metadata": {
    "slideshow": {
     "slide_type": "-"
    }
   },
   "outputs": [],
   "source": [
    "from matplotlib import animation, rc\n",
    "from IPython.display import HTML\n",
    "\n",
    "fig, ax = plt.subplots()\n",
    "ax.set_xlim([min(x), max(x)])\n",
    "ax.set_ylim([min(y)-1, max(y)+1])\n",
    "ax.plot(x, y, lw = 0.9, color = 'k')\n",
    "\n",
    "line, = ax.plot([], [], 'r', label = 'Gradient descent', lw = 1.5)\n",
    "point, = ax.plot([], [], 'bo', animated=True)\n",
    "value_display = ax.text(0.02, 0.02, '', transform=ax.transAxes)\n",
    "\n",
    "def init():\n",
    "    \"\"\"Initializes the animation\"\"\"\n",
    "    line.set_data([], [])\n",
    "    point.set_data([], [])\n",
    "    value_display.set_text('')\n",
    "\n",
    "    return line, point, value_display\n",
    "\n",
    "def animate(i):\n",
    "    \"\"\"Animates the plot at step i\n",
    "    Args:\n",
    "        i: the step to animate\n",
    "        return: a tuple of line, point, and value_display\n",
    "    \"\"\"\n",
    "    # Animate line\n",
    "    line.set_data(x_gd[:i], y_gd[:i])\n",
    "    \n",
    "    # Animate points\n",
    "    point.set_data(x_gd[i], y_gd[i])\n",
    "\n",
    "    # Animate value display\n",
    "    value_display.set_text('Min = ' + str(y_gd[i]))\n",
    "\n",
    "    return line, point, value_display\n",
    "\n",
    "# call the animator\n",
    "rc('animation', html='html5')\n",
    "anim = FuncAnimation(fig, animate, init_func=init,\n",
    "                     frames=len(x_gd), interval=360,\n",
    "                     repeat_delay=60, blit=True)\n",
    "\n",
    "# display the video\n",
    "HTML(anim.to_html5_video())"
   ]
  },
  {
   "cell_type": "markdown",
   "metadata": {
    "slideshow": {
     "slide_type": "-"
    }
   },
   "source": [
    "### Exercises\n",
    "\n",
    "1. Try initializing x0 to something > 2, what do you observe?\n",
    "2. Try increasing the learning_rate to something large like 10. Does the gradient still converge?\n",
    "3. Replace func_y and gradient_func_y above with a cubic function. What do you observe?\n",
    "  ```\n",
    "  y = x^3 - 5x^2 + x + 1\n",
    "  gradient(y) = 3x^2 - 10x + 1\n",
    "  ```\n",
    "4. Replace func_y and gradient_func_y with `cos(x)` and its derivative `-sin(x)`. What do you observe?  What needs to reach convergence?\n",
    "  ```\n",
    "  y = np.tan(x)\n",
    "  gradient(y) = -np.sin(x)\n",
    "  ```\n",
    "  \n",
    "Derivative formulas: https://www.derivative-calculator.net/"
   ]
  },
  {
   "cell_type": "markdown",
   "metadata": {
    "slideshow": {
     "slide_type": "slide"
    }
   },
   "source": [
    "### Gradient Descent Variants\n",
    "\n",
    "1. Stochastic Gradient Descent (SGD)\n",
    "2. Minibatch SGD\n",
    "3. Minibatch SGD with Momentum\n",
    "4. Adaptive Learning Rates"
   ]
  },
  {
   "cell_type": "markdown",
   "metadata": {
    "slideshow": {
     "slide_type": "slide"
    }
   },
   "source": [
    "### Stochastic Gradient Descent\n",
    "\n",
    "\"Regular\" Gradient Descent is expensive because it processes all samples at once\n",
    "- Imagine you have millions of training samples\n",
    "\n",
    "Stochastic Gradient Descent speeds this up by:\n",
    "- Running gradient descent, one randomly selected training sample at a time\n",
    "- Stochastic: random noise, because samples can vary a lot"
   ]
  },
  {
   "cell_type": "markdown",
   "metadata": {
    "slideshow": {
     "slide_type": "slide"
    }
   },
   "source": [
    "### Notation\n",
    "\n",
    "$\\leftarrow$ = replace value\n",
    "Some texts use this symbol $:=$\n",
    "\n",
    "Examples\n",
    "- $\\theta \\leftarrow \\theta - \\epsilon g$\n",
    "- $\\theta := \\theta - \\epsilon g$\n",
    "\n",
    "Means\n",
    "1. Compute $\\theta' = \\theta - \\epsilon g$\n",
    "2. Update $\\theta = \\theta'$"
   ]
  },
  {
   "cell_type": "markdown",
   "metadata": {
    "slideshow": {
     "slide_type": "slide"
    }
   },
   "source": [
    "![sgd](assets/training-basics/sgd.png)"
   ]
  },
  {
   "cell_type": "markdown",
   "metadata": {
    "slideshow": {
     "slide_type": "slide"
    }
   },
   "source": [
    "Symbols:\n",
    "- The $\\eta_t$ denotes the learning rate\n",
    "- Note: $\\Theta$ is denotes the weights matrix\n",
    "\n",
    "(image: Neural Networks in Natural Language Processing, Goldberg, 2017)"
   ]
  },
  {
   "cell_type": "markdown",
   "metadata": {
    "slideshow": {
     "slide_type": "slide"
    }
   },
   "source": [
    "### Minibatch Stochastic Gradient Descent\n",
    "\n",
    "Instead of 1 random sample at a time:\n",
    "- Sample a \"minibatch\" of m training samples\n",
    "- Run gradient descent on that minibatch\n",
    "- \"Smooths\" out the randomness by operating on a minibatch.\n",
    "- The minibatch size can be tuned (\"hyperparameter\")"
   ]
  },
  {
   "cell_type": "markdown",
   "metadata": {
    "slideshow": {
     "slide_type": "slide"
    }
   },
   "source": [
    "![minibatch sgd](assets/training-basics/minibatch-sgd.png)"
   ]
  },
  {
   "cell_type": "markdown",
   "metadata": {
    "slideshow": {
     "slide_type": "slide"
    }
   },
   "source": [
    "Symbols:\n",
    "- $\\epsilon_k$ denotes the learning rate\n",
    "- $\\theta$ denotes the weights matrix\n",
    "- $\\nabla_{\\theta}$ means gradient w.r.t. $\\theta$\n",
    "\n",
    "(image: Deep Learning, Goodfellow, 2016)"
   ]
  },
  {
   "cell_type": "markdown",
   "metadata": {
    "slideshow": {
     "slide_type": "slide"
    }
   },
   "source": [
    "### Minibatch SGD, with momentum\n",
    "\n",
    "Speeds up minibatch SGD by:\n",
    "- Applying an exponentially decaying moving average of the previous gradients ($v$)\n",
    "  - if gradients point the same way, will reach minimum faster\n",
    "- Minibatch SGD: $\\theta \\leftarrow \\theta - \\epsilon g$\n",
    "- Minibatch SGD + momentum: $\\theta \\leftarrow \\theta - \\epsilon g + \\alpha v$, $v \\leftarrow v - \\epsilon g$\n",
    "\n",
    "Variant: Nesterov's momentum"
   ]
  },
  {
   "cell_type": "markdown",
   "metadata": {
    "slideshow": {
     "slide_type": "slide"
    }
   },
   "source": [
    "![minibatch sgd with momentum](assets/training-basics/minibatch-sgd-momentum.png)\n",
    "\n",
    "(image: Deep Learning, Goodfellow, 2016)"
   ]
  },
  {
   "cell_type": "markdown",
   "metadata": {
    "slideshow": {
     "slide_type": "slide"
    }
   },
   "source": [
    "### Adaptive Learning Rate Strategies\n",
    "\n",
    "- Learning rate will control the amount of gradient update\n",
    "  - Large learning rate: risk overshoot and not converge\n",
    "  - Small learning rate: too slow\n",
    "  - Ideal: start large(r), then reduce as we get closer to minima\n",
    "- Strategies\n",
    "  - Constant learning rate\n",
    "  - Time-based or step-based decay\n",
    "  - AdaGrad\n",
    "  - RMSProp\n",
    "  - Adam\n",
    "- What works best depends on your domain (true for **any** optimization)"
   ]
  },
  {
   "cell_type": "markdown",
   "metadata": {
    "slideshow": {
     "slide_type": "slide"
    }
   },
   "source": [
    "![Comparison](https://3qeqpr26caki16dnhd19sv6by6v-wpengine.netdna-ssl.com/wp-content/uploads/2017/05/Comparison-of-Adam-to-Other-Optimization-Algorithms-Training-a-Multilayer-Perceptron.png)\n",
    "\n",
    "(image: [machine learning mastery](https://machinelearningmastery.com/adam-optimization-algorithm-for-deep-learning)"
   ]
  },
  {
   "cell_type": "markdown",
   "metadata": {
    "slideshow": {
     "slide_type": "slide"
    }
   },
   "source": [
    "![Another comparison](http://scikit-learn.org/stable/_images/sphx_glr_plot_mlp_training_curves_001.png)\n",
    "\n",
    "(image: [scikit-learn](http://scikit-learn.org/stable/auto_examples/neural_networks/plot_mlp_training_curves.html))"
   ]
  },
  {
   "cell_type": "code",
   "execution_count": null,
   "metadata": {
    "slideshow": {
     "slide_type": "slide"
    }
   },
   "outputs": [],
   "source": []
  },
  {
   "cell_type": "markdown",
   "metadata": {
    "slideshow": {
     "slide_type": "slide"
    }
   },
   "source": [
    "# Underfiting, Overfitting"
   ]
  },
  {
   "cell_type": "markdown",
   "metadata": {
    "slideshow": {
     "slide_type": "slide"
    }
   },
   "source": [
    "## Goals of training\n",
    "1. Minimize training error\n",
    "2. Minimize gap between test error and training error. (the \"generalization gap\")\n",
    "\n",
    "(Reference: Deep Learning - Goodfellow, Bengio, Courville, MIT press, 2016)"
   ]
  },
  {
   "cell_type": "markdown",
   "metadata": {
    "slideshow": {
     "slide_type": "slide"
    }
   },
   "source": [
    "## Generalization\n",
    "\n",
    "How well will the model handle data not found during training?"
   ]
  },
  {
   "cell_type": "markdown",
   "metadata": {
    "slideshow": {
     "slide_type": "slide"
    }
   },
   "source": [
    "## Underfitting, Overfitting\n",
    "\n",
    "1. A model is set to \"underfit\" if the training error is too large\n",
    "2. A model is set to \"overfit\" if the gap between test and training error is too large\n",
    "\n",
    "A good-fit model: neither underfit nor overfit (Goldilocks and the Three Bears)"
   ]
  },
  {
   "cell_type": "markdown",
   "metadata": {
    "slideshow": {
     "slide_type": "slide"
    }
   },
   "source": [
    "## Underfitting / High Bias\n",
    "\n",
    "A model is set to \"underfit\" if the training error is too large\n",
    "  - Means model does not work\n",
    "  - It learnt nothing\n",
    "  - Mode has \"high bias\""
   ]
  },
  {
   "cell_type": "markdown",
   "metadata": {
    "slideshow": {
     "slide_type": "slide"
    }
   },
   "source": [
    "## Overfitting / High Variance\n",
    "\n",
    "A model is set to \"overfit\" if the gap between test and training error is too large\n",
    "  - Means model does not generalize well\n",
    "  - It only learnt the training set (or learnt too much training set noise)\n",
    "  - Model has \"high variance\""
   ]
  },
  {
   "cell_type": "markdown",
   "metadata": {
    "slideshow": {
     "slide_type": "slide"
    }
   },
   "source": [
    "![comics](https://imgs.xkcd.com/comics/linear_regression.png)\n",
    "\n",
    "(image: xkcd)"
   ]
  },
  {
   "cell_type": "markdown",
   "metadata": {
    "slideshow": {
     "slide_type": "slide"
    }
   },
   "source": [
    "## Fixing Underfitting\n",
    "\n",
    "Symptom: poor model performance even on training data\n",
    "\n",
    "Potential cures:\n",
    "- More data\n",
    "- More features and/or different features\n",
    "- Different algorithms"
   ]
  },
  {
   "cell_type": "markdown",
   "metadata": {
    "slideshow": {
     "slide_type": "slide"
    }
   },
   "source": [
    "## Fixing Overfitting\n",
    "\n",
    "Symptom: model has good performance in training data, but poor generalization on test data\n",
    "\n",
    "Potential cures:\n",
    "- Early stoppping\n",
    "- Fewer features\n",
    "- Regularization\n",
    "- Cross Validation"
   ]
  },
  {
   "cell_type": "code",
   "execution_count": null,
   "metadata": {
    "slideshow": {
     "slide_type": "skip"
    }
   },
   "outputs": [],
   "source": []
  },
  {
   "cell_type": "markdown",
   "metadata": {
    "slideshow": {
     "slide_type": "slide"
    }
   },
   "source": [
    "## Workshop: SGD, Overfitting, Underfitting\n",
    "\n",
    "In this workshop, we will try to fit a more complex linear regression model.\n",
    "\n",
    "We'll explore the following concepts:\n",
    "- Loss functions\n",
    "- Stochastic Gradient Descent\n",
    "- Underfitting and Overfitting\n",
    "\n",
    "Inspiration:\n",
    "https://sdsawtelle.github.io/blog/output/week6-andrew-ng-machine-learning-with-python.html"
   ]
  },
  {
   "cell_type": "markdown",
   "metadata": {
    "slideshow": {
     "slide_type": "slide"
    }
   },
   "source": [
    "### Prediction Tasks\n",
    "\n",
    "We'll try to fit a curve to predict, for recent Singapore University Graduates:\n",
    "```\n",
    "y: Gross Monthly Median Salary (S$)\n",
    "x: Overall Employment Rate (%)\n",
    "```\n",
    "\n",
    "To illustrate underfitting/overfitting, we'll explore:\n",
    "- A first-order linear model: $y = w^Tx$\n",
    "- A linear model with polynomial features\n",
    "$$y = w^TX$$\n",
    "where $X = [1, x, x^2, x^3, ...]$\n",
    "\n",
    "We'll also explore different loss functions and plotting of loss curves during training."
   ]
  },
  {
   "cell_type": "markdown",
   "metadata": {
    "slideshow": {
     "slide_type": "slide"
    }
   },
   "source": [
    "### Dataset(s)\n",
    "\n",
    "1. Download this dataset: https://data.gov.sg/dataset/graduate-employment-survey-ntu-nus-sit-smu-sutd\n",
    "2. Unzip it and note the path for use in `pandas.read_csv`"
   ]
  },
  {
   "cell_type": "code",
   "execution_count": 244,
   "metadata": {
    "slideshow": {
     "slide_type": "-"
    }
   },
   "outputs": [],
   "source": [
    "import pandas as pd\n",
    "import matplotlib.pyplot as plt\n",
    "import numpy as np"
   ]
  },
  {
   "cell_type": "markdown",
   "metadata": {
    "slideshow": {
     "slide_type": "-"
    }
   },
   "source": [
    "### 1. Data Transformation and Cleaning\n",
    "\n",
    "The first step is to inspect the data to see what transformation/cleaning is needed."
   ]
  },
  {
   "cell_type": "code",
   "execution_count": 245,
   "metadata": {
    "slideshow": {
     "slide_type": "-"
    }
   },
   "outputs": [
    {
     "data": {
      "text/plain": [
       "Index(['university', 'employment_rate_overall', 'gross_monthly_median'], dtype='object')"
      ]
     },
     "execution_count": 245,
     "metadata": {},
     "output_type": "execute_result"
    }
   ],
   "source": [
    "# ISO-8859-1 encoding is needed\n",
    "#   UnicodeDecodeError: 'utf-8' codec can't decode byte 0xe4 in position 20: invalid continuation byte\n",
    "\n",
    "df = pd.read_csv('D:/tmp/graduate-employment-survey-ntu-nus-sit-smu-sutd/graduate-employment-survey-ntu-nus-sit-smu-sutd.csv',\n",
    "                 encoding='ISO-8859-1',\n",
    "                 usecols=['university', 'employment_rate_overall', 'gross_monthly_median'])\n",
    "\n",
    "# filter by NUS to keep things simple\n",
    "df = df.loc[df.university == 'National University of Singapore']\n",
    "\n",
    "df.columns"
   ]
  },
  {
   "cell_type": "markdown",
   "metadata": {
    "slideshow": {
     "slide_type": "-"
    }
   },
   "source": [
    "The columns to inspect are:\n",
    "- employment_rate_overall\n",
    "- gross_monthly_median\n",
    "\n",
    "We are looking for:\n",
    "- invalid values\n",
    "- data types to transform to numeric\n",
    "- feature ranges"
   ]
  },
  {
   "cell_type": "code",
   "execution_count": 246,
   "metadata": {},
   "outputs": [
    {
     "name": "stdout",
     "output_type": "stream",
     "text": [
      "                              university employment_rate_overall  \\\n",
      "count                                118                     118   \n",
      "unique                                 1                      74   \n",
      "top     National University of Singapore                      na   \n",
      "freq                                 118                      15   \n",
      "\n",
      "       gross_monthly_median  \n",
      "count                   118  \n",
      "unique                   47  \n",
      "top                    3000  \n",
      "freq                     16  \n",
      "\n",
      "['84.8' '86.6' '88.1' '88.7' '94.6' '93.3' '97.2' '88.9' 'na' '92.4'\n",
      " '89.2' '100' '82.1' '96.8' '74' '93.2' '96.1' '88.5' '86.2' '93.8' '93.9'\n",
      " '90.9' '89.1' '98.8' '97.5' '97.3' '80.9' '83.6' '96.4' '81.9' '83.1'\n",
      " '87.9' '94.4' '90.6' '85.7' '95.5' '98.4' '77.3' '95.3' '93.1' '87.5'\n",
      " '83.9' '97.1' '95.2' '81.3' '96.5' '78.6' '90' '98.2' '76.8' '98.9'\n",
      " '88.4' '83' '88.6' '88.2' '96' '97.6' '98.6' '92.6' '97' '90.3' '72'\n",
      " '94.3' '86' '91.8' '92.1' '82.6' '83.3' '96.9' '82.4' '85.2' '84.3' '99'\n",
      " '71.9']\n"
     ]
    }
   ],
   "source": [
    "# the sample size is fairly small, we can inspect using .unique()\n",
    "print(df.describe())\n",
    "print('')\n",
    "print(df.employment_rate_overall.unique())"
   ]
  },
  {
   "cell_type": "markdown",
   "metadata": {
    "slideshow": {
     "slide_type": "-"
    }
   },
   "source": [
    "`employment_rate_overall` column\n",
    "- invalid values: yes, there is an 'na' value above\n",
    "- data type is object (these are string values)\n",
    "  - need to transform to numbers\n",
    "  - How: use [pandas.to_numeric](https://pandas.pydata.org/pandas-docs/stable/generated/pandas.to_numeric.html) to convert to numbers\n",
    "- range: 0-100"
   ]
  },
  {
   "cell_type": "markdown",
   "metadata": {
    "slideshow": {
     "slide_type": "-"
    }
   },
   "source": [
    "If the dataset is large, it is hard to find the 'na' values.\n",
    "\n",
    "A quick test is to try converting the column first, to see if errors appear."
   ]
  },
  {
   "cell_type": "code",
   "execution_count": 247,
   "metadata": {
    "scrolled": true
   },
   "outputs": [
    {
     "ename": "ValueError",
     "evalue": "Unable to parse string \"na\" at position 8",
     "output_type": "error",
     "traceback": [
      "\u001b[1;31m---------------------------------------------------------------------------\u001b[0m",
      "\u001b[1;31mValueError\u001b[0m                                Traceback (most recent call last)",
      "\u001b[1;32mpandas/_libs/src\\inference.pyx\u001b[0m in \u001b[0;36mpandas._libs.lib.maybe_convert_numeric\u001b[1;34m()\u001b[0m\n",
      "\u001b[1;31mValueError\u001b[0m: Unable to parse string \"na\"",
      "\nDuring handling of the above exception, another exception occurred:\n",
      "\u001b[1;31mValueError\u001b[0m                                Traceback (most recent call last)",
      "\u001b[1;32m<ipython-input-247-3e37e865ba71>\u001b[0m in \u001b[0;36m<module>\u001b[1;34m()\u001b[0m\n\u001b[1;32m----> 1\u001b[1;33m \u001b[0mpd\u001b[0m\u001b[1;33m.\u001b[0m\u001b[0mto_numeric\u001b[0m\u001b[1;33m(\u001b[0m\u001b[0mdf\u001b[0m\u001b[1;33m.\u001b[0m\u001b[0memployment_rate_overall\u001b[0m\u001b[1;33m)\u001b[0m \u001b[1;31m# see if we get parse errors\u001b[0m\u001b[1;33m\u001b[0m\u001b[0m\n\u001b[0m",
      "\u001b[1;32m~\\AppData\\Local\\Continuum\\miniconda3\\envs\\mldds02\\lib\\site-packages\\pandas\\core\\tools\\numeric.py\u001b[0m in \u001b[0;36mto_numeric\u001b[1;34m(arg, errors, downcast)\u001b[0m\n\u001b[0;32m    131\u001b[0m             \u001b[0mcoerce_numeric\u001b[0m \u001b[1;33m=\u001b[0m \u001b[1;32mFalse\u001b[0m \u001b[1;32mif\u001b[0m \u001b[0merrors\u001b[0m \u001b[1;32min\u001b[0m \u001b[1;33m(\u001b[0m\u001b[1;34m'ignore'\u001b[0m\u001b[1;33m,\u001b[0m \u001b[1;34m'raise'\u001b[0m\u001b[1;33m)\u001b[0m \u001b[1;32melse\u001b[0m \u001b[1;32mTrue\u001b[0m\u001b[1;33m\u001b[0m\u001b[0m\n\u001b[0;32m    132\u001b[0m             values = lib.maybe_convert_numeric(values, set(),\n\u001b[1;32m--> 133\u001b[1;33m                                                coerce_numeric=coerce_numeric)\n\u001b[0m\u001b[0;32m    134\u001b[0m \u001b[1;33m\u001b[0m\u001b[0m\n\u001b[0;32m    135\u001b[0m     \u001b[1;32mexcept\u001b[0m \u001b[0mException\u001b[0m\u001b[1;33m:\u001b[0m\u001b[1;33m\u001b[0m\u001b[0m\n",
      "\u001b[1;32mpandas/_libs/src\\inference.pyx\u001b[0m in \u001b[0;36mpandas._libs.lib.maybe_convert_numeric\u001b[1;34m()\u001b[0m\n",
      "\u001b[1;31mValueError\u001b[0m: Unable to parse string \"na\" at position 8"
     ]
    }
   ],
   "source": [
    "pd.to_numeric(df.employment_rate_overall) # see if we get parse errors"
   ]
  },
  {
   "cell_type": "markdown",
   "metadata": {
    "slideshow": {
     "slide_type": "-"
    }
   },
   "source": [
    "We will be using the `errors='coerce'` option in [pandas.to_numeric](https://pandas.pydata.org/pandas-docs/stable/generated/pandas.to_numeric.html) when we do the actual conversion."
   ]
  },
  {
   "cell_type": "code",
   "execution_count": 248,
   "metadata": {},
   "outputs": [
    {
     "data": {
      "text/plain": [
       "34      84.8\n",
       "35      86.6\n",
       "36      88.1\n",
       "37      88.7\n",
       "38      94.6\n",
       "39      93.3\n",
       "40      97.2\n",
       "41      88.9\n",
       "42       NaN\n",
       "43       NaN\n",
       "44      92.4\n",
       "45      88.9\n",
       "46      89.2\n",
       "47     100.0\n",
       "48       NaN\n",
       "49      82.1\n",
       "50      96.8\n",
       "51      89.2\n",
       "52      74.0\n",
       "53      93.2\n",
       "54      96.1\n",
       "55      88.9\n",
       "56      88.5\n",
       "57      86.2\n",
       "58      93.8\n",
       "59      93.9\n",
       "60      90.9\n",
       "61      89.1\n",
       "62      98.8\n",
       "63     100.0\n",
       "       ...  \n",
       "243     97.0\n",
       "244     90.3\n",
       "245     97.2\n",
       "246    100.0\n",
       "247     97.6\n",
       "248     72.0\n",
       "249     94.3\n",
       "250     93.9\n",
       "251     86.2\n",
       "252     86.0\n",
       "253     96.5\n",
       "254     91.8\n",
       "255     92.1\n",
       "256     82.6\n",
       "257     88.1\n",
       "258     96.1\n",
       "259    100.0\n",
       "260     83.3\n",
       "261     96.9\n",
       "262    100.0\n",
       "263     97.3\n",
       "264    100.0\n",
       "265     82.4\n",
       "266      NaN\n",
       "267     85.2\n",
       "268     84.3\n",
       "269     83.9\n",
       "270      NaN\n",
       "271     99.0\n",
       "272     71.9\n",
       "Name: employment_rate_overall, Length: 118, dtype: float64"
      ]
     },
     "execution_count": 248,
     "metadata": {},
     "output_type": "execute_result"
    }
   ],
   "source": [
    "pd.to_numeric(df.employment_rate_overall, errors='coerce') # 'na' becomes NaN"
   ]
  },
  {
   "cell_type": "markdown",
   "metadata": {
    "slideshow": {
     "slide_type": "-"
    }
   },
   "source": [
    "The `gross_monthly_median` column is handled the same way.\n",
    "\n",
    "Let's now perform the data transformation and cleaning."
   ]
  },
  {
   "cell_type": "code",
   "execution_count": 249,
   "metadata": {
    "slideshow": {
     "slide_type": "-"
    }
   },
   "outputs": [
    {
     "data": {
      "text/html": [
       "<div>\n",
       "<style scoped>\n",
       "    .dataframe tbody tr th:only-of-type {\n",
       "        vertical-align: middle;\n",
       "    }\n",
       "\n",
       "    .dataframe tbody tr th {\n",
       "        vertical-align: top;\n",
       "    }\n",
       "\n",
       "    .dataframe thead th {\n",
       "        text-align: right;\n",
       "    }\n",
       "</style>\n",
       "<table border=\"1\" class=\"dataframe\">\n",
       "  <thead>\n",
       "    <tr style=\"text-align: right;\">\n",
       "      <th></th>\n",
       "      <th>gross_monthly_median</th>\n",
       "      <th>employment_rate_overall</th>\n",
       "    </tr>\n",
       "  </thead>\n",
       "  <tbody>\n",
       "    <tr>\n",
       "      <th>34</th>\n",
       "      <td>2800.0</td>\n",
       "      <td>84.8</td>\n",
       "    </tr>\n",
       "    <tr>\n",
       "      <th>35</th>\n",
       "      <td>3200.0</td>\n",
       "      <td>86.6</td>\n",
       "    </tr>\n",
       "    <tr>\n",
       "      <th>36</th>\n",
       "      <td>3200.0</td>\n",
       "      <td>88.1</td>\n",
       "    </tr>\n",
       "    <tr>\n",
       "      <th>37</th>\n",
       "      <td>3000.0</td>\n",
       "      <td>88.7</td>\n",
       "    </tr>\n",
       "    <tr>\n",
       "      <th>38</th>\n",
       "      <td>3200.0</td>\n",
       "      <td>94.6</td>\n",
       "    </tr>\n",
       "  </tbody>\n",
       "</table>\n",
       "</div>"
      ],
      "text/plain": [
       "    gross_monthly_median  employment_rate_overall\n",
       "34                2800.0                     84.8\n",
       "35                3200.0                     86.6\n",
       "36                3200.0                     88.1\n",
       "37                3000.0                     88.7\n",
       "38                3200.0                     94.6"
      ]
     },
     "execution_count": 249,
     "metadata": {},
     "output_type": "execute_result"
    }
   ],
   "source": [
    "# transform string to numbers, forcing invalid values to float NaN\n",
    "data = {\n",
    "    'gross_monthly_median': pd.to_numeric(df.gross_monthly_median, errors='coerce'),\n",
    "    'employment_rate_overall': pd.to_numeric(df.employment_rate_overall, errors='coerce')\n",
    "}\n",
    "\n",
    "# drop NaNs\n",
    "df_dataset = pd.DataFrame(data).dropna()\n",
    "\n",
    "df_dataset.head()"
   ]
  },
  {
   "cell_type": "markdown",
   "metadata": {
    "slideshow": {
     "slide_type": "-"
    }
   },
   "source": [
    "### Visualize Dataset\n",
    "Let's plot the dataset to visualize our data.\n",
    "\n",
    "We'll use a scatter plot."
   ]
  },
  {
   "cell_type": "code",
   "execution_count": 250,
   "metadata": {},
   "outputs": [
    {
     "data": {
      "image/png": "[encoded data removed]",
      "text/plain": [
       "<Figure size 1080x576 with 1 Axes>"
      ]
     },
     "metadata": {},
     "output_type": "display_data"
    }
   ],
   "source": [
    "fig, ax = plt.subplots(figsize=(15, 8))\n",
    "\n",
    "ax.scatter(df_dataset.employment_rate_overall, df_dataset.gross_monthly_median)\n",
    "\n",
    "ax.set(title='Gross Monthly Median Income and Employment Rate for Recent NUS Graduates',\n",
    "       xlabel='Employment Rate (%)',\n",
    "       ylabel='Gross Monthly Median Income (S$)')\n",
    "ax.grid()"
   ]
  },
  {
   "cell_type": "markdown",
   "metadata": {
    "slideshow": {
     "slide_type": "slide"
    }
   },
   "source": [
    "Inspecting the plot above, we can roughly make out a curve through it."
   ]
  },
  {
   "cell_type": "markdown",
   "metadata": {
    "slideshow": {
     "slide_type": "slide"
    }
   },
   "source": [
    "### 2. Feature selection\n",
    "    \n",
    "#### Inputs\n",
    "\n",
    "|Feature|Description|Column name|Transformation before model input?|\n",
    "|--|--|--|\n",
    "|$x_1$|Overall Employment Rate (%)|employment_rate_overall|pd.to_numeric|\n",
    "\n",
    "#### Outputs\n",
    "\n",
    "|Output|Description|Truth column|Transformation from model output?|\n",
    "|--|--|--|\n",
    "|$\\hat{y}$|Predicted Gross Monthly Medium Income S\\$|$y$ = gross_monthly_median|None, output will stay numeric|"
   ]
  },
  {
   "cell_type": "code",
   "execution_count": 251,
   "metadata": {
    "slideshow": {
     "slide_type": "-"
    }
   },
   "outputs": [
    {
     "name": "stdout",
     "output_type": "stream",
     "text": [
      "X.shape: (103,)\n",
      "y.shape: (103,)\n"
     ]
    }
   ],
   "source": [
    "# Prepare the numpy arrays for use with sklearn\n",
    "X = df_dataset.loc[:, 'employment_rate_overall']\n",
    "print('X.shape:', X.shape)\n",
    "\n",
    "y = df_dataset.loc[:, 'gross_monthly_median']\n",
    "print('y.shape:', y.shape)"
   ]
  },
  {
   "cell_type": "markdown",
   "metadata": {
    "slideshow": {
     "slide_type": "-"
    }
   },
   "source": [
    "### 3. Model creation and training, and validation\n",
    "\n",
    "In this section, we will\n",
    "1. Shuffle and then split dataset into train and test\n",
    "2. Perform feature scaling\n",
    "3. Train and validate our models"
   ]
  },
  {
   "cell_type": "markdown",
   "metadata": {
    "slideshow": {
     "slide_type": "-"
    }
   },
   "source": [
    "### Dataset shuffling and train-test-split\n",
    "\n",
    "In a previous workshop, we did the randomization and train-test split manually. \n",
    "\n",
    "Turns out, [sklearn.model_selection.train_test_split](http://scikit-learn.org/stable/modules/generated/sklearn.model_selection.train_test_split.html) can do this for us."
   ]
  },
  {
   "cell_type": "code",
   "execution_count": 252,
   "metadata": {
    "slideshow": {
     "slide_type": "-"
    }
   },
   "outputs": [
    {
     "data": {
      "text/plain": [
       "64     97.5\n",
       "142    81.3\n",
       "36     88.1\n",
       "154    76.8\n",
       "44     92.4\n",
       "Name: employment_rate_overall, dtype: float64"
      ]
     },
     "execution_count": 252,
     "metadata": {},
     "output_type": "execute_result"
    }
   ],
   "source": [
    "from sklearn.model_selection import train_test_split\n",
    "\n",
    "# train-test split, witholding 15% for test data\n",
    "# shuffle=True is the default\n",
    "X_train, X_test, y_train, y_test = train_test_split(X, y, test_size=0.1)\n",
    "\n",
    "X_train.head() # view the shuffled dataset"
   ]
  },
  {
   "cell_type": "markdown",
   "metadata": {
    "slideshow": {
     "slide_type": "-"
    }
   },
   "source": [
    "### Feature scaling\n",
    "\n",
    "Since we are using Stochastic Gradient Descent, we are recommended to scale the features between [0, 1] or [-1, 1].\n",
    "- See [Tips on Practical Use for SGDRegressor](http://scikit-learn.org/stable/modules/sgd.html#tips-on-practical-use).\n",
    "\n",
    "- Scaling subtracts the mean and divides by the standard deviation\n",
    "- We will scale both the input and output values, using [sklearn.preprocessing.StandardScaler](http://scikit-learn.org/stable/modules/generated/sklearn.preprocessing.StandardScaler.html#sklearn.preprocessing.StandardScaler)\n",
    "- In both cases (input and output), the mean and standard deviation will be based on the training set only. This way we don't look at the test set. "
   ]
  },
  {
   "cell_type": "code",
   "execution_count": 253,
   "metadata": {
    "slideshow": {
     "slide_type": "-"
    }
   },
   "outputs": [],
   "source": [
    "from sklearn.preprocessing import StandardScaler\n",
    "\n",
    "# We train the scaler based on the training set, and use\n",
    "# it for both the training and test sets\n",
    "#\n",
    "# Reason: the test set shouldn't pollute the dataset\n",
    "x_scaler = StandardScaler()\n",
    "x_scaler.fit(X_train.values.reshape(-1, 1)) # must be 2D array\n",
    "X_train_scaled = x_scaler.transform(X_train.values.reshape(-1, 1))\n",
    "X_test_scaled = x_scaler.transform(X_test.values.reshape(-1, 1))\n",
    "\n",
    "y_scaler = StandardScaler()\n",
    "y_scaler.fit(y_train.values.reshape(-1, 1))\n",
    "y_train_scaled = y_scaler.transform(y_train.values.reshape(-1, 1))[:, 0]\n",
    "y_test_scaled = y_scaler.transform(y_test.values.reshape(-1, 1))[:, 0]"
   ]
  },
  {
   "cell_type": "code",
   "execution_count": 254,
   "metadata": {
    "slideshow": {
     "slide_type": "-"
    }
   },
   "outputs": [
    {
     "data": {
      "text/plain": [
       "64     97.5\n",
       "142    81.3\n",
       "36     88.1\n",
       "154    76.8\n",
       "44     92.4\n",
       "Name: employment_rate_overall, dtype: float64"
      ]
     },
     "execution_count": 254,
     "metadata": {},
     "output_type": "execute_result"
    }
   ],
   "source": [
    "X_train.head() # before scaling"
   ]
  },
  {
   "cell_type": "code",
   "execution_count": 255,
   "metadata": {
    "slideshow": {
     "slide_type": "-"
    }
   },
   "outputs": [
    {
     "data": {
      "text/plain": [
       "array([[ 0.90965352],\n",
       "       [-1.4190095 ],\n",
       "       [-0.44154601],\n",
       "       [-2.06586033],\n",
       "       [ 0.17655591]])"
      ]
     },
     "execution_count": 255,
     "metadata": {},
     "output_type": "execute_result"
    }
   ],
   "source": [
    "X_train_scaled[:5] # after scaling (showing first 5 values)"
   ]
  },
  {
   "cell_type": "code",
   "execution_count": 256,
   "metadata": {
    "slideshow": {
     "slide_type": "-"
    }
   },
   "outputs": [
    {
     "data": {
      "text/plain": [
       "64     2950.0\n",
       "142    3400.0\n",
       "36     3200.0\n",
       "154    3000.0\n",
       "44     3425.0\n",
       "Name: gross_monthly_median, dtype: float64"
      ]
     },
     "execution_count": 256,
     "metadata": {},
     "output_type": "execute_result"
    }
   ],
   "source": [
    "y_train.head() # before scaling"
   ]
  },
  {
   "cell_type": "code",
   "execution_count": 257,
   "metadata": {
    "slideshow": {
     "slide_type": "-"
    }
   },
   "outputs": [
    {
     "data": {
      "text/plain": [
       "array([-0.82055876,  0.0895123 , -0.31496372, -0.71943975,  0.14007181])"
      ]
     },
     "execution_count": 257,
     "metadata": {},
     "output_type": "execute_result"
    }
   ],
   "source": [
    "y_train_scaled[:5] # after scaling (showing first 5 values)"
   ]
  },
  {
   "cell_type": "markdown",
   "metadata": {
    "slideshow": {
     "slide_type": "-"
    }
   },
   "source": [
    "### Underfit Model: First Order Linear Regressor\n",
    "\n",
    "For the first order linear regressor, we'll use `sklearn.linear_model.SGDRegressor` with the dataset above."
   ]
  },
  {
   "cell_type": "code",
   "execution_count": 258,
   "metadata": {
    "slideshow": {
     "slide_type": "-"
    }
   },
   "outputs": [],
   "source": [
    "from sklearn.linear_model import SGDRegressor\n",
    "\n",
    "# help me obi wan\n",
    "# SGDRegressor?"
   ]
  },
  {
   "cell_type": "code",
   "execution_count": 273,
   "metadata": {
    "slideshow": {
     "slide_type": "-"
    }
   },
   "outputs": [
    {
     "name": "stdout",
     "output_type": "stream",
     "text": [
      "-- Epoch 1\n",
      "Norm: 0.24, NNZs: 1, Bias: 0.005241, T: 92, Avg. loss: 0.463352\n",
      "Total training time: 0.00 seconds.\n",
      "-- Epoch 2\n",
      "Norm: 0.36, NNZs: 1, Bias: 0.014521, T: 184, Avg. loss: 0.431135\n",
      "Total training time: 0.00 seconds.\n",
      "-- Epoch 3\n",
      "Norm: 0.35, NNZs: 1, Bias: -0.017146, T: 276, Avg. loss: 0.426466\n",
      "Total training time: 0.00 seconds.\n",
      "-- Epoch 4\n",
      "Norm: 0.38, NNZs: 1, Bias: -0.002015, T: 368, Avg. loss: 0.428476\n",
      "Total training time: 0.00 seconds.\n",
      "Convergence after 4 epochs took 0.00 seconds\n",
      "Wall time: 2 ms\n",
      "Coefficient [0.38277646]\n",
      "Intercept [-0.00201465]\n"
     ]
    }
   ],
   "source": [
    "linear_model = SGDRegressor(verbose=1,\n",
    "                            random_state=np.random.RandomState(123),\n",
    "                            loss='squared_loss', # mean squared loss\n",
    "                            penalty='none', # no regularization\n",
    "                            max_iter=100,\n",
    "                            tol=1e-3, # stopping condition\n",
    "                            eta0=0.01, # learning rate\n",
    "                            learning_rate='constant') # learning rate schedule\n",
    "%time linear_model.fit(X_train_scaled, y_train_scaled)\n",
    "\n",
    "print('Coefficient', linear_model.coef_)\n",
    "print('Intercept', linear_model.intercept_)"
   ]
  },
  {
   "cell_type": "markdown",
   "metadata": {
    "slideshow": {
     "slide_type": "-"
    }
   },
   "source": [
    "#### Model Validation\n",
    "\n",
    "Let's validate our model's performance by computing metrics and plotting the linear model."
   ]
  },
  {
   "cell_type": "code",
   "execution_count": 274,
   "metadata": {
    "slideshow": {
     "slide_type": "-"
    }
   },
   "outputs": [
    {
     "name": "stdout",
     "output_type": "stream",
     "text": [
      "Truth: [-0.92167776 -0.71943975 -0.71943975  2.71860648 -0.09250191 -1.59917511\n",
      " -0.71943975 -0.71943975 -0.0116067  -0.31496372 -0.71943975]\n",
      "Predictions: [ 0.33517489  0.22513077 -0.18203248  0.31316607 -0.45164057 -0.76526632\n",
      "  0.17010871 -0.13801483  0.48373445  0.14809989 -0.27556998]\n",
      "MSE: 1.014308112485796\n",
      "R2: 0.08305336740601865\n"
     ]
    }
   ],
   "source": [
    "from sklearn.metrics import mean_squared_error, r2_score\n",
    "\n",
    "pred_scaled = linear_model.predict(X_test_scaled)\n",
    "print('Truth:', y_test_scaled)\n",
    "print('Predictions:', pred_scaled)\n",
    "\n",
    "# Compute metrics\n",
    "print('MSE:', mean_squared_error(y_test_scaled, pred_scaled))\n",
    "print('R2:', r2_score(y_test_scaled, pred_scaled))"
   ]
  },
  {
   "cell_type": "markdown",
   "metadata": {
    "slideshow": {
     "slide_type": "-"
    }
   },
   "source": [
    "#### Model Visualization\n",
    "\n",
    "We'll visualize the entire dataset (train + test), by plotting the data as a sactter plot, and the linear function as a curve or line.\n",
    "\n",
    "The model needs to be called with pre- and post-processing stages:\n",
    "1. Scale the input\n",
    "2. Call `predict`\n",
    "3. Unscale the output\n",
    "\n",
    "In both steps, we'll use the already-fitted scalers from previously. This ensures that the pre- and post-processing matches exactly with how the model was trained."
   ]
  },
  {
   "cell_type": "code",
   "execution_count": 275,
   "metadata": {
    "slideshow": {
     "slide_type": "-"
    }
   },
   "outputs": [
    {
     "data": {
      "text/plain": [
       "<matplotlib.legend.Legend at 0x23f3b1f3f98>"
      ]
     },
     "execution_count": 275,
     "metadata": {},
     "output_type": "execute_result"
    },
    {
     "data": {
      "image/png": "[encoded data removed]",
      "text/plain": [
       "<Figure size 1080x576 with 1 Axes>"
      ]
     },
     "metadata": {},
     "output_type": "display_data"
    }
   ],
   "source": [
    "# First, call the model in 3 stages\n",
    "# 1. Pre-process the input\n",
    "X_scaled = x_scaler.transform(X.values.reshape(-1, 1))\n",
    "\n",
    "# 2. Predict\n",
    "y_pred_scaled = linear_model.predict(X_scaled)\n",
    "\n",
    "# 3. Post-process the output\n",
    "y_pred = y_scaler.inverse_transform(y_pred_scaled)\n",
    "\n",
    "# Finally, plot dataset and predictions\n",
    "fig, ax = plt.subplots(figsize=(15, 8))\n",
    "ax.scatter(X.values, y, label='truth')\n",
    "ax.plot(X.values, y_pred, label='predictions', color='orange')\n",
    "\n",
    "ax.set(title='Gross Monthly Median Income and Employment Rate for Recent NUS Grads: First-Order Model',\n",
    "       xlabel='Employment Rate (%)',\n",
    "       ylabel='Gross Monthly Median Income (S$)')\n",
    "\n",
    "ax.grid()\n",
    "ax.legend()"
   ]
  },
  {
   "cell_type": "markdown",
   "metadata": {
    "slideshow": {
     "slide_type": "-"
    }
   },
   "source": [
    "### Overfit Attempt: Polynomial Regression\n",
    "\n",
    "Now that we've seen how poorly an underfit model does, let's go to the other extreme.\n",
    "\n",
    "To generate polynomial features from x (Employment Rate), we use [sklearn.preprocessing.PolynomialFeatures](http://scikit-learn.org/stable/modules/generated/sklearn.preprocessing.PolynomialFeatures.html)"
   ]
  },
  {
   "cell_type": "code",
   "execution_count": 276,
   "metadata": {
    "slideshow": {
     "slide_type": "-"
    }
   },
   "outputs": [],
   "source": [
    "from sklearn.preprocessing import PolynomialFeatures\n",
    "\n",
    "poly = PolynomialFeatures(12)\n",
    "poly.fit(X_train.values.reshape(-1, 1))\n",
    "\n",
    "X_train_poly = poly.transform(X_train.values.reshape(-1, 1))\n",
    "X_test_poly = poly.transform(X_test.values.reshape(-1, 1))\n",
    "\n",
    "# Scale the features back to SGD happy ranges ([-1, 1])\n",
    "x_scaler_poly = StandardScaler()\n",
    "x_scaler_poly.fit(X_train_poly)\n",
    "X_train_poly_scaled = x_scaler_poly.transform(X_train_poly)\n",
    "X_test_poly_scaled = x_scaler_poly.transform(X_test_poly)"
   ]
  },
  {
   "cell_type": "code",
   "execution_count": 277,
   "metadata": {
    "slideshow": {
     "slide_type": "-"
    }
   },
   "outputs": [
    {
     "name": "stdout",
     "output_type": "stream",
     "text": [
      "-- Epoch 1\n",
      "Norm: 0.13, NNZs: 12, Bias: 0.007059, T: 92, Avg. loss: 0.427691\n",
      "Total training time: 0.00 seconds.\n",
      "-- Epoch 2\n",
      "Norm: 0.24, NNZs: 12, Bias: 0.029662, T: 184, Avg. loss: 0.433935\n",
      "Total training time: 0.00 seconds.\n",
      "Convergence after 2 epochs took 0.00 seconds\n",
      "Wall time: 1 ms\n",
      "Coefficients [ 0.         -0.0432958  -0.02572331 -0.00836598  0.00865226  0.02523903\n",
      "  0.04132931  0.0568806   0.07186813  0.08628062  0.10011664  0.11338174\n",
      "  0.12608623]\n",
      "Intercept [0.02966174]\n"
     ]
    }
   ],
   "source": [
    "poly_model = SGDRegressor(verbose=1,\n",
    "                          random_state=np.random.RandomState(123),\n",
    "                          loss='squared_loss', # mean squared loss\n",
    "                          penalty='none', # no regularization\n",
    "                          max_iter=100,\n",
    "                          tol=1e-4, # stopping condition\n",
    "                          eta0=0.01, # learning rate\n",
    "                          learning_rate='constant') # learning rate schedule\n",
    "%time poly_model.fit(X_train_poly_scaled, y_train_scaled)\n",
    "\n",
    "print('Coefficients', poly_model.coef_)\n",
    "print('Intercept', poly_model.intercept_)"
   ]
  },
  {
   "cell_type": "markdown",
   "metadata": {
    "slideshow": {
     "slide_type": "-"
    }
   },
   "source": [
    "### Exercise: Model Validation and Visualization\n",
    "\n",
    "Follow the pattern above to validate and visualize the new model.\n",
    "\n",
    "This means two tasks:\n",
    "1. Computing metrics\n",
    "2. Plotting the curve (hint: use a scatter plot for both)"
   ]
  },
  {
   "cell_type": "code",
   "execution_count": 278,
   "metadata": {
    "slideshow": {
     "slide_type": "-"
    }
   },
   "outputs": [
    {
     "name": "stdout",
     "output_type": "stream",
     "text": [
      "Truth: [-0.92167776 -0.71943975 -0.71943975  2.71860648 -0.09250191 -1.59917511\n",
      " -0.71943975 -0.71943975 -0.0116067  -0.31496372 -0.71943975]\n",
      "Predictions: [ 0.52230428  0.25374208 -0.38136216  0.46438884 -0.59485966 -0.72310602\n",
      "  0.13778468 -0.33385565  0.97596958  0.09450493 -0.46940482]\n",
      "MSE: 1.0306198950846788\n",
      "R2: 0.06830732136583173\n"
     ]
    }
   ],
   "source": [
    "# Compute metrics\n",
    "# Your code here\n",
    "\n",
    "pred_scaled = poly_model.predict(X_test_poly_scaled)\n",
    "print('Truth:', y_test_scaled)\n",
    "print('Predictions:', pred_scaled)\n",
    "\n",
    "# Compute metrics\n",
    "print('MSE:', mean_squared_error(y_test_scaled, pred_scaled))\n",
    "print('R2:', r2_score(y_test_scaled, pred_scaled))"
   ]
  },
  {
   "cell_type": "code",
   "execution_count": 279,
   "metadata": {
    "slideshow": {
     "slide_type": "-"
    }
   },
   "outputs": [
    {
     "data": {
      "text/plain": [
       "<matplotlib.legend.Legend at 0x23f3ab166d8>"
      ]
     },
     "execution_count": 279,
     "metadata": {},
     "output_type": "execute_result"
    },
    {
     "data": {
      "image/png": "[encoded data removed]",
      "text/plain": [
       "<Figure size 1080x576 with 1 Axes>"
      ]
     },
     "metadata": {},
     "output_type": "display_data"
    }
   ],
   "source": [
    "# Plot curve\n",
    "\n",
    "# First, call the model in 3 stages\n",
    "# 1. Pre-process the input\n",
    "# Hint: you need to create the polynomial, then scale\n",
    "#\n",
    "# Your code here\n",
    "\n",
    "X_poly = poly.transform(X.values.reshape(-1, 1))\n",
    "X_poly_scaled = x_scaler_poly.transform(X_poly)\n",
    "\n",
    "# 2. Predict\n",
    "#\n",
    "# Your code here\n",
    "y_pred_scaled = poly_model.predict(X_poly_scaled)\n",
    "\n",
    "\n",
    "# 3. Post-process the output by un-scaling y\n",
    "#\n",
    "# Your code here\n",
    "y_pred = y_scaler.inverse_transform(y_pred_scaled)\n",
    "\n",
    "# Finally, plot dataset and predictions\n",
    "#\n",
    "# Your code here\n",
    "fig, ax = plt.subplots(figsize=(15, 8))\n",
    "ax.scatter(X.values, y, label='truth')\n",
    "ax.scatter(X.values, y_pred, label='predictions', color='orange')\n",
    "\n",
    "ax.set(title='Gross Monthly Median Income and Employment Rate: 12th Degree Model',\n",
    "       xlabel='Employment Rate (%)',\n",
    "       ylabel='Gross Monthly Median Income (S$)')\n",
    "\n",
    "ax.grid()\n",
    "ax.legend()"
   ]
  },
  {
   "cell_type": "markdown",
   "metadata": {
    "slideshow": {
     "slide_type": "-"
    }
   },
   "source": [
    "### Learning Curves for Underfit/Overfit Detection\n",
    "\n",
    "Even with the above polynomial curve, it's hard to tell if we are truly overfitting.\n",
    "\n",
    "The standard practice to determine model fit is to plot learning curves of the training scores and test scores during training iterations.\n",
    "\n",
    "Let's compare the learning curves for both the linear and polynomial case.\n",
    "\n",
    "Reference: http://scikit-learn.org/stable/auto_examples/model_selection/plot_learning_curve.html"
   ]
  },
  {
   "cell_type": "code",
   "execution_count": 280,
   "metadata": {
    "slideshow": {
     "slide_type": "-"
    }
   },
   "outputs": [],
   "source": [
    "from sklearn.model_selection import learning_curve\n",
    "\n",
    "# learning_curve?"
   ]
  },
  {
   "cell_type": "code",
   "execution_count": 295,
   "metadata": {
    "slideshow": {
     "slide_type": "-"
    }
   },
   "outputs": [
    {
     "name": "stdout",
     "output_type": "stream",
     "text": [
      "-- Epoch 1\n",
      "Norm: 0.03, NNZs: 1, Bias: 0.006466, T: 6, Avg. loss: 1.190524\n",
      "Total training time: 0.00 seconds.\n",
      "-- Epoch 2\n",
      "Norm: 0.06, NNZs: 1, Bias: 0.011751, T: 12, Avg. loss: 1.172922\n",
      "Total training time: 0.00 seconds.\n",
      "-- Epoch 3\n",
      "Norm: 0.10, NNZs: 1, Bias: 0.015603, T: 18, Avg. loss: 1.156358\n",
      "Total training time: 0.00 seconds.\n",
      "-- Epoch 4\n",
      "Norm: 0.13, NNZs: 1, Bias: 0.018714, T: 24, Avg. loss: 1.140404\n",
      "Total training time: 0.00 seconds.\n",
      "-- Epoch 5\n",
      "Norm: 0.16, NNZs: 1, Bias: 0.021371, T: 30, Avg. loss: 1.125098\n",
      "Total training time: 0.00 seconds.\n",
      "-- Epoch 6\n",
      "Norm: 0.18, NNZs: 1, Bias: 0.023124, T: 36, Avg. loss: 1.110593\n",
      "Total training time: 0.00 seconds.\n",
      "-- Epoch 7\n",
      "Norm: 0.21, NNZs: 1, Bias: 0.023706, T: 42, Avg. loss: 1.096785\n",
      "Total training time: 0.00 seconds.\n",
      "-- Epoch 8\n",
      "Norm: 0.24, NNZs: 1, Bias: 0.023782, T: 48, Avg. loss: 1.083314\n",
      "Total training time: 0.00 seconds.\n",
      "-- Epoch 9\n",
      "Norm: 0.27, NNZs: 1, Bias: 0.023640, T: 54, Avg. loss: 1.070270\n",
      "Total training time: 0.00 seconds.\n",
      "-- Epoch 10\n",
      "Norm: 0.30, NNZs: 1, Bias: 0.022801, T: 60, Avg. loss: 1.057826\n",
      "Total training time: 0.00 seconds.\n",
      "-- Epoch 11\n",
      "Norm: 0.32, NNZs: 1, Bias: 0.020991, T: 66, Avg. loss: 1.045874\n",
      "Total training time: 0.00 seconds.\n",
      "-- Epoch 12\n",
      "Norm: 0.35, NNZs: 1, Bias: 0.018848, T: 72, Avg. loss: 1.034100\n",
      "Total training time: 0.00 seconds.\n",
      "-- Epoch 13\n",
      "Norm: 0.38, NNZs: 1, Bias: 0.016668, T: 78, Avg. loss: 1.022625\n",
      "Total training time: 0.00 seconds.\n",
      "-- Epoch 14\n",
      "Norm: 0.40, NNZs: 1, Bias: 0.013944, T: 84, Avg. loss: 1.011632\n",
      "Total training time: 0.00 seconds.\n",
      "-- Epoch 15\n",
      "Norm: 0.43, NNZs: 1, Bias: 0.010401, T: 90, Avg. loss: 1.001006\n",
      "Total training time: 0.00 seconds.\n",
      "-- Epoch 16\n",
      "Norm: 0.45, NNZs: 1, Bias: 0.006655, T: 96, Avg. loss: 0.990465\n",
      "Total training time: 0.00 seconds.\n",
      "-- Epoch 17\n",
      "Norm: 0.47, NNZs: 1, Bias: 0.003007, T: 102, Avg. loss: 0.980147\n",
      "Total training time: 0.00 seconds.\n",
      "-- Epoch 18\n",
      "Norm: 0.50, NNZs: 1, Bias: -0.001067, T: 108, Avg. loss: 0.970242\n",
      "Total training time: 0.00 seconds.\n",
      "-- Epoch 19\n",
      "Norm: 0.52, NNZs: 1, Bias: -0.005848, T: 114, Avg. loss: 0.960624\n",
      "Total training time: 0.00 seconds.\n",
      "-- Epoch 20\n",
      "Norm: 0.55, NNZs: 1, Bias: -0.010735, T: 120, Avg. loss: 0.951036\n",
      "Total training time: 0.00 seconds.\n",
      "-- Epoch 21\n",
      "Norm: 0.57, NNZs: 1, Bias: -0.015420, T: 126, Avg. loss: 0.941623\n",
      "Total training time: 0.00 seconds.\n",
      "-- Epoch 22\n",
      "Norm: 0.59, NNZs: 1, Bias: -0.020445, T: 132, Avg. loss: 0.932581\n",
      "Total training time: 0.00 seconds.\n",
      "-- Epoch 23\n",
      "Norm: 0.61, NNZs: 1, Bias: -0.026090, T: 138, Avg. loss: 0.923776\n",
      "Total training time: 0.00 seconds.\n",
      "-- Epoch 24\n",
      "Norm: 0.64, NNZs: 1, Bias: -0.031772, T: 144, Avg. loss: 0.914965\n",
      "Total training time: 0.00 seconds.\n",
      "-- Epoch 25\n",
      "Norm: 0.66, NNZs: 1, Bias: -0.037172, T: 150, Avg. loss: 0.906298\n",
      "Total training time: 0.00 seconds.\n",
      "-- Epoch 26\n",
      "Norm: 0.68, NNZs: 1, Bias: -0.042848, T: 156, Avg. loss: 0.897977\n",
      "Total training time: 0.00 seconds.\n",
      "-- Epoch 27\n",
      "Norm: 0.70, NNZs: 1, Bias: -0.049079, T: 162, Avg. loss: 0.889856\n",
      "Total training time: 0.00 seconds.\n",
      "-- Epoch 28\n",
      "Norm: 0.72, NNZs: 1, Bias: -0.055296, T: 168, Avg. loss: 0.881709\n",
      "Total training time: 0.00 seconds.\n",
      "-- Epoch 29\n",
      "Norm: 0.74, NNZs: 1, Bias: -0.061169, T: 174, Avg. loss: 0.873684\n",
      "Total training time: 0.00 seconds.\n",
      "-- Epoch 30\n",
      "Norm: 0.76, NNZs: 1, Bias: -0.067271, T: 180, Avg. loss: 0.865986\n",
      "Total training time: 0.00 seconds.\n",
      "-- Epoch 31\n",
      "Norm: 0.78, NNZs: 1, Bias: -0.073880, T: 186, Avg. loss: 0.858464\n",
      "Total training time: 0.00 seconds.\n",
      "-- Epoch 32\n",
      "Norm: 0.80, NNZs: 1, Bias: -0.080437, T: 192, Avg. loss: 0.850901\n",
      "Total training time: 0.00 seconds.\n",
      "-- Epoch 33\n",
      "Norm: 0.82, NNZs: 1, Bias: -0.086603, T: 198, Avg. loss: 0.843443\n",
      "Total training time: 0.00 seconds.\n",
      "-- Epoch 34\n",
      "Norm: 0.84, NNZs: 1, Bias: -0.092964, T: 204, Avg. loss: 0.836301\n",
      "Total training time: 0.00 seconds.\n",
      "-- Epoch 35\n",
      "Norm: 0.86, NNZs: 1, Bias: -0.099795, T: 210, Avg. loss: 0.829314\n",
      "Total training time: 0.00 seconds.\n",
      "-- Epoch 36\n",
      "Norm: 0.88, NNZs: 1, Bias: -0.106549, T: 216, Avg. loss: 0.822277\n",
      "Total training time: 0.00 seconds.\n",
      "-- Epoch 37\n",
      "Norm: 0.90, NNZs: 1, Bias: -0.112875, T: 222, Avg. loss: 0.815333\n",
      "Total training time: 0.00 seconds.\n",
      "-- Epoch 38\n",
      "Norm: 0.92, NNZs: 1, Bias: -0.119370, T: 228, Avg. loss: 0.808693\n",
      "Total training time: 0.00 seconds.\n",
      "-- Epoch 39\n",
      "Norm: 0.94, NNZs: 1, Bias: -0.126308, T: 234, Avg. loss: 0.802194\n",
      "Total training time: 0.00 seconds.\n",
      "-- Epoch 40\n",
      "Norm: 0.96, NNZs: 1, Bias: -0.133151, T: 240, Avg. loss: 0.795638\n",
      "Total training time: 0.00 seconds.\n",
      "-- Epoch 41\n",
      "Norm: 0.97, NNZs: 1, Bias: -0.139537, T: 246, Avg. loss: 0.789162\n",
      "Total training time: 0.01 seconds.\n",
      "-- Epoch 42\n",
      "Norm: 0.99, NNZs: 1, Bias: -0.146075, T: 252, Avg. loss: 0.782983\n",
      "Total training time: 0.01 seconds.\n",
      "-- Epoch 43\n",
      "Norm: 1.01, NNZs: 1, Bias: -0.153035, T: 258, Avg. loss: 0.776933\n",
      "Total training time: 0.01 seconds.\n",
      "-- Epoch 44\n",
      "Norm: 1.03, NNZs: 1, Bias: -0.159887, T: 264, Avg. loss: 0.770820\n",
      "Total training time: 0.01 seconds.\n",
      "-- Epoch 45\n",
      "Norm: 1.04, NNZs: 1, Bias: -0.166262, T: 270, Avg. loss: 0.764776\n",
      "Total training time: 0.01 seconds.\n",
      "-- Epoch 46\n",
      "Norm: 1.06, NNZs: 1, Bias: -0.172775, T: 276, Avg. loss: 0.759022\n",
      "Total training time: 0.01 seconds.\n",
      "-- Epoch 47\n",
      "Norm: 1.08, NNZs: 1, Bias: -0.179694, T: 282, Avg. loss: 0.753387\n",
      "Total training time: 0.01 seconds.\n",
      "-- Epoch 48\n",
      "Norm: 1.10, NNZs: 1, Bias: -0.186499, T: 288, Avg. loss: 0.747684\n",
      "Total training time: 0.01 seconds.\n",
      "-- Epoch 49\n",
      "Norm: 1.11, NNZs: 1, Bias: -0.192808, T: 294, Avg. loss: 0.742041\n",
      "Total training time: 0.01 seconds.\n",
      "-- Epoch 50\n",
      "Norm: 1.13, NNZs: 1, Bias: -0.199248, T: 300, Avg. loss: 0.736681\n",
      "Total training time: 0.01 seconds.\n",
      "-- Epoch 51\n",
      "Norm: 1.15, NNZs: 1, Bias: -0.206081, T: 306, Avg. loss: 0.731431\n",
      "Total training time: 0.01 seconds.\n",
      "-- Epoch 52\n",
      "Norm: 1.16, NNZs: 1, Bias: -0.212797, T: 312, Avg. loss: 0.726110\n",
      "Total training time: 0.01 seconds.\n",
      "-- Epoch 53\n",
      "Norm: 1.18, NNZs: 1, Bias: -0.219002, T: 318, Avg. loss: 0.720839\n",
      "Total training time: 0.01 seconds.\n",
      "-- Epoch 54\n",
      "Norm: 1.19, NNZs: 1, Bias: -0.225333, T: 324, Avg. loss: 0.715846\n",
      "Total training time: 0.01 seconds.\n",
      "-- Epoch 55\n",
      "Norm: 1.21, NNZs: 1, Bias: -0.232049, T: 330, Avg. loss: 0.710954\n",
      "Total training time: 0.01 seconds.\n",
      "-- Epoch 56\n",
      "Norm: 1.23, NNZs: 1, Bias: -0.238645, T: 336, Avg. loss: 0.705988\n",
      "Total training time: 0.01 seconds.\n",
      "-- Epoch 57\n",
      "Norm: 1.24, NNZs: 1, Bias: -0.244720, T: 342, Avg. loss: 0.701063\n",
      "Total training time: 0.01 seconds.\n",
      "-- Epoch 58\n",
      "Norm: 1.26, NNZs: 1, Bias: -0.250917, T: 348, Avg. loss: 0.696411\n",
      "Total training time: 0.01 seconds.\n",
      "-- Epoch 59\n",
      "Norm: 1.27, NNZs: 1, Bias: -0.257493, T: 354, Avg. loss: 0.691853\n",
      "Total training time: 0.01 seconds.\n",
      "-- Epoch 60\n",
      "Norm: 1.29, NNZs: 1, Bias: -0.263950, T: 360, Avg. loss: 0.687218\n",
      "Total training time: 0.01 seconds.\n",
      "-- Epoch 61\n",
      "Norm: 1.30, NNZs: 1, Bias: -0.269876, T: 366, Avg. loss: 0.682616\n",
      "Total training time: 0.01 seconds.\n",
      "-- Epoch 62\n",
      "Norm: 1.32, NNZs: 1, Bias: -0.275922, T: 372, Avg. loss: 0.678283\n",
      "Total training time: 0.01 seconds.\n",
      "-- Epoch 63\n",
      "Norm: 1.33, NNZs: 1, Bias: -0.282343, T: 378, Avg. loss: 0.674036\n",
      "Total training time: 0.01 seconds.\n",
      "-- Epoch 64\n",
      "Norm: 1.35, NNZs: 1, Bias: -0.288645, T: 384, Avg. loss: 0.669710\n",
      "Total training time: 0.01 seconds.\n",
      "-- Epoch 65\n",
      "Norm: 1.36, NNZs: 1, Bias: -0.294410, T: 390, Avg. loss: 0.665409\n",
      "Total training time: 0.01 seconds.\n",
      "-- Epoch 66\n",
      "Norm: 1.38, NNZs: 1, Bias: -0.300295, T: 396, Avg. loss: 0.661372\n",
      "Total training time: 0.01 seconds.\n",
      "-- Epoch 67\n",
      "Norm: 1.39, NNZs: 1, Bias: -0.306550, T: 402, Avg. loss: 0.657415\n",
      "Total training time: 0.01 seconds.\n",
      "-- Epoch 68\n",
      "Norm: 1.40, NNZs: 1, Bias: -0.312690, T: 408, Avg. loss: 0.653377\n",
      "Total training time: 0.01 seconds.\n",
      "-- Epoch 69\n",
      "Norm: 1.42, NNZs: 1, Bias: -0.318286, T: 414, Avg. loss: 0.649357\n",
      "Total training time: 0.01 seconds.\n",
      "-- Epoch 70\n",
      "Norm: 1.43, NNZs: 1, Bias: -0.324002, T: 420, Avg. loss: 0.645596\n",
      "Total training time: 0.01 seconds.\n",
      "-- Epoch 71\n",
      "Norm: 1.45, NNZs: 1, Bias: -0.330086, T: 426, Avg. loss: 0.641910\n",
      "Total training time: 0.01 seconds.\n",
      "-- Epoch 72\n",
      "Norm: 1.46, NNZs: 1, Bias: -0.336058, T: 432, Avg. loss: 0.638142\n",
      "Total training time: 0.01 seconds.\n",
      "-- Epoch 73\n",
      "Norm: 1.47, NNZs: 1, Bias: -0.341481, T: 438, Avg. loss: 0.634384\n",
      "Total training time: 0.01 seconds.\n",
      "-- Epoch 74\n",
      "Norm: 1.49, NNZs: 1, Bias: -0.347025, T: 444, Avg. loss: 0.630881\n",
      "Total training time: 0.01 seconds.\n",
      "-- Epoch 75\n",
      "Norm: 1.50, NNZs: 1, Bias: -0.352935, T: 450, Avg. loss: 0.627447\n",
      "Total training time: 0.01 seconds.\n",
      "-- Epoch 76\n",
      "Norm: 1.51, NNZs: 1, Bias: -0.358738, T: 456, Avg. loss: 0.623930\n",
      "Total training time: 0.01 seconds.\n",
      "-- Epoch 77\n",
      "Norm: 1.53, NNZs: 1, Bias: -0.363985, T: 462, Avg. loss: 0.620416\n",
      "Total training time: 0.01 seconds.\n",
      "-- Epoch 78\n",
      "Norm: 1.54, NNZs: 1, Bias: -0.369356, T: 468, Avg. loss: 0.617153\n",
      "Total training time: 0.01 seconds.\n",
      "-- Epoch 79\n",
      "Norm: 1.55, NNZs: 1, Bias: -0.375092, T: 474, Avg. loss: 0.613956\n",
      "Total training time: 0.01 seconds.\n",
      "-- Epoch 80\n",
      "Norm: 1.56, NNZs: 1, Bias: -0.380724, T: 480, Avg. loss: 0.610672\n",
      "Total training time: 0.01 seconds.\n",
      "-- Epoch 81\n",
      "Norm: 1.58, NNZs: 1, Bias: -0.385797, T: 486, Avg. loss: 0.607387\n",
      "Total training time: 0.01 seconds.\n",
      "-- Epoch 82\n",
      "Norm: 1.59, NNZs: 1, Bias: -0.390996, T: 492, Avg. loss: 0.604348\n",
      "Total training time: 0.01 seconds.\n",
      "-- Epoch 83\n",
      "Norm: 1.60, NNZs: 1, Bias: -0.396558, T: 498, Avg. loss: 0.601370\n",
      "Total training time: 0.01 seconds.\n",
      "-- Epoch 84\n",
      "Norm: 1.61, NNZs: 1, Bias: -0.402021, T: 504, Avg. loss: 0.598306\n",
      "Total training time: 0.01 seconds.\n",
      "-- Epoch 85\n",
      "Norm: 1.63, NNZs: 1, Bias: -0.406922, T: 510, Avg. loss: 0.595233\n",
      "Total training time: 0.01 seconds.\n",
      "-- Epoch 86\n",
      "Norm: 1.64, NNZs: 1, Bias: -0.411949, T: 516, Avg. loss: 0.592403\n",
      "Total training time: 0.01 seconds.\n",
      "-- Epoch 87\n",
      "Norm: 1.65, NNZs: 1, Bias: -0.417341, T: 522, Avg. loss: 0.589630\n",
      "Total training time: 0.01 seconds.\n",
      "-- Epoch 88\n",
      "Norm: 1.66, NNZs: 1, Bias: -0.422637, T: 528, Avg. loss: 0.586770\n",
      "Total training time: 0.01 seconds.\n",
      "-- Epoch 89\n",
      "Norm: 1.67, NNZs: 1, Bias: -0.427367, T: 534, Avg. loss: 0.583895\n",
      "Total training time: 0.01 seconds.\n",
      "-- Epoch 90\n",
      "Norm: 1.68, NNZs: 1, Bias: -0.432227, T: 540, Avg. loss: 0.581261\n",
      "Total training time: 0.01 seconds.\n",
      "-- Epoch 91\n",
      "Norm: 1.70, NNZs: 1, Bias: -0.437450, T: 546, Avg. loss: 0.578680\n",
      "Total training time: 0.01 seconds.\n",
      "-- Epoch 92\n",
      "Norm: 1.71, NNZs: 1, Bias: -0.442582, T: 552, Avg. loss: 0.576009\n",
      "Total training time: 0.01 seconds.\n",
      "-- Epoch 93\n",
      "Norm: 1.72, NNZs: 1, Bias: -0.447146, T: 558, Avg. loss: 0.573320\n",
      "Total training time: 0.01 seconds.\n",
      "-- Epoch 94\n",
      "Norm: 1.73, NNZs: 1, Bias: -0.451842, T: 564, Avg. loss: 0.570867\n",
      "Total training time: 0.01 seconds.\n",
      "-- Epoch 95\n",
      "Norm: 1.74, NNZs: 1, Bias: -0.456900, T: 570, Avg. loss: 0.568464\n",
      "Total training time: 0.01 seconds.\n",
      "-- Epoch 96\n",
      "Norm: 1.75, NNZs: 1, Bias: -0.461872, T: 576, Avg. loss: 0.565972\n",
      "Total training time: 0.01 seconds.\n",
      "-- Epoch 97\n",
      "Norm: 1.76, NNZs: 1, Bias: -0.466273, T: 582, Avg. loss: 0.563455\n",
      "Total training time: 0.01 seconds.\n",
      "-- Epoch 98\n",
      "Norm: 1.77, NNZs: 1, Bias: -0.470808, T: 588, Avg. loss: 0.561172\n",
      "Total training time: 0.01 seconds.\n",
      "-- Epoch 99\n",
      "Norm: 1.78, NNZs: 1, Bias: -0.475706, T: 594, Avg. loss: 0.558936\n",
      "Total training time: 0.01 seconds.\n",
      "-- Epoch 100\n",
      "Norm: 1.80, NNZs: 1, Bias: -0.480522, T: 600, Avg. loss: 0.556609\n",
      "Total training time: 0.01 seconds.\n",
      "-- Epoch 1\n",
      "Norm: 0.01, NNZs: 1, Bias: -0.013731, T: 19, Avg. loss: 0.547621\n",
      "Total training time: 0.00 seconds.\n",
      "-- Epoch 2\n",
      "Norm: 0.02, NNZs: 1, Bias: -0.027601, T: 38, Avg. loss: 0.545935\n",
      "Total training time: 0.00 seconds.\n",
      "-- Epoch 3\n",
      "Norm: 0.04, NNZs: 1, Bias: -0.035002, T: 57, Avg. loss: 0.544374\n",
      "Total training time: 0.00 seconds.\n",
      "-- Epoch 4\n",
      "Norm: 0.05, NNZs: 1, Bias: -0.044002, T: 76, Avg. loss: 0.543386\n",
      "Total training time: 0.00 seconds.\n",
      "Convergence after 4 epochs took 0.00 seconds\n",
      "-- Epoch 1\n",
      "Norm: 0.05, NNZs: 1, Bias: 0.001984, T: 33, Avg. loss: 0.641473\n",
      "Total training time: 0.00 seconds.\n",
      "-- Epoch 2\n",
      "Norm: 0.08, NNZs: 1, Bias: -0.010574, T: 66, Avg. loss: 0.635398\n",
      "Total training time: 0.00 seconds.\n",
      "-- Epoch 3\n",
      "Norm: 0.11, NNZs: 1, Bias: -0.015132, T: 99, Avg. loss: 0.632816\n",
      "Total training time: 0.00 seconds.\n",
      "-- Epoch 4\n",
      "Norm: 0.13, NNZs: 1, Bias: -0.027612, T: 132, Avg. loss: 0.630466\n",
      "Total training time: 0.00 seconds.\n",
      "-- Epoch 5\n",
      "Norm: 0.15, NNZs: 1, Bias: -0.034806, T: 165, Avg. loss: 0.628977\n",
      "Total training time: 0.00 seconds.\n",
      "-- Epoch 6\n",
      "Norm: 0.18, NNZs: 1, Bias: -0.033929, T: 198, Avg. loss: 0.625414\n",
      "Total training time: 0.00 seconds.\n",
      "-- Epoch 7\n",
      "Norm: 0.18, NNZs: 1, Bias: -0.048822, T: 231, Avg. loss: 0.626640\n",
      "Total training time: 0.00 seconds.\n",
      "Convergence after 7 epochs took 0.00 seconds\n",
      "-- Epoch 1\n",
      "Norm: 0.12, NNZs: 1, Bias: 0.030006, T: 47, Avg. loss: 0.734342\n",
      "Total training time: 0.00 seconds.\n",
      "-- Epoch 2\n",
      "Norm: 0.23, NNZs: 1, Bias: 0.057122, T: 94, Avg. loss: 0.705862\n",
      "Total training time: 0.00 seconds.\n",
      "-- Epoch 3\n",
      "Norm: 0.28, NNZs: 1, Bias: 0.052135, T: 141, Avg. loss: 0.692197\n",
      "Total training time: 0.00 seconds.\n",
      "-- Epoch 4\n",
      "Norm: 0.33, NNZs: 1, Bias: 0.055863, T: 188, Avg. loss: 0.686856\n",
      "Total training time: 0.00 seconds.\n",
      "-- Epoch 5\n",
      "Norm: 0.36, NNZs: 1, Bias: 0.055216, T: 235, Avg. loss: 0.684586\n",
      "Total training time: 0.00 seconds.\n",
      "-- Epoch 6\n",
      "Norm: 0.37, NNZs: 1, Bias: 0.050543, T: 282, Avg. loss: 0.683504\n",
      "Total training time: 0.00 seconds.\n",
      "-- Epoch 7\n",
      "Norm: 0.38, NNZs: 1, Bias: 0.042318, T: 329, Avg. loss: 0.682987\n",
      "Total training time: 0.00 seconds.\n",
      "Convergence after 7 epochs took 0.00 seconds\n",
      "-- Epoch 1\n",
      "Norm: 0.19, NNZs: 1, Bias: 0.039181, T: 61, Avg. loss: 0.591212\n",
      "Total training time: 0.00 seconds.\n",
      "-- Epoch 2\n",
      "Norm: 0.28, NNZs: 1, Bias: 0.039619, T: 122, Avg. loss: 0.559762\n",
      "Total training time: 0.00 seconds.\n",
      "-- Epoch 3\n",
      "Norm: 0.33, NNZs: 1, Bias: 0.058726, T: 183, Avg. loss: 0.550856\n",
      "Total training time: 0.00 seconds.\n",
      "-- Epoch 4\n",
      "Norm: 0.37, NNZs: 1, Bias: 0.068176, T: 244, Avg. loss: 0.546017\n",
      "Total training time: 0.00 seconds.\n",
      "-- Epoch 5\n",
      "Norm: 0.37, NNZs: 1, Bias: 0.047985, T: 305, Avg. loss: 0.546093\n",
      "Total training time: 0.00 seconds.\n",
      "Convergence after 5 epochs took 0.00 seconds\n",
      "-- Epoch 1\n",
      "Norm: 0.01, NNZs: 1, Bias: -0.013262, T: 6, Avg. loss: 0.118174\n",
      "Total training time: 0.00 seconds.\n",
      "-- Epoch 2\n",
      "Norm: 0.02, NNZs: 1, Bias: -0.025201, T: 12, Avg. loss: 0.114050\n",
      "Total training time: 0.00 seconds.\n",
      "-- Epoch 3\n",
      "Norm: 0.03, NNZs: 1, Bias: -0.036582, T: 18, Avg. loss: 0.110564\n",
      "Total training time: 0.00 seconds.\n",
      "-- Epoch 4\n",
      "Norm: 0.03, NNZs: 1, Bias: -0.046996, T: 24, Avg. loss: 0.107589\n",
      "Total training time: 0.00 seconds.\n",
      "-- Epoch 5\n",
      "Norm: 0.04, NNZs: 1, Bias: -0.056799, T: 30, Avg. loss: 0.105114\n",
      "Total training time: 0.00 seconds.\n",
      "-- Epoch 6\n",
      "Norm: 0.05, NNZs: 1, Bias: -0.065565, T: 36, Avg. loss: 0.103080\n",
      "Total training time: 0.00 seconds.\n",
      "-- Epoch 7\n",
      "Norm: 0.05, NNZs: 1, Bias: -0.074026, T: 42, Avg. loss: 0.101346\n",
      "Total training time: 0.00 seconds.\n",
      "-- Epoch 8\n",
      "Norm: 0.06, NNZs: 1, Bias: -0.081749, T: 48, Avg. loss: 0.099852\n",
      "Total training time: 0.00 seconds.\n",
      "-- Epoch 9\n",
      "Norm: 0.06, NNZs: 1, Bias: -0.089066, T: 54, Avg. loss: 0.098609\n",
      "Total training time: 0.00 seconds.\n",
      "-- Epoch 10\n",
      "Norm: 0.06, NNZs: 1, Bias: -0.095546, T: 60, Avg. loss: 0.097586\n",
      "Total training time: 0.00 seconds.\n",
      "-- Epoch 11\n",
      "Norm: 0.07, NNZs: 1, Bias: -0.101900, T: 66, Avg. loss: 0.096703\n",
      "Total training time: 0.00 seconds.\n",
      "Convergence after 11 epochs took 0.00 seconds\n",
      "-- Epoch 1\n",
      "Norm: 0.09, NNZs: 1, Bias: -0.031530, T: 19, Avg. loss: 0.222625\n",
      "Total training time: 0.00 seconds.\n",
      "-- Epoch 2\n",
      "Norm: 0.15, NNZs: 1, Bias: -0.051248, T: 38, Avg. loss: 0.190180\n",
      "Total training time: 0.00 seconds.\n",
      "-- Epoch 3\n",
      "Norm: 0.19, NNZs: 1, Bias: -0.063509, T: 57, Avg. loss: 0.173698\n",
      "Total training time: 0.00 seconds.\n",
      "-- Epoch 4\n",
      "Norm: 0.23, NNZs: 1, Bias: -0.068389, T: 76, Avg. loss: 0.165158\n",
      "Total training time: 0.00 seconds.\n",
      "-- Epoch 5\n",
      "Norm: 0.25, NNZs: 1, Bias: -0.070491, T: 95, Avg. loss: 0.160805\n",
      "Total training time: 0.00 seconds.\n",
      "-- Epoch 6\n",
      "Norm: 0.27, NNZs: 1, Bias: -0.071350, T: 114, Avg. loss: 0.158126\n",
      "Total training time: 0.00 seconds.\n",
      "-- Epoch 7\n",
      "Norm: 0.28, NNZs: 1, Bias: -0.069256, T: 133, Avg. loss: 0.156841\n",
      "Total training time: 0.00 seconds.\n",
      "-- Epoch 8\n",
      "Norm: 0.30, NNZs: 1, Bias: -0.068832, T: 152, Avg. loss: 0.155818\n",
      "Total training time: 0.00 seconds.\n",
      "-- Epoch 9\n",
      "Norm: 0.31, NNZs: 1, Bias: -0.067288, T: 171, Avg. loss: 0.155263\n",
      "Total training time: 0.00 seconds.\n",
      "Convergence after 9 epochs took 0.00 seconds\n",
      "-- Epoch 1\n",
      "Norm: 0.15, NNZs: 1, Bias: -0.027521, T: 33, Avg. loss: 0.424744\n",
      "Total training time: 0.00 seconds.\n",
      "-- Epoch 2\n",
      "Norm: 0.24, NNZs: 1, Bias: -0.026146, T: 66, Avg. loss: 0.379078\n",
      "Total training time: 0.00 seconds.\n",
      "-- Epoch 3\n",
      "Norm: 0.31, NNZs: 1, Bias: -0.022464, T: 99, Avg. loss: 0.359376\n",
      "Total training time: 0.00 seconds.\n",
      "-- Epoch 4\n",
      "Norm: 0.34, NNZs: 1, Bias: -0.015059, T: 132, Avg. loss: 0.350243\n",
      "Total training time: 0.00 seconds.\n",
      "-- Epoch 5\n",
      "Norm: 0.38, NNZs: 1, Bias: -0.007710, T: 165, Avg. loss: 0.346671\n",
      "Total training time: 0.00 seconds.\n",
      "-- Epoch 6\n",
      "Norm: 0.40, NNZs: 1, Bias: 0.003815, T: 198, Avg. loss: 0.344359\n",
      "Total training time: 0.00 seconds.\n",
      "-- Epoch 7\n",
      "Norm: 0.42, NNZs: 1, Bias: 0.012785, T: 231, Avg. loss: 0.342201\n",
      "Total training time: 0.00 seconds.\n",
      "-- Epoch 8\n",
      "Norm: 0.43, NNZs: 1, Bias: 0.015500, T: 264, Avg. loss: 0.341806\n",
      "Total training time: 0.00 seconds.\n",
      "Convergence after 8 epochs took 0.00 seconds\n",
      "-- Epoch 1\n",
      "Norm: 0.23, NNZs: 1, Bias: 0.027487, T: 47, Avg. loss: 0.563254\n",
      "Total training time: 0.00 seconds.\n",
      "-- Epoch 2\n",
      "Norm: 0.37, NNZs: 1, Bias: 0.080838, T: 94, Avg. loss: 0.483479\n",
      "Total training time: 0.00 seconds.\n",
      "-- Epoch 3\n",
      "Norm: 0.46, NNZs: 1, Bias: 0.109665, T: 141, Avg. loss: 0.451732\n",
      "Total training time: 0.00 seconds.\n",
      "-- Epoch 4\n",
      "Norm: 0.52, NNZs: 1, Bias: 0.130594, T: 188, Avg. loss: 0.437788\n",
      "Total training time: 0.00 seconds.\n",
      "-- Epoch 5\n",
      "Norm: 0.56, NNZs: 1, Bias: 0.162994, T: 235, Avg. loss: 0.432250\n",
      "Total training time: 0.00 seconds.\n",
      "-- Epoch 6\n",
      "Norm: 0.58, NNZs: 1, Bias: 0.190095, T: 282, Avg. loss: 0.428828\n",
      "Total training time: 0.00 seconds.\n",
      "-- Epoch 7\n",
      "Norm: 0.61, NNZs: 1, Bias: 0.195520, T: 329, Avg. loss: 0.425952\n",
      "Total training time: 0.00 seconds.\n",
      "-- Epoch 8\n",
      "Norm: 0.61, NNZs: 1, Bias: 0.209437, T: 376, Avg. loss: 0.426931\n",
      "Total training time: 0.00 seconds.\n",
      "Convergence after 8 epochs took 0.00 seconds\n",
      "-- Epoch 1\n",
      "Norm: 0.26, NNZs: 1, Bias: 0.043622, T: 61, Avg. loss: 0.457733\n",
      "Total training time: 0.00 seconds.\n",
      "-- Epoch 2\n",
      "Norm: 0.40, NNZs: 1, Bias: 0.086562, T: 122, Avg. loss: 0.386877\n",
      "Total training time: 0.00 seconds.\n",
      "-- Epoch 3\n",
      "Norm: 0.49, NNZs: 1, Bias: 0.127477, T: 183, Avg. loss: 0.363007\n",
      "Total training time: 0.00 seconds.\n",
      "-- Epoch 4\n",
      "Norm: 0.54, NNZs: 1, Bias: 0.147973, T: 244, Avg. loss: 0.354427\n",
      "Total training time: 0.00 seconds.\n",
      "-- Epoch 5\n",
      "Norm: 0.55, NNZs: 1, Bias: 0.158894, T: 305, Avg. loss: 0.351805\n",
      "Total training time: 0.00 seconds.\n",
      "-- Epoch 6\n",
      "Norm: 0.57, NNZs: 1, Bias: 0.179406, T: 366, Avg. loss: 0.351178\n",
      "Total training time: 0.00 seconds.\n",
      "Convergence after 6 epochs took 0.00 seconds\n",
      "-- Epoch 1\n",
      "Norm: 0.01, NNZs: 1, Bias: -0.013262, T: 6, Avg. loss: 0.118174\n",
      "Total training time: 0.00 seconds.\n",
      "-- Epoch 2\n",
      "Norm: 0.02, NNZs: 1, Bias: -0.025201, T: 12, Avg. loss: 0.114050\n",
      "Total training time: 0.00 seconds.\n",
      "-- Epoch 3\n",
      "Norm: 0.03, NNZs: 1, Bias: -0.036582, T: 18, Avg. loss: 0.110564\n",
      "Total training time: 0.00 seconds.\n",
      "-- Epoch 4\n",
      "Norm: 0.03, NNZs: 1, Bias: -0.046996, T: 24, Avg. loss: 0.107589\n",
      "Total training time: 0.00 seconds.\n",
      "-- Epoch 5\n",
      "Norm: 0.04, NNZs: 1, Bias: -0.056799, T: 30, Avg. loss: 0.105114\n",
      "Total training time: 0.00 seconds.\n",
      "-- Epoch 6\n",
      "Norm: 0.05, NNZs: 1, Bias: -0.065565, T: 36, Avg. loss: 0.103080\n",
      "Total training time: 0.00 seconds.\n",
      "-- Epoch 7\n",
      "Norm: 0.05, NNZs: 1, Bias: -0.074026, T: 42, Avg. loss: 0.101346\n",
      "Total training time: 0.00 seconds.\n",
      "-- Epoch 8\n",
      "Norm: 0.06, NNZs: 1, Bias: -0.081749, T: 48, Avg. loss: 0.099852\n",
      "Total training time: 0.00 seconds.\n",
      "-- Epoch 9\n",
      "Norm: 0.06, NNZs: 1, Bias: -0.089066, T: 54, Avg. loss: 0.098609\n",
      "Total training time: 0.00 seconds.\n",
      "-- Epoch 10\n",
      "Norm: 0.06, NNZs: 1, Bias: -0.095546, T: 60, Avg. loss: 0.097586\n",
      "Total training time: 0.00 seconds.\n",
      "-- Epoch 11\n",
      "Norm: 0.07, NNZs: 1, Bias: -0.101900, T: 66, Avg. loss: 0.096703\n",
      "Total training time: 0.00 seconds.\n",
      "Convergence after 11 epochs took 0.00 seconds\n",
      "-- Epoch 1\n",
      "Norm: 0.09, NNZs: 1, Bias: -0.031530, T: 19, Avg. loss: 0.222625\n",
      "Total training time: 0.00 seconds.\n",
      "-- Epoch 2\n",
      "Norm: 0.15, NNZs: 1, Bias: -0.051248, T: 38, Avg. loss: 0.190180\n",
      "Total training time: 0.00 seconds.\n",
      "-- Epoch 3\n",
      "Norm: 0.19, NNZs: 1, Bias: -0.063509, T: 57, Avg. loss: 0.173698\n",
      "Total training time: 0.00 seconds.\n",
      "-- Epoch 4\n",
      "Norm: 0.23, NNZs: 1, Bias: -0.068389, T: 76, Avg. loss: 0.165158\n",
      "Total training time: 0.00 seconds.\n",
      "-- Epoch 5\n",
      "Norm: 0.25, NNZs: 1, Bias: -0.070491, T: 95, Avg. loss: 0.160805\n",
      "Total training time: 0.00 seconds.\n",
      "-- Epoch 6\n",
      "Norm: 0.27, NNZs: 1, Bias: -0.071350, T: 114, Avg. loss: 0.158126\n",
      "Total training time: 0.00 seconds.\n",
      "-- Epoch 7\n",
      "Norm: 0.28, NNZs: 1, Bias: -0.069256, T: 133, Avg. loss: 0.156841\n",
      "Total training time: 0.00 seconds.\n",
      "-- Epoch 8\n",
      "Norm: 0.30, NNZs: 1, Bias: -0.068832, T: 152, Avg. loss: 0.155818\n",
      "Total training time: 0.00 seconds.\n",
      "-- Epoch 9\n",
      "Norm: 0.31, NNZs: 1, Bias: -0.067288, T: 171, Avg. loss: 0.155263\n",
      "Total training time: 0.00 seconds.\n",
      "Convergence after 9 epochs took 0.00 seconds\n",
      "-- Epoch 1\n",
      "Norm: 0.12, NNZs: 1, Bias: -0.062402, T: 33, Avg. loss: 0.235952\n",
      "Total training time: 0.00 seconds.\n",
      "-- Epoch 2\n",
      "Norm: 0.18, NNZs: 1, Bias: -0.089140, T: 66, Avg. loss: 0.204274\n",
      "Total training time: 0.00 seconds.\n",
      "-- Epoch 3\n",
      "Norm: 0.23, NNZs: 1, Bias: -0.111975, T: 99, Avg. loss: 0.192385\n",
      "Total training time: 0.00 seconds.\n",
      "-- Epoch 4\n",
      "Norm: 0.25, NNZs: 1, Bias: -0.117664, T: 132, Avg. loss: 0.187778\n",
      "Total training time: 0.00 seconds.\n",
      "-- Epoch 5\n",
      "Norm: 0.28, NNZs: 1, Bias: -0.121572, T: 165, Avg. loss: 0.186145\n",
      "Total training time: 0.00 seconds.\n",
      "-- Epoch 6\n",
      "Norm: 0.29, NNZs: 1, Bias: -0.120192, T: 198, Avg. loss: 0.185364\n",
      "Total training time: 0.00 seconds.\n",
      "Convergence after 6 epochs took 0.00 seconds\n",
      "-- Epoch 1\n",
      "Norm: 0.12, NNZs: 1, Bias: -0.073796, T: 47, Avg. loss: 0.339827\n",
      "Total training time: 0.00 seconds.\n",
      "-- Epoch 2\n",
      "Norm: 0.17, NNZs: 1, Bias: -0.106933, T: 94, Avg. loss: 0.317183\n",
      "Total training time: 0.00 seconds.\n",
      "-- Epoch 3\n",
      "Norm: 0.21, NNZs: 1, Bias: -0.134236, T: 141, Avg. loss: 0.311037\n",
      "Total training time: 0.00 seconds.\n",
      "-- Epoch 4\n",
      "Norm: 0.23, NNZs: 1, Bias: -0.147155, T: 188, Avg. loss: 0.308947\n",
      "Total training time: 0.00 seconds.\n",
      "-- Epoch 5\n",
      "Norm: 0.24, NNZs: 1, Bias: -0.146328, T: 235, Avg. loss: 0.308610\n",
      "Total training time: 0.00 seconds.\n",
      "Convergence after 5 epochs took 0.00 seconds\n",
      "-- Epoch 1\n",
      "Norm: 0.11, NNZs: 1, Bias: -0.091720, T: 61, Avg. loss: 0.358605\n",
      "Total training time: 0.00 seconds.\n",
      "-- Epoch 2\n",
      "Norm: 0.18, NNZs: 1, Bias: -0.132087, T: 122, Avg. loss: 0.338675\n",
      "Total training time: 0.00 seconds.\n",
      "-- Epoch 3\n",
      "Norm: 0.21, NNZs: 1, Bias: -0.163225, T: 183, Avg. loss: 0.333154\n",
      "Total training time: 0.00 seconds.\n",
      "-- Epoch 4\n",
      "Norm: 0.21, NNZs: 1, Bias: -0.190151, T: 244, Avg. loss: 0.330962\n",
      "Total training time: 0.00 seconds.\n",
      "-- Epoch 5\n",
      "Norm: 0.22, NNZs: 1, Bias: -0.179888, T: 305, Avg. loss: 0.332381\n",
      "Total training time: 0.00 seconds.\n",
      "Convergence after 5 epochs took 0.00 seconds\n"
     ]
    },
    {
     "name": "stderr",
     "output_type": "stream",
     "text": [
      "C:\\Users\\issohl\\AppData\\Local\\Continuum\\miniconda3\\envs\\mldds02\\lib\\site-packages\\sklearn\\linear_model\\stochastic_gradient.py:1022: ConvergenceWarning: Maximum number of iteration reached before convergence. Consider increasing max_iter to improve the fit.\n",
      "  ConvergenceWarning)\n"
     ]
    }
   ],
   "source": [
    "# 1. Generate the learning curve for linear_model\n",
    "# By default this uses 3-fold Cross Validation (more on that later)\n",
    "train_sizes, train_scores, validation_scores = learning_curve(\n",
    "    linear_model, X_train_scaled, y_train_scaled)\n",
    "\n",
    "# 2. Compute some stats\n",
    "train_scores_mean = np.mean(train_scores, axis=1)\n",
    "train_scores_std = np.std(train_scores, axis=1)\n",
    "validation_scores_mean = np.mean(validation_scores, axis=1)\n",
    "validation_scores_std = np.std(validation_scores, axis=1)"
   ]
  },
  {
   "cell_type": "code",
   "execution_count": 297,
   "metadata": {
    "slideshow": {
     "slide_type": "-"
    }
   },
   "outputs": [
    {
     "data": {
      "text/plain": [
       "<matplotlib.legend.Legend at 0x23f3dccf908>"
      ]
     },
     "execution_count": 297,
     "metadata": {},
     "output_type": "execute_result"
    },
    {
     "data": {
      "image/png": "[encoded data removed]",
      "text/plain": [
       "<Figure size 1080x576 with 1 Axes>"
      ]
     },
     "metadata": {},
     "output_type": "display_data"
    }
   ],
   "source": [
    "# 3. Plot the learning curve, along with the stats\n",
    "fig, ax = plt.subplots(figsize=(15, 8))\n",
    "\n",
    "ax.fill_between(train_sizes, train_scores_mean - train_scores_std,\n",
    "                train_scores_mean + train_scores_std, alpha=0.1,\n",
    "                color=\"r\")\n",
    "ax.fill_between(train_sizes, validation_scores_mean - validation_scores_std,\n",
    "                validation_scores_mean + validation_scores_std, alpha=0.1, color=\"g\")\n",
    "ax.plot(train_sizes, train_scores_mean, 'o-', color=\"r\",\n",
    "        label=\"Training score\")\n",
    "ax.plot(train_sizes, validation_scores_mean, 'o-', color=\"g\",\n",
    "        label=\"Cross-validation score\")\n",
    "ax.set(title='Learning Curve: 1st Order Model',\n",
    "       xlabel='Training examples',\n",
    "       ylabel='R2 Scores')\n",
    "ax.grid()\n",
    "ax.legend()"
   ]
  },
  {
   "cell_type": "markdown",
   "metadata": {
    "slideshow": {
     "slide_type": "-"
    }
   },
   "source": [
    "## Exercise: Plot Learning Curve\n",
    "\n",
    "Follow the example above and:\n",
    "1. Generate the learning curve for the polynomial model (`poly_model`)\n",
    "2. Compute statistics\n",
    "3. Plot the learning curve and the statistics"
   ]
  },
  {
   "cell_type": "code",
   "execution_count": 298,
   "metadata": {
    "slideshow": {
     "slide_type": "-"
    }
   },
   "outputs": [
    {
     "name": "stdout",
     "output_type": "stream",
     "text": [
      "-- Epoch 1\n",
      "Norm: 0.15, NNZs: 12, Bias: 0.006325, T: 6, Avg. loss: 1.184769\n",
      "Total training time: 0.00 seconds.\n",
      "-- Epoch 2\n",
      "Norm: 0.26, NNZs: 12, Bias: 0.005231, T: 12, Avg. loss: 0.886085\n",
      "Total training time: 0.00 seconds.\n",
      "-- Epoch 3\n",
      "Norm: 0.35, NNZs: 12, Bias: -0.001538, T: 18, Avg. loss: 0.707268\n",
      "Total training time: 0.00 seconds.\n",
      "-- Epoch 4\n",
      "Norm: 0.42, NNZs: 12, Bias: -0.011841, T: 24, Avg. loss: 0.597623\n",
      "Total training time: 0.00 seconds.\n",
      "-- Epoch 5\n",
      "Norm: 0.47, NNZs: 12, Bias: -0.024170, T: 30, Avg. loss: 0.528687\n",
      "Total training time: 0.00 seconds.\n",
      "-- Epoch 6\n",
      "Norm: 0.51, NNZs: 12, Bias: -0.038245, T: 36, Avg. loss: 0.484248\n",
      "Total training time: 0.00 seconds.\n",
      "-- Epoch 7\n",
      "Norm: 0.55, NNZs: 12, Bias: -0.053792, T: 42, Avg. loss: 0.454403\n",
      "Total training time: 0.00 seconds.\n",
      "-- Epoch 8\n",
      "Norm: 0.57, NNZs: 12, Bias: -0.069735, T: 48, Avg. loss: 0.432936\n",
      "Total training time: 0.00 seconds.\n",
      "-- Epoch 9\n",
      "Norm: 0.60, NNZs: 12, Bias: -0.085389, T: 54, Avg. loss: 0.416926\n",
      "Total training time: 0.00 seconds.\n",
      "-- Epoch 10\n",
      "Norm: 0.62, NNZs: 12, Bias: -0.101031, T: 60, Avg. loss: 0.404620\n",
      "Total training time: 0.00 seconds.\n",
      "-- Epoch 11\n",
      "Norm: 0.63, NNZs: 12, Bias: -0.116875, T: 66, Avg. loss: 0.394677\n",
      "Total training time: 0.00 seconds.\n",
      "-- Epoch 12\n",
      "Norm: 0.65, NNZs: 12, Bias: -0.132196, T: 72, Avg. loss: 0.386038\n",
      "Total training time: 0.00 seconds.\n",
      "-- Epoch 13\n",
      "Norm: 0.66, NNZs: 12, Bias: -0.146583, T: 78, Avg. loss: 0.378659\n",
      "Total training time: 0.00 seconds.\n",
      "-- Epoch 14\n",
      "Norm: 0.67, NNZs: 12, Bias: -0.160486, T: 84, Avg. loss: 0.372362\n",
      "Total training time: 0.00 seconds.\n",
      "-- Epoch 15\n",
      "Norm: 0.68, NNZs: 12, Bias: -0.174281, T: 90, Avg. loss: 0.366825\n",
      "Total training time: 0.00 seconds.\n",
      "-- Epoch 16\n",
      "Norm: 0.68, NNZs: 12, Bias: -0.187358, T: 96, Avg. loss: 0.361626\n",
      "Total training time: 0.00 seconds.\n",
      "-- Epoch 17\n",
      "Norm: 0.69, NNZs: 12, Bias: -0.199387, T: 102, Avg. loss: 0.357027\n",
      "Total training time: 0.00 seconds.\n",
      "-- Epoch 18\n",
      "Norm: 0.70, NNZs: 12, Bias: -0.210873, T: 108, Avg. loss: 0.353018\n",
      "Total training time: 0.00 seconds.\n",
      "-- Epoch 19\n",
      "Norm: 0.71, NNZs: 12, Bias: -0.222242, T: 114, Avg. loss: 0.349441\n",
      "Total training time: 0.00 seconds.\n",
      "-- Epoch 20\n",
      "Norm: 0.71, NNZs: 12, Bias: -0.232916, T: 120, Avg. loss: 0.345973\n",
      "Total training time: 0.00 seconds.\n",
      "-- Epoch 21\n",
      "Norm: 0.72, NNZs: 12, Bias: -0.242591, T: 126, Avg. loss: 0.342894\n",
      "Total training time: 0.00 seconds.\n",
      "-- Epoch 22\n",
      "Norm: 0.72, NNZs: 12, Bias: -0.251782, T: 132, Avg. loss: 0.340211\n",
      "Total training time: 0.00 seconds.\n",
      "-- Epoch 23\n",
      "Norm: 0.73, NNZs: 12, Bias: -0.260929, T: 138, Avg. loss: 0.337828\n",
      "Total training time: 0.00 seconds.\n",
      "-- Epoch 24\n",
      "Norm: 0.73, NNZs: 12, Bias: -0.269462, T: 144, Avg. loss: 0.335451\n",
      "Total training time: 0.00 seconds.\n",
      "-- Epoch 25\n",
      "Norm: 0.74, NNZs: 12, Bias: -0.277082, T: 150, Avg. loss: 0.333341\n",
      "Total training time: 0.00 seconds.\n",
      "-- Epoch 26\n",
      "Norm: 0.74, NNZs: 12, Bias: -0.284302, T: 156, Avg. loss: 0.331510\n",
      "Total training time: 0.01 seconds.\n",
      "-- Epoch 27\n",
      "Norm: 0.75, NNZs: 12, Bias: -0.291565, T: 162, Avg. loss: 0.329906\n",
      "Total training time: 0.01 seconds.\n",
      "-- Epoch 28\n",
      "Norm: 0.75, NNZs: 12, Bias: -0.298301, T: 168, Avg. loss: 0.328243\n",
      "Total training time: 0.01 seconds.\n",
      "-- Epoch 29\n",
      "Norm: 0.75, NNZs: 12, Bias: -0.304208, T: 174, Avg. loss: 0.326768\n",
      "Total training time: 0.01 seconds.\n",
      "-- Epoch 30\n",
      "Norm: 0.76, NNZs: 12, Bias: -0.309796, T: 180, Avg. loss: 0.325493\n",
      "Total training time: 0.01 seconds.\n",
      "-- Epoch 31\n",
      "Norm: 0.76, NNZs: 12, Bias: -0.315505, T: 186, Avg. loss: 0.324399\n",
      "Total training time: 0.01 seconds.\n",
      "-- Epoch 32\n",
      "Norm: 0.76, NNZs: 12, Bias: -0.320765, T: 192, Avg. loss: 0.323208\n",
      "Total training time: 0.01 seconds.\n",
      "-- Epoch 33\n",
      "Norm: 0.77, NNZs: 12, Bias: -0.325270, T: 198, Avg. loss: 0.322150\n",
      "Total training time: 0.01 seconds.\n",
      "-- Epoch 34\n",
      "Norm: 0.77, NNZs: 12, Bias: -0.329526, T: 204, Avg. loss: 0.321238\n",
      "Total training time: 0.01 seconds.\n",
      "-- Epoch 35\n",
      "Norm: 0.78, NNZs: 12, Bias: -0.333969, T: 210, Avg. loss: 0.320479\n",
      "Total training time: 0.01 seconds.\n",
      "-- Epoch 36\n",
      "Norm: 0.78, NNZs: 12, Bias: -0.338028, T: 216, Avg. loss: 0.319599\n",
      "Total training time: 0.01 seconds.\n",
      "-- Epoch 37\n",
      "Norm: 0.78, NNZs: 12, Bias: -0.341393, T: 222, Avg. loss: 0.318815\n",
      "Total training time: 0.01 seconds.\n",
      "-- Epoch 38\n",
      "Norm: 0.78, NNZs: 12, Bias: -0.344566, T: 228, Avg. loss: 0.318139\n",
      "Total training time: 0.01 seconds.\n",
      "-- Epoch 39\n",
      "Norm: 0.79, NNZs: 12, Bias: -0.347982, T: 234, Avg. loss: 0.317599\n",
      "Total training time: 0.01 seconds.\n",
      "-- Epoch 40\n",
      "Norm: 0.79, NNZs: 12, Bias: -0.351067, T: 240, Avg. loss: 0.316925\n",
      "Total training time: 0.01 seconds.\n",
      "-- Epoch 41\n",
      "Norm: 0.79, NNZs: 12, Bias: -0.353509, T: 246, Avg. loss: 0.316321\n",
      "Total training time: 0.01 seconds.\n",
      "-- Epoch 42\n",
      "Norm: 0.80, NNZs: 12, Bias: -0.355806, T: 252, Avg. loss: 0.315799\n",
      "Total training time: 0.01 seconds.\n",
      "-- Epoch 43\n",
      "Norm: 0.80, NNZs: 12, Bias: -0.358391, T: 258, Avg. loss: 0.315404\n",
      "Total training time: 0.01 seconds.\n",
      "-- Epoch 44\n",
      "Norm: 0.80, NNZs: 12, Bias: -0.360688, T: 264, Avg. loss: 0.314865\n",
      "Total training time: 0.01 seconds.\n",
      "-- Epoch 45\n",
      "Norm: 0.80, NNZs: 12, Bias: -0.362383, T: 270, Avg. loss: 0.314380\n",
      "Total training time: 0.01 seconds.\n",
      "-- Epoch 46\n",
      "Norm: 0.81, NNZs: 12, Bias: -0.363971, T: 276, Avg. loss: 0.313958\n",
      "Total training time: 0.01 seconds.\n",
      "-- Epoch 47\n",
      "Norm: 0.81, NNZs: 12, Bias: -0.365883, T: 282, Avg. loss: 0.313657\n",
      "Total training time: 0.01 seconds.\n",
      "-- Epoch 48\n",
      "Norm: 0.81, NNZs: 12, Bias: -0.367543, T: 288, Avg. loss: 0.313209\n",
      "Total training time: 0.01 seconds.\n",
      "-- Epoch 49\n",
      "Norm: 0.81, NNZs: 12, Bias: -0.368633, T: 294, Avg. loss: 0.312802\n",
      "Total training time: 0.01 seconds.\n",
      "-- Epoch 50\n",
      "Norm: 0.82, NNZs: 12, Bias: -0.369648, T: 300, Avg. loss: 0.312445\n",
      "Total training time: 0.01 seconds.\n",
      "-- Epoch 51\n",
      "Norm: 0.82, NNZs: 12, Bias: -0.371017, T: 306, Avg. loss: 0.312206\n",
      "Total training time: 0.01 seconds.\n",
      "-- Epoch 52\n",
      "Norm: 0.82, NNZs: 12, Bias: -0.372162, T: 312, Avg. loss: 0.311818\n",
      "Total training time: 0.01 seconds.\n",
      "-- Epoch 53\n",
      "Norm: 0.82, NNZs: 12, Bias: -0.372764, T: 318, Avg. loss: 0.311462\n",
      "Total training time: 0.01 seconds.\n",
      "-- Epoch 54\n",
      "Norm: 0.83, NNZs: 12, Bias: -0.373316, T: 324, Avg. loss: 0.311148\n",
      "Total training time: 0.01 seconds.\n",
      "-- Epoch 55\n",
      "Norm: 0.83, NNZs: 12, Bias: -0.374246, T: 330, Avg. loss: 0.310950\n",
      "Total training time: 0.01 seconds.\n",
      "-- Epoch 56\n",
      "Norm: 0.83, NNZs: 12, Bias: -0.374975, T: 336, Avg. loss: 0.310602\n",
      "Total training time: 0.01 seconds.\n",
      "-- Epoch 57\n",
      "Norm: 0.83, NNZs: 12, Bias: -0.375182, T: 342, Avg. loss: 0.310281\n",
      "Total training time: 0.01 seconds.\n",
      "-- Epoch 58\n",
      "Norm: 0.83, NNZs: 12, Bias: -0.375360, T: 348, Avg. loss: 0.309994\n",
      "Total training time: 0.01 seconds.\n",
      "-- Epoch 59\n",
      "Norm: 0.84, NNZs: 12, Bias: -0.375935, T: 354, Avg. loss: 0.309823\n",
      "Total training time: 0.01 seconds.\n",
      "-- Epoch 60\n",
      "Norm: 0.84, NNZs: 12, Bias: -0.376328, T: 360, Avg. loss: 0.309502\n",
      "Total training time: 0.01 seconds.\n",
      "-- Epoch 61\n",
      "Norm: 0.84, NNZs: 12, Bias: -0.376217, T: 366, Avg. loss: 0.309204\n",
      "Total training time: 0.01 seconds.\n",
      "-- Epoch 62\n",
      "Norm: 0.84, NNZs: 12, Bias: -0.376092, T: 372, Avg. loss: 0.308935\n",
      "Total training time: 0.01 seconds.\n",
      "-- Epoch 63\n",
      "Norm: 0.84, NNZs: 12, Bias: -0.376381, T: 378, Avg. loss: 0.308782\n",
      "Total training time: 0.01 seconds.\n",
      "-- Epoch 64\n",
      "Norm: 0.85, NNZs: 12, Bias: -0.376503, T: 384, Avg. loss: 0.308480\n",
      "Total training time: 0.01 seconds.\n",
      "-- Epoch 65\n",
      "Norm: 0.85, NNZs: 12, Bias: -0.376134, T: 390, Avg. loss: 0.308197\n",
      "Total training time: 0.01 seconds.\n",
      "-- Epoch 66\n",
      "Norm: 0.85, NNZs: 12, Bias: -0.375766, T: 396, Avg. loss: 0.307939\n",
      "Total training time: 0.01 seconds.\n",
      "-- Epoch 67\n",
      "Norm: 0.85, NNZs: 12, Bias: -0.375823, T: 402, Avg. loss: 0.307798\n",
      "Total training time: 0.01 seconds.\n",
      "-- Epoch 68\n",
      "Norm: 0.85, NNZs: 12, Bias: -0.375727, T: 408, Avg. loss: 0.307510\n",
      "Total training time: 0.01 seconds.\n",
      "-- Epoch 69\n",
      "Norm: 0.86, NNZs: 12, Bias: -0.375150, T: 414, Avg. loss: 0.307237\n",
      "Total training time: 0.01 seconds.\n",
      "-- Epoch 70\n",
      "Norm: 0.86, NNZs: 12, Bias: -0.374586, T: 420, Avg. loss: 0.306988\n",
      "Total training time: 0.02 seconds.\n",
      "-- Epoch 71\n",
      "Norm: 0.86, NNZs: 12, Bias: -0.374457, T: 426, Avg. loss: 0.306855\n",
      "Total training time: 0.02 seconds.\n",
      "-- Epoch 72\n",
      "Norm: 0.86, NNZs: 12, Bias: -0.374184, T: 432, Avg. loss: 0.306575\n",
      "Total training time: 0.02 seconds.\n",
      "-- Epoch 73\n",
      "Norm: 0.86, NNZs: 12, Bias: -0.373440, T: 438, Avg. loss: 0.306310\n",
      "Total training time: 0.02 seconds.\n",
      "-- Epoch 74\n",
      "Norm: 0.87, NNZs: 12, Bias: -0.372717, T: 444, Avg. loss: 0.306065\n",
      "Total training time: 0.02 seconds.\n",
      "-- Epoch 75\n",
      "Norm: 0.87, NNZs: 12, Bias: -0.372437, T: 450, Avg. loss: 0.305938\n",
      "Total training time: 0.02 seconds.\n",
      "-- Epoch 76\n",
      "Norm: 0.87, NNZs: 12, Bias: -0.372023, T: 456, Avg. loss: 0.305665\n",
      "Total training time: 0.02 seconds.\n",
      "-- Epoch 77\n",
      "Norm: 0.87, NNZs: 12, Bias: -0.371144, T: 462, Avg. loss: 0.305405\n",
      "Total training time: 0.02 seconds.\n",
      "-- Epoch 78\n",
      "Norm: 0.87, NNZs: 12, Bias: -0.370294, T: 468, Avg. loss: 0.305165\n",
      "Total training time: 0.02 seconds.\n",
      "-- Epoch 79\n",
      "Norm: 0.88, NNZs: 12, Bias: -0.369893, T: 474, Avg. loss: 0.305041\n",
      "Total training time: 0.02 seconds.\n",
      "-- Epoch 80\n",
      "Norm: 0.88, NNZs: 12, Bias: -0.369364, T: 480, Avg. loss: 0.304773\n",
      "Total training time: 0.02 seconds.\n",
      "-- Epoch 81\n",
      "Norm: 0.88, NNZs: 12, Bias: -0.368377, T: 486, Avg. loss: 0.304517\n",
      "Total training time: 0.02 seconds.\n",
      "-- Epoch 82\n",
      "Norm: 0.88, NNZs: 12, Bias: -0.367424, T: 492, Avg. loss: 0.304279\n",
      "Total training time: 0.02 seconds.\n",
      "-- Epoch 83\n",
      "Norm: 0.88, NNZs: 12, Bias: -0.366926, T: 498, Avg. loss: 0.304158\n",
      "Total training time: 0.02 seconds.\n",
      "-- Epoch 84\n",
      "Norm: 0.89, NNZs: 12, Bias: -0.366305, T: 504, Avg. loss: 0.303894\n",
      "Total training time: 0.02 seconds.\n",
      "-- Epoch 85\n",
      "Norm: 0.89, NNZs: 12, Bias: -0.365231, T: 510, Avg. loss: 0.303641\n",
      "Total training time: 0.02 seconds.\n",
      "-- Epoch 86\n",
      "Norm: 0.89, NNZs: 12, Bias: -0.364195, T: 516, Avg. loss: 0.303405\n",
      "Total training time: 0.02 seconds.\n",
      "-- Epoch 87\n",
      "Norm: 0.89, NNZs: 12, Bias: -0.363620, T: 522, Avg. loss: 0.303287\n",
      "Total training time: 0.02 seconds.\n",
      "-- Epoch 88\n",
      "Norm: 0.89, NNZs: 12, Bias: -0.362925, T: 528, Avg. loss: 0.303025\n",
      "Total training time: 0.02 seconds.\n",
      "-- Epoch 89\n",
      "Norm: 0.89, NNZs: 12, Bias: -0.361781, T: 534, Avg. loss: 0.302774\n",
      "Total training time: 0.02 seconds.\n",
      "-- Epoch 90\n",
      "Norm: 0.90, NNZs: 12, Bias: -0.360679, T: 540, Avg. loss: 0.302540\n",
      "Total training time: 0.02 seconds.\n",
      "-- Epoch 91\n",
      "Norm: 0.90, NNZs: 12, Bias: -0.360041, T: 546, Avg. loss: 0.302424\n",
      "Total training time: 0.02 seconds.\n",
      "-- Epoch 92\n",
      "Norm: 0.90, NNZs: 12, Bias: -0.359288, T: 552, Avg. loss: 0.302165\n",
      "Total training time: 0.02 seconds.\n",
      "-- Epoch 93\n",
      "Norm: 0.90, NNZs: 12, Bias: -0.358087, T: 558, Avg. loss: 0.301916\n",
      "Total training time: 0.02 seconds.\n",
      "-- Epoch 94\n",
      "Norm: 0.90, NNZs: 12, Bias: -0.356933, T: 564, Avg. loss: 0.301683\n",
      "Total training time: 0.02 seconds.\n",
      "-- Epoch 95\n",
      "Norm: 0.91, NNZs: 12, Bias: -0.356244, T: 570, Avg. loss: 0.301568\n",
      "Total training time: 0.02 seconds.\n",
      "-- Epoch 96\n",
      "Norm: 0.91, NNZs: 12, Bias: -0.355444, T: 576, Avg. loss: 0.301311\n",
      "Total training time: 0.02 seconds.\n",
      "-- Epoch 97\n",
      "Norm: 0.91, NNZs: 12, Bias: -0.354199, T: 582, Avg. loss: 0.301063\n",
      "Total training time: 0.02 seconds.\n",
      "-- Epoch 98\n",
      "Norm: 0.91, NNZs: 12, Bias: -0.353002, T: 588, Avg. loss: 0.300832\n",
      "Total training time: 0.02 seconds.\n",
      "-- Epoch 99\n",
      "Norm: 0.91, NNZs: 12, Bias: -0.352274, T: 594, Avg. loss: 0.300718\n",
      "Total training time: 0.02 seconds.\n",
      "-- Epoch 100\n",
      "Norm: 0.92, NNZs: 12, Bias: -0.351437, T: 600, Avg. loss: 0.300464\n",
      "Total training time: 0.02 seconds.\n",
      "-- Epoch 1\n",
      "Norm: 0.04, NNZs: 12, Bias: -0.011106, T: 19, Avg. loss: 0.605030\n",
      "Total training time: 0.00 seconds.\n",
      "-- Epoch 2\n",
      "Norm: 0.06, NNZs: 12, Bias: -0.037727, T: 38, Avg. loss: 0.606680\n",
      "Total training time: 0.00 seconds.\n",
      "Convergence after 2 epochs took 0.00 seconds\n",
      "-- Epoch 1\n",
      "Norm: 0.13, NNZs: 12, Bias: -0.016474, T: 33, Avg. loss: 0.678822\n",
      "Total training time: 0.00 seconds.\n",
      "-- Epoch 2\n",
      "Norm: 0.10, NNZs: 12, Bias: -0.034369, T: 66, Avg. loss: 0.660205\n",
      "Total training time: 0.00 seconds.\n",
      "-- Epoch 3\n",
      "Norm: 0.15, NNZs: 12, Bias: -0.042670, T: 99, Avg. loss: 0.677928\n",
      "Total training time: 0.00 seconds.\n",
      "Convergence after 3 epochs took 0.00 seconds\n",
      "-- Epoch 1\n",
      "Norm: 0.05, NNZs: 12, Bias: -0.052137, T: 47, Avg. loss: 0.679638\n",
      "Total training time: 0.00 seconds.\n",
      "-- Epoch 2\n",
      "Norm: 0.22, NNZs: 12, Bias: -0.017386, T: 94, Avg. loss: 0.729923\n",
      "Total training time: 0.00 seconds.\n",
      "Convergence after 2 epochs took 0.00 seconds\n",
      "-- Epoch 1\n",
      "Norm: 0.14, NNZs: 12, Bias: -0.000376, T: 61, Avg. loss: 0.540740\n",
      "Total training time: 0.00 seconds.\n",
      "-- Epoch 2\n",
      "Norm: 0.24, NNZs: 12, Bias: 0.009253, T: 122, Avg. loss: 0.564569\n",
      "Total training time: 0.00 seconds.\n",
      "Convergence after 2 epochs took 0.00 seconds\n",
      "-- Epoch 1\n",
      "Norm: 0.02, NNZs: 12, Bias: -0.014671, T: 6, Avg. loss: 0.134649\n",
      "Total training time: 0.00 seconds.\n",
      "-- Epoch 2\n",
      "Norm: 0.03, NNZs: 12, Bias: -0.026167, T: 12, Avg. loss: 0.128602\n",
      "Total training time: 0.00 seconds.\n",
      "-- Epoch 3\n",
      "Norm: 0.05, NNZs: 12, Bias: -0.038926, T: 18, Avg. loss: 0.120053\n",
      "Total training time: 0.00 seconds.\n",
      "-- Epoch 4\n",
      "Norm: 0.06, NNZs: 12, Bias: -0.050409, T: 24, Avg. loss: 0.118404\n",
      "Total training time: 0.00 seconds.\n",
      "-- Epoch 5\n",
      "Norm: 0.05, NNZs: 12, Bias: -0.058215, T: 30, Avg. loss: 0.119416\n",
      "Total training time: 0.00 seconds.\n",
      "Convergence after 5 epochs took 0.00 seconds\n",
      "-- Epoch 1\n",
      "Norm: 0.14, NNZs: 12, Bias: -0.016544, T: 19, Avg. loss: 0.156828\n",
      "Total training time: 0.00 seconds.\n",
      "-- Epoch 2\n",
      "Norm: 0.13, NNZs: 12, Bias: -0.010392, T: 38, Avg. loss: 0.161648\n",
      "Total training time: 0.00 seconds.\n",
      "Convergence after 2 epochs took 0.00 seconds\n",
      "-- Epoch 1\n",
      "Norm: 0.17, NNZs: 12, Bias: 0.012754, T: 33, Avg. loss: 0.362911\n",
      "Total training time: 0.00 seconds.\n",
      "-- Epoch 2\n",
      "Norm: 0.10, NNZs: 12, Bias: 0.041510, T: 66, Avg. loss: 0.345934\n",
      "Total training time: 0.00 seconds.\n",
      "-- Epoch 3\n",
      "Norm: 0.22, NNZs: 12, Bias: 0.054677, T: 99, Avg. loss: 0.332751\n",
      "Total training time: 0.00 seconds.\n",
      "-- Epoch 4\n",
      "Norm: 0.12, NNZs: 12, Bias: 0.067931, T: 132, Avg. loss: 0.305871\n",
      "Total training time: 0.00 seconds.\n",
      "-- Epoch 5\n",
      "Norm: 0.19, NNZs: 12, Bias: 0.055439, T: 165, Avg. loss: 0.346661\n",
      "Total training time: 0.00 seconds.\n",
      "Convergence after 5 epochs took 0.00 seconds\n",
      "-- Epoch 1\n",
      "Norm: 0.19, NNZs: 12, Bias: 0.072029, T: 47, Avg. loss: 0.440717\n",
      "Total training time: 0.00 seconds.\n",
      "-- Epoch 2\n",
      "Norm: 0.18, NNZs: 12, Bias: 0.153466, T: 94, Avg. loss: 0.414322\n",
      "Total training time: 0.00 seconds.\n",
      "-- Epoch 3\n",
      "Norm: 0.23, NNZs: 12, Bias: 0.182298, T: 141, Avg. loss: 0.406420\n",
      "Total training time: 0.00 seconds.\n",
      "-- Epoch 4\n",
      "Norm: 0.29, NNZs: 12, Bias: 0.200117, T: 188, Avg. loss: 0.394938\n",
      "Total training time: 0.00 seconds.\n",
      "-- Epoch 5\n",
      "Norm: 0.34, NNZs: 12, Bias: 0.214248, T: 235, Avg. loss: 0.404375\n",
      "Total training time: 0.00 seconds.\n",
      "Convergence after 5 epochs took 0.00 seconds\n",
      "-- Epoch 1\n",
      "Norm: 0.15, NNZs: 12, Bias: 0.099455, T: 61, Avg. loss: 0.364341\n",
      "Total training time: 0.00 seconds.\n",
      "-- Epoch 2\n",
      "Norm: 0.25, NNZs: 12, Bias: 0.146070, T: 122, Avg. loss: 0.331371\n",
      "Total training time: 0.00 seconds.\n",
      "-- Epoch 3\n",
      "Norm: 0.31, NNZs: 12, Bias: 0.176954, T: 183, Avg. loss: 0.318515\n",
      "Total training time: 0.00 seconds.\n",
      "-- Epoch 4\n",
      "Norm: 0.30, NNZs: 12, Bias: 0.187194, T: 244, Avg. loss: 0.316724\n",
      "Total training time: 0.00 seconds.\n",
      "-- Epoch 5\n",
      "Norm: 0.31, NNZs: 12, Bias: 0.200602, T: 305, Avg. loss: 0.315299\n",
      "Total training time: 0.00 seconds.\n",
      "-- Epoch 6\n",
      "Norm: 0.35, NNZs: 12, Bias: 0.217230, T: 366, Avg. loss: 0.326890\n",
      "Total training time: 0.00 seconds.\n",
      "Convergence after 6 epochs took 0.00 seconds\n",
      "-- Epoch 1\n",
      "Norm: 0.02, NNZs: 12, Bias: -0.014671, T: 6, Avg. loss: 0.134649\n",
      "Total training time: 0.00 seconds.\n",
      "-- Epoch 2\n",
      "Norm: 0.03, NNZs: 12, Bias: -0.026167, T: 12, Avg. loss: 0.128602\n",
      "Total training time: 0.00 seconds.\n",
      "-- Epoch 3\n",
      "Norm: 0.05, NNZs: 12, Bias: -0.038926, T: 18, Avg. loss: 0.120053\n",
      "Total training time: 0.00 seconds.\n",
      "-- Epoch 4\n",
      "Norm: 0.06, NNZs: 12, Bias: -0.050409, T: 24, Avg. loss: 0.118404\n",
      "Total training time: 0.00 seconds.\n",
      "-- Epoch 5\n",
      "Norm: 0.05, NNZs: 12, Bias: -0.058215, T: 30, Avg. loss: 0.119416\n",
      "Total training time: 0.00 seconds.\n",
      "Convergence after 5 epochs took 0.00 seconds\n",
      "-- Epoch 1\n",
      "Norm: 0.14, NNZs: 12, Bias: -0.016544, T: 19, Avg. loss: 0.156828\n",
      "Total training time: 0.00 seconds.\n",
      "-- Epoch 2\n",
      "Norm: 0.13, NNZs: 12, Bias: -0.010392, T: 38, Avg. loss: 0.161648\n",
      "Total training time: 0.00 seconds.\n",
      "Convergence after 2 epochs took 0.00 seconds\n",
      "-- Epoch 1\n",
      "Norm: 0.16, NNZs: 12, Bias: -0.036757, T: 33, Avg. loss: 0.195338\n",
      "Total training time: 0.00 seconds.\n",
      "-- Epoch 2\n",
      "Norm: 0.09, NNZs: 12, Bias: -0.028753, T: 66, Avg. loss: 0.191984\n",
      "Total training time: 0.00 seconds.\n",
      "-- Epoch 3\n",
      "Norm: 0.13, NNZs: 12, Bias: -0.041867, T: 99, Avg. loss: 0.188072\n",
      "Total training time: 0.00 seconds.\n",
      "-- Epoch 4\n",
      "Norm: 0.08, NNZs: 12, Bias: -0.048187, T: 132, Avg. loss: 0.172692\n",
      "Total training time: 0.00 seconds.\n",
      "-- Epoch 5\n",
      "Norm: 0.15, NNZs: 12, Bias: -0.066074, T: 165, Avg. loss: 0.179401\n",
      "Total training time: 0.00 seconds.\n",
      "Convergence after 5 epochs took 0.00 seconds\n",
      "-- Epoch 1\n",
      "Norm: 0.15, NNZs: 12, Bias: -0.055273, T: 47, Avg. loss: 0.331937\n",
      "Total training time: 0.00 seconds.\n",
      "-- Epoch 2\n",
      "Norm: 0.06, NNZs: 12, Bias: -0.084050, T: 94, Avg. loss: 0.309811\n",
      "Total training time: 0.00 seconds.\n",
      "-- Epoch 3\n",
      "Norm: 0.21, NNZs: 12, Bias: -0.115167, T: 141, Avg. loss: 0.326663\n",
      "Total training time: 0.00 seconds.\n",
      "Convergence after 3 epochs took 0.00 seconds\n",
      "-- Epoch 1\n",
      "Norm: 0.06, NNZs: 12, Bias: -0.098495, T: 61, Avg. loss: 0.370312\n",
      "Total training time: 0.00 seconds.\n",
      "-- Epoch 2\n",
      "Norm: 0.12, NNZs: 12, Bias: -0.121410, T: 122, Avg. loss: 0.352504\n",
      "Total training time: 0.00 seconds.\n",
      "-- Epoch 3\n",
      "Norm: 0.13, NNZs: 12, Bias: -0.159313, T: 183, Avg. loss: 0.362527\n",
      "Total training time: 0.00 seconds.\n",
      "Convergence after 3 epochs took 0.00 seconds\n"
     ]
    },
    {
     "name": "stderr",
     "output_type": "stream",
     "text": [
      "C:\\Users\\issohl\\AppData\\Local\\Continuum\\miniconda3\\envs\\mldds02\\lib\\site-packages\\sklearn\\linear_model\\stochastic_gradient.py:1022: ConvergenceWarning: Maximum number of iteration reached before convergence. Consider increasing max_iter to improve the fit.\n",
      "  ConvergenceWarning)\n"
     ]
    }
   ],
   "source": [
    "# 1. Generate the learning curve for poly_model\n",
    "#\n",
    "# Your code here\n",
    "train_sizes, train_scores, validation_scores = learning_curve(\n",
    "    poly_model, X_train_poly_scaled, y_train_scaled)\n",
    "\n",
    "# 2. Compute some stats\n",
    "#\n",
    "# Your code here\n",
    "train_scores_mean = np.mean(train_scores, axis=1)\n",
    "train_scores_std = np.std(train_scores, axis=1)\n",
    "validation_scores_mean = np.mean(validation_scores, axis=1)\n",
    "validation_scores_std = np.std(validation_scores, axis=1)"
   ]
  },
  {
   "cell_type": "code",
   "execution_count": 299,
   "metadata": {
    "slideshow": {
     "slide_type": "-"
    }
   },
   "outputs": [
    {
     "data": {
      "text/plain": [
       "<matplotlib.legend.Legend at 0x23f3cb84c50>"
      ]
     },
     "execution_count": 299,
     "metadata": {},
     "output_type": "execute_result"
    },
    {
     "data": {
      "image/png": "[encoded data removed]",
      "text/plain": [
       "<Figure size 1080x576 with 1 Axes>"
      ]
     },
     "metadata": {},
     "output_type": "display_data"
    }
   ],
   "source": [
    "# 3. Plot the learning curve, along with the stats\n",
    "#\n",
    "# Your code here\n",
    "\n",
    "fig, ax = plt.subplots(figsize=(15, 8))\n",
    "\n",
    "ax.fill_between(train_sizes, train_scores_mean - train_scores_std,\n",
    "                train_scores_mean + train_scores_std, alpha=0.1,\n",
    "                color=\"r\")\n",
    "ax.fill_between(train_sizes, validation_scores_mean - validation_scores_std,\n",
    "                validation_scores_mean + validation_scores_std, alpha=0.1, color=\"g\")\n",
    "ax.plot(train_sizes, train_scores_mean, 'o-', color=\"r\",\n",
    "        label=\"Training score\")\n",
    "ax.plot(train_sizes, validation_scores_mean, 'o-', color=\"g\",\n",
    "        label=\"Cross-validation score\")\n",
    "ax.set(title='Learning Curve: Polynomial Model',\n",
    "       xlabel='Training examples',\n",
    "       ylabel='R2 Scores')\n",
    "ax.grid()\n",
    "ax.legend()"
   ]
  },
  {
   "cell_type": "markdown",
   "metadata": {
    "slideshow": {
     "slide_type": "-"
    }
   },
   "source": [
    "## Observations\n",
    "\n",
    "The learning curves show:\n",
    "- Both models are underfit: the training scores are very low. \n",
    "  - Why? The data is quite dispersed, and linear regression is probably not a good way to model this \n",
    "- The polynomial model generalizes slightly better\n",
    "  - It has a narrower gap between training scores and validation scores\n",
    "\n",
    "![underfit](assets/training-basics/12-order-underfit.jpg)"
   ]
  },
  {
   "cell_type": "markdown",
   "metadata": {},
   "source": [
    "## Fix High Bias: Try New Algorithm\n",
    "\n",
    "Let's try a neural network: [sklearn.neural_network.MLPRegressor](http://scikit-learn.org/stable/modules/generated/sklearn.neural_network.MLPRegressor.html#sklearn.neural_network.MLPRegressor)\n",
    "\n",
    "A single layer looks like this:\n",
    "![MLP](http://scikit-learn.org/stable/_images/multilayerperceptron_network.png)\n",
    "\n",
    "(image: scikit-learn)"
   ]
  },
  {
   "cell_type": "code",
   "execution_count": 300,
   "metadata": {},
   "outputs": [],
   "source": [
    "# DRY\n",
    "def plot_learning_curve(axis, title, tr_sizes, tr_scores, val_scores):\n",
    "    \"\"\"Plots the learning curve for a training session\n",
    "    Arg:\n",
    "        axis: axis to plot\n",
    "        title: plot title\n",
    "        tr_sizes: sizes of the training set\n",
    "        tr_scores: training scores\n",
    "        val_scores: validation scores\n",
    "    \"\"\"\n",
    "    tr_scores_mean = np.mean(tr_scores, axis=1)\n",
    "    tr_scores_std = np.std(tr_scores, axis=1)\n",
    "    val_scores_mean = np.mean(val_scores, axis=1)\n",
    "    val_scores_std = np.std(val_scores, axis=1)\n",
    "    \n",
    "    axis.fill_between(tr_sizes, tr_scores_mean - tr_scores_std,\n",
    "                    tr_scores_mean + tr_scores_std, alpha=0.1,\n",
    "                    color=\"r\")\n",
    "    axis.fill_between(tr_sizes, val_scores_mean - val_scores_std,\n",
    "                    val_scores_mean + val_scores_std, alpha=0.1, color=\"g\")\n",
    "    axis.plot(tr_sizes, tr_scores_mean, 'o-', color=\"r\",\n",
    "            label=\"Training score\")\n",
    "    axis.plot(tr_sizes, val_scores_mean, 'o-', color=\"g\",\n",
    "            label=\"Cross-validation score\")\n",
    "    axis.set(title=title,\n",
    "           xlabel='Training examples',\n",
    "           ylabel='R2 Scores')\n",
    "    axis.grid()\n",
    "    axis.legend()"
   ]
  },
  {
   "cell_type": "code",
   "execution_count": 301,
   "metadata": {},
   "outputs": [
    {
     "name": "stderr",
     "output_type": "stream",
     "text": [
      "C:\\Users\\issohl\\AppData\\Local\\Continuum\\miniconda3\\envs\\mldds02\\lib\\site-packages\\sklearn\\neural_network\\multilayer_perceptron.py:564: ConvergenceWarning: Stochastic Optimizer: Maximum iterations (200) reached and the optimization hasn't converged yet.\n",
      "  % self.max_iter, ConvergenceWarning)\n"
     ]
    },
    {
     "data": {
      "image/png": "[encoded data removed]",
      "text/plain": [
       "<Figure size 1080x576 with 2 Axes>"
      ]
     },
     "metadata": {},
     "output_type": "display_data"
    }
   ],
   "source": [
    "from sklearn.neural_network import MLPRegressor\n",
    "\n",
    "nn = MLPRegressor(hidden_layer_sizes=(100, ),\n",
    "                  solver='adam',\n",
    "                  learning_rate='constant',\n",
    "                  random_state=np.random.RandomState(123))\n",
    "\n",
    "# 1. Generate the learning curve\n",
    "nn_train_sizes, nn_train_scores, nn_validation_scores = learning_curve(\n",
    "    nn, X_train_poly_scaled, y_train_scaled)\n",
    "\n",
    "# 2. Compute some stats and plot\n",
    "fig, (ax1, ax2) = plt.subplots(nrows=1, ncols=2, figsize=(15, 8),\n",
    "                       sharex=True, sharey=True)\n",
    "plot_learning_curve(ax1, 'Multi-layer Perceptron',\n",
    "                    nn_train_sizes, nn_train_scores, nn_validation_scores)\n",
    "\n",
    "plot_learning_curve(ax2, 'Polynomial Regression',\n",
    "                    train_sizes, train_scores, validation_scores)"
   ]
  },
  {
   "cell_type": "code",
   "execution_count": null,
   "metadata": {},
   "outputs": [],
   "source": []
  },
  {
   "cell_type": "markdown",
   "metadata": {
    "slideshow": {
     "slide_type": "slide"
    }
   },
   "source": [
    "# Cross Validation\n",
    "\n",
    "K-fold Cross Validation:\n",
    "1. Partition training samples into K equal-sized groups\n",
    "2. Pick a group for each training iteration:\n",
    " - train with the remaining K-1 groups\n",
    " - validate with this group"
   ]
  },
  {
   "cell_type": "markdown",
   "metadata": {
    "slideshow": {
     "slide_type": "slide"
    }
   },
   "source": [
    "![cv](https://upload.wikimedia.org/wikipedia/commons/1/1c/K-fold_cross_validation_EN.jpg)\n",
    "(image: wikipedia)"
   ]
  },
  {
   "cell_type": "markdown",
   "metadata": {
    "slideshow": {
     "slide_type": "slide"
    }
   },
   "source": [
    "Benefits:\n",
    "- Better measure of generalization than sticking to the same training set\n",
    "- Helps smaller datasets train better by varying training set\n",
    "\n",
    "More explanation: http://scikit-learn.org/stable/modules/cross_validation.html"
   ]
  },
  {
   "cell_type": "code",
   "execution_count": null,
   "metadata": {},
   "outputs": [],
   "source": []
  },
  {
   "cell_type": "markdown",
   "metadata": {
    "slideshow": {
     "slide_type": "slide"
    }
   },
   "source": [
    "# Regularization\n",
    "\n",
    "Regularization is applied when there is overfitting. \n",
    "\n",
    "- It's a heuristic.\n",
    "- Adds a large constant value $\\lambda$ * some aggregate of weights\n",
    "- Penalizes the weights, so that they won't fit as well to training data as models get more complicated\n",
    "\n",
    "L1 regularization:\n",
    "\n",
    "![l1](assets/training-basics/least_squares_l1.png)\n",
    "\n",
    "L2 regularization:\n",
    "\n",
    "![l2](assets/training-basics/least_squares_l2.png)\n",
    "\n",
    "(images: chioka.in)\n",
    "\n",
    "To illustrate this, let's try adding regularization to the Polynomial Model."
   ]
  },
  {
   "cell_type": "code",
   "execution_count": 302,
   "metadata": {},
   "outputs": [
    {
     "data": {
      "image/png": "[encoded data removed]",
      "text/plain": [
       "<Figure size 1440x1440 with 4 Axes>"
      ]
     },
     "metadata": {},
     "output_type": "display_data"
    }
   ],
   "source": [
    "regularizations = ['none', 'elasticnet', 'l1', 'l2']\n",
    "\n",
    "fig, axs = plt.subplots(nrows=2, ncols=2, figsize=(20, 20),\n",
    "                        sharex=True, sharey=True)\n",
    "\n",
    "for i in range(len(regularizations)):\n",
    "    poly_model = SGDRegressor(penalty=regularizations[i],\n",
    "                             tol=1e-3,\n",
    "                             max_iter=1000,\n",
    "                             random_state=np.random.RandomState(123))\n",
    "    \n",
    "    train_sizes, train_scores, validation_scores = learning_curve(\n",
    "        poly_model, X_train_poly_scaled, y_train_scaled)\n",
    "\n",
    "    ax = axs.flatten()[i] # flatten 2 x 2 array into a vector\n",
    "    plot_learning_curve(ax,\n",
    "                        'Regularization Type: {}'.format(regularizations[i]),\n",
    "                        train_sizes, train_scores, validation_scores)"
   ]
  },
  {
   "cell_type": "markdown",
   "metadata": {
    "slideshow": {
     "slide_type": "slide"
    }
   },
   "source": [
    "# Reading List\n",
    "\n",
    "|Material|Read it for|URL|\n",
    "|--|--|--|\n",
    "|Chapter 8, Pages 290-296|Stochastic Gradient Descent Theory (*)|http://www.deeplearningbook.org/contents/optimization.html|\n",
    "|Chapter 5, Pages 107-119|Capacity, Overfitting and Underfitting|http://www.deeplearningbook.org/contents/ml.html|\n",
    "|scikit-learn: Stochastic Gradient Descent|How to use SGD|http://scikit-learn.org/stable/modules/sgd.html|\n",
    "|scikit-learn: Learning Curves|How to plot & interpret learning curves|http://scikit-learn.org/stable/auto_examples/model_selection/plot_learning_curve.html|\n",
    "|scikit-learn: Cross Validation|How to compute Cross Validation metrics|http://scikit-learn.org/stable/modules/cross_validation.html|\n",
    "\n",
    "(*)Note: in the book, the section on SGD is actually talking about \"Minibatch SGD\""
   ]
  },
  {
   "cell_type": "code",
   "execution_count": null,
   "metadata": {},
   "outputs": [],
   "source": []
  }
 ],
 "metadata": {
  "celltoolbar": "Slideshow",
  "kernelspec": {
   "display_name": "Python 3",
   "language": "python",
   "name": "python3"
  },
  "language_info": {
   "codemirror_mode": {
    "name": "ipython",
    "version": 3
   },
   "file_extension": ".py",
   "mimetype": "text/x-python",
   "name": "python",
   "nbconvert_exporter": "python",
   "pygments_lexer": "ipython3",
   "version": "3.6.5"
  },
  "livereveal": {
   "autolaunch": false,
   "overlay": "<div class='logo'><img src='assets/Stackup_Logo_Small.png' width='90%'/></div>"
  }
 },
 "nbformat": 4,
 "nbformat_minor": 2
}
