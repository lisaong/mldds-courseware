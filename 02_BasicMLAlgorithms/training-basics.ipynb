{
 "cells": [
  {
   "cell_type": "markdown",
   "metadata": {},
   "source": [
    "![training](assets/training-basics/puppy-training.jpg)\n",
    "\n",
    "(image: amazon)"
   ]
  },
  {
   "cell_type": "markdown",
   "metadata": {
    "slideshow": {
     "slide_type": "slide"
    }
   },
   "source": [
    "# Training basics"
   ]
  },
  {
   "cell_type": "markdown",
   "metadata": {
    "slideshow": {
     "slide_type": "slide"
    }
   },
   "source": [
    "Concepts in training models\n",
    "- Loss functions\n",
    "- Gradient descent\n",
    "- Overfitting, underfitting, bias, variance\n",
    "- Regularization\n",
    "- Cross-validation"
   ]
  },
  {
   "cell_type": "markdown",
   "metadata": {
    "slideshow": {
     "slide_type": "fragment"
    }
   },
   "source": [
    "Objective: a model that trains fast and performs well"
   ]
  },
  {
   "cell_type": "markdown",
   "metadata": {
    "slideshow": {
     "slide_type": "slide"
    }
   },
   "source": [
    "## 1. Loss Functions\n",
    "\n",
    "What they are: a metric of how far away the predictions are from the truth\n",
    "\n",
    "For example:\n",
    "\n",
    "![MSE](http://scikit-learn.org/stable/_images/math/44f36557fef9b30b077b21550490a1b9a0ade154.png)"
   ]
  },
  {
   "cell_type": "markdown",
   "metadata": {
    "slideshow": {
     "slide_type": "fragment"
    }
   },
   "source": [
    "a.k.a.:\n",
    "- Objective function\n",
    "- Cost function\n",
    "- Error function"
   ]
  },
  {
   "cell_type": "markdown",
   "metadata": {
    "slideshow": {
     "slide_type": "slide"
    }
   },
   "source": [
    "### Definitions\n",
    "\n",
    "$$x^* = \\arg \\min f(x)$$\n",
    "\n",
    "where $x^*$ = value that minimizes the loss function $f(x)$\n",
    "\n",
    "The process of finding $x^*$ is called \"Optimization\". It usually involves running some type of Gradient Descent. "
   ]
  },
  {
   "cell_type": "markdown",
   "metadata": {
    "slideshow": {
     "slide_type": "slide"
    }
   },
   "source": [
    "### Loss Function Examples\n",
    "\n",
    "Scikit-learn:\n",
    "- [Mean squared error](http://scikit-learn.org/stable/modules/model_evaluation.html#mean-squared-error): `sklearn.metrics.mean_squared_error(y_true, y_pred)`\n",
    "- [Log loss](http://scikit-learn.org/stable/modules/model_evaluation.html#log-loss): `sklearn.metrics.log_loss(y_true, y_pred)`\n",
    "- [Zero one loss](http://scikit-learn.org/stable/modules/generated/sklearn.metrics.zero_one_loss.html#sklearn.metrics.zero_one_loss)\n",
    "`sklearn.metrics.zero_one_loss(y_true, y_pred)`\n",
    "- etc\n",
    "\n",
    "Keras:\n",
    "- https://keras.io/losses/\n",
    "- `keras.losses.mean_squared_error(y_true, y_pred)`\n",
    "- `keras.losses.binary_crossentropy(y_true, y_pred)`\n",
    "- etc"
   ]
  },
  {
   "cell_type": "markdown",
   "metadata": {
    "slideshow": {
     "slide_type": "slide"
    }
   },
   "source": [
    "## 2. Gradient Descent\n",
    "\n",
    "What it is: technique for minimizing loss function for a given model\n",
    "\n",
    "Objective: find $w^*$ such that $$w^* = \\underset{w}\\arg \\min{f\\big(y_{true}, y_{pred}\\big)}$$\n",
    "\n",
    "$$w^* = \\underset{w}\\arg \\min{f\\big(y_{true}, g(x, w)\\big)}$$\n",
    "\n",
    "\n",
    "where\n",
    "- $f(...)$ is the loss function\n",
    "- $w$ are the weights\n",
    "- $g(x, w)$ is the model that computes $y_{pred}$"
   ]
  },
  {
   "cell_type": "markdown",
   "metadata": {
    "slideshow": {
     "slide_type": "slide"
    }
   },
   "source": [
    "### Gradient descent algorithm\n",
    "\n",
    "1. Initialize $w$ to some value (e.g. random)\n",
    "2. Compute gradient of $f\\big(y_{true}, g(x, w)\\big)$\n",
    "3. Update $w$ by a \"tiny factor\" in the negative of the gradient\n",
    "4. Repeat 2-3 until loss is \"good enough\"\n",
    "\n",
    "The \"tiny factor\" is known as the \"learning rate\""
   ]
  },
  {
   "cell_type": "markdown",
   "metadata": {
    "slideshow": {
     "slide_type": "slide"
    }
   },
   "source": [
    "### Walkthrough: Gradient descent. Animated\n",
    "\n",
    "![wake up](assets/training-basics/descend.jpg)\n",
    "\n",
    "(what goes in my head during training)"
   ]
  },
  {
   "cell_type": "markdown",
   "metadata": {
    "slideshow": {
     "slide_type": "slide"
    }
   },
   "source": [
    "### Environment Setup\n",
    "\n",
    "Create a new environment called `mldds02`. You may also reuse `mldds01`, but it's good to keep separate environments for different experiments.\n",
    "\n",
    "```\n",
    "conda create -n mldds02 python=3\n",
    "conda activate mldds02\n",
    "\n",
    "(mldds02) conda install jupyter numpy pandas matplotlib scikit-learn\n",
    "(mldds02) conda install -c conda-forge ffmpeg\n",
    "```"
   ]
  },
  {
   "cell_type": "code",
   "execution_count": 6,
   "metadata": {
    "slideshow": {
     "slide_type": "-"
    }
   },
   "outputs": [],
   "source": [
    "# Credits: https://jed-ai.github.io/py1_gd_animation/\n",
    "\n",
    "import numpy as np\n",
    "import matplotlib.pyplot as plt\n",
    "\n",
    "\"\"\"Example gradient descent implementation\"\"\"\n",
    "\n",
    "def func_y(x):\n",
    "    \"\"\"A demonstrative loss function that happens to be convex (has global a minimum)\n",
    "    Args:\n",
    "        x - the input (can be the weights of a machine learning algorithm)\n",
    "    Returns:\n",
    "        The loss value\n",
    "    \"\"\"\n",
    "    return x**2 - 4*x + 2\n",
    "\n",
    "def gradient_func_y(x):\n",
    "    \"\"\"The gradient of func_y\n",
    "    Args:\n",
    "        x - the input\n",
    "    Returns:\n",
    "        The gradient value\n",
    "    \"\"\"\n",
    "    return 2*x - 4 # d(x^2 - 4x + 2)/dx = 2x - 4\n",
    "\n",
    "def gradient_descent(previous_x, learning_rate, epochs):\n",
    "    \"\"\"An implementation of gradient descent\n",
    "    Args:\n",
    "        previous_x - the previous input value\n",
    "        learning_rate - how much to change x per iteration\n",
    "        epochs - number of steps to run gradient descent\n",
    "    Returns:\n",
    "        A tuple: array of x values, array of loss values\n",
    "    \"\"\"\n",
    "    x_gd = []\n",
    "    y_gd = []\n",
    "    x_gd.append(previous_x)\n",
    "    y_gd.append(func_y(previous_x))\n",
    "    \n",
    "    # loop to update x and y\n",
    "    for i in range(epochs):\n",
    "        # x = lr * gradient(func(prev_x))\n",
    "        update = learning_rate *gradient_func_y(previous_x)\n",
    "        x = previous_x - update\n",
    "        print('step', i, 'previous x', previous_x,\n",
    "              'update:', -update, 'new x:', x)\n",
    "        x_gd.append(x)\n",
    "        y_gd.append(func_y(x))\n",
    "        \n",
    "        # update previous_x\n",
    "        previous_x = x\n",
    "    \n",
    "    return x_gd, y_gd"
   ]
  },
  {
   "cell_type": "markdown",
   "metadata": {
    "slideshow": {
     "slide_type": "-"
    }
   },
   "source": [
    "With gradient descent implemented, we'll will now run it."
   ]
  },
  {
   "cell_type": "code",
   "execution_count": 32,
   "metadata": {
    "slideshow": {
     "slide_type": "-"
    }
   },
   "outputs": [
    {
     "name": "stdout",
     "output_type": "stream",
     "text": [
      "step 0 previous x -0.7 update: 0.81 new x: 0.1100000000000001\n",
      "step 1 previous x 0.1100000000000001 update: 0.567 new x: 0.677\n",
      "step 2 previous x 0.677 update: 0.3969 new x: 1.0739\n",
      "step 3 previous x 1.0739 update: 0.27782999999999997 new x: 1.35173\n",
      "step 4 previous x 1.35173 update: 0.19448099999999996 new x: 1.546211\n",
      "step 5 previous x 1.546211 update: 0.1361367 new x: 1.6823477\n",
      "step 6 previous x 1.6823477 update: 0.09529569 new x: 1.77764339\n",
      "step 7 previous x 1.77764339 update: 0.06670698300000001 new x: 1.844350373\n",
      "step 8 previous x 1.844350373 update: 0.04669488810000002 new x: 1.8910452611\n",
      "step 9 previous x 1.8910452611 update: 0.03268642167000002 new x: 1.92373168277\n"
     ]
    }
   ],
   "source": [
    "x0 = -0.7\n",
    "learning_rate = 0.15\n",
    "epochs = 10\n",
    "\n",
    "x = np.arange(-1, 5, 0.01)\n",
    "y = func_y(x)\n",
    "x_gd, y_gd = gradient_descent(x0, learning_rate, epochs)"
   ]
  },
  {
   "cell_type": "markdown",
   "metadata": {
    "slideshow": {
     "slide_type": "-"
    }
   },
   "source": [
    "Plot the animation."
   ]
  },
  {
   "cell_type": "code",
   "execution_count": 33,
   "metadata": {
    "slideshow": {
     "slide_type": "-"
    }
   },
   "outputs": [
    {
     "data": {
      "text/html": [
       "<video width=\"432\" height=\"288\" controls autoplay loop>\n",
       "  <source type=\"video/mp4\" src=\"data:video/mp4;base64,AAAAHGZ0eXBNNFYgAAACAGlzb21pc28yYXZjMQAAAAhmcmVlAAAtaG1kYXQAAAKtBgX//6ncRem9\n",
       "5tlIt5Ys2CDZI+7veDI2NCAtIGNvcmUgMTU1IHIyOTAxIDdkMGZmMjIgLSBILjI2NC9NUEVHLTQg\n",
       "QVZDIGNvZGVjIC0gQ29weWxlZnQgMjAwMy0yMDE4IC0gaHR0cDovL3d3dy52aWRlb2xhbi5vcmcv\n",
       "eDI2NC5odG1sIC0gb3B0aW9uczogY2FiYWM9MSByZWY9MyBkZWJsb2NrPTE6MDowIGFuYWx5c2U9\n",
       "MHgzOjB4MTEzIG1lPWhleCBzdWJtZT03IHBzeT0xIHBzeV9yZD0xLjAwOjAuMDAgbWl4ZWRfcmVm\n",
       "PTEgbWVfcmFuZ2U9MTYgY2hyb21hX21lPTEgdHJlbGxpcz0xIDh4OGRjdD0xIGNxbT0wIGRlYWR6\n",
       "b25lPTIxLDExIGZhc3RfcHNraXA9MSBjaHJvbWFfcXBfb2Zmc2V0PS0yIHRocmVhZHM9NiBsb29r\n",
       "YWhlYWRfdGhyZWFkcz0xIHNsaWNlZF90aHJlYWRzPTAgbnI9MCBkZWNpbWF0ZT0xIGludGVybGFj\n",
       "ZWQ9MCBibHVyYXlfY29tcGF0PTAgY29uc3RyYWluZWRfaW50cmE9MCBiZnJhbWVzPTMgYl9weXJh\n",
       "bWlkPTIgYl9hZGFwdD0xIGJfYmlhcz0wIGRpcmVjdD0xIHdlaWdodGI9MSBvcGVuX2dvcD0wIHdl\n",
       "aWdodHA9MiBrZXlpbnQ9MjUwIGtleWludF9taW49MiBzY2VuZWN1dD00MCBpbnRyYV9yZWZyZXNo\n",
       "PTAgcmNfbG9va2FoZWFkPTQwIHJjPWNyZiBtYnRyZWU9MSBjcmY9MjMuMCBxY29tcD0wLjYwIHFw\n",
       "bWluPTAgcXBtYXg9NjkgcXBzdGVwPTQgaXBfcmF0aW89MS40MCBhcT0xOjEuMDAAgAAAEFNliIQA\n",
       "Ff/+98nvwKbrW1u1v5PPSPwstz7CKj9uWxO06gAAAwAAGdunJ/4dLo8ACd+ZaXo375x85PHJjDb4\n",
       "4N2iuxabGC2YF4J1Q7EHgnOkAAH7WTItmDfOFUAnMzHYMfvgLErWiif1zp99BROsxF5Ow+8knVWG\n",
       "tkZR71wkeifLUGIfbYwBle0h7FgoArCFt93T0EdqIO85E8YhK8ngd/8oM9p9WB7T/29YGYthToIN\n",
       "eqssh6OaARHhisc0k2XSUisnhqp3EAGpuEoPR4aaJcuD/MfvR5Jpt7NQwJ+1XhLijxV68JY/ZTCJ\n",
       "DuIM3P0O2KrYHzmnWdWvPRy6uKT5CbmuqGpqO7e81Zql1qAABBBI4x+DjgaC2PALWi+Z1J03gSUF\n",
       "cXdUYRUIayNzUCHFxAcMwXO1G/2anejt8+FxNWcau9Q1MbrvaAr2KFpoeOcYpJmgx1GEgUI8HNyx\n",
       "VDKVuD0Mxf4NQkvdhGWQ4ur7FJqmteb6ChxHE2xFMkuKPrxSn/O/HOF3oHB8cnNAHC+8rDbvEvnt\n",
       "hSF41Ksm1ZGrOHtpFLBHu/QWLfIcqyCVnDiIndoeYib9/Av7+aePkmWU5nesPZy1czi+qwnqEPak\n",
       "aGrRWjc7A0YPoK74PBGQvrIdebmMBaHkI7fzfcqE4axqEE7YnZUM8EhATr2spk3B1TT6dDz+/ZLE\n",
       "QN9Z5bCLvLYoCjI+FR2Grh6Sdps7991NNFApst/cNkoJOli8ZkCr5BXlGSIbafz2SKUqsNBQ2d9K\n",
       "AEwiNAi4AN3I5CTLY1k9io8sfP1TRDe7F0TnmnuVejdQUQEVhdpdkvZHoD/9FNm61ywG/UEOr0ag\n",
       "Q1CBoQ1wwKduAvmI1uGtgISqNkAb1px1kUGodZ104D5urxSaPZHYfaWTt2YRgowvdUUJDaxZYOvg\n",
       "250SqVWd8Rtxu5Rna6/5ZraSoWBEc0pbXL0VL42jdSs76EFN0RqkQ+jWBrwXXFviLr8cz7XeXfrs\n",
       "sbS4XESjsoBXqSa3nBshOpbFVc6gefbgmC+0vGCRDIb7dY7JoqFSSGmAJmnO2jnDNXOBby+f9gk+\n",
       "QCgVoe4UNWxKkEJqXZpm6JJc8GrXC0GQH7vCHUN9dxav16S9sH/VRqeUbZ0GEjH/ORLk6Zzkp0a0\n",
       "1A4rIxOxZNyUMKCRuDD6nKQKk4z8mcnpPgQRmYouaNwD55UMX8MrDqqRTSRrFnuaV0ZGfmnmXUp2\n",
       "JneN5oNct1NX/EJ83dZ+knCN6BqKB4fi6zI8V9ryzRdmYCqbSlYapJOxR7R3B60GI0gdZWmSARg6\n",
       "+Lrbsh+sElpj7HIvi4ZVDqs9DAjYeUo0A3kixL7j7FLExyTpID/WBenyBg24i14z5H1/n9jDNF9v\n",
       "4t+7opeIw2RvQRnCYSre+qFLVr6q8MDZiTS+mDYVe4QwYqtkTMSnwIUDir5Ll7bToYZzwwvV6c8s\n",
       "u9Di/VBzrMcbWisDTCMOu2PM/u6gfWiQsA47QJtIXCaiUUwsrNhHEyAFJiOifsLgC/Ex3EQnXAgx\n",
       "BbuIiFZXUHGkALM9XXZb/9FYKXV70AQs36HhxewFcDijcj3cGSnWZsZkxqAgKRU/JAyBlxyeqIwx\n",
       "TVye6qxOFAC+gAw1waFRDNFODWX2uds4gw3yXST7BJ8BKIKvH9dmVwXN4jicaZCx3P1dVAAXPJCf\n",
       "SglT6Q0Lmmx9cN3w/qkjz6Qkt3AzWUSluPNt/KjsgbR+oaWIGWErZyUJ8r/9NSL/yN8Wr1J8Zubx\n",
       "sP0XDarnQcMBCQEKWFWERp3rcu/R2ETIKk+gAJHvnzWEl1sdBL7mQfoOKhu0iGpncug8SbBPnXy1\n",
       "5Tm0uWls/1Dp0HkQfdA7kOXuxmplUaOWEbvCNwdpVQQhChMO0dIjwWrxHvGWCPm1yegB5E5YLAGF\n",
       "TIiPtb8tH5U2DX//0qFf1uxuvOU6+m3Gx0yxs0as4DHlPfZgXydV8vHxU26wRlBIELOEJokEyayy\n",
       "iaIUMr/PFiyChZusrkKBmUkm7ar8cw6gFBmV2jUqo9hSdMpQatrpTftFIqddPdSeeAaG//DVswBU\n",
       "39z2AqHfDJfx+1xFcLRjfhgACjUR+unatcGg7FKcw6s1OAccF9e9u2QhtWExxhpKcKwvDLfVvcOz\n",
       "4HEQlq1u5h0QLyl7fprQ1m4nNJ7tC1bdiyG+/rGlfpGWlcYuLwMipqMxs30dj5W32JBP/EaxIUQ6\n",
       "tkPTDSQ6NyWxrRr+KhK6mPOEgnybKktDisS7vPRPAL+E8hfEvH5jiStfLq75ASnd9FvWneLUAjDy\n",
       "ovN7+yxc6j+PO6hoI4CzEy7IlKhGRGsttQqqdMxBUaNbH0xedi00gdPPQM3FpRQNOi4pEYNQSTJ4\n",
       "FT9dOt5TLL+ij9T7Uhd4e7WxI4ZdCcsn1YCDLM7qGgNI0EoE98l+iq9VTZhw36cBDiz2YIbz/7fj\n",
       "L/Hd1JrjfSar+bbuiheWJ2vcI92ldUzKershwYL/bLGqIuI1KYC17HdGsD7783f4VRQKGKiU/KT6\n",
       "SFhW2zjsRlBn9p71pQkOtuGsgyEl2fcdGt8sL21GxWfetFdICYIXhNcCcT3Gok+DcSl5FWcbCve/\n",
       "/C+9b+CgYWK2g2cLhxR8kKCb8cPPUWQpVF/+ST8J2DvcFsLHzB7MebITqtby3W0cZAwcei1RNAEP\n",
       "Q9+8XfhjriVMMQcKXMUG/yr5vfa0SslPcsq/HCI6LRj+0QfN6Z05qCe6o/zf/jnJuLonpLNwPwz7\n",
       "Wo4mF5237smM/Gdygt/Uy/oU1XKLo1luRcenYmZG5CF7aaswH0pf2CSajIWJZciHXWMAt5pUBspv\n",
       "Mf4SAM6rj4gN4OqEHA4egQChvHB/Na9F3whRemEtT8UJzJLEfKHzcABkZaq9K3nTeR+k1Dph8F/3\n",
       "/WtYVGohCpdX1rBnY6Jk3WLUjDh/Tl/rcyzEK/paIJXAlr/lMAvqEgJIJpDA0HA1yug9cPlv4pOS\n",
       "I9c6YjV0jtXxuAax94QYSfVoKz30M2OUAvzDIxgxMUZbpV0nMYpWtcM9+sgRTX8EJPCflcwUMf3d\n",
       "B49MuvEXXjLECmCb7mOBizhGPf1ii+s7Y2tT9Wpxtpcu0OnuhgNHXgPxyoyciuJ3MFUU1Md5Ip8c\n",
       "doHIaBwm7jOWMc/WxO0kssZ7BxyoOPr9zl7xPQUAmJyThEk8S1Y2TV/YfMiJck9mlqNMc+zlvYfB\n",
       "ZGD19RZimmmDd3galw9T+LRV5Sk2xDu/CY0m8viwj/wsX9tDXywPMXL6ncMKOiNe0Y946SJ1PNJa\n",
       "m7Wknx+yicjrOnd2+ilUvfPT0yLVlTo2ATXr0OdE/I3PlLCbVx1G2DVctzntdmtrHh922x1foXfo\n",
       "Fhh/BicApbQmy3YFqj0Atd0c4HcY3OEF+DJT/s1uv1vC4Emdr9KcM99rMIeQrD6XREiEOIDKkViF\n",
       "hsenbFkoYMbFes/CWGf4JCrp9YiBOBVToBiuU02TbYUUsA5nuToGRNMwXzKjmisIcNvMbsJ8bPMN\n",
       "8iyFwZ4VX0p/3oB/nvryD2NjrowP3RZ4EoOzWEL1ry2/ue0mJ9XIcqvTvWLLhds578zYKBZCHdqx\n",
       "0zKtkxqFX8sxCqH8TxIWRt0uQaVe2Dor+R17s+Vfdx2z4wzrxF4n+vKCdb/qxs1U8NWqJu0HbSL6\n",
       "k7Pg/ts11Op7uGGKQfssfbeYetz8HV/wU8D1zQv1ir49R/95MzEpbM5PmCscapKaHW759bpnuxTC\n",
       "ozPHvB/tnHr9sk+Ieev8jg9VMUuJXfwqHVFWC9A7WQlOzsXS5BeB+WT0pLZVMoa1Qe79CTcJaHik\n",
       "jE8notRgZUE0LVTJsRFyPul1m8IvyRH0o4I/MTCeuCsP++YyUuGWuLZrIU4PyAR5G3puFH9la/Hn\n",
       "yRM2vaBF9zHDze3HV7RxYSG8mVdswIHQIWiYQJUVAPoVtd8owWw/v6bPcyV9FanIW3xrmPe6cckN\n",
       "ye/jNYR9EYYdxVhNGaMHKxZhS4S1bGCMtMPv/di8Mf31WCa41a0StxUONipepUIOltiHsLfYCRsy\n",
       "+CPgOs4D6kHhy/OQgKB1pK8JemSwG+3sjMS7GbcdWNTUNGNyFaUTfeYWziSt2jnVkhbPxkJ3M5vu\n",
       "z564Uo/hwb1vxxrDNWWgPDF1CSCmkz0xWVDbrrWWadr/rzSrOn/ovC98zvNWoNmwAKEzAsY9Cgq0\n",
       "CWrmPts3/Q6KPJnWVbeAULH5aShZC5qxjk3zV4wJOXoKcBGfyTxIgQum6vd5K3y0WHh71rsT8HKF\n",
       "VWk+KG2XbH6KgU0pWlIrpjirYb8R5Dc+ZZYoiHKnhcfsb2e0ASh5pEOEMD6Ai7ll5YzRkbaVxvbz\n",
       "Oo4tQ4/5ClEHMo2RanorqwGUp9FjSu8SqE7EZ8qnbGaWX/nUk8iTKgHbc4zF94hKWpJmZqszpuQA\n",
       "xEIEk22RQMwV0GTeLvoH0u1eVBE/tYLUdo3q9EoUSR2HdsA9BwRc5S2kdzMt9vUM9OgH8hlra4gR\n",
       "QplAyRFOBx1zBjX+8dKGLjndWqMSGe46l80uJ+cyHb46Fq9nazehhsBBujH49/S3SwAhGYkbWPwi\n",
       "CFrjoiQD5FFCxl8axf0s6E5iiqZdAwiEJbEM+QYpFu51KO7cqO7JAMy9QRCX6qKIsm2+pIGVkodE\n",
       "pD36ULhI6EBewtC2QUOIgedv/7VDMeey7BehxsNpzR2l0peW70MhdU820Z5W4UJ7OmXEa+DT8nCZ\n",
       "8dRMFrXG0RW1nJsGRIGbXTfP0zeSrEvO5mzS9EltB+7lWW+vyKE3a8XLyO8iCBlTr2h93miIkfPV\n",
       "lOSF7WOBFwnmNvMKi00jrzlP7Mz3Dzq+VKyhu22s5f7wrh8NSVETNcByXPNAK0JZ+IXNXCeRgu/1\n",
       "qIjOiRArFjD/Chnm/AhexVOyEo/ZvWMHcdiDoOouXrAJ01T/xLiqozBXOINJKzBRWbS9ngDbhQcD\n",
       "ZM+lXO5eyRXemo3JHwzrTVyHXKDBQpiZYZ952v5xXntf0iNXJ6A068qUNQxpsN6qDSS+cty7kQRc\n",
       "i7z3/vvlcuqXPgIcWqKOW72EGl1MDz5QdNxw+J8+gkugEPP1wi3pZiDdSgdslo/FPFDWa8b+KL7I\n",
       "/L6iaPQlHfwSYloHjXf/t/3sUHoGFCjgKnkFsEx1lUvwk91NYtqHpKKc8JYKiDEHBB8o3aCQg9GD\n",
       "IMS8X72jfOXfAcH5umuu3I+XpkDuO9ZXZAIy/15Y3OOEfA9QqKouiznhxWRzY75DPKHKojHnMCRv\n",
       "tn8cPtd2091+v08926yns4Kso0tWCUUFt4PRlYjAaZUghXxLrU4PNvmHzIgfppII2rkzPWjbiCHQ\n",
       "wfdTIXocblulaKDJuEl9KsLZSX/cPNspkNniZRRwZ+MwK/RK2mHTLfYiLhg5ESaY6cpGNDp7OMnI\n",
       "EiTy9jsh7byGiv6hYtqMX/JShadY4pyJow10AKqwx0AjrWHIZWGK1qgT3yypKAvpvYGsryCoglAp\n",
       "zgZ8NJfJfLzt4S1H9ZrtR91J/qFU0JBs6O4+KJpjXWV3Dn3SpH1sHZaCZ7OK8Dj1BLGH6DsPxsTm\n",
       "6ojLKXfD0oVuSCLAAu8AAAfQQZokbEFf/talUADpQjaQALlkiH8IKVe/3l9ydijQB/YF8AMjweQr\n",
       "x7KaBONr6Iau2oxu96qB24wbsIUEPiJ5YtOgjo9Bs7uajBMKSKxkaxypMcSev4mVqFGemwf+QzHH\n",
       "EWD8sp7MEc4GozMRFSxvlMXHZK1pR6+YmTNSX2fBB7VtkNbPe80bWBkz7Bs4HifTbe5qC05rbEso\n",
       "Jk/2Fk2lWoSkQIzdr4xhe1tksq2XV9mptEkDjNgb1vT5MzWMIdEH3IiPuHJBZ6OjmtJrt2DBFOJw\n",
       "50uNtZNTYGhZJJd8CAzLIN7a+BBXf3VZDY0VwbW1COjvyfMn92GHTuj4/v013GyjpdMTr5xHNWOm\n",
       "9rW9qYii9Dv9YpNUXyD5/pVB2XjWglMdEKgmt9gsq7y1qT7n7QtTpp65INT48njCc6YJx8ERA1Rb\n",
       "ebckC8NvYirdAi0PuJB89H6OSmlvkxfSYsbGfr4jeRf7TboswEld7wBnruCayeLnPxQPGFzvnZo0\n",
       "eyqqYOxN8PVxJoPSe6pndCTvN0Emh72ABMM2pyODl8WsMeqCGIMXXh264sj4g4nI7EpV8wJb45Ur\n",
       "QsHMtVxVhmtcY7YRph+wTv8zyTWGu247GkPlo7fqSizaCgu7/LHm1pDgIKDWGZRogALAZjLZTxb+\n",
       "rOPXD+YIoznaG+GgE3kb8PgeYFwU33qyufIxfZLFRylwrhVaWbAUsLbvFPD93Bc+45MH3VIEOm+1\n",
       "R4TpKZwZ6lwHjxQKRvgCtHKQq73JA2eQvFRVRTBrf/IVhGcLh9kYGJFaGVscvzn+xvUfrCXB5Msp\n",
       "HCsPn/6FsduzTccF8xnZEiOOEsJWLwgBSm8AgQGDnB+5k+dDYCMu1pIBuZN1CBYLlq4ekzNL+5/k\n",
       "eC/bzFEIhb5eOtkZiVRmzPb4hprI4rJaq/9kfsM/CRcO3mh4gouO2ICBxIxjuCsyj3QSdS9amxtm\n",
       "ZHSBCZuWMlFarhRF89D4WsTLqwPQFpEF4vEQJUxez1RDs9v5ianSagiPh0lM+2j31JtsO2EY/hW5\n",
       "6Kr7PQo5MAWnXlfFuGmFVvs8XuyiGS0e1fwYf9C75yso6M8RAC9KOnqz+172FnIsRlikrXAvTyJV\n",
       "hFbUtoJr6k+941omkaxygIC7dPBs45IWiWvAxMDuAD14Qc+2VvBL3c2KCBLJ9pl/s4QmVFKJbQSY\n",
       "voWJwSHcLTXd++T2wBzae1btQIcmC5pTP1DD86upBeXcjul98rdEDlbufWkYJhZBt73tKBUNBfE+\n",
       "/Az/puZ6EC4fcKOgJDE2ZOPAbA5QiD+Tpl+MnWzawkzT0f63aZDYH06Ae6ass7rw1xfUvroHsZAF\n",
       "C+YitrSlq4qeMDjP3kgSbi4ZYue7ztp1Pz0OYOaDzUBTpij8LNuBjj4NozO9qKz1EYqGlIxPKvYC\n",
       "9vAiJ7qPTG50/RaaYik3fwopGKt5mILs9O6UtsVg9A6sD0R3ZQNCEmRUjNsuJsINi3DxYb4l7dNf\n",
       "GO50R93G8CMrE0D+3ql9bUpzi8cc8C2Y4U0NHlJFy5J0A1rAXOYx5pFE7nZJNbzLFFNmjHO4UnOM\n",
       "+0eVFkpNn/W8lj7/60WpV+mhHbHNAZzmg2KYlM7+kzlNxx1QqsYyVDK8/N8RPXl+0SfV6KgKFOnY\n",
       "OGdmB2BfewzZTn7aIF6BSnspJvp94h3lHEXQsaT9sZZ+sQMK+wAvGStS719l28D3ijfsBVvHKGNC\n",
       "7d8NpzMyeWT1qagrPv+mWhVWe/I2D4blwr25NwS1UDt8W+gxT2YLJbFiZal175gtHzsNbRLe2aZG\n",
       "l1JZm1OBxHnsQGCKBzCGDxdIEXeAZhX2uz3crsL/sjlXssMueojZglbuqZlOT/vC7WZajpoG14tj\n",
       "Zzca7a2Sjq+sInhF9uzVS/R5G1yFl+ErKk4enlhR6YzhwH72XOfU0uwBYmSjbDNlgWUmXpnIc7Lw\n",
       "Xl1RFnV0CwnnusVKxgYu0tl16LDm4COn2bDvgDUbmwfc2A4MUrkkXrRT/81nP2Hh9LOgXCLWBKBj\n",
       "XsvvqgYiQsDE2mGQ5Cnl35VTL3A5J4YsQtF1fbzBTWRg9WJES80pqmklKPNmdPKcBeHJLecuDIgv\n",
       "3WjJVchI3705u7on6Y6Lw52qHFcf9efiTyLUf6UqmId5iHCHhfVaI69yhJTC4Jp+jilNhHxMai64\n",
       "EaAT/posRcvXdcmSIT12UpMjaasnlXRkk2FTxXhP757u+9C+lB/HDcf0J19nvLLRX8LQl1hCIWcN\n",
       "Ha82v7i59EjD4/2iTs1ACTC5jvIfGIK1CKYYc3sFyxuspHv6qpTIzwx4TqaEpsuDRucenkegMd5A\n",
       "LM7uHJaqFtCQmwHFK4loVdzOFSshnb0RH1NB7BDF6JnU+AJrezNproDwFarmxjmmWzFEFUxejyfe\n",
       "GjVflIrfMnoe7G/mvr/GpAOVW7ABDJtMMJLv67KwO5rRCJcbpooLNPFMaNpl46kxVK7P37Me41+/\n",
       "//4QYAC8ui27FCVo2GapQFTLUCeHmDXmUCvXGVTVLu2bfZVCmxz0yEbFGZCjqgYe9e/x/5OVy/fx\n",
       "PRJxhnWWaJ7tQv9SnVBjUbpONvh4oRTj10NL8TpPEKWwpBZSU5xOx5JIfrERjwWG9ySX7B//9CLR\n",
       "754f00gaP/3VT3ZOwn5SqG3isN9wKw8AAAJ7QZ5CeIJfAAOImA8XZoyp9LEKIuJuhQU/fQASUJUy\n",
       "AV7s8khHZFUM6KNIpM3BZ7UAJdTbofz75A9JSmFlUA2YjaRmqFZtHK1Zg8kYs7PPveO10FRWo69T\n",
       "8bF6zYVNqZdfheSsu+LfmOVYMGcBRcmRAPVwcqKVSPodi+iBX7UnY4HS/tkCSpmxQ3N9GY4hHRaY\n",
       "rUzSxN/0w8ZltQ00WxrYCEHAy1bfj/+fLXLeztYdbhN6/OwKzFQ/MtFAFkRl0NjhFnobM4nDJVn9\n",
       "Y2/9S4CZRgzO50jb2A1tDAEhQdbMIu1I59tc6PtqYATPsK6tH73ERG36+Svv1je6SD3XjVcAtWyk\n",
       "UPA3HullPzsJaPfVqTVX1p5gAQg8XDcLxPPe5feOwP9ymx1F68DolUxy/QqM/W8gSYBt/ZyWoAP1\n",
       "Dv6zH1pDGFd3hZOLl4WVeOzk7qsRmrJU41mLcUkf86OgVzV404DVyAL30iAZzLoTrHEf7TlLhXy5\n",
       "oJkXXliiobXFiRUuhkY16CgSQnng+2Evhe8kkzf0C/aT5rFjK5nuCmZzEY5xN55OYZ2caJrsaReR\n",
       "WlyXHvUZqQYuskoMuntfG/ydRLSZgzxadKHYHPX5gRj05SRe77eb0yGFZocWrQM9SoyjMoAGZAEv\n",
       "IGr3GesCEc7W6Mhsoi/oDGVPqzfy5lbAzZmIAHkqXWJ4oOW3pjEK//eUZC1Chtv+jZTJv1cmXIwr\n",
       "3M7fGg8tyhxaW9eCeXrlyJMgC30Y5MJ+001vKD/ZclXIRdzoZa3kmeu4+PHH5bbEuC3f30nXzXGf\n",
       "RH/d1+6inTn/eQMiif3zNElDwHZhXd8k8cDLgG7YiVF4BlUAAAFKAZ5hdEEfAAS0kpDD/fif+jwj\n",
       "WIq9xYALpltkm19goF3k4SYO2JVSdmmvMsaw7mUQ06P+ptCh0Lv8yJ3Hav/gxAJHeL2r+d8kiah0\n",
       "Uob+Hl2nHQ0hQ2Ca4JWghbV0cUnQbVVCq4oZ/+YtPPXdEtfMytPkeHgREZlMSJ0A3r8pq4WOQPO2\n",
       "EVeVtPgXkQvbTOCmvWAqf2lvnYocsjdgrnQgZyPrH9db/pE7qwOX32i0swNo6y6mP1yff3u7oEPK\n",
       "ZjWDW4oC9zd/HKdeeIbObDVcNTxAO7JjgwsxO8YszEz+ubNjf7am1QDseT80Nek0EBJz8+9qEJ1u\n",
       "lqTCRO4QDqdUxbyixj7UxnfYZHx+nAIFS6bpzsmkrb6FU1dqBFp+3UIcKkIb0Z86lcuNxZEac5Vj\n",
       "iCEpNsfP9HfkBGyEIHqWscChUa8APBK67wWcAAABoAGeY2pBHwAAEVPvhwUC8RnVlqP7fwAJ29ty\n",
       "qsMuWVQZPdzxdOtiIgZfjta+VEmRul9GOpj0W6iwfmnG1UXpnHv8VtRkIllIU1qNZ/9KUxbUsQbh\n",
       "hzHQ7gqt2vStXTDxwXmIFWbAfdDW4RR2wUxAv5/BEg1DtNRgDUt/hRQtMu1Qlm+D7U6+5ljJc6VJ\n",
       "MQwi3ffYCFMQCnpzF8A1qpnMS7Bci0TVOfVL5Q+y718J70dOJEJX/7ukCByyZSGAoGBUpGljjAtl\n",
       "GTMSJEvLEOmZXKxiGG6oXFwbnr10sVf02YQlnqfX92bYnLwubbQBYG5GTcTiP7T8GCGWt+Q6HFpK\n",
       "FtvzVd/XUxV1Pf/PmqbH6YbN8SuC1Vx++ylkewQBfrJVKHhCOPrRgoZ7Q1mdN+9+Crq7ER78Ja81\n",
       "KvRsU0UbTIjBCn46/4zQH6fcjiZXZTboCr2NyVlNuInhEvuHNNvn059sAM9XTph/1FRNdwjcMBQj\n",
       "+rYyXxe85tp2eHabfcL54GwvrI1KMMY0D9fKfqsA6kESiqm3/lJ7SoQbo4UlUe/5AAADREGaaEmo\n",
       "QWiZTAgn//61KoAAAwE28/0aAC52xQZLKnKrZMJa59ivIlgSAL/Mn+maf2cDSt1zbbbZVHawnJaK\n",
       "MlC1lVPdk8n6pjBgYvPvmci619g3D0NvprJrTWJI0lrTxGEAmVCVI9iHYl6yJvgmMHeiErUzDegq\n",
       "v5NApRRGlNmdc7eGdWC12T6m3frkKwag3Oc4GZfZ0XDTfgtqeJdZHKTPNTXgoOViip3fHFnngFIv\n",
       "JOAMw2J8tiOnLynkFP75GkdrwuqXaQ9qGfeyOV2CM0PkK3eSyaE9K84FK5+WjaPyAOWwCMnf28Mx\n",
       "dJ1wp4tGg3ubwkueLumH149oNNJKQOW6CwM7WDsSFkEaF5zygs3pCIAgq8BSMOoRv9DANLlEuYKG\n",
       "XjAIo/Qag2h2lDFfOUhAsMOVDogqj9ljV44Dof4VXT4F/IAksbn4aotocJJ993RE55YNdSebaDk9\n",
       "9bpqxUnYBagKA3V6ksAmPpFcrXZx2XEKbEGEVMSTtKTG5RP9/B88wLfwO1Gbzeltg+hdIvZMFuph\n",
       "cwVWzIHPshriPSZZJZys3eMcLwQWd0bAS+BV25owtah8na8u7xV8tkPyhDb8GZZ6EDF3qXP4tFSU\n",
       "iSDuE7Xvs4+8figNhcXZsBr0LqD4sYS5LLa+SHcjpL59lrea9ZDjOTsoKd0UsdiH8AFmVa8wYudy\n",
       "VYmQv/x05sWCvFcAq48iO3CYbZ6/Mm4BGWucYREwshWECqEJleT/aSjdcJOmptpa67ZZjM9gEMVo\n",
       "Cvj5/SK45NwaqvzhxxIwR+oIcK0WIKsnxh9BaHEs6S3CLmJvAJKk3osnXqsoVR3Enve8iC2hvqjz\n",
       "XWtyzDFLEBM35QFUkXzYx6Bn5FlxrVQAN0Sv1RGTIG7pNYDAT5FLQ1pLjE+dKLudFlclbxouo0F5\n",
       "cS7cayoQ62KWahAgTh6BizAi7r8BIiErcVwP9z7XHQ6U0vkOvQKpR5q16S0mUxYurbME/a6hazqz\n",
       "uSsIo6er2Cma5GvpzMP5JXGPWdjy+XiPX73XnYdY98lESTcvOhzzv/wRfdMQHmrf1rr2TgUmtfs/\n",
       "dSGQLU/rTtli9yFAIRNr+A8BJNpnkZddg46lF0VXroHtAAACVkGehkURLBL/AABuWj3A9uRUUIcH\n",
       "Ve9uTyaOEYCPg0tnuU6ftRhfXiACEOdI3kPJwm87+K4Zr8tMTSNPCCJOTVNDmfhqeqPSildXQ0b3\n",
       "SE8KlmymO8r5Zig3e2LarAz1ydp2E7UVvq22uu3rv5wYyFyFIQhC5+aJ8+KukoCGvd5HrLrJHZNS\n",
       "8QcT3lf36NIXMdjCuP0NoAyV37ykA8kl7z86g59J0B3xPBZVcoIm2G4T2NKVSs4uQ4i0duA4fOrR\n",
       "fr4f6t4j4ardfSbK0k41b95dBB96yEBr8QZphmEQxDIKdIjggAc5pEjkL+JdRiP0RG358V3t5NLO\n",
       "Fbc3i12i1+gNxMVOhp07s5DmhgdSdwHGuuXbNHABhfFv0VddsKk302PU1qe9hpOUhVehWNlzLluA\n",
       "OMXWIJrJTlBr5yXPz/yeHQWH9iEPTgu04MF7skXrFVAnOCJJtaO7gjvFlT5v8183mfYWT+5CO6y9\n",
       "8N6mvZdo+285qG4D+DId1AWyTXbz4/EpbH3/OQIAvDRLAiXtnY97b4kATpOopgU3YU+CO336nqII\n",
       "4MtQKKVZR/UtHambiATcjzc1hgi4jq+JlDRdfZy+bY/HQKCx40m8Xds1gfPdD34UaRinwr826ONm\n",
       "wRu1Z+X1IsgaoBEh1QnWapVLfLmOwf3uSuhmuvm8+X23efXDZln2/tNIX2V7sVYUiXHRdkdAO8lg\n",
       "h2R/YJew2/fu1RXv1tQimIZZZBEIWSddetFd63D0zbGnFH1BgeLNyv3evSrUTyZpt8MPFst5hJ4e\n",
       "8Ot3PmsjDGkAAAHJAZ6ldEEfAAARUkpCicuQ/USIOAC3O7G8NQ24OylqsmcfXdryr/N44mtY8RAA\n",
       "JyOACiTSUArh5Uj88YFkB90ASrQgpVk4svfAK7ROt24phhNSIU87/HSf1OQlwFWiHSKeUoV60UPP\n",
       "PN5hqMRhJ+Fwd4BQQ61LQgtXbJX0HKziXi7QzN43OYzAbK42D/KAonmUa11LjxM+6lK3rXg/HaPv\n",
       "Y/SR6+BX35FiiA0StHlyPOxEwpQTOSkDnuZqpQ+Iws1RThhgWV25WMICuosDsDfZt16Ehu0MvhyT\n",
       "KW7V83A/77/G1niIjckWzLG6H7CDmQWpAgh2bboGYeKCF19CZIcdBNmMNSThXjkdO1VESVAMnxpL\n",
       "gV7F3foFVWe3O59I5gnxQOOjgWiUNXAAyBUG0bcoPc8T7AQapBTsIge+s6nFsADq2EFZ+MGDf248\n",
       "MWCTvHDq13ddtYAUFFoy/iIm7PlxVE7IVqgEzc7zw1XKco6pooJh3TKMf7bmhqJJjlqrxOfMXAqk\n",
       "cFDfDvARX+YRhUbVCo1tV2IXY43eSyBgl4Fueyr0NEpbTSmXNNBVB9/G5ooMaDegIWWNZdwr/N8H\n",
       "8PNYCEYJmoQUl7EixQAAAe8BnqdqQR8AABFT8BT8Up895IGDoUnHNmEQJPp03r3cAH9HIlxb6mOL\n",
       "Pbg49gbxwikoy4KulgR00MU2HH9lTxvY7Ni8LT6Wd9P2jAvP89X6oE7qxhRc+vxExXFT77t4kMJp\n",
       "+amxKvXvZP+SYiVmK+RovAb+z5fYPHxAn54nSTN5+w+s0USUCKIgzSRjqZU40mMZOp4oTeyDWaBo\n",
       "E0+07pWvFKtMnGvA5KkVCyyPhkM6LlUXBHKL8IRATmHpYFC2L00YpmBK10g2tjhZA/5MMlC0zp6L\n",
       "wRMhcHdAf5i4ynZmEKNiemtJqwjgqbpXSDFY83Fmts5BjbkD52I62WchvzaZTeh3DvsadAi/rKIj\n",
       "G2XSVUWqzS0a+YCk7MBDHOQE7gG3zYycNJgeLMSBskr3FS4YCttVwvdVkNEn6fOcQgGNYKCy51/+\n",
       "e1kwFyGn+JshSKklGQ/JYGtQpMMYUnKa5S9CMA1masuhP5iobBjm1E6YB7s8RKEyhNTDZd29mjVo\n",
       "Ocx/bHDjsIRrppquFftN6gAnOhSnkcThDvGbTIFSdGEkrBNKL38sdHxQhvSdPhZkgDv92YioXHC1\n",
       "3IidoaqKWJDzZ8Yh/fkTodRQNL7YYkf4RFDWF65U4qTR2IyA8XTdjmEWr62DkJR3D+pGQjS5Ip8A\n",
       "AAHGQZqqSahBbJlMFEwR//61KoAAAWTYVXCQg8oYAEJFlklzU2XibJOUphnRTMm8RpaKca1j5H7k\n",
       "WdyAehY39gppEWW+SAY4MgI0TqaUpLLi3Ufch7Mx0ABt/qnow1iX+SbigxTMVrDtpBh/4IPm12qy\n",
       "Ab7kVrH+VQOKnnWUOgWHo7KKD7sit5dX0U1tw1KT42vceLQ1eJoiDDphC+6QJZYgxxDWGJR5zpcn\n",
       "YVGT/SJ0J9+KztPGyJsr4gSfdsRdcdUwNtYFsR1wIXr8eC/r0ygSq0UCfbvFCD8nmztL0y09DbBM\n",
       "P+oZpbl0CzCT1he9XY88NpariK18zkX0tX3iVeR/RRPSBPNX1tAGtbcHMUdjd8ozE6EMkJSuR902\n",
       "dbzZnUjgP4p6dLy52msX1QlIjsPZgKuWPuGBgcplBNZqlcuWkIkwxIMGqrk3Dd5tygqWCO59f2pM\n",
       "7MfFVls5ne8p4TUzv5uPV+boBeE4zwveONLwCwvXPu4ih4J86ywkHpPPq2aTehMC2KegZspI8l0I\n",
       "8fic5tnBOwo9oclSpI6nCUGnt2fDVyvZMUWVPwxxzi97V6/EwuElIT41dagbqQ3G5gmaH7Bcb8tq\n",
       "OQAAAeMBnslqQR8AAJKadY8skhGfjoiFOOkWwePxYpvCxNNkqvAAh9SdEZNOBEGPS7Vn8iIfEVTs\n",
       "19onzPOE2v8I6KYJDc+uL9TG62tlKNKu65zg8E3DgV00I/vIyPkvTbAh7u8qcPTC93xFmxZigU0C\n",
       "JS4lJrh5tJN27Wzcu9qMP9fsUvgtZgO59mAVVKSOP5Jh15JUHxVRgZqCBzVmbdBHiL1A97iqlPq3\n",
       "shBwb+pErFFT8QsCiYBI8q17gtZFrTmKtFG7IQvc2z7E88/uYx1m975ttbU4RUsOCQe6+Gev9OUD\n",
       "GzQfeogvYumYBV4dBqoBFPwU6VTcLQ6UTLyfEH9UA0CyFPbk4V0WQKsElah0aYSYno2+38wzNyl4\n",
       "mWmCXAKUm5UpFH+8QHYZwteI2RILYCjYbCiz4T4xW9zZaUvClY51fN1XBdZ78+Br+RFo9I7Hg3v2\n",
       "XRTTezeWZwt2zJ2NPx3rJJZaTkmTiDVDesuDclLSIztXts5NaAd5Rx+pBVqe7Ydl4Mg7OfmmwdE0\n",
       "f9s8zKRUflx1mVAYrHcQCLR2VhZBQeJ8ePfF6DZTcTD8N4SbnnUclrvgnbxgfKxBrgHJfglcyrOi\n",
       "iICXHE2D9hY99mreWN/fLOONJZX4PffrftiRHfGljHkAAAOybW9vdgAAAGxtdmhkAAAAAAAAAAAA\n",
       "AAAAAAAD6AAAD3gAAQAAAQAAAAAAAAAAAAAAAAEAAAAAAAAAAAAAAAAAAAABAAAAAAAAAAAAAAAA\n",
       "AABAAAAAAAAAAAAAAAAAAAAAAAAAAAAAAAAAAAAAAAAAAgAAAtx0cmFrAAAAXHRraGQAAAADAAAA\n",
       "AAAAAAAAAAABAAAAAAAAD3gAAAAAAAAAAAAAAAAAAAAAAAEAAAAAAAAAAAAAAAAAAAABAAAAAAAA\n",
       "AAAAAAAAAABAAAAAAbAAAAEgAAAAAAAkZWR0cwAAABxlbHN0AAAAAAAAAAEAAA94AAAkAAABAAAA\n",
       "AAJUbWRpYQAAACBtZGhkAAAAAAAAAAAAAAAAAAAyAAAAxgBVxAAAAAAALWhkbHIAAAAAAAAAAHZp\n",
       "ZGUAAAAAAAAAAAAAAABWaWRlb0hhbmRsZXIAAAAB/21pbmYAAAAUdm1oZAAAAAEAAAAAAAAAAAAA\n",
       "ACRkaW5mAAAAHGRyZWYAAAAAAAAAAQAAAAx1cmwgAAAAAQAAAb9zdGJsAAAAs3N0c2QAAAAAAAAA\n",
       "AQAAAKNhdmMxAAAAAAAAAAEAAAAAAAAAAAAAAAAAAAAAAbABIABIAAAASAAAAAAAAAABAAAAAAAA\n",
       "AAAAAAAAAAAAAAAAAAAAAAAAAAAAAAAAAAAAGP//AAAAMWF2Y0MBZAAV/+EAGGdkABWs2UGwloQA\n",
       "AAMAJAAAAwDIPFi2WAEABmjr48siwAAAABx1dWlka2hA8l8kT8W6OaUbzwMj8wAAAAAAAAAYc3R0\n",
       "cwAAAAAAAAABAAAACwAAEgAAAAAUc3RzcwAAAAAAAAABAAAAAQAAAGhjdHRzAAAAAAAAAAsAAAAB\n",
       "AAAkAAAAAAEAAFoAAAAAAQAAJAAAAAABAAAAAAAAAAEAABIAAAAAAQAAWgAAAAABAAAkAAAAAAEA\n",
       "AAAAAAAAAQAAEgAAAAABAAA2AAAAAAEAABIAAAAAHHN0c2MAAAAAAAAAAQAAAAEAAAALAAAAAQAA\n",
       "AEBzdHN6AAAAAAAAAAAAAAALAAATCAAAB9QAAAJ/AAABTgAAAaQAAANIAAACWgAAAc0AAAHzAAAB\n",
       "ygAAAecAAAAUc3RjbwAAAAAAAAABAAAALAAAAGJ1ZHRhAAAAWm1ldGEAAAAAAAAAIWhkbHIAAAAA\n",
       "AAAAAG1kaXJhcHBsAAAAAAAAAAAAAAAALWlsc3QAAAAlqXRvbwAAAB1kYXRhAAAAAQAAAABMYXZm\n",
       "NTguMTIuMTAw\n",
       "\">\n",
       "  Your browser does not support the video tag.\n",
       "</video>"
      ],
      "text/plain": [
       "<IPython.core.display.HTML object>"
      ]
     },
     "execution_count": 33,
     "metadata": {},
     "output_type": "execute_result"
    },
    {
     "data": {
      "image/png": "[encoded data removed]",
      "text/plain": [
       "<Figure size 432x288 with 1 Axes>"
      ]
     },
     "metadata": {},
     "output_type": "display_data"
    }
   ],
   "source": [
    "from matplotlib import animation, rc\n",
    "from IPython.display import HTML\n",
    "\n",
    "fig, ax = plt.subplots()\n",
    "ax.set_xlim([min(x), max(x)])\n",
    "ax.set_ylim([-3, max(y)+1])\n",
    "ax.plot(x, y, lw = 0.9, color = 'k')\n",
    "\n",
    "line, = ax.plot([], [], 'r', label = 'Gradient descent', lw = 1.5)\n",
    "point, = ax.plot([], [], 'bo', animated=True)\n",
    "value_display = ax.text(0.02, 0.02, '', transform=ax.transAxes)\n",
    "\n",
    "def init():\n",
    "    \"\"\"Initializes the animation\"\"\"\n",
    "    line.set_data([], [])\n",
    "    point.set_data([], [])\n",
    "    value_display.set_text('')\n",
    "\n",
    "    return line, point, value_display\n",
    "\n",
    "def animate(i):\n",
    "    \"\"\"Animates the plot at step i\n",
    "    Args:\n",
    "        i: the step to animate\n",
    "        return: a tuple of line, point, and value_display\n",
    "    \"\"\"\n",
    "    # Animate line\n",
    "    line.set_data(x_gd[:i], y_gd[:i])\n",
    "    \n",
    "    # Animate points\n",
    "    point.set_data(x_gd[i], y_gd[i])\n",
    "\n",
    "    # Animate value display\n",
    "    value_display.set_text('Min = ' + str(y_gd[i]))\n",
    "\n",
    "    return line, point, value_display\n",
    "\n",
    "# call the animator\n",
    "rc('animation', html='html5')\n",
    "anim = FuncAnimation(fig, animate, init_func=init,\n",
    "                     frames=len(x_gd), interval=360,\n",
    "                     repeat_delay=60, blit=True)\n",
    "\n",
    "# display the video\n",
    "HTML(anim.to_html5_video())"
   ]
  },
  {
   "cell_type": "code",
   "execution_count": null,
   "metadata": {},
   "outputs": [],
   "source": []
  },
  {
   "cell_type": "code",
   "execution_count": null,
   "metadata": {},
   "outputs": [],
   "source": []
  }
 ],
 "metadata": {
  "celltoolbar": "Slideshow",
  "kernelspec": {
   "display_name": "Python 3",
   "language": "python",
   "name": "python3"
  },
  "language_info": {
   "codemirror_mode": {
    "name": "ipython",
    "version": 3
   },
   "file_extension": ".py",
   "mimetype": "text/x-python",
   "name": "python",
   "nbconvert_exporter": "python",
   "pygments_lexer": "ipython3",
   "version": "3.6.5"
  },
  "livereveal": {
   "autolaunch": false,
   "overlay": "<div class='logo'><img src='assets/Stackup_Logo_Small.png' width='90%'/></div>"
  }
 },
 "nbformat": 4,
 "nbformat_minor": 2
}
