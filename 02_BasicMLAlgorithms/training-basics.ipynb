{
 "cells": [
  {
   "cell_type": "markdown",
   "metadata": {},
   "source": [
    "![training](assets/training-basics/puppy-training.jpg)\n",
    "\n",
    "(image: amazon)"
   ]
  },
  {
   "cell_type": "markdown",
   "metadata": {
    "slideshow": {
     "slide_type": "slide"
    }
   },
   "source": [
    "# Training basics"
   ]
  },
  {
   "cell_type": "markdown",
   "metadata": {
    "slideshow": {
     "slide_type": "slide"
    }
   },
   "source": [
    "Concepts in training models\n",
    "- Loss functions\n",
    "- Gradient descent\n",
    "- Overfitting, underfitting\n",
    "- Regularization\n",
    "- Cross-validation"
   ]
  },
  {
   "cell_type": "markdown",
   "metadata": {
    "slideshow": {
     "slide_type": "fragment"
    }
   },
   "source": [
    "Objective: a model that trains fast and performs well"
   ]
  },
  {
   "cell_type": "markdown",
   "metadata": {
    "slideshow": {
     "slide_type": "fragment"
    }
   },
   "source": [
    "Not an exhaustive list. We'll encounter more as we go over the different algorithms."
   ]
  },
  {
   "cell_type": "markdown",
   "metadata": {
    "slideshow": {
     "slide_type": "slide"
    }
   },
   "source": [
    "# Loss Functions\n",
    "\n",
    "What they are: a metric of how far away the predictions are from the truth\n",
    "\n",
    "For example:\n",
    "\n",
    "![MSE](http://scikit-learn.org/stable/_images/math/44f36557fef9b30b077b21550490a1b9a0ade154.png)"
   ]
  },
  {
   "cell_type": "markdown",
   "metadata": {
    "slideshow": {
     "slide_type": "fragment"
    }
   },
   "source": [
    "a.k.a.:\n",
    "- Objective function\n",
    "- Cost function\n",
    "- Error function"
   ]
  },
  {
   "cell_type": "markdown",
   "metadata": {
    "slideshow": {
     "slide_type": "slide"
    }
   },
   "source": [
    "### Definitions\n",
    "\n",
    "$$x^* = \\arg \\min L(x)$$\n",
    "\n",
    "where $x^*$ = value that minimizes the loss function $L(x)$\n",
    "\n",
    "The process of finding $x^*$ is called \"Optimization\". It usually involves running some type of Gradient Descent. "
   ]
  },
  {
   "cell_type": "markdown",
   "metadata": {
    "slideshow": {
     "slide_type": "slide"
    }
   },
   "source": [
    "### Loss Function Examples\n",
    "\n",
    "Scikit-learn:\n",
    "- [Mean squared error](http://scikit-learn.org/stable/modules/model_evaluation.html#mean-squared-error): `sklearn.metrics.mean_squared_error(y_true, y_pred)`\n",
    "- [Log loss](http://scikit-learn.org/stable/modules/model_evaluation.html#log-loss): `sklearn.metrics.log_loss(y_true, y_pred)`\n",
    "- [Zero one loss](http://scikit-learn.org/stable/modules/generated/sklearn.metrics.zero_one_loss.html#sklearn.metrics.zero_one_loss)\n",
    "`sklearn.metrics.zero_one_loss(y_true, y_pred)`\n",
    "- etc\n",
    "\n",
    "Keras:\n",
    "- https://keras.io/losses/\n",
    "- `keras.losses.mean_squared_error(y_true, y_pred)`\n",
    "- `keras.losses.binary_crossentropy(y_true, y_pred)`\n",
    "- etc"
   ]
  },
  {
   "cell_type": "markdown",
   "metadata": {
    "slideshow": {
     "slide_type": "slide"
    }
   },
   "source": [
    "# Gradient Descent\n",
    "\n",
    "What it is: technique for minimizing loss function for a given model\n",
    "\n",
    "Objective: find $w^*$ such that $$w^* = \\underset{w}\\arg \\min{L\\big(y_{true}, y_{pred}\\big)}$$\n",
    "\n",
    "$$w^* = \\underset{w}\\arg \\min{L\\big(y_{true}, f(x, w)\\big)}$$\n",
    "\n",
    "\n",
    "where\n",
    "- $L(...)$ is the loss function\n",
    "- $w$ are the weights\n",
    "- $f(x, w)$ is the model that computes $y_{pred}$"
   ]
  },
  {
   "cell_type": "markdown",
   "metadata": {
    "slideshow": {
     "slide_type": "slide"
    }
   },
   "source": [
    "### Gradient descent algorithm\n",
    "\n",
    "1. Initialize $w$ to some value (e.g. random)\n",
    "2. Compute gradient of $L\\big(y_{true}, f(x, w)\\big)$\n",
    "3. Update $w$ by a \"tiny factor\" in the negative of the gradient\n",
    "4. Repeat 2-3 until we reach the \"stopping criteria\" (more on this later)\n",
    "\n",
    "The \"tiny factor\" is known as the \"learning rate\""
   ]
  },
  {
   "cell_type": "markdown",
   "metadata": {
    "slideshow": {
     "slide_type": "slide"
    }
   },
   "source": [
    "### Workshop: Gradient descent. Animated\n",
    "\n",
    "![wake up](assets/training-basics/descend.jpg)\n",
    "\n",
    "(training incantation)"
   ]
  },
  {
   "cell_type": "markdown",
   "metadata": {
    "slideshow": {
     "slide_type": "slide"
    }
   },
   "source": [
    "### Environment Setup\n",
    "\n",
    "Create a new environment called `mldds02`. You may also reuse `mldds01`, but it's good to keep separate environments for different experiments.\n",
    "\n",
    "```\n",
    "conda create -n mldds02 python=3\n",
    "conda activate mldds02\n",
    "\n",
    "(mldds02) conda install jupyter numpy pandas matplotlib scikit-learn\n",
    "(mldds02) conda install -c conda-forge ffmpeg\n",
    "```"
   ]
  },
  {
   "cell_type": "code",
   "execution_count": null,
   "metadata": {
    "slideshow": {
     "slide_type": "-"
    }
   },
   "outputs": [],
   "source": [
    "# Credits: https://jed-ai.github.io/py1_gd_animation/\n",
    "\n",
    "import numpy as np\n",
    "import matplotlib.pyplot as plt\n",
    "\n",
    "\"\"\"Example gradient descent implementation\"\"\"\n",
    "\n",
    "def func_y(x):\n",
    "    \"\"\"A demonstrative loss function that happens to be convex (has global a minimum)\n",
    "    Args:\n",
    "        x - the input (can be the weights of a machine learning algorithm)\n",
    "    Returns:\n",
    "        The loss value\n",
    "    \"\"\"\n",
    "    return x**2 - 4*x + 2\n",
    "\n",
    "def gradient_func_y(x):\n",
    "    \"\"\"The gradient of func_y\n",
    "    Args:\n",
    "        x - the input\n",
    "    Returns:\n",
    "        The gradient value\n",
    "    \"\"\"\n",
    "    return 2*x - 4 # d(x^2 - 4x + 2)/dx = 2x - 4\n",
    "\n",
    "def gradient_descent(previous_x, learning_rate, epochs):\n",
    "    \"\"\"An implementation of gradient descent\n",
    "    Args:\n",
    "        previous_x - the previous input value\n",
    "        learning_rate - how much to change x per iteration\n",
    "        epochs - number of steps to run gradient descent\n",
    "    Returns:\n",
    "        A tuple: array of x values, array of loss values\n",
    "    \"\"\"\n",
    "    x_gd = []\n",
    "    y_gd = []\n",
    "    x_gd.append(previous_x)\n",
    "    y_gd.append(func_y(previous_x))\n",
    "    \n",
    "    # loop to update x and y\n",
    "    for i in range(epochs):\n",
    "        # x = lr * gradient(func(prev_x))\n",
    "        update = learning_rate *gradient_func_y(previous_x)\n",
    "        x = previous_x - update\n",
    "        print('step', i, 'previous x', previous_x,\n",
    "              'update:', -update, 'new x:', x)\n",
    "        x_gd.append(x)\n",
    "        y_gd.append(func_y(x))\n",
    "        \n",
    "        # update previous_x\n",
    "        previous_x = x\n",
    "    \n",
    "    return x_gd, y_gd"
   ]
  },
  {
   "cell_type": "markdown",
   "metadata": {
    "slideshow": {
     "slide_type": "-"
    }
   },
   "source": [
    "With gradient descent implemented, we'll will now run it."
   ]
  },
  {
   "cell_type": "code",
   "execution_count": null,
   "metadata": {
    "slideshow": {
     "slide_type": "-"
    }
   },
   "outputs": [],
   "source": [
    "x0 = 0.7\n",
    "learning_rate = 0.15\n",
    "epochs = 10\n",
    "\n",
    "x = np.arange(-1, 5, 0.01)\n",
    "y = func_y(x)\n",
    "x_gd, y_gd = gradient_descent(x0, learning_rate, epochs)"
   ]
  },
  {
   "cell_type": "markdown",
   "metadata": {
    "slideshow": {
     "slide_type": "-"
    }
   },
   "source": [
    "Plot the animation."
   ]
  },
  {
   "cell_type": "code",
   "execution_count": null,
   "metadata": {
    "slideshow": {
     "slide_type": "-"
    }
   },
   "outputs": [],
   "source": [
    "from matplotlib import animation, rc\n",
    "from IPython.display import HTML\n",
    "\n",
    "fig, ax = plt.subplots()\n",
    "ax.set_xlim([min(x), max(x)])\n",
    "ax.set_ylim([min(y)-1, max(y)+1])\n",
    "ax.plot(x, y, lw = 0.9, color = 'k')\n",
    "\n",
    "line, = ax.plot([], [], 'r', label = 'Gradient descent', lw = 1.5)\n",
    "point, = ax.plot([], [], 'bo', animated=True)\n",
    "value_display = ax.text(0.02, 0.02, '', transform=ax.transAxes)\n",
    "\n",
    "def init():\n",
    "    \"\"\"Initializes the animation\"\"\"\n",
    "    line.set_data([], [])\n",
    "    point.set_data([], [])\n",
    "    value_display.set_text('')\n",
    "\n",
    "    return line, point, value_display\n",
    "\n",
    "def animate(i):\n",
    "    \"\"\"Animates the plot at step i\n",
    "    Args:\n",
    "        i: the step to animate\n",
    "        return: a tuple of line, point, and value_display\n",
    "    \"\"\"\n",
    "    # Animate line\n",
    "    line.set_data(x_gd[:i], y_gd[:i])\n",
    "    \n",
    "    # Animate points\n",
    "    point.set_data(x_gd[i], y_gd[i])\n",
    "\n",
    "    # Animate value display\n",
    "    value_display.set_text('Min = ' + str(y_gd[i]))\n",
    "\n",
    "    return line, point, value_display\n",
    "\n",
    "# call the animator\n",
    "rc('animation', html='html5')\n",
    "anim = FuncAnimation(fig, animate, init_func=init,\n",
    "                     frames=len(x_gd), interval=360,\n",
    "                     repeat_delay=60, blit=True)\n",
    "\n",
    "# display the video\n",
    "HTML(anim.to_html5_video())"
   ]
  },
  {
   "cell_type": "markdown",
   "metadata": {
    "slideshow": {
     "slide_type": "-"
    }
   },
   "source": [
    "### Exercises\n",
    "\n",
    "1. Try initializing x0 to something > 2, what do you observe?\n",
    "2. Try increasing the learning_rate to something large like 10. Does the gradient still converge?\n",
    "3. Replace func_y and gradient_func_y above with a cubic function. What do you observe?\n",
    "  ```\n",
    "  y = x^3 - 5x^2 + x + 1\n",
    "  gradient(y) = 3x^2 - 10x + 1\n",
    "  ```\n",
    "4. Replace func_y and gradient_func_y with `cos(x)` and its derivative `-sin(x)`. What do you observe?  What needs to reach convergence?\n",
    "  ```\n",
    "  y = np.tan(x)\n",
    "  gradient(y) = -np.sin(x)\n",
    "  ```\n",
    "  \n",
    "Derivative formulas: https://www.derivative-calculator.net/"
   ]
  },
  {
   "cell_type": "markdown",
   "metadata": {
    "slideshow": {
     "slide_type": "slide"
    }
   },
   "source": [
    "### Gradient Descent Variants\n",
    "\n",
    "1. Stochastic Gradient Descent (SGD)\n",
    "2. Minibatch SGD\n",
    "3. Minibatch SGD with Momentum\n",
    "4. Adaptive Learning Rates"
   ]
  },
  {
   "cell_type": "markdown",
   "metadata": {
    "slideshow": {
     "slide_type": "slide"
    }
   },
   "source": [
    "### Stochastic Gradient Descent\n",
    "\n",
    "\"Regular\" Gradient Descent is expensive because it processes all samples at once\n",
    "- Imagine you have millions of training samples\n",
    "\n",
    "Stochastic Gradient Descent speeds this up by:\n",
    "- Running gradient descent, one randomly selected training sample at a time\n",
    "- Stochastic: random noise, because samples can vary a lot"
   ]
  },
  {
   "cell_type": "markdown",
   "metadata": {
    "slideshow": {
     "slide_type": "slide"
    }
   },
   "source": [
    "### Notation\n",
    "\n",
    "$\\leftarrow$ = replace value\n",
    "Some texts use this symbol $:=$\n",
    "\n",
    "Examples\n",
    "- $\\theta \\leftarrow \\theta - \\epsilon g$\n",
    "- $\\theta := \\theta - \\epsilon g$\n",
    "\n",
    "Means\n",
    "1. Compute $\\theta' = \\theta - \\epsilon g$\n",
    "2. Update $\\theta = \\theta'$"
   ]
  },
  {
   "cell_type": "markdown",
   "metadata": {
    "slideshow": {
     "slide_type": "slide"
    }
   },
   "source": [
    "![sgd](assets/training-basics/sgd.png)"
   ]
  },
  {
   "cell_type": "markdown",
   "metadata": {
    "slideshow": {
     "slide_type": "slide"
    }
   },
   "source": [
    "Symbols:\n",
    "- The $\\eta_t$ denotes the learning rate\n",
    "- Note: $\\Theta$ is denotes the weights matrix\n",
    "\n",
    "(image: Neural Networks in Natural Language Processing, Goldberg, 2017)"
   ]
  },
  {
   "cell_type": "markdown",
   "metadata": {
    "slideshow": {
     "slide_type": "slide"
    }
   },
   "source": [
    "### Minibatch Stochastic Gradient Descent\n",
    "\n",
    "Instead of 1 random sample at a time:\n",
    "- Sample a \"minibatch\" of m training samples\n",
    "- Run gradient descent on that minibatch\n",
    "- \"Smooths\" out the randomness by operating on a minibatch.\n",
    "- The minibatch size can be tuned (\"hyperparameter\")"
   ]
  },
  {
   "cell_type": "markdown",
   "metadata": {
    "slideshow": {
     "slide_type": "slide"
    }
   },
   "source": [
    "![minibatch sgd](assets/training-basics/minibatch-sgd.png)"
   ]
  },
  {
   "cell_type": "markdown",
   "metadata": {
    "slideshow": {
     "slide_type": "slide"
    }
   },
   "source": [
    "Symbols:\n",
    "- $\\epsilon_k$ denotes the learning rate\n",
    "- $\\theta$ denotes the weights matrix\n",
    "- $\\nabla_{\\theta}$ means gradient w.r.t. $\\theta$\n",
    "\n",
    "(image: Deep Learning, Goodfellow, 2016)"
   ]
  },
  {
   "cell_type": "markdown",
   "metadata": {
    "slideshow": {
     "slide_type": "slide"
    }
   },
   "source": [
    "### Minibatch SGD, with momentum\n",
    "\n",
    "Speeds up minibatch SGD by:\n",
    "- Applying an exponentially decaying moving average of the previous gradients ($v$)\n",
    "  - if gradients point the same way, will reach minimum faster\n",
    "- Minibatch SGD: $\\theta \\leftarrow \\theta - \\epsilon g$\n",
    "- Minibatch SGD + momentum: $\\theta \\leftarrow \\theta - \\epsilon g + \\alpha v$, $v \\leftarrow v - \\epsilon g$\n",
    "\n",
    "Variant: Nesterov's momentum"
   ]
  },
  {
   "cell_type": "markdown",
   "metadata": {
    "slideshow": {
     "slide_type": "slide"
    }
   },
   "source": [
    "![minibatch sgd with momentum](assets/training-basics/minibatch-sgd-momentum.png)\n",
    "\n",
    "(image: Deep Learning, Goodfellow, 2016)"
   ]
  },
  {
   "cell_type": "markdown",
   "metadata": {
    "slideshow": {
     "slide_type": "slide"
    }
   },
   "source": [
    "### Adaptive Learning Rate Strategies\n",
    "\n",
    "- Learning rate will control the amount of gradient update\n",
    "  - Large learning rate: risk overshoot and not converge\n",
    "  - Small learning rate: too slow\n",
    "  - Ideal: start large(r), then reduce as we get closer to minima\n",
    "- Strategies\n",
    "  - Constant learning rate\n",
    "  - Time-based or step-based decay\n",
    "  - AdaGrad\n",
    "  - RMSProp\n",
    "  - Adam\n",
    "- What works best depends on your domain (true for **any** optimization)"
   ]
  },
  {
   "cell_type": "markdown",
   "metadata": {
    "slideshow": {
     "slide_type": "slide"
    }
   },
   "source": [
    "![Comparison](https://3qeqpr26caki16dnhd19sv6by6v-wpengine.netdna-ssl.com/wp-content/uploads/2017/05/Comparison-of-Adam-to-Other-Optimization-Algorithms-Training-a-Multilayer-Perceptron.png)\n",
    "\n",
    "(image: [machine learning mastery](https://machinelearningmastery.com/adam-optimization-algorithm-for-deep-learning)"
   ]
  },
  {
   "cell_type": "markdown",
   "metadata": {
    "slideshow": {
     "slide_type": "slide"
    }
   },
   "source": [
    "![Another comparison](http://scikit-learn.org/stable/_images/sphx_glr_plot_mlp_training_curves_001.png)\n",
    "\n",
    "(image: [scikit-learn](http://scikit-learn.org/stable/auto_examples/neural_networks/plot_mlp_training_curves.html))"
   ]
  },
  {
   "cell_type": "code",
   "execution_count": null,
   "metadata": {
    "slideshow": {
     "slide_type": "slide"
    }
   },
   "outputs": [],
   "source": []
  },
  {
   "cell_type": "markdown",
   "metadata": {
    "slideshow": {
     "slide_type": "slide"
    }
   },
   "source": [
    "# Underfiting, Overfitting"
   ]
  },
  {
   "cell_type": "markdown",
   "metadata": {
    "slideshow": {
     "slide_type": "slide"
    }
   },
   "source": [
    "## Goals of training\n",
    "1. Minimize training error\n",
    "2. Minimize gap between test error and training error. (the \"generalization gap\")\n",
    "\n",
    "(Reference: Deep Learning - Goodfellow, Bengio, Courville, MIT press, 2016)"
   ]
  },
  {
   "cell_type": "markdown",
   "metadata": {
    "slideshow": {
     "slide_type": "slide"
    }
   },
   "source": [
    "## Generalization\n",
    "\n",
    "How well will the model handle data not found during training?"
   ]
  },
  {
   "cell_type": "markdown",
   "metadata": {
    "slideshow": {
     "slide_type": "slide"
    }
   },
   "source": [
    "## Underfitting, Overfitting\n",
    "\n",
    "1. A model is set to \"underfit\" if the training error is too large\n",
    "2. A model is set to \"overfit\" if the gap between test and training error is too large\n",
    "\n",
    "A good-fit model: neither underfit nor overfit (Goldilocks and the Three Bears)"
   ]
  },
  {
   "cell_type": "markdown",
   "metadata": {
    "slideshow": {
     "slide_type": "slide"
    }
   },
   "source": [
    "## Underfitting / High Bias\n",
    "\n",
    "A model is set to \"underfit\" if the training error is too large\n",
    "  - Means model does not work\n",
    "  - It learnt nothing\n",
    "  - Mode has \"high bias\""
   ]
  },
  {
   "cell_type": "markdown",
   "metadata": {
    "slideshow": {
     "slide_type": "slide"
    }
   },
   "source": [
    "## Overfitting / High Variance\n",
    "\n",
    "A model is set to \"overfit\" if the gap between test and training error is too large\n",
    "  - Means model does not generalize well\n",
    "  - It only learnt the training set (or learnt too much training set noise)\n",
    "  - Model has \"high variance\""
   ]
  },
  {
   "cell_type": "markdown",
   "metadata": {
    "slideshow": {
     "slide_type": "slide"
    }
   },
   "source": [
    "![comics](https://imgs.xkcd.com/comics/linear_regression.png)\n",
    "\n",
    "(image: xkcd)"
   ]
  },
  {
   "cell_type": "markdown",
   "metadata": {
    "slideshow": {
     "slide_type": "slide"
    }
   },
   "source": [
    "## Fixing Underfitting\n",
    "\n",
    "Symptom: poor model performance even on training data\n",
    "\n",
    "Potential cures:\n",
    "- More data\n",
    "- More features and/or different features\n",
    "- Different algorithms"
   ]
  },
  {
   "cell_type": "markdown",
   "metadata": {
    "slideshow": {
     "slide_type": "slide"
    }
   },
   "source": [
    "## Fixing Overfitting\n",
    "\n",
    "Symptom: model has good performance in training data, but poor generalization on test data\n",
    "\n",
    "Potential cures:\n",
    "- Early stoppping\n",
    "- Fewer features\n",
    "- Regularization\n",
    "- Cross Validation"
   ]
  },
  {
   "cell_type": "code",
   "execution_count": null,
   "metadata": {
    "slideshow": {
     "slide_type": "skip"
    }
   },
   "outputs": [],
   "source": []
  },
  {
   "cell_type": "markdown",
   "metadata": {
    "slideshow": {
     "slide_type": "slide"
    }
   },
   "source": [
    "## Workshop: SGD, Overfitting, Underfitting\n",
    "\n",
    "In this workshop, we will try to fit a more complex linear regression model.\n",
    "\n",
    "We'll explore the following concepts:\n",
    "- Loss functions\n",
    "- Stochastic Gradient Descent\n",
    "- Underfitting and Overfitting\n",
    "\n",
    "Inspiration:\n",
    "https://sdsawtelle.github.io/blog/output/week6-andrew-ng-machine-learning-with-python.html"
   ]
  },
  {
   "cell_type": "markdown",
   "metadata": {
    "slideshow": {
     "slide_type": "slide"
    }
   },
   "source": [
    "### Prediction Tasks\n",
    "\n",
    "We'll try to fit a curve to predict, for recent Singapore University Graduates:\n",
    "```\n",
    "y: Gross Monthly Median Salary (S$)\n",
    "x: Overall Employment Rate (%)\n",
    "```\n",
    "\n",
    "To illustrate underfitting/overfitting, we'll explore:\n",
    "- A first-order linear model: $y = w^Tx$\n",
    "- A linear model with polynomial features\n",
    "$$y = w^TX$$\n",
    "where $X = [1, x, x^2, x^3, ...]$\n",
    "\n",
    "We'll also explore different loss functions and plotting of loss curves during training."
   ]
  },
  {
   "cell_type": "markdown",
   "metadata": {
    "slideshow": {
     "slide_type": "slide"
    }
   },
   "source": [
    "### Dataset(s)\n",
    "\n",
    "1. Download this dataset: https://data.gov.sg/dataset/graduate-employment-survey-ntu-nus-sit-smu-sutd\n",
    "2. Unzip it and note the path for use in `pandas.read_csv`"
   ]
  },
  {
   "cell_type": "code",
   "execution_count": 1,
   "metadata": {
    "slideshow": {
     "slide_type": "-"
    }
   },
   "outputs": [],
   "source": [
    "import pandas as pd\n",
    "import matplotlib.pyplot as plt\n",
    "import numpy as np"
   ]
  },
  {
   "cell_type": "markdown",
   "metadata": {
    "slideshow": {
     "slide_type": "-"
    }
   },
   "source": [
    "### 1. Data Transformation and Cleaning\n",
    "\n",
    "The first step is to inspect the data to see what transformation/cleaning is needed."
   ]
  },
  {
   "cell_type": "code",
   "execution_count": 2,
   "metadata": {
    "slideshow": {
     "slide_type": "-"
    }
   },
   "outputs": [
    {
     "data": {
      "text/plain": [
       "Index(['university', 'employment_rate_overall', 'gross_monthly_median'], dtype='object')"
      ]
     },
     "execution_count": 2,
     "metadata": {},
     "output_type": "execute_result"
    }
   ],
   "source": [
    "# ISO-8859-1 encoding is needed\n",
    "#   UnicodeDecodeError: 'utf-8' codec can't decode byte 0xe4 in position 20: invalid continuation byte\n",
    "\n",
    "df = pd.read_csv('D:/tmp/graduate-employment-survey-ntu-nus-sit-smu-sutd/graduate-employment-survey-ntu-nus-sit-smu-sutd.csv',\n",
    "                 encoding='ISO-8859-1',\n",
    "                 usecols=['university', 'employment_rate_overall', 'gross_monthly_median'])\n",
    "\n",
    "# filter by NUS to keep things simple\n",
    "df = df.loc[df.university == 'National University of Singapore']\n",
    "\n",
    "df.columns"
   ]
  },
  {
   "cell_type": "markdown",
   "metadata": {
    "slideshow": {
     "slide_type": "-"
    }
   },
   "source": [
    "The columns to inspect are:\n",
    "- employment_rate_overall\n",
    "- gross_monthly_median\n",
    "\n",
    "We are looking for:\n",
    "- invalid values\n",
    "- data types to transform to numeric\n",
    "- feature ranges"
   ]
  },
  {
   "cell_type": "code",
   "execution_count": 3,
   "metadata": {},
   "outputs": [
    {
     "name": "stdout",
     "output_type": "stream",
     "text": [
      "                              university employment_rate_overall  \\\n",
      "count                                118                     118   \n",
      "unique                                 1                      74   \n",
      "top     National University of Singapore                      na   \n",
      "freq                                 118                      15   \n",
      "\n",
      "       gross_monthly_median  \n",
      "count                   118  \n",
      "unique                   47  \n",
      "top                    3000  \n",
      "freq                     16  \n",
      "\n",
      "['84.8' '86.6' '88.1' '88.7' '94.6' '93.3' '97.2' '88.9' 'na' '92.4' '89.2'\n",
      " '100' '82.1' '96.8' '74' '93.2' '96.1' '88.5' '86.2' '93.8' '93.9' '90.9'\n",
      " '89.1' '98.8' '97.5' '97.3' '80.9' '83.6' '96.4' '81.9' '83.1' '87.9'\n",
      " '94.4' '90.6' '85.7' '95.5' '98.4' '77.3' '95.3' '93.1' '87.5' '83.9'\n",
      " '97.1' '95.2' '81.3' '96.5' '78.6' '90' '98.2' '76.8' '98.9' '88.4' '83'\n",
      " '88.6' '88.2' '96' '97.6' '98.6' '92.6' '97' '90.3' '72' '94.3' '86'\n",
      " '91.8' '92.1' '82.6' '83.3' '96.9' '82.4' '85.2' '84.3' '99' '71.9']\n"
     ]
    }
   ],
   "source": [
    "# the sample size is fairly small, we can inspect using .unique()\n",
    "print(df.describe())\n",
    "print('')\n",
    "print(df.employment_rate_overall.unique())"
   ]
  },
  {
   "cell_type": "markdown",
   "metadata": {
    "slideshow": {
     "slide_type": "-"
    }
   },
   "source": [
    "`employment_rate_overall` column\n",
    "- invalid values: yes, there is an 'na' value above\n",
    "- data type is object (these are string values)\n",
    "  - need to transform to numbers\n",
    "  - How: use [pandas.to_numeric](https://pandas.pydata.org/pandas-docs/stable/generated/pandas.to_numeric.html) to convert to numbers\n",
    "- range: 0-100"
   ]
  },
  {
   "cell_type": "markdown",
   "metadata": {
    "slideshow": {
     "slide_type": "-"
    }
   },
   "source": [
    "If the dataset is large, it is hard to find the 'na' values.\n",
    "\n",
    "A quick test is to try converting the column first, to see if errors appear."
   ]
  },
  {
   "cell_type": "code",
   "execution_count": 4,
   "metadata": {
    "scrolled": true
   },
   "outputs": [
    {
     "ename": "ValueError",
     "evalue": "Unable to parse string \"na\" at position 8",
     "output_type": "error",
     "traceback": [
      "\u001b[1;31m---------------------------------------------------------------------------\u001b[0m",
      "\u001b[1;31mValueError\u001b[0m                                Traceback (most recent call last)",
      "\u001b[1;32mpandas/_libs/src/inference.pyx\u001b[0m in \u001b[0;36mpandas._libs.lib.maybe_convert_numeric\u001b[1;34m()\u001b[0m\n",
      "\u001b[1;31mValueError\u001b[0m: Unable to parse string \"na\"",
      "\nDuring handling of the above exception, another exception occurred:\n",
      "\u001b[1;31mValueError\u001b[0m                                Traceback (most recent call last)",
      "\u001b[1;32m<ipython-input-4-3e37e865ba71>\u001b[0m in \u001b[0;36m<module>\u001b[1;34m()\u001b[0m\n\u001b[1;32m----> 1\u001b[1;33m \u001b[0mpd\u001b[0m\u001b[1;33m.\u001b[0m\u001b[0mto_numeric\u001b[0m\u001b[1;33m(\u001b[0m\u001b[0mdf\u001b[0m\u001b[1;33m.\u001b[0m\u001b[0memployment_rate_overall\u001b[0m\u001b[1;33m)\u001b[0m \u001b[1;31m# see if we get parse errors\u001b[0m\u001b[1;33m\u001b[0m\u001b[0m\n\u001b[0m",
      "\u001b[1;32m~\\AppData\\Local\\Continuum\\miniconda3\\envs\\py36\\lib\\site-packages\\pandas\\core\\tools\\numeric.py\u001b[0m in \u001b[0;36mto_numeric\u001b[1;34m(arg, errors, downcast)\u001b[0m\n\u001b[0;32m    131\u001b[0m             \u001b[0mcoerce_numeric\u001b[0m \u001b[1;33m=\u001b[0m \u001b[1;32mFalse\u001b[0m \u001b[1;32mif\u001b[0m \u001b[0merrors\u001b[0m \u001b[1;32min\u001b[0m \u001b[1;33m(\u001b[0m\u001b[1;34m'ignore'\u001b[0m\u001b[1;33m,\u001b[0m \u001b[1;34m'raise'\u001b[0m\u001b[1;33m)\u001b[0m \u001b[1;32melse\u001b[0m \u001b[1;32mTrue\u001b[0m\u001b[1;33m\u001b[0m\u001b[0m\n\u001b[0;32m    132\u001b[0m             values = lib.maybe_convert_numeric(values, set(),\n\u001b[1;32m--> 133\u001b[1;33m                                                coerce_numeric=coerce_numeric)\n\u001b[0m\u001b[0;32m    134\u001b[0m \u001b[1;33m\u001b[0m\u001b[0m\n\u001b[0;32m    135\u001b[0m     \u001b[1;32mexcept\u001b[0m \u001b[0mException\u001b[0m\u001b[1;33m:\u001b[0m\u001b[1;33m\u001b[0m\u001b[0m\n",
      "\u001b[1;32mpandas/_libs/src/inference.pyx\u001b[0m in \u001b[0;36mpandas._libs.lib.maybe_convert_numeric\u001b[1;34m()\u001b[0m\n",
      "\u001b[1;31mValueError\u001b[0m: Unable to parse string \"na\" at position 8"
     ]
    }
   ],
   "source": [
    "pd.to_numeric(df.employment_rate_overall) # see if we get parse errors"
   ]
  },
  {
   "cell_type": "markdown",
   "metadata": {
    "slideshow": {
     "slide_type": "-"
    }
   },
   "source": [
    "We will be using the `errors='coerce'` option in [pandas.to_numeric](https://pandas.pydata.org/pandas-docs/stable/generated/pandas.to_numeric.html) when we do the actual conversion."
   ]
  },
  {
   "cell_type": "code",
   "execution_count": 5,
   "metadata": {},
   "outputs": [
    {
     "data": {
      "text/plain": [
       "34      84.8\n",
       "35      86.6\n",
       "36      88.1\n",
       "37      88.7\n",
       "38      94.6\n",
       "39      93.3\n",
       "40      97.2\n",
       "41      88.9\n",
       "42       NaN\n",
       "43       NaN\n",
       "44      92.4\n",
       "45      88.9\n",
       "46      89.2\n",
       "47     100.0\n",
       "48       NaN\n",
       "49      82.1\n",
       "50      96.8\n",
       "51      89.2\n",
       "52      74.0\n",
       "53      93.2\n",
       "54      96.1\n",
       "55      88.9\n",
       "56      88.5\n",
       "57      86.2\n",
       "58      93.8\n",
       "59      93.9\n",
       "60      90.9\n",
       "61      89.1\n",
       "62      98.8\n",
       "63     100.0\n",
       "       ...  \n",
       "243     97.0\n",
       "244     90.3\n",
       "245     97.2\n",
       "246    100.0\n",
       "247     97.6\n",
       "248     72.0\n",
       "249     94.3\n",
       "250     93.9\n",
       "251     86.2\n",
       "252     86.0\n",
       "253     96.5\n",
       "254     91.8\n",
       "255     92.1\n",
       "256     82.6\n",
       "257     88.1\n",
       "258     96.1\n",
       "259    100.0\n",
       "260     83.3\n",
       "261     96.9\n",
       "262    100.0\n",
       "263     97.3\n",
       "264    100.0\n",
       "265     82.4\n",
       "266      NaN\n",
       "267     85.2\n",
       "268     84.3\n",
       "269     83.9\n",
       "270      NaN\n",
       "271     99.0\n",
       "272     71.9\n",
       "Name: employment_rate_overall, Length: 118, dtype: float64"
      ]
     },
     "execution_count": 5,
     "metadata": {},
     "output_type": "execute_result"
    }
   ],
   "source": [
    "pd.to_numeric(df.employment_rate_overall, errors='coerce') # 'na' becomes NaN"
   ]
  },
  {
   "cell_type": "markdown",
   "metadata": {
    "slideshow": {
     "slide_type": "-"
    }
   },
   "source": [
    "The `gross_monthly_median` column is handled the same way.\n",
    "\n",
    "Let's now perform the data transformation and cleaning."
   ]
  },
  {
   "cell_type": "code",
   "execution_count": 6,
   "metadata": {
    "slideshow": {
     "slide_type": "-"
    }
   },
   "outputs": [
    {
     "data": {
      "text/html": [
       "<div>\n",
       "<style scoped>\n",
       "    .dataframe tbody tr th:only-of-type {\n",
       "        vertical-align: middle;\n",
       "    }\n",
       "\n",
       "    .dataframe tbody tr th {\n",
       "        vertical-align: top;\n",
       "    }\n",
       "\n",
       "    .dataframe thead th {\n",
       "        text-align: right;\n",
       "    }\n",
       "</style>\n",
       "<table border=\"1\" class=\"dataframe\">\n",
       "  <thead>\n",
       "    <tr style=\"text-align: right;\">\n",
       "      <th></th>\n",
       "      <th>employment_rate_overall</th>\n",
       "      <th>gross_monthly_median</th>\n",
       "    </tr>\n",
       "  </thead>\n",
       "  <tbody>\n",
       "    <tr>\n",
       "      <th>34</th>\n",
       "      <td>84.8</td>\n",
       "      <td>2800.0</td>\n",
       "    </tr>\n",
       "    <tr>\n",
       "      <th>35</th>\n",
       "      <td>86.6</td>\n",
       "      <td>3200.0</td>\n",
       "    </tr>\n",
       "    <tr>\n",
       "      <th>36</th>\n",
       "      <td>88.1</td>\n",
       "      <td>3200.0</td>\n",
       "    </tr>\n",
       "    <tr>\n",
       "      <th>37</th>\n",
       "      <td>88.7</td>\n",
       "      <td>3000.0</td>\n",
       "    </tr>\n",
       "    <tr>\n",
       "      <th>38</th>\n",
       "      <td>94.6</td>\n",
       "      <td>3200.0</td>\n",
       "    </tr>\n",
       "  </tbody>\n",
       "</table>\n",
       "</div>"
      ],
      "text/plain": [
       "    employment_rate_overall  gross_monthly_median\n",
       "34                     84.8                2800.0\n",
       "35                     86.6                3200.0\n",
       "36                     88.1                3200.0\n",
       "37                     88.7                3000.0\n",
       "38                     94.6                3200.0"
      ]
     },
     "execution_count": 6,
     "metadata": {},
     "output_type": "execute_result"
    }
   ],
   "source": [
    "# transform string to numbers, forcing invalid values to float NaN\n",
    "data = {\n",
    "    'gross_monthly_median': pd.to_numeric(df.gross_monthly_median, errors='coerce'),\n",
    "    'employment_rate_overall': pd.to_numeric(df.employment_rate_overall, errors='coerce')\n",
    "}\n",
    "\n",
    "# drop NaNs\n",
    "df_dataset = pd.DataFrame(data).dropna()\n",
    "\n",
    "df_dataset.head()"
   ]
  },
  {
   "cell_type": "markdown",
   "metadata": {
    "slideshow": {
     "slide_type": "-"
    }
   },
   "source": [
    "### Visualize Dataset\n",
    "Let's plot the dataset to visualize our data.\n",
    "\n",
    "We'll use a scatter plot."
   ]
  },
  {
   "cell_type": "code",
   "execution_count": 7,
   "metadata": {},
   "outputs": [
    {
     "data": {
      "image/png": "[encoded data removed]",
      "text/plain": [
       "<matplotlib.figure.Figure at 0x1b5e1dd1898>"
      ]
     },
     "metadata": {},
     "output_type": "display_data"
    }
   ],
   "source": [
    "fig, ax = plt.subplots(figsize=(15, 8))\n",
    "\n",
    "ax.scatter(df_dataset.employment_rate_overall, df_dataset.gross_monthly_median)\n",
    "\n",
    "ax.set(title='Gross Monthly Median Income and Employment Rate for Recent NUS Graduates',\n",
    "       xlabel='Employment Rate (%)',\n",
    "       ylabel='Gross Monthly Median Income (S$)')\n",
    "ax.grid()"
   ]
  },
  {
   "cell_type": "markdown",
   "metadata": {
    "slideshow": {
     "slide_type": "slide"
    }
   },
   "source": [
    "Inspecting the plot above, we can roughly make out a curve through it."
   ]
  },
  {
   "cell_type": "markdown",
   "metadata": {
    "slideshow": {
     "slide_type": "slide"
    }
   },
   "source": [
    "### 2. Feature selection\n",
    "    \n",
    "#### Inputs\n",
    "\n",
    "|Feature|Description|Column name|Transformation before model input?|\n",
    "|--|--|--|\n",
    "|$x_1$|Overall Employment Rate (%)|employment_rate_overall|pd.to_numeric|\n",
    "\n",
    "#### Outputs\n",
    "\n",
    "|Output|Description|Truth column|Transformation from model output?|\n",
    "|--|--|--|\n",
    "|$\\hat{y}$|Predicted Gross Monthly Medium Income S\\$|$y$ = gross_monthly_median|None, output will stay numeric|"
   ]
  },
  {
   "cell_type": "code",
   "execution_count": 8,
   "metadata": {
    "slideshow": {
     "slide_type": "-"
    }
   },
   "outputs": [
    {
     "name": "stdout",
     "output_type": "stream",
     "text": [
      "X.shape: (103,)\n",
      "y.shape: (103,)\n"
     ]
    }
   ],
   "source": [
    "# Prepare the numpy arrays for use with sklearn\n",
    "X = df_dataset.loc[:, 'employment_rate_overall']\n",
    "print('X.shape:', X.shape)\n",
    "\n",
    "y = df_dataset.loc[:, 'gross_monthly_median']\n",
    "print('y.shape:', y.shape)"
   ]
  },
  {
   "cell_type": "markdown",
   "metadata": {
    "slideshow": {
     "slide_type": "-"
    }
   },
   "source": [
    "### 3. Model creation and training, and validation\n",
    "\n",
    "In this section, we will\n",
    "1. Shuffle and then split dataset into train and test\n",
    "2. Perform feature scaling\n",
    "3. Train and validate our models"
   ]
  },
  {
   "cell_type": "markdown",
   "metadata": {
    "slideshow": {
     "slide_type": "-"
    }
   },
   "source": [
    "### Dataset shuffling and train-test-split\n",
    "\n",
    "In a previous workshop, we did the randomization and train-test split manually. \n",
    "\n",
    "Turns out, [sklearn.model_selection.train_test_split](http://scikit-learn.org/stable/modules/generated/sklearn.model_selection.train_test_split.html) can do this for us."
   ]
  },
  {
   "cell_type": "code",
   "execution_count": 9,
   "metadata": {
    "slideshow": {
     "slide_type": "-"
    }
   },
   "outputs": [
    {
     "data": {
      "text/plain": [
       "72      96.4\n",
       "124     93.9\n",
       "125    100.0\n",
       "59      93.9\n",
       "69      80.9\n",
       "Name: employment_rate_overall, dtype: float64"
      ]
     },
     "execution_count": 9,
     "metadata": {},
     "output_type": "execute_result"
    }
   ],
   "source": [
    "from sklearn.model_selection import train_test_split\n",
    "\n",
    "# train-test split, witholding 15% for test data\n",
    "# shuffle=True is the default\n",
    "X_train, X_test, y_train, y_test = train_test_split(X, y, test_size=0.1)\n",
    "\n",
    "X_train.head() # view the shuffled dataset"
   ]
  },
  {
   "cell_type": "markdown",
   "metadata": {
    "slideshow": {
     "slide_type": "-"
    }
   },
   "source": [
    "### Feature scaling\n",
    "\n",
    "Since we are using Stochastic Gradient Descent, we are recommended to scale the features between [0, 1] or [-1, 1].\n",
    "- See [Tips on Practical Use for SGDRegressor](http://scikit-learn.org/stable/modules/sgd.html#tips-on-practical-use).\n",
    "\n",
    "- Scaling subtracts the mean and divides by the standard deviation\n",
    "- We will scale both the input and output values, using [sklearn.preprocessing.StandardScaler](http://scikit-learn.org/stable/modules/generated/sklearn.preprocessing.StandardScaler.html#sklearn.preprocessing.StandardScaler)\n",
    "- In both cases (input and output), the mean and standard deviation will be based on the training set only. This way we don't look at the test set. "
   ]
  },
  {
   "cell_type": "code",
   "execution_count": 10,
   "metadata": {
    "slideshow": {
     "slide_type": "-"
    }
   },
   "outputs": [],
   "source": [
    "from sklearn.preprocessing import StandardScaler\n",
    "\n",
    "# We train the scaler based on the training set, and use\n",
    "# it for both the training and test sets\n",
    "#\n",
    "# Reason: the test set shouldn't pollute the dataset\n",
    "x_scaler = StandardScaler()\n",
    "x_scaler.fit(X_train.values.reshape(-1, 1)) # must be 2D array\n",
    "X_train_scaled = x_scaler.transform(X_train.values.reshape(-1, 1))\n",
    "X_test_scaled = x_scaler.transform(X_test.values.reshape(-1, 1))\n",
    "\n",
    "y_scaler = StandardScaler()\n",
    "y_scaler.fit(y_train.values.reshape(-1, 1))\n",
    "y_train_scaled = y_scaler.transform(y_train.values.reshape(-1, 1))[:, 0]\n",
    "y_test_scaled = y_scaler.transform(y_test.values.reshape(-1, 1))[:, 0]"
   ]
  },
  {
   "cell_type": "code",
   "execution_count": 11,
   "metadata": {
    "slideshow": {
     "slide_type": "-"
    }
   },
   "outputs": [
    {
     "data": {
      "text/plain": [
       "72      96.4\n",
       "124     93.9\n",
       "125    100.0\n",
       "59      93.9\n",
       "69      80.9\n",
       "Name: employment_rate_overall, dtype: float64"
      ]
     },
     "execution_count": 11,
     "metadata": {},
     "output_type": "execute_result"
    }
   ],
   "source": [
    "X_train.head() # before scaling"
   ]
  },
  {
   "cell_type": "code",
   "execution_count": 12,
   "metadata": {
    "slideshow": {
     "slide_type": "-"
    }
   },
   "outputs": [
    {
     "data": {
      "text/plain": [
       "array([[ 0.76336325],\n",
       "       [ 0.39311115],\n",
       "       [ 1.29652629],\n",
       "       [ 0.39311115],\n",
       "       [-1.5321998 ]])"
      ]
     },
     "execution_count": 12,
     "metadata": {},
     "output_type": "execute_result"
    }
   ],
   "source": [
    "X_train_scaled[:5] # after scaling (showing first 5 values)"
   ]
  },
  {
   "cell_type": "code",
   "execution_count": 13,
   "metadata": {
    "slideshow": {
     "slide_type": "-"
    }
   },
   "outputs": [
    {
     "data": {
      "text/plain": [
       "72     3500.0\n",
       "124    2838.0\n",
       "125    2912.0\n",
       "59     3200.0\n",
       "69     2800.0\n",
       "Name: gross_monthly_median, dtype: float64"
      ]
     },
     "execution_count": 13,
     "metadata": {},
     "output_type": "execute_result"
    }
   ],
   "source": [
    "y_train.head() # before scaling"
   ]
  },
  {
   "cell_type": "code",
   "execution_count": 14,
   "metadata": {
    "slideshow": {
     "slide_type": "-"
    }
   },
   "outputs": [
    {
     "data": {
      "text/plain": [
       "array([ 0.4365079 , -1.06913163, -0.90082751, -0.24580608, -1.15555806])"
      ]
     },
     "execution_count": 14,
     "metadata": {},
     "output_type": "execute_result"
    }
   ],
   "source": [
    "y_train_scaled[:5] # after scaling (showing first 5 values)"
   ]
  },
  {
   "cell_type": "markdown",
   "metadata": {
    "slideshow": {
     "slide_type": "-"
    }
   },
   "source": [
    "### Underfit Model: First Order Linear Regressor\n",
    "\n",
    "For the first order linear regressor, we'll use `sklearn.linear_model.SGDRegressor` with the dataset above."
   ]
  },
  {
   "cell_type": "code",
   "execution_count": 15,
   "metadata": {
    "slideshow": {
     "slide_type": "-"
    }
   },
   "outputs": [],
   "source": [
    "from sklearn.linear_model import SGDRegressor\n",
    "\n",
    "# help me obi wan\n",
    "# SGDRegressor?"
   ]
  },
  {
   "cell_type": "code",
   "execution_count": 16,
   "metadata": {
    "slideshow": {
     "slide_type": "-"
    }
   },
   "outputs": [
    {
     "name": "stdout",
     "output_type": "stream",
     "text": [
      "-- Epoch 1\n",
      "Norm: 0.16, NNZs: 1, Bias: -0.012365, T: 92, Avg. loss: 0.482978\n",
      "Total training time: 0.00 seconds.\n",
      "-- Epoch 2\n",
      "Norm: 0.24, NNZs: 1, Bias: -0.021174, T: 184, Avg. loss: 0.462524\n",
      "Total training time: 0.00 seconds.\n",
      "-- Epoch 3\n",
      "Norm: 0.29, NNZs: 1, Bias: -0.013541, T: 276, Avg. loss: 0.457791\n",
      "Total training time: 0.00 seconds.\n",
      "-- Epoch 4\n",
      "Norm: 0.30, NNZs: 1, Bias: -0.000296, T: 368, Avg. loss: 0.456168\n",
      "Total training time: 0.00 seconds.\n",
      "-- Epoch 5\n",
      "Norm: 0.32, NNZs: 1, Bias: 0.000842, T: 460, Avg. loss: 0.456054\n",
      "Total training time: 0.00 seconds.\n",
      "Convergence after 5 epochs took 0.00 seconds\n",
      "Wall time: 2.01 ms\n",
      "Coefficient [ 0.31662225]\n",
      "Intercept [ 0.00084203]\n"
     ]
    }
   ],
   "source": [
    "linear_model = SGDRegressor(verbose=1,\n",
    "                            random_state=np.random.RandomState(123),\n",
    "                            loss='squared_loss', # mean squared loss\n",
    "                            penalty='none', # no regularization\n",
    "                            max_iter=100,\n",
    "                            tol=1e-3, # stopping condition\n",
    "                            eta0=0.01, # learning rate\n",
    "                            learning_rate='constant') # learning rate schedule\n",
    "%time linear_model.fit(X_train_scaled, y_train_scaled)\n",
    "\n",
    "print('Coefficient', linear_model.coef_)\n",
    "print('Intercept', linear_model.intercept_)"
   ]
  },
  {
   "cell_type": "markdown",
   "metadata": {
    "slideshow": {
     "slide_type": "-"
    }
   },
   "source": [
    "#### Model Validation\n",
    "\n",
    "Let's validate our model's performance by computing metrics and plotting the linear model."
   ]
  },
  {
   "cell_type": "code",
   "execution_count": 17,
   "metadata": {
    "slideshow": {
     "slide_type": "-"
    }
   },
   "outputs": [
    {
     "name": "stdout",
     "output_type": "stream",
     "text": [
      "Truth: [-0.01836809 -0.45050028 -1.49671506 -0.24580608 -1.15555806 -0.70068207\n",
      "  4.18923481 -0.24580608  1.57369787  3.84807782  1.57369787]\n",
      "Predictions: [-0.38112407  0.12062057 -0.42801609 -0.05756912 -0.43739449 -0.67654381\n",
      "  0.32694546 -0.14666396  0.4113511   0.4113511   0.4113511 ]\n",
      "MSE: 2.87199652647\n",
      "R2: 0.155493372887\n"
     ]
    }
   ],
   "source": [
    "from sklearn.metrics import mean_squared_error, r2_score\n",
    "\n",
    "pred_scaled = linear_model.predict(X_test_scaled)\n",
    "print('Truth:', y_test_scaled)\n",
    "print('Predictions:', pred_scaled)\n",
    "\n",
    "# Compute metrics\n",
    "print('MSE:', mean_squared_error(y_test_scaled, pred_scaled))\n",
    "print('R2:', r2_score(y_test_scaled, pred_scaled))"
   ]
  },
  {
   "cell_type": "markdown",
   "metadata": {
    "slideshow": {
     "slide_type": "-"
    }
   },
   "source": [
    "#### Model Visualization\n",
    "\n",
    "We'll visualize the entire dataset (train + test), by plotting the data as a sactter plot, and the linear function as a curve or line.\n",
    "\n",
    "The model needs to be called with pre- and post-processing stages:\n",
    "1. Scale the input\n",
    "2. Call `predict`\n",
    "3. Unscale the output\n",
    "\n",
    "In both steps, we'll use the already-fitted scalers from previously. This ensures that the pre- and post-processing matches exactly with how the model was trained."
   ]
  },
  {
   "cell_type": "code",
   "execution_count": 18,
   "metadata": {
    "slideshow": {
     "slide_type": "-"
    }
   },
   "outputs": [
    {
     "data": {
      "text/plain": [
       "<matplotlib.legend.Legend at 0x1b5e40c2978>"
      ]
     },
     "execution_count": 18,
     "metadata": {},
     "output_type": "execute_result"
    },
    {
     "data": {
      "image/png": "[encoded data removed]",
      "text/plain": [
       "<matplotlib.figure.Figure at 0x1b5e404eb70>"
      ]
     },
     "metadata": {},
     "output_type": "display_data"
    }
   ],
   "source": [
    "# First, call the model in 3 stages\n",
    "# 1. Pre-process the input\n",
    "X_scaled = x_scaler.transform(X.values.reshape(-1, 1))\n",
    "\n",
    "# 2. Predict\n",
    "y_pred_scaled = linear_model.predict(X_scaled)\n",
    "\n",
    "# 3. Post-process the output\n",
    "y_pred = y_scaler.inverse_transform(y_pred_scaled)\n",
    "\n",
    "# Finally, plot dataset and predictions\n",
    "fig, ax = plt.subplots(figsize=(15, 8))\n",
    "ax.scatter(X.values, y, label='truth')\n",
    "ax.plot(X.values, y_pred, label='predictions', color='orange')\n",
    "\n",
    "ax.set(title='Gross Monthly Median Income and Employment Rate for Recent NUS Grads: First-Order Model',\n",
    "       xlabel='Employment Rate (%)',\n",
    "       ylabel='Gross Monthly Median Income (S$)')\n",
    "\n",
    "ax.grid()\n",
    "ax.legend()"
   ]
  },
  {
   "cell_type": "markdown",
   "metadata": {
    "slideshow": {
     "slide_type": "-"
    }
   },
   "source": [
    "### Overfit Attempt: Polynomial Regression\n",
    "\n",
    "Now that we've seen how poorly an underfit model does, let's go to the other extreme.\n",
    "\n",
    "To generate polynomial features from x (Employment Rate), we use [sklearn.preprocessing.PolynomialFeatures](http://scikit-learn.org/stable/modules/generated/sklearn.preprocessing.PolynomialFeatures.html)"
   ]
  },
  {
   "cell_type": "code",
   "execution_count": 19,
   "metadata": {
    "slideshow": {
     "slide_type": "-"
    }
   },
   "outputs": [],
   "source": [
    "from sklearn.preprocessing import PolynomialFeatures\n",
    "\n",
    "poly = PolynomialFeatures(12)\n",
    "poly.fit(X_train.values.reshape(-1, 1))\n",
    "\n",
    "X_train_poly = poly.transform(X_train.values.reshape(-1, 1))\n",
    "X_test_poly = poly.transform(X_test.values.reshape(-1, 1))\n",
    "\n",
    "# Scale the features back to SGD happy ranges ([-1, 1])\n",
    "x_scaler_poly = StandardScaler()\n",
    "x_scaler_poly.fit(X_train_poly)\n",
    "X_train_poly_scaled = x_scaler_poly.transform(X_train_poly)\n",
    "X_test_poly_scaled = x_scaler_poly.transform(X_test_poly)"
   ]
  },
  {
   "cell_type": "code",
   "execution_count": 20,
   "metadata": {
    "slideshow": {
     "slide_type": "-"
    }
   },
   "outputs": [
    {
     "name": "stdout",
     "output_type": "stream",
     "text": [
      "-- Epoch 1\n",
      "Norm: 0.14, NNZs: 12, Bias: 0.007348, T: 92, Avg. loss: 0.478995\n",
      "Total training time: 0.00 seconds.\n",
      "-- Epoch 2\n",
      "Norm: 0.16, NNZs: 12, Bias: -0.026194, T: 184, Avg. loss: 0.468045\n",
      "Total training time: 0.00 seconds.\n",
      "-- Epoch 3\n",
      "Norm: 0.20, NNZs: 12, Bias: -0.006514, T: 276, Avg. loss: 0.493256\n",
      "Total training time: 0.00 seconds.\n",
      "Convergence after 3 epochs took 0.00 seconds\n",
      "Wall time: 0 ns\n",
      "Coefficients [ 0.         -0.0356393  -0.02181547 -0.00800516  0.00568469  0.01916739\n",
      "  0.03237476  0.04525466  0.05776822  0.06988737  0.08159248  0.09287061\n",
      "  0.10371396]\n",
      "Intercept [-0.00651384]\n"
     ]
    }
   ],
   "source": [
    "poly_model = SGDRegressor(verbose=1,\n",
    "                          random_state=np.random.RandomState(123),\n",
    "                          loss='squared_loss', # mean squared loss\n",
    "                          penalty='none', # no regularization\n",
    "                          max_iter=100,\n",
    "                          tol=1e-4, # stopping condition\n",
    "                          eta0=0.01, # learning rate\n",
    "                          learning_rate='constant') # learning rate schedule\n",
    "%time poly_model.fit(X_train_poly_scaled, y_train_scaled)\n",
    "\n",
    "print('Coefficients', poly_model.coef_)\n",
    "print('Intercept', poly_model.intercept_)"
   ]
  },
  {
   "cell_type": "markdown",
   "metadata": {
    "slideshow": {
     "slide_type": "-"
    }
   },
   "source": [
    "### Exercise: Model Validation and Visualization\n",
    "\n",
    "Follow the pattern above to validate and visualize the new model.\n",
    "\n",
    "This means two tasks:\n",
    "1. Computing metrics\n",
    "2. Plotting the curve (hint: use a scatter plot for both)"
   ]
  },
  {
   "cell_type": "code",
   "execution_count": 21,
   "metadata": {
    "slideshow": {
     "slide_type": "-"
    }
   },
   "outputs": [
    {
     "name": "stdout",
     "output_type": "stream",
     "text": [
      "Truth: [-0.01836809 -0.45050028 -1.49671506 -0.24580608 -1.15555806 -0.70068207\n",
      "  4.18923481 -0.24580608  1.57369787  3.84807782  1.57369787]\n",
      "Predictions: [-0.52022096  0.04233394 -0.54535385 -0.23458597 -0.54999978 -0.63305934\n",
      "  0.5265039  -0.33658575  0.79145807  0.79145807  0.79145807]\n",
      "MSE: 2.34198097878\n",
      "R2: 0.311343715452\n"
     ]
    }
   ],
   "source": [
    "# Compute metrics\n",
    "# Your code here\n",
    "\n",
    "pred_scaled = poly_model.predict(X_test_poly_scaled)\n",
    "print('Truth:', y_test_scaled)\n",
    "print('Predictions:', pred_scaled)\n",
    "\n",
    "# Compute metrics\n",
    "print('MSE:', mean_squared_error(y_test_scaled, pred_scaled))\n",
    "print('R2:', r2_score(y_test_scaled, pred_scaled))"
   ]
  },
  {
   "cell_type": "code",
   "execution_count": 22,
   "metadata": {
    "slideshow": {
     "slide_type": "-"
    }
   },
   "outputs": [
    {
     "data": {
      "text/plain": [
       "<matplotlib.legend.Legend at 0x1b5e4159fd0>"
      ]
     },
     "execution_count": 22,
     "metadata": {},
     "output_type": "execute_result"
    },
    {
     "data": {
      "image/png": "[encoded data removed]",
      "text/plain": [
       "<matplotlib.figure.Figure at 0x1b5e4039d30>"
      ]
     },
     "metadata": {},
     "output_type": "display_data"
    }
   ],
   "source": [
    "# Plot curve\n",
    "\n",
    "# First, call the model in 3 stages\n",
    "# 1. Pre-process the input\n",
    "# Hint: you need to create the polynomial, then scale\n",
    "#\n",
    "# Your code here\n",
    "\n",
    "X_poly = poly.transform(X.values.reshape(-1, 1))\n",
    "X_poly_scaled = x_scaler_poly.transform(X_poly)\n",
    "\n",
    "# 2. Predict\n",
    "#\n",
    "# Your code here\n",
    "y_pred_scaled = poly_model.predict(X_poly_scaled)\n",
    "\n",
    "\n",
    "# 3. Post-process the output by un-scaling y\n",
    "#\n",
    "# Your code here\n",
    "y_pred = y_scaler.inverse_transform(y_pred_scaled)\n",
    "\n",
    "# Finally, plot dataset and predictions\n",
    "#\n",
    "# Your code here\n",
    "fig, ax = plt.subplots(figsize=(15, 8))\n",
    "ax.scatter(X.values, y, label='truth')\n",
    "ax.scatter(X.values, y_pred, label='predictions', color='orange')\n",
    "\n",
    "ax.set(title='Gross Monthly Median Income and Employment Rate: 12th Degree Model',\n",
    "       xlabel='Employment Rate (%)',\n",
    "       ylabel='Gross Monthly Median Income (S$)')\n",
    "\n",
    "ax.grid()\n",
    "ax.legend()"
   ]
  },
  {
   "cell_type": "markdown",
   "metadata": {
    "slideshow": {
     "slide_type": "-"
    }
   },
   "source": [
    "### Learning Curves for Underfit/Overfit Detection\n",
    "\n",
    "Even with the above polynomial curve, it's hard to tell if we are truly overfitting.\n",
    "\n",
    "The standard practice to determine model fit is to plot learning curves of the training scores and test scores during training iterations.\n",
    "\n",
    "Let's compare the learning curves for both the linear and polynomial case.\n",
    "\n",
    "Reference: http://scikit-learn.org/stable/auto_examples/model_selection/plot_learning_curve.html"
   ]
  },
  {
   "cell_type": "code",
   "execution_count": 23,
   "metadata": {
    "slideshow": {
     "slide_type": "-"
    }
   },
   "outputs": [],
   "source": [
    "from sklearn.model_selection import learning_curve\n",
    "\n",
    "# learning_curve?"
   ]
  },
  {
   "cell_type": "code",
   "execution_count": 24,
   "metadata": {
    "slideshow": {
     "slide_type": "-"
    }
   },
   "outputs": [
    {
     "name": "stdout",
     "output_type": "stream",
     "text": [
      "-- Epoch 1\n",
      "Norm: 0.00, NNZs: 1, Bias: -0.005754, T: 6, Avg. loss: 0.281427\n",
      "Total training time: 0.00 seconds.\n",
      "-- Epoch 2\n",
      "Norm: 0.00, NNZs: 1, Bias: -0.010790, T: 12, Avg. loss: 0.280898\n",
      "Total training time: 0.00 seconds.\n",
      "Convergence after 2 epochs took 0.00 seconds\n",
      "-- Epoch 1\n",
      "Norm: 0.02, NNZs: 1, Bias: -0.020585, T: 19, Avg. loss: 0.249487\n",
      "Total training time: 0.00 seconds.\n",
      "-- Epoch 2\n",
      "Norm: 0.05, NNZs: 1, Bias: -0.040229, T: 38, Avg. loss: 0.244612\n",
      "Total training time: 0.00 seconds.\n",
      "-- Epoch 3\n",
      "Norm: 0.07, NNZs: 1, Bias: -0.056430, T: 57, Avg. loss: 0.240753\n",
      "Total training time: 0.00 seconds.\n",
      "-- Epoch 4\n",
      "Norm: 0.08, NNZs: 1, Bias: -0.071614, T: 76, Avg. loss: 0.237301\n",
      "Total training time: 0.00 seconds.\n",
      "-- Epoch 5\n",
      "Norm: 0.10, NNZs: 1, Bias: -0.083177, T: 95, Avg. loss: 0.234927\n",
      "Total training time: 0.00 seconds.\n",
      "-- Epoch 6\n",
      "Norm: 0.12, NNZs: 1, Bias: -0.094176, T: 114, Avg. loss: 0.232754\n",
      "Total training time: 0.00 seconds.\n",
      "-- Epoch 7\n",
      "Norm: 0.13, NNZs: 1, Bias: -0.103563, T: 133, Avg. loss: 0.231011\n",
      "Total training time: 0.00 seconds.\n",
      "-- Epoch 8\n",
      "Norm: 0.15, NNZs: 1, Bias: -0.109321, T: 152, Avg. loss: 0.229563\n",
      "Total training time: 0.00 seconds.\n",
      "-- Epoch 9\n",
      "Norm: 0.16, NNZs: 1, Bias: -0.117844, T: 171, Avg. loss: 0.228217\n",
      "Total training time: 0.00 seconds.\n",
      "-- Epoch 10\n",
      "Norm: 0.17, NNZs: 1, Bias: -0.123457, T: 190, Avg. loss: 0.227326\n",
      "Total training time: 0.00 seconds.\n",
      "Convergence after 10 epochs took 0.00 seconds\n",
      "-- Epoch 1\n",
      "Norm: 0.08, NNZs: 1, Bias: 0.015617, T: 33, Avg. loss: 0.344975\n",
      "Total training time: 0.00 seconds.\n",
      "-- Epoch 2\n",
      "Norm: 0.14, NNZs: 1, Bias: 0.024563, T: 66, Avg. loss: 0.328365\n",
      "Total training time: 0.00 seconds.\n",
      "-- Epoch 3\n",
      "Norm: 0.19, NNZs: 1, Bias: 0.023656, T: 99, Avg. loss: 0.317737\n",
      "Total training time: 0.00 seconds.\n",
      "-- Epoch 4\n",
      "Norm: 0.24, NNZs: 1, Bias: 0.032245, T: 132, Avg. loss: 0.310582\n",
      "Total training time: 0.00 seconds.\n",
      "-- Epoch 5\n",
      "Norm: 0.27, NNZs: 1, Bias: 0.027788, T: 165, Avg. loss: 0.306170\n",
      "Total training time: 0.00 seconds.\n",
      "-- Epoch 6\n",
      "Norm: 0.30, NNZs: 1, Bias: 0.026025, T: 198, Avg. loss: 0.303615\n",
      "Total training time: 0.00 seconds.\n",
      "-- Epoch 7\n",
      "Norm: 0.32, NNZs: 1, Bias: 0.022992, T: 231, Avg. loss: 0.301644\n",
      "Total training time: 0.00 seconds.\n",
      "-- Epoch 8\n",
      "Norm: 0.34, NNZs: 1, Bias: 0.023045, T: 264, Avg. loss: 0.300097\n",
      "Total training time: 0.00 seconds.\n",
      "-- Epoch 9\n",
      "Norm: 0.35, NNZs: 1, Bias: 0.024022, T: 297, Avg. loss: 0.299111\n",
      "Total training time: 0.00 seconds.\n",
      "Convergence after 9 epochs took 0.00 seconds\n",
      "-- Epoch 1\n",
      "Norm: 0.15, NNZs: 1, Bias: 0.039447, T: 47, Avg. loss: 0.447271\n",
      "Total training time: 0.00 seconds.\n",
      "-- Epoch 2\n",
      "Norm: 0.24, NNZs: 1, Bias: 0.038076, T: 94, Avg. loss: 0.414032\n",
      "Total training time: 0.00 seconds.\n",
      "-- Epoch 3\n",
      "Norm: 0.31, NNZs: 1, Bias: 0.047665, T: 141, Avg. loss: 0.399607\n",
      "Total training time: 0.00 seconds.\n",
      "-- Epoch 4\n",
      "Norm: 0.38, NNZs: 1, Bias: 0.065573, T: 188, Avg. loss: 0.389190\n",
      "Total training time: 0.00 seconds.\n",
      "-- Epoch 5\n",
      "Norm: 0.42, NNZs: 1, Bias: 0.066692, T: 235, Avg. loss: 0.385255\n",
      "Total training time: 0.00 seconds.\n",
      "-- Epoch 6\n",
      "Norm: 0.42, NNZs: 1, Bias: 0.033670, T: 282, Avg. loss: 0.380921\n",
      "Total training time: 0.00 seconds.\n",
      "-- Epoch 7\n",
      "Norm: 0.44, NNZs: 1, Bias: 0.041367, T: 329, Avg. loss: 0.383420\n",
      "Total training time: 0.00 seconds.\n",
      "Convergence after 7 epochs took 0.00 seconds\n",
      "-- Epoch 1\n",
      "Norm: 0.19, NNZs: 1, Bias: 0.007342, T: 61, Avg. loss: 0.481924\n",
      "Total training time: 0.00 seconds.\n",
      "-- Epoch 2\n",
      "Norm: 0.30, NNZs: 1, Bias: 0.025465, T: 122, Avg. loss: 0.444764\n",
      "Total training time: 0.00 seconds.\n",
      "-- Epoch 3\n",
      "Norm: 0.35, NNZs: 1, Bias: 0.021110, T: 183, Avg. loss: 0.433844\n",
      "Total training time: 0.00 seconds.\n",
      "-- Epoch 4\n",
      "Norm: 0.38, NNZs: 1, Bias: 0.014923, T: 244, Avg. loss: 0.431467\n",
      "Total training time: 0.00 seconds.\n",
      "-- Epoch 5\n",
      "Norm: 0.42, NNZs: 1, Bias: 0.016990, T: 305, Avg. loss: 0.429250\n",
      "Total training time: 0.00 seconds.\n",
      "-- Epoch 6\n",
      "Norm: 0.43, NNZs: 1, Bias: 0.014699, T: 366, Avg. loss: 0.429290\n",
      "Total training time: 0.00 seconds.\n",
      "Convergence after 6 epochs took 0.00 seconds\n",
      "-- Epoch 1\n",
      "Norm: 0.00, NNZs: 1, Bias: -0.036508, T: 6, Avg. loss: 0.346848\n",
      "Total training time: 0.00 seconds.\n",
      "-- Epoch 2\n",
      "Norm: 0.00, NNZs: 1, Bias: -0.071217, T: 12, Avg. loss: 0.325387\n",
      "Total training time: 0.00 seconds.\n",
      "-- Epoch 3\n",
      "Norm: 0.01, NNZs: 1, Bias: -0.104114, T: 18, Avg. loss: 0.306152\n",
      "Total training time: 0.00 seconds.\n",
      "-- Epoch 4\n",
      "Norm: 0.01, NNZs: 1, Bias: -0.134945, T: 24, Avg. loss: 0.289211\n",
      "Total training time: 0.00 seconds.\n",
      "-- Epoch 5\n",
      "Norm: 0.01, NNZs: 1, Bias: -0.163421, T: 30, Avg. loss: 0.274399\n",
      "Total training time: 0.00 seconds.\n",
      "-- Epoch 6\n",
      "Norm: 0.00, NNZs: 1, Bias: -0.190637, T: 36, Avg. loss: 0.261310\n",
      "Total training time: 0.00 seconds.\n",
      "-- Epoch 7\n",
      "Norm: 0.00, NNZs: 1, Bias: -0.216540, T: 42, Avg. loss: 0.249441\n",
      "Total training time: 0.00 seconds.\n",
      "-- Epoch 8\n",
      "Norm: 0.00, NNZs: 1, Bias: -0.240841, T: 48, Avg. loss: 0.238914\n",
      "Total training time: 0.00 seconds.\n",
      "-- Epoch 9\n",
      "Norm: 0.00, NNZs: 1, Bias: -0.263216, T: 54, Avg. loss: 0.229645\n",
      "Total training time: 0.00 seconds.\n",
      "-- Epoch 10\n",
      "Norm: 0.00, NNZs: 1, Bias: -0.284731, T: 60, Avg. loss: 0.221403\n",
      "Total training time: 0.00 seconds.\n",
      "-- Epoch 11\n",
      "Norm: 0.01, NNZs: 1, Bias: -0.305303, T: 66, Avg. loss: 0.213838\n",
      "Total training time: 0.00 seconds.\n",
      "-- Epoch 12\n",
      "Norm: 0.01, NNZs: 1, Bias: -0.324618, T: 72, Avg. loss: 0.207087\n",
      "Total training time: 0.00 seconds.\n",
      "-- Epoch 13\n",
      "Norm: 0.01, NNZs: 1, Bias: -0.342327, T: 78, Avg. loss: 0.201097\n",
      "Total training time: 0.00 seconds.\n",
      "-- Epoch 14\n",
      "Norm: 0.02, NNZs: 1, Bias: -0.359471, T: 84, Avg. loss: 0.195744\n",
      "Total training time: 0.00 seconds.\n",
      "-- Epoch 15\n",
      "Norm: 0.02, NNZs: 1, Bias: -0.375951, T: 90, Avg. loss: 0.190770\n",
      "Total training time: 0.00 seconds.\n",
      "-- Epoch 16\n",
      "Norm: 0.02, NNZs: 1, Bias: -0.391431, T: 96, Avg. loss: 0.186311\n",
      "Total training time: 0.00 seconds.\n",
      "-- Epoch 17\n",
      "Norm: 0.03, NNZs: 1, Bias: -0.405546, T: 102, Avg. loss: 0.182323\n",
      "Total training time: 0.00 seconds.\n",
      "-- Epoch 18\n",
      "Norm: 0.03, NNZs: 1, Bias: -0.419315, T: 108, Avg. loss: 0.178747\n",
      "Total training time: 0.00 seconds.\n",
      "-- Epoch 19\n",
      "Norm: 0.04, NNZs: 1, Bias: -0.432628, T: 114, Avg. loss: 0.175385\n",
      "Total training time: 0.00 seconds.\n",
      "-- Epoch 20\n",
      "Norm: 0.04, NNZs: 1, Bias: -0.445137, T: 120, Avg. loss: 0.172363\n",
      "Total training time: 0.00 seconds.\n",
      "-- Epoch 21\n",
      "Norm: 0.05, NNZs: 1, Bias: -0.456459, T: 126, Avg. loss: 0.169637\n",
      "Total training time: 0.00 seconds.\n",
      "-- Epoch 22\n",
      "Norm: 0.05, NNZs: 1, Bias: -0.467601, T: 132, Avg. loss: 0.167191\n",
      "Total training time: 0.00 seconds.\n",
      "-- Epoch 23\n",
      "Norm: 0.05, NNZs: 1, Bias: -0.478447, T: 138, Avg. loss: 0.164864\n",
      "Total training time: 0.00 seconds.\n",
      "-- Epoch 24\n",
      "Norm: 0.06, NNZs: 1, Bias: -0.488633, T: 144, Avg. loss: 0.162771\n",
      "Total training time: 0.00 seconds.\n",
      "-- Epoch 25\n",
      "Norm: 0.06, NNZs: 1, Bias: -0.497770, T: 150, Avg. loss: 0.160867\n",
      "Total training time: 0.00 seconds.\n",
      "-- Epoch 26\n",
      "Norm: 0.07, NNZs: 1, Bias: -0.506851, T: 156, Avg. loss: 0.159160\n",
      "Total training time: 0.00 seconds.\n",
      "-- Epoch 27\n",
      "Norm: 0.07, NNZs: 1, Bias: -0.515756, T: 162, Avg. loss: 0.157518\n",
      "Total training time: 0.00 seconds.\n",
      "-- Epoch 28\n",
      "Norm: 0.07, NNZs: 1, Bias: -0.524113, T: 168, Avg. loss: 0.156044\n",
      "Total training time: 0.00 seconds.\n",
      "-- Epoch 29\n",
      "Norm: 0.08, NNZs: 1, Bias: -0.531525, T: 174, Avg. loss: 0.154689\n",
      "Total training time: 0.00 seconds.\n",
      "-- Epoch 30\n",
      "Norm: 0.08, NNZs: 1, Bias: -0.538976, T: 180, Avg. loss: 0.153482\n",
      "Total training time: 0.00 seconds.\n",
      "-- Epoch 31\n",
      "Norm: 0.09, NNZs: 1, Bias: -0.546344, T: 186, Avg. loss: 0.152304\n",
      "Total training time: 0.00 seconds.\n",
      "-- Epoch 32\n",
      "Norm: 0.09, NNZs: 1, Bias: -0.553249, T: 192, Avg. loss: 0.151253\n",
      "Total training time: 0.00 seconds.\n",
      "-- Epoch 33\n",
      "Norm: 0.09, NNZs: 1, Bias: -0.559289, T: 198, Avg. loss: 0.150275\n",
      "Total training time: 0.00 seconds.\n",
      "Convergence after 33 epochs took 0.00 seconds\n",
      "-- Epoch 1\n",
      "Norm: 0.05, NNZs: 1, Bias: -0.020468, T: 19, Avg. loss: 0.671636\n",
      "Total training time: 0.00 seconds.\n",
      "-- Epoch 2\n",
      "Norm: 0.09, NNZs: 1, Bias: -0.033748, T: 38, Avg. loss: 0.659046\n",
      "Total training time: 0.00 seconds.\n",
      "-- Epoch 3\n",
      "Norm: 0.12, NNZs: 1, Bias: -0.049397, T: 57, Avg. loss: 0.649697\n",
      "Total training time: 0.00 seconds.\n",
      "-- Epoch 4\n",
      "Norm: 0.15, NNZs: 1, Bias: -0.063784, T: 76, Avg. loss: 0.643162\n",
      "Total training time: 0.00 seconds.\n",
      "-- Epoch 5\n",
      "Norm: 0.18, NNZs: 1, Bias: -0.070030, T: 95, Avg. loss: 0.638660\n",
      "Total training time: 0.00 seconds.\n",
      "-- Epoch 6\n",
      "Norm: 0.19, NNZs: 1, Bias: -0.083633, T: 114, Avg. loss: 0.635765\n",
      "Total training time: 0.00 seconds.\n",
      "-- Epoch 7\n",
      "Norm: 0.21, NNZs: 1, Bias: -0.088714, T: 133, Avg. loss: 0.633827\n",
      "Total training time: 0.00 seconds.\n",
      "-- Epoch 8\n",
      "Norm: 0.22, NNZs: 1, Bias: -0.094774, T: 152, Avg. loss: 0.632394\n",
      "Total training time: 0.00 seconds.\n",
      "-- Epoch 9\n",
      "Norm: 0.23, NNZs: 1, Bias: -0.106028, T: 171, Avg. loss: 0.630981\n",
      "Total training time: 0.00 seconds.\n",
      "-- Epoch 10\n",
      "Norm: 0.24, NNZs: 1, Bias: -0.108032, T: 190, Avg. loss: 0.630197\n",
      "Total training time: 0.00 seconds.\n",
      "Convergence after 10 epochs took 0.00 seconds\n",
      "-- Epoch 1\n",
      "Norm: 0.06, NNZs: 1, Bias: 0.001049, T: 33, Avg. loss: 0.573120\n",
      "Total training time: 0.00 seconds.\n",
      "-- Epoch 2\n",
      "Norm: 0.12, NNZs: 1, Bias: 0.007423, T: 66, Avg. loss: 0.561552\n",
      "Total training time: 0.00 seconds.\n",
      "-- Epoch 3\n",
      "Norm: 0.15, NNZs: 1, Bias: 0.005059, T: 99, Avg. loss: 0.554410\n",
      "Total training time: 0.00 seconds.\n",
      "-- Epoch 4\n",
      "Norm: 0.19, NNZs: 1, Bias: 0.013675, T: 132, Avg. loss: 0.551354\n",
      "Total training time: 0.00 seconds.\n",
      "-- Epoch 5\n",
      "Norm: 0.19, NNZs: 1, Bias: 0.022628, T: 165, Avg. loss: 0.549526\n",
      "Total training time: 0.00 seconds.\n",
      "-- Epoch 6\n",
      "Norm: 0.20, NNZs: 1, Bias: 0.019586, T: 198, Avg. loss: 0.549486\n",
      "Total training time: 0.00 seconds.\n",
      "Convergence after 6 epochs took 0.00 seconds\n",
      "-- Epoch 1\n",
      "Norm: 0.13, NNZs: 1, Bias: 0.033910, T: 47, Avg. loss: 0.609416\n",
      "Total training time: 0.00 seconds.\n",
      "-- Epoch 2\n",
      "Norm: 0.21, NNZs: 1, Bias: 0.031257, T: 94, Avg. loss: 0.584001\n",
      "Total training time: 0.00 seconds.\n",
      "-- Epoch 3\n",
      "Norm: 0.26, NNZs: 1, Bias: 0.052115, T: 141, Avg. loss: 0.575350\n",
      "Total training time: 0.00 seconds.\n",
      "-- Epoch 4\n",
      "Norm: 0.30, NNZs: 1, Bias: 0.069103, T: 188, Avg. loss: 0.570994\n",
      "Total training time: 0.00 seconds.\n",
      "-- Epoch 5\n",
      "Norm: 0.32, NNZs: 1, Bias: 0.073592, T: 235, Avg. loss: 0.570212\n",
      "Total training time: 0.00 seconds.\n",
      "Convergence after 5 epochs took 0.00 seconds\n",
      "-- Epoch 1\n",
      "Norm: 0.19, NNZs: 1, Bias: 0.009936, T: 61, Avg. loss: 0.606443\n",
      "Total training time: 0.00 seconds.\n",
      "-- Epoch 2\n",
      "Norm: 0.27, NNZs: 1, Bias: 0.029768, T: 122, Avg. loss: 0.577656\n",
      "Total training time: 0.00 seconds.\n",
      "-- Epoch 3\n",
      "Norm: 0.28, NNZs: 1, Bias: 0.045391, T: 183, Avg. loss: 0.572436\n",
      "Total training time: 0.00 seconds.\n",
      "-- Epoch 4\n",
      "Norm: 0.29, NNZs: 1, Bias: 0.042435, T: 244, Avg. loss: 0.571934\n",
      "Total training time: 0.00 seconds.\n",
      "Convergence after 4 epochs took 0.00 seconds\n",
      "-- Epoch 1\n",
      "Norm: 0.00, NNZs: 1, Bias: -0.036508, T: 6, Avg. loss: 0.346848\n",
      "Total training time: 0.00 seconds.\n",
      "-- Epoch 2\n",
      "Norm: 0.00, NNZs: 1, Bias: -0.071217, T: 12, Avg. loss: 0.325387\n",
      "Total training time: 0.00 seconds.\n",
      "-- Epoch 3\n",
      "Norm: 0.01, NNZs: 1, Bias: -0.104114, T: 18, Avg. loss: 0.306152\n",
      "Total training time: 0.00 seconds.\n",
      "-- Epoch 4\n",
      "Norm: 0.01, NNZs: 1, Bias: -0.134945, T: 24, Avg. loss: 0.289211\n",
      "Total training time: 0.00 seconds.\n",
      "-- Epoch 5\n",
      "Norm: 0.01, NNZs: 1, Bias: -0.163421, T: 30, Avg. loss: 0.274399\n",
      "Total training time: 0.00 seconds.\n",
      "-- Epoch 6\n",
      "Norm: 0.00, NNZs: 1, Bias: -0.190637, T: 36, Avg. loss: 0.261310\n",
      "Total training time: 0.00 seconds.\n",
      "-- Epoch 7\n",
      "Norm: 0.00, NNZs: 1, Bias: -0.216540, T: 42, Avg. loss: 0.249441\n",
      "Total training time: 0.00 seconds.\n",
      "-- Epoch 8\n",
      "Norm: 0.00, NNZs: 1, Bias: -0.240841, T: 48, Avg. loss: 0.238914\n",
      "Total training time: 0.00 seconds.\n",
      "-- Epoch 9\n",
      "Norm: 0.00, NNZs: 1, Bias: -0.263216, T: 54, Avg. loss: 0.229645\n",
      "Total training time: 0.00 seconds.\n",
      "-- Epoch 10\n",
      "Norm: 0.00, NNZs: 1, Bias: -0.284731, T: 60, Avg. loss: 0.221403\n",
      "Total training time: 0.00 seconds.\n",
      "-- Epoch 11\n",
      "Norm: 0.01, NNZs: 1, Bias: -0.305303, T: 66, Avg. loss: 0.213838\n",
      "Total training time: 0.00 seconds.\n",
      "-- Epoch 12\n",
      "Norm: 0.01, NNZs: 1, Bias: -0.324618, T: 72, Avg. loss: 0.207087\n",
      "Total training time: 0.00 seconds.\n",
      "-- Epoch 13\n",
      "Norm: 0.01, NNZs: 1, Bias: -0.342327, T: 78, Avg. loss: 0.201097\n",
      "Total training time: 0.00 seconds.\n",
      "-- Epoch 14\n",
      "Norm: 0.02, NNZs: 1, Bias: -0.359471, T: 84, Avg. loss: 0.195744\n",
      "Total training time: 0.00 seconds.\n",
      "-- Epoch 15\n",
      "Norm: 0.02, NNZs: 1, Bias: -0.375951, T: 90, Avg. loss: 0.190770\n",
      "Total training time: 0.00 seconds.\n",
      "-- Epoch 16\n",
      "Norm: 0.02, NNZs: 1, Bias: -0.391431, T: 96, Avg. loss: 0.186311\n",
      "Total training time: 0.00 seconds.\n",
      "-- Epoch 17\n",
      "Norm: 0.03, NNZs: 1, Bias: -0.405546, T: 102, Avg. loss: 0.182323\n",
      "Total training time: 0.00 seconds.\n",
      "-- Epoch 18\n",
      "Norm: 0.03, NNZs: 1, Bias: -0.419315, T: 108, Avg. loss: 0.178747\n",
      "Total training time: 0.00 seconds.\n",
      "-- Epoch 19\n",
      "Norm: 0.04, NNZs: 1, Bias: -0.432628, T: 114, Avg. loss: 0.175385\n",
      "Total training time: 0.00 seconds.\n",
      "-- Epoch 20\n",
      "Norm: 0.04, NNZs: 1, Bias: -0.445137, T: 120, Avg. loss: 0.172363\n",
      "Total training time: 0.00 seconds.\n",
      "-- Epoch 21\n",
      "Norm: 0.05, NNZs: 1, Bias: -0.456459, T: 126, Avg. loss: 0.169637\n",
      "Total training time: 0.00 seconds.\n",
      "-- Epoch 22\n",
      "Norm: 0.05, NNZs: 1, Bias: -0.467601, T: 132, Avg. loss: 0.167191\n",
      "Total training time: 0.00 seconds.\n",
      "-- Epoch 23\n",
      "Norm: 0.05, NNZs: 1, Bias: -0.478447, T: 138, Avg. loss: 0.164864\n",
      "Total training time: 0.00 seconds.\n",
      "-- Epoch 24\n",
      "Norm: 0.06, NNZs: 1, Bias: -0.488633, T: 144, Avg. loss: 0.162771\n",
      "Total training time: 0.00 seconds.\n",
      "-- Epoch 25\n",
      "Norm: 0.06, NNZs: 1, Bias: -0.497770, T: 150, Avg. loss: 0.160867\n",
      "Total training time: 0.00 seconds.\n",
      "-- Epoch 26\n",
      "Norm: 0.07, NNZs: 1, Bias: -0.506851, T: 156, Avg. loss: 0.159160\n",
      "Total training time: 0.00 seconds.\n",
      "-- Epoch 27\n",
      "Norm: 0.07, NNZs: 1, Bias: -0.515756, T: 162, Avg. loss: 0.157518\n",
      "Total training time: 0.00 seconds.\n",
      "-- Epoch 28\n",
      "Norm: 0.07, NNZs: 1, Bias: -0.524113, T: 168, Avg. loss: 0.156044\n",
      "Total training time: 0.00 seconds.\n",
      "-- Epoch 29\n",
      "Norm: 0.08, NNZs: 1, Bias: -0.531525, T: 174, Avg. loss: 0.154689\n",
      "Total training time: 0.00 seconds.\n",
      "-- Epoch 30\n",
      "Norm: 0.08, NNZs: 1, Bias: -0.538976, T: 180, Avg. loss: 0.153482\n",
      "Total training time: 0.00 seconds.\n",
      "-- Epoch 31\n",
      "Norm: 0.09, NNZs: 1, Bias: -0.546344, T: 186, Avg. loss: 0.152304\n",
      "Total training time: 0.00 seconds.\n",
      "-- Epoch 32\n",
      "Norm: 0.09, NNZs: 1, Bias: -0.553249, T: 192, Avg. loss: 0.151253\n",
      "Total training time: 0.00 seconds.\n",
      "-- Epoch 33\n",
      "Norm: 0.09, NNZs: 1, Bias: -0.559289, T: 198, Avg. loss: 0.150275\n",
      "Total training time: 0.01 seconds.\n",
      "Convergence after 33 epochs took 0.01 seconds\n",
      "-- Epoch 1\n",
      "Norm: 0.05, NNZs: 1, Bias: -0.020468, T: 19, Avg. loss: 0.671636\n",
      "Total training time: 0.00 seconds.\n",
      "-- Epoch 2\n",
      "Norm: 0.09, NNZs: 1, Bias: -0.033748, T: 38, Avg. loss: 0.659046\n",
      "Total training time: 0.00 seconds.\n",
      "-- Epoch 3\n",
      "Norm: 0.12, NNZs: 1, Bias: -0.049397, T: 57, Avg. loss: 0.649697\n",
      "Total training time: 0.00 seconds.\n",
      "-- Epoch 4\n",
      "Norm: 0.15, NNZs: 1, Bias: -0.063784, T: 76, Avg. loss: 0.643162\n",
      "Total training time: 0.00 seconds.\n",
      "-- Epoch 5\n",
      "Norm: 0.18, NNZs: 1, Bias: -0.070030, T: 95, Avg. loss: 0.638660\n",
      "Total training time: 0.00 seconds.\n",
      "-- Epoch 6\n",
      "Norm: 0.19, NNZs: 1, Bias: -0.083633, T: 114, Avg. loss: 0.635765\n",
      "Total training time: 0.00 seconds.\n",
      "-- Epoch 7\n",
      "Norm: 0.21, NNZs: 1, Bias: -0.088714, T: 133, Avg. loss: 0.633827\n",
      "Total training time: 0.00 seconds.\n",
      "-- Epoch 8\n",
      "Norm: 0.22, NNZs: 1, Bias: -0.094774, T: 152, Avg. loss: 0.632394\n",
      "Total training time: 0.00 seconds.\n",
      "-- Epoch 9\n",
      "Norm: 0.23, NNZs: 1, Bias: -0.106028, T: 171, Avg. loss: 0.630981\n",
      "Total training time: 0.00 seconds.\n",
      "-- Epoch 10\n",
      "Norm: 0.24, NNZs: 1, Bias: -0.108032, T: 190, Avg. loss: 0.630197\n",
      "Total training time: 0.00 seconds.\n",
      "Convergence after 10 epochs took 0.00 seconds\n",
      "-- Epoch 1\n",
      "Norm: 0.05, NNZs: 1, Bias: -0.011172, T: 33, Avg. loss: 0.484196\n",
      "Total training time: 0.00 seconds.\n",
      "-- Epoch 2\n",
      "Norm: 0.10, NNZs: 1, Bias: -0.014905, T: 66, Avg. loss: 0.477136\n",
      "Total training time: 0.00 seconds.\n",
      "-- Epoch 3\n",
      "Norm: 0.13, NNZs: 1, Bias: -0.022909, T: 99, Avg. loss: 0.472434\n",
      "Total training time: 0.00 seconds.\n",
      "-- Epoch 4\n",
      "Norm: 0.15, NNZs: 1, Bias: -0.023129, T: 132, Avg. loss: 0.470527\n",
      "Total training time: 0.00 seconds.\n",
      "-- Epoch 5\n",
      "Norm: 0.15, NNZs: 1, Bias: -0.019326, T: 165, Avg. loss: 0.469136\n",
      "Total training time: 0.00 seconds.\n",
      "-- Epoch 6\n",
      "Norm: 0.16, NNZs: 1, Bias: -0.025424, T: 198, Avg. loss: 0.469243\n",
      "Total training time: 0.00 seconds.\n",
      "Convergence after 6 epochs took 0.00 seconds\n",
      "-- Epoch 1\n",
      "Norm: 0.06, NNZs: 1, Bias: -0.012065, T: 47, Avg. loss: 0.408953\n",
      "Total training time: 0.00 seconds.\n",
      "-- Epoch 2\n",
      "Norm: 0.12, NNZs: 1, Bias: -0.031791, T: 94, Avg. loss: 0.401237\n",
      "Total training time: 0.00 seconds.\n",
      "-- Epoch 3\n",
      "Norm: 0.14, NNZs: 1, Bias: -0.044121, T: 141, Avg. loss: 0.398871\n",
      "Total training time: 0.00 seconds.\n",
      "-- Epoch 4\n",
      "Norm: 0.15, NNZs: 1, Bias: -0.054707, T: 188, Avg. loss: 0.397915\n",
      "Total training time: 0.00 seconds.\n",
      "Convergence after 4 epochs took 0.00 seconds\n",
      "-- Epoch 1\n",
      "Norm: 0.10, NNZs: 1, Bias: -0.016627, T: 61, Avg. loss: 0.373863\n",
      "Total training time: 0.00 seconds.\n",
      "-- Epoch 2\n",
      "Norm: 0.16, NNZs: 1, Bias: -0.035910, T: 122, Avg. loss: 0.364316\n",
      "Total training time: 0.00 seconds.\n",
      "-- Epoch 3\n",
      "Norm: 0.18, NNZs: 1, Bias: -0.029664, T: 183, Avg. loss: 0.360961\n",
      "Total training time: 0.00 seconds.\n",
      "-- Epoch 4\n",
      "Norm: 0.19, NNZs: 1, Bias: -0.040831, T: 244, Avg. loss: 0.360065\n",
      "Total training time: 0.00 seconds.\n",
      "Convergence after 4 epochs took 0.00 seconds\n"
     ]
    }
   ],
   "source": [
    "# 1. Generate the learning curve for linear_model\n",
    "# By default this uses 3-fold Cross Validation (more on that later)\n",
    "train_sizes, train_scores, validation_scores = learning_curve(\n",
    "    linear_model, X_train_scaled, y_train_scaled)\n",
    "\n",
    "# 2. Compute some stats\n",
    "train_scores_mean = np.mean(train_scores, axis=1)\n",
    "train_scores_std = np.std(train_scores, axis=1)\n",
    "validation_scores_mean = np.mean(validation_scores, axis=1)\n",
    "validation_scores_std = np.std(validation_scores, axis=1)"
   ]
  },
  {
   "cell_type": "code",
   "execution_count": 25,
   "metadata": {
    "slideshow": {
     "slide_type": "-"
    }
   },
   "outputs": [
    {
     "data": {
      "text/plain": [
       "<matplotlib.legend.Legend at 0x1b5e420dc88>"
      ]
     },
     "execution_count": 25,
     "metadata": {},
     "output_type": "execute_result"
    },
    {
     "data": {
      "image/png": "[encoded data removed]",
      "text/plain": [
       "<matplotlib.figure.Figure at 0x1b5e416a908>"
      ]
     },
     "metadata": {},
     "output_type": "display_data"
    }
   ],
   "source": [
    "# 3. Plot the learning curve, along with the stats\n",
    "fig, ax = plt.subplots(figsize=(15, 8))\n",
    "\n",
    "ax.fill_between(train_sizes, train_scores_mean - train_scores_std,\n",
    "                train_scores_mean + train_scores_std, alpha=0.1,\n",
    "                color=\"r\")\n",
    "ax.fill_between(train_sizes, validation_scores_mean - validation_scores_std,\n",
    "                validation_scores_mean + validation_scores_std, alpha=0.1, color=\"g\")\n",
    "ax.plot(train_sizes, train_scores_mean, 'o-', color=\"r\",\n",
    "        label=\"Training score\")\n",
    "ax.plot(train_sizes, validation_scores_mean, 'o-', color=\"g\",\n",
    "        label=\"Cross-validation score\")\n",
    "ax.set(title='Learning Curve: 1st Order Model',\n",
    "       xlabel='Training examples',\n",
    "       ylabel='R2 Scores')\n",
    "ax.grid()\n",
    "ax.legend()"
   ]
  },
  {
   "cell_type": "markdown",
   "metadata": {
    "slideshow": {
     "slide_type": "-"
    }
   },
   "source": [
    "## Exercise: Plot Learning Curve\n",
    "\n",
    "Follow the example above and:\n",
    "1. Generate the learning curve for the polynomial model (`poly_model`)\n",
    "2. Compute statistics\n",
    "3. Plot the learning curve and the statistics"
   ]
  },
  {
   "cell_type": "code",
   "execution_count": 46,
   "metadata": {},
   "outputs": [],
   "source": [
    "# moved plotting code so we can reuse it better\n",
    "def plot_learning_curve(axis, title, tr_sizes, tr_scores, val_scores):\n",
    "    \"\"\"Plots the learning curve for a training session\n",
    "    Arg:\n",
    "        axis: axis to plot\n",
    "        title: plot title\n",
    "        tr_sizes: sizes of the training set\n",
    "        tr_scores: training scores\n",
    "        val_scores: validation scores\n",
    "    \"\"\"\n",
    "    tr_scores_mean = np.mean(tr_scores, axis=1)\n",
    "    tr_scores_std = np.std(tr_scores, axis=1)\n",
    "    val_scores_mean = np.mean(val_scores, axis=1)\n",
    "    val_scores_std = np.std(val_scores, axis=1)\n",
    "    \n",
    "    axis.fill_between(tr_sizes, tr_scores_mean - tr_scores_std,\n",
    "                    tr_scores_mean + tr_scores_std, alpha=0.1,\n",
    "                    color=\"r\")\n",
    "    axis.fill_between(tr_sizes, val_scores_mean - val_scores_std,\n",
    "                    val_scores_mean + val_scores_std, alpha=0.1, color=\"g\")\n",
    "    axis.plot(tr_sizes, tr_scores_mean, 'o-', color=\"r\",\n",
    "            label=\"Training score\")\n",
    "    axis.plot(tr_sizes, val_scores_mean, 'o-', color=\"g\",\n",
    "            label=\"Cross-validation score\")\n",
    "    axis.set(title=title,\n",
    "           xlabel='Training examples',\n",
    "           ylabel='R2 Scores')\n",
    "    axis.grid()\n",
    "    axis.legend()"
   ]
  },
  {
   "cell_type": "code",
   "execution_count": 26,
   "metadata": {
    "slideshow": {
     "slide_type": "-"
    }
   },
   "outputs": [
    {
     "name": "stdout",
     "output_type": "stream",
     "text": [
      "-- Epoch 1\n",
      "Norm: 0.02, NNZs: 12, Bias: -0.005765, T: 6, Avg. loss: 0.295610\n",
      "Total training time: 0.00 seconds.\n",
      "-- Epoch 2\n",
      "Norm: 0.03, NNZs: 12, Bias: -0.011209, T: 12, Avg. loss: 0.295024\n",
      "Total training time: 0.00 seconds.\n",
      "-- Epoch 3\n",
      "Norm: 0.03, NNZs: 12, Bias: -0.016753, T: 18, Avg. loss: 0.292751\n",
      "Total training time: 0.00 seconds.\n",
      "-- Epoch 4\n",
      "Norm: 0.04, NNZs: 12, Bias: -0.020762, T: 24, Avg. loss: 0.292635\n",
      "Total training time: 0.00 seconds.\n",
      "-- Epoch 5\n",
      "Norm: 0.04, NNZs: 12, Bias: -0.023971, T: 30, Avg. loss: 0.292370\n",
      "Total training time: 0.00 seconds.\n",
      "-- Epoch 6\n",
      "Norm: 0.04, NNZs: 12, Bias: -0.027666, T: 36, Avg. loss: 0.293704\n",
      "Total training time: 0.00 seconds.\n",
      "Convergence after 6 epochs took 0.00 seconds\n",
      "-- Epoch 1\n",
      "Norm: 0.06, NNZs: 12, Bias: -0.021531, T: 19, Avg. loss: 0.263061\n",
      "Total training time: 0.00 seconds.\n",
      "-- Epoch 2\n",
      "Norm: 0.07, NNZs: 12, Bias: -0.042709, T: 38, Avg. loss: 0.246836\n",
      "Total training time: 0.00 seconds.\n",
      "-- Epoch 3\n",
      "Norm: 0.10, NNZs: 12, Bias: -0.059429, T: 57, Avg. loss: 0.243924\n",
      "Total training time: 0.00 seconds.\n",
      "-- Epoch 4\n",
      "Norm: 0.06, NNZs: 12, Bias: -0.074405, T: 76, Avg. loss: 0.222851\n",
      "Total training time: 0.00 seconds.\n",
      "-- Epoch 5\n",
      "Norm: 0.12, NNZs: 12, Bias: -0.079257, T: 95, Avg. loss: 0.238454\n",
      "Total training time: 0.00 seconds.\n",
      "Convergence after 5 epochs took 0.00 seconds\n",
      "-- Epoch 1\n",
      "Norm: 0.08, NNZs: 12, Bias: 0.016275, T: 33, Avg. loss: 0.343099\n",
      "Total training time: 0.00 seconds.\n",
      "-- Epoch 2\n",
      "Norm: 0.15, NNZs: 12, Bias: 0.008821, T: 66, Avg. loss: 0.316816\n",
      "Total training time: 0.00 seconds.\n",
      "-- Epoch 3\n",
      "Norm: 0.10, NNZs: 12, Bias: -0.001443, T: 99, Avg. loss: 0.280640\n",
      "Total training time: 0.00 seconds.\n",
      "-- Epoch 4\n",
      "Norm: 0.21, NNZs: 12, Bias: 0.018720, T: 132, Avg. loss: 0.288623\n",
      "Total training time: 0.00 seconds.\n",
      "Convergence after 4 epochs took 0.00 seconds\n",
      "-- Epoch 1\n",
      "Norm: 0.22, NNZs: 12, Bias: 0.004081, T: 47, Avg. loss: 0.406897\n",
      "Total training time: 0.00 seconds.\n",
      "-- Epoch 2\n",
      "Norm: 0.12, NNZs: 12, Bias: 0.022205, T: 94, Avg. loss: 0.346586\n",
      "Total training time: 0.00 seconds.\n",
      "-- Epoch 3\n",
      "Norm: 0.20, NNZs: 12, Bias: 0.041749, T: 141, Avg. loss: 0.391946\n",
      "Total training time: 0.00 seconds.\n",
      "Convergence after 3 epochs took 0.00 seconds\n",
      "-- Epoch 1\n",
      "Norm: 0.13, NNZs: 12, Bias: 0.001155, T: 61, Avg. loss: 0.486048\n",
      "Total training time: 0.00 seconds.\n",
      "-- Epoch 2\n",
      "Norm: 0.20, NNZs: 12, Bias: 0.011406, T: 122, Avg. loss: 0.448902\n",
      "Total training time: 0.00 seconds.\n",
      "-- Epoch 3\n",
      "Norm: 0.13, NNZs: 12, Bias: 0.011110, T: 183, Avg. loss: 0.434640\n",
      "Total training time: 0.00 seconds.\n",
      "-- Epoch 4\n",
      "Norm: 0.14, NNZs: 12, Bias: 0.030119, T: 244, Avg. loss: 0.442396\n",
      "Total training time: 0.00 seconds.\n",
      "Convergence after 4 epochs took 0.00 seconds\n",
      "-- Epoch 1\n",
      "Norm: 0.01, NNZs: 12, Bias: -0.039538, T: 6, Avg. loss: 0.400724\n",
      "Total training time: 0.00 seconds.\n",
      "-- Epoch 2\n",
      "Norm: 0.02, NNZs: 12, Bias: -0.077117, T: 12, Avg. loss: 0.372656\n",
      "Total training time: 0.00 seconds.\n",
      "-- Epoch 3\n",
      "Norm: 0.04, NNZs: 12, Bias: -0.113491, T: 18, Avg. loss: 0.338667\n",
      "Total training time: 0.00 seconds.\n",
      "-- Epoch 4\n",
      "Norm: 0.03, NNZs: 12, Bias: -0.143637, T: 24, Avg. loss: 0.327941\n",
      "Total training time: 0.00 seconds.\n",
      "-- Epoch 5\n",
      "Norm: 0.03, NNZs: 12, Bias: -0.173144, T: 30, Avg. loss: 0.306157\n",
      "Total training time: 0.00 seconds.\n",
      "-- Epoch 6\n",
      "Norm: 0.04, NNZs: 12, Bias: -0.202625, T: 36, Avg. loss: 0.291596\n",
      "Total training time: 0.00 seconds.\n",
      "-- Epoch 7\n",
      "Norm: 0.05, NNZs: 12, Bias: -0.231896, T: 42, Avg. loss: 0.270811\n",
      "Total training time: 0.00 seconds.\n",
      "-- Epoch 8\n",
      "Norm: 0.05, NNZs: 12, Bias: -0.255924, T: 48, Avg. loss: 0.264804\n",
      "Total training time: 0.00 seconds.\n",
      "-- Epoch 9\n",
      "Norm: 0.06, NNZs: 12, Bias: -0.279378, T: 54, Avg. loss: 0.249218\n",
      "Total training time: 0.00 seconds.\n",
      "-- Epoch 10\n",
      "Norm: 0.06, NNZs: 12, Bias: -0.303138, T: 60, Avg. loss: 0.240283\n",
      "Total training time: 0.00 seconds.\n",
      "-- Epoch 11\n",
      "Norm: 0.07, NNZs: 12, Bias: -0.326923, T: 66, Avg. loss: 0.226277\n",
      "Total training time: 0.00 seconds.\n",
      "-- Epoch 12\n",
      "Norm: 0.07, NNZs: 12, Bias: -0.346201, T: 72, Avg. loss: 0.223172\n",
      "Total training time: 0.00 seconds.\n",
      "-- Epoch 13\n",
      "Norm: 0.08, NNZs: 12, Bias: -0.364840, T: 78, Avg. loss: 0.211861\n",
      "Total training time: 0.00 seconds.\n",
      "-- Epoch 14\n",
      "Norm: 0.08, NNZs: 12, Bias: -0.384013, T: 84, Avg. loss: 0.206564\n",
      "Total training time: 0.00 seconds.\n",
      "-- Epoch 15\n",
      "Norm: 0.09, NNZs: 12, Bias: -0.403378, T: 90, Avg. loss: 0.197055\n",
      "Total training time: 0.00 seconds.\n",
      "-- Epoch 16\n",
      "Norm: 0.09, NNZs: 12, Bias: -0.418835, T: 96, Avg. loss: 0.195690\n",
      "Total training time: 0.00 seconds.\n",
      "-- Epoch 17\n",
      "Norm: 0.10, NNZs: 12, Bias: -0.433592, T: 102, Avg. loss: 0.187214\n",
      "Total training time: 0.00 seconds.\n",
      "-- Epoch 18\n",
      "Norm: 0.11, NNZs: 12, Bias: -0.449067, T: 108, Avg. loss: 0.184263\n",
      "Total training time: 0.00 seconds.\n",
      "-- Epoch 19\n",
      "Norm: 0.11, NNZs: 12, Bias: -0.464866, T: 114, Avg. loss: 0.177776\n",
      "Total training time: 0.00 seconds.\n",
      "-- Epoch 20\n",
      "Norm: 0.11, NNZs: 12, Bias: -0.477242, T: 120, Avg. loss: 0.177426\n",
      "Total training time: 0.00 seconds.\n",
      "-- Epoch 21\n",
      "Norm: 0.12, NNZs: 12, Bias: -0.488871, T: 126, Avg. loss: 0.170838\n",
      "Total training time: 0.00 seconds.\n",
      "-- Epoch 22\n",
      "Norm: 0.13, NNZs: 12, Bias: -0.501363, T: 132, Avg. loss: 0.169395\n",
      "Total training time: 0.00 seconds.\n",
      "-- Epoch 23\n",
      "Norm: 0.13, NNZs: 12, Bias: -0.514285, T: 138, Avg. loss: 0.164951\n",
      "Total training time: 0.00 seconds.\n",
      "-- Epoch 24\n",
      "Norm: 0.13, NNZs: 12, Bias: -0.524178, T: 144, Avg. loss: 0.165168\n",
      "Total training time: 0.00 seconds.\n",
      "Convergence after 24 epochs took 0.00 seconds\n",
      "-- Epoch 1\n",
      "Norm: 0.04, NNZs: 12, Bias: -0.023354, T: 19, Avg. loss: 0.698420\n",
      "Total training time: 0.00 seconds.\n",
      "-- Epoch 2\n",
      "Norm: 0.07, NNZs: 12, Bias: -0.046097, T: 38, Avg. loss: 0.761205\n",
      "Total training time: 0.00 seconds.\n",
      "Convergence after 2 epochs took 0.00 seconds\n",
      "-- Epoch 1\n",
      "Norm: 0.08, NNZs: 12, Bias: 0.013692, T: 33, Avg. loss: 0.554600\n",
      "Total training time: 0.00 seconds.\n",
      "-- Epoch 2\n",
      "Norm: 0.12, NNZs: 12, Bias: 0.029998, T: 66, Avg. loss: 0.632431\n",
      "Total training time: 0.00 seconds.\n",
      "Convergence after 2 epochs took 0.00 seconds\n",
      "-- Epoch 1\n",
      "Norm: 0.13, NNZs: 12, Bias: 0.065267, T: 47, Avg. loss: 0.622707\n",
      "Total training time: 0.00 seconds.\n",
      "-- Epoch 2\n",
      "Norm: 0.16, NNZs: 12, Bias: 0.023197, T: 94, Avg. loss: 0.613107\n",
      "Total training time: 0.00 seconds.\n",
      "-- Epoch 3\n",
      "Norm: 0.24, NNZs: 12, Bias: 0.049286, T: 141, Avg. loss: 0.609237\n",
      "Total training time: 0.00 seconds.\n",
      "-- Epoch 4\n",
      "Norm: 0.37, NNZs: 12, Bias: 0.061829, T: 188, Avg. loss: 0.572487\n",
      "Total training time: 0.00 seconds.\n",
      "-- Epoch 5\n",
      "Norm: 0.32, NNZs: 12, Bias: 0.062338, T: 235, Avg. loss: 0.611440\n",
      "Total training time: 0.00 seconds.\n",
      "Convergence after 5 epochs took 0.00 seconds\n",
      "-- Epoch 1\n",
      "Norm: 0.25, NNZs: 12, Bias: 0.009620, T: 61, Avg. loss: 0.609126\n",
      "Total training time: 0.00 seconds.\n",
      "-- Epoch 2\n",
      "Norm: 0.22, NNZs: 12, Bias: 0.029869, T: 122, Avg. loss: 0.636437\n",
      "Total training time: 0.00 seconds.\n",
      "Convergence after 2 epochs took 0.00 seconds\n",
      "-- Epoch 1\n",
      "Norm: 0.01, NNZs: 12, Bias: -0.039538, T: 6, Avg. loss: 0.400724\n",
      "Total training time: 0.00 seconds.\n",
      "-- Epoch 2\n",
      "Norm: 0.02, NNZs: 12, Bias: -0.077117, T: 12, Avg. loss: 0.372656\n",
      "Total training time: 0.00 seconds.\n",
      "-- Epoch 3\n",
      "Norm: 0.04, NNZs: 12, Bias: -0.113491, T: 18, Avg. loss: 0.338667\n",
      "Total training time: 0.00 seconds.\n",
      "-- Epoch 4\n",
      "Norm: 0.03, NNZs: 12, Bias: -0.143637, T: 24, Avg. loss: 0.327941\n",
      "Total training time: 0.00 seconds.\n",
      "-- Epoch 5\n",
      "Norm: 0.03, NNZs: 12, Bias: -0.173144, T: 30, Avg. loss: 0.306157\n",
      "Total training time: 0.00 seconds.\n",
      "-- Epoch 6\n",
      "Norm: 0.04, NNZs: 12, Bias: -0.202625, T: 36, Avg. loss: 0.291596\n",
      "Total training time: 0.00 seconds.\n",
      "-- Epoch 7\n",
      "Norm: 0.05, NNZs: 12, Bias: -0.231896, T: 42, Avg. loss: 0.270811\n",
      "Total training time: 0.00 seconds.\n",
      "-- Epoch 8\n",
      "Norm: 0.05, NNZs: 12, Bias: -0.255924, T: 48, Avg. loss: 0.264804\n",
      "Total training time: 0.00 seconds.\n",
      "-- Epoch 9\n",
      "Norm: 0.06, NNZs: 12, Bias: -0.279378, T: 54, Avg. loss: 0.249218\n",
      "Total training time: 0.00 seconds.\n",
      "-- Epoch 10\n",
      "Norm: 0.06, NNZs: 12, Bias: -0.303138, T: 60, Avg. loss: 0.240283\n",
      "Total training time: 0.00 seconds.\n",
      "-- Epoch 11\n",
      "Norm: 0.07, NNZs: 12, Bias: -0.326923, T: 66, Avg. loss: 0.226277\n",
      "Total training time: 0.00 seconds.\n",
      "-- Epoch 12\n",
      "Norm: 0.07, NNZs: 12, Bias: -0.346201, T: 72, Avg. loss: 0.223172\n",
      "Total training time: 0.00 seconds.\n",
      "-- Epoch 13\n",
      "Norm: 0.08, NNZs: 12, Bias: -0.364840, T: 78, Avg. loss: 0.211861\n",
      "Total training time: 0.00 seconds.\n",
      "-- Epoch 14\n",
      "Norm: 0.08, NNZs: 12, Bias: -0.384013, T: 84, Avg. loss: 0.206564\n",
      "Total training time: 0.00 seconds.\n",
      "-- Epoch 15\n",
      "Norm: 0.09, NNZs: 12, Bias: -0.403378, T: 90, Avg. loss: 0.197055\n",
      "Total training time: 0.00 seconds.\n",
      "-- Epoch 16\n",
      "Norm: 0.09, NNZs: 12, Bias: -0.418835, T: 96, Avg. loss: 0.195690\n",
      "Total training time: 0.00 seconds.\n",
      "-- Epoch 17\n",
      "Norm: 0.10, NNZs: 12, Bias: -0.433592, T: 102, Avg. loss: 0.187214\n",
      "Total training time: 0.00 seconds.\n",
      "-- Epoch 18\n",
      "Norm: 0.11, NNZs: 12, Bias: -0.449067, T: 108, Avg. loss: 0.184263\n",
      "Total training time: 0.00 seconds.\n",
      "-- Epoch 19\n",
      "Norm: 0.11, NNZs: 12, Bias: -0.464866, T: 114, Avg. loss: 0.177776\n",
      "Total training time: 0.00 seconds.\n",
      "-- Epoch 20\n",
      "Norm: 0.11, NNZs: 12, Bias: -0.477242, T: 120, Avg. loss: 0.177426\n",
      "Total training time: 0.00 seconds.\n",
      "-- Epoch 21\n",
      "Norm: 0.12, NNZs: 12, Bias: -0.488871, T: 126, Avg. loss: 0.170838\n",
      "Total training time: 0.00 seconds.\n",
      "-- Epoch 22\n",
      "Norm: 0.13, NNZs: 12, Bias: -0.501363, T: 132, Avg. loss: 0.169395\n",
      "Total training time: 0.00 seconds.\n",
      "-- Epoch 23\n",
      "Norm: 0.13, NNZs: 12, Bias: -0.514285, T: 138, Avg. loss: 0.164951\n",
      "Total training time: 0.00 seconds.\n",
      "-- Epoch 24\n",
      "Norm: 0.13, NNZs: 12, Bias: -0.524178, T: 144, Avg. loss: 0.165168\n",
      "Total training time: 0.00 seconds.\n",
      "Convergence after 24 epochs took 0.00 seconds\n",
      "-- Epoch 1\n",
      "Norm: 0.04, NNZs: 12, Bias: -0.023354, T: 19, Avg. loss: 0.698420\n",
      "Total training time: 0.00 seconds.\n",
      "-- Epoch 2\n",
      "Norm: 0.07, NNZs: 12, Bias: -0.046097, T: 38, Avg. loss: 0.761205\n",
      "Total training time: 0.00 seconds.\n",
      "Convergence after 2 epochs took 0.00 seconds\n",
      "-- Epoch 1\n",
      "Norm: 0.06, NNZs: 12, Bias: -0.016270, T: 33, Avg. loss: 0.476687\n",
      "Total training time: 0.00 seconds.\n",
      "-- Epoch 2\n",
      "Norm: 0.08, NNZs: 12, Bias: -0.002471, T: 66, Avg. loss: 0.546478\n",
      "Total training time: 0.00 seconds.\n",
      "Convergence after 2 epochs took 0.00 seconds\n",
      "-- Epoch 1\n",
      "Norm: 0.04, NNZs: 12, Bias: 0.022113, T: 47, Avg. loss: 0.430489\n",
      "Total training time: 0.00 seconds.\n",
      "-- Epoch 2\n",
      "Norm: 0.11, NNZs: 12, Bias: -0.029400, T: 94, Avg. loss: 0.399894\n",
      "Total training time: 0.00 seconds.\n",
      "-- Epoch 3\n",
      "Norm: 0.09, NNZs: 12, Bias: -0.042576, T: 141, Avg. loss: 0.437887\n",
      "Total training time: 0.00 seconds.\n",
      "Convergence after 3 epochs took 0.00 seconds\n",
      "-- Epoch 1\n",
      "Norm: 0.18, NNZs: 12, Bias: -0.009375, T: 61, Avg. loss: 0.379103\n",
      "Total training time: 0.00 seconds.\n",
      "-- Epoch 2\n",
      "Norm: 0.12, NNZs: 12, Bias: -0.042629, T: 122, Avg. loss: 0.399160\n",
      "Total training time: 0.00 seconds.\n",
      "Convergence after 2 epochs took 0.00 seconds\n"
     ]
    }
   ],
   "source": [
    "# 1. Generate the learning curve for poly_model\n",
    "#\n",
    "# Your code here\n",
    "train_sizes, train_scores, validation_scores = learning_curve(\n",
    "    poly_model, X_train_poly_scaled, y_train_scaled)\n",
    "\n",
    "# 2. Compute some stats\n",
    "#\n",
    "# Your code here\n",
    "train_scores_mean = np.mean(train_scores, axis=1)\n",
    "train_scores_std = np.std(train_scores, axis=1)\n",
    "validation_scores_mean = np.mean(validation_scores, axis=1)\n",
    "validation_scores_std = np.std(validation_scores, axis=1)"
   ]
  },
  {
   "cell_type": "code",
   "execution_count": 45,
   "metadata": {
    "slideshow": {
     "slide_type": "-"
    }
   },
   "outputs": [
    {
     "data": {
      "image/png": "[encoded data removed]",
      "text/plain": [
       "<matplotlib.figure.Figure at 0x1b5e4e53c50>"
      ]
     },
     "metadata": {},
     "output_type": "display_data"
    }
   ],
   "source": [
    "# 3. Plot the learning curve, along with the stats\n",
    "#\n",
    "# Your code here\n",
    "\n",
    "fig, ax = plt.subplots(figsize=(15, 8))\n",
    "plot_learning_curve(ax, 'Polynomial Model',\n",
    "                    train_sizes, train_scores, validation_scores)\n"
   ]
  },
  {
   "cell_type": "markdown",
   "metadata": {
    "slideshow": {
     "slide_type": "-"
    }
   },
   "source": [
    "## Observations\n",
    "\n",
    "The learning curves show:\n",
    "- Both models are underfit: the training scores are very low. \n",
    "  - Why? The data is quite dispersed, and linear regression is probably not a good way to model this \n",
    "- The polynomial model generalizes slightly better\n",
    "  - It has a narrower gap between training scores and validation scores\n",
    "\n",
    "![underfit](assets/training-basics/12-order-underfit.jpg)"
   ]
  },
  {
   "cell_type": "code",
   "execution_count": null,
   "metadata": {},
   "outputs": [],
   "source": []
  },
  {
   "cell_type": "markdown",
   "metadata": {
    "slideshow": {
     "slide_type": "slide"
    }
   },
   "source": [
    "# Cross Validation\n",
    "\n",
    "K-fold Cross Validation:\n",
    "1. Partition training samples into K equal-sized groups\n",
    "2. Pick a group for each training iteration:\n",
    " - train with the remaining K-1 groups\n",
    " - validate with this group"
   ]
  },
  {
   "cell_type": "markdown",
   "metadata": {
    "slideshow": {
     "slide_type": "slide"
    }
   },
   "source": [
    "![cv](https://upload.wikimedia.org/wikipedia/commons/1/1c/K-fold_cross_validation_EN.jpg)\n",
    "(image: wikipedia)"
   ]
  },
  {
   "cell_type": "markdown",
   "metadata": {
    "slideshow": {
     "slide_type": "slide"
    }
   },
   "source": [
    "Benefits:\n",
    "- Better measure of generalization than sticking to the same training set\n",
    "- Helps smaller datasets train better by varying training set\n",
    "\n",
    "More explanation: http://scikit-learn.org/stable/modules/cross_validation.html"
   ]
  },
  {
   "cell_type": "code",
   "execution_count": null,
   "metadata": {},
   "outputs": [],
   "source": []
  },
  {
   "cell_type": "markdown",
   "metadata": {
    "slideshow": {
     "slide_type": "slide"
    }
   },
   "source": [
    "# Regularization\n",
    "\n",
    "Regularization is applied when there is overfitting. \n",
    "\n",
    "- It's a heuristic.\n",
    "- Adds a large constant value $\\lambda$ * some aggregate of weights\n",
    "- Penalizes the weights, so that they won't fit as well to training data as models get more complicated\n",
    "\n",
    "L1 regularization:\n",
    "\n",
    "![l1](assets/training-basics/least_squares_l1.png)\n",
    "\n",
    "L2 regularization:\n",
    "\n",
    "![l2](assets/training-basics/least_squares_l2.png)\n",
    "\n",
    "(images: chioka.in)\n",
    "\n",
    "To illustrate this, let's try adding regularization to the Polynomial Model."
   ]
  },
  {
   "cell_type": "code",
   "execution_count": 44,
   "metadata": {},
   "outputs": [
    {
     "data": {
      "image/png": "[encoded data removed]",
      "text/plain": [
       "<matplotlib.figure.Figure at 0x1b5e4df0278>"
      ]
     },
     "metadata": {},
     "output_type": "display_data"
    }
   ],
   "source": [
    "fig, ax = plt.subplots(figsize=(20, 10))\n",
    "\n",
    "poly_model_l2 = SGDRegressor(penalty='l2',\n",
    "                             alpha=0.05,\n",
    "                             tol=1e-3,\n",
    "                             max_iter=1000,\n",
    "                             random_state=np.random.RandomState(123))\n",
    "    \n",
    "train_sizes_l2, train_scores_l2, validation_scores_l2 = learning_curve(\n",
    "    poly_model_l2, X_train_poly_scaled, y_train_scaled)\n",
    "\n",
    "plot_learning_curve(ax, 'Regularization Type: L2',\n",
    "                    train_sizes_l2, train_scores_l2, validation_scores_l2)"
   ]
  },
  {
   "cell_type": "markdown",
   "metadata": {
    "slideshow": {
     "slide_type": "slide"
    }
   },
   "source": [
    "# Reading List\n",
    "\n",
    "|Material|Read it for|URL|\n",
    "|--|--|--|\n",
    "|Chapter 8, Pages 290-296|Stochastic Gradient Descent Theory (*)|http://www.deeplearningbook.org/contents/optimization.html|\n",
    "|Chapter 5, Pages 107-119|Capacity, Overfitting and Underfitting|http://www.deeplearningbook.org/contents/ml.html|\n",
    "|scikit-learn: Stochastic Gradient Descent|How to use SGD|http://scikit-learn.org/stable/modules/sgd.html|\n",
    "|scikit-learn: Learning Curves|How to plot & interpret learning curves|http://scikit-learn.org/stable/auto_examples/model_selection/plot_learning_curve.html|\n",
    "|scikit-learn: Cross Validation|How to compute Cross Validation metrics|http://scikit-learn.org/stable/modules/cross_validation.html|\n",
    "\n",
    "(*)Note: in the book, the section on SGD is actually talking about \"Minibatch SGD\""
   ]
  },
  {
   "cell_type": "code",
   "execution_count": null,
   "metadata": {},
   "outputs": [],
   "source": []
  }
 ],
 "metadata": {
  "celltoolbar": "Slideshow",
  "kernelspec": {
   "display_name": "Python 3",
   "language": "python",
   "name": "python3"
  },
  "language_info": {
   "codemirror_mode": {
    "name": "ipython",
    "version": 3
   },
   "file_extension": ".py",
   "mimetype": "text/x-python",
   "name": "python",
   "nbconvert_exporter": "python",
   "pygments_lexer": "ipython3",
   "version": "3.6.4"
  },
  "livereveal": {
   "autolaunch": false,
   "overlay": "<div class='logo'><img src='assets/Stackup_Logo_Small.png' width='90%'/></div>"
  }
 },
 "nbformat": 4,
 "nbformat_minor": 2
}
