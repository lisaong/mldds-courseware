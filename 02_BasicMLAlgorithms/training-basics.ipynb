{
 "cells": [
  {
   "cell_type": "markdown",
   "metadata": {},
   "source": [
    "![training](assets/training-basics/puppy-training.jpg)\n",
    "\n",
    "(image: amazon)"
   ]
  },
  {
   "cell_type": "markdown",
   "metadata": {
    "slideshow": {
     "slide_type": "slide"
    }
   },
   "source": [
    "# Training basics"
   ]
  },
  {
   "cell_type": "markdown",
   "metadata": {
    "slideshow": {
     "slide_type": "slide"
    }
   },
   "source": [
    "Concepts in training models\n",
    "- Loss functions\n",
    "- Gradient descent\n",
    "- Overfitting, underfitting\n",
    "- Regularization\n",
    "- Cross-validation"
   ]
  },
  {
   "cell_type": "markdown",
   "metadata": {
    "slideshow": {
     "slide_type": "fragment"
    }
   },
   "source": [
    "Objective: a model that trains fast and performs well"
   ]
  },
  {
   "cell_type": "markdown",
   "metadata": {
    "slideshow": {
     "slide_type": "fragment"
    }
   },
   "source": [
    "Not an exhaustive list. We'll encounter more as we go over the different algorithms."
   ]
  },
  {
   "cell_type": "markdown",
   "metadata": {
    "slideshow": {
     "slide_type": "slide"
    }
   },
   "source": [
    "## 1. Loss Functions\n",
    "\n",
    "What they are: a metric of how far away the predictions are from the truth\n",
    "\n",
    "For example:\n",
    "\n",
    "![MSE](http://scikit-learn.org/stable/_images/math/44f36557fef9b30b077b21550490a1b9a0ade154.png)"
   ]
  },
  {
   "cell_type": "markdown",
   "metadata": {
    "slideshow": {
     "slide_type": "fragment"
    }
   },
   "source": [
    "a.k.a.:\n",
    "- Objective function\n",
    "- Cost function\n",
    "- Error function"
   ]
  },
  {
   "cell_type": "markdown",
   "metadata": {
    "slideshow": {
     "slide_type": "slide"
    }
   },
   "source": [
    "### Definitions\n",
    "\n",
    "$$x^* = \\arg \\min L(x)$$\n",
    "\n",
    "where $x^*$ = value that minimizes the loss function $L(x)$\n",
    "\n",
    "The process of finding $x^*$ is called \"Optimization\". It usually involves running some type of Gradient Descent. "
   ]
  },
  {
   "cell_type": "markdown",
   "metadata": {
    "slideshow": {
     "slide_type": "slide"
    }
   },
   "source": [
    "### Loss Function Examples\n",
    "\n",
    "Scikit-learn:\n",
    "- [Mean squared error](http://scikit-learn.org/stable/modules/model_evaluation.html#mean-squared-error): `sklearn.metrics.mean_squared_error(y_true, y_pred)`\n",
    "- [Log loss](http://scikit-learn.org/stable/modules/model_evaluation.html#log-loss): `sklearn.metrics.log_loss(y_true, y_pred)`\n",
    "- [Zero one loss](http://scikit-learn.org/stable/modules/generated/sklearn.metrics.zero_one_loss.html#sklearn.metrics.zero_one_loss)\n",
    "`sklearn.metrics.zero_one_loss(y_true, y_pred)`\n",
    "- etc\n",
    "\n",
    "Keras:\n",
    "- https://keras.io/losses/\n",
    "- `keras.losses.mean_squared_error(y_true, y_pred)`\n",
    "- `keras.losses.binary_crossentropy(y_true, y_pred)`\n",
    "- etc"
   ]
  },
  {
   "cell_type": "markdown",
   "metadata": {
    "slideshow": {
     "slide_type": "slide"
    }
   },
   "source": [
    "## 2. Gradient Descent\n",
    "\n",
    "What it is: technique for minimizing loss function for a given model\n",
    "\n",
    "Objective: find $w^*$ such that $$w^* = \\underset{w}\\arg \\min{L\\big(y_{true}, y_{pred}\\big)}$$\n",
    "\n",
    "$$w^* = \\underset{w}\\arg \\min{L\\big(y_{true}, f(x, w)\\big)}$$\n",
    "\n",
    "\n",
    "where\n",
    "- $L(...)$ is the loss function\n",
    "- $w$ are the weights\n",
    "- $f(x, w)$ is the model that computes $y_{pred}$"
   ]
  },
  {
   "cell_type": "markdown",
   "metadata": {
    "slideshow": {
     "slide_type": "slide"
    }
   },
   "source": [
    "### Gradient descent algorithm\n",
    "\n",
    "1. Initialize $w$ to some value (e.g. random)\n",
    "2. Compute gradient of $L\\big(y_{true}, f(x, w)\\big)$\n",
    "3. Update $w$ by a \"tiny factor\" in the negative of the gradient\n",
    "4. Repeat 2-3 until we reach the \"stopping criteria\" (more on this later)\n",
    "\n",
    "The \"tiny factor\" is known as the \"learning rate\""
   ]
  },
  {
   "cell_type": "markdown",
   "metadata": {
    "slideshow": {
     "slide_type": "slide"
    }
   },
   "source": [
    "### Workshop: Gradient descent. Animated\n",
    "\n",
    "![wake up](assets/training-basics/descend.jpg)\n",
    "\n",
    "(training incantation)"
   ]
  },
  {
   "cell_type": "markdown",
   "metadata": {
    "slideshow": {
     "slide_type": "slide"
    }
   },
   "source": [
    "### Environment Setup\n",
    "\n",
    "Create a new environment called `mldds02`. You may also reuse `mldds01`, but it's good to keep separate environments for different experiments.\n",
    "\n",
    "```\n",
    "conda create -n mldds02 python=3\n",
    "conda activate mldds02\n",
    "\n",
    "(mldds02) conda install jupyter numpy pandas matplotlib scikit-learn\n",
    "(mldds02) conda install -c conda-forge ffmpeg\n",
    "```"
   ]
  },
  {
   "cell_type": "code",
   "execution_count": null,
   "metadata": {
    "slideshow": {
     "slide_type": "-"
    }
   },
   "outputs": [],
   "source": [
    "# Credits: https://jed-ai.github.io/py1_gd_animation/\n",
    "\n",
    "import numpy as np\n",
    "import matplotlib.pyplot as plt\n",
    "\n",
    "\"\"\"Example gradient descent implementation\"\"\"\n",
    "\n",
    "def func_y(x):\n",
    "    \"\"\"A demonstrative loss function that happens to be convex (has global a minimum)\n",
    "    Args:\n",
    "        x - the input (can be the weights of a machine learning algorithm)\n",
    "    Returns:\n",
    "        The loss value\n",
    "    \"\"\"\n",
    "    return x**2 - 4*x + 2\n",
    "\n",
    "def gradient_func_y(x):\n",
    "    \"\"\"The gradient of func_y\n",
    "    Args:\n",
    "        x - the input\n",
    "    Returns:\n",
    "        The gradient value\n",
    "    \"\"\"\n",
    "    return 2*x - 4 # d(x^2 - 4x + 2)/dx = 2x - 4\n",
    "\n",
    "def gradient_descent(previous_x, learning_rate, epochs):\n",
    "    \"\"\"An implementation of gradient descent\n",
    "    Args:\n",
    "        previous_x - the previous input value\n",
    "        learning_rate - how much to change x per iteration\n",
    "        epochs - number of steps to run gradient descent\n",
    "    Returns:\n",
    "        A tuple: array of x values, array of loss values\n",
    "    \"\"\"\n",
    "    x_gd = []\n",
    "    y_gd = []\n",
    "    x_gd.append(previous_x)\n",
    "    y_gd.append(func_y(previous_x))\n",
    "    \n",
    "    # loop to update x and y\n",
    "    for i in range(epochs):\n",
    "        # x = lr * gradient(func(prev_x))\n",
    "        update = learning_rate *gradient_func_y(previous_x)\n",
    "        x = previous_x - update\n",
    "        print('step', i, 'previous x', previous_x,\n",
    "              'update:', -update, 'new x:', x)\n",
    "        x_gd.append(x)\n",
    "        y_gd.append(func_y(x))\n",
    "        \n",
    "        # update previous_x\n",
    "        previous_x = x\n",
    "    \n",
    "    return x_gd, y_gd"
   ]
  },
  {
   "cell_type": "markdown",
   "metadata": {
    "slideshow": {
     "slide_type": "-"
    }
   },
   "source": [
    "With gradient descent implemented, we'll will now run it."
   ]
  },
  {
   "cell_type": "code",
   "execution_count": null,
   "metadata": {
    "slideshow": {
     "slide_type": "-"
    }
   },
   "outputs": [],
   "source": [
    "x0 = 0.7\n",
    "learning_rate = 0.15\n",
    "epochs = 10\n",
    "\n",
    "x = np.arange(-1, 5, 0.01)\n",
    "y = func_y(x)\n",
    "x_gd, y_gd = gradient_descent(x0, learning_rate, epochs)"
   ]
  },
  {
   "cell_type": "markdown",
   "metadata": {
    "slideshow": {
     "slide_type": "-"
    }
   },
   "source": [
    "Plot the animation."
   ]
  },
  {
   "cell_type": "code",
   "execution_count": null,
   "metadata": {
    "slideshow": {
     "slide_type": "-"
    }
   },
   "outputs": [],
   "source": [
    "from matplotlib import animation, rc\n",
    "from IPython.display import HTML\n",
    "\n",
    "fig, ax = plt.subplots()\n",
    "ax.set_xlim([min(x), max(x)])\n",
    "ax.set_ylim([min(y)-1, max(y)+1])\n",
    "ax.plot(x, y, lw = 0.9, color = 'k')\n",
    "\n",
    "line, = ax.plot([], [], 'r', label = 'Gradient descent', lw = 1.5)\n",
    "point, = ax.plot([], [], 'bo', animated=True)\n",
    "value_display = ax.text(0.02, 0.02, '', transform=ax.transAxes)\n",
    "\n",
    "def init():\n",
    "    \"\"\"Initializes the animation\"\"\"\n",
    "    line.set_data([], [])\n",
    "    point.set_data([], [])\n",
    "    value_display.set_text('')\n",
    "\n",
    "    return line, point, value_display\n",
    "\n",
    "def animate(i):\n",
    "    \"\"\"Animates the plot at step i\n",
    "    Args:\n",
    "        i: the step to animate\n",
    "        return: a tuple of line, point, and value_display\n",
    "    \"\"\"\n",
    "    # Animate line\n",
    "    line.set_data(x_gd[:i], y_gd[:i])\n",
    "    \n",
    "    # Animate points\n",
    "    point.set_data(x_gd[i], y_gd[i])\n",
    "\n",
    "    # Animate value display\n",
    "    value_display.set_text('Min = ' + str(y_gd[i]))\n",
    "\n",
    "    return line, point, value_display\n",
    "\n",
    "# call the animator\n",
    "rc('animation', html='html5')\n",
    "anim = FuncAnimation(fig, animate, init_func=init,\n",
    "                     frames=len(x_gd), interval=360,\n",
    "                     repeat_delay=60, blit=True)\n",
    "\n",
    "# display the video\n",
    "HTML(anim.to_html5_video())"
   ]
  },
  {
   "cell_type": "markdown",
   "metadata": {
    "slideshow": {
     "slide_type": "-"
    }
   },
   "source": [
    "### Exercises\n",
    "\n",
    "1. Try initializing x0 to something > 2, what do you observe?\n",
    "2. Try increasing the learning_rate to something large like 10. Does the gradient still converge?\n",
    "3. Replace func_y and gradient_func_y above with a cubic function. What do you observe?\n",
    "  ```\n",
    "  y = x^3 - 5x^2 + x + 1\n",
    "  gradient(y) = 3x^2 - 10x + 1\n",
    "  ```\n",
    "4. Replace func_y and gradient_func_y with `cos(x)` and its derivative `-sin(x)`. What do you observe?  What needs to reach convergence?\n",
    "  ```\n",
    "  y = np.tan(x)\n",
    "  gradient(y) = -np.sin(x)\n",
    "  ```\n",
    "  \n",
    "Derivative formulas: https://www.derivative-calculator.net/"
   ]
  },
  {
   "cell_type": "markdown",
   "metadata": {
    "slideshow": {
     "slide_type": "slide"
    }
   },
   "source": [
    "### Gradient Descent Variants\n",
    "\n",
    "1. Stochastic Gradient Descent (SGD)\n",
    "2. Minibatch SGD\n",
    "3. Minibatch SGD with Momentum\n",
    "4. Adaptive Learning Rates"
   ]
  },
  {
   "cell_type": "markdown",
   "metadata": {
    "slideshow": {
     "slide_type": "slide"
    }
   },
   "source": [
    "### Stochastic Gradient Descent\n",
    "\n",
    "\"Regular\" Gradient Descent is expensive because it processes all samples at once\n",
    "- Imagine you have millions of training samples\n",
    "\n",
    "Stochastic Gradient Descent speeds this up by:\n",
    "- Running gradient descent, one randomly selected training sample at a time\n",
    "- Stochastic: random noise, because samples can vary a lot"
   ]
  },
  {
   "cell_type": "markdown",
   "metadata": {
    "slideshow": {
     "slide_type": "slide"
    }
   },
   "source": [
    "### Notation\n",
    "\n",
    "$\\leftarrow$ = replace value\n",
    "Some texts use this symbol $:=$\n",
    "\n",
    "Examples\n",
    "- $\\theta \\leftarrow \\theta - \\epsilon g$\n",
    "- $\\theta := \\theta - \\epsilon g$\n",
    "\n",
    "Means\n",
    "1. Compute $\\theta' = \\theta - \\epsilon g$\n",
    "2. Update $\\theta = \\theta'$"
   ]
  },
  {
   "cell_type": "markdown",
   "metadata": {
    "slideshow": {
     "slide_type": "slide"
    }
   },
   "source": [
    "![sgd](assets/training-basics/sgd.png)"
   ]
  },
  {
   "cell_type": "markdown",
   "metadata": {
    "slideshow": {
     "slide_type": "slide"
    }
   },
   "source": [
    "Symbols:\n",
    "- The $\\eta_t$ denotes the learning rate\n",
    "- Note: $\\Theta$ is denotes the weights matrix\n",
    "\n",
    "(image: Neural Networks in Natural Language Processing, Goldberg, 2017)"
   ]
  },
  {
   "cell_type": "markdown",
   "metadata": {
    "slideshow": {
     "slide_type": "slide"
    }
   },
   "source": [
    "### Minibatch Stochastic Gradient Descent\n",
    "\n",
    "Instead of 1 random sample at a time:\n",
    "- Sample a \"minibatch\" of m training samples\n",
    "- Run gradient descent on that minibatch\n",
    "- \"Smooths\" out the randomness by operating on a minibatch.\n",
    "- The minibatch size can be tuned (\"hyperparameter\")"
   ]
  },
  {
   "cell_type": "markdown",
   "metadata": {
    "slideshow": {
     "slide_type": "slide"
    }
   },
   "source": [
    "![minibatch sgd](assets/training-basics/minibatch-sgd.png)"
   ]
  },
  {
   "cell_type": "markdown",
   "metadata": {
    "slideshow": {
     "slide_type": "slide"
    }
   },
   "source": [
    "Symbols:\n",
    "- $\\epsilon_k$ denotes the learning rate\n",
    "- $\\theta$ denotes the weights matrix\n",
    "- $\\nabla_{\\theta}$ means gradient w.r.t. $\\theta$\n",
    "\n",
    "(image: Deep Learning, Goodfellow, 2016)"
   ]
  },
  {
   "cell_type": "markdown",
   "metadata": {
    "slideshow": {
     "slide_type": "slide"
    }
   },
   "source": [
    "### Minibatch SGD, with momentum\n",
    "\n",
    "Speeds up minibatch SGD by:\n",
    "- Applying an exponentially decaying moving average of the previous gradients ($v$)\n",
    "  - if gradients point the same way, will reach minimum faster\n",
    "- Minibatch SGD: $\\theta \\leftarrow \\theta - \\epsilon g$\n",
    "- Minibatch SGD + momentum: $\\theta \\leftarrow \\theta - \\epsilon g + \\alpha v$, $v \\leftarrow v - \\epsilon g$\n",
    "\n",
    "Variant: Nesterov's momentum"
   ]
  },
  {
   "cell_type": "markdown",
   "metadata": {
    "slideshow": {
     "slide_type": "slide"
    }
   },
   "source": [
    "![minibatch sgd with momentum](assets/training-basics/minibatch-sgd-momentum.png)\n",
    "\n",
    "(image: Deep Learning, Goodfellow, 2016)"
   ]
  },
  {
   "cell_type": "markdown",
   "metadata": {
    "slideshow": {
     "slide_type": "slide"
    }
   },
   "source": [
    "### Adaptive Learning Rate Strategies\n",
    "\n",
    "- Learning rate will control the amount of gradient update\n",
    "  - Large learning rate: risk overshoot and not converge\n",
    "  - Small learning rate: too slow\n",
    "  - Ideal: start large(r), then reduce as we get closer to minima\n",
    "- Strategies\n",
    "  - Constant learning rate\n",
    "  - Time-based or step-based decay\n",
    "  - AdaGrad\n",
    "  - RMSProp\n",
    "  - Adam\n",
    "- What works best depends on your domain (true for **any** optimization)"
   ]
  },
  {
   "cell_type": "markdown",
   "metadata": {
    "slideshow": {
     "slide_type": "slide"
    }
   },
   "source": [
    "![Comparison](https://3qeqpr26caki16dnhd19sv6by6v-wpengine.netdna-ssl.com/wp-content/uploads/2017/05/Comparison-of-Adam-to-Other-Optimization-Algorithms-Training-a-Multilayer-Perceptron.png)\n",
    "\n",
    "(image: [machine learning mastery](https://machinelearningmastery.com/adam-optimization-algorithm-for-deep-learning)"
   ]
  },
  {
   "cell_type": "markdown",
   "metadata": {
    "slideshow": {
     "slide_type": "slide"
    }
   },
   "source": [
    "![Another comparison](http://scikit-learn.org/stable/_images/sphx_glr_plot_mlp_training_curves_001.png)\n",
    "\n",
    "(image: [scikit-learn](http://scikit-learn.org/stable/auto_examples/neural_networks/plot_mlp_training_curves.html))"
   ]
  },
  {
   "cell_type": "code",
   "execution_count": null,
   "metadata": {
    "slideshow": {
     "slide_type": "slide"
    }
   },
   "outputs": [],
   "source": []
  },
  {
   "cell_type": "markdown",
   "metadata": {
    "slideshow": {
     "slide_type": "slide"
    }
   },
   "source": [
    "## Overfitting and Underfitting"
   ]
  },
  {
   "cell_type": "markdown",
   "metadata": {
    "slideshow": {
     "slide_type": "slide"
    }
   },
   "source": [
    "### Generalization\n",
    "\n",
    "- Model is trained based on the training set\n",
    "- Generalization is evaluated on the test set\n",
    "\n",
    "Generalization: \"How well does model work, on inputs not seen during training\""
   ]
  },
  {
   "cell_type": "markdown",
   "metadata": {
    "slideshow": {
     "slide_type": "slide"
    }
   },
   "source": [
    "### Goals of training a model\n",
    "1. Minimize training error\n",
    "2. Minimize gap between test error and training error. (the \"generalization gap\")\n",
    "\n",
    "(Reference: Deep Learning - Goodfellow, Bengio, Courville, MIT press, 2016)"
   ]
  },
  {
   "cell_type": "markdown",
   "metadata": {
    "slideshow": {
     "slide_type": "slide"
    }
   },
   "source": [
    "### Underfitting, Overfitting\n",
    "\n",
    "1. A model is set to \"underfit\" if the training error is too large\n",
    "2. A model is set to \"overfit\" if the gap between test and training error is too large\n",
    "\n",
    "A good-fit model: neither underfit nor overfit (Goldilocks and the Three Bears)"
   ]
  },
  {
   "cell_type": "markdown",
   "metadata": {
    "slideshow": {
     "slide_type": "slide"
    }
   },
   "source": [
    "### Underfit\n",
    "\n",
    "A model is set to \"underfit\" if the training error is too large\n",
    "  - Means model does not work\n",
    "  - It learnt nothing\n",
    "  - Mode has \"high bias\""
   ]
  },
  {
   "cell_type": "markdown",
   "metadata": {
    "slideshow": {
     "slide_type": "slide"
    }
   },
   "source": [
    "### Overfit\n",
    "\n",
    "A model is set to \"overfit\" if the gap between test and training error is too large\n",
    "  - Means model does not generalize well\n",
    "  - It only learnt the training set (or learnt too much training set noise)\n",
    "  - Model has \"high variance\""
   ]
  },
  {
   "cell_type": "markdown",
   "metadata": {
    "slideshow": {
     "slide_type": "slide"
    }
   },
   "source": [
    "![comics](https://imgs.xkcd.com/comics/linear_regression.png)\n",
    "\n",
    "(image: xkcd)"
   ]
  },
  {
   "cell_type": "markdown",
   "metadata": {
    "slideshow": {
     "slide_type": "slide"
    }
   },
   "source": [
    "### How to fix Underfitting\n",
    "\n",
    "Symptom: model did not train well\n",
    "\n",
    "Potential cures:\n",
    "- More data\n",
    "- More features and/or different features\n",
    "- Different algorithms"
   ]
  },
  {
   "cell_type": "markdown",
   "metadata": {
    "slideshow": {
     "slide_type": "slide"
    }
   },
   "source": [
    "### How to fix Overfitting\n",
    "\n",
    "Symptom: model trained well, but did not test well\n",
    "\n",
    "Potential cures:\n",
    "- Early stoppping\n",
    "- Fewer features\n",
    "- Regularization\n",
    "- Cross Validation"
   ]
  },
  {
   "cell_type": "markdown",
   "metadata": {
    "slideshow": {
     "slide_type": "slide"
    }
   },
   "source": [
    "## Workshop: SGD, Overfitting, Underfitting\n",
    "\n",
    "In this workshop, we will try to fit a more complex linear regression model.\n",
    "\n",
    "We'll explore the following concepts:\n",
    "- Loss functions\n",
    "- Stochastic Gradient Descent\n",
    "- Underfitting and Overfitting\n",
    "\n",
    "Inspiration:\n",
    "https://sdsawtelle.github.io/blog/output/week6-andrew-ng-machine-learning-with-python.html"
   ]
  },
  {
   "cell_type": "markdown",
   "metadata": {
    "slideshow": {
     "slide_type": "slide"
    }
   },
   "source": [
    "### Prediction Tasks\n",
    "\n",
    "We'll try to fit a curve to predict, for recent Singapore University Graduates:\n",
    "```\n",
    "y: Gross Monthly Median Salary (S$)\n",
    "x: Overall Employment Rate (%)\n",
    "```\n",
    "\n",
    "To illustrate underfitting/overfitting, we'll explore:\n",
    "- A first-order linear model: $y = w^Tx$\n",
    "- A linear model with polynomial features\n",
    "$$y = w^TX$$\n",
    "where $X = [1, x, x^2, x^3, ...]$\n",
    "\n",
    "We'll also explore different loss functions and plotting of loss curves during training."
   ]
  },
  {
   "cell_type": "markdown",
   "metadata": {
    "slideshow": {
     "slide_type": "slide"
    }
   },
   "source": [
    "### Dataset(s)\n",
    "\n",
    "1. Download this dataset: https://data.gov.sg/dataset/graduate-employment-survey-ntu-nus-sit-smu-sutd\n",
    "2. Unzip it and note the path for use in `pandas.read_csv`"
   ]
  },
  {
   "cell_type": "code",
   "execution_count": 2,
   "metadata": {
    "slideshow": {
     "slide_type": "-"
    }
   },
   "outputs": [],
   "source": [
    "import pandas as pd\n",
    "import matplotlib.pyplot as plt\n",
    "import numpy as np"
   ]
  },
  {
   "cell_type": "markdown",
   "metadata": {
    "slideshow": {
     "slide_type": "-"
    }
   },
   "source": [
    "### 1. Data Transformation and Cleaning\n",
    "\n",
    "The first step is to inspect the data to see what transformation/cleaning is needed."
   ]
  },
  {
   "cell_type": "code",
   "execution_count": 32,
   "metadata": {
    "slideshow": {
     "slide_type": "-"
    }
   },
   "outputs": [
    {
     "data": {
      "text/plain": [
       "Index(['year', 'university', 'school', 'degree', 'employment_rate_overall',\n",
       "       'employment_rate_permanent', 'basic_monthly_mean',\n",
       "       'basic_monthly_median', 'gross_monthly_mean', 'gross_monthly_median',\n",
       "       'gross_mthly_25_percentile', 'gross_mthly_75_percentile'],\n",
       "      dtype='object')"
      ]
     },
     "execution_count": 32,
     "metadata": {},
     "output_type": "execute_result"
    }
   ],
   "source": [
    "# ISO-8859-1 encoding is needed\n",
    "#   UnicodeDecodeError: 'utf-8' codec can't decode byte 0xe4 in position 20: invalid continuation byte\n",
    "\n",
    "df = pd.read_csv('D:/tmp/graduate-employment-survey-ntu-nus-sit-smu-sutd/graduate-employment-survey-ntu-nus-sit-smu-sutd.csv',\n",
    "                 encoding='ISO-8859-1')\n",
    "\n",
    "df.columns"
   ]
  },
  {
   "cell_type": "markdown",
   "metadata": {
    "slideshow": {
     "slide_type": "-"
    }
   },
   "source": [
    "The columns to inspect are:\n",
    "- employment_rate_overall\n",
    "- gross_monthly_median\n",
    "\n",
    "We are looking for:\n",
    "- invalid values\n",
    "- data types to transform to numeric\n",
    "- feature ranges"
   ]
  },
  {
   "cell_type": "code",
   "execution_count": 34,
   "metadata": {},
   "outputs": [
    {
     "name": "stdout",
     "output_type": "stream",
     "text": [
      "              year\n",
      "count   289.000000\n",
      "mean   2014.034602\n",
      "std       0.789809\n",
      "min    2013.000000\n",
      "25%    2013.000000\n",
      "50%    2014.000000\n",
      "75%    2015.000000\n",
      "max    2015.000000\n",
      "\n",
      "['97.4' '97.1' '90.9' '87.5' '95.3' '81.3' '87.3' '90.3' '94.8' '92.1'\n",
      " '91' '84' '85.7' '82.5' '91.6' '95.6' '81.6' '85.1' '89.4' '89.9' '82.7'\n",
      " '90.6' '82.4' '74.4' 'na' '90.7' '78.6' '79.8' '86' '80.8' '68.2' '100'\n",
      " '84.8' '86.6' '88.1' '88.7' '94.6' '93.3' '97.2' '88.9' '92.4' '89.2'\n",
      " '82.1' '96.8' '74' '93.2' '96.1' '88.5' '86.2' '93.8' '93.9' '89.1'\n",
      " '98.8' '97.5' '97.3' '80.9' '83.6' '96.4' '94.2' '95.2' '95.9' '94'\n",
      " '93.6' '86.5' '98.2' '96.6' '89.6' '92.9' '84.6' '83.8' '91.4' '94.5'\n",
      " '90.2' '92.5' '80' '86.8' '86.7' '87' '66.7' '73.2' '75.1' '80.5' '88.4'\n",
      " '91.3' '73.7' '87.9' '81.9' '83.1' '94.4' '95.5' '98.4' '77.3' '93.1'\n",
      " '83.9' '96.5' '90' '76.8' '98.9' '97.8' '97.7' '90.1' '92.6' '75' '89.3'\n",
      " '88' '92.3' '93' '88.8' '98.6' '92.2' '88.6' '89.7' '82.9' '95' '79.3'\n",
      " '81.8' '87.4' '73.3' '74.6' '83' '88.2' '96' '97.6' '97' '72' '94.3'\n",
      " '91.8' '82.6' '83.3' '96.9' '85.2' '84.3' '99' '71.9' '98.3' '89' '80.3']\n"
     ]
    }
   ],
   "source": [
    "# the sample size is fairly small, we can inspect using .unique()\n",
    "print(df.describe())\n",
    "print('')\n",
    "print(df.employment_rate_overall.unique())"
   ]
  },
  {
   "cell_type": "markdown",
   "metadata": {
    "slideshow": {
     "slide_type": "-"
    }
   },
   "source": [
    "`employment_rate_overall` column\n",
    "- invalid values: yes, there is an 'na' value above\n",
    "- data type is object (these are string values)\n",
    "  - need to transform to numbers\n",
    "  - How: use [pandas.to_numeric](https://pandas.pydata.org/pandas-docs/stable/generated/pandas.to_numeric.html) to convert to numbers\n",
    "- range: 0-100"
   ]
  },
  {
   "cell_type": "markdown",
   "metadata": {
    "slideshow": {
     "slide_type": "-"
    }
   },
   "source": [
    "If the dataset is large, it is hard to find the 'na' values.\n",
    "\n",
    "A quick test is to try converting the column first, to see if errors appear."
   ]
  },
  {
   "cell_type": "code",
   "execution_count": 35,
   "metadata": {
    "scrolled": true
   },
   "outputs": [
    {
     "ename": "ValueError",
     "evalue": "Unable to parse string \"na\" at position 24",
     "output_type": "error",
     "traceback": [
      "\u001b[1;31m---------------------------------------------------------------------------\u001b[0m",
      "\u001b[1;31mValueError\u001b[0m                                Traceback (most recent call last)",
      "\u001b[1;32mpandas/_libs/src\\inference.pyx\u001b[0m in \u001b[0;36mpandas._libs.lib.maybe_convert_numeric\u001b[1;34m()\u001b[0m\n",
      "\u001b[1;31mValueError\u001b[0m: Unable to parse string \"na\"",
      "\nDuring handling of the above exception, another exception occurred:\n",
      "\u001b[1;31mValueError\u001b[0m                                Traceback (most recent call last)",
      "\u001b[1;32m<ipython-input-35-3e37e865ba71>\u001b[0m in \u001b[0;36m<module>\u001b[1;34m()\u001b[0m\n\u001b[1;32m----> 1\u001b[1;33m \u001b[0mpd\u001b[0m\u001b[1;33m.\u001b[0m\u001b[0mto_numeric\u001b[0m\u001b[1;33m(\u001b[0m\u001b[0mdf\u001b[0m\u001b[1;33m.\u001b[0m\u001b[0memployment_rate_overall\u001b[0m\u001b[1;33m)\u001b[0m \u001b[1;31m# see if we get parse errors\u001b[0m\u001b[1;33m\u001b[0m\u001b[0m\n\u001b[0m",
      "\u001b[1;32m~\\AppData\\Local\\Continuum\\miniconda3\\envs\\mldds02\\lib\\site-packages\\pandas\\core\\tools\\numeric.py\u001b[0m in \u001b[0;36mto_numeric\u001b[1;34m(arg, errors, downcast)\u001b[0m\n\u001b[0;32m    131\u001b[0m             \u001b[0mcoerce_numeric\u001b[0m \u001b[1;33m=\u001b[0m \u001b[1;32mFalse\u001b[0m \u001b[1;32mif\u001b[0m \u001b[0merrors\u001b[0m \u001b[1;32min\u001b[0m \u001b[1;33m(\u001b[0m\u001b[1;34m'ignore'\u001b[0m\u001b[1;33m,\u001b[0m \u001b[1;34m'raise'\u001b[0m\u001b[1;33m)\u001b[0m \u001b[1;32melse\u001b[0m \u001b[1;32mTrue\u001b[0m\u001b[1;33m\u001b[0m\u001b[0m\n\u001b[0;32m    132\u001b[0m             values = lib.maybe_convert_numeric(values, set(),\n\u001b[1;32m--> 133\u001b[1;33m                                                coerce_numeric=coerce_numeric)\n\u001b[0m\u001b[0;32m    134\u001b[0m \u001b[1;33m\u001b[0m\u001b[0m\n\u001b[0;32m    135\u001b[0m     \u001b[1;32mexcept\u001b[0m \u001b[0mException\u001b[0m\u001b[1;33m:\u001b[0m\u001b[1;33m\u001b[0m\u001b[0m\n",
      "\u001b[1;32mpandas/_libs/src\\inference.pyx\u001b[0m in \u001b[0;36mpandas._libs.lib.maybe_convert_numeric\u001b[1;34m()\u001b[0m\n",
      "\u001b[1;31mValueError\u001b[0m: Unable to parse string \"na\" at position 24"
     ]
    }
   ],
   "source": [
    "pd.to_numeric(df.employment_rate_overall) # see if we get parse errors"
   ]
  },
  {
   "cell_type": "markdown",
   "metadata": {
    "slideshow": {
     "slide_type": "-"
    }
   },
   "source": [
    "We will be using the `errors='coerce'` option in [pandas.to_numeric](https://pandas.pydata.org/pandas-docs/stable/generated/pandas.to_numeric.html) when we do the actual conversion."
   ]
  },
  {
   "cell_type": "code",
   "execution_count": 36,
   "metadata": {},
   "outputs": [
    {
     "data": {
      "text/plain": [
       "0       97.4\n",
       "1       97.1\n",
       "2       90.9\n",
       "3       87.5\n",
       "4       95.3\n",
       "5       81.3\n",
       "6       87.3\n",
       "7       90.3\n",
       "8       94.8\n",
       "9       92.1\n",
       "10      91.0\n",
       "11      84.0\n",
       "12      85.7\n",
       "13      82.5\n",
       "14      91.6\n",
       "15      95.6\n",
       "16      81.6\n",
       "17      85.1\n",
       "18      89.4\n",
       "19      89.9\n",
       "20      82.7\n",
       "21      90.6\n",
       "22      82.4\n",
       "23      74.4\n",
       "24       NaN\n",
       "25      90.7\n",
       "26      78.6\n",
       "27      79.8\n",
       "28       NaN\n",
       "29      86.0\n",
       "       ...  \n",
       "259    100.0\n",
       "260     83.3\n",
       "261     96.9\n",
       "262    100.0\n",
       "263     97.3\n",
       "264    100.0\n",
       "265     82.4\n",
       "266      NaN\n",
       "267     85.2\n",
       "268     84.3\n",
       "269     83.9\n",
       "270      NaN\n",
       "271     99.0\n",
       "272     71.9\n",
       "273     97.3\n",
       "274     97.7\n",
       "275     93.9\n",
       "276     98.3\n",
       "277     90.3\n",
       "278     98.2\n",
       "279     94.8\n",
       "280     97.4\n",
       "281     89.0\n",
       "282     93.1\n",
       "283     99.0\n",
       "284    100.0\n",
       "285     92.5\n",
       "286     80.3\n",
       "287     86.0\n",
       "288      NaN\n",
       "Name: employment_rate_overall, Length: 289, dtype: float64"
      ]
     },
     "execution_count": 36,
     "metadata": {},
     "output_type": "execute_result"
    }
   ],
   "source": [
    "pd.to_numeric(df.employment_rate_overall, errors='coerce') # 'na' becomes NaN"
   ]
  },
  {
   "cell_type": "markdown",
   "metadata": {
    "slideshow": {
     "slide_type": "-"
    }
   },
   "source": [
    "The `gross_monthly_median` column is handled the same way.\n",
    "\n",
    "Let's now perform the data transformation and cleaning."
   ]
  },
  {
   "cell_type": "code",
   "execution_count": 37,
   "metadata": {
    "slideshow": {
     "slide_type": "-"
    }
   },
   "outputs": [
    {
     "data": {
      "text/html": [
       "<div>\n",
       "<style scoped>\n",
       "    .dataframe tbody tr th:only-of-type {\n",
       "        vertical-align: middle;\n",
       "    }\n",
       "\n",
       "    .dataframe tbody tr th {\n",
       "        vertical-align: top;\n",
       "    }\n",
       "\n",
       "    .dataframe thead th {\n",
       "        text-align: right;\n",
       "    }\n",
       "</style>\n",
       "<table border=\"1\" class=\"dataframe\">\n",
       "  <thead>\n",
       "    <tr style=\"text-align: right;\">\n",
       "      <th></th>\n",
       "      <th>gross_monthly_median</th>\n",
       "      <th>employment_rate_overall</th>\n",
       "    </tr>\n",
       "  </thead>\n",
       "  <tbody>\n",
       "    <tr>\n",
       "      <th>0</th>\n",
       "      <td>3350.0</td>\n",
       "      <td>97.4</td>\n",
       "    </tr>\n",
       "    <tr>\n",
       "      <th>1</th>\n",
       "      <td>2700.0</td>\n",
       "      <td>97.1</td>\n",
       "    </tr>\n",
       "    <tr>\n",
       "      <th>2</th>\n",
       "      <td>3000.0</td>\n",
       "      <td>90.9</td>\n",
       "    </tr>\n",
       "    <tr>\n",
       "      <th>3</th>\n",
       "      <td>3400.0</td>\n",
       "      <td>87.5</td>\n",
       "    </tr>\n",
       "    <tr>\n",
       "      <th>4</th>\n",
       "      <td>3500.0</td>\n",
       "      <td>95.3</td>\n",
       "    </tr>\n",
       "  </tbody>\n",
       "</table>\n",
       "</div>"
      ],
      "text/plain": [
       "   gross_monthly_median  employment_rate_overall\n",
       "0                3350.0                     97.4\n",
       "1                2700.0                     97.1\n",
       "2                3000.0                     90.9\n",
       "3                3400.0                     87.5\n",
       "4                3500.0                     95.3"
      ]
     },
     "execution_count": 37,
     "metadata": {},
     "output_type": "execute_result"
    }
   ],
   "source": [
    "# transform string to numbers, forcing invalid values to float NaN\n",
    "data = {\n",
    "    'gross_monthly_median': pd.to_numeric(df.gross_monthly_median, errors='coerce'),\n",
    "    'employment_rate_overall': pd.to_numeric(df.employment_rate_overall, errors='coerce')\n",
    "}\n",
    "\n",
    "# drop NaNs\n",
    "df_dataset = pd.DataFrame(data).dropna()\n",
    "\n",
    "df_dataset.head()"
   ]
  },
  {
   "cell_type": "markdown",
   "metadata": {
    "slideshow": {
     "slide_type": "-"
    }
   },
   "source": [
    "### Visualize Dataset\n",
    "Let's plot the dataset to visualize our data.\n",
    "\n",
    "We'll use a scatter plot."
   ]
  },
  {
   "cell_type": "code",
   "execution_count": 38,
   "metadata": {},
   "outputs": [
    {
     "data": {
      "image/png": "[encoded data removed]",
      "text/plain": [
       "<Figure size 1080x576 with 1 Axes>"
      ]
     },
     "metadata": {},
     "output_type": "display_data"
    }
   ],
   "source": [
    "fig, ax = plt.subplots(figsize=(15, 8))\n",
    "\n",
    "ax.scatter(df_dataset.employment_rate_overall, df_dataset.gross_monthly_median)\n",
    "\n",
    "ax.set(title='Gross Monthly Median Income and Employment Rate for Recent University Graduates',\n",
    "       xlabel='Employment Rate (%)',\n",
    "       ylabel='Gross Monthly Median Income (S$)')\n",
    "ax.grid()"
   ]
  },
  {
   "cell_type": "markdown",
   "metadata": {
    "slideshow": {
     "slide_type": "slide"
    }
   },
   "source": [
    "Inspecting the plot above, we can roughly make out a curve through it."
   ]
  },
  {
   "cell_type": "markdown",
   "metadata": {
    "slideshow": {
     "slide_type": "slide"
    }
   },
   "source": [
    "### 2. Feature selection\n",
    "    \n",
    "#### Inputs\n",
    "\n",
    "|Feature|Description|Column name|Transformation before model input?|\n",
    "|--|--|--|\n",
    "|$x_1$|Overall Employment Rate (%)|employment_rate_overall|pd.to_numeric|\n",
    "\n",
    "#### Outputs\n",
    "\n",
    "|Output|Description|Truth column|Transformation from model output?|\n",
    "|--|--|--|\n",
    "|$\\hat{y}$|Predicted Gross Monthly Medium Income S\\$|$y$ = gross_monthly_median|None, output will stay numeric|"
   ]
  },
  {
   "cell_type": "code",
   "execution_count": 39,
   "metadata": {
    "slideshow": {
     "slide_type": "-"
    }
   },
   "outputs": [
    {
     "name": "stdout",
     "output_type": "stream",
     "text": [
      "X.shape: (264,)\n",
      "y.shape: (264,)\n"
     ]
    }
   ],
   "source": [
    "# Prepare the numpy arrays for use with sklearn\n",
    "X = df_dataset.loc[:, 'employment_rate_overall']\n",
    "print('X.shape:', X.shape)\n",
    "\n",
    "y = df_dataset.loc[:, 'gross_monthly_median']\n",
    "print('y.shape:', y.shape)"
   ]
  },
  {
   "cell_type": "markdown",
   "metadata": {
    "slideshow": {
     "slide_type": "-"
    }
   },
   "source": [
    "### 3. Model creation and training, and validation\n",
    "\n",
    "In this section, we will\n",
    "1. Shuffle and then split dataset into train and test\n",
    "2. Perform feature scaling\n",
    "3. Train and validate our models"
   ]
  },
  {
   "cell_type": "markdown",
   "metadata": {
    "slideshow": {
     "slide_type": "-"
    }
   },
   "source": [
    "### Dataset shuffling and train-test-split\n",
    "\n",
    "In a previous workshop, we did the randomization and train-test split manually. \n",
    "\n",
    "Turns out, [sklearn.model_selection.train_test_split](http://scikit-learn.org/stable/modules/generated/sklearn.model_selection.train_test_split.html) can do this for us."
   ]
  },
  {
   "cell_type": "code",
   "execution_count": 40,
   "metadata": {
    "slideshow": {
     "slide_type": "-"
    }
   },
   "outputs": [
    {
     "data": {
      "text/plain": [
       "26     78.6\n",
       "5      81.3\n",
       "181    75.0\n",
       "29     86.0\n",
       "225    74.6\n",
       "Name: employment_rate_overall, dtype: float64"
      ]
     },
     "execution_count": 40,
     "metadata": {},
     "output_type": "execute_result"
    }
   ],
   "source": [
    "from sklearn.model_selection import train_test_split\n",
    "\n",
    "# train-test split, witholding 15% for test data\n",
    "# shuffle=True is the default\n",
    "X_train, X_test, y_train, y_test = train_test_split(X, y, test_size=0.1)\n",
    "\n",
    "X_train.head() # view the shuffled dataset"
   ]
  },
  {
   "cell_type": "markdown",
   "metadata": {
    "slideshow": {
     "slide_type": "-"
    }
   },
   "source": [
    "### Feature scaling\n",
    "\n",
    "Since we are using Stochastic Gradient Descent, we are recommended to scale the features between [0, 1] or [-1, 1].\n",
    "- See [Tips on Practical Use for SGDRegressor](http://scikit-learn.org/stable/modules/sgd.html#tips-on-practical-use).\n",
    "\n",
    "- Scaling subtracts the mean and divides by the standard deviation\n",
    "- We will scale both the input and output values, using [sklearn.preprocessing.StandardScaler](http://scikit-learn.org/stable/modules/generated/sklearn.preprocessing.StandardScaler.html#sklearn.preprocessing.StandardScaler)\n",
    "- In both cases (input and output), the mean and standard deviation will be based on the training set only. This way we don't look at the test set. "
   ]
  },
  {
   "cell_type": "code",
   "execution_count": 41,
   "metadata": {
    "slideshow": {
     "slide_type": "-"
    }
   },
   "outputs": [],
   "source": [
    "from sklearn.preprocessing import StandardScaler\n",
    "\n",
    "# We train the scaler based on the training set, and use\n",
    "# it for both the training and test sets\n",
    "#\n",
    "# Reason: the test set shouldn't pollute the dataset\n",
    "x_scaler = StandardScaler()\n",
    "x_scaler.fit(X_train.values.reshape(-1, 1)) # must be 2D array\n",
    "X_train_scaled = x_scaler.transform(X_train.values.reshape(-1, 1))\n",
    "X_test_scaled = x_scaler.transform(X_test.values.reshape(-1, 1))\n",
    "\n",
    "y_scaler = StandardScaler()\n",
    "y_scaler.fit(y_train.values.reshape(-1, 1))\n",
    "y_train_scaled = y_scaler.transform(y_train.values.reshape(-1, 1))[:, 0]\n",
    "y_test_scaled = y_scaler.transform(y_test.values.reshape(-1, 1))[:, 0]"
   ]
  },
  {
   "cell_type": "code",
   "execution_count": 42,
   "metadata": {
    "slideshow": {
     "slide_type": "-"
    }
   },
   "outputs": [
    {
     "data": {
      "text/plain": [
       "26     78.6\n",
       "5      81.3\n",
       "181    75.0\n",
       "29     86.0\n",
       "225    74.6\n",
       "Name: employment_rate_overall, dtype: float64"
      ]
     },
     "execution_count": 42,
     "metadata": {},
     "output_type": "execute_result"
    }
   ],
   "source": [
    "X_train.head() # before scaling"
   ]
  },
  {
   "cell_type": "code",
   "execution_count": 43,
   "metadata": {},
   "outputs": [
    {
     "data": {
      "text/plain": [
       "array([[-1.64742398],\n",
       "       [-1.27029573],\n",
       "       [-2.15026165],\n",
       "       [-0.61381321],\n",
       "       [-2.2061325 ]])"
      ]
     },
     "execution_count": 43,
     "metadata": {},
     "output_type": "execute_result"
    }
   ],
   "source": [
    "X_train_scaled[:5] # after scaling (showing first 5 values)"
   ]
  },
  {
   "cell_type": "code",
   "execution_count": 44,
   "metadata": {},
   "outputs": [
    {
     "data": {
      "text/plain": [
       "26     3000.0\n",
       "5      3125.0\n",
       "181    2800.0\n",
       "29     3000.0\n",
       "225    3190.0\n",
       "Name: gross_monthly_median, dtype: float64"
      ]
     },
     "execution_count": 44,
     "metadata": {},
     "output_type": "execute_result"
    }
   ],
   "source": [
    "y_train.head() # before scaling"
   ]
  },
  {
   "cell_type": "code",
   "execution_count": 45,
   "metadata": {},
   "outputs": [
    {
     "data": {
      "text/plain": [
       "array([-0.57884103, -0.32666583, -0.98232135, -0.57884103, -0.19553473])"
      ]
     },
     "execution_count": 45,
     "metadata": {},
     "output_type": "execute_result"
    }
   ],
   "source": [
    "y_train_scaled[:5] # after scaling (showing first 5 values)"
   ]
  },
  {
   "cell_type": "markdown",
   "metadata": {
    "slideshow": {
     "slide_type": "-"
    }
   },
   "source": [
    "### Underfit Model: First Order Linear Regressor\n",
    "\n",
    "For the first order linear regressor, we'll use `sklearn.linear_model.SGDRegressor` with the dataset above."
   ]
  },
  {
   "cell_type": "code",
   "execution_count": 46,
   "metadata": {},
   "outputs": [],
   "source": [
    "from sklearn.linear_model import SGDRegressor\n",
    "\n",
    "# help me obi wan\n",
    "SGDRegressor?"
   ]
  },
  {
   "cell_type": "code",
   "execution_count": 49,
   "metadata": {},
   "outputs": [
    {
     "name": "stdout",
     "output_type": "stream",
     "text": [
      "-- Epoch 1\n",
      "Norm: 0.20, NNZs: 1, Bias: -0.005374, T: 237, Avg. loss: 0.465057\n",
      "Total training time: 0.00 seconds.\n",
      "-- Epoch 2\n",
      "Norm: 0.27, NNZs: 1, Bias: -0.001588, T: 474, Avg. loss: 0.441730\n",
      "Total training time: 0.00 seconds.\n",
      "-- Epoch 3\n",
      "Norm: 0.31, NNZs: 1, Bias: 0.000993, T: 711, Avg. loss: 0.436031\n",
      "Total training time: 0.00 seconds.\n",
      "-- Epoch 4\n",
      "Norm: 0.33, NNZs: 1, Bias: 0.001266, T: 948, Avg. loss: 0.434182\n",
      "Total training time: 0.00 seconds.\n",
      "-- Epoch 5\n",
      "Norm: 0.34, NNZs: 1, Bias: -0.000474, T: 1185, Avg. loss: 0.433263\n",
      "Total training time: 0.00 seconds.\n",
      "Convergence after 5 epochs took 0.00 seconds\n",
      "Wall time: 976 µs\n",
      "Coefficient [0.34020701]\n",
      "Intercept [-0.00047361]\n"
     ]
    }
   ],
   "source": [
    "model = SGDRegressor(verbose=1,\n",
    "                     loss='squared_loss', # mean squared loss\n",
    "                     penalty='none', # no regularization\n",
    "                     max_iter=100,\n",
    "                     tol=1e-3, # stopping condition\n",
    "                     eta0=0.01, # initial learning rate\n",
    "                     learning_rate='invscaling') # learning rate schedule\n",
    "%time model.fit(X_train_scaled, y_train_scaled)\n",
    "\n",
    "print('Coefficient', model.coef_)\n",
    "print('Intercept', model.intercept_)"
   ]
  },
  {
   "cell_type": "markdown",
   "metadata": {
    "slideshow": {
     "slide_type": "-"
    }
   },
   "source": [
    "#### Model Validation\n",
    "\n",
    "Let's validate our model's performance by computing metrics and plotting the linear model."
   ]
  },
  {
   "cell_type": "code",
   "execution_count": 50,
   "metadata": {
    "slideshow": {
     "slide_type": "-"
    }
   },
   "outputs": [
    {
     "name": "stdout",
     "output_type": "stream",
     "text": [
      "Truth: [-1.38580166  0.1050581  -0.17536072 -0.57884103 -0.78058119  1.43856054\n",
      " -1.28493158  0.42985976  0.42985976  0.02637944  0.02637944  0.63159991\n",
      "  0.02637944  0.42985976  0.02637944 -0.17536072 -0.1592215  -1.58754182\n",
      "  2.91328109  0.42985976  0.83334007  1.43856054  0.42985976  2.44726133\n",
      "  0.27855464 -0.17536072 -0.57884103]\n",
      "Predictions: [ 0.00929087  0.00929087  0.19936742  0.38944398  0.45597077  0.45597077\n",
      " -0.39462181  0.45597077 -0.20929717 -0.30908736  0.08056958  0.17085594\n",
      " -0.56093879 -0.48015626 -0.0144687  -0.07149167  0.31816527 -0.06198784\n",
      "  0.40845164 -0.00496487 -0.20929717  0.06631384 -0.00971679  0.45597077\n",
      "  0.09482532  0.45597077 -0.0477321 ]\n",
      "MSE: 0.9298009781718912\n",
      "R2: 0.07393405288024835\n"
     ]
    }
   ],
   "source": [
    "from sklearn.metrics import mean_squared_error, r2_score\n",
    "\n",
    "pred_scaled = model.predict(X_test_scaled)\n",
    "print('Truth:', y_test_scaled)\n",
    "print('Predictions:', pred_scaled)\n",
    "\n",
    "# Compute metrics\n",
    "print('MSE:', mean_squared_error(y_test_scaled, pred_scaled))\n",
    "print('R2:', r2_score(y_test_scaled, pred_scaled))"
   ]
  },
  {
   "cell_type": "markdown",
   "metadata": {
    "slideshow": {
     "slide_type": "-"
    }
   },
   "source": [
    "#### Model Visualization\n",
    "\n",
    "We'll visualize the entire dataset (train + test), by plotting the data as a sactter plot, and the linear function as a curve or line.\n",
    "\n",
    "The model needs to be called with pre- and post-processing stages:\n",
    "1. Scale the input\n",
    "2. Call `predict`\n",
    "3. Unscale the output\n",
    "\n",
    "In both steps, we'll use the already-fitted scalers from previously. This ensures that the pre- and post-processing matches exactly with how the model was trained."
   ]
  },
  {
   "cell_type": "code",
   "execution_count": 51,
   "metadata": {
    "slideshow": {
     "slide_type": "-"
    }
   },
   "outputs": [
    {
     "data": {
      "text/plain": [
       "<matplotlib.legend.Legend at 0x23f2fa60ba8>"
      ]
     },
     "execution_count": 51,
     "metadata": {},
     "output_type": "execute_result"
    },
    {
     "data": {
      "image/png": "[encoded data removed]",
      "text/plain": [
       "<Figure size 1080x576 with 1 Axes>"
      ]
     },
     "metadata": {},
     "output_type": "display_data"
    }
   ],
   "source": [
    "# First, call the model in 3 stages\n",
    "# 1. Pre-process the input\n",
    "X_scaled = x_scaler.transform(X.values.reshape(-1, 1))\n",
    "\n",
    "# 2. Predict\n",
    "y_pred_scaled = model.predict(X_scaled)\n",
    "\n",
    "# 3. Post-process the output\n",
    "y_pred = y_scaler.inverse_transform(y_pred_scaled)\n",
    "\n",
    "# Finally, plot dataset and predictions\n",
    "fig, ax = plt.subplots(figsize=(15, 8))\n",
    "ax.scatter(X.values, y, label='truth')\n",
    "ax.plot(X.values, y_pred, label='predictions', color='orange')\n",
    "\n",
    "ax.set(title='Gross Monthly Median Income and Employment Rate: First-Order Model',\n",
    "       xlabel='Employment Rate (%)',\n",
    "       ylabel='Gross Monthly Median Income (S$)')\n",
    "\n",
    "ax.grid()\n",
    "ax.legend()"
   ]
  },
  {
   "cell_type": "markdown",
   "metadata": {},
   "source": [
    "### Overfit Model: Polynomial Regression\n",
    "\n",
    "Now that we've seen how poorly an underfit model does, let's go to the other extreme.\n",
    "\n",
    "To generate polynomial features from x (Employment Rate), we use [sklearn.preprocessing.PolynomialFeatures](http://scikit-learn.org/stable/modules/generated/sklearn.preprocessing.PolynomialFeatures.html)"
   ]
  },
  {
   "cell_type": "code",
   "execution_count": 52,
   "metadata": {},
   "outputs": [],
   "source": [
    "from sklearn.preprocessing import PolynomialFeatures\n",
    "\n",
    "PolynomialFeatures?"
   ]
  },
  {
   "cell_type": "code",
   "execution_count": 53,
   "metadata": {},
   "outputs": [],
   "source": [
    "poly = PolynomialFeatures(12)\n",
    "poly.fit(X_train.values.reshape(-1, 1))\n",
    "\n",
    "X_train_poly = poly.transform(X_train.values.reshape(-1, 1))\n",
    "X_test_poly = poly.transform(X_test.values.reshape(-1, 1))\n",
    "\n",
    "# Scale the features back to SGD happy ranges ([-1, 1])\n",
    "x_scaler_poly = StandardScaler()\n",
    "x_scaler_poly.fit(X_train_poly)\n",
    "X_train_poly_scaled = x_scaler_poly.transform(X_train_poly)\n",
    "X_test_poly_scaled = x_scaler_poly.transform(X_test_poly)"
   ]
  },
  {
   "cell_type": "code",
   "execution_count": 54,
   "metadata": {
    "slideshow": {
     "slide_type": "-"
    }
   },
   "outputs": [
    {
     "name": "stdout",
     "output_type": "stream",
     "text": [
      "-- Epoch 1\n",
      "Norm: 0.16, NNZs: 12, Bias: 0.017291, T: 237, Avg. loss: 0.436670\n",
      "Total training time: 0.00 seconds.\n",
      "-- Epoch 2\n",
      "Norm: 0.15, NNZs: 12, Bias: 0.012020, T: 474, Avg. loss: 0.423364\n",
      "Total training time: 0.00 seconds.\n",
      "-- Epoch 3\n",
      "Norm: 0.19, NNZs: 12, Bias: 0.009794, T: 711, Avg. loss: 0.419714\n",
      "Total training time: 0.00 seconds.\n",
      "-- Epoch 4\n",
      "Norm: 0.20, NNZs: 12, Bias: 0.008047, T: 948, Avg. loss: 0.415184\n",
      "Total training time: 0.00 seconds.\n",
      "-- Epoch 5\n",
      "Norm: 0.20, NNZs: 12, Bias: 0.006417, T: 1185, Avg. loss: 0.414084\n",
      "Total training time: 0.00 seconds.\n",
      "-- Epoch 6\n",
      "Norm: 0.22, NNZs: 12, Bias: 0.003014, T: 1422, Avg. loss: 0.409613\n",
      "Total training time: 0.00 seconds.\n",
      "-- Epoch 7\n",
      "Norm: 0.25, NNZs: 12, Bias: 0.000924, T: 1659, Avg. loss: 0.410150\n",
      "Total training time: 0.00 seconds.\n",
      "Convergence after 7 epochs took 0.00 seconds\n",
      "Wall time: 2 ms\n",
      "Coefficients [ 0.         -0.05081796 -0.03340165 -0.01568185  0.00213474  0.01987312\n",
      "  0.03738906  0.05456642  0.07131359  0.08755983  0.10325176  0.11835036\n",
      "  0.13282834]\n",
      "Intercept [0.00092403]\n"
     ]
    }
   ],
   "source": [
    "model = SGDRegressor(verbose=1,\n",
    "                     loss='squared_loss', # mean squared loss\n",
    "                     penalty='none', # no regularization\n",
    "                     max_iter=100,\n",
    "                     tol=1e-4, # stopping condition\n",
    "                     eta0=0.01, # initial learning rate\n",
    "                     learning_rate='invscaling') # learning rate schedule\n",
    "%time model.fit(X_train_poly_scaled, y_train_scaled)\n",
    "\n",
    "print('Coefficients', model.coef_)\n",
    "print('Intercept', model.intercept_)"
   ]
  },
  {
   "cell_type": "markdown",
   "metadata": {
    "slideshow": {
     "slide_type": "-"
    }
   },
   "source": [
    "### Exercise: Model Validation and Visualization\n",
    "\n",
    "Follow the pattern above to validate and visualize the new model.\n",
    "\n",
    "This means two tasks:\n",
    "1. Computing metrics\n",
    "2. Plotting the curve (hint: use a scatter plot for both)"
   ]
  },
  {
   "cell_type": "code",
   "execution_count": 55,
   "metadata": {
    "slideshow": {
     "slide_type": "-"
    }
   },
   "outputs": [
    {
     "name": "stdout",
     "output_type": "stream",
     "text": [
      "Truth: [-1.38580166  0.1050581  -0.17536072 -0.57884103 -0.78058119  1.43856054\n",
      " -1.28493158  0.42985976  0.42985976  0.02637944  0.02637944  0.63159991\n",
      "  0.02637944  0.42985976  0.02637944 -0.17536072 -0.1592215  -1.58754182\n",
      "  2.91328109  0.42985976  0.83334007  1.43856054  0.42985976  2.44726133\n",
      "  0.27855464 -0.17536072 -0.57884103]\n",
      "Predictions: [-0.17675092 -0.17675092  0.19404733  0.75259472  1.00580751  1.00580751\n",
      " -0.57517978  1.00580751 -0.44237854 -0.52237153 -0.05579161  0.12802155\n",
      " -0.64481229 -0.61583536 -0.21285326 -0.29167802  0.51681821 -0.27927351\n",
      "  0.82149922 -0.19865205 -0.44237854 -0.08157957 -0.20579213  1.00580751\n",
      " -0.02916244  1.00580751 -0.26012857]\n",
      "MSE: 0.9463726735557915\n",
      "R2: 0.057428926362480315\n"
     ]
    }
   ],
   "source": [
    "# Compute metrics\n",
    "\n",
    "# Your code here\n",
    "\n",
    "pred_scaled = model.predict(X_test_poly_scaled)\n",
    "print('Truth:', y_test_scaled)\n",
    "print('Predictions:', pred_scaled)\n",
    "\n",
    "# Compute metrics\n",
    "print('MSE:', mean_squared_error(y_test_scaled, pred_scaled))\n",
    "print('R2:', r2_score(y_test_scaled, pred_scaled))"
   ]
  },
  {
   "cell_type": "code",
   "execution_count": 56,
   "metadata": {
    "slideshow": {
     "slide_type": "-"
    }
   },
   "outputs": [
    {
     "data": {
      "text/plain": [
       "<matplotlib.legend.Legend at 0x23f30ca06d8>"
      ]
     },
     "execution_count": 56,
     "metadata": {},
     "output_type": "execute_result"
    },
    {
     "data": {
      "image/png": "[encoded data removed]",
      "text/plain": [
       "<Figure size 1080x576 with 1 Axes>"
      ]
     },
     "metadata": {},
     "output_type": "display_data"
    }
   ],
   "source": [
    "# Plot curve\n",
    "\n",
    "# First, call the model in 3 stages\n",
    "# 1. Pre-process the input\n",
    "X_poly = poly.transform(X.values.reshape(-1, 1))\n",
    "X_poly_scaled = x_scaler_poly.transform(X_poly)\n",
    "\n",
    "# 2. Predict\n",
    "y_pred_scaled = model.predict(X_poly_scaled)\n",
    "\n",
    "# 3. Post-process the output\n",
    "y_pred = y_scaler.inverse_transform(y_pred_scaled)\n",
    "\n",
    "# Finally, plot dataset and predictions\n",
    "fig, ax = plt.subplots(figsize=(15, 8))\n",
    "ax.scatter(X.values, y, label='truth')\n",
    "ax.scatter(X.values, y_pred, label='predictions', color='orange')\n",
    "\n",
    "ax.set(title='Gross Monthly Median Income and Employment Rate: 6 Degree Model',\n",
    "       xlabel='Employment Rate (%)',\n",
    "       ylabel='Gross Monthly Median Income (S$)')\n",
    "\n",
    "ax.grid()\n",
    "ax.legend()"
   ]
  },
  {
   "cell_type": "code",
   "execution_count": null,
   "metadata": {
    "slideshow": {
     "slide_type": "-"
    }
   },
   "outputs": [],
   "source": []
  },
  {
   "cell_type": "code",
   "execution_count": null,
   "metadata": {
    "slideshow": {
     "slide_type": "-"
    }
   },
   "outputs": [],
   "source": []
  },
  {
   "cell_type": "markdown",
   "metadata": {
    "slideshow": {
     "slide_type": "slide"
    }
   },
   "source": [
    "## Regularization"
   ]
  },
  {
   "cell_type": "markdown",
   "metadata": {
    "slideshow": {
     "slide_type": "slide"
    }
   },
   "source": [
    "## Cross Validation"
   ]
  },
  {
   "cell_type": "code",
   "execution_count": null,
   "metadata": {
    "slideshow": {
     "slide_type": "slide"
    }
   },
   "outputs": [],
   "source": []
  },
  {
   "cell_type": "markdown",
   "metadata": {
    "slideshow": {
     "slide_type": "slide"
    }
   },
   "source": [
    "### Reading List\n",
    "\n",
    "|Material|Read it for|URL|\n",
    "|--|--|--|\n",
    "|Chapter 8, Pages 290-296|Stochastic Gradient Descent Theory|http://www.deeplearningbook.org/contents/optimization.html|\n",
    "|Chapter 5, Pages 107-119|Capacity, Overfitting and Underfitting|http://www.deeplearningbook.org/contents/ml.html|\n",
    "|scikit-learn: Section 1.5 Stochastic Gradient Descent|User guide for sklearn with SGD|http://scikit-learn.org/stable/modules/sgd.html|\n",
    "\n",
    "Note: in the book, the section on SGD is actually talking about \"Minibatch SGD\""
   ]
  },
  {
   "cell_type": "code",
   "execution_count": null,
   "metadata": {},
   "outputs": [],
   "source": []
  }
 ],
 "metadata": {
  "celltoolbar": "Slideshow",
  "kernelspec": {
   "display_name": "Python 3",
   "language": "python",
   "name": "python3"
  },
  "language_info": {
   "codemirror_mode": {
    "name": "ipython",
    "version": 3
   },
   "file_extension": ".py",
   "mimetype": "text/x-python",
   "name": "python",
   "nbconvert_exporter": "python",
   "pygments_lexer": "ipython3",
   "version": "3.6.5"
  },
  "livereveal": {
   "autolaunch": false,
   "overlay": "<div class='logo'><img src='assets/Stackup_Logo_Small.png' width='90%'/></div>"
  }
 },
 "nbformat": 4,
 "nbformat_minor": 2
}
