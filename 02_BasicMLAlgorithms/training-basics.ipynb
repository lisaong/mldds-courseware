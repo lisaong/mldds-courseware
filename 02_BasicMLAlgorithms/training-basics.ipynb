{
 "cells": [
  {
   "cell_type": "markdown",
   "metadata": {},
   "source": [
    "![training](assets/training-basics/puppy-training.jpg)\n",
    "\n",
    "(image: amazon)"
   ]
  },
  {
   "cell_type": "markdown",
   "metadata": {
    "slideshow": {
     "slide_type": "slide"
    }
   },
   "source": [
    "# Training basics"
   ]
  },
  {
   "cell_type": "markdown",
   "metadata": {
    "slideshow": {
     "slide_type": "slide"
    }
   },
   "source": [
    "Concepts in training models\n",
    "- Loss functions\n",
    "- Gradient descent\n",
    "- Overfitting, underfitting\n",
    "- Regularization\n",
    "- Cross-validation"
   ]
  },
  {
   "cell_type": "markdown",
   "metadata": {
    "slideshow": {
     "slide_type": "fragment"
    }
   },
   "source": [
    "Objective: a model that trains fast and performs well"
   ]
  },
  {
   "cell_type": "markdown",
   "metadata": {
    "slideshow": {
     "slide_type": "fragment"
    }
   },
   "source": [
    "Not an exhaustive list. We'll encounter more as we go over the different algorithms."
   ]
  },
  {
   "cell_type": "markdown",
   "metadata": {
    "slideshow": {
     "slide_type": "slide"
    }
   },
   "source": [
    "## 1. Loss Functions\n",
    "\n",
    "What they are: a metric of how far away the predictions are from the truth\n",
    "\n",
    "For example:\n",
    "\n",
    "![MSE](http://scikit-learn.org/stable/_images/math/44f36557fef9b30b077b21550490a1b9a0ade154.png)"
   ]
  },
  {
   "cell_type": "markdown",
   "metadata": {
    "slideshow": {
     "slide_type": "fragment"
    }
   },
   "source": [
    "a.k.a.:\n",
    "- Objective function\n",
    "- Cost function\n",
    "- Error function"
   ]
  },
  {
   "cell_type": "markdown",
   "metadata": {
    "slideshow": {
     "slide_type": "slide"
    }
   },
   "source": [
    "### Definitions\n",
    "\n",
    "$$x^* = \\arg \\min L(x)$$\n",
    "\n",
    "where $x^*$ = value that minimizes the loss function $L(x)$\n",
    "\n",
    "The process of finding $x^*$ is called \"Optimization\". It usually involves running some type of Gradient Descent. "
   ]
  },
  {
   "cell_type": "markdown",
   "metadata": {
    "slideshow": {
     "slide_type": "slide"
    }
   },
   "source": [
    "### Loss Function Examples\n",
    "\n",
    "Scikit-learn:\n",
    "- [Mean squared error](http://scikit-learn.org/stable/modules/model_evaluation.html#mean-squared-error): `sklearn.metrics.mean_squared_error(y_true, y_pred)`\n",
    "- [Log loss](http://scikit-learn.org/stable/modules/model_evaluation.html#log-loss): `sklearn.metrics.log_loss(y_true, y_pred)`\n",
    "- [Zero one loss](http://scikit-learn.org/stable/modules/generated/sklearn.metrics.zero_one_loss.html#sklearn.metrics.zero_one_loss)\n",
    "`sklearn.metrics.zero_one_loss(y_true, y_pred)`\n",
    "- etc\n",
    "\n",
    "Keras:\n",
    "- https://keras.io/losses/\n",
    "- `keras.losses.mean_squared_error(y_true, y_pred)`\n",
    "- `keras.losses.binary_crossentropy(y_true, y_pred)`\n",
    "- etc"
   ]
  },
  {
   "cell_type": "markdown",
   "metadata": {
    "slideshow": {
     "slide_type": "slide"
    }
   },
   "source": [
    "## 2. Gradient Descent\n",
    "\n",
    "What it is: technique for minimizing loss function for a given model\n",
    "\n",
    "Objective: find $w^*$ such that $$w^* = \\underset{w}\\arg \\min{L\\big(y_{true}, y_{pred}\\big)}$$\n",
    "\n",
    "$$w^* = \\underset{w}\\arg \\min{L\\big(y_{true}, f(x, w)\\big)}$$\n",
    "\n",
    "\n",
    "where\n",
    "- $L(...)$ is the loss function\n",
    "- $w$ are the weights\n",
    "- $f(x, w)$ is the model that computes $y_{pred}$"
   ]
  },
  {
   "cell_type": "markdown",
   "metadata": {
    "slideshow": {
     "slide_type": "slide"
    }
   },
   "source": [
    "### Gradient descent algorithm\n",
    "\n",
    "1. Initialize $w$ to some value (e.g. random)\n",
    "2. Compute gradient of $L\\big(y_{true}, f(x, w)\\big)$\n",
    "3. Update $w$ by a \"tiny factor\" in the negative of the gradient\n",
    "4. Repeat 2-3 until we reach the \"stopping criteria\" (more on this later)\n",
    "\n",
    "The \"tiny factor\" is known as the \"learning rate\""
   ]
  },
  {
   "cell_type": "markdown",
   "metadata": {
    "slideshow": {
     "slide_type": "slide"
    }
   },
   "source": [
    "### Workshop: Gradient descent. Animated\n",
    "\n",
    "![wake up](assets/training-basics/descend.jpg)\n",
    "\n",
    "(training incantation)"
   ]
  },
  {
   "cell_type": "markdown",
   "metadata": {
    "slideshow": {
     "slide_type": "slide"
    }
   },
   "source": [
    "### Environment Setup\n",
    "\n",
    "Create a new environment called `mldds02`. You may also reuse `mldds01`, but it's good to keep separate environments for different experiments.\n",
    "\n",
    "```\n",
    "conda create -n mldds02 python=3\n",
    "conda activate mldds02\n",
    "\n",
    "(mldds02) conda install jupyter numpy pandas matplotlib scikit-learn\n",
    "(mldds02) conda install -c conda-forge ffmpeg\n",
    "```"
   ]
  },
  {
   "cell_type": "code",
   "execution_count": null,
   "metadata": {
    "slideshow": {
     "slide_type": "-"
    }
   },
   "outputs": [],
   "source": [
    "# Credits: https://jed-ai.github.io/py1_gd_animation/\n",
    "\n",
    "import numpy as np\n",
    "import matplotlib.pyplot as plt\n",
    "\n",
    "\"\"\"Example gradient descent implementation\"\"\"\n",
    "\n",
    "def func_y(x):\n",
    "    \"\"\"A demonstrative loss function that happens to be convex (has global a minimum)\n",
    "    Args:\n",
    "        x - the input (can be the weights of a machine learning algorithm)\n",
    "    Returns:\n",
    "        The loss value\n",
    "    \"\"\"\n",
    "    return x**2 - 4*x + 2\n",
    "\n",
    "def gradient_func_y(x):\n",
    "    \"\"\"The gradient of func_y\n",
    "    Args:\n",
    "        x - the input\n",
    "    Returns:\n",
    "        The gradient value\n",
    "    \"\"\"\n",
    "    return 2*x - 4 # d(x^2 - 4x + 2)/dx = 2x - 4\n",
    "\n",
    "def gradient_descent(previous_x, learning_rate, epochs):\n",
    "    \"\"\"An implementation of gradient descent\n",
    "    Args:\n",
    "        previous_x - the previous input value\n",
    "        learning_rate - how much to change x per iteration\n",
    "        epochs - number of steps to run gradient descent\n",
    "    Returns:\n",
    "        A tuple: array of x values, array of loss values\n",
    "    \"\"\"\n",
    "    x_gd = []\n",
    "    y_gd = []\n",
    "    x_gd.append(previous_x)\n",
    "    y_gd.append(func_y(previous_x))\n",
    "    \n",
    "    # loop to update x and y\n",
    "    for i in range(epochs):\n",
    "        # x = lr * gradient(func(prev_x))\n",
    "        update = learning_rate *gradient_func_y(previous_x)\n",
    "        x = previous_x - update\n",
    "        print('step', i, 'previous x', previous_x,\n",
    "              'update:', -update, 'new x:', x)\n",
    "        x_gd.append(x)\n",
    "        y_gd.append(func_y(x))\n",
    "        \n",
    "        # update previous_x\n",
    "        previous_x = x\n",
    "    \n",
    "    return x_gd, y_gd"
   ]
  },
  {
   "cell_type": "markdown",
   "metadata": {
    "slideshow": {
     "slide_type": "-"
    }
   },
   "source": [
    "With gradient descent implemented, we'll will now run it."
   ]
  },
  {
   "cell_type": "code",
   "execution_count": null,
   "metadata": {
    "slideshow": {
     "slide_type": "-"
    }
   },
   "outputs": [],
   "source": [
    "x0 = 0.7\n",
    "learning_rate = 0.15\n",
    "epochs = 10\n",
    "\n",
    "x = np.arange(-1, 5, 0.01)\n",
    "y = func_y(x)\n",
    "x_gd, y_gd = gradient_descent(x0, learning_rate, epochs)"
   ]
  },
  {
   "cell_type": "markdown",
   "metadata": {
    "slideshow": {
     "slide_type": "-"
    }
   },
   "source": [
    "Plot the animation."
   ]
  },
  {
   "cell_type": "code",
   "execution_count": null,
   "metadata": {
    "slideshow": {
     "slide_type": "-"
    }
   },
   "outputs": [],
   "source": [
    "from matplotlib import animation, rc\n",
    "from IPython.display import HTML\n",
    "\n",
    "fig, ax = plt.subplots()\n",
    "ax.set_xlim([min(x), max(x)])\n",
    "ax.set_ylim([min(y)-1, max(y)+1])\n",
    "ax.plot(x, y, lw = 0.9, color = 'k')\n",
    "\n",
    "line, = ax.plot([], [], 'r', label = 'Gradient descent', lw = 1.5)\n",
    "point, = ax.plot([], [], 'bo', animated=True)\n",
    "value_display = ax.text(0.02, 0.02, '', transform=ax.transAxes)\n",
    "\n",
    "def init():\n",
    "    \"\"\"Initializes the animation\"\"\"\n",
    "    line.set_data([], [])\n",
    "    point.set_data([], [])\n",
    "    value_display.set_text('')\n",
    "\n",
    "    return line, point, value_display\n",
    "\n",
    "def animate(i):\n",
    "    \"\"\"Animates the plot at step i\n",
    "    Args:\n",
    "        i: the step to animate\n",
    "        return: a tuple of line, point, and value_display\n",
    "    \"\"\"\n",
    "    # Animate line\n",
    "    line.set_data(x_gd[:i], y_gd[:i])\n",
    "    \n",
    "    # Animate points\n",
    "    point.set_data(x_gd[i], y_gd[i])\n",
    "\n",
    "    # Animate value display\n",
    "    value_display.set_text('Min = ' + str(y_gd[i]))\n",
    "\n",
    "    return line, point, value_display\n",
    "\n",
    "# call the animator\n",
    "rc('animation', html='html5')\n",
    "anim = FuncAnimation(fig, animate, init_func=init,\n",
    "                     frames=len(x_gd), interval=360,\n",
    "                     repeat_delay=60, blit=True)\n",
    "\n",
    "# display the video\n",
    "HTML(anim.to_html5_video())"
   ]
  },
  {
   "cell_type": "markdown",
   "metadata": {
    "slideshow": {
     "slide_type": "-"
    }
   },
   "source": [
    "### Exercises\n",
    "\n",
    "1. Try initializing x0 to something > 2, what do you observe?\n",
    "2. Try increasing the learning_rate to something large like 10. Does the gradient still converge?\n",
    "3. Replace func_y and gradient_func_y above with a cubic function. What do you observe?\n",
    "  ```\n",
    "  y = x^3 - 5x^2 + x + 1\n",
    "  gradient(y) = 3x^2 - 10x + 1\n",
    "  ```\n",
    "4. Replace func_y and gradient_func_y with `cos(x)` and its derivative `-sin(x)`. What do you observe?  What needs to reach convergence?\n",
    "  ```\n",
    "  y = np.tan(x)\n",
    "  gradient(y) = -np.sin(x)\n",
    "  ```\n",
    "  \n",
    "Derivative formulas: https://www.derivative-calculator.net/"
   ]
  },
  {
   "cell_type": "markdown",
   "metadata": {
    "slideshow": {
     "slide_type": "slide"
    }
   },
   "source": [
    "### Gradient Descent Variants\n",
    "\n",
    "1. Stochastic Gradient Descent (SGD)\n",
    "2. Minibatch SGD\n",
    "3. Minibatch SGD with Momentum\n",
    "4. Adaptive Learning Rates"
   ]
  },
  {
   "cell_type": "markdown",
   "metadata": {
    "slideshow": {
     "slide_type": "slide"
    }
   },
   "source": [
    "### Stochastic Gradient Descent\n",
    "\n",
    "\"Regular\" Gradient Descent is expensive because it processes all samples at once\n",
    "- Imagine you have millions of training samples\n",
    "\n",
    "Stochastic Gradient Descent speeds this up by:\n",
    "- Running gradient descent, one randomly selected training sample at a time\n",
    "- Stochastic: random noise, because samples can vary a lot"
   ]
  },
  {
   "cell_type": "markdown",
   "metadata": {
    "slideshow": {
     "slide_type": "slide"
    }
   },
   "source": [
    "### Notation\n",
    "\n",
    "$\\leftarrow$ = replace value\n",
    "Some texts use this symbol $:=$\n",
    "\n",
    "Examples\n",
    "- $\\theta \\leftarrow \\theta - \\epsilon g$\n",
    "- $\\theta := \\theta - \\epsilon g$\n",
    "\n",
    "Means\n",
    "1. Compute $\\theta' = \\theta - \\epsilon g$\n",
    "2. Update $\\theta = \\theta'$"
   ]
  },
  {
   "cell_type": "markdown",
   "metadata": {
    "slideshow": {
     "slide_type": "slide"
    }
   },
   "source": [
    "![sgd](assets/training-basics/sgd.png)"
   ]
  },
  {
   "cell_type": "markdown",
   "metadata": {
    "slideshow": {
     "slide_type": "slide"
    }
   },
   "source": [
    "Symbols:\n",
    "- The $\\eta_t$ denotes the learning rate\n",
    "- Note: $\\Theta$ is denotes the weights matrix\n",
    "\n",
    "(image: Neural Networks in Natural Language Processing, Goldberg, 2017)"
   ]
  },
  {
   "cell_type": "markdown",
   "metadata": {
    "slideshow": {
     "slide_type": "slide"
    }
   },
   "source": [
    "### Minibatch Stochastic Gradient Descent\n",
    "\n",
    "Instead of 1 random sample at a time:\n",
    "- Sample a \"minibatch\" of m training samples\n",
    "- Run gradient descent on that minibatch\n",
    "- \"Smooths\" out the randomness by operating on a minibatch.\n",
    "- The minibatch size can be tuned (\"hyperparameter\")"
   ]
  },
  {
   "cell_type": "markdown",
   "metadata": {
    "slideshow": {
     "slide_type": "slide"
    }
   },
   "source": [
    "![minibatch sgd](assets/training-basics/minibatch-sgd.png)"
   ]
  },
  {
   "cell_type": "markdown",
   "metadata": {
    "slideshow": {
     "slide_type": "slide"
    }
   },
   "source": [
    "Symbols:\n",
    "- $\\epsilon_k$ denotes the learning rate\n",
    "- $\\theta$ denotes the weights matrix\n",
    "- $\\nabla_{\\theta}$ means gradient w.r.t. $\\theta$\n",
    "\n",
    "(image: Deep Learning, Goodfellow, 2016)"
   ]
  },
  {
   "cell_type": "markdown",
   "metadata": {
    "slideshow": {
     "slide_type": "slide"
    }
   },
   "source": [
    "### Minibatch SGD, with momentum\n",
    "\n",
    "Speeds up minibatch SGD by:\n",
    "- Applying an exponentially decaying moving average of the previous gradients ($v$)\n",
    "  - if gradients point the same way, will reach minimum faster\n",
    "- Minibatch SGD: $\\theta \\leftarrow \\theta - \\epsilon g$\n",
    "- Minibatch SGD + momentum: $\\theta \\leftarrow \\theta - \\epsilon g + \\alpha v$, $v \\leftarrow v - \\epsilon g$\n",
    "\n",
    "Variant: Nesterov's momentum"
   ]
  },
  {
   "cell_type": "markdown",
   "metadata": {
    "slideshow": {
     "slide_type": "slide"
    }
   },
   "source": [
    "![minibatch sgd with momentum](assets/training-basics/minibatch-sgd-momentum.png)\n",
    "\n",
    "(image: Deep Learning, Goodfellow, 2016)"
   ]
  },
  {
   "cell_type": "markdown",
   "metadata": {
    "slideshow": {
     "slide_type": "slide"
    }
   },
   "source": [
    "### Adaptive Learning Rate Strategies\n",
    "\n",
    "- Learning rate will control the amount of gradient update\n",
    "  - Large learning rate: risk overshoot and not converge\n",
    "  - Small learning rate: too slow\n",
    "  - Ideal: start large(r), then reduce as we get closer to minima\n",
    "- Strategies\n",
    "  - Constant learning rate\n",
    "  - Time-based or step-based decay\n",
    "  - AdaGrad\n",
    "  - RMSProp\n",
    "  - Adam\n",
    "- What works best depends on your domain (true for **any** optimization)"
   ]
  },
  {
   "cell_type": "markdown",
   "metadata": {
    "slideshow": {
     "slide_type": "slide"
    }
   },
   "source": [
    "![Comparison](https://3qeqpr26caki16dnhd19sv6by6v-wpengine.netdna-ssl.com/wp-content/uploads/2017/05/Comparison-of-Adam-to-Other-Optimization-Algorithms-Training-a-Multilayer-Perceptron.png)\n",
    "\n",
    "(image: [machine learning mastery](https://machinelearningmastery.com/adam-optimization-algorithm-for-deep-learning)"
   ]
  },
  {
   "cell_type": "markdown",
   "metadata": {
    "slideshow": {
     "slide_type": "slide"
    }
   },
   "source": [
    "![Another comparison](http://scikit-learn.org/stable/_images/sphx_glr_plot_mlp_training_curves_001.png)\n",
    "\n",
    "(image: [scikit-learn](http://scikit-learn.org/stable/auto_examples/neural_networks/plot_mlp_training_curves.html))"
   ]
  },
  {
   "cell_type": "code",
   "execution_count": null,
   "metadata": {
    "slideshow": {
     "slide_type": "slide"
    }
   },
   "outputs": [],
   "source": []
  },
  {
   "cell_type": "markdown",
   "metadata": {
    "slideshow": {
     "slide_type": "slide"
    }
   },
   "source": [
    "## Overfitting and Underfitting"
   ]
  },
  {
   "cell_type": "markdown",
   "metadata": {
    "slideshow": {
     "slide_type": "slide"
    }
   },
   "source": [
    "### Generalization\n",
    "\n",
    "- Model is trained based on the training set\n",
    "- Generalization is evaluated on the test set\n",
    "\n",
    "Generalization: \"How well does model work, on inputs not seen during training\""
   ]
  },
  {
   "cell_type": "markdown",
   "metadata": {
    "slideshow": {
     "slide_type": "slide"
    }
   },
   "source": [
    "### Goals of training a model\n",
    "1. Minimize training error\n",
    "2. Minimize gap between test error and training error. (the \"generalization gap\")\n",
    "\n",
    "(Reference: Deep Learning - Goodfellow, Bengio, Courville, MIT press, 2016)"
   ]
  },
  {
   "cell_type": "markdown",
   "metadata": {
    "slideshow": {
     "slide_type": "slide"
    }
   },
   "source": [
    "### Underfitting, Overfitting\n",
    "\n",
    "1. A model is set to \"underfit\" if the training error is too large\n",
    "2. A model is set to \"overfit\" if the gap between test and training error is too large\n",
    "\n",
    "A good-fit model: neither underfit nor overfit (Goldilocks and the Three Bears)"
   ]
  },
  {
   "cell_type": "markdown",
   "metadata": {
    "slideshow": {
     "slide_type": "slide"
    }
   },
   "source": [
    "### Underfit\n",
    "\n",
    "A model is set to \"underfit\" if the training error is too large\n",
    "  - Means model does not work\n",
    "  - It learnt nothing\n",
    "  - Mode has \"high bias\""
   ]
  },
  {
   "cell_type": "markdown",
   "metadata": {
    "slideshow": {
     "slide_type": "slide"
    }
   },
   "source": [
    "### Overfit\n",
    "\n",
    "A model is set to \"overfit\" if the gap between test and training error is too large\n",
    "  - Means model does not generalize well\n",
    "  - It only learnt the training set (or learnt too much training set noise)\n",
    "  - Model has \"high variance\""
   ]
  },
  {
   "cell_type": "markdown",
   "metadata": {
    "slideshow": {
     "slide_type": "slide"
    }
   },
   "source": [
    "![comics](https://imgs.xkcd.com/comics/linear_regression.png)\n",
    "\n",
    "(image: xkcd)"
   ]
  },
  {
   "cell_type": "markdown",
   "metadata": {
    "slideshow": {
     "slide_type": "slide"
    }
   },
   "source": [
    "### How to fix Underfitting\n",
    "\n",
    "Symptom: model did not train well\n",
    "\n",
    "Potential cures:\n",
    "- More data\n",
    "- More features and/or different features\n",
    "- Different algorithms"
   ]
  },
  {
   "cell_type": "markdown",
   "metadata": {
    "slideshow": {
     "slide_type": "slide"
    }
   },
   "source": [
    "### How to fix Overfitting\n",
    "\n",
    "Symptom: model trained well, but did not test well\n",
    "\n",
    "Potential cures:\n",
    "- Early stoppping\n",
    "- Fewer features\n",
    "- Regularization\n",
    "- Cross Validation"
   ]
  },
  {
   "cell_type": "markdown",
   "metadata": {
    "slideshow": {
     "slide_type": "slide"
    }
   },
   "source": [
    "## Workshop: SGD, Overfitting, Underfitting\n",
    "\n",
    "In this workshop, we will try to fit a more complex linear regression model.\n",
    "\n",
    "We'll explore the following concepts:\n",
    "- Loss functions\n",
    "- Stochastic Gradient Descent\n",
    "- Underfitting and Overfitting\n",
    "\n",
    "Inspiration:\n",
    "https://sdsawtelle.github.io/blog/output/week6-andrew-ng-machine-learning-with-python.html"
   ]
  },
  {
   "cell_type": "markdown",
   "metadata": {
    "slideshow": {
     "slide_type": "slide"
    }
   },
   "source": [
    "### Prediction Tasks\n",
    "\n",
    "We'll try to fit a curve to predict, for recent Singapore University Graduates:\n",
    "```\n",
    "y: Gross Monthly Median Salary (S$)\n",
    "x: Overall Employment Rate (%)\n",
    "```\n",
    "\n",
    "To illustrate underfitting/overfitting, we'll explore:\n",
    "- A first-order linear model: $y = w^Tx$\n",
    "- A linear model with polynomial features\n",
    "$$y = w^TX$$\n",
    "where $X = [1, x, x^2, x^3, ...]$\n",
    "\n",
    "We'll also explore different loss functions and plotting of loss curves during training."
   ]
  },
  {
   "cell_type": "markdown",
   "metadata": {
    "slideshow": {
     "slide_type": "slide"
    }
   },
   "source": [
    "### Dataset(s)\n",
    "\n",
    "1. Download this dataset: https://data.gov.sg/dataset/graduate-employment-survey-ntu-nus-sit-smu-sutd\n",
    "2. Unzip it and note the path for use in `pandas.read_csv`"
   ]
  },
  {
   "cell_type": "code",
   "execution_count": 2,
   "metadata": {
    "slideshow": {
     "slide_type": "-"
    }
   },
   "outputs": [],
   "source": [
    "import pandas as pd\n",
    "import matplotlib.pyplot as plt\n",
    "import numpy as np"
   ]
  },
  {
   "cell_type": "markdown",
   "metadata": {
    "slideshow": {
     "slide_type": "-"
    }
   },
   "source": [
    "### 1. Data Transformation and Cleaning\n",
    "\n",
    "The first step is to inspect the data to see what transformation/cleaning is needed."
   ]
  },
  {
   "cell_type": "code",
   "execution_count": 80,
   "metadata": {
    "slideshow": {
     "slide_type": "-"
    }
   },
   "outputs": [
    {
     "data": {
      "text/plain": [
       "Index(['university', 'employment_rate_overall', 'gross_monthly_median'], dtype='object')"
      ]
     },
     "execution_count": 80,
     "metadata": {},
     "output_type": "execute_result"
    }
   ],
   "source": [
    "# ISO-8859-1 encoding is needed\n",
    "#   UnicodeDecodeError: 'utf-8' codec can't decode byte 0xe4 in position 20: invalid continuation byte\n",
    "\n",
    "df = pd.read_csv('D:/tmp/graduate-employment-survey-ntu-nus-sit-smu-sutd/graduate-employment-survey-ntu-nus-sit-smu-sutd.csv',\n",
    "                 encoding='ISO-8859-1',\n",
    "                 usecols=['university', 'employment_rate_overall', 'gross_monthly_median'])\n",
    "\n",
    "# filter by NUS to keep things simple\n",
    "df = df.loc[df.university == 'National University of Singapore']\n",
    "\n",
    "df.columns"
   ]
  },
  {
   "cell_type": "markdown",
   "metadata": {
    "slideshow": {
     "slide_type": "-"
    }
   },
   "source": [
    "The columns to inspect are:\n",
    "- employment_rate_overall\n",
    "- gross_monthly_median\n",
    "\n",
    "We are looking for:\n",
    "- invalid values\n",
    "- data types to transform to numeric\n",
    "- feature ranges"
   ]
  },
  {
   "cell_type": "code",
   "execution_count": 58,
   "metadata": {},
   "outputs": [
    {
     "name": "stdout",
     "output_type": "stream",
     "text": [
      "                              university employment_rate_overall  \\\n",
      "count                                118                     118   \n",
      "unique                                 1                      74   \n",
      "top     National University of Singapore                      na   \n",
      "freq                                 118                      15   \n",
      "\n",
      "       gross_monthly_median  \n",
      "count                   118  \n",
      "unique                   47  \n",
      "top                    3000  \n",
      "freq                     16  \n",
      "\n",
      "['84.8' '86.6' '88.1' '88.7' '94.6' '93.3' '97.2' '88.9' 'na' '92.4'\n",
      " '89.2' '100' '82.1' '96.8' '74' '93.2' '96.1' '88.5' '86.2' '93.8' '93.9'\n",
      " '90.9' '89.1' '98.8' '97.5' '97.3' '80.9' '83.6' '96.4' '81.9' '83.1'\n",
      " '87.9' '94.4' '90.6' '85.7' '95.5' '98.4' '77.3' '95.3' '93.1' '87.5'\n",
      " '83.9' '97.1' '95.2' '81.3' '96.5' '78.6' '90' '98.2' '76.8' '98.9'\n",
      " '88.4' '83' '88.6' '88.2' '96' '97.6' '98.6' '92.6' '97' '90.3' '72'\n",
      " '94.3' '86' '91.8' '92.1' '82.6' '83.3' '96.9' '82.4' '85.2' '84.3' '99'\n",
      " '71.9']\n"
     ]
    }
   ],
   "source": [
    "# the sample size is fairly small, we can inspect using .unique()\n",
    "print(df.describe())\n",
    "print('')\n",
    "print(df.employment_rate_overall.unique())"
   ]
  },
  {
   "cell_type": "markdown",
   "metadata": {
    "slideshow": {
     "slide_type": "-"
    }
   },
   "source": [
    "`employment_rate_overall` column\n",
    "- invalid values: yes, there is an 'na' value above\n",
    "- data type is object (these are string values)\n",
    "  - need to transform to numbers\n",
    "  - How: use [pandas.to_numeric](https://pandas.pydata.org/pandas-docs/stable/generated/pandas.to_numeric.html) to convert to numbers\n",
    "- range: 0-100"
   ]
  },
  {
   "cell_type": "markdown",
   "metadata": {
    "slideshow": {
     "slide_type": "-"
    }
   },
   "source": [
    "If the dataset is large, it is hard to find the 'na' values.\n",
    "\n",
    "A quick test is to try converting the column first, to see if errors appear."
   ]
  },
  {
   "cell_type": "code",
   "execution_count": 59,
   "metadata": {
    "scrolled": true
   },
   "outputs": [
    {
     "ename": "ValueError",
     "evalue": "Unable to parse string \"na\" at position 8",
     "output_type": "error",
     "traceback": [
      "\u001b[1;31m---------------------------------------------------------------------------\u001b[0m",
      "\u001b[1;31mValueError\u001b[0m                                Traceback (most recent call last)",
      "\u001b[1;32mpandas/_libs/src\\inference.pyx\u001b[0m in \u001b[0;36mpandas._libs.lib.maybe_convert_numeric\u001b[1;34m()\u001b[0m\n",
      "\u001b[1;31mValueError\u001b[0m: Unable to parse string \"na\"",
      "\nDuring handling of the above exception, another exception occurred:\n",
      "\u001b[1;31mValueError\u001b[0m                                Traceback (most recent call last)",
      "\u001b[1;32m<ipython-input-59-3e37e865ba71>\u001b[0m in \u001b[0;36m<module>\u001b[1;34m()\u001b[0m\n\u001b[1;32m----> 1\u001b[1;33m \u001b[0mpd\u001b[0m\u001b[1;33m.\u001b[0m\u001b[0mto_numeric\u001b[0m\u001b[1;33m(\u001b[0m\u001b[0mdf\u001b[0m\u001b[1;33m.\u001b[0m\u001b[0memployment_rate_overall\u001b[0m\u001b[1;33m)\u001b[0m \u001b[1;31m# see if we get parse errors\u001b[0m\u001b[1;33m\u001b[0m\u001b[0m\n\u001b[0m",
      "\u001b[1;32m~\\AppData\\Local\\Continuum\\miniconda3\\envs\\mldds02\\lib\\site-packages\\pandas\\core\\tools\\numeric.py\u001b[0m in \u001b[0;36mto_numeric\u001b[1;34m(arg, errors, downcast)\u001b[0m\n\u001b[0;32m    131\u001b[0m             \u001b[0mcoerce_numeric\u001b[0m \u001b[1;33m=\u001b[0m \u001b[1;32mFalse\u001b[0m \u001b[1;32mif\u001b[0m \u001b[0merrors\u001b[0m \u001b[1;32min\u001b[0m \u001b[1;33m(\u001b[0m\u001b[1;34m'ignore'\u001b[0m\u001b[1;33m,\u001b[0m \u001b[1;34m'raise'\u001b[0m\u001b[1;33m)\u001b[0m \u001b[1;32melse\u001b[0m \u001b[1;32mTrue\u001b[0m\u001b[1;33m\u001b[0m\u001b[0m\n\u001b[0;32m    132\u001b[0m             values = lib.maybe_convert_numeric(values, set(),\n\u001b[1;32m--> 133\u001b[1;33m                                                coerce_numeric=coerce_numeric)\n\u001b[0m\u001b[0;32m    134\u001b[0m \u001b[1;33m\u001b[0m\u001b[0m\n\u001b[0;32m    135\u001b[0m     \u001b[1;32mexcept\u001b[0m \u001b[0mException\u001b[0m\u001b[1;33m:\u001b[0m\u001b[1;33m\u001b[0m\u001b[0m\n",
      "\u001b[1;32mpandas/_libs/src\\inference.pyx\u001b[0m in \u001b[0;36mpandas._libs.lib.maybe_convert_numeric\u001b[1;34m()\u001b[0m\n",
      "\u001b[1;31mValueError\u001b[0m: Unable to parse string \"na\" at position 8"
     ]
    }
   ],
   "source": [
    "pd.to_numeric(df.employment_rate_overall) # see if we get parse errors"
   ]
  },
  {
   "cell_type": "markdown",
   "metadata": {
    "slideshow": {
     "slide_type": "-"
    }
   },
   "source": [
    "We will be using the `errors='coerce'` option in [pandas.to_numeric](https://pandas.pydata.org/pandas-docs/stable/generated/pandas.to_numeric.html) when we do the actual conversion."
   ]
  },
  {
   "cell_type": "code",
   "execution_count": 60,
   "metadata": {},
   "outputs": [
    {
     "data": {
      "text/plain": [
       "34      84.8\n",
       "35      86.6\n",
       "36      88.1\n",
       "37      88.7\n",
       "38      94.6\n",
       "39      93.3\n",
       "40      97.2\n",
       "41      88.9\n",
       "42       NaN\n",
       "43       NaN\n",
       "44      92.4\n",
       "45      88.9\n",
       "46      89.2\n",
       "47     100.0\n",
       "48       NaN\n",
       "49      82.1\n",
       "50      96.8\n",
       "51      89.2\n",
       "52      74.0\n",
       "53      93.2\n",
       "54      96.1\n",
       "55      88.9\n",
       "56      88.5\n",
       "57      86.2\n",
       "58      93.8\n",
       "59      93.9\n",
       "60      90.9\n",
       "61      89.1\n",
       "62      98.8\n",
       "63     100.0\n",
       "       ...  \n",
       "243     97.0\n",
       "244     90.3\n",
       "245     97.2\n",
       "246    100.0\n",
       "247     97.6\n",
       "248     72.0\n",
       "249     94.3\n",
       "250     93.9\n",
       "251     86.2\n",
       "252     86.0\n",
       "253     96.5\n",
       "254     91.8\n",
       "255     92.1\n",
       "256     82.6\n",
       "257     88.1\n",
       "258     96.1\n",
       "259    100.0\n",
       "260     83.3\n",
       "261     96.9\n",
       "262    100.0\n",
       "263     97.3\n",
       "264    100.0\n",
       "265     82.4\n",
       "266      NaN\n",
       "267     85.2\n",
       "268     84.3\n",
       "269     83.9\n",
       "270      NaN\n",
       "271     99.0\n",
       "272     71.9\n",
       "Name: employment_rate_overall, Length: 118, dtype: float64"
      ]
     },
     "execution_count": 60,
     "metadata": {},
     "output_type": "execute_result"
    }
   ],
   "source": [
    "pd.to_numeric(df.employment_rate_overall, errors='coerce') # 'na' becomes NaN"
   ]
  },
  {
   "cell_type": "markdown",
   "metadata": {
    "slideshow": {
     "slide_type": "-"
    }
   },
   "source": [
    "The `gross_monthly_median` column is handled the same way.\n",
    "\n",
    "Let's now perform the data transformation and cleaning."
   ]
  },
  {
   "cell_type": "code",
   "execution_count": 61,
   "metadata": {
    "slideshow": {
     "slide_type": "-"
    }
   },
   "outputs": [
    {
     "data": {
      "text/html": [
       "<div>\n",
       "<style scoped>\n",
       "    .dataframe tbody tr th:only-of-type {\n",
       "        vertical-align: middle;\n",
       "    }\n",
       "\n",
       "    .dataframe tbody tr th {\n",
       "        vertical-align: top;\n",
       "    }\n",
       "\n",
       "    .dataframe thead th {\n",
       "        text-align: right;\n",
       "    }\n",
       "</style>\n",
       "<table border=\"1\" class=\"dataframe\">\n",
       "  <thead>\n",
       "    <tr style=\"text-align: right;\">\n",
       "      <th></th>\n",
       "      <th>gross_monthly_median</th>\n",
       "      <th>employment_rate_overall</th>\n",
       "    </tr>\n",
       "  </thead>\n",
       "  <tbody>\n",
       "    <tr>\n",
       "      <th>34</th>\n",
       "      <td>2800.0</td>\n",
       "      <td>84.8</td>\n",
       "    </tr>\n",
       "    <tr>\n",
       "      <th>35</th>\n",
       "      <td>3200.0</td>\n",
       "      <td>86.6</td>\n",
       "    </tr>\n",
       "    <tr>\n",
       "      <th>36</th>\n",
       "      <td>3200.0</td>\n",
       "      <td>88.1</td>\n",
       "    </tr>\n",
       "    <tr>\n",
       "      <th>37</th>\n",
       "      <td>3000.0</td>\n",
       "      <td>88.7</td>\n",
       "    </tr>\n",
       "    <tr>\n",
       "      <th>38</th>\n",
       "      <td>3200.0</td>\n",
       "      <td>94.6</td>\n",
       "    </tr>\n",
       "  </tbody>\n",
       "</table>\n",
       "</div>"
      ],
      "text/plain": [
       "    gross_monthly_median  employment_rate_overall\n",
       "34                2800.0                     84.8\n",
       "35                3200.0                     86.6\n",
       "36                3200.0                     88.1\n",
       "37                3000.0                     88.7\n",
       "38                3200.0                     94.6"
      ]
     },
     "execution_count": 61,
     "metadata": {},
     "output_type": "execute_result"
    }
   ],
   "source": [
    "# transform string to numbers, forcing invalid values to float NaN\n",
    "data = {\n",
    "    'gross_monthly_median': pd.to_numeric(df.gross_monthly_median, errors='coerce'),\n",
    "    'employment_rate_overall': pd.to_numeric(df.employment_rate_overall, errors='coerce')\n",
    "}\n",
    "\n",
    "# drop NaNs\n",
    "df_dataset = pd.DataFrame(data).dropna()\n",
    "\n",
    "df_dataset.head()"
   ]
  },
  {
   "cell_type": "markdown",
   "metadata": {
    "slideshow": {
     "slide_type": "-"
    }
   },
   "source": [
    "### Visualize Dataset\n",
    "Let's plot the dataset to visualize our data.\n",
    "\n",
    "We'll use a scatter plot."
   ]
  },
  {
   "cell_type": "code",
   "execution_count": 79,
   "metadata": {},
   "outputs": [
    {
     "data": {
      "image/png": "[encoded data removed]",
      "text/plain": [
       "<Figure size 1080x576 with 1 Axes>"
      ]
     },
     "metadata": {},
     "output_type": "display_data"
    }
   ],
   "source": [
    "fig, ax = plt.subplots(figsize=(15, 8))\n",
    "\n",
    "ax.scatter(df_dataset.employment_rate_overall, df_dataset.gross_monthly_median)\n",
    "\n",
    "ax.set(title='Gross Monthly Median Income and Employment Rate for Recent NUS Graduates',\n",
    "       xlabel='Employment Rate (%)',\n",
    "       ylabel='Gross Monthly Median Income (S$)')\n",
    "ax.grid()"
   ]
  },
  {
   "cell_type": "markdown",
   "metadata": {
    "slideshow": {
     "slide_type": "slide"
    }
   },
   "source": [
    "Inspecting the plot above, we can roughly make out a curve through it."
   ]
  },
  {
   "cell_type": "markdown",
   "metadata": {
    "slideshow": {
     "slide_type": "slide"
    }
   },
   "source": [
    "### 2. Feature selection\n",
    "    \n",
    "#### Inputs\n",
    "\n",
    "|Feature|Description|Column name|Transformation before model input?|\n",
    "|--|--|--|\n",
    "|$x_1$|Overall Employment Rate (%)|employment_rate_overall|pd.to_numeric|\n",
    "\n",
    "#### Outputs\n",
    "\n",
    "|Output|Description|Truth column|Transformation from model output?|\n",
    "|--|--|--|\n",
    "|$\\hat{y}$|Predicted Gross Monthly Medium Income S\\$|$y$ = gross_monthly_median|None, output will stay numeric|"
   ]
  },
  {
   "cell_type": "code",
   "execution_count": 63,
   "metadata": {
    "slideshow": {
     "slide_type": "-"
    }
   },
   "outputs": [
    {
     "name": "stdout",
     "output_type": "stream",
     "text": [
      "X.shape: (103,)\n",
      "y.shape: (103,)\n"
     ]
    }
   ],
   "source": [
    "# Prepare the numpy arrays for use with sklearn\n",
    "X = df_dataset.loc[:, 'employment_rate_overall']\n",
    "print('X.shape:', X.shape)\n",
    "\n",
    "y = df_dataset.loc[:, 'gross_monthly_median']\n",
    "print('y.shape:', y.shape)"
   ]
  },
  {
   "cell_type": "markdown",
   "metadata": {
    "slideshow": {
     "slide_type": "-"
    }
   },
   "source": [
    "### 3. Model creation and training, and validation\n",
    "\n",
    "In this section, we will\n",
    "1. Shuffle and then split dataset into train and test\n",
    "2. Perform feature scaling\n",
    "3. Train and validate our models"
   ]
  },
  {
   "cell_type": "markdown",
   "metadata": {
    "slideshow": {
     "slide_type": "-"
    }
   },
   "source": [
    "### Dataset shuffling and train-test-split\n",
    "\n",
    "In a previous workshop, we did the randomization and train-test split manually. \n",
    "\n",
    "Turns out, [sklearn.model_selection.train_test_split](http://scikit-learn.org/stable/modules/generated/sklearn.model_selection.train_test_split.html) can do this for us."
   ]
  },
  {
   "cell_type": "code",
   "execution_count": 64,
   "metadata": {
    "slideshow": {
     "slide_type": "-"
    }
   },
   "outputs": [
    {
     "data": {
      "text/plain": [
       "237     96.0\n",
       "52      74.0\n",
       "154     76.8\n",
       "65     100.0\n",
       "134     77.3\n",
       "Name: employment_rate_overall, dtype: float64"
      ]
     },
     "execution_count": 64,
     "metadata": {},
     "output_type": "execute_result"
    }
   ],
   "source": [
    "from sklearn.model_selection import train_test_split\n",
    "\n",
    "# train-test split, witholding 15% for test data\n",
    "# shuffle=True is the default\n",
    "X_train, X_test, y_train, y_test = train_test_split(X, y, test_size=0.1)\n",
    "\n",
    "X_train.head() # view the shuffled dataset"
   ]
  },
  {
   "cell_type": "markdown",
   "metadata": {
    "slideshow": {
     "slide_type": "-"
    }
   },
   "source": [
    "### Feature scaling\n",
    "\n",
    "Since we are using Stochastic Gradient Descent, we are recommended to scale the features between [0, 1] or [-1, 1].\n",
    "- See [Tips on Practical Use for SGDRegressor](http://scikit-learn.org/stable/modules/sgd.html#tips-on-practical-use).\n",
    "\n",
    "- Scaling subtracts the mean and divides by the standard deviation\n",
    "- We will scale both the input and output values, using [sklearn.preprocessing.StandardScaler](http://scikit-learn.org/stable/modules/generated/sklearn.preprocessing.StandardScaler.html#sklearn.preprocessing.StandardScaler)\n",
    "- In both cases (input and output), the mean and standard deviation will be based on the training set only. This way we don't look at the test set. "
   ]
  },
  {
   "cell_type": "code",
   "execution_count": 65,
   "metadata": {
    "slideshow": {
     "slide_type": "-"
    }
   },
   "outputs": [],
   "source": [
    "from sklearn.preprocessing import StandardScaler\n",
    "\n",
    "# We train the scaler based on the training set, and use\n",
    "# it for both the training and test sets\n",
    "#\n",
    "# Reason: the test set shouldn't pollute the dataset\n",
    "x_scaler = StandardScaler()\n",
    "x_scaler.fit(X_train.values.reshape(-1, 1)) # must be 2D array\n",
    "X_train_scaled = x_scaler.transform(X_train.values.reshape(-1, 1))\n",
    "X_test_scaled = x_scaler.transform(X_test.values.reshape(-1, 1))\n",
    "\n",
    "y_scaler = StandardScaler()\n",
    "y_scaler.fit(y_train.values.reshape(-1, 1))\n",
    "y_train_scaled = y_scaler.transform(y_train.values.reshape(-1, 1))[:, 0]\n",
    "y_test_scaled = y_scaler.transform(y_test.values.reshape(-1, 1))[:, 0]"
   ]
  },
  {
   "cell_type": "code",
   "execution_count": 66,
   "metadata": {
    "slideshow": {
     "slide_type": "-"
    }
   },
   "outputs": [
    {
     "data": {
      "text/plain": [
       "237     96.0\n",
       "52      74.0\n",
       "154     76.8\n",
       "65     100.0\n",
       "134     77.3\n",
       "Name: employment_rate_overall, dtype: float64"
      ]
     },
     "execution_count": 66,
     "metadata": {},
     "output_type": "execute_result"
    }
   ],
   "source": [
    "X_train.head() # before scaling"
   ]
  },
  {
   "cell_type": "code",
   "execution_count": 67,
   "metadata": {},
   "outputs": [
    {
     "data": {
      "text/plain": [
       "array([[ 0.70952083],\n",
       "       [-2.38079585],\n",
       "       [-1.98748282],\n",
       "       [ 1.27139659],\n",
       "       [-1.91724835]])"
      ]
     },
     "execution_count": 67,
     "metadata": {},
     "output_type": "execute_result"
    }
   ],
   "source": [
    "X_train_scaled[:5] # after scaling (showing first 5 values)"
   ]
  },
  {
   "cell_type": "code",
   "execution_count": 68,
   "metadata": {},
   "outputs": [
    {
     "data": {
      "text/plain": [
       "237    3800.0\n",
       "52     3000.0\n",
       "154    3000.0\n",
       "65     3025.0\n",
       "134    2565.0\n",
       "Name: gross_monthly_median, dtype: float64"
      ]
     },
     "execution_count": 68,
     "metadata": {},
     "output_type": "execute_result"
    }
   ],
   "source": [
    "y_train.head() # before scaling"
   ]
  },
  {
   "cell_type": "code",
   "execution_count": 69,
   "metadata": {},
   "outputs": [
    {
     "data": {
      "text/plain": [
       "array([ 0.85394711, -0.67974023, -0.67974023, -0.6318125 , -1.51368272])"
      ]
     },
     "execution_count": 69,
     "metadata": {},
     "output_type": "execute_result"
    }
   ],
   "source": [
    "y_train_scaled[:5] # after scaling (showing first 5 values)"
   ]
  },
  {
   "cell_type": "markdown",
   "metadata": {
    "slideshow": {
     "slide_type": "-"
    }
   },
   "source": [
    "### Underfit Model: First Order Linear Regressor\n",
    "\n",
    "For the first order linear regressor, we'll use `sklearn.linear_model.SGDRegressor` with the dataset above."
   ]
  },
  {
   "cell_type": "code",
   "execution_count": 70,
   "metadata": {},
   "outputs": [],
   "source": [
    "from sklearn.linear_model import SGDRegressor\n",
    "\n",
    "# help me obi wan\n",
    "SGDRegressor?"
   ]
  },
  {
   "cell_type": "code",
   "execution_count": 89,
   "metadata": {},
   "outputs": [
    {
     "name": "stdout",
     "output_type": "stream",
     "text": [
      "-- Epoch 1\n",
      "Norm: 0.14, NNZs: 1, Bias: 0.000550, T: 92, Avg. loss: 0.473080\n",
      "Total training time: 0.00 seconds.\n",
      "-- Epoch 2\n",
      "Norm: 0.21, NNZs: 1, Bias: 0.000287, T: 184, Avg. loss: 0.442991\n",
      "Total training time: 0.00 seconds.\n",
      "-- Epoch 3\n",
      "Norm: 0.25, NNZs: 1, Bias: 0.000933, T: 276, Avg. loss: 0.429677\n",
      "Total training time: 0.00 seconds.\n",
      "-- Epoch 4\n",
      "Norm: 0.29, NNZs: 1, Bias: 0.001437, T: 368, Avg. loss: 0.422467\n",
      "Total training time: 0.00 seconds.\n",
      "-- Epoch 5\n",
      "Norm: 0.31, NNZs: 1, Bias: 0.000764, T: 460, Avg. loss: 0.418121\n",
      "Total training time: 0.00 seconds.\n",
      "-- Epoch 6\n",
      "Norm: 0.33, NNZs: 1, Bias: -0.000287, T: 552, Avg. loss: 0.415346\n",
      "Total training time: 0.00 seconds.\n",
      "-- Epoch 7\n",
      "Norm: 0.35, NNZs: 1, Bias: -0.000511, T: 644, Avg. loss: 0.413552\n",
      "Total training time: 0.00 seconds.\n",
      "-- Epoch 8\n",
      "Norm: 0.36, NNZs: 1, Bias: -0.000864, T: 736, Avg. loss: 0.412395\n",
      "Total training time: 0.00 seconds.\n",
      "-- Epoch 9\n",
      "Norm: 0.37, NNZs: 1, Bias: -0.001695, T: 828, Avg. loss: 0.411638\n",
      "Total training time: 0.00 seconds.\n",
      "Convergence after 9 epochs took 0.00 seconds\n",
      "Wall time: 3.51 ms\n",
      "Coefficient [0.37137041]\n",
      "Intercept [-0.00169523]\n"
     ]
    }
   ],
   "source": [
    "linear_model = SGDRegressor(verbose=1,\n",
    "                            loss='squared_loss', # mean squared loss\n",
    "                            penalty='none', # no regularization\n",
    "                            max_iter=100,\n",
    "                            tol=1e-3, # stopping condition\n",
    "                            eta0=0.01, # initial learning rate\n",
    "                            learning_rate='invscaling') # learning rate schedule\n",
    "%time linear_model.fit(X_train_scaled, y_train_scaled)\n",
    "\n",
    "print('Coefficient', linear_model.coef_)\n",
    "print('Intercept', linear_model.intercept_)"
   ]
  },
  {
   "cell_type": "markdown",
   "metadata": {
    "slideshow": {
     "slide_type": "-"
    }
   },
   "source": [
    "#### Model Validation\n",
    "\n",
    "Let's validate our model's performance by computing metrics and plotting the linear model."
   ]
  },
  {
   "cell_type": "code",
   "execution_count": 90,
   "metadata": {
    "slideshow": {
     "slide_type": "-"
    }
   },
   "outputs": [
    {
     "name": "stdout",
     "output_type": "stream",
     "text": [
      "Truth: [-0.34424612 -0.2963184  -0.10460748  0.27881436 -0.48802931 -0.28098152\n",
      " -0.96730661 -0.67974023 -0.2963184  -0.67974023  0.47052527]\n",
      "Predictions: [ 0.11573499 -0.05119624 -0.40070849  0.41829784  0.1522512   0.31918242\n",
      "  0.34526543 -0.16074485 -0.12944525  0.1731176   0.28788282]\n",
      "MSE: 0.35724797906219036\n",
      "R2: -1.2615638061293897\n"
     ]
    }
   ],
   "source": [
    "from sklearn.metrics import mean_squared_error, r2_score\n",
    "\n",
    "pred_scaled = linear_model.predict(X_test_scaled)\n",
    "print('Truth:', y_test_scaled)\n",
    "print('Predictions:', pred_scaled)\n",
    "\n",
    "# Compute metrics\n",
    "print('MSE:', mean_squared_error(y_test_scaled, pred_scaled))\n",
    "print('R2:', r2_score(y_test_scaled, pred_scaled))"
   ]
  },
  {
   "cell_type": "markdown",
   "metadata": {
    "slideshow": {
     "slide_type": "-"
    }
   },
   "source": [
    "#### Model Visualization\n",
    "\n",
    "We'll visualize the entire dataset (train + test), by plotting the data as a sactter plot, and the linear function as a curve or line.\n",
    "\n",
    "The model needs to be called with pre- and post-processing stages:\n",
    "1. Scale the input\n",
    "2. Call `predict`\n",
    "3. Unscale the output\n",
    "\n",
    "In both steps, we'll use the already-fitted scalers from previously. This ensures that the pre- and post-processing matches exactly with how the model was trained."
   ]
  },
  {
   "cell_type": "code",
   "execution_count": 91,
   "metadata": {
    "slideshow": {
     "slide_type": "-"
    }
   },
   "outputs": [
    {
     "data": {
      "text/plain": [
       "<matplotlib.legend.Legend at 0x23f2f974a58>"
      ]
     },
     "execution_count": 91,
     "metadata": {},
     "output_type": "execute_result"
    },
    {
     "data": {
      "image/png": "[encoded data removed]",
      "text/plain": [
       "<Figure size 1080x576 with 1 Axes>"
      ]
     },
     "metadata": {},
     "output_type": "display_data"
    }
   ],
   "source": [
    "# First, call the model in 3 stages\n",
    "# 1. Pre-process the input\n",
    "X_scaled = x_scaler.transform(X.values.reshape(-1, 1))\n",
    "\n",
    "# 2. Predict\n",
    "y_pred_scaled = linear_model.predict(X_scaled)\n",
    "\n",
    "# 3. Post-process the output\n",
    "y_pred = y_scaler.inverse_transform(y_pred_scaled)\n",
    "\n",
    "# Finally, plot dataset and predictions\n",
    "fig, ax = plt.subplots(figsize=(15, 8))\n",
    "ax.scatter(X.values, y, label='truth')\n",
    "ax.plot(X.values, y_pred, label='predictions', color='orange')\n",
    "\n",
    "ax.set(title='Gross Monthly Median Income and Employment Rate for Recent NUS Grads: First-Order Model',\n",
    "       xlabel='Employment Rate (%)',\n",
    "       ylabel='Gross Monthly Median Income (S$)')\n",
    "\n",
    "ax.grid()\n",
    "ax.legend()"
   ]
  },
  {
   "cell_type": "markdown",
   "metadata": {},
   "source": [
    "### Overfit Attempt: Polynomial Regression\n",
    "\n",
    "Now that we've seen how poorly an underfit model does, let's go to the other extreme.\n",
    "\n",
    "To generate polynomial features from x (Employment Rate), we use [sklearn.preprocessing.PolynomialFeatures](http://scikit-learn.org/stable/modules/generated/sklearn.preprocessing.PolynomialFeatures.html)"
   ]
  },
  {
   "cell_type": "code",
   "execution_count": 92,
   "metadata": {},
   "outputs": [],
   "source": [
    "from sklearn.preprocessing import PolynomialFeatures\n",
    "\n",
    "poly = PolynomialFeatures(12)\n",
    "poly.fit(X_train.values.reshape(-1, 1))\n",
    "\n",
    "X_train_poly = poly.transform(X_train.values.reshape(-1, 1))\n",
    "X_test_poly = poly.transform(X_test.values.reshape(-1, 1))\n",
    "\n",
    "# Scale the features back to SGD happy ranges ([-1, 1])\n",
    "x_scaler_poly = StandardScaler()\n",
    "x_scaler_poly.fit(X_train_poly)\n",
    "X_train_poly_scaled = x_scaler_poly.transform(X_train_poly)\n",
    "X_test_poly_scaled = x_scaler_poly.transform(X_test_poly)"
   ]
  },
  {
   "cell_type": "code",
   "execution_count": 93,
   "metadata": {
    "slideshow": {
     "slide_type": "-"
    }
   },
   "outputs": [
    {
     "name": "stdout",
     "output_type": "stream",
     "text": [
      "-- Epoch 1\n",
      "Norm: 0.16, NNZs: 12, Bias: -0.010317, T: 92, Avg. loss: 0.411078\n",
      "Total training time: 0.00 seconds.\n",
      "-- Epoch 2\n",
      "Norm: 0.15, NNZs: 12, Bias: -0.004517, T: 184, Avg. loss: 0.401595\n",
      "Total training time: 0.00 seconds.\n",
      "-- Epoch 3\n",
      "Norm: 0.18, NNZs: 12, Bias: -0.003773, T: 276, Avg. loss: 0.397438\n",
      "Total training time: 0.00 seconds.\n",
      "-- Epoch 4\n",
      "Norm: 0.16, NNZs: 12, Bias: -0.002406, T: 368, Avg. loss: 0.397969\n",
      "Total training time: 0.00 seconds.\n",
      "Convergence after 4 epochs took 0.00 seconds\n",
      "Wall time: 0 ns\n",
      "Coefficients [0.         0.00259376 0.01024217 0.0177447  0.02505397 0.0321341\n",
      " 0.03895936 0.04551246 0.05178295 0.05776569 0.06345961 0.06886669\n",
      " 0.07399114]\n",
      "Intercept [-0.00240554]\n"
     ]
    }
   ],
   "source": [
    "poly_model = SGDRegressor(verbose=1,\n",
    "                          loss='squared_loss', # mean squared loss\n",
    "                          penalty='none', # no regularization\n",
    "                          max_iter=100,\n",
    "                          tol=1e-4, # stopping condition\n",
    "                          eta0=0.01, # initial learning rate\n",
    "                          learning_rate='invscaling') # learning rate schedule\n",
    "%time poly_model.fit(X_train_poly_scaled, y_train_scaled)\n",
    "\n",
    "print('Coefficients', poly_model.coef_)\n",
    "print('Intercept', poly_model.intercept_)"
   ]
  },
  {
   "cell_type": "markdown",
   "metadata": {
    "slideshow": {
     "slide_type": "-"
    }
   },
   "source": [
    "### Exercise: Model Validation and Visualization\n",
    "\n",
    "Follow the pattern above to validate and visualize the new model.\n",
    "\n",
    "This means two tasks:\n",
    "1. Computing metrics\n",
    "2. Plotting the curve (hint: use a scatter plot for both)"
   ]
  },
  {
   "cell_type": "code",
   "execution_count": 94,
   "metadata": {
    "slideshow": {
     "slide_type": "-"
    }
   },
   "outputs": [
    {
     "name": "stdout",
     "output_type": "stream",
     "text": [
      "Truth: [-0.34424612 -0.2963184  -0.10460748  0.27881436 -0.48802931 -0.28098152\n",
      " -0.96730661 -0.67974023 -0.2963184  -0.67974023  0.47052527]\n",
      "Predictions: [ 0.03495047 -0.19897586 -0.53129219  0.6479655   0.09466639  0.41492511\n",
      "  0.47284408 -0.32283144 -0.28954765  0.13033269  0.34842841]\n",
      "MSE: 0.3789098036625724\n",
      "R2: -1.3986943187205303\n"
     ]
    }
   ],
   "source": [
    "# Compute metrics\n",
    "# Your code here\n",
    "\n",
    "pred_scaled = poly_model.predict(X_test_poly_scaled)\n",
    "print('Truth:', y_test_scaled)\n",
    "print('Predictions:', pred_scaled)\n",
    "\n",
    "# Compute metrics\n",
    "print('MSE:', mean_squared_error(y_test_scaled, pred_scaled))\n",
    "print('R2:', r2_score(y_test_scaled, pred_scaled))"
   ]
  },
  {
   "cell_type": "code",
   "execution_count": 95,
   "metadata": {
    "slideshow": {
     "slide_type": "-"
    }
   },
   "outputs": [
    {
     "data": {
      "text/plain": [
       "<matplotlib.legend.Legend at 0x23f2ea5bbe0>"
      ]
     },
     "execution_count": 95,
     "metadata": {},
     "output_type": "execute_result"
    },
    {
     "data": {
      "image/png": "[encoded data removed]",
      "text/plain": [
       "<Figure size 1080x576 with 1 Axes>"
      ]
     },
     "metadata": {},
     "output_type": "display_data"
    }
   ],
   "source": [
    "# Plot curve\n",
    "\n",
    "# First, call the model in 3 stages\n",
    "# 1. Pre-process the input\n",
    "# Hint: you need to create the polynomial, then scale\n",
    "#\n",
    "# Your code here\n",
    "\n",
    "X_poly = poly.transform(X.values.reshape(-1, 1))\n",
    "X_poly_scaled = x_scaler_poly.transform(X_poly)\n",
    "\n",
    "# 2. Predict\n",
    "#\n",
    "# Your code here\n",
    "y_pred_scaled = poly_model.predict(X_poly_scaled)\n",
    "\n",
    "\n",
    "# 3. Post-process the output by un-scaling y\n",
    "#\n",
    "# Your code here\n",
    "y_pred = y_scaler.inverse_transform(y_pred_scaled)\n",
    "\n",
    "# Finally, plot dataset and predictions\n",
    "#\n",
    "# Your code here\n",
    "fig, ax = plt.subplots(figsize=(15, 8))\n",
    "ax.scatter(X.values, y, label='truth')\n",
    "ax.scatter(X.values, y_pred, label='predictions', color='orange')\n",
    "\n",
    "ax.set(title='Gross Monthly Median Income and Employment Rate: 12th Degree Model',\n",
    "       xlabel='Employment Rate (%)',\n",
    "       ylabel='Gross Monthly Median Income (S$)')\n",
    "\n",
    "ax.grid()\n",
    "ax.legend()"
   ]
  },
  {
   "cell_type": "markdown",
   "metadata": {
    "slideshow": {
     "slide_type": "-"
    }
   },
   "source": [
    "### Learning Curves for Underfit/Overfit Detection\n",
    "\n",
    "Even with the above polynomial curve, it's hard to tell if we are truly overfitting.\n",
    "\n",
    "The standard practice to determine model fit is to plot learning curves of the training scores and test scores during training iterations.\n",
    "\n",
    "Let's compare the learning curves for both the linear and polynomial case.\n",
    "\n",
    "Reference: http://scikit-learn.org/stable/auto_examples/model_selection/plot_learning_curve.html"
   ]
  },
  {
   "cell_type": "code",
   "execution_count": 98,
   "metadata": {},
   "outputs": [],
   "source": [
    "from sklearn.model_selection import learning_curve\n",
    "\n",
    "learning_curve?"
   ]
  },
  {
   "cell_type": "code",
   "execution_count": 106,
   "metadata": {
    "slideshow": {
     "slide_type": "-"
    }
   },
   "outputs": [
    {
     "name": "stdout",
     "output_type": "stream",
     "text": [
      "-- Epoch 1\n",
      "Norm: 0.02, NNZs: 1, Bias: 0.021110, T: 6, Avg. loss: 0.593805\n",
      "Total training time: 0.00 seconds.\n",
      "-- Epoch 2\n",
      "Norm: 0.04, NNZs: 1, Bias: 0.036857, T: 12, Avg. loss: 0.574257\n",
      "Total training time: 0.00 seconds.\n",
      "-- Epoch 3\n",
      "Norm: 0.05, NNZs: 1, Bias: 0.051522, T: 18, Avg. loss: 0.560875\n",
      "Total training time: 0.00 seconds.\n",
      "-- Epoch 4\n",
      "Norm: 0.06, NNZs: 1, Bias: 0.064233, T: 24, Avg. loss: 0.548544\n",
      "Total training time: 0.00 seconds.\n",
      "-- Epoch 5\n",
      "Norm: 0.07, NNZs: 1, Bias: 0.075944, T: 30, Avg. loss: 0.537955\n",
      "Total training time: 0.00 seconds.\n",
      "-- Epoch 6\n",
      "Norm: 0.08, NNZs: 1, Bias: 0.086924, T: 36, Avg. loss: 0.528396\n",
      "Total training time: 0.00 seconds.\n",
      "-- Epoch 7\n",
      "Norm: 0.09, NNZs: 1, Bias: 0.097157, T: 42, Avg. loss: 0.519448\n",
      "Total training time: 0.00 seconds.\n",
      "-- Epoch 8\n",
      "Norm: 0.10, NNZs: 1, Bias: 0.107042, T: 48, Avg. loss: 0.511273\n",
      "Total training time: 0.00 seconds.\n",
      "-- Epoch 9\n",
      "Norm: 0.11, NNZs: 1, Bias: 0.116374, T: 54, Avg. loss: 0.503442\n",
      "Total training time: 0.00 seconds.\n",
      "-- Epoch 10\n",
      "Norm: 0.12, NNZs: 1, Bias: 0.125304, T: 60, Avg. loss: 0.496141\n",
      "Total training time: 0.00 seconds.\n",
      "-- Epoch 11\n",
      "Norm: 0.13, NNZs: 1, Bias: 0.133897, T: 66, Avg. loss: 0.489264\n",
      "Total training time: 0.00 seconds.\n",
      "-- Epoch 12\n",
      "Norm: 0.14, NNZs: 1, Bias: 0.142114, T: 72, Avg. loss: 0.482684\n",
      "Total training time: 0.01 seconds.\n",
      "-- Epoch 13\n",
      "Norm: 0.14, NNZs: 1, Bias: 0.150109, T: 78, Avg. loss: 0.476495\n",
      "Total training time: 0.01 seconds.\n",
      "-- Epoch 14\n",
      "Norm: 0.15, NNZs: 1, Bias: 0.157807, T: 84, Avg. loss: 0.470512\n",
      "Total training time: 0.01 seconds.\n",
      "-- Epoch 15\n",
      "Norm: 0.16, NNZs: 1, Bias: 0.165260, T: 90, Avg. loss: 0.464821\n",
      "Total training time: 0.01 seconds.\n",
      "-- Epoch 16\n",
      "Norm: 0.16, NNZs: 1, Bias: 0.172498, T: 96, Avg. loss: 0.459387\n",
      "Total training time: 0.01 seconds.\n",
      "-- Epoch 17\n",
      "Norm: 0.17, NNZs: 1, Bias: 0.179492, T: 102, Avg. loss: 0.454144\n",
      "Total training time: 0.01 seconds.\n",
      "-- Epoch 18\n",
      "Norm: 0.18, NNZs: 1, Bias: 0.186319, T: 108, Avg. loss: 0.449152\n",
      "Total training time: 0.01 seconds.\n",
      "-- Epoch 19\n",
      "Norm: 0.18, NNZs: 1, Bias: 0.192952, T: 114, Avg. loss: 0.444305\n",
      "Total training time: 0.01 seconds.\n",
      "-- Epoch 20\n",
      "Norm: 0.19, NNZs: 1, Bias: 0.199413, T: 120, Avg. loss: 0.439652\n",
      "Total training time: 0.01 seconds.\n",
      "-- Epoch 21\n",
      "Norm: 0.20, NNZs: 1, Bias: 0.205719, T: 126, Avg. loss: 0.435177\n",
      "Total training time: 0.01 seconds.\n",
      "-- Epoch 22\n",
      "Norm: 0.20, NNZs: 1, Bias: 0.211846, T: 132, Avg. loss: 0.430838\n",
      "Total training time: 0.01 seconds.\n",
      "-- Epoch 23\n",
      "Norm: 0.21, NNZs: 1, Bias: 0.217838, T: 138, Avg. loss: 0.426681\n",
      "Total training time: 0.01 seconds.\n",
      "-- Epoch 24\n",
      "Norm: 0.22, NNZs: 1, Bias: 0.223692, T: 144, Avg. loss: 0.422632\n",
      "Total training time: 0.01 seconds.\n",
      "-- Epoch 25\n",
      "Norm: 0.22, NNZs: 1, Bias: 0.229414, T: 150, Avg. loss: 0.418724\n",
      "Total training time: 0.01 seconds.\n",
      "-- Epoch 26\n",
      "Norm: 0.23, NNZs: 1, Bias: 0.235017, T: 156, Avg. loss: 0.414947\n",
      "Total training time: 0.01 seconds.\n",
      "-- Epoch 27\n",
      "Norm: 0.23, NNZs: 1, Bias: 0.240479, T: 162, Avg. loss: 0.411275\n",
      "Total training time: 0.01 seconds.\n",
      "-- Epoch 28\n",
      "Norm: 0.24, NNZs: 1, Bias: 0.245829, T: 168, Avg. loss: 0.407742\n",
      "Total training time: 0.01 seconds.\n",
      "-- Epoch 29\n",
      "Norm: 0.24, NNZs: 1, Bias: 0.251074, T: 174, Avg. loss: 0.404294\n",
      "Total training time: 0.01 seconds.\n",
      "-- Epoch 30\n",
      "Norm: 0.25, NNZs: 1, Bias: 0.256214, T: 180, Avg. loss: 0.400953\n",
      "Total training time: 0.01 seconds.\n",
      "-- Epoch 31\n",
      "Norm: 0.25, NNZs: 1, Bias: 0.261258, T: 186, Avg. loss: 0.397715\n",
      "Total training time: 0.01 seconds.\n",
      "-- Epoch 32\n",
      "Norm: 0.26, NNZs: 1, Bias: 0.266187, T: 192, Avg. loss: 0.394560\n",
      "Total training time: 0.01 seconds.\n",
      "-- Epoch 33\n",
      "Norm: 0.26, NNZs: 1, Bias: 0.271020, T: 198, Avg. loss: 0.391514\n",
      "Total training time: 0.01 seconds.\n",
      "-- Epoch 34\n",
      "Norm: 0.27, NNZs: 1, Bias: 0.275770, T: 204, Avg. loss: 0.388538\n",
      "Total training time: 0.01 seconds.\n",
      "-- Epoch 35\n",
      "Norm: 0.27, NNZs: 1, Bias: 0.280434, T: 210, Avg. loss: 0.385646\n",
      "Total training time: 0.01 seconds.\n",
      "-- Epoch 36\n",
      "Norm: 0.28, NNZs: 1, Bias: 0.285017, T: 216, Avg. loss: 0.382837\n",
      "Total training time: 0.01 seconds.\n",
      "-- Epoch 37\n",
      "Norm: 0.28, NNZs: 1, Bias: 0.289506, T: 222, Avg. loss: 0.380094\n",
      "Total training time: 0.01 seconds.\n",
      "-- Epoch 38\n",
      "Norm: 0.29, NNZs: 1, Bias: 0.293909, T: 228, Avg. loss: 0.377441\n",
      "Total training time: 0.01 seconds.\n",
      "-- Epoch 39\n",
      "Norm: 0.29, NNZs: 1, Bias: 0.298246, T: 234, Avg. loss: 0.374846\n",
      "Total training time: 0.01 seconds.\n",
      "-- Epoch 40\n",
      "Norm: 0.30, NNZs: 1, Bias: 0.302510, T: 240, Avg. loss: 0.372318\n",
      "Total training time: 0.01 seconds.\n",
      "-- Epoch 41\n",
      "Norm: 0.30, NNZs: 1, Bias: 0.306706, T: 246, Avg. loss: 0.369859\n",
      "Total training time: 0.01 seconds.\n",
      "-- Epoch 42\n",
      "Norm: 0.30, NNZs: 1, Bias: 0.310821, T: 252, Avg. loss: 0.367455\n",
      "Total training time: 0.01 seconds.\n",
      "-- Epoch 43\n",
      "Norm: 0.31, NNZs: 1, Bias: 0.314859, T: 258, Avg. loss: 0.365125\n",
      "Total training time: 0.01 seconds.\n",
      "-- Epoch 44\n",
      "Norm: 0.31, NNZs: 1, Bias: 0.318843, T: 264, Avg. loss: 0.362844\n",
      "Total training time: 0.02 seconds.\n",
      "-- Epoch 45\n",
      "Norm: 0.32, NNZs: 1, Bias: 0.322765, T: 270, Avg. loss: 0.360619\n",
      "Total training time: 0.02 seconds.\n",
      "-- Epoch 46\n",
      "Norm: 0.32, NNZs: 1, Bias: 0.326629, T: 276, Avg. loss: 0.358450\n",
      "Total training time: 0.02 seconds.\n",
      "-- Epoch 47\n",
      "Norm: 0.33, NNZs: 1, Bias: 0.330422, T: 282, Avg. loss: 0.356328\n",
      "Total training time: 0.02 seconds.\n",
      "-- Epoch 48\n",
      "Norm: 0.33, NNZs: 1, Bias: 0.334146, T: 288, Avg. loss: 0.354268\n",
      "Total training time: 0.02 seconds.\n",
      "-- Epoch 49\n",
      "Norm: 0.33, NNZs: 1, Bias: 0.337825, T: 294, Avg. loss: 0.352250\n",
      "Total training time: 0.02 seconds.\n",
      "-- Epoch 50\n",
      "Norm: 0.34, NNZs: 1, Bias: 0.341450, T: 300, Avg. loss: 0.350279\n",
      "Total training time: 0.02 seconds.\n",
      "-- Epoch 51\n",
      "Norm: 0.34, NNZs: 1, Bias: 0.345024, T: 306, Avg. loss: 0.348355\n",
      "Total training time: 0.02 seconds.\n",
      "-- Epoch 52\n",
      "Norm: 0.34, NNZs: 1, Bias: 0.348536, T: 312, Avg. loss: 0.346471\n",
      "Total training time: 0.02 seconds.\n",
      "-- Epoch 53\n",
      "Norm: 0.35, NNZs: 1, Bias: 0.351985, T: 318, Avg. loss: 0.344640\n",
      "Total training time: 0.02 seconds.\n",
      "-- Epoch 54\n",
      "Norm: 0.35, NNZs: 1, Bias: 0.355396, T: 324, Avg. loss: 0.342846\n",
      "Total training time: 0.02 seconds.\n",
      "-- Epoch 55\n",
      "Norm: 0.36, NNZs: 1, Bias: 0.358761, T: 330, Avg. loss: 0.341090\n",
      "Total training time: 0.02 seconds.\n",
      "-- Epoch 56\n",
      "Norm: 0.36, NNZs: 1, Bias: 0.362080, T: 336, Avg. loss: 0.339375\n",
      "Total training time: 0.02 seconds.\n",
      "-- Epoch 57\n",
      "Norm: 0.36, NNZs: 1, Bias: 0.365344, T: 342, Avg. loss: 0.337694\n",
      "Total training time: 0.02 seconds.\n",
      "-- Epoch 58\n",
      "Norm: 0.37, NNZs: 1, Bias: 0.368551, T: 348, Avg. loss: 0.336060\n",
      "Total training time: 0.02 seconds.\n",
      "-- Epoch 59\n",
      "Norm: 0.37, NNZs: 1, Bias: 0.371725, T: 354, Avg. loss: 0.334456\n",
      "Total training time: 0.02 seconds.\n",
      "-- Epoch 60\n",
      "Norm: 0.37, NNZs: 1, Bias: 0.374858, T: 360, Avg. loss: 0.332886\n",
      "Total training time: 0.02 seconds.\n",
      "-- Epoch 61\n",
      "Norm: 0.38, NNZs: 1, Bias: 0.377951, T: 366, Avg. loss: 0.331351\n",
      "Total training time: 0.02 seconds.\n",
      "-- Epoch 62\n",
      "Norm: 0.38, NNZs: 1, Bias: 0.380994, T: 372, Avg. loss: 0.329845\n",
      "Total training time: 0.02 seconds.\n",
      "-- Epoch 63\n",
      "Norm: 0.38, NNZs: 1, Bias: 0.383985, T: 378, Avg. loss: 0.328379\n",
      "Total training time: 0.02 seconds.\n",
      "-- Epoch 64\n",
      "Norm: 0.39, NNZs: 1, Bias: 0.386948, T: 384, Avg. loss: 0.326941\n",
      "Total training time: 0.02 seconds.\n",
      "-- Epoch 65\n",
      "Norm: 0.39, NNZs: 1, Bias: 0.389875, T: 390, Avg. loss: 0.325531\n",
      "Total training time: 0.02 seconds.\n",
      "-- Epoch 66\n",
      "Norm: 0.39, NNZs: 1, Bias: 0.392765, T: 396, Avg. loss: 0.324152\n",
      "Total training time: 0.02 seconds.\n",
      "-- Epoch 67\n",
      "Norm: 0.40, NNZs: 1, Bias: 0.395611, T: 402, Avg. loss: 0.322798\n",
      "Total training time: 0.02 seconds.\n",
      "-- Epoch 68\n",
      "Norm: 0.40, NNZs: 1, Bias: 0.398408, T: 408, Avg. loss: 0.321480\n",
      "Total training time: 0.02 seconds.\n",
      "-- Epoch 69\n",
      "Norm: 0.40, NNZs: 1, Bias: 0.401181, T: 414, Avg. loss: 0.320185\n",
      "Total training time: 0.02 seconds.\n",
      "-- Epoch 70\n",
      "Norm: 0.40, NNZs: 1, Bias: 0.403921, T: 420, Avg. loss: 0.318915\n",
      "Total training time: 0.02 seconds.\n",
      "-- Epoch 71\n",
      "Norm: 0.41, NNZs: 1, Bias: 0.406629, T: 426, Avg. loss: 0.317672\n",
      "Total training time: 0.02 seconds.\n",
      "-- Epoch 72\n",
      "Norm: 0.41, NNZs: 1, Bias: 0.409297, T: 432, Avg. loss: 0.316451\n",
      "Total training time: 0.02 seconds.\n",
      "-- Epoch 73\n",
      "Norm: 0.41, NNZs: 1, Bias: 0.411918, T: 438, Avg. loss: 0.315261\n",
      "Total training time: 0.02 seconds.\n",
      "-- Epoch 74\n",
      "Norm: 0.42, NNZs: 1, Bias: 0.414520, T: 444, Avg. loss: 0.314093\n",
      "Total training time: 0.02 seconds.\n",
      "-- Epoch 75\n",
      "Norm: 0.42, NNZs: 1, Bias: 0.417092, T: 450, Avg. loss: 0.312945\n",
      "Total training time: 0.02 seconds.\n",
      "-- Epoch 76\n",
      "Norm: 0.42, NNZs: 1, Bias: 0.419635, T: 456, Avg. loss: 0.311822\n",
      "Total training time: 0.02 seconds.\n",
      "-- Epoch 77\n",
      "Norm: 0.43, NNZs: 1, Bias: 0.422141, T: 462, Avg. loss: 0.310717\n",
      "Total training time: 0.02 seconds.\n",
      "-- Epoch 78\n",
      "Norm: 0.43, NNZs: 1, Bias: 0.424604, T: 468, Avg. loss: 0.309641\n",
      "Total training time: 0.02 seconds.\n",
      "-- Epoch 79\n",
      "Norm: 0.43, NNZs: 1, Bias: 0.427049, T: 474, Avg. loss: 0.308583\n",
      "Total training time: 0.02 seconds.\n",
      "-- Epoch 80\n",
      "Norm: 0.43, NNZs: 1, Bias: 0.429469, T: 480, Avg. loss: 0.307544\n",
      "Total training time: 0.02 seconds.\n",
      "-- Epoch 81\n",
      "Norm: 0.44, NNZs: 1, Bias: 0.431861, T: 486, Avg. loss: 0.306525\n",
      "Total training time: 0.02 seconds.\n",
      "-- Epoch 82\n",
      "Norm: 0.44, NNZs: 1, Bias: 0.434219, T: 492, Avg. loss: 0.305524\n",
      "Total training time: 0.02 seconds.\n",
      "-- Epoch 83\n",
      "Norm: 0.44, NNZs: 1, Bias: 0.436538, T: 498, Avg. loss: 0.304547\n",
      "Total training time: 0.02 seconds.\n",
      "Convergence after 83 epochs took 0.02 seconds\n",
      "-- Epoch 1\n",
      "Norm: 0.10, NNZs: 1, Bias: 0.042239, T: 19, Avg. loss: 0.918979\n",
      "Total training time: 0.00 seconds.\n",
      "-- Epoch 2\n",
      "Norm: 0.17, NNZs: 1, Bias: 0.076121, T: 38, Avg. loss: 0.836077\n",
      "Total training time: 0.00 seconds.\n",
      "-- Epoch 3\n",
      "Norm: 0.22, NNZs: 1, Bias: 0.103906, T: 57, Avg. loss: 0.781656\n",
      "Total training time: 0.00 seconds.\n",
      "-- Epoch 4\n",
      "Norm: 0.26, NNZs: 1, Bias: 0.127897, T: 76, Avg. loss: 0.741098\n",
      "Total training time: 0.00 seconds.\n",
      "-- Epoch 5\n",
      "Norm: 0.30, NNZs: 1, Bias: 0.149329, T: 95, Avg. loss: 0.708961\n",
      "Total training time: 0.00 seconds.\n",
      "-- Epoch 6\n",
      "Norm: 0.33, NNZs: 1, Bias: 0.168482, T: 114, Avg. loss: 0.682937\n",
      "Total training time: 0.00 seconds.\n",
      "-- Epoch 7\n",
      "Norm: 0.36, NNZs: 1, Bias: 0.186099, T: 133, Avg. loss: 0.661368\n",
      "Total training time: 0.00 seconds.\n",
      "-- Epoch 8\n",
      "Norm: 0.38, NNZs: 1, Bias: 0.202338, T: 152, Avg. loss: 0.643099\n",
      "Total training time: 0.00 seconds.\n",
      "-- Epoch 9\n",
      "Norm: 0.40, NNZs: 1, Bias: 0.217304, T: 171, Avg. loss: 0.627701\n",
      "Total training time: 0.00 seconds.\n",
      "-- Epoch 10\n",
      "Norm: 0.42, NNZs: 1, Bias: 0.231197, T: 190, Avg. loss: 0.614501\n",
      "Total training time: 0.00 seconds.\n",
      "-- Epoch 11\n",
      "Norm: 0.44, NNZs: 1, Bias: 0.244169, T: 209, Avg. loss: 0.603160\n",
      "Total training time: 0.00 seconds.\n",
      "-- Epoch 12\n",
      "Norm: 0.46, NNZs: 1, Bias: 0.256027, T: 228, Avg. loss: 0.593365\n",
      "Total training time: 0.00 seconds.\n",
      "-- Epoch 13\n",
      "Norm: 0.48, NNZs: 1, Bias: 0.267317, T: 247, Avg. loss: 0.584891\n",
      "Total training time: 0.00 seconds.\n",
      "-- Epoch 14\n",
      "Norm: 0.49, NNZs: 1, Bias: 0.277895, T: 266, Avg. loss: 0.577438\n",
      "Total training time: 0.00 seconds.\n",
      "-- Epoch 15\n",
      "Norm: 0.51, NNZs: 1, Bias: 0.287941, T: 285, Avg. loss: 0.570854\n",
      "Total training time: 0.00 seconds.\n",
      "-- Epoch 16\n",
      "Norm: 0.52, NNZs: 1, Bias: 0.297320, T: 304, Avg. loss: 0.565059\n",
      "Total training time: 0.00 seconds.\n",
      "-- Epoch 17\n",
      "Norm: 0.53, NNZs: 1, Bias: 0.306251, T: 323, Avg. loss: 0.559929\n",
      "Total training time: 0.00 seconds.\n",
      "-- Epoch 18\n",
      "Norm: 0.54, NNZs: 1, Bias: 0.314640, T: 342, Avg. loss: 0.555385\n",
      "Total training time: 0.00 seconds.\n",
      "-- Epoch 19\n",
      "Norm: 0.55, NNZs: 1, Bias: 0.322558, T: 361, Avg. loss: 0.551371\n",
      "Total training time: 0.00 seconds.\n",
      "-- Epoch 20\n",
      "Norm: 0.56, NNZs: 1, Bias: 0.329973, T: 380, Avg. loss: 0.547787\n",
      "Total training time: 0.00 seconds.\n",
      "-- Epoch 21\n",
      "Norm: 0.57, NNZs: 1, Bias: 0.337060, T: 399, Avg. loss: 0.544614\n",
      "Total training time: 0.00 seconds.\n",
      "-- Epoch 22\n",
      "Norm: 0.58, NNZs: 1, Bias: 0.343903, T: 418, Avg. loss: 0.541694\n",
      "Total training time: 0.00 seconds.\n",
      "-- Epoch 23\n",
      "Norm: 0.59, NNZs: 1, Bias: 0.350359, T: 437, Avg. loss: 0.539134\n",
      "Total training time: 0.00 seconds.\n",
      "-- Epoch 24\n",
      "Norm: 0.59, NNZs: 1, Bias: 0.356505, T: 456, Avg. loss: 0.536778\n",
      "Total training time: 0.00 seconds.\n",
      "-- Epoch 25\n",
      "Norm: 0.60, NNZs: 1, Bias: 0.362406, T: 475, Avg. loss: 0.534699\n",
      "Total training time: 0.00 seconds.\n",
      "-- Epoch 26\n",
      "Norm: 0.61, NNZs: 1, Bias: 0.367869, T: 494, Avg. loss: 0.532828\n",
      "Total training time: 0.00 seconds.\n",
      "-- Epoch 27\n",
      "Norm: 0.61, NNZs: 1, Bias: 0.373179, T: 513, Avg. loss: 0.531157\n",
      "Total training time: 0.00 seconds.\n",
      "-- Epoch 28\n",
      "Norm: 0.62, NNZs: 1, Bias: 0.378200, T: 532, Avg. loss: 0.529621\n",
      "Total training time: 0.00 seconds.\n",
      "-- Epoch 29\n",
      "Norm: 0.62, NNZs: 1, Bias: 0.383097, T: 551, Avg. loss: 0.528221\n",
      "Total training time: 0.01 seconds.\n",
      "-- Epoch 30\n",
      "Norm: 0.63, NNZs: 1, Bias: 0.387726, T: 570, Avg. loss: 0.526963\n",
      "Total training time: 0.01 seconds.\n",
      "-- Epoch 31\n",
      "Norm: 0.63, NNZs: 1, Bias: 0.392202, T: 589, Avg. loss: 0.525805\n",
      "Total training time: 0.01 seconds.\n",
      "-- Epoch 32\n",
      "Norm: 0.64, NNZs: 1, Bias: 0.396418, T: 608, Avg. loss: 0.524750\n",
      "Total training time: 0.01 seconds.\n",
      "-- Epoch 33\n",
      "Norm: 0.64, NNZs: 1, Bias: 0.400444, T: 627, Avg. loss: 0.523817\n",
      "Total training time: 0.01 seconds.\n",
      "Convergence after 33 epochs took 0.01 seconds\n",
      "-- Epoch 1\n",
      "Norm: 0.11, NNZs: 1, Bias: 0.063110, T: 33, Avg. loss: 0.897920\n",
      "Total training time: 0.00 seconds.\n",
      "-- Epoch 2\n",
      "Norm: 0.17, NNZs: 1, Bias: 0.093952, T: 66, Avg. loss: 0.835340\n",
      "Total training time: 0.00 seconds.\n",
      "-- Epoch 3\n",
      "Norm: 0.22, NNZs: 1, Bias: 0.118948, T: 99, Avg. loss: 0.802295\n",
      "Total training time: 0.00 seconds.\n",
      "-- Epoch 4\n",
      "Norm: 0.26, NNZs: 1, Bias: 0.139178, T: 132, Avg. loss: 0.779471\n",
      "Total training time: 0.00 seconds.\n",
      "-- Epoch 5\n",
      "Norm: 0.29, NNZs: 1, Bias: 0.156150, T: 165, Avg. loss: 0.762847\n",
      "Total training time: 0.00 seconds.\n",
      "-- Epoch 6\n",
      "Norm: 0.32, NNZs: 1, Bias: 0.171052, T: 198, Avg. loss: 0.750316\n",
      "Total training time: 0.00 seconds.\n",
      "-- Epoch 7\n",
      "Norm: 0.34, NNZs: 1, Bias: 0.183643, T: 231, Avg. loss: 0.740608\n",
      "Total training time: 0.00 seconds.\n",
      "-- Epoch 8\n",
      "Norm: 0.36, NNZs: 1, Bias: 0.194933, T: 264, Avg. loss: 0.733057\n",
      "Total training time: 0.00 seconds.\n",
      "-- Epoch 9\n",
      "Norm: 0.38, NNZs: 1, Bias: 0.204643, T: 297, Avg. loss: 0.727035\n",
      "Total training time: 0.00 seconds.\n",
      "-- Epoch 10\n",
      "Norm: 0.40, NNZs: 1, Bias: 0.213365, T: 330, Avg. loss: 0.722271\n",
      "Total training time: 0.00 seconds.\n",
      "-- Epoch 11\n",
      "Norm: 0.41, NNZs: 1, Bias: 0.220738, T: 363, Avg. loss: 0.718352\n",
      "Total training time: 0.00 seconds.\n",
      "-- Epoch 12\n",
      "Norm: 0.42, NNZs: 1, Bias: 0.227954, T: 396, Avg. loss: 0.715225\n",
      "Total training time: 0.00 seconds.\n",
      "-- Epoch 13\n",
      "Norm: 0.43, NNZs: 1, Bias: 0.234578, T: 429, Avg. loss: 0.712562\n",
      "Total training time: 0.00 seconds.\n",
      "-- Epoch 14\n",
      "Norm: 0.44, NNZs: 1, Bias: 0.240325, T: 462, Avg. loss: 0.710324\n",
      "Total training time: 0.00 seconds.\n",
      "-- Epoch 15\n",
      "Norm: 0.45, NNZs: 1, Bias: 0.245805, T: 495, Avg. loss: 0.708526\n",
      "Total training time: 0.00 seconds.\n",
      "-- Epoch 16\n",
      "Norm: 0.46, NNZs: 1, Bias: 0.250882, T: 528, Avg. loss: 0.706928\n",
      "Total training time: 0.01 seconds.\n",
      "-- Epoch 17\n",
      "Norm: 0.47, NNZs: 1, Bias: 0.255244, T: 561, Avg. loss: 0.705611\n",
      "Total training time: 0.01 seconds.\n",
      "-- Epoch 18\n",
      "Norm: 0.48, NNZs: 1, Bias: 0.259188, T: 594, Avg. loss: 0.704542\n",
      "Total training time: 0.01 seconds.\n",
      "-- Epoch 19\n",
      "Norm: 0.48, NNZs: 1, Bias: 0.262773, T: 627, Avg. loss: 0.703608\n",
      "Total training time: 0.01 seconds.\n",
      "Convergence after 19 epochs took 0.01 seconds\n",
      "-- Epoch 1\n",
      "Norm: 0.11, NNZs: 1, Bias: 0.039608, T: 47, Avg. loss: 0.729801\n",
      "Total training time: 0.00 seconds.\n",
      "-- Epoch 2\n",
      "Norm: 0.18, NNZs: 1, Bias: 0.068602, T: 94, Avg. loss: 0.679376\n",
      "Total training time: 0.00 seconds.\n",
      "-- Epoch 3\n",
      "Norm: 0.23, NNZs: 1, Bias: 0.089977, T: 141, Avg. loss: 0.650674\n",
      "Total training time: 0.00 seconds.\n",
      "-- Epoch 4\n",
      "Norm: 0.28, NNZs: 1, Bias: 0.107031, T: 188, Avg. loss: 0.631751\n",
      "Total training time: 0.00 seconds.\n",
      "-- Epoch 5\n",
      "Norm: 0.31, NNZs: 1, Bias: 0.121081, T: 235, Avg. loss: 0.618320\n",
      "Total training time: 0.00 seconds.\n",
      "-- Epoch 6\n",
      "Norm: 0.34, NNZs: 1, Bias: 0.132809, T: 282, Avg. loss: 0.608545\n",
      "Total training time: 0.00 seconds.\n",
      "-- Epoch 7\n",
      "Norm: 0.36, NNZs: 1, Bias: 0.143433, T: 329, Avg. loss: 0.601311\n",
      "Total training time: 0.00 seconds.\n",
      "-- Epoch 8\n",
      "Norm: 0.38, NNZs: 1, Bias: 0.152819, T: 376, Avg. loss: 0.595699\n",
      "Total training time: 0.00 seconds.\n",
      "-- Epoch 9\n",
      "Norm: 0.40, NNZs: 1, Bias: 0.161075, T: 423, Avg. loss: 0.591291\n",
      "Total training time: 0.00 seconds.\n",
      "-- Epoch 10\n",
      "Norm: 0.42, NNZs: 1, Bias: 0.167652, T: 470, Avg. loss: 0.587964\n",
      "Total training time: 0.00 seconds.\n",
      "-- Epoch 11\n",
      "Norm: 0.43, NNZs: 1, Bias: 0.173420, T: 517, Avg. loss: 0.585419\n",
      "Total training time: 0.00 seconds.\n",
      "-- Epoch 12\n",
      "Norm: 0.44, NNZs: 1, Bias: 0.178703, T: 564, Avg. loss: 0.583338\n",
      "Total training time: 0.00 seconds.\n",
      "-- Epoch 13\n",
      "Norm: 0.45, NNZs: 1, Bias: 0.182869, T: 611, Avg. loss: 0.581622\n",
      "Total training time: 0.00 seconds.\n",
      "-- Epoch 14\n",
      "Norm: 0.46, NNZs: 1, Bias: 0.186991, T: 658, Avg. loss: 0.580284\n",
      "Total training time: 0.00 seconds.\n",
      "-- Epoch 15\n",
      "Norm: 0.47, NNZs: 1, Bias: 0.190897, T: 705, Avg. loss: 0.579233\n",
      "Total training time: 0.00 seconds.\n",
      "-- Epoch 16\n",
      "Norm: 0.48, NNZs: 1, Bias: 0.194520, T: 752, Avg. loss: 0.578297\n",
      "Total training time: 0.00 seconds.\n",
      "Convergence after 16 epochs took 0.00 seconds\n",
      "-- Epoch 1\n",
      "Norm: 0.13, NNZs: 1, Bias: 0.041845, T: 61, Avg. loss: 0.606048\n",
      "Total training time: 0.00 seconds.\n",
      "-- Epoch 2\n",
      "Norm: 0.19, NNZs: 1, Bias: 0.060448, T: 122, Avg. loss: 0.568420\n",
      "Total training time: 0.00 seconds.\n",
      "-- Epoch 3\n",
      "Norm: 0.24, NNZs: 1, Bias: 0.073078, T: 183, Avg. loss: 0.550334\n",
      "Total training time: 0.00 seconds.\n",
      "-- Epoch 4\n",
      "Norm: 0.28, NNZs: 1, Bias: 0.081934, T: 244, Avg. loss: 0.539164\n",
      "Total training time: 0.00 seconds.\n",
      "-- Epoch 5\n",
      "Norm: 0.30, NNZs: 1, Bias: 0.088714, T: 305, Avg. loss: 0.531863\n",
      "Total training time: 0.00 seconds.\n",
      "-- Epoch 6\n",
      "Norm: 0.33, NNZs: 1, Bias: 0.093890, T: 366, Avg. loss: 0.526717\n",
      "Total training time: 0.00 seconds.\n",
      "-- Epoch 7\n",
      "Norm: 0.35, NNZs: 1, Bias: 0.097393, T: 427, Avg. loss: 0.523094\n",
      "Total training time: 0.00 seconds.\n",
      "-- Epoch 8\n",
      "Norm: 0.36, NNZs: 1, Bias: 0.100671, T: 488, Avg. loss: 0.520396\n",
      "Total training time: 0.00 seconds.\n",
      "-- Epoch 9\n",
      "Norm: 0.38, NNZs: 1, Bias: 0.103702, T: 549, Avg. loss: 0.518406\n",
      "Total training time: 0.00 seconds.\n",
      "-- Epoch 10\n",
      "Norm: 0.39, NNZs: 1, Bias: 0.105372, T: 610, Avg. loss: 0.516951\n",
      "Total training time: 0.00 seconds.\n",
      "-- Epoch 11\n",
      "Norm: 0.40, NNZs: 1, Bias: 0.107122, T: 671, Avg. loss: 0.515895\n",
      "Total training time: 0.00 seconds.\n",
      "-- Epoch 12\n",
      "Norm: 0.41, NNZs: 1, Bias: 0.108326, T: 732, Avg. loss: 0.515056\n",
      "Total training time: 0.00 seconds.\n",
      "Convergence after 12 epochs took 0.00 seconds\n",
      "-- Epoch 1\n",
      "Norm: 0.05, NNZs: 1, Bias: -0.027555, T: 6, Avg. loss: 0.377471\n",
      "Total training time: 0.00 seconds.\n",
      "-- Epoch 2\n",
      "Norm: 0.08, NNZs: 1, Bias: -0.042927, T: 12, Avg. loss: 0.326046\n",
      "Total training time: 0.00 seconds.\n",
      "-- Epoch 3\n",
      "Norm: 0.10, NNZs: 1, Bias: -0.056142, T: 18, Avg. loss: 0.297532\n",
      "Total training time: 0.00 seconds.\n",
      "-- Epoch 4\n",
      "Norm: 0.12, NNZs: 1, Bias: -0.067049, T: 24, Avg. loss: 0.276095\n",
      "Total training time: 0.00 seconds.\n",
      "-- Epoch 5\n",
      "Norm: 0.14, NNZs: 1, Bias: -0.076830, T: 30, Avg. loss: 0.259758\n",
      "Total training time: 0.00 seconds.\n",
      "-- Epoch 6\n",
      "Norm: 0.16, NNZs: 1, Bias: -0.085427, T: 36, Avg. loss: 0.246542\n",
      "Total training time: 0.00 seconds.\n",
      "-- Epoch 7\n",
      "Norm: 0.17, NNZs: 1, Bias: -0.093268, T: 42, Avg. loss: 0.235849\n",
      "Total training time: 0.00 seconds.\n",
      "-- Epoch 8\n",
      "Norm: 0.18, NNZs: 1, Bias: -0.100365, T: 48, Avg. loss: 0.226929\n",
      "Total training time: 0.00 seconds.\n",
      "-- Epoch 9\n",
      "Norm: 0.19, NNZs: 1, Bias: -0.106900, T: 54, Avg. loss: 0.219494\n",
      "Total training time: 0.00 seconds.\n",
      "-- Epoch 10\n",
      "Norm: 0.20, NNZs: 1, Bias: -0.112922, T: 60, Avg. loss: 0.213178\n",
      "Total training time: 0.00 seconds.\n",
      "-- Epoch 11\n",
      "Norm: 0.21, NNZs: 1, Bias: -0.118499, T: 66, Avg. loss: 0.207814\n",
      "Total training time: 0.00 seconds.\n",
      "-- Epoch 12\n",
      "Norm: 0.22, NNZs: 1, Bias: -0.123706, T: 72, Avg. loss: 0.203201\n",
      "Total training time: 0.00 seconds.\n",
      "-- Epoch 13\n",
      "Norm: 0.22, NNZs: 1, Bias: -0.128547, T: 78, Avg. loss: 0.199230\n",
      "Total training time: 0.00 seconds.\n",
      "-- Epoch 14\n",
      "Norm: 0.23, NNZs: 1, Bias: -0.133111, T: 84, Avg. loss: 0.195783\n",
      "Total training time: 0.00 seconds.\n",
      "-- Epoch 15\n",
      "Norm: 0.24, NNZs: 1, Bias: -0.137367, T: 90, Avg. loss: 0.192783\n",
      "Total training time: 0.00 seconds.\n",
      "-- Epoch 16\n",
      "Norm: 0.24, NNZs: 1, Bias: -0.141412, T: 96, Avg. loss: 0.190162\n",
      "Total training time: 0.00 seconds.\n",
      "-- Epoch 17\n",
      "Norm: 0.25, NNZs: 1, Bias: -0.145192, T: 102, Avg. loss: 0.187860\n",
      "Total training time: 0.00 seconds.\n",
      "-- Epoch 18\n",
      "Norm: 0.25, NNZs: 1, Bias: -0.148809, T: 108, Avg. loss: 0.185836\n",
      "Total training time: 0.00 seconds.\n",
      "-- Epoch 19\n",
      "Norm: 0.26, NNZs: 1, Bias: -0.152195, T: 114, Avg. loss: 0.184045\n",
      "Total training time: 0.00 seconds.\n",
      "-- Epoch 20\n",
      "Norm: 0.26, NNZs: 1, Bias: -0.155454, T: 120, Avg. loss: 0.182464\n",
      "Total training time: 0.00 seconds.\n",
      "-- Epoch 21\n",
      "Norm: 0.26, NNZs: 1, Bias: -0.158508, T: 126, Avg. loss: 0.181054\n",
      "Total training time: 0.00 seconds.\n",
      "-- Epoch 22\n",
      "Norm: 0.27, NNZs: 1, Bias: -0.161464, T: 132, Avg. loss: 0.179805\n",
      "Total training time: 0.00 seconds.\n",
      "-- Epoch 23\n",
      "Norm: 0.27, NNZs: 1, Bias: -0.164236, T: 138, Avg. loss: 0.178683\n",
      "Total training time: 0.00 seconds.\n",
      "-- Epoch 24\n",
      "Norm: 0.27, NNZs: 1, Bias: -0.166932, T: 144, Avg. loss: 0.177686\n",
      "Total training time: 0.00 seconds.\n",
      "Convergence after 24 epochs took 0.00 seconds\n",
      "-- Epoch 1\n",
      "Norm: 0.03, NNZs: 1, Bias: -0.040083, T: 19, Avg. loss: 0.257593\n",
      "Total training time: 0.00 seconds.\n",
      "-- Epoch 2\n",
      "Norm: 0.06, NNZs: 1, Bias: -0.067321, T: 38, Avg. loss: 0.237684\n",
      "Total training time: 0.00 seconds.\n",
      "-- Epoch 3\n",
      "Norm: 0.07, NNZs: 1, Bias: -0.088634, T: 57, Avg. loss: 0.224911\n",
      "Total training time: 0.00 seconds.\n",
      "-- Epoch 4\n",
      "Norm: 0.09, NNZs: 1, Bias: -0.106675, T: 76, Avg. loss: 0.215566\n",
      "Total training time: 0.00 seconds.\n",
      "-- Epoch 5\n",
      "Norm: 0.10, NNZs: 1, Bias: -0.122385, T: 95, Avg. loss: 0.208232\n",
      "Total training time: 0.00 seconds.\n",
      "-- Epoch 6\n",
      "Norm: 0.11, NNZs: 1, Bias: -0.136331, T: 114, Avg. loss: 0.202377\n",
      "Total training time: 0.00 seconds.\n",
      "-- Epoch 7\n",
      "Norm: 0.12, NNZs: 1, Bias: -0.148735, T: 133, Avg. loss: 0.197624\n",
      "Total training time: 0.00 seconds.\n",
      "-- Epoch 8\n",
      "Norm: 0.13, NNZs: 1, Bias: -0.159917, T: 152, Avg. loss: 0.193671\n",
      "Total training time: 0.00 seconds.\n",
      "-- Epoch 9\n",
      "Norm: 0.14, NNZs: 1, Bias: -0.170079, T: 171, Avg. loss: 0.190377\n",
      "Total training time: 0.00 seconds.\n",
      "-- Epoch 10\n",
      "Norm: 0.14, NNZs: 1, Bias: -0.179322, T: 190, Avg. loss: 0.187590\n",
      "Total training time: 0.00 seconds.\n",
      "-- Epoch 11\n",
      "Norm: 0.15, NNZs: 1, Bias: -0.187813, T: 209, Avg. loss: 0.185223\n",
      "Total training time: 0.00 seconds.\n",
      "-- Epoch 12\n",
      "Norm: 0.15, NNZs: 1, Bias: -0.195788, T: 228, Avg. loss: 0.183172\n",
      "Total training time: 0.00 seconds.\n",
      "-- Epoch 13\n",
      "Norm: 0.16, NNZs: 1, Bias: -0.203120, T: 247, Avg. loss: 0.181405\n",
      "Total training time: 0.00 seconds.\n",
      "-- Epoch 14\n",
      "Norm: 0.16, NNZs: 1, Bias: -0.209853, T: 266, Avg. loss: 0.179876\n",
      "Total training time: 0.00 seconds.\n",
      "-- Epoch 15\n",
      "Norm: 0.17, NNZs: 1, Bias: -0.216264, T: 285, Avg. loss: 0.178537\n",
      "Total training time: 0.00 seconds.\n",
      "-- Epoch 16\n",
      "Norm: 0.17, NNZs: 1, Bias: -0.222072, T: 304, Avg. loss: 0.177381\n",
      "Total training time: 0.00 seconds.\n",
      "-- Epoch 17\n",
      "Norm: 0.17, NNZs: 1, Bias: -0.227525, T: 323, Avg. loss: 0.176372\n",
      "Total training time: 0.00 seconds.\n",
      "-- Epoch 18\n",
      "Norm: 0.18, NNZs: 1, Bias: -0.232619, T: 342, Avg. loss: 0.175489\n",
      "Total training time: 0.00 seconds.\n",
      "Convergence after 18 epochs took 0.00 seconds\n",
      "-- Epoch 1\n",
      "Norm: 0.04, NNZs: 1, Bias: -0.048927, T: 33, Avg. loss: 0.223325\n",
      "Total training time: 0.00 seconds.\n",
      "-- Epoch 2\n",
      "Norm: 0.07, NNZs: 1, Bias: -0.079734, T: 66, Avg. loss: 0.205490\n",
      "Total training time: 0.00 seconds.\n",
      "-- Epoch 3\n",
      "Norm: 0.09, NNZs: 1, Bias: -0.103461, T: 99, Avg. loss: 0.194769\n",
      "Total training time: 0.00 seconds.\n",
      "-- Epoch 4\n",
      "Norm: 0.10, NNZs: 1, Bias: -0.122754, T: 132, Avg. loss: 0.187352\n",
      "Total training time: 0.00 seconds.\n",
      "-- Epoch 5\n",
      "Norm: 0.12, NNZs: 1, Bias: -0.138798, T: 165, Avg. loss: 0.181898\n",
      "Total training time: 0.00 seconds.\n",
      "-- Epoch 6\n",
      "Norm: 0.13, NNZs: 1, Bias: -0.152525, T: 198, Avg. loss: 0.177788\n",
      "Total training time: 0.00 seconds.\n",
      "-- Epoch 7\n",
      "Norm: 0.14, NNZs: 1, Bias: -0.164587, T: 231, Avg. loss: 0.174587\n",
      "Total training time: 0.00 seconds.\n",
      "-- Epoch 8\n",
      "Norm: 0.15, NNZs: 1, Bias: -0.175116, T: 264, Avg. loss: 0.172017\n",
      "Total training time: 0.00 seconds.\n",
      "-- Epoch 9\n",
      "Norm: 0.15, NNZs: 1, Bias: -0.184423, T: 297, Avg. loss: 0.169980\n",
      "Total training time: 0.00 seconds.\n",
      "-- Epoch 10\n",
      "Norm: 0.16, NNZs: 1, Bias: -0.192731, T: 330, Avg. loss: 0.168348\n",
      "Total training time: 0.00 seconds.\n",
      "-- Epoch 11\n",
      "Norm: 0.17, NNZs: 1, Bias: -0.200106, T: 363, Avg. loss: 0.167006\n",
      "Total training time: 0.00 seconds.\n",
      "-- Epoch 12\n",
      "Norm: 0.17, NNZs: 1, Bias: -0.206676, T: 396, Avg. loss: 0.165916\n",
      "Total training time: 0.00 seconds.\n",
      "-- Epoch 13\n",
      "Norm: 0.18, NNZs: 1, Bias: -0.212722, T: 429, Avg. loss: 0.165012\n",
      "Total training time: 0.00 seconds.\n",
      "Convergence after 13 epochs took 0.00 seconds\n",
      "-- Epoch 1\n",
      "Norm: 0.07, NNZs: 1, Bias: -0.047079, T: 47, Avg. loss: 0.254404\n",
      "Total training time: 0.00 seconds.\n",
      "-- Epoch 2\n",
      "Norm: 0.10, NNZs: 1, Bias: -0.073109, T: 94, Avg. loss: 0.236846\n",
      "Total training time: 0.00 seconds.\n",
      "-- Epoch 3\n",
      "Norm: 0.13, NNZs: 1, Bias: -0.092477, T: 141, Avg. loss: 0.227186\n",
      "Total training time: 0.00 seconds.\n",
      "-- Epoch 4\n",
      "Norm: 0.15, NNZs: 1, Bias: -0.107048, T: 188, Avg. loss: 0.220896\n",
      "Total training time: 0.00 seconds.\n",
      "-- Epoch 5\n",
      "Norm: 0.16, NNZs: 1, Bias: -0.118902, T: 235, Avg. loss: 0.216592\n",
      "Total training time: 0.00 seconds.\n",
      "-- Epoch 6\n",
      "Norm: 0.18, NNZs: 1, Bias: -0.129251, T: 282, Avg. loss: 0.213409\n",
      "Total training time: 0.00 seconds.\n",
      "-- Epoch 7\n",
      "Norm: 0.19, NNZs: 1, Bias: -0.137367, T: 329, Avg. loss: 0.211038\n",
      "Total training time: 0.00 seconds.\n",
      "-- Epoch 8\n",
      "Norm: 0.20, NNZs: 1, Bias: -0.144240, T: 376, Avg. loss: 0.209256\n",
      "Total training time: 0.00 seconds.\n",
      "-- Epoch 9\n",
      "Norm: 0.21, NNZs: 1, Bias: -0.150448, T: 423, Avg. loss: 0.207880\n",
      "Total training time: 0.00 seconds.\n",
      "-- Epoch 10\n",
      "Norm: 0.22, NNZs: 1, Bias: -0.155516, T: 470, Avg. loss: 0.206792\n",
      "Total training time: 0.00 seconds.\n",
      "-- Epoch 11\n",
      "Norm: 0.23, NNZs: 1, Bias: -0.159979, T: 517, Avg. loss: 0.205942\n",
      "Total training time: 0.00 seconds.\n",
      "Convergence after 11 epochs took 0.00 seconds\n",
      "-- Epoch 1\n",
      "Norm: 0.07, NNZs: 1, Bias: -0.049851, T: 61, Avg. loss: 0.244553\n",
      "Total training time: 0.00 seconds.\n",
      "-- Epoch 2\n",
      "Norm: 0.11, NNZs: 1, Bias: -0.076456, T: 122, Avg. loss: 0.227727\n",
      "Total training time: 0.00 seconds.\n",
      "-- Epoch 3\n",
      "Norm: 0.13, NNZs: 1, Bias: -0.096224, T: 183, Avg. loss: 0.218947\n",
      "Total training time: 0.00 seconds.\n",
      "-- Epoch 4\n",
      "Norm: 0.16, NNZs: 1, Bias: -0.111560, T: 244, Avg. loss: 0.213227\n",
      "Total training time: 0.00 seconds.\n",
      "-- Epoch 5\n",
      "Norm: 0.17, NNZs: 1, Bias: -0.123757, T: 305, Avg. loss: 0.209301\n",
      "Total training time: 0.00 seconds.\n",
      "-- Epoch 6\n",
      "Norm: 0.19, NNZs: 1, Bias: -0.133476, T: 366, Avg. loss: 0.206549\n",
      "Total training time: 0.00 seconds.\n",
      "-- Epoch 7\n",
      "Norm: 0.20, NNZs: 1, Bias: -0.141121, T: 427, Avg. loss: 0.204468\n",
      "Total training time: 0.00 seconds.\n",
      "-- Epoch 8\n",
      "Norm: 0.21, NNZs: 1, Bias: -0.147561, T: 488, Avg. loss: 0.202964\n",
      "Total training time: 0.00 seconds.\n",
      "-- Epoch 9\n",
      "Norm: 0.22, NNZs: 1, Bias: -0.153734, T: 549, Avg. loss: 0.201830\n",
      "Total training time: 0.00 seconds.\n",
      "-- Epoch 10\n",
      "Norm: 0.23, NNZs: 1, Bias: -0.158890, T: 610, Avg. loss: 0.200931\n",
      "Total training time: 0.00 seconds.\n",
      "Convergence after 10 epochs took 0.00 seconds\n",
      "-- Epoch 1\n",
      "Norm: 0.05, NNZs: 1, Bias: -0.026237, T: 6, Avg. loss: 0.377685\n",
      "Total training time: 0.00 seconds.\n",
      "-- Epoch 2\n",
      "Norm: 0.08, NNZs: 1, Bias: -0.042010, T: 12, Avg. loss: 0.327148\n",
      "Total training time: 0.00 seconds.\n",
      "-- Epoch 3\n",
      "Norm: 0.10, NNZs: 1, Bias: -0.055111, T: 18, Avg. loss: 0.298779\n",
      "Total training time: 0.00 seconds.\n",
      "-- Epoch 4\n",
      "Norm: 0.12, NNZs: 1, Bias: -0.066427, T: 24, Avg. loss: 0.277418\n",
      "Total training time: 0.00 seconds.\n",
      "-- Epoch 5\n",
      "Norm: 0.14, NNZs: 1, Bias: -0.076294, T: 30, Avg. loss: 0.260697\n",
      "Total training time: 0.00 seconds.\n",
      "-- Epoch 6\n",
      "Norm: 0.15, NNZs: 1, Bias: -0.084930, T: 36, Avg. loss: 0.247424\n",
      "Total training time: 0.00 seconds.\n",
      "-- Epoch 7\n",
      "Norm: 0.17, NNZs: 1, Bias: -0.092745, T: 42, Avg. loss: 0.236617\n",
      "Total training time: 0.00 seconds.\n",
      "-- Epoch 8\n",
      "Norm: 0.18, NNZs: 1, Bias: -0.099835, T: 48, Avg. loss: 0.227673\n",
      "Total training time: 0.00 seconds.\n",
      "-- Epoch 9\n",
      "Norm: 0.19, NNZs: 1, Bias: -0.106382, T: 54, Avg. loss: 0.220236\n",
      "Total training time: 0.00 seconds.\n",
      "-- Epoch 10\n",
      "Norm: 0.20, NNZs: 1, Bias: -0.112502, T: 60, Avg. loss: 0.213821\n",
      "Total training time: 0.00 seconds.\n",
      "-- Epoch 11\n",
      "Norm: 0.21, NNZs: 1, Bias: -0.118190, T: 66, Avg. loss: 0.208299\n",
      "Total training time: 0.00 seconds.\n",
      "-- Epoch 12\n",
      "Norm: 0.22, NNZs: 1, Bias: -0.123418, T: 72, Avg. loss: 0.203601\n",
      "Total training time: 0.00 seconds.\n",
      "-- Epoch 13\n",
      "Norm: 0.22, NNZs: 1, Bias: -0.128255, T: 78, Avg. loss: 0.199585\n",
      "Total training time: 0.00 seconds.\n",
      "-- Epoch 14\n",
      "Norm: 0.23, NNZs: 1, Bias: -0.132781, T: 84, Avg. loss: 0.196132\n",
      "Total training time: 0.00 seconds.\n",
      "-- Epoch 15\n",
      "Norm: 0.23, NNZs: 1, Bias: -0.137052, T: 90, Avg. loss: 0.193146\n",
      "Total training time: 0.00 seconds.\n",
      "-- Epoch 16\n",
      "Norm: 0.24, NNZs: 1, Bias: -0.141136, T: 96, Avg. loss: 0.190470\n",
      "Total training time: 0.00 seconds.\n",
      "-- Epoch 17\n",
      "Norm: 0.25, NNZs: 1, Bias: -0.145014, T: 102, Avg. loss: 0.188087\n",
      "Total training time: 0.00 seconds.\n",
      "-- Epoch 18\n",
      "Norm: 0.25, NNZs: 1, Bias: -0.148644, T: 108, Avg. loss: 0.186016\n",
      "Total training time: 0.00 seconds.\n",
      "-- Epoch 19\n",
      "Norm: 0.25, NNZs: 1, Bias: -0.152027, T: 114, Avg. loss: 0.184208\n",
      "Total training time: 0.00 seconds.\n",
      "-- Epoch 20\n",
      "Norm: 0.26, NNZs: 1, Bias: -0.155239, T: 120, Avg. loss: 0.182626\n",
      "Total training time: 0.00 seconds.\n",
      "-- Epoch 21\n",
      "Norm: 0.26, NNZs: 1, Bias: -0.158305, T: 126, Avg. loss: 0.181236\n",
      "Total training time: 0.00 seconds.\n",
      "-- Epoch 22\n",
      "Norm: 0.27, NNZs: 1, Bias: -0.161275, T: 132, Avg. loss: 0.179956\n",
      "Total training time: 0.00 seconds.\n",
      "-- Epoch 23\n",
      "Norm: 0.27, NNZs: 1, Bias: -0.164134, T: 138, Avg. loss: 0.178788\n",
      "Total training time: 0.00 seconds.\n",
      "-- Epoch 24\n",
      "Norm: 0.27, NNZs: 1, Bias: -0.166837, T: 144, Avg. loss: 0.177765\n",
      "Total training time: 0.00 seconds.\n",
      "-- Epoch 25\n",
      "Norm: 0.27, NNZs: 1, Bias: -0.169365, T: 150, Avg. loss: 0.176857\n",
      "Total training time: 0.00 seconds.\n",
      "Convergence after 25 epochs took 0.00 seconds\n",
      "-- Epoch 1\n",
      "Norm: 0.03, NNZs: 1, Bias: -0.042214, T: 19, Avg. loss: 0.256771\n",
      "Total training time: 0.00 seconds.\n",
      "-- Epoch 2\n",
      "Norm: 0.06, NNZs: 1, Bias: -0.068724, T: 38, Avg. loss: 0.236749\n",
      "Total training time: 0.00 seconds.\n",
      "-- Epoch 3\n",
      "Norm: 0.08, NNZs: 1, Bias: -0.089655, T: 57, Avg. loss: 0.224064\n",
      "Total training time: 0.00 seconds.\n",
      "-- Epoch 4\n",
      "Norm: 0.09, NNZs: 1, Bias: -0.107528, T: 76, Avg. loss: 0.214820\n",
      "Total training time: 0.00 seconds.\n",
      "-- Epoch 5\n",
      "Norm: 0.10, NNZs: 1, Bias: -0.123059, T: 95, Avg. loss: 0.207668\n",
      "Total training time: 0.00 seconds.\n",
      "-- Epoch 6\n",
      "Norm: 0.11, NNZs: 1, Bias: -0.136867, T: 114, Avg. loss: 0.201922\n",
      "Total training time: 0.00 seconds.\n",
      "-- Epoch 7\n",
      "Norm: 0.12, NNZs: 1, Bias: -0.149183, T: 133, Avg. loss: 0.197214\n",
      "Total training time: 0.00 seconds.\n",
      "-- Epoch 8\n",
      "Norm: 0.13, NNZs: 1, Bias: -0.160312, T: 152, Avg. loss: 0.193342\n",
      "Total training time: 0.00 seconds.\n",
      "-- Epoch 9\n",
      "Norm: 0.14, NNZs: 1, Bias: -0.170478, T: 171, Avg. loss: 0.190077\n",
      "Total training time: 0.00 seconds.\n",
      "-- Epoch 10\n",
      "Norm: 0.14, NNZs: 1, Bias: -0.179746, T: 190, Avg. loss: 0.187331\n",
      "Total training time: 0.00 seconds.\n",
      "-- Epoch 11\n",
      "Norm: 0.15, NNZs: 1, Bias: -0.188176, T: 209, Avg. loss: 0.184998\n",
      "Total training time: 0.00 seconds.\n",
      "-- Epoch 12\n",
      "Norm: 0.15, NNZs: 1, Bias: -0.196033, T: 228, Avg. loss: 0.182999\n",
      "Total training time: 0.00 seconds.\n",
      "-- Epoch 13\n",
      "Norm: 0.16, NNZs: 1, Bias: -0.203290, T: 247, Avg. loss: 0.181261\n",
      "Total training time: 0.00 seconds.\n",
      "-- Epoch 14\n",
      "Norm: 0.16, NNZs: 1, Bias: -0.210053, T: 266, Avg. loss: 0.179765\n",
      "Total training time: 0.00 seconds.\n",
      "-- Epoch 15\n",
      "Norm: 0.17, NNZs: 1, Bias: -0.216377, T: 285, Avg. loss: 0.178449\n",
      "Total training time: 0.00 seconds.\n",
      "-- Epoch 16\n",
      "Norm: 0.17, NNZs: 1, Bias: -0.222206, T: 304, Avg. loss: 0.177311\n",
      "Total training time: 0.00 seconds.\n",
      "-- Epoch 17\n",
      "Norm: 0.17, NNZs: 1, Bias: -0.227606, T: 323, Avg. loss: 0.176316\n",
      "Total training time: 0.00 seconds.\n",
      "Convergence after 17 epochs took 0.00 seconds\n",
      "-- Epoch 1\n",
      "Norm: 0.04, NNZs: 1, Bias: -0.045454, T: 33, Avg. loss: 0.208702\n",
      "Total training time: 0.00 seconds.\n",
      "-- Epoch 2\n",
      "Norm: 0.07, NNZs: 1, Bias: -0.071353, T: 66, Avg. loss: 0.191697\n",
      "Total training time: 0.00 seconds.\n",
      "-- Epoch 3\n",
      "Norm: 0.10, NNZs: 1, Bias: -0.091028, T: 99, Avg. loss: 0.181411\n",
      "Total training time: 0.00 seconds.\n",
      "-- Epoch 4\n",
      "Norm: 0.11, NNZs: 1, Bias: -0.106971, T: 132, Avg. loss: 0.174283\n",
      "Total training time: 0.00 seconds.\n",
      "-- Epoch 5\n",
      "Norm: 0.13, NNZs: 1, Bias: -0.120170, T: 165, Avg. loss: 0.169042\n",
      "Total training time: 0.00 seconds.\n",
      "-- Epoch 6\n",
      "Norm: 0.14, NNZs: 1, Bias: -0.131458, T: 198, Avg. loss: 0.165077\n",
      "Total training time: 0.00 seconds.\n",
      "-- Epoch 7\n",
      "Norm: 0.16, NNZs: 1, Bias: -0.141345, T: 231, Avg. loss: 0.161970\n",
      "Total training time: 0.00 seconds.\n",
      "-- Epoch 8\n",
      "Norm: 0.17, NNZs: 1, Bias: -0.149968, T: 264, Avg. loss: 0.159504\n",
      "Total training time: 0.00 seconds.\n",
      "-- Epoch 9\n",
      "Norm: 0.17, NNZs: 1, Bias: -0.157513, T: 297, Avg. loss: 0.157547\n",
      "Total training time: 0.00 seconds.\n",
      "-- Epoch 10\n",
      "Norm: 0.18, NNZs: 1, Bias: -0.164220, T: 330, Avg. loss: 0.155957\n",
      "Total training time: 0.00 seconds.\n",
      "-- Epoch 11\n",
      "Norm: 0.19, NNZs: 1, Bias: -0.169914, T: 363, Avg. loss: 0.154658\n",
      "Total training time: 0.00 seconds.\n",
      "-- Epoch 12\n",
      "Norm: 0.20, NNZs: 1, Bias: -0.175261, T: 396, Avg. loss: 0.153622\n",
      "Total training time: 0.00 seconds.\n",
      "-- Epoch 13\n",
      "Norm: 0.20, NNZs: 1, Bias: -0.180065, T: 429, Avg. loss: 0.152744\n",
      "Total training time: 0.00 seconds.\n",
      "Convergence after 13 epochs took 0.00 seconds\n",
      "-- Epoch 1\n",
      "Norm: 0.10, NNZs: 1, Bias: -0.021251, T: 47, Avg. loss: 0.412841\n",
      "Total training time: 0.00 seconds.\n",
      "-- Epoch 2\n",
      "Norm: 0.16, NNZs: 1, Bias: -0.025341, T: 94, Avg. loss: 0.382401\n",
      "Total training time: 0.00 seconds.\n",
      "-- Epoch 3\n",
      "Norm: 0.20, NNZs: 1, Bias: -0.026785, T: 141, Avg. loss: 0.366139\n",
      "Total training time: 0.00 seconds.\n",
      "-- Epoch 4\n",
      "Norm: 0.23, NNZs: 1, Bias: -0.026850, T: 188, Avg. loss: 0.355748\n",
      "Total training time: 0.00 seconds.\n",
      "-- Epoch 5\n",
      "Norm: 0.26, NNZs: 1, Bias: -0.026965, T: 235, Avg. loss: 0.348728\n",
      "Total training time: 0.00 seconds.\n",
      "-- Epoch 6\n",
      "Norm: 0.28, NNZs: 1, Bias: -0.026440, T: 282, Avg. loss: 0.343748\n",
      "Total training time: 0.00 seconds.\n",
      "-- Epoch 7\n",
      "Norm: 0.30, NNZs: 1, Bias: -0.025535, T: 329, Avg. loss: 0.340062\n",
      "Total training time: 0.00 seconds.\n",
      "-- Epoch 8\n",
      "Norm: 0.32, NNZs: 1, Bias: -0.024616, T: 376, Avg. loss: 0.337307\n",
      "Total training time: 0.00 seconds.\n",
      "-- Epoch 9\n",
      "Norm: 0.33, NNZs: 1, Bias: -0.023573, T: 423, Avg. loss: 0.335257\n",
      "Total training time: 0.00 seconds.\n",
      "-- Epoch 10\n",
      "Norm: 0.34, NNZs: 1, Bias: -0.022364, T: 470, Avg. loss: 0.333720\n",
      "Total training time: 0.00 seconds.\n",
      "-- Epoch 11\n",
      "Norm: 0.35, NNZs: 1, Bias: -0.021057, T: 517, Avg. loss: 0.332508\n",
      "Total training time: 0.00 seconds.\n",
      "-- Epoch 12\n",
      "Norm: 0.36, NNZs: 1, Bias: -0.020076, T: 564, Avg. loss: 0.331563\n",
      "Total training time: 0.00 seconds.\n",
      "Convergence after 12 epochs took 0.00 seconds\n",
      "-- Epoch 1\n",
      "Norm: 0.13, NNZs: 1, Bias: 0.011247, T: 61, Avg. loss: 0.582457\n",
      "Total training time: 0.00 seconds.\n",
      "-- Epoch 2\n",
      "Norm: 0.20, NNZs: 1, Bias: 0.019560, T: 122, Avg. loss: 0.543236\n",
      "Total training time: 0.00 seconds.\n",
      "-- Epoch 3\n",
      "Norm: 0.25, NNZs: 1, Bias: 0.025488, T: 183, Avg. loss: 0.524126\n",
      "Total training time: 0.00 seconds.\n",
      "-- Epoch 4\n",
      "Norm: 0.29, NNZs: 1, Bias: 0.030502, T: 244, Avg. loss: 0.512672\n",
      "Total training time: 0.00 seconds.\n",
      "-- Epoch 5\n",
      "Norm: 0.32, NNZs: 1, Bias: 0.035141, T: 305, Avg. loss: 0.505253\n",
      "Total training time: 0.00 seconds.\n",
      "-- Epoch 6\n",
      "Norm: 0.34, NNZs: 1, Bias: 0.039703, T: 366, Avg. loss: 0.500079\n",
      "Total training time: 0.00 seconds.\n",
      "-- Epoch 7\n",
      "Norm: 0.36, NNZs: 1, Bias: 0.044262, T: 427, Avg. loss: 0.496548\n",
      "Total training time: 0.00 seconds.\n",
      "-- Epoch 8\n",
      "Norm: 0.38, NNZs: 1, Bias: 0.047513, T: 488, Avg. loss: 0.494082\n",
      "Total training time: 0.07 seconds.\n",
      "-- Epoch 9\n",
      "Norm: 0.39, NNZs: 1, Bias: 0.050846, T: 549, Avg. loss: 0.492272\n",
      "Total training time: 0.07 seconds.\n",
      "-- Epoch 10\n",
      "Norm: 0.40, NNZs: 1, Bias: 0.053000, T: 610, Avg. loss: 0.490922\n",
      "Total training time: 0.07 seconds.\n",
      "-- Epoch 11\n",
      "Norm: 0.41, NNZs: 1, Bias: 0.055999, T: 671, Avg. loss: 0.489886\n",
      "Total training time: 0.07 seconds.\n",
      "-- Epoch 12\n",
      "Norm: 0.42, NNZs: 1, Bias: 0.058228, T: 732, Avg. loss: 0.489181\n",
      "Total training time: 0.07 seconds.\n",
      "Convergence after 12 epochs took 0.07 seconds\n"
     ]
    }
   ],
   "source": [
    "# 1. Generate the learning curve for linear_model\n",
    "# By default this uses 3-fold Cross Validation (more on that later)\n",
    "train_sizes, train_scores, validation_scores = learning_curve(\n",
    "    linear_model, X_train_scaled, y_train_scaled)\n",
    "\n",
    "# 2. Compute some stats\n",
    "train_scores_mean = np.mean(train_scores, axis=1)\n",
    "train_scores_std = np.std(train_scores, axis=1)\n",
    "validation_scores_mean = np.mean(validation_scores, axis=1)\n",
    "validation_scores_std = np.std(validation_scores, axis=1)"
   ]
  },
  {
   "cell_type": "code",
   "execution_count": 108,
   "metadata": {},
   "outputs": [
    {
     "data": {
      "text/plain": [
       "<matplotlib.legend.Legend at 0x23f31e9b048>"
      ]
     },
     "execution_count": 108,
     "metadata": {},
     "output_type": "execute_result"
    },
    {
     "data": {
      "image/png": "[encoded data removed]",
      "text/plain": [
       "<Figure size 1080x576 with 1 Axes>"
      ]
     },
     "metadata": {},
     "output_type": "display_data"
    }
   ],
   "source": [
    "# 3. Plot the learning curve, along with the stats\n",
    "fig, ax = plt.subplots(figsize=(15, 8))\n",
    "\n",
    "ax.fill_between(train_sizes, train_scores_mean - train_scores_std,\n",
    "                train_scores_mean + train_scores_std, alpha=0.1,\n",
    "                color=\"r\")\n",
    "ax.fill_between(train_sizes, validation_scores_mean - validation_scores_std,\n",
    "                validation_scores_mean + validation_scores_std, alpha=0.1, color=\"g\")\n",
    "ax.plot(train_sizes, train_scores_mean, 'o-', color=\"r\",\n",
    "        label=\"Training score\")\n",
    "ax.plot(train_sizes, validation_scores_mean, 'o-', color=\"g\",\n",
    "        label=\"Cross-validation score\")\n",
    "ax.set(title='Gross Monthly Median Income and Employment Rate: 1st Order Model',\n",
    "       xlabel='Training examples',\n",
    "       ylabel='Scores')\n",
    "ax.grid()\n",
    "ax.legend()"
   ]
  },
  {
   "cell_type": "markdown",
   "metadata": {},
   "source": [
    "### Exercise: Learning Curve for Polynomial Model\n",
    "\n",
    "Follow the example above and:\n",
    "1. Generate the learning curve for the polynomial model (`poly_model`)\n",
    "2. Compute statistics\n",
    "3. Plot the learning curve and the statistics"
   ]
  },
  {
   "cell_type": "code",
   "execution_count": 109,
   "metadata": {},
   "outputs": [
    {
     "name": "stdout",
     "output_type": "stream",
     "text": [
      "-- Epoch 1\n",
      "Norm: 0.06, NNZs: 12, Bias: 0.019362, T: 6, Avg. loss: 0.585224\n",
      "Total training time: 0.00 seconds.\n",
      "-- Epoch 2\n",
      "Norm: 0.09, NNZs: 12, Bias: 0.036840, T: 12, Avg. loss: 0.522749\n",
      "Total training time: 0.00 seconds.\n",
      "-- Epoch 3\n",
      "Norm: 0.11, NNZs: 12, Bias: 0.054118, T: 18, Avg. loss: 0.492864\n",
      "Total training time: 0.00 seconds.\n",
      "-- Epoch 4\n",
      "Norm: 0.12, NNZs: 12, Bias: 0.070941, T: 24, Avg. loss: 0.472593\n",
      "Total training time: 0.00 seconds.\n",
      "-- Epoch 5\n",
      "Norm: 0.13, NNZs: 12, Bias: 0.086438, T: 30, Avg. loss: 0.457770\n",
      "Total training time: 0.00 seconds.\n",
      "-- Epoch 6\n",
      "Norm: 0.14, NNZs: 12, Bias: 0.100283, T: 36, Avg. loss: 0.444314\n",
      "Total training time: 0.00 seconds.\n",
      "-- Epoch 7\n",
      "Norm: 0.15, NNZs: 12, Bias: 0.113181, T: 42, Avg. loss: 0.432536\n",
      "Total training time: 0.00 seconds.\n",
      "-- Epoch 8\n",
      "Norm: 0.15, NNZs: 12, Bias: 0.125451, T: 48, Avg. loss: 0.422952\n",
      "Total training time: 0.00 seconds.\n",
      "-- Epoch 9\n",
      "Norm: 0.16, NNZs: 12, Bias: 0.137704, T: 54, Avg. loss: 0.415531\n",
      "Total training time: 0.00 seconds.\n",
      "-- Epoch 10\n",
      "Norm: 0.16, NNZs: 12, Bias: 0.149814, T: 60, Avg. loss: 0.407367\n",
      "Total training time: 0.00 seconds.\n",
      "-- Epoch 11\n",
      "Norm: 0.16, NNZs: 12, Bias: 0.161346, T: 66, Avg. loss: 0.400744\n",
      "Total training time: 0.00 seconds.\n",
      "-- Epoch 12\n",
      "Norm: 0.16, NNZs: 12, Bias: 0.172040, T: 72, Avg. loss: 0.393790\n",
      "Total training time: 0.00 seconds.\n",
      "-- Epoch 13\n",
      "Norm: 0.17, NNZs: 12, Bias: 0.182227, T: 78, Avg. loss: 0.387094\n",
      "Total training time: 0.00 seconds.\n",
      "-- Epoch 14\n",
      "Norm: 0.17, NNZs: 12, Bias: 0.192004, T: 84, Avg. loss: 0.381267\n",
      "Total training time: 0.00 seconds.\n",
      "-- Epoch 15\n",
      "Norm: 0.17, NNZs: 12, Bias: 0.201809, T: 90, Avg. loss: 0.376456\n",
      "Total training time: 0.00 seconds.\n",
      "-- Epoch 16\n",
      "Norm: 0.17, NNZs: 12, Bias: 0.211557, T: 96, Avg. loss: 0.370773\n",
      "Total training time: 0.00 seconds.\n",
      "-- Epoch 17\n",
      "Norm: 0.17, NNZs: 12, Bias: 0.220929, T: 102, Avg. loss: 0.366204\n",
      "Total training time: 0.00 seconds.\n",
      "-- Epoch 18\n",
      "Norm: 0.18, NNZs: 12, Bias: 0.229724, T: 108, Avg. loss: 0.361276\n",
      "Total training time: 0.00 seconds.\n",
      "-- Epoch 19\n",
      "Norm: 0.18, NNZs: 12, Bias: 0.238178, T: 114, Avg. loss: 0.356488\n",
      "Total training time: 0.00 seconds.\n",
      "-- Epoch 20\n",
      "Norm: 0.18, NNZs: 12, Bias: 0.246328, T: 120, Avg. loss: 0.352244\n",
      "Total training time: 0.00 seconds.\n",
      "-- Epoch 21\n",
      "Norm: 0.18, NNZs: 12, Bias: 0.254531, T: 126, Avg. loss: 0.348682\n",
      "Total training time: 0.00 seconds.\n",
      "-- Epoch 22\n",
      "Norm: 0.18, NNZs: 12, Bias: 0.262720, T: 132, Avg. loss: 0.344364\n",
      "Total training time: 0.00 seconds.\n",
      "-- Epoch 23\n",
      "Norm: 0.18, NNZs: 12, Bias: 0.270632, T: 138, Avg. loss: 0.340946\n",
      "Total training time: 0.00 seconds.\n",
      "-- Epoch 24\n",
      "Norm: 0.18, NNZs: 12, Bias: 0.278100, T: 144, Avg. loss: 0.337175\n",
      "Total training time: 0.00 seconds.\n",
      "-- Epoch 25\n",
      "Norm: 0.19, NNZs: 12, Bias: 0.285319, T: 150, Avg. loss: 0.333517\n",
      "Total training time: 0.00 seconds.\n",
      "-- Epoch 26\n",
      "Norm: 0.19, NNZs: 12, Bias: 0.292295, T: 156, Avg. loss: 0.330244\n",
      "Total training time: 0.00 seconds.\n",
      "-- Epoch 27\n",
      "Norm: 0.19, NNZs: 12, Bias: 0.299338, T: 162, Avg. loss: 0.327482\n",
      "Total training time: 0.00 seconds.\n",
      "-- Epoch 28\n",
      "Norm: 0.19, NNZs: 12, Bias: 0.306390, T: 168, Avg. loss: 0.324074\n",
      "Total training time: 0.00 seconds.\n",
      "-- Epoch 29\n",
      "Norm: 0.19, NNZs: 12, Bias: 0.313223, T: 174, Avg. loss: 0.321425\n",
      "Total training time: 0.00 seconds.\n",
      "-- Epoch 30\n",
      "Norm: 0.19, NNZs: 12, Bias: 0.319696, T: 180, Avg. loss: 0.318430\n",
      "Total training time: 0.01 seconds.\n",
      "-- Epoch 31\n",
      "Norm: 0.19, NNZs: 12, Bias: 0.325975, T: 186, Avg. loss: 0.315542\n",
      "Total training time: 0.01 seconds.\n",
      "-- Epoch 32\n",
      "Norm: 0.19, NNZs: 12, Bias: 0.332054, T: 192, Avg. loss: 0.312939\n",
      "Total training time: 0.01 seconds.\n",
      "-- Epoch 33\n",
      "Norm: 0.19, NNZs: 12, Bias: 0.338204, T: 198, Avg. loss: 0.310741\n",
      "Total training time: 0.01 seconds.\n",
      "-- Epoch 34\n",
      "Norm: 0.19, NNZs: 12, Bias: 0.344379, T: 204, Avg. loss: 0.307983\n",
      "Total training time: 0.01 seconds.\n",
      "-- Epoch 35\n",
      "Norm: 0.19, NNZs: 12, Bias: 0.350374, T: 210, Avg. loss: 0.305885\n",
      "Total training time: 0.01 seconds.\n",
      "-- Epoch 36\n",
      "Norm: 0.20, NNZs: 12, Bias: 0.356064, T: 216, Avg. loss: 0.303448\n",
      "Total training time: 0.01 seconds.\n",
      "-- Epoch 37\n",
      "Norm: 0.20, NNZs: 12, Bias: 0.361599, T: 222, Avg. loss: 0.301118\n",
      "Total training time: 0.01 seconds.\n",
      "-- Epoch 38\n",
      "Norm: 0.20, NNZs: 12, Bias: 0.366963, T: 228, Avg. loss: 0.299006\n",
      "Total training time: 0.01 seconds.\n",
      "-- Epoch 39\n",
      "Norm: 0.20, NNZs: 12, Bias: 0.372401, T: 234, Avg. loss: 0.297225\n",
      "Total training time: 0.01 seconds.\n",
      "-- Epoch 40\n",
      "Norm: 0.20, NNZs: 12, Bias: 0.377872, T: 240, Avg. loss: 0.294952\n",
      "Total training time: 0.01 seconds.\n",
      "-- Epoch 41\n",
      "Norm: 0.20, NNZs: 12, Bias: 0.383191, T: 246, Avg. loss: 0.293263\n",
      "Total training time: 0.01 seconds.\n",
      "-- Epoch 42\n",
      "Norm: 0.20, NNZs: 12, Bias: 0.388246, T: 252, Avg. loss: 0.291247\n",
      "Total training time: 0.01 seconds.\n",
      "-- Epoch 43\n",
      "Norm: 0.20, NNZs: 12, Bias: 0.393174, T: 258, Avg. loss: 0.289337\n",
      "Total training time: 0.01 seconds.\n",
      "-- Epoch 44\n",
      "Norm: 0.20, NNZs: 12, Bias: 0.397952, T: 264, Avg. loss: 0.287597\n",
      "Total training time: 0.01 seconds.\n",
      "-- Epoch 45\n",
      "Norm: 0.20, NNZs: 12, Bias: 0.402806, T: 270, Avg. loss: 0.286135\n",
      "Total training time: 0.01 seconds.\n",
      "-- Epoch 46\n",
      "Norm: 0.20, NNZs: 12, Bias: 0.407698, T: 276, Avg. loss: 0.284235\n",
      "Total training time: 0.01 seconds.\n",
      "-- Epoch 47\n",
      "Norm: 0.20, NNZs: 12, Bias: 0.412459, T: 282, Avg. loss: 0.282860\n",
      "Total training time: 0.01 seconds.\n",
      "-- Epoch 48\n",
      "Norm: 0.20, NNZs: 12, Bias: 0.416986, T: 288, Avg. loss: 0.281168\n",
      "Total training time: 0.01 seconds.\n",
      "-- Epoch 49\n",
      "Norm: 0.21, NNZs: 12, Bias: 0.421407, T: 294, Avg. loss: 0.279584\n",
      "Total training time: 0.01 seconds.\n",
      "-- Epoch 50\n",
      "Norm: 0.21, NNZs: 12, Bias: 0.425696, T: 300, Avg. loss: 0.278134\n",
      "Total training time: 0.01 seconds.\n",
      "-- Epoch 51\n",
      "Norm: 0.21, NNZs: 12, Bias: 0.430060, T: 306, Avg. loss: 0.276919\n",
      "Total training time: 0.01 seconds.\n",
      "-- Epoch 52\n",
      "Norm: 0.21, NNZs: 12, Bias: 0.434466, T: 312, Avg. loss: 0.275312\n",
      "Total training time: 0.01 seconds.\n",
      "-- Epoch 53\n",
      "Norm: 0.21, NNZs: 12, Bias: 0.438756, T: 318, Avg. loss: 0.274184\n",
      "Total training time: 0.01 seconds.\n",
      "-- Epoch 54\n",
      "Norm: 0.21, NNZs: 12, Bias: 0.442837, T: 324, Avg. loss: 0.272748\n",
      "Total training time: 0.01 seconds.\n",
      "-- Epoch 55\n",
      "Norm: 0.21, NNZs: 12, Bias: 0.446828, T: 330, Avg. loss: 0.271421\n",
      "Total training time: 0.01 seconds.\n",
      "-- Epoch 56\n",
      "Norm: 0.21, NNZs: 12, Bias: 0.450701, T: 336, Avg. loss: 0.270200\n",
      "Total training time: 0.01 seconds.\n",
      "-- Epoch 57\n",
      "Norm: 0.21, NNZs: 12, Bias: 0.454648, T: 342, Avg. loss: 0.269183\n",
      "Total training time: 0.01 seconds.\n",
      "-- Epoch 58\n",
      "Norm: 0.21, NNZs: 12, Bias: 0.458639, T: 348, Avg. loss: 0.267810\n",
      "Total training time: 0.01 seconds.\n",
      "-- Epoch 59\n",
      "Norm: 0.21, NNZs: 12, Bias: 0.462527, T: 354, Avg. loss: 0.266877\n",
      "Total training time: 0.01 seconds.\n",
      "-- Epoch 60\n",
      "Norm: 0.21, NNZs: 12, Bias: 0.466227, T: 360, Avg. loss: 0.265647\n",
      "Total training time: 0.01 seconds.\n",
      "-- Epoch 61\n",
      "Norm: 0.21, NNZs: 12, Bias: 0.469848, T: 366, Avg. loss: 0.264526\n",
      "Total training time: 0.01 seconds.\n",
      "-- Epoch 62\n",
      "Norm: 0.21, NNZs: 12, Bias: 0.473362, T: 372, Avg. loss: 0.263490\n",
      "Total training time: 0.01 seconds.\n",
      "-- Epoch 63\n",
      "Norm: 0.21, NNZs: 12, Bias: 0.476950, T: 378, Avg. loss: 0.262632\n",
      "Total training time: 0.01 seconds.\n",
      "-- Epoch 64\n",
      "Norm: 0.21, NNZs: 12, Bias: 0.480584, T: 384, Avg. loss: 0.261448\n",
      "Total training time: 0.01 seconds.\n",
      "-- Epoch 65\n",
      "Norm: 0.21, NNZs: 12, Bias: 0.484124, T: 390, Avg. loss: 0.260673\n",
      "Total training time: 0.01 seconds.\n",
      "-- Epoch 66\n",
      "Norm: 0.21, NNZs: 12, Bias: 0.487492, T: 396, Avg. loss: 0.259609\n",
      "Total training time: 0.01 seconds.\n",
      "-- Epoch 67\n",
      "Norm: 0.21, NNZs: 12, Bias: 0.490793, T: 402, Avg. loss: 0.258656\n",
      "Total training time: 0.01 seconds.\n",
      "-- Epoch 68\n",
      "Norm: 0.22, NNZs: 12, Bias: 0.493995, T: 408, Avg. loss: 0.257770\n",
      "Total training time: 0.01 seconds.\n",
      "-- Epoch 69\n",
      "Norm: 0.22, NNZs: 12, Bias: 0.497270, T: 414, Avg. loss: 0.257041\n",
      "Total training time: 0.01 seconds.\n",
      "-- Epoch 70\n",
      "Norm: 0.22, NNZs: 12, Bias: 0.500591, T: 420, Avg. loss: 0.256014\n",
      "Total training time: 0.01 seconds.\n",
      "-- Epoch 71\n",
      "Norm: 0.22, NNZs: 12, Bias: 0.503828, T: 426, Avg. loss: 0.255366\n",
      "Total training time: 0.01 seconds.\n",
      "-- Epoch 72\n",
      "Norm: 0.22, NNZs: 12, Bias: 0.506906, T: 432, Avg. loss: 0.254440\n",
      "Total training time: 0.01 seconds.\n",
      "-- Epoch 73\n",
      "Norm: 0.22, NNZs: 12, Bias: 0.509926, T: 438, Avg. loss: 0.253624\n",
      "Total training time: 0.01 seconds.\n",
      "-- Epoch 74\n",
      "Norm: 0.22, NNZs: 12, Bias: 0.512854, T: 444, Avg. loss: 0.252862\n",
      "Total training time: 0.01 seconds.\n",
      "-- Epoch 75\n",
      "Norm: 0.22, NNZs: 12, Bias: 0.515855, T: 450, Avg. loss: 0.252240\n",
      "Total training time: 0.01 seconds.\n",
      "-- Epoch 76\n",
      "Norm: 0.22, NNZs: 12, Bias: 0.518902, T: 456, Avg. loss: 0.251340\n",
      "Total training time: 0.01 seconds.\n",
      "-- Epoch 77\n",
      "Norm: 0.22, NNZs: 12, Bias: 0.521872, T: 462, Avg. loss: 0.250798\n",
      "Total training time: 0.01 seconds.\n",
      "-- Epoch 78\n",
      "Norm: 0.22, NNZs: 12, Bias: 0.524694, T: 468, Avg. loss: 0.249985\n",
      "Total training time: 0.01 seconds.\n",
      "-- Epoch 79\n",
      "Norm: 0.22, NNZs: 12, Bias: 0.527466, T: 474, Avg. loss: 0.249284\n",
      "Total training time: 0.01 seconds.\n",
      "-- Epoch 80\n",
      "Norm: 0.22, NNZs: 12, Bias: 0.530153, T: 480, Avg. loss: 0.248625\n",
      "Total training time: 0.01 seconds.\n",
      "-- Epoch 81\n",
      "Norm: 0.22, NNZs: 12, Bias: 0.532910, T: 486, Avg. loss: 0.248090\n",
      "Total training time: 0.01 seconds.\n",
      "-- Epoch 82\n",
      "Norm: 0.22, NNZs: 12, Bias: 0.535715, T: 492, Avg. loss: 0.247298\n",
      "Total training time: 0.01 seconds.\n",
      "-- Epoch 83\n",
      "Norm: 0.22, NNZs: 12, Bias: 0.538448, T: 498, Avg. loss: 0.246843\n",
      "Total training time: 0.01 seconds.\n",
      "-- Epoch 84\n",
      "Norm: 0.22, NNZs: 12, Bias: 0.541043, T: 504, Avg. loss: 0.246125\n",
      "Total training time: 0.01 seconds.\n",
      "-- Epoch 85\n",
      "Norm: 0.22, NNZs: 12, Bias: 0.543595, T: 510, Avg. loss: 0.245519\n",
      "Total training time: 0.01 seconds.\n",
      "-- Epoch 86\n",
      "Norm: 0.22, NNZs: 12, Bias: 0.546067, T: 516, Avg. loss: 0.244945\n",
      "Total training time: 0.01 seconds.\n",
      "-- Epoch 87\n",
      "Norm: 0.22, NNZs: 12, Bias: 0.548608, T: 522, Avg. loss: 0.244483\n",
      "Total training time: 0.02 seconds.\n",
      "-- Epoch 88\n",
      "Norm: 0.22, NNZs: 12, Bias: 0.551197, T: 528, Avg. loss: 0.243782\n",
      "Total training time: 0.02 seconds.\n",
      "-- Epoch 89\n",
      "Norm: 0.22, NNZs: 12, Bias: 0.553719, T: 534, Avg. loss: 0.243399\n",
      "Total training time: 0.02 seconds.\n",
      "-- Epoch 90\n",
      "Norm: 0.22, NNZs: 12, Bias: 0.556112, T: 540, Avg. loss: 0.242762\n",
      "Total training time: 0.02 seconds.\n",
      "-- Epoch 91\n",
      "Norm: 0.22, NNZs: 12, Bias: 0.558467, T: 546, Avg. loss: 0.242235\n",
      "Total training time: 0.02 seconds.\n",
      "-- Epoch 92\n",
      "Norm: 0.22, NNZs: 12, Bias: 0.560747, T: 552, Avg. loss: 0.241733\n",
      "Total training time: 0.02 seconds.\n",
      "-- Epoch 93\n",
      "Norm: 0.22, NNZs: 12, Bias: 0.563095, T: 558, Avg. loss: 0.241333\n",
      "Total training time: 0.02 seconds.\n",
      "-- Epoch 94\n",
      "Norm: 0.22, NNZs: 12, Bias: 0.565490, T: 564, Avg. loss: 0.240708\n",
      "Total training time: 0.02 seconds.\n",
      "-- Epoch 95\n",
      "Norm: 0.22, NNZs: 12, Bias: 0.567824, T: 570, Avg. loss: 0.240386\n",
      "Total training time: 0.02 seconds.\n",
      "-- Epoch 96\n",
      "Norm: 0.23, NNZs: 12, Bias: 0.570036, T: 576, Avg. loss: 0.239816\n",
      "Total training time: 0.02 seconds.\n",
      "-- Epoch 97\n",
      "Norm: 0.23, NNZs: 12, Bias: 0.572214, T: 582, Avg. loss: 0.239358\n",
      "Total training time: 0.02 seconds.\n",
      "-- Epoch 98\n",
      "Norm: 0.23, NNZs: 12, Bias: 0.574321, T: 588, Avg. loss: 0.238916\n",
      "Total training time: 0.02 seconds.\n",
      "-- Epoch 99\n",
      "Norm: 0.23, NNZs: 12, Bias: 0.576496, T: 594, Avg. loss: 0.238568\n",
      "Total training time: 0.02 seconds.\n",
      "-- Epoch 100\n",
      "Norm: 0.23, NNZs: 12, Bias: 0.578718, T: 600, Avg. loss: 0.238008\n",
      "Total training time: 0.02 seconds.\n",
      "-- Epoch 1\n",
      "Norm: 0.19, NNZs: 12, Bias: 0.042958, T: 19, Avg. loss: 0.719599\n",
      "Total training time: 0.00 seconds.\n",
      "-- Epoch 2\n",
      "Norm: 0.24, NNZs: 12, Bias: 0.070766, T: 38, Avg. loss: 0.578872\n",
      "Total training time: 0.00 seconds.\n",
      "-- Epoch 3\n",
      "Norm: 0.23, NNZs: 12, Bias: 0.099298, T: 57, Avg. loss: 0.583294\n",
      "Total training time: 0.00 seconds.\n",
      "Convergence after 3 epochs took 0.00 seconds\n",
      "-- Epoch 1\n",
      "Norm: 0.20, NNZs: 12, Bias: 0.063218, T: 33, Avg. loss: 0.791833\n",
      "Total training time: 0.00 seconds.\n",
      "-- Epoch 2\n",
      "Norm: 0.19, NNZs: 12, Bias: 0.091175, T: 66, Avg. loss: 0.701362\n",
      "Total training time: 0.00 seconds.\n",
      "-- Epoch 3\n",
      "Norm: 0.18, NNZs: 12, Bias: 0.113410, T: 99, Avg. loss: 0.677295\n",
      "Total training time: 0.00 seconds.\n",
      "-- Epoch 4\n",
      "Norm: 0.23, NNZs: 12, Bias: 0.132250, T: 132, Avg. loss: 0.667670\n",
      "Total training time: 0.00 seconds.\n",
      "-- Epoch 5\n",
      "Norm: 0.21, NNZs: 12, Bias: 0.145307, T: 165, Avg. loss: 0.663020\n",
      "Total training time: 0.00 seconds.\n",
      "-- Epoch 6\n",
      "Norm: 0.22, NNZs: 12, Bias: 0.156145, T: 198, Avg. loss: 0.657464\n",
      "Total training time: 0.00 seconds.\n",
      "-- Epoch 7\n",
      "Norm: 0.23, NNZs: 12, Bias: 0.167744, T: 231, Avg. loss: 0.654663\n",
      "Total training time: 0.00 seconds.\n",
      "-- Epoch 8\n",
      "Norm: 0.24, NNZs: 12, Bias: 0.177252, T: 264, Avg. loss: 0.652751\n",
      "Total training time: 0.00 seconds.\n",
      "-- Epoch 9\n",
      "Norm: 0.27, NNZs: 12, Bias: 0.187598, T: 297, Avg. loss: 0.639526\n",
      "Total training time: 0.00 seconds.\n",
      "-- Epoch 10\n",
      "Norm: 0.28, NNZs: 12, Bias: 0.195591, T: 330, Avg. loss: 0.642576\n",
      "Total training time: 0.00 seconds.\n",
      "Convergence after 10 epochs took 0.00 seconds\n",
      "-- Epoch 1\n",
      "Norm: 0.21, NNZs: 12, Bias: 0.052364, T: 47, Avg. loss: 0.615283\n",
      "Total training time: 0.00 seconds.\n",
      "-- Epoch 2\n",
      "Norm: 0.18, NNZs: 12, Bias: 0.077958, T: 94, Avg. loss: 0.559228\n",
      "Total training time: 0.00 seconds.\n",
      "-- Epoch 3\n",
      "Norm: 0.23, NNZs: 12, Bias: 0.098510, T: 141, Avg. loss: 0.547766\n",
      "Total training time: 0.00 seconds.\n",
      "-- Epoch 4\n",
      "Norm: 0.22, NNZs: 12, Bias: 0.113239, T: 188, Avg. loss: 0.544940\n",
      "Total training time: 0.00 seconds.\n",
      "-- Epoch 5\n",
      "Norm: 0.21, NNZs: 12, Bias: 0.125756, T: 235, Avg. loss: 0.543116\n",
      "Total training time: 0.00 seconds.\n",
      "-- Epoch 6\n",
      "Norm: 0.23, NNZs: 12, Bias: 0.136502, T: 282, Avg. loss: 0.534430\n",
      "Total training time: 0.00 seconds.\n",
      "-- Epoch 7\n",
      "Norm: 0.26, NNZs: 12, Bias: 0.147592, T: 329, Avg. loss: 0.524853\n",
      "Total training time: 0.00 seconds.\n",
      "-- Epoch 8\n",
      "Norm: 0.24, NNZs: 12, Bias: 0.155986, T: 376, Avg. loss: 0.533582\n",
      "Total training time: 0.00 seconds.\n",
      "Convergence after 8 epochs took 0.00 seconds\n",
      "-- Epoch 1\n",
      "Norm: 0.21, NNZs: 12, Bias: 0.029210, T: 61, Avg. loss: 0.490319\n",
      "Total training time: 0.00 seconds.\n",
      "-- Epoch 2\n",
      "Norm: 0.22, NNZs: 12, Bias: 0.045988, T: 122, Avg. loss: 0.494756\n",
      "Total training time: 0.00 seconds.\n",
      "Convergence after 2 epochs took 0.00 seconds\n",
      "-- Epoch 1\n",
      "Norm: 0.09, NNZs: 12, Bias: -0.023261, T: 6, Avg. loss: 0.333368\n",
      "Total training time: 0.00 seconds.\n",
      "-- Epoch 2\n",
      "Norm: 0.12, NNZs: 12, Bias: -0.035522, T: 12, Avg. loss: 0.244652\n",
      "Total training time: 0.00 seconds.\n",
      "-- Epoch 3\n",
      "Norm: 0.12, NNZs: 12, Bias: -0.043605, T: 18, Avg. loss: 0.242026\n",
      "Total training time: 0.00 seconds.\n",
      "-- Epoch 4\n",
      "Norm: 0.13, NNZs: 12, Bias: -0.050387, T: 24, Avg. loss: 0.235847\n",
      "Total training time: 0.00 seconds.\n",
      "-- Epoch 5\n",
      "Norm: 0.13, NNZs: 12, Bias: -0.057858, T: 30, Avg. loss: 0.227642\n",
      "Total training time: 0.00 seconds.\n",
      "-- Epoch 6\n",
      "Norm: 0.13, NNZs: 12, Bias: -0.063406, T: 36, Avg. loss: 0.228830\n",
      "Total training time: 0.00 seconds.\n",
      "Convergence after 6 epochs took 0.00 seconds\n",
      "-- Epoch 1\n",
      "Norm: 0.06, NNZs: 12, Bias: -0.037189, T: 19, Avg. loss: 0.256125\n",
      "Total training time: 0.00 seconds.\n",
      "-- Epoch 2\n",
      "Norm: 0.07, NNZs: 12, Bias: -0.060679, T: 38, Avg. loss: 0.225050\n",
      "Total training time: 0.00 seconds.\n",
      "-- Epoch 3\n",
      "Norm: 0.07, NNZs: 12, Bias: -0.080181, T: 57, Avg. loss: 0.217334\n",
      "Total training time: 0.00 seconds.\n",
      "-- Epoch 4\n",
      "Norm: 0.08, NNZs: 12, Bias: -0.096757, T: 76, Avg. loss: 0.211203\n",
      "Total training time: 0.00 seconds.\n",
      "-- Epoch 5\n",
      "Norm: 0.08, NNZs: 12, Bias: -0.111369, T: 95, Avg. loss: 0.206204\n",
      "Total training time: 0.00 seconds.\n",
      "-- Epoch 6\n",
      "Norm: 0.08, NNZs: 12, Bias: -0.124156, T: 114, Avg. loss: 0.202287\n",
      "Total training time: 0.00 seconds.\n",
      "-- Epoch 7\n",
      "Norm: 0.09, NNZs: 12, Bias: -0.135946, T: 133, Avg. loss: 0.198705\n",
      "Total training time: 0.00 seconds.\n",
      "-- Epoch 8\n",
      "Norm: 0.08, NNZs: 12, Bias: -0.145976, T: 152, Avg. loss: 0.195489\n",
      "Total training time: 0.00 seconds.\n",
      "-- Epoch 9\n",
      "Norm: 0.09, NNZs: 12, Bias: -0.155961, T: 171, Avg. loss: 0.193455\n",
      "Total training time: 0.00 seconds.\n",
      "-- Epoch 10\n",
      "Norm: 0.09, NNZs: 12, Bias: -0.165122, T: 190, Avg. loss: 0.191131\n",
      "Total training time: 0.00 seconds.\n",
      "-- Epoch 11\n",
      "Norm: 0.09, NNZs: 12, Bias: -0.173579, T: 209, Avg. loss: 0.189089\n",
      "Total training time: 0.00 seconds.\n",
      "-- Epoch 12\n",
      "Norm: 0.09, NNZs: 12, Bias: -0.181383, T: 228, Avg. loss: 0.187116\n",
      "Total training time: 0.00 seconds.\n",
      "-- Epoch 13\n",
      "Norm: 0.09, NNZs: 12, Bias: -0.188877, T: 247, Avg. loss: 0.185639\n",
      "Total training time: 0.00 seconds.\n",
      "-- Epoch 14\n",
      "Norm: 0.10, NNZs: 12, Bias: -0.195553, T: 266, Avg. loss: 0.184200\n",
      "Total training time: 0.00 seconds.\n",
      "-- Epoch 15\n",
      "Norm: 0.10, NNZs: 12, Bias: -0.202147, T: 285, Avg. loss: 0.182924\n",
      "Total training time: 0.00 seconds.\n",
      "-- Epoch 16\n",
      "Norm: 0.10, NNZs: 12, Bias: -0.208184, T: 304, Avg. loss: 0.181804\n",
      "Total training time: 0.00 seconds.\n",
      "-- Epoch 17\n",
      "Norm: 0.10, NNZs: 12, Bias: -0.213910, T: 323, Avg. loss: 0.180597\n",
      "Total training time: 0.00 seconds.\n",
      "-- Epoch 18\n",
      "Norm: 0.11, NNZs: 12, Bias: -0.219036, T: 342, Avg. loss: 0.179592\n",
      "Total training time: 0.00 seconds.\n",
      "-- Epoch 19\n",
      "Norm: 0.11, NNZs: 12, Bias: -0.224265, T: 361, Avg. loss: 0.178753\n",
      "Total training time: 0.00 seconds.\n",
      "-- Epoch 20\n",
      "Norm: 0.11, NNZs: 12, Bias: -0.229009, T: 380, Avg. loss: 0.177812\n",
      "Total training time: 0.00 seconds.\n",
      "-- Epoch 21\n",
      "Norm: 0.11, NNZs: 12, Bias: -0.233743, T: 399, Avg. loss: 0.177048\n",
      "Total training time: 0.00 seconds.\n",
      "-- Epoch 22\n",
      "Norm: 0.11, NNZs: 12, Bias: -0.238132, T: 418, Avg. loss: 0.176229\n",
      "Total training time: 0.00 seconds.\n",
      "-- Epoch 23\n",
      "Norm: 0.11, NNZs: 12, Bias: -0.242210, T: 437, Avg. loss: 0.175605\n",
      "Total training time: 0.00 seconds.\n",
      "-- Epoch 24\n",
      "Norm: 0.12, NNZs: 12, Bias: -0.246096, T: 456, Avg. loss: 0.175017\n",
      "Total training time: 0.00 seconds.\n",
      "-- Epoch 25\n",
      "Norm: 0.12, NNZs: 12, Bias: -0.249816, T: 475, Avg. loss: 0.174459\n",
      "Total training time: 0.00 seconds.\n",
      "-- Epoch 26\n",
      "Norm: 0.12, NNZs: 12, Bias: -0.253236, T: 494, Avg. loss: 0.173909\n",
      "Total training time: 0.00 seconds.\n",
      "-- Epoch 27\n",
      "Norm: 0.13, NNZs: 12, Bias: -0.256811, T: 513, Avg. loss: 0.173212\n",
      "Total training time: 0.00 seconds.\n",
      "-- Epoch 28\n",
      "Norm: 0.13, NNZs: 12, Bias: -0.259864, T: 532, Avg. loss: 0.172872\n",
      "Total training time: 0.00 seconds.\n",
      "-- Epoch 29\n",
      "Norm: 0.13, NNZs: 12, Bias: -0.262899, T: 551, Avg. loss: 0.172452\n",
      "Total training time: 0.00 seconds.\n",
      "-- Epoch 30\n",
      "Norm: 0.13, NNZs: 12, Bias: -0.265848, T: 570, Avg. loss: 0.172015\n",
      "Total training time: 0.01 seconds.\n",
      "-- Epoch 31\n",
      "Norm: 0.13, NNZs: 12, Bias: -0.268683, T: 589, Avg. loss: 0.171595\n",
      "Total training time: 0.01 seconds.\n",
      "-- Epoch 32\n",
      "Norm: 0.13, NNZs: 12, Bias: -0.271237, T: 608, Avg. loss: 0.171095\n",
      "Total training time: 0.01 seconds.\n",
      "-- Epoch 33\n",
      "Norm: 0.14, NNZs: 12, Bias: -0.273881, T: 627, Avg. loss: 0.170890\n",
      "Total training time: 0.01 seconds.\n",
      "-- Epoch 34\n",
      "Norm: 0.14, NNZs: 12, Bias: -0.276267, T: 646, Avg. loss: 0.170540\n",
      "Total training time: 0.01 seconds.\n",
      "-- Epoch 35\n",
      "Norm: 0.14, NNZs: 12, Bias: -0.278609, T: 665, Avg. loss: 0.170184\n",
      "Total training time: 0.01 seconds.\n",
      "-- Epoch 36\n",
      "Norm: 0.14, NNZs: 12, Bias: -0.280884, T: 684, Avg. loss: 0.169940\n",
      "Total training time: 0.01 seconds.\n",
      "-- Epoch 37\n",
      "Norm: 0.14, NNZs: 12, Bias: -0.283126, T: 703, Avg. loss: 0.169574\n",
      "Total training time: 0.01 seconds.\n",
      "-- Epoch 38\n",
      "Norm: 0.15, NNZs: 12, Bias: -0.285010, T: 722, Avg. loss: 0.169294\n",
      "Total training time: 0.01 seconds.\n",
      "-- Epoch 39\n",
      "Norm: 0.15, NNZs: 12, Bias: -0.287079, T: 741, Avg. loss: 0.169122\n",
      "Total training time: 0.01 seconds.\n",
      "-- Epoch 40\n",
      "Norm: 0.15, NNZs: 12, Bias: -0.289001, T: 760, Avg. loss: 0.168788\n",
      "Total training time: 0.01 seconds.\n",
      "-- Epoch 41\n",
      "Norm: 0.15, NNZs: 12, Bias: -0.290811, T: 779, Avg. loss: 0.168555\n",
      "Total training time: 0.01 seconds.\n",
      "-- Epoch 42\n",
      "Norm: 0.15, NNZs: 12, Bias: -0.292626, T: 798, Avg. loss: 0.168315\n",
      "Total training time: 0.01 seconds.\n",
      "-- Epoch 43\n",
      "Norm: 0.15, NNZs: 12, Bias: -0.294431, T: 817, Avg. loss: 0.168103\n",
      "Total training time: 0.01 seconds.\n",
      "-- Epoch 44\n",
      "Norm: 0.16, NNZs: 12, Bias: -0.295936, T: 836, Avg. loss: 0.167880\n",
      "Total training time: 0.01 seconds.\n",
      "-- Epoch 45\n",
      "Norm: 0.16, NNZs: 12, Bias: -0.297579, T: 855, Avg. loss: 0.167690\n",
      "Total training time: 0.01 seconds.\n",
      "-- Epoch 46\n",
      "Norm: 0.16, NNZs: 12, Bias: -0.299075, T: 874, Avg. loss: 0.167546\n",
      "Total training time: 0.01 seconds.\n",
      "-- Epoch 47\n",
      "Norm: 0.16, NNZs: 12, Bias: -0.300555, T: 893, Avg. loss: 0.167263\n",
      "Total training time: 0.01 seconds.\n",
      "-- Epoch 48\n",
      "Norm: 0.16, NNZs: 12, Bias: -0.301882, T: 912, Avg. loss: 0.167141\n",
      "Total training time: 0.01 seconds.\n",
      "-- Epoch 49\n",
      "Norm: 0.16, NNZs: 12, Bias: -0.303300, T: 931, Avg. loss: 0.166988\n",
      "Total training time: 0.01 seconds.\n",
      "-- Epoch 50\n",
      "Norm: 0.17, NNZs: 12, Bias: -0.304540, T: 950, Avg. loss: 0.166766\n",
      "Total training time: 0.01 seconds.\n",
      "-- Epoch 51\n",
      "Norm: 0.17, NNZs: 12, Bias: -0.305887, T: 969, Avg. loss: 0.166617\n",
      "Total training time: 0.01 seconds.\n",
      "-- Epoch 52\n",
      "Norm: 0.17, NNZs: 12, Bias: -0.307132, T: 988, Avg. loss: 0.166419\n",
      "Total training time: 0.01 seconds.\n",
      "-- Epoch 53\n",
      "Norm: 0.17, NNZs: 12, Bias: -0.308281, T: 1007, Avg. loss: 0.166313\n",
      "Total training time: 0.01 seconds.\n",
      "-- Epoch 54\n",
      "Norm: 0.17, NNZs: 12, Bias: -0.309388, T: 1026, Avg. loss: 0.166169\n",
      "Total training time: 0.01 seconds.\n",
      "-- Epoch 55\n",
      "Norm: 0.17, NNZs: 12, Bias: -0.310440, T: 1045, Avg. loss: 0.166026\n",
      "Total training time: 0.01 seconds.\n",
      "-- Epoch 56\n",
      "Norm: 0.18, NNZs: 12, Bias: -0.311404, T: 1064, Avg. loss: 0.165916\n",
      "Total training time: 0.01 seconds.\n",
      "-- Epoch 57\n",
      "Norm: 0.18, NNZs: 12, Bias: -0.312560, T: 1083, Avg. loss: 0.165621\n",
      "Total training time: 0.01 seconds.\n",
      "-- Epoch 58\n",
      "Norm: 0.18, NNZs: 12, Bias: -0.313434, T: 1102, Avg. loss: 0.165642\n",
      "Total training time: 0.01 seconds.\n",
      "Convergence after 58 epochs took 0.01 seconds\n",
      "-- Epoch 1\n",
      "Norm: 0.07, NNZs: 12, Bias: -0.042408, T: 33, Avg. loss: 0.208933\n",
      "Total training time: 0.00 seconds.\n",
      "-- Epoch 2\n",
      "Norm: 0.07, NNZs: 12, Bias: -0.072003, T: 66, Avg. loss: 0.193388\n",
      "Total training time: 0.00 seconds.\n",
      "-- Epoch 3\n",
      "Norm: 0.07, NNZs: 12, Bias: -0.093301, T: 99, Avg. loss: 0.185304\n",
      "Total training time: 0.00 seconds.\n",
      "-- Epoch 4\n",
      "Norm: 0.08, NNZs: 12, Bias: -0.110316, T: 132, Avg. loss: 0.180981\n",
      "Total training time: 0.00 seconds.\n",
      "-- Epoch 5\n",
      "Norm: 0.08, NNZs: 12, Bias: -0.124610, T: 165, Avg. loss: 0.178512\n",
      "Total training time: 0.00 seconds.\n",
      "-- Epoch 6\n",
      "Norm: 0.08, NNZs: 12, Bias: -0.138104, T: 198, Avg. loss: 0.175900\n",
      "Total training time: 0.00 seconds.\n",
      "-- Epoch 7\n",
      "Norm: 0.08, NNZs: 12, Bias: -0.149424, T: 231, Avg. loss: 0.173939\n",
      "Total training time: 0.00 seconds.\n",
      "-- Epoch 8\n",
      "Norm: 0.07, NNZs: 12, Bias: -0.159226, T: 264, Avg. loss: 0.171637\n",
      "Total training time: 0.00 seconds.\n",
      "-- Epoch 9\n",
      "Norm: 0.08, NNZs: 12, Bias: -0.169528, T: 297, Avg. loss: 0.169979\n",
      "Total training time: 0.00 seconds.\n",
      "-- Epoch 10\n",
      "Norm: 0.07, NNZs: 12, Bias: -0.177637, T: 330, Avg. loss: 0.169540\n",
      "Total training time: 0.00 seconds.\n",
      "-- Epoch 11\n",
      "Norm: 0.07, NNZs: 12, Bias: -0.185219, T: 363, Avg. loss: 0.168542\n",
      "Total training time: 0.00 seconds.\n",
      "-- Epoch 12\n",
      "Norm: 0.08, NNZs: 12, Bias: -0.191772, T: 396, Avg. loss: 0.167504\n",
      "Total training time: 0.00 seconds.\n",
      "-- Epoch 13\n",
      "Norm: 0.07, NNZs: 12, Bias: -0.197464, T: 429, Avg. loss: 0.167431\n",
      "Total training time: 0.00 seconds.\n",
      "Convergence after 13 epochs took 0.00 seconds\n",
      "-- Epoch 1\n",
      "Norm: 0.09, NNZs: 12, Bias: -0.037695, T: 47, Avg. loss: 0.236403\n",
      "Total training time: 0.00 seconds.\n",
      "-- Epoch 2\n",
      "Norm: 0.11, NNZs: 12, Bias: -0.059280, T: 94, Avg. loss: 0.215467\n",
      "Total training time: 0.00 seconds.\n",
      "-- Epoch 3\n",
      "Norm: 0.08, NNZs: 12, Bias: -0.073066, T: 141, Avg. loss: 0.208715\n",
      "Total training time: 0.00 seconds.\n",
      "-- Epoch 4\n",
      "Norm: 0.08, NNZs: 12, Bias: -0.085756, T: 188, Avg. loss: 0.209697\n",
      "Total training time: 0.00 seconds.\n",
      "Convergence after 4 epochs took 0.00 seconds\n",
      "-- Epoch 1\n",
      "Norm: 0.09, NNZs: 12, Bias: -0.053449, T: 61, Avg. loss: 0.221804\n",
      "Total training time: 0.00 seconds.\n",
      "-- Epoch 2\n",
      "Norm: 0.08, NNZs: 12, Bias: -0.077652, T: 122, Avg. loss: 0.206666\n",
      "Total training time: 0.00 seconds.\n",
      "-- Epoch 3\n",
      "Norm: 0.09, NNZs: 12, Bias: -0.094886, T: 183, Avg. loss: 0.205263\n",
      "Total training time: 0.00 seconds.\n",
      "-- Epoch 4\n",
      "Norm: 0.09, NNZs: 12, Bias: -0.109061, T: 244, Avg. loss: 0.203008\n",
      "Total training time: 0.00 seconds.\n",
      "-- Epoch 5\n",
      "Norm: 0.11, NNZs: 12, Bias: -0.119405, T: 305, Avg. loss: 0.200420\n",
      "Total training time: 0.00 seconds.\n",
      "-- Epoch 6\n",
      "Norm: 0.10, NNZs: 12, Bias: -0.128649, T: 366, Avg. loss: 0.201237\n",
      "Total training time: 0.00 seconds.\n",
      "Convergence after 6 epochs took 0.00 seconds\n",
      "-- Epoch 1\n",
      "Norm: 0.09, NNZs: 12, Bias: -0.021317, T: 6, Avg. loss: 0.338031\n",
      "Total training time: 0.00 seconds.\n",
      "-- Epoch 2\n",
      "Norm: 0.11, NNZs: 12, Bias: -0.033538, T: 12, Avg. loss: 0.255448\n",
      "Total training time: 0.00 seconds.\n",
      "-- Epoch 3\n",
      "Norm: 0.11, NNZs: 12, Bias: -0.041586, T: 18, Avg. loss: 0.242548\n",
      "Total training time: 0.00 seconds.\n",
      "-- Epoch 4\n",
      "Norm: 0.11, NNZs: 12, Bias: -0.048325, T: 24, Avg. loss: 0.234471\n",
      "Total training time: 0.00 seconds.\n",
      "-- Epoch 5\n",
      "Norm: 0.12, NNZs: 12, Bias: -0.055307, T: 30, Avg. loss: 0.232145\n",
      "Total training time: 0.00 seconds.\n",
      "-- Epoch 6\n",
      "Norm: 0.12, NNZs: 12, Bias: -0.061350, T: 36, Avg. loss: 0.226993\n",
      "Total training time: 0.00 seconds.\n",
      "-- Epoch 7\n",
      "Norm: 0.13, NNZs: 12, Bias: -0.067384, T: 42, Avg. loss: 0.224092\n",
      "Total training time: 0.00 seconds.\n",
      "-- Epoch 8\n",
      "Norm: 0.13, NNZs: 12, Bias: -0.072265, T: 48, Avg. loss: 0.220356\n",
      "Total training time: 0.00 seconds.\n",
      "-- Epoch 9\n",
      "Norm: 0.12, NNZs: 12, Bias: -0.076854, T: 54, Avg. loss: 0.216574\n",
      "Total training time: 0.00 seconds.\n",
      "-- Epoch 10\n",
      "Norm: 0.13, NNZs: 12, Bias: -0.081845, T: 60, Avg. loss: 0.215478\n",
      "Total training time: 0.00 seconds.\n",
      "-- Epoch 11\n",
      "Norm: 0.13, NNZs: 12, Bias: -0.086324, T: 66, Avg. loss: 0.212523\n",
      "Total training time: 0.00 seconds.\n",
      "-- Epoch 12\n",
      "Norm: 0.13, NNZs: 12, Bias: -0.090889, T: 72, Avg. loss: 0.210811\n",
      "Total training time: 0.00 seconds.\n",
      "-- Epoch 13\n",
      "Norm: 0.13, NNZs: 12, Bias: -0.094695, T: 78, Avg. loss: 0.208396\n",
      "Total training time: 0.00 seconds.\n",
      "-- Epoch 14\n",
      "Norm: 0.13, NNZs: 12, Bias: -0.098343, T: 84, Avg. loss: 0.205823\n",
      "Total training time: 0.00 seconds.\n",
      "-- Epoch 15\n",
      "Norm: 0.14, NNZs: 12, Bias: -0.102346, T: 90, Avg. loss: 0.205088\n",
      "Total training time: 0.00 seconds.\n",
      "-- Epoch 16\n",
      "Norm: 0.14, NNZs: 12, Bias: -0.105972, T: 96, Avg. loss: 0.202936\n",
      "Total training time: 0.00 seconds.\n",
      "-- Epoch 17\n",
      "Norm: 0.14, NNZs: 12, Bias: -0.109698, T: 102, Avg. loss: 0.201743\n",
      "Total training time: 0.00 seconds.\n",
      "-- Epoch 18\n",
      "Norm: 0.14, NNZs: 12, Bias: -0.112837, T: 108, Avg. loss: 0.199962\n",
      "Total training time: 0.00 seconds.\n",
      "-- Epoch 19\n",
      "Norm: 0.14, NNZs: 12, Bias: -0.115872, T: 114, Avg. loss: 0.198025\n",
      "Total training time: 0.00 seconds.\n",
      "-- Epoch 20\n",
      "Norm: 0.14, NNZs: 12, Bias: -0.119223, T: 120, Avg. loss: 0.197491\n",
      "Total training time: 0.00 seconds.\n",
      "-- Epoch 21\n",
      "Norm: 0.15, NNZs: 12, Bias: -0.122268, T: 126, Avg. loss: 0.195802\n",
      "Total training time: 0.00 seconds.\n",
      "-- Epoch 22\n",
      "Norm: 0.15, NNZs: 12, Bias: -0.125414, T: 132, Avg. loss: 0.194920\n",
      "Total training time: 0.00 seconds.\n",
      "-- Epoch 23\n",
      "Norm: 0.15, NNZs: 12, Bias: -0.128076, T: 138, Avg. loss: 0.193521\n",
      "Total training time: 0.00 seconds.\n",
      "-- Epoch 24\n",
      "Norm: 0.15, NNZs: 12, Bias: -0.130662, T: 144, Avg. loss: 0.191984\n",
      "Total training time: 0.00 seconds.\n",
      "-- Epoch 25\n",
      "Norm: 0.15, NNZs: 12, Bias: -0.133534, T: 150, Avg. loss: 0.191582\n",
      "Total training time: 0.00 seconds.\n",
      "-- Epoch 26\n",
      "Norm: 0.16, NNZs: 12, Bias: -0.136145, T: 156, Avg. loss: 0.190201\n",
      "Total training time: 0.00 seconds.\n",
      "-- Epoch 27\n",
      "Norm: 0.16, NNZs: 12, Bias: -0.138856, T: 162, Avg. loss: 0.189528\n",
      "Total training time: 0.00 seconds.\n",
      "-- Epoch 28\n",
      "Norm: 0.16, NNZs: 12, Bias: -0.141150, T: 168, Avg. loss: 0.188387\n",
      "Total training time: 0.00 seconds.\n",
      "-- Epoch 29\n",
      "Norm: 0.16, NNZs: 12, Bias: -0.143388, T: 174, Avg. loss: 0.187129\n",
      "Total training time: 0.00 seconds.\n",
      "-- Epoch 30\n",
      "Norm: 0.16, NNZs: 12, Bias: -0.145888, T: 180, Avg. loss: 0.186819\n",
      "Total training time: 0.00 seconds.\n",
      "-- Epoch 31\n",
      "Norm: 0.16, NNZs: 12, Bias: -0.148158, T: 186, Avg. loss: 0.185660\n",
      "Total training time: 0.00 seconds.\n",
      "-- Epoch 32\n",
      "Norm: 0.17, NNZs: 12, Bias: -0.150525, T: 192, Avg. loss: 0.185138\n",
      "Total training time: 0.00 seconds.\n",
      "-- Epoch 33\n",
      "Norm: 0.17, NNZs: 12, Bias: -0.152525, T: 198, Avg. loss: 0.184184\n",
      "Total training time: 0.00 seconds.\n",
      "-- Epoch 34\n",
      "Norm: 0.17, NNZs: 12, Bias: -0.154482, T: 204, Avg. loss: 0.183129\n",
      "Total training time: 0.00 seconds.\n",
      "-- Epoch 35\n",
      "Norm: 0.17, NNZs: 12, Bias: -0.156681, T: 210, Avg. loss: 0.182887\n",
      "Total training time: 0.00 seconds.\n",
      "-- Epoch 36\n",
      "Norm: 0.17, NNZs: 12, Bias: -0.158675, T: 216, Avg. loss: 0.181895\n",
      "Total training time: 0.01 seconds.\n",
      "-- Epoch 37\n",
      "Norm: 0.17, NNZs: 12, Bias: -0.160762, T: 222, Avg. loss: 0.181487\n",
      "Total training time: 0.01 seconds.\n",
      "-- Epoch 38\n",
      "Norm: 0.17, NNZs: 12, Bias: -0.162519, T: 228, Avg. loss: 0.180674\n",
      "Total training time: 0.01 seconds.\n",
      "-- Epoch 39\n",
      "Norm: 0.17, NNZs: 12, Bias: -0.164243, T: 234, Avg. loss: 0.179775\n",
      "Total training time: 0.01 seconds.\n",
      "-- Epoch 40\n",
      "Norm: 0.18, NNZs: 12, Bias: -0.166194, T: 240, Avg. loss: 0.179586\n",
      "Total training time: 0.01 seconds.\n",
      "-- Epoch 41\n",
      "Norm: 0.18, NNZs: 12, Bias: -0.167956, T: 246, Avg. loss: 0.178723\n",
      "Total training time: 0.01 seconds.\n",
      "-- Epoch 42\n",
      "Norm: 0.18, NNZs: 12, Bias: -0.169810, T: 252, Avg. loss: 0.178402\n",
      "Total training time: 0.01 seconds.\n",
      "-- Epoch 43\n",
      "Norm: 0.18, NNZs: 12, Bias: -0.171364, T: 258, Avg. loss: 0.177700\n",
      "Total training time: 0.01 seconds.\n",
      "-- Epoch 44\n",
      "Norm: 0.18, NNZs: 12, Bias: -0.172890, T: 264, Avg. loss: 0.176924\n",
      "Total training time: 0.01 seconds.\n",
      "-- Epoch 45\n",
      "Norm: 0.18, NNZs: 12, Bias: -0.174632, T: 270, Avg. loss: 0.176774\n",
      "Total training time: 0.01 seconds.\n",
      "-- Epoch 46\n",
      "Norm: 0.19, NNZs: 12, Bias: -0.176199, T: 276, Avg. loss: 0.176015\n",
      "Total training time: 0.01 seconds.\n",
      "-- Epoch 47\n",
      "Norm: 0.19, NNZs: 12, Bias: -0.177854, T: 282, Avg. loss: 0.175763\n",
      "Total training time: 0.01 seconds.\n",
      "-- Epoch 48\n",
      "Norm: 0.19, NNZs: 12, Bias: -0.179234, T: 288, Avg. loss: 0.175149\n",
      "Total training time: 0.01 seconds.\n",
      "-- Epoch 49\n",
      "Norm: 0.19, NNZs: 12, Bias: -0.180593, T: 294, Avg. loss: 0.174472\n",
      "Total training time: 0.01 seconds.\n",
      "-- Epoch 50\n",
      "Norm: 0.19, NNZs: 12, Bias: -0.182154, T: 300, Avg. loss: 0.174353\n",
      "Total training time: 0.01 seconds.\n",
      "-- Epoch 51\n",
      "Norm: 0.19, NNZs: 12, Bias: -0.183554, T: 306, Avg. loss: 0.173678\n",
      "Total training time: 0.01 seconds.\n",
      "-- Epoch 52\n",
      "Norm: 0.20, NNZs: 12, Bias: -0.185038, T: 312, Avg. loss: 0.173482\n",
      "Total training time: 0.01 seconds.\n",
      "-- Epoch 53\n",
      "Norm: 0.20, NNZs: 12, Bias: -0.186268, T: 318, Avg. loss: 0.172940\n",
      "Total training time: 0.01 seconds.\n",
      "-- Epoch 54\n",
      "Norm: 0.20, NNZs: 12, Bias: -0.187481, T: 324, Avg. loss: 0.172343\n",
      "Total training time: 0.01 seconds.\n",
      "-- Epoch 55\n",
      "Norm: 0.20, NNZs: 12, Bias: -0.188887, T: 330, Avg. loss: 0.172249\n",
      "Total training time: 0.01 seconds.\n",
      "Convergence after 55 epochs took 0.01 seconds\n",
      "-- Epoch 1\n",
      "Norm: 0.06, NNZs: 12, Bias: -0.036149, T: 19, Avg. loss: 0.259494\n",
      "Total training time: 0.00 seconds.\n",
      "-- Epoch 2\n",
      "Norm: 0.08, NNZs: 12, Bias: -0.060343, T: 38, Avg. loss: 0.225872\n",
      "Total training time: 0.00 seconds.\n",
      "-- Epoch 3\n",
      "Norm: 0.07, NNZs: 12, Bias: -0.079009, T: 57, Avg. loss: 0.216568\n",
      "Total training time: 0.00 seconds.\n",
      "-- Epoch 4\n",
      "Norm: 0.08, NNZs: 12, Bias: -0.096341, T: 76, Avg. loss: 0.210592\n",
      "Total training time: 0.00 seconds.\n",
      "-- Epoch 5\n",
      "Norm: 0.08, NNZs: 12, Bias: -0.111451, T: 95, Avg. loss: 0.205757\n",
      "Total training time: 0.00 seconds.\n",
      "-- Epoch 6\n",
      "Norm: 0.08, NNZs: 12, Bias: -0.123650, T: 114, Avg. loss: 0.200681\n",
      "Total training time: 0.00 seconds.\n",
      "-- Epoch 7\n",
      "Norm: 0.08, NNZs: 12, Bias: -0.135530, T: 133, Avg. loss: 0.197588\n",
      "Total training time: 0.00 seconds.\n",
      "-- Epoch 8\n",
      "Norm: 0.08, NNZs: 12, Bias: -0.145880, T: 152, Avg. loss: 0.194529\n",
      "Total training time: 0.00 seconds.\n",
      "-- Epoch 9\n",
      "Norm: 0.08, NNZs: 12, Bias: -0.156185, T: 171, Avg. loss: 0.193518\n",
      "Total training time: 0.00 seconds.\n",
      "-- Epoch 10\n",
      "Norm: 0.09, NNZs: 12, Bias: -0.165650, T: 190, Avg. loss: 0.190660\n",
      "Total training time: 0.00 seconds.\n",
      "-- Epoch 11\n",
      "Norm: 0.09, NNZs: 12, Bias: -0.173757, T: 209, Avg. loss: 0.188630\n",
      "Total training time: 0.00 seconds.\n",
      "-- Epoch 12\n",
      "Norm: 0.09, NNZs: 12, Bias: -0.181407, T: 228, Avg. loss: 0.186973\n",
      "Total training time: 0.00 seconds.\n",
      "-- Epoch 13\n",
      "Norm: 0.09, NNZs: 12, Bias: -0.188550, T: 247, Avg. loss: 0.185084\n",
      "Total training time: 0.00 seconds.\n",
      "-- Epoch 14\n",
      "Norm: 0.10, NNZs: 12, Bias: -0.195574, T: 266, Avg. loss: 0.184098\n",
      "Total training time: 0.00 seconds.\n",
      "-- Epoch 15\n",
      "Norm: 0.10, NNZs: 12, Bias: -0.201749, T: 285, Avg. loss: 0.182075\n",
      "Total training time: 0.00 seconds.\n",
      "-- Epoch 16\n",
      "Norm: 0.10, NNZs: 12, Bias: -0.208016, T: 304, Avg. loss: 0.181824\n",
      "Total training time: 0.00 seconds.\n",
      "-- Epoch 17\n",
      "Norm: 0.10, NNZs: 12, Bias: -0.213938, T: 323, Avg. loss: 0.180437\n",
      "Total training time: 0.00 seconds.\n",
      "-- Epoch 18\n",
      "Norm: 0.10, NNZs: 12, Bias: -0.219577, T: 342, Avg. loss: 0.179540\n",
      "Total training time: 0.00 seconds.\n",
      "-- Epoch 19\n",
      "Norm: 0.11, NNZs: 12, Bias: -0.224575, T: 361, Avg. loss: 0.178205\n",
      "Total training time: 0.00 seconds.\n",
      "-- Epoch 20\n",
      "Norm: 0.11, NNZs: 12, Bias: -0.229827, T: 380, Avg. loss: 0.177582\n",
      "Total training time: 0.00 seconds.\n",
      "-- Epoch 21\n",
      "Norm: 0.11, NNZs: 12, Bias: -0.234837, T: 399, Avg. loss: 0.176772\n",
      "Total training time: 0.00 seconds.\n",
      "-- Epoch 22\n",
      "Norm: 0.11, NNZs: 12, Bias: -0.238941, T: 418, Avg. loss: 0.175771\n",
      "Total training time: 0.00 seconds.\n",
      "-- Epoch 23\n",
      "Norm: 0.11, NNZs: 12, Bias: -0.243116, T: 437, Avg. loss: 0.174996\n",
      "Total training time: 0.00 seconds.\n",
      "-- Epoch 24\n",
      "Norm: 0.12, NNZs: 12, Bias: -0.246807, T: 456, Avg. loss: 0.174115\n",
      "Total training time: 0.00 seconds.\n",
      "-- Epoch 25\n",
      "Norm: 0.12, NNZs: 12, Bias: -0.250774, T: 475, Avg. loss: 0.174412\n",
      "Total training time: 0.00 seconds.\n",
      "Convergence after 25 epochs took 0.00 seconds\n",
      "-- Epoch 1\n",
      "Norm: 0.10, NNZs: 12, Bias: -0.042102, T: 33, Avg. loss: 0.182252\n",
      "Total training time: 0.00 seconds.\n",
      "-- Epoch 2\n",
      "Norm: 0.10, NNZs: 12, Bias: -0.063018, T: 66, Avg. loss: 0.169845\n",
      "Total training time: 0.00 seconds.\n",
      "-- Epoch 3\n",
      "Norm: 0.10, NNZs: 12, Bias: -0.079598, T: 99, Avg. loss: 0.165813\n",
      "Total training time: 0.00 seconds.\n",
      "-- Epoch 4\n",
      "Norm: 0.09, NNZs: 12, Bias: -0.093733, T: 132, Avg. loss: 0.162462\n",
      "Total training time: 0.00 seconds.\n",
      "-- Epoch 5\n",
      "Norm: 0.08, NNZs: 12, Bias: -0.105035, T: 165, Avg. loss: 0.159473\n",
      "Total training time: 0.00 seconds.\n",
      "-- Epoch 6\n",
      "Norm: 0.08, NNZs: 12, Bias: -0.116041, T: 198, Avg. loss: 0.159203\n",
      "Total training time: 0.00 seconds.\n",
      "-- Epoch 7\n",
      "Norm: 0.09, NNZs: 12, Bias: -0.125126, T: 231, Avg. loss: 0.157543\n",
      "Total training time: 0.00 seconds.\n",
      "-- Epoch 8\n",
      "Norm: 0.09, NNZs: 12, Bias: -0.132986, T: 264, Avg. loss: 0.156164\n",
      "Total training time: 0.00 seconds.\n",
      "-- Epoch 9\n",
      "Norm: 0.10, NNZs: 12, Bias: -0.140271, T: 297, Avg. loss: 0.155063\n",
      "Total training time: 0.00 seconds.\n",
      "-- Epoch 10\n",
      "Norm: 0.09, NNZs: 12, Bias: -0.146233, T: 330, Avg. loss: 0.154936\n",
      "Total training time: 0.00 seconds.\n",
      "-- Epoch 11\n",
      "Norm: 0.09, NNZs: 12, Bias: -0.151912, T: 363, Avg. loss: 0.154352\n",
      "Total training time: 0.00 seconds.\n",
      "-- Epoch 12\n",
      "Norm: 0.09, NNZs: 12, Bias: -0.156864, T: 396, Avg. loss: 0.153823\n",
      "Total training time: 0.00 seconds.\n",
      "-- Epoch 13\n",
      "Norm: 0.08, NNZs: 12, Bias: -0.160610, T: 429, Avg. loss: 0.152006\n",
      "Total training time: 0.00 seconds.\n",
      "-- Epoch 14\n",
      "Norm: 0.08, NNZs: 12, Bias: -0.165246, T: 462, Avg. loss: 0.153452\n",
      "Total training time: 0.00 seconds.\n",
      "Convergence after 14 epochs took 0.00 seconds\n",
      "-- Epoch 1\n",
      "Norm: 0.17, NNZs: 12, Bias: -0.004933, T: 47, Avg. loss: 0.336403\n",
      "Total training time: 0.00 seconds.\n",
      "-- Epoch 2\n",
      "Norm: 0.13, NNZs: 12, Bias: -0.003534, T: 94, Avg. loss: 0.332655\n",
      "Total training time: 0.00 seconds.\n",
      "-- Epoch 3\n",
      "Norm: 0.14, NNZs: 12, Bias: -0.005188, T: 141, Avg. loss: 0.327120\n",
      "Total training time: 0.00 seconds.\n",
      "-- Epoch 4\n",
      "Norm: 0.16, NNZs: 12, Bias: -0.004540, T: 188, Avg. loss: 0.323389\n",
      "Total training time: 0.00 seconds.\n",
      "-- Epoch 5\n",
      "Norm: 0.16, NNZs: 12, Bias: -0.003291, T: 235, Avg. loss: 0.322481\n",
      "Total training time: 0.00 seconds.\n",
      "-- Epoch 6\n",
      "Norm: 0.12, NNZs: 12, Bias: -0.005520, T: 282, Avg. loss: 0.317552\n",
      "Total training time: 0.00 seconds.\n",
      "-- Epoch 7\n",
      "Norm: 0.15, NNZs: 12, Bias: -0.004057, T: 329, Avg. loss: 0.322592\n",
      "Total training time: 0.00 seconds.\n",
      "Convergence after 7 epochs took 0.00 seconds\n",
      "-- Epoch 1\n",
      "Norm: 0.22, NNZs: 12, Bias: 0.003971, T: 61, Avg. loss: 0.475478\n",
      "Total training time: 0.00 seconds.\n",
      "-- Epoch 2\n",
      "Norm: 0.16, NNZs: 12, Bias: 0.014708, T: 122, Avg. loss: 0.483920\n",
      "Total training time: 0.00 seconds.\n",
      "Convergence after 2 epochs took 0.00 seconds\n"
     ]
    },
    {
     "name": "stderr",
     "output_type": "stream",
     "text": [
      "C:\\Users\\issohl\\AppData\\Local\\Continuum\\miniconda3\\envs\\mldds02\\lib\\site-packages\\sklearn\\linear_model\\stochastic_gradient.py:1022: ConvergenceWarning: Maximum number of iteration reached before convergence. Consider increasing max_iter to improve the fit.\n",
      "  ConvergenceWarning)\n"
     ]
    }
   ],
   "source": [
    "# 1. Generate the learning curve for poly_model\n",
    "#\n",
    "# Your code here\n",
    "train_sizes, train_scores, validation_scores = learning_curve(\n",
    "    poly_model, X_train_poly_scaled, y_train_scaled)\n",
    "\n",
    "# 2. Compute some stats\n",
    "#\n",
    "# Your code here\n",
    "train_scores_mean = np.mean(train_scores, axis=1)\n",
    "train_scores_std = np.std(train_scores, axis=1)\n",
    "validation_scores_mean = np.mean(validation_scores, axis=1)\n",
    "validation_scores_std = np.std(validation_scores, axis=1)"
   ]
  },
  {
   "cell_type": "code",
   "execution_count": 110,
   "metadata": {},
   "outputs": [
    {
     "data": {
      "text/plain": [
       "<matplotlib.legend.Legend at 0x23f32fa9fd0>"
      ]
     },
     "execution_count": 110,
     "metadata": {},
     "output_type": "execute_result"
    },
    {
     "data": {
      "image/png": "[encoded data removed]",
      "text/plain": [
       "<Figure size 1080x576 with 1 Axes>"
      ]
     },
     "metadata": {},
     "output_type": "display_data"
    }
   ],
   "source": [
    "# 3. Plot the learning curve, along with the stats\n",
    "#\n",
    "# Your code here\n",
    "\n",
    "fig, ax = plt.subplots(figsize=(15, 8))\n",
    "\n",
    "ax.fill_between(train_sizes, train_scores_mean - train_scores_std,\n",
    "                train_scores_mean + train_scores_std, alpha=0.1,\n",
    "                color=\"r\")\n",
    "ax.fill_between(train_sizes, validation_scores_mean - validation_scores_std,\n",
    "                validation_scores_mean + validation_scores_std, alpha=0.1, color=\"g\")\n",
    "ax.plot(train_sizes, train_scores_mean, 'o-', color=\"r\",\n",
    "        label=\"Training score\")\n",
    "ax.plot(train_sizes, validation_scores_mean, 'o-', color=\"g\",\n",
    "        label=\"Cross-validation score\")\n",
    "ax.set(title='Gross Monthly Median Income and Employment Rate: Polynomial Model',\n",
    "       xlabel='Training examples',\n",
    "       ylabel='Scores')\n",
    "ax.grid()\n",
    "ax.legend()"
   ]
  },
  {
   "cell_type": "markdown",
   "metadata": {
    "slideshow": {
     "slide_type": "slide"
    }
   },
   "source": [
    "## Regularization"
   ]
  },
  {
   "cell_type": "code",
   "execution_count": null,
   "metadata": {},
   "outputs": [],
   "source": []
  },
  {
   "cell_type": "markdown",
   "metadata": {
    "slideshow": {
     "slide_type": "slide"
    }
   },
   "source": [
    "## Cross Validation"
   ]
  },
  {
   "cell_type": "code",
   "execution_count": null,
   "metadata": {
    "slideshow": {
     "slide_type": "slide"
    }
   },
   "outputs": [],
   "source": []
  },
  {
   "cell_type": "markdown",
   "metadata": {
    "slideshow": {
     "slide_type": "slide"
    }
   },
   "source": [
    "### Reading List\n",
    "\n",
    "|Material|Read it for|URL|\n",
    "|--|--|--|\n",
    "|Chapter 8, Pages 290-296|Stochastic Gradient Descent Theory|http://www.deeplearningbook.org/contents/optimization.html|\n",
    "|Chapter 5, Pages 107-119|Capacity, Overfitting and Underfitting|http://www.deeplearningbook.org/contents/ml.html|\n",
    "|scikit-learn: Section 1.5 Stochastic Gradient Descent|User guide for sklearn with SGD|http://scikit-learn.org/stable/modules/sgd.html|\n",
    "\n",
    "Note: in the book, the section on SGD is actually talking about \"Minibatch SGD\""
   ]
  },
  {
   "cell_type": "code",
   "execution_count": null,
   "metadata": {},
   "outputs": [],
   "source": []
  }
 ],
 "metadata": {
  "celltoolbar": "Slideshow",
  "kernelspec": {
   "display_name": "Python 3",
   "language": "python",
   "name": "python3"
  },
  "language_info": {
   "codemirror_mode": {
    "name": "ipython",
    "version": 3
   },
   "file_extension": ".py",
   "mimetype": "text/x-python",
   "name": "python",
   "nbconvert_exporter": "python",
   "pygments_lexer": "ipython3",
   "version": "3.6.5"
  },
  "livereveal": {
   "autolaunch": false,
   "overlay": "<div class='logo'><img src='assets/Stackup_Logo_Small.png' width='90%'/></div>"
  }
 },
 "nbformat": 4,
 "nbformat_minor": 2
}
