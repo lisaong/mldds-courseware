{
 "cells": [
  {
   "cell_type": "markdown",
   "metadata": {},
   "source": [
    "![training](assets/training-basics/puppy-training.jpg)\n",
    "\n",
    "(image: amazon)"
   ]
  },
  {
   "cell_type": "markdown",
   "metadata": {
    "slideshow": {
     "slide_type": "slide"
    }
   },
   "source": [
    "# Training basics"
   ]
  },
  {
   "cell_type": "markdown",
   "metadata": {
    "slideshow": {
     "slide_type": "slide"
    }
   },
   "source": [
    "Concepts in training models\n",
    "- Loss functions\n",
    "- Gradient descent\n",
    "- Overfitting, underfitting, bias, variance\n",
    "- Regularization\n",
    "- Cross-validation"
   ]
  },
  {
   "cell_type": "markdown",
   "metadata": {
    "slideshow": {
     "slide_type": "fragment"
    }
   },
   "source": [
    "Objective: a model that trains fast and performs well"
   ]
  },
  {
   "cell_type": "markdown",
   "metadata": {
    "slideshow": {
     "slide_type": "slide"
    }
   },
   "source": [
    "## 1. Loss Functions\n",
    "\n",
    "What they are: a metric of how far away the predictions are from the truth\n",
    "\n",
    "For example:\n",
    "\n",
    "![MSE](http://scikit-learn.org/stable/_images/math/44f36557fef9b30b077b21550490a1b9a0ade154.png)"
   ]
  },
  {
   "cell_type": "markdown",
   "metadata": {
    "slideshow": {
     "slide_type": "fragment"
    }
   },
   "source": [
    "a.k.a.:\n",
    "- Objective function\n",
    "- Cost function\n",
    "- Error function"
   ]
  },
  {
   "cell_type": "markdown",
   "metadata": {
    "slideshow": {
     "slide_type": "slide"
    }
   },
   "source": [
    "### Definitions\n",
    "\n",
    "$$x^* = \\arg \\min f(x)$$\n",
    "\n",
    "where $x^*$ = value that minimizes the loss function $f(x)$\n",
    "\n",
    "The process of finding $x^*$ is called \"Optimization\". It usually involves running some type of Gradient Descent. "
   ]
  },
  {
   "cell_type": "markdown",
   "metadata": {
    "slideshow": {
     "slide_type": "slide"
    }
   },
   "source": [
    "### Loss Function Examples\n",
    "\n",
    "Scikit-learn:\n",
    "- [Mean squared error](http://scikit-learn.org/stable/modules/model_evaluation.html#mean-squared-error): `sklearn.metrics.mean_squared_error(y_true, y_pred)`\n",
    "- [Log loss](http://scikit-learn.org/stable/modules/model_evaluation.html#log-loss): `sklearn.metrics.log_loss(y_true, y_pred)`\n",
    "- [Zero one loss](http://scikit-learn.org/stable/modules/generated/sklearn.metrics.zero_one_loss.html#sklearn.metrics.zero_one_loss)\n",
    "`sklearn.metrics.zero_one_loss(y_true, y_pred)`\n",
    "- etc\n",
    "\n",
    "Keras:\n",
    "- https://keras.io/losses/\n",
    "- `keras.losses.mean_squared_error(y_true, y_pred)`\n",
    "- `keras.losses.binary_crossentropy(y_true, y_pred)`\n",
    "- etc"
   ]
  },
  {
   "cell_type": "markdown",
   "metadata": {
    "slideshow": {
     "slide_type": "slide"
    }
   },
   "source": [
    "## 2. Gradient Descent\n",
    "\n",
    "What it is: technique for minimizing loss function for a given model\n",
    "\n",
    "Objective: find $w^*$ such that $$w^* = \\underset{w}\\arg \\min{f\\big(y_{true}, y_{pred}\\big)}$$\n",
    "\n",
    "$$w^* = \\underset{w}\\arg \\min{f\\big(y_{true}, g(x, w)\\big)}$$\n",
    "\n",
    "\n",
    "where\n",
    "- $f(...)$ is the loss function\n",
    "- $w$ are the weights\n",
    "- $g(x, w)$ is the model that computes $y_{pred}$"
   ]
  },
  {
   "cell_type": "markdown",
   "metadata": {
    "slideshow": {
     "slide_type": "slide"
    }
   },
   "source": [
    "### Gradient descent algorithm\n",
    "\n",
    "1. Initialize $w$ to some value (e.g. random)\n",
    "2. Compute gradient of $f\\big(y_{true}, g(x, w)\\big)$\n",
    "3. Update $w$ by a \"tiny factor\" in the negative of the gradient\n",
    "4. Repeat 2-3 until loss is \"good enough\"\n",
    "\n",
    "The \"tiny factor\" is known as the \"learning rate\""
   ]
  },
  {
   "cell_type": "markdown",
   "metadata": {
    "slideshow": {
     "slide_type": "slide"
    }
   },
   "source": [
    "### Workshop: Gradient descent. Animated\n",
    "\n",
    "![wake up](assets/training-basics/descend.jpg)\n",
    "\n",
    "(what goes in my head during training)"
   ]
  },
  {
   "cell_type": "markdown",
   "metadata": {
    "slideshow": {
     "slide_type": "slide"
    }
   },
   "source": [
    "### Environment Setup\n",
    "\n",
    "Create a new environment called `mldds02`. You may also reuse `mldds01`, but it's good to keep separate environments for different experiments.\n",
    "\n",
    "```\n",
    "conda create -n mldds02 python=3\n",
    "conda activate mldds02\n",
    "\n",
    "(mldds02) conda install jupyter numpy pandas matplotlib scikit-learn\n",
    "(mldds02) conda install -c conda-forge ffmpeg\n",
    "```"
   ]
  },
  {
   "cell_type": "code",
   "execution_count": 62,
   "metadata": {
    "slideshow": {
     "slide_type": "-"
    }
   },
   "outputs": [],
   "source": [
    "# Credits: https://jed-ai.github.io/py1_gd_animation/\n",
    "\n",
    "import numpy as np\n",
    "import matplotlib.pyplot as plt\n",
    "\n",
    "\"\"\"Example gradient descent implementation\"\"\"\n",
    "\n",
    "def func_y(x):\n",
    "    \"\"\"A demonstrative loss function that happens to be convex (has global a minimum)\n",
    "    Args:\n",
    "        x - the input (can be the weights of a machine learning algorithm)\n",
    "    Returns:\n",
    "        The loss value\n",
    "    \"\"\"\n",
    "    return x**2 - 4*x + 2\n",
    "\n",
    "def gradient_func_y(x):\n",
    "    \"\"\"The gradient of func_y\n",
    "    Args:\n",
    "        x - the input\n",
    "    Returns:\n",
    "        The gradient value\n",
    "    \"\"\"\n",
    "    return 2*x - 4 # d(x^2 - 4x + 2)/dx = 2x - 4\n",
    "\n",
    "def gradient_descent(previous_x, learning_rate, epochs):\n",
    "    \"\"\"An implementation of gradient descent\n",
    "    Args:\n",
    "        previous_x - the previous input value\n",
    "        learning_rate - how much to change x per iteration\n",
    "        epochs - number of steps to run gradient descent\n",
    "    Returns:\n",
    "        A tuple: array of x values, array of loss values\n",
    "    \"\"\"\n",
    "    x_gd = []\n",
    "    y_gd = []\n",
    "    x_gd.append(previous_x)\n",
    "    y_gd.append(func_y(previous_x))\n",
    "    \n",
    "    # loop to update x and y\n",
    "    for i in range(epochs):\n",
    "        # x = lr * gradient(func(prev_x))\n",
    "        update = learning_rate *gradient_func_y(previous_x)\n",
    "        x = previous_x - update\n",
    "        print('step', i, 'previous x', previous_x,\n",
    "              'update:', -update, 'new x:', x)\n",
    "        x_gd.append(x)\n",
    "        y_gd.append(func_y(x))\n",
    "        \n",
    "        # update previous_x\n",
    "        previous_x = x\n",
    "    \n",
    "    return x_gd, y_gd"
   ]
  },
  {
   "cell_type": "markdown",
   "metadata": {
    "slideshow": {
     "slide_type": "-"
    }
   },
   "source": [
    "With gradient descent implemented, we'll will now run it."
   ]
  },
  {
   "cell_type": "code",
   "execution_count": 64,
   "metadata": {
    "slideshow": {
     "slide_type": "-"
    }
   },
   "outputs": [
    {
     "name": "stdout",
     "output_type": "stream",
     "text": [
      "step 0 previous x 0.7 update: 0.39 new x: 1.0899999999999999\n",
      "step 1 previous x 1.0899999999999999 update: 0.273 new x: 1.363\n",
      "step 2 previous x 1.363 update: 0.1911 new x: 1.5541\n",
      "step 3 previous x 1.5541 update: 0.13376999999999997 new x: 1.68787\n",
      "step 4 previous x 1.68787 update: 0.093639 new x: 1.781509\n",
      "step 5 previous x 1.781509 update: 0.06554729999999999 new x: 1.8470563\n",
      "step 6 previous x 1.8470563 update: 0.045883110000000005 new x: 1.8929394099999999\n",
      "step 7 previous x 1.8929394099999999 update: 0.03211817700000003 new x: 1.925057587\n",
      "step 8 previous x 1.925057587 update: 0.02248272390000001 new x: 1.9475403109\n",
      "step 9 previous x 1.9475403109 update: 0.015737906729999994 new x: 1.96327821763\n"
     ]
    }
   ],
   "source": [
    "x0 = 0.7\n",
    "learning_rate = 0.15\n",
    "epochs = 10\n",
    "\n",
    "x = np.arange(-1, 5, 0.01)\n",
    "y = func_y(x)\n",
    "x_gd, y_gd = gradient_descent(x0, learning_rate, epochs)"
   ]
  },
  {
   "cell_type": "markdown",
   "metadata": {
    "slideshow": {
     "slide_type": "-"
    }
   },
   "source": [
    "Plot the animation."
   ]
  },
  {
   "cell_type": "code",
   "execution_count": 65,
   "metadata": {
    "slideshow": {
     "slide_type": "-"
    }
   },
   "outputs": [
    {
     "data": {
      "text/html": [
       "<video width=\"432\" height=\"288\" controls autoplay loop>\n",
       "  <source type=\"video/mp4\" src=\"data:video/mp4;base64,AAAAHGZ0eXBNNFYgAAACAGlzb21pc28yYXZjMQAAAAhmcmVlAAAoAW1kYXQAAAKtBgX//6ncRem9\n",
       "5tlIt5Ys2CDZI+7veDI2NCAtIGNvcmUgMTU1IHIyOTAxIDdkMGZmMjIgLSBILjI2NC9NUEVHLTQg\n",
       "QVZDIGNvZGVjIC0gQ29weWxlZnQgMjAwMy0yMDE4IC0gaHR0cDovL3d3dy52aWRlb2xhbi5vcmcv\n",
       "eDI2NC5odG1sIC0gb3B0aW9uczogY2FiYWM9MSByZWY9MyBkZWJsb2NrPTE6MDowIGFuYWx5c2U9\n",
       "MHgzOjB4MTEzIG1lPWhleCBzdWJtZT03IHBzeT0xIHBzeV9yZD0xLjAwOjAuMDAgbWl4ZWRfcmVm\n",
       "PTEgbWVfcmFuZ2U9MTYgY2hyb21hX21lPTEgdHJlbGxpcz0xIDh4OGRjdD0xIGNxbT0wIGRlYWR6\n",
       "b25lPTIxLDExIGZhc3RfcHNraXA9MSBjaHJvbWFfcXBfb2Zmc2V0PS0yIHRocmVhZHM9NiBsb29r\n",
       "YWhlYWRfdGhyZWFkcz0xIHNsaWNlZF90aHJlYWRzPTAgbnI9MCBkZWNpbWF0ZT0xIGludGVybGFj\n",
       "ZWQ9MCBibHVyYXlfY29tcGF0PTAgY29uc3RyYWluZWRfaW50cmE9MCBiZnJhbWVzPTMgYl9weXJh\n",
       "bWlkPTIgYl9hZGFwdD0xIGJfYmlhcz0wIGRpcmVjdD0xIHdlaWdodGI9MSBvcGVuX2dvcD0wIHdl\n",
       "aWdodHA9MiBrZXlpbnQ9MjUwIGtleWludF9taW49MiBzY2VuZWN1dD00MCBpbnRyYV9yZWZyZXNo\n",
       "PTAgcmNfbG9va2FoZWFkPTQwIHJjPWNyZiBtYnRyZWU9MSBjcmY9MjMuMCBxY29tcD0wLjYwIHFw\n",
       "bWluPTAgcXBtYXg9NjkgcXBzdGVwPTQgaXBfcmF0aW89MS40MCBhcT0xOjEuMDAAgAAAEHZliIQA\n",
       "Ff/+98nvwKbrW1u1v5PPSPwstz7CKj9uWxO06gAAAwAAGdunJ/4dLo8ACd+ZaXo375x85PHJjDb4\n",
       "4N2iuxabGC2YF4J1Q7EHgnOkAAH7WTItmDfOFUAnMzHYMfvgLErWiif1zp99BROsxF5Ow+8knVWG\n",
       "tkZR71wkeifLUGIfbYwBle0h7FgoArCFt93T0EdqIO85E8YhK8ngd/8oM9p9WB7T/29YGYthToIN\n",
       "eqssh6OaAQSvIa+yk2XSUisnhqK+/aABLWTAIK3FYo/L/3+ZAIdE9CK9chuTHAn7VcDGOWzBB2gM\n",
       "+zNfRgXzef1pIvKsEYXTLFZteYLm5z55kAmIqjdmo7t7zVmqUJEAADsKjlSmPrgUFseAWtF8zqTp\n",
       "sEvyhS73gwiniO1Hh2cgESFk5SlJqgQeHBRGNlmLXHagzjXvNMbrlVQYHlC00PHOMUkzM6ijCQKE\n",
       "eDm5YqhlIeIInov8GoSXuwi+IWa/mKelgeJaBphcRjGmH+crxl+1muFr+H3e2BAPnjk5oA4X3lYb\n",
       "dx+s9sKQvGpVkuKd1Zw9tIpTI936Cxb5DlWM+Ww7hE7tDzBjhv4F/fzTx8kyynM7y4LWJRy12G6g\n",
       "SKB7UmkXdu2+vXmy0ihXfB4IyF9ZDrltfAbOpCO3813OguGsahBO2J2VDLBIQE69rKZNwdU0+nKC\n",
       "FxwpOZBg9bari7y2KAoyPhUnA1W5hKLcsFgFxxHMtst/cNkoJOli8ZiLzSSx4v+Z0DnFzC7YQCxO\n",
       "FKnJ3XARiHAttmNHXhWGfxLmwU5uhF277E0kNy/5VR0+1XGeql0xGlmqwjlwG3soM9R14/oAGTIw\n",
       "xXde5y1Ctd0hkVGdOUiOphJ6hki579Gb8YhOyWpoVdWfCc98TJDNWrvtjwehUr4ZKVDFYc+gXZp6\n",
       "4VWVsrDRB8JkpQK032q5oSzvFwwy75Z6rUoeP0WbH99WvfxNMCDYhK6m5haZglhBw/4VHHTcXY0M\n",
       "3eVuno7g8nvRVTYNOToYBAa3Ycxs5OVlcC17v54Qio2+SCMcDAztx5/hyyWJFbz5qWn7SgRmOg7b\n",
       "ANV0d6M/xhwOAslVjUoSeINEGW8uxNm+MFYKYUOT7CXRF4Ru2kdnoVfa8xnd6odeTAfHIGYs1CNu\n",
       "0cVmewOcj6mlxzYVIMp3j/vFqVJPT7VjOu6YOQVy6zPOCXQ5nXTUjsVKNubN6daGPmmhCFzz3stq\n",
       "sWBourEIwTVet3RWA1U6rxawBXkh7FN17UV18nIk6T85MRGaElnqzrY4pUtDLd0T6LXhezbbmaJy\n",
       "H1KppWFlJpsNeXDuIWpGKGdRXRUT+MSeCSh4EEoG8ApTN7OBTjIpVEK/2zXqRsEycQcgIpZySZ5V\n",
       "8fnJlkbWAa07oMt54MgjCO1P2fdX95bZswzz3R8SK30HQ/4Flhw9rxL9AAEmCjQiGq7AKbfHXTyz\n",
       "u44QbZT6WT6TYS9jSJKaBaLt77bfIQDxI5nqebnbzrUbrJAHTcQWxiUDwzPOEQREuVxyXaBjsIDd\n",
       "N6l1KWnRFTqve6NUg6HsH0y9HzWUFnxV7+ymYNXytlDCQs3wTKnV7lOIFyGvU19VQtouKQxQWmUA\n",
       "gVqkSIzD4nInlHcZnqCQLEAAp7PFyMqVqkIjob3AuPUvyKqJ1haX30abf3IMYkeqvgT+1QEVlEqS\n",
       "9lh8vwh0QPYFBCJX+7Fy3MECQDYtPLrlYcFJ8/AuXwklxDMgHI6opk2atufNYSXsvI63i29Befwm\n",
       "iRBkQNrHRcDAfg7rGfKc2ly0tn+odOCL26CNm73uO41KmVuq5YRu8I3B2lVBCD6NTjzbOvzcP68o\n",
       "Ps3on4j7C5cpXuH0BrnzNijACsHIZRrnpemvAesTs5JUijv7vH23aGGKeHl9QvSzfD8N+OQZ9GnN\n",
       "JKPDdKfRjE1GVDtmBQQhHwgmWI80jZbFY7OU5nMuZKJzyXf3YJTGpDr8POZaY8JLd7Nmdl0pv2xw\n",
       "tYwHWSOugNDf/h6ZhAOofY9nQJBchufa4iuFuoW2wAO/bRi7P8KDf0UR4kb6a24g9eH2Fr0t70lF\n",
       "8z0wbAqQ1cGIpDVl2gIGBVjkgicwGN4irsra40o49Ic+f+Wtb5HMkos5dTfGR3LIbUh14dcMAE3J\n",
       "8SzPs2nVvveJBRICONkABYyl/M1jJBnvlh2i8TKd+m+ZjgJVUVWzpgBxVeq7Uf3PFgE/+Bp9BoYr\n",
       "BWw+tf7vot607xadrOMrOYsMFmZSu6A79ZeRH6nrENwrzeQ9ThGWcKqnTNsCB8miCYvOxaaQVNVo\n",
       "GtN02lHnW8SKtizVJk8Cp+unW8plnEGSLFKdaO+YH1TFBD6BX0FnPzz0YF7CrRiuSR8NK3/cRN+b\n",
       "mvekdYC9ethhMZ/424gTgAyHI7nnFezFL2iiFb0ZHvRuaTWvU0sFe6Mxg57PfnR64C0K0EKj1vTu\n",
       "gd/uyPm2oGHyk+Itc3NcDYuduxA6+P3+hjo62domUgT9oRiqFVyCefH4Km3fFxsH26K6RDfPFZRo\n",
       "I4nuNRgsGPeH/sLh5b/X//Dlh89sgwsVtBs4ezK1+QkLbbse24/SGNEZYHL5e2HhI9FbgbEaXM9n\n",
       "U46DbXAFa721DaxqrpzMV0vg3Q95JscTLYrY5/zW5X0XGW+ABaulrh7gOHDx0WjH9og+b0zpzUFA\n",
       "0UX3G3T4zt/qo1mhKx4xrYd5Hg/YyNwDm7L2dS1Sr30+kpvLG8PaC97Wrkg8PUQquUDxOPPjZG0/\n",
       "MIuu9aOhNSaK9EtChb0kzefYGOYzrABHKcLntyt6FguYfpkClu/g7hhcDX4XtBfYvEc2098bqI+1\n",
       "N81W8PKM5RyOdXSAGWVSBCjDfCBVRkh5k3o59Ebc4YQGSa8dt0+Mg34GZT4DNYg9iROAe9zFraXH\n",
       "1CgCipggrDC/48Xq1bnEhk1jOAavVNc5dzXBuRb8QtFC+ixUlBlVYr/dzOVtB7T8Xm84XCkart2N\n",
       "2UkeX/k84ViOzAA/XHPpz8bgGsfd/LsoTaCs99E/W3QNekTMjit6eVxi9GE2ly4Z79aCrrX0eka2\n",
       "UNumE1WsqDR6YvGcKdgbh7r3Tl7E/1NyVpJa+GcX5x8w4QhNyAFHEZxTd2TpLsjTmdlfd666trUG\n",
       "m1Md5G4bSQtkZi9Plpblu3cbvqr57WHrxw+0a95hXSdHjwCxNOeaeqN55FRTWSjd/b35u5NHqE4y\n",
       "5Mc+zlvYe/FNCE6+pimmmDd3gaMOxvTu0L0/g9h4oNTaouF/iwj/wsX9r3LKwPMXL6ncMLh0gW/G\n",
       "CMyRiBMVJam7Wknx+yBed69U6tI59UvfPT0yTiX2eVsxnOcnpTsVzKcIm4XxRC290hiqEhrC9J59\n",
       "4ceJx39r9AFMh/BiZkpWtioTloqj0Atd0c4Hb7+caZioJT1tPFxB1QWeBUA8gwnlXk/6PIVh9Loi\n",
       "RCHEB3u+A5JtlK/zTU4wgVjQYAGin+vNatYKufZipEE5NXKabJtsJ3FRASJ50DImmYL5dV4Kpc/v\n",
       "Koi0M8Msd092EREaKbwjoagHlsWCvzhSVwesGCpm4fvVNhYEZdn9Ft7eiaiZf6n3bIxuWdeCuL9y\n",
       "rfmfx6pYQ6kUJMii7TiRGKbydWBN/NnMim6+8VaKw4IhHoTHtQczOUyD/xxVFoa9s5PzS78Q4/T7\n",
       "FGUBFvmRzoT5lzd1NnxoEW892VyhfksGskTudgn+4uy5hKCRsa+LqcqFe1IVlsoVvIsjY1IVGLTf\n",
       "mRJ9ygibwGFvgLzrc8UYlZCtVMopn2czrzsvEuUbyxkHisH1Ar/6N1VM+8zildHhoFix1hWjfIHV\n",
       "2v+unO0TktMiqyUi9JyGY8y9LpkfXDVzUDzewEFHADgZ3ZzX2S/4cgJq53p6+J6JhFVB1c9EZg+f\n",
       "/5qwNRNTAza2Jqh4MmzkAIlTsQ9C4byZV2zAgdj2E/e08ioB9CtrvWbZvf5drDN6LovglJdUeuVx\n",
       "AJnHJDcmv2L3eW6etBf5E15dDACHgV/NIgpONODv+t/66QIBXt7x8ZVm+z1XtB/ygUhZ6S5i0jsB\n",
       "qkLY4tIHWdt7Yw6K3PbHBa7cDJPNm0Edz/xX7ia4qIPw5e2HXl6Rrblr/iLCI80GyMrgaTEZ8Puk\n",
       "6239XdrxJxTdYaB7yeMUerg5IHg8wa9o+TQLEvaW6Z83Zxm1RxBjwj0c5k6zLLpTfE35tRvZtw3y\n",
       "9EMNsWww7R6DH2usOJC4e5GeVY9k38ruYeGEWRbRSaS4N6XyfJ0EgFdBn3JcoRGwE0DNzzX+IztM\n",
       "YGxKqCmcKeky73Qc0bkhv2R6hsifnw1nf4kXgVtd8gOkrPnxQG2ql2rd102xZj9JMbtqffS0OEqY\n",
       "McpHuORCZdTU27gtyl13ZRZP3cMUhCNzA7V41wfuWbXZBDuZSkcNnIxm95pJPH2qErI/5v+Ahnv8\n",
       "KrRRPYow+IXeur5rPfGTLD9TN5CRQFABkycEt4yaDFKWndafNt2WJhNgQfgE1eSWRCp4rHPaq1JT\n",
       "qLwgy0MO8zZyzVY0BvbbhXemHrmK++I36xiPMLqgmlrmNpvMq+iLlJY+AF6NC8OS2ZMTXbedRKXb\n",
       "53dWGSbEqVLO9Es9yYKbS5teqW+xHf93vn5XP5SJSKarDZj9euHRIUhXyQq+XDOOeDHFjpN0VlDl\n",
       "AlwPVEimNroOE3jfOBkAu792W+7PEe1bz/1Ipp1CxxTP6WRrkobP83DZ2ElMikTFXKP5ygP/nlqC\n",
       "V4JlJpawkJ0i49zTAt9BnWbMJL+1+urjsuHwg3RtdsmvbvgyMEx6ogMsUbqVrZU/xVkvoC9f6ewz\n",
       "UrXeyWKBKkTx3xn5SOPG62NnQnQN71KD5BNwH73slPiiwFfKsN0Cw7I0zAhe0ku9xK99GkASJowh\n",
       "m1eqFEo8tGBRP5kR2QLvqBeNLMVtnCm/Gy8cLn10vPgrfPt9zB64c4LlZMo64I5B50Cap4L8eZ66\n",
       "pmElydld+b8+uHiZZjACDtpVq0BbjgAae+IzImnJJhJtiD/9x35Ul/457ElsSD/3xCbjW6W5TWxS\n",
       "+YLDFebmqEyOIA+44D2v27CmtOcYLxgii+0OeTkYw/zlv1xdb4J9LgYjJkbpD+EFwHXbPJKVrl8I\n",
       "HUbz0hoa9r/IjivMeq8vE+/NKsRYUljz3EL5uer+6F8DoZx+M70fGPvGMSPy9pyd713MK5OOAUFf\n",
       "N/3P3xuAwZkd1QVPILYJjrKpe9yAqpVDu00DYLwnvLEI31OX4zdoJCD0RelmpuchmY39cngOD83T\n",
       "XXbkfL0aqBjqtosf6ssJF+3HjhHwPUKiqLos54cOgCrR98NShwoSDHj6uRhnw6eXNKisT4njTEZx\n",
       "H/xujdEXspxtruQhdJWIwGmVIIV9QT3arbIw0dTuQecRjNMGSWumKHABV1CzuMDR+aegldItQA2x\n",
       "NOkJJSPeW4zZTBtLYS57SXZ2mFVCH34Dpp1KSMwFYA0L1q32TVj8NBKIUn3+NQvJL3i8HBCTDlio\n",
       "y+NVdujWbCqLwmnWASbah5NRfmXg2kfU2T5AmjMRzeGmt0iFKq2Bmf0ECUT4FWEhN80nfEQrMjsb\n",
       "OHj0KKtFzm4doBGFT6pyc3Czm3qCria/VAN1bVZcbOF4CJCP0rf+G4jc1YCahwADSwAABHRBmiRs\n",
       "QU/+1oywAdJ6bFAC1CvUbMp0Pv95fXFH/mNsXFQNjWX9tFy+HnbVPtMhIY+r7u5MFy9o+J+n5mrw\n",
       "FYNWIpJZ/JIhXEzKt6HGyNe/kt7sfvpv1rLpRff/Pgljimj5A2KW2ug8w8VLSePzlRoG6TmjfpCk\n",
       "XZ0cy0nELuCvgYAm3LVQJqIbqOWZvfkto8rKy3AZsBEwhubT0RhA4UtyYWGi3uJcvG0rVDMtGByf\n",
       "VAhDPCZGyhfIQj00v9wQUW4nIDehgod4fDAVJ1LZMaGDZ7MgS5/O+GQmBPzwCODt/8h1CO7Lx7/o\n",
       "YaNC6AFevX213vGiIT0RFxu0sHi0MNbC12vGPFaoKEV/7norrGNu2BBsPpmzhxcNIId4AfmSW+4p\n",
       "BE2R1I0180ozlAY+y39QrNdgVpCWJfElw0ZaXL86LgEk4yK8tURAdF59GHReSuZp6KKAPBdaCCga\n",
       "Pd9KgwiwqWpu7nSreowYc58svXjDYTUd8apJR8cm8H5TJZQj1nzG/Kr9VG+CjZqlEIVQqrdsrfBy\n",
       "XyRi0d8As73Wzh8/tbAIr/sJdQ0XNy1GpUgb0kGagbInkDakPnao8NQE7p3slfOQCt9009PPwfx0\n",
       "3LqmytenPa8ciwWAyjKELnrP0utj16WnP6Ei8AAW9I0Gr6z3Ho+nqL/Bd+UJpzsIwyJ/tZHrhEjn\n",
       "XbNH5WK3ZDVvIc23TBsYN1uplBIzrVWtI/FyGQHAjAq3ZzfdS+FC60NswUpJEzqpQNsA+2/NSIsP\n",
       "OvnaiY+LisStjSa0f7jPJd2ILLa0tSpji0F+HOZtHdz64c5I9Y6FM41eIb8BODxDG9308i400HhB\n",
       "714ryaxsHpKeliGG4LmIPYno1KrtpJSml5T+LI4XmsTdfoVjNwKBmYPcIlslWubyZIKu0bl4Y5+D\n",
       "Lru6Wya3zx3Wi1ezQFw3GxXx7w262YeT5qeJkWXWl8xUMn6RiIZR8ospv4y9271xAmK5YO2fjOUo\n",
       "SR76s820o+JZw8Eeb3+DA0+1w4XFpY+/P10MFjQV6qwFv5zzqYLG3/zjHEaj8/1g7MnEoaQtUxMk\n",
       "LP5P/justb5yU0DTuCBjWSLPSoT8h+4hXY8vRfFFcEti12efF3i8xFyoIwzAImqay92MpYVTsNUg\n",
       "doTBinIQwGgsESQfrk7bY5Psb+gI9ONda4qR/tQDFKebtv9UDIODpfv6ob9gMh3JJvKjDkbxtEOK\n",
       "fUW5f8LcyowG728hLSd+g7wtZcsXyFhFVjOlCBrZ0ABfuPYwmvvFOQao+y8ubKa3Cl4pM8yeI+GO\n",
       "UJg5ecH7Y11/FXAjetb3Qy1sbCi/LxmoP726UYxHmhi16Nkz8kK9VKJCHeaBbDPyQ2tzWVTTUiRQ\n",
       "5yMdQvcWmjYZb25gcYU/ArqeEaf9xt2HA1dYeAnP8Wq7rEhlbS/qcuKrtfN1ViRqTEI/aTnSNgP4\n",
       "4xx9l7XAnwXnchhQoGLUdmHnr8o76nH3g2/MhvKrWggj/M0EACv1NMNKQaGcdX3Odoiyo5AAAAJ6\n",
       "QZ5CeIJfAAOImA8XZqAU0HP8nInQUw6bUrwgAgfOZmVI4dMTReCQCTAXtYwuvQPn+nJhMdyk1xaS\n",
       "YFZ1Lbq/JqFfPb/GlCh1MNplEz7huW4e8OQiwBBr2Qz13Qn5q+QZgB4SR6c3cSRtZtfZ1m79l0gF\n",
       "31bApoLroFjHS17T9NA1bUu9X8s19PY0mPJPx4GE6Db/JgIRKAyRFSvsoPEaC2a+Hexleh3dToOR\n",
       "y4hvl3jNY/73nSngqH4+yOIjV/WyzaT8CN9ze09cGdXyRCOn/0VjKW1lYeZ7wnr5YMAmtDq0DLu4\n",
       "2X75+O7ASy9TurEoy/SVriE0LyR14aCBoW2SEUgpoBageHjTiwtdHGL7oqh8+iAn6JPIUDCrXntp\n",
       "YSUaqERrJfEyVpjLIKWLcjeHoADR7tP9rRycNXtKarHMvtXSDQ6CQDfZ/ytRkcX3u/+Z/ph5wTPL\n",
       "Z9uem7N9ywMwrxdD41YyDhNNzuUicPj/FvHXljM6hNo51lw4T0g3tJwVdBWkWVoeOXrhD0Zm77IK\n",
       "Axri1X3yp3ouu4APPP2TN8+YyESWDd6UrWqr91eEY3J0epX60BIJyk1WUms2nWDsj2Mf4gwIxYGd\n",
       "JEfr8hZ07sbaeYxm5WO8Ns3p5vwnoHN1u1lyijOuaeJJmd+ZumP1u9ZxtKfz6AS0xOv+ZqS3rc8E\n",
       "JtPGecvzWxKWkIJfaU+yjGmLFzDbNa9VMbt/0FgJoqnf41I+5NPjY4Lpz/KZdAZpVMJebewdldLm\n",
       "CnQ6yOUAAcrok/1rZcEH91YPqoeLR0pDqn8odDZNSgHAup6CmLR6wfpkWnxfCdmtY4OvMkg1edjj\n",
       "cNtLaAarowAAAUQBnmF0QR8ABLSSkM5y1vDv8tCOiRB8ZdMoTxlcfHnmgAE7TAAG5pdh9gqPtYWK\n",
       "6CbqhF/cFxmAxhzkHwTQM9HhAuH7B5rKBAR9kGhuFNe4QKeZuwTJcV94GFmGEbdH675GuqzG64aU\n",
       "PFv+y2mjI4V+btnJzp+uHJmr+oFUu4btKsnc/Ez1ugiSd3HpCMP/aMBvlkvI7nLlEcH/pRGLN79z\n",
       "5DzEdImeLJZuenyavguAKjfEidiVTi0zy6rEyFc/OfppUMnFao3tHNSgU17+n9xnYMm+Nunj/ZXh\n",
       "4dSZ1LLDme/nd/BzmgyVbp3ZmEPrBdcQJ2tJcemfdxx3icvHeQxECjhE8cezzAUhr93E9bLTEqhy\n",
       "KkebHwWvHFF3uZw+4G4UXM1SsfPOyG65Dqi7UxoiDUyHWl0IL/wI5mXsRCCIPxyqHtAAAAFFAZ5j\n",
       "akEfAAADAfBht8oak6t2hABAsj5TaNn5mI9w+GCGbate6pcy98a43N1Prl8TGBhan79cCVOh+9T6\n",
       "bdUNxhrHMR/On0YtQKYC1hp87/SCUSYvBzURACvIu533VJmdCUvhtet/At+r/e7+O/7dlwmwFJrh\n",
       "gVRD385HGbZ0msZUZcwCqvg6BdDXVkAAVS8ZwO5lIlE2p+vLGUCquyetsgv/E5+PQuUVllsiLFiI\n",
       "/lC2OWbqvyKSI6TO92obb7lxaJrjg8cSbn9OH2gFBpFUv3daiA2T2VSDCcguW0C+Z8fr4ZG9o08H\n",
       "XchLjm5qF2AzxNafCs53LquWvAmSZlxN9B3oaM9/8cugWOZPAGx/hAKgP0UOeZlOJhRgsX6T0Ur7\n",
       "DOeepKk+z8ysiRyxl49C0yI939ujfNfIugpEbGFhbfxJ0oz9dQAAAd9BmmVJqEFomUwIKf/+1oyw\n",
       "AADAbimIAiX65W8sNJ4Opp4NcI3GGvnXFyg6JUYX8F2gfrQ9g7nOpYdWqSBoFqvLyTbIaO0My420\n",
       "ixyLuGzUnDOFK9TvRyKnn9ZOEKhfiokzS0c0UMvr0O5MH5J/UKn7QLOVvwVUpGV212xZiKlMT9bo\n",
       "92cevcItT1TK7dn/ofEY0w+oVvUVs3303FZFiWBm3gvZEWfWD2fwFkb7D17N1ym2L2sJGQbMr1mV\n",
       "ccdMKWeP0xuHDXnVsiyOPIZdxM9UfsROEYc1zw73WmDjmV33MYCFUo7YbXt5ILC/Y0ceX/FPC7WD\n",
       "TFiB9rA9YRxU5AAAxdq/aaJW4aCOFknYjymnfTw/70KuALEdL7lAO7S87vyeNSdXZQY6jRLi2fgY\n",
       "pi05U9sQTuyGfQSQ7uXIDvQZTXI2Cu41Vd8PHraQ4c8CZUcIFumBIAzfgjMSWQ919Pl4ONpxJ9oZ\n",
       "oCGVoGGA554EkPgrijF3Px/5p/FKoRi6VugE1A7h4rO0XX6Xf8ILQkLQc+gnpS4iSPvub6mPf7OM\n",
       "vdnageyb2+1AwwhREsGX8oJKtU+/3eTBpO8NlfYaMn5WKjG/eJ8f7xPzHr6viOeyR0b7ZyNS3R7W\n",
       "TFuBCBmcqwAAAkBBmoZJ4QpSZTAgp//+1oywAABeBzriMVQAQ8IGX3D4azdthjlacEbltcUPphQG\n",
       "7YoS//nT7qAH9RA1fDbPPK9nJqm2glleamyMmhntTBQCFRu9vvk2vxh7DuBRxo92MF0HPFEFDD8G\n",
       "9LHffBdzp4ZfGbpGeb+OwMDWh+hWTek4J8eBEBcZbLmyQmQraWAEVtep+U/FyLerod5vbWnSJyYq\n",
       "F2vU6vSZRowkf3rfd2C3CPaEi2EsRbMabTNv4y5B+D8xqr9fFUCD0oZXkbPu0EZguairPrfA29wL\n",
       "ogcQ0o24KRknNOUZK6LVBqZblJDvRn2sZfhzXRqXTCblre0kLJkkllTrCcVtpl7yqS9DZpmCrUm2\n",
       "OQW/XceNvjIhdLJC2Fxd+d6Il2XC2t36ONgCQ9NVWGDqQNJdjpU3s7nPE0qA545r2/m0MtoZRLTP\n",
       "fheJ43I2OJsULOKqmvZGPQ5cK+AyJfQ08ASOZAgAED2Ew+VHU9gmZX17xCrNP6Vry2avxNqLLZQ/\n",
       "l6zk0vcazXU9Ye/gLiQOfX0ABU19/b0/eFEmhDOgpRYR5ciHcfp7q4Opk5S4ADxysy1KQ6pj7OOt\n",
       "10BOOM3pVogSBemE+6DpvyXbwGJ73YXXradS/xyUdSMjd5leKKTI+qSeCCKSmiR4WnyaLqQYlN/2\n",
       "f3dksLoac2Bs0GFM9KSFAW4gSKJoML9Khbwh2Y5Pjp/0CRTeAXSGWRIgtiiqiT2bTcbDGEGfOBgm\n",
       "E8iKKdoUjPST8vdOhA/a3bEAAAHyQZqqSeEOiZTAgj/+tSqAAAFlx08D8DNAAQmJgiQEgHtoA0J8\n",
       "V0viDTd/a6umiWGLk6CDoN/8Gu1SGURqMaufH3EvbPVKwXQK/Cn1AAuErUZNPL/QbE37Qpi8YICw\n",
       "ty9nezI06enbhNTClIdM9HpnJog2dQoImaxDFhepIeQZYYWk/2w4aGBV6/5Pxir5P2oBOCJkXJvx\n",
       "vI+bTLlR40evoUYdvm0R96TFVNPLrCTU/uY4JZKP5SU2T7EsHRuY+T4mpMjXosoPGUmmzut017Hq\n",
       "lHhzZN1W2yxP0WV7mcr9sHCh+/iH4evGCHWO2brKg8dizGhby8KfjywZrjFVLyjO28qLkxQbZo2R\n",
       "d0jsGwdxt7xHTuJ32fFn0h1V4yVSd2fAi6FORY4wlDoy4P/PosbS2pGF72eVNMcbxNR6xaJCJlBE\n",
       "CPb/5z+9qdA+Rb+cunkG2tHI/zcr4b3KGoG634XdOtSimG+ovi8jaeY4+de5iUvOw78Cgh6Wgoyr\n",
       "BTCv1w25jqXuvwcgsezFpgpAKfLs2baWlvQ1hG1qW2xS6PU5hQqjFFLiOB/eJdwmvnZ7wmL1GMIC\n",
       "juqPVIUYXG53vNwEHgruEmMqMRAOWrUmLqaF7NUGc6FjTXPDpwi5pNSeDRLTOj1Z7HFxxrrI9zPX\n",
       "8AVomzuZAAAB4EGeyEURPBL/AAADAMcBfu0cPsass3uS2KAA/jCIVWD9Y1Fq68T2QaH2i4aPi7Xg\n",
       "qXYO7VCekY0+G1EgBfNjxVnVrpvoXTjknfrE96PIoNidcQNRzI/Whp/UCGVWBBfYnba4fJTPbibX\n",
       "OZa7y6ZgvcMnUNLxX3CoaCHHnX4XyD8lc5gHEoWZbbhaNEQsllsGJPZFroR+E0iqDPsu4jwIaHRx\n",
       "tAJUSHU7OwtoVMrECt0K8flIgsyOYOpbw6y8snxrqJrzu2FUUArHXWmdfYYlkAhrhCgGAO2+/7tQ\n",
       "gTsSusednQmB7Q9leGGzigs9hKxnd3ohKMQbiMsbaCrcllansIB7azTIf4A8gTZ3juHRWKLWSHhh\n",
       "L9krNKEFTScsrGWxn2OfelLbnTAkKY1GK4eOzQ9G1BuYV+gk3fGTmedHGrTrgG+14eR2fisc8S9n\n",
       "N9Wn8LH2wIOO5vuiW4eS3Bxrad79lQ0aiRRJpXfgte3S1WC2mOpqOrrF26HAJJ4CuY/2HxrZmQuo\n",
       "iv9y8K8z7NcMFW5YzkZCBdTvUqfrXRz5gSMsg1fZrpmuVHS4onYumEF9N1BA2szYx6Nsgymhd3QY\n",
       "K3Zv8DsLMd8CNm2uSNjfuBoFT86CJG1SyuVd01hx6NkSuAAAAZkBnud0QR8AAAMBBSSYLSXBEAvj\n",
       "rWgA2k/7cSNzjnj5LcC/ZmnetnKuklV2cTJTnRYuUT/ewQqT55tvkpvYjAjqaeVfwD8DtLCC0CYI\n",
       "Hg7ChzihNqDCw9YNRxQjY6UKtszzEiSVOq96YI3iaZndD0RN+GnNsYlfSvPMu53whlq+cESJYrcA\n",
       "LDMPp2h7++aqxCfTxVe12Ln+FL0VCg8GnrLhLIaqFbogt/26hk/ml7WySNKZk8QCVB4wrfmT5fET\n",
       "aZ3xU/qKSVg6SXs3/WQqy4mny2ssz3ouIqOP5g2K5V6YUfoyOSfIaF8C0YPqY4aijzSmg3ob/JGw\n",
       "ppNmMOv89XqSoiCaVzV0tVILI9bMdxIhEYA8vKMXmlmabvhitxmA/WJj7ofDDuyEkaDAue8QO4i8\n",
       "6nbwdI34c7PeizF14ld6l7f95cBLYm7PkLWT9b1kW7cYrPU9/N352JKfIIpV8x0EsdGki15CCD3W\n",
       "6LD8IjFkkyUQjzqm+ppHcG0uTY/awQsu1rLVmf/uHRE1qkuTSVKwedkIIeC7KjGlAAABpQGe6WpB\n",
       "HwAAAwEFPvmhuV57FSAAM/ITON1N4ovIPx6UcW1mrqQGb0CZqk8zR53G/tspNSSiI6RtvuYyB1Sx\n",
       "DdLSjCpCDA358X+DrJaOJT1WRcWRORjyi/fm17cq+zq/MWpxb8qsBBWbnSibKDDh65xjjEqRBoqm\n",
       "0ixErn5x6ecoP1xGWlfpkFgJ+72HU2Nj/HauJ3d1UgeS8nl7GhhVHIWiuZM+gxfm2vEWo7oOsT4I\n",
       "8vv/KVpqweZWayMZR8OcGLJ298GCyMsZU2U3sloTTaayRhlZWpSTUwdyy1ZfTACRAUvH2fEo5+7i\n",
       "y9/BIi6xQMYNWNOA0hyt087cKbKW4ZHGtyXVmjdaoxAkS27z/FP61LMzj1DwnZ6mLeQqoYyXnX8I\n",
       "ga7GpTVYLWfzM9ZmV1CO6sdymxA8XZMELMIIkCZOqfiyvLABePmS7jJY8jjC25XWRx1c/JIBfXxU\n",
       "jhSsJrCySZ9QKEexd+9X7wYb5d3rhosJC2kwe7aUTqYAs8lrf8uwXmYQUgt8jrFdyW/OYrtJE1cg\n",
       "zrBP98UHgDZZikgwRvSoxpUAAAOqbW9vdgAAAGxtdmhkAAAAAAAAAAAAAAAAAAAD6AAAD3gAAQAA\n",
       "AQAAAAAAAAAAAAAAAAEAAAAAAAAAAAAAAAAAAAABAAAAAAAAAAAAAAAAAABAAAAAAAAAAAAAAAAA\n",
       "AAAAAAAAAAAAAAAAAAAAAAAAAgAAAtR0cmFrAAAAXHRraGQAAAADAAAAAAAAAAAAAAABAAAAAAAA\n",
       "D3gAAAAAAAAAAAAAAAAAAAAAAAEAAAAAAAAAAAAAAAAAAAABAAAAAAAAAAAAAAAAAABAAAAAAbAA\n",
       "AAEgAAAAAAAkZWR0cwAAABxlbHN0AAAAAAAAAAEAAA94AAAkAAABAAAAAAJMbWRpYQAAACBtZGhk\n",
       "AAAAAAAAAAAAAAAAAAAyAAAAxgBVxAAAAAAALWhkbHIAAAAAAAAAAHZpZGUAAAAAAAAAAAAAAABW\n",
       "aWRlb0hhbmRsZXIAAAAB921pbmYAAAAUdm1oZAAAAAEAAAAAAAAAAAAAACRkaW5mAAAAHGRyZWYA\n",
       "AAAAAAAAAQAAAAx1cmwgAAAAAQAAAbdzdGJsAAAAs3N0c2QAAAAAAAAAAQAAAKNhdmMxAAAAAAAA\n",
       "AAEAAAAAAAAAAAAAAAAAAAAAAbABIABIAAAASAAAAAAAAAABAAAAAAAAAAAAAAAAAAAAAAAAAAAA\n",
       "AAAAAAAAAAAAAAAAGP//AAAAMWF2Y0MBZAAV/+EAGGdkABWs2UGwloQAAAMAJAAAAwDIPFi2WAEA\n",
       "Bmjr48siwAAAABx1dWlka2hA8l8kT8W6OaUbzwMj8wAAAAAAAAAYc3R0cwAAAAAAAAABAAAACwAA\n",
       "EgAAAAAUc3RzcwAAAAAAAAABAAAAAQAAAGBjdHRzAAAAAAAAAAoAAAABAAAkAAAAAAEAAFoAAAAA\n",
       "AQAAJAAAAAABAAAAAAAAAAEAABIAAAAAAgAAJAAAAAABAABaAAAAAAEAACQAAAAAAQAAAAAAAAAB\n",
       "AAASAAAAABxzdHNjAAAAAAAAAAEAAAABAAAACwAAAAEAAABAc3RzegAAAAAAAAAAAAAACwAAEysA\n",
       "AAR4AAACfgAAAUgAAAFJAAAB4wAAAkQAAAH2AAAB5AAAAZ0AAAGpAAAAFHN0Y28AAAAAAAAAAQAA\n",
       "ACwAAABidWR0YQAAAFptZXRhAAAAAAAAACFoZGxyAAAAAAAAAABtZGlyYXBwbAAAAAAAAAAAAAAA\n",
       "AC1pbHN0AAAAJal0b28AAAAdZGF0YQAAAAEAAAAATGF2ZjU4LjEyLjEwMA==\n",
       "\">\n",
       "  Your browser does not support the video tag.\n",
       "</video>"
      ],
      "text/plain": [
       "<IPython.core.display.HTML object>"
      ]
     },
     "execution_count": 65,
     "metadata": {},
     "output_type": "execute_result"
    },
    {
     "data": {
      "image/png": "[encoded data removed]",
      "text/plain": [
       "<Figure size 432x288 with 1 Axes>"
      ]
     },
     "metadata": {},
     "output_type": "display_data"
    }
   ],
   "source": [
    "from matplotlib import animation, rc\n",
    "from IPython.display import HTML\n",
    "\n",
    "fig, ax = plt.subplots()\n",
    "ax.set_xlim([min(x), max(x)])\n",
    "ax.set_ylim([min(y)-1, max(y)+1])\n",
    "ax.plot(x, y, lw = 0.9, color = 'k')\n",
    "\n",
    "line, = ax.plot([], [], 'r', label = 'Gradient descent', lw = 1.5)\n",
    "point, = ax.plot([], [], 'bo', animated=True)\n",
    "value_display = ax.text(0.02, 0.02, '', transform=ax.transAxes)\n",
    "\n",
    "def init():\n",
    "    \"\"\"Initializes the animation\"\"\"\n",
    "    line.set_data([], [])\n",
    "    point.set_data([], [])\n",
    "    value_display.set_text('')\n",
    "\n",
    "    return line, point, value_display\n",
    "\n",
    "def animate(i):\n",
    "    \"\"\"Animates the plot at step i\n",
    "    Args:\n",
    "        i: the step to animate\n",
    "        return: a tuple of line, point, and value_display\n",
    "    \"\"\"\n",
    "    # Animate line\n",
    "    line.set_data(x_gd[:i], y_gd[:i])\n",
    "    \n",
    "    # Animate points\n",
    "    point.set_data(x_gd[i], y_gd[i])\n",
    "\n",
    "    # Animate value display\n",
    "    value_display.set_text('Min = ' + str(y_gd[i]))\n",
    "\n",
    "    return line, point, value_display\n",
    "\n",
    "# call the animator\n",
    "rc('animation', html='html5')\n",
    "anim = FuncAnimation(fig, animate, init_func=init,\n",
    "                     frames=len(x_gd), interval=360,\n",
    "                     repeat_delay=60, blit=True)\n",
    "\n",
    "# display the video\n",
    "HTML(anim.to_html5_video())"
   ]
  },
  {
   "cell_type": "markdown",
   "metadata": {},
   "source": [
    "### Exercises\n",
    "\n",
    "1. Try initializing x0 to something > 2, what do you observe?\n",
    "2. Try increasing the learning_rate to something large like 10. Does the gradient still converge?\n",
    "3. Replace func_y and gradient_func_y above with a cubic function. What do you observe?\n",
    "  ```\n",
    "  y = x^3 - 5x^2 + x + 1\n",
    "  gradient(y) = 3x^2 - 10x + 1\n",
    "  ```\n",
    "4. Replace func_y and gradient_func_y with `cos(x)` and its derivative `-sin(x)`. What do you observe?  What needs to reach convergence?\n",
    "  ```\n",
    "  y = np.tan(x)\n",
    "  gradient(y) = -np.sin(x)\n",
    "  ```\n",
    "  \n",
    "Derivative formulas: https://www.derivative-calculator.net/"
   ]
  },
  {
   "cell_type": "code",
   "execution_count": null,
   "metadata": {},
   "outputs": [],
   "source": []
  }
 ],
 "metadata": {
  "celltoolbar": "Slideshow",
  "kernelspec": {
   "display_name": "Python 3",
   "language": "python",
   "name": "python3"
  },
  "language_info": {
   "codemirror_mode": {
    "name": "ipython",
    "version": 3
   },
   "file_extension": ".py",
   "mimetype": "text/x-python",
   "name": "python",
   "nbconvert_exporter": "python",
   "pygments_lexer": "ipython3",
   "version": "3.6.5"
  },
  "livereveal": {
   "autolaunch": false,
   "overlay": "<div class='logo'><img src='assets/Stackup_Logo_Small.png' width='90%'/></div>"
  }
 },
 "nbformat": 4,
 "nbformat_minor": 2
}
