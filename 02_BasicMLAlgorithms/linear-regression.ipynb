{
 "cells": [
  {
   "cell_type": "markdown",
   "metadata": {},
   "source": [
    "# Linear Regression\n",
    "\n",
    "![Mad men](assets/linear-regression/Ratings-for-Mad-Men.png)\n",
    "\n",
    "(image: [flowingdata.com](https://flowingdata.com/2014/03/24/graph-tv-shows-ratings-by-episode/))"
   ]
  },
  {
   "cell_type": "markdown",
   "metadata": {
    "slideshow": {
     "slide_type": "slide"
    }
   },
   "source": [
    "## Where are we?\n",
    "\n",
    "![one of many cheatsheets](assets/linear-regression/machine-learning-cheet-sheet.png)\n",
    "\n",
    "(image: [sas.com](https://www.sas.com/en_us/insights/analytics/machine-learning.html))"
   ]
  },
  {
   "cell_type": "markdown",
   "metadata": {
    "slideshow": {
     "slide_type": "slide"
    }
   },
   "source": [
    "## Linear Equation\n",
    "\n",
    "From $x$ (a feature), predict $y$ (outcome or result) assuming a \"linear relationship\".\n",
    "\n",
    "$$y=Wx+b$$\n",
    "\n",
    "![linear equation](assets/linear-regression/linear-equation.png)"
   ]
  },
  {
   "cell_type": "markdown",
   "metadata": {
    "slideshow": {
     "slide_type": "slide"
    }
   },
   "source": [
    "## Polynomial Equations\n",
    "\n",
    "Features can also be different degrees ($m$) of $x$ ($x^m$)\n",
    "\n",
    "![polynomial](assets/linear-regression/polynomial-equations.png)\n",
    "\n",
    "(image: quora)"
   ]
  },
  {
   "cell_type": "markdown",
   "metadata": {
    "slideshow": {
     "slide_type": "slide"
    }
   },
   "source": [
    "## Objective\n",
    "\n",
    "Given $y = Wx+b$\n",
    "\n",
    "Find $W$ and $b$ so that $y$ is as accurate as possible\n",
    "\n",
    "Loss function: measures \"how accurate\""
   ]
  },
  {
   "cell_type": "markdown",
   "metadata": {
    "slideshow": {
     "slide_type": "slide"
    }
   },
   "source": [
    "## Loss Functions\n",
    "\n",
    "Also known as cost function, objective function\n",
    "\n",
    "Example: Mean Square Error\n",
    "$$L(W, b) = MSE(W, b) = \\frac{1}{N}\\sum_{i=1}^N{\\big(y_i - (Wx_i + b)\\big)^2}$$\n",
    "\n",
    "Many more examples: http://scikit-learn.org/stable/modules/model_evaluation.html"
   ]
  },
  {
   "cell_type": "markdown",
   "metadata": {
    "slideshow": {
     "slide_type": "slide"
    }
   },
   "source": [
    "## Objective (of Training)\n",
    "\n",
    "Find $W^*$ and $b^*$ to minimize the loss function:\n",
    "\n",
    "$$\\underset{W^*, b^*}{\\arg \\min}\\; L(W, b)$$\n",
    "\n",
    "$$\\underset{W^*, b^*}{\\arg \\min}\\; \\frac{1}{N}\\sum_{i=1}^N{\\big(y_i - (Wx_i + b)\\big)^2}$$\n",
    "\n",
    "$N$: number of samples"
   ]
  },
  {
   "cell_type": "markdown",
   "metadata": {
    "slideshow": {
     "slide_type": "slide"
    }
   },
   "source": [
    "## Gradient Descent\n",
    "\n",
    "1. Initialize parameters ($W$ and $b$) to random values\n",
    "2. Compute gradient of the loss function: $L'(W, b)$\n",
    "3. Update rule ($\\epsilon$ = learning rate)\n",
    "    $$W := W -\\epsilon L'(W, b)$$\n",
    "    $$b := b -\\epsilon L'(W, b)$$\n",
    "4. Repeat 2 and 3 until find $W^*$ and $b^*$"
   ]
  },
  {
   "cell_type": "markdown",
   "metadata": {
    "slideshow": {
     "slide_type": "slide"
    }
   },
   "source": [
    "## Linear Equation as Dot Product\n",
    "\n",
    "$y = Wx + b$\n",
    "\n",
    "Let $x_0 = 1$, then:\n",
    "\n",
    "$y = Wx + bx_0$"
   ]
  },
  {
   "cell_type": "markdown",
   "metadata": {
    "slideshow": {
     "slide_type": "slide"
    }
   },
   "source": [
    "## Linear Equation as Dot Product\n",
    "\n",
    "$y = Wx + bx_0 = bx_0 + Wx$\n",
    "\n",
    "$y = \\left[ \\begin{array}{cc}\n",
    "b & W \\end{array} \\right]\n",
    "\\left[ \\begin{array}{c}\n",
    "x_0 \\\\\n",
    "x \\end{array} \\right] = \\left[ \\begin{array}{cc}\n",
    "b & W \\end{array} \\right]\n",
    "\\left[ \\begin{array}{c}\n",
    "1 \\\\\n",
    "x \\end{array} \\right] = \\left[ \\begin{array}{c}\n",
    "b \\\\\n",
    "W \\end{array} \\right]^T \\left[ \\begin{array}{c}\n",
    "1 \\\\\n",
    "x \\end{array} \\right] = \\theta^TX$\n",
    "\n",
    "where $\\theta = \\left[ \\begin{array}{c}\n",
    "b \\\\\n",
    "W \\end{array} \\right]$ and $X = \\left[ \\begin{array}{c}\n",
    "1 \\\\\n",
    "x \\end{array} \\right]$"
   ]
  },
  {
   "cell_type": "markdown",
   "metadata": {
    "slideshow": {
     "slide_type": "slide"
    }
   },
   "source": [
    "## Polynomial Equation as Dot Product\n",
    "\n",
    "$y = W_2x^2 + W_1x + b = b+ W_1x + W_2x^2$\n",
    "\n",
    "$y = \\left[ \\begin{array}{ccc}\n",
    "b & W_1 & W_2 \\end{array} \\right]\n",
    "\\left[ \\begin{array}{c}\n",
    "1 \\\\\n",
    "x \\\\\n",
    "x^2 \\end{array} \\right] = \\left[ \\begin{array}{c}\n",
    "b \\\\\n",
    "W_1 \\\\\n",
    "W_2 \\end{array} \\right]^T\n",
    "\\left[ \\begin{array}{c}\n",
    "1 \\\\\n",
    "x \\\\\n",
    "x^2\\end{array} \\right] = \\theta^TX$"
   ]
  },
  {
   "cell_type": "markdown",
   "metadata": {
    "slideshow": {
     "slide_type": "slide"
    }
   },
   "source": [
    "## Loss Function\n",
    "\n",
    "For the $i^{th}$ sample: $y_i = \\theta^TX_i$\n",
    "\n",
    "Loss function computes for all N samples:\n",
    "$$L(\\theta) = MSE(\\theta) = \\frac{1}{N}\\sum_{i=1}^N{\\big(y_i - \\theta^TX_i\\big)^2}$$"
   ]
  },
  {
   "cell_type": "markdown",
   "metadata": {
    "slideshow": {
     "slide_type": "slide"
    }
   },
   "source": [
    "## Why Dot Product?"
   ]
  },
  {
   "cell_type": "code",
   "execution_count": null,
   "metadata": {
    "slideshow": {
     "slide_type": "-"
    }
   },
   "outputs": [],
   "source": [
    "import numpy as np\n",
    "\n",
    "# 25 features, 10000 samples\n",
    "X = np.random.rand(10000, 25)\n",
    "W = np.random.rand(1, 25)\n",
    "\n",
    "y1 = np.zeros((10000, 1))"
   ]
  },
  {
   "cell_type": "code",
   "execution_count": null,
   "metadata": {},
   "outputs": [],
   "source": [
    "%%time\n",
    "for i in range(X.shape[0]):\n",
    "    for j in range(X.shape[1]):\n",
    "     y1[i] = y1[i] +W[0][j]*X[i][j]"
   ]
  },
  {
   "cell_type": "code",
   "execution_count": null,
   "metadata": {},
   "outputs": [],
   "source": [
    "%time\n",
    "y2 = np.dot(X, W.T)"
   ]
  },
  {
   "cell_type": "code",
   "execution_count": null,
   "metadata": {},
   "outputs": [],
   "source": [
    "# ensure the two operations are the same\n",
    "np.testing.assert_allclose(y1, y2)"
   ]
  },
  {
   "cell_type": "markdown",
   "metadata": {
    "slideshow": {
     "slide_type": "slide"
    }
   },
   "source": [
    "## Libraries\n",
    "\n",
    "http://scikit-learn.org/stable/modules/linear_model.html#linear-model\n",
    "\n",
    "- LinearRegression (Least Squares)\n",
    "- PolynomialFeatures"
   ]
  },
  {
   "cell_type": "markdown",
   "metadata": {
    "slideshow": {
     "slide_type": "slide"
    }
   },
   "source": [
    "## Evaluation Metrics\n",
    "\n",
    "http://scikit-learn.org/stable/modules/model_evaluation.html#regression-metrics\n",
    "\n",
    "- Mean squared error (MSE)\n",
    "- Mean squared log error (MSLE)\n",
    "- Mean absolute error (MAE)\n",
    "- $R^2$ score"
   ]
  },
  {
   "cell_type": "code",
   "execution_count": null,
   "metadata": {},
   "outputs": [],
   "source": []
  }
 ],
 "metadata": {
  "celltoolbar": "Slideshow",
  "kernelspec": {
   "display_name": "Python 3",
   "language": "python",
   "name": "python3"
  },
  "language_info": {
   "codemirror_mode": {
    "name": "ipython",
    "version": 3
   },
   "file_extension": ".py",
   "mimetype": "text/x-python",
   "name": "python",
   "nbconvert_exporter": "python",
   "pygments_lexer": "ipython3",
   "version": "3.6.5"
  },
  "livereveal": {
   "autolaunch": false,
   "overlay": "<div class='logo'><img src='assets/Stackup_Logo_Small.png' width='90%'/></div>"
  }
 },
 "nbformat": 4,
 "nbformat_minor": 2
}
