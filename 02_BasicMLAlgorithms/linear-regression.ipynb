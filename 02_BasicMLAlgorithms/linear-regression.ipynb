{
 "cells": [
  {
   "cell_type": "markdown",
   "metadata": {},
   "source": [
    "# Linear Regression\n",
    "\n",
    "![Mad men](assets/linear-regression/Ratings-for-Mad-Men.png)\n",
    "\n",
    "(image: [flowingdata.com](https://flowingdata.com/2014/03/24/graph-tv-shows-ratings-by-episode/))"
   ]
  },
  {
   "cell_type": "markdown",
   "metadata": {
    "slideshow": {
     "slide_type": "slide"
    }
   },
   "source": [
    "# Topics\n",
    "\n",
    "- Linear and polynomial equations\n",
    "- Loss functions\n",
    "- Gradient descent\n",
    "- Evaluation metrics\n",
    "- Appendix: Regularized Regression Models"
   ]
  },
  {
   "cell_type": "markdown",
   "metadata": {
    "slideshow": {
     "slide_type": "slide"
    }
   },
   "source": [
    "## Where are we?\n",
    "\n",
    "![one of many cheatsheets](assets/linear-regression/machine-learning-cheet-sheet.png)\n",
    "\n",
    "(image: [sas.com](https://www.sas.com/en_us/insights/analytics/machine-learning.html))"
   ]
  },
  {
   "cell_type": "markdown",
   "metadata": {
    "slideshow": {
     "slide_type": "slide"
    }
   },
   "source": [
    "## Linear Equation\n",
    "\n",
    "From $x$ (a feature), predict $y$ (outcome or result) assuming a \"linear relationship\".\n",
    "\n",
    "$$y=Wx+b$$\n",
    "\n",
    "![linear equation](assets/linear-regression/linear-equation.png)"
   ]
  },
  {
   "cell_type": "markdown",
   "metadata": {
    "slideshow": {
     "slide_type": "slide"
    }
   },
   "source": [
    "## Polynomial Equations\n",
    "\n",
    "Features can also be different degrees ($m$) of $x$ ($x^m$)\n",
    "\n",
    "![polynomial](assets/linear-regression/polynomial-equations.png)\n",
    "\n",
    "(image: sklearn)"
   ]
  },
  {
   "cell_type": "markdown",
   "metadata": {
    "slideshow": {
     "slide_type": "slide"
    }
   },
   "source": [
    "## Objective\n",
    "\n",
    "Given $y = Wx+b$\n",
    "\n",
    "Find $W$ and $b$ so that $y$ is as accurate as possible\n",
    "\n",
    "Loss function: measures \"how accurate\""
   ]
  },
  {
   "cell_type": "markdown",
   "metadata": {
    "slideshow": {
     "slide_type": "slide"
    }
   },
   "source": [
    "## Loss Functions\n",
    "\n",
    "Also known as cost function, objective function\n",
    "\n",
    "Example: Mean Square Error\n",
    "$$L(W, b) = MSE(W, b) = \\frac{1}{N}\\sum_{i=1}^N{\\big(y_i - (Wx_i + b)\\big)^2}$$\n",
    "\n",
    "Many more examples: http://scikit-learn.org/stable/modules/model_evaluation.html"
   ]
  },
  {
   "cell_type": "markdown",
   "metadata": {
    "slideshow": {
     "slide_type": "slide"
    }
   },
   "source": [
    "## Objective (of Training)\n",
    "\n",
    "Find $W^*$ and $b^*$ to minimize the loss function:\n",
    "\n",
    "$$\\underset{W^*, b^*}{\\arg \\min}\\; L(W, b)$$\n",
    "\n",
    "$$\\underset{W^*, b^*}{\\arg \\min}\\; \\frac{1}{N}\\sum_{i=1}^N{\\big(y_i - (Wx_i + b)\\big)^2}$$\n",
    "\n",
    "$N$: number of samples"
   ]
  },
  {
   "cell_type": "markdown",
   "metadata": {
    "slideshow": {
     "slide_type": "slide"
    }
   },
   "source": [
    "## Gradient Descent\n",
    "\n",
    "1. Initialize parameters ($W$ and $b$) to random values\n",
    "2. Compute gradient of the loss function: $L'(W, b)$\n",
    "3. Update rule ($\\epsilon$ = learning rate)\n",
    "    $$W := W -\\epsilon L'(W, b)$$\n",
    "    $$b := b -\\epsilon L'(W, b)$$\n",
    "4. Repeat 2 and 3 until find $W^*$ and $b^*$"
   ]
  },
  {
   "cell_type": "markdown",
   "metadata": {
    "slideshow": {
     "slide_type": "slide"
    }
   },
   "source": [
    "## Linear Equation as Dot Product\n",
    "\n",
    "$y = Wx + b$\n",
    "\n",
    "Let $x_0 = 1$, then:\n",
    "\n",
    "$y = Wx + bx_0$"
   ]
  },
  {
   "cell_type": "markdown",
   "metadata": {
    "slideshow": {
     "slide_type": "slide"
    }
   },
   "source": [
    "## Linear Equation as Dot Product\n",
    "\n",
    "$y = Wx + bx_0 = bx_0 + Wx$\n",
    "\n",
    "$y = \\left[ \\begin{array}{cc}\n",
    "b & W \\end{array} \\right]\n",
    "\\left[ \\begin{array}{c}\n",
    "x_0 \\\\\n",
    "x \\end{array} \\right] = \\left[ \\begin{array}{cc}\n",
    "b & W \\end{array} \\right]\n",
    "\\left[ \\begin{array}{c}\n",
    "1 \\\\\n",
    "x \\end{array} \\right] = \\left[ \\begin{array}{c}\n",
    "b \\\\\n",
    "W \\end{array} \\right]^T \\left[ \\begin{array}{c}\n",
    "1 \\\\\n",
    "x \\end{array} \\right] = \\theta^TX$\n",
    "\n",
    "where $\\theta = \\left[ \\begin{array}{c}\n",
    "b \\\\\n",
    "W \\end{array} \\right]$ and $X = \\left[ \\begin{array}{c}\n",
    "1 \\\\\n",
    "x \\end{array} \\right]$"
   ]
  },
  {
   "cell_type": "markdown",
   "metadata": {
    "slideshow": {
     "slide_type": "slide"
    }
   },
   "source": [
    "## Polynomial Equation as Dot Product\n",
    "\n",
    "$y = W_2x^2 + W_1x + b = b+ W_1x + W_2x^2$\n",
    "\n",
    "$y = \\left[ \\begin{array}{ccc}\n",
    "b & W_1 & W_2 \\end{array} \\right]\n",
    "\\left[ \\begin{array}{c}\n",
    "1 \\\\\n",
    "x \\\\\n",
    "x^2 \\end{array} \\right] = \\left[ \\begin{array}{c}\n",
    "b \\\\\n",
    "W_1 \\\\\n",
    "W_2 \\end{array} \\right]^T\n",
    "\\left[ \\begin{array}{c}\n",
    "1 \\\\\n",
    "x \\\\\n",
    "x^2\\end{array} \\right] = \\theta^TX$"
   ]
  },
  {
   "cell_type": "markdown",
   "metadata": {
    "slideshow": {
     "slide_type": "slide"
    }
   },
   "source": [
    "## Loss Function\n",
    "\n",
    "For the $i^{th}$ sample: $y_i = \\theta^TX_i$\n",
    "\n",
    "Loss function computes for all N samples:\n",
    "$$L(\\theta) = MSE(\\theta) = \\frac{1}{N}\\sum_{i=1}^N{\\big(y_i - \\theta^TX_i\\big)^2}$$"
   ]
  },
  {
   "cell_type": "markdown",
   "metadata": {
    "slideshow": {
     "slide_type": "slide"
    }
   },
   "source": [
    "## Why Dot Product?"
   ]
  },
  {
   "cell_type": "code",
   "execution_count": null,
   "metadata": {
    "slideshow": {
     "slide_type": "-"
    }
   },
   "outputs": [],
   "source": [
    "import numpy as np\n",
    "\n",
    "# 25 features, 10000 samples\n",
    "X = np.random.rand(10000, 25)\n",
    "W = np.random.rand(1, 25)\n",
    "\n",
    "y1 = np.zeros((10000, 1))"
   ]
  },
  {
   "cell_type": "code",
   "execution_count": null,
   "metadata": {},
   "outputs": [],
   "source": [
    "%%time\n",
    "for i in range(X.shape[0]):\n",
    "    for j in range(X.shape[1]):\n",
    "     y1[i] = y1[i] +W[0][j]*X[i][j]"
   ]
  },
  {
   "cell_type": "code",
   "execution_count": null,
   "metadata": {},
   "outputs": [],
   "source": [
    "%time\n",
    "y2 = np.dot(X, W.T)"
   ]
  },
  {
   "cell_type": "code",
   "execution_count": null,
   "metadata": {},
   "outputs": [],
   "source": [
    "# ensure the two operations are the same\n",
    "np.testing.assert_allclose(y1, y2)"
   ]
  },
  {
   "cell_type": "markdown",
   "metadata": {
    "slideshow": {
     "slide_type": "slide"
    }
   },
   "source": [
    "## Libraries\n",
    "\n",
    "http://scikit-learn.org/stable/modules/linear_model.html#linear-model\n",
    "\n",
    "- LinearRegression (Least Squares)\n",
    "- PolynomialFeatures"
   ]
  },
  {
   "cell_type": "markdown",
   "metadata": {
    "slideshow": {
     "slide_type": "slide"
    }
   },
   "source": [
    "## Evaluation Metrics\n",
    "\n",
    "http://scikit-learn.org/stable/modules/model_evaluation.html#regression-metrics\n",
    "\n",
    "- Mean squared error (MSE): standard measure, but meaningless for exponentially large values\n",
    "- Mean squared log error (MSLE): use for exponentially large values\n",
    "- Mean absolute error (MAE): less sensitive to large errors than MSE / MSLE (which squares them)\n",
    "- $R^2$ score: Generally convenient to use for scoring, because higher number is better, and range is usually 0 to 1."
   ]
  },
  {
   "cell_type": "code",
   "execution_count": null,
   "metadata": {},
   "outputs": [],
   "source": []
  },
  {
   "cell_type": "markdown",
   "metadata": {
    "slideshow": {
     "slide_type": "slide"
    }
   },
   "source": [
    "# Appendix: Regularized Regression Models\n",
    "\n",
    "Here's a quick summary of other regression models that may be of interest.\n",
    "\n",
    "- Ridge Regression: applies L2 regularization\n",
    "- Lasso: applies L1 regularization\n",
    "- Elastic Net: applies L1 and L2 regularization"
   ]
  },
  {
   "cell_type": "markdown",
   "metadata": {
    "slideshow": {
     "slide_type": "slide"
    }
   },
   "source": [
    "## L1 vs. L2 Regularization\n",
    "\n",
    "|L1 Regularization|L2 Regularization|\n",
    "|--|--|\n",
    "|Uses sum of squares of weights|Uses sum of weights|\n",
    "|Computationally efficient, differentiable|Less computationally efficient, not differentiable|\n",
    "|Produces sparse outputs because sum can cancel out weights|Produces non-sparse outputs|"
   ]
  },
  {
   "cell_type": "markdown",
   "metadata": {
    "slideshow": {
     "slide_type": "slide"
    }
   },
   "source": [
    "## Recap: Linear Regression\n",
    "\n",
    "Objective:\n",
    "\n",
    "$$\\underset{w} {\\arg \\min} {\\left\\Vert Xw - y \\right\\Vert_2}^2 $$\n",
    "\n",
    "When there are multiple features in $X$, assumes features are independent. \n",
    "\n",
    "If not, least squares becomes sensitive to noise. This is because the same noise can appear in related features and be magnified.\n",
    "\n",
    "Note:\n",
    "\n",
    "This syntax ${\\left\\Vert Xw - y \\right\\Vert_2}^2$ means the residual sum of squares:\n",
    "$\\sum_i^n {(X_iw - y_i)}^2$"
   ]
  },
  {
   "cell_type": "code",
   "execution_count": null,
   "metadata": {
    "slideshow": {
     "slide_type": "-"
    }
   },
   "outputs": [],
   "source": [
    "%matplotlib notebook\n",
    "import matplotlib.pyplot as plt\n",
    "import numpy as np\n",
    "from mpl_toolkits.mplot3d import Axes3D\n",
    "\n",
    "# Our fake data\n",
    "X = [[0, 0], [0, 0], [1, 1]]\n",
    "y = [0, .1, 1]\n",
    "\n",
    "# Let's plot our fake data in 3D\n",
    "# We need 3 columns: x0, x1, y\n",
    "data = np.array(X)\n",
    "X0 = data[:, 0]\n",
    "X1 = data[:, 1]\n",
    "\n",
    "fig, ax = plt.subplots(subplot_kw=dict(projection='3d'))\n",
    "ax.scatter(X0, X1, y)\n",
    "ax.set(xlabel='X0', ylabel='X1', zlabel='y')\n",
    "fig.show()"
   ]
  },
  {
   "cell_type": "code",
   "execution_count": null,
   "metadata": {
    "slideshow": {
     "slide_type": "-"
    }
   },
   "outputs": [],
   "source": [
    "from sklearn.linear_model import LinearRegression\n",
    "\n",
    "# Our baseline model\n",
    "model = LinearRegression()\n",
    "\n",
    "model.fit(X, y)\n",
    "print('Coefficients', model.coef_, 'Intercept', model.intercept_)\n",
    "\n",
    "X_test = [[1, 1]] # needs to be 2D array\n",
    "model.predict(X_test)"
   ]
  },
  {
   "cell_type": "code",
   "execution_count": null,
   "metadata": {},
   "outputs": [],
   "source": [
    "def plot_model(model, X, ax, label, color):\n",
    "    \"\"\"Plots a model on the given axes\n",
    "    Args:\n",
    "        model: the model to plot\n",
    "        X: the input data\n",
    "        ax: the matplotlib axes\n",
    "        label: the label for the plot\n",
    "        color: the color of the plot\n",
    "    \"\"\"\n",
    "    data = np.array(X)\n",
    "    X0 = data[:, 0]\n",
    "    X1 = data[:, 1]\n",
    "\n",
    "    x_test = np.stack((np.linspace(min(X0), max(X0)),\n",
    "                   np.linspace(min(X1), max(X1))),\n",
    "                  axis=1)\n",
    "    preds = model.predict(x_test)\n",
    "    ax.plot(x_test[:, 0], x_test[:, 1], preds, label=label, color=color)"
   ]
  },
  {
   "cell_type": "code",
   "execution_count": null,
   "metadata": {},
   "outputs": [],
   "source": [
    "# Plot the model against samples\n",
    "fig, ax = plt.subplots(subplot_kw=dict(projection='3d'))\n",
    "\n",
    "# plot the samples\n",
    "ax.scatter(X0, X1, y, label='data')\n",
    "\n",
    "# plot the model\n",
    "plot_model(model, X, ax, 'linear regression', 'red')\n",
    "\n",
    "ax.set(xlabel='X0', ylabel='X1', zlabel='y')\n",
    "ax.legend()\n",
    "fig.show()"
   ]
  },
  {
   "cell_type": "code",
   "execution_count": null,
   "metadata": {},
   "outputs": [],
   "source": []
  },
  {
   "cell_type": "markdown",
   "metadata": {
    "slideshow": {
     "slide_type": "slide"
    }
   },
   "source": [
    "## Ridge Regression\n",
    "\n",
    "Linear Regression + L2 Regularization = Ridge Regression\n",
    "\n",
    "Penalizes the input features by a factor of the sum-of-squares of the parameters.\n",
    "\n",
    "Objective:\n",
    "\n",
    "$$\\underset{w} {\\arg \\min} {\\left\\Vert Xw - y \\right\\Vert_2}^2 +  \\alpha {\\left\\Vert w \\right\\Vert_2}^2 $$\n",
    "\n",
    "$\\alpha$ = regularization hyperparameter. Increase this when you suspect input features have higher linear dependencies.\n",
    "\n",
    "Notes:\n",
    "- This syntax ${\\left\\Vert w \\right\\Vert_2}^2$ means $\\sum_1^k {w_j}^2$, where $k$ is the number of parameters"
   ]
  },
  {
   "cell_type": "code",
   "execution_count": null,
   "metadata": {
    "slideshow": {
     "slide_type": "slide"
    }
   },
   "outputs": [],
   "source": [
    "# http://scikit-learn.org/stable/modules/linear_model.html#ridge-regression\n",
    "from sklearn.linear_model import Ridge\n",
    "\n",
    "alpha = .5\n",
    "ridge = Ridge(alpha=alpha)\n",
    "\n",
    "ridge.fit(X, y)\n",
    "print('Coefficients', ridge.coef_, 'Intercept', ridge.intercept_)\n",
    "\n",
    "X_test = [[1, 1]] # needs to be 2D array\n",
    "ridge.predict(X_test)"
   ]
  },
  {
   "cell_type": "code",
   "execution_count": null,
   "metadata": {},
   "outputs": [],
   "source": [
    "# Plot the models against samples\n",
    "fig, ax = plt.subplots(subplot_kw=dict(projection='3d'))\n",
    "\n",
    "# plot the samples\n",
    "ax.scatter(X0, X1, y, label='data')\n",
    "\n",
    "# plot the models\n",
    "plot_model(model, X, ax, 'linear regression', 'red')\n",
    "plot_model(ridge, X, ax, 'ridge (alpha %.2f)' % alpha, 'green')\n",
    "\n",
    "ax.set(xlabel='X0', ylabel='X1', zlabel='y')\n",
    "ax.legend()\n",
    "fig.show()"
   ]
  },
  {
   "cell_type": "code",
   "execution_count": null,
   "metadata": {},
   "outputs": [],
   "source": [
    "# Same as above, but using cross-validated search\n",
    "# on a selection of alpha values (like GridSearchCV)\n",
    "from sklearn.linear_model import RidgeCV\n",
    "\n",
    "alphas = [1e3, 1e2, 0.1, 1.0, 10]\n",
    "\n",
    "ridge_cv = RidgeCV(alphas=alphas)\n",
    "ridge_cv.fit(X, y)\n",
    "\n",
    "print('Coefficients', ridge_cv.coef_, 'Intercept', ridge_cv.intercept_, 'Best alpha', ridge_cv.alpha_)\n",
    "\n",
    "X_test = [[1, 1]] # needs to be 2D array\n",
    "ridge_cv.predict(X_test)"
   ]
  },
  {
   "cell_type": "code",
   "execution_count": null,
   "metadata": {},
   "outputs": [],
   "source": [
    "# Plot the models against samples\n",
    "fig, ax = plt.subplots(subplot_kw=dict(projection='3d'))\n",
    "\n",
    "# plot the samples\n",
    "ax.scatter(X0, X1, y, label='data')\n",
    "\n",
    "# plot the models\n",
    "plot_model(model, X, ax, 'linear regression', 'red')\n",
    "plot_model(ridge, X, ax, 'ridge (alpha %.2f)' % alpha, 'green')\n",
    "plot_model(ridge_cv, X, ax, 'ridge CV (alpha %.2f)' % ridge_cv.alpha_, 'black')\n",
    "\n",
    "ax.set(xlabel='X0', ylabel='X1', zlabel='y')\n",
    "ax.legend()\n",
    "fig.show()"
   ]
  },
  {
   "cell_type": "markdown",
   "metadata": {},
   "source": [
    "Ridge CV came up with a model that has better fit (closer to baseline).\n",
    "\n",
    "Alpha of 0.5 is probably too much penalty on X0 and X1."
   ]
  },
  {
   "cell_type": "code",
   "execution_count": null,
   "metadata": {},
   "outputs": [],
   "source": []
  },
  {
   "cell_type": "markdown",
   "metadata": {
    "slideshow": {
     "slide_type": "-"
    }
   },
   "source": [
    "## Lasso Regression\n",
    "\n",
    "Linear Regression + L1 Regularization = Lasso\n",
    "\n",
    "Penalizes the input features by a factor of the sum of the parameters.\n",
    "- Tends to result in fewer coefficients (i.e. sparser model)\n",
    "- More inefficient to compute\n",
    "\n",
    "Objective:\n",
    "\n",
    "$$\\underset{w} {\\arg \\min} \\frac{1}{2n} {\\left\\Vert Xw - y \\right\\Vert_2}^2 +  \\alpha {\\left\\Vert w \\right\\Vert_1} $$\n",
    "\n",
    "$\\alpha$ = regularization hyperparameter. Increase this when you suspect input features have higher linear dependencies.\n",
    "\n",
    "Notes:\n",
    "- This syntax ${\\left\\Vert w \\right\\Vert_1}$ means $\\sum_1^k {w_j}$, where $k$ is the number of parameters\n"
   ]
  },
  {
   "cell_type": "code",
   "execution_count": null,
   "metadata": {},
   "outputs": [],
   "source": [
    "# http://scikit-learn.org/stable/modules/linear_model.html#lasso\n",
    "from sklearn.linear_model import Lasso\n",
    "\n",
    "alpha = .5\n",
    "lasso = Lasso(alpha=alpha)\n",
    "\n",
    "lasso.fit(X, y)\n",
    "print('Coefficients', lasso.coef_, 'Intercept', lasso.intercept_)\n",
    "\n",
    "X_test = [[1, 1]] # needs to be 2D array\n",
    "lasso.predict(X_test)"
   ]
  },
  {
   "cell_type": "code",
   "execution_count": null,
   "metadata": {},
   "outputs": [],
   "source": [
    "# Plot the models against samples\n",
    "fig, ax = plt.subplots(subplot_kw=dict(projection='3d'))\n",
    "\n",
    "# plot the samples\n",
    "ax.scatter(X0, X1, y, label='data')\n",
    "\n",
    "# plot the models\n",
    "plot_model(model, X, ax, 'linear regression', 'red')\n",
    "plot_model(ridge, X, ax, 'ridge (alpha %.2f)' % alpha, 'green')\n",
    "plot_model(ridge_cv, X, ax, 'ridge CV (alpha %.2f)' % ridge_cv.alpha_, 'black')\n",
    "plot_model(lasso, X, ax, 'lasso (alpha %.2f)' % alpha, 'orange')\n",
    "\n",
    "ax.set(xlabel='X0', ylabel='X1', zlabel='y')\n",
    "ax.legend()\n",
    "fig.show()"
   ]
  },
  {
   "cell_type": "code",
   "execution_count": null,
   "metadata": {},
   "outputs": [],
   "source": [
    "# Same as above, but using cross-validated search\n",
    "# on a selection of alpha values (like GridSearchCV)\n",
    "from sklearn.linear_model import LassoCV\n",
    "\n",
    "lasso_cv = LassoCV(alphas=alphas)\n",
    "lasso_cv.fit(X, y)\n",
    "\n",
    "print('Coefficients', lasso_cv.coef_, 'Intercept', lasso_cv.intercept_, 'Best alpha', lasso_cv.alpha_)\n",
    "\n",
    "X_test = [[1, 1]] # needs to be 2D array\n",
    "lasso_cv.predict(X_test)"
   ]
  },
  {
   "cell_type": "code",
   "execution_count": null,
   "metadata": {
    "scrolled": true
   },
   "outputs": [],
   "source": [
    "# Plot the models against samples\n",
    "fig, ax = plt.subplots(subplot_kw=dict(projection='3d'))\n",
    "\n",
    "# plot the samples\n",
    "ax.scatter(X0, X1, y, label='data')\n",
    "\n",
    "# plot the models\n",
    "plot_model(model, X, ax, 'linear regression', 'red')\n",
    "plot_model(ridge, X, ax, 'ridge (alpha %.2f)' % alpha, 'green')\n",
    "plot_model(ridge_cv, X, ax, 'ridge CV (alpha %.2f)' % ridge_cv.alpha_, 'black')\n",
    "plot_model(lasso, X, ax, 'lasso (alpha %.2f)' % alpha, 'orange')\n",
    "plot_model(lasso_cv, X, ax, 'lasso CV (alpha %.2f)' % lasso_cv.alpha_, 'purple')\n",
    "\n",
    "ax.set(xlabel='X0', ylabel='X1', zlabel='y')\n",
    "ax.legend()\n",
    "fig.show()"
   ]
  },
  {
   "cell_type": "code",
   "execution_count": null,
   "metadata": {},
   "outputs": [],
   "source": []
  },
  {
   "cell_type": "markdown",
   "metadata": {
    "slideshow": {
     "slide_type": "-"
    }
   },
   "source": [
    "## Elastic Net\n",
    "\n",
    "Linear Regression + L1 Reg + L2 Reg = ElasticNet\n",
    "\n",
    "Tries to reap the benefits from both Ridge and Lasso (stability plus sparser model).\n",
    "\n",
    "Objective:\n",
    "\n",
    "$$\\underset{w} {\\arg \\min} \\frac{1}{2n} {\\left\\Vert Xw - y \\right\\Vert_2}^2 +  \\alpha\\beta {\\left\\Vert w \\right\\Vert_1} + \\frac{\\alpha(1-\\beta)}{2} {\\left\\Vert w \\right\\Vert_2}^2 $$\n",
    "\n",
    "$\\alpha$, $\\beta$ = regularization hyperparameters\n"
   ]
  },
  {
   "cell_type": "markdown",
   "metadata": {
    "slideshow": {
     "slide_type": "-"
    }
   },
   "source": [
    "## Optional Exercise: Elastic Net\n",
    "\n",
    "Try comparing `ElasticNet` and `ElasticNetCV` in a similar way as the above examples.\n",
    "\n",
    "Note that there are two hyperparameters to tune."
   ]
  },
  {
   "cell_type": "code",
   "execution_count": null,
   "metadata": {},
   "outputs": [],
   "source": []
  }
 ],
 "metadata": {
  "celltoolbar": "Slideshow",
  "kernelspec": {
   "display_name": "Python 3",
   "language": "python",
   "name": "python3"
  },
  "language_info": {
   "codemirror_mode": {
    "name": "ipython",
    "version": 3
   },
   "file_extension": ".py",
   "mimetype": "text/x-python",
   "name": "python",
   "nbconvert_exporter": "python",
   "pygments_lexer": "ipython3",
   "version": "3.6.5"
  },
  "livereveal": {
   "autolaunch": false,
   "overlay": "<div class='logo'><img src='assets/Stackup_Logo_Small.png' width='90%'/></div>"
  }
 },
 "nbformat": 4,
 "nbformat_minor": 2
}
