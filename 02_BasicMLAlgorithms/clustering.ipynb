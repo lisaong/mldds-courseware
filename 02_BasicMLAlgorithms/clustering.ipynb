{
 "cells": [
  {
   "cell_type": "markdown",
   "metadata": {},
   "source": [
    "# Clustering\n",
    "\n",
    "![so easy for us](https://uploads.toptal.io/blog/image/92521/toptal-blog-image-1463639098844-eb9ad14c7f665e556b2cb66a65b6c257.jpg)\n",
    "\n",
    "(image: [toptal](https://www.toptal.com/machine-learning/clustering-algorithms))"
   ]
  },
  {
   "cell_type": "markdown",
   "metadata": {
    "slideshow": {
     "slide_type": "slide"
    }
   },
   "source": [
    "## Where are we?\n",
    "\n",
    "![yay, one more quadrant covered](assets/linear-regression/machine-learning-cheet-sheet.png)\n",
    "\n",
    "(image: [sas.com](https://www.sas.com/en_us/insights/analytics/machine-learning.html))"
   ]
  },
  {
   "cell_type": "markdown",
   "metadata": {
    "slideshow": {
     "slide_type": "slide"
    }
   },
   "source": [
    "## Supervised / Unsupervised Learning\n",
    "\n",
    "Unsupervised learning:\n",
    "- Just dataset, no targets or labels\n",
    "- Algorithm needs to \"make sense\" of the data itself\n",
    "- E.g. clustering, dimension reduction\n",
    "\n",
    "Supervised learning:\n",
    "- Dataset with targets or labels\n",
    "- Algorithm learns by minimizing loss against the targets / labels\n",
    "- E.g. Classification, regression"
   ]
  },
  {
   "cell_type": "markdown",
   "metadata": {
    "slideshow": {
     "slide_type": "slide"
    }
   },
   "source": [
    "![supervised vs unsupervised](assets/clustering/supervised_unsupervised.png)\n",
    "\n",
    "(image: [Vibhor Agarwal](https://medium.com/@agarwalvibhor84/getting-started-with-machine-learning-using-sklearn-python-7d165618eddf))"
   ]
  },
  {
   "cell_type": "markdown",
   "metadata": {
    "slideshow": {
     "slide_type": "slide"
    }
   },
   "source": [
    "## Clustering\n",
    "\n",
    "Objective: given a dataset with just features, find groups (or clusters) of them\n",
    "\n",
    "Broad applications:\n",
    "- Market segmentation\n",
    "- User recommendations\n",
    "- Anormaly detection\n",
    "\n",
    "https://en.wikipedia.org/wiki/Cluster_analysis#Applications"
   ]
  },
  {
   "cell_type": "markdown",
   "metadata": {
    "slideshow": {
     "slide_type": "slide"
    }
   },
   "source": [
    "## Algorithms\n",
    "\n",
    "- K-means / K-modes\n",
    "- Expectation Maximization / Gaussian Mixture\n",
    "- DBSCAN\n",
    "\n",
    "Comparison:\n",
    "http://scikit-learn.org/stable/modules/clustering.html#overview-of-clustering-methods"
   ]
  },
  {
   "cell_type": "markdown",
   "metadata": {
    "slideshow": {
     "slide_type": "slide"
    }
   },
   "source": [
    "## K-means\n",
    "\n",
    "- Divides $N$ samples into $K$ clusters $C$\n",
    "  - Each cluster is centered on a mean $\\mu_j$, known as a \"centroid\"\n",
    "- Objective is to minimize \"inertia\" (= within-cluster sum-of-squares)\n",
    "\n",
    "$$\\sum_{i=0}^n \\underset{\\mu_j \\in C} {\\arg \\min}{(\\|x_i - \\mu_j\\|^2)}$$\n",
    "\n",
    "http://scikit-learn.org/stable/modules/generated/sklearn.cluster.KMeans.html"
   ]
  },
  {
   "cell_type": "markdown",
   "metadata": {
    "slideshow": {
     "slide_type": "slide"
    }
   },
   "source": [
    "## Workshop: K-means clustering\n",
    "\n",
    "### Dataset: COE Bidding Results\n",
    "\n",
    "https://data.gov.sg/dataset/coe-bidding-results\n",
    "\n",
    "1. Download the dataset on your machine\n",
    "2. Extract into a folder and note the path for use in `pd.read_csv`"
   ]
  },
  {
   "cell_type": "code",
   "execution_count": 1,
   "metadata": {},
   "outputs": [
    {
     "data": {
      "text/html": [
       "<div>\n",
       "<style scoped>\n",
       "    .dataframe tbody tr th:only-of-type {\n",
       "        vertical-align: middle;\n",
       "    }\n",
       "\n",
       "    .dataframe tbody tr th {\n",
       "        vertical-align: top;\n",
       "    }\n",
       "\n",
       "    .dataframe thead th {\n",
       "        text-align: right;\n",
       "    }\n",
       "</style>\n",
       "<table border=\"1\" class=\"dataframe\">\n",
       "  <thead>\n",
       "    <tr style=\"text-align: right;\">\n",
       "      <th></th>\n",
       "      <th>vehicle_class</th>\n",
       "      <th>quota</th>\n",
       "      <th>premium</th>\n",
       "    </tr>\n",
       "  </thead>\n",
       "  <tbody>\n",
       "    <tr>\n",
       "      <th>0</th>\n",
       "      <td>Category A</td>\n",
       "      <td>1152</td>\n",
       "      <td>18502</td>\n",
       "    </tr>\n",
       "    <tr>\n",
       "      <th>1</th>\n",
       "      <td>Category B</td>\n",
       "      <td>687</td>\n",
       "      <td>19190</td>\n",
       "    </tr>\n",
       "    <tr>\n",
       "      <th>2</th>\n",
       "      <td>Category C</td>\n",
       "      <td>173</td>\n",
       "      <td>19001</td>\n",
       "    </tr>\n",
       "    <tr>\n",
       "      <th>3</th>\n",
       "      <td>Category D</td>\n",
       "      <td>373</td>\n",
       "      <td>889</td>\n",
       "    </tr>\n",
       "    <tr>\n",
       "      <th>4</th>\n",
       "      <td>Category E</td>\n",
       "      <td>586</td>\n",
       "      <td>19889</td>\n",
       "    </tr>\n",
       "  </tbody>\n",
       "</table>\n",
       "</div>"
      ],
      "text/plain": [
       "  vehicle_class  quota  premium\n",
       "0    Category A   1152    18502\n",
       "1    Category B    687    19190\n",
       "2    Category C    173    19001\n",
       "3    Category D    373      889\n",
       "4    Category E    586    19889"
      ]
     },
     "execution_count": 1,
     "metadata": {},
     "output_type": "execute_result"
    }
   ],
   "source": [
    "import pandas as pd\n",
    "\n",
    "df = pd.read_csv('D:/tmp/coe-bidding-results/coe-results.csv', # fix to your path\n",
    "                 usecols=['vehicle_class', 'quota', 'premium'])\n",
    "\n",
    "df.head()"
   ]
  },
  {
   "cell_type": "code",
   "execution_count": 2,
   "metadata": {},
   "outputs": [
    {
     "data": {
      "text/html": [
       "<div>\n",
       "<style scoped>\n",
       "    .dataframe tbody tr th:only-of-type {\n",
       "        vertical-align: middle;\n",
       "    }\n",
       "\n",
       "    .dataframe tbody tr th {\n",
       "        vertical-align: top;\n",
       "    }\n",
       "\n",
       "    .dataframe thead th {\n",
       "        text-align: right;\n",
       "    }\n",
       "</style>\n",
       "<table border=\"1\" class=\"dataframe\">\n",
       "  <thead>\n",
       "    <tr style=\"text-align: right;\">\n",
       "      <th></th>\n",
       "      <th>quota</th>\n",
       "      <th>premium</th>\n",
       "    </tr>\n",
       "  </thead>\n",
       "  <tbody>\n",
       "    <tr>\n",
       "      <th>count</th>\n",
       "      <td>985.000000</td>\n",
       "      <td>985.000000</td>\n",
       "    </tr>\n",
       "    <tr>\n",
       "      <th>mean</th>\n",
       "      <td>551.541117</td>\n",
       "      <td>46445.775635</td>\n",
       "    </tr>\n",
       "    <tr>\n",
       "      <th>std</th>\n",
       "      <td>452.628678</td>\n",
       "      <td>26065.702205</td>\n",
       "    </tr>\n",
       "    <tr>\n",
       "      <th>min</th>\n",
       "      <td>140.000000</td>\n",
       "      <td>852.000000</td>\n",
       "    </tr>\n",
       "    <tr>\n",
       "      <th>25%</th>\n",
       "      <td>294.000000</td>\n",
       "      <td>31006.000000</td>\n",
       "    </tr>\n",
       "    <tr>\n",
       "      <th>50%</th>\n",
       "      <td>373.000000</td>\n",
       "      <td>50502.000000</td>\n",
       "    </tr>\n",
       "    <tr>\n",
       "      <th>75%</th>\n",
       "      <td>559.000000</td>\n",
       "      <td>65001.000000</td>\n",
       "    </tr>\n",
       "    <tr>\n",
       "      <th>max</th>\n",
       "      <td>2272.000000</td>\n",
       "      <td>97889.000000</td>\n",
       "    </tr>\n",
       "  </tbody>\n",
       "</table>\n",
       "</div>"
      ],
      "text/plain": [
       "             quota       premium\n",
       "count   985.000000    985.000000\n",
       "mean    551.541117  46445.775635\n",
       "std     452.628678  26065.702205\n",
       "min     140.000000    852.000000\n",
       "25%     294.000000  31006.000000\n",
       "50%     373.000000  50502.000000\n",
       "75%     559.000000  65001.000000\n",
       "max    2272.000000  97889.000000"
      ]
     },
     "execution_count": 2,
     "metadata": {},
     "output_type": "execute_result"
    }
   ],
   "source": [
    "df.describe()"
   ]
  },
  {
   "cell_type": "markdown",
   "metadata": {
    "slideshow": {
     "slide_type": "-"
    }
   },
   "source": [
    "### Task\n",
    "\n",
    "1. Find clusters using the `quota`, and `premium` columns.\n",
    "\n",
    "2. Compare the clusters found with the actual `vehicle_class` label\n",
    "\n",
    "*Note: in unsupervised learning, we DON'T provide the label for training the algorithm*"
   ]
  },
  {
   "cell_type": "markdown",
   "metadata": {
    "slideshow": {
     "slide_type": "-"
    }
   },
   "source": [
    "### Data Processing\n",
    "\n",
    "1. Take the last 300 samples for demo purposes\n",
    "2. Encode labels from ['Category A', ...] to [0, 1, 2, ...]\n",
    "3. Shuffle and split the data into train and test\n",
    "4. Scale the data"
   ]
  },
  {
   "cell_type": "code",
   "execution_count": 37,
   "metadata": {
    "slideshow": {
     "slide_type": "-"
    }
   },
   "outputs": [
    {
     "name": "stdout",
     "output_type": "stream",
     "text": [
      "Labels\n",
      " [4 0 1 2 1]\n",
      "Data\n",
      " [[-0.47388039  0.64587939]\n",
      " [ 4.04595759 -0.8546241 ]\n",
      " [-0.36940725  2.00900394]\n",
      " [-0.94126023 -0.31004577]\n",
      " [-0.35291149  1.65362777]]\n"
     ]
    }
   ],
   "source": [
    "from sklearn.model_selection import train_test_split\n",
    "from sklearn.preprocessing import LabelEncoder, StandardScaler\n",
    "\n",
    "# For demo purposes, use the first 300 samples\n",
    "n_samples = 300\n",
    "df = df.iloc[:n_samples]\n",
    "\n",
    "df_data = df.loc[:, 'quota':'premium']\n",
    "\n",
    "# Encode labels\n",
    "le = LabelEncoder()\n",
    "df_labels = le.fit_transform(df.loc[:, 'vehicle_class'])\n",
    "\n",
    "# Train, test split, and shuffle\n",
    "df_data_train, df_data_test, df_labels_train, df_labels_test = train_test_split(df_data, df_labels)\n",
    "\n",
    "# Scale the data to simplify processing\n",
    "scaler = StandardScaler()\n",
    "scaler.fit(df_data_train)\n",
    "df_data_train_scaled = scaler.transform(df_data_train)\n",
    "df_data_test_scaled = scaler.transform(df_data_test)\n",
    "\n",
    "print('Labels\\n', df_labels_train[:5])\n",
    "print('Data\\n', df_data_train_scaled[:5])"
   ]
  },
  {
   "cell_type": "markdown",
   "metadata": {
    "slideshow": {
     "slide_type": "-"
    }
   },
   "source": [
    "### Helper functions\n",
    "\n",
    "Here's a helper function to visualize the k-means algorithm.\n",
    "\n",
    "It does this:\n",
    "1. For the min-max ranges of `quota` and `premium` (after scaling), run `Kmeans.predict` to get the label outputs [0, 1, 2, 3, 4] (for 5 categories)\n",
    "2. Plot a colour mesh, with colour assigned to each label\n",
    "3. Scatter plot the training data in black\n",
    "4. Scatter plot the centroids in red"
   ]
  },
  {
   "cell_type": "code",
   "execution_count": 33,
   "metadata": {
    "slideshow": {
     "slide_type": "-"
    }
   },
   "outputs": [],
   "source": [
    "import numpy as np\n",
    "\n",
    "def plot_decision_boundaries(ax, title, kmeans_model, data):\n",
    "    \"\"\"Plots the decision boundaries for a fitted k-means model\n",
    "    Args:\n",
    "        ax: subplot axis\n",
    "        title: subplot title\n",
    "        kmeans_model: a fitted sklearn.cluster.KMeans model\n",
    "        data: 2-dimensional input data to cluster and plot\n",
    " \n",
    "    Based on: http://scikit-learn.org/stable/auto_examples/cluster/plot_kmeans_digits.html\n",
    "    \"\"\"\n",
    "    # Step size of the mesh. Decrease to increase the quality of the VQ.\n",
    "    h = .02     # point in the mesh [x_min, x_max]x[y_min, y_max].\n",
    "\n",
    "    # Plot the decision boundary. For that, we will assign a color to each\n",
    "    x_min, x_max = data[:, 0].min() - 1, data[:, 0].max() + 1\n",
    "    y_min, y_max = data[:, 1].min() - 1, data[:, 1].max() + 1\n",
    "    xx, yy = np.meshgrid(np.arange(x_min, x_max, h), np.arange(y_min, y_max, h))\n",
    "\n",
    "    # Obtain labels for each point in mesh. Use last trained model.\n",
    "    Z = kmeans_model.predict(np.c_[xx.ravel(), yy.ravel()])\n",
    "\n",
    "    # Put the result into a color plot\n",
    "    Z = Z.reshape(xx.shape)\n",
    "\n",
    "    ax.imshow(Z, interpolation='nearest',\n",
    "              extent=(xx.min(), xx.max(), yy.min(), yy.max()),\n",
    "              cmap=plt.cm.Pastel2,\n",
    "              aspect='auto', origin='lower')\n",
    "\n",
    "    ax.plot(data[:, 0], data[:, 1], 'k.', markersize=4)\n",
    "\n",
    "    # Plot the centroids as a red X\n",
    "    centroids = kmeans.cluster_centers_\n",
    "\n",
    "    ax.scatter(centroids[:, 0], centroids[:, 1],\n",
    "               marker='x', s=169, linewidths=3,\n",
    "               color='red', zorder=10, label='centroids')\n",
    "    ax.set(title=title,\n",
    "           xlim=(x_min, x_max), ylim=(y_min, y_max),\n",
    "           xticks=(), yticks = ())\n",
    "    ax.legend()"
   ]
  },
  {
   "cell_type": "markdown",
   "metadata": {
    "slideshow": {
     "slide_type": "-"
    }
   },
   "source": [
    "### Train and plot progress\n",
    "\n",
    "Now we'll run k-means with different iterations.\n",
    "\n",
    "Observe how the centroids move as the algorithm makes progress."
   ]
  },
  {
   "cell_type": "code",
   "execution_count": 36,
   "metadata": {
    "slideshow": {
     "slide_type": "-"
    }
   },
   "outputs": [
    {
     "data": {
      "image/png": "[encoded data removed]",
      "text/plain": [
       "<matplotlib.figure.Figure at 0x1e429fb9518>"
      ]
     },
     "metadata": {},
     "output_type": "display_data"
    }
   ],
   "source": [
    "from sklearn.cluster import KMeans\n",
    "import matplotlib.pyplot as plt\n",
    "\n",
    "# Run k-means iteratively and plot to demonstrate the algorithm at work\n",
    "n_classes = len(df.loc[:, 'vehicle_class'].unique())\n",
    "n_iterations = [1, 5, 10, 20]\n",
    "\n",
    "fig, axes = plt.subplots(nrows=2, ncols=2, figsize=(15, 15))\n",
    "\n",
    "for n, ax in zip(n_iterations, axes.flatten()):\n",
    "    kmeans = KMeans(init='random', n_clusters=n_classes, max_iter=n, n_init=1)\n",
    "    kmeans.fit(df_data_train_scaled)\n",
    "    plot_decision_boundaries(ax, 'K-means, %d iteration(s)' % n, kmeans, df_data_train_scaled)"
   ]
  },
  {
   "cell_type": "markdown",
   "metadata": {
    "slideshow": {
     "slide_type": "-"
    }
   },
   "source": [
    "### Exercise\n",
    "\n",
    "Repeat the above, trying different options for k-means:\n",
    "1. Try a different initialization method: `k-means++`\n",
    "2. Try averaging over different centroid seeds by setting `n_init` to a number greater than 1\n",
    "3. Try a different algorithm: `full`, `elkan`\n",
    "\n",
    "You can run `KMeans?` to see its documentation."
   ]
  },
  {
   "cell_type": "code",
   "execution_count": null,
   "metadata": {
    "slideshow": {
     "slide_type": "-"
    }
   },
   "outputs": [],
   "source": [
    "# Your code here\n",
    "\n",
    "\n",
    "\n",
    "\n",
    "\n",
    "\n",
    "\n",
    "\n",
    "\n",
    "\n",
    "\n",
    "\n"
   ]
  },
  {
   "cell_type": "markdown",
   "metadata": {
    "slideshow": {
     "slide_type": "slide"
    }
   },
   "source": [
    "## Evaluating Clustering Algorithms\n",
    "\n",
    "When you have the ground truth labels:\n",
    "- Homogeniety: each cluster contains only members of 1 class\n",
    "- Completeness: all members of 1 class are assigned to the same cluster\n",
    "- V-measure: harmonic mean of homogeniety and completeness\n",
    "$$v\\_measure = \\frac{2 * homogeniety * completeness}{homogeniety+completeness}$$\n",
    "- Adjusted Rand index: similarity measure, ignoring ordering"
   ]
  },
  {
   "cell_type": "markdown",
   "metadata": {
    "slideshow": {
     "slide_type": "slide"
    }
   },
   "source": [
    "## Evaluating Clustering Algorithms\n",
    "\n",
    "When you don't have the ground truth labels:\n",
    "- Silhouette Coefficient\n",
    "\n",
    "$$S = \\frac{b-a}{max(a, b)}$$\n",
    "\n",
    "Where:\n",
    "- $a$: Mean distance between 1 sample and others in same class\n",
    "- $b$: Mean distance between 1 sample and others in nearest clusters"
   ]
  },
  {
   "cell_type": "markdown",
   "metadata": {
    "slideshow": {
     "slide_type": "slide"
    }
   },
   "source": [
    "## Evaluating Clustering Algorithms\n",
    "\n",
    "Advantages and disadvantages of each metric:\n",
    "http://scikit-learn.org/stable/modules/clustering.html#clustering-performance-evaluation"
   ]
  },
  {
   "cell_type": "markdown",
   "metadata": {
    "slideshow": {
     "slide_type": "slide"
    }
   },
   "source": [
    "### Workshop: Evaluating K-means on the COE dataset\n",
    "\n",
    "Since we have our labels, we can evaluate the performance of the clustering algorithm using all of the above.\n",
    "\n",
    "Higher numbers are better."
   ]
  },
  {
   "cell_type": "code",
   "execution_count": 43,
   "metadata": {
    "slideshow": {
     "slide_type": "-"
    }
   },
   "outputs": [
    {
     "data": {
      "text/plain": [
       "array([3, 0, 0, 0, 1, 3, 1, 3, 4, 3, 3, 4, 0, 1, 3, 0, 0, 3, 3, 3, 1, 0, 3,\n",
       "       1, 0, 1, 1, 1, 0, 4, 4, 0, 0, 0, 4, 3, 0, 4, 1, 3, 1, 0, 0, 0, 0, 3,\n",
       "       4, 0, 1, 3, 1, 4, 4, 1, 0, 0, 0, 3, 0, 1, 4, 1, 3, 3, 0, 3, 4, 4, 3,\n",
       "       3, 1, 4, 3, 0, 3])"
      ]
     },
     "execution_count": 43,
     "metadata": {},
     "output_type": "execute_result"
    }
   ],
   "source": [
    "from sklearn import metrics\n",
    "\n",
    "# Let's run to the maximum iterations\n",
    "kmeans = KMeans(init='random', n_clusters=n_classes, max_iter=100, n_init=1)\n",
    "kmeans.fit(df_data_train_scaled)\n",
    "\n",
    "# Run prediction on the test data\n",
    "test_labels_predict = kmeans.predict(df_data_test_scaled)\n",
    "test_labels_predict"
   ]
  },
  {
   "cell_type": "code",
   "execution_count": 44,
   "metadata": {
    "slideshow": {
     "slide_type": "-"
    }
   },
   "outputs": [
    {
     "name": "stdout",
     "output_type": "stream",
     "text": [
      "Homogeneity: 0.725\n",
      "Completeness: 0.846\n",
      "V-measure: 0.781\n",
      "Adjusted Rand-Index: 0.718\n",
      "Silhouette Coefficient: 0.586\n"
     ]
    }
   ],
   "source": [
    "print(\"Homogeneity: %0.3f\"\n",
    "      % metrics.homogeneity_score(df_labels_test, test_labels_predict))\n",
    "print(\"Completeness: %0.3f\"\n",
    "      % metrics.completeness_score(df_labels_test, test_labels_predict))\n",
    "print(\"V-measure: %0.3f\"\n",
    "      % metrics.v_measure_score(df_labels_test, test_labels_predict))\n",
    "print(\"Adjusted Rand-Index: %.3f\"\n",
    "      % metrics.adjusted_rand_score(df_labels_test, test_labels_predict))\n",
    "print(\"Silhouette Coefficient: %0.3f\"\n",
    "      % metrics.silhouette_score(df_data_test_scaled, test_labels_predict,\n",
    "                                 sample_size=n_samples,\n",
    "                                 metric='euclidean'))"
   ]
  },
  {
   "cell_type": "markdown",
   "metadata": {
    "slideshow": {
     "slide_type": "-"
    }
   },
   "source": [
    "### Exercise\n",
    "Compare the Evaluation Metrics for the different k-means settings you tried in the earlier exercise. \n",
    "\n",
    "- A different initialization method: k-means++\n",
    "- Averaging over different centroid seeds by setting n_init to a number greater than 1\n",
    "- A different algorithm: full, elkan\n",
    "\n",
    "Use max_iter = 100 or a similar value.\n",
    "\n",
    "Which combination performs the best on this dataset?"
   ]
  },
  {
   "cell_type": "code",
   "execution_count": null,
   "metadata": {
    "slideshow": {
     "slide_type": "-"
    }
   },
   "outputs": [],
   "source": [
    "# Your code here\n",
    "\n",
    "\n",
    "\n",
    "\n",
    "\n",
    "\n",
    "\n",
    "\n",
    "\n",
    "\n"
   ]
  },
  {
   "cell_type": "markdown",
   "metadata": {
    "slideshow": {
     "slide_type": "slide"
    }
   },
   "source": [
    "## Gaussian Mixture\n",
    "\n",
    "http://scikit-learn.org/stable/modules/mixture.html#gaussian-mixture"
   ]
  },
  {
   "cell_type": "code",
   "execution_count": null,
   "metadata": {},
   "outputs": [],
   "source": []
  },
  {
   "cell_type": "code",
   "execution_count": null,
   "metadata": {},
   "outputs": [],
   "source": []
  },
  {
   "cell_type": "markdown",
   "metadata": {
    "slideshow": {
     "slide_type": "slide"
    }
   },
   "source": [
    "## DBSCAN\n",
    "\n",
    "http://scikit-learn.org/stable/modules/clustering.html#dbscan"
   ]
  },
  {
   "cell_type": "code",
   "execution_count": null,
   "metadata": {},
   "outputs": [],
   "source": []
  }
 ],
 "metadata": {
  "celltoolbar": "Slideshow",
  "kernelspec": {
   "display_name": "Python 3",
   "language": "python",
   "name": "python3"
  },
  "language_info": {
   "codemirror_mode": {
    "name": "ipython",
    "version": 3
   },
   "file_extension": ".py",
   "mimetype": "text/x-python",
   "name": "python",
   "nbconvert_exporter": "python",
   "pygments_lexer": "ipython3",
   "version": "3.6.4"
  },
  "livereveal": {
   "autolaunch": false,
   "overlay": "<div class='logo'><img src='assets/Stackup_Logo_Small.png' width='90%'/></div>"
  }
 },
 "nbformat": 4,
 "nbformat_minor": 2
}
