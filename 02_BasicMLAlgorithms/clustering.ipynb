{
 "cells": [
  {
   "cell_type": "markdown",
   "metadata": {},
   "source": [
    "# Clustering\n",
    "\n",
    "![so easy for us](assets/clustering/robot-having-trouble.jpg)\n",
    "\n",
    "(image: [toptal](https://www.toptal.com/machine-learning/clustering-algorithms))"
   ]
  },
  {
   "cell_type": "markdown",
   "metadata": {
    "slideshow": {
     "slide_type": "slide"
    }
   },
   "source": [
    "## Where are we?\n",
    "\n",
    "![yay, one more quadrant covered](assets/linear-regression/machine-learning-cheet-sheet.png)\n",
    "\n",
    "(image: [sas.com](https://www.sas.com/en_us/insights/analytics/machine-learning.html))"
   ]
  },
  {
   "cell_type": "markdown",
   "metadata": {
    "slideshow": {
     "slide_type": "slide"
    }
   },
   "source": [
    "## Supervised / Unsupervised Learning\n",
    "\n",
    "Unsupervised learning:\n",
    "- Just dataset, no targets or labels\n",
    "- Algorithm needs to \"make sense\" of the data itself\n",
    "- E.g. clustering, dimension reduction\n",
    "\n",
    "Supervised learning:\n",
    "- Dataset with targets or labels\n",
    "- Algorithm learns by minimizing loss against the targets / labels\n",
    "- E.g. Classification, regression"
   ]
  },
  {
   "cell_type": "markdown",
   "metadata": {
    "slideshow": {
     "slide_type": "slide"
    }
   },
   "source": [
    "![supervised vs unsupervised](assets/clustering/supervised_unsupervised.png)\n",
    "\n",
    "(image: [Vibhor Agarwal](https://medium.com/@agarwalvibhor84/getting-started-with-machine-learning-using-sklearn-python-7d165618eddf))"
   ]
  },
  {
   "cell_type": "markdown",
   "metadata": {
    "slideshow": {
     "slide_type": "slide"
    }
   },
   "source": [
    "## Clustering\n",
    "\n",
    "Objective: given a dataset with just features, find groups (or clusters) of them\n",
    "\n",
    "Broad applications:\n",
    "- Market segmentation\n",
    "- User recommendations\n",
    "- Anormaly detection\n",
    "\n",
    "https://en.wikipedia.org/wiki/Cluster_analysis#Applications"
   ]
  },
  {
   "cell_type": "markdown",
   "metadata": {
    "slideshow": {
     "slide_type": "slide"
    }
   },
   "source": [
    "## Algorithms\n",
    "\n",
    "- K-means / K-modes\n",
    "- Expectation Maximization / Gaussian Mixture\n",
    "- DBSCAN\n",
    "\n",
    "Comparison (worth checking out):\n",
    "http://scikit-learn.org/stable/modules/clustering.html#overview-of-clustering-methods"
   ]
  },
  {
   "cell_type": "markdown",
   "metadata": {
    "slideshow": {
     "slide_type": "slide"
    }
   },
   "source": [
    "## K-means"
   ]
  },
  {
   "cell_type": "markdown",
   "metadata": {
    "slideshow": {
     "slide_type": "slide"
    }
   },
   "source": [
    "## Gaussian Mixture"
   ]
  },
  {
   "cell_type": "markdown",
   "metadata": {
    "slideshow": {
     "slide_type": "slide"
    }
   },
   "source": [
    "## DBSCAN"
   ]
  },
  {
   "cell_type": "markdown",
   "metadata": {
    "slideshow": {
     "slide_type": "slide"
    }
   },
   "source": [
    "## Evaluation Metrics\n",
    "\n",
    "http://scikit-learn.org/stable/modules/clustering.html#clustering-performance-evaluation\n"
   ]
  },
  {
   "cell_type": "code",
   "execution_count": 190,
   "metadata": {},
   "outputs": [
    {
     "data": {
      "text/html": [
       "<div>\n",
       "<style scoped>\n",
       "    .dataframe tbody tr th:only-of-type {\n",
       "        vertical-align: middle;\n",
       "    }\n",
       "\n",
       "    .dataframe tbody tr th {\n",
       "        vertical-align: top;\n",
       "    }\n",
       "\n",
       "    .dataframe thead th {\n",
       "        text-align: right;\n",
       "    }\n",
       "</style>\n",
       "<table border=\"1\" class=\"dataframe\">\n",
       "  <thead>\n",
       "    <tr style=\"text-align: right;\">\n",
       "      <th></th>\n",
       "      <th>romanised_title</th>\n",
       "      <th>publishers</th>\n",
       "      <th>year_release</th>\n",
       "      <th>region</th>\n",
       "      <th>platform</th>\n",
       "      <th>rating</th>\n",
       "    </tr>\n",
       "  </thead>\n",
       "  <tbody>\n",
       "    <tr>\n",
       "      <th>0</th>\n",
       "      <td>ATTOUTEKI YUUGI: MUGEN SOULS Z</td>\n",
       "      <td>IDEA FACTORY CO. LTD</td>\n",
       "      <td>2013</td>\n",
       "      <td>ASIA,EURO</td>\n",
       "      <td>Sony Playstation 3</td>\n",
       "      <td>Age Advisory</td>\n",
       "    </tr>\n",
       "    <tr>\n",
       "      <th>1</th>\n",
       "      <td>ARMA III</td>\n",
       "      <td>BOHEMIA INTERACTIVE</td>\n",
       "      <td>2013</td>\n",
       "      <td>ASIA</td>\n",
       "      <td>PC</td>\n",
       "      <td>Age Advisory</td>\n",
       "    </tr>\n",
       "    <tr>\n",
       "      <th>2</th>\n",
       "      <td>TOTAL WAR: SHOGUN 2 GOLD EDITION</td>\n",
       "      <td>SEGA EUROPE</td>\n",
       "      <td>2013</td>\n",
       "      <td>EURO</td>\n",
       "      <td>PC</td>\n",
       "      <td>General</td>\n",
       "    </tr>\n",
       "    <tr>\n",
       "      <th>3</th>\n",
       "      <td>COMPANY OF HEROES 2</td>\n",
       "      <td>SEGA EUROPE</td>\n",
       "      <td>2013</td>\n",
       "      <td>ASIA</td>\n",
       "      <td>PC</td>\n",
       "      <td>Age Advisory</td>\n",
       "    </tr>\n",
       "    <tr>\n",
       "      <th>4</th>\n",
       "      <td>COMPANY OF HEROES 2 RED STAR EDITION</td>\n",
       "      <td>SEGA EUROPE</td>\n",
       "      <td>2013</td>\n",
       "      <td>ASIA</td>\n",
       "      <td>PC</td>\n",
       "      <td>Age Advisory</td>\n",
       "    </tr>\n",
       "  </tbody>\n",
       "</table>\n",
       "</div>"
      ],
      "text/plain": [
       "                        romanised_title            publishers  year_release  \\\n",
       "0        ATTOUTEKI YUUGI: MUGEN SOULS Z  IDEA FACTORY CO. LTD          2013   \n",
       "1                              ARMA III   BOHEMIA INTERACTIVE          2013   \n",
       "2      TOTAL WAR: SHOGUN 2 GOLD EDITION           SEGA EUROPE          2013   \n",
       "3                   COMPANY OF HEROES 2           SEGA EUROPE          2013   \n",
       "4  COMPANY OF HEROES 2 RED STAR EDITION           SEGA EUROPE          2013   \n",
       "\n",
       "      region            platform        rating  \n",
       "0  ASIA,EURO  Sony Playstation 3  Age Advisory  \n",
       "1       ASIA                  PC  Age Advisory  \n",
       "2       EURO                  PC       General  \n",
       "3       ASIA                  PC  Age Advisory  \n",
       "4       ASIA                  PC  Age Advisory  "
      ]
     },
     "execution_count": 190,
     "metadata": {},
     "output_type": "execute_result"
    }
   ],
   "source": [
    "import pandas as pd\n",
    "\n",
    "# usecols=['year_release', 'romanised_title', 'publishers', 'region', 'platform', 'rating'])\n",
    "#                usecols=['publishers', 'region', 'platform', 'rating'])\n",
    "\n",
    "df = pd.read_csv('D:/tmp/video-games-classification-database/video-games-classification-database.csv',\n",
    "                usecols=['year_release', 'romanised_title', 'publishers', 'region', 'platform', 'rating'])\n",
    "\n",
    "df.head()"
   ]
  },
  {
   "cell_type": "code",
   "execution_count": 191,
   "metadata": {},
   "outputs": [
    {
     "data": {
      "text/html": [
       "<div>\n",
       "<style scoped>\n",
       "    .dataframe tbody tr th:only-of-type {\n",
       "        vertical-align: middle;\n",
       "    }\n",
       "\n",
       "    .dataframe tbody tr th {\n",
       "        vertical-align: top;\n",
       "    }\n",
       "\n",
       "    .dataframe thead th {\n",
       "        text-align: right;\n",
       "    }\n",
       "</style>\n",
       "<table border=\"1\" class=\"dataframe\">\n",
       "  <thead>\n",
       "    <tr style=\"text-align: right;\">\n",
       "      <th></th>\n",
       "      <th>romanised_title</th>\n",
       "      <th>publishers</th>\n",
       "      <th>year_release</th>\n",
       "      <th>region</th>\n",
       "      <th>platform</th>\n",
       "      <th>rating</th>\n",
       "    </tr>\n",
       "  </thead>\n",
       "  <tbody>\n",
       "    <tr>\n",
       "      <th>0</th>\n",
       "      <td>45</td>\n",
       "      <td>79</td>\n",
       "      <td>6</td>\n",
       "      <td>1</td>\n",
       "      <td>83</td>\n",
       "      <td>0</td>\n",
       "    </tr>\n",
       "    <tr>\n",
       "      <th>1</th>\n",
       "      <td>28</td>\n",
       "      <td>38</td>\n",
       "      <td>6</td>\n",
       "      <td>0</td>\n",
       "      <td>60</td>\n",
       "      <td>0</td>\n",
       "    </tr>\n",
       "    <tr>\n",
       "      <th>2</th>\n",
       "      <td>703</td>\n",
       "      <td>153</td>\n",
       "      <td>6</td>\n",
       "      <td>8</td>\n",
       "      <td>60</td>\n",
       "      <td>1</td>\n",
       "    </tr>\n",
       "    <tr>\n",
       "      <th>3</th>\n",
       "      <td>103</td>\n",
       "      <td>153</td>\n",
       "      <td>6</td>\n",
       "      <td>0</td>\n",
       "      <td>60</td>\n",
       "      <td>0</td>\n",
       "    </tr>\n",
       "    <tr>\n",
       "      <th>4</th>\n",
       "      <td>104</td>\n",
       "      <td>153</td>\n",
       "      <td>6</td>\n",
       "      <td>0</td>\n",
       "      <td>60</td>\n",
       "      <td>0</td>\n",
       "    </tr>\n",
       "  </tbody>\n",
       "</table>\n",
       "</div>"
      ],
      "text/plain": [
       "   romanised_title  publishers  year_release  region  platform  rating\n",
       "0               45          79             6       1        83       0\n",
       "1               28          38             6       0        60       0\n",
       "2              703         153             6       8        60       1\n",
       "3              103         153             6       0        60       0\n",
       "4              104         153             6       0        60       0"
      ]
     },
     "execution_count": 191,
     "metadata": {},
     "output_type": "execute_result"
    }
   ],
   "source": [
    "from sklearn.preprocessing import LabelEncoder\n",
    "\n",
    "le = LabelEncoder()\n",
    "encoded_df = df[df.columns[:]].apply(le.fit_transform)\n",
    "encoded_df.head()"
   ]
  },
  {
   "cell_type": "code",
   "execution_count": 192,
   "metadata": {},
   "outputs": [
    {
     "data": {
      "text/plain": [
       "array([0, 1, 2], dtype=int64)"
      ]
     },
     "execution_count": 192,
     "metadata": {},
     "output_type": "execute_result"
    }
   ],
   "source": [
    "encoded_df.rating.unique()"
   ]
  },
  {
   "cell_type": "code",
   "execution_count": 221,
   "metadata": {},
   "outputs": [
    {
     "data": {
      "text/plain": [
       "KMeans(algorithm='auto', copy_x=True, init='k-means++', max_iter=300,\n",
       "    n_clusters=3, n_init=10, n_jobs=1, precompute_distances='auto',\n",
       "    random_state=None, tol=0.0001, verbose=0)"
      ]
     },
     "execution_count": 221,
     "metadata": {},
     "output_type": "execute_result"
    }
   ],
   "source": [
    "from sklearn.decomposition import PCA\n",
    "from sklearn.preprocessing import scale\n",
    "\n",
    "n_ratings = len(encoded_df.rating.unique())\n",
    "n_samples = 50 # get a subset of samples\n",
    "\n",
    "data = encoded_df.loc[:, 'romanised_title':'rating']\n",
    "data = data.sample(frac=1).reset_index(drop=True)\n",
    "data = data[:n_samples]\n",
    "data = scale(data)\n",
    "\n",
    "reduced_data = PCA(n_components=2).fit_transform(data)\n",
    "kmeans = KMeans(init='k-means++', n_clusters=n_ratings, n_init=10)\n",
    "kmeans.fit(reduced_data)"
   ]
  },
  {
   "cell_type": "code",
   "execution_count": 222,
   "metadata": {},
   "outputs": [
    {
     "data": {
      "text/plain": [
       "array([[ 1.05909623,  0.13508994, -0.63972232,  1.48052084,  0.73664456,\n",
       "        -0.08980265],\n",
       "       [ 0.04884611,  1.69019506,  1.29883016, -0.82558639,  0.34376746,\n",
       "         2.15526362],\n",
       "       [-1.0030638 ,  0.92049657, -0.63972232,  0.78868867,  0.70390481,\n",
       "        -0.08980265],\n",
       "       [-0.32609207, -0.55606789,  0.32955392, -0.82558639, -1.22774094,\n",
       "        -0.08980265],\n",
       "       [ 0.88724956, -0.71314922, -1.60899856,  1.0192994 , -0.01636988,\n",
       "        -0.08980265]])"
      ]
     },
     "execution_count": 222,
     "metadata": {},
     "output_type": "execute_result"
    }
   ],
   "source": [
    "data[:5, :]"
   ]
  },
  {
   "cell_type": "code",
   "execution_count": 223,
   "metadata": {},
   "outputs": [
    {
     "data": {
      "text/plain": [
       "array([[-1.34657673, -1.21635814],\n",
       "       [ 2.72135284, -0.53020643],\n",
       "       [-0.25237368, -0.14284584],\n",
       "       [ 0.60532584,  0.57480136],\n",
       "       [-1.67367971, -1.3402463 ]])"
      ]
     },
     "execution_count": 223,
     "metadata": {},
     "output_type": "execute_result"
    }
   ],
   "source": [
    "reduced_data[:5, :]"
   ]
  },
  {
   "cell_type": "code",
   "execution_count": 224,
   "metadata": {},
   "outputs": [
    {
     "data": {
      "text/plain": [
       "<matplotlib.legend.Legend at 0x1a38cbefb38>"
      ]
     },
     "execution_count": 224,
     "metadata": {},
     "output_type": "execute_result"
    },
    {
     "data": {
      "image/png": "[encoded data removed]",
      "text/plain": [
       "<matplotlib.figure.Figure at 0x1a38ce64588>"
      ]
     },
     "metadata": {},
     "output_type": "display_data"
    }
   ],
   "source": [
    "# http://scikit-learn.org/stable/auto_examples/cluster/plot_kmeans_digits.html\n",
    "\n",
    "# Step size of the mesh. Decrease to increase the quality of the VQ.\n",
    "h = .02     # point in the mesh [x_min, x_max]x[y_min, y_max].\n",
    "\n",
    "# Plot the decision boundary. For that, we will assign a color to each\n",
    "x_min, x_max = reduced_data[:, 0].min() - 1, reduced_data[:, 0].max() + 1\n",
    "y_min, y_max = reduced_data[:, 1].min() - 1, reduced_data[:, 1].max() + 1\n",
    "xx, yy = np.meshgrid(np.arange(x_min, x_max, h), np.arange(y_min, y_max, h))\n",
    "\n",
    "# Obtain labels for each point in mesh. Use last trained model.\n",
    "Z = kmeans.predict(np.c_[xx.ravel(), yy.ravel()])\n",
    "\n",
    "# Put the result into a color plot\n",
    "Z = Z.reshape(xx.shape)\n",
    "\n",
    "fig, ax = plt.subplots()\n",
    "ax.imshow(Z, interpolation='nearest',\n",
    "          extent=(xx.min(), xx.max(), yy.min(), yy.max()),\n",
    "          cmap=plt.cm.Pastel2,\n",
    "          aspect='auto', origin='lower')\n",
    "\n",
    "ax.plot(reduced_data[:, 0], reduced_data[:, 1], 'k.', markersize=4)\n",
    "\n",
    "# Plot the centroids as a red X\n",
    "centroids = kmeans.cluster_centers_\n",
    "\n",
    "ax.scatter(centroids[:, 0], centroids[:, 1],\n",
    "           marker='x', s=169, linewidths=3,\n",
    "           color='red', zorder=10, label='centroids')\n",
    "ax.set(title='K-means clustering on the video game dataset (PCA-reduced data)\\n',\n",
    "       xlim=(x_min, x_max), ylim=(y_min, y_max),\n",
    "       xticks=(), yticks = ())\n",
    "ax.legend()"
   ]
  },
  {
   "cell_type": "code",
   "execution_count": null,
   "metadata": {},
   "outputs": [],
   "source": []
  }
 ],
 "metadata": {
  "celltoolbar": "Slideshow",
  "kernelspec": {
   "display_name": "Python 3",
   "language": "python",
   "name": "python3"
  },
  "language_info": {
   "codemirror_mode": {
    "name": "ipython",
    "version": 3
   },
   "file_extension": ".py",
   "mimetype": "text/x-python",
   "name": "python",
   "nbconvert_exporter": "python",
   "pygments_lexer": "ipython3",
   "version": "3.6.4"
  },
  "livereveal": {
   "autolaunch": false,
   "overlay": "<div class='logo'><img src='assets/Stackup_Logo_Small.png' width='90%'/></div>"
  }
 },
 "nbformat": 4,
 "nbformat_minor": 2
}
