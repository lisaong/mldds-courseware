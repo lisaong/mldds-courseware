{
 "cells": [
  {
   "cell_type": "markdown",
   "metadata": {},
   "source": [
    "# Coping with Dimensionality"
   ]
  },
  {
   "cell_type": "markdown",
   "metadata": {
    "slideshow": {
     "slide_type": "slide"
    }
   },
   "source": [
    "# Topics\n",
    "\n",
    "- The curse of dimensionality\n",
    "- Principal Component Analysis\n",
    "- Singular Value Decomposition\n",
    "- Latent Dirichlet Analysis"
   ]
  },
  {
   "cell_type": "markdown",
   "metadata": {},
   "source": [
    "## Where are we?\n",
    "\n",
    "![is there a 4th dimension?](assets/linear-regression/machine-learning-cheet-sheet.png)\n",
    "\n",
    "(image: [sas.com](https://www.sas.com/en_us/insights/analytics/machine-learning.html))"
   ]
  },
  {
   "cell_type": "markdown",
   "metadata": {
    "slideshow": {
     "slide_type": "slide"
    }
   },
   "source": [
    "# Visualizing data\n",
    "\n",
    "Humans can't visualize data in more than 3-D"
   ]
  },
  {
   "cell_type": "markdown",
   "metadata": {
    "slideshow": {
     "slide_type": "slide"
    }
   },
   "source": [
    "# The curse of dimensionality\n",
    "\n",
    "- As number of dimensions increase, need exponentially more data to create a generalized model\n",
    "\n",
    "- $d$ dimensions, $v$ target values: $O(v^d)$ examples"
   ]
  },
  {
   "cell_type": "markdown",
   "metadata": {
    "slideshow": {
     "slide_type": "slide"
    }
   },
   "source": [
    "# Dimension Reduction\n",
    "\n",
    "### Objective\n",
    "\"Project\" data from high dimensions to lower dimensions\n",
    "\n",
    "There will be data loss, but should be within acceptable limits"
   ]
  },
  {
   "cell_type": "markdown",
   "metadata": {
    "slideshow": {
     "slide_type": "slide"
    }
   },
   "source": [
    "# Techniques to reduce dimensions\n",
    "\n",
    "- Principal Component Analysis (PCA)\n",
    "- Singular Value Decomposition (SVD)\n",
    "- Latent Dirichlet Analysis\n"
   ]
  },
  {
   "cell_type": "markdown",
   "metadata": {
    "slideshow": {
     "slide_type": "slide"
    }
   },
   "source": [
    "# Principal Component Analysis\n",
    "\n",
    "http://scikit-learn.org/stable/modules/generated/sklearn.decomposition.PCA.html"
   ]
  },
  {
   "cell_type": "code",
   "execution_count": null,
   "metadata": {
    "slideshow": {
     "slide_type": "slide"
    }
   },
   "outputs": [],
   "source": []
  },
  {
   "cell_type": "markdown",
   "metadata": {
    "slideshow": {
     "slide_type": "slide"
    }
   },
   "source": [
    "# Singular Value Decomposition"
   ]
  },
  {
   "cell_type": "code",
   "execution_count": null,
   "metadata": {
    "slideshow": {
     "slide_type": "slide"
    }
   },
   "outputs": [],
   "source": []
  },
  {
   "cell_type": "markdown",
   "metadata": {
    "slideshow": {
     "slide_type": "slide"
    }
   },
   "source": [
    "# Latent Dirichlet Analysis"
   ]
  },
  {
   "cell_type": "code",
   "execution_count": null,
   "metadata": {
    "slideshow": {
     "slide_type": "slide"
    }
   },
   "outputs": [],
   "source": []
  },
  {
   "cell_type": "markdown",
   "metadata": {
    "slideshow": {
     "slide_type": "-"
    }
   },
   "source": [
    "https://archive.ics.uci.edu/ml/datasets/Motion+Capture+Hand+Postures"
   ]
  },
  {
   "cell_type": "code",
   "execution_count": 11,
   "metadata": {
    "slideshow": {
     "slide_type": "-"
    }
   },
   "outputs": [
    {
     "data": {
      "text/html": [
       "<div>\n",
       "<style scoped>\n",
       "    .dataframe tbody tr th:only-of-type {\n",
       "        vertical-align: middle;\n",
       "    }\n",
       "\n",
       "    .dataframe tbody tr th {\n",
       "        vertical-align: top;\n",
       "    }\n",
       "\n",
       "    .dataframe thead th {\n",
       "        text-align: right;\n",
       "    }\n",
       "</style>\n",
       "<table border=\"1\" class=\"dataframe\">\n",
       "  <thead>\n",
       "    <tr style=\"text-align: right;\">\n",
       "      <th></th>\n",
       "      <th>Class</th>\n",
       "      <th>User</th>\n",
       "      <th>X0</th>\n",
       "      <th>Y0</th>\n",
       "      <th>Z0</th>\n",
       "      <th>X1</th>\n",
       "      <th>Y1</th>\n",
       "      <th>Z1</th>\n",
       "      <th>X2</th>\n",
       "      <th>Y2</th>\n",
       "      <th>...</th>\n",
       "      <th>Z8</th>\n",
       "      <th>X9</th>\n",
       "      <th>Y9</th>\n",
       "      <th>Z9</th>\n",
       "      <th>X10</th>\n",
       "      <th>Y10</th>\n",
       "      <th>Z10</th>\n",
       "      <th>X11</th>\n",
       "      <th>Y11</th>\n",
       "      <th>Z11</th>\n",
       "    </tr>\n",
       "  </thead>\n",
       "  <tbody>\n",
       "    <tr>\n",
       "      <th>0</th>\n",
       "      <td>0</td>\n",
       "      <td>0</td>\n",
       "      <td>0.000000</td>\n",
       "      <td>0.000000</td>\n",
       "      <td>0.000000</td>\n",
       "      <td>0.000000</td>\n",
       "      <td>0.000000</td>\n",
       "      <td>0.000000</td>\n",
       "      <td>0.000000</td>\n",
       "      <td>0.000000</td>\n",
       "      <td>...</td>\n",
       "      <td>0.000000</td>\n",
       "      <td>0.000000</td>\n",
       "      <td>0.000000</td>\n",
       "      <td>0.000000</td>\n",
       "      <td>0.000000</td>\n",
       "      <td>0.000000</td>\n",
       "      <td>0.000000</td>\n",
       "      <td>0.000000</td>\n",
       "      <td>0.000000</td>\n",
       "      <td>0.000000</td>\n",
       "    </tr>\n",
       "    <tr>\n",
       "      <th>15303</th>\n",
       "      <td>2</td>\n",
       "      <td>2</td>\n",
       "      <td>27.418588</td>\n",
       "      <td>148.216120</td>\n",
       "      <td>14.770587</td>\n",
       "      <td>49.129027</td>\n",
       "      <td>99.723134</td>\n",
       "      <td>0.883278</td>\n",
       "      <td>92.301344</td>\n",
       "      <td>43.900549</td>\n",
       "      <td>...</td>\n",
       "      <td>7.015468</td>\n",
       "      <td>100.841332</td>\n",
       "      <td>65.337892</td>\n",
       "      <td>-54.651373</td>\n",
       "      <td>77.932709</td>\n",
       "      <td>16.487276</td>\n",
       "      <td>-60.048174</td>\n",
       "      <td>16.113686</td>\n",
       "      <td>-42.471264</td>\n",
       "      <td>-3.140685</td>\n",
       "    </tr>\n",
       "    <tr>\n",
       "      <th>15304</th>\n",
       "      <td>2</td>\n",
       "      <td>2</td>\n",
       "      <td>99.817462</td>\n",
       "      <td>65.686670</td>\n",
       "      <td>-55.457478</td>\n",
       "      <td>57.653306</td>\n",
       "      <td>152.188853</td>\n",
       "      <td>6.644935</td>\n",
       "      <td>92.276726</td>\n",
       "      <td>43.845759</td>\n",
       "      <td>...</td>\n",
       "      <td>14.037669</td>\n",
       "      <td>-1.211737</td>\n",
       "      <td>88.672706</td>\n",
       "      <td>10.187398</td>\n",
       "      <td>16.482357</td>\n",
       "      <td>-42.641627</td>\n",
       "      <td>-2.050853</td>\n",
       "      <td>2.582169</td>\n",
       "      <td>127.945490</td>\n",
       "      <td>11.415229</td>\n",
       "    </tr>\n",
       "    <tr>\n",
       "      <th>36818</th>\n",
       "      <td>2</td>\n",
       "      <td>9</td>\n",
       "      <td>71.944991</td>\n",
       "      <td>135.565802</td>\n",
       "      <td>-27.782710</td>\n",
       "      <td>86.536958</td>\n",
       "      <td>66.145021</td>\n",
       "      <td>-39.206386</td>\n",
       "      <td>30.328132</td>\n",
       "      <td>102.824000</td>\n",
       "      <td>...</td>\n",
       "      <td>2.384311</td>\n",
       "      <td>16.416635</td>\n",
       "      <td>127.743800</td>\n",
       "      <td>-19.398255</td>\n",
       "      <td>6.713694</td>\n",
       "      <td>90.193203</td>\n",
       "      <td>-13.508942</td>\n",
       "      <td>84.104979</td>\n",
       "      <td>44.247865</td>\n",
       "      <td>-45.390036</td>\n",
       "    </tr>\n",
       "    <tr>\n",
       "      <th>36819</th>\n",
       "      <td>2</td>\n",
       "      <td>9</td>\n",
       "      <td>86.346749</td>\n",
       "      <td>66.590273</td>\n",
       "      <td>-38.629277</td>\n",
       "      <td>71.496851</td>\n",
       "      <td>90.724686</td>\n",
       "      <td>-28.165732</td>\n",
       "      <td>51.263880</td>\n",
       "      <td>99.415833</td>\n",
       "      <td>...</td>\n",
       "      <td>-12.430796</td>\n",
       "      <td>78.022520</td>\n",
       "      <td>15.748048</td>\n",
       "      <td>-54.007325</td>\n",
       "      <td>4.626282</td>\n",
       "      <td>26.219870</td>\n",
       "      <td>2.409990</td>\n",
       "      <td>84.350011</td>\n",
       "      <td>44.798182</td>\n",
       "      <td>-44.880864</td>\n",
       "    </tr>\n",
       "    <tr>\n",
       "      <th>36820</th>\n",
       "      <td>2</td>\n",
       "      <td>9</td>\n",
       "      <td>72.541023</td>\n",
       "      <td>91.001656</td>\n",
       "      <td>-26.329067</td>\n",
       "      <td>87.507036</td>\n",
       "      <td>67.629524</td>\n",
       "      <td>-36.272075</td>\n",
       "      <td>71.195968</td>\n",
       "      <td>135.058671</td>\n",
       "      <td>...</td>\n",
       "      <td>-54.063723</td>\n",
       "      <td>40.442153</td>\n",
       "      <td>154.436985</td>\n",
       "      <td>-6.757292</td>\n",
       "      <td>83.578826</td>\n",
       "      <td>44.363539</td>\n",
       "      <td>-45.550582</td>\n",
       "      <td>5.494588</td>\n",
       "      <td>26.766967</td>\n",
       "      <td>3.806395</td>\n",
       "    </tr>\n",
       "    <tr>\n",
       "      <th>36821</th>\n",
       "      <td>2</td>\n",
       "      <td>9</td>\n",
       "      <td>85.896607</td>\n",
       "      <td>66.583822</td>\n",
       "      <td>-37.913902</td>\n",
       "      <td>74.132929</td>\n",
       "      <td>136.894500</td>\n",
       "      <td>-22.653122</td>\n",
       "      <td>52.224073</td>\n",
       "      <td>99.803024</td>\n",
       "      <td>...</td>\n",
       "      <td>2.864121</td>\n",
       "      <td>79.149040</td>\n",
       "      <td>17.479158</td>\n",
       "      <td>-52.507950</td>\n",
       "      <td>8.873037</td>\n",
       "      <td>91.569135</td>\n",
       "      <td>-9.106976</td>\n",
       "      <td>84.683328</td>\n",
       "      <td>45.480138</td>\n",
       "      <td>-44.102954</td>\n",
       "    </tr>\n",
       "    <tr>\n",
       "      <th>58312</th>\n",
       "      <td>2</td>\n",
       "      <td>12</td>\n",
       "      <td>44.570107</td>\n",
       "      <td>-57.266639</td>\n",
       "      <td>-7.931448</td>\n",
       "      <td>-81.503690</td>\n",
       "      <td>24.453014</td>\n",
       "      <td>12.449578</td>\n",
       "      <td>-73.746160</td>\n",
       "      <td>-34.949689</td>\n",
       "      <td>...</td>\n",
       "      <td>-7.079423</td>\n",
       "      <td>-99.231688</td>\n",
       "      <td>-8.725178</td>\n",
       "      <td>-45.804943</td>\n",
       "      <td>-64.375721</td>\n",
       "      <td>30.053873</td>\n",
       "      <td>12.782347</td>\n",
       "      <td>-49.186560</td>\n",
       "      <td>40.596278</td>\n",
       "      <td>10.331652</td>\n",
       "    </tr>\n",
       "    <tr>\n",
       "      <th>58313</th>\n",
       "      <td>2</td>\n",
       "      <td>12</td>\n",
       "      <td>46.229579</td>\n",
       "      <td>-56.123369</td>\n",
       "      <td>-9.292431</td>\n",
       "      <td>51.743311</td>\n",
       "      <td>-34.453451</td>\n",
       "      <td>-4.715155</td>\n",
       "      <td>25.156460</td>\n",
       "      <td>-63.466324</td>\n",
       "      <td>...</td>\n",
       "      <td>-12.780852</td>\n",
       "      <td>-71.795603</td>\n",
       "      <td>52.427854</td>\n",
       "      <td>15.856993</td>\n",
       "      <td>-63.184713</td>\n",
       "      <td>30.249366</td>\n",
       "      <td>11.912254</td>\n",
       "      <td>-48.593433</td>\n",
       "      <td>40.528996</td>\n",
       "      <td>10.383901</td>\n",
       "    </tr>\n",
       "    <tr>\n",
       "      <th>58314</th>\n",
       "      <td>2</td>\n",
       "      <td>12</td>\n",
       "      <td>-98.473308</td>\n",
       "      <td>-8.978293</td>\n",
       "      <td>-45.625495</td>\n",
       "      <td>-7.327416</td>\n",
       "      <td>-22.373579</td>\n",
       "      <td>-5.692506</td>\n",
       "      <td>-22.435115</td>\n",
       "      <td>-40.226382</td>\n",
       "      <td>...</td>\n",
       "      <td>-3.752423</td>\n",
       "      <td>45.647405</td>\n",
       "      <td>-56.624884</td>\n",
       "      <td>-9.143981</td>\n",
       "      <td>-48.050911</td>\n",
       "      <td>40.569113</td>\n",
       "      <td>10.226653</td>\n",
       "      <td>-63.042637</td>\n",
       "      <td>29.858839</td>\n",
       "      <td>12.452322</td>\n",
       "    </tr>\n",
       "  </tbody>\n",
       "</table>\n",
       "<p>10 rows × 38 columns</p>\n",
       "</div>"
      ],
      "text/plain": [
       "       Class  User         X0          Y0         Z0         X1          Y1  \\\n",
       "0          0     0   0.000000    0.000000   0.000000   0.000000    0.000000   \n",
       "15303      2     2  27.418588  148.216120  14.770587  49.129027   99.723134   \n",
       "15304      2     2  99.817462   65.686670 -55.457478  57.653306  152.188853   \n",
       "36818      2     9  71.944991  135.565802 -27.782710  86.536958   66.145021   \n",
       "36819      2     9  86.346749   66.590273 -38.629277  71.496851   90.724686   \n",
       "36820      2     9  72.541023   91.001656 -26.329067  87.507036   67.629524   \n",
       "36821      2     9  85.896607   66.583822 -37.913902  74.132929  136.894500   \n",
       "58312      2    12  44.570107  -57.266639  -7.931448 -81.503690   24.453014   \n",
       "58313      2    12  46.229579  -56.123369  -9.292431  51.743311  -34.453451   \n",
       "58314      2    12 -98.473308   -8.978293 -45.625495  -7.327416  -22.373579   \n",
       "\n",
       "              Z1         X2          Y2    ...             Z8          X9  \\\n",
       "0       0.000000   0.000000    0.000000    ...       0.000000    0.000000   \n",
       "15303   0.883278  92.301344   43.900549    ...       7.015468  100.841332   \n",
       "15304   6.644935  92.276726   43.845759    ...      14.037669   -1.211737   \n",
       "36818 -39.206386  30.328132  102.824000    ...       2.384311   16.416635   \n",
       "36819 -28.165732  51.263880   99.415833    ...     -12.430796   78.022520   \n",
       "36820 -36.272075  71.195968  135.058671    ...     -54.063723   40.442153   \n",
       "36821 -22.653122  52.224073   99.803024    ...       2.864121   79.149040   \n",
       "58312  12.449578 -73.746160  -34.949689    ...      -7.079423  -99.231688   \n",
       "58313  -4.715155  25.156460  -63.466324    ...     -12.780852  -71.795603   \n",
       "58314  -5.692506 -22.435115  -40.226382    ...      -3.752423   45.647405   \n",
       "\n",
       "               Y9         Z9        X10        Y10        Z10        X11  \\\n",
       "0        0.000000   0.000000   0.000000   0.000000   0.000000   0.000000   \n",
       "15303   65.337892 -54.651373  77.932709  16.487276 -60.048174  16.113686   \n",
       "15304   88.672706  10.187398  16.482357 -42.641627  -2.050853   2.582169   \n",
       "36818  127.743800 -19.398255   6.713694  90.193203 -13.508942  84.104979   \n",
       "36819   15.748048 -54.007325   4.626282  26.219870   2.409990  84.350011   \n",
       "36820  154.436985  -6.757292  83.578826  44.363539 -45.550582   5.494588   \n",
       "36821   17.479158 -52.507950   8.873037  91.569135  -9.106976  84.683328   \n",
       "58312   -8.725178 -45.804943 -64.375721  30.053873  12.782347 -49.186560   \n",
       "58313   52.427854  15.856993 -63.184713  30.249366  11.912254 -48.593433   \n",
       "58314  -56.624884  -9.143981 -48.050911  40.569113  10.226653 -63.042637   \n",
       "\n",
       "              Y11        Z11  \n",
       "0        0.000000   0.000000  \n",
       "15303  -42.471264  -3.140685  \n",
       "15304  127.945490  11.415229  \n",
       "36818   44.247865 -45.390036  \n",
       "36819   44.798182 -44.880864  \n",
       "36820   26.766967   3.806395  \n",
       "36821   45.480138 -44.102954  \n",
       "58312   40.596278  10.331652  \n",
       "58313   40.528996  10.383901  \n",
       "58314   29.858839  12.452322  \n",
       "\n",
       "[10 rows x 38 columns]"
      ]
     },
     "execution_count": 11,
     "metadata": {},
     "output_type": "execute_result"
    }
   ],
   "source": [
    "import pandas as pd\n",
    "\n",
    "df = pd.read_csv('C:/Users/issohl/Downloads/Postures/Postures.csv')\n",
    "df = df.apply(pd.to_numeric, errors='coerce').dropna()\n",
    "df.head(10)"
   ]
  },
  {
   "cell_type": "code",
   "execution_count": null,
   "metadata": {},
   "outputs": [],
   "source": []
  }
 ],
 "metadata": {
  "celltoolbar": "Slideshow",
  "kernelspec": {
   "display_name": "Python 3",
   "language": "python",
   "name": "python3"
  },
  "language_info": {
   "codemirror_mode": {
    "name": "ipython",
    "version": 3
   },
   "file_extension": ".py",
   "mimetype": "text/x-python",
   "name": "python",
   "nbconvert_exporter": "python",
   "pygments_lexer": "ipython3",
   "version": "3.6.5"
  },
  "livereveal": {
   "autolaunch": false,
   "overlay": "<div class='logo'><img src='assets/Stackup_Logo_Small.png' width='90%'/></div>"
  }
 },
 "nbformat": 4,
 "nbformat_minor": 2
}
