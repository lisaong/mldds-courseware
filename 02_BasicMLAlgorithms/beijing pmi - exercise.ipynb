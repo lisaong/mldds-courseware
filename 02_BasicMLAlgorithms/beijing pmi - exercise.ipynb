{
 "cells": [
  {
   "cell_type": "markdown",
   "metadata": {},
   "source": [
    "# Exercise - Basic Training Workflow"
   ]
  },
  {
   "cell_type": "markdown",
   "metadata": {},
   "source": [
    "## Objective\n",
    "Predict PM2.5 concentration based on the other features."
   ]
  },
  {
   "cell_type": "markdown",
   "metadata": {},
   "source": [
    "# Dataset\n",
    "\n",
    "https://archive.ics.uci.edu/ml/datasets/Beijing+PM2.5+Data"
   ]
  },
  {
   "cell_type": "markdown",
   "metadata": {},
   "source": [
    "# Tasks\n",
    "\n",
    "1. Import data through read_csv\n",
    "2. Explore / transform / clean data\n",
    "3. Shuffle data and split into training and test sets\n",
    "4. Scale the training and test sets\n",
    "5. Train linear regression and evaluate metrics\n",
    "6. Train linear regression with Stochastic Gradient Descent and evaluate metrics\n",
    "7. Get a prediction"
   ]
  },
  {
   "cell_type": "code",
   "execution_count": null,
   "metadata": {},
   "outputs": [],
   "source": []
  },
  {
   "cell_type": "markdown",
   "metadata": {},
   "source": [
    "## 1. Import data through read_csv \n",
    "\n",
    "(Estimated time: 30 min)\n",
    "\n",
    "Check:\n",
    "- Did the data import correctly?\n",
    "- What are the types of each column? Are there non-numeric types?\n",
    "- How large is the dataset?"
   ]
  },
  {
   "cell_type": "code",
   "execution_count": null,
   "metadata": {},
   "outputs": [],
   "source": []
  },
  {
   "cell_type": "code",
   "execution_count": null,
   "metadata": {},
   "outputs": [],
   "source": []
  },
  {
   "cell_type": "code",
   "execution_count": null,
   "metadata": {},
   "outputs": [],
   "source": []
  },
  {
   "cell_type": "markdown",
   "metadata": {},
   "source": [
    "## 2. Explore / transform / clean data \n",
    "\n",
    "(Estimated time: 60 min)\n",
    "\n",
    "You should:\n",
    "- do something with the NaN values\n",
    "- ignore the non-numeric column for now. We will cover label encoding later (if you are really curious or want to try it, open clustering.ipynb and search for 'LabelEncoder').\n",
    "- plot the data to see if there is a correlation. You can choose to:\n",
    "   - plot the data in 2d or 3d after applying PCA to reduce dimensions, or\n",
    "   - plot multiple plots per column"
   ]
  },
  {
   "cell_type": "code",
   "execution_count": null,
   "metadata": {},
   "outputs": [],
   "source": []
  },
  {
   "cell_type": "code",
   "execution_count": null,
   "metadata": {},
   "outputs": [],
   "source": []
  },
  {
   "cell_type": "code",
   "execution_count": null,
   "metadata": {},
   "outputs": [],
   "source": []
  },
  {
   "cell_type": "markdown",
   "metadata": {},
   "source": [
    "## 3. Shuffle data and split into training and test sets \n",
    "\n",
    "(Estimated time: 20 min)"
   ]
  },
  {
   "cell_type": "code",
   "execution_count": null,
   "metadata": {},
   "outputs": [],
   "source": []
  },
  {
   "cell_type": "code",
   "execution_count": null,
   "metadata": {},
   "outputs": [],
   "source": []
  },
  {
   "cell_type": "code",
   "execution_count": null,
   "metadata": {},
   "outputs": [],
   "source": []
  },
  {
   "cell_type": "markdown",
   "metadata": {},
   "source": [
    "## 4. Scale the training and test sets \n",
    "\n",
    "(Estimated time: 20 min)"
   ]
  },
  {
   "cell_type": "code",
   "execution_count": null,
   "metadata": {},
   "outputs": [],
   "source": []
  },
  {
   "cell_type": "code",
   "execution_count": null,
   "metadata": {},
   "outputs": [],
   "source": []
  },
  {
   "cell_type": "code",
   "execution_count": null,
   "metadata": {},
   "outputs": [],
   "source": []
  },
  {
   "cell_type": "markdown",
   "metadata": {},
   "source": [
    "## 5. Train linear regression and evaluate metrics \n",
    "\n",
    "- Use LinearRegression to fit a linear model on the training data.\n",
    "- Evaluate the metrics for this model using r2_score and mean_square_error\n",
    "\n",
    "(Estimated time: 20 min)"
   ]
  },
  {
   "cell_type": "code",
   "execution_count": null,
   "metadata": {},
   "outputs": [],
   "source": []
  },
  {
   "cell_type": "code",
   "execution_count": null,
   "metadata": {},
   "outputs": [],
   "source": []
  },
  {
   "cell_type": "code",
   "execution_count": null,
   "metadata": {},
   "outputs": [],
   "source": []
  },
  {
   "cell_type": "markdown",
   "metadata": {},
   "source": [
    "## 6. Train linear regression with Stochastic Gradient Descent and evaluate metrics \n",
    "\n",
    "Use SGDRegressor to train a linear model using SGD\n",
    "- Evaluate the metrics for this model using r2_score and mean_square_error\n",
    "- Play around with the parameters to see how the loss is affected\n",
    "\n",
    "(Estimated time: 30 min)"
   ]
  },
  {
   "cell_type": "code",
   "execution_count": null,
   "metadata": {},
   "outputs": [],
   "source": []
  },
  {
   "cell_type": "code",
   "execution_count": null,
   "metadata": {},
   "outputs": [],
   "source": []
  },
  {
   "cell_type": "code",
   "execution_count": null,
   "metadata": {},
   "outputs": [],
   "source": []
  },
  {
   "cell_type": "markdown",
   "metadata": {},
   "source": [
    "## 7. Get a prediction\n",
    "\n",
    "Get a few samples from the test dataset (test_X, test_y) and use them to get predictions from both models.\n",
    "\n",
    "The goal is to simulate how the models will be called from python when they are deployed with real data.\n",
    "\n",
    "(Estimated time: 30 min)"
   ]
  },
  {
   "cell_type": "code",
   "execution_count": null,
   "metadata": {},
   "outputs": [],
   "source": []
  },
  {
   "cell_type": "code",
   "execution_count": null,
   "metadata": {},
   "outputs": [],
   "source": []
  },
  {
   "cell_type": "code",
   "execution_count": null,
   "metadata": {},
   "outputs": [],
   "source": []
  },
  {
   "cell_type": "code",
   "execution_count": null,
   "metadata": {},
   "outputs": [],
   "source": []
  }
 ],
 "metadata": {
  "kernelspec": {
   "display_name": "Python 3",
   "language": "python",
   "name": "python3"
  },
  "language_info": {
   "codemirror_mode": {
    "name": "ipython",
    "version": 3
   },
   "file_extension": ".py",
   "mimetype": "text/x-python",
   "name": "python",
   "nbconvert_exporter": "python",
   "pygments_lexer": "ipython3",
   "version": "3.6.5"
  }
 },
 "nbformat": 4,
 "nbformat_minor": 2
}
