{
 "cells": [
  {
   "cell_type": "markdown",
   "metadata": {},
   "source": [
    "# Trees, Forests, and Ensembles\n",
    "\n",
    "![japanese maple](assets/trees/japanese-maple-2947680_640.jpg)\n",
    "\n",
    "(image: [pixabay](https://pixabay.com/en/japanese-maple-foliage-green-leaves-2947680/))"
   ]
  },
  {
   "cell_type": "markdown",
   "metadata": {
    "slideshow": {
     "slide_type": "slide"
    }
   },
   "source": [
    "## Where are we?\n",
    "\n",
    "(lost in the forest?)\n",
    "\n",
    "![spot the trees](assets/linear-regression/machine-learning-cheet-sheet.png)\n",
    "\n",
    "(image: [sas.com](https://www.sas.com/en_us/insights/analytics/machine-learning.html))"
   ]
  },
  {
   "cell_type": "markdown",
   "metadata": {
    "slideshow": {
     "slide_type": "slide"
    }
   },
   "source": [
    "## Decision Trees\n",
    "- Classification: predicts a class\n",
    "- Regression: predicts a number\n",
    "\n",
    "http://scikit-learn.org/stable/modules/tree.html"
   ]
  },
  {
   "cell_type": "markdown",
   "metadata": {
    "slideshow": {
     "slide_type": "slide"
    }
   },
   "source": [
    "## Decision Trees\n",
    "\n",
    "Advantanges:\n",
    "- Easy to visualize and understand\n",
    "- $O(log(N))$ prediction cost\n",
    "- Flexible for simple tasks: binary / multi-class classification, regression"
   ]
  },
  {
   "cell_type": "markdown",
   "metadata": {
    "slideshow": {
     "slide_type": "slide"
    }
   },
   "source": [
    "## Decision Trees\n",
    "\n",
    "Disadvantages:\n",
    "- Overfitting\n",
    "- Unbalanced dataset can cause biased trees\n",
    "- Instability: small changes in data can result in completely different tree"
   ]
  },
  {
   "cell_type": "markdown",
   "metadata": {
    "slideshow": {
     "slide_type": "slide"
    }
   },
   "source": [
    "## Ensemble Methods\n",
    "\n",
    "- Gradient Boosted Decision Tree\n",
    "- Random Forest"
   ]
  },
  {
   "cell_type": "markdown",
   "metadata": {
    "slideshow": {
     "slide_type": "slide"
    }
   },
   "source": [
    "## Gradient Boosted Trees\n",
    "\n",
    "https://en.wikipedia.org/wiki/Gradient_boosting#Gradient_tree_boosting"
   ]
  },
  {
   "cell_type": "markdown",
   "metadata": {
    "slideshow": {
     "slide_type": "slide"
    }
   },
   "source": [
    "## Random Forests"
   ]
  },
  {
   "cell_type": "markdown",
   "metadata": {
    "slideshow": {
     "slide_type": "slide"
    }
   },
   "source": [
    "## Split Metrics\n",
    "- Gini: gini impurity, which measures the quality of a split\n",
    "  - greater than 0: split needed\n",
    "  - 0: all cases fall in 1 category\n",
    "\n",
    "- Information gain / entropy\n",
    "  - pick the split with the highest information gain"
   ]
  },
  {
   "cell_type": "markdown",
   "metadata": {
    "slideshow": {
     "slide_type": "slide"
    }
   },
   "source": [
    "## Workshop: Classification with Decision Trees\n",
    "\n",
    "Credits: http://scikit-learn.org/stable/modules/tree.html#classification"
   ]
  },
  {
   "cell_type": "markdown",
   "metadata": {
    "slideshow": {
     "slide_type": "slide"
    }
   },
   "source": [
    "### Setup\n",
    "\n",
    "We'll be using Graphviz to visualize the decision tree after training it.\n",
    "\n",
    "Add this module to your `mldds02` conda environment:\n",
    "\n",
    "```\n",
    "conda install python-graphviz\n",
    "```"
   ]
  },
  {
   "cell_type": "markdown",
   "metadata": {
    "slideshow": {
     "slide_type": "slide"
    }
   },
   "source": [
    "### Dataset - Research and Development Expenditure by Type of Cost\n",
    "\n",
    "https://data.gov.sg/dataset/research-and-development-expenditure-by-type-of-cost\n",
    "\n",
    "1. Download dataset from the above URL\n",
    "2. Extract the folder and note the path for use in `read_csv` below."
   ]
  },
  {
   "cell_type": "markdown",
   "metadata": {
    "slideshow": {
     "slide_type": "slide"
    }
   },
   "source": [
    "sklearn.tree.DecisionTreeClassifier documentation:\n",
    "\n",
    "http://scikit-learn.org/stable/modules/generated/sklearn.tree.DecisionTreeClassifier.html"
   ]
  },
  {
   "cell_type": "code",
   "execution_count": 2,
   "metadata": {
    "slideshow": {
     "slide_type": "-"
    }
   },
   "outputs": [],
   "source": [
    "from sklearn.tree import DecisionTreeClassifier\n",
    "\n",
    "DecisionTreeClassifier?"
   ]
  },
  {
   "cell_type": "code",
   "execution_count": 3,
   "metadata": {
    "slideshow": {
     "slide_type": "-"
    }
   },
   "outputs": [
    {
     "data": {
      "text/html": [
       "<div>\n",
       "<style scoped>\n",
       "    .dataframe tbody tr th:only-of-type {\n",
       "        vertical-align: middle;\n",
       "    }\n",
       "\n",
       "    .dataframe tbody tr th {\n",
       "        vertical-align: top;\n",
       "    }\n",
       "\n",
       "    .dataframe thead th {\n",
       "        text-align: right;\n",
       "    }\n",
       "</style>\n",
       "<table border=\"1\" class=\"dataframe\">\n",
       "  <thead>\n",
       "    <tr style=\"text-align: right;\">\n",
       "      <th></th>\n",
       "      <th>sector</th>\n",
       "      <th>type_of_expenditure</th>\n",
       "      <th>type_of_cost</th>\n",
       "      <th>rnd_expenditure</th>\n",
       "    </tr>\n",
       "  </thead>\n",
       "  <tbody>\n",
       "    <tr>\n",
       "      <th>0</th>\n",
       "      <td>Private Sector</td>\n",
       "      <td>Capital Expenditure</td>\n",
       "      <td>Land, Buildings &amp; Other Structures</td>\n",
       "      <td>231.79</td>\n",
       "    </tr>\n",
       "    <tr>\n",
       "      <th>1</th>\n",
       "      <td>Private Sector</td>\n",
       "      <td>Capital Expenditure</td>\n",
       "      <td>Vehicles, Plant, Machinery &amp; Equipment</td>\n",
       "      <td>670.82</td>\n",
       "    </tr>\n",
       "    <tr>\n",
       "      <th>2</th>\n",
       "      <td>Private Sector</td>\n",
       "      <td>Manpower Expenditure</td>\n",
       "      <td>Researchers</td>\n",
       "      <td>1914.63</td>\n",
       "    </tr>\n",
       "    <tr>\n",
       "      <th>3</th>\n",
       "      <td>Private Sector</td>\n",
       "      <td>Manpower Expenditure</td>\n",
       "      <td>Technicians</td>\n",
       "      <td>75.70</td>\n",
       "    </tr>\n",
       "    <tr>\n",
       "      <th>4</th>\n",
       "      <td>Private Sector</td>\n",
       "      <td>Manpower Expenditure</td>\n",
       "      <td>Other Supporting Staff</td>\n",
       "      <td>134.54</td>\n",
       "    </tr>\n",
       "  </tbody>\n",
       "</table>\n",
       "</div>"
      ],
      "text/plain": [
       "           sector   type_of_expenditure  \\\n",
       "0  Private Sector   Capital Expenditure   \n",
       "1  Private Sector   Capital Expenditure   \n",
       "2  Private Sector  Manpower Expenditure   \n",
       "3  Private Sector  Manpower Expenditure   \n",
       "4  Private Sector  Manpower Expenditure   \n",
       "\n",
       "                             type_of_cost  rnd_expenditure  \n",
       "0      Land, Buildings & Other Structures           231.79  \n",
       "1  Vehicles, Plant, Machinery & Equipment           670.82  \n",
       "2                             Researchers          1914.63  \n",
       "3                             Technicians            75.70  \n",
       "4                  Other Supporting Staff           134.54  "
      ]
     },
     "execution_count": 3,
     "metadata": {},
     "output_type": "execute_result"
    }
   ],
   "source": [
    "import pandas as pd\n",
    "\n",
    "df = pd.read_csv('D:/tmp/research-and-development-expenditure-by-type-of-cost/research-and-development-expenditure-by-type-of-cost.csv',\n",
    "\n",
    "                 usecols=['sector', 'type_of_expenditure', 'type_of_cost', 'rnd_expenditure'])\n",
    "df.head()"
   ]
  },
  {
   "cell_type": "code",
   "execution_count": 4,
   "metadata": {},
   "outputs": [
    {
     "data": {
      "text/html": [
       "<div>\n",
       "<style scoped>\n",
       "    .dataframe tbody tr th:only-of-type {\n",
       "        vertical-align: middle;\n",
       "    }\n",
       "\n",
       "    .dataframe tbody tr th {\n",
       "        vertical-align: top;\n",
       "    }\n",
       "\n",
       "    .dataframe thead th {\n",
       "        text-align: right;\n",
       "    }\n",
       "</style>\n",
       "<table border=\"1\" class=\"dataframe\">\n",
       "  <thead>\n",
       "    <tr style=\"text-align: right;\">\n",
       "      <th></th>\n",
       "      <th>sector</th>\n",
       "      <th>type_of_expenditure</th>\n",
       "      <th>type_of_cost</th>\n",
       "      <th>rnd_expenditure</th>\n",
       "      <th>sector_c</th>\n",
       "    </tr>\n",
       "  </thead>\n",
       "  <tbody>\n",
       "    <tr>\n",
       "      <th>0</th>\n",
       "      <td>Private Sector</td>\n",
       "      <td>Capital Expenditure</td>\n",
       "      <td>Land, Buildings &amp; Other Structures</td>\n",
       "      <td>231.79</td>\n",
       "      <td>2</td>\n",
       "    </tr>\n",
       "    <tr>\n",
       "      <th>1</th>\n",
       "      <td>Private Sector</td>\n",
       "      <td>Capital Expenditure</td>\n",
       "      <td>Vehicles, Plant, Machinery &amp; Equipment</td>\n",
       "      <td>670.82</td>\n",
       "      <td>2</td>\n",
       "    </tr>\n",
       "    <tr>\n",
       "      <th>2</th>\n",
       "      <td>Private Sector</td>\n",
       "      <td>Manpower Expenditure</td>\n",
       "      <td>Researchers</td>\n",
       "      <td>1914.63</td>\n",
       "      <td>2</td>\n",
       "    </tr>\n",
       "    <tr>\n",
       "      <th>3</th>\n",
       "      <td>Private Sector</td>\n",
       "      <td>Manpower Expenditure</td>\n",
       "      <td>Technicians</td>\n",
       "      <td>75.70</td>\n",
       "      <td>2</td>\n",
       "    </tr>\n",
       "    <tr>\n",
       "      <th>4</th>\n",
       "      <td>Private Sector</td>\n",
       "      <td>Manpower Expenditure</td>\n",
       "      <td>Other Supporting Staff</td>\n",
       "      <td>134.54</td>\n",
       "      <td>2</td>\n",
       "    </tr>\n",
       "    <tr>\n",
       "      <th>5</th>\n",
       "      <td>Private Sector</td>\n",
       "      <td>Other Operating Expenditure</td>\n",
       "      <td>Other Operating Costs</td>\n",
       "      <td>2188.18</td>\n",
       "      <td>2</td>\n",
       "    </tr>\n",
       "    <tr>\n",
       "      <th>6</th>\n",
       "      <td>Government Sector</td>\n",
       "      <td>Capital Expenditure</td>\n",
       "      <td>Land, Buildings &amp; Other Structures</td>\n",
       "      <td>27.17</td>\n",
       "      <td>0</td>\n",
       "    </tr>\n",
       "    <tr>\n",
       "      <th>7</th>\n",
       "      <td>Government Sector</td>\n",
       "      <td>Capital Expenditure</td>\n",
       "      <td>Vehicles, Plant, Machinery &amp; Equipment</td>\n",
       "      <td>30.05</td>\n",
       "      <td>0</td>\n",
       "    </tr>\n",
       "    <tr>\n",
       "      <th>8</th>\n",
       "      <td>Government Sector</td>\n",
       "      <td>Manpower Expenditure</td>\n",
       "      <td>Researchers</td>\n",
       "      <td>304.45</td>\n",
       "      <td>0</td>\n",
       "    </tr>\n",
       "    <tr>\n",
       "      <th>9</th>\n",
       "      <td>Government Sector</td>\n",
       "      <td>Manpower Expenditure</td>\n",
       "      <td>Technicians</td>\n",
       "      <td>33.21</td>\n",
       "      <td>0</td>\n",
       "    </tr>\n",
       "  </tbody>\n",
       "</table>\n",
       "</div>"
      ],
      "text/plain": [
       "              sector          type_of_expenditure  \\\n",
       "0     Private Sector          Capital Expenditure   \n",
       "1     Private Sector          Capital Expenditure   \n",
       "2     Private Sector         Manpower Expenditure   \n",
       "3     Private Sector         Manpower Expenditure   \n",
       "4     Private Sector         Manpower Expenditure   \n",
       "5     Private Sector  Other Operating Expenditure   \n",
       "6  Government Sector          Capital Expenditure   \n",
       "7  Government Sector          Capital Expenditure   \n",
       "8  Government Sector         Manpower Expenditure   \n",
       "9  Government Sector         Manpower Expenditure   \n",
       "\n",
       "                             type_of_cost  rnd_expenditure  sector_c  \n",
       "0      Land, Buildings & Other Structures           231.79         2  \n",
       "1  Vehicles, Plant, Machinery & Equipment           670.82         2  \n",
       "2                             Researchers          1914.63         2  \n",
       "3                             Technicians            75.70         2  \n",
       "4                  Other Supporting Staff           134.54         2  \n",
       "5                   Other Operating Costs          2188.18         2  \n",
       "6      Land, Buildings & Other Structures            27.17         0  \n",
       "7  Vehicles, Plant, Machinery & Equipment            30.05         0  \n",
       "8                             Researchers           304.45         0  \n",
       "9                             Technicians            33.21         0  "
      ]
     },
     "execution_count": 4,
     "metadata": {},
     "output_type": "execute_result"
    }
   ],
   "source": [
    "from sklearn.preprocessing import LabelEncoder\n",
    "\n",
    "le = LabelEncoder()\n",
    "\n",
    "# encode sector from strings to integer labels\n",
    "df['sector_c'] = le.fit_transform(df['sector'])\n",
    "df.head(10)"
   ]
  },
  {
   "cell_type": "markdown",
   "metadata": {
    "slideshow": {
     "slide_type": "-"
    }
   },
   "source": [
    "### Exercise: Label Encoding\n",
    "\n",
    "Encode the `type_of_expenditure` and `type_of_cost` columns in a similar way as above.\n",
    "\n",
    "Other ways to encode labels: http://pbpython.com/categorical-encoding.html"
   ]
  },
  {
   "cell_type": "code",
   "execution_count": 5,
   "metadata": {
    "slideshow": {
     "slide_type": "-"
    }
   },
   "outputs": [
    {
     "data": {
      "text/html": [
       "<div>\n",
       "<style scoped>\n",
       "    .dataframe tbody tr th:only-of-type {\n",
       "        vertical-align: middle;\n",
       "    }\n",
       "\n",
       "    .dataframe tbody tr th {\n",
       "        vertical-align: top;\n",
       "    }\n",
       "\n",
       "    .dataframe thead th {\n",
       "        text-align: right;\n",
       "    }\n",
       "</style>\n",
       "<table border=\"1\" class=\"dataframe\">\n",
       "  <thead>\n",
       "    <tr style=\"text-align: right;\">\n",
       "      <th></th>\n",
       "      <th>sector</th>\n",
       "      <th>type_of_expenditure</th>\n",
       "      <th>type_of_cost</th>\n",
       "      <th>rnd_expenditure</th>\n",
       "      <th>sector_c</th>\n",
       "      <th>type_of_expenditure_c</th>\n",
       "      <th>type_of_cost_c</th>\n",
       "    </tr>\n",
       "  </thead>\n",
       "  <tbody>\n",
       "    <tr>\n",
       "      <th>0</th>\n",
       "      <td>Private Sector</td>\n",
       "      <td>Capital Expenditure</td>\n",
       "      <td>Land, Buildings &amp; Other Structures</td>\n",
       "      <td>231.79</td>\n",
       "      <td>2</td>\n",
       "      <td>0</td>\n",
       "      <td>0</td>\n",
       "    </tr>\n",
       "    <tr>\n",
       "      <th>1</th>\n",
       "      <td>Private Sector</td>\n",
       "      <td>Capital Expenditure</td>\n",
       "      <td>Vehicles, Plant, Machinery &amp; Equipment</td>\n",
       "      <td>670.82</td>\n",
       "      <td>2</td>\n",
       "      <td>0</td>\n",
       "      <td>5</td>\n",
       "    </tr>\n",
       "    <tr>\n",
       "      <th>2</th>\n",
       "      <td>Private Sector</td>\n",
       "      <td>Manpower Expenditure</td>\n",
       "      <td>Researchers</td>\n",
       "      <td>1914.63</td>\n",
       "      <td>2</td>\n",
       "      <td>1</td>\n",
       "      <td>3</td>\n",
       "    </tr>\n",
       "    <tr>\n",
       "      <th>3</th>\n",
       "      <td>Private Sector</td>\n",
       "      <td>Manpower Expenditure</td>\n",
       "      <td>Technicians</td>\n",
       "      <td>75.70</td>\n",
       "      <td>2</td>\n",
       "      <td>1</td>\n",
       "      <td>4</td>\n",
       "    </tr>\n",
       "    <tr>\n",
       "      <th>4</th>\n",
       "      <td>Private Sector</td>\n",
       "      <td>Manpower Expenditure</td>\n",
       "      <td>Other Supporting Staff</td>\n",
       "      <td>134.54</td>\n",
       "      <td>2</td>\n",
       "      <td>1</td>\n",
       "      <td>2</td>\n",
       "    </tr>\n",
       "    <tr>\n",
       "      <th>5</th>\n",
       "      <td>Private Sector</td>\n",
       "      <td>Other Operating Expenditure</td>\n",
       "      <td>Other Operating Costs</td>\n",
       "      <td>2188.18</td>\n",
       "      <td>2</td>\n",
       "      <td>2</td>\n",
       "      <td>1</td>\n",
       "    </tr>\n",
       "    <tr>\n",
       "      <th>6</th>\n",
       "      <td>Government Sector</td>\n",
       "      <td>Capital Expenditure</td>\n",
       "      <td>Land, Buildings &amp; Other Structures</td>\n",
       "      <td>27.17</td>\n",
       "      <td>0</td>\n",
       "      <td>0</td>\n",
       "      <td>0</td>\n",
       "    </tr>\n",
       "    <tr>\n",
       "      <th>7</th>\n",
       "      <td>Government Sector</td>\n",
       "      <td>Capital Expenditure</td>\n",
       "      <td>Vehicles, Plant, Machinery &amp; Equipment</td>\n",
       "      <td>30.05</td>\n",
       "      <td>0</td>\n",
       "      <td>0</td>\n",
       "      <td>5</td>\n",
       "    </tr>\n",
       "    <tr>\n",
       "      <th>8</th>\n",
       "      <td>Government Sector</td>\n",
       "      <td>Manpower Expenditure</td>\n",
       "      <td>Researchers</td>\n",
       "      <td>304.45</td>\n",
       "      <td>0</td>\n",
       "      <td>1</td>\n",
       "      <td>3</td>\n",
       "    </tr>\n",
       "    <tr>\n",
       "      <th>9</th>\n",
       "      <td>Government Sector</td>\n",
       "      <td>Manpower Expenditure</td>\n",
       "      <td>Technicians</td>\n",
       "      <td>33.21</td>\n",
       "      <td>0</td>\n",
       "      <td>1</td>\n",
       "      <td>4</td>\n",
       "    </tr>\n",
       "  </tbody>\n",
       "</table>\n",
       "</div>"
      ],
      "text/plain": [
       "              sector          type_of_expenditure  \\\n",
       "0     Private Sector          Capital Expenditure   \n",
       "1     Private Sector          Capital Expenditure   \n",
       "2     Private Sector         Manpower Expenditure   \n",
       "3     Private Sector         Manpower Expenditure   \n",
       "4     Private Sector         Manpower Expenditure   \n",
       "5     Private Sector  Other Operating Expenditure   \n",
       "6  Government Sector          Capital Expenditure   \n",
       "7  Government Sector          Capital Expenditure   \n",
       "8  Government Sector         Manpower Expenditure   \n",
       "9  Government Sector         Manpower Expenditure   \n",
       "\n",
       "                             type_of_cost  rnd_expenditure  sector_c  \\\n",
       "0      Land, Buildings & Other Structures           231.79         2   \n",
       "1  Vehicles, Plant, Machinery & Equipment           670.82         2   \n",
       "2                             Researchers          1914.63         2   \n",
       "3                             Technicians            75.70         2   \n",
       "4                  Other Supporting Staff           134.54         2   \n",
       "5                   Other Operating Costs          2188.18         2   \n",
       "6      Land, Buildings & Other Structures            27.17         0   \n",
       "7  Vehicles, Plant, Machinery & Equipment            30.05         0   \n",
       "8                             Researchers           304.45         0   \n",
       "9                             Technicians            33.21         0   \n",
       "\n",
       "   type_of_expenditure_c  type_of_cost_c  \n",
       "0                      0               0  \n",
       "1                      0               5  \n",
       "2                      1               3  \n",
       "3                      1               4  \n",
       "4                      1               2  \n",
       "5                      2               1  \n",
       "6                      0               0  \n",
       "7                      0               5  \n",
       "8                      1               3  \n",
       "9                      1               4  "
      ]
     },
     "execution_count": 5,
     "metadata": {},
     "output_type": "execute_result"
    }
   ],
   "source": [
    "# Your code here\n",
    "\n",
    "df['type_of_expenditure_c'] = le.fit_transform(df['type_of_expenditure'])\n",
    "df['type_of_cost_c'] = le.fit_transform(df['type_of_cost'])\n",
    "\n",
    "df.head(10)"
   ]
  },
  {
   "cell_type": "code",
   "execution_count": 6,
   "metadata": {
    "slideshow": {
     "slide_type": "-"
    }
   },
   "outputs": [],
   "source": [
    "data = df[['rnd_expenditure', 'type_of_expenditure_c', 'type_of_cost_c']]\n",
    "target = df['sector_c']"
   ]
  },
  {
   "cell_type": "code",
   "execution_count": 7,
   "metadata": {},
   "outputs": [
    {
     "data": {
      "text/html": [
       "<div>\n",
       "<style scoped>\n",
       "    .dataframe tbody tr th:only-of-type {\n",
       "        vertical-align: middle;\n",
       "    }\n",
       "\n",
       "    .dataframe tbody tr th {\n",
       "        vertical-align: top;\n",
       "    }\n",
       "\n",
       "    .dataframe thead th {\n",
       "        text-align: right;\n",
       "    }\n",
       "</style>\n",
       "<table border=\"1\" class=\"dataframe\">\n",
       "  <thead>\n",
       "    <tr style=\"text-align: right;\">\n",
       "      <th></th>\n",
       "      <th>rnd_expenditure</th>\n",
       "      <th>type_of_expenditure_c</th>\n",
       "      <th>type_of_cost_c</th>\n",
       "    </tr>\n",
       "  </thead>\n",
       "  <tbody>\n",
       "    <tr>\n",
       "      <th>0</th>\n",
       "      <td>231.79</td>\n",
       "      <td>0</td>\n",
       "      <td>0</td>\n",
       "    </tr>\n",
       "    <tr>\n",
       "      <th>1</th>\n",
       "      <td>670.82</td>\n",
       "      <td>0</td>\n",
       "      <td>5</td>\n",
       "    </tr>\n",
       "    <tr>\n",
       "      <th>2</th>\n",
       "      <td>1914.63</td>\n",
       "      <td>1</td>\n",
       "      <td>3</td>\n",
       "    </tr>\n",
       "    <tr>\n",
       "      <th>3</th>\n",
       "      <td>75.70</td>\n",
       "      <td>1</td>\n",
       "      <td>4</td>\n",
       "    </tr>\n",
       "    <tr>\n",
       "      <th>4</th>\n",
       "      <td>134.54</td>\n",
       "      <td>1</td>\n",
       "      <td>2</td>\n",
       "    </tr>\n",
       "  </tbody>\n",
       "</table>\n",
       "</div>"
      ],
      "text/plain": [
       "   rnd_expenditure  type_of_expenditure_c  type_of_cost_c\n",
       "0           231.79                      0               0\n",
       "1           670.82                      0               5\n",
       "2          1914.63                      1               3\n",
       "3            75.70                      1               4\n",
       "4           134.54                      1               2"
      ]
     },
     "execution_count": 7,
     "metadata": {},
     "output_type": "execute_result"
    }
   ],
   "source": [
    "data.head()"
   ]
  },
  {
   "cell_type": "code",
   "execution_count": 12,
   "metadata": {},
   "outputs": [
    {
     "data": {
      "text/plain": [
       "0    2\n",
       "1    2\n",
       "2    2\n",
       "3    2\n",
       "4    2\n",
       "Name: sector_c, dtype: int64"
      ]
     },
     "execution_count": 12,
     "metadata": {},
     "output_type": "execute_result"
    }
   ],
   "source": [
    "target.head()"
   ]
  },
  {
   "cell_type": "markdown",
   "metadata": {
    "slideshow": {
     "slide_type": "-"
    }
   },
   "source": [
    "### Training\n",
    "\n",
    "1. Shuffle and split the data set into train and test\n",
    "2. Train a `DecisionTreeClassifier`"
   ]
  },
  {
   "cell_type": "code",
   "execution_count": 13,
   "metadata": {
    "slideshow": {
     "slide_type": "-"
    }
   },
   "outputs": [],
   "source": [
    "from sklearn.model_selection import train_test_split\n",
    "\n",
    "train_X, test_X, train_y, test_y = train_test_split(data, target)"
   ]
  },
  {
   "cell_type": "code",
   "execution_count": 14,
   "metadata": {},
   "outputs": [
    {
     "data": {
      "text/html": [
       "<div>\n",
       "<style scoped>\n",
       "    .dataframe tbody tr th:only-of-type {\n",
       "        vertical-align: middle;\n",
       "    }\n",
       "\n",
       "    .dataframe tbody tr th {\n",
       "        vertical-align: top;\n",
       "    }\n",
       "\n",
       "    .dataframe thead th {\n",
       "        text-align: right;\n",
       "    }\n",
       "</style>\n",
       "<table border=\"1\" class=\"dataframe\">\n",
       "  <thead>\n",
       "    <tr style=\"text-align: right;\">\n",
       "      <th></th>\n",
       "      <th>rnd_expenditure</th>\n",
       "      <th>type_of_expenditure_c</th>\n",
       "      <th>type_of_cost_c</th>\n",
       "    </tr>\n",
       "  </thead>\n",
       "  <tbody>\n",
       "    <tr>\n",
       "      <th>99</th>\n",
       "      <td>70.83</td>\n",
       "      <td>1</td>\n",
       "      <td>4</td>\n",
       "    </tr>\n",
       "    <tr>\n",
       "      <th>27</th>\n",
       "      <td>70.27</td>\n",
       "      <td>1</td>\n",
       "      <td>4</td>\n",
       "    </tr>\n",
       "    <tr>\n",
       "      <th>117</th>\n",
       "      <td>52.13</td>\n",
       "      <td>1</td>\n",
       "      <td>4</td>\n",
       "    </tr>\n",
       "    <tr>\n",
       "      <th>57</th>\n",
       "      <td>38.25</td>\n",
       "      <td>1</td>\n",
       "      <td>4</td>\n",
       "    </tr>\n",
       "    <tr>\n",
       "      <th>28</th>\n",
       "      <td>104.78</td>\n",
       "      <td>1</td>\n",
       "      <td>2</td>\n",
       "    </tr>\n",
       "  </tbody>\n",
       "</table>\n",
       "</div>"
      ],
      "text/plain": [
       "     rnd_expenditure  type_of_expenditure_c  type_of_cost_c\n",
       "99             70.83                      1               4\n",
       "27             70.27                      1               4\n",
       "117            52.13                      1               4\n",
       "57             38.25                      1               4\n",
       "28            104.78                      1               2"
      ]
     },
     "execution_count": 14,
     "metadata": {},
     "output_type": "execute_result"
    }
   ],
   "source": [
    "train_X.head()"
   ]
  },
  {
   "cell_type": "code",
   "execution_count": 15,
   "metadata": {
    "slideshow": {
     "slide_type": "-"
    }
   },
   "outputs": [
    {
     "data": {
      "text/plain": [
       "DecisionTreeClassifier(class_weight=None, criterion='gini', max_depth=None,\n",
       "            max_features=None, max_leaf_nodes=None,\n",
       "            min_impurity_decrease=0.0, min_impurity_split=None,\n",
       "            min_samples_leaf=1, min_samples_split=2,\n",
       "            min_weight_fraction_leaf=0.0, presort=False, random_state=None,\n",
       "            splitter='best')"
      ]
     },
     "execution_count": 15,
     "metadata": {},
     "output_type": "execute_result"
    }
   ],
   "source": [
    "dtc = DecisionTreeClassifier()\n",
    "dtc.fit(train_X, train_y)"
   ]
  },
  {
   "cell_type": "code",
   "execution_count": 16,
   "metadata": {
    "slideshow": {
     "slide_type": "-"
    }
   },
   "outputs": [
    {
     "data": {
      "text/plain": [
       "array([3, 0, 2, 2, 1, 2, 3, 0, 0, 1, 0, 1, 1, 2, 3, 0, 0, 3, 3, 3, 0, 3,\n",
       "       1, 2, 1, 3, 1, 0, 3, 3], dtype=int64)"
      ]
     },
     "execution_count": 16,
     "metadata": {},
     "output_type": "execute_result"
    }
   ],
   "source": [
    "dtc.predict(test_X)"
   ]
  },
  {
   "cell_type": "code",
   "execution_count": 17,
   "metadata": {
    "slideshow": {
     "slide_type": "-"
    }
   },
   "outputs": [
    {
     "data": {
      "text/plain": [
       "array([[0., 0., 0., 1.],\n",
       "       [1., 0., 0., 0.],\n",
       "       [0., 0., 1., 0.],\n",
       "       [0., 0., 1., 0.],\n",
       "       [0., 1., 0., 0.],\n",
       "       [0., 0., 1., 0.],\n",
       "       [0., 0., 0., 1.],\n",
       "       [1., 0., 0., 0.],\n",
       "       [1., 0., 0., 0.],\n",
       "       [0., 1., 0., 0.],\n",
       "       [1., 0., 0., 0.],\n",
       "       [0., 1., 0., 0.],\n",
       "       [0., 1., 0., 0.],\n",
       "       [0., 0., 1., 0.],\n",
       "       [0., 0., 0., 1.],\n",
       "       [1., 0., 0., 0.],\n",
       "       [1., 0., 0., 0.],\n",
       "       [0., 0., 0., 1.],\n",
       "       [0., 0., 0., 1.],\n",
       "       [0., 0., 0., 1.],\n",
       "       [1., 0., 0., 0.],\n",
       "       [0., 0., 0., 1.],\n",
       "       [0., 1., 0., 0.],\n",
       "       [0., 0., 1., 0.],\n",
       "       [0., 1., 0., 0.],\n",
       "       [0., 0., 0., 1.],\n",
       "       [0., 1., 0., 0.],\n",
       "       [1., 0., 0., 0.],\n",
       "       [0., 0., 0., 1.],\n",
       "       [0., 0., 0., 1.]])"
      ]
     },
     "execution_count": 17,
     "metadata": {},
     "output_type": "execute_result"
    }
   ],
   "source": [
    "# Probabilities are expressed as a\n",
    "# fraction of samples of the same class in a leaf\n",
    "dtc.predict_proba(test_X)"
   ]
  },
  {
   "cell_type": "markdown",
   "metadata": {
    "slideshow": {
     "slide_type": "-"
    }
   },
   "source": [
    "### Classification Accuracy\n",
    "\n",
    "Since this is a classification task, the metrics we used for Logistic Regression also apply here, such as\n",
    "- Precision, recall\n",
    "- Confusion matrix\n",
    "- Accuracy\n",
    "\n",
    "References:\n",
    "- http://scikit-learn.org/stable/modules/classes.html#classification-metrics\n",
    "- http://scikit-learn.org/stable/modules/generated/sklearn.metrics.precision_recall_fscore_support.html"
   ]
  },
  {
   "cell_type": "code",
   "execution_count": 27,
   "metadata": {
    "slideshow": {
     "slide_type": "-"
    }
   },
   "outputs": [
    {
     "name": "stdout",
     "output_type": "stream",
     "text": [
      "             precision    recall  f1-score   support\n",
      "\n",
      "          0       0.12      0.17      0.14         6\n",
      "          1       0.29      0.18      0.22        11\n",
      "          2       1.00      1.00      1.00         5\n",
      "          3       0.30      0.38      0.33         8\n",
      "\n",
      "avg / total       0.38      0.37      0.37        30\n",
      "\n",
      "[[1 2 0 3]\n",
      " [5 2 0 4]\n",
      " [0 0 5 0]\n",
      " [2 3 0 3]]\n"
     ]
    }
   ],
   "source": [
    "from sklearn.metrics import classification_report, confusion_matrix\n",
    "\n",
    "pred_y = dtc.predict(test_X)\n",
    "\n",
    "print(classification_report(test_y, pred_y))\n",
    "\n",
    "cm = confusion_matrix(test_y, pred_y)\n",
    "print(cm)"
   ]
  },
  {
   "cell_type": "code",
   "execution_count": 28,
   "metadata": {
    "slideshow": {
     "slide_type": "-"
    }
   },
   "outputs": [
    {
     "data": {
      "text/plain": [
       "<matplotlib.colorbar.Colorbar at 0x148c44bac18>"
      ]
     },
     "execution_count": 28,
     "metadata": {},
     "output_type": "execute_result"
    },
    {
     "data": {
      "image/png": "[encoded data removed]",
      "text/plain": [
       "<Figure size 288x288 with 2 Axes>"
      ]
     },
     "metadata": {},
     "output_type": "display_data"
    }
   ],
   "source": [
    "import matplotlib.pyplot as plt\n",
    "\n",
    "plt.matshow(cm, cmap='Blues')\n",
    "plt.colorbar()"
   ]
  },
  {
   "cell_type": "markdown",
   "metadata": {
    "slideshow": {
     "slide_type": "-"
    }
   },
   "source": [
    "### Visualizing the Decision Tree\n",
    "\n",
    "We'll visualize the learned decision tree using graphviz, to see what type of rules it has learnt from the training data.\n",
    "\n",
    "https://graphviz.readthedocs.io/en/stable/api.html"
   ]
  },
  {
   "cell_type": "code",
   "execution_count": 32,
   "metadata": {
    "scrolled": false,
    "slideshow": {
     "slide_type": "-"
    }
   },
   "outputs": [
    {
     "data": {
      "text/plain": [
       "'govt_sector_by_expenditure_tree.dot.pdf'"
      ]
     },
     "execution_count": 32,
     "metadata": {},
     "output_type": "execute_result"
    }
   ],
   "source": [
    "from sklearn.tree import export_graphviz\n",
    "import graphviz\n",
    "\n",
    "feature_names=['rnd_expenditure', 'type_of_expenditure', 'type_of_cost']\n",
    "target_names=df['sector'].unique()\n",
    "\n",
    "filename = 'govt_sector_by_expenditure_tree.dot'\n",
    "export_graphviz(dtc, out_file=filename,\n",
    "                feature_names=feature_names,\n",
    "                class_names=target_names,\n",
    "                filled=True, rounded=True)\n",
    "\n",
    "source = graphviz.Source.from_file(filename)\n",
    "source.render(view=True)"
   ]
  },
  {
   "cell_type": "markdown",
   "metadata": {
    "slideshow": {
     "slide_type": "-"
    }
   },
   "source": [
    "### Exercise - Decision Tree Classification using Entropy\n",
    "\n",
    "Repeat the steps above to:\n",
    "1. Train a decision tree using the 'entropy' criteria using the training set\n",
    "2. Get the classification metrics\n",
    "3. Visualize the decision tree.\n",
    "\n",
    "Which criteria performs better?"
   ]
  },
  {
   "cell_type": "code",
   "execution_count": null,
   "metadata": {
    "slideshow": {
     "slide_type": "-"
    }
   },
   "outputs": [],
   "source": [
    "# Your code here\n",
    "\n",
    "\n",
    "\n",
    "\n",
    "\n",
    "\n",
    "\n",
    "\n",
    "\n",
    "\n",
    "\n",
    "\n",
    "\n"
   ]
  },
  {
   "cell_type": "markdown",
   "metadata": {
    "slideshow": {
     "slide_type": "-"
    }
   },
   "source": [
    "### Decision Surfaces\n",
    "\n",
    "Here's a neat trick to try in lieu of what we saw with clustering.\n",
    "\n",
    "Credits: http://scikit-learn.org/stable/auto_examples/tree/plot_iris.html"
   ]
  },
  {
   "cell_type": "code",
   "execution_count": 51,
   "metadata": {},
   "outputs": [
    {
     "data": {
      "image/png": "[encoded data removed]",
      "text/plain": [
       "<Figure size 1080x720 with 3 Axes>"
      ]
     },
     "metadata": {},
     "output_type": "display_data"
    }
   ],
   "source": [
    "# Adapted from: http://scikit-learn.org/stable/auto_examples/tree/plot_iris.html\n",
    "import numpy as np\n",
    "\n",
    "n_classes = len(target.unique())\n",
    "plot_colors = 'ryb'\n",
    "plot_step = 0.02\n",
    "\n",
    "plt.figure(figsize=(15, 10))\n",
    "\n",
    "for pairidx, pair in enumerate([[0, 1], [0, 2], [1, 2]]):\n",
    "    # We only take the two corresponding features\n",
    "    X = train_X.values[:, pair]\n",
    "    y = train_y\n",
    "\n",
    "    clf = DecisionTreeClassifier().fit(X, y)\n",
    "    \n",
    "    # Plot the decision boundary\n",
    "    plt.subplot(2, 3, pairidx + 1)\n",
    "\n",
    "    x_min, x_max = X[:, 0].min() - 1, X[:, 0].max() + 1\n",
    "    y_min, y_max = X[:, 1].min() - 1, X[:, 1].max() + 1\n",
    "    xx, yy = np.meshgrid(np.arange(x_min, x_max, plot_step),\n",
    "                         np.arange(y_min, y_max, plot_step))\n",
    "    plt.tight_layout(h_pad=0.5, w_pad=0.5, pad=2.5)\n",
    "\n",
    "    Z = clf.predict(np.c_[xx.ravel(), yy.ravel()])\n",
    "    Z = Z.reshape(xx.shape)\n",
    "    cs = plt.contourf(xx, yy, Z, cmap=plt.cm.RdYlBu)\n",
    "\n",
    "    plt.xlabel(feature_names[pair[0]])\n",
    "    plt.ylabel(feature_names[pair[1]])\n",
    "\n",
    "    # Plot the training points\n",
    "    for i, color in zip(range(n_classes), plot_colors):\n",
    "        idx = np.where(y == i)\n",
    "        plt.scatter(X[idx, 0], X[idx, 1], c=color, label=target_names[i],\n",
    "                    cmap=plt.cm.RdYlBu, edgecolor='black', s=15)\n",
    "\n",
    "plt.suptitle(\"Decision surface of a decision tree using paired features\")\n",
    "plt.legend(loc='lower right', borderpad=0, handletextpad=0)\n",
    "plt.axis(\"tight\")\n",
    "plt.show()"
   ]
  },
  {
   "cell_type": "code",
   "execution_count": 46,
   "metadata": {
    "slideshow": {
     "slide_type": "-"
    }
   },
   "outputs": [
    {
     "data": {
      "text/html": [
       "<div>\n",
       "<style scoped>\n",
       "    .dataframe tbody tr th:only-of-type {\n",
       "        vertical-align: middle;\n",
       "    }\n",
       "\n",
       "    .dataframe tbody tr th {\n",
       "        vertical-align: top;\n",
       "    }\n",
       "\n",
       "    .dataframe thead th {\n",
       "        text-align: right;\n",
       "    }\n",
       "</style>\n",
       "<table border=\"1\" class=\"dataframe\">\n",
       "  <thead>\n",
       "    <tr style=\"text-align: right;\">\n",
       "      <th></th>\n",
       "      <th>type_of_expenditure</th>\n",
       "      <th>type_of_expenditure_c</th>\n",
       "    </tr>\n",
       "  </thead>\n",
       "  <tbody>\n",
       "    <tr>\n",
       "      <th>0</th>\n",
       "      <td>Capital Expenditure</td>\n",
       "      <td>0</td>\n",
       "    </tr>\n",
       "    <tr>\n",
       "      <th>2</th>\n",
       "      <td>Manpower Expenditure</td>\n",
       "      <td>1</td>\n",
       "    </tr>\n",
       "    <tr>\n",
       "      <th>5</th>\n",
       "      <td>Other Operating Expenditure</td>\n",
       "      <td>2</td>\n",
       "    </tr>\n",
       "  </tbody>\n",
       "</table>\n",
       "</div>"
      ],
      "text/plain": [
       "           type_of_expenditure  type_of_expenditure_c\n",
       "0          Capital Expenditure                      0\n",
       "2         Manpower Expenditure                      1\n",
       "5  Other Operating Expenditure                      2"
      ]
     },
     "execution_count": 46,
     "metadata": {},
     "output_type": "execute_result"
    }
   ],
   "source": [
    "# To get the category label mapping\n",
    "df[['type_of_expenditure', 'type_of_expenditure_c']].drop_duplicates()"
   ]
  },
  {
   "cell_type": "code",
   "execution_count": 47,
   "metadata": {},
   "outputs": [
    {
     "data": {
      "text/html": [
       "<div>\n",
       "<style scoped>\n",
       "    .dataframe tbody tr th:only-of-type {\n",
       "        vertical-align: middle;\n",
       "    }\n",
       "\n",
       "    .dataframe tbody tr th {\n",
       "        vertical-align: top;\n",
       "    }\n",
       "\n",
       "    .dataframe thead th {\n",
       "        text-align: right;\n",
       "    }\n",
       "</style>\n",
       "<table border=\"1\" class=\"dataframe\">\n",
       "  <thead>\n",
       "    <tr style=\"text-align: right;\">\n",
       "      <th></th>\n",
       "      <th>type_of_cost</th>\n",
       "      <th>type_of_cost_c</th>\n",
       "    </tr>\n",
       "  </thead>\n",
       "  <tbody>\n",
       "    <tr>\n",
       "      <th>0</th>\n",
       "      <td>Land, Buildings &amp; Other Structures</td>\n",
       "      <td>0</td>\n",
       "    </tr>\n",
       "    <tr>\n",
       "      <th>1</th>\n",
       "      <td>Vehicles, Plant, Machinery &amp; Equipment</td>\n",
       "      <td>5</td>\n",
       "    </tr>\n",
       "    <tr>\n",
       "      <th>2</th>\n",
       "      <td>Researchers</td>\n",
       "      <td>3</td>\n",
       "    </tr>\n",
       "    <tr>\n",
       "      <th>3</th>\n",
       "      <td>Technicians</td>\n",
       "      <td>4</td>\n",
       "    </tr>\n",
       "    <tr>\n",
       "      <th>4</th>\n",
       "      <td>Other Supporting Staff</td>\n",
       "      <td>2</td>\n",
       "    </tr>\n",
       "    <tr>\n",
       "      <th>5</th>\n",
       "      <td>Other Operating Costs</td>\n",
       "      <td>1</td>\n",
       "    </tr>\n",
       "  </tbody>\n",
       "</table>\n",
       "</div>"
      ],
      "text/plain": [
       "                             type_of_cost  type_of_cost_c\n",
       "0      Land, Buildings & Other Structures               0\n",
       "1  Vehicles, Plant, Machinery & Equipment               5\n",
       "2                             Researchers               3\n",
       "3                             Technicians               4\n",
       "4                  Other Supporting Staff               2\n",
       "5                   Other Operating Costs               1"
      ]
     },
     "execution_count": 47,
     "metadata": {},
     "output_type": "execute_result"
    }
   ],
   "source": [
    "df[['type_of_cost', 'type_of_cost_c']].drop_duplicates()"
   ]
  },
  {
   "cell_type": "code",
   "execution_count": 52,
   "metadata": {},
   "outputs": [
    {
     "data": {
      "text/html": [
       "<div>\n",
       "<style scoped>\n",
       "    .dataframe tbody tr th:only-of-type {\n",
       "        vertical-align: middle;\n",
       "    }\n",
       "\n",
       "    .dataframe tbody tr th {\n",
       "        vertical-align: top;\n",
       "    }\n",
       "\n",
       "    .dataframe thead th {\n",
       "        text-align: right;\n",
       "    }\n",
       "</style>\n",
       "<table border=\"1\" class=\"dataframe\">\n",
       "  <thead>\n",
       "    <tr style=\"text-align: right;\">\n",
       "      <th></th>\n",
       "      <th>sector</th>\n",
       "      <th>sector_c</th>\n",
       "    </tr>\n",
       "  </thead>\n",
       "  <tbody>\n",
       "    <tr>\n",
       "      <th>0</th>\n",
       "      <td>Private Sector</td>\n",
       "      <td>2</td>\n",
       "    </tr>\n",
       "    <tr>\n",
       "      <th>6</th>\n",
       "      <td>Government Sector</td>\n",
       "      <td>0</td>\n",
       "    </tr>\n",
       "    <tr>\n",
       "      <th>12</th>\n",
       "      <td>Higher Education Sector</td>\n",
       "      <td>1</td>\n",
       "    </tr>\n",
       "    <tr>\n",
       "      <th>18</th>\n",
       "      <td>Public Research Institutes</td>\n",
       "      <td>3</td>\n",
       "    </tr>\n",
       "  </tbody>\n",
       "</table>\n",
       "</div>"
      ],
      "text/plain": [
       "                        sector  sector_c\n",
       "0               Private Sector         2\n",
       "6            Government Sector         0\n",
       "12     Higher Education Sector         1\n",
       "18  Public Research Institutes         3"
      ]
     },
     "execution_count": 52,
     "metadata": {},
     "output_type": "execute_result"
    }
   ],
   "source": [
    "df[['sector', 'sector_c']].drop_duplicates()"
   ]
  },
  {
   "cell_type": "code",
   "execution_count": null,
   "metadata": {},
   "outputs": [],
   "source": []
  }
 ],
 "metadata": {
  "celltoolbar": "Slideshow",
  "kernelspec": {
   "display_name": "Python 3",
   "language": "python",
   "name": "python3"
  },
  "language_info": {
   "codemirror_mode": {
    "name": "ipython",
    "version": 3
   },
   "file_extension": ".py",
   "mimetype": "text/x-python",
   "name": "python",
   "nbconvert_exporter": "python",
   "pygments_lexer": "ipython3",
   "version": "3.6.5"
  },
  "livereveal": {
   "autolaunch": false,
   "overlay": "<div class='logo'><img src='assets/Stackup_Logo_Small.png' width='90%'/></div>"
  }
 },
 "nbformat": 4,
 "nbformat_minor": 2
}
