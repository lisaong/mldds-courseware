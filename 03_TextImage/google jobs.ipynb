{
 "cells": [
  {
   "cell_type": "markdown",
   "metadata": {},
   "source": [
    "# Predicting Category from Job Postings\n",
    "\n",
    "In this workshop, we'll try a classification task involving text.\n",
    "\n",
    "This task is to predict job categories from Google Job postings."
   ]
  },
  {
   "cell_type": "markdown",
   "metadata": {},
   "source": [
    "## Dataset\n",
    "https://www.kaggle.com/niyamatalmass/google-job-skills/version/1\n",
    "\n",
    "(Requires free Kaggle account)"
   ]
  },
  {
   "cell_type": "code",
   "execution_count": null,
   "metadata": {},
   "outputs": [],
   "source": []
  },
  {
   "cell_type": "markdown",
   "metadata": {},
   "source": [
    "## Setup\n",
    "\n",
    "We'll be using spaCy, a popular library for natural language processing (https://spacy.io/) to do some basic text processing.\n",
    "\n",
    "Run this from your conda environment:\n",
    "\n",
    "```\n",
    "conda install -y spacy\n",
    "python -m spacy download en_core_web_sm\n",
    "```\n",
    "\n",
    "The first command installs spaCy. \n",
    "\n",
    "The second command downloads spaCy's English pre-trained model. Language models require separate downloads because they are big files and are different for each language you need.\n",
    "\n",
    "scikit-learn also has some NLP support, but only English and not as powerful as spaCy."
   ]
  },
  {
   "cell_type": "code",
   "execution_count": null,
   "metadata": {},
   "outputs": [],
   "source": []
  },
  {
   "cell_type": "markdown",
   "metadata": {},
   "source": [
    "## Data Exploration"
   ]
  },
  {
   "cell_type": "code",
   "execution_count": 74,
   "metadata": {},
   "outputs": [],
   "source": [
    "import numpy as np\n",
    "import pandas as pd\n",
    "import matplotlib.pyplot as plt\n",
    "from sklearn.preprocessing import LabelEncoder\n",
    "from sklearn.feature_extraction.text import TfidfVectorizer\n",
    "import spacy"
   ]
  },
  {
   "cell_type": "code",
   "execution_count": 64,
   "metadata": {},
   "outputs": [
    {
     "data": {
      "text/plain": [
       "array(['Program Management', 'Manufacturing & Supply Chain',\n",
       "       'Technical Solutions', 'Developer Relations',\n",
       "       'Hardware Engineering', 'Partnerships',\n",
       "       'Product & Customer Support', 'Software Engineering',\n",
       "       'Data Center & Network', 'Business Strategy', 'Technical Writing',\n",
       "       'Technical Infrastructure', 'IT & Data Management',\n",
       "       'Marketing & Communications', 'Network Engineering',\n",
       "       'Sales & Account Management', 'Sales Operations', 'Finance',\n",
       "       'Legal & Government Relations', 'Administrative',\n",
       "       'User Experience & Design', 'People Operations',\n",
       "       'Real Estate & Workplace Services'], dtype=object)"
      ]
     },
     "execution_count": 64,
     "metadata": {},
     "output_type": "execute_result"
    }
   ],
   "source": [
    "df = pd.read_csv('/tmp/google-jobs/job_skills.csv')\n",
    "df.Category.unique()"
   ]
  },
  {
   "cell_type": "code",
   "execution_count": 65,
   "metadata": {},
   "outputs": [
    {
     "data": {
      "text/html": [
       "<div>\n",
       "<style scoped>\n",
       "    .dataframe tbody tr th:only-of-type {\n",
       "        vertical-align: middle;\n",
       "    }\n",
       "\n",
       "    .dataframe tbody tr th {\n",
       "        vertical-align: top;\n",
       "    }\n",
       "\n",
       "    .dataframe thead th {\n",
       "        text-align: right;\n",
       "    }\n",
       "</style>\n",
       "<table border=\"1\" class=\"dataframe\">\n",
       "  <thead>\n",
       "    <tr style=\"text-align: right;\">\n",
       "      <th></th>\n",
       "      <th>Company</th>\n",
       "      <th>Title</th>\n",
       "      <th>Category</th>\n",
       "      <th>Location</th>\n",
       "      <th>Responsibilities</th>\n",
       "      <th>Minimum Qualifications</th>\n",
       "      <th>Preferred Qualifications</th>\n",
       "    </tr>\n",
       "  </thead>\n",
       "  <tbody>\n",
       "    <tr>\n",
       "      <th>0</th>\n",
       "      <td>Google</td>\n",
       "      <td>Google Cloud Program Manager</td>\n",
       "      <td>Program Management</td>\n",
       "      <td>Singapore</td>\n",
       "      <td>Shape, shepherd, ship, and show technical prog...</td>\n",
       "      <td>BA/BS degree or equivalent practical experienc...</td>\n",
       "      <td>Experience in the business technology market a...</td>\n",
       "    </tr>\n",
       "    <tr>\n",
       "      <th>1</th>\n",
       "      <td>Google</td>\n",
       "      <td>Supplier Development Engineer (SDE), Cable/Con...</td>\n",
       "      <td>Manufacturing &amp; Supply Chain</td>\n",
       "      <td>Shanghai, China</td>\n",
       "      <td>Drive cross-functional activities in the suppl...</td>\n",
       "      <td>BS degree in an Engineering discipline or equi...</td>\n",
       "      <td>BSEE, BSME or BSIE degree.\\nExperience of usin...</td>\n",
       "    </tr>\n",
       "    <tr>\n",
       "      <th>2</th>\n",
       "      <td>Google</td>\n",
       "      <td>Data Analyst, Product and Tools Operations, Go...</td>\n",
       "      <td>Technical Solutions</td>\n",
       "      <td>New York, NY, United States</td>\n",
       "      <td>Collect and analyze data to draw insight and i...</td>\n",
       "      <td>Bachelor’s degree in Business, Economics, Stat...</td>\n",
       "      <td>Experience partnering or consulting cross-func...</td>\n",
       "    </tr>\n",
       "    <tr>\n",
       "      <th>3</th>\n",
       "      <td>Google</td>\n",
       "      <td>Developer Advocate, Partner Engineering</td>\n",
       "      <td>Developer Relations</td>\n",
       "      <td>Mountain View, CA, United States</td>\n",
       "      <td>Work one-on-one with the top Android, iOS, and...</td>\n",
       "      <td>BA/BS degree in Computer Science or equivalent...</td>\n",
       "      <td>Experience as a software developer, architect,...</td>\n",
       "    </tr>\n",
       "    <tr>\n",
       "      <th>4</th>\n",
       "      <td>Google</td>\n",
       "      <td>Program Manager, Audio Visual (AV) Deployments</td>\n",
       "      <td>Program Management</td>\n",
       "      <td>Sunnyvale, CA, United States</td>\n",
       "      <td>Plan requirements with internal customers.\\nPr...</td>\n",
       "      <td>BA/BS degree or equivalent practical experienc...</td>\n",
       "      <td>CTS Certification.\\nExperience in the construc...</td>\n",
       "    </tr>\n",
       "  </tbody>\n",
       "</table>\n",
       "</div>"
      ],
      "text/plain": [
       "  Company                                              Title  \\\n",
       "0  Google                       Google Cloud Program Manager   \n",
       "1  Google  Supplier Development Engineer (SDE), Cable/Con...   \n",
       "2  Google  Data Analyst, Product and Tools Operations, Go...   \n",
       "3  Google            Developer Advocate, Partner Engineering   \n",
       "4  Google     Program Manager, Audio Visual (AV) Deployments   \n",
       "\n",
       "                       Category                          Location  \\\n",
       "0            Program Management                         Singapore   \n",
       "1  Manufacturing & Supply Chain                   Shanghai, China   \n",
       "2           Technical Solutions       New York, NY, United States   \n",
       "3           Developer Relations  Mountain View, CA, United States   \n",
       "4            Program Management      Sunnyvale, CA, United States   \n",
       "\n",
       "                                    Responsibilities  \\\n",
       "0  Shape, shepherd, ship, and show technical prog...   \n",
       "1  Drive cross-functional activities in the suppl...   \n",
       "2  Collect and analyze data to draw insight and i...   \n",
       "3  Work one-on-one with the top Android, iOS, and...   \n",
       "4  Plan requirements with internal customers.\\nPr...   \n",
       "\n",
       "                              Minimum Qualifications  \\\n",
       "0  BA/BS degree or equivalent practical experienc...   \n",
       "1  BS degree in an Engineering discipline or equi...   \n",
       "2  Bachelor’s degree in Business, Economics, Stat...   \n",
       "3  BA/BS degree in Computer Science or equivalent...   \n",
       "4  BA/BS degree or equivalent practical experienc...   \n",
       "\n",
       "                            Preferred Qualifications  \n",
       "0  Experience in the business technology market a...  \n",
       "1  BSEE, BSME or BSIE degree.\\nExperience of usin...  \n",
       "2  Experience partnering or consulting cross-func...  \n",
       "3  Experience as a software developer, architect,...  \n",
       "4  CTS Certification.\\nExperience in the construc...  "
      ]
     },
     "execution_count": 65,
     "metadata": {},
     "output_type": "execute_result"
    }
   ],
   "source": [
    "df.head()"
   ]
  },
  {
   "cell_type": "code",
   "execution_count": null,
   "metadata": {},
   "outputs": [],
   "source": []
  },
  {
   "cell_type": "markdown",
   "metadata": {},
   "source": [
    "### Check for NaN"
   ]
  },
  {
   "cell_type": "code",
   "execution_count": 66,
   "metadata": {},
   "outputs": [
    {
     "data": {
      "text/plain": [
       "True"
      ]
     },
     "execution_count": 66,
     "metadata": {},
     "output_type": "execute_result"
    }
   ],
   "source": [
    "df.isnull().values.any()"
   ]
  },
  {
   "cell_type": "code",
   "execution_count": 67,
   "metadata": {},
   "outputs": [
    {
     "data": {
      "text/plain": [
       "False"
      ]
     },
     "execution_count": 67,
     "metadata": {},
     "output_type": "execute_result"
    }
   ],
   "source": [
    "# there are NA values, drop them and then check again\n",
    "df.dropna(inplace=True)\n",
    "df.isnull().values.any()"
   ]
  },
  {
   "cell_type": "code",
   "execution_count": null,
   "metadata": {},
   "outputs": [],
   "source": []
  },
  {
   "cell_type": "markdown",
   "metadata": {},
   "source": [
    "### Merge some smaller classes"
   ]
  },
  {
   "cell_type": "code",
   "execution_count": 60,
   "metadata": {},
   "outputs": [
    {
     "data": {
      "text/plain": [
       "Category\n",
       "Administrative                       40\n",
       "Business Strategy                    98\n",
       "Data Center & Network                 2\n",
       "Developer Relations                   5\n",
       "Finance                             115\n",
       "Hardware Engineering                 22\n",
       "IT & Data Management                  5\n",
       "Legal & Government Relations         46\n",
       "Manufacturing & Supply Chain         16\n",
       "Marketing & Communications          165\n",
       "Network Engineering                   6\n",
       "Partnerships                         59\n",
       "People Operations                    86\n",
       "Product & Customer Support           50\n",
       "Program Management                   72\n",
       "Real Estate & Workplace Services     25\n",
       "Sales & Account Management          168\n",
       "Sales Operations                     31\n",
       "Software Engineering                 24\n",
       "Technical Infrastructure             11\n",
       "Technical Solutions                 100\n",
       "Technical Writing                     5\n",
       "User Experience & Design             84\n",
       "dtype: int64"
      ]
     },
     "execution_count": 60,
     "metadata": {},
     "output_type": "execute_result"
    }
   ],
   "source": [
    "df.groupby(['Category']).size()"
   ]
  },
  {
   "cell_type": "code",
   "execution_count": 61,
   "metadata": {},
   "outputs": [
    {
     "data": {
      "text/plain": [
       "Category\n",
       "Administrative                       40\n",
       "Business Strategy                    98\n",
       "Developer Relations                   5\n",
       "Finance                             115\n",
       "Hardware Engineering                 22\n",
       "IT & Data Management                 13\n",
       "Legal & Government Relations         46\n",
       "Manufacturing & Supply Chain         16\n",
       "Marketing & Communications          165\n",
       "Partnerships                         59\n",
       "People Operations                    86\n",
       "Product & Customer Support           50\n",
       "Program Management                   72\n",
       "Real Estate & Workplace Services     25\n",
       "Sales & Account Management          168\n",
       "Sales Operations                     31\n",
       "Software Engineering                 24\n",
       "Technical Infrastructure             11\n",
       "Technical Solutions                 100\n",
       "Technical Writing                     5\n",
       "User Experience & Design             84\n",
       "dtype: int64"
      ]
     },
     "execution_count": 61,
     "metadata": {},
     "output_type": "execute_result"
    }
   ],
   "source": [
    "# Combine a few categories that are smaller, e.g.\n",
    "#   Data Center & Network, Network Engineering, IT & Data Management => IT & Data Management\n",
    "\n",
    "df.loc[df.Category == 'Data Center & Network', 'Category'] = 'IT & Data Management'\n",
    "df.loc[df.Category == 'Network Engineering', 'Category'] = 'IT & Data Management'\n",
    "df.groupby(['Category']).size()"
   ]
  },
  {
   "cell_type": "code",
   "execution_count": null,
   "metadata": {},
   "outputs": [],
   "source": []
  },
  {
   "cell_type": "code",
   "execution_count": null,
   "metadata": {},
   "outputs": [],
   "source": []
  },
  {
   "cell_type": "markdown",
   "metadata": {},
   "source": [
    "## Data Transformation"
   ]
  },
  {
   "cell_type": "markdown",
   "metadata": {},
   "source": [
    "### Label encoding\n",
    "\n",
    "Label encode the 'Category' column into numbers to form our output (Y)."
   ]
  },
  {
   "cell_type": "code",
   "execution_count": 104,
   "metadata": {},
   "outputs": [
    {
     "data": {
      "text/html": [
       "<div>\n",
       "<style scoped>\n",
       "    .dataframe tbody tr th:only-of-type {\n",
       "        vertical-align: middle;\n",
       "    }\n",
       "\n",
       "    .dataframe tbody tr th {\n",
       "        vertical-align: top;\n",
       "    }\n",
       "\n",
       "    .dataframe thead th {\n",
       "        text-align: right;\n",
       "    }\n",
       "</style>\n",
       "<table border=\"1\" class=\"dataframe\">\n",
       "  <thead>\n",
       "    <tr style=\"text-align: right;\">\n",
       "      <th></th>\n",
       "      <th>Company</th>\n",
       "      <th>Title</th>\n",
       "      <th>Category</th>\n",
       "      <th>Location</th>\n",
       "      <th>Responsibilities</th>\n",
       "      <th>Minimum Qualifications</th>\n",
       "      <th>Preferred Qualifications</th>\n",
       "      <th>y</th>\n",
       "    </tr>\n",
       "  </thead>\n",
       "  <tbody>\n",
       "    <tr>\n",
       "      <th>0</th>\n",
       "      <td>Google</td>\n",
       "      <td>Google Cloud Program Manager</td>\n",
       "      <td>Program Management</td>\n",
       "      <td>Singapore</td>\n",
       "      <td>Shape, shepherd, ship, and show technical prog...</td>\n",
       "      <td>BA/BS degree or equivalent practical experienc...</td>\n",
       "      <td>Experience in the business technology market a...</td>\n",
       "      <td>14</td>\n",
       "    </tr>\n",
       "    <tr>\n",
       "      <th>1</th>\n",
       "      <td>Google</td>\n",
       "      <td>Supplier Development Engineer (SDE), Cable/Con...</td>\n",
       "      <td>Manufacturing &amp; Supply Chain</td>\n",
       "      <td>Shanghai, China</td>\n",
       "      <td>Drive cross-functional activities in the suppl...</td>\n",
       "      <td>BS degree in an Engineering discipline or equi...</td>\n",
       "      <td>BSEE, BSME or BSIE degree.\\nExperience of usin...</td>\n",
       "      <td>8</td>\n",
       "    </tr>\n",
       "    <tr>\n",
       "      <th>2</th>\n",
       "      <td>Google</td>\n",
       "      <td>Data Analyst, Product and Tools Operations, Go...</td>\n",
       "      <td>Technical Solutions</td>\n",
       "      <td>New York, NY, United States</td>\n",
       "      <td>Collect and analyze data to draw insight and i...</td>\n",
       "      <td>Bachelor’s degree in Business, Economics, Stat...</td>\n",
       "      <td>Experience partnering or consulting cross-func...</td>\n",
       "      <td>20</td>\n",
       "    </tr>\n",
       "    <tr>\n",
       "      <th>3</th>\n",
       "      <td>Google</td>\n",
       "      <td>Developer Advocate, Partner Engineering</td>\n",
       "      <td>Developer Relations</td>\n",
       "      <td>Mountain View, CA, United States</td>\n",
       "      <td>Work one-on-one with the top Android, iOS, and...</td>\n",
       "      <td>BA/BS degree in Computer Science or equivalent...</td>\n",
       "      <td>Experience as a software developer, architect,...</td>\n",
       "      <td>3</td>\n",
       "    </tr>\n",
       "    <tr>\n",
       "      <th>4</th>\n",
       "      <td>Google</td>\n",
       "      <td>Program Manager, Audio Visual (AV) Deployments</td>\n",
       "      <td>Program Management</td>\n",
       "      <td>Sunnyvale, CA, United States</td>\n",
       "      <td>Plan requirements with internal customers.\\nPr...</td>\n",
       "      <td>BA/BS degree or equivalent practical experienc...</td>\n",
       "      <td>CTS Certification.\\nExperience in the construc...</td>\n",
       "      <td>14</td>\n",
       "    </tr>\n",
       "  </tbody>\n",
       "</table>\n",
       "</div>"
      ],
      "text/plain": [
       "  Company                                              Title  \\\n",
       "0  Google                       Google Cloud Program Manager   \n",
       "1  Google  Supplier Development Engineer (SDE), Cable/Con...   \n",
       "2  Google  Data Analyst, Product and Tools Operations, Go...   \n",
       "3  Google            Developer Advocate, Partner Engineering   \n",
       "4  Google     Program Manager, Audio Visual (AV) Deployments   \n",
       "\n",
       "                       Category                          Location  \\\n",
       "0            Program Management                         Singapore   \n",
       "1  Manufacturing & Supply Chain                   Shanghai, China   \n",
       "2           Technical Solutions       New York, NY, United States   \n",
       "3           Developer Relations  Mountain View, CA, United States   \n",
       "4            Program Management      Sunnyvale, CA, United States   \n",
       "\n",
       "                                    Responsibilities  \\\n",
       "0  Shape, shepherd, ship, and show technical prog...   \n",
       "1  Drive cross-functional activities in the suppl...   \n",
       "2  Collect and analyze data to draw insight and i...   \n",
       "3  Work one-on-one with the top Android, iOS, and...   \n",
       "4  Plan requirements with internal customers.\\nPr...   \n",
       "\n",
       "                              Minimum Qualifications  \\\n",
       "0  BA/BS degree or equivalent practical experienc...   \n",
       "1  BS degree in an Engineering discipline or equi...   \n",
       "2  Bachelor’s degree in Business, Economics, Stat...   \n",
       "3  BA/BS degree in Computer Science or equivalent...   \n",
       "4  BA/BS degree or equivalent practical experienc...   \n",
       "\n",
       "                            Preferred Qualifications   y  \n",
       "0  Experience in the business technology market a...  14  \n",
       "1  BSEE, BSME or BSIE degree.\\nExperience of usin...   8  \n",
       "2  Experience partnering or consulting cross-func...  20  \n",
       "3  Experience as a software developer, architect,...   3  \n",
       "4  CTS Certification.\\nExperience in the construc...  14  "
      ]
     },
     "execution_count": 104,
     "metadata": {},
     "output_type": "execute_result"
    }
   ],
   "source": [
    "encoder = LabelEncoder()\n",
    "\n",
    "category_enc = encoder.fit_transform(df.Category)\n",
    "\n",
    "df['y'] = category_enc\n",
    "df.head()"
   ]
  },
  {
   "cell_type": "code",
   "execution_count": null,
   "metadata": {},
   "outputs": [],
   "source": []
  },
  {
   "cell_type": "markdown",
   "metadata": {},
   "source": [
    "### Text to Vectors (a little taste of NLP)\n",
    "\n",
    "In order to train a model, we'll need convert the \"Responsibilities\" column from text into vectors.\n",
    "\n",
    "Let's try:\n",
    "1. Lemmatizing the words using English language rules (e.g. features -> feature)\n",
    "2. Removing stop words such as \"a\", \"the\", \"to\" that don't contribute much semantic meaning.\n",
    "3. Computing the TF-IDF (Term Frequency - Inverse Document Frequency) for each word (term) in the Responsibility column. This gives us a real number representation of each word.\n",
    "4. Treat each word as a separate feature in X. (This is where lemmatizing and removing stop words will keep the number of features small.)\n",
    "\n",
    "#### Notes:\n",
    "The downside to this approach (while relatively simple), is that we end up with lots of features. However, this should be okay for a small corpus (couple thousand short sentences on a specific domain).\n",
    "\n",
    "To handle larger corpora (hundreds of MBs to GBs), a more scalable approach is to train word vectors, which are slightly more involving (need hyperparameter guessing^H^H tuning). Word vectors will be overkill for this task, but an option once we've covered them in class."
   ]
  },
  {
   "cell_type": "code",
   "execution_count": null,
   "metadata": {},
   "outputs": [],
   "source": []
  },
  {
   "cell_type": "code",
   "execution_count": 59,
   "metadata": {},
   "outputs": [
    {
     "data": {
      "text/plain": [
       "'Shape, shepherd, ship, and show technical programs designed to support the work of Cloud Customer Engineers and Solutions Architects.\\nMeasure and report on key metrics tied to those programs to identify any need to change course, cancel, or scale the programs from a regional to global platform.\\nCommunicate status and identify any obstacles and paths for resolution to stakeholders, including those in senior roles, in a transparent, regular, professional and timely manner.\\nEstablish expectations and rationale on deliverables for stakeholders and program contributors.\\nProvide program performance feedback to teams in Product, Engineering, Sales, and Marketing (among others) to enable efficient cross-team operations.'"
      ]
     },
     "execution_count": 59,
     "metadata": {},
     "output_type": "execute_result"
    }
   ],
   "source": [
    "# Example text we want to convert\n",
    "df.Responsibilities[0]"
   ]
  },
  {
   "cell_type": "code",
   "execution_count": null,
   "metadata": {},
   "outputs": [],
   "source": []
  },
  {
   "cell_type": "code",
   "execution_count": 93,
   "metadata": {},
   "outputs": [
    {
     "data": {
      "text/plain": [
       "'shape shepherd ship technical program design support work cloud customer engineers solutions architects measure report key metric tie program identify need change course cancel scale program regional global platform communicate statu identify obstacle path resolution stakeholder include senior role transparent regular professional timely manner establish expectation rationale deliverable stakeholder program contributor provide program performance feedback team product engineering sale marketing enable efficient cros team operation'"
      ]
     },
     "execution_count": 93,
     "metadata": {},
     "output_type": "execute_result"
    }
   ],
   "source": [
    "import spacy\n",
    "from spacy.lemmatizer import Lemmatizer\n",
    "from spacy.lang.en import LEMMA_INDEX, LEMMA_EXC, LEMMA_RULES\n",
    "\n",
    "nlp = spacy.load('en_core_web_sm')\n",
    "lemmatizer = Lemmatizer(LEMMA_INDEX, LEMMA_EXC, LEMMA_RULES)\n",
    "\n",
    "# transformation function to use in pd.DataFrame.apply()\n",
    "def tokenize_text(text):\n",
    "    \"\"\"Tokenizes the text by lemmatizing and removing stop words\n",
    "    Args:\n",
    "        text - the input text\n",
    "    Returns:\n",
    "        a list of tokens\n",
    "    \"\"\"\n",
    "    # process the text\n",
    "    doc = nlp(text)\n",
    "    \n",
    "    # https://spacy.io/api/token\n",
    "    lemmas = [lemmatizer(token.text, token.pos_) for token in doc\n",
    "              if not token.is_stop and token.is_alpha]\n",
    "\n",
    "    # create a string\n",
    "    return ' '.join([item for sublist in lemmas for item in sublist])\n",
    "            \n",
    "# Test\n",
    "tokenize_text(df.Responsibilities[0])"
   ]
  },
  {
   "cell_type": "code",
   "execution_count": null,
   "metadata": {},
   "outputs": [],
   "source": []
  },
  {
   "cell_type": "code",
   "execution_count": 99,
   "metadata": {},
   "outputs": [
    {
     "data": {
      "text/plain": [
       "0    shape shepherd ship technical program design s...\n",
       "1    drive cros functional activity supply chain ov...\n",
       "2    collect analyze datum draw insight identify st...\n",
       "3    work android ios web engineer build exciting n...\n",
       "4    plan requirement internal customer provide por...\n",
       "Name: Responsibilities, dtype: object"
      ]
     },
     "execution_count": 99,
     "metadata": {},
     "output_type": "execute_result"
    }
   ],
   "source": [
    "# Tokenize the column\n",
    "df_tokenized = df.Responsibilities.apply(tokenize_text)\n",
    "df_tokenized.head()"
   ]
  },
  {
   "cell_type": "code",
   "execution_count": null,
   "metadata": {},
   "outputs": [],
   "source": []
  },
  {
   "cell_type": "markdown",
   "metadata": {},
   "source": [
    "### TF-IDF\n",
    "\n",
    "See text.ipynb under 'Frequency Analysis' for formulas.\n",
    "\n",
    "- We'll perform frequency analysis on each term (e.g. 'shape' across all documents).\n",
    "- Each Job Responsibility is treated as a \"document\".\n",
    "- Frequency analysis will compute a number indicating how important that word is in the corpus.\n",
    "- Rare words that have high importance are accorded higher weight (e.g. datum or shepherd).\n",
    "\n",
    "http://scikit-learn.org/stable/modules/feature_extraction.html#tfidf-term-weighting"
   ]
  },
  {
   "cell_type": "code",
   "execution_count": 101,
   "metadata": {},
   "outputs": [
    {
     "name": "stdout",
     "output_type": "stream",
     "text": [
      "(1235, 2972)\n",
      "['ability', 'able', 'abreast', 'abroad', 'absence', 'abstraction', 'abuse', 'academia', 'accelerate', 'accelerated', 'acceleration', 'accelerator', 'accept', 'acceptance', 'acces', 'accessibility', 'accessory', 'accommodate', 'accommodation', 'accomplish', 'accomplishment', 'accord', 'accordance', 'accordingly', 'account', 'accountability', 'accountable', 'accounting', 'accounts', 'accrual', 'accuracy', 'accurate', 'accurately', 'achieve', 'achievement', 'achiv', 'achive', 'acquire', 'acquisition', 'act', 'action', 'actionable', 'activate', 'activation', 'active', 'actively', 'activity', 'actual', 'actualize', 'acuman', 'ad', 'adapt', 'add', 'addition', 'additional', 'additionally', 'additive', 'addres', 'address', 'addressable', 'adequate', 'adhere', 'adherence', 'adheres', 'adhoc', 'adjust', 'adjustment', 'administer', 'administration', 'administrative', 'admission', 'admob', 'adopt', 'adoption', 'ads', 'adsense', 'advance', 'advanced', 'advancement', 'advantage', 'adversely', 'advert', 'advertise', 'advertiser', 'advertising', 'advice', 'advise', 'advisor', 'advisory', 'advocacy', 'advocate', 'adwords', 'aesthetic', 'aesthetically', 'affair', 'affect', 'affiliated', 'africa', 'age', 'agency', 'agenda', 'agent', 'aggressive', 'agree', 'agreeable', 'agreement', 'agreements', 'ahead', 'aid', 'aim', 'alert', 'algorithm', 'alias', 'align', 'alignment', 'alike', 'allegation', 'allegro', 'alliance', 'alliances', 'allocate', 'allocated', 'allocation', 'allow', 'allowance', 'alongside', 'alphabet', 'also', 'alternate', 'alternative', 'alumnus', 'am', 'ambassador', 'ambiguity', 'ambiguous', 'ambition', 'ambitious', 'amer', 'america', 'americas', 'amidst', 'aml', 'amount', 'amp', 'amplification', 'analog', 'analyse', 'analysi', 'analysis', 'analyst', 'analytic', 'analytical', 'analytics', 'analyze', 'analyzing', 'android', 'angle', 'annotation', 'announcement', 'annual', 'answer', 'anti', 'anticipate', 'anvato', 'apac', 'api', 'apigee', 'app', 'appdev', 'applicable', 'applicant', 'application', 'apply', 'appointment', 'appreciate', 'apprise', 'approach', 'appropriate', 'appropriately', 'appropriatenes', 'approval', 'approve', 'apps', 'ar', 'architect', 'architecte', 'architects', 'architectural', 'architecture', 'area', 'areas', 'arise', 'arrange', 'arrangement', 'array', 'art', 'article', 'articulate', 'artifact', 'artificial', 'artist', 'artistic', 'as', 'asia', 'asian', 'asic', 'ask', 'asp', 'aspect', 'assemble', 'assembly', 'assertion', 'asses', 'assess', 'assessment', 'asset', 'assets', 'assign', 'assigned', 'assignment', 'assist', 'assistance', 'assistant', 'assistants', 'associate', 'associated', 'associates', 'association', 'assume', 'assumption', 'assurance', 'assure', 'atl', 'attack', 'attainable', 'attend', 'attention', 'attorneys', 'attract', 'attribute', 'attribution', 'atypical', 'auction', 'audience', 'audio', 'audit', 'auditing', 'auditor', 'author', 'authority', 'authorization', 'authorize', 'auto', 'automate', 'automated', 'automation', 'automotive', 'autonomously', 'av', 'availability', 'available', 'avoid', 'avoidance', 'aware', 'awarenes', 'back', 'backend', 'background', 'backtest', 'backteste', 'bahasa', 'balance', 'balancing', 'banking', 'banner', 'bar', 'base', 'basi', 'battery', 'bay', 'bd', 'be', 'bear', 'beautiful', 'beauty', 'become', 'begin', 'beginning', 'behalf', 'behavior', 'behavioral', 'behaviour', 'belarus', 'benchmark', 'benchmarke', 'benchmarking', 'beneficial', 'benefit', 'benefits', 'berlin', 'bespoke', 'best', 'bet', 'beta', 'bets', 'better', 'betterment', 'bi', 'bid', 'bidding', 'big', 'bill', 'billing', 'bills', 'bio', 'blameless', 'blend', 'block', 'blocker', 'blog', 'blogg', 'blogge', 'blueprint', 'board', 'boarding', 'bom', 'bonu', 'book', 'booking', 'boost', 'bottom', 'boundary', 'box', 'bpo', 'br', 'brand', 'branded', 'brandlab', 'brazil', 'bre', 'breach', 'break', 'breakthrough', 'bridge', 'brief', 'briefing', 'bring', 'broad', 'broadcast', 'broker', 'browser', 'bu', 'budget', 'budgetary', 'budgeting', 'bug', 'build', 'building', 'bulk', 'bundle', 'burden', 'bureau', 'busines', 'business', 'buy', 'buyer', 'buyers', 'buying', 'ca', 'cadence', 'cafes', 'calculation', 'calendar', 'caliber', 'calibrate', 'call', 'camera', 'campaign', 'campu', 'cancel', 'candidate', 'cantonese', 'canva', 'capability', 'capable', 'capacity', 'capture', 'card', 'care', 'career', 'careful', 'carrier', 'carry', 'cascade', 'case', 'cash', 'cast', 'catalog', 'catalyst', 'catch', 'category', 'cause', 'causing', 'cd', 'ce', 'celebrate', 'cell', 'cement', 'center', 'central', 'centralize', 'centralized', 'centric', 'ceqa', 'certification', 'chain', 'challenge', 'challenging', 'chamber', 'champion', 'championing', 'change', 'channel', 'channels', 'characterization', 'charge', 'charming', 'charters', 'chat', 'check', 'checklist', 'chief', 'child', 'china', 'chinese', 'chip', 'choice', 'chrome', 'chromebook', 'chromecast', 'ci', 'circuit', 'circumstance', 'cis', 'city', 'claim', 'clarify', 'clarity', 'clas', 'class', 'classroom', 'clean', 'clear', 'clearance', 'clearly', 'client', 'climate', 'clock', 'close', 'closed', 'closely', 'closing', 'closure', 'cloud', 'cluster', 'clutter', 'cm', 'cmf', 'co', 'coach', 'coaching', 'coat', 'code', 'codec', 'coding', 'coexistence', 'cohesion', 'cohesive', 'cohort', 'collaborate', 'collaboration', 'collaborative', 'collaboratively', 'collaborator', 'collate', 'collateral', 'colleague', 'collect', 'collection', 'collective', 'color', 'combat', 'combine', 'come', 'comfortable', 'comfortably', 'command', 'comment', 'commerce', 'commercial', 'commercialization', 'commercialize', 'commissary', 'commit', 'commitment', 'committee', 'commodity', 'common', 'commonly', 'commonwealth', 'communicate', 'communication', 'communications', 'community', 'comp', 'company', 'compatibility', 'compel', 'compelling', 'compellingly', 'compensation', 'compete', 'competency', 'competition', 'competitive', 'compile', 'complaint', 'complement', 'complete', 'completely', 'completenes', 'completion', 'complex', 'complexity', 'compliance', 'compliant', 'comply', 'component', 'composition', 'comprehend', 'comprehension', 'comprehensive', 'compression', 'compute', 'computer', 'computing', 'conceive', 'concept', 'conception', 'conceptual', 'conceptualize', 'conceptually', 'concern', 'concise', 'conclude', 'conclusion', 'concrete', 'concurrent', 'condition', 'conduct', 'conduit', 'conference', 'conferencing', 'confidential', 'confidentiality', 'configuration', 'configure', 'confirm', 'conflict', 'conjunction', 'connect', 'connection', 'consensu', 'consider', 'consideration', 'consist', 'consistency', 'consistent', 'consistently', 'console', 'consolidate', 'constant', 'constantly', 'constituent', 'constraint', 'construct', 'construction', 'constructive', 'constructively', 'consult', 'consultancy', 'consultant', 'consultants', 'consultation', 'consultative', 'consulting', 'consumer', 'consumption', 'contact', 'contain', 'content', 'contest', 'context', 'continent', 'contingent', 'continual', 'continually', 'continue', 'continuity', 'continuous', 'continuously', 'contra', 'contract', 'contracting', 'contractor', 'contractual', 'contribute', 'contribution', 'contributor', 'control', 'controller', 'controllership', 'controls', 'controversial', 'conversation', 'conversion', 'convert', 'convey', 'convince', 'convincing', 'cooking', 'cooperation', 'coordinate', 'coordination', 'coordinator', 'copy', 'copyright', 'core', 'corporate', 'corporation', 'correct', 'corrective', 'correspond', 'correspondence', 'cost', 'councils', 'counsel', 'counseling', 'counterpart', 'country', 'couple', 'course', 'cover', 'coverage', 'cpfr', 'cpg', 'cpu', 'craft', 'create', 'creation', 'creative', 'creatively', 'creatives', 'creativity', 'creator', 'credibility', 'credible', 'credit', 'crew', 'crime', 'crisis', 'criterion', 'critical', 'critically', 'critique', 'crm', 'cros', 'cross', 'crystalize', 'cs', 'csat', 'cto', 'cultivate', 'cultivation', 'cultural', 'culture', 'curating', 'curation', 'curiosity', 'currency', 'current', 'currently', 'curricular', 'curriculum', 'custom', 'customer', 'customers', 'customize', 'customized', 'cut', 'cx', 'cxo', 'cycle', 'dach', 'daily', 'dashboard', 'dashboarde', 'data', 'database', 'dataset', 'date', 'datum', 'day', 'dbm', 'dc', 'ddm', 'de', 'deadline', 'deal', 'dean', 'debate', 'debt', 'debug', 'debugging', 'decide', 'decision', 'decline', 'decompose', 'dedicated', 'deep', 'deepen', 'defamation', 'defect', 'defensible', 'defer', 'deferred', 'deficiency', 'define', 'defined', 'definition', 'degree', 'delay', 'delight', 'deliver', 'deliverable', 'delivery', 'demand', 'demo', 'demonstrate', 'demonstrating', 'demonstration', 'density', 'department', 'departments', 'dependency', 'deploy', 'deployment', 'depth', 'derivative', 'derive', 'describe', 'description', 'design', 'designate', 'designer', 'designers', 'designing', 'desire', 'desk', 'despite', 'detail', 'detailed', 'detect', 'detection', 'determination', 'determine', 'develop', 'developer', 'development', 'developmental', 'deviations', 'device', 'devise', 'dfm', 'diagnose', 'diagnosi', 'diagnostic', 'diagram', 'dialog', 'dialogue', 'difference', 'different', 'differentiate', 'differentiator', 'difficult', 'digital', 'dignity', 'diligence', 'dimension', 'diplomacy', 'direct', 'direction', 'directional', 'directly', 'director', 'directors', 'directory', 'disability', 'disaster', 'disciplinary', 'discipline', 'disclosure', 'discover', 'discovery', 'discus', 'discussion', 'disparate', 'display', 'disseminate', 'distil', 'distill', 'distribute', 'distribution', 'distributor', 'district', 'disturbing', 'div', 'diva', 'dive', 'diverse', 'diversity', 'division', 'doc', 'document', 'documentation', 'doe', 'domain', 'domestic', 'domestically', 'door', 'dot', 'doubleclick', 'downstream', 'draft', 'dramatic', 'draw', 'drawing', 'drill', 'drive', 'driver', 'drumbeat', 'duo', 'duty', 'dvf', 'dynamic', 'ear', 'early', 'earn', 'easily', 'east', 'easy', 'eauctions', 'economic', 'economics', 'ecosystem', 'edge', 'edit', 'editor', 'editorial', 'edm', 'eds', 'educate', 'education', 'educational', 'educationally', 'effective', 'effectively', 'effectivenes', 'efficacy', 'efficiency', 'efficient', 'efficiently', 'effort', 'eg', 'elections', 'electrical', 'electrode', 'electrolyte', 'element', 'elevate', 'elevated', 'eliminate', 'email', 'embrace', 'emea', 'emerge', 'emergency', 'emergent', 'emerging', 'empathetic', 'emphasi', 'emphasize', 'employ', 'employee', 'employment', 'empower', 'empty', 'ems', 'emulation', 'enable', 'enablement', 'encounter', 'encourage', 'end', 'energize', 'energy', 'enforce', 'enforcement', 'eng', 'engage', 'engagement', 'engaging', 'engine', 'engineer', 'engineering', 'engineers', 'english', 'enhance', 'enhanced', 'enhancement', 'enjoy', 'enlighten', 'enlightening', 'enquiry', 'enrollment', 'ensure', 'enterprise', 'entertainment', 'entire', 'entitlement', 'entity', 'entry', 'environment', 'environmental', 'equip', 'equipment', 'equitably', 'equity', 'ergonomic', 'error', 'ers', 'escalate', 'escalated', 'escalation', 'especially', 'essence', 'essential', 'establish', 'estate', 'estimate', 'etc', 'ethic', 'ethics', 'ethnography', 'etl', 'eu', 'europe', 'european', 'evacuation', 'evaluate', 'evaluation', 'evaluative', 'evangelise', 'evangelize', 'evening', 'event', 'eventually', 'evolution', 'evolutionary', 'evolve', 'examine', 'example', 'exce', 'excee', 'exceed', 'excel', 'excellence', 'excellent', 'exception', 'exceptional', 'exchange', 'excite', 'excited', 'exciting', 'execute', 'execution', 'executional', 'executive', 'executives', 'exercise', 'exist', 'existing', 'expand', 'expansion', 'expect', 'expectation', 'expedite', 'expeditiously', 'expenditure', 'expense', 'experience', 'experiential', 'experiment', 'experimentation', 'expert', 'expertise', 'explain', 'exploitation', 'exploration', 'exploratory', 'explore', 'export', 'exposure', 'express', 'expression', 'extend', 'extended', 'extensive', 'external', 'externally', 'eye', 'fa', 'face', 'faceted', 'facilitate', 'facilities', 'facility', 'fact', 'factor', 'factory', 'factual', 'failure', 'fairly', 'familiarity', 'fan', 'fashion', 'fast', 'faster', 'fault', 'fcc', 'fda', 'feasibility', 'feature', 'federal', 'fee', 'feed', 'feedback', 'feel', 'fiber', 'field', 'fight', 'figure', 'filing', 'fill', 'filter', 'final', 'finalist', 'finalize', 'finance', 'financial', 'financing', 'find', 'finding', 'finish', 'fire', 'firebase', 'firewall', 'fit', 'fix', 'fixed', 'fixture', 'flag', 'flawless', 'flawlessly', 'fleet', 'flexibility', 'flexible', 'flexibly', 'flight', 'flow', 'flowchart', 'fluid', 'fmcg', 'fmea', 'focu', 'focus', 'focused', 'follow', 'food', 'footnote', 'force', 'forecast', 'forecasting', 'forefront', 'foreign', 'forensic', 'form', 'formal', 'formalization', 'formalize', 'format', 'formative', 'formatting', 'formulate', 'formulation', 'forum', 'forward', 'fost', 'foste', 'foster', 'fpga', 'frame', 'framework', 'fraud', 'fraudster', 'free', 'freelance', 'french', 'frequency', 'frequent', 'frequently', 'fresh', 'friction', 'frontline', 'fuel', 'fulfill', 'fulfillment', 'fully', 'function', 'functional', 'functionality', 'functionally', 'functions', 'fundamental', 'fundamentally', 'funding', 'funnel', 'furniture', 'future', 'fx', 'gaap', 'gain', 'game', 'gaming', 'gap', 'garner', 'gate', 'gather', 'gathering', 'gauge', 'gcas', 'gce', 'gcp', 'gdn', 'gdpr', 'general', 'generally', 'generate', 'generation', 'generative', 'generator', 'genuine', 'geographic', 'geographical', 'geographically', 'geography', 'german', 'germany', 'get', 'gfa', 'gift', 'give', 'giveaway', 'global', 'globally', 'globe', 'gms', 'go', 'goal', 'going', 'good', 'google', 'googler', 'googlers', 'googley', 'governance', 'government', 'gpl', 'gps', 'gpse', 'grade', 'graduation', 'grammar', 'graphic', 'great', 'green', 'grid', 'gross', 'ground', 'group', 'grouping', 'grow', 'growth', 'gsi', 'gsrs', 'gtm', 'guarantee', 'guard', 'guidance', 'guide', 'guideline', 'hackathon', 'hand', 'handle', 'handling', 'handover', 'happines', 'hardware', 'harm', 'have', 'head', 'headcount', 'heads', 'health', 'healthcare', 'healthy', 'hearing', 'hedge', 'heighten', 'help', 'helpful', 'hfm', 'high', 'highlight', 'highly', 'hindi', 'hire', 'hiring', 'historical', 'history', 'hit', 'hls', 'hoc', 'hold', 'holistic', 'home', 'homegrown', 'hon', 'hone', 'hong', 'horizontal', 'host', 'hotel', 'hour', 'house', 'hpc', 'hr', 'hrbp', 'hrbps', 'htcondor', 'html', 'huge', 'hundred', 'hybrid', 'hyperion', 'hypothesi', 'hypothesis', 'ia', 'ic', 'icfr', 'iconic', 'iconography', 'idea', 'ideal', 'ideate', 'ideating', 'ideation', 'identification', 'identify', 'identity', 'ie', 'if', 'ifc', 'ifrs', 'ignite', 'illustrate', 'image', 'imagery', 'immediate', 'immersive', 'impact', 'impactful', 'impart', 'impediment', 'implement', 'implementation', 'implementer', 'implication', 'import', 'importance', 'important', 'improv', 'improve', 'improved', 'improvement', 'in', 'inappropriate', 'inbound', 'incentive', 'inception', 'incident', 'incl', 'include', 'inclusion', 'inclusive', 'inclusivenes', 'income', 'incoming', 'inconsistent', 'incorporate', 'increase', 'incredible', 'incredibly', 'incremental', 'incubation', 'incubator', 'independent', 'independently', 'india', 'indicate', 'indicator', 'indicators', 'indirect', 'individual', 'individually', 'indonesia', 'industrial', 'industries', 'industry', 'influence', 'influencer', 'inform', 'information', 'informational', 'informative', 'informed', 'infraction', 'infrastructure', 'infringement', 'initial', 'initiate', 'initiative', 'injury', 'innovate', 'innovation', 'innovative', 'input', 'inquiry', 'insertion', 'inside', 'insight', 'insightful', 'insights', 'insist', 'inspection', 'inspire', 'inspiring', 'instal', 'install', 'installation', 'installers', 'instill', 'institute', 'instruction', 'instructional', 'instructor', 'instrument', 'insure', 'integrate', 'integrated', 'integration', 'integrator', 'integrators', 'integrity', 'intellectual', 'intelligence', 'intend', 'intensively', 'intent', 'interact', 'interaction', 'interactive', 'interconnect', 'interdependency', 'interest', 'interested', 'interesting', 'interfac', 'interface', 'intermediary', 'intermediate', 'intern', 'internal', 'internally', 'international', 'internationally', 'internet', 'internship', 'interpret', 'intersect', 'intersection', 'interview', 'interviewer', 'interviewers', 'introduce', 'introduction', 'introductory', 'invalid', 'inventive', 'inventory', 'invest', 'investigate', 'investigation', 'investigations', 'investigative', 'investment', 'invoice', 'invoicing', 'involve', 'involvement', 'ion', 'ionizing', 'ios', 'ip', 'ipe', 'irregularity', 'israel', 'issue', 'isv', 'it', 'item', 'items', 'iterate', 'iteration', 'iterative', 'iteratively', 'itgcs', 'janitorial', 'japac', 'japan', 'japanese', 'java', 'javascript', 'jdm', 'jigsaw', 'job', 'join', 'joint', 'jointly', 'journal', 'journalist', 'journey', 'judgment', 'judicial', 'junior', 'jurisdiction', 'jurisdictional', 'justify', 'keep', 'key', 'keynote', 'keyword', 'kick', 'kind', 'knack', 'know', 'knowledge', 'knowledgeable', 'kong', 'korea', 'korean', 'kpi', 'kpis', 'laam', 'lab', 'label', 'labeling', 'labor', 'labour', 'ladder', 'lag', 'land', 'landing', 'landowner', 'landscape', 'language', 'large', 'last', 'latam', 'late', 'latency', 'latex', 'latin', 'launch', 'law', 'lawyer', 'layout', 'lcs', 'lead', 'leader', 'leadership', 'leading', 'leaf', 'lean', 'learn', 'learning', 'lease', 'leave', 'led', 'ledger', 'legal', 'legally', 'legislation', 'legislative', 'lend', 'lesson', 'level', 'lever', 'leverage', 'leveraging', 'liability', 'liaise', 'liaison', 'license', 'licensing', 'life', 'lifecycle', 'lift', 'light', 'lighthouse', 'like', 'likelihood', 'limit', 'limited', 'line', 'linguist', 'linguistic', 'link', 'linux', 'liquidity', 'list', 'listen', 'listening', 'lithium', 'litigation', 'live', 'load', 'lobbying', 'local', 'localization', 'localized', 'locate', 'location', 'log', 'logic', 'logical', 'logistic', 'logistics', 'long', 'look', 'loop', 'loophole', 'lot', 'love', 'low', 'lps', 'lsf', 'machine', 'magical', 'mail', 'main', 'mainland', 'mainstream', 'maintain', 'maintainability', 'maintainable', 'maintenance', 'major', 'make', 'maker', 'making', 'manage', 'management', 'manager', 'managers', 'managing', 'mandarin', 'mandate', 'manipulate', 'manner', 'manual', 'manufacturability', 'manufacture', 'manufacturer', 'manufacturing', 'map', 'mapping', 'maps', 'margin', 'market', 'marketer', 'marketing', 'marketo', 'marketplace', 'markets', 'marry', 'mas', 'mass', 'massive', 'master', 'match', 'material', 'materials', 'matrix', 'matrixed', 'matter', 'mature', 'maximization', 'maximize', 'maximum', 'mea', 'mean', 'meaning', 'meaningful', 'measurable', 'measure', 'measurement', 'mechanical', 'mechanism', 'media', 'medium', 'meet', 'meeting', 'melayu', 'member', 'memo', 'memory', 'mena', 'mentor', 'mentoring', 'mentorship', 'merchandise', 'merchandising', 'merchant', 'merit', 'message', 'messaging', 'metadata', 'method', 'methodology', 'metric', 'metrology', 'micro', 'mid', 'migrate', 'migration', 'milestone', 'million', 'mind', 'mindset', 'mine', 'minimal', 'minimize', 'minimum', 'mining', 'minor', 'misalignment', 'mission', 'mitigate', 'mitigation', 'mix', 'mixed', 'ml', 'mobile', 'mobility', 'mock', 'mockup', 'mode', 'model', 'modeling', 'modelling', 'moderate', 'modern', 'modification', 'modify', 'modular', 'module', 'mold', 'moment', 'momentum', 'monetization', 'monitor', 'monitoring', 'month', 'monthly', 'moon', 'morning', 'mortem', 'motion', 'motivate', 'mountain', 'move', 'movement', 'multi', 'multidisciplinary', 'multiple', 'munich', 'music', 'mutual', 'mutually', 'name', 'narrativ', 'narrative', 'nascent', 'national', 'natural', 'nature', 'navigate', 'nbu', 'ne', 'near', 'neatly', 'necessary', 'nee', 'need', 'negative', 'negotiate', 'negotiating', 'negotiation', 'nepa', 'nest', 'net', 'network', 'networking', 'new', 'news', 'next', 'nfs', 'niche', 'nlu', 'node', 'nomenclature', 'non', 'noogler', 'nooglers', 'norm', 'north', 'note', 'notice', 'notification', 'npi', 'nps', 'nuance', 'number', 'nurture', 'objection', 'objective', 'objectives', 'obligation', 'obstacle', 'obtain', 'occur', 'odm', 'oem', 'oems', 'off', 'offensive', 'offer', 'offering', 'office', 'officer', 'official', 'offline', 'offshore', 'ok', 'okr', 'okrs', 'onboard', 'onboarde', 'onboarding', 'one', 'ongoing', 'online', 'onshore', 'onsite', 'op', 'open', 'operate', 'operating', 'operation', 'operational', 'operationalization', 'operationalize', 'operationally', 'operations', 'operator', 'opg', 'opinion', 'opportunity', 'ops', 'optical', 'optimal', 'optimally', 'optimise', 'optimization', 'optimize', 'optimized', 'optimum', 'option', 'optional', 'oqc', 'oral', 'orcad', 'orchestrate', 'orchestration', 'order', 'ordering', 'orders', 'ordinate', 'organic', 'organisation', 'organization', 'organizational', 'organize', 'orient', 'original', 'originals', 'os', 'oth', 'othe', 'our', 'out', 'outage', 'outbound', 'outcome', 'outgoing', 'outline', 'outlook', 'output', 'outreach', 'outside', 'outsource', 'outsourced', 'outsourcing', 'outstanding', 'over', 'overall', 'overarch', 'overcome', 'overlap', 'overseas', 'oversee', 'oversight', 'own', 'owner', 'ownership', 'oxley', 'pa', 'pace', 'pacific', 'package', 'packaging', 'page', 'pager', 'pages', 'pain', 'pair', 'paper', 'parallel', 'parameter', 'parcel', 'parent', 'part', 'partern', 'participant', 'participate', 'participation', 'particular', 'particularly', 'partitioning', 'partner', 'partners', 'partnership', 'partnerships', 'party', 'passion', 'passive', 'path', 'pattern', 'pay', 'payment', 'payments', 'payroll', 'pbs', 'pcb', 'pd', 'pdm', 'peer', 'penetrated', 'penetration', 'people', 'pep', 'perception', 'perf', 'perfect', 'perform', 'performance', 'performing', 'period', 'periodic', 'periodical', 'periodically', 'peripheral', 'perk', 'person', 'persona', 'personal', 'personality', 'personalize', 'personæ', 'perspective', 'persuade', 'pertain', 'pertinent', 'phase', 'phenomenal', 'phenomenon', 'philosophy', 'phone', 'photo', 'physical', 'pick', 'picture', 'piece', 'pillar', 'pilot', 'pip', 'pipeline', 'pitch', 'pixel', 'place', 'placement', 'plan', 'planned', 'planner', 'planners', 'planning', 'platform', 'platforms', 'play', 'playbook', 'player', 'please', 'pm', 'pmm', 'poc', 'pod', 'poignant', 'point', 'police', 'policy', 'polished', 'political', 'politician', 'pool', 'pooling', 'pops', 'population', 'porosity', 'portal', 'portfolio', 'position', 'positioning', 'positive', 'posses', 'possible', 'post', 'posting', 'postings', 'postmortem', 'posture', 'potential', 'potentially', 'power', 'powerful', 'pqp', 'pr', 'practical', 'practice', 'practitioners', 'pragmatic', 'pre', 'predevelopment', 'predict', 'predictable', 'prediction', 'predictive', 'preemptive', 'preference', 'preferred', 'preliminary', 'premise', 'preparation', 'prepare', 'preparednes', 'prepayment', 'pres', 'prescriptively', 'presence', 'present', 'presentation', 'presenter', 'presenting', 'preservation', 'pressure', 'prevent', 'previous', 'price', 'pricing', 'primarily', 'primary', 'principle', 'printed', 'prioritization', 'prioritize', 'prioritized', 'priority', 'privacy', 'private', 'prm', 'pro', 'proactive', 'proactively', 'problem', 'procedural', 'procedure', 'proces', 'process', 'processing', 'processor', 'procurement', 'produce', 'producer', 'product', 'production', 'productionize', 'productionizing', 'productive', 'productivity', 'productize', 'professional', 'professionally', 'professor', 'proficient', 'profile', 'profit', 'profitability', 'profitable', 'program', 'programmable', 'programmatic', 'programming', 'programs', 'progres', 'progression', 'progressive', 'project', 'projection', 'projects', 'promise', 'promote', 'promoter', 'promotion', 'promotional', 'prompt', 'promptly', 'proof', 'proofread', 'prop', 'prope', 'properly', 'properties', 'property', 'proposal', 'proposals', 'propose', 'proposition', 'proprietary', 'prospect', 'prospecting', 'prospective', 'protect', 'protection', 'protective', 'protocol', 'prototyp', 'prototype', 'prototyper', 'prototyping', 'prove', 'provide', 'provider', 'provision', 'pse', 'psm', 'psychosocial', 'public', 'publication', 'publish', 'publisher', 'publishing', 'pull', 'pulse', 'purchase', 'pursue', 'push', 'put', 'pwa', 'python', 'qa', 'qbrs', 'qor', 'qualified', 'qualify', 'qualitative', 'quality', 'quantify', 'quantitative', 'quantity', 'quarter', 'quarterly', 'query', 'question', 'queue', 'quick', 'quickly', 'quo', 'quota', 'quotation', 'quotations', 'raise', 'ramp', 'range', 'rapid', 'rapidly', 'rate', 'rating', 'ratio', 'rationale', 'rationalize', 'rc', 'rcs', 'reach', 'react', 'reactive', 'read', 'readability', 'readines', 'ready', 'real', 'realistic', 'reality', 'realize', 'reason', 'reasonable', 'reasoning', 'receivable', 'receive', 'reception', 'recognition', 'recognize', 'recommend', 'recommendation', 'reconcile', 'reconciliation', 'record', 'recording', 'recovery', 'recruit', 'recruiter', 'recruiters', 'recruiting', 'recruitment', 'rectify', 'recur', 'recurrence', 'redesign', 'redirect', 'reduce', 'reduction', 'refer', 'reference', 'referral', 'referrals', 'refine', 'refined', 'refinement', 'reflect', 'refresh', 'refreshment', 'regard', 'region', 'regional', 'regionally', 'register', 'registration', 'regular', 'regularly', 'regulated', 'regulation', 'regulator', 'regulatory', 'rehearsal', 'reject', 'relate', 'related', 'relation', 'relations', 'relationship', 'relative', 'release', 'relevance', 'relevant', 'reliability', 'reliably', 'remain', 'remediation', 'remote', 'removal', 'remove', 'rendering', 'renew', 'renewal', 'rent', 'reorganization', 'repair', 'repatriation', 'repeatable', 'replicate', 'replication', 'report', 'reporting', 'repository', 'represent', 'representative', 'representatives', 'reproduce', 'repurchase', 'reputation', 'reputational', 'request', 'requests', 'require', 'requirement', 'requisition', 'research', 'researched', 'researcher', 'researchers', 'resell', 'reseller', 'reservation', 'reserve', 'residential', 'residual', 'resilience', 'resistance', 'resolution', 'resolve', 'resonate', 'resource', 'resourcing', 'respect', 'respective', 'respond', 'response', 'responsibility', 'responsible', 'responsive', 'responsivenes', 'rest', 'restrict', 'restructuring', 'result', 'results', 'resume', 'retail', 'retailer', 'retain', 'retention', 'retrieval', 'return', 'reusable', 'reveal', 'revenue', 'reverse', 'review', 'reviewer', 'reviews', 'revision', 'reward', 'rews', 'rfi', 'rfp', 'rfps', 'rfq', 'rfx', 'rhythm', 'rich', 'right', 'rigor', 'rigorous', 'risk', 'rma', 'road', 'roadblock', 'roadmap', 'robotic', 'robust', 'roi', 'role', 'roll', 'rollout', 'room', 'root', 'rotate', 'rotation', 'rout', 'route', 'router', 'routine', 'routinely', 'rtl', 'rule', 'run', 'russia', 'russian', 'saas', 'safely', 'safety', 'salary', 'sale', 'sales', 'salesforce', 'sample', 'sap', 'sarbanes', 'satisfaction', 'satisfied', 'satisfy', 'saving', 'savings', 'scalability', 'scalable', 'scale', 'scaled', 'scaling', 'scenario', 'schedule', 'scheduling', 'schematic', 'science', 'sciences', 'scientist', 'scop', 'scope', 'scoping', 'score', 'scorecard', 'screen', 'script', 'scripted', 'scripting', 'sculpt', 'sdm', 'sea', 'seamless', 'search', 'seasonal', 'seating', 'sector', 'secure', 'security', 'seek', 'segment', 'segmentation', 'select', 'selection', 'self', 'sell', 'selling', 'seminar', 'send', 'senior', 'sense', 'sensitive', 'sensitivity', 'sensor', 'separator', 'serie', 'serve', 'server', 'service', 'serviceability', 'services', 'servicing', 'sery', 'session', 'set', 'setting', 'setup', 'sfdc', 'shape', 'share', 'sharing', 'sheet', 'shepherd', 'shepherding', 'shift', 'ship', 'shopping', 'short', 'shot', 'show', 'showcas', 'showcase', 'sigma', 'sign', 'signal', 'significance', 'significant', 'signup', 'silicon', 'similar', 'simple', 'simplify', 'simply', 'simulation', 'simultaneous', 'simultaneously', 'single', 'site', 'situation', 'six', 'size', 'sized', 'sketch', 'sketching', 'skill', 'sla', 'slide', 'small', 'smart', 'smb', 'sme', 'smooth', 'smoothly', 'smt', 'soc', 'social', 'socialize', 'software', 'solid', 'solidify', 'solution', 'solutions', 'solve', 'sophisticated', 'sound', 'source', 'sourcer', 'sourcing', 'south', 'southeast', 'sox', 'sp', 'space', 'spam', 'span', 'spar', 'spawn', 'spe', 'speak', 'speaker', 'speaking', 'spearhead', 'special', 'specialist', 'specialists', 'specialized', 'specific', 'specifically', 'specification', 'specified', 'specify', 'specimen', 'spectrum', 'spee', 'speech', 'speed', 'spend', 'spirit', 'spokespeople', 'spokesperson', 'sponsor', 'sponsorship', 'sport', 'sports', 'spread', 'sprint', 'sql', 'sre', 'ssp', 'stability', 'stabilization', 'stable', 'staff', 'staffer', 'staffing', 'stage', 'stakeholder', 'stand', 'standard', 'standardization', 'standing', 'start', 'startup', 'state', 'statement', 'states', 'static', 'statistic', 'statistical', 'statu', 'statutory', 'stay', 'steer', 'steering', 'stellar', 'step', 'steward', 'stewardship', 'stimulate', 'stimulating', 'stop', 'storage', 'store', 'story', 'storyboard', 'storyline', 'storytell', 'storytelle', 'storytelling', 'strategic', 'strategically', 'strategist', 'strategists', 'strategize', 'strategy', 'stream', 'streamline', 'streamlined', 'strength', 'strengthen', 'stres', 'strive', 'strong', 'structure', 'structured', 'structuring', 'student', 'studio', 'study', 'stunning', 'style', 'sub', 'subject', 'submission', 'submit', 'subpoena', 'subregion', 'subscription', 'subsequent', 'substantially', 'substantiate', 'substantive', 'subsystem', 'succes', 'successful', 'successfully', 'sufficient', 'sufficiently', 'suggest', 'suggestion', 'suitable', 'suite', 'summarize', 'summary', 'summit', 'sun', 'sunset', 'supervise', 'supervision', 'supplement', 'supplier', 'suppliers', 'supply', 'support', 'supportive', 'sure', 'surface', 'survey', 'suspect', 'suspension', 'sustain', 'sustainability', 'sustainable', 'sustainably', 'sustaining', 'svmg', 'switch', 'synchronize', 'syndicate', 'syndicated', 'synthesi', 'synthesis', 'synthesize', 'system', 'systematic', 'systematically', 'systems', 'table', 'tablet', 'tactfully', 'tactic', 'tactical', 'tag', 'tailor', 'taipei', 'taiwan', 'take', 'takeaway', 'taking', 'talent', 'talented', 'talk', 'tam', 'target', 'targeting', 'task', 'tax', 'teach', 'team', 'teammate', 'teams', 'tease', 'tech', 'technical', 'technically', 'technician', 'technicians', 'technique', 'technological', 'technologist', 'technology', 'telco', 'telecom', 'telecommunication', 'tell', 'temp', 'template', 'temporary', 'tenet', 'term', 'territory', 'test', 'testability', 'testing', 'text', 'texture', 'thai', 'theatrical', 'theft', 'theme', 'theoretical', 'theory', 'thing', 'think', 'thinking', 'this', 'thorough', 'thoroughly', 'thought', 'thoughtful', 'threat', 'thrive', 'throughput', 'ticket', 'ticketing', 'tie', 'tier', 'tight', 'tightly', 'time', 'timeline', 'timelines', 'timely', 'timing', 'title', 'tla', 'tlm', 'to', 'today', 'tolerance', 'tone', 'tool', 'tooling', 'toolkit', 'tools', 'topic', 'total', 'touch', 'tough', 'toy', 'toyota', 'track', 'tracking', 'traction', 'trade', 'trademark', 'tradeoff', 'trading', 'traditional', 'traffic', 'train', 'trainer', 'trainers', 'training', 'trajectory', 'transact', 'transaction', 'transfer', 'transform', 'transformation', 'transformational', 'transition', 'translate', 'translation', 'transparency', 'transparent', 'transparently', 'transportation', 'travel', 'treasury', 'treat', 'treatment', 'trend', 'triage', 'trial', 'tricky', 'trip', 'trouble', 'troubleshoot', 'troubleshooting', 'true', 'trust', 'trusted', 'trustworthy', 'try', 'tuning', 'turn', 'tutorial', 'tv', 'tvc', 'type', 'typical', 'typography', 'uat', 'ui', 'uk', 'ukraine', 'ul', 'ultimate', 'ultimately', 'unanticipated', 'uncover', 'underlying', 'underpin', 'understand', 'understandable', 'understanding', 'unified', 'uniform', 'unique', 'uniquely', 'unit', 'united', 'unity', 'university', 'unlock', 'unmet', 'unplanned', 'unprecedented', 'unscripted', 'unstructured', 'up', 'upcoming', 'updatability', 'update', 'updated', 'upfronts', 'upgrade', 'uplift', 'upload', 'upp', 'uppe', 'upscale', 'upskill', 'upskilling', 'upstream', 'uptime', 'urban', 'urgent', 'us', 'usa', 'usability', 'usable', 'usage', 'use', 'useful', 'user', 'ush', 'ushe', 'utility', 'utilization', 'utilize', 'utmost', 'utterly', 'ux', 'uxr', 'validate', 'validation', 'validity', 'valuable', 'valuation', 'value', 'vandalism', 'variable', 'variance', 'varied', 'variety', 'vary', 'vc', 'vector', 'vehicle', 'velocity', 'vending', 'vendor', 'vendorization', 'vendors', 'verbal', 'verbally', 'verification', 'verify', 'verilog', 'versatile', 'verse', 'version', 'versus', 'vertical', 'vet', 'vetting', 'vibrant', 'video', 'vietnamese', 'view', 'violation', 'vip', 'virtual', 'visa', 'visibility', 'vision', 'visionary', 'visit', 'visual', 'visualization', 'visually', 'voice', 'volume', 'vp', 'vps', 'vr', 'vui', 'vulnerability', 'warehouse', 'warehousing', 'warm', 'warning', 'warranty', 'watch', 'way', 'waze', 'weakness', 'web', 'webcasts', 'webpagetest', 'website', 'week', 'weekend', 'weekly', 'weight', 'well', 'whilst', 'white', 'whiteboard', 'whiteboarding', 'whitepaper', 'wide', 'willing', 'willingnes', 'win', 'windows', 'wireframe', 'wireless', 'work', 'workaround', 'worker', 'workflow', 'workforce', 'working', 'workload', 'workplace', 'workshop', 'workstream', 'world', 'worldwide', 'worthy', 'wrap', 'write', 'writer', 'writers', 'writing', 'yard', 'year', 'yearly', 'yield', 'youtube', 'zone', 'などの', 'コミュニティと連携する', 'ソフトウェアの低レベル開発に取り組む', '新しいマルチプラットフォームの基準や']\n"
     ]
    }
   ],
   "source": [
    "# Apply the vectorizer on all tokenized Responsibility rows\n",
    "\n",
    "vectorizer = TfidfVectorizer(lowercase=False, decode_error='ignore')\n",
    "\n",
    "X = vectorizer.fit_transform(df_tokenized)\n",
    "\n",
    "# convert sparse matrix to dense matrix\n",
    "X_dense = X.todense()\n",
    "\n",
    "print(X_dense.shape)\n",
    "\n",
    "# print the features\n",
    "print(vectorizer.get_feature_names())"
   ]
  },
  {
   "cell_type": "code",
   "execution_count": null,
   "metadata": {},
   "outputs": [],
   "source": []
  },
  {
   "cell_type": "markdown",
   "metadata": {},
   "source": [
    "## Visualize\n",
    "\n",
    "t-SNE (t-Distributed Stochastic Neighbour Embedding) is more suited for sparse features than PCA.\n",
    "\n",
    "Text features are \"sparse\" because not all the same words always appear."
   ]
  },
  {
   "cell_type": "code",
   "execution_count": null,
   "metadata": {},
   "outputs": [],
   "source": [
    "from sklearn.manifold import TSNE\n",
    "\n",
    "tsne = TSNE(n_components=2, random_state=42)\n",
    "X_2d = tsne.fit_transform(X_dense)"
   ]
  },
  {
   "cell_type": "code",
   "execution_count": 124,
   "metadata": {},
   "outputs": [
    {
     "data": {
      "image/png": "[encoded data removed]",
      "text/plain": [
       "<matplotlib.figure.Figure at 0x1a14859748>"
      ]
     },
     "metadata": {},
     "output_type": "display_data"
    }
   ],
   "source": [
    "fig, ax = plt.subplots(figsize=(15, 10))\n",
    "\n",
    "ax.scatter(X_2d[:, 0], X_2d[:, 1], c=df.y)\n",
    "\n",
    "ax.set(title='t-SNE plot for Responsibilities (X) and Job Categories (y)',\n",
    "       xlabel='X_2d[:, 0]', ylabel='X_2d[:, 1]')\n",
    "ax.grid()\n",
    "plt.show()"
   ]
  },
  {
   "cell_type": "code",
   "execution_count": null,
   "metadata": {},
   "outputs": [],
   "source": []
  },
  {
   "cell_type": "code",
   "execution_count": 131,
   "metadata": {},
   "outputs": [],
   "source": [
    "from sklearn.model_selection import train_test_split\n",
    "\n",
    "X_train, X_test, y_train, y_test = train_test_split(X_dense, df.y, random_state=42)"
   ]
  },
  {
   "cell_type": "code",
   "execution_count": 143,
   "metadata": {
    "scrolled": false
   },
   "outputs": [
    {
     "name": "stdout",
     "output_type": "stream",
     "text": [
      "<class 'sklearn.dummy.DummyClassifier'>\n",
      "             precision    recall  f1-score   support\n",
      "\n",
      "          0       0.00      0.00      0.00         6\n",
      "          1       0.04      0.03      0.03        31\n",
      "          3       0.00      0.00      0.00         1\n",
      "          4       0.21      0.27      0.23        30\n",
      "          5       0.00      0.00      0.00         2\n",
      "          6       0.00      0.00      0.00         4\n",
      "          7       0.00      0.00      0.00         7\n",
      "          8       0.00      0.00      0.00         6\n",
      "          9       0.10      0.10      0.10        42\n",
      "         11       0.07      0.08      0.07        13\n",
      "         12       0.00      0.00      0.00        19\n",
      "         13       0.10      0.05      0.07        20\n",
      "         14       0.06      0.06      0.06        17\n",
      "         15       0.00      0.00      0.00         6\n",
      "         16       0.15      0.15      0.15        48\n",
      "         17       0.00      0.00      0.00         7\n",
      "         18       0.00      0.00      0.00         4\n",
      "         19       0.00      0.00      0.00         3\n",
      "         20       0.17      0.15      0.16        26\n",
      "         21       0.00      0.00      0.00         1\n",
      "         22       0.10      0.12      0.11        16\n",
      "\n",
      "avg / total       0.09      0.09      0.09       309\n",
      "\n",
      "<class 'sklearn.linear_model.logistic.LogisticRegression'>\n",
      "             precision    recall  f1-score   support\n",
      "\n",
      "          0       1.00      0.50      0.67         6\n",
      "          1       0.44      0.23      0.30        31\n",
      "          3       0.00      0.00      0.00         1\n",
      "          4       0.60      0.83      0.69        30\n",
      "          5       0.00      0.00      0.00         2\n",
      "          6       0.00      0.00      0.00         4\n",
      "          7       1.00      0.86      0.92         7\n",
      "          8       1.00      0.67      0.80         6\n",
      "          9       0.55      0.90      0.68        42\n",
      "         11       0.50      0.46      0.48        13\n",
      "         12       0.84      0.84      0.84        19\n",
      "         13       1.00      0.05      0.10        20\n",
      "         14       0.69      0.53      0.60        17\n",
      "         15       0.75      0.50      0.60         6\n",
      "         16       0.63      0.83      0.72        48\n",
      "         17       0.00      0.00      0.00         7\n",
      "         18       1.00      0.25      0.40         4\n",
      "         19       0.00      0.00      0.00         3\n",
      "         20       0.69      0.85      0.76        26\n",
      "         21       1.00      1.00      1.00         1\n",
      "         22       0.70      1.00      0.82        16\n",
      "\n",
      "avg / total       0.64      0.64      0.59       309\n",
      "\n",
      "<class 'sklearn.linear_model.stochastic_gradient.SGDClassifier'>\n"
     ]
    },
    {
     "name": "stderr",
     "output_type": "stream",
     "text": [
      "/anaconda3/envs/py36/lib/python3.6/site-packages/sklearn/metrics/classification.py:1135: UndefinedMetricWarning: Precision and F-score are ill-defined and being set to 0.0 in labels with no predicted samples.\n",
      "  'precision', 'predicted', average, warn_for)\n"
     ]
    },
    {
     "name": "stdout",
     "output_type": "stream",
     "text": [
      "             precision    recall  f1-score   support\n",
      "\n",
      "          0       1.00      0.50      0.67         6\n",
      "          1       0.59      0.77      0.67        31\n",
      "          3       1.00      1.00      1.00         1\n",
      "          4       0.88      0.50      0.64        30\n",
      "          5       0.00      0.00      0.00         2\n",
      "          6       1.00      0.25      0.40         4\n",
      "          7       1.00      0.86      0.92         7\n",
      "          8       0.60      1.00      0.75         6\n",
      "          9       0.71      0.93      0.80        42\n",
      "         11       0.53      0.62      0.57        13\n",
      "         12       0.89      0.89      0.89        19\n",
      "         13       1.00      0.50      0.67        20\n",
      "         14       0.80      0.47      0.59        17\n",
      "         15       0.80      0.67      0.73         6\n",
      "         16       0.85      0.83      0.84        48\n",
      "         17       0.44      0.57      0.50         7\n",
      "         18       0.27      1.00      0.42         4\n",
      "         19       0.00      0.00      0.00         3\n",
      "         20       0.86      0.69      0.77        26\n",
      "         21       1.00      1.00      1.00         1\n",
      "         22       0.73      1.00      0.84        16\n",
      "\n",
      "avg / total       0.77      0.73      0.72       309\n",
      "\n",
      "<class 'sklearn.naive_bayes.GaussianNB'>\n",
      "             precision    recall  f1-score   support\n",
      "\n",
      "          0       0.30      0.50      0.37         6\n",
      "          1       0.59      0.74      0.66        31\n",
      "          3       1.00      1.00      1.00         1\n",
      "          4       0.58      0.47      0.52        30\n",
      "          5       0.00      0.00      0.00         2\n",
      "          6       1.00      0.25      0.40         4\n",
      "          7       1.00      0.43      0.60         7\n",
      "          8       1.00      0.83      0.91         6\n",
      "          9       0.61      0.71      0.66        42\n",
      "         11       0.56      0.38      0.45        13\n",
      "         12       0.53      1.00      0.69        19\n",
      "         13       0.80      0.60      0.69        20\n",
      "         14       0.90      0.53      0.67        17\n",
      "         15       0.67      0.67      0.67         6\n",
      "         16       0.69      0.60      0.64        48\n",
      "         17       0.40      0.57      0.47         7\n",
      "         18       0.75      0.75      0.75         4\n",
      "         19       0.00      0.00      0.00         3\n",
      "         20       0.83      0.77      0.80        26\n",
      "         21       1.00      1.00      1.00         1\n",
      "         22       0.83      0.94      0.88        16\n",
      "\n",
      "avg / total       0.68      0.65      0.65       309\n",
      "\n",
      "<class 'sklearn.svm.classes.SVC'>\n",
      "             precision    recall  f1-score   support\n",
      "\n",
      "          0       0.00      0.00      0.00         6\n",
      "          1       0.00      0.00      0.00        31\n",
      "          3       0.00      0.00      0.00         1\n",
      "          4       0.00      0.00      0.00        30\n",
      "          5       0.00      0.00      0.00         2\n",
      "          6       0.00      0.00      0.00         4\n",
      "          7       0.00      0.00      0.00         7\n",
      "          8       0.00      0.00      0.00         6\n",
      "          9       0.14      1.00      0.24        42\n",
      "         11       0.00      0.00      0.00        13\n",
      "         12       0.00      0.00      0.00        19\n",
      "         13       0.00      0.00      0.00        20\n",
      "         14       0.00      0.00      0.00        17\n",
      "         15       0.00      0.00      0.00         6\n",
      "         16       0.00      0.00      0.00        48\n",
      "         17       0.00      0.00      0.00         7\n",
      "         18       0.00      0.00      0.00         4\n",
      "         19       0.00      0.00      0.00         3\n",
      "         20       0.00      0.00      0.00        26\n",
      "         21       0.00      0.00      0.00         1\n",
      "         22       0.00      0.00      0.00        16\n",
      "\n",
      "avg / total       0.02      0.14      0.03       309\n",
      "\n",
      "<class 'sklearn.neighbors.classification.KNeighborsClassifier'>\n"
     ]
    },
    {
     "name": "stderr",
     "output_type": "stream",
     "text": [
      "/anaconda3/envs/py36/lib/python3.6/site-packages/sklearn/metrics/classification.py:1137: UndefinedMetricWarning: Recall and F-score are ill-defined and being set to 0.0 in labels with no true samples.\n",
      "  'recall', 'true', average, warn_for)\n"
     ]
    },
    {
     "name": "stdout",
     "output_type": "stream",
     "text": [
      "             precision    recall  f1-score   support\n",
      "\n",
      "          0       1.00      0.50      0.67         6\n",
      "          1       0.53      0.68      0.59        31\n",
      "          3       1.00      1.00      1.00         1\n",
      "          4       0.85      0.77      0.81        30\n",
      "          5       0.00      0.00      0.00         2\n",
      "          6       0.00      0.00      0.00         4\n",
      "          7       0.60      0.86      0.71         7\n",
      "          8       0.86      1.00      0.92         6\n",
      "          9       0.70      0.74      0.72        42\n",
      "         10       0.00      0.00      0.00         0\n",
      "         11       0.39      0.54      0.45        13\n",
      "         12       1.00      0.84      0.91        19\n",
      "         13       0.44      0.20      0.28        20\n",
      "         14       0.50      0.35      0.41        17\n",
      "         15       0.67      0.67      0.67         6\n",
      "         16       0.67      0.75      0.71        48\n",
      "         17       0.40      0.57      0.47         7\n",
      "         18       0.80      1.00      0.89         4\n",
      "         19       0.00      0.00      0.00         3\n",
      "         20       0.70      0.73      0.72        26\n",
      "         21       1.00      1.00      1.00         1\n",
      "         22       0.94      1.00      0.97        16\n",
      "\n",
      "avg / total       0.67      0.67      0.66       309\n",
      "\n",
      "<class 'sklearn.neural_network.multilayer_perceptron.MLPClassifier'>\n",
      "             precision    recall  f1-score   support\n",
      "\n",
      "          0       1.00      0.50      0.67         6\n",
      "          1       0.73      0.77      0.75        31\n",
      "          3       1.00      1.00      1.00         1\n",
      "          4       0.92      0.77      0.84        30\n",
      "          5       0.00      0.00      0.00         2\n",
      "          6       1.00      0.25      0.40         4\n",
      "          7       1.00      0.86      0.92         7\n",
      "          8       1.00      1.00      1.00         6\n",
      "          9       0.73      0.95      0.82        42\n",
      "         11       0.75      0.46      0.57        13\n",
      "         12       0.78      0.95      0.86        19\n",
      "         13       0.83      0.50      0.62        20\n",
      "         14       0.88      0.82      0.85        17\n",
      "         15       0.80      0.67      0.73         6\n",
      "         16       0.76      0.88      0.82        48\n",
      "         17       0.80      0.57      0.67         7\n",
      "         18       0.80      1.00      0.89         4\n",
      "         19       0.00      0.00      0.00         3\n",
      "         20       0.71      0.77      0.74        26\n",
      "         21       1.00      1.00      1.00         1\n",
      "         22       0.84      1.00      0.91        16\n",
      "\n",
      "avg / total       0.79      0.79      0.77       309\n",
      "\n"
     ]
    }
   ],
   "source": [
    "from sklearn.dummy import DummyClassifier\n",
    "from sklearn.linear_model import LogisticRegression, SGDClassifier\n",
    "from sklearn.neighbors import KNeighborsClassifier\n",
    "from sklearn.naive_bayes import GaussianNB\n",
    "from sklearn.neural_network import MLPClassifier # just for kicks\n",
    "\n",
    "from sklearn.metrics import classification_report\n",
    "\n",
    "classifiers = [\n",
    "    DummyClassifier(random_state=42),\n",
    "    LogisticRegression(random_state=42),\n",
    "    SGDClassifier(random_state=42, tol=1e-8, max_iter=1000),\n",
    "    GaussianNB(),\n",
    "    SVC(kernel='poly', degree=5, random_state=42),\n",
    "    KNeighborsClassifier(),\n",
    "    MLPClassifier(random_state=42, tol=1e-8, max_iter=1000)\n",
    "]\n",
    "\n",
    "for clf in classifiers:\n",
    "    print(type(clf))\n",
    "    clf.fit(X_train, y_train)\n",
    "    pred = clf.predict(X_test)\n",
    "    print(classification_report(y_test, pred))"
   ]
  },
  {
   "cell_type": "code",
   "execution_count": null,
   "metadata": {},
   "outputs": [],
   "source": []
  },
  {
   "cell_type": "markdown",
   "metadata": {},
   "source": [
    "## Learning Curve\n",
    "\n",
    "Example of learning curve."
   ]
  },
  {
   "cell_type": "code",
   "execution_count": 163,
   "metadata": {},
   "outputs": [
    {
     "name": "stderr",
     "output_type": "stream",
     "text": [
      "/anaconda3/envs/py36/lib/python3.6/site-packages/sklearn/model_selection/_split.py:605: Warning: The least populated class in y has only 1 members, which is too few. The minimum number of members in any class cannot be less than n_splits=3.\n",
      "  % (min_groups, self.n_splits)), Warning)\n",
      "/anaconda3/envs/py36/lib/python3.6/site-packages/sklearn/neural_network/multilayer_perceptron.py:564: ConvergenceWarning: Stochastic Optimizer: Maximum iterations (1000) reached and the optimization hasn't converged yet.\n",
      "  % self.max_iter, ConvergenceWarning)\n",
      "/anaconda3/envs/py36/lib/python3.6/site-packages/sklearn/neural_network/multilayer_perceptron.py:564: ConvergenceWarning: Stochastic Optimizer: Maximum iterations (1000) reached and the optimization hasn't converged yet.\n",
      "  % self.max_iter, ConvergenceWarning)\n",
      "/anaconda3/envs/py36/lib/python3.6/site-packages/sklearn/neural_network/multilayer_perceptron.py:564: ConvergenceWarning: Stochastic Optimizer: Maximum iterations (1000) reached and the optimization hasn't converged yet.\n",
      "  % self.max_iter, ConvergenceWarning)\n",
      "/anaconda3/envs/py36/lib/python3.6/site-packages/sklearn/neural_network/multilayer_perceptron.py:564: ConvergenceWarning: Stochastic Optimizer: Maximum iterations (1000) reached and the optimization hasn't converged yet.\n",
      "  % self.max_iter, ConvergenceWarning)\n",
      "/anaconda3/envs/py36/lib/python3.6/site-packages/sklearn/neural_network/multilayer_perceptron.py:564: ConvergenceWarning: Stochastic Optimizer: Maximum iterations (1000) reached and the optimization hasn't converged yet.\n",
      "  % self.max_iter, ConvergenceWarning)\n",
      "/anaconda3/envs/py36/lib/python3.6/site-packages/sklearn/neural_network/multilayer_perceptron.py:564: ConvergenceWarning: Stochastic Optimizer: Maximum iterations (1000) reached and the optimization hasn't converged yet.\n",
      "  % self.max_iter, ConvergenceWarning)\n"
     ]
    },
    {
     "name": "stdout",
     "output_type": "stream",
     "text": [
      "train_size mean_train_score mean_val_score\n",
      "60 0.9888888888888889 0.4341765653944691\n",
      "197 0.9898477157360407 0.6031442820215255\n",
      "334 0.9870259481037924 0.6699346812259929\n",
      "471 0.97310686482661 0.698042004450324\n",
      "608 0.9566885964912282 0.7127501571697481\n"
     ]
    },
    {
     "data": {
      "image/png": "[encoded data removed]",
      "text/plain": [
       "<matplotlib.figure.Figure at 0x1a1c3f1a58>"
      ]
     },
     "metadata": {},
     "output_type": "display_data"
    }
   ],
   "source": [
    "from sklearn.model_selection import learning_curve\n",
    "\n",
    "clf = MLPClassifier(random_state=42, tol=1e-8, max_iter=1000)\n",
    "train_sizes, train_score, val_score = learning_curve(clf, X_train, y_train)\n",
    "\n",
    "train_mean = np.mean(train_score, axis=1)\n",
    "val_mean = np.mean(val_score, axis=1)\n",
    "\n",
    "print('train_size', 'mean_train_score', 'mean_val_score')\n",
    "for train_size, t, m in zip(train_sizes, train_mean, val_mean):\n",
    "    print(train_size, t, m)\n",
    "\n",
    "fig, ax = plt.subplots(figsize=(15, 10))\n",
    "ax.plot(train_sizes, train_mean, label='train score', marker='x')\n",
    "ax.plot(train_sizes, val_mean, label='val score', marker='o')\n",
    "\n",
    "ax.set(xlabel='train size', ylabel='mean accuracy', title='Learning Curve')\n",
    "ax.grid()\n",
    "ax.legend()\n",
    "plt.show()    "
   ]
  },
  {
   "cell_type": "code",
   "execution_count": 159,
   "metadata": {},
   "outputs": [],
   "source": []
  },
  {
   "cell_type": "code",
   "execution_count": null,
   "metadata": {},
   "outputs": [],
   "source": []
  },
  {
   "cell_type": "markdown",
   "metadata": {},
   "source": [
    "## Predictions\n",
    "\n",
    "Let's perform some predictions with real job postings.\n",
    "\n",
    "1. https://careers.google.com/jobs/\n",
    "2. Pick a posting, copy the Job Responsibilities\n",
    "3. Transform the input by tokenizing and then using the TfIdfVectorizer\n",
    "4. Get the prediction"
   ]
  },
  {
   "cell_type": "code",
   "execution_count": 152,
   "metadata": {},
   "outputs": [
    {
     "name": "stdout",
     "output_type": "stream",
     "text": [
      "DummyClassifier(constant=None, random_state=42, strategy='stratified')\n",
      "['Business Strategy']\n",
      "\n",
      "LogisticRegression(C=1.0, class_weight=None, dual=False, fit_intercept=True,\n",
      "          intercept_scaling=1, max_iter=100, multi_class='ovr', n_jobs=1,\n",
      "          penalty='l2', random_state=42, solver='liblinear', tol=0.0001,\n",
      "          verbose=0, warm_start=False)\n",
      "['Technical Solutions']\n",
      "\n",
      "SGDClassifier(alpha=0.0001, average=False, class_weight=None, epsilon=0.1,\n",
      "       eta0=0.0, fit_intercept=True, l1_ratio=0.15,\n",
      "       learning_rate='optimal', loss='hinge', max_iter=1000, n_iter=None,\n",
      "       n_jobs=1, penalty='l2', power_t=0.5, random_state=42, shuffle=True,\n",
      "       tol=1e-08, verbose=0, warm_start=False)\n",
      "['Technical Solutions']\n",
      "\n",
      "GaussianNB(priors=None)\n",
      "['Technical Solutions']\n",
      "\n",
      "SVC(C=1.0, cache_size=200, class_weight=None, coef0=0.0,\n",
      "  decision_function_shape='ovr', degree=5, gamma='auto', kernel='poly',\n",
      "  max_iter=-1, probability=False, random_state=42, shrinking=True,\n",
      "  tol=0.001, verbose=False)\n",
      "['Marketing & Communications']\n",
      "\n",
      "KNeighborsClassifier(algorithm='auto', leaf_size=30, metric='minkowski',\n",
      "           metric_params=None, n_jobs=1, n_neighbors=5, p=2,\n",
      "           weights='uniform')\n",
      "['Program Management']\n",
      "\n",
      "MLPClassifier(activation='relu', alpha=0.0001, batch_size='auto', beta_1=0.9,\n",
      "       beta_2=0.999, early_stopping=False, epsilon=1e-08,\n",
      "       hidden_layer_sizes=(100,), learning_rate='constant',\n",
      "       learning_rate_init=0.001, max_iter=1000, momentum=0.9,\n",
      "       nesterovs_momentum=True, power_t=0.5, random_state=42, shuffle=True,\n",
      "       solver='adam', tol=1e-08, validation_fraction=0.1, verbose=False,\n",
      "       warm_start=False)\n",
      "['Technical Solutions']\n",
      "\n"
     ]
    },
    {
     "name": "stderr",
     "output_type": "stream",
     "text": [
      "/anaconda3/envs/py36/lib/python3.6/site-packages/sklearn/preprocessing/label.py:151: DeprecationWarning: The truth value of an empty array is ambiguous. Returning False, but in future this will result in an error. Use `array.size > 0` to check that an array is not empty.\n",
      "  if diff:\n",
      "/anaconda3/envs/py36/lib/python3.6/site-packages/sklearn/preprocessing/label.py:151: DeprecationWarning: The truth value of an empty array is ambiguous. Returning False, but in future this will result in an error. Use `array.size > 0` to check that an array is not empty.\n",
      "  if diff:\n",
      "/anaconda3/envs/py36/lib/python3.6/site-packages/sklearn/preprocessing/label.py:151: DeprecationWarning: The truth value of an empty array is ambiguous. Returning False, but in future this will result in an error. Use `array.size > 0` to check that an array is not empty.\n",
      "  if diff:\n",
      "/anaconda3/envs/py36/lib/python3.6/site-packages/sklearn/preprocessing/label.py:151: DeprecationWarning: The truth value of an empty array is ambiguous. Returning False, but in future this will result in an error. Use `array.size > 0` to check that an array is not empty.\n",
      "  if diff:\n",
      "/anaconda3/envs/py36/lib/python3.6/site-packages/sklearn/preprocessing/label.py:151: DeprecationWarning: The truth value of an empty array is ambiguous. Returning False, but in future this will result in an error. Use `array.size > 0` to check that an array is not empty.\n",
      "  if diff:\n",
      "/anaconda3/envs/py36/lib/python3.6/site-packages/sklearn/preprocessing/label.py:151: DeprecationWarning: The truth value of an empty array is ambiguous. Returning False, but in future this will result in an error. Use `array.size > 0` to check that an array is not empty.\n",
      "  if diff:\n",
      "/anaconda3/envs/py36/lib/python3.6/site-packages/sklearn/preprocessing/label.py:151: DeprecationWarning: The truth value of an empty array is ambiguous. Returning False, but in future this will result in an error. Use `array.size > 0` to check that an array is not empty.\n",
      "  if diff:\n"
     ]
    }
   ],
   "source": [
    "# https://careers.google.com/jobs/#!t=jo&jid=/google/migrations-architect-google-cloud-singapore-3974200108&\n",
    "\n",
    "test = \"\"\"Work closely with strategic clients, both engineering and non-technical, to lead migration projects and customer implementations on Google Cloud.\n",
    "Coordinate with a diverse team of stakeholders and supporting Googlers, including Sales, Solutions Engineers and the Professional Services organization.\n",
    "Build core migration tooling across all Google Cloud Platform products and relevant third-party software.\n",
    "Establish and drive planning and execution steps towards production deployments.\n",
    "Write/develop deployment templates, orchestration scripting, database replication configurations, CI/CD pipeline assemblies, etc.\"\"\"\n",
    "\n",
    "token_string = tokenize_text(test)\n",
    "test_tfidf = vectorizer.transform([token_string]).todense()\n",
    "\n",
    "for clf in classifiers:\n",
    "    print(clf) # prints the classifier information\n",
    "    pred = clf.predict(test_tfidf)\n",
    "    print(encoder.inverse_transform(pred))\n",
    "    print()"
   ]
  },
  {
   "cell_type": "code",
   "execution_count": 147,
   "metadata": {},
   "outputs": [],
   "source": []
  }
 ],
 "metadata": {
  "kernelspec": {
   "display_name": "Python 3",
   "language": "python",
   "name": "python3"
  },
  "language_info": {
   "codemirror_mode": {
    "name": "ipython",
    "version": 3
   },
   "file_extension": ".py",
   "mimetype": "text/x-python",
   "name": "python",
   "nbconvert_exporter": "python",
   "pygments_lexer": "ipython3",
   "version": "3.6.4"
  }
 },
 "nbformat": 4,
 "nbformat_minor": 2
}
