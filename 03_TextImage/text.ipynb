{
 "cells": [
  {
   "cell_type": "markdown",
   "metadata": {},
   "source": [
    "# Text Processing"
   ]
  },
  {
   "cell_type": "markdown",
   "metadata": {
    "slideshow": {
     "slide_type": "slide"
    }
   },
   "source": [
    "# Topics\n",
    "- Parsing, Stemming, Lemmatization\n",
    "- Frequency Analysis\n",
    "- Named Entity Recognition\n",
    "- Word Embeddings"
   ]
  },
  {
   "cell_type": "code",
   "execution_count": null,
   "metadata": {
    "slideshow": {
     "slide_type": "-"
    }
   },
   "outputs": [],
   "source": []
  },
  {
   "cell_type": "code",
   "execution_count": null,
   "metadata": {
    "slideshow": {
     "slide_type": "-"
    }
   },
   "outputs": [],
   "source": []
  },
  {
   "cell_type": "markdown",
   "metadata": {
    "slideshow": {
     "slide_type": "-"
    }
   },
   "source": [
    "# Workshop: Creating Word2Vec Models\n",
    "\n",
    "Credits:\n",
    "- https://codesachin.wordpress.com/2015/10/09/generating-a-word2vec-model-from-a-block-of-text-using-gensim-python/\n",
    "- https://www.kaggle.com/c/word2vec-nlp-tutorial#part-2-word-vectors\n",
    "\n",
    "Word2Vec\n",
    "- Semantic learning of text representations\n",
    "- Neural network \n",
    "- Cosine similarity"
   ]
  },
  {
   "cell_type": "markdown",
   "metadata": {
    "slideshow": {
     "slide_type": "-"
    }
   },
   "source": [
    "## Setup\n",
    "\n",
    "Run this command from an Anaconda prompt (within the mldds03 environment):\n",
    "\n",
    "```\n",
    "(mldds03) conda install gensim cython nltk\n",
    "```\n",
    "\n",
    "### gensim: for training word2vec\n",
    "\n",
    "https://radimrehurek.com/gensim/\n",
    "\n",
    "\n",
    "### Cython: to speed up training word2vec\n",
    "http://docs.cython.org/en/latest/src/quickstart/install.html\n",
    "\n",
    "\n",
    "### NLTK: for text processing\n",
    "Installation: https://www.nltk.org/install.html\n",
    "\n",
    "Book: http://www.nltk.org/book\n"
   ]
  },
  {
   "cell_type": "markdown",
   "metadata": {
    "slideshow": {
     "slide_type": "-"
    }
   },
   "source": [
    "## Download text\n",
    "\n",
    "For demonstration purposes, we'll start with Wikipedia articles.\n",
    "\n",
    "We'll use a python library that wraps the Wikipedia APIs.\n",
    "\n",
    "https://pypi.org/project/wikipedia/\n",
    "\n",
    "Run this from an Anaconda prompt (within the mldds03 environment):\n",
    "\n",
    "```\n",
    "(mldds03) pip install wikipedia\n",
    "```"
   ]
  },
  {
   "cell_type": "code",
   "execution_count": 1,
   "metadata": {
    "slideshow": {
     "slide_type": "-"
    }
   },
   "outputs": [
    {
     "data": {
      "text/plain": [
       "['Singapore',\n",
       " 'Singapore Standard Time',\n",
       " 'Capella Resort, Singapore',\n",
       " 'Singapore Airlines fleet',\n",
       " 'Singapore dollar',\n",
       " 'Languages of Singapore',\n",
       " 'History of Singapore',\n",
       " 'Singapore Armed Forces',\n",
       " 'Economy of Singapore',\n",
       " 'Singapore Sling']"
      ]
     },
     "execution_count": 1,
     "metadata": {},
     "output_type": "execute_result"
    }
   ],
   "source": [
    "import wikipedia\n",
    "from wikipedia import search, page\n",
    "\n",
    "# Get our documents: wikipedia articles\n",
    "topic = 'singapore'\n",
    "\n",
    "titles = search(topic)\n",
    "titles"
   ]
  },
  {
   "cell_type": "code",
   "execution_count": 4,
   "metadata": {
    "slideshow": {
     "slide_type": "-"
    }
   },
   "outputs": [
    {
     "data": {
      "text/plain": [
       "'Singapore ( ( listen)), officially the Republic of Singapore, is a sovereign city-state and island country in Southeast Asia. It lies one degree (137 kilometres or 85 miles) north of the equator, at the southern tip of the Malay Peninsula, with Indonesia\\'s Riau Islands to the south and Peninsular Malaysia to the north. Singapore\\'s territory consists of one main island along with 62 other islets. Since independence, extensive land reclamation has increased its total size by 23% (130 square kilometres or 50 square miles).\\nStamford Raffles founded colonial Singapore in 1819 as a trading post of the British East India Company; after the latter\\'s collapse in 1858, the islands were ceded to the British Raj as a crown colony. During the Second World War, Singapore was occupied by Japan. It gained independence from the UK in 1963 by federating with other former British territories to form Malaysia, but separated two years later over ideological differences, becoming a sovereign nation in 1965. After early years of turbulence and despite lacking natural resources and a hinterland, the nation developed rapidly as an Asian Tiger economy, based on external trade and its workforce.\\nSingapore is a global commerce, finance and transport hub. Its standings include: the most \"technology-ready\" nation (WEF), top International-meetings city (UIA), city with \"best investment potential\" (BERI), world\\'s smartest city, world\\'s safest country, third-most competitive country, third-largest foreign exchange market, third-largest financial centre, third-largest oil refining and trading centre and the second-busiest container port. The country has also been identified as a tax haven. In 2018 the Economist Intelligence Unit (EIU) ranked Singapore for the fifth year in a row as the most expensive city to live in the world. Singapore is the only country in Asia with a AAA credit rating from the world\\'s major rating agencies, its port and Changi Airport have held the titles of \"Best Maritime Port\" and \"Best Airport\" respectively for consecutive years.\\nSingapore ranks 5th on the UN Human Development Index and the 3rd highest GDP per capita. It is ranked highly in education, healthcare, life expectancy, quality of life, personal safety and housing. In 2018, Singaporean citizens had visa-free or visa-on-arrival access to 180 countries and territories, ranking the Singapore passport first in the world. Although income inequality is high, 90% of homes are owner-occupied. 39% of Singapore\\'s 5.6 million residents are not citizens. There are four official languages: English (common and first language), Malay, Mandarin and Tamil; almost all Singaporeans are bilingual.\\nSingapore is a unitary multiparty parliamentary republic, with a Westminster system of unicameral parliamentary government. The People\\'s Action Party has won every election since self-government in 1959. The dominance of the PAP, coupled with a low level of press freedom and restrictions on civil liberties and political rights, has led to Singapore being classified by the Economist Intelligence Unit as a flawed democracy. One of the five founding members of ASEAN, Singapore is also the host of the Asia-Pacific Economic Cooperation (APEC) Secretariat and a member of the East Asia Summit, Non-Aligned Movement and the Commonwealth of Nations.'"
      ]
     },
     "execution_count": 4,
     "metadata": {},
     "output_type": "execute_result"
    }
   ],
   "source": [
    "# retrieve all pages\n",
    "wikipages = [page(title) for title in titles]\n",
    "\n",
    "# inspect the first page\n",
    "wikipages[0].summary"
   ]
  },
  {
   "cell_type": "markdown",
   "metadata": {
    "slideshow": {
     "slide_type": "-"
    }
   },
   "source": [
    "## Process text\n",
    "\n",
    "- Remove special characters\n",
    "- Convert to lowercase\n",
    "- Tokenize the text into words\n",
    "- Optionally remove stop words such as 'a', 'the'\n",
    "- Stem each word\n",
    "  - Stemmers remove morphological affixes from words, leaving only the word stem\n",
    "  - http://www.nltk.org/howto/stem.html"
   ]
  },
  {
   "cell_type": "code",
   "execution_count": 7,
   "metadata": {},
   "outputs": [
    {
     "name": "stdout",
     "output_type": "stream",
     "text": [
      "[nltk_data] Downloading package punkt to\n",
      "[nltk_data]     C:\\Users\\issohl\\AppData\\Roaming\\nltk_data...\n",
      "[nltk_data]   Package punkt is already up-to-date!\n",
      "[nltk_data] Downloading package stopwords to\n",
      "[nltk_data]     C:\\Users\\issohl\\AppData\\Roaming\\nltk_data...\n",
      "[nltk_data]   Package stopwords is already up-to-date!\n"
     ]
    }
   ],
   "source": [
    "import re # python regular expressions library\n",
    "import nltk\n",
    "from nltk.corpus import stopwords\n",
    "from nltk.stem import PorterStemmer\n",
    "\n",
    "# Download NLTK corpora\n",
    "# List of available corpora: http://www.nltk.org/book/ch02.html#tab-corpora\n",
    "\n",
    "# 1. Download the Punkt sentence tokenizer\n",
    "# https://www.nltk.org/_modules/nltk/tokenize/punkt.html\n",
    "nltk.download('punkt')\n",
    "\n",
    "# 2. Download the Stop Words corpus\n",
    "nltk.download('stopwords')\n",
    "\n",
    "# 3. Helper function to convert text into list of stem words\n",
    "def text_to_stem_wordlist(text, remove_stopwords=False):\n",
    "    \"\"\"Cleans and converts text to a wordlist of stemmed words\n",
    "    Args:\n",
    "        text: input text\n",
    "        remove_stopwords: whether to remove stopwords\n",
    "    Returns:\n",
    "        a numpy array containing the list of stem words\n",
    "    \"\"\"\n",
    "    # Remove non-letters and numbers\n",
    "    text = re.sub('[^a-zA-Z0-9]', ' ', text)\n",
    "    \n",
    "    # Convert to lowercase\n",
    "    text = text.lower()\n",
    "    \n",
    "    # Tokenize the text\n",
    "    tokens = nltk.word_tokenize(text)\n",
    "    \n",
    "    # Optionally remove stop words\n",
    "    # We will keep stop words for training\n",
    "    if remove_stopwords:\n",
    "        stops = set(stopwords.words('english'))\n",
    "        tokens = [token for token in tokens if not token in stops]\n",
    "    \n",
    "    # Stem the words\n",
    "    stemmer = PorterStemmer()\n",
    "    tokens = [stemmer.stem(t) for t in tokens]\n",
    "    \n",
    "    return tokens"
   ]
  },
  {
   "cell_type": "code",
   "execution_count": 13,
   "metadata": {
    "scrolled": false,
    "slideshow": {
     "slide_type": "-"
    }
   },
   "outputs": [
    {
     "name": "stdout",
     "output_type": "stream",
     "text": [
      "===== Original text for first article =====\n",
      "Singapore ( ( listen)), officially the Republic of Singapore, is a sovereign city-state and island country in Southeast Asia. It lies one degree (137 kilometres or 85 miles) north of the equator, at the southern tip of the Malay Peninsula, with Indonesia's Riau Islands to the south and Peninsular Malaysia to the north. Singapore's territory consists of one main island along with 62 other islets. Since independence, extensive land reclamation has increased its total size by 23% (130 square kilometres or 50 square miles).\n",
      "Stamford Raffles founded colonial Singapore in 1819 as a trading post of the British East India Company; after the latter's collapse in 1858, the islands were ceded to the British Raj as a crown colony. During the Second World War, Singapore was occupied by Japan. It gained independence from the UK in 1963 by federating with other former British territories to form Malaysia, but separated two years later over ideological differences, becoming a sovereign nation in 1965. After early years of turbulence and despite lacking natural resources and a hinterland, the nation developed rapidly as an Asian Tiger economy, based on external trade and its workforce.\n",
      "Singapore is a global commerce, finance and transport hub. Its standings include: the most \"technology-ready\" nation (WEF), top International-meetings city (UIA), city with \"best investment potential\" (BERI), world's smartest city, world's safest country, third-most competitive country, third-largest foreign exchange market, third-largest financial centre, third-largest oil refining and trading centre and the second-busiest container port. The country has also been identified as a tax haven. In 2018 the Economist Intelligence Unit (EIU) ranked Singapore for the fifth year in a row as the most expensive city to live in the world. Singapore is the only country in Asia with a AAA credit rating from the world's major rating agencies, its port and Changi Airport have held the titles of \"Best Maritime Port\" and \"Best Airport\" respectively for consecutive years.\n",
      "Singapore ranks 5th on the UN Human Development Index and the 3rd highest GDP per capita. It is ranked highly in education, healthcare, life expectancy, quality of life, personal safety and housing. In 2018, Singaporean citizens had visa-free or visa-on-arrival access to 180 countries and territories, ranking the Singapore passport first in the world. Although income inequality is high, 90% of homes are owner-occupied. 39% of Singapore's 5.6 million residents are not citizens. There are four official languages: English (common and first language), Malay, Mandarin and Tamil; almost all Singaporeans are bilingual.\n",
      "Singapore is a unitary multiparty parliamentary republic, with a Westminster system of unicameral parliamentary government. The People's Action Party has won every election since self-government in 1959. The dominance of the PAP, coupled with a low level of press freedom and restrictions on civil liberties and political rights, has led to Singapore being classified by the Economist Intelligence Unit as a flawed democracy. One of the five founding members of ASEAN, Singapore is also the host of the Asia-Pacific Economic Cooperation (APEC) Secretariat and a member of the East Asia Summit, Non-Aligned Movement and the Commonwealth of Nations.\n",
      "\n",
      "===== Stem words [530 words] =====\n",
      "['singapor', 'listen', 'offici', 'the', 'republ', 'of', 'singapor', 'is', 'a', 'sovereign', 'citi', 'state', 'and', 'island', 'countri', 'in', 'southeast', 'asia', 'it', 'lie', 'one', 'degre', '137', 'kilometr', 'or', '85', 'mile', 'north', 'of', 'the', 'equat', 'at', 'the', 'southern', 'tip', 'of', 'the', 'malay', 'peninsula', 'with', 'indonesia', 's', 'riau', 'island', 'to', 'the', 'south', 'and', 'peninsular', 'malaysia', 'to', 'the', 'north', 'singapor', 's', 'territori', 'consist', 'of', 'one', 'main', 'island', 'along', 'with', '62', 'other', 'islet', 'sinc', 'independ', 'extens', 'land', 'reclam', 'ha', 'increas', 'it', 'total', 'size', 'by', '23', '130', 'squar', 'kilometr', 'or', '50', 'squar', 'mile', 'stamford', 'raffl', 'found', 'coloni', 'singapor', 'in', '1819', 'as', 'a', 'trade', 'post', 'of', 'the', 'british', 'east', 'india', 'compani', 'after', 'the', 'latter', 's', 'collaps', 'in', '1858', 'the', 'island', 'were', 'cede', 'to', 'the', 'british', 'raj', 'as', 'a', 'crown', 'coloni', 'dure', 'the', 'second', 'world', 'war', 'singapor', 'wa', 'occupi', 'by', 'japan', 'it', 'gain', 'independ', 'from', 'the', 'uk', 'in', '1963', 'by', 'feder', 'with', 'other', 'former', 'british', 'territori', 'to', 'form', 'malaysia', 'but', 'separ', 'two', 'year', 'later', 'over', 'ideolog', 'differ', 'becom', 'a', 'sovereign', 'nation', 'in', '1965', 'after', 'earli', 'year', 'of', 'turbul', 'and', 'despit', 'lack', 'natur', 'resourc', 'and', 'a', 'hinterland', 'the', 'nation', 'develop', 'rapidli', 'as', 'an', 'asian', 'tiger', 'economi', 'base', 'on', 'extern', 'trade', 'and', 'it', 'workforc', 'singapor', 'is', 'a', 'global', 'commerc', 'financ', 'and', 'transport', 'hub', 'it', 'stand', 'includ', 'the', 'most', 'technolog', 'readi', 'nation', 'wef', 'top', 'intern', 'meet', 'citi', 'uia', 'citi', 'with', 'best', 'invest', 'potenti', 'beri', 'world', 's', 'smartest', 'citi', 'world', 's', 'safest', 'countri', 'third', 'most', 'competit', 'countri', 'third', 'largest', 'foreign', 'exchang', 'market', 'third', 'largest', 'financi', 'centr', 'third', 'largest', 'oil', 'refin', 'and', 'trade', 'centr', 'and', 'the', 'second', 'busiest', 'contain', 'port', 'the', 'countri', 'ha', 'also', 'been', 'identifi', 'as', 'a', 'tax', 'haven', 'in', '2018', 'the', 'economist', 'intellig', 'unit', 'eiu', 'rank', 'singapor', 'for', 'the', 'fifth', 'year', 'in', 'a', 'row', 'as', 'the', 'most', 'expens', 'citi', 'to', 'live', 'in', 'the', 'world', 'singapor', 'is', 'the', 'onli', 'countri', 'in', 'asia', 'with', 'a', 'aaa', 'credit', 'rate', 'from', 'the', 'world', 's', 'major', 'rate', 'agenc', 'it', 'port', 'and', 'changi', 'airport', 'have', 'held', 'the', 'titl', 'of', 'best', 'maritim', 'port', 'and', 'best', 'airport', 'respect', 'for', 'consecut', 'year', 'singapor', 'rank', '5th', 'on', 'the', 'un', 'human', 'develop', 'index', 'and', 'the', '3rd', 'highest', 'gdp', 'per', 'capita', 'it', 'is', 'rank', 'highli', 'in', 'educ', 'healthcar', 'life', 'expect', 'qualiti', 'of', 'life', 'person', 'safeti', 'and', 'hous', 'in', '2018', 'singaporean', 'citizen', 'had', 'visa', 'free', 'or', 'visa', 'on', 'arriv', 'access', 'to', '180', 'countri', 'and', 'territori', 'rank', 'the', 'singapor', 'passport', 'first', 'in', 'the', 'world', 'although', 'incom', 'inequ', 'is', 'high', '90', 'of', 'home', 'are', 'owner', 'occupi', '39', 'of', 'singapor', 's', '5', '6', 'million', 'resid', 'are', 'not', 'citizen', 'there', 'are', 'four', 'offici', 'languag', 'english', 'common', 'and', 'first', 'languag', 'malay', 'mandarin', 'and', 'tamil', 'almost', 'all', 'singaporean', 'are', 'bilingu', 'singapor', 'is', 'a', 'unitari', 'multiparti', 'parliamentari', 'republ', 'with', 'a', 'westminst', 'system', 'of', 'unicamer', 'parliamentari', 'govern', 'the', 'peopl', 's', 'action', 'parti', 'ha', 'won', 'everi', 'elect', 'sinc', 'self', 'govern', 'in', '1959', 'the', 'domin', 'of', 'the', 'pap', 'coupl', 'with', 'a', 'low', 'level', 'of', 'press', 'freedom', 'and', 'restrict', 'on', 'civil', 'liberti', 'and', 'polit', 'right', 'ha', 'led', 'to', 'singapor', 'be', 'classifi', 'by', 'the', 'economist', 'intellig', 'unit', 'as', 'a', 'flaw', 'democraci', 'one', 'of', 'the', 'five', 'found', 'member', 'of', 'asean', 'singapor', 'is', 'also', 'the', 'host', 'of', 'the', 'asia', 'pacif', 'econom', 'cooper', 'apec', 'secretariat', 'and', 'a', 'member', 'of', 'the', 'east', 'asia', 'summit', 'non', 'align', 'movement', 'and', 'the', 'commonwealth', 'of', 'nation']\n",
      "\n",
      "===== Stem words - stopwords [341 words] =====\n",
      "['singapor', 'listen', 'offici', 'republ', 'singapor', 'sovereign', 'citi', 'state', 'island', 'countri', 'southeast', 'asia', 'lie', 'one', 'degre', '137', 'kilometr', '85', 'mile', 'north', 'equat', 'southern', 'tip', 'malay', 'peninsula', 'indonesia', 'riau', 'island', 'south', 'peninsular', 'malaysia', 'north', 'singapor', 'territori', 'consist', 'one', 'main', 'island', 'along', '62', 'islet', 'sinc', 'independ', 'extens', 'land', 'reclam', 'increas', 'total', 'size', '23', '130', 'squar', 'kilometr', '50', 'squar', 'mile', 'stamford', 'raffl', 'found', 'coloni', 'singapor', '1819', 'trade', 'post', 'british', 'east', 'india', 'compani', 'latter', 'collaps', '1858', 'island', 'cede', 'british', 'raj', 'crown', 'coloni', 'second', 'world', 'war', 'singapor', 'occupi', 'japan', 'gain', 'independ', 'uk', '1963', 'feder', 'former', 'british', 'territori', 'form', 'malaysia', 'separ', 'two', 'year', 'later', 'ideolog', 'differ', 'becom', 'sovereign', 'nation', '1965', 'earli', 'year', 'turbul', 'despit', 'lack', 'natur', 'resourc', 'hinterland', 'nation', 'develop', 'rapidli', 'asian', 'tiger', 'economi', 'base', 'extern', 'trade', 'workforc', 'singapor', 'global', 'commerc', 'financ', 'transport', 'hub', 'stand', 'includ', 'technolog', 'readi', 'nation', 'wef', 'top', 'intern', 'meet', 'citi', 'uia', 'citi', 'best', 'invest', 'potenti', 'beri', 'world', 'smartest', 'citi', 'world', 'safest', 'countri', 'third', 'competit', 'countri', 'third', 'largest', 'foreign', 'exchang', 'market', 'third', 'largest', 'financi', 'centr', 'third', 'largest', 'oil', 'refin', 'trade', 'centr', 'second', 'busiest', 'contain', 'port', 'countri', 'also', 'identifi', 'tax', '2018', 'economist', 'intellig', 'unit', 'eiu', 'rank', 'singapor', 'fifth', 'year', 'row', 'expens', 'citi', 'live', 'world', 'singapor', 'countri', 'asia', 'aaa', 'credit', 'rate', 'world', 'major', 'rate', 'agenc', 'port', 'changi', 'airport', 'held', 'titl', 'best', 'maritim', 'port', 'best', 'airport', 'respect', 'consecut', 'year', 'singapor', 'rank', '5th', 'un', 'human', 'develop', 'index', '3rd', 'highest', 'gdp', 'per', 'capita', 'rank', 'highli', 'educ', 'healthcar', 'life', 'expect', 'qualiti', 'life', 'person', 'safeti', 'hous', '2018', 'singaporean', 'citizen', 'visa', 'free', 'visa', 'arriv', 'access', '180', 'countri', 'territori', 'rank', 'singapor', 'passport', 'first', 'world', 'although', 'incom', 'inequ', 'high', '90', 'home', 'owner', 'occupi', '39', 'singapor', '5', '6', 'million', 'resid', 'citizen', 'four', 'offici', 'languag', 'english', 'common', 'first', 'languag', 'malay', 'mandarin', 'tamil', 'almost', 'singaporean', 'bilingu', 'singapor', 'unitari', 'multiparti', 'parliamentari', 'republ', 'westminst', 'system', 'unicamer', 'parliamentari', 'govern', 'peopl', 'action', 'parti', 'everi', 'elect', 'sinc', 'self', 'govern', '1959', 'domin', 'pap', 'coupl', 'low', 'level', 'press', 'freedom', 'restrict', 'civil', 'liberti', 'polit', 'right', 'led', 'singapor', 'classifi', 'economist', 'intellig', 'unit', 'flaw', 'democraci', 'one', 'five', 'found', 'member', 'asean', 'singapor', 'also', 'host', 'asia', 'pacif', 'econom', 'cooper', 'apec', 'secretariat', 'member', 'east', 'asia', 'summit', 'non', 'align', 'movement', 'commonwealth', 'nation']\n"
     ]
    }
   ],
   "source": [
    "# Test our helper function to see what it does\n",
    "text = wikipages[0].summary\n",
    "print('===== Original text for first article =====')\n",
    "print(text)\n",
    "\n",
    "wordlist = text_to_stem_wordlist(text)\n",
    "print('\\n===== Stem words [%d words] =====' % len(wordlist))\n",
    "print(wordlist)\n",
    "\n",
    "wordlist = text_to_stem_wordlist(text, remove_stopwords=True)\n",
    "print('\\n===== Stem words - stopwords [%d words] =====' % len(wordlist))\n",
    "print(wordlist)"
   ]
  },
  {
   "cell_type": "code",
   "execution_count": null,
   "metadata": {},
   "outputs": [],
   "source": []
  },
  {
   "cell_type": "code",
   "execution_count": null,
   "metadata": {},
   "outputs": [],
   "source": []
  },
  {
   "cell_type": "markdown",
   "metadata": {
    "slideshow": {
     "slide_type": "-"
    }
   },
   "source": [
    "https://www.kaggle.com/c/word2vec-nlp-tutorial#part-2-word-vectors\n",
    "\n",
    "https://radimrehurek.com/gensim/\n",
    "\n",
    "https://www.nltk.org/index.html\n",
    "\n",
    "http://www.nltk.org/book/ch02.html#tab-corpora\n",
    "\n",
    "https://github.com/charlieg/A-Smattering-of-NLP-in-Python\n",
    "\n",
    "http://p.migdal.pl/2017/01/06/king-man-woman-queen-why.html"
   ]
  },
  {
   "cell_type": "code",
   "execution_count": null,
   "metadata": {},
   "outputs": [],
   "source": []
  }
 ],
 "metadata": {
  "celltoolbar": "Slideshow",
  "kernelspec": {
   "display_name": "Python 3",
   "language": "python",
   "name": "python3"
  },
  "language_info": {
   "codemirror_mode": {
    "name": "ipython",
    "version": 3
   },
   "file_extension": ".py",
   "mimetype": "text/x-python",
   "name": "python",
   "nbconvert_exporter": "python",
   "pygments_lexer": "ipython3",
   "version": "3.6.5"
  },
  "livereveal": {
   "autolaunch": false,
   "overlay": "<div class='logo'><img src='assets/Stackup_Logo_Small.png' width='90%'/></div>"
  }
 },
 "nbformat": 4,
 "nbformat_minor": 2
}
