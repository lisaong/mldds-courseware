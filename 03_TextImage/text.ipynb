{
 "cells": [
  {
   "cell_type": "markdown",
   "metadata": {},
   "source": [
    "# Text Processing"
   ]
  },
  {
   "cell_type": "markdown",
   "metadata": {
    "slideshow": {
     "slide_type": "slide"
    }
   },
   "source": [
    "# Topics\n",
    "- Parsing, Stemming, Lemmatization\n",
    "- Frequency Analysis\n",
    "- Named Entity Recognition\n",
    "- Word Embeddings"
   ]
  },
  {
   "cell_type": "code",
   "execution_count": null,
   "metadata": {
    "slideshow": {
     "slide_type": "-"
    }
   },
   "outputs": [],
   "source": []
  },
  {
   "cell_type": "code",
   "execution_count": null,
   "metadata": {
    "slideshow": {
     "slide_type": "-"
    }
   },
   "outputs": [],
   "source": []
  },
  {
   "cell_type": "markdown",
   "metadata": {
    "slideshow": {
     "slide_type": "-"
    }
   },
   "source": [
    "## Workshop: Creating Word2Vec Models\n",
    "\n",
    "Credits: https://codesachin.wordpress.com/2015/10/09/generating-a-word2vec-model-from-a-block-of-text-using-gensim-python/\n",
    "\n",
    "Word2Vec\n",
    "- Semantic learning of text representations\n",
    "- Neural network \n",
    "- Cosine similarity"
   ]
  },
  {
   "cell_type": "markdown",
   "metadata": {
    "slideshow": {
     "slide_type": "-"
    }
   },
   "source": [
    "### Setup\n",
    "\n",
    "https://radimrehurek.com/gensim/\n",
    "\n",
    "```\n",
    "conda install gensim\n",
    "```\n",
    "\n",
    "https://pypi.org/project/wikipedia/\n",
    "\n",
    "```\n",
    "pip install wikipedia\n",
    "```"
   ]
  },
  {
   "cell_type": "code",
   "execution_count": 4,
   "metadata": {
    "slideshow": {
     "slide_type": "-"
    }
   },
   "outputs": [
    {
     "data": {
      "text/plain": [
       "['Singapore',\n",
       " 'History of Singapore',\n",
       " 'Singapore Standard Time',\n",
       " 'Singapore dollar',\n",
       " 'Singapore Airlines fleet',\n",
       " 'Languages of Singapore',\n",
       " 'Economy of Singapore',\n",
       " 'North Korea–Singapore relations',\n",
       " 'Capella Resort, Singapore',\n",
       " 'Singapore Army']"
      ]
     },
     "execution_count": 4,
     "metadata": {},
     "output_type": "execute_result"
    }
   ],
   "source": [
    "# Get our documents: wikipedia articles\n",
    "topic = 'singapore' # feel free to change this to your domain\n",
    "\n",
    "import wikipedia\n",
    "from wikipedia import search, page\n",
    "titles = search(topic)\n",
    "titles"
   ]
  },
  {
   "cell_type": "code",
   "execution_count": 11,
   "metadata": {
    "slideshow": {
     "slide_type": "-"
    }
   },
   "outputs": [
    {
     "data": {
      "text/plain": [
       "'Singapore ( ( listen)), officially the Republic of Singapore, is a sovereign city-state and island country in Southeast Asia. It lies one degree (137 kilometres or 85 miles) north of the equator, at the southern tip of the Malay Peninsula, with Indonesia\\'s Riau Islands to the south and Peninsular Malaysia to the north. Singapore\\'s territory consists of one main island along with 62 other islets. Since independence, extensive land reclamation has increased its total size by 23% (130 square kilometres or 50 square miles).\\nStamford Raffles founded colonial Singapore in 1819 as a trading post of the British East India Company; after the latter\\'s collapse in 1858, the islands were ceded to the British Raj as a crown colony. During the Second World War, Singapore was occupied by Japan. It gained independence from the UK in 1963 by federating with other former British territories to form Malaysia, but separated two years later over ideological differences, becoming a sovereign nation in 1965. After early years of turbulence and despite lacking natural resources and a hinterland, the nation developed rapidly as an Asian Tiger economy, based on external trade and its workforce.\\nSingapore is a global commerce, finance and transport hub. Its standings include: the most \"technology-ready\" nation (WEF), top International-meetings city (UIA), city with \"best investment potential\" (BERI), world\\'s smartest city, world\\'s safest country, third-most competitive country, third-largest foreign exchange market, third-largest financial centre, third-largest oil refining and trading centre and the second-busiest container port. The country has also been identified as a tax haven. In 2018 the Economist Intelligence Unit (EIU) ranked Singapore for the fifth year in a row as the most expensive city to live in the world. Singapore is the only country in Asia with a AAA credit rating from the world\\'s major rating agencies, its port and Changi Airport have held the titles of \"Best Maritime Port\" and \"Best Airport\" respectively for consecutive years.\\nSingapore ranks 5th on the UN Human Development Index and the 3rd highest GDP per capita. It is ranked highly in education, healthcare, life expectancy, quality of life, personal safety and housing. In 2018, Singaporean citizens had visa-free or visa-on-arrival access to 180 countries and territories, ranking the Singapore passport first in the world. Although income inequality is high, 90% of homes are owner-occupied. Fully 39% of Singapore\\'s 5.6 million residents are not citizens. There are four official languages: English (common and first language), Malay, Mandarin and Tamil; almost all Singaporeans are bilingual.\\nSingapore is a unitary multiparty parliamentary republic, with a Westminster system of unicameral parliamentary government. The People\\'s Action Party has won every election since self-government in 1959. The dominance of the PAP, coupled with a low level of press freedom and restrictions on civil liberties and political rights, has led to Singapore being classified by the Economist Intelligence Unit as a flawed democracy. One of the five founding members of ASEAN, Singapore is also the host of the Asia-Pacific Economic Cooperation (APEC) Secretariat and a member of the East Asia Summit, Non-Aligned Movement and the Commonwealth of Nations.'"
      ]
     },
     "execution_count": 11,
     "metadata": {},
     "output_type": "execute_result"
    }
   ],
   "source": [
    "wikipages = [page(title) for title in titles]\n",
    "wikipages[0].summary"
   ]
  },
  {
   "cell_type": "code",
   "execution_count": null,
   "metadata": {
    "slideshow": {
     "slide_type": "-"
    }
   },
   "outputs": [],
   "source": []
  },
  {
   "cell_type": "code",
   "execution_count": null,
   "metadata": {
    "slideshow": {
     "slide_type": "-"
    }
   },
   "outputs": [],
   "source": []
  },
  {
   "cell_type": "code",
   "execution_count": null,
   "metadata": {
    "slideshow": {
     "slide_type": "-"
    }
   },
   "outputs": [],
   "source": []
  }
 ],
 "metadata": {
  "celltoolbar": "Slideshow",
  "kernelspec": {
   "display_name": "Python 3",
   "language": "python",
   "name": "python3"
  },
  "language_info": {
   "codemirror_mode": {
    "name": "ipython",
    "version": 3
   },
   "file_extension": ".py",
   "mimetype": "text/x-python",
   "name": "python",
   "nbconvert_exporter": "python",
   "pygments_lexer": "ipython3",
   "version": "3.5.2"
  },
  "livereveal": {
   "autolaunch": false,
   "overlay": "<div class='logo'><img src='assets/Stackup_Logo_Small.png' width='90%'/></div>"
  }
 },
 "nbformat": 4,
 "nbformat_minor": 2
}
