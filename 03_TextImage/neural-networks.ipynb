{
 "cells": [
  {
   "cell_type": "markdown",
   "metadata": {},
   "source": [
    "# Neural Networks"
   ]
  },
  {
   "cell_type": "markdown",
   "metadata": {
    "slideshow": {
     "slide_type": "slide"
    }
   },
   "source": [
    "## Motivation\n",
    "\n",
    "General-purpose learning algorithm for modeling non-linearity"
   ]
  },
  {
   "cell_type": "markdown",
   "metadata": {
    "slideshow": {
     "slide_type": "slide"
    }
   },
   "source": [
    "## Non-linear inputs\n",
    "\n",
    "- Images\n",
    "- Text\n",
    "- Speech\n",
    "- XOR"
   ]
  },
  {
   "cell_type": "markdown",
   "metadata": {
    "slideshow": {
     "slide_type": "slide"
    }
   },
   "source": [
    "## Limitations of linear models\n",
    "\n",
    "Not \"linearly separable\"\n",
    "\n",
    "![xor](assets/neural/xor.png)\n",
    "\n",
    "Can't draw boundary to separate x's and o's"
   ]
  },
  {
   "cell_type": "markdown",
   "metadata": {
    "slideshow": {
     "slide_type": "slide"
    }
   },
   "source": [
    "## Modeling non-linearity\n",
    "\n",
    "Transform $x$ into $\\phi(x)$ to become linearly separable\n",
    "\n",
    "![xor](assets/neural/xor_phi.png)\n",
    "\n",
    "$\\phi(x)$ is the basis for a \"neuron\""
   ]
  },
  {
   "cell_type": "markdown",
   "metadata": {
    "slideshow": {
     "slide_type": "slide"
    }
   },
   "source": [
    "## Neuron\n",
    "\n",
    "$$y = W\\phi(x) + b$$\n",
    "\n",
    "$$\\phi(x) = g(W'x + b')$$\n",
    "\n",
    "Trainable: $W', b', W, b$\n",
    "\n",
    "$g(x)$ is a non-linear function, e.g. Sigmoid"
   ]
  },
  {
   "cell_type": "markdown",
   "metadata": {
    "slideshow": {
     "slide_type": "slide"
    }
   },
   "source": [
    "## Neuron (Single-layer Perceptron)\n",
    "\n",
    "![neuron](assets/neural/neuron.png)\n",
    "\n",
    "(image: Neural Network Methods in Natural Language Processing, Goldberg, 2017)"
   ]
  },
  {
   "cell_type": "markdown",
   "metadata": {
    "slideshow": {
     "slide_type": "slide"
    }
   },
   "source": [
    "## Neural Network\n",
    "\n",
    "Multiple neurons in 1 layer make up an \"Artificial Neural Network\"\n",
    "\n",
    "![neural network](assets/neural/300px-Colored_neural_network.svg.png)\n",
    "\n",
    "(image: [Wikipedia](https://en.wikipedia.org/wiki/Artificial_neural_network))"
   ]
  },
  {
   "cell_type": "markdown",
   "metadata": {
    "slideshow": {
     "slide_type": "slide"
    }
   },
   "source": [
    "## Neural Network (Deep)\n",
    "\n",
    "Multiple layers of neurons make up a \"Deep Neural Network\"\n",
    "\n",
    "![dnn](assets/neural/deep_nn.png)\n",
    "\n",
    "(image: Goldberg, 2017)"
   ]
  },
  {
   "cell_type": "markdown",
   "metadata": {
    "slideshow": {
     "slide_type": "slide"
    }
   },
   "source": [
    "## Properties of a Neural Network\n",
    "\n",
    "|Term|Description|Examples|\n",
    "|--|--|--|\n",
    "|Input dimension|How many inputs|4|\n",
    "|Output dimension|How many outputs|3|\n",
    "|Number of hidden layers|Number of layers, excluding input and output|2|\n",
    "|Activation type|Type of non-linear function|sigmoid, ReLU, tanh|\n",
    "|Hidden layer type|How the neurons are connected together|Fully-connected, Convolutional|"
   ]
  },
  {
   "cell_type": "markdown",
   "metadata": {
    "slideshow": {
     "slide_type": "slide"
    }
   },
   "source": [
    "## Activation types\n",
    "\n",
    "What non-linearity is applied\n",
    "\n",
    "![dnn](assets/neural/activations.png)\n",
    "\n",
    "(image: Goldberg, 2017)"
   ]
  },
  {
   "cell_type": "markdown",
   "metadata": {
    "slideshow": {
     "slide_type": "slide"
    }
   },
   "source": [
    "## Layer types\n",
    "\n",
    "How the neurons are connected together, and what operations are performed with x, W, and b:\n",
    "\n",
    "- Dense\n",
    "- Convolutional\n",
    "- Recurrent\n",
    "- Residual\n",
    "\n",
    "More detail to come..."
   ]
  },
  {
   "cell_type": "markdown",
   "metadata": {
    "slideshow": {
     "slide_type": "slide"
    }
   },
   "source": [
    "## Walkthrough: Neural Network Architectures in keras\n",
    "\n",
    "In this walkthrough, we will use Keras to examine the architecture of some well-known neural networks."
   ]
  },
  {
   "cell_type": "markdown",
   "metadata": {
    "slideshow": {
     "slide_type": "slide"
    }
   },
   "source": [
    "### Setup\n",
    "\n",
    "1. Create a new conda environment called `mldds03`\n",
    "  a. Launch an `Anaconda Python` command window\n",
    "  b. `conda create -n mldds03 python=3`\n",
    "2. Activate the conda environment: `conda activate mldds03`\n",
    "3. Install Jupyter and keras: `conda install jupyter keras`\n",
    "4. Navigate to the courseware folder: `cd mldds-courseware`\n",
    "5. Launch Jupyter: `jupyter notebook`\n",
    "6. Open this notebook"
   ]
  },
  {
   "cell_type": "markdown",
   "metadata": {
    "slideshow": {
     "slide_type": "slide"
    }
   },
   "source": [
    "### Pre-trained Neural Networks in Keras\n",
    "\n",
    "\"Pre-trained\" neural networks are available under `keras.applications`\n",
    "\n",
    "https://keras.io/applications/\n",
    "\n",
    "These are trained on the ImageNet dataset (http://www.image-net.org/), which contains millions of images.\n",
    "\n",
    "The neural network architectures from keras are previous years submissions to the ImageNet annual challenge. "
   ]
  },
  {
   "cell_type": "code",
   "execution_count": null,
   "metadata": {
    "slideshow": {
     "slide_type": "slide"
    }
   },
   "outputs": [],
   "source": []
  }
 ],
 "metadata": {
  "celltoolbar": "Slideshow",
  "kernelspec": {
   "display_name": "Python 3",
   "language": "python",
   "name": "python3"
  },
  "language_info": {
   "codemirror_mode": {
    "name": "ipython",
    "version": 3
   },
   "file_extension": ".py",
   "mimetype": "text/x-python",
   "name": "python",
   "nbconvert_exporter": "python",
   "pygments_lexer": "ipython3",
   "version": "3.6.5"
  },
  "livereveal": {
   "autolaunch": false,
   "overlay": "<div class='logo'><img src='assets/Stackup_Logo_Small.png' width='90%'/></div>"
  }
 },
 "nbformat": 4,
 "nbformat_minor": 2
}
