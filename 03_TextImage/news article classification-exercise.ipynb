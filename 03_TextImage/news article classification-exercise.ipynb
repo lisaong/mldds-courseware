{
 "cells": [
  {
   "cell_type": "markdown",
   "metadata": {},
   "source": [
    "# News Article Sentiment Classification\n",
    "\n",
    "In this hands-on workshop, we'll practice classifying text on a slightly larger dataset.\n",
    "\n",
    "Input: 8000 news articles that are labeled by relevance to the US Economy.\n",
    "\n",
    "Task: Fit a model that classifies the articles based on whether each is relevant to the US Economy. This is a binary classification task.\n",
    "\n",
    "Other uses of the same dataset (feel free to practice these on your owntime):\n",
    "- Multi-class classification on positivity score\n",
    "- Regression on relevance confidence, for the relevant articles"
   ]
  },
  {
   "cell_type": "markdown",
   "metadata": {},
   "source": [
    "## Dataset\n",
    "\n",
    "CSV: https://www.figure-eight.com/wp-content/uploads/2016/03/Full-Economic-News-DFE-839861.csv\n",
    "\n",
    "Source: https://www.figure-eight.com/data-for-everyone/\n",
    "\n",
    "Description:\n",
    "\n",
    ">Contributors read snippets of news articles. They then noted if the article was relevant to the US economy and, if so, what the tone of the article was. Tone was judged on a 9 point scale (from 1 to 9, with 1 representing the most negativity). Dataset contains these judgments as well as the dates, source titles, and text. Dates range from 1951 to 2014."
   ]
  },
  {
   "cell_type": "code",
   "execution_count": 1,
   "metadata": {},
   "outputs": [],
   "source": [
    "import pandas as pd\n",
    "import matplotlib.pyplot as plt"
   ]
  },
  {
   "cell_type": "markdown",
   "metadata": {},
   "source": [
    "## Data Exploration (20 minutes)\n",
    "\n",
    "1. Load the data into pandas\n",
    "2. Check for NaNs (if any) and decide what you would do with them"
   ]
  },
  {
   "cell_type": "code",
   "execution_count": 18,
   "metadata": {},
   "outputs": [
    {
     "data": {
      "text/html": [
       "<div>\n",
       "<style scoped>\n",
       "    .dataframe tbody tr th:only-of-type {\n",
       "        vertical-align: middle;\n",
       "    }\n",
       "\n",
       "    .dataframe tbody tr th {\n",
       "        vertical-align: top;\n",
       "    }\n",
       "\n",
       "    .dataframe thead th {\n",
       "        text-align: right;\n",
       "    }\n",
       "</style>\n",
       "<table border=\"1\" class=\"dataframe\">\n",
       "  <thead>\n",
       "    <tr style=\"text-align: right;\">\n",
       "      <th></th>\n",
       "      <th>relevance</th>\n",
       "      <th>text</th>\n",
       "    </tr>\n",
       "  </thead>\n",
       "  <tbody>\n",
       "    <tr>\n",
       "      <th>0</th>\n",
       "      <td>yes</td>\n",
       "      <td>NEW YORK -- Yields on most certificates of dep...</td>\n",
       "    </tr>\n",
       "    <tr>\n",
       "      <th>1</th>\n",
       "      <td>no</td>\n",
       "      <td>The Wall Street Journal Online&lt;/br&gt;&lt;/br&gt;The Mo...</td>\n",
       "    </tr>\n",
       "    <tr>\n",
       "      <th>2</th>\n",
       "      <td>no</td>\n",
       "      <td>WASHINGTON -- In an effort to achieve banking ...</td>\n",
       "    </tr>\n",
       "    <tr>\n",
       "      <th>3</th>\n",
       "      <td>no</td>\n",
       "      <td>The statistics on the enormous costs of employ...</td>\n",
       "    </tr>\n",
       "    <tr>\n",
       "      <th>4</th>\n",
       "      <td>yes</td>\n",
       "      <td>NEW YORK -- Indecision marked the dollar's ton...</td>\n",
       "    </tr>\n",
       "    <tr>\n",
       "      <th>5</th>\n",
       "      <td>yes</td>\n",
       "      <td>Stocks declined, as investors weighed slower-t...</td>\n",
       "    </tr>\n",
       "    <tr>\n",
       "      <th>6</th>\n",
       "      <td>no</td>\n",
       "      <td>TORONTO -- Royal Bank of Canada and Bank of Mo...</td>\n",
       "    </tr>\n",
       "    <tr>\n",
       "      <th>7</th>\n",
       "      <td>no</td>\n",
       "      <td>Many people think that the monster of health-c...</td>\n",
       "    </tr>\n",
       "    <tr>\n",
       "      <th>8</th>\n",
       "      <td>no</td>\n",
       "      <td>Sequenom Inc., a genomics-based biotechnology ...</td>\n",
       "    </tr>\n",
       "    <tr>\n",
       "      <th>9</th>\n",
       "      <td>yes</td>\n",
       "      <td>The U.S. dollar declined against most major fo...</td>\n",
       "    </tr>\n",
       "    <tr>\n",
       "      <th>10</th>\n",
       "      <td>no</td>\n",
       "      <td>The Wall Street Journal Online&lt;/br&gt;&lt;/br&gt;A LATE...</td>\n",
       "    </tr>\n",
       "    <tr>\n",
       "      <th>11</th>\n",
       "      <td>no</td>\n",
       "      <td>MCI WorldCom Inc., fueled by growth in Interne...</td>\n",
       "    </tr>\n",
       "    <tr>\n",
       "      <th>12</th>\n",
       "      <td>yes</td>\n",
       "      <td>Author: James B. Stewart&lt;/br&gt;&lt;/br&gt;The dreaded ...</td>\n",
       "    </tr>\n",
       "    <tr>\n",
       "      <th>13</th>\n",
       "      <td>no</td>\n",
       "      <td>NEW YORK -- Commercial and industrial loan vol...</td>\n",
       "    </tr>\n",
       "    <tr>\n",
       "      <th>14</th>\n",
       "      <td>no</td>\n",
       "      <td>WASHINGTON -- A week before an international e...</td>\n",
       "    </tr>\n",
       "    <tr>\n",
       "      <th>15</th>\n",
       "      <td>no</td>\n",
       "      <td>According to Kevin A. Hassett and Aparna Mathu...</td>\n",
       "    </tr>\n",
       "    <tr>\n",
       "      <th>16</th>\n",
       "      <td>no</td>\n",
       "      <td>OTAVALO, Ecuador -- The long black braid, the ...</td>\n",
       "    </tr>\n",
       "    <tr>\n",
       "      <th>17</th>\n",
       "      <td>yes</td>\n",
       "      <td>NEW YORK -- The dollar sagged yesterday, as ne...</td>\n",
       "    </tr>\n",
       "    <tr>\n",
       "      <th>18</th>\n",
       "      <td>no</td>\n",
       "      <td>By the time the parents of Serena Violano were...</td>\n",
       "    </tr>\n",
       "    <tr>\n",
       "      <th>19</th>\n",
       "      <td>no</td>\n",
       "      <td>The outlook for business investment appears to...</td>\n",
       "    </tr>\n",
       "    <tr>\n",
       "      <th>20</th>\n",
       "      <td>yes</td>\n",
       "      <td>The technology industry, an engine of innovati...</td>\n",
       "    </tr>\n",
       "    <tr>\n",
       "      <th>21</th>\n",
       "      <td>yes</td>\n",
       "      <td>WASHINGTON -- While acknowledging that the pac...</td>\n",
       "    </tr>\n",
       "    <tr>\n",
       "      <th>22</th>\n",
       "      <td>no</td>\n",
       "      <td>Venture capitalists never know for sure which ...</td>\n",
       "    </tr>\n",
       "    <tr>\n",
       "      <th>23</th>\n",
       "      <td>no</td>\n",
       "      <td>Hard-Hit Shares&lt;/br&gt;&lt;/br&gt;Put to Good Use&lt;/br&gt;&lt;...</td>\n",
       "    </tr>\n",
       "    <tr>\n",
       "      <th>24</th>\n",
       "      <td>no</td>\n",
       "      <td>Author: Kristina Peterson&lt;/br&gt;&lt;/br&gt;NEW YORK--B...</td>\n",
       "    </tr>\n",
       "    <tr>\n",
       "      <th>25</th>\n",
       "      <td>no</td>\n",
       "      <td>DETROIT -- The city of Detroit plans to close ...</td>\n",
       "    </tr>\n",
       "    <tr>\n",
       "      <th>26</th>\n",
       "      <td>no</td>\n",
       "      <td>NEW YORK -- A sharp decline in the dollar prom...</td>\n",
       "    </tr>\n",
       "    <tr>\n",
       "      <th>27</th>\n",
       "      <td>yes</td>\n",
       "      <td>WASHINGTON -- In a sign that inflation remains...</td>\n",
       "    </tr>\n",
       "    <tr>\n",
       "      <th>28</th>\n",
       "      <td>no</td>\n",
       "      <td>NEW YORK -- A prominent longtime bear on gold ...</td>\n",
       "    </tr>\n",
       "    <tr>\n",
       "      <th>29</th>\n",
       "      <td>no</td>\n",
       "      <td>NEW YORK -- Warburg Pincus &amp; Co. is a classic ...</td>\n",
       "    </tr>\n",
       "    <tr>\n",
       "      <th>...</th>\n",
       "      <td>...</td>\n",
       "      <td>...</td>\n",
       "    </tr>\n",
       "    <tr>\n",
       "      <th>7970</th>\n",
       "      <td>no</td>\n",
       "      <td>XKW VOKK. July I!) (APIÛÓBlue-riiij) iii'd gl...</td>\n",
       "    </tr>\n",
       "    <tr>\n",
       "      <th>7971</th>\n",
       "      <td>no</td>\n",
       "      <td>Virginia is a hothouse sprouting PACs this sum...</td>\n",
       "    </tr>\n",
       "    <tr>\n",
       "      <th>7972</th>\n",
       "      <td>no</td>\n",
       "      <td>46.1\\tpercent. And the middle class slid from ...</td>\n",
       "    </tr>\n",
       "    <tr>\n",
       "      <th>7973</th>\n",
       "      <td>yes</td>\n",
       "      <td>Housing starts surged by 4.4 percent last mont...</td>\n",
       "    </tr>\n",
       "    <tr>\n",
       "      <th>7974</th>\n",
       "      <td>yes</td>\n",
       "      <td>When it comes to actually cashing in, stock ma...</td>\n",
       "    </tr>\n",
       "    <tr>\n",
       "      <th>7975</th>\n",
       "      <td>no</td>\n",
       "      <td>The long-running battle for control of the Nat...</td>\n",
       "    </tr>\n",
       "    <tr>\n",
       "      <th>7976</th>\n",
       "      <td>no</td>\n",
       "      <td>The Treasury Department announced yesterday th...</td>\n",
       "    </tr>\n",
       "    <tr>\n",
       "      <th>7977</th>\n",
       "      <td>no</td>\n",
       "      <td>NEW YORK, Oct. 13 (AP)ÛÓThe stock market was ...</td>\n",
       "    </tr>\n",
       "    <tr>\n",
       "      <th>7978</th>\n",
       "      <td>no</td>\n",
       "      <td>Maybe it's the dog days, but three friends rec...</td>\n",
       "    </tr>\n",
       "    <tr>\n",
       "      <th>7979</th>\n",
       "      <td>no</td>\n",
       "      <td>Public confidence in President Reagan's abilit...</td>\n",
       "    </tr>\n",
       "    <tr>\n",
       "      <th>7980</th>\n",
       "      <td>no</td>\n",
       "      <td>The editors of National Journal, a respected a...</td>\n",
       "    </tr>\n",
       "    <tr>\n",
       "      <th>7981</th>\n",
       "      <td>no</td>\n",
       "      <td>Mayor Marion Barry, facing a much larger poten...</td>\n",
       "    </tr>\n",
       "    <tr>\n",
       "      <th>7982</th>\n",
       "      <td>no</td>\n",
       "      <td>As General Motors and Chrysler seek another in...</td>\n",
       "    </tr>\n",
       "    <tr>\n",
       "      <th>7983</th>\n",
       "      <td>no</td>\n",
       "      <td>The U.S. economy ended 1987 on an apparently h...</td>\n",
       "    </tr>\n",
       "    <tr>\n",
       "      <th>7984</th>\n",
       "      <td>yes</td>\n",
       "      <td>Perhaps nothing about the Clinton administrati...</td>\n",
       "    </tr>\n",
       "    <tr>\n",
       "      <th>7985</th>\n",
       "      <td>no</td>\n",
       "      <td>NEW. YORK, Feb. 26 W).ÛÓ'The stock market dec...</td>\n",
       "    </tr>\n",
       "    <tr>\n",
       "      <th>7986</th>\n",
       "      <td>no</td>\n",
       "      <td>After two decades mired in the intractable pro...</td>\n",
       "    </tr>\n",
       "    <tr>\n",
       "      <th>7987</th>\n",
       "      <td>yes</td>\n",
       "      <td>Looking at the enormous -- and incessant -- ti...</td>\n",
       "    </tr>\n",
       "    <tr>\n",
       "      <th>7988</th>\n",
       "      <td>no</td>\n",
       "      <td>ONE of the most puzzling aspects of the econom...</td>\n",
       "    </tr>\n",
       "    <tr>\n",
       "      <th>7989</th>\n",
       "      <td>no</td>\n",
       "      <td>With his popularity slowly eroding as the nati...</td>\n",
       "    </tr>\n",
       "    <tr>\n",
       "      <th>7990</th>\n",
       "      <td>no</td>\n",
       "      <td>Alan Cowan said he's never been late paying hi...</td>\n",
       "    </tr>\n",
       "    <tr>\n",
       "      <th>7991</th>\n",
       "      <td>no</td>\n",
       "      <td>In response to prodding from Republican member...</td>\n",
       "    </tr>\n",
       "    <tr>\n",
       "      <th>7992</th>\n",
       "      <td>no</td>\n",
       "      <td>That's the value of an estimated 30 million of...</td>\n",
       "    </tr>\n",
       "    <tr>\n",
       "      <th>7993</th>\n",
       "      <td>no</td>\n",
       "      <td>What Baltimore Bancorp officials predicted wou...</td>\n",
       "    </tr>\n",
       "    <tr>\n",
       "      <th>7994</th>\n",
       "      <td>no</td>\n",
       "      <td>NEW YORK. Oct. 7 (AIMÛÓTile slock market adva...</td>\n",
       "    </tr>\n",
       "    <tr>\n",
       "      <th>7995</th>\n",
       "      <td>yes</td>\n",
       "      <td>Secretary of Commerce Charles W. Sawyer said y...</td>\n",
       "    </tr>\n",
       "    <tr>\n",
       "      <th>7996</th>\n",
       "      <td>no</td>\n",
       "      <td>U.S. stocks inched up last week, overcoming co...</td>\n",
       "    </tr>\n",
       "    <tr>\n",
       "      <th>7997</th>\n",
       "      <td>no</td>\n",
       "      <td>Ben S. Bernanke cleared a key hurdle Thursday ...</td>\n",
       "    </tr>\n",
       "    <tr>\n",
       "      <th>7998</th>\n",
       "      <td>no</td>\n",
       "      <td>The White House's push to contract out many fe...</td>\n",
       "    </tr>\n",
       "    <tr>\n",
       "      <th>7999</th>\n",
       "      <td>no</td>\n",
       "      <td>NEW YORK. April 17-Automobile stocks put on th...</td>\n",
       "    </tr>\n",
       "  </tbody>\n",
       "</table>\n",
       "<p>8000 rows × 2 columns</p>\n",
       "</div>"
      ],
      "text/plain": [
       "     relevance                                               text\n",
       "0          yes  NEW YORK -- Yields on most certificates of dep...\n",
       "1           no  The Wall Street Journal Online</br></br>The Mo...\n",
       "2           no  WASHINGTON -- In an effort to achieve banking ...\n",
       "3           no  The statistics on the enormous costs of employ...\n",
       "4          yes  NEW YORK -- Indecision marked the dollar's ton...\n",
       "5          yes  Stocks declined, as investors weighed slower-t...\n",
       "6           no  TORONTO -- Royal Bank of Canada and Bank of Mo...\n",
       "7           no  Many people think that the monster of health-c...\n",
       "8           no  Sequenom Inc., a genomics-based biotechnology ...\n",
       "9          yes  The U.S. dollar declined against most major fo...\n",
       "10          no  The Wall Street Journal Online</br></br>A LATE...\n",
       "11          no  MCI WorldCom Inc., fueled by growth in Interne...\n",
       "12         yes  Author: James B. Stewart</br></br>The dreaded ...\n",
       "13          no  NEW YORK -- Commercial and industrial loan vol...\n",
       "14          no  WASHINGTON -- A week before an international e...\n",
       "15          no  According to Kevin A. Hassett and Aparna Mathu...\n",
       "16          no  OTAVALO, Ecuador -- The long black braid, the ...\n",
       "17         yes  NEW YORK -- The dollar sagged yesterday, as ne...\n",
       "18          no  By the time the parents of Serena Violano were...\n",
       "19          no  The outlook for business investment appears to...\n",
       "20         yes  The technology industry, an engine of innovati...\n",
       "21         yes  WASHINGTON -- While acknowledging that the pac...\n",
       "22          no  Venture capitalists never know for sure which ...\n",
       "23          no  Hard-Hit Shares</br></br>Put to Good Use</br><...\n",
       "24          no  Author: Kristina Peterson</br></br>NEW YORK--B...\n",
       "25          no  DETROIT -- The city of Detroit plans to close ...\n",
       "26          no  NEW YORK -- A sharp decline in the dollar prom...\n",
       "27         yes  WASHINGTON -- In a sign that inflation remains...\n",
       "28          no  NEW YORK -- A prominent longtime bear on gold ...\n",
       "29          no  NEW YORK -- Warburg Pincus & Co. is a classic ...\n",
       "...        ...                                                ...\n",
       "7970        no  XKW VOKK. July I!) (APIÛÓBlue-riiij) iii'd gl...\n",
       "7971        no  Virginia is a hothouse sprouting PACs this sum...\n",
       "7972        no  46.1\\tpercent. And the middle class slid from ...\n",
       "7973       yes  Housing starts surged by 4.4 percent last mont...\n",
       "7974       yes  When it comes to actually cashing in, stock ma...\n",
       "7975        no  The long-running battle for control of the Nat...\n",
       "7976        no  The Treasury Department announced yesterday th...\n",
       "7977        no  NEW YORK, Oct. 13 (AP)ÛÓThe stock market was ...\n",
       "7978        no  Maybe it's the dog days, but three friends rec...\n",
       "7979        no  Public confidence in President Reagan's abilit...\n",
       "7980        no  The editors of National Journal, a respected a...\n",
       "7981        no  Mayor Marion Barry, facing a much larger poten...\n",
       "7982        no  As General Motors and Chrysler seek another in...\n",
       "7983        no  The U.S. economy ended 1987 on an apparently h...\n",
       "7984       yes  Perhaps nothing about the Clinton administrati...\n",
       "7985        no  NEW. YORK, Feb. 26 W).ÛÓ'The stock market dec...\n",
       "7986        no  After two decades mired in the intractable pro...\n",
       "7987       yes  Looking at the enormous -- and incessant -- ti...\n",
       "7988        no  ONE of the most puzzling aspects of the econom...\n",
       "7989        no  With his popularity slowly eroding as the nati...\n",
       "7990        no  Alan Cowan said he's never been late paying hi...\n",
       "7991        no  In response to prodding from Republican member...\n",
       "7992        no  That's the value of an estimated 30 million of...\n",
       "7993        no  What Baltimore Bancorp officials predicted wou...\n",
       "7994        no  NEW YORK. Oct. 7 (AIMÛÓTile slock market adva...\n",
       "7995       yes  Secretary of Commerce Charles W. Sawyer said y...\n",
       "7996        no  U.S. stocks inched up last week, overcoming co...\n",
       "7997        no  Ben S. Bernanke cleared a key hurdle Thursday ...\n",
       "7998        no  The White House's push to contract out many fe...\n",
       "7999        no  NEW YORK. April 17-Automobile stocks put on th...\n",
       "\n",
       "[8000 rows x 2 columns]"
      ]
     },
     "execution_count": 18,
     "metadata": {},
     "output_type": "execute_result"
    }
   ],
   "source": [
    "df = pd.read_csv('d:/tmp/news-article/Full-Economic-News-DFE-839861.csv', encoding='latin1',\n",
    "                usecols=['relevance', 'text'])\n",
    "df"
   ]
  },
  {
   "cell_type": "code",
   "execution_count": 19,
   "metadata": {},
   "outputs": [
    {
     "data": {
      "text/plain": [
       "array(['yes', 'no'], dtype=object)"
      ]
     },
     "execution_count": 19,
     "metadata": {},
     "output_type": "execute_result"
    }
   ],
   "source": [
    "df.drop(df.loc[df.relevance=='not sure'].index, inplace=True)\n",
    "df.relevance.unique()"
   ]
  },
  {
   "cell_type": "code",
   "execution_count": null,
   "metadata": {},
   "outputs": [],
   "source": []
  },
  {
   "cell_type": "code",
   "execution_count": null,
   "metadata": {},
   "outputs": [],
   "source": []
  },
  {
   "cell_type": "markdown",
   "metadata": {},
   "source": [
    "## Data Transformation (60 minutes)\n",
    "\n",
    "1. Convert the relevance \"yes/no\" into numbers using LabelEncoder\n",
    "2. Perform text feature extraction on the \"text\" column:\n",
    "\n",
    "   a. Use spaCy to tokenize and lemmatize.\n",
    "   \n",
    "   b. Pass the tokenized text into TfidfVectorizer. You can decide to train with 1-gram or 2-gram (or more if your computer is faster)"
   ]
  },
  {
   "cell_type": "code",
   "execution_count": 20,
   "metadata": {},
   "outputs": [
    {
     "data": {
      "text/html": [
       "<div>\n",
       "<style scoped>\n",
       "    .dataframe tbody tr th:only-of-type {\n",
       "        vertical-align: middle;\n",
       "    }\n",
       "\n",
       "    .dataframe tbody tr th {\n",
       "        vertical-align: top;\n",
       "    }\n",
       "\n",
       "    .dataframe thead th {\n",
       "        text-align: right;\n",
       "    }\n",
       "</style>\n",
       "<table border=\"1\" class=\"dataframe\">\n",
       "  <thead>\n",
       "    <tr style=\"text-align: right;\">\n",
       "      <th></th>\n",
       "      <th>relevance</th>\n",
       "      <th>text</th>\n",
       "      <th>y</th>\n",
       "    </tr>\n",
       "  </thead>\n",
       "  <tbody>\n",
       "    <tr>\n",
       "      <th>0</th>\n",
       "      <td>yes</td>\n",
       "      <td>NEW YORK -- Yields on most certificates of dep...</td>\n",
       "      <td>1</td>\n",
       "    </tr>\n",
       "    <tr>\n",
       "      <th>1</th>\n",
       "      <td>no</td>\n",
       "      <td>The Wall Street Journal Online&lt;/br&gt;&lt;/br&gt;The Mo...</td>\n",
       "      <td>0</td>\n",
       "    </tr>\n",
       "    <tr>\n",
       "      <th>2</th>\n",
       "      <td>no</td>\n",
       "      <td>WASHINGTON -- In an effort to achieve banking ...</td>\n",
       "      <td>0</td>\n",
       "    </tr>\n",
       "    <tr>\n",
       "      <th>3</th>\n",
       "      <td>no</td>\n",
       "      <td>The statistics on the enormous costs of employ...</td>\n",
       "      <td>0</td>\n",
       "    </tr>\n",
       "    <tr>\n",
       "      <th>4</th>\n",
       "      <td>yes</td>\n",
       "      <td>NEW YORK -- Indecision marked the dollar's ton...</td>\n",
       "      <td>1</td>\n",
       "    </tr>\n",
       "  </tbody>\n",
       "</table>\n",
       "</div>"
      ],
      "text/plain": [
       "  relevance                                               text  y\n",
       "0       yes  NEW YORK -- Yields on most certificates of dep...  1\n",
       "1        no  The Wall Street Journal Online</br></br>The Mo...  0\n",
       "2        no  WASHINGTON -- In an effort to achieve banking ...  0\n",
       "3        no  The statistics on the enormous costs of employ...  0\n",
       "4       yes  NEW YORK -- Indecision marked the dollar's ton...  1"
      ]
     },
     "execution_count": 20,
     "metadata": {},
     "output_type": "execute_result"
    }
   ],
   "source": [
    "from sklearn.preprocessing import LabelEncoder\n",
    "\n",
    "encoder = LabelEncoder()\n",
    "df['y'] = encoder.fit_transform(df.relevance)\n",
    "df.head()"
   ]
  },
  {
   "cell_type": "code",
   "execution_count": null,
   "metadata": {},
   "outputs": [],
   "source": []
  },
  {
   "cell_type": "markdown",
   "metadata": {},
   "source": [
    "pd.DataFrame.apply() can be slow if run in pure python.\n",
    "\n",
    "A way to speed things up is to compile the `tokenize_text` function in C, using Cython.\n",
    "\n",
    "https://pandas.pydata.org/pandas-docs/stable/enhancingperf.html\n",
    "\n",
    "```\n",
    "conda install -y cython\n",
    "```"
   ]
  },
  {
   "cell_type": "markdown",
   "metadata": {},
   "source": [
    "Import the Cython magic function by calling `%load_ext Cython`"
   ]
  },
  {
   "cell_type": "code",
   "execution_count": 25,
   "metadata": {},
   "outputs": [],
   "source": [
    "%load_ext Cython"
   ]
  },
  {
   "cell_type": "code",
   "execution_count": 28,
   "metadata": {},
   "outputs": [],
   "source": [
    "%%cython\n",
    "\n",
    "import spacy\n",
    "from spacy.lemmatizer import Lemmatizer\n",
    "from spacy.lang.en import LEMMA_INDEX, LEMMA_EXC, LEMMA_RULES\n",
    "\n",
    "nlp = spacy.load('en_core_web_sm')\n",
    "lemmatizer = Lemmatizer(LEMMA_INDEX, LEMMA_EXC, LEMMA_RULES)\n",
    "\n",
    "# transformation function to use in pd.DataFrame.apply()\n",
    "def tokenize_text(text):\n",
    "    \"\"\"Tokenizes the text by lemmatizing and removing stop words\n",
    "    Args:\n",
    "        text - the input text\n",
    "    Returns:\n",
    "        a list of tokens\n",
    "    \"\"\"\n",
    "    # process the text\n",
    "    doc = nlp(text)\n",
    "    \n",
    "    # https://spacy.io/api/token\n",
    "    lemmas = [lemmatizer(token.text, token.pos_) for token in doc\n",
    "              if not token.is_stop and token.is_alpha]\n",
    "\n",
    "    # create a string\n",
    "    return ' '.join([item for sublist in lemmas for item in sublist])"
   ]
  },
  {
   "cell_type": "code",
   "execution_count": 29,
   "metadata": {},
   "outputs": [
    {
     "data": {
      "text/plain": [
       "'new york yield certificate deposit offer major bank drop tenth percentage point late week reflect overall decline short term interest on small denomination consumer cd sell directly bank average yield month deposit fall week end yesterday accord survey banxquote money markets wilmington information on month consumer deposit average yield sink week accord banxquote two bank banxquote survey citibank new york corestates pennsylvania pay threemonth small denomination decline somewhat small year consumer cd ease banxquote yield month month treasury bill sell monday auction plummet fifth percentage point previous week respectively'"
      ]
     },
     "execution_count": 29,
     "metadata": {},
     "output_type": "execute_result"
    }
   ],
   "source": [
    "# Test\n",
    "tokenize_text(df.text[0])"
   ]
  },
  {
   "cell_type": "code",
   "execution_count": 30,
   "metadata": {},
   "outputs": [
    {
     "name": "stdout",
     "output_type": "stream",
     "text": [
      "Wall time: 9min 42s\n"
     ]
    },
    {
     "data": {
      "text/plain": [
       "0    new york yield certificate deposit offer major...\n",
       "1    the wall street journal the morning brief look...\n",
       "2    washington in effort achieve banking reform se...\n",
       "3    the statistic enormous cost employee drug abus...\n",
       "4    new york indecision mark dollar tone trader pa...\n",
       "Name: text, dtype: object"
      ]
     },
     "execution_count": 30,
     "metadata": {},
     "output_type": "execute_result"
    }
   ],
   "source": [
    "# Tokenize the column (takes about 10 minutes)\n",
    "# %time df_tokenized = df.text.apply(tokenize_text)\n",
    "# df_tokenized.head()"
   ]
  },
  {
   "cell_type": "code",
   "execution_count": 2,
   "metadata": {},
   "outputs": [
    {
     "data": {
      "text/html": [
       "<div>\n",
       "<style scoped>\n",
       "    .dataframe tbody tr th:only-of-type {\n",
       "        vertical-align: middle;\n",
       "    }\n",
       "\n",
       "    .dataframe tbody tr th {\n",
       "        vertical-align: top;\n",
       "    }\n",
       "\n",
       "    .dataframe thead th {\n",
       "        text-align: right;\n",
       "    }\n",
       "</style>\n",
       "<table border=\"1\" class=\"dataframe\">\n",
       "  <thead>\n",
       "    <tr style=\"text-align: right;\">\n",
       "      <th></th>\n",
       "      <th>relevance</th>\n",
       "      <th>text</th>\n",
       "      <th>y</th>\n",
       "      <th>tokenized</th>\n",
       "    </tr>\n",
       "  </thead>\n",
       "  <tbody>\n",
       "    <tr>\n",
       "      <th>0</th>\n",
       "      <td>yes</td>\n",
       "      <td>NEW YORK -- Yields on most certificates of dep...</td>\n",
       "      <td>1</td>\n",
       "      <td>new york yield certificate deposit offer major...</td>\n",
       "    </tr>\n",
       "    <tr>\n",
       "      <th>1</th>\n",
       "      <td>no</td>\n",
       "      <td>The Wall Street Journal Online&lt;/br&gt;&lt;/br&gt;The Mo...</td>\n",
       "      <td>0</td>\n",
       "      <td>the wall street journal the morning brief look...</td>\n",
       "    </tr>\n",
       "    <tr>\n",
       "      <th>2</th>\n",
       "      <td>no</td>\n",
       "      <td>WASHINGTON -- In an effort to achieve banking ...</td>\n",
       "      <td>0</td>\n",
       "      <td>washington in effort achieve banking reform se...</td>\n",
       "    </tr>\n",
       "    <tr>\n",
       "      <th>3</th>\n",
       "      <td>no</td>\n",
       "      <td>The statistics on the enormous costs of employ...</td>\n",
       "      <td>0</td>\n",
       "      <td>the statistic enormous cost employee drug abus...</td>\n",
       "    </tr>\n",
       "    <tr>\n",
       "      <th>4</th>\n",
       "      <td>yes</td>\n",
       "      <td>NEW YORK -- Indecision marked the dollar's ton...</td>\n",
       "      <td>1</td>\n",
       "      <td>new york indecision mark dollar tone trader pa...</td>\n",
       "    </tr>\n",
       "  </tbody>\n",
       "</table>\n",
       "</div>"
      ],
      "text/plain": [
       "  relevance                                               text  y  \\\n",
       "0       yes  NEW YORK -- Yields on most certificates of dep...  1   \n",
       "1        no  The Wall Street Journal Online</br></br>The Mo...  0   \n",
       "2        no  WASHINGTON -- In an effort to achieve banking ...  0   \n",
       "3        no  The statistics on the enormous costs of employ...  0   \n",
       "4       yes  NEW YORK -- Indecision marked the dollar's ton...  1   \n",
       "\n",
       "                                           tokenized  \n",
       "0  new york yield certificate deposit offer major...  \n",
       "1  the wall street journal the morning brief look...  \n",
       "2  washington in effort achieve banking reform se...  \n",
       "3  the statistic enormous cost employee drug abus...  \n",
       "4  new york indecision mark dollar tone trader pa...  "
      ]
     },
     "execution_count": 2,
     "metadata": {},
     "output_type": "execute_result"
    }
   ],
   "source": [
    "# Save the tokenized columns to CSV, so that we don't have to tokenize again\n",
    "# https://pandas.pydata.org/pandas-docs/stable/generated/pandas.DataFrame.to_csv.html\n",
    "\n",
    "# df['tokenized'] = df_tokenized\n",
    "# df.to_csv('d:/tmp/news-article/Full-Economic-News-DFE-839861.tokenized.csv', encoding='latin1',\n",
    "#          index=False)\n",
    "\n",
    "df = pd.read_csv('d:/tmp/news-article/Full-Economic-News-DFE-839861.tokenized.csv', encoding='latin1')\n",
    "df.head()"
   ]
  },
  {
   "cell_type": "code",
   "execution_count": 3,
   "metadata": {},
   "outputs": [
    {
     "data": {
      "text/plain": [
       "0    new york yield certificate deposit offer major...\n",
       "1    the wall street journal the morning brief look...\n",
       "2    washington in effort achieve banking reform se...\n",
       "3    the statistic enormous cost employee drug abus...\n",
       "4    new york indecision mark dollar tone trader pa...\n",
       "Name: tokenized, dtype: object"
      ]
     },
     "execution_count": 3,
     "metadata": {},
     "output_type": "execute_result"
    }
   ],
   "source": [
    "df_tokenized = df.tokenized\n",
    "df_tokenized.head()"
   ]
  },
  {
   "cell_type": "code",
   "execution_count": 4,
   "metadata": {},
   "outputs": [
    {
     "name": "stdout",
     "output_type": "stream",
     "text": [
      "(7991, 31876)\n",
      "['aa', 'aaa', 'aacer', 'aadvantage', 'aagrf', 'aairl', 'aalrl', 'aame', 'aap', 'aaron']\n"
     ]
    }
   ],
   "source": [
    "from sklearn.feature_extraction.text import TfidfVectorizer\n",
    "\n",
    "# Apply the vectorizer on all tokenized rows\n",
    "vectorizer = TfidfVectorizer(lowercase=False, decode_error='ignore')\n",
    "\n",
    "# convert sparse matrix to dense matrix\n",
    "X_dense = vectorizer.fit_transform(df_tokenized).todense()\n",
    "print(X_dense.shape)\n",
    "\n",
    "# print a few features\n",
    "print(vectorizer.get_feature_names()[:10])"
   ]
  },
  {
   "cell_type": "code",
   "execution_count": 5,
   "metadata": {},
   "outputs": [
    {
     "data": {
      "text/plain": [
       "y\n",
       "0    6571\n",
       "1    1420\n",
       "dtype: int64"
      ]
     },
     "execution_count": 5,
     "metadata": {},
     "output_type": "execute_result"
    }
   ],
   "source": [
    "# check the distribution of the relevant / irrelevant articles\n",
    "df.groupby(['y']).size()"
   ]
  },
  {
   "cell_type": "code",
   "execution_count": null,
   "metadata": {},
   "outputs": [],
   "source": []
  },
  {
   "cell_type": "markdown",
   "metadata": {},
   "source": [
    "## Visualize (20 minutes)\n",
    "\n",
    "Use `TSNE` to visualize the Tfidf vectors into a 2-D plot"
   ]
  },
  {
   "cell_type": "code",
   "execution_count": 6,
   "metadata": {},
   "outputs": [
    {
     "name": "stdout",
     "output_type": "stream",
     "text": [
      "Wall time: 1min 4s\n",
      "(799, 2)\n"
     ]
    },
    {
     "data": {
      "image/png": "[encoded data removed]",
      "text/plain": [
       "<Figure size 1080x720 with 1 Axes>"
      ]
     },
     "metadata": {},
     "output_type": "display_data"
    }
   ],
   "source": [
    "from sklearn.manifold import TSNE\n",
    "\n",
    "# Sample a portion of the dataset for t-SNE (otherwise too slow)\n",
    "density = 0.1\n",
    "\n",
    "df_display = pd.DataFrame(X_dense)\n",
    "df_display['y'] = df.y\n",
    "sample = df_display.sample(frac=density, random_state=42)\n",
    "sample_X = sample.iloc[:, :-1] # pick all but the last column ('y')\n",
    "\n",
    "tsne = TSNE(n_components=2, random_state=42)\n",
    "%time X_2d = tsne.fit_transform(sample_X)\n",
    "\n",
    "print(X_2d.shape)\n",
    "\n",
    "fig, ax = plt.subplots(figsize=(15, 10))\n",
    "ax.scatter(X_2d[:, 0], X_2d[:, 1], c=sample.y)\n",
    "\n",
    "ax.set(title='t-SNE plot for News Articles (X) and Relevance (y)',\n",
    "       xlabel='X_2d[:, 0]', ylabel='X_2d[:, 1]')\n",
    "ax.grid()\n",
    "plt.show()"
   ]
  },
  {
   "cell_type": "code",
   "execution_count": 7,
   "metadata": {},
   "outputs": [],
   "source": [
    "# sample.iloc[:, :-1].columns"
   ]
  },
  {
   "cell_type": "code",
   "execution_count": null,
   "metadata": {},
   "outputs": [],
   "source": []
  },
  {
   "cell_type": "code",
   "execution_count": null,
   "metadata": {},
   "outputs": [],
   "source": []
  },
  {
   "cell_type": "markdown",
   "metadata": {},
   "source": [
    "## Train (30 minutes)\n",
    "\n",
    "1. Train/test split and shuffle the dataset\n",
    "2. Train your favourite models with the dataset.  Keep in mind that SVM and MLPClassifier can be slow.\n",
    "3. Get classification_report metric"
   ]
  },
  {
   "cell_type": "code",
   "execution_count": 8,
   "metadata": {},
   "outputs": [],
   "source": [
    "from sklearn.model_selection import train_test_split\n",
    "\n",
    "X_train, X_test, y_train, y_test = train_test_split(X_dense, df.y, random_state=42)"
   ]
  },
  {
   "cell_type": "code",
   "execution_count": null,
   "metadata": {},
   "outputs": [
    {
     "name": "stdout",
     "output_type": "stream",
     "text": [
      "<class 'sklearn.dummy.DummyClassifier'>\n",
      "             precision    recall  f1-score   support\n",
      "\n",
      "          0       0.81      0.83      0.82      1621\n",
      "          1       0.18      0.17      0.18       377\n",
      "\n",
      "avg / total       0.69      0.70      0.70      1998\n",
      "\n",
      "<class 'sklearn.linear_model.logistic.LogisticRegression'>\n",
      "             precision    recall  f1-score   support\n",
      "\n",
      "          0       0.82      0.99      0.90      1621\n",
      "          1       0.54      0.07      0.13       377\n",
      "\n",
      "avg / total       0.77      0.81      0.75      1998\n",
      "\n",
      "<class 'sklearn.naive_bayes.GaussianNB'>\n"
     ]
    }
   ],
   "source": [
    "from sklearn.dummy import DummyClassifier\n",
    "from sklearn.linear_model import LogisticRegression, SGDClassifier\n",
    "from sklearn.neighbors import KNeighborsClassifier\n",
    "from sklearn.naive_bayes import GaussianNB\n",
    "from sklearn.tree import DecisionTreeClassifier\n",
    "from sklearn.neural_network import MLPClassifier # just for kicks\n",
    "from sklearn.svm import SVC\n",
    "\n",
    "from sklearn.metrics import classification_report\n",
    "\n",
    "classifiers = [\n",
    "    DummyClassifier(random_state=42),\n",
    "    LogisticRegression(random_state=42),\n",
    "    #SGDClassifier(random_state=42, tol=1e-8, max_iter=1000),\n",
    "    GaussianNB(),\n",
    "    #SVC(random_state=42),\n",
    "    KNeighborsClassifier(),\n",
    "    DecisionTreeClassifier()\n",
    "    #MLPClassifier(random_state=42, tol=1e-8, max_iter=1000)\n",
    "]\n",
    "\n",
    "for clf in classifiers:\n",
    "    print(type(clf))\n",
    "    clf.fit(X_train, y_train)\n",
    "    pred = clf.predict(X_test)\n",
    "    print(classification_report(y_test, pred))"
   ]
  },
  {
   "cell_type": "code",
   "execution_count": null,
   "metadata": {},
   "outputs": [],
   "source": []
  },
  {
   "cell_type": "code",
   "execution_count": null,
   "metadata": {},
   "outputs": [],
   "source": []
  },
  {
   "cell_type": "code",
   "execution_count": null,
   "metadata": {},
   "outputs": [],
   "source": []
  },
  {
   "cell_type": "code",
   "execution_count": null,
   "metadata": {},
   "outputs": [],
   "source": []
  },
  {
   "cell_type": "markdown",
   "metadata": {},
   "source": [
    "## Predictions (30 minutes)\n",
    "\n",
    "1. Go to reuters.com or anywhere and find any news article.\n",
    "2. Get the text of the article and pass it to your best performing model.\n",
    "  a. You need to first tokenize and lemmatize your test text\n",
    "  b. Apply `TfidfVectorizer` to get the test input vector\n",
    "  c. Run `predict` to see if your model correctly classified the text as relevant to the US Economy"
   ]
  },
  {
   "cell_type": "code",
   "execution_count": null,
   "metadata": {},
   "outputs": [],
   "source": []
  },
  {
   "cell_type": "code",
   "execution_count": null,
   "metadata": {},
   "outputs": [],
   "source": []
  },
  {
   "cell_type": "code",
   "execution_count": null,
   "metadata": {},
   "outputs": [],
   "source": []
  },
  {
   "cell_type": "code",
   "execution_count": null,
   "metadata": {},
   "outputs": [],
   "source": []
  },
  {
   "cell_type": "code",
   "execution_count": null,
   "metadata": {},
   "outputs": [],
   "source": []
  },
  {
   "cell_type": "code",
   "execution_count": null,
   "metadata": {},
   "outputs": [],
   "source": []
  },
  {
   "cell_type": "code",
   "execution_count": null,
   "metadata": {},
   "outputs": [],
   "source": []
  }
 ],
 "metadata": {
  "kernelspec": {
   "display_name": "Python 3",
   "language": "python",
   "name": "python3"
  },
  "language_info": {
   "codemirror_mode": {
    "name": "ipython",
    "version": 3
   },
   "file_extension": ".py",
   "mimetype": "text/x-python",
   "name": "python",
   "nbconvert_exporter": "python",
   "pygments_lexer": "ipython3",
   "version": "3.6.5"
  }
 },
 "nbformat": 4,
 "nbformat_minor": 2
}
