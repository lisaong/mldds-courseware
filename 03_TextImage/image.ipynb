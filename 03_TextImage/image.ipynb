{
 "cells": [
  {
   "cell_type": "markdown",
   "metadata": {
    "slideshow": {
     "slide_type": "-"
    }
   },
   "source": [
    "# Image Recognition\n",
    "\n",
    "![cat detectors rule](assets/image/meme.jpg)\n",
    "\n",
    "(image: https://towardsdatascience.com/the-whos-who-of-machine-learning-and-why-you-should-know-them-9cefbbc84f07)"
   ]
  },
  {
   "cell_type": "markdown",
   "metadata": {
    "slideshow": {
     "slide_type": "slide"
    }
   },
   "source": [
    "# Topics\n",
    "\n",
    "- Image Recognition Tasks\n",
    "- Convolutional Neural Networks\n",
    "- Image Classification\n",
    "- Object Detection\n",
    "- Instance Segmentation"
   ]
  },
  {
   "cell_type": "markdown",
   "metadata": {
    "slideshow": {
     "slide_type": "slide"
    }
   },
   "source": [
    "# Image Recognition Tasks\n",
    "![cat detectors](assets/image/cat_detectors.png)\n",
    "\n",
    "(image: analyticsindiamag.com)"
   ]
  },
  {
   "cell_type": "markdown",
   "metadata": {
    "slideshow": {
     "slide_type": "slide"
    }
   },
   "source": [
    "## Input Image Tensor\n",
    "\n",
    "- 3 channels: 'rgb'\n",
    "- rows: image height\n",
    "- columns: image width\n",
    "\n",
    "Ordering:\n",
    "- Channels-first: channel, rows, columns\n",
    "- Channels-last: rows, columns, channels"
   ]
  },
  {
   "cell_type": "markdown",
   "metadata": {
    "slideshow": {
     "slide_type": "-"
    }
   },
   "source": [
    "## Walkthrough - Input Images\n",
    "\n",
    "In this walkthrough, we will read an image from file and examine the data."
   ]
  },
  {
   "cell_type": "markdown",
   "metadata": {
    "slideshow": {
     "slide_type": "slide"
    }
   },
   "source": [
    "### Setup\n",
    "\n",
    "Install the Python image library:\n",
    "```\n",
    "conda install pillow\n",
    "```"
   ]
  },
  {
   "cell_type": "code",
   "execution_count": null,
   "metadata": {
    "slideshow": {
     "slide_type": "-"
    }
   },
   "outputs": [],
   "source": [
    "import matplotlib.pyplot as plt\n",
    "import numpy as np\n",
    "from PIL import Image\n",
    "\n",
    "# read an image file\n",
    "demo = Image.open('assets/image/cat.jpg') # source: pxhere.com/en/photo/1337399\n",
    "\n",
    "# display the image\n",
    "plt.imshow(demo)\n",
    "plt.show()"
   ]
  },
  {
   "cell_type": "code",
   "execution_count": null,
   "metadata": {
    "slideshow": {
     "slide_type": "-"
    }
   },
   "outputs": [],
   "source": [
    "# examine the numpy array\n",
    "demo_arr = np.array(demo)\n",
    "\n",
    "print('shape:', demo_arr.shape)\n",
    "print('data type:', demo_arr.dtype)\n",
    "print('rank:', demo_arr.ndim)"
   ]
  },
  {
   "cell_type": "code",
   "execution_count": null,
   "metadata": {
    "slideshow": {
     "slide_type": "-"
    }
   },
   "outputs": [],
   "source": [
    "# since the sides of the picture are the same boring color\n",
    "# inspect the (roughly) middle 5 rows and columns\n",
    "midpoint_row = int(demo_arr.shape[0] / 2)\n",
    "midpoint_col = int(demo_arr.shape[1] / 2)\n",
    "\n",
    "demo_arr[midpoint_row:midpoint_row+5, midpoint_col:midpoint_col+5, :]"
   ]
  },
  {
   "cell_type": "code",
   "execution_count": null,
   "metadata": {
    "slideshow": {
     "slide_type": "-"
    }
   },
   "outputs": [],
   "source": [
    "plt.subplot(111);\n",
    "plt.hist(demo_arr.flatten(), 256, range=(0,256))\n",
    "plt.title('Histogram of input image')"
   ]
  },
  {
   "cell_type": "code",
   "execution_count": null,
   "metadata": {
    "slideshow": {
     "slide_type": "-"
    }
   },
   "outputs": [],
   "source": [
    "# resize the image to 224 by 224\n",
    "demo.thumbnail((224, 224), resample=Image.BICUBIC)\n",
    "\n",
    "# display the image\n",
    "plt.imshow(demo, interpolation='nearest')"
   ]
  },
  {
   "cell_type": "code",
   "execution_count": null,
   "metadata": {
    "slideshow": {
     "slide_type": "-"
    }
   },
   "outputs": [],
   "source": [
    "# examine the numpy array again\n",
    "demo_arr = np.array(demo)\n",
    "\n",
    "print(demo_arr.shape)\n",
    "print(demo_arr.dtype)\n",
    "\n",
    "# notice the difference in values from previously\n",
    "midpoint_row = int(demo_arr.shape[0] / 2)\n",
    "midpoint_col = int(demo_arr.shape[1] / 2)\n",
    "demo_arr[midpoint_row:midpoint_row+5, midpoint_col:midpoint_col+5, :]"
   ]
  },
  {
   "cell_type": "code",
   "execution_count": null,
   "metadata": {
    "slideshow": {
     "slide_type": "slide"
    }
   },
   "outputs": [],
   "source": []
  }
 ],
 "metadata": {
  "celltoolbar": "Slideshow",
  "kernelspec": {
   "display_name": "Python 3",
   "language": "python",
   "name": "python3"
  },
  "language_info": {
   "codemirror_mode": {
    "name": "ipython",
    "version": 3
   },
   "file_extension": ".py",
   "mimetype": "text/x-python",
   "name": "python",
   "nbconvert_exporter": "python",
   "pygments_lexer": "ipython3",
   "version": "3.6.5"
  }
 },
 "nbformat": 4,
 "nbformat_minor": 2
}
