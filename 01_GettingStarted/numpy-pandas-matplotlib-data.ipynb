{
 "cells": [
  {
   "cell_type": "markdown",
   "metadata": {
    "slideshow": {
     "slide_type": "slide"
    }
   },
   "source": [
    "# import numpy as np"
   ]
  },
  {
   "cell_type": "markdown",
   "metadata": {
    "slideshow": {
     "slide_type": "slide"
    }
   },
   "source": [
    "## Workshop: NumPy and Data Representation\n",
    "\n",
    "NumPy Provides\n",
    "  1. An array object of arbitrary homogeneous items\n",
    "  2. Fast mathematical operations over arrays\n",
    "  3. Linear Algebra, Fourier Transforms, Random Number Generation"
   ]
  },
  {
   "cell_type": "markdown",
   "metadata": {
    "slideshow": {
     "slide_type": "slide"
    }
   },
   "source": [
    "### Cheatsheet\n",
    "\n",
    "https://s3.amazonaws.com/assets.datacamp.com/blog_assets/Numpy_Python_Cheat_Sheet.pdf\n",
    "\n",
    "More cheatsheets:\n",
    "https://www.datacamp.com/community/data-science-cheatsheets?page=3"
   ]
  },
  {
   "cell_type": "markdown",
   "metadata": {
    "slideshow": {
     "slide_type": "slide"
    }
   },
   "source": [
    "### References\n",
    "\n",
    "1. https://docs.scipy.org/doc/numpy-dev/user/basics.types.html\n",
    "2. Python Data Science Handbook by Jake VanderPlas\n",
    "3. Python for Data Analysis: Data Wrangling with Pandas, NumPy, and IPython by Wes McKinney"
   ]
  },
  {
   "cell_type": "markdown",
   "metadata": {
    "slideshow": {
     "slide_type": "slide"
    }
   },
   "source": [
    "### Installation\n",
    "\n",
    "Windows: Start Button -> \"Anaconda Prompt\"\n",
    "\n",
    "Ubuntu / MacOS: conda should be in your path\n",
    "\n",
    "Activate the environment\n",
    "\n",
    "```\n",
    "conda activate module1\n",
    "```"
   ]
  },
  {
   "cell_type": "markdown",
   "metadata": {
    "slideshow": {
     "slide_type": "fragment"
    }
   },
   "source": [
    "Install NumPy and Pandas\n",
    "\n",
    "```\n",
    "conda install numpy pandas\n",
    "```"
   ]
  },
  {
   "cell_type": "markdown",
   "metadata": {
    "slideshow": {
     "slide_type": "slide"
    }
   },
   "source": [
    "Tip: You can check the versions installed by calling Python with a script:\n",
    "```\n",
    "python -c \"import numpy; print(numpy.__version__)\"\n",
    "```"
   ]
  },
  {
   "cell_type": "markdown",
   "metadata": {
    "slideshow": {
     "slide_type": "slide"
    }
   },
   "source": [
    "### SGD to USD Exchange Rate Data\n",
    "\n",
    "Instead of constructing sample arrays, we'll be using real data to play with numpy concepts. \n",
    "\n",
    "We'll use some data from data.gov.sg."
   ]
  },
  {
   "cell_type": "code",
   "execution_count": 316,
   "metadata": {
    "slideshow": {
     "slide_type": "slide"
    }
   },
   "outputs": [
    {
     "data": {
      "text/html": [
       "\n",
       "        <iframe\n",
       "            width=\"600\"\n",
       "            height=\"400\"\n",
       "            src=\"https://data.gov.sg/dataset/exchange-rates-sgd-per-unit-of-usd-average-for-period-annual/resource/f927c39b-3b44-492e-8b54-174e775e0d98/view/43207b9f-1554-4afb-98fe-80dfdd6bb4f6\"\n",
       "            frameborder=\"0\"\n",
       "            allowfullscreen\n",
       "        ></iframe>\n",
       "        "
      ],
      "text/plain": [
       "<IPython.lib.display.IFrame at 0x1f77ee17c88>"
      ]
     },
     "execution_count": 316,
     "metadata": {},
     "output_type": "execute_result"
    }
   ],
   "source": [
    "from IPython.display import IFrame\n",
    "\n",
    "IFrame('https://data.gov.sg/dataset/exchange-rates-sgd-per-unit-of-usd-average-for-period-annual/resource/f927c39b-3b44-492e-8b54-174e775e0d98/view/43207b9f-1554-4afb-98fe-80dfdd6bb4f6', width=600, height=400)"
   ]
  },
  {
   "cell_type": "markdown",
   "metadata": {
    "slideshow": {
     "slide_type": "slide"
    }
   },
   "source": [
    "### Download Instructions\n",
    "1. Go to https://data.gov.sg/dataset/exchange-rates-sgd-per-unit-of-usd-average-for-period-annual\n",
    "2. Click on the `Download` button\n",
    "3. Unzip and extract the `.csv` file. Note the path for use below."
   ]
  },
  {
   "cell_type": "markdown",
   "metadata": {
    "slideshow": {
     "slide_type": "slide"
    }
   },
   "source": [
    "### Read the CSV\n",
    "\n",
    "We'll be using a little bit of Pandas to read the CSV files.\n",
    "\n",
    "Pandas will be covered in more detail in the next Workshop."
   ]
  },
  {
   "cell_type": "code",
   "execution_count": 325,
   "metadata": {
    "slideshow": {
     "slide_type": "-"
    }
   },
   "outputs": [
    {
     "data": {
      "text/plain": [
       "array([ 2.0443,  2.0313,  2.0205, ...,  1.3763,  1.3834,  1.3827])"
      ]
     },
     "execution_count": 325,
     "metadata": {},
     "output_type": "execute_result"
    }
   ],
   "source": [
    "import pandas as pd\n",
    "\n",
    "# we are using some pandas tricks to parse dates automagically\n",
    "sgd_usd = pd.read_csv('D:/tmp/exchange-rates/exchange-rates-sgd-per-unit-of-usd-daily.csv',\n",
    "                     parse_dates=True, index_col=0, infer_datetime_format=True,\n",
    "                     squeeze=True)\n",
    "\n",
    "# get the numpy array\n",
    "sgd_usd_values = sgd_usd.values\n",
    "\n",
    "sgd_usd_values"
   ]
  },
  {
   "cell_type": "markdown",
   "metadata": {
    "slideshow": {
     "slide_type": "-"
    }
   },
   "source": [
    "Where did the dates go? They are part of the pandas Series:"
   ]
  },
  {
   "cell_type": "code",
   "execution_count": 326,
   "metadata": {
    "slideshow": {
     "slide_type": "-"
    }
   },
   "outputs": [
    {
     "data": {
      "text/plain": [
       "date\n",
       "1988-01-08    2.0443\n",
       "1988-01-15    2.0313\n",
       "1988-01-22    2.0205\n",
       "1988-01-29    2.0182\n",
       "1988-02-05    2.0160\n",
       "Name: exchange_rate_usd, dtype: float64"
      ]
     },
     "execution_count": 326,
     "metadata": {},
     "output_type": "execute_result"
    }
   ],
   "source": [
    "# inspect the first 5 entries of the Series\n",
    "sgd_usd.head(5)"
   ]
  },
  {
   "cell_type": "markdown",
   "metadata": {
    "slideshow": {
     "slide_type": "-"
    }
   },
   "source": [
    "### Import numpy"
   ]
  },
  {
   "cell_type": "code",
   "execution_count": 163,
   "metadata": {
    "slideshow": {
     "slide_type": "-"
    }
   },
   "outputs": [],
   "source": [
    "import numpy as np"
   ]
  },
  {
   "cell_type": "code",
   "execution_count": 161,
   "metadata": {
    "slideshow": {
     "slide_type": "-"
    }
   },
   "outputs": [],
   "source": [
    "# show help\n",
    "np?"
   ]
  },
  {
   "cell_type": "markdown",
   "metadata": {
    "slideshow": {
     "slide_type": "-"
    }
   },
   "source": [
    "### Basic Data Structures\n",
    "\n",
    "![scalar vector matrix tensor](assets/numpy/scalar-vector-matrix-tensor.png)\n",
    "\n",
    "(image: https://hadrienj.github.io/posts/Deep-Learning-Book-Series-2.1-Scalars-Vectors-Matrices-and-Tensors/)"
   ]
  },
  {
   "cell_type": "markdown",
   "metadata": {
    "slideshow": {
     "slide_type": "-"
    }
   },
   "source": [
    "### Scalar\n",
    "\n",
    "A scalar is a single value. \n",
    "\n",
    "It is a tensor of rank 0. (0 dimension)"
   ]
  },
  {
   "cell_type": "code",
   "execution_count": 244,
   "metadata": {
    "slideshow": {
     "slide_type": "-"
    }
   },
   "outputs": [
    {
     "name": "stdout",
     "output_type": "stream",
     "text": [
      "First value: 2.0443\n"
     ]
    }
   ],
   "source": [
    "# get the first value of the array\n",
    "print('First value:', sgd_usd_values[0])"
   ]
  },
  {
   "cell_type": "code",
   "execution_count": 245,
   "metadata": {},
   "outputs": [
    {
     "name": "stdout",
     "output_type": "stream",
     "text": [
      "Last value: 1.3827\n"
     ]
    }
   ],
   "source": [
    "# get the last value of the array\n",
    "print('Last value:', sgd_usd_values[-1])"
   ]
  },
  {
   "cell_type": "code",
   "execution_count": 246,
   "metadata": {},
   "outputs": [
    {
     "name": "stdout",
     "output_type": "stream",
     "text": [
      "Rank: 0\n"
     ]
    }
   ],
   "source": [
    "# to get the rank of a scalar, we need to wrap it in a numpy.array\n",
    "print('Rank:', np.array(v).ndim)"
   ]
  },
  {
   "cell_type": "markdown",
   "metadata": {
    "slideshow": {
     "slide_type": "-"
    }
   },
   "source": [
    "### Vector\n",
    "\n",
    "A vector is a list of values. \n",
    "\n",
    "It is a tensor of rank 1. (1 dimension)"
   ]
  },
  {
   "cell_type": "code",
   "execution_count": 247,
   "metadata": {
    "slideshow": {
     "slide_type": "-"
    }
   },
   "outputs": [
    {
     "data": {
      "text/plain": [
       "(3993,)"
      ]
     },
     "execution_count": 247,
     "metadata": {},
     "output_type": "execute_result"
    }
   ],
   "source": [
    "sgd_usd_values.shape"
   ]
  },
  {
   "cell_type": "code",
   "execution_count": 274,
   "metadata": {
    "slideshow": {
     "slide_type": "-"
    }
   },
   "outputs": [
    {
     "data": {
      "text/plain": [
       "1"
      ]
     },
     "execution_count": 274,
     "metadata": {},
     "output_type": "execute_result"
    }
   ],
   "source": [
    "sgd_usd_values.ndim"
   ]
  },
  {
   "cell_type": "code",
   "execution_count": 320,
   "metadata": {},
   "outputs": [
    {
     "data": {
      "text/plain": [
       "dtype('float64')"
      ]
     },
     "execution_count": 320,
     "metadata": {},
     "output_type": "execute_result"
    }
   ],
   "source": [
    "sgd_usd_values.dtype"
   ]
  },
  {
   "cell_type": "markdown",
   "metadata": {
    "slideshow": {
     "slide_type": "-"
    }
   },
   "source": [
    "### Matrix\n",
    "\n",
    "A matrix is a 2-dimensional array of values.\n",
    "\n",
    "It is a tensor of rank 2.\n",
    "\n",
    "There are many ways to create a matrix. For this dataset, we can stack the arrays to create a matrix."
   ]
  },
  {
   "cell_type": "code",
   "execution_count": 279,
   "metadata": {
    "slideshow": {
     "slide_type": "-"
    }
   },
   "outputs": [
    {
     "data": {
      "text/plain": [
       "array([[ 2.0443,  2.0313,  2.0205, ...,  1.3763,  1.3834,  1.3827],\n",
       "       [ 2.0443,  2.0313,  2.0205, ...,  1.3763,  1.3834,  1.3827]])"
      ]
     },
     "execution_count": 279,
     "metadata": {},
     "output_type": "execute_result"
    }
   ],
   "source": [
    "matrix = np.array((sgd_usd_values, sgd_usd_values))\n",
    "matrix"
   ]
  },
  {
   "cell_type": "code",
   "execution_count": 272,
   "metadata": {
    "slideshow": {
     "slide_type": "-"
    }
   },
   "outputs": [
    {
     "data": {
      "text/plain": [
       "(2, 3993)"
      ]
     },
     "execution_count": 272,
     "metadata": {},
     "output_type": "execute_result"
    }
   ],
   "source": [
    "matrix.shape"
   ]
  },
  {
   "cell_type": "code",
   "execution_count": 273,
   "metadata": {
    "slideshow": {
     "slide_type": "-"
    }
   },
   "outputs": [
    {
     "data": {
      "text/plain": [
       "2"
      ]
     },
     "execution_count": 273,
     "metadata": {},
     "output_type": "execute_result"
    }
   ],
   "source": [
    "matrix.ndim"
   ]
  },
  {
   "cell_type": "markdown",
   "metadata": {
    "slideshow": {
     "slide_type": "-"
    }
   },
   "source": [
    "Stacking is not the same as concatenation.\n",
    "\n",
    "Here's an example of concatenation. What do you think is the difference?"
   ]
  },
  {
   "cell_type": "code",
   "execution_count": 285,
   "metadata": {
    "slideshow": {
     "slide_type": "-"
    }
   },
   "outputs": [
    {
     "data": {
      "text/plain": [
       "array([ 2.0443,  2.0313,  2.0205, ...,  1.3763,  1.3834,  1.3827])"
      ]
     },
     "execution_count": 285,
     "metadata": {},
     "output_type": "execute_result"
    }
   ],
   "source": [
    "concat_array = np.concatenate((sgd_usd_values, sgd_usd_values))\n",
    "concat_array"
   ]
  },
  {
   "cell_type": "markdown",
   "metadata": {
    "slideshow": {
     "slide_type": "-"
    }
   },
   "source": [
    "Here's a hint:"
   ]
  },
  {
   "cell_type": "code",
   "execution_count": 286,
   "metadata": {
    "slideshow": {
     "slide_type": "-"
    }
   },
   "outputs": [
    {
     "data": {
      "text/plain": [
       "(7986,)"
      ]
     },
     "execution_count": 286,
     "metadata": {},
     "output_type": "execute_result"
    }
   ],
   "source": [
    "concat_array.shape"
   ]
  },
  {
   "cell_type": "markdown",
   "metadata": {
    "slideshow": {
     "slide_type": "-"
    }
   },
   "source": [
    "We can keep stacking vectors to make matrices."
   ]
  },
  {
   "cell_type": "code",
   "execution_count": 295,
   "metadata": {
    "slideshow": {
     "slide_type": "-"
    }
   },
   "outputs": [
    {
     "data": {
      "text/plain": [
       "array([[ 2.0443,  2.0313,  2.0205, ...,  1.3763,  1.3834,  1.3827],\n",
       "       [ 2.0443,  2.0313,  2.0205, ...,  1.3763,  1.3834,  1.3827],\n",
       "       [ 2.0443,  2.0313,  2.0205, ...,  1.3763,  1.3834,  1.3827],\n",
       "       [ 2.0443,  2.0313,  2.0205, ...,  1.3763,  1.3834,  1.3827]])"
      ]
     },
     "execution_count": 295,
     "metadata": {},
     "output_type": "execute_result"
    }
   ],
   "source": [
    "matrix_stacked = np.vstack((matrix, matrix))\n",
    "matrix_stacked"
   ]
  },
  {
   "cell_type": "code",
   "execution_count": 292,
   "metadata": {
    "slideshow": {
     "slide_type": "-"
    }
   },
   "outputs": [
    {
     "data": {
      "text/plain": [
       "(4, 3993)"
      ]
     },
     "execution_count": 292,
     "metadata": {},
     "output_type": "execute_result"
    }
   ],
   "source": [
    "matrix_stacked.shape"
   ]
  },
  {
   "cell_type": "code",
   "execution_count": 293,
   "metadata": {
    "slideshow": {
     "slide_type": "-"
    }
   },
   "outputs": [
    {
     "data": {
      "text/plain": [
       "2"
      ]
     },
     "execution_count": 293,
     "metadata": {},
     "output_type": "execute_result"
    }
   ],
   "source": [
    "matrix_stacked.ndim"
   ]
  },
  {
   "cell_type": "markdown",
   "metadata": {
    "slideshow": {
     "slide_type": "-"
    }
   },
   "source": [
    "We can also try horizontal stacking, which is the same as concatenating."
   ]
  },
  {
   "cell_type": "code",
   "execution_count": 296,
   "metadata": {
    "slideshow": {
     "slide_type": "-"
    }
   },
   "outputs": [
    {
     "data": {
      "text/plain": [
       "array([[ 2.0443,  2.0313,  2.0205, ...,  1.3763,  1.3834,  1.3827],\n",
       "       [ 2.0443,  2.0313,  2.0205, ...,  1.3763,  1.3834,  1.3827]])"
      ]
     },
     "execution_count": 296,
     "metadata": {},
     "output_type": "execute_result"
    }
   ],
   "source": [
    "matrix_hstacked = np.hstack((matrix, matrix))\n",
    "matrix_hstacked"
   ]
  },
  {
   "cell_type": "code",
   "execution_count": 298,
   "metadata": {
    "slideshow": {
     "slide_type": "-"
    }
   },
   "outputs": [
    {
     "data": {
      "text/plain": [
       "(2, 7986)"
      ]
     },
     "execution_count": 298,
     "metadata": {},
     "output_type": "execute_result"
    }
   ],
   "source": [
    "matrix_hstacked.shape"
   ]
  },
  {
   "cell_type": "code",
   "execution_count": 299,
   "metadata": {
    "slideshow": {
     "slide_type": "-"
    }
   },
   "outputs": [
    {
     "data": {
      "text/plain": [
       "2"
      ]
     },
     "execution_count": 299,
     "metadata": {},
     "output_type": "execute_result"
    }
   ],
   "source": [
    "matrix_stacked.ndim"
   ]
  },
  {
   "cell_type": "markdown",
   "metadata": {
    "slideshow": {
     "slide_type": "-"
    }
   },
   "source": [
    "### Tensor (rank $\\geq$ 3)\n",
    "\n",
    "A tensor is a data structure of values that has more than 3 dimensions.\n",
    "\n",
    "An image is an example of a tensor.\n",
    "\n",
    "To load an image, we can use `pillow`:\n",
    "\n",
    "```\n",
    "conda install pillow\n",
    "```\n",
    "\n",
    "We'll also install the `requests` library to download images from the web:\n",
    "\n",
    "```\n",
    "conda install requests\n",
    "```"
   ]
  },
  {
   "cell_type": "code",
   "execution_count": 329,
   "metadata": {
    "slideshow": {
     "slide_type": "-"
    }
   },
   "outputs": [
    {
     "data": {
      "text/plain": [
       "array([[[148, 163, 170],\n",
       "        [146, 161, 168],\n",
       "        [147, 160, 168],\n",
       "        ..., \n",
       "        [164, 179, 186],\n",
       "        [164, 179, 186],\n",
       "        [164, 179, 186]],\n",
       "\n",
       "       [[147, 162, 169],\n",
       "        [147, 160, 168],\n",
       "        [148, 158, 167],\n",
       "        ..., \n",
       "        [164, 179, 186],\n",
       "        [164, 179, 186],\n",
       "        [164, 179, 186]],\n",
       "\n",
       "       [[147, 160, 169],\n",
       "        [148, 158, 168],\n",
       "        [148, 158, 168],\n",
       "        ..., \n",
       "        [165, 180, 187],\n",
       "        [162, 179, 186],\n",
       "        [161, 178, 185]],\n",
       "\n",
       "       ..., \n",
       "       [[211, 193, 191],\n",
       "        [213, 193, 192],\n",
       "        [214, 194, 195],\n",
       "        ..., \n",
       "        [ 46, 143, 123],\n",
       "        [ 47, 144, 124],\n",
       "        [ 47, 144, 125]],\n",
       "\n",
       "       [[189, 184, 178],\n",
       "        [193, 186, 180],\n",
       "        [202, 193, 188],\n",
       "        ..., \n",
       "        [100, 175, 171],\n",
       "        [ 93, 169, 167],\n",
       "        [ 87, 166, 163]],\n",
       "\n",
       "       [[192, 183, 178],\n",
       "        [194, 183, 179],\n",
       "        [201, 186, 183],\n",
       "        ..., \n",
       "        [132, 200, 201],\n",
       "        [131, 201, 201],\n",
       "        [131, 202, 204]]], dtype=uint8)"
      ]
     },
     "execution_count": 329,
     "metadata": {},
     "output_type": "execute_result"
    }
   ],
   "source": [
    "from PIL import Image\n",
    "import requests\n",
    "\n",
    "url = 'https://upload.wikimedia.org/wikipedia/commons/8/81/Singapore_Merlion_BCT.jpg'\n",
    "\n",
    "image = Image.open(requests.get(url, stream=True).raw)\n",
    "tensor = np.array(image)\n",
    "tensor"
   ]
  },
  {
   "cell_type": "code",
   "execution_count": 330,
   "metadata": {
    "slideshow": {
     "slide_type": "-"
    }
   },
   "outputs": [
    {
     "data": {
      "text/plain": [
       "(2570, 3366, 3)"
      ]
     },
     "execution_count": 330,
     "metadata": {},
     "output_type": "execute_result"
    }
   ],
   "source": [
    "tensor.shape # height, width, channels"
   ]
  },
  {
   "cell_type": "code",
   "execution_count": 331,
   "metadata": {},
   "outputs": [
    {
     "data": {
      "text/plain": [
       "3"
      ]
     },
     "execution_count": 331,
     "metadata": {},
     "output_type": "execute_result"
    }
   ],
   "source": [
    "tensor.ndim"
   ]
  },
  {
   "cell_type": "markdown",
   "metadata": {
    "slideshow": {
     "slide_type": "-"
    }
   },
   "source": [
    "### Data Structure Manipulation\n",
    "\n",
    "Now we'll look at indexing, slicing, and subsetting.\n",
    "\n",
    "The concepts apply to vectors, matrices, and tensors."
   ]
  },
  {
   "cell_type": "code",
   "execution_count": null,
   "metadata": {
    "slideshow": {
     "slide_type": "-"
    }
   },
   "outputs": [],
   "source": [
    "# Array documentation\n",
    "from numpy import doc\n",
    "\n",
    "# Array types and conversions, scalars\n",
    "doc.basics?"
   ]
  },
  {
   "cell_type": "code",
   "execution_count": null,
   "metadata": {
    "slideshow": {
     "slide_type": "-"
    }
   },
   "outputs": [],
   "source": [
    "# Array indexing and slicing\n",
    "doc.indexing?"
   ]
  },
  {
   "cell_type": "markdown",
   "metadata": {
    "slideshow": {
     "slide_type": "-"
    }
   },
   "source": [
    "### Indexing"
   ]
  },
  {
   "cell_type": "code",
   "execution_count": 327,
   "metadata": {
    "slideshow": {
     "slide_type": "-"
    }
   },
   "outputs": [
    {
     "data": {
      "text/plain": [
       "array([[148, 163, 170],\n",
       "       [146, 161, 168],\n",
       "       [147, 160, 168],\n",
       "       ..., \n",
       "       [164, 179, 186],\n",
       "       [164, 179, 186],\n",
       "       [164, 179, 186]], dtype=uint8)"
      ]
     },
     "execution_count": 327,
     "metadata": {},
     "output_type": "execute_result"
    }
   ],
   "source": [
    "tensor[0]"
   ]
  },
  {
   "cell_type": "code",
   "execution_count": 332,
   "metadata": {
    "slideshow": {
     "slide_type": "-"
    }
   },
   "outputs": [
    {
     "data": {
      "text/plain": [
       "array([ 2.0443,  2.0313,  2.0205, ...,  1.3763,  1.3834,  1.3827])"
      ]
     },
     "execution_count": 332,
     "metadata": {},
     "output_type": "execute_result"
    }
   ],
   "source": [
    "matrix[0]"
   ]
  },
  {
   "cell_type": "code",
   "execution_count": 333,
   "metadata": {
    "slideshow": {
     "slide_type": "-"
    }
   },
   "outputs": [
    {
     "data": {
      "text/plain": [
       "2.0442999999999998"
      ]
     },
     "execution_count": 333,
     "metadata": {},
     "output_type": "execute_result"
    }
   ],
   "source": [
    "sgd_usd_values[0]"
   ]
  },
  {
   "cell_type": "code",
   "execution_count": 334,
   "metadata": {
    "slideshow": {
     "slide_type": "-"
    }
   },
   "outputs": [
    {
     "data": {
      "text/plain": [
       "array([146, 161, 168], dtype=uint8)"
      ]
     },
     "execution_count": 334,
     "metadata": {},
     "output_type": "execute_result"
    }
   ],
   "source": [
    "tensor[0][1]"
   ]
  },
  {
   "cell_type": "code",
   "execution_count": 335,
   "metadata": {
    "slideshow": {
     "slide_type": "-"
    }
   },
   "outputs": [
    {
     "data": {
      "text/plain": [
       "2.0312999999999999"
      ]
     },
     "execution_count": 335,
     "metadata": {},
     "output_type": "execute_result"
    }
   ],
   "source": [
    "matrix[0][1]"
   ]
  },
  {
   "cell_type": "code",
   "execution_count": 338,
   "metadata": {
    "slideshow": {
     "slide_type": "-"
    }
   },
   "outputs": [
    {
     "ename": "IndexError",
     "evalue": "invalid index to scalar variable.",
     "output_type": "error",
     "traceback": [
      "\u001b[1;31m---------------------------------------------------------------------------\u001b[0m",
      "\u001b[1;31mIndexError\u001b[0m                                Traceback (most recent call last)",
      "\u001b[1;32m<ipython-input-338-b8b5040cffa2>\u001b[0m in \u001b[0;36m<module>\u001b[1;34m()\u001b[0m\n\u001b[1;32m----> 1\u001b[1;33m \u001b[0msgd_usd_values\u001b[0m\u001b[1;33m[\u001b[0m\u001b[1;36m0\u001b[0m\u001b[1;33m]\u001b[0m\u001b[1;33m[\u001b[0m\u001b[1;36m1\u001b[0m\u001b[1;33m]\u001b[0m \u001b[1;31m# error. Do you understand why?\u001b[0m\u001b[1;33m\u001b[0m\u001b[0m\n\u001b[0m",
      "\u001b[1;31mIndexError\u001b[0m: invalid index to scalar variable."
     ]
    }
   ],
   "source": [
    "sgd_usd_values[0][1] # error. Why?"
   ]
  },
  {
   "cell_type": "markdown",
   "metadata": {
    "slideshow": {
     "slide_type": "-"
    }
   },
   "source": [
    "### Negative indexing"
   ]
  },
  {
   "cell_type": "code",
   "execution_count": 393,
   "metadata": {
    "slideshow": {
     "slide_type": "-"
    }
   },
   "outputs": [
    {
     "data": {
      "text/plain": [
       "204"
      ]
     },
     "execution_count": 393,
     "metadata": {},
     "output_type": "execute_result"
    }
   ],
   "source": [
    "tensor[-1][-1][-1]  # last height, width, channel value"
   ]
  },
  {
   "cell_type": "code",
   "execution_count": 341,
   "metadata": {
    "slideshow": {
     "slide_type": "-"
    }
   },
   "outputs": [
    {
     "data": {
      "text/plain": [
       "1.3834"
      ]
     },
     "execution_count": 341,
     "metadata": {},
     "output_type": "execute_result"
    }
   ],
   "source": [
    "matrix[0][-2]"
   ]
  },
  {
   "cell_type": "code",
   "execution_count": 343,
   "metadata": {
    "slideshow": {
     "slide_type": "-"
    }
   },
   "outputs": [
    {
     "data": {
      "text/plain": [
       "2.0442999999999998"
      ]
     },
     "execution_count": 343,
     "metadata": {},
     "output_type": "execute_result"
    }
   ],
   "source": [
    "sgd_usd_values[-len(sgd_usd_values)] # first value"
   ]
  },
  {
   "cell_type": "markdown",
   "metadata": {
    "slideshow": {
     "slide_type": "-"
    }
   },
   "source": [
    "### Boolean indexing"
   ]
  },
  {
   "cell_type": "code",
   "execution_count": 362,
   "metadata": {
    "slideshow": {
     "slide_type": "-"
    }
   },
   "outputs": [
    {
     "data": {
      "text/plain": [
       "array([ 2.0443,  2.0313,  2.0205, ...,  1.4018,  1.402 ,  1.403 ])"
      ]
     },
     "execution_count": 362,
     "metadata": {},
     "output_type": "execute_result"
    }
   ],
   "source": [
    "# returns all values > 1.4\n",
    "sgd_usd_values[sgd_usd_values > 1.4]"
   ]
  },
  {
   "cell_type": "code",
   "execution_count": 364,
   "metadata": {
    "slideshow": {
     "slide_type": "-"
    }
   },
   "outputs": [
    {
     "data": {
      "text/plain": [
       "array([ 1.3975,  1.399 ,  1.3923, ...,  1.3763,  1.3834,  1.3827])"
      ]
     },
     "execution_count": 364,
     "metadata": {},
     "output_type": "execute_result"
    }
   ],
   "source": [
    "# boolean indexing always returns a vector\n",
    "matrix[matrix < 1.4]"
   ]
  },
  {
   "cell_type": "markdown",
   "metadata": {
    "slideshow": {
     "slide_type": "-"
    }
   },
   "source": [
    "### Subsetting (fancy indexing)\n",
    "\n",
    "A[index, ...]"
   ]
  },
  {
   "cell_type": "code",
   "execution_count": 367,
   "metadata": {
    "slideshow": {
     "slide_type": "-"
    }
   },
   "outputs": [
    {
     "data": {
      "text/plain": [
       "array([ 2.0313,  2.0205,  1.3827])"
      ]
     },
     "execution_count": 367,
     "metadata": {},
     "output_type": "execute_result"
    }
   ],
   "source": [
    "sgd_usd_values[[1, 2, -1]]"
   ]
  },
  {
   "cell_type": "code",
   "execution_count": 383,
   "metadata": {},
   "outputs": [
    {
     "data": {
      "text/plain": [
       "array([[148, 163, 170],\n",
       "       [146, 161, 168],\n",
       "       [147, 160, 168],\n",
       "       ..., \n",
       "       [164, 179, 186],\n",
       "       [164, 179, 186],\n",
       "       [164, 179, 186]], dtype=uint8)"
      ]
     },
     "execution_count": 383,
     "metadata": {},
     "output_type": "execute_result"
    }
   ],
   "source": [
    "tensor[0]"
   ]
  },
  {
   "cell_type": "code",
   "execution_count": 384,
   "metadata": {
    "slideshow": {
     "slide_type": "-"
    }
   },
   "outputs": [
    {
     "data": {
      "text/plain": [
       "array([148, 163, 170], dtype=uint8)"
      ]
     },
     "execution_count": 384,
     "metadata": {},
     "output_type": "execute_result"
    }
   ],
   "source": [
    "tensor[0, 0]"
   ]
  },
  {
   "cell_type": "code",
   "execution_count": 385,
   "metadata": {
    "slideshow": {
     "slide_type": "-"
    }
   },
   "outputs": [
    {
     "data": {
      "text/plain": [
       "array([146, 161, 168], dtype=uint8)"
      ]
     },
     "execution_count": 385,
     "metadata": {},
     "output_type": "execute_result"
    }
   ],
   "source": [
    "tensor[0, 1]"
   ]
  },
  {
   "cell_type": "code",
   "execution_count": 386,
   "metadata": {
    "slideshow": {
     "slide_type": "-"
    }
   },
   "outputs": [
    {
     "data": {
      "text/plain": [
       "array([147, 160, 168], dtype=uint8)"
      ]
     },
     "execution_count": 386,
     "metadata": {},
     "output_type": "execute_result"
    }
   ],
   "source": [
    "tensor[0, 2]"
   ]
  },
  {
   "cell_type": "code",
   "execution_count": 387,
   "metadata": {
    "slideshow": {
     "slide_type": "-"
    }
   },
   "outputs": [
    {
     "data": {
      "text/plain": [
       "array([[148, 163, 170],\n",
       "       [146, 161, 168],\n",
       "       [147, 160, 168]], dtype=uint8)"
      ]
     },
     "execution_count": 387,
     "metadata": {},
     "output_type": "execute_result"
    }
   ],
   "source": [
    "row = [0, 0, 0]\n",
    "col = [0, 1, 2]\n",
    "tensor[row, col]"
   ]
  },
  {
   "cell_type": "code",
   "execution_count": 403,
   "metadata": {
    "slideshow": {
     "slide_type": "-"
    }
   },
   "outputs": [
    {
     "data": {
      "text/plain": [
       "(2570, 3366)"
      ]
     },
     "execution_count": 403,
     "metadata": {},
     "output_type": "execute_result"
    }
   ],
   "source": [
    "tensor[:, :, 0].shape # everything for the 1st channel"
   ]
  },
  {
   "cell_type": "markdown",
   "metadata": {
    "slideshow": {
     "slide_type": "-"
    }
   },
   "source": [
    "### Slicing\n",
    "\n",
    "data[start : stop : stepsize]"
   ]
  },
  {
   "cell_type": "code",
   "execution_count": 395,
   "metadata": {
    "slideshow": {
     "slide_type": "-"
    }
   },
   "outputs": [
    {
     "data": {
      "text/plain": [
       "array([ 2.0443,  2.0313,  2.0205,  2.0182,  2.016 ,  2.0173,  2.0189,\n",
       "        2.013 ,  2.0154])"
      ]
     },
     "execution_count": 395,
     "metadata": {},
     "output_type": "execute_result"
    }
   ],
   "source": [
    "sgd_usd_values[0: 9: 1]"
   ]
  },
  {
   "cell_type": "code",
   "execution_count": 399,
   "metadata": {
    "slideshow": {
     "slide_type": "-"
    }
   },
   "outputs": [
    {
     "data": {
      "text/plain": [
       "array([ 2.0443,  2.0313,  2.0205,  2.0182,  2.016 ,  2.0173,  2.0189,\n",
       "        2.013 ,  2.0154])"
      ]
     },
     "execution_count": 399,
     "metadata": {},
     "output_type": "execute_result"
    }
   ],
   "source": [
    "matrix[0][0: 9: 1]"
   ]
  },
  {
   "cell_type": "code",
   "execution_count": 416,
   "metadata": {
    "slideshow": {
     "slide_type": "-"
    }
   },
   "outputs": [
    {
     "data": {
      "text/plain": [
       "(500, 3366, 3)"
      ]
     },
     "execution_count": 416,
     "metadata": {},
     "output_type": "execute_result"
    }
   ],
   "source": [
    "tensor[0: 500: 1][:].shape # top 500 lines"
   ]
  },
  {
   "cell_type": "markdown",
   "metadata": {
    "slideshow": {
     "slide_type": "-"
    }
   },
   "source": [
    "Let's use matplotlib to show what the slicing does.\n",
    "\n",
    "```\n",
    "conda install matplotlib\n",
    "```"
   ]
  },
  {
   "cell_type": "code",
   "execution_count": 419,
   "metadata": {
    "slideshow": {
     "slide_type": "-"
    }
   },
   "outputs": [
    {
     "data": {
      "image/png": "[encoded data removed]",
      "text/plain": [
       "<matplotlib.figure.Figure at 0x1f708dbbda0>"
      ]
     },
     "metadata": {},
     "output_type": "display_data"
    }
   ],
   "source": [
    "from matplotlib import pyplot as plt\n",
    "plt.imshow(tensor[0: 500: 1][:])\n",
    "plt.axis('off')\n",
    "plt.show()"
   ]
  },
  {
   "cell_type": "markdown",
   "metadata": {
    "slideshow": {
     "slide_type": "-"
    }
   },
   "source": [
    "### Slices are views, not copies\n",
    "\n",
    "Changes the main array"
   ]
  },
  {
   "cell_type": "code",
   "execution_count": 147,
   "metadata": {
    "slideshow": {
     "slide_type": "-"
    }
   },
   "outputs": [
    {
     "data": {
      "text/plain": [
       "array([[ 1.7826087 ,  2.17391304]])"
      ]
     },
     "execution_count": 147,
     "metadata": {},
     "output_type": "execute_result"
    }
   ],
   "source": [
    "R2 = R[0][1:2:1] # same as R[0, 1:2:1]\n",
    "R2"
   ]
  },
  {
   "cell_type": "code",
   "execution_count": 150,
   "metadata": {
    "slideshow": {
     "slide_type": "-"
    }
   },
   "outputs": [
    {
     "data": {
      "text/plain": [
       "array([[ 0.,  0.]])"
      ]
     },
     "execution_count": 150,
     "metadata": {},
     "output_type": "execute_result"
    }
   ],
   "source": [
    "R2[0] = 0\n",
    "R2"
   ]
  },
  {
   "cell_type": "code",
   "execution_count": 151,
   "metadata": {
    "slideshow": {
     "slide_type": "-"
    }
   },
   "outputs": [
    {
     "data": {
      "text/plain": [
       "array([[[  1.        ,   1.39130435],\n",
       "        [  0.        ,   0.        ],\n",
       "        [  2.56521739,   2.95652174]],\n",
       "\n",
       "       [[  3.34782609,   3.73913043],\n",
       "        [  4.13043478,   4.52173913],\n",
       "        [  4.91304348,   5.30434783]],\n",
       "\n",
       "       [[  5.69565217,   6.08695652],\n",
       "        [  6.47826087,   6.86956522],\n",
       "        [  7.26086957,   7.65217391]],\n",
       "\n",
       "       [[  8.04347826,   8.43478261],\n",
       "        [  8.82608696,   9.2173913 ],\n",
       "        [  9.60869565,  10.        ]]])"
      ]
     },
     "execution_count": 151,
     "metadata": {},
     "output_type": "execute_result"
    }
   ],
   "source": [
    "R"
   ]
  },
  {
   "cell_type": "markdown",
   "metadata": {
    "slideshow": {
     "slide_type": "-"
    }
   },
   "source": [
    "### Transposing"
   ]
  },
  {
   "cell_type": "code",
   "execution_count": null,
   "metadata": {
    "slideshow": {
     "slide_type": "-"
    }
   },
   "outputs": [],
   "source": [
    "R.T"
   ]
  },
  {
   "cell_type": "code",
   "execution_count": null,
   "metadata": {
    "slideshow": {
     "slide_type": "-"
    }
   },
   "outputs": [],
   "source": [
    "R.T.shape"
   ]
  },
  {
   "cell_type": "markdown",
   "metadata": {},
   "source": [
    "### Sorting"
   ]
  },
  {
   "cell_type": "code",
   "execution_count": null,
   "metadata": {},
   "outputs": [],
   "source": []
  },
  {
   "cell_type": "code",
   "execution_count": null,
   "metadata": {},
   "outputs": [],
   "source": []
  },
  {
   "cell_type": "code",
   "execution_count": null,
   "metadata": {
    "slideshow": {
     "slide_type": "-"
    }
   },
   "outputs": [],
   "source": []
  },
  {
   "cell_type": "code",
   "execution_count": null,
   "metadata": {
    "slideshow": {
     "slide_type": "-"
    }
   },
   "outputs": [],
   "source": []
  },
  {
   "cell_type": "code",
   "execution_count": null,
   "metadata": {
    "slideshow": {
     "slide_type": "-"
    }
   },
   "outputs": [],
   "source": []
  },
  {
   "cell_type": "code",
   "execution_count": null,
   "metadata": {
    "slideshow": {
     "slide_type": "-"
    }
   },
   "outputs": [],
   "source": []
  },
  {
   "cell_type": "code",
   "execution_count": null,
   "metadata": {
    "slideshow": {
     "slide_type": "-"
    }
   },
   "outputs": [],
   "source": []
  },
  {
   "cell_type": "markdown",
   "metadata": {
    "slideshow": {
     "slide_type": "slide"
    }
   },
   "source": [
    "# import pandas as pd"
   ]
  },
  {
   "cell_type": "markdown",
   "metadata": {
    "slideshow": {
     "slide_type": "slide"
    }
   },
   "source": [
    "## Workshop: Pandas and Data Transformation"
   ]
  },
  {
   "cell_type": "code",
   "execution_count": 300,
   "metadata": {
    "slideshow": {
     "slide_type": "-"
    }
   },
   "outputs": [
    {
     "name": "stdout",
     "output_type": "stream",
     "text": [
      "First 5 entries:\n"
     ]
    },
    {
     "data": {
      "text/plain": [
       "Date\n",
       "2018-05-27    4.7499\n",
       "2018-05-26    4.7620\n",
       "2018-05-25    4.7610\n",
       "2018-05-24    4.7618\n",
       "2018-05-23    4.7553\n",
       "Name: Singapore Dollar to Chinese Yuan, dtype: float64"
      ]
     },
     "execution_count": 300,
     "metadata": {},
     "output_type": "execute_result"
    }
   ],
   "source": [
    "# data source: https://www.exchangerates.org.uk\n",
    "sgd_cny = pd.read_csv('data/sgd_cny_rates_daily.csv',\n",
    "                     parse_dates=True, index_col=0, infer_datetime_format=True,\n",
    "                     squeeze=True)\n",
    "print('First 5 entries:')\n",
    "sgd_cny.head(5)"
   ]
  },
  {
   "cell_type": "code",
   "execution_count": 220,
   "metadata": {},
   "outputs": [
    {
     "data": {
      "text/html": [
       "<div>\n",
       "<style scoped>\n",
       "    .dataframe tbody tr th:only-of-type {\n",
       "        vertical-align: middle;\n",
       "    }\n",
       "\n",
       "    .dataframe tbody tr th {\n",
       "        vertical-align: top;\n",
       "    }\n",
       "\n",
       "    .dataframe thead th {\n",
       "        text-align: right;\n",
       "    }\n",
       "</style>\n",
       "<table border=\"1\" class=\"dataframe\">\n",
       "  <thead>\n",
       "    <tr style=\"text-align: right;\">\n",
       "      <th></th>\n",
       "      <th>exchange_rate_usd</th>\n",
       "      <th>Singapore Dollar to Chinese Yuan</th>\n",
       "    </tr>\n",
       "  </thead>\n",
       "  <tbody>\n",
       "    <tr>\n",
       "      <th>2009-10-06</th>\n",
       "      <td>1.4046</td>\n",
       "      <td>4.8734</td>\n",
       "    </tr>\n",
       "    <tr>\n",
       "      <th>2009-10-07</th>\n",
       "      <td>1.4031</td>\n",
       "      <td>4.8754</td>\n",
       "    </tr>\n",
       "    <tr>\n",
       "      <th>2009-10-08</th>\n",
       "      <td>1.3949</td>\n",
       "      <td>4.9082</td>\n",
       "    </tr>\n",
       "    <tr>\n",
       "      <th>2009-10-09</th>\n",
       "      <td>1.3918</td>\n",
       "      <td>4.9039</td>\n",
       "    </tr>\n",
       "    <tr>\n",
       "      <th>2009-10-12</th>\n",
       "      <td>1.4014</td>\n",
       "      <td>4.8791</td>\n",
       "    </tr>\n",
       "    <tr>\n",
       "      <th>2009-10-13</th>\n",
       "      <td>1.3972</td>\n",
       "      <td>4.8871</td>\n",
       "    </tr>\n",
       "    <tr>\n",
       "      <th>2009-10-14</th>\n",
       "      <td>1.3939</td>\n",
       "      <td>4.9050</td>\n",
       "    </tr>\n",
       "    <tr>\n",
       "      <th>2009-10-15</th>\n",
       "      <td>1.3861</td>\n",
       "      <td>4.9157</td>\n",
       "    </tr>\n",
       "    <tr>\n",
       "      <th>2009-10-16</th>\n",
       "      <td>1.3884</td>\n",
       "      <td>4.9051</td>\n",
       "    </tr>\n",
       "    <tr>\n",
       "      <th>2009-10-19</th>\n",
       "      <td>1.3953</td>\n",
       "      <td>4.9037</td>\n",
       "    </tr>\n",
       "    <tr>\n",
       "      <th>2009-10-20</th>\n",
       "      <td>1.3882</td>\n",
       "      <td>4.9037</td>\n",
       "    </tr>\n",
       "    <tr>\n",
       "      <th>2009-10-21</th>\n",
       "      <td>1.3951</td>\n",
       "      <td>4.9015</td>\n",
       "    </tr>\n",
       "    <tr>\n",
       "      <th>2009-10-22</th>\n",
       "      <td>1.3964</td>\n",
       "      <td>4.8969</td>\n",
       "    </tr>\n",
       "    <tr>\n",
       "      <th>2009-10-23</th>\n",
       "      <td>1.3928</td>\n",
       "      <td>4.9017</td>\n",
       "    </tr>\n",
       "    <tr>\n",
       "      <th>2009-10-26</th>\n",
       "      <td>1.3925</td>\n",
       "      <td>4.8957</td>\n",
       "    </tr>\n",
       "    <tr>\n",
       "      <th>2009-10-27</th>\n",
       "      <td>1.3976</td>\n",
       "      <td>4.8869</td>\n",
       "    </tr>\n",
       "    <tr>\n",
       "      <th>2009-10-28</th>\n",
       "      <td>1.3995</td>\n",
       "      <td>4.8742</td>\n",
       "    </tr>\n",
       "    <tr>\n",
       "      <th>2009-10-29</th>\n",
       "      <td>1.4039</td>\n",
       "      <td>4.8788</td>\n",
       "    </tr>\n",
       "    <tr>\n",
       "      <th>2009-10-30</th>\n",
       "      <td>1.3968</td>\n",
       "      <td>4.8838</td>\n",
       "    </tr>\n",
       "    <tr>\n",
       "      <th>2009-11-02</th>\n",
       "      <td>1.4004</td>\n",
       "      <td>4.8791</td>\n",
       "    </tr>\n",
       "    <tr>\n",
       "      <th>2009-11-03</th>\n",
       "      <td>1.3976</td>\n",
       "      <td>4.8768</td>\n",
       "    </tr>\n",
       "    <tr>\n",
       "      <th>2009-11-04</th>\n",
       "      <td>1.3998</td>\n",
       "      <td>4.8842</td>\n",
       "    </tr>\n",
       "    <tr>\n",
       "      <th>2009-11-05</th>\n",
       "      <td>1.3975</td>\n",
       "      <td>4.8901</td>\n",
       "    </tr>\n",
       "    <tr>\n",
       "      <th>2009-11-06</th>\n",
       "      <td>1.3946</td>\n",
       "      <td>4.9008</td>\n",
       "    </tr>\n",
       "    <tr>\n",
       "      <th>2009-11-09</th>\n",
       "      <td>1.3884</td>\n",
       "      <td>4.9223</td>\n",
       "    </tr>\n",
       "    <tr>\n",
       "      <th>2009-11-10</th>\n",
       "      <td>1.3882</td>\n",
       "      <td>4.9190</td>\n",
       "    </tr>\n",
       "    <tr>\n",
       "      <th>2009-11-11</th>\n",
       "      <td>1.3874</td>\n",
       "      <td>4.9240</td>\n",
       "    </tr>\n",
       "    <tr>\n",
       "      <th>2009-11-12</th>\n",
       "      <td>1.3865</td>\n",
       "      <td>4.9194</td>\n",
       "    </tr>\n",
       "    <tr>\n",
       "      <th>2009-11-13</th>\n",
       "      <td>1.3890</td>\n",
       "      <td>4.9221</td>\n",
       "    </tr>\n",
       "    <tr>\n",
       "      <th>2009-11-16</th>\n",
       "      <td>1.3848</td>\n",
       "      <td>4.9291</td>\n",
       "    </tr>\n",
       "    <tr>\n",
       "      <th>...</th>\n",
       "      <td>...</td>\n",
       "      <td>...</td>\n",
       "    </tr>\n",
       "    <tr>\n",
       "      <th>2015-09-04</th>\n",
       "      <td>1.4183</td>\n",
       "      <td>4.4619</td>\n",
       "    </tr>\n",
       "    <tr>\n",
       "      <th>2015-09-07</th>\n",
       "      <td>1.4249</td>\n",
       "      <td>4.4597</td>\n",
       "    </tr>\n",
       "    <tr>\n",
       "      <th>2015-09-08</th>\n",
       "      <td>1.4262</td>\n",
       "      <td>4.4912</td>\n",
       "    </tr>\n",
       "    <tr>\n",
       "      <th>2015-09-09</th>\n",
       "      <td>1.4140</td>\n",
       "      <td>4.4943</td>\n",
       "    </tr>\n",
       "    <tr>\n",
       "      <th>2015-09-10</th>\n",
       "      <td>1.4212</td>\n",
       "      <td>4.5138</td>\n",
       "    </tr>\n",
       "    <tr>\n",
       "      <th>2015-09-14</th>\n",
       "      <td>1.4104</td>\n",
       "      <td>4.5322</td>\n",
       "    </tr>\n",
       "    <tr>\n",
       "      <th>2015-09-15</th>\n",
       "      <td>1.4011</td>\n",
       "      <td>4.5436</td>\n",
       "    </tr>\n",
       "    <tr>\n",
       "      <th>2015-09-16</th>\n",
       "      <td>1.4008</td>\n",
       "      <td>4.5603</td>\n",
       "    </tr>\n",
       "    <tr>\n",
       "      <th>2015-09-17</th>\n",
       "      <td>1.3988</td>\n",
       "      <td>4.5562</td>\n",
       "    </tr>\n",
       "    <tr>\n",
       "      <th>2015-09-18</th>\n",
       "      <td>1.4003</td>\n",
       "      <td>4.5492</td>\n",
       "    </tr>\n",
       "    <tr>\n",
       "      <th>2015-09-21</th>\n",
       "      <td>1.4050</td>\n",
       "      <td>4.5164</td>\n",
       "    </tr>\n",
       "    <tr>\n",
       "      <th>2015-09-22</th>\n",
       "      <td>1.4128</td>\n",
       "      <td>4.4982</td>\n",
       "    </tr>\n",
       "    <tr>\n",
       "      <th>2015-09-23</th>\n",
       "      <td>1.4219</td>\n",
       "      <td>4.4760</td>\n",
       "    </tr>\n",
       "    <tr>\n",
       "      <th>2015-09-25</th>\n",
       "      <td>1.4243</td>\n",
       "      <td>4.4727</td>\n",
       "    </tr>\n",
       "    <tr>\n",
       "      <th>2015-09-28</th>\n",
       "      <td>1.4259</td>\n",
       "      <td>4.4569</td>\n",
       "    </tr>\n",
       "    <tr>\n",
       "      <th>2015-09-29</th>\n",
       "      <td>1.4319</td>\n",
       "      <td>4.4568</td>\n",
       "    </tr>\n",
       "    <tr>\n",
       "      <th>2015-09-30</th>\n",
       "      <td>1.4253</td>\n",
       "      <td>4.4652</td>\n",
       "    </tr>\n",
       "    <tr>\n",
       "      <th>2015-10-01</th>\n",
       "      <td>1.4258</td>\n",
       "      <td>4.4436</td>\n",
       "    </tr>\n",
       "    <tr>\n",
       "      <th>2015-10-02</th>\n",
       "      <td>1.4356</td>\n",
       "      <td>4.4374</td>\n",
       "    </tr>\n",
       "    <tr>\n",
       "      <th>2015-10-05</th>\n",
       "      <td>1.4318</td>\n",
       "      <td>4.4740</td>\n",
       "    </tr>\n",
       "    <tr>\n",
       "      <th>2015-10-06</th>\n",
       "      <td>1.4237</td>\n",
       "      <td>4.4741</td>\n",
       "    </tr>\n",
       "    <tr>\n",
       "      <th>2015-10-07</th>\n",
       "      <td>1.4243</td>\n",
       "      <td>4.5019</td>\n",
       "    </tr>\n",
       "    <tr>\n",
       "      <th>2015-10-08</th>\n",
       "      <td>1.4140</td>\n",
       "      <td>4.5229</td>\n",
       "    </tr>\n",
       "    <tr>\n",
       "      <th>2015-10-09</th>\n",
       "      <td>1.4018</td>\n",
       "      <td>4.5500</td>\n",
       "    </tr>\n",
       "    <tr>\n",
       "      <th>2015-10-12</th>\n",
       "      <td>1.4020</td>\n",
       "      <td>4.5191</td>\n",
       "    </tr>\n",
       "    <tr>\n",
       "      <th>2015-10-13</th>\n",
       "      <td>1.4030</td>\n",
       "      <td>4.5226</td>\n",
       "    </tr>\n",
       "    <tr>\n",
       "      <th>2015-10-14</th>\n",
       "      <td>1.3933</td>\n",
       "      <td>4.6034</td>\n",
       "    </tr>\n",
       "    <tr>\n",
       "      <th>2015-10-15</th>\n",
       "      <td>1.3763</td>\n",
       "      <td>4.5995</td>\n",
       "    </tr>\n",
       "    <tr>\n",
       "      <th>2015-10-16</th>\n",
       "      <td>1.3834</td>\n",
       "      <td>4.5894</td>\n",
       "    </tr>\n",
       "    <tr>\n",
       "      <th>2015-10-19</th>\n",
       "      <td>1.3827</td>\n",
       "      <td>4.5781</td>\n",
       "    </tr>\n",
       "  </tbody>\n",
       "</table>\n",
       "<p>1562 rows × 2 columns</p>\n",
       "</div>"
      ],
      "text/plain": [
       "            exchange_rate_usd  Singapore Dollar to Chinese Yuan\n",
       "2009-10-06             1.4046                            4.8734\n",
       "2009-10-07             1.4031                            4.8754\n",
       "2009-10-08             1.3949                            4.9082\n",
       "2009-10-09             1.3918                            4.9039\n",
       "2009-10-12             1.4014                            4.8791\n",
       "2009-10-13             1.3972                            4.8871\n",
       "2009-10-14             1.3939                            4.9050\n",
       "2009-10-15             1.3861                            4.9157\n",
       "2009-10-16             1.3884                            4.9051\n",
       "2009-10-19             1.3953                            4.9037\n",
       "2009-10-20             1.3882                            4.9037\n",
       "2009-10-21             1.3951                            4.9015\n",
       "2009-10-22             1.3964                            4.8969\n",
       "2009-10-23             1.3928                            4.9017\n",
       "2009-10-26             1.3925                            4.8957\n",
       "2009-10-27             1.3976                            4.8869\n",
       "2009-10-28             1.3995                            4.8742\n",
       "2009-10-29             1.4039                            4.8788\n",
       "2009-10-30             1.3968                            4.8838\n",
       "2009-11-02             1.4004                            4.8791\n",
       "2009-11-03             1.3976                            4.8768\n",
       "2009-11-04             1.3998                            4.8842\n",
       "2009-11-05             1.3975                            4.8901\n",
       "2009-11-06             1.3946                            4.9008\n",
       "2009-11-09             1.3884                            4.9223\n",
       "2009-11-10             1.3882                            4.9190\n",
       "2009-11-11             1.3874                            4.9240\n",
       "2009-11-12             1.3865                            4.9194\n",
       "2009-11-13             1.3890                            4.9221\n",
       "2009-11-16             1.3848                            4.9291\n",
       "...                       ...                               ...\n",
       "2015-09-04             1.4183                            4.4619\n",
       "2015-09-07             1.4249                            4.4597\n",
       "2015-09-08             1.4262                            4.4912\n",
       "2015-09-09             1.4140                            4.4943\n",
       "2015-09-10             1.4212                            4.5138\n",
       "2015-09-14             1.4104                            4.5322\n",
       "2015-09-15             1.4011                            4.5436\n",
       "2015-09-16             1.4008                            4.5603\n",
       "2015-09-17             1.3988                            4.5562\n",
       "2015-09-18             1.4003                            4.5492\n",
       "2015-09-21             1.4050                            4.5164\n",
       "2015-09-22             1.4128                            4.4982\n",
       "2015-09-23             1.4219                            4.4760\n",
       "2015-09-25             1.4243                            4.4727\n",
       "2015-09-28             1.4259                            4.4569\n",
       "2015-09-29             1.4319                            4.4568\n",
       "2015-09-30             1.4253                            4.4652\n",
       "2015-10-01             1.4258                            4.4436\n",
       "2015-10-02             1.4356                            4.4374\n",
       "2015-10-05             1.4318                            4.4740\n",
       "2015-10-06             1.4237                            4.4741\n",
       "2015-10-07             1.4243                            4.5019\n",
       "2015-10-08             1.4140                            4.5229\n",
       "2015-10-09             1.4018                            4.5500\n",
       "2015-10-12             1.4020                            4.5191\n",
       "2015-10-13             1.4030                            4.5226\n",
       "2015-10-14             1.3933                            4.6034\n",
       "2015-10-15             1.3763                            4.5995\n",
       "2015-10-16             1.3834                            4.5894\n",
       "2015-10-19             1.3827                            4.5781\n",
       "\n",
       "[1562 rows x 2 columns]"
      ]
     },
     "execution_count": 220,
     "metadata": {},
     "output_type": "execute_result"
    }
   ],
   "source": [
    "df_all = pd.DataFrame(df)\n",
    "df_all.join(df_rmb).dropna()\n"
   ]
  },
  {
   "cell_type": "markdown",
   "metadata": {
    "slideshow": {
     "slide_type": "slide"
    }
   },
   "source": [
    "# import matplotlib.pyplot as plt"
   ]
  },
  {
   "cell_type": "markdown",
   "metadata": {
    "slideshow": {
     "slide_type": "slide"
    }
   },
   "source": [
    "## Workshop: Matplotlib and Data Visualization"
   ]
  },
  {
   "cell_type": "markdown",
   "metadata": {
    "slideshow": {
     "slide_type": "slide"
    }
   },
   "source": [
    "# Putting everything together"
   ]
  },
  {
   "cell_type": "markdown",
   "metadata": {
    "slideshow": {
     "slide_type": "slide"
    }
   },
   "source": [
    "## Workshop: Data Workflow"
   ]
  },
  {
   "cell_type": "markdown",
   "metadata": {
    "slideshow": {
     "slide_type": "slide"
    }
   },
   "source": [
    "## Assessment 1: Data Workflow"
   ]
  },
  {
   "cell_type": "code",
   "execution_count": null,
   "metadata": {},
   "outputs": [],
   "source": []
  }
 ],
 "metadata": {
  "celltoolbar": "Slideshow",
  "kernelspec": {
   "display_name": "Python 3",
   "language": "python",
   "name": "python3"
  },
  "language_info": {
   "codemirror_mode": {
    "name": "ipython",
    "version": 3
   },
   "file_extension": ".py",
   "mimetype": "text/x-python",
   "name": "python",
   "nbconvert_exporter": "python",
   "pygments_lexer": "ipython3",
   "version": "3.6.4"
  },
  "livereveal": {
   "autolaunch": true,
   "overlay": "<div class='logo'><img src='assets/Stackup_Logo_Small.png' width='90%'/></div>"
  }
 },
 "nbformat": 4,
 "nbformat_minor": 2
}
