{
 "cells": [
  {
   "cell_type": "markdown",
   "metadata": {
    "slideshow": {
     "slide_type": "slide"
    }
   },
   "source": [
    "# import numpy as np"
   ]
  },
  {
   "cell_type": "markdown",
   "metadata": {
    "slideshow": {
     "slide_type": "slide"
    }
   },
   "source": [
    "## Workshop: NumPy and Data Representation\n",
    "\n",
    "NumPy Provides\n",
    "  1. An array object of arbitrary homogeneous items\n",
    "  2. Fast mathematical operations over arrays\n",
    "  3. Linear Algebra, Fourier Transforms, Random Number Generation"
   ]
  },
  {
   "cell_type": "markdown",
   "metadata": {
    "slideshow": {
     "slide_type": "slide"
    }
   },
   "source": [
    "### Cheatsheet\n",
    "\n",
    "https://s3.amazonaws.com/assets.datacamp.com/blog_assets/Numpy_Python_Cheat_Sheet.pdf\n",
    "\n",
    "More cheatsheets:\n",
    "https://www.datacamp.com/community/data-science-cheatsheets?page=3"
   ]
  },
  {
   "cell_type": "markdown",
   "metadata": {
    "slideshow": {
     "slide_type": "slide"
    }
   },
   "source": [
    "### References\n",
    "\n",
    "1. https://docs.scipy.org/doc/numpy-dev/user/basics.types.html\n",
    "2. Python Data Science Handbook by Jake VanderPlas\n",
    "3. Python for Data Analysis: Data Wrangling with Pandas, NumPy, and IPython by Wes McKinney"
   ]
  },
  {
   "cell_type": "markdown",
   "metadata": {
    "slideshow": {
     "slide_type": "slide"
    }
   },
   "source": [
    "### Example Dataset\n",
    "\n",
    "Source: data.gov.sg\n",
    "\n",
    "Dataset: Exchange Rates, SGD per unit of USD"
   ]
  },
  {
   "cell_type": "code",
   "execution_count": 153,
   "metadata": {
    "slideshow": {
     "slide_type": "-"
    }
   },
   "outputs": [
    {
     "data": {
      "text/html": [
       "\n",
       "        <iframe\n",
       "            width=\"600\"\n",
       "            height=\"400\"\n",
       "            src=\"https://data.gov.sg/dataset/exchange-rates-sgd-per-unit-of-usd-average-for-period-annual/resource/f927c39b-3b44-492e-8b54-174e775e0d98/view/43207b9f-1554-4afb-98fe-80dfdd6bb4f6\"\n",
       "            frameborder=\"0\"\n",
       "            allowfullscreen\n",
       "        ></iframe>\n",
       "        "
      ],
      "text/plain": [
       "<IPython.lib.display.IFrame at 0x1f77c34fdd8>"
      ]
     },
     "execution_count": 153,
     "metadata": {},
     "output_type": "execute_result"
    }
   ],
   "source": [
    "from IPython.display import IFrame\n",
    "\n",
    "IFrame('https://data.gov.sg/dataset/exchange-rates-sgd-per-unit-of-usd-average-for-period-annual/resource/f927c39b-3b44-492e-8b54-174e775e0d98/view/43207b9f-1554-4afb-98fe-80dfdd6bb4f6', width=600, height=400)"
   ]
  },
  {
   "cell_type": "markdown",
   "metadata": {
    "slideshow": {
     "slide_type": "slide"
    }
   },
   "source": [
    "1. Go to https://data.gov.sg/dataset/exchange-rates-sgd-per-unit-of-usd-average-for-period-annual\n",
    "2. Click on the `Download` button\n",
    "3. Unzip and extract the `.csv` file. Note the path for use below."
   ]
  },
  {
   "cell_type": "code",
   "execution_count": 155,
   "metadata": {
    "slideshow": {
     "slide_type": "slide"
    }
   },
   "outputs": [
    {
     "name": "stdout",
     "output_type": "stream",
     "text": [
      " Volume in drive D is Local Disk\n",
      " Volume Serial Number is 4A49-4F1A\n",
      "\n",
      " Directory of D:\\tmp\\exchange-rates\n",
      "\n",
      "28/05/2018  05:07 PM    <DIR>          .\n",
      "28/05/2018  05:07 PM    <DIR>          ..\n",
      "19/04/2017  11:26 PM               374 exchange-rates-sgd-per-unit-of-usd-average-for-period-annual.csv\n",
      "19/04/2017  11:26 PM            87,418 exchange-rates-sgd-per-unit-of-usd-daily.csv\n",
      "19/04/2017  11:26 PM             3,051 metadata-exchange-rates-sgd-per-unit-of-usd-average-for-period-annual.txt\n",
      "               3 File(s)         90,843 bytes\n",
      "               2 Dir(s)  246,905,012,224 bytes free\n"
     ]
    }
   ],
   "source": [
    "# replace with your path\n",
    "!dir D:\\tmp\\exchange-rates"
   ]
  },
  {
   "cell_type": "markdown",
   "metadata": {
    "slideshow": {
     "slide_type": "slide"
    }
   },
   "source": [
    "### Loading the data\n",
    "\n",
    "The dataset contains two CSV files. We'll be using the daily exchange rate as our practice for NumPy.\n",
    "\n",
    "We'll be using Pandas to read the CSV files.\n",
    "\n",
    "Pandas will be covered in more detail in the next Workshop."
   ]
  },
  {
   "cell_type": "code",
   "execution_count": 217,
   "metadata": {
    "slideshow": {
     "slide_type": "-"
    }
   },
   "outputs": [
    {
     "data": {
      "text/plain": [
       "date\n",
       "1988-01-08    2.0443\n",
       "1988-01-15    2.0313\n",
       "1988-01-22    2.0205\n",
       "1988-01-29    2.0182\n",
       "1988-02-05    2.0160\n",
       "1988-02-12    2.0173\n",
       "1988-02-19    2.0189\n",
       "1988-02-26    2.0130\n",
       "1988-03-04    2.0154\n",
       "1988-03-11    2.0131\n",
       "1988-03-18    2.0184\n",
       "1988-03-25    2.0132\n",
       "1988-03-31    2.0045\n",
       "1988-04-08    2.0030\n",
       "1988-04-15    2.0019\n",
       "1988-04-22    2.0037\n",
       "1988-04-29    2.0016\n",
       "1988-05-06    2.0039\n",
       "1988-05-13    2.0052\n",
       "1988-05-20    2.0128\n",
       "1988-05-27    2.0168\n",
       "1988-06-03    2.0217\n",
       "1988-06-10    2.0180\n",
       "1988-06-17    2.0246\n",
       "1988-06-24    2.0346\n",
       "1988-07-01    2.0483\n",
       "1988-07-08    2.0443\n",
       "1988-07-15    2.0503\n",
       "1988-07-22    2.0384\n",
       "1988-07-29    2.0378\n",
       "               ...  \n",
       "2015-09-04    1.4183\n",
       "2015-09-07    1.4249\n",
       "2015-09-08    1.4262\n",
       "2015-09-09    1.4140\n",
       "2015-09-10    1.4212\n",
       "2015-09-14    1.4104\n",
       "2015-09-15    1.4011\n",
       "2015-09-16    1.4008\n",
       "2015-09-17    1.3988\n",
       "2015-09-18    1.4003\n",
       "2015-09-21    1.4050\n",
       "2015-09-22    1.4128\n",
       "2015-09-23    1.4219\n",
       "2015-09-25    1.4243\n",
       "2015-09-28    1.4259\n",
       "2015-09-29    1.4319\n",
       "2015-09-30    1.4253\n",
       "2015-10-01    1.4258\n",
       "2015-10-02    1.4356\n",
       "2015-10-05    1.4318\n",
       "2015-10-06    1.4237\n",
       "2015-10-07    1.4243\n",
       "2015-10-08    1.4140\n",
       "2015-10-09    1.4018\n",
       "2015-10-12    1.4020\n",
       "2015-10-13    1.4030\n",
       "2015-10-14    1.3933\n",
       "2015-10-15    1.3763\n",
       "2015-10-16    1.3834\n",
       "2015-10-19    1.3827\n",
       "Name: exchange_rate_usd, Length: 3993, dtype: float64"
      ]
     },
     "execution_count": 217,
     "metadata": {},
     "output_type": "execute_result"
    }
   ],
   "source": [
    "import pandas as pd\n",
    "\n",
    "# we are using some pandas tricks to parse dates automagically\n",
    "df = pd.read_csv('D:/tmp/exchange-rates/exchange-rates-sgd-per-unit-of-usd-daily.csv',\n",
    "                     parse_dates=True, index_col=0, infer_datetime_format=True,\n",
    "                     squeeze=True)\n",
    "\n",
    "# inspect the pandas DataFrame\n",
    "df"
   ]
  },
  {
   "cell_type": "markdown",
   "metadata": {
    "slideshow": {
     "slide_type": "-"
    }
   },
   "source": [
    "### Import numpy"
   ]
  },
  {
   "cell_type": "code",
   "execution_count": 163,
   "metadata": {
    "slideshow": {
     "slide_type": "-"
    }
   },
   "outputs": [],
   "source": [
    "import numpy as np"
   ]
  },
  {
   "cell_type": "code",
   "execution_count": 161,
   "metadata": {
    "slideshow": {
     "slide_type": "-"
    }
   },
   "outputs": [],
   "source": [
    "# show help\n",
    "np?"
   ]
  },
  {
   "cell_type": "markdown",
   "metadata": {
    "slideshow": {
     "slide_type": "-"
    }
   },
   "source": [
    "### Basic Data Structures\n",
    "\n",
    "![scalar vector matrix tensor](assets/numpy/scalar-vector-matrix-tensor.png)\n",
    "\n",
    "(image: https://hadrienj.github.io/posts/Deep-Learning-Book-Series-2.1-Scalars-Vectors-Matrices-and-Tensors/)"
   ]
  },
  {
   "cell_type": "markdown",
   "metadata": {
    "slideshow": {
     "slide_type": "-"
    }
   },
   "source": [
    "### Get the NumPy array from Pandas"
   ]
  },
  {
   "cell_type": "code",
   "execution_count": 172,
   "metadata": {},
   "outputs": [
    {
     "data": {
      "text/plain": [
       "array([['1988-01-08', 2.0443],\n",
       "       ['1988-01-15', 2.0313],\n",
       "       ['1988-01-22', 2.0205],\n",
       "       ..., \n",
       "       ['2015-10-15', 1.3763],\n",
       "       ['2015-10-16', 1.3834],\n",
       "       ['2015-10-19', 1.3827]], dtype=object)"
      ]
     },
     "execution_count": 172,
     "metadata": {},
     "output_type": "execute_result"
    }
   ],
   "source": [
    "# pandas.DataFrame.values returns a numpy array\n",
    "array = df.values\n",
    "array\n",
    "\n",
    "# note the array has a mixture of strings and floating point numbers\n",
    "# it is of dtype=object"
   ]
  },
  {
   "cell_type": "code",
   "execution_count": 167,
   "metadata": {},
   "outputs": [
    {
     "data": {
      "text/plain": [
       "(3993, 2)"
      ]
     },
     "execution_count": 167,
     "metadata": {},
     "output_type": "execute_result"
    }
   ],
   "source": [
    "# Get the shape (rows, columns)\n",
    "array.shape"
   ]
  },
  {
   "cell_type": "markdown",
   "metadata": {
    "slideshow": {
     "slide_type": "-"
    }
   },
   "source": [
    "### Scalar\n",
    "\n",
    "A scalar is a single value. \n",
    "\n",
    "It is a tensor of rank 0. (0 dimension)"
   ]
  },
  {
   "cell_type": "code",
   "execution_count": 169,
   "metadata": {
    "slideshow": {
     "slide_type": "-"
    }
   },
   "outputs": [
    {
     "data": {
      "text/plain": [
       "'1988-01-08'"
      ]
     },
     "execution_count": 169,
     "metadata": {},
     "output_type": "execute_result"
    }
   ],
   "source": [
    "# indexing the array to get a scalar value\n",
    "array[0][0]"
   ]
  },
  {
   "cell_type": "code",
   "execution_count": 171,
   "metadata": {},
   "outputs": [
    {
     "data": {
      "text/plain": [
       "2.0443"
      ]
     },
     "execution_count": 171,
     "metadata": {},
     "output_type": "execute_result"
    }
   ],
   "source": [
    "# another scalar value\n",
    "array[0][1]"
   ]
  },
  {
   "cell_type": "markdown",
   "metadata": {
    "slideshow": {
     "slide_type": "-"
    }
   },
   "source": [
    "### Vector\n",
    "\n",
    "A vector is a list of values. \n",
    "\n",
    "It is a tensor of rank 1. (1 dimension)"
   ]
  },
  {
   "cell_type": "code",
   "execution_count": 177,
   "metadata": {
    "slideshow": {
     "slide_type": "-"
    }
   },
   "outputs": [
    {
     "data": {
      "text/plain": [
       "array(['1988-01-08', 2.0443], dtype=object)"
      ]
     },
     "execution_count": 177,
     "metadata": {},
     "output_type": "execute_result"
    }
   ],
   "source": [
    "# indexing the array to get a row vector\n",
    "first_row = array[0]\n",
    "first_row"
   ]
  },
  {
   "cell_type": "code",
   "execution_count": 181,
   "metadata": {},
   "outputs": [
    {
     "data": {
      "text/plain": [
       "(2,)"
      ]
     },
     "execution_count": 181,
     "metadata": {},
     "output_type": "execute_result"
    }
   ],
   "source": [
    "first_row.shape"
   ]
  },
  {
   "cell_type": "code",
   "execution_count": 183,
   "metadata": {},
   "outputs": [
    {
     "data": {
      "text/plain": [
       "1"
      ]
     },
     "execution_count": 183,
     "metadata": {},
     "output_type": "execute_result"
    }
   ],
   "source": [
    "# get the rank\n",
    "first_row.ndim"
   ]
  },
  {
   "cell_type": "code",
   "execution_count": 179,
   "metadata": {},
   "outputs": [
    {
     "data": {
      "text/plain": [
       "array(['1988-01-08', '1988-01-15', '1988-01-22', ..., '2015-10-15',\n",
       "       '2015-10-16', '2015-10-19'], dtype=object)"
      ]
     },
     "execution_count": 179,
     "metadata": {},
     "output_type": "execute_result"
    }
   ],
   "source": [
    "# indexing the array to get a column vector\n",
    "years = array[:,0] # column of all the years\n",
    "years"
   ]
  },
  {
   "cell_type": "code",
   "execution_count": 180,
   "metadata": {
    "slideshow": {
     "slide_type": "-"
    }
   },
   "outputs": [
    {
     "data": {
      "text/plain": [
       "(3993,)"
      ]
     },
     "execution_count": 180,
     "metadata": {},
     "output_type": "execute_result"
    }
   ],
   "source": [
    "years.shape"
   ]
  },
  {
   "cell_type": "markdown",
   "metadata": {
    "slideshow": {
     "slide_type": "-"
    }
   },
   "source": [
    "### Matrix\n",
    "\n",
    "A matrix is a 2-dimensional array of values.\n",
    "\n",
    "It is a tensor of rank 2."
   ]
  },
  {
   "cell_type": "code",
   "execution_count": 184,
   "metadata": {
    "slideshow": {
     "slide_type": "-"
    }
   },
   "outputs": [
    {
     "data": {
      "text/plain": [
       "2"
      ]
     },
     "execution_count": 184,
     "metadata": {},
     "output_type": "execute_result"
    }
   ],
   "source": [
    "array.ndim"
   ]
  },
  {
   "cell_type": "markdown",
   "metadata": {
    "slideshow": {
     "slide_type": "-"
    }
   },
   "source": [
    "### Tensor (rank $\\geq$ 3)\n",
    "\n",
    "We can create a tensor by stacking matrices along a third axis.\n",
    "\n",
    "Let's say we have some data for the daily exchange rates for Singapore Dollar and Renminbi, and we would like to use currency as a third axis.\n",
    "\n",
    "(data source: https://www.exchangerates.org.uk)"
   ]
  },
  {
   "cell_type": "code",
   "execution_count": 216,
   "metadata": {
    "slideshow": {
     "slide_type": "-"
    }
   },
   "outputs": [
    {
     "data": {
      "text/plain": [
       "Date\n",
       "2018-05-27    4.7499\n",
       "2018-05-26    4.7620\n",
       "2018-05-25    4.7610\n",
       "2018-05-24    4.7618\n",
       "2018-05-23    4.7553\n",
       "2018-05-22    4.7554\n",
       "2018-05-21    4.7657\n",
       "2018-05-20    4.7544\n",
       "2018-05-19    4.7500\n",
       "2018-05-18    4.7497\n",
       "2018-05-17    4.7426\n",
       "2018-05-16    4.7558\n",
       "2018-05-15    4.7410\n",
       "2018-05-14    4.7440\n",
       "2018-05-13    4.7547\n",
       "2018-05-12    4.7399\n",
       "2018-05-11    4.7330\n",
       "2018-05-10    4.7472\n",
       "2018-05-09    4.7256\n",
       "2018-05-08    4.7523\n",
       "2018-05-07    4.7662\n",
       "2018-05-06    4.7669\n",
       "2018-05-05    4.7666\n",
       "2018-05-04    4.7668\n",
       "2018-05-03    4.7743\n",
       "2018-05-02    4.7634\n",
       "2018-05-01    4.7579\n",
       "2018-04-30    4.7764\n",
       "2018-04-29    4.7864\n",
       "2018-04-28    4.7842\n",
       "               ...  \n",
       "2009-11-04    4.8842\n",
       "2009-11-03    4.8768\n",
       "2009-11-02    4.8791\n",
       "2009-11-01    4.8748\n",
       "2009-10-31    4.8748\n",
       "2009-10-30    4.8838\n",
       "2009-10-29    4.8788\n",
       "2009-10-28    4.8742\n",
       "2009-10-27    4.8869\n",
       "2009-10-26    4.8957\n",
       "2009-10-25    4.8995\n",
       "2009-10-24    4.8995\n",
       "2009-10-23    4.9017\n",
       "2009-10-22    4.8969\n",
       "2009-10-21    4.9015\n",
       "2009-10-20    4.9037\n",
       "2009-10-19    4.9037\n",
       "2009-10-18    4.9047\n",
       "2009-10-17    4.9044\n",
       "2009-10-16    4.9051\n",
       "2009-10-15    4.9157\n",
       "2009-10-14    4.9050\n",
       "2009-10-13    4.8871\n",
       "2009-10-12    4.8791\n",
       "2009-10-11    4.8932\n",
       "2009-10-10    4.8926\n",
       "2009-10-09    4.9039\n",
       "2009-10-08    4.9082\n",
       "2009-10-07    4.8754\n",
       "2009-10-06    4.8734\n",
       "Name: Singapore Dollar to Chinese Yuan, Length: 3224, dtype: float64"
      ]
     },
     "execution_count": 216,
     "metadata": {},
     "output_type": "execute_result"
    }
   ],
   "source": [
    "df_rmb = pd.read_csv('data/sgd_cny_rates_daily.csv',\n",
    "                     parse_dates=True, index_col=0, infer_datetime_format=True,\n",
    "                     squeeze=True)\n",
    "df_rmb"
   ]
  },
  {
   "cell_type": "code",
   "execution_count": 208,
   "metadata": {
    "slideshow": {
     "slide_type": "-"
    }
   },
   "outputs": [
    {
     "data": {
      "text/plain": [
       "array([ 4.7499,  4.762 ,  4.761 , ...,  4.9082,  4.8754,  4.8734])"
      ]
     },
     "execution_count": 208,
     "metadata": {},
     "output_type": "execute_result"
    }
   ],
   "source": [
    "array_rmb = df_rmb.values\n",
    "array_rmb"
   ]
  },
  {
   "cell_type": "markdown",
   "metadata": {
    "slideshow": {
     "slide_type": "-"
    }
   },
   "source": [
    "### Slicing\n",
    "\n",
    "But wait, the date ranges don't line up. \n",
    "\n",
    "To fix this, we'll need to slice both arrays appropriately.\n",
    "\n",
    "First, we need to find out the overlapping date ranges."
   ]
  },
  {
   "cell_type": "markdown",
   "metadata": {},
   "source": [
    "### Aside: Working with dates\n",
    "\n",
    "[numpy.datetime64](https://docs.scipy.org/doc/numpy-1.14.0/reference/arrays.datetime.html) supports manipulating dates and times.  "
   ]
  },
  {
   "cell_type": "code",
   "execution_count": 196,
   "metadata": {
    "slideshow": {
     "slide_type": "-"
    }
   },
   "outputs": [
    {
     "data": {
      "text/plain": [
       "numpy.datetime64('1988-01-08')"
      ]
     },
     "execution_count": 196,
     "metadata": {},
     "output_type": "execute_result"
    }
   ],
   "source": [
    "# Date range for the SGD-USD series\n",
    "np.datetime64(array[0][0]) # first date"
   ]
  },
  {
   "cell_type": "code",
   "execution_count": 198,
   "metadata": {
    "slideshow": {
     "slide_type": "-"
    }
   },
   "outputs": [
    {
     "data": {
      "text/plain": [
       "numpy.datetime64('2015-10-19')"
      ]
     },
     "execution_count": 198,
     "metadata": {},
     "output_type": "execute_result"
    }
   ],
   "source": [
    "# Date range for the SGD-USD series\n",
    "np.datetime64(array[-1][0]) # last date"
   ]
  },
  {
   "cell_type": "code",
   "execution_count": 203,
   "metadata": {
    "slideshow": {
     "slide_type": "-"
    }
   },
   "outputs": [
    {
     "data": {
      "text/plain": [
       "numpy.datetime64('2018-05-27T00:00:00.000000')"
      ]
     },
     "execution_count": 203,
     "metadata": {},
     "output_type": "execute_result"
    }
   ],
   "source": [
    "# Date range for the SGD-CNY series\n",
    "np.datetime64(df_rmb.index[0])"
   ]
  },
  {
   "cell_type": "code",
   "execution_count": 204,
   "metadata": {
    "slideshow": {
     "slide_type": "-"
    }
   },
   "outputs": [
    {
     "data": {
      "text/plain": [
       "numpy.datetime64('2009-10-06T00:00:00.000000')"
      ]
     },
     "execution_count": 204,
     "metadata": {},
     "output_type": "execute_result"
    }
   ],
   "source": [
    "# Date range for the SGD-CNY series\n",
    "np.datetime64(df_rmb.index[-1])"
   ]
  },
  {
   "cell_type": "code",
   "execution_count": 206,
   "metadata": {},
   "outputs": [
    {
     "data": {
      "text/plain": [
       "numpy.datetime64('2018-05-27T00:00:00.000000')"
      ]
     },
     "execution_count": 206,
     "metadata": {},
     "output_type": "execute_result"
    }
   ],
   "source": [
    "# Comparing dates\n",
    "max(np.datetime64(array[0][0]), np.datetime64(df_rmb.index[0]))"
   ]
  },
  {
   "cell_type": "markdown",
   "metadata": {
    "slideshow": {
     "slide_type": "-"
    }
   },
   "source": [
    "### Slicing\n",
    "\n",
    "Now that we've determined our ranges, \n"
   ]
  },
  {
   "cell_type": "markdown",
   "metadata": {
    "slideshow": {
     "slide_type": "-"
    }
   },
   "source": [
    "### Data Structure Manipulation"
   ]
  },
  {
   "cell_type": "code",
   "execution_count": null,
   "metadata": {
    "slideshow": {
     "slide_type": "-"
    }
   },
   "outputs": [],
   "source": [
    "# Array documentation\n",
    "from numpy import doc\n",
    "\n",
    "# Array types and conversions, scalars\n",
    "doc.basics?"
   ]
  },
  {
   "cell_type": "code",
   "execution_count": null,
   "metadata": {
    "slideshow": {
     "slide_type": "-"
    }
   },
   "outputs": [],
   "source": [
    "# Array indexing and slicing\n",
    "doc.indexing?"
   ]
  },
  {
   "cell_type": "markdown",
   "metadata": {
    "slideshow": {
     "slide_type": "-"
    }
   },
   "source": [
    "### Indexing"
   ]
  },
  {
   "cell_type": "code",
   "execution_count": null,
   "metadata": {
    "slideshow": {
     "slide_type": "-"
    }
   },
   "outputs": [],
   "source": [
    "A = np.random.random((3, 2))\n",
    "A"
   ]
  },
  {
   "cell_type": "code",
   "execution_count": null,
   "metadata": {
    "slideshow": {
     "slide_type": "-"
    }
   },
   "outputs": [],
   "source": [
    "A[0] # 1st row"
   ]
  },
  {
   "cell_type": "code",
   "execution_count": null,
   "metadata": {
    "slideshow": {
     "slide_type": "-"
    }
   },
   "outputs": [],
   "source": [
    "A[1][0] # 2nd row, 1st column"
   ]
  },
  {
   "cell_type": "code",
   "execution_count": null,
   "metadata": {
    "slideshow": {
     "slide_type": "-"
    }
   },
   "outputs": [],
   "source": [
    "A[-2][-1] # second-last row, last column"
   ]
  },
  {
   "cell_type": "code",
   "execution_count": null,
   "metadata": {
    "slideshow": {
     "slide_type": "-"
    }
   },
   "outputs": [],
   "source": [
    "A[-4] # out of bounds access"
   ]
  },
  {
   "cell_type": "code",
   "execution_count": null,
   "metadata": {
    "slideshow": {
     "slide_type": "-"
    }
   },
   "outputs": [],
   "source": [
    "A[A>0.5] # boolean indexing"
   ]
  },
  {
   "cell_type": "markdown",
   "metadata": {
    "slideshow": {
     "slide_type": "-"
    }
   },
   "source": [
    "Exercise: Try the above with a vector, and a Tensor"
   ]
  },
  {
   "cell_type": "markdown",
   "metadata": {
    "slideshow": {
     "slide_type": "-"
    }
   },
   "source": [
    "### Subsetting\n",
    "\n",
    "A[index, ...]\n",
    "\n",
    "index can be `:` for the axis (e.g. A[1,:])"
   ]
  },
  {
   "cell_type": "code",
   "execution_count": 132,
   "metadata": {
    "slideshow": {
     "slide_type": "-"
    }
   },
   "outputs": [
    {
     "data": {
      "text/plain": [
       "array([[ 0.1819358 ,  0.07922454],\n",
       "       [ 0.95426202,  0.34311652],\n",
       "       [ 0.83740228,  0.24108659]])"
      ]
     },
     "execution_count": 132,
     "metadata": {},
     "output_type": "execute_result"
    }
   ],
   "source": [
    "A"
   ]
  },
  {
   "cell_type": "code",
   "execution_count": null,
   "metadata": {
    "slideshow": {
     "slide_type": "-"
    }
   },
   "outputs": [],
   "source": [
    "A[1, 0] # 2nd row, 1st column"
   ]
  },
  {
   "cell_type": "code",
   "execution_count": null,
   "metadata": {
    "slideshow": {
     "slide_type": "-"
    }
   },
   "outputs": [],
   "source": [
    "A[:,1] # 2nd column"
   ]
  },
  {
   "cell_type": "code",
   "execution_count": null,
   "metadata": {
    "slideshow": {
     "slide_type": "-"
    }
   },
   "outputs": [],
   "source": [
    "A[0,:] # 1st row"
   ]
  },
  {
   "cell_type": "markdown",
   "metadata": {
    "slideshow": {
     "slide_type": "-"
    }
   },
   "source": [
    "### Slicing\n",
    "\n",
    "data[start : stop : stepsize]"
   ]
  },
  {
   "cell_type": "code",
   "execution_count": 133,
   "metadata": {
    "slideshow": {
     "slide_type": "-"
    }
   },
   "outputs": [
    {
     "data": {
      "text/plain": [
       "array([[[  1.        ,   1.39130435],\n",
       "        [  1.7826087 ,   2.17391304],\n",
       "        [  2.56521739,   2.95652174]],\n",
       "\n",
       "       [[  3.34782609,   3.73913043],\n",
       "        [  4.13043478,   4.52173913],\n",
       "        [  4.91304348,   5.30434783]],\n",
       "\n",
       "       [[  5.69565217,   6.08695652],\n",
       "        [  6.47826087,   6.86956522],\n",
       "        [  7.26086957,   7.65217391]],\n",
       "\n",
       "       [[  8.04347826,   8.43478261],\n",
       "        [  8.82608696,   9.2173913 ],\n",
       "        [  9.60869565,  10.        ]]])"
      ]
     },
     "execution_count": 133,
     "metadata": {},
     "output_type": "execute_result"
    }
   ],
   "source": [
    "R = np.linspace(1, 10, 24).reshape(4, 3, 2)\n",
    "R"
   ]
  },
  {
   "cell_type": "code",
   "execution_count": null,
   "metadata": {
    "slideshow": {
     "slide_type": "-"
    }
   },
   "outputs": [],
   "source": [
    "R[1:2:1] # 2nd row along axis=0 "
   ]
  },
  {
   "cell_type": "code",
   "execution_count": null,
   "metadata": {
    "slideshow": {
     "slide_type": "-"
    }
   },
   "outputs": [],
   "source": [
    "R[:, 1:2:1,] # 2nd row along axis=1"
   ]
  },
  {
   "cell_type": "code",
   "execution_count": null,
   "metadata": {
    "slideshow": {
     "slide_type": "-"
    }
   },
   "outputs": [],
   "source": [
    "R[:, :, 1:2:1] # 2nd row along axis=2 "
   ]
  },
  {
   "cell_type": "code",
   "execution_count": 134,
   "metadata": {
    "slideshow": {
     "slide_type": "-"
    }
   },
   "outputs": [
    {
     "data": {
      "text/plain": [
       "array([[[ 1.        ,  1.39130435],\n",
       "        [ 1.7826087 ,  2.17391304],\n",
       "        [ 2.56521739,  2.95652174]],\n",
       "\n",
       "       [[ 5.69565217,  6.08695652],\n",
       "        [ 6.47826087,  6.86956522],\n",
       "        [ 7.26086957,  7.65217391]]])"
      ]
     },
     "execution_count": 134,
     "metadata": {},
     "output_type": "execute_result"
    }
   ],
   "source": [
    "R[::2,] # every other row along axis=0"
   ]
  },
  {
   "cell_type": "markdown",
   "metadata": {
    "slideshow": {
     "slide_type": "-"
    }
   },
   "source": [
    "### Slices are views, not copies\n",
    "\n",
    "Changes the main array"
   ]
  },
  {
   "cell_type": "code",
   "execution_count": 147,
   "metadata": {
    "slideshow": {
     "slide_type": "-"
    }
   },
   "outputs": [
    {
     "data": {
      "text/plain": [
       "array([[ 1.7826087 ,  2.17391304]])"
      ]
     },
     "execution_count": 147,
     "metadata": {},
     "output_type": "execute_result"
    }
   ],
   "source": [
    "R2 = R[0][1:2:1] # same as R[0, 1:2:1]\n",
    "R2"
   ]
  },
  {
   "cell_type": "code",
   "execution_count": 150,
   "metadata": {
    "slideshow": {
     "slide_type": "-"
    }
   },
   "outputs": [
    {
     "data": {
      "text/plain": [
       "array([[ 0.,  0.]])"
      ]
     },
     "execution_count": 150,
     "metadata": {},
     "output_type": "execute_result"
    }
   ],
   "source": [
    "R2[0] = 0\n",
    "R2"
   ]
  },
  {
   "cell_type": "code",
   "execution_count": 151,
   "metadata": {
    "slideshow": {
     "slide_type": "-"
    }
   },
   "outputs": [
    {
     "data": {
      "text/plain": [
       "array([[[  1.        ,   1.39130435],\n",
       "        [  0.        ,   0.        ],\n",
       "        [  2.56521739,   2.95652174]],\n",
       "\n",
       "       [[  3.34782609,   3.73913043],\n",
       "        [  4.13043478,   4.52173913],\n",
       "        [  4.91304348,   5.30434783]],\n",
       "\n",
       "       [[  5.69565217,   6.08695652],\n",
       "        [  6.47826087,   6.86956522],\n",
       "        [  7.26086957,   7.65217391]],\n",
       "\n",
       "       [[  8.04347826,   8.43478261],\n",
       "        [  8.82608696,   9.2173913 ],\n",
       "        [  9.60869565,  10.        ]]])"
      ]
     },
     "execution_count": 151,
     "metadata": {},
     "output_type": "execute_result"
    }
   ],
   "source": [
    "R"
   ]
  },
  {
   "cell_type": "markdown",
   "metadata": {
    "slideshow": {
     "slide_type": "-"
    }
   },
   "source": [
    "### Transposing"
   ]
  },
  {
   "cell_type": "code",
   "execution_count": null,
   "metadata": {
    "slideshow": {
     "slide_type": "-"
    }
   },
   "outputs": [],
   "source": [
    "R.T"
   ]
  },
  {
   "cell_type": "code",
   "execution_count": null,
   "metadata": {
    "slideshow": {
     "slide_type": "-"
    }
   },
   "outputs": [],
   "source": [
    "R.T.shape"
   ]
  },
  {
   "cell_type": "markdown",
   "metadata": {},
   "source": [
    "### Sorting"
   ]
  },
  {
   "cell_type": "code",
   "execution_count": null,
   "metadata": {},
   "outputs": [],
   "source": []
  },
  {
   "cell_type": "code",
   "execution_count": null,
   "metadata": {},
   "outputs": [],
   "source": []
  },
  {
   "cell_type": "code",
   "execution_count": null,
   "metadata": {
    "slideshow": {
     "slide_type": "-"
    }
   },
   "outputs": [],
   "source": []
  },
  {
   "cell_type": "code",
   "execution_count": null,
   "metadata": {
    "slideshow": {
     "slide_type": "-"
    }
   },
   "outputs": [],
   "source": []
  },
  {
   "cell_type": "code",
   "execution_count": null,
   "metadata": {
    "slideshow": {
     "slide_type": "-"
    }
   },
   "outputs": [],
   "source": []
  },
  {
   "cell_type": "code",
   "execution_count": null,
   "metadata": {
    "slideshow": {
     "slide_type": "-"
    }
   },
   "outputs": [],
   "source": []
  },
  {
   "cell_type": "code",
   "execution_count": null,
   "metadata": {
    "slideshow": {
     "slide_type": "-"
    }
   },
   "outputs": [],
   "source": []
  },
  {
   "cell_type": "markdown",
   "metadata": {
    "slideshow": {
     "slide_type": "slide"
    }
   },
   "source": [
    "# import pandas as pd"
   ]
  },
  {
   "cell_type": "markdown",
   "metadata": {
    "slideshow": {
     "slide_type": "slide"
    }
   },
   "source": [
    "## Workshop: Pandas and Data Transformation"
   ]
  },
  {
   "cell_type": "markdown",
   "metadata": {
    "slideshow": {
     "slide_type": "slide"
    }
   },
   "source": [
    "# import matplotlib.pyplot as plt"
   ]
  },
  {
   "cell_type": "markdown",
   "metadata": {
    "slideshow": {
     "slide_type": "slide"
    }
   },
   "source": [
    "## Workshop: Matplotlib and Data Visualization"
   ]
  },
  {
   "cell_type": "markdown",
   "metadata": {
    "slideshow": {
     "slide_type": "slide"
    }
   },
   "source": [
    "# Putting everything together"
   ]
  },
  {
   "cell_type": "markdown",
   "metadata": {
    "slideshow": {
     "slide_type": "slide"
    }
   },
   "source": [
    "## Workshop: Data Workflow"
   ]
  },
  {
   "cell_type": "markdown",
   "metadata": {
    "slideshow": {
     "slide_type": "slide"
    }
   },
   "source": [
    "## Assessment 1: Data Workflow"
   ]
  },
  {
   "cell_type": "code",
   "execution_count": null,
   "metadata": {},
   "outputs": [],
   "source": []
  }
 ],
 "metadata": {
  "celltoolbar": "Slideshow",
  "kernelspec": {
   "display_name": "Python 3",
   "language": "python",
   "name": "python3"
  },
  "language_info": {
   "codemirror_mode": {
    "name": "ipython",
    "version": 3
   },
   "file_extension": ".py",
   "mimetype": "text/x-python",
   "name": "python",
   "nbconvert_exporter": "python",
   "pygments_lexer": "ipython3",
   "version": "3.6.4"
  },
  "livereveal": {
   "autolaunch": true,
   "overlay": "<div class='logo'><img src='assets/Stackup_Logo_Small.png' width='90%'/></div>"
  }
 },
 "nbformat": 4,
 "nbformat_minor": 2
}
