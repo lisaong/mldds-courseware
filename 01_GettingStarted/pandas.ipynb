{
 "cells": [
  {
   "cell_type": "markdown",
   "metadata": {
    "slideshow": {
     "slide_type": "-"
    }
   },
   "source": [
    "# import pandas as pd"
   ]
  },
  {
   "cell_type": "markdown",
   "metadata": {
    "slideshow": {
     "slide_type": "-"
    }
   },
   "source": [
    "## Workshop: Pandas and Data Manipulation\n",
    "\n",
    "In this workshop, we will use pandas to load, describe, and query datasets."
   ]
  },
  {
   "cell_type": "markdown",
   "metadata": {
    "slideshow": {
     "slide_type": "-"
    }
   },
   "source": [
    "### Cheatsheet\n",
    "\n",
    "https://s3.amazonaws.com/assets.datacamp.com/blog_assets/PandasPythonForDataScience.pdf"
   ]
  },
  {
   "cell_type": "markdown",
   "metadata": {
    "slideshow": {
     "slide_type": "-"
    }
   },
   "source": [
    "### References\n",
    "\n",
    "1. https://pandas.pydata.org/pandas-docs/stable/  \n",
    "2. Python Data Science Handbook by Jake VanderPlas\n",
    "3. Python for Data Analysis: Data Wrangling with Pandas, NumPy, and IPython by Wes McKinney\n",
    "4. https://pandas.pydata.org/pandas-docs/stable/comparison_with_sql.html\n"
   ]
  },
  {
   "cell_type": "markdown",
   "metadata": {
    "slideshow": {
     "slide_type": "-"
    }
   },
   "source": [
    "### Installation\n",
    "\n",
    "Windows: Start Button -> \"Anaconda Prompt\"\n",
    "\n",
    "Ubuntu / MacOS: conda should be in your path\n",
    "\n",
    "Activate the environment\n",
    "\n",
    "```\n",
    "conda activate module1\n",
    "```"
   ]
  },
  {
   "cell_type": "markdown",
   "metadata": {
    "slideshow": {
     "slide_type": "-"
    }
   },
   "source": [
    "Pandas should already be installed. If not, install it:\n",
    "\n",
    "```\n",
    "conda install pandas\n",
    "```"
   ]
  },
  {
   "cell_type": "markdown",
   "metadata": {
    "slideshow": {
     "slide_type": "-"
    }
   },
   "source": [
    "Tip: You can check the versions installed by calling Python with a script:\n",
    "```\n",
    "python -c \"import pandas; print(pandas.__version__)\"\n",
    "```"
   ]
  },
  {
   "cell_type": "markdown",
   "metadata": {
    "slideshow": {
     "slide_type": "-"
    }
   },
   "source": [
    "### SGD to USD Exchange Rate Data\n",
    "\n",
    "Similar to the NumPy workshop, we'll use the historical SGD to USD exchange rates from data.gov.sg to demonstrate some Pandas concepts."
   ]
  },
  {
   "cell_type": "code",
   "execution_count": null,
   "metadata": {
    "slideshow": {
     "slide_type": "-"
    }
   },
   "outputs": [],
   "source": [
    "from IPython.display import IFrame\n",
    "\n",
    "IFrame('https://data.gov.sg/dataset/exchange-rates-sgd-per-unit-of-usd-average-for-period-annual/resource/f927c39b-3b44-492e-8b54-174e775e0d98/view/43207b9f-1554-4afb-98fe-80dfdd6bb4f6', width=600, height=400)"
   ]
  },
  {
   "cell_type": "markdown",
   "metadata": {
    "slideshow": {
     "slide_type": "-"
    }
   },
   "source": [
    "### Download Instructions\n",
    "\n",
    "You should already have this dataset from the NumPy workshop. If not, here are the instructions:\n",
    "\n",
    "1. Go to https://data.gov.sg/dataset/exchange-rates-sgd-per-unit-of-usd-average-for-period-annual\n",
    "2. Click on the `Download` button\n",
    "3. Unzip and extract the `.csv` file. Note the path for use below."
   ]
  },
  {
   "cell_type": "markdown",
   "metadata": {
    "slideshow": {
     "slide_type": "-"
    }
   },
   "source": [
    "### Import the package"
   ]
  },
  {
   "cell_type": "code",
   "execution_count": null,
   "metadata": {
    "slideshow": {
     "slide_type": "-"
    }
   },
   "outputs": [],
   "source": [
    "import pandas as pd"
   ]
  },
  {
   "cell_type": "code",
   "execution_count": 90,
   "metadata": {},
   "outputs": [],
   "source": [
    "pd?"
   ]
  },
  {
   "cell_type": "markdown",
   "metadata": {
    "slideshow": {
     "slide_type": "-"
    }
   },
   "source": [
    "### Two main data structures\n",
    "\n",
    "1. Series\n",
    "2. DataFrame"
   ]
  },
  {
   "cell_type": "markdown",
   "metadata": {
    "slideshow": {
     "slide_type": "-"
    }
   },
   "source": [
    "### Series\n",
    "```\n",
    "pandas.Series(data=None, index=None, dtype=None, name=None, copy=False, fastpath=False)\n",
    "```\n",
    "- Similar to 1-d numpy array but with more flexible explicit indexing\n",
    "- Has two components : index and value for each element\n",
    "- A bit similar concept as dictionary\n",
    "- [more here..](https://pandas.pydata.org/pandas-docs/stable/generated/pandas.Series.html')"
   ]
  },
  {
   "cell_type": "markdown",
   "metadata": {
    "slideshow": {
     "slide_type": "-"
    }
   },
   "source": [
    "### DataFrame\n",
    "```\n",
    "pandas.DataFrame(data=None, index=None, columns=None, dtype=None, copy=False)\n",
    "```\n",
    "- The primary pandas data structure\n",
    "- Tabular format similar to excel\n",
    "- Two-dimensional, potentially heterogeneous tabular data\n",
    "- structure with labeled axes (rows and columns). Row and columns index\n",
    "- Can be thought of as a dict-like container for Series objects. \n",
    "- [more here..](https://pandas.pydata.org/pandas-docs/stable/generated/pandas.DataFrame.html)"
   ]
  },
  {
   "cell_type": "markdown",
   "metadata": {
    "slideshow": {
     "slide_type": "-"
    }
   },
   "source": [
    "### Read data from CSV to a Series\n",
    "\n",
    "You can use `pandas.read_csv` to read data into:\n",
    "- A Series, if the data contains only 1 column and you specify the `squeeze=True` option, or\n",
    "- A DataFrame, for any number of columns. This is the default behavior because the DataFrame is the most flexible.\n",
    "\n",
    "[more here](https://pandas.pydata.org/pandas-docs/stable/generated/pandas.read_csv.html)"
   ]
  },
  {
   "cell_type": "code",
   "execution_count": 6,
   "metadata": {},
   "outputs": [
    {
     "data": {
      "text/plain": [
       "date\n",
       "1988-01-08    2.0443\n",
       "1988-01-15    2.0313\n",
       "1988-01-22    2.0205\n",
       "1988-01-29    2.0182\n",
       "1988-02-05    2.0160\n",
       "1988-02-12    2.0173\n",
       "1988-02-19    2.0189\n",
       "1988-02-26    2.0130\n",
       "1988-03-04    2.0154\n",
       "1988-03-11    2.0131\n",
       "Name: exchange_rate_usd, dtype: float64"
      ]
     },
     "execution_count": 6,
     "metadata": {},
     "output_type": "execute_result"
    }
   ],
   "source": [
    "# Read data into a series\n",
    "sgd_usd_series = pd.read_csv('D:/tmp/exchange-rates/exchange-rates-sgd-per-unit-of-usd-daily.csv',\n",
    "                     parse_dates=True, index_col=0, infer_datetime_format=True,\n",
    "                     squeeze=True)\n",
    "\n",
    "# inspect the first 10 values\n",
    "sgd_usd_series.head(10)"
   ]
  },
  {
   "cell_type": "code",
   "execution_count": 19,
   "metadata": {},
   "outputs": [
    {
     "data": {
      "text/plain": [
       "count    3993.000000\n",
       "mean        1.494808\n",
       "std         0.197901\n",
       "min         1.200900\n",
       "25%         1.303300\n",
       "50%         1.462200\n",
       "75%         1.669100\n",
       "max         2.050300\n",
       "Name: exchange_rate_usd, dtype: float64"
      ]
     },
     "execution_count": 19,
     "metadata": {},
     "output_type": "execute_result"
    }
   ],
   "source": [
    "sgd_usd_series.describe()"
   ]
  },
  {
   "cell_type": "code",
   "execution_count": 7,
   "metadata": {},
   "outputs": [
    {
     "data": {
      "text/html": [
       "<div>\n",
       "<style scoped>\n",
       "    .dataframe tbody tr th:only-of-type {\n",
       "        vertical-align: middle;\n",
       "    }\n",
       "\n",
       "    .dataframe tbody tr th {\n",
       "        vertical-align: top;\n",
       "    }\n",
       "\n",
       "    .dataframe thead th {\n",
       "        text-align: right;\n",
       "    }\n",
       "</style>\n",
       "<table border=\"1\" class=\"dataframe\">\n",
       "  <thead>\n",
       "    <tr style=\"text-align: right;\">\n",
       "      <th></th>\n",
       "      <th>exchange_rate_usd</th>\n",
       "    </tr>\n",
       "    <tr>\n",
       "      <th>date</th>\n",
       "      <th></th>\n",
       "    </tr>\n",
       "  </thead>\n",
       "  <tbody>\n",
       "    <tr>\n",
       "      <th>1988-01-08</th>\n",
       "      <td>2.0443</td>\n",
       "    </tr>\n",
       "    <tr>\n",
       "      <th>1988-01-15</th>\n",
       "      <td>2.0313</td>\n",
       "    </tr>\n",
       "    <tr>\n",
       "      <th>1988-01-22</th>\n",
       "      <td>2.0205</td>\n",
       "    </tr>\n",
       "    <tr>\n",
       "      <th>1988-01-29</th>\n",
       "      <td>2.0182</td>\n",
       "    </tr>\n",
       "    <tr>\n",
       "      <th>1988-02-05</th>\n",
       "      <td>2.0160</td>\n",
       "    </tr>\n",
       "    <tr>\n",
       "      <th>1988-02-12</th>\n",
       "      <td>2.0173</td>\n",
       "    </tr>\n",
       "    <tr>\n",
       "      <th>1988-02-19</th>\n",
       "      <td>2.0189</td>\n",
       "    </tr>\n",
       "    <tr>\n",
       "      <th>1988-02-26</th>\n",
       "      <td>2.0130</td>\n",
       "    </tr>\n",
       "    <tr>\n",
       "      <th>1988-03-04</th>\n",
       "      <td>2.0154</td>\n",
       "    </tr>\n",
       "    <tr>\n",
       "      <th>1988-03-11</th>\n",
       "      <td>2.0131</td>\n",
       "    </tr>\n",
       "  </tbody>\n",
       "</table>\n",
       "</div>"
      ],
      "text/plain": [
       "            exchange_rate_usd\n",
       "date                         \n",
       "1988-01-08             2.0443\n",
       "1988-01-15             2.0313\n",
       "1988-01-22             2.0205\n",
       "1988-01-29             2.0182\n",
       "1988-02-05             2.0160\n",
       "1988-02-12             2.0173\n",
       "1988-02-19             2.0189\n",
       "1988-02-26             2.0130\n",
       "1988-03-04             2.0154\n",
       "1988-03-11             2.0131"
      ]
     },
     "execution_count": 7,
     "metadata": {},
     "output_type": "execute_result"
    }
   ],
   "source": [
    "# Read data into a data frame\n",
    "sgd_usd_df = pd.read_csv('D:/tmp/exchange-rates/exchange-rates-sgd-per-unit-of-usd-daily.csv',\n",
    "                     parse_dates=True, index_col=0, infer_datetime_format=True)\n",
    "\n",
    "# inspect the first 10 values\n",
    "sgd_usd_df.head(10)"
   ]
  },
  {
   "cell_type": "code",
   "execution_count": 18,
   "metadata": {},
   "outputs": [
    {
     "data": {
      "text/html": [
       "<div>\n",
       "<style scoped>\n",
       "    .dataframe tbody tr th:only-of-type {\n",
       "        vertical-align: middle;\n",
       "    }\n",
       "\n",
       "    .dataframe tbody tr th {\n",
       "        vertical-align: top;\n",
       "    }\n",
       "\n",
       "    .dataframe thead th {\n",
       "        text-align: right;\n",
       "    }\n",
       "</style>\n",
       "<table border=\"1\" class=\"dataframe\">\n",
       "  <thead>\n",
       "    <tr style=\"text-align: right;\">\n",
       "      <th></th>\n",
       "      <th>exchange_rate_usd</th>\n",
       "    </tr>\n",
       "  </thead>\n",
       "  <tbody>\n",
       "    <tr>\n",
       "      <th>count</th>\n",
       "      <td>3993.000000</td>\n",
       "    </tr>\n",
       "    <tr>\n",
       "      <th>mean</th>\n",
       "      <td>1.494808</td>\n",
       "    </tr>\n",
       "    <tr>\n",
       "      <th>std</th>\n",
       "      <td>0.197901</td>\n",
       "    </tr>\n",
       "    <tr>\n",
       "      <th>min</th>\n",
       "      <td>1.200900</td>\n",
       "    </tr>\n",
       "    <tr>\n",
       "      <th>25%</th>\n",
       "      <td>1.303300</td>\n",
       "    </tr>\n",
       "    <tr>\n",
       "      <th>50%</th>\n",
       "      <td>1.462200</td>\n",
       "    </tr>\n",
       "    <tr>\n",
       "      <th>75%</th>\n",
       "      <td>1.669100</td>\n",
       "    </tr>\n",
       "    <tr>\n",
       "      <th>max</th>\n",
       "      <td>2.050300</td>\n",
       "    </tr>\n",
       "  </tbody>\n",
       "</table>\n",
       "</div>"
      ],
      "text/plain": [
       "       exchange_rate_usd\n",
       "count        3993.000000\n",
       "mean            1.494808\n",
       "std             0.197901\n",
       "min             1.200900\n",
       "25%             1.303300\n",
       "50%             1.462200\n",
       "75%             1.669100\n",
       "max             2.050300"
      ]
     },
     "execution_count": 18,
     "metadata": {},
     "output_type": "execute_result"
    }
   ],
   "source": [
    "sgd_usd_df.describe()"
   ]
  },
  {
   "cell_type": "markdown",
   "metadata": {},
   "source": [
    "### Get values or indices\n",
    "\n",
    "Series\n",
    "- use series.values\n",
    "- use series.index\n",
    "\n",
    "DataFrame\n",
    "- use df.values\n",
    "- use df.index\n",
    "\n",
    "Note: these are properties, not function calls with ()"
   ]
  },
  {
   "cell_type": "markdown",
   "metadata": {},
   "source": [
    "For this dataset:\n",
    "- Series.values is a 1 dimensional numpy.array\n",
    "- DataFrame.values is not. It's actually 2 dimensional:\n",
    "\n",
    "    number of samples (rows) x 1 (column)\n",
    "   \n",
    "This is because DataFrame is a more general data structure that can hold more columns."
   ]
  },
  {
   "cell_type": "code",
   "execution_count": 8,
   "metadata": {},
   "outputs": [
    {
     "data": {
      "text/plain": [
       "array([ 2.0443,  2.0313,  2.0205, ...,  1.3763,  1.3834,  1.3827])"
      ]
     },
     "execution_count": 8,
     "metadata": {},
     "output_type": "execute_result"
    }
   ],
   "source": [
    "sgd_usd_series.values"
   ]
  },
  {
   "cell_type": "code",
   "execution_count": 9,
   "metadata": {
    "slideshow": {
     "slide_type": "-"
    }
   },
   "outputs": [
    {
     "data": {
      "text/plain": [
       "array([[ 2.0443],\n",
       "       [ 2.0313],\n",
       "       [ 2.0205],\n",
       "       ..., \n",
       "       [ 1.3763],\n",
       "       [ 1.3834],\n",
       "       [ 1.3827]])"
      ]
     },
     "execution_count": 9,
     "metadata": {},
     "output_type": "execute_result"
    }
   ],
   "source": [
    "sgd_usd_df.values"
   ]
  },
  {
   "cell_type": "code",
   "execution_count": 10,
   "metadata": {},
   "outputs": [
    {
     "data": {
      "text/plain": [
       "(3993,)"
      ]
     },
     "execution_count": 10,
     "metadata": {},
     "output_type": "execute_result"
    }
   ],
   "source": [
    "sgd_usd_series.values.shape"
   ]
  },
  {
   "cell_type": "code",
   "execution_count": 13,
   "metadata": {},
   "outputs": [
    {
     "data": {
      "text/plain": [
       "1"
      ]
     },
     "execution_count": 13,
     "metadata": {},
     "output_type": "execute_result"
    }
   ],
   "source": [
    "sgd_usd_series.values.ndim # rank = 1"
   ]
  },
  {
   "cell_type": "code",
   "execution_count": 11,
   "metadata": {},
   "outputs": [
    {
     "data": {
      "text/plain": [
       "(3993, 1)"
      ]
     },
     "execution_count": 11,
     "metadata": {},
     "output_type": "execute_result"
    }
   ],
   "source": [
    "sgd_usd_df.values.shape"
   ]
  },
  {
   "cell_type": "code",
   "execution_count": 12,
   "metadata": {},
   "outputs": [
    {
     "data": {
      "text/plain": [
       "2"
      ]
     },
     "execution_count": 12,
     "metadata": {},
     "output_type": "execute_result"
    }
   ],
   "source": [
    "sgd_usd_df.values.ndim # rank = 2"
   ]
  },
  {
   "cell_type": "code",
   "execution_count": 15,
   "metadata": {},
   "outputs": [
    {
     "data": {
      "text/plain": [
       "array([ 2.0443,  2.0313,  2.0205, ...,  1.3763,  1.3834,  1.3827])"
      ]
     },
     "execution_count": 15,
     "metadata": {},
     "output_type": "execute_result"
    }
   ],
   "source": [
    "# Tip: you can flatten the 3993 x 1 numpy array\n",
    "sgd_usd_df.values.flatten()"
   ]
  },
  {
   "cell_type": "markdown",
   "metadata": {
    "slideshow": {
     "slide_type": "-"
    }
   },
   "source": [
    "The .index is the same whether it is a Series or a DataFrame"
   ]
  },
  {
   "cell_type": "code",
   "execution_count": 16,
   "metadata": {},
   "outputs": [
    {
     "data": {
      "text/plain": [
       "DatetimeIndex(['1988-01-08', '1988-01-15', '1988-01-22', '1988-01-29',\n",
       "               '1988-02-05', '1988-02-12', '1988-02-19', '1988-02-26',\n",
       "               '1988-03-04', '1988-03-11',\n",
       "               ...\n",
       "               '2015-10-06', '2015-10-07', '2015-10-08', '2015-10-09',\n",
       "               '2015-10-12', '2015-10-13', '2015-10-14', '2015-10-15',\n",
       "               '2015-10-16', '2015-10-19'],\n",
       "              dtype='datetime64[ns]', name='date', length=3993, freq=None)"
      ]
     },
     "execution_count": 16,
     "metadata": {},
     "output_type": "execute_result"
    }
   ],
   "source": [
    "sgd_usd_series.index"
   ]
  },
  {
   "cell_type": "code",
   "execution_count": 51,
   "metadata": {},
   "outputs": [
    {
     "data": {
      "text/plain": [
       "DatetimeIndex(['1988-01-08', '1988-01-15', '1988-01-22', '1988-01-29',\n",
       "               '1988-02-05', '1988-02-12', '1988-02-19', '1988-02-26',\n",
       "               '1988-03-04', '1988-03-11',\n",
       "               ...\n",
       "               '2015-10-06', '2015-10-07', '2015-10-08', '2015-10-09',\n",
       "               '2015-10-12', '2015-10-13', '2015-10-14', '2015-10-15',\n",
       "               '2015-10-16', '2015-10-19'],\n",
       "              dtype='datetime64[ns]', name='date', length=3993, freq=None)"
      ]
     },
     "execution_count": 51,
     "metadata": {},
     "output_type": "execute_result"
    }
   ],
   "source": [
    "sgd_usd_df.index"
   ]
  },
  {
   "cell_type": "markdown",
   "metadata": {
    "slideshow": {
     "slide_type": "-"
    }
   },
   "source": [
    "### Get the summary\n",
    "\n",
    "Try these on `sgd_usd_series` and `sgd_usd_df`. \n",
    "\n",
    "|  |  |\n",
    "|--|--|\n",
    "|df.columns | Describe DataFrame columns|\n",
    "|df.info() | Information on a DataFrame |\n",
    "|s.count(), df.count() | Number of non-NA values|\n",
    "|s.count() | Number of non-NA values|\n",
    "\n",
    "Note: these are from the Cheatsheet. Series supports fewer methods."
   ]
  },
  {
   "cell_type": "code",
   "execution_count": null,
   "metadata": {
    "slideshow": {
     "slide_type": "-"
    }
   },
   "outputs": [],
   "source": []
  },
  {
   "cell_type": "markdown",
   "metadata": {
    "slideshow": {
     "slide_type": "-"
    }
   },
   "source": [
    "### Get statistics\n",
    "\n",
    "Try these on `sgd_usd_series` and `sgd_usd_df`. \n",
    "\n",
    "|  |  |\n",
    "|--|--|\n",
    "|s.sum(), df.sum() | Sum of values|\n",
    "|s.cumsum(), df.cumsum() | Cummulative sum of values |\n",
    "|s.min()/s.max(), df.min()/df.max() | Minimum/maximum values|\n",
    "|s.idxmin()/series.idxmax(), df.idxmin()/df.idxmax() | Minimum/Maximum index value|\n",
    "|s.describe(), df.describe() | Summary statistics |\n",
    "|s.mean(), df.mean() | Mean of values |\n",
    "|s.median(), df.median() | Median of values | \n",
    "\n",
    "Note: these are from the Cheatsheet"
   ]
  },
  {
   "cell_type": "code",
   "execution_count": null,
   "metadata": {
    "slideshow": {
     "slide_type": "-"
    }
   },
   "outputs": [],
   "source": []
  },
  {
   "cell_type": "markdown",
   "metadata": {
    "slideshow": {
     "slide_type": "-"
    }
   },
   "source": [
    "### Joins\n",
    "\n",
    "Let's say we need to also show Singapore Dollar and Renminbi (CNY) exchange rates, but from a different data set.\n",
    "\n",
    "This dataset is already downloaded for you in the `data` folder."
   ]
  },
  {
   "cell_type": "code",
   "execution_count": 52,
   "metadata": {
    "slideshow": {
     "slide_type": "-"
    }
   },
   "outputs": [
    {
     "name": "stdout",
     "output_type": "stream",
     "text": [
      "First 5 entries:\n"
     ]
    },
    {
     "data": {
      "text/html": [
       "<div>\n",
       "<style scoped>\n",
       "    .dataframe tbody tr th:only-of-type {\n",
       "        vertical-align: middle;\n",
       "    }\n",
       "\n",
       "    .dataframe tbody tr th {\n",
       "        vertical-align: top;\n",
       "    }\n",
       "\n",
       "    .dataframe thead th {\n",
       "        text-align: right;\n",
       "    }\n",
       "</style>\n",
       "<table border=\"1\" class=\"dataframe\">\n",
       "  <thead>\n",
       "    <tr style=\"text-align: right;\">\n",
       "      <th></th>\n",
       "      <th>Singapore Dollar to Chinese Yuan</th>\n",
       "    </tr>\n",
       "    <tr>\n",
       "      <th>Date</th>\n",
       "      <th></th>\n",
       "    </tr>\n",
       "  </thead>\n",
       "  <tbody>\n",
       "    <tr>\n",
       "      <th>2018-05-27</th>\n",
       "      <td>4.7499</td>\n",
       "    </tr>\n",
       "    <tr>\n",
       "      <th>2018-05-26</th>\n",
       "      <td>4.7620</td>\n",
       "    </tr>\n",
       "    <tr>\n",
       "      <th>2018-05-25</th>\n",
       "      <td>4.7610</td>\n",
       "    </tr>\n",
       "    <tr>\n",
       "      <th>2018-05-24</th>\n",
       "      <td>4.7618</td>\n",
       "    </tr>\n",
       "    <tr>\n",
       "      <th>2018-05-23</th>\n",
       "      <td>4.7553</td>\n",
       "    </tr>\n",
       "  </tbody>\n",
       "</table>\n",
       "</div>"
      ],
      "text/plain": [
       "            Singapore Dollar to Chinese Yuan\n",
       "Date                                        \n",
       "2018-05-27                            4.7499\n",
       "2018-05-26                            4.7620\n",
       "2018-05-25                            4.7610\n",
       "2018-05-24                            4.7618\n",
       "2018-05-23                            4.7553"
      ]
     },
     "execution_count": 52,
     "metadata": {},
     "output_type": "execute_result"
    }
   ],
   "source": [
    "# data source: https://www.exchangerates.org.uk\n",
    "sgd_cny_df = pd.read_csv('data/sgd_cny_rates_daily.csv',\n",
    "                          parse_dates=True, index_col=0, infer_datetime_format=True)\n",
    "print('First 5 entries:')\n",
    "sgd_cny_df.head(5)"
   ]
  },
  {
   "cell_type": "code",
   "execution_count": 53,
   "metadata": {
    "slideshow": {
     "slide_type": "-"
    }
   },
   "outputs": [
    {
     "name": "stdout",
     "output_type": "stream",
     "text": [
      "<class 'pandas.core.frame.DataFrame'>\n",
      "DatetimeIndex: 3224 entries, 2018-05-27 to 2009-10-06\n",
      "Data columns (total 1 columns):\n",
      "Singapore Dollar to Chinese Yuan    3224 non-null float64\n",
      "dtypes: float64(1)\n",
      "memory usage: 50.4 KB\n"
     ]
    }
   ],
   "source": [
    "sgd_cny_df.info()"
   ]
  },
  {
   "cell_type": "code",
   "execution_count": 54,
   "metadata": {
    "slideshow": {
     "slide_type": "-"
    }
   },
   "outputs": [
    {
     "name": "stdout",
     "output_type": "stream",
     "text": [
      "<class 'pandas.core.frame.DataFrame'>\n",
      "DatetimeIndex: 3993 entries, 1988-01-08 to 2015-10-19\n",
      "Data columns (total 1 columns):\n",
      "exchange_rate_usd    3993 non-null float64\n",
      "dtypes: float64(1)\n",
      "memory usage: 222.4 KB\n"
     ]
    }
   ],
   "source": [
    "sgd_usd_df.info()"
   ]
  },
  {
   "cell_type": "markdown",
   "metadata": {
    "slideshow": {
     "slide_type": "-"
    }
   },
   "source": [
    "`sgd_cny_df`: DatetimeIndex: 3224 entries, 2018-05-27 to 2009-10-06\n",
    "\n",
    "`sgd_usd_df`: DatetimeIndex: 3993 entries, 1988-01-08 to 2015-10-19\n",
    "\n",
    "- have different date ranges\n",
    "- one is in decreasing time order, the other is increasing time order \n",
    "\n",
    "Pandas DataFrames make it easy to join these datasets together based on index.\n",
    "\n",
    "You can do this without looping over the data, using `DataFrame.join()`\n",
    "\n",
    "[more info..](https://pandas.pydata.org/pandas-docs/stable/merging.html#joining-on-index)"
   ]
  },
  {
   "cell_type": "code",
   "execution_count": 83,
   "metadata": {
    "slideshow": {
     "slide_type": "-"
    }
   },
   "outputs": [
    {
     "data": {
      "text/html": [
       "<div>\n",
       "<style scoped>\n",
       "    .dataframe tbody tr th:only-of-type {\n",
       "        vertical-align: middle;\n",
       "    }\n",
       "\n",
       "    .dataframe tbody tr th {\n",
       "        vertical-align: top;\n",
       "    }\n",
       "\n",
       "    .dataframe thead th {\n",
       "        text-align: right;\n",
       "    }\n",
       "</style>\n",
       "<table border=\"1\" class=\"dataframe\">\n",
       "  <thead>\n",
       "    <tr style=\"text-align: right;\">\n",
       "      <th></th>\n",
       "      <th>exchange_rate_usd</th>\n",
       "      <th>Singapore Dollar to Chinese Yuan</th>\n",
       "    </tr>\n",
       "  </thead>\n",
       "  <tbody>\n",
       "    <tr>\n",
       "      <th>1988-01-08</th>\n",
       "      <td>2.0443</td>\n",
       "      <td>NaN</td>\n",
       "    </tr>\n",
       "    <tr>\n",
       "      <th>1988-01-15</th>\n",
       "      <td>2.0313</td>\n",
       "      <td>NaN</td>\n",
       "    </tr>\n",
       "    <tr>\n",
       "      <th>1988-01-22</th>\n",
       "      <td>2.0205</td>\n",
       "      <td>NaN</td>\n",
       "    </tr>\n",
       "    <tr>\n",
       "      <th>1988-01-29</th>\n",
       "      <td>2.0182</td>\n",
       "      <td>NaN</td>\n",
       "    </tr>\n",
       "    <tr>\n",
       "      <th>1988-02-05</th>\n",
       "      <td>2.0160</td>\n",
       "      <td>NaN</td>\n",
       "    </tr>\n",
       "    <tr>\n",
       "      <th>1988-02-12</th>\n",
       "      <td>2.0173</td>\n",
       "      <td>NaN</td>\n",
       "    </tr>\n",
       "    <tr>\n",
       "      <th>1988-02-19</th>\n",
       "      <td>2.0189</td>\n",
       "      <td>NaN</td>\n",
       "    </tr>\n",
       "    <tr>\n",
       "      <th>1988-02-26</th>\n",
       "      <td>2.0130</td>\n",
       "      <td>NaN</td>\n",
       "    </tr>\n",
       "    <tr>\n",
       "      <th>1988-03-04</th>\n",
       "      <td>2.0154</td>\n",
       "      <td>NaN</td>\n",
       "    </tr>\n",
       "    <tr>\n",
       "      <th>1988-03-11</th>\n",
       "      <td>2.0131</td>\n",
       "      <td>NaN</td>\n",
       "    </tr>\n",
       "    <tr>\n",
       "      <th>1988-03-18</th>\n",
       "      <td>2.0184</td>\n",
       "      <td>NaN</td>\n",
       "    </tr>\n",
       "    <tr>\n",
       "      <th>1988-03-25</th>\n",
       "      <td>2.0132</td>\n",
       "      <td>NaN</td>\n",
       "    </tr>\n",
       "    <tr>\n",
       "      <th>1988-03-31</th>\n",
       "      <td>2.0045</td>\n",
       "      <td>NaN</td>\n",
       "    </tr>\n",
       "    <tr>\n",
       "      <th>1988-04-08</th>\n",
       "      <td>2.0030</td>\n",
       "      <td>NaN</td>\n",
       "    </tr>\n",
       "    <tr>\n",
       "      <th>1988-04-15</th>\n",
       "      <td>2.0019</td>\n",
       "      <td>NaN</td>\n",
       "    </tr>\n",
       "    <tr>\n",
       "      <th>1988-04-22</th>\n",
       "      <td>2.0037</td>\n",
       "      <td>NaN</td>\n",
       "    </tr>\n",
       "    <tr>\n",
       "      <th>1988-04-29</th>\n",
       "      <td>2.0016</td>\n",
       "      <td>NaN</td>\n",
       "    </tr>\n",
       "    <tr>\n",
       "      <th>1988-05-06</th>\n",
       "      <td>2.0039</td>\n",
       "      <td>NaN</td>\n",
       "    </tr>\n",
       "    <tr>\n",
       "      <th>1988-05-13</th>\n",
       "      <td>2.0052</td>\n",
       "      <td>NaN</td>\n",
       "    </tr>\n",
       "    <tr>\n",
       "      <th>1988-05-20</th>\n",
       "      <td>2.0128</td>\n",
       "      <td>NaN</td>\n",
       "    </tr>\n",
       "    <tr>\n",
       "      <th>1988-05-27</th>\n",
       "      <td>2.0168</td>\n",
       "      <td>NaN</td>\n",
       "    </tr>\n",
       "    <tr>\n",
       "      <th>1988-06-03</th>\n",
       "      <td>2.0217</td>\n",
       "      <td>NaN</td>\n",
       "    </tr>\n",
       "    <tr>\n",
       "      <th>1988-06-10</th>\n",
       "      <td>2.0180</td>\n",
       "      <td>NaN</td>\n",
       "    </tr>\n",
       "    <tr>\n",
       "      <th>1988-06-17</th>\n",
       "      <td>2.0246</td>\n",
       "      <td>NaN</td>\n",
       "    </tr>\n",
       "    <tr>\n",
       "      <th>1988-06-24</th>\n",
       "      <td>2.0346</td>\n",
       "      <td>NaN</td>\n",
       "    </tr>\n",
       "    <tr>\n",
       "      <th>1988-07-01</th>\n",
       "      <td>2.0483</td>\n",
       "      <td>NaN</td>\n",
       "    </tr>\n",
       "    <tr>\n",
       "      <th>1988-07-08</th>\n",
       "      <td>2.0443</td>\n",
       "      <td>NaN</td>\n",
       "    </tr>\n",
       "    <tr>\n",
       "      <th>1988-07-15</th>\n",
       "      <td>2.0503</td>\n",
       "      <td>NaN</td>\n",
       "    </tr>\n",
       "    <tr>\n",
       "      <th>1988-07-22</th>\n",
       "      <td>2.0384</td>\n",
       "      <td>NaN</td>\n",
       "    </tr>\n",
       "    <tr>\n",
       "      <th>1988-07-29</th>\n",
       "      <td>2.0378</td>\n",
       "      <td>NaN</td>\n",
       "    </tr>\n",
       "    <tr>\n",
       "      <th>...</th>\n",
       "      <td>...</td>\n",
       "      <td>...</td>\n",
       "    </tr>\n",
       "    <tr>\n",
       "      <th>2015-09-04</th>\n",
       "      <td>1.4183</td>\n",
       "      <td>4.4619</td>\n",
       "    </tr>\n",
       "    <tr>\n",
       "      <th>2015-09-07</th>\n",
       "      <td>1.4249</td>\n",
       "      <td>4.4597</td>\n",
       "    </tr>\n",
       "    <tr>\n",
       "      <th>2015-09-08</th>\n",
       "      <td>1.4262</td>\n",
       "      <td>4.4912</td>\n",
       "    </tr>\n",
       "    <tr>\n",
       "      <th>2015-09-09</th>\n",
       "      <td>1.4140</td>\n",
       "      <td>4.4943</td>\n",
       "    </tr>\n",
       "    <tr>\n",
       "      <th>2015-09-10</th>\n",
       "      <td>1.4212</td>\n",
       "      <td>4.5138</td>\n",
       "    </tr>\n",
       "    <tr>\n",
       "      <th>2015-09-14</th>\n",
       "      <td>1.4104</td>\n",
       "      <td>4.5322</td>\n",
       "    </tr>\n",
       "    <tr>\n",
       "      <th>2015-09-15</th>\n",
       "      <td>1.4011</td>\n",
       "      <td>4.5436</td>\n",
       "    </tr>\n",
       "    <tr>\n",
       "      <th>2015-09-16</th>\n",
       "      <td>1.4008</td>\n",
       "      <td>4.5603</td>\n",
       "    </tr>\n",
       "    <tr>\n",
       "      <th>2015-09-17</th>\n",
       "      <td>1.3988</td>\n",
       "      <td>4.5562</td>\n",
       "    </tr>\n",
       "    <tr>\n",
       "      <th>2015-09-18</th>\n",
       "      <td>1.4003</td>\n",
       "      <td>4.5492</td>\n",
       "    </tr>\n",
       "    <tr>\n",
       "      <th>2015-09-21</th>\n",
       "      <td>1.4050</td>\n",
       "      <td>4.5164</td>\n",
       "    </tr>\n",
       "    <tr>\n",
       "      <th>2015-09-22</th>\n",
       "      <td>1.4128</td>\n",
       "      <td>4.4982</td>\n",
       "    </tr>\n",
       "    <tr>\n",
       "      <th>2015-09-23</th>\n",
       "      <td>1.4219</td>\n",
       "      <td>4.4760</td>\n",
       "    </tr>\n",
       "    <tr>\n",
       "      <th>2015-09-25</th>\n",
       "      <td>1.4243</td>\n",
       "      <td>4.4727</td>\n",
       "    </tr>\n",
       "    <tr>\n",
       "      <th>2015-09-28</th>\n",
       "      <td>1.4259</td>\n",
       "      <td>4.4569</td>\n",
       "    </tr>\n",
       "    <tr>\n",
       "      <th>2015-09-29</th>\n",
       "      <td>1.4319</td>\n",
       "      <td>4.4568</td>\n",
       "    </tr>\n",
       "    <tr>\n",
       "      <th>2015-09-30</th>\n",
       "      <td>1.4253</td>\n",
       "      <td>4.4652</td>\n",
       "    </tr>\n",
       "    <tr>\n",
       "      <th>2015-10-01</th>\n",
       "      <td>1.4258</td>\n",
       "      <td>4.4436</td>\n",
       "    </tr>\n",
       "    <tr>\n",
       "      <th>2015-10-02</th>\n",
       "      <td>1.4356</td>\n",
       "      <td>4.4374</td>\n",
       "    </tr>\n",
       "    <tr>\n",
       "      <th>2015-10-05</th>\n",
       "      <td>1.4318</td>\n",
       "      <td>4.4740</td>\n",
       "    </tr>\n",
       "    <tr>\n",
       "      <th>2015-10-06</th>\n",
       "      <td>1.4237</td>\n",
       "      <td>4.4741</td>\n",
       "    </tr>\n",
       "    <tr>\n",
       "      <th>2015-10-07</th>\n",
       "      <td>1.4243</td>\n",
       "      <td>4.5019</td>\n",
       "    </tr>\n",
       "    <tr>\n",
       "      <th>2015-10-08</th>\n",
       "      <td>1.4140</td>\n",
       "      <td>4.5229</td>\n",
       "    </tr>\n",
       "    <tr>\n",
       "      <th>2015-10-09</th>\n",
       "      <td>1.4018</td>\n",
       "      <td>4.5500</td>\n",
       "    </tr>\n",
       "    <tr>\n",
       "      <th>2015-10-12</th>\n",
       "      <td>1.4020</td>\n",
       "      <td>4.5191</td>\n",
       "    </tr>\n",
       "    <tr>\n",
       "      <th>2015-10-13</th>\n",
       "      <td>1.4030</td>\n",
       "      <td>4.5226</td>\n",
       "    </tr>\n",
       "    <tr>\n",
       "      <th>2015-10-14</th>\n",
       "      <td>1.3933</td>\n",
       "      <td>4.6034</td>\n",
       "    </tr>\n",
       "    <tr>\n",
       "      <th>2015-10-15</th>\n",
       "      <td>1.3763</td>\n",
       "      <td>4.5995</td>\n",
       "    </tr>\n",
       "    <tr>\n",
       "      <th>2015-10-16</th>\n",
       "      <td>1.3834</td>\n",
       "      <td>4.5894</td>\n",
       "    </tr>\n",
       "    <tr>\n",
       "      <th>2015-10-19</th>\n",
       "      <td>1.3827</td>\n",
       "      <td>4.5781</td>\n",
       "    </tr>\n",
       "  </tbody>\n",
       "</table>\n",
       "<p>4041 rows × 2 columns</p>\n",
       "</div>"
      ],
      "text/plain": [
       "            exchange_rate_usd  Singapore Dollar to Chinese Yuan\n",
       "1988-01-08             2.0443                               NaN\n",
       "1988-01-15             2.0313                               NaN\n",
       "1988-01-22             2.0205                               NaN\n",
       "1988-01-29             2.0182                               NaN\n",
       "1988-02-05             2.0160                               NaN\n",
       "1988-02-12             2.0173                               NaN\n",
       "1988-02-19             2.0189                               NaN\n",
       "1988-02-26             2.0130                               NaN\n",
       "1988-03-04             2.0154                               NaN\n",
       "1988-03-11             2.0131                               NaN\n",
       "1988-03-18             2.0184                               NaN\n",
       "1988-03-25             2.0132                               NaN\n",
       "1988-03-31             2.0045                               NaN\n",
       "1988-04-08             2.0030                               NaN\n",
       "1988-04-15             2.0019                               NaN\n",
       "1988-04-22             2.0037                               NaN\n",
       "1988-04-29             2.0016                               NaN\n",
       "1988-05-06             2.0039                               NaN\n",
       "1988-05-13             2.0052                               NaN\n",
       "1988-05-20             2.0128                               NaN\n",
       "1988-05-27             2.0168                               NaN\n",
       "1988-06-03             2.0217                               NaN\n",
       "1988-06-10             2.0180                               NaN\n",
       "1988-06-17             2.0246                               NaN\n",
       "1988-06-24             2.0346                               NaN\n",
       "1988-07-01             2.0483                               NaN\n",
       "1988-07-08             2.0443                               NaN\n",
       "1988-07-15             2.0503                               NaN\n",
       "1988-07-22             2.0384                               NaN\n",
       "1988-07-29             2.0378                               NaN\n",
       "...                       ...                               ...\n",
       "2015-09-04             1.4183                            4.4619\n",
       "2015-09-07             1.4249                            4.4597\n",
       "2015-09-08             1.4262                            4.4912\n",
       "2015-09-09             1.4140                            4.4943\n",
       "2015-09-10             1.4212                            4.5138\n",
       "2015-09-14             1.4104                            4.5322\n",
       "2015-09-15             1.4011                            4.5436\n",
       "2015-09-16             1.4008                            4.5603\n",
       "2015-09-17             1.3988                            4.5562\n",
       "2015-09-18             1.4003                            4.5492\n",
       "2015-09-21             1.4050                            4.5164\n",
       "2015-09-22             1.4128                            4.4982\n",
       "2015-09-23             1.4219                            4.4760\n",
       "2015-09-25             1.4243                            4.4727\n",
       "2015-09-28             1.4259                            4.4569\n",
       "2015-09-29             1.4319                            4.4568\n",
       "2015-09-30             1.4253                            4.4652\n",
       "2015-10-01             1.4258                            4.4436\n",
       "2015-10-02             1.4356                            4.4374\n",
       "2015-10-05             1.4318                            4.4740\n",
       "2015-10-06             1.4237                            4.4741\n",
       "2015-10-07             1.4243                            4.5019\n",
       "2015-10-08             1.4140                            4.5229\n",
       "2015-10-09             1.4018                            4.5500\n",
       "2015-10-12             1.4020                            4.5191\n",
       "2015-10-13             1.4030                            4.5226\n",
       "2015-10-14             1.3933                            4.6034\n",
       "2015-10-15             1.3763                            4.5995\n",
       "2015-10-16             1.3834                            4.5894\n",
       "2015-10-19             1.3827                            4.5781\n",
       "\n",
       "[4041 rows x 2 columns]"
      ]
     },
     "execution_count": 83,
     "metadata": {},
     "output_type": "execute_result"
    }
   ],
   "source": [
    "# Default join is an `left` join, where the index of the left series (`sgd_usd_df`) is preserved.\n",
    "\n",
    "sgd_usd_cny = sgd_usd_df.join(sgd_cny_df)\n",
    "sgd_usd_cny"
   ]
  },
  {
   "cell_type": "markdown",
   "metadata": {
    "slideshow": {
     "slide_type": "-"
    }
   },
   "source": [
    "We can remove the NaN entries using dropna()"
   ]
  },
  {
   "cell_type": "code",
   "execution_count": 84,
   "metadata": {
    "slideshow": {
     "slide_type": "-"
    }
   },
   "outputs": [
    {
     "data": {
      "text/html": [
       "<div>\n",
       "<style scoped>\n",
       "    .dataframe tbody tr th:only-of-type {\n",
       "        vertical-align: middle;\n",
       "    }\n",
       "\n",
       "    .dataframe tbody tr th {\n",
       "        vertical-align: top;\n",
       "    }\n",
       "\n",
       "    .dataframe thead th {\n",
       "        text-align: right;\n",
       "    }\n",
       "</style>\n",
       "<table border=\"1\" class=\"dataframe\">\n",
       "  <thead>\n",
       "    <tr style=\"text-align: right;\">\n",
       "      <th></th>\n",
       "      <th>exchange_rate_usd</th>\n",
       "      <th>Singapore Dollar to Chinese Yuan</th>\n",
       "    </tr>\n",
       "  </thead>\n",
       "  <tbody>\n",
       "    <tr>\n",
       "      <th>2009-10-06</th>\n",
       "      <td>1.4046</td>\n",
       "      <td>4.8734</td>\n",
       "    </tr>\n",
       "    <tr>\n",
       "      <th>2009-10-07</th>\n",
       "      <td>1.4031</td>\n",
       "      <td>4.8754</td>\n",
       "    </tr>\n",
       "    <tr>\n",
       "      <th>2009-10-08</th>\n",
       "      <td>1.3949</td>\n",
       "      <td>4.9082</td>\n",
       "    </tr>\n",
       "    <tr>\n",
       "      <th>2009-10-09</th>\n",
       "      <td>1.3918</td>\n",
       "      <td>4.9039</td>\n",
       "    </tr>\n",
       "    <tr>\n",
       "      <th>2009-10-12</th>\n",
       "      <td>1.4014</td>\n",
       "      <td>4.8791</td>\n",
       "    </tr>\n",
       "    <tr>\n",
       "      <th>2009-10-13</th>\n",
       "      <td>1.3972</td>\n",
       "      <td>4.8871</td>\n",
       "    </tr>\n",
       "    <tr>\n",
       "      <th>2009-10-14</th>\n",
       "      <td>1.3939</td>\n",
       "      <td>4.9050</td>\n",
       "    </tr>\n",
       "    <tr>\n",
       "      <th>2009-10-15</th>\n",
       "      <td>1.3861</td>\n",
       "      <td>4.9157</td>\n",
       "    </tr>\n",
       "    <tr>\n",
       "      <th>2009-10-16</th>\n",
       "      <td>1.3884</td>\n",
       "      <td>4.9051</td>\n",
       "    </tr>\n",
       "    <tr>\n",
       "      <th>2009-10-19</th>\n",
       "      <td>1.3953</td>\n",
       "      <td>4.9037</td>\n",
       "    </tr>\n",
       "    <tr>\n",
       "      <th>2009-10-20</th>\n",
       "      <td>1.3882</td>\n",
       "      <td>4.9037</td>\n",
       "    </tr>\n",
       "    <tr>\n",
       "      <th>2009-10-21</th>\n",
       "      <td>1.3951</td>\n",
       "      <td>4.9015</td>\n",
       "    </tr>\n",
       "    <tr>\n",
       "      <th>2009-10-22</th>\n",
       "      <td>1.3964</td>\n",
       "      <td>4.8969</td>\n",
       "    </tr>\n",
       "    <tr>\n",
       "      <th>2009-10-23</th>\n",
       "      <td>1.3928</td>\n",
       "      <td>4.9017</td>\n",
       "    </tr>\n",
       "    <tr>\n",
       "      <th>2009-10-26</th>\n",
       "      <td>1.3925</td>\n",
       "      <td>4.8957</td>\n",
       "    </tr>\n",
       "    <tr>\n",
       "      <th>2009-10-27</th>\n",
       "      <td>1.3976</td>\n",
       "      <td>4.8869</td>\n",
       "    </tr>\n",
       "    <tr>\n",
       "      <th>2009-10-28</th>\n",
       "      <td>1.3995</td>\n",
       "      <td>4.8742</td>\n",
       "    </tr>\n",
       "    <tr>\n",
       "      <th>2009-10-29</th>\n",
       "      <td>1.4039</td>\n",
       "      <td>4.8788</td>\n",
       "    </tr>\n",
       "    <tr>\n",
       "      <th>2009-10-30</th>\n",
       "      <td>1.3968</td>\n",
       "      <td>4.8838</td>\n",
       "    </tr>\n",
       "    <tr>\n",
       "      <th>2009-11-02</th>\n",
       "      <td>1.4004</td>\n",
       "      <td>4.8791</td>\n",
       "    </tr>\n",
       "    <tr>\n",
       "      <th>2009-11-03</th>\n",
       "      <td>1.3976</td>\n",
       "      <td>4.8768</td>\n",
       "    </tr>\n",
       "    <tr>\n",
       "      <th>2009-11-04</th>\n",
       "      <td>1.3998</td>\n",
       "      <td>4.8842</td>\n",
       "    </tr>\n",
       "    <tr>\n",
       "      <th>2009-11-05</th>\n",
       "      <td>1.3975</td>\n",
       "      <td>4.8901</td>\n",
       "    </tr>\n",
       "    <tr>\n",
       "      <th>2009-11-06</th>\n",
       "      <td>1.3946</td>\n",
       "      <td>4.9008</td>\n",
       "    </tr>\n",
       "    <tr>\n",
       "      <th>2009-11-09</th>\n",
       "      <td>1.3884</td>\n",
       "      <td>4.9223</td>\n",
       "    </tr>\n",
       "    <tr>\n",
       "      <th>2009-11-10</th>\n",
       "      <td>1.3882</td>\n",
       "      <td>4.9190</td>\n",
       "    </tr>\n",
       "    <tr>\n",
       "      <th>2009-11-11</th>\n",
       "      <td>1.3874</td>\n",
       "      <td>4.9240</td>\n",
       "    </tr>\n",
       "    <tr>\n",
       "      <th>2009-11-12</th>\n",
       "      <td>1.3865</td>\n",
       "      <td>4.9194</td>\n",
       "    </tr>\n",
       "    <tr>\n",
       "      <th>2009-11-13</th>\n",
       "      <td>1.3890</td>\n",
       "      <td>4.9221</td>\n",
       "    </tr>\n",
       "    <tr>\n",
       "      <th>2009-11-16</th>\n",
       "      <td>1.3848</td>\n",
       "      <td>4.9291</td>\n",
       "    </tr>\n",
       "    <tr>\n",
       "      <th>...</th>\n",
       "      <td>...</td>\n",
       "      <td>...</td>\n",
       "    </tr>\n",
       "    <tr>\n",
       "      <th>2015-09-04</th>\n",
       "      <td>1.4183</td>\n",
       "      <td>4.4619</td>\n",
       "    </tr>\n",
       "    <tr>\n",
       "      <th>2015-09-07</th>\n",
       "      <td>1.4249</td>\n",
       "      <td>4.4597</td>\n",
       "    </tr>\n",
       "    <tr>\n",
       "      <th>2015-09-08</th>\n",
       "      <td>1.4262</td>\n",
       "      <td>4.4912</td>\n",
       "    </tr>\n",
       "    <tr>\n",
       "      <th>2015-09-09</th>\n",
       "      <td>1.4140</td>\n",
       "      <td>4.4943</td>\n",
       "    </tr>\n",
       "    <tr>\n",
       "      <th>2015-09-10</th>\n",
       "      <td>1.4212</td>\n",
       "      <td>4.5138</td>\n",
       "    </tr>\n",
       "    <tr>\n",
       "      <th>2015-09-14</th>\n",
       "      <td>1.4104</td>\n",
       "      <td>4.5322</td>\n",
       "    </tr>\n",
       "    <tr>\n",
       "      <th>2015-09-15</th>\n",
       "      <td>1.4011</td>\n",
       "      <td>4.5436</td>\n",
       "    </tr>\n",
       "    <tr>\n",
       "      <th>2015-09-16</th>\n",
       "      <td>1.4008</td>\n",
       "      <td>4.5603</td>\n",
       "    </tr>\n",
       "    <tr>\n",
       "      <th>2015-09-17</th>\n",
       "      <td>1.3988</td>\n",
       "      <td>4.5562</td>\n",
       "    </tr>\n",
       "    <tr>\n",
       "      <th>2015-09-18</th>\n",
       "      <td>1.4003</td>\n",
       "      <td>4.5492</td>\n",
       "    </tr>\n",
       "    <tr>\n",
       "      <th>2015-09-21</th>\n",
       "      <td>1.4050</td>\n",
       "      <td>4.5164</td>\n",
       "    </tr>\n",
       "    <tr>\n",
       "      <th>2015-09-22</th>\n",
       "      <td>1.4128</td>\n",
       "      <td>4.4982</td>\n",
       "    </tr>\n",
       "    <tr>\n",
       "      <th>2015-09-23</th>\n",
       "      <td>1.4219</td>\n",
       "      <td>4.4760</td>\n",
       "    </tr>\n",
       "    <tr>\n",
       "      <th>2015-09-25</th>\n",
       "      <td>1.4243</td>\n",
       "      <td>4.4727</td>\n",
       "    </tr>\n",
       "    <tr>\n",
       "      <th>2015-09-28</th>\n",
       "      <td>1.4259</td>\n",
       "      <td>4.4569</td>\n",
       "    </tr>\n",
       "    <tr>\n",
       "      <th>2015-09-29</th>\n",
       "      <td>1.4319</td>\n",
       "      <td>4.4568</td>\n",
       "    </tr>\n",
       "    <tr>\n",
       "      <th>2015-09-30</th>\n",
       "      <td>1.4253</td>\n",
       "      <td>4.4652</td>\n",
       "    </tr>\n",
       "    <tr>\n",
       "      <th>2015-10-01</th>\n",
       "      <td>1.4258</td>\n",
       "      <td>4.4436</td>\n",
       "    </tr>\n",
       "    <tr>\n",
       "      <th>2015-10-02</th>\n",
       "      <td>1.4356</td>\n",
       "      <td>4.4374</td>\n",
       "    </tr>\n",
       "    <tr>\n",
       "      <th>2015-10-05</th>\n",
       "      <td>1.4318</td>\n",
       "      <td>4.4740</td>\n",
       "    </tr>\n",
       "    <tr>\n",
       "      <th>2015-10-06</th>\n",
       "      <td>1.4237</td>\n",
       "      <td>4.4741</td>\n",
       "    </tr>\n",
       "    <tr>\n",
       "      <th>2015-10-07</th>\n",
       "      <td>1.4243</td>\n",
       "      <td>4.5019</td>\n",
       "    </tr>\n",
       "    <tr>\n",
       "      <th>2015-10-08</th>\n",
       "      <td>1.4140</td>\n",
       "      <td>4.5229</td>\n",
       "    </tr>\n",
       "    <tr>\n",
       "      <th>2015-10-09</th>\n",
       "      <td>1.4018</td>\n",
       "      <td>4.5500</td>\n",
       "    </tr>\n",
       "    <tr>\n",
       "      <th>2015-10-12</th>\n",
       "      <td>1.4020</td>\n",
       "      <td>4.5191</td>\n",
       "    </tr>\n",
       "    <tr>\n",
       "      <th>2015-10-13</th>\n",
       "      <td>1.4030</td>\n",
       "      <td>4.5226</td>\n",
       "    </tr>\n",
       "    <tr>\n",
       "      <th>2015-10-14</th>\n",
       "      <td>1.3933</td>\n",
       "      <td>4.6034</td>\n",
       "    </tr>\n",
       "    <tr>\n",
       "      <th>2015-10-15</th>\n",
       "      <td>1.3763</td>\n",
       "      <td>4.5995</td>\n",
       "    </tr>\n",
       "    <tr>\n",
       "      <th>2015-10-16</th>\n",
       "      <td>1.3834</td>\n",
       "      <td>4.5894</td>\n",
       "    </tr>\n",
       "    <tr>\n",
       "      <th>2015-10-19</th>\n",
       "      <td>1.3827</td>\n",
       "      <td>4.5781</td>\n",
       "    </tr>\n",
       "  </tbody>\n",
       "</table>\n",
       "<p>1562 rows × 2 columns</p>\n",
       "</div>"
      ],
      "text/plain": [
       "            exchange_rate_usd  Singapore Dollar to Chinese Yuan\n",
       "2009-10-06             1.4046                            4.8734\n",
       "2009-10-07             1.4031                            4.8754\n",
       "2009-10-08             1.3949                            4.9082\n",
       "2009-10-09             1.3918                            4.9039\n",
       "2009-10-12             1.4014                            4.8791\n",
       "2009-10-13             1.3972                            4.8871\n",
       "2009-10-14             1.3939                            4.9050\n",
       "2009-10-15             1.3861                            4.9157\n",
       "2009-10-16             1.3884                            4.9051\n",
       "2009-10-19             1.3953                            4.9037\n",
       "2009-10-20             1.3882                            4.9037\n",
       "2009-10-21             1.3951                            4.9015\n",
       "2009-10-22             1.3964                            4.8969\n",
       "2009-10-23             1.3928                            4.9017\n",
       "2009-10-26             1.3925                            4.8957\n",
       "2009-10-27             1.3976                            4.8869\n",
       "2009-10-28             1.3995                            4.8742\n",
       "2009-10-29             1.4039                            4.8788\n",
       "2009-10-30             1.3968                            4.8838\n",
       "2009-11-02             1.4004                            4.8791\n",
       "2009-11-03             1.3976                            4.8768\n",
       "2009-11-04             1.3998                            4.8842\n",
       "2009-11-05             1.3975                            4.8901\n",
       "2009-11-06             1.3946                            4.9008\n",
       "2009-11-09             1.3884                            4.9223\n",
       "2009-11-10             1.3882                            4.9190\n",
       "2009-11-11             1.3874                            4.9240\n",
       "2009-11-12             1.3865                            4.9194\n",
       "2009-11-13             1.3890                            4.9221\n",
       "2009-11-16             1.3848                            4.9291\n",
       "...                       ...                               ...\n",
       "2015-09-04             1.4183                            4.4619\n",
       "2015-09-07             1.4249                            4.4597\n",
       "2015-09-08             1.4262                            4.4912\n",
       "2015-09-09             1.4140                            4.4943\n",
       "2015-09-10             1.4212                            4.5138\n",
       "2015-09-14             1.4104                            4.5322\n",
       "2015-09-15             1.4011                            4.5436\n",
       "2015-09-16             1.4008                            4.5603\n",
       "2015-09-17             1.3988                            4.5562\n",
       "2015-09-18             1.4003                            4.5492\n",
       "2015-09-21             1.4050                            4.5164\n",
       "2015-09-22             1.4128                            4.4982\n",
       "2015-09-23             1.4219                            4.4760\n",
       "2015-09-25             1.4243                            4.4727\n",
       "2015-09-28             1.4259                            4.4569\n",
       "2015-09-29             1.4319                            4.4568\n",
       "2015-09-30             1.4253                            4.4652\n",
       "2015-10-01             1.4258                            4.4436\n",
       "2015-10-02             1.4356                            4.4374\n",
       "2015-10-05             1.4318                            4.4740\n",
       "2015-10-06             1.4237                            4.4741\n",
       "2015-10-07             1.4243                            4.5019\n",
       "2015-10-08             1.4140                            4.5229\n",
       "2015-10-09             1.4018                            4.5500\n",
       "2015-10-12             1.4020                            4.5191\n",
       "2015-10-13             1.4030                            4.5226\n",
       "2015-10-14             1.3933                            4.6034\n",
       "2015-10-15             1.3763                            4.5995\n",
       "2015-10-16             1.3834                            4.5894\n",
       "2015-10-19             1.3827                            4.5781\n",
       "\n",
       "[1562 rows x 2 columns]"
      ]
     },
     "execution_count": 84,
     "metadata": {},
     "output_type": "execute_result"
    }
   ],
   "source": [
    "sgd_usd_cny = sgd_usd_cny.dropna()\n",
    "sgd_usd_cny"
   ]
  },
  {
   "cell_type": "markdown",
   "metadata": {
    "slideshow": {
     "slide_type": "-"
    }
   },
   "source": [
    "The result is a DataFrame with entries where both exchange rates are present.\n",
    "\n",
    "Entries where either SGD-USD or SGD-CNY are missing are excluded.\n",
    "\n",
    "Note that even though the index for the series are in different order, join will still work because it matches the individual index values"
   ]
  },
  {
   "cell_type": "markdown",
   "metadata": {
    "slideshow": {
     "slide_type": "-"
    }
   },
   "source": [
    "### When in doubt, visualize"
   ]
  },
  {
   "cell_type": "markdown",
   "metadata": {
    "slideshow": {
     "slide_type": "-"
    }
   },
   "source": [
    "Let's visualize what we just did by plotting the dataframes.\n",
    "\n",
    "You should have already installed matplotlib. If not, do this:\n",
    "```\n",
    "conda install matplotlib\n",
    "```"
   ]
  },
  {
   "cell_type": "code",
   "execution_count": 85,
   "metadata": {},
   "outputs": [
    {
     "data": {
      "text/plain": [
       "Index(['exchange_rate_usd', 'Singapore Dollar to Chinese Yuan'], dtype='object')"
      ]
     },
     "execution_count": 85,
     "metadata": {},
     "output_type": "execute_result"
    }
   ],
   "source": [
    "# Find the names of the columns\n",
    "sgd_usd_cny.columns"
   ]
  },
  {
   "cell_type": "code",
   "execution_count": 86,
   "metadata": {},
   "outputs": [
    {
     "data": {
      "image/png": "[encoded data removed]",
      "text/plain": [
       "<matplotlib.figure.Figure at 0x2ab5e64be48>"
      ]
     },
     "metadata": {},
     "output_type": "display_data"
    }
   ],
   "source": [
    "import matplotlib.pyplot as plt\n",
    "\n",
    "fig, (ax1, ax2) = plt.subplots(nrows=2, ncols=1, figsize=(20,15),\n",
    "                              sharex=True) # common x-axis for all subplots\n",
    "\n",
    "ax1.set_title('Original series')\n",
    "ax1.plot(sgd_usd_df, label='SGD/USD')\n",
    "ax1.plot(sgd_cny_df, label='SGD/CNY')\n",
    "ax1.legend(loc='upper center', shadow=True, fontsize='x-large')\n",
    "\n",
    "ax2.set_title('After join() and dropna()')\n",
    "ax2.plot(sgd_usd_cny['exchange_rate_usd'], label='SGD/USD')\n",
    "ax2.plot(sgd_usd_cny['Singapore Dollar to Chinese Yuan'], label='SGD/CNY')\n",
    "ax2.legend(loc='upper center', shadow=True, fontsize='x-large')\n",
    "\n",
    "plt.show()"
   ]
  },
  {
   "cell_type": "markdown",
   "metadata": {
    "slideshow": {
     "slide_type": "-"
    }
   },
   "source": [
    "### Exercise\n",
    "\n",
    "1. Repeat the above using other types of join, such as `outer`\n",
    "\n",
    "2. What happens if you join the SGD/CNY DataFrame with the SGD/USD DataFrame?\n",
    "\n",
    "```\n",
    "sgd_cny_usd = sgd_cny_df.join(sgd_usd_df)\n",
    "```"
   ]
  },
  {
   "cell_type": "markdown",
   "metadata": {
    "slideshow": {
     "slide_type": "-"
    }
   },
   "source": [
    "### Pandas, like SQL\n",
    "\n",
    "If you have worked with SQL or databases before, the DataFrame.join() is conceptually the same as SQL.\n",
    "\n",
    "[Here's](https://pandas.pydata.org/pandas-docs/stable/comparison_with_sql.html) a guide that compares Pandas with SQL.\n",
    "\n",
    "We'll do an example with queries to demonstrate how you can think of Pandas as conceptually equivalent to SQL."
   ]
  },
  {
   "cell_type": "markdown",
   "metadata": {
    "slideshow": {
     "slide_type": "-"
    }
   },
   "source": [
    "### Exercise: Querying a DataFrame\n",
    "\n",
    "Let's say you want to query a DataFrame using something equivalent to this SQL syntax:\n",
    "\n",
    "```\n",
    "SELECT *\n",
    "FROM sgd_usd_cny\n",
    "WHERE date >= '2012-01-01' AND date < '2013-01-01';\n",
    "```\n",
    "\n",
    "What will you use in Pandas?"
   ]
  },
  {
   "cell_type": "code",
   "execution_count": 235,
   "metadata": {
    "slideshow": {
     "slide_type": "-"
    }
   },
   "outputs": [
    {
     "data": {
      "text/html": [
       "<div>\n",
       "<style scoped>\n",
       "    .dataframe tbody tr th:only-of-type {\n",
       "        vertical-align: middle;\n",
       "    }\n",
       "\n",
       "    .dataframe tbody tr th {\n",
       "        vertical-align: top;\n",
       "    }\n",
       "\n",
       "    .dataframe thead th {\n",
       "        text-align: right;\n",
       "    }\n",
       "</style>\n",
       "<table border=\"1\" class=\"dataframe\">\n",
       "  <thead>\n",
       "    <tr style=\"text-align: right;\">\n",
       "      <th></th>\n",
       "      <th>exchange_rate_usd</th>\n",
       "      <th>Singapore Dollar to Chinese Yuan</th>\n",
       "    </tr>\n",
       "  </thead>\n",
       "  <tbody>\n",
       "    <tr>\n",
       "      <th>2012-01-03</th>\n",
       "      <td>1.2925</td>\n",
       "      <td>4.9014</td>\n",
       "    </tr>\n",
       "    <tr>\n",
       "      <th>2012-01-03</th>\n",
       "      <td>1.2925</td>\n",
       "      <td>4.9014</td>\n",
       "    </tr>\n",
       "    <tr>\n",
       "      <th>2012-01-04</th>\n",
       "      <td>1.2874</td>\n",
       "      <td>4.8855</td>\n",
       "    </tr>\n",
       "    <tr>\n",
       "      <th>2012-01-05</th>\n",
       "      <td>1.2883</td>\n",
       "      <td>4.8782</td>\n",
       "    </tr>\n",
       "    <tr>\n",
       "      <th>2012-01-06</th>\n",
       "      <td>1.2923</td>\n",
       "      <td>4.8732</td>\n",
       "    </tr>\n",
       "    <tr>\n",
       "      <th>2012-01-09</th>\n",
       "      <td>1.2994</td>\n",
       "      <td>4.8772</td>\n",
       "    </tr>\n",
       "    <tr>\n",
       "      <th>2012-01-10</th>\n",
       "      <td>1.2912</td>\n",
       "      <td>4.8950</td>\n",
       "    </tr>\n",
       "    <tr>\n",
       "      <th>2012-01-11</th>\n",
       "      <td>1.2925</td>\n",
       "      <td>4.8928</td>\n",
       "    </tr>\n",
       "    <tr>\n",
       "      <th>2012-01-12</th>\n",
       "      <td>1.2928</td>\n",
       "      <td>4.8999</td>\n",
       "    </tr>\n",
       "    <tr>\n",
       "      <th>2012-01-13</th>\n",
       "      <td>1.2882</td>\n",
       "      <td>4.8787</td>\n",
       "    </tr>\n",
       "    <tr>\n",
       "      <th>2012-01-13</th>\n",
       "      <td>1.2882</td>\n",
       "      <td>4.8787</td>\n",
       "    </tr>\n",
       "    <tr>\n",
       "      <th>2012-01-16</th>\n",
       "      <td>1.2926</td>\n",
       "      <td>4.8920</td>\n",
       "    </tr>\n",
       "    <tr>\n",
       "      <th>2012-01-17</th>\n",
       "      <td>1.2862</td>\n",
       "      <td>4.9155</td>\n",
       "    </tr>\n",
       "    <tr>\n",
       "      <th>2012-01-18</th>\n",
       "      <td>1.2820</td>\n",
       "      <td>4.9423</td>\n",
       "    </tr>\n",
       "    <tr>\n",
       "      <th>2012-01-18</th>\n",
       "      <td>1.2820</td>\n",
       "      <td>4.9423</td>\n",
       "    </tr>\n",
       "    <tr>\n",
       "      <th>2012-01-19</th>\n",
       "      <td>1.2777</td>\n",
       "      <td>4.9652</td>\n",
       "    </tr>\n",
       "    <tr>\n",
       "      <th>2012-01-19</th>\n",
       "      <td>1.2777</td>\n",
       "      <td>4.9652</td>\n",
       "    </tr>\n",
       "    <tr>\n",
       "      <th>2012-01-19</th>\n",
       "      <td>1.2777</td>\n",
       "      <td>4.9652</td>\n",
       "    </tr>\n",
       "    <tr>\n",
       "      <th>2012-01-20</th>\n",
       "      <td>1.2736</td>\n",
       "      <td>4.9805</td>\n",
       "    </tr>\n",
       "    <tr>\n",
       "      <th>2012-01-25</th>\n",
       "      <td>1.2668</td>\n",
       "      <td>5.0265</td>\n",
       "    </tr>\n",
       "    <tr>\n",
       "      <th>2012-01-26</th>\n",
       "      <td>1.2584</td>\n",
       "      <td>5.0325</td>\n",
       "    </tr>\n",
       "    <tr>\n",
       "      <th>2012-01-27</th>\n",
       "      <td>1.2581</td>\n",
       "      <td>5.0622</td>\n",
       "    </tr>\n",
       "    <tr>\n",
       "      <th>2012-01-30</th>\n",
       "      <td>1.2542</td>\n",
       "      <td>5.0337</td>\n",
       "    </tr>\n",
       "    <tr>\n",
       "      <th>2012-01-31</th>\n",
       "      <td>1.2547</td>\n",
       "      <td>5.0142</td>\n",
       "    </tr>\n",
       "    <tr>\n",
       "      <th>2012-02-01</th>\n",
       "      <td>1.2567</td>\n",
       "      <td>5.0448</td>\n",
       "    </tr>\n",
       "    <tr>\n",
       "      <th>2012-02-02</th>\n",
       "      <td>1.2465</td>\n",
       "      <td>5.0508</td>\n",
       "    </tr>\n",
       "    <tr>\n",
       "      <th>2012-02-03</th>\n",
       "      <td>1.2484</td>\n",
       "      <td>5.0744</td>\n",
       "    </tr>\n",
       "    <tr>\n",
       "      <th>2012-02-06</th>\n",
       "      <td>1.2447</td>\n",
       "      <td>5.0531</td>\n",
       "    </tr>\n",
       "    <tr>\n",
       "      <th>2012-02-07</th>\n",
       "      <td>1.2481</td>\n",
       "      <td>5.0604</td>\n",
       "    </tr>\n",
       "    <tr>\n",
       "      <th>2012-02-08</th>\n",
       "      <td>1.2435</td>\n",
       "      <td>5.0499</td>\n",
       "    </tr>\n",
       "    <tr>\n",
       "      <th>...</th>\n",
       "      <td>...</td>\n",
       "      <td>...</td>\n",
       "    </tr>\n",
       "    <tr>\n",
       "      <th>2012-11-19</th>\n",
       "      <td>1.2250</td>\n",
       "      <td>5.0903</td>\n",
       "    </tr>\n",
       "    <tr>\n",
       "      <th>2012-11-20</th>\n",
       "      <td>1.2233</td>\n",
       "      <td>5.0905</td>\n",
       "    </tr>\n",
       "    <tr>\n",
       "      <th>2012-11-21</th>\n",
       "      <td>1.2269</td>\n",
       "      <td>5.0885</td>\n",
       "    </tr>\n",
       "    <tr>\n",
       "      <th>2012-11-22</th>\n",
       "      <td>1.2251</td>\n",
       "      <td>5.0851</td>\n",
       "    </tr>\n",
       "    <tr>\n",
       "      <th>2012-11-23</th>\n",
       "      <td>1.2246</td>\n",
       "      <td>5.0944</td>\n",
       "    </tr>\n",
       "    <tr>\n",
       "      <th>2012-11-26</th>\n",
       "      <td>1.2229</td>\n",
       "      <td>5.0970</td>\n",
       "    </tr>\n",
       "    <tr>\n",
       "      <th>2012-11-27</th>\n",
       "      <td>1.2217</td>\n",
       "      <td>5.0892</td>\n",
       "    </tr>\n",
       "    <tr>\n",
       "      <th>2012-11-28</th>\n",
       "      <td>1.2227</td>\n",
       "      <td>5.0932</td>\n",
       "    </tr>\n",
       "    <tr>\n",
       "      <th>2012-11-29</th>\n",
       "      <td>1.2220</td>\n",
       "      <td>5.1004</td>\n",
       "    </tr>\n",
       "    <tr>\n",
       "      <th>2012-11-30</th>\n",
       "      <td>1.2209</td>\n",
       "      <td>5.1012</td>\n",
       "    </tr>\n",
       "    <tr>\n",
       "      <th>2012-12-03</th>\n",
       "      <td>1.2206</td>\n",
       "      <td>5.1128</td>\n",
       "    </tr>\n",
       "    <tr>\n",
       "      <th>2012-12-04</th>\n",
       "      <td>1.2190</td>\n",
       "      <td>5.1125</td>\n",
       "    </tr>\n",
       "    <tr>\n",
       "      <th>2012-12-05</th>\n",
       "      <td>1.2186</td>\n",
       "      <td>5.1086</td>\n",
       "    </tr>\n",
       "    <tr>\n",
       "      <th>2012-12-06</th>\n",
       "      <td>1.2200</td>\n",
       "      <td>5.1029</td>\n",
       "    </tr>\n",
       "    <tr>\n",
       "      <th>2012-12-07</th>\n",
       "      <td>1.2210</td>\n",
       "      <td>5.1029</td>\n",
       "    </tr>\n",
       "    <tr>\n",
       "      <th>2012-12-10</th>\n",
       "      <td>1.2220</td>\n",
       "      <td>5.0976</td>\n",
       "    </tr>\n",
       "    <tr>\n",
       "      <th>2012-12-11</th>\n",
       "      <td>1.2224</td>\n",
       "      <td>5.1170</td>\n",
       "    </tr>\n",
       "    <tr>\n",
       "      <th>2012-12-12</th>\n",
       "      <td>1.2213</td>\n",
       "      <td>5.1216</td>\n",
       "    </tr>\n",
       "    <tr>\n",
       "      <th>2012-12-13</th>\n",
       "      <td>1.2210</td>\n",
       "      <td>5.1025</td>\n",
       "    </tr>\n",
       "    <tr>\n",
       "      <th>2012-12-14</th>\n",
       "      <td>1.2214</td>\n",
       "      <td>5.1191</td>\n",
       "    </tr>\n",
       "    <tr>\n",
       "      <th>2012-12-17</th>\n",
       "      <td>1.2202</td>\n",
       "      <td>5.1164</td>\n",
       "    </tr>\n",
       "    <tr>\n",
       "      <th>2012-12-18</th>\n",
       "      <td>1.2196</td>\n",
       "      <td>5.1253</td>\n",
       "    </tr>\n",
       "    <tr>\n",
       "      <th>2012-12-19</th>\n",
       "      <td>1.2190</td>\n",
       "      <td>5.1153</td>\n",
       "    </tr>\n",
       "    <tr>\n",
       "      <th>2012-12-20</th>\n",
       "      <td>1.2201</td>\n",
       "      <td>5.1223</td>\n",
       "    </tr>\n",
       "    <tr>\n",
       "      <th>2012-12-21</th>\n",
       "      <td>1.2204</td>\n",
       "      <td>5.1127</td>\n",
       "    </tr>\n",
       "    <tr>\n",
       "      <th>2012-12-24</th>\n",
       "      <td>1.2215</td>\n",
       "      <td>5.1033</td>\n",
       "    </tr>\n",
       "    <tr>\n",
       "      <th>2012-12-26</th>\n",
       "      <td>1.2237</td>\n",
       "      <td>5.0946</td>\n",
       "    </tr>\n",
       "    <tr>\n",
       "      <th>2012-12-27</th>\n",
       "      <td>1.2232</td>\n",
       "      <td>5.0988</td>\n",
       "    </tr>\n",
       "    <tr>\n",
       "      <th>2012-12-28</th>\n",
       "      <td>1.2235</td>\n",
       "      <td>5.0919</td>\n",
       "    </tr>\n",
       "    <tr>\n",
       "      <th>2012-12-31</th>\n",
       "      <td>1.2221</td>\n",
       "      <td>5.0999</td>\n",
       "    </tr>\n",
       "  </tbody>\n",
       "</table>\n",
       "<p>256 rows × 2 columns</p>\n",
       "</div>"
      ],
      "text/plain": [
       "            exchange_rate_usd  Singapore Dollar to Chinese Yuan\n",
       "2012-01-03             1.2925                            4.9014\n",
       "2012-01-03             1.2925                            4.9014\n",
       "2012-01-04             1.2874                            4.8855\n",
       "2012-01-05             1.2883                            4.8782\n",
       "2012-01-06             1.2923                            4.8732\n",
       "2012-01-09             1.2994                            4.8772\n",
       "2012-01-10             1.2912                            4.8950\n",
       "2012-01-11             1.2925                            4.8928\n",
       "2012-01-12             1.2928                            4.8999\n",
       "2012-01-13             1.2882                            4.8787\n",
       "2012-01-13             1.2882                            4.8787\n",
       "2012-01-16             1.2926                            4.8920\n",
       "2012-01-17             1.2862                            4.9155\n",
       "2012-01-18             1.2820                            4.9423\n",
       "2012-01-18             1.2820                            4.9423\n",
       "2012-01-19             1.2777                            4.9652\n",
       "2012-01-19             1.2777                            4.9652\n",
       "2012-01-19             1.2777                            4.9652\n",
       "2012-01-20             1.2736                            4.9805\n",
       "2012-01-25             1.2668                            5.0265\n",
       "2012-01-26             1.2584                            5.0325\n",
       "2012-01-27             1.2581                            5.0622\n",
       "2012-01-30             1.2542                            5.0337\n",
       "2012-01-31             1.2547                            5.0142\n",
       "2012-02-01             1.2567                            5.0448\n",
       "2012-02-02             1.2465                            5.0508\n",
       "2012-02-03             1.2484                            5.0744\n",
       "2012-02-06             1.2447                            5.0531\n",
       "2012-02-07             1.2481                            5.0604\n",
       "2012-02-08             1.2435                            5.0499\n",
       "...                       ...                               ...\n",
       "2012-11-19             1.2250                            5.0903\n",
       "2012-11-20             1.2233                            5.0905\n",
       "2012-11-21             1.2269                            5.0885\n",
       "2012-11-22             1.2251                            5.0851\n",
       "2012-11-23             1.2246                            5.0944\n",
       "2012-11-26             1.2229                            5.0970\n",
       "2012-11-27             1.2217                            5.0892\n",
       "2012-11-28             1.2227                            5.0932\n",
       "2012-11-29             1.2220                            5.1004\n",
       "2012-11-30             1.2209                            5.1012\n",
       "2012-12-03             1.2206                            5.1128\n",
       "2012-12-04             1.2190                            5.1125\n",
       "2012-12-05             1.2186                            5.1086\n",
       "2012-12-06             1.2200                            5.1029\n",
       "2012-12-07             1.2210                            5.1029\n",
       "2012-12-10             1.2220                            5.0976\n",
       "2012-12-11             1.2224                            5.1170\n",
       "2012-12-12             1.2213                            5.1216\n",
       "2012-12-13             1.2210                            5.1025\n",
       "2012-12-14             1.2214                            5.1191\n",
       "2012-12-17             1.2202                            5.1164\n",
       "2012-12-18             1.2196                            5.1253\n",
       "2012-12-19             1.2190                            5.1153\n",
       "2012-12-20             1.2201                            5.1223\n",
       "2012-12-21             1.2204                            5.1127\n",
       "2012-12-24             1.2215                            5.1033\n",
       "2012-12-26             1.2237                            5.0946\n",
       "2012-12-27             1.2232                            5.0988\n",
       "2012-12-28             1.2235                            5.0919\n",
       "2012-12-31             1.2221                            5.0999\n",
       "\n",
       "[256 rows x 2 columns]"
      ]
     },
     "execution_count": 235,
     "metadata": {},
     "output_type": "execute_result"
    }
   ],
   "source": [
    "# Use pandas to find all exchange rates from 2012\n",
    "#\n",
    "# Refer to https://pandas.pydata.org/pandas-docs/stable/comparison_with_sql.html\n",
    "#\n",
    "# Hint 1: use pd.to_datetime\n",
    "# start = pd.to_datetime('2012-01-01')\n",
    "# end = pd.to_datetime('2013-01-01')\n",
    "#\n",
    "# Hint 2: use sgd_usd_cny.index\n",
    "#\n",
    "# Hint 3: add parenthesis for the boolean conditions\n",
    "\n",
    "start = pd.to_datetime('2012-01-01')\n",
    "end = pd.to_datetime('2013-01-01')\n",
    "\n",
    "sgd_usd_cny[(sgd_usd_cny.index >= start) & (sgd_usd_cny.index < end)]"
   ]
  },
  {
   "cell_type": "markdown",
   "metadata": {
    "slideshow": {
     "slide_type": "-"
    }
   },
   "source": [
    "### Indexing and Slicing: iloc, loc\n",
    "\n",
    "|  |  |\n",
    "|--|--|\n",
    "|iloc|Select by position|\n",
    "|loc|Select by label|\n",
    "|iat|Get scalar value by position (fast iloc)\n",
    "|at|Get scalar value by label (fast loc)|"
   ]
  },
  {
   "cell_type": "code",
   "execution_count": 113,
   "metadata": {
    "slideshow": {
     "slide_type": "-"
    }
   },
   "outputs": [
    {
     "data": {
      "text/html": [
       "<div>\n",
       "<style scoped>\n",
       "    .dataframe tbody tr th:only-of-type {\n",
       "        vertical-align: middle;\n",
       "    }\n",
       "\n",
       "    .dataframe tbody tr th {\n",
       "        vertical-align: top;\n",
       "    }\n",
       "\n",
       "    .dataframe thead th {\n",
       "        text-align: right;\n",
       "    }\n",
       "</style>\n",
       "<table border=\"1\" class=\"dataframe\">\n",
       "  <thead>\n",
       "    <tr style=\"text-align: right;\">\n",
       "      <th></th>\n",
       "      <th>exchange_rate_usd</th>\n",
       "      <th>Singapore Dollar to Chinese Yuan</th>\n",
       "    </tr>\n",
       "  </thead>\n",
       "  <tbody>\n",
       "    <tr>\n",
       "      <th>2009-10-06</th>\n",
       "      <td>1.4046</td>\n",
       "      <td>4.8734</td>\n",
       "    </tr>\n",
       "    <tr>\n",
       "      <th>2009-10-07</th>\n",
       "      <td>1.4031</td>\n",
       "      <td>4.8754</td>\n",
       "    </tr>\n",
       "    <tr>\n",
       "      <th>2009-10-08</th>\n",
       "      <td>1.3949</td>\n",
       "      <td>4.9082</td>\n",
       "    </tr>\n",
       "    <tr>\n",
       "      <th>2009-10-09</th>\n",
       "      <td>1.3918</td>\n",
       "      <td>4.9039</td>\n",
       "    </tr>\n",
       "  </tbody>\n",
       "</table>\n",
       "</div>"
      ],
      "text/plain": [
       "            exchange_rate_usd  Singapore Dollar to Chinese Yuan\n",
       "2009-10-06             1.4046                            4.8734\n",
       "2009-10-07             1.4031                            4.8754\n",
       "2009-10-08             1.3949                            4.9082\n",
       "2009-10-09             1.3918                            4.9039"
      ]
     },
     "execution_count": 113,
     "metadata": {},
     "output_type": "execute_result"
    }
   ],
   "source": [
    "sgd_usd_cny.iloc[:4]"
   ]
  },
  {
   "cell_type": "code",
   "execution_count": null,
   "metadata": {
    "slideshow": {
     "slide_type": "-"
    }
   },
   "outputs": [],
   "source": [
    "sgd_usd_cny.loc[:4] # error (because index is time, not integer) "
   ]
  },
  {
   "cell_type": "code",
   "execution_count": 104,
   "metadata": {
    "slideshow": {
     "slide_type": "-"
    }
   },
   "outputs": [
    {
     "data": {
      "text/html": [
       "<div>\n",
       "<style scoped>\n",
       "    .dataframe tbody tr th:only-of-type {\n",
       "        vertical-align: middle;\n",
       "    }\n",
       "\n",
       "    .dataframe tbody tr th {\n",
       "        vertical-align: top;\n",
       "    }\n",
       "\n",
       "    .dataframe thead th {\n",
       "        text-align: right;\n",
       "    }\n",
       "</style>\n",
       "<table border=\"1\" class=\"dataframe\">\n",
       "  <thead>\n",
       "    <tr style=\"text-align: right;\">\n",
       "      <th></th>\n",
       "      <th>0</th>\n",
       "      <th>1</th>\n",
       "    </tr>\n",
       "  </thead>\n",
       "  <tbody>\n",
       "    <tr>\n",
       "      <th>0</th>\n",
       "      <td>1.4046</td>\n",
       "      <td>4.8734</td>\n",
       "    </tr>\n",
       "    <tr>\n",
       "      <th>1</th>\n",
       "      <td>1.4031</td>\n",
       "      <td>4.8754</td>\n",
       "    </tr>\n",
       "    <tr>\n",
       "      <th>2</th>\n",
       "      <td>1.3949</td>\n",
       "      <td>4.9082</td>\n",
       "    </tr>\n",
       "    <tr>\n",
       "      <th>3</th>\n",
       "      <td>1.3918</td>\n",
       "      <td>4.9039</td>\n",
       "    </tr>\n",
       "    <tr>\n",
       "      <th>4</th>\n",
       "      <td>1.4014</td>\n",
       "      <td>4.8791</td>\n",
       "    </tr>\n",
       "  </tbody>\n",
       "</table>\n",
       "</div>"
      ],
      "text/plain": [
       "        0       1\n",
       "0  1.4046  4.8734\n",
       "1  1.4031  4.8754\n",
       "2  1.3949  4.9082\n",
       "3  1.3918  4.9039\n",
       "4  1.4014  4.8791"
      ]
     },
     "execution_count": 104,
     "metadata": {},
     "output_type": "execute_result"
    }
   ],
   "source": [
    "# to use loc, we have to switch to an integer index\n",
    "df_int_index = pd.DataFrame(sgd_usd_cny.values)\n",
    "\n",
    "df_int_index.loc[:4]"
   ]
  },
  {
   "cell_type": "code",
   "execution_count": 170,
   "metadata": {},
   "outputs": [
    {
     "data": {
      "text/plain": [
       "1.4014"
      ]
     },
     "execution_count": 170,
     "metadata": {},
     "output_type": "execute_result"
    }
   ],
   "source": [
    "df_int_index.loc[4, 0]"
   ]
  },
  {
   "cell_type": "code",
   "execution_count": 171,
   "metadata": {},
   "outputs": [
    {
     "data": {
      "text/plain": [
       "1.4014"
      ]
     },
     "execution_count": 171,
     "metadata": {},
     "output_type": "execute_result"
    }
   ],
   "source": [
    "# fast single-value access\n",
    "df_int_index.at[4, 0]"
   ]
  },
  {
   "cell_type": "markdown",
   "metadata": {
    "slideshow": {
     "slide_type": "-"
    }
   },
   "source": [
    "### Question\n",
    "\n",
    "Why do you think `loc[:4]` returns 5 values, whereas `iloc[:4]` returns 4 values?\n",
    "\n",
    "Hint: try `iloc[:0]`"
   ]
  },
  {
   "cell_type": "code",
   "execution_count": 149,
   "metadata": {},
   "outputs": [
    {
     "data": {
      "text/plain": [
       "exchange_rate_usd                   1.4031\n",
       "Singapore Dollar to Chinese Yuan    4.8754\n",
       "Name: 2009-10-07 00:00:00, dtype: float64"
      ]
     },
     "execution_count": 149,
     "metadata": {},
     "output_type": "execute_result"
    }
   ],
   "source": [
    "sgd_usd_cny.iloc[1] # select by row position"
   ]
  },
  {
   "cell_type": "code",
   "execution_count": 144,
   "metadata": {
    "slideshow": {
     "slide_type": "-"
    }
   },
   "outputs": [
    {
     "data": {
      "text/plain": [
       "1.4031"
      ]
     },
     "execution_count": 144,
     "metadata": {},
     "output_type": "execute_result"
    }
   ],
   "source": [
    "sgd_usd_cny.iloc[1]['exchange_rate_usd'] # select by row position, column name"
   ]
  },
  {
   "cell_type": "code",
   "execution_count": 145,
   "metadata": {},
   "outputs": [
    {
     "data": {
      "text/plain": [
       "1.4031"
      ]
     },
     "execution_count": 145,
     "metadata": {},
     "output_type": "execute_result"
    }
   ],
   "source": [
    "sgd_usd_cny.iat[1, 0] # select by row position, column position"
   ]
  },
  {
   "cell_type": "markdown",
   "metadata": {
    "slideshow": {
     "slide_type": "-"
    }
   },
   "source": [
    "### Combining with boolean conditions"
   ]
  },
  {
   "cell_type": "code",
   "execution_count": 123,
   "metadata": {
    "slideshow": {
     "slide_type": "-"
    }
   },
   "outputs": [
    {
     "data": {
      "text/html": [
       "<div>\n",
       "<style scoped>\n",
       "    .dataframe tbody tr th:only-of-type {\n",
       "        vertical-align: middle;\n",
       "    }\n",
       "\n",
       "    .dataframe tbody tr th {\n",
       "        vertical-align: top;\n",
       "    }\n",
       "\n",
       "    .dataframe thead th {\n",
       "        text-align: right;\n",
       "    }\n",
       "</style>\n",
       "<table border=\"1\" class=\"dataframe\">\n",
       "  <thead>\n",
       "    <tr style=\"text-align: right;\">\n",
       "      <th></th>\n",
       "      <th>exchange_rate_usd</th>\n",
       "      <th>Singapore Dollar to Chinese Yuan</th>\n",
       "    </tr>\n",
       "  </thead>\n",
       "  <tbody>\n",
       "    <tr>\n",
       "      <th>2015-09-08</th>\n",
       "      <td>1.4262</td>\n",
       "      <td>4.4912</td>\n",
       "    </tr>\n",
       "    <tr>\n",
       "      <th>2015-09-28</th>\n",
       "      <td>1.4259</td>\n",
       "      <td>4.4569</td>\n",
       "    </tr>\n",
       "    <tr>\n",
       "      <th>2015-09-29</th>\n",
       "      <td>1.4319</td>\n",
       "      <td>4.4568</td>\n",
       "    </tr>\n",
       "    <tr>\n",
       "      <th>2015-09-30</th>\n",
       "      <td>1.4253</td>\n",
       "      <td>4.4652</td>\n",
       "    </tr>\n",
       "    <tr>\n",
       "      <th>2015-10-01</th>\n",
       "      <td>1.4258</td>\n",
       "      <td>4.4436</td>\n",
       "    </tr>\n",
       "    <tr>\n",
       "      <th>2015-10-02</th>\n",
       "      <td>1.4356</td>\n",
       "      <td>4.4374</td>\n",
       "    </tr>\n",
       "    <tr>\n",
       "      <th>2015-10-05</th>\n",
       "      <td>1.4318</td>\n",
       "      <td>4.4740</td>\n",
       "    </tr>\n",
       "  </tbody>\n",
       "</table>\n",
       "</div>"
      ],
      "text/plain": [
       "            exchange_rate_usd  Singapore Dollar to Chinese Yuan\n",
       "2015-09-08             1.4262                            4.4912\n",
       "2015-09-28             1.4259                            4.4569\n",
       "2015-09-29             1.4319                            4.4568\n",
       "2015-09-30             1.4253                            4.4652\n",
       "2015-10-01             1.4258                            4.4436\n",
       "2015-10-02             1.4356                            4.4374\n",
       "2015-10-05             1.4318                            4.4740"
      ]
     },
     "execution_count": 123,
     "metadata": {},
     "output_type": "execute_result"
    }
   ],
   "source": [
    "sgd_usd_cny.loc[sgd_usd_cny['exchange_rate_usd'] > 1.425]"
   ]
  },
  {
   "cell_type": "code",
   "execution_count": 125,
   "metadata": {
    "slideshow": {
     "slide_type": "-"
    }
   },
   "outputs": [
    {
     "data": {
      "text/plain": [
       "2015-09-08    1.4262\n",
       "2015-09-28    1.4259\n",
       "2015-09-29    1.4319\n",
       "2015-09-30    1.4253\n",
       "2015-10-01    1.4258\n",
       "2015-10-02    1.4356\n",
       "2015-10-05    1.4318\n",
       "Name: exchange_rate_usd, dtype: float64"
      ]
     },
     "execution_count": 125,
     "metadata": {},
     "output_type": "execute_result"
    }
   ],
   "source": [
    "# more selectors\n",
    "sgd_usd_cny.loc[sgd_usd_cny['exchange_rate_usd'] > 1.425]['exchange_rate_usd']"
   ]
  },
  {
   "cell_type": "markdown",
   "metadata": {
    "slideshow": {
     "slide_type": "-"
    }
   },
   "source": [
    "### Adding and removing rows / columns\n",
    "\n",
    "|  |  |\n",
    "|--|--|\n",
    "|s.drop(), df.drop()| Drop row (axis=0)|\n",
    "|s.drop('col', axis=1), df.drop('col', axis=1)| Drop column (axis=1)|\n",
    "|pd.concat([s1, s2], axis=0), pd.concat([df1, df2], axis=0)|Concatenate rows (axis=0)|\n",
    "|pd.concat([s1, s2], axis=1), pd.concat([df1, df2], axis=1)|Concatenate columns (axis=1)|"
   ]
  },
  {
   "cell_type": "code",
   "execution_count": 227,
   "metadata": {},
   "outputs": [
    {
     "data": {
      "text/html": [
       "<div>\n",
       "<style scoped>\n",
       "    .dataframe tbody tr th:only-of-type {\n",
       "        vertical-align: middle;\n",
       "    }\n",
       "\n",
       "    .dataframe tbody tr th {\n",
       "        vertical-align: top;\n",
       "    }\n",
       "\n",
       "    .dataframe thead th {\n",
       "        text-align: right;\n",
       "    }\n",
       "</style>\n",
       "<table border=\"1\" class=\"dataframe\">\n",
       "  <thead>\n",
       "    <tr style=\"text-align: right;\">\n",
       "      <th></th>\n",
       "      <th>exchange_rate_usd</th>\n",
       "      <th>Singapore Dollar to Chinese Yuan</th>\n",
       "    </tr>\n",
       "  </thead>\n",
       "  <tbody>\n",
       "    <tr>\n",
       "      <th>2015-10-09</th>\n",
       "      <td>1.4018</td>\n",
       "      <td>4.5500</td>\n",
       "    </tr>\n",
       "    <tr>\n",
       "      <th>2015-10-12</th>\n",
       "      <td>1.4020</td>\n",
       "      <td>4.5191</td>\n",
       "    </tr>\n",
       "    <tr>\n",
       "      <th>2015-10-13</th>\n",
       "      <td>1.4030</td>\n",
       "      <td>4.5226</td>\n",
       "    </tr>\n",
       "    <tr>\n",
       "      <th>2015-10-14</th>\n",
       "      <td>1.3933</td>\n",
       "      <td>4.6034</td>\n",
       "    </tr>\n",
       "    <tr>\n",
       "      <th>2015-10-15</th>\n",
       "      <td>1.3763</td>\n",
       "      <td>4.5995</td>\n",
       "    </tr>\n",
       "    <tr>\n",
       "      <th>2015-10-16</th>\n",
       "      <td>1.3834</td>\n",
       "      <td>4.5894</td>\n",
       "    </tr>\n",
       "    <tr>\n",
       "      <th>2015-10-19</th>\n",
       "      <td>1.3827</td>\n",
       "      <td>4.5781</td>\n",
       "    </tr>\n",
       "    <tr>\n",
       "      <th>2015-10-20</th>\n",
       "      <td>NaN</td>\n",
       "      <td>NaN</td>\n",
       "    </tr>\n",
       "    <tr>\n",
       "      <th>2015-10-21</th>\n",
       "      <td>NaN</td>\n",
       "      <td>NaN</td>\n",
       "    </tr>\n",
       "    <tr>\n",
       "      <th>2015-10-22</th>\n",
       "      <td>NaN</td>\n",
       "      <td>NaN</td>\n",
       "    </tr>\n",
       "  </tbody>\n",
       "</table>\n",
       "</div>"
      ],
      "text/plain": [
       "            exchange_rate_usd  Singapore Dollar to Chinese Yuan\n",
       "2015-10-09             1.4018                            4.5500\n",
       "2015-10-12             1.4020                            4.5191\n",
       "2015-10-13             1.4030                            4.5226\n",
       "2015-10-14             1.3933                            4.6034\n",
       "2015-10-15             1.3763                            4.5995\n",
       "2015-10-16             1.3834                            4.5894\n",
       "2015-10-19             1.3827                            4.5781\n",
       "2015-10-20                NaN                               NaN\n",
       "2015-10-21                NaN                               NaN\n",
       "2015-10-22                NaN                               NaN"
      ]
     },
     "execution_count": 227,
     "metadata": {},
     "output_type": "execute_result"
    }
   ],
   "source": [
    "# Append a few rows of empty data\n",
    "index=pd.date_range(start='2015-10-20', end='2015-10-22')\n",
    "\n",
    "new_df = pd.DataFrame(index=index,\n",
    "                      columns=sgd_usd_cny.columns)\n",
    "result = pd.concat([sgd_usd_cny, new_df], axis=0)\n",
    "result.tail(10)"
   ]
  },
  {
   "cell_type": "code",
   "execution_count": 228,
   "metadata": {
    "slideshow": {
     "slide_type": "-"
    }
   },
   "outputs": [
    {
     "data": {
      "text/html": [
       "<div>\n",
       "<style scoped>\n",
       "    .dataframe tbody tr th:only-of-type {\n",
       "        vertical-align: middle;\n",
       "    }\n",
       "\n",
       "    .dataframe tbody tr th {\n",
       "        vertical-align: top;\n",
       "    }\n",
       "\n",
       "    .dataframe thead th {\n",
       "        text-align: right;\n",
       "    }\n",
       "</style>\n",
       "<table border=\"1\" class=\"dataframe\">\n",
       "  <thead>\n",
       "    <tr style=\"text-align: right;\">\n",
       "      <th></th>\n",
       "      <th>exchange_rate_usd</th>\n",
       "      <th>Singapore Dollar to Chinese Yuan</th>\n",
       "    </tr>\n",
       "  </thead>\n",
       "  <tbody>\n",
       "    <tr>\n",
       "      <th>2015-10-06</th>\n",
       "      <td>1.4237</td>\n",
       "      <td>4.4741</td>\n",
       "    </tr>\n",
       "    <tr>\n",
       "      <th>2015-10-07</th>\n",
       "      <td>1.4243</td>\n",
       "      <td>4.5019</td>\n",
       "    </tr>\n",
       "    <tr>\n",
       "      <th>2015-10-08</th>\n",
       "      <td>1.4140</td>\n",
       "      <td>4.5229</td>\n",
       "    </tr>\n",
       "    <tr>\n",
       "      <th>2015-10-09</th>\n",
       "      <td>1.4018</td>\n",
       "      <td>4.5500</td>\n",
       "    </tr>\n",
       "    <tr>\n",
       "      <th>2015-10-12</th>\n",
       "      <td>1.4020</td>\n",
       "      <td>4.5191</td>\n",
       "    </tr>\n",
       "    <tr>\n",
       "      <th>2015-10-13</th>\n",
       "      <td>1.4030</td>\n",
       "      <td>4.5226</td>\n",
       "    </tr>\n",
       "    <tr>\n",
       "      <th>2015-10-14</th>\n",
       "      <td>1.3933</td>\n",
       "      <td>4.6034</td>\n",
       "    </tr>\n",
       "    <tr>\n",
       "      <th>2015-10-15</th>\n",
       "      <td>1.3763</td>\n",
       "      <td>4.5995</td>\n",
       "    </tr>\n",
       "    <tr>\n",
       "      <th>2015-10-16</th>\n",
       "      <td>1.3834</td>\n",
       "      <td>4.5894</td>\n",
       "    </tr>\n",
       "    <tr>\n",
       "      <th>2015-10-19</th>\n",
       "      <td>1.3827</td>\n",
       "      <td>4.5781</td>\n",
       "    </tr>\n",
       "  </tbody>\n",
       "</table>\n",
       "</div>"
      ],
      "text/plain": [
       "            exchange_rate_usd  Singapore Dollar to Chinese Yuan\n",
       "2015-10-06             1.4237                            4.4741\n",
       "2015-10-07             1.4243                            4.5019\n",
       "2015-10-08             1.4140                            4.5229\n",
       "2015-10-09             1.4018                            4.5500\n",
       "2015-10-12             1.4020                            4.5191\n",
       "2015-10-13             1.4030                            4.5226\n",
       "2015-10-14             1.3933                            4.6034\n",
       "2015-10-15             1.3763                            4.5995\n",
       "2015-10-16             1.3834                            4.5894\n",
       "2015-10-19             1.3827                            4.5781"
      ]
     },
     "execution_count": 228,
     "metadata": {},
     "output_type": "execute_result"
    }
   ],
   "source": [
    "# Drop the rows\n",
    "index = pd.date_range(start='2015-10-20', end='2015-10-22')\n",
    "\n",
    "result.drop(index, inplace=True)\n",
    "result.tail(10)"
   ]
  },
  {
   "cell_type": "code",
   "execution_count": 221,
   "metadata": {
    "slideshow": {
     "slide_type": "-"
    }
   },
   "outputs": [
    {
     "data": {
      "text/html": [
       "<div>\n",
       "<style scoped>\n",
       "    .dataframe tbody tr th:only-of-type {\n",
       "        vertical-align: middle;\n",
       "    }\n",
       "\n",
       "    .dataframe tbody tr th {\n",
       "        vertical-align: top;\n",
       "    }\n",
       "\n",
       "    .dataframe thead th {\n",
       "        text-align: right;\n",
       "    }\n",
       "</style>\n",
       "<table border=\"1\" class=\"dataframe\">\n",
       "  <thead>\n",
       "    <tr style=\"text-align: right;\">\n",
       "      <th></th>\n",
       "      <th>exchange_rate_usd</th>\n",
       "      <th>Singapore Dollar to Chinese Yuan</th>\n",
       "    </tr>\n",
       "  </thead>\n",
       "  <tbody>\n",
       "    <tr>\n",
       "      <th>2015-10-07</th>\n",
       "      <td>1.4243</td>\n",
       "      <td>4.5019</td>\n",
       "    </tr>\n",
       "    <tr>\n",
       "      <th>2015-10-08</th>\n",
       "      <td>1.4140</td>\n",
       "      <td>4.5229</td>\n",
       "    </tr>\n",
       "    <tr>\n",
       "      <th>2015-10-09</th>\n",
       "      <td>1.4018</td>\n",
       "      <td>4.5500</td>\n",
       "    </tr>\n",
       "    <tr>\n",
       "      <th>2015-10-12</th>\n",
       "      <td>1.4020</td>\n",
       "      <td>4.5191</td>\n",
       "    </tr>\n",
       "    <tr>\n",
       "      <th>2015-10-13</th>\n",
       "      <td>1.4030</td>\n",
       "      <td>4.5226</td>\n",
       "    </tr>\n",
       "    <tr>\n",
       "      <th>2015-10-14</th>\n",
       "      <td>1.3933</td>\n",
       "      <td>4.6034</td>\n",
       "    </tr>\n",
       "    <tr>\n",
       "      <th>2015-10-15</th>\n",
       "      <td>1.3763</td>\n",
       "      <td>4.5995</td>\n",
       "    </tr>\n",
       "    <tr>\n",
       "      <th>2015-10-13</th>\n",
       "      <td>1.4030</td>\n",
       "      <td>4.5226</td>\n",
       "    </tr>\n",
       "    <tr>\n",
       "      <th>2015-10-14</th>\n",
       "      <td>1.3933</td>\n",
       "      <td>4.6034</td>\n",
       "    </tr>\n",
       "    <tr>\n",
       "      <th>2015-10-15</th>\n",
       "      <td>1.3763</td>\n",
       "      <td>4.5995</td>\n",
       "    </tr>\n",
       "  </tbody>\n",
       "</table>\n",
       "</div>"
      ],
      "text/plain": [
       "            exchange_rate_usd  Singapore Dollar to Chinese Yuan\n",
       "2015-10-07             1.4243                            4.5019\n",
       "2015-10-08             1.4140                            4.5229\n",
       "2015-10-09             1.4018                            4.5500\n",
       "2015-10-12             1.4020                            4.5191\n",
       "2015-10-13             1.4030                            4.5226\n",
       "2015-10-14             1.3933                            4.6034\n",
       "2015-10-15             1.3763                            4.5995\n",
       "2015-10-13             1.4030                            4.5226\n",
       "2015-10-14             1.3933                            4.6034\n",
       "2015-10-15             1.3763                            4.5995"
      ]
     },
     "execution_count": 221,
     "metadata": {},
     "output_type": "execute_result"
    }
   ],
   "source": [
    "# Next, drop the rows by index\n",
    "result.drop(index, inplace=True)\n",
    "result.tail(10)"
   ]
  },
  {
   "cell_type": "markdown",
   "metadata": {
    "slideshow": {
     "slide_type": "-"
    }
   },
   "source": [
    "### Exercises: add and remove columns\n",
    "\n",
    "1. Add a new column called 'SGD to Euro' with empty values\n",
    "2. Drop the column you just added"
   ]
  },
  {
   "cell_type": "code",
   "execution_count": 230,
   "metadata": {
    "slideshow": {
     "slide_type": "-"
    }
   },
   "outputs": [
    {
     "data": {
      "text/html": [
       "<div>\n",
       "<style scoped>\n",
       "    .dataframe tbody tr th:only-of-type {\n",
       "        vertical-align: middle;\n",
       "    }\n",
       "\n",
       "    .dataframe tbody tr th {\n",
       "        vertical-align: top;\n",
       "    }\n",
       "\n",
       "    .dataframe thead th {\n",
       "        text-align: right;\n",
       "    }\n",
       "</style>\n",
       "<table border=\"1\" class=\"dataframe\">\n",
       "  <thead>\n",
       "    <tr style=\"text-align: right;\">\n",
       "      <th></th>\n",
       "      <th>exchange_rate_usd</th>\n",
       "      <th>Singapore Dollar to Chinese Yuan</th>\n",
       "      <th>SGD to Euro</th>\n",
       "    </tr>\n",
       "  </thead>\n",
       "  <tbody>\n",
       "    <tr>\n",
       "      <th>2015-10-06</th>\n",
       "      <td>1.4237</td>\n",
       "      <td>4.4741</td>\n",
       "      <td>NaN</td>\n",
       "    </tr>\n",
       "    <tr>\n",
       "      <th>2015-10-07</th>\n",
       "      <td>1.4243</td>\n",
       "      <td>4.5019</td>\n",
       "      <td>NaN</td>\n",
       "    </tr>\n",
       "    <tr>\n",
       "      <th>2015-10-08</th>\n",
       "      <td>1.4140</td>\n",
       "      <td>4.5229</td>\n",
       "      <td>NaN</td>\n",
       "    </tr>\n",
       "    <tr>\n",
       "      <th>2015-10-09</th>\n",
       "      <td>1.4018</td>\n",
       "      <td>4.5500</td>\n",
       "      <td>NaN</td>\n",
       "    </tr>\n",
       "    <tr>\n",
       "      <th>2015-10-12</th>\n",
       "      <td>1.4020</td>\n",
       "      <td>4.5191</td>\n",
       "      <td>NaN</td>\n",
       "    </tr>\n",
       "    <tr>\n",
       "      <th>2015-10-13</th>\n",
       "      <td>1.4030</td>\n",
       "      <td>4.5226</td>\n",
       "      <td>NaN</td>\n",
       "    </tr>\n",
       "    <tr>\n",
       "      <th>2015-10-14</th>\n",
       "      <td>1.3933</td>\n",
       "      <td>4.6034</td>\n",
       "      <td>NaN</td>\n",
       "    </tr>\n",
       "    <tr>\n",
       "      <th>2015-10-15</th>\n",
       "      <td>1.3763</td>\n",
       "      <td>4.5995</td>\n",
       "      <td>NaN</td>\n",
       "    </tr>\n",
       "    <tr>\n",
       "      <th>2015-10-16</th>\n",
       "      <td>1.3834</td>\n",
       "      <td>4.5894</td>\n",
       "      <td>NaN</td>\n",
       "    </tr>\n",
       "    <tr>\n",
       "      <th>2015-10-19</th>\n",
       "      <td>1.3827</td>\n",
       "      <td>4.5781</td>\n",
       "      <td>NaN</td>\n",
       "    </tr>\n",
       "  </tbody>\n",
       "</table>\n",
       "</div>"
      ],
      "text/plain": [
       "            exchange_rate_usd  Singapore Dollar to Chinese Yuan SGD to Euro\n",
       "2015-10-06             1.4237                            4.4741         NaN\n",
       "2015-10-07             1.4243                            4.5019         NaN\n",
       "2015-10-08             1.4140                            4.5229         NaN\n",
       "2015-10-09             1.4018                            4.5500         NaN\n",
       "2015-10-12             1.4020                            4.5191         NaN\n",
       "2015-10-13             1.4030                            4.5226         NaN\n",
       "2015-10-14             1.3933                            4.6034         NaN\n",
       "2015-10-15             1.3763                            4.5995         NaN\n",
       "2015-10-16             1.3834                            4.5894         NaN\n",
       "2015-10-19             1.3827                            4.5781         NaN"
      ]
     },
     "execution_count": 230,
     "metadata": {},
     "output_type": "execute_result"
    }
   ],
   "source": [
    "# Add a new column called 'SGD to Euro', with empty values\n",
    "#\n",
    "# Hint: use index=sgd_usd_cny.index\n",
    "\n",
    "new_df = pd.DataFrame(index=sgd_usd_cny.index,\n",
    "                      columns=['SGD to Euro'])\n",
    "\n",
    "result = pd.concat([sgd_usd_cny, new_df], axis=1)\n",
    "result.tail(10)"
   ]
  },
  {
   "cell_type": "code",
   "execution_count": 232,
   "metadata": {
    "slideshow": {
     "slide_type": "-"
    }
   },
   "outputs": [
    {
     "data": {
      "text/html": [
       "<div>\n",
       "<style scoped>\n",
       "    .dataframe tbody tr th:only-of-type {\n",
       "        vertical-align: middle;\n",
       "    }\n",
       "\n",
       "    .dataframe tbody tr th {\n",
       "        vertical-align: top;\n",
       "    }\n",
       "\n",
       "    .dataframe thead th {\n",
       "        text-align: right;\n",
       "    }\n",
       "</style>\n",
       "<table border=\"1\" class=\"dataframe\">\n",
       "  <thead>\n",
       "    <tr style=\"text-align: right;\">\n",
       "      <th></th>\n",
       "      <th>exchange_rate_usd</th>\n",
       "      <th>Singapore Dollar to Chinese Yuan</th>\n",
       "    </tr>\n",
       "  </thead>\n",
       "  <tbody>\n",
       "    <tr>\n",
       "      <th>2015-10-06</th>\n",
       "      <td>1.4237</td>\n",
       "      <td>4.4741</td>\n",
       "    </tr>\n",
       "    <tr>\n",
       "      <th>2015-10-07</th>\n",
       "      <td>1.4243</td>\n",
       "      <td>4.5019</td>\n",
       "    </tr>\n",
       "    <tr>\n",
       "      <th>2015-10-08</th>\n",
       "      <td>1.4140</td>\n",
       "      <td>4.5229</td>\n",
       "    </tr>\n",
       "    <tr>\n",
       "      <th>2015-10-09</th>\n",
       "      <td>1.4018</td>\n",
       "      <td>4.5500</td>\n",
       "    </tr>\n",
       "    <tr>\n",
       "      <th>2015-10-12</th>\n",
       "      <td>1.4020</td>\n",
       "      <td>4.5191</td>\n",
       "    </tr>\n",
       "    <tr>\n",
       "      <th>2015-10-13</th>\n",
       "      <td>1.4030</td>\n",
       "      <td>4.5226</td>\n",
       "    </tr>\n",
       "    <tr>\n",
       "      <th>2015-10-14</th>\n",
       "      <td>1.3933</td>\n",
       "      <td>4.6034</td>\n",
       "    </tr>\n",
       "    <tr>\n",
       "      <th>2015-10-15</th>\n",
       "      <td>1.3763</td>\n",
       "      <td>4.5995</td>\n",
       "    </tr>\n",
       "    <tr>\n",
       "      <th>2015-10-16</th>\n",
       "      <td>1.3834</td>\n",
       "      <td>4.5894</td>\n",
       "    </tr>\n",
       "    <tr>\n",
       "      <th>2015-10-19</th>\n",
       "      <td>1.3827</td>\n",
       "      <td>4.5781</td>\n",
       "    </tr>\n",
       "  </tbody>\n",
       "</table>\n",
       "</div>"
      ],
      "text/plain": [
       "            exchange_rate_usd  Singapore Dollar to Chinese Yuan\n",
       "2015-10-06             1.4237                            4.4741\n",
       "2015-10-07             1.4243                            4.5019\n",
       "2015-10-08             1.4140                            4.5229\n",
       "2015-10-09             1.4018                            4.5500\n",
       "2015-10-12             1.4020                            4.5191\n",
       "2015-10-13             1.4030                            4.5226\n",
       "2015-10-14             1.3933                            4.6034\n",
       "2015-10-15             1.3763                            4.5995\n",
       "2015-10-16             1.3834                            4.5894\n",
       "2015-10-19             1.3827                            4.5781"
      ]
     },
     "execution_count": 232,
     "metadata": {},
     "output_type": "execute_result"
    }
   ],
   "source": [
    "# Drop the column you just added\n",
    "# \n",
    "# Hint: use inplace=True\n",
    "\n",
    "result.drop(['SGD to Euro'], axis=1, inplace=True)\n",
    "result.tail(10)"
   ]
  },
  {
   "cell_type": "markdown",
   "metadata": {
    "slideshow": {
     "slide_type": "-"
    }
   },
   "source": [
    "### Missing data\n",
    "\n",
    "We saw how to add columns and rows without any data.  Now we'll explore how to deal with the missing data.\n",
    "\n",
    "Here are some ways:\n",
    "\n",
    "|  |  |\n",
    "|--|--|\n",
    "|dropna|Drop missing values|\n",
    "|fillna(new_value)|Fill missing values with new_value|\n",
    "|interpolate()|Use linear interpolation|\n",
    "\n",
    "We've already seen how dropna() works."
   ]
  },
  {
   "cell_type": "code",
   "execution_count": 236,
   "metadata": {
    "slideshow": {
     "slide_type": "-"
    }
   },
   "outputs": [
    {
     "data": {
      "text/html": [
       "<div>\n",
       "<style scoped>\n",
       "    .dataframe tbody tr th:only-of-type {\n",
       "        vertical-align: middle;\n",
       "    }\n",
       "\n",
       "    .dataframe tbody tr th {\n",
       "        vertical-align: top;\n",
       "    }\n",
       "\n",
       "    .dataframe thead th {\n",
       "        text-align: right;\n",
       "    }\n",
       "</style>\n",
       "<table border=\"1\" class=\"dataframe\">\n",
       "  <thead>\n",
       "    <tr style=\"text-align: right;\">\n",
       "      <th></th>\n",
       "      <th>exchange_rate_usd</th>\n",
       "      <th>Singapore Dollar to Chinese Yuan</th>\n",
       "    </tr>\n",
       "  </thead>\n",
       "  <tbody>\n",
       "    <tr>\n",
       "      <th>2015-10-09</th>\n",
       "      <td>1.4018</td>\n",
       "      <td>4.5500</td>\n",
       "    </tr>\n",
       "    <tr>\n",
       "      <th>2015-10-12</th>\n",
       "      <td>1.4020</td>\n",
       "      <td>4.5191</td>\n",
       "    </tr>\n",
       "    <tr>\n",
       "      <th>2015-10-13</th>\n",
       "      <td>1.4030</td>\n",
       "      <td>4.5226</td>\n",
       "    </tr>\n",
       "    <tr>\n",
       "      <th>2015-10-14</th>\n",
       "      <td>1.3933</td>\n",
       "      <td>4.6034</td>\n",
       "    </tr>\n",
       "    <tr>\n",
       "      <th>2015-10-15</th>\n",
       "      <td>1.3763</td>\n",
       "      <td>4.5995</td>\n",
       "    </tr>\n",
       "    <tr>\n",
       "      <th>2015-10-16</th>\n",
       "      <td>1.3834</td>\n",
       "      <td>4.5894</td>\n",
       "    </tr>\n",
       "    <tr>\n",
       "      <th>2015-10-19</th>\n",
       "      <td>1.3827</td>\n",
       "      <td>4.5781</td>\n",
       "    </tr>\n",
       "    <tr>\n",
       "      <th>2015-10-20</th>\n",
       "      <td>NaN</td>\n",
       "      <td>NaN</td>\n",
       "    </tr>\n",
       "    <tr>\n",
       "      <th>2015-10-21</th>\n",
       "      <td>NaN</td>\n",
       "      <td>NaN</td>\n",
       "    </tr>\n",
       "    <tr>\n",
       "      <th>2015-10-22</th>\n",
       "      <td>NaN</td>\n",
       "      <td>NaN</td>\n",
       "    </tr>\n",
       "  </tbody>\n",
       "</table>\n",
       "</div>"
      ],
      "text/plain": [
       "            exchange_rate_usd  Singapore Dollar to Chinese Yuan\n",
       "2015-10-09             1.4018                            4.5500\n",
       "2015-10-12             1.4020                            4.5191\n",
       "2015-10-13             1.4030                            4.5226\n",
       "2015-10-14             1.3933                            4.6034\n",
       "2015-10-15             1.3763                            4.5995\n",
       "2015-10-16             1.3834                            4.5894\n",
       "2015-10-19             1.3827                            4.5781\n",
       "2015-10-20                NaN                               NaN\n",
       "2015-10-21                NaN                               NaN\n",
       "2015-10-22                NaN                               NaN"
      ]
     },
     "execution_count": 236,
     "metadata": {},
     "output_type": "execute_result"
    }
   ],
   "source": [
    "index=pd.date_range(start='2015-10-20', end='2015-10-22')\n",
    "\n",
    "new_df = pd.DataFrame(index=index,\n",
    "                      columns=sgd_usd_cny.columns)\n",
    "result = pd.concat([sgd_usd_cny, new_df], axis=0)\n",
    "result.tail(10)"
   ]
  },
  {
   "cell_type": "code",
   "execution_count": 244,
   "metadata": {
    "slideshow": {
     "slide_type": "-"
    }
   },
   "outputs": [
    {
     "data": {
      "text/html": [
       "<div>\n",
       "<style scoped>\n",
       "    .dataframe tbody tr th:only-of-type {\n",
       "        vertical-align: middle;\n",
       "    }\n",
       "\n",
       "    .dataframe tbody tr th {\n",
       "        vertical-align: top;\n",
       "    }\n",
       "\n",
       "    .dataframe thead th {\n",
       "        text-align: right;\n",
       "    }\n",
       "</style>\n",
       "<table border=\"1\" class=\"dataframe\">\n",
       "  <thead>\n",
       "    <tr style=\"text-align: right;\">\n",
       "      <th></th>\n",
       "      <th>exchange_rate_usd</th>\n",
       "      <th>Singapore Dollar to Chinese Yuan</th>\n",
       "    </tr>\n",
       "  </thead>\n",
       "  <tbody>\n",
       "    <tr>\n",
       "      <th>2015-10-13</th>\n",
       "      <td>1.4030</td>\n",
       "      <td>4.5226</td>\n",
       "    </tr>\n",
       "    <tr>\n",
       "      <th>2015-10-14</th>\n",
       "      <td>1.3933</td>\n",
       "      <td>4.6034</td>\n",
       "    </tr>\n",
       "    <tr>\n",
       "      <th>2015-10-15</th>\n",
       "      <td>1.3763</td>\n",
       "      <td>4.5995</td>\n",
       "    </tr>\n",
       "    <tr>\n",
       "      <th>2015-10-16</th>\n",
       "      <td>1.3834</td>\n",
       "      <td>4.5894</td>\n",
       "    </tr>\n",
       "    <tr>\n",
       "      <th>2015-10-19</th>\n",
       "      <td>1.3827</td>\n",
       "      <td>4.5781</td>\n",
       "    </tr>\n",
       "  </tbody>\n",
       "</table>\n",
       "</div>"
      ],
      "text/plain": [
       "            exchange_rate_usd  Singapore Dollar to Chinese Yuan\n",
       "2015-10-13             1.4030                            4.5226\n",
       "2015-10-14             1.3933                            4.6034\n",
       "2015-10-15             1.3763                            4.5995\n",
       "2015-10-16             1.3834                            4.5894\n",
       "2015-10-19             1.3827                            4.5781"
      ]
     },
     "execution_count": 244,
     "metadata": {},
     "output_type": "execute_result"
    }
   ],
   "source": [
    "# Dropping the NaN values\n",
    "result.dropna().tail(5)"
   ]
  },
  {
   "cell_type": "code",
   "execution_count": 243,
   "metadata": {
    "slideshow": {
     "slide_type": "-"
    }
   },
   "outputs": [
    {
     "data": {
      "text/html": [
       "<div>\n",
       "<style scoped>\n",
       "    .dataframe tbody tr th:only-of-type {\n",
       "        vertical-align: middle;\n",
       "    }\n",
       "\n",
       "    .dataframe tbody tr th {\n",
       "        vertical-align: top;\n",
       "    }\n",
       "\n",
       "    .dataframe thead th {\n",
       "        text-align: right;\n",
       "    }\n",
       "</style>\n",
       "<table border=\"1\" class=\"dataframe\">\n",
       "  <thead>\n",
       "    <tr style=\"text-align: right;\">\n",
       "      <th></th>\n",
       "      <th>exchange_rate_usd</th>\n",
       "      <th>Singapore Dollar to Chinese Yuan</th>\n",
       "    </tr>\n",
       "  </thead>\n",
       "  <tbody>\n",
       "    <tr>\n",
       "      <th>2015-10-16</th>\n",
       "      <td>1.3834</td>\n",
       "      <td>4.5894</td>\n",
       "    </tr>\n",
       "    <tr>\n",
       "      <th>2015-10-19</th>\n",
       "      <td>1.3827</td>\n",
       "      <td>4.5781</td>\n",
       "    </tr>\n",
       "    <tr>\n",
       "      <th>2015-10-20</th>\n",
       "      <td>1.2718</td>\n",
       "      <td>4.9313</td>\n",
       "    </tr>\n",
       "    <tr>\n",
       "      <th>2015-10-21</th>\n",
       "      <td>1.2718</td>\n",
       "      <td>4.9313</td>\n",
       "    </tr>\n",
       "    <tr>\n",
       "      <th>2015-10-22</th>\n",
       "      <td>1.2718</td>\n",
       "      <td>4.9313</td>\n",
       "    </tr>\n",
       "  </tbody>\n",
       "</table>\n",
       "</div>"
      ],
      "text/plain": [
       "            exchange_rate_usd  Singapore Dollar to Chinese Yuan\n",
       "2015-10-16             1.3834                            4.5894\n",
       "2015-10-19             1.3827                            4.5781\n",
       "2015-10-20             1.2718                            4.9313\n",
       "2015-10-21             1.2718                            4.9313\n",
       "2015-10-22             1.2718                            4.9313"
      ]
     },
     "execution_count": 243,
     "metadata": {},
     "output_type": "execute_result"
    }
   ],
   "source": [
    "# Filling the NaN values with a meaningful value, such as the median\n",
    "median = result.median()\n",
    "result.fillna(median).tail(5)"
   ]
  },
  {
   "cell_type": "code",
   "execution_count": 242,
   "metadata": {
    "slideshow": {
     "slide_type": "-"
    }
   },
   "outputs": [
    {
     "data": {
      "text/html": [
       "<div>\n",
       "<style scoped>\n",
       "    .dataframe tbody tr th:only-of-type {\n",
       "        vertical-align: middle;\n",
       "    }\n",
       "\n",
       "    .dataframe tbody tr th {\n",
       "        vertical-align: top;\n",
       "    }\n",
       "\n",
       "    .dataframe thead th {\n",
       "        text-align: right;\n",
       "    }\n",
       "</style>\n",
       "<table border=\"1\" class=\"dataframe\">\n",
       "  <thead>\n",
       "    <tr style=\"text-align: right;\">\n",
       "      <th></th>\n",
       "      <th>exchange_rate_usd</th>\n",
       "      <th>Singapore Dollar to Chinese Yuan</th>\n",
       "    </tr>\n",
       "  </thead>\n",
       "  <tbody>\n",
       "    <tr>\n",
       "      <th>2015-10-16</th>\n",
       "      <td>1.3834</td>\n",
       "      <td>4.5894</td>\n",
       "    </tr>\n",
       "    <tr>\n",
       "      <th>2015-10-19</th>\n",
       "      <td>1.3827</td>\n",
       "      <td>4.5781</td>\n",
       "    </tr>\n",
       "    <tr>\n",
       "      <th>2015-10-20</th>\n",
       "      <td>1.3827</td>\n",
       "      <td>4.5781</td>\n",
       "    </tr>\n",
       "    <tr>\n",
       "      <th>2015-10-21</th>\n",
       "      <td>1.3827</td>\n",
       "      <td>4.5781</td>\n",
       "    </tr>\n",
       "    <tr>\n",
       "      <th>2015-10-22</th>\n",
       "      <td>1.3827</td>\n",
       "      <td>4.5781</td>\n",
       "    </tr>\n",
       "  </tbody>\n",
       "</table>\n",
       "</div>"
      ],
      "text/plain": [
       "            exchange_rate_usd  Singapore Dollar to Chinese Yuan\n",
       "2015-10-16             1.3834                            4.5894\n",
       "2015-10-19             1.3827                            4.5781\n",
       "2015-10-20             1.3827                            4.5781\n",
       "2015-10-21             1.3827                            4.5781\n",
       "2015-10-22             1.3827                            4.5781"
      ]
     },
     "execution_count": 242,
     "metadata": {},
     "output_type": "execute_result"
    }
   ],
   "source": [
    "# Using linear interpolation\n",
    "result.interpolate().tail(5)"
   ]
  },
  {
   "cell_type": "markdown",
   "metadata": {
    "slideshow": {
     "slide_type": "-"
    }
   },
   "source": [
    "### Categorical Data\n",
    "\n",
    "The previous dataset shows how to use pandas for datasets with continous variables (the exchange rate).\n",
    "\n",
    "Let's see another dataset that demonstrates how to use pandas for categorical variables (such as classes of things).\n",
    "\n",
    "We'll use the `Annual Motor Vehicle Population by Vehicle Type` dataset from data.gov.sg.\n",
    "\n",
    "Reference: https://pandas.pydata.org/pandas-docs/stable/visualization.html"
   ]
  },
  {
   "cell_type": "markdown",
   "metadata": {},
   "source": [
    "### Download Instructions\n",
    "\n",
    "1. Go to https://data.gov.sg/dataset/annual-motor-vehicle-population-by-vehicle-type\n",
    "2. Click on the Download button\n",
    "3. Unzip and extract the .csv file. Note the path for use below."
   ]
  },
  {
   "cell_type": "code",
   "execution_count": 249,
   "metadata": {},
   "outputs": [
    {
     "data": {
      "text/html": [
       "<div>\n",
       "<style scoped>\n",
       "    .dataframe tbody tr th:only-of-type {\n",
       "        vertical-align: middle;\n",
       "    }\n",
       "\n",
       "    .dataframe tbody tr th {\n",
       "        vertical-align: top;\n",
       "    }\n",
       "\n",
       "    .dataframe thead th {\n",
       "        text-align: right;\n",
       "    }\n",
       "</style>\n",
       "<table border=\"1\" class=\"dataframe\">\n",
       "  <thead>\n",
       "    <tr style=\"text-align: right;\">\n",
       "      <th></th>\n",
       "      <th>category</th>\n",
       "      <th>type</th>\n",
       "      <th>number</th>\n",
       "    </tr>\n",
       "    <tr>\n",
       "      <th>year</th>\n",
       "      <th></th>\n",
       "      <th></th>\n",
       "      <th></th>\n",
       "    </tr>\n",
       "  </thead>\n",
       "  <tbody>\n",
       "    <tr>\n",
       "      <th>2005-01-01</th>\n",
       "      <td>Cars &amp; Station-wagons</td>\n",
       "      <td>Private cars</td>\n",
       "      <td>401638</td>\n",
       "    </tr>\n",
       "    <tr>\n",
       "      <th>2006-01-01</th>\n",
       "      <td>Cars &amp; Station-wagons</td>\n",
       "      <td>Private cars</td>\n",
       "      <td>421904</td>\n",
       "    </tr>\n",
       "    <tr>\n",
       "      <th>2007-01-01</th>\n",
       "      <td>Cars &amp; Station-wagons</td>\n",
       "      <td>Private cars</td>\n",
       "      <td>451745</td>\n",
       "    </tr>\n",
       "    <tr>\n",
       "      <th>2008-01-01</th>\n",
       "      <td>Cars &amp; Station-wagons</td>\n",
       "      <td>Private cars</td>\n",
       "      <td>476634</td>\n",
       "    </tr>\n",
       "    <tr>\n",
       "      <th>2009-01-01</th>\n",
       "      <td>Cars &amp; Station-wagons</td>\n",
       "      <td>Private cars</td>\n",
       "      <td>497116</td>\n",
       "    </tr>\n",
       "  </tbody>\n",
       "</table>\n",
       "</div>"
      ],
      "text/plain": [
       "                         category          type  number\n",
       "year                                                   \n",
       "2005-01-01  Cars & Station-wagons  Private cars  401638\n",
       "2006-01-01  Cars & Station-wagons  Private cars  421904\n",
       "2007-01-01  Cars & Station-wagons  Private cars  451745\n",
       "2008-01-01  Cars & Station-wagons  Private cars  476634\n",
       "2009-01-01  Cars & Station-wagons  Private cars  497116"
      ]
     },
     "execution_count": 249,
     "metadata": {},
     "output_type": "execute_result"
    }
   ],
   "source": [
    "df = pd.read_csv('D:/tmp/motor-vehicles/annual-motor-vehicle-population-by-vehicle-type.csv',\n",
    "                 parse_dates=True, index_col=0, infer_datetime_format=True)\n",
    "df.head(5)"
   ]
  },
  {
   "cell_type": "code",
   "execution_count": 266,
   "metadata": {},
   "outputs": [
    {
     "data": {
      "text/plain": [
       "array(['Cars & Station-wagons', 'Taxis', 'Motorcycles',\n",
       "       'Goods & Other Vehicles', 'Buses', 'Tax Exempted Vehicles',\n",
       "       'Cars and Station-wagons', 'Motorcycles and Scooters',\n",
       "       'Goods and Other Vehicles'], dtype=object)"
      ]
     },
     "execution_count": 266,
     "metadata": {},
     "output_type": "execute_result"
    }
   ],
   "source": [
    "# get the unique classes\n",
    "df.category.unique()"
   ]
  },
  {
   "cell_type": "code",
   "execution_count": 279,
   "metadata": {},
   "outputs": [
    {
     "data": {
      "text/html": [
       "<div>\n",
       "<style scoped>\n",
       "    .dataframe tbody tr th:only-of-type {\n",
       "        vertical-align: middle;\n",
       "    }\n",
       "\n",
       "    .dataframe tbody tr th {\n",
       "        vertical-align: top;\n",
       "    }\n",
       "\n",
       "    .dataframe thead th {\n",
       "        text-align: right;\n",
       "    }\n",
       "</style>\n",
       "<table border=\"1\" class=\"dataframe\">\n",
       "  <thead>\n",
       "    <tr style=\"text-align: right;\">\n",
       "      <th></th>\n",
       "      <th>category</th>\n",
       "      <th>type</th>\n",
       "      <th>number</th>\n",
       "    </tr>\n",
       "    <tr>\n",
       "      <th>year</th>\n",
       "      <th></th>\n",
       "      <th></th>\n",
       "      <th></th>\n",
       "    </tr>\n",
       "  </thead>\n",
       "  <tbody>\n",
       "    <tr>\n",
       "      <th>2005-01-01</th>\n",
       "      <td>Buses</td>\n",
       "      <td>Omnibuses</td>\n",
       "      <td>3599</td>\n",
       "    </tr>\n",
       "    <tr>\n",
       "      <th>2006-01-01</th>\n",
       "      <td>Buses</td>\n",
       "      <td>Omnibuses</td>\n",
       "      <td>3785</td>\n",
       "    </tr>\n",
       "    <tr>\n",
       "      <th>2007-01-01</th>\n",
       "      <td>Buses</td>\n",
       "      <td>Omnibuses</td>\n",
       "      <td>3761</td>\n",
       "    </tr>\n",
       "    <tr>\n",
       "      <th>2008-01-01</th>\n",
       "      <td>Buses</td>\n",
       "      <td>Omnibuses</td>\n",
       "      <td>3854</td>\n",
       "    </tr>\n",
       "    <tr>\n",
       "      <th>2009-01-01</th>\n",
       "      <td>Buses</td>\n",
       "      <td>Omnibuses</td>\n",
       "      <td>4045</td>\n",
       "    </tr>\n",
       "  </tbody>\n",
       "</table>\n",
       "</div>"
      ],
      "text/plain": [
       "           category       type  number\n",
       "year                                  \n",
       "2005-01-01    Buses  Omnibuses    3599\n",
       "2006-01-01    Buses  Omnibuses    3785\n",
       "2007-01-01    Buses  Omnibuses    3761\n",
       "2008-01-01    Buses  Omnibuses    3854\n",
       "2009-01-01    Buses  Omnibuses    4045"
      ]
     },
     "execution_count": 279,
     "metadata": {},
     "output_type": "execute_result"
    }
   ],
   "source": [
    "# get just the dataFrame for a category\n",
    "buses = df[df.category =='Buses']\n",
    "buses.head(5)"
   ]
  },
  {
   "cell_type": "code",
   "execution_count": 272,
   "metadata": {},
   "outputs": [
    {
     "name": "stdout",
     "output_type": "stream",
     "text": [
      "Cars & Station-wagons 60\n",
      "Taxis 13\n",
      "Motorcycles 12\n",
      "Goods & Other Vehicles 48\n",
      "Buses 65\n",
      "Tax Exempted Vehicles 52\n",
      "Cars and Station-wagons 5\n",
      "Motorcycles and Scooters 1\n",
      "Goods and Other Vehicles 4\n"
     ]
    }
   ],
   "source": [
    "# count of each category\n",
    "for name in df.category.unique():\n",
    "    print(name, df.loc[df.category == name, \"category\"].count())"
   ]
  },
  {
   "cell_type": "code",
   "execution_count": 306,
   "metadata": {},
   "outputs": [
    {
     "data": {
      "text/html": [
       "<div>\n",
       "<style scoped>\n",
       "    .dataframe tbody tr th:only-of-type {\n",
       "        vertical-align: middle;\n",
       "    }\n",
       "\n",
       "    .dataframe tbody tr th {\n",
       "        vertical-align: top;\n",
       "    }\n",
       "\n",
       "    .dataframe thead th {\n",
       "        text-align: right;\n",
       "    }\n",
       "</style>\n",
       "<table border=\"1\" class=\"dataframe\">\n",
       "  <thead>\n",
       "    <tr style=\"text-align: right;\">\n",
       "      <th></th>\n",
       "      <th>category</th>\n",
       "      <th>type</th>\n",
       "      <th>number</th>\n",
       "    </tr>\n",
       "    <tr>\n",
       "      <th>year</th>\n",
       "      <th></th>\n",
       "      <th></th>\n",
       "      <th></th>\n",
       "    </tr>\n",
       "  </thead>\n",
       "  <tbody>\n",
       "    <tr>\n",
       "      <th>2009-01-01</th>\n",
       "      <td>Cars &amp; Station-wagons</td>\n",
       "      <td>Private cars</td>\n",
       "      <td>497116</td>\n",
       "    </tr>\n",
       "    <tr>\n",
       "      <th>2009-01-01</th>\n",
       "      <td>Cars &amp; Station-wagons</td>\n",
       "      <td>Company cars</td>\n",
       "      <td>18874</td>\n",
       "    </tr>\n",
       "    <tr>\n",
       "      <th>2009-01-01</th>\n",
       "      <td>Cars &amp; Station-wagons</td>\n",
       "      <td>Tuition cars</td>\n",
       "      <td>1011</td>\n",
       "    </tr>\n",
       "    <tr>\n",
       "      <th>2009-01-01</th>\n",
       "      <td>Cars &amp; Station-wagons</td>\n",
       "      <td>Rental cars</td>\n",
       "      <td>12763</td>\n",
       "    </tr>\n",
       "    <tr>\n",
       "      <th>2009-01-01</th>\n",
       "      <td>Cars &amp; Station-wagons</td>\n",
       "      <td>Off peak cars</td>\n",
       "      <td>47224</td>\n",
       "    </tr>\n",
       "    <tr>\n",
       "      <th>2009-01-01</th>\n",
       "      <td>Taxis</td>\n",
       "      <td>Taxis</td>\n",
       "      <td>24702</td>\n",
       "    </tr>\n",
       "    <tr>\n",
       "      <th>2009-01-01</th>\n",
       "      <td>Motorcycles</td>\n",
       "      <td>Motorcycles</td>\n",
       "      <td>146337</td>\n",
       "    </tr>\n",
       "    <tr>\n",
       "      <th>2009-01-01</th>\n",
       "      <td>Goods &amp; Other Vehicles</td>\n",
       "      <td>Goods-cum-passenger vehicles (GPVs)</td>\n",
       "      <td>4771</td>\n",
       "    </tr>\n",
       "    <tr>\n",
       "      <th>2009-01-01</th>\n",
       "      <td>Goods &amp; Other Vehicles</td>\n",
       "      <td>Light Goods Vehicles (LGVs)</td>\n",
       "      <td>95185</td>\n",
       "    </tr>\n",
       "    <tr>\n",
       "      <th>2009-01-01</th>\n",
       "      <td>Goods &amp; Other Vehicles</td>\n",
       "      <td>Heavy Goods Vehicles (HGVs)</td>\n",
       "      <td>31884</td>\n",
       "    </tr>\n",
       "    <tr>\n",
       "      <th>2009-01-01</th>\n",
       "      <td>Goods &amp; Other Vehicles</td>\n",
       "      <td>Very Heavy Goods Vehicles (VHGVs)</td>\n",
       "      <td>12962</td>\n",
       "    </tr>\n",
       "    <tr>\n",
       "      <th>2009-01-01</th>\n",
       "      <td>Buses</td>\n",
       "      <td>Omnibuses</td>\n",
       "      <td>4045</td>\n",
       "    </tr>\n",
       "    <tr>\n",
       "      <th>2009-01-01</th>\n",
       "      <td>Buses</td>\n",
       "      <td>School buses (CB)</td>\n",
       "      <td>1849</td>\n",
       "    </tr>\n",
       "    <tr>\n",
       "      <th>2009-01-01</th>\n",
       "      <td>Buses</td>\n",
       "      <td>Private buses</td>\n",
       "      <td>2795</td>\n",
       "    </tr>\n",
       "    <tr>\n",
       "      <th>2009-01-01</th>\n",
       "      <td>Buses</td>\n",
       "      <td>Private hire buses</td>\n",
       "      <td>3586</td>\n",
       "    </tr>\n",
       "    <tr>\n",
       "      <th>2009-01-01</th>\n",
       "      <td>Buses</td>\n",
       "      <td>Excursion buses</td>\n",
       "      <td>3384</td>\n",
       "    </tr>\n",
       "    <tr>\n",
       "      <th>2009-01-01</th>\n",
       "      <td>Tax Exempted Vehicles</td>\n",
       "      <td>Cars &amp; Station-wagons</td>\n",
       "      <td>2383</td>\n",
       "    </tr>\n",
       "    <tr>\n",
       "      <th>2009-01-01</th>\n",
       "      <td>Tax Exempted Vehicles</td>\n",
       "      <td>Motorcycles</td>\n",
       "      <td>878</td>\n",
       "    </tr>\n",
       "    <tr>\n",
       "      <th>2009-01-01</th>\n",
       "      <td>Tax Exempted Vehicles</td>\n",
       "      <td>Buses</td>\n",
       "      <td>364</td>\n",
       "    </tr>\n",
       "    <tr>\n",
       "      <th>2009-01-01</th>\n",
       "      <td>Tax Exempted Vehicles</td>\n",
       "      <td>Goods &amp; Other Vehicles</td>\n",
       "      <td>13405</td>\n",
       "    </tr>\n",
       "  </tbody>\n",
       "</table>\n",
       "</div>"
      ],
      "text/plain": [
       "                          category                                 type  \\\n",
       "year                                                                      \n",
       "2009-01-01   Cars & Station-wagons                         Private cars   \n",
       "2009-01-01   Cars & Station-wagons                         Company cars   \n",
       "2009-01-01   Cars & Station-wagons                         Tuition cars   \n",
       "2009-01-01   Cars & Station-wagons                          Rental cars   \n",
       "2009-01-01   Cars & Station-wagons                        Off peak cars   \n",
       "2009-01-01                   Taxis                                Taxis   \n",
       "2009-01-01             Motorcycles                          Motorcycles   \n",
       "2009-01-01  Goods & Other Vehicles  Goods-cum-passenger vehicles (GPVs)   \n",
       "2009-01-01  Goods & Other Vehicles          Light Goods Vehicles (LGVs)   \n",
       "2009-01-01  Goods & Other Vehicles          Heavy Goods Vehicles (HGVs)   \n",
       "2009-01-01  Goods & Other Vehicles    Very Heavy Goods Vehicles (VHGVs)   \n",
       "2009-01-01                   Buses                            Omnibuses   \n",
       "2009-01-01                   Buses                    School buses (CB)   \n",
       "2009-01-01                   Buses                        Private buses   \n",
       "2009-01-01                   Buses                   Private hire buses   \n",
       "2009-01-01                   Buses                      Excursion buses   \n",
       "2009-01-01   Tax Exempted Vehicles                Cars & Station-wagons   \n",
       "2009-01-01   Tax Exempted Vehicles                          Motorcycles   \n",
       "2009-01-01   Tax Exempted Vehicles                                Buses   \n",
       "2009-01-01   Tax Exempted Vehicles               Goods & Other Vehicles   \n",
       "\n",
       "            number  \n",
       "year                \n",
       "2009-01-01  497116  \n",
       "2009-01-01   18874  \n",
       "2009-01-01    1011  \n",
       "2009-01-01   12763  \n",
       "2009-01-01   47224  \n",
       "2009-01-01   24702  \n",
       "2009-01-01  146337  \n",
       "2009-01-01    4771  \n",
       "2009-01-01   95185  \n",
       "2009-01-01   31884  \n",
       "2009-01-01   12962  \n",
       "2009-01-01    4045  \n",
       "2009-01-01    1849  \n",
       "2009-01-01    2795  \n",
       "2009-01-01    3586  \n",
       "2009-01-01    3384  \n",
       "2009-01-01    2383  \n",
       "2009-01-01     878  \n",
       "2009-01-01     364  \n",
       "2009-01-01   13405  "
      ]
     },
     "execution_count": 306,
     "metadata": {},
     "output_type": "execute_result"
    }
   ],
   "source": [
    "# pick a year (2009) and plot the distributions across types\n",
    "df_2009 = df[df.index == pd.to_datetime('2009')]\n",
    "df_2009"
   ]
  },
  {
   "cell_type": "code",
   "execution_count": 322,
   "metadata": {},
   "outputs": [
    {
     "data": {
      "text/plain": [
       "type\n",
       "Private cars                           497116\n",
       "Company cars                            18874\n",
       "Tuition cars                             1011\n",
       "Rental cars                             12763\n",
       "Off peak cars                           47224\n",
       "Taxis                                   24702\n",
       "Motorcycles                            146337\n",
       "Goods-cum-passenger vehicles (GPVs)      4771\n",
       "Light Goods Vehicles (LGVs)             95185\n",
       "Heavy Goods Vehicles (HGVs)             31884\n",
       "Very Heavy Goods Vehicles (VHGVs)       12962\n",
       "Omnibuses                                4045\n",
       "School buses (CB)                        1849\n",
       "Private buses                            2795\n",
       "Private hire buses                       3586\n",
       "Excursion buses                          3384\n",
       "Cars & Station-wagons                    2383\n",
       "Motorcycles                               878\n",
       "Buses                                     364\n",
       "Goods & Other Vehicles                  13405\n",
       "Name: number, dtype: int64"
      ]
     },
     "execution_count": 322,
     "metadata": {},
     "output_type": "execute_result"
    }
   ],
   "source": [
    "# Create a series with the type as the index, and the numbers as values\n",
    "s_2009_type = df_2009.number\n",
    "s_2009_type.index = df_2009.type\n",
    "s_2009_type"
   ]
  },
  {
   "cell_type": "code",
   "execution_count": 323,
   "metadata": {},
   "outputs": [
    {
     "data": {
      "text/plain": [
       "<matplotlib.axes._subplots.AxesSubplot at 0x2ab5ebe5da0>"
      ]
     },
     "execution_count": 323,
     "metadata": {},
     "output_type": "execute_result"
    },
    {
     "data": {
      "image/png": "[encoded data removed]",
      "text/plain": [
       "<matplotlib.figure.Figure at 0x2ab5ed76160>"
      ]
     },
     "metadata": {},
     "output_type": "display_data"
    }
   ],
   "source": [
    "# plot the bar chart\n",
    "s_2009_type.plot.bar()"
   ]
  },
  {
   "cell_type": "code",
   "execution_count": 328,
   "metadata": {},
   "outputs": [
    {
     "data": {
      "text/plain": [
       "<matplotlib.axes._subplots.AxesSubplot at 0x2ab5e8299b0>"
      ]
     },
     "execution_count": 328,
     "metadata": {},
     "output_type": "execute_result"
    },
    {
     "data": {
      "image/png": "[encoded data removed]",
      "text/plain": [
       "<matplotlib.figure.Figure at 0x2ab5edf5160>"
      ]
     },
     "metadata": {},
     "output_type": "display_data"
    }
   ],
   "source": [
    "# Let's ignore private cars because they outweigh everything else\n",
    "s_2009_type[s_2009_type.index != \"Private cars\"].plot.bar()"
   ]
  },
  {
   "cell_type": "code",
   "execution_count": 385,
   "metadata": {},
   "outputs": [
    {
     "data": {
      "text/html": [
       "<div>\n",
       "<style scoped>\n",
       "    .dataframe tbody tr th:only-of-type {\n",
       "        vertical-align: middle;\n",
       "    }\n",
       "\n",
       "    .dataframe tbody tr th {\n",
       "        vertical-align: top;\n",
       "    }\n",
       "\n",
       "    .dataframe thead th {\n",
       "        text-align: right;\n",
       "    }\n",
       "</style>\n",
       "<table border=\"1\" class=\"dataframe\">\n",
       "  <thead>\n",
       "    <tr style=\"text-align: right;\">\n",
       "      <th>category</th>\n",
       "      <th>Buses</th>\n",
       "      <th>Cars &amp; Station-wagons</th>\n",
       "      <th>Cars and Station-wagons</th>\n",
       "      <th>Goods &amp; Other Vehicles</th>\n",
       "      <th>Goods and Other Vehicles</th>\n",
       "      <th>Motorcycles</th>\n",
       "      <th>Motorcycles and Scooters</th>\n",
       "      <th>Tax Exempted Vehicles</th>\n",
       "      <th>Taxis</th>\n",
       "    </tr>\n",
       "    <tr>\n",
       "      <th>year</th>\n",
       "      <th></th>\n",
       "      <th></th>\n",
       "      <th></th>\n",
       "      <th></th>\n",
       "      <th></th>\n",
       "      <th></th>\n",
       "      <th></th>\n",
       "      <th></th>\n",
       "      <th></th>\n",
       "    </tr>\n",
       "  </thead>\n",
       "  <tbody>\n",
       "    <tr>\n",
       "      <th>2005-01-01</th>\n",
       "      <td>2644.0</td>\n",
       "      <td>87638.8</td>\n",
       "      <td>NaN</td>\n",
       "      <td>32048.25</td>\n",
       "      <td>NaN</td>\n",
       "      <td>138588.0</td>\n",
       "      <td>NaN</td>\n",
       "      <td>3603.50</td>\n",
       "      <td>22383.0</td>\n",
       "    </tr>\n",
       "    <tr>\n",
       "      <th>2006-01-01</th>\n",
       "      <td>2766.2</td>\n",
       "      <td>94461.6</td>\n",
       "      <td>NaN</td>\n",
       "      <td>33210.25</td>\n",
       "      <td>NaN</td>\n",
       "      <td>141881.0</td>\n",
       "      <td>NaN</td>\n",
       "      <td>3794.50</td>\n",
       "      <td>23334.0</td>\n",
       "    </tr>\n",
       "    <tr>\n",
       "      <th>2007-01-01</th>\n",
       "      <td>2838.4</td>\n",
       "      <td>102937.0</td>\n",
       "      <td>NaN</td>\n",
       "      <td>34651.00</td>\n",
       "      <td>NaN</td>\n",
       "      <td>143482.0</td>\n",
       "      <td>NaN</td>\n",
       "      <td>3981.75</td>\n",
       "      <td>24446.0</td>\n",
       "    </tr>\n",
       "    <tr>\n",
       "      <th>2008-01-01</th>\n",
       "      <td>2995.2</td>\n",
       "      <td>110091.0</td>\n",
       "      <td>NaN</td>\n",
       "      <td>35741.50</td>\n",
       "      <td>NaN</td>\n",
       "      <td>145288.0</td>\n",
       "      <td>NaN</td>\n",
       "      <td>4174.25</td>\n",
       "      <td>24300.0</td>\n",
       "    </tr>\n",
       "    <tr>\n",
       "      <th>2009-01-01</th>\n",
       "      <td>3131.8</td>\n",
       "      <td>115397.6</td>\n",
       "      <td>NaN</td>\n",
       "      <td>36200.50</td>\n",
       "      <td>NaN</td>\n",
       "      <td>146337.0</td>\n",
       "      <td>NaN</td>\n",
       "      <td>4257.50</td>\n",
       "      <td>24702.0</td>\n",
       "    </tr>\n",
       "    <tr>\n",
       "      <th>2010-01-01</th>\n",
       "      <td>3187.2</td>\n",
       "      <td>119037.0</td>\n",
       "      <td>NaN</td>\n",
       "      <td>35903.25</td>\n",
       "      <td>NaN</td>\n",
       "      <td>147282.0</td>\n",
       "      <td>NaN</td>\n",
       "      <td>4435.00</td>\n",
       "      <td>26073.0</td>\n",
       "    </tr>\n",
       "    <tr>\n",
       "      <th>2011-01-01</th>\n",
       "      <td>3330.4</td>\n",
       "      <td>120744.6</td>\n",
       "      <td>NaN</td>\n",
       "      <td>36289.50</td>\n",
       "      <td>NaN</td>\n",
       "      <td>145680.0</td>\n",
       "      <td>NaN</td>\n",
       "      <td>4610.00</td>\n",
       "      <td>27051.0</td>\n",
       "    </tr>\n",
       "    <tr>\n",
       "      <th>2012-01-01</th>\n",
       "      <td>3353.6</td>\n",
       "      <td>123514.0</td>\n",
       "      <td>NaN</td>\n",
       "      <td>36261.50</td>\n",
       "      <td>NaN</td>\n",
       "      <td>143286.0</td>\n",
       "      <td>NaN</td>\n",
       "      <td>4757.50</td>\n",
       "      <td>28210.0</td>\n",
       "    </tr>\n",
       "    <tr>\n",
       "      <th>2013-01-01</th>\n",
       "      <td>3413.0</td>\n",
       "      <td>124269.0</td>\n",
       "      <td>NaN</td>\n",
       "      <td>36050.50</td>\n",
       "      <td>NaN</td>\n",
       "      <td>144307.0</td>\n",
       "      <td>NaN</td>\n",
       "      <td>4889.00</td>\n",
       "      <td>27695.0</td>\n",
       "    </tr>\n",
       "    <tr>\n",
       "      <th>2014-01-01</th>\n",
       "      <td>3421.8</td>\n",
       "      <td>123321.8</td>\n",
       "      <td>NaN</td>\n",
       "      <td>36126.75</td>\n",
       "      <td>NaN</td>\n",
       "      <td>144404.0</td>\n",
       "      <td>NaN</td>\n",
       "      <td>5168.00</td>\n",
       "      <td>28736.0</td>\n",
       "    </tr>\n",
       "    <tr>\n",
       "      <th>2015-01-01</th>\n",
       "      <td>3548.0</td>\n",
       "      <td>120462.2</td>\n",
       "      <td>NaN</td>\n",
       "      <td>35993.00</td>\n",
       "      <td>NaN</td>\n",
       "      <td>143279.0</td>\n",
       "      <td>NaN</td>\n",
       "      <td>5421.25</td>\n",
       "      <td>28259.0</td>\n",
       "    </tr>\n",
       "    <tr>\n",
       "      <th>2016-01-01</th>\n",
       "      <td>3667.6</td>\n",
       "      <td>120251.4</td>\n",
       "      <td>NaN</td>\n",
       "      <td>35991.50</td>\n",
       "      <td>NaN</td>\n",
       "      <td>142439.0</td>\n",
       "      <td>NaN</td>\n",
       "      <td>5724.00</td>\n",
       "      <td>27534.0</td>\n",
       "    </tr>\n",
       "    <tr>\n",
       "      <th>2017-01-01</th>\n",
       "      <td>3762.8</td>\n",
       "      <td>NaN</td>\n",
       "      <td>122451.2</td>\n",
       "      <td>NaN</td>\n",
       "      <td>35714.25</td>\n",
       "      <td>NaN</td>\n",
       "      <td>141304.0</td>\n",
       "      <td>5867.75</td>\n",
       "      <td>23140.0</td>\n",
       "    </tr>\n",
       "  </tbody>\n",
       "</table>\n",
       "</div>"
      ],
      "text/plain": [
       "category     Buses  Cars & Station-wagons  Cars and Station-wagons  \\\n",
       "year                                                                 \n",
       "2005-01-01  2644.0                87638.8                      NaN   \n",
       "2006-01-01  2766.2                94461.6                      NaN   \n",
       "2007-01-01  2838.4               102937.0                      NaN   \n",
       "2008-01-01  2995.2               110091.0                      NaN   \n",
       "2009-01-01  3131.8               115397.6                      NaN   \n",
       "2010-01-01  3187.2               119037.0                      NaN   \n",
       "2011-01-01  3330.4               120744.6                      NaN   \n",
       "2012-01-01  3353.6               123514.0                      NaN   \n",
       "2013-01-01  3413.0               124269.0                      NaN   \n",
       "2014-01-01  3421.8               123321.8                      NaN   \n",
       "2015-01-01  3548.0               120462.2                      NaN   \n",
       "2016-01-01  3667.6               120251.4                      NaN   \n",
       "2017-01-01  3762.8                    NaN                 122451.2   \n",
       "\n",
       "category    Goods & Other Vehicles  Goods and Other Vehicles  Motorcycles  \\\n",
       "year                                                                        \n",
       "2005-01-01                32048.25                       NaN     138588.0   \n",
       "2006-01-01                33210.25                       NaN     141881.0   \n",
       "2007-01-01                34651.00                       NaN     143482.0   \n",
       "2008-01-01                35741.50                       NaN     145288.0   \n",
       "2009-01-01                36200.50                       NaN     146337.0   \n",
       "2010-01-01                35903.25                       NaN     147282.0   \n",
       "2011-01-01                36289.50                       NaN     145680.0   \n",
       "2012-01-01                36261.50                       NaN     143286.0   \n",
       "2013-01-01                36050.50                       NaN     144307.0   \n",
       "2014-01-01                36126.75                       NaN     144404.0   \n",
       "2015-01-01                35993.00                       NaN     143279.0   \n",
       "2016-01-01                35991.50                       NaN     142439.0   \n",
       "2017-01-01                     NaN                  35714.25          NaN   \n",
       "\n",
       "category    Motorcycles and Scooters  Tax Exempted Vehicles    Taxis  \n",
       "year                                                                  \n",
       "2005-01-01                       NaN                3603.50  22383.0  \n",
       "2006-01-01                       NaN                3794.50  23334.0  \n",
       "2007-01-01                       NaN                3981.75  24446.0  \n",
       "2008-01-01                       NaN                4174.25  24300.0  \n",
       "2009-01-01                       NaN                4257.50  24702.0  \n",
       "2010-01-01                       NaN                4435.00  26073.0  \n",
       "2011-01-01                       NaN                4610.00  27051.0  \n",
       "2012-01-01                       NaN                4757.50  28210.0  \n",
       "2013-01-01                       NaN                4889.00  27695.0  \n",
       "2014-01-01                       NaN                5168.00  28736.0  \n",
       "2015-01-01                       NaN                5421.25  28259.0  \n",
       "2016-01-01                       NaN                5724.00  27534.0  \n",
       "2017-01-01                  141304.0                5867.75  23140.0  "
      ]
     },
     "execution_count": 385,
     "metadata": {},
     "output_type": "execute_result"
    }
   ],
   "source": [
    "# We can make a stacked plot by plotting across several years\n",
    "pv_year_category = pd.pivot_table(df, index=\"year\", columns=\"category\", values=\"number\")\n",
    "\n",
    "pv_year_category"
   ]
  },
  {
   "cell_type": "code",
   "execution_count": 387,
   "metadata": {},
   "outputs": [
    {
     "data": {
      "text/plain": [
       "<matplotlib.axes._subplots.AxesSubplot at 0x2ab644edeb8>"
      ]
     },
     "execution_count": 387,
     "metadata": {},
     "output_type": "execute_result"
    },
    {
     "data": {
      "image/png": "[encoded data removed]",
      "text/plain": [
       "<matplotlib.figure.Figure at 0x2ab644a9198>"
      ]
     },
     "metadata": {},
     "output_type": "display_data"
    }
   ],
   "source": [
    "pv_year_category.plot(kind='bar', stacked=True)"
   ]
  },
  {
   "cell_type": "code",
   "execution_count": null,
   "metadata": {},
   "outputs": [],
   "source": []
  }
 ],
 "metadata": {
  "celltoolbar": "Slideshow",
  "kernelspec": {
   "display_name": "Python 3",
   "language": "python",
   "name": "python3"
  },
  "language_info": {
   "codemirror_mode": {
    "name": "ipython",
    "version": 3
   },
   "file_extension": ".py",
   "mimetype": "text/x-python",
   "name": "python",
   "nbconvert_exporter": "python",
   "pygments_lexer": "ipython3",
   "version": "3.6.4"
  },
  "livereveal": {
   "autolaunch": false,
   "overlay": "<div class='logo'><img src='assets/Stackup_Logo_Small.png' width='90%'/></div>"
  }
 },
 "nbformat": 4,
 "nbformat_minor": 2
}
