{
 "cells": [
  {
   "cell_type": "markdown",
   "metadata": {
    "slideshow": {
     "slide_type": "-"
    }
   },
   "source": [
    "# import pandas as pd"
   ]
  },
  {
   "cell_type": "markdown",
   "metadata": {
    "slideshow": {
     "slide_type": "-"
    }
   },
   "source": [
    "## Workshop: Pandas and Data Manipulation\n",
    "\n",
    "**pandas** is a Python package providing fast, flexible, and expressive data\n",
    "structures designed to make working with \"relational\" or \"labeled\" data both\n",
    "easy and intuitive. It aims to be the fundamental high-level building block for\n",
    "doing practical, **real world** data analysis in Python. Additionally, it has\n",
    "the broader goal of becoming **the most powerful and flexible open source data\n",
    "analysis / manipulation tool available in any language**. It is already well on\n",
    "its way toward this goal.\n",
    "\n",
    "### Main Features\n",
    "Here are just a few of the things that pandas does well:\n",
    "\n",
    "  - Easy handling of missing data in floating point as well as non-floating\n",
    "    point data\n",
    "  - Size mutability: columns can be inserted and deleted from DataFrame and\n",
    "    higher dimensional objects\n",
    "  - Automatic and explicit data alignment: objects can  be explicitly aligned\n",
    "    to a set of labels, or the user can simply ignore the labels and let\n",
    "    `Series`, `DataFrame`, etc. automatically align the data for you in\n",
    "    computations\n",
    "  - Powerful, flexible group by functionality to perform split-apply-combine\n",
    "    operations on data sets, for both aggregating and transforming data\n",
    "  - Make it easy to convert ragged, differently-indexed data in other Python\n",
    "    and NumPy data structures into DataFrame objects\n",
    "  - Intelligent label-based slicing, fancy indexing, and subsetting of large\n",
    "    data sets\n",
    "  - Intuitive merging and joining data sets\n",
    "  - Flexible reshaping and pivoting of data sets\n",
    "  - Hierarchical labeling of axes (possible to have multiple labels per tick)\n",
    "  - Robust IO tools for loading data from flat files (CSV and delimited),\n",
    "    Excel files, databases, and saving/loading data from the ultrafast HDF5\n",
    "    format\n",
    "  - Time series-specific functionality: date range generation and frequency\n",
    "    conversion, moving window statistics, moving window linear regressions,\n",
    "    date shifting and lagging, etc.\n",
    "    \n",
    "Source: official documentation\n",
    "[run command: pd?]"
   ]
  },
  {
   "cell_type": "markdown",
   "metadata": {
    "slideshow": {
     "slide_type": "slide"
    }
   },
   "source": [
    "### Cheatsheet\n",
    "\n",
    "https://s3.amazonaws.com/assets.datacamp.com/blog_assets/PandasPythonForDataScience.pdf"
   ]
  },
  {
   "cell_type": "markdown",
   "metadata": {
    "slideshow": {
     "slide_type": "slide"
    }
   },
   "source": [
    "### References\n",
    "\n",
    "1. https://pandas.pydata.org/pandas-docs/stable/  \n",
    "2. Python Data Science Handbook by Jake VanderPlas\n",
    "3. Python for Data Analysis: Data Wrangling with Pandas, NumPy, and IPython by Wes McKinney"
   ]
  },
  {
   "cell_type": "markdown",
   "metadata": {
    "slideshow": {
     "slide_type": "slide"
    }
   },
   "source": [
    "### Installation\n",
    "\n",
    "Windows: Start Button -> \"Anaconda Prompt\"\n",
    "\n",
    "Ubuntu / MacOS: conda should be in your path\n",
    "\n",
    "Activate the environment\n",
    "\n",
    "```\n",
    "conda activate module1\n",
    "```"
   ]
  },
  {
   "cell_type": "markdown",
   "metadata": {
    "slideshow": {
     "slide_type": "fragment"
    }
   },
   "source": [
    "Pandas should already be installed. If not, install it:\n",
    "\n",
    "```\n",
    "conda install pandas\n",
    "```"
   ]
  },
  {
   "cell_type": "markdown",
   "metadata": {
    "slideshow": {
     "slide_type": "slide"
    }
   },
   "source": [
    "Tip: You can check the versions installed by calling Python with a script:\n",
    "```\n",
    "python -c \"import pandas; print(pandas.__version__)\"\n",
    "```"
   ]
  },
  {
   "cell_type": "markdown",
   "metadata": {
    "slideshow": {
     "slide_type": "slide"
    }
   },
   "source": [
    "### SGD to USD Exchange Rate Data\n",
    "\n",
    "Instead of constructing sample arrays, we'll be using real data to play with numpy concepts. \n",
    "\n",
    "We'll use some data from data.gov.sg."
   ]
  },
  {
   "cell_type": "code",
   "execution_count": 316,
   "metadata": {
    "slideshow": {
     "slide_type": "slide"
    }
   },
   "outputs": [
    {
     "data": {
      "text/html": [
       "\n",
       "        <iframe\n",
       "            width=\"600\"\n",
       "            height=\"400\"\n",
       "            src=\"https://data.gov.sg/dataset/exchange-rates-sgd-per-unit-of-usd-average-for-period-annual/resource/f927c39b-3b44-492e-8b54-174e775e0d98/view/43207b9f-1554-4afb-98fe-80dfdd6bb4f6\"\n",
       "            frameborder=\"0\"\n",
       "            allowfullscreen\n",
       "        ></iframe>\n",
       "        "
      ],
      "text/plain": [
       "<IPython.lib.display.IFrame at 0x1f77ee17c88>"
      ]
     },
     "execution_count": 316,
     "metadata": {},
     "output_type": "execute_result"
    }
   ],
   "source": [
    "from IPython.display import IFrame\n",
    "\n",
    "IFrame('https://data.gov.sg/dataset/exchange-rates-sgd-per-unit-of-usd-average-for-period-annual/resource/f927c39b-3b44-492e-8b54-174e775e0d98/view/43207b9f-1554-4afb-98fe-80dfdd6bb4f6', width=600, height=400)"
   ]
  },
  {
   "cell_type": "markdown",
   "metadata": {
    "slideshow": {
     "slide_type": "slide"
    }
   },
   "source": [
    "### Download Instructions\n",
    "1. Go to https://data.gov.sg/dataset/exchange-rates-sgd-per-unit-of-usd-average-for-period-annual\n",
    "2. Click on the `Download` button\n",
    "3. Unzip and extract the `.csv` file. Note the path for use below."
   ]
  },
  {
   "cell_type": "code",
   "execution_count": 464,
   "metadata": {
    "slideshow": {
     "slide_type": "-"
    }
   },
   "outputs": [
    {
     "data": {
      "text/plain": [
       "array([ 2.0443,  2.0313,  2.0205, ...,  1.3763,  1.3834,  1.3827])"
      ]
     },
     "execution_count": 464,
     "metadata": {},
     "output_type": "execute_result"
    }
   ],
   "source": [
    "import pandas as pd\n",
    "\n",
    "# we are using some pandas tricks to parse dates automagically\n",
    "sgd_usd = pd.read_csv('D:/tmp/exchange-rates/exchange-rates-sgd-per-unit-of-usd-daily.csv',\n",
    "                     parse_dates=True, index_col=0, infer_datetime_format=True,\n",
    "                     squeeze=True)"
   ]
  },
  {
   "cell_type": "markdown",
   "metadata": {
    "slideshow": {
     "slide_type": "-"
    }
   },
   "source": [
    "Where did the dates go? They are part of the pandas Series:"
   ]
  },
  {
   "cell_type": "code",
   "execution_count": 326,
   "metadata": {
    "slideshow": {
     "slide_type": "-"
    }
   },
   "outputs": [
    {
     "data": {
      "text/plain": [
       "date\n",
       "1988-01-08    2.0443\n",
       "1988-01-15    2.0313\n",
       "1988-01-22    2.0205\n",
       "1988-01-29    2.0182\n",
       "1988-02-05    2.0160\n",
       "Name: exchange_rate_usd, dtype: float64"
      ]
     },
     "execution_count": 326,
     "metadata": {},
     "output_type": "execute_result"
    }
   ],
   "source": [
    "# inspect the first 5 entries of the Series\n",
    "sgd_usd.head(5)"
   ]
  },
  {
   "cell_type": "markdown",
   "metadata": {
    "slideshow": {
     "slide_type": "-"
    }
   },
   "source": [
    "### Merging datasets\n",
    "\n",
    "Let's say we need to also show Singapore Dollar and Renminbi (CNY) exchange rates, but from a different data set.\n",
    "\n",
    "This dataset is already downloaded for you in the `data` folder."
   ]
  },
  {
   "cell_type": "code",
   "execution_count": 300,
   "metadata": {
    "slideshow": {
     "slide_type": "-"
    }
   },
   "outputs": [
    {
     "name": "stdout",
     "output_type": "stream",
     "text": [
      "First 5 entries:\n"
     ]
    },
    {
     "data": {
      "text/plain": [
       "Date\n",
       "2018-05-27    4.7499\n",
       "2018-05-26    4.7620\n",
       "2018-05-25    4.7610\n",
       "2018-05-24    4.7618\n",
       "2018-05-23    4.7553\n",
       "Name: Singapore Dollar to Chinese Yuan, dtype: float64"
      ]
     },
     "execution_count": 300,
     "metadata": {},
     "output_type": "execute_result"
    }
   ],
   "source": [
    "# data source: https://www.exchangerates.org.uk\n",
    "sgd_cny = pd.read_csv('data/sgd_cny_rates_daily.csv',\n",
    "                     parse_dates=True, index_col=0, infer_datetime_format=True,\n",
    "                     squeeze=True)\n",
    "print('First 5 entries:')\n",
    "sgd_cny.head(5)"
   ]
  },
  {
   "cell_type": "code",
   "execution_count": 220,
   "metadata": {},
   "outputs": [
    {
     "data": {
      "text/html": [
       "<div>\n",
       "<style scoped>\n",
       "    .dataframe tbody tr th:only-of-type {\n",
       "        vertical-align: middle;\n",
       "    }\n",
       "\n",
       "    .dataframe tbody tr th {\n",
       "        vertical-align: top;\n",
       "    }\n",
       "\n",
       "    .dataframe thead th {\n",
       "        text-align: right;\n",
       "    }\n",
       "</style>\n",
       "<table border=\"1\" class=\"dataframe\">\n",
       "  <thead>\n",
       "    <tr style=\"text-align: right;\">\n",
       "      <th></th>\n",
       "      <th>exchange_rate_usd</th>\n",
       "      <th>Singapore Dollar to Chinese Yuan</th>\n",
       "    </tr>\n",
       "  </thead>\n",
       "  <tbody>\n",
       "    <tr>\n",
       "      <th>2009-10-06</th>\n",
       "      <td>1.4046</td>\n",
       "      <td>4.8734</td>\n",
       "    </tr>\n",
       "    <tr>\n",
       "      <th>2009-10-07</th>\n",
       "      <td>1.4031</td>\n",
       "      <td>4.8754</td>\n",
       "    </tr>\n",
       "    <tr>\n",
       "      <th>2009-10-08</th>\n",
       "      <td>1.3949</td>\n",
       "      <td>4.9082</td>\n",
       "    </tr>\n",
       "    <tr>\n",
       "      <th>2009-10-09</th>\n",
       "      <td>1.3918</td>\n",
       "      <td>4.9039</td>\n",
       "    </tr>\n",
       "    <tr>\n",
       "      <th>2009-10-12</th>\n",
       "      <td>1.4014</td>\n",
       "      <td>4.8791</td>\n",
       "    </tr>\n",
       "    <tr>\n",
       "      <th>2009-10-13</th>\n",
       "      <td>1.3972</td>\n",
       "      <td>4.8871</td>\n",
       "    </tr>\n",
       "    <tr>\n",
       "      <th>2009-10-14</th>\n",
       "      <td>1.3939</td>\n",
       "      <td>4.9050</td>\n",
       "    </tr>\n",
       "    <tr>\n",
       "      <th>2009-10-15</th>\n",
       "      <td>1.3861</td>\n",
       "      <td>4.9157</td>\n",
       "    </tr>\n",
       "    <tr>\n",
       "      <th>2009-10-16</th>\n",
       "      <td>1.3884</td>\n",
       "      <td>4.9051</td>\n",
       "    </tr>\n",
       "    <tr>\n",
       "      <th>2009-10-19</th>\n",
       "      <td>1.3953</td>\n",
       "      <td>4.9037</td>\n",
       "    </tr>\n",
       "    <tr>\n",
       "      <th>2009-10-20</th>\n",
       "      <td>1.3882</td>\n",
       "      <td>4.9037</td>\n",
       "    </tr>\n",
       "    <tr>\n",
       "      <th>2009-10-21</th>\n",
       "      <td>1.3951</td>\n",
       "      <td>4.9015</td>\n",
       "    </tr>\n",
       "    <tr>\n",
       "      <th>2009-10-22</th>\n",
       "      <td>1.3964</td>\n",
       "      <td>4.8969</td>\n",
       "    </tr>\n",
       "    <tr>\n",
       "      <th>2009-10-23</th>\n",
       "      <td>1.3928</td>\n",
       "      <td>4.9017</td>\n",
       "    </tr>\n",
       "    <tr>\n",
       "      <th>2009-10-26</th>\n",
       "      <td>1.3925</td>\n",
       "      <td>4.8957</td>\n",
       "    </tr>\n",
       "    <tr>\n",
       "      <th>2009-10-27</th>\n",
       "      <td>1.3976</td>\n",
       "      <td>4.8869</td>\n",
       "    </tr>\n",
       "    <tr>\n",
       "      <th>2009-10-28</th>\n",
       "      <td>1.3995</td>\n",
       "      <td>4.8742</td>\n",
       "    </tr>\n",
       "    <tr>\n",
       "      <th>2009-10-29</th>\n",
       "      <td>1.4039</td>\n",
       "      <td>4.8788</td>\n",
       "    </tr>\n",
       "    <tr>\n",
       "      <th>2009-10-30</th>\n",
       "      <td>1.3968</td>\n",
       "      <td>4.8838</td>\n",
       "    </tr>\n",
       "    <tr>\n",
       "      <th>2009-11-02</th>\n",
       "      <td>1.4004</td>\n",
       "      <td>4.8791</td>\n",
       "    </tr>\n",
       "    <tr>\n",
       "      <th>2009-11-03</th>\n",
       "      <td>1.3976</td>\n",
       "      <td>4.8768</td>\n",
       "    </tr>\n",
       "    <tr>\n",
       "      <th>2009-11-04</th>\n",
       "      <td>1.3998</td>\n",
       "      <td>4.8842</td>\n",
       "    </tr>\n",
       "    <tr>\n",
       "      <th>2009-11-05</th>\n",
       "      <td>1.3975</td>\n",
       "      <td>4.8901</td>\n",
       "    </tr>\n",
       "    <tr>\n",
       "      <th>2009-11-06</th>\n",
       "      <td>1.3946</td>\n",
       "      <td>4.9008</td>\n",
       "    </tr>\n",
       "    <tr>\n",
       "      <th>2009-11-09</th>\n",
       "      <td>1.3884</td>\n",
       "      <td>4.9223</td>\n",
       "    </tr>\n",
       "    <tr>\n",
       "      <th>2009-11-10</th>\n",
       "      <td>1.3882</td>\n",
       "      <td>4.9190</td>\n",
       "    </tr>\n",
       "    <tr>\n",
       "      <th>2009-11-11</th>\n",
       "      <td>1.3874</td>\n",
       "      <td>4.9240</td>\n",
       "    </tr>\n",
       "    <tr>\n",
       "      <th>2009-11-12</th>\n",
       "      <td>1.3865</td>\n",
       "      <td>4.9194</td>\n",
       "    </tr>\n",
       "    <tr>\n",
       "      <th>2009-11-13</th>\n",
       "      <td>1.3890</td>\n",
       "      <td>4.9221</td>\n",
       "    </tr>\n",
       "    <tr>\n",
       "      <th>2009-11-16</th>\n",
       "      <td>1.3848</td>\n",
       "      <td>4.9291</td>\n",
       "    </tr>\n",
       "    <tr>\n",
       "      <th>...</th>\n",
       "      <td>...</td>\n",
       "      <td>...</td>\n",
       "    </tr>\n",
       "    <tr>\n",
       "      <th>2015-09-04</th>\n",
       "      <td>1.4183</td>\n",
       "      <td>4.4619</td>\n",
       "    </tr>\n",
       "    <tr>\n",
       "      <th>2015-09-07</th>\n",
       "      <td>1.4249</td>\n",
       "      <td>4.4597</td>\n",
       "    </tr>\n",
       "    <tr>\n",
       "      <th>2015-09-08</th>\n",
       "      <td>1.4262</td>\n",
       "      <td>4.4912</td>\n",
       "    </tr>\n",
       "    <tr>\n",
       "      <th>2015-09-09</th>\n",
       "      <td>1.4140</td>\n",
       "      <td>4.4943</td>\n",
       "    </tr>\n",
       "    <tr>\n",
       "      <th>2015-09-10</th>\n",
       "      <td>1.4212</td>\n",
       "      <td>4.5138</td>\n",
       "    </tr>\n",
       "    <tr>\n",
       "      <th>2015-09-14</th>\n",
       "      <td>1.4104</td>\n",
       "      <td>4.5322</td>\n",
       "    </tr>\n",
       "    <tr>\n",
       "      <th>2015-09-15</th>\n",
       "      <td>1.4011</td>\n",
       "      <td>4.5436</td>\n",
       "    </tr>\n",
       "    <tr>\n",
       "      <th>2015-09-16</th>\n",
       "      <td>1.4008</td>\n",
       "      <td>4.5603</td>\n",
       "    </tr>\n",
       "    <tr>\n",
       "      <th>2015-09-17</th>\n",
       "      <td>1.3988</td>\n",
       "      <td>4.5562</td>\n",
       "    </tr>\n",
       "    <tr>\n",
       "      <th>2015-09-18</th>\n",
       "      <td>1.4003</td>\n",
       "      <td>4.5492</td>\n",
       "    </tr>\n",
       "    <tr>\n",
       "      <th>2015-09-21</th>\n",
       "      <td>1.4050</td>\n",
       "      <td>4.5164</td>\n",
       "    </tr>\n",
       "    <tr>\n",
       "      <th>2015-09-22</th>\n",
       "      <td>1.4128</td>\n",
       "      <td>4.4982</td>\n",
       "    </tr>\n",
       "    <tr>\n",
       "      <th>2015-09-23</th>\n",
       "      <td>1.4219</td>\n",
       "      <td>4.4760</td>\n",
       "    </tr>\n",
       "    <tr>\n",
       "      <th>2015-09-25</th>\n",
       "      <td>1.4243</td>\n",
       "      <td>4.4727</td>\n",
       "    </tr>\n",
       "    <tr>\n",
       "      <th>2015-09-28</th>\n",
       "      <td>1.4259</td>\n",
       "      <td>4.4569</td>\n",
       "    </tr>\n",
       "    <tr>\n",
       "      <th>2015-09-29</th>\n",
       "      <td>1.4319</td>\n",
       "      <td>4.4568</td>\n",
       "    </tr>\n",
       "    <tr>\n",
       "      <th>2015-09-30</th>\n",
       "      <td>1.4253</td>\n",
       "      <td>4.4652</td>\n",
       "    </tr>\n",
       "    <tr>\n",
       "      <th>2015-10-01</th>\n",
       "      <td>1.4258</td>\n",
       "      <td>4.4436</td>\n",
       "    </tr>\n",
       "    <tr>\n",
       "      <th>2015-10-02</th>\n",
       "      <td>1.4356</td>\n",
       "      <td>4.4374</td>\n",
       "    </tr>\n",
       "    <tr>\n",
       "      <th>2015-10-05</th>\n",
       "      <td>1.4318</td>\n",
       "      <td>4.4740</td>\n",
       "    </tr>\n",
       "    <tr>\n",
       "      <th>2015-10-06</th>\n",
       "      <td>1.4237</td>\n",
       "      <td>4.4741</td>\n",
       "    </tr>\n",
       "    <tr>\n",
       "      <th>2015-10-07</th>\n",
       "      <td>1.4243</td>\n",
       "      <td>4.5019</td>\n",
       "    </tr>\n",
       "    <tr>\n",
       "      <th>2015-10-08</th>\n",
       "      <td>1.4140</td>\n",
       "      <td>4.5229</td>\n",
       "    </tr>\n",
       "    <tr>\n",
       "      <th>2015-10-09</th>\n",
       "      <td>1.4018</td>\n",
       "      <td>4.5500</td>\n",
       "    </tr>\n",
       "    <tr>\n",
       "      <th>2015-10-12</th>\n",
       "      <td>1.4020</td>\n",
       "      <td>4.5191</td>\n",
       "    </tr>\n",
       "    <tr>\n",
       "      <th>2015-10-13</th>\n",
       "      <td>1.4030</td>\n",
       "      <td>4.5226</td>\n",
       "    </tr>\n",
       "    <tr>\n",
       "      <th>2015-10-14</th>\n",
       "      <td>1.3933</td>\n",
       "      <td>4.6034</td>\n",
       "    </tr>\n",
       "    <tr>\n",
       "      <th>2015-10-15</th>\n",
       "      <td>1.3763</td>\n",
       "      <td>4.5995</td>\n",
       "    </tr>\n",
       "    <tr>\n",
       "      <th>2015-10-16</th>\n",
       "      <td>1.3834</td>\n",
       "      <td>4.5894</td>\n",
       "    </tr>\n",
       "    <tr>\n",
       "      <th>2015-10-19</th>\n",
       "      <td>1.3827</td>\n",
       "      <td>4.5781</td>\n",
       "    </tr>\n",
       "  </tbody>\n",
       "</table>\n",
       "<p>1562 rows × 2 columns</p>\n",
       "</div>"
      ],
      "text/plain": [
       "            exchange_rate_usd  Singapore Dollar to Chinese Yuan\n",
       "2009-10-06             1.4046                            4.8734\n",
       "2009-10-07             1.4031                            4.8754\n",
       "2009-10-08             1.3949                            4.9082\n",
       "2009-10-09             1.3918                            4.9039\n",
       "2009-10-12             1.4014                            4.8791\n",
       "2009-10-13             1.3972                            4.8871\n",
       "2009-10-14             1.3939                            4.9050\n",
       "2009-10-15             1.3861                            4.9157\n",
       "2009-10-16             1.3884                            4.9051\n",
       "2009-10-19             1.3953                            4.9037\n",
       "2009-10-20             1.3882                            4.9037\n",
       "2009-10-21             1.3951                            4.9015\n",
       "2009-10-22             1.3964                            4.8969\n",
       "2009-10-23             1.3928                            4.9017\n",
       "2009-10-26             1.3925                            4.8957\n",
       "2009-10-27             1.3976                            4.8869\n",
       "2009-10-28             1.3995                            4.8742\n",
       "2009-10-29             1.4039                            4.8788\n",
       "2009-10-30             1.3968                            4.8838\n",
       "2009-11-02             1.4004                            4.8791\n",
       "2009-11-03             1.3976                            4.8768\n",
       "2009-11-04             1.3998                            4.8842\n",
       "2009-11-05             1.3975                            4.8901\n",
       "2009-11-06             1.3946                            4.9008\n",
       "2009-11-09             1.3884                            4.9223\n",
       "2009-11-10             1.3882                            4.9190\n",
       "2009-11-11             1.3874                            4.9240\n",
       "2009-11-12             1.3865                            4.9194\n",
       "2009-11-13             1.3890                            4.9221\n",
       "2009-11-16             1.3848                            4.9291\n",
       "...                       ...                               ...\n",
       "2015-09-04             1.4183                            4.4619\n",
       "2015-09-07             1.4249                            4.4597\n",
       "2015-09-08             1.4262                            4.4912\n",
       "2015-09-09             1.4140                            4.4943\n",
       "2015-09-10             1.4212                            4.5138\n",
       "2015-09-14             1.4104                            4.5322\n",
       "2015-09-15             1.4011                            4.5436\n",
       "2015-09-16             1.4008                            4.5603\n",
       "2015-09-17             1.3988                            4.5562\n",
       "2015-09-18             1.4003                            4.5492\n",
       "2015-09-21             1.4050                            4.5164\n",
       "2015-09-22             1.4128                            4.4982\n",
       "2015-09-23             1.4219                            4.4760\n",
       "2015-09-25             1.4243                            4.4727\n",
       "2015-09-28             1.4259                            4.4569\n",
       "2015-09-29             1.4319                            4.4568\n",
       "2015-09-30             1.4253                            4.4652\n",
       "2015-10-01             1.4258                            4.4436\n",
       "2015-10-02             1.4356                            4.4374\n",
       "2015-10-05             1.4318                            4.4740\n",
       "2015-10-06             1.4237                            4.4741\n",
       "2015-10-07             1.4243                            4.5019\n",
       "2015-10-08             1.4140                            4.5229\n",
       "2015-10-09             1.4018                            4.5500\n",
       "2015-10-12             1.4020                            4.5191\n",
       "2015-10-13             1.4030                            4.5226\n",
       "2015-10-14             1.3933                            4.6034\n",
       "2015-10-15             1.3763                            4.5995\n",
       "2015-10-16             1.3834                            4.5894\n",
       "2015-10-19             1.3827                            4.5781\n",
       "\n",
       "[1562 rows x 2 columns]"
      ]
     },
     "execution_count": 220,
     "metadata": {},
     "output_type": "execute_result"
    }
   ],
   "source": [
    "df_all = pd.DataFrame(df)\n",
    "df_all.join(df_rmb).dropna()\n"
   ]
  },
  {
   "cell_type": "markdown",
   "metadata": {
    "slideshow": {
     "slide_type": "slide"
    }
   },
   "source": [
    "# import matplotlib.pyplot as plt"
   ]
  },
  {
   "cell_type": "markdown",
   "metadata": {
    "slideshow": {
     "slide_type": "slide"
    }
   },
   "source": [
    "## Workshop: Matplotlib and Data Visualization"
   ]
  },
  {
   "cell_type": "markdown",
   "metadata": {
    "slideshow": {
     "slide_type": "slide"
    }
   },
   "source": [
    "# Putting everything together"
   ]
  },
  {
   "cell_type": "markdown",
   "metadata": {
    "slideshow": {
     "slide_type": "slide"
    }
   },
   "source": [
    "## Workshop: Data Workflow"
   ]
  },
  {
   "cell_type": "markdown",
   "metadata": {
    "slideshow": {
     "slide_type": "slide"
    }
   },
   "source": [
    "## Assessment 1: Data Workflow"
   ]
  },
  {
   "cell_type": "code",
   "execution_count": null,
   "metadata": {},
   "outputs": [],
   "source": []
  }
 ],
 "metadata": {
  "celltoolbar": "Slideshow",
  "kernelspec": {
   "display_name": "Python 3",
   "language": "python",
   "name": "python3"
  },
  "language_info": {
   "codemirror_mode": {
    "name": "ipython",
    "version": 3
   },
   "file_extension": ".py",
   "mimetype": "text/x-python",
   "name": "python",
   "nbconvert_exporter": "python",
   "pygments_lexer": "ipython3",
   "version": "3.6.4"
  },
  "livereveal": {
   "autolaunch": true,
   "overlay": "<div class='logo'><img src='assets/Stackup_Logo_Small.png' width='90%'/></div>"
  }
 },
 "nbformat": 4,
 "nbformat_minor": 2
}
