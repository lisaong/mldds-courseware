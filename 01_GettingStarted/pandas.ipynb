{
 "cells": [
  {
   "cell_type": "markdown",
   "metadata": {
    "slideshow": {
     "slide_type": "-"
    }
   },
   "source": [
    "# import pandas as pd"
   ]
  },
  {
   "cell_type": "markdown",
   "metadata": {
    "slideshow": {
     "slide_type": "-"
    }
   },
   "source": [
    "## Workshop: Pandas and Data Manipulation\n",
    "\n",
    "In this workshop, we will use pandas to load, describe, and query "
   ]
  },
  {
   "cell_type": "markdown",
   "metadata": {
    "slideshow": {
     "slide_type": "-"
    }
   },
   "source": [
    "### Cheatsheet\n",
    "\n",
    "https://s3.amazonaws.com/assets.datacamp.com/blog_assets/PandasPythonForDataScience.pdf"
   ]
  },
  {
   "cell_type": "markdown",
   "metadata": {
    "slideshow": {
     "slide_type": "-"
    }
   },
   "source": [
    "### References\n",
    "\n",
    "1. https://pandas.pydata.org/pandas-docs/stable/  \n",
    "2. Python Data Science Handbook by Jake VanderPlas\n",
    "3. Python for Data Analysis: Data Wrangling with Pandas, NumPy, and IPython by Wes McKinney\n",
    "4. https://pandas.pydata.org/pandas-docs/stable/comparison_with_sql.html\n"
   ]
  },
  {
   "cell_type": "markdown",
   "metadata": {
    "slideshow": {
     "slide_type": "-"
    }
   },
   "source": [
    "### Installation\n",
    "\n",
    "Windows: Start Button -> \"Anaconda Prompt\"\n",
    "\n",
    "Ubuntu / MacOS: conda should be in your path\n",
    "\n",
    "Activate the environment\n",
    "\n",
    "```\n",
    "conda activate module1\n",
    "```"
   ]
  },
  {
   "cell_type": "markdown",
   "metadata": {
    "slideshow": {
     "slide_type": "-"
    }
   },
   "source": [
    "Pandas should already be installed. If not, install it:\n",
    "\n",
    "```\n",
    "conda install pandas\n",
    "```"
   ]
  },
  {
   "cell_type": "markdown",
   "metadata": {
    "slideshow": {
     "slide_type": "-"
    }
   },
   "source": [
    "Tip: You can check the versions installed by calling Python with a script:\n",
    "```\n",
    "python -c \"import pandas; print(pandas.__version__)\"\n",
    "```"
   ]
  },
  {
   "cell_type": "markdown",
   "metadata": {
    "slideshow": {
     "slide_type": "-"
    }
   },
   "source": [
    "### SGD to USD Exchange Rate Data\n",
    "\n",
    "Similar to the NumPy workshop, we'll use the historical SGD to USD exchange rates from data.gov.sg to demonstrate some Pandas concepts."
   ]
  },
  {
   "cell_type": "code",
   "execution_count": null,
   "metadata": {
    "slideshow": {
     "slide_type": "-"
    }
   },
   "outputs": [],
   "source": [
    "from IPython.display import IFrame\n",
    "\n",
    "IFrame('https://data.gov.sg/dataset/exchange-rates-sgd-per-unit-of-usd-average-for-period-annual/resource/f927c39b-3b44-492e-8b54-174e775e0d98/view/43207b9f-1554-4afb-98fe-80dfdd6bb4f6', width=600, height=400)"
   ]
  },
  {
   "cell_type": "markdown",
   "metadata": {
    "slideshow": {
     "slide_type": "-"
    }
   },
   "source": [
    "### Download Instructions\n",
    "\n",
    "You should already have this dataset from the NumPy workshop. If not, here are the instructions:\n",
    "\n",
    "1. Go to https://data.gov.sg/dataset/exchange-rates-sgd-per-unit-of-usd-average-for-period-annual\n",
    "2. Click on the `Download` button\n",
    "3. Unzip and extract the `.csv` file. Note the path for use below."
   ]
  },
  {
   "cell_type": "markdown",
   "metadata": {
    "slideshow": {
     "slide_type": "-"
    }
   },
   "source": [
    "### Import the package"
   ]
  },
  {
   "cell_type": "code",
   "execution_count": null,
   "metadata": {
    "slideshow": {
     "slide_type": "-"
    }
   },
   "outputs": [],
   "source": [
    "import pandas as pd"
   ]
  },
  {
   "cell_type": "code",
   "execution_count": 90,
   "metadata": {},
   "outputs": [],
   "source": [
    "pd?"
   ]
  },
  {
   "cell_type": "markdown",
   "metadata": {
    "slideshow": {
     "slide_type": "-"
    }
   },
   "source": [
    "### Two main data structures\n",
    "\n",
    "1. Series\n",
    "2. DataFrame"
   ]
  },
  {
   "cell_type": "markdown",
   "metadata": {
    "slideshow": {
     "slide_type": "-"
    }
   },
   "source": [
    "### Series\n",
    "```\n",
    "pandas.Series(data=None, index=None, dtype=None, name=None, copy=False, fastpath=False)\n",
    "```\n",
    "- Similar to 1-d numpy array but with more flexible explicit indexing\n",
    "- Has two components : index and value for each element\n",
    "- A bit similar concept as dictionary\n",
    "- [more here..](https://pandas.pydata.org/pandas-docs/stable/generated/pandas.Series.html')"
   ]
  },
  {
   "cell_type": "markdown",
   "metadata": {
    "slideshow": {
     "slide_type": "-"
    }
   },
   "source": [
    "### DataFrame\n",
    "```\n",
    "pandas.DataFrame(data=None, index=None, columns=None, dtype=None, copy=False)\n",
    "```\n",
    "- The primary pandas data structure\n",
    "- Tabular format similar to excel\n",
    "- Two-dimensional, potentially heterogeneous tabular data\n",
    "- structure with labeled axes (rows and columns). Row and columns index\n",
    "- Can be thought of as a dict-like container for Series objects. \n",
    "- [more here..](https://pandas.pydata.org/pandas-docs/stable/generated/pandas.DataFrame.html)"
   ]
  },
  {
   "cell_type": "markdown",
   "metadata": {
    "slideshow": {
     "slide_type": "-"
    }
   },
   "source": [
    "### Read data from CSV to a Series\n",
    "\n",
    "You can use `pandas.read_csv` to read data into:\n",
    "- A Series, if the data contains only 1 column and you specify the `squeeze=True` option, or\n",
    "- A DataFrame, for any number of columns. This is the default behavior because the DataFrame is the most flexible.\n",
    "\n",
    "[more here](https://pandas.pydata.org/pandas-docs/stable/generated/pandas.read_csv.html)"
   ]
  },
  {
   "cell_type": "code",
   "execution_count": 6,
   "metadata": {},
   "outputs": [
    {
     "data": {
      "text/plain": [
       "date\n",
       "1988-01-08    2.0443\n",
       "1988-01-15    2.0313\n",
       "1988-01-22    2.0205\n",
       "1988-01-29    2.0182\n",
       "1988-02-05    2.0160\n",
       "1988-02-12    2.0173\n",
       "1988-02-19    2.0189\n",
       "1988-02-26    2.0130\n",
       "1988-03-04    2.0154\n",
       "1988-03-11    2.0131\n",
       "Name: exchange_rate_usd, dtype: float64"
      ]
     },
     "execution_count": 6,
     "metadata": {},
     "output_type": "execute_result"
    }
   ],
   "source": [
    "# Read data into a series\n",
    "sgd_usd_series = pd.read_csv('D:/tmp/exchange-rates/exchange-rates-sgd-per-unit-of-usd-daily.csv',\n",
    "                     parse_dates=True, index_col=0, infer_datetime_format=True,\n",
    "                     squeeze=True)\n",
    "\n",
    "# inspect the first 10 values\n",
    "sgd_usd_series.head(10)"
   ]
  },
  {
   "cell_type": "code",
   "execution_count": 19,
   "metadata": {},
   "outputs": [
    {
     "data": {
      "text/plain": [
       "count    3993.000000\n",
       "mean        1.494808\n",
       "std         0.197901\n",
       "min         1.200900\n",
       "25%         1.303300\n",
       "50%         1.462200\n",
       "75%         1.669100\n",
       "max         2.050300\n",
       "Name: exchange_rate_usd, dtype: float64"
      ]
     },
     "execution_count": 19,
     "metadata": {},
     "output_type": "execute_result"
    }
   ],
   "source": [
    "sgd_usd_series.describe()"
   ]
  },
  {
   "cell_type": "code",
   "execution_count": 7,
   "metadata": {},
   "outputs": [
    {
     "data": {
      "text/html": [
       "<div>\n",
       "<style scoped>\n",
       "    .dataframe tbody tr th:only-of-type {\n",
       "        vertical-align: middle;\n",
       "    }\n",
       "\n",
       "    .dataframe tbody tr th {\n",
       "        vertical-align: top;\n",
       "    }\n",
       "\n",
       "    .dataframe thead th {\n",
       "        text-align: right;\n",
       "    }\n",
       "</style>\n",
       "<table border=\"1\" class=\"dataframe\">\n",
       "  <thead>\n",
       "    <tr style=\"text-align: right;\">\n",
       "      <th></th>\n",
       "      <th>exchange_rate_usd</th>\n",
       "    </tr>\n",
       "    <tr>\n",
       "      <th>date</th>\n",
       "      <th></th>\n",
       "    </tr>\n",
       "  </thead>\n",
       "  <tbody>\n",
       "    <tr>\n",
       "      <th>1988-01-08</th>\n",
       "      <td>2.0443</td>\n",
       "    </tr>\n",
       "    <tr>\n",
       "      <th>1988-01-15</th>\n",
       "      <td>2.0313</td>\n",
       "    </tr>\n",
       "    <tr>\n",
       "      <th>1988-01-22</th>\n",
       "      <td>2.0205</td>\n",
       "    </tr>\n",
       "    <tr>\n",
       "      <th>1988-01-29</th>\n",
       "      <td>2.0182</td>\n",
       "    </tr>\n",
       "    <tr>\n",
       "      <th>1988-02-05</th>\n",
       "      <td>2.0160</td>\n",
       "    </tr>\n",
       "    <tr>\n",
       "      <th>1988-02-12</th>\n",
       "      <td>2.0173</td>\n",
       "    </tr>\n",
       "    <tr>\n",
       "      <th>1988-02-19</th>\n",
       "      <td>2.0189</td>\n",
       "    </tr>\n",
       "    <tr>\n",
       "      <th>1988-02-26</th>\n",
       "      <td>2.0130</td>\n",
       "    </tr>\n",
       "    <tr>\n",
       "      <th>1988-03-04</th>\n",
       "      <td>2.0154</td>\n",
       "    </tr>\n",
       "    <tr>\n",
       "      <th>1988-03-11</th>\n",
       "      <td>2.0131</td>\n",
       "    </tr>\n",
       "  </tbody>\n",
       "</table>\n",
       "</div>"
      ],
      "text/plain": [
       "            exchange_rate_usd\n",
       "date                         \n",
       "1988-01-08             2.0443\n",
       "1988-01-15             2.0313\n",
       "1988-01-22             2.0205\n",
       "1988-01-29             2.0182\n",
       "1988-02-05             2.0160\n",
       "1988-02-12             2.0173\n",
       "1988-02-19             2.0189\n",
       "1988-02-26             2.0130\n",
       "1988-03-04             2.0154\n",
       "1988-03-11             2.0131"
      ]
     },
     "execution_count": 7,
     "metadata": {},
     "output_type": "execute_result"
    }
   ],
   "source": [
    "# Read data into a data frame\n",
    "sgd_usd_df = pd.read_csv('D:/tmp/exchange-rates/exchange-rates-sgd-per-unit-of-usd-daily.csv',\n",
    "                     parse_dates=True, index_col=0, infer_datetime_format=True)\n",
    "\n",
    "# inspect the first 10 values\n",
    "sgd_usd_df.head(10)"
   ]
  },
  {
   "cell_type": "code",
   "execution_count": 18,
   "metadata": {},
   "outputs": [
    {
     "data": {
      "text/html": [
       "<div>\n",
       "<style scoped>\n",
       "    .dataframe tbody tr th:only-of-type {\n",
       "        vertical-align: middle;\n",
       "    }\n",
       "\n",
       "    .dataframe tbody tr th {\n",
       "        vertical-align: top;\n",
       "    }\n",
       "\n",
       "    .dataframe thead th {\n",
       "        text-align: right;\n",
       "    }\n",
       "</style>\n",
       "<table border=\"1\" class=\"dataframe\">\n",
       "  <thead>\n",
       "    <tr style=\"text-align: right;\">\n",
       "      <th></th>\n",
       "      <th>exchange_rate_usd</th>\n",
       "    </tr>\n",
       "  </thead>\n",
       "  <tbody>\n",
       "    <tr>\n",
       "      <th>count</th>\n",
       "      <td>3993.000000</td>\n",
       "    </tr>\n",
       "    <tr>\n",
       "      <th>mean</th>\n",
       "      <td>1.494808</td>\n",
       "    </tr>\n",
       "    <tr>\n",
       "      <th>std</th>\n",
       "      <td>0.197901</td>\n",
       "    </tr>\n",
       "    <tr>\n",
       "      <th>min</th>\n",
       "      <td>1.200900</td>\n",
       "    </tr>\n",
       "    <tr>\n",
       "      <th>25%</th>\n",
       "      <td>1.303300</td>\n",
       "    </tr>\n",
       "    <tr>\n",
       "      <th>50%</th>\n",
       "      <td>1.462200</td>\n",
       "    </tr>\n",
       "    <tr>\n",
       "      <th>75%</th>\n",
       "      <td>1.669100</td>\n",
       "    </tr>\n",
       "    <tr>\n",
       "      <th>max</th>\n",
       "      <td>2.050300</td>\n",
       "    </tr>\n",
       "  </tbody>\n",
       "</table>\n",
       "</div>"
      ],
      "text/plain": [
       "       exchange_rate_usd\n",
       "count        3993.000000\n",
       "mean            1.494808\n",
       "std             0.197901\n",
       "min             1.200900\n",
       "25%             1.303300\n",
       "50%             1.462200\n",
       "75%             1.669100\n",
       "max             2.050300"
      ]
     },
     "execution_count": 18,
     "metadata": {},
     "output_type": "execute_result"
    }
   ],
   "source": [
    "sgd_usd_df.describe()"
   ]
  },
  {
   "cell_type": "markdown",
   "metadata": {},
   "source": [
    "### Get values or indices\n",
    "\n",
    "Series\n",
    "- use series.values\n",
    "- use series.index\n",
    "\n",
    "DataFrame\n",
    "- use df.values\n",
    "- use df.index\n",
    "\n",
    "Note: these are properties, not function calls with ()"
   ]
  },
  {
   "cell_type": "markdown",
   "metadata": {},
   "source": [
    "For this dataset:\n",
    "- Series.values is a 1 dimensional numpy.array\n",
    "- DataFrame.values is not. It's actually 2 dimensional:\n",
    "\n",
    "    number of samples (rows) x 1 (column)\n",
    "   \n",
    "This is because DataFrame is a more general data structure that can hold more columns."
   ]
  },
  {
   "cell_type": "code",
   "execution_count": 8,
   "metadata": {},
   "outputs": [
    {
     "data": {
      "text/plain": [
       "array([ 2.0443,  2.0313,  2.0205, ...,  1.3763,  1.3834,  1.3827])"
      ]
     },
     "execution_count": 8,
     "metadata": {},
     "output_type": "execute_result"
    }
   ],
   "source": [
    "sgd_usd_series.values"
   ]
  },
  {
   "cell_type": "code",
   "execution_count": 9,
   "metadata": {
    "slideshow": {
     "slide_type": "-"
    }
   },
   "outputs": [
    {
     "data": {
      "text/plain": [
       "array([[ 2.0443],\n",
       "       [ 2.0313],\n",
       "       [ 2.0205],\n",
       "       ..., \n",
       "       [ 1.3763],\n",
       "       [ 1.3834],\n",
       "       [ 1.3827]])"
      ]
     },
     "execution_count": 9,
     "metadata": {},
     "output_type": "execute_result"
    }
   ],
   "source": [
    "sgd_usd_df.values"
   ]
  },
  {
   "cell_type": "code",
   "execution_count": 10,
   "metadata": {},
   "outputs": [
    {
     "data": {
      "text/plain": [
       "(3993,)"
      ]
     },
     "execution_count": 10,
     "metadata": {},
     "output_type": "execute_result"
    }
   ],
   "source": [
    "sgd_usd_series.values.shape"
   ]
  },
  {
   "cell_type": "code",
   "execution_count": 13,
   "metadata": {},
   "outputs": [
    {
     "data": {
      "text/plain": [
       "1"
      ]
     },
     "execution_count": 13,
     "metadata": {},
     "output_type": "execute_result"
    }
   ],
   "source": [
    "sgd_usd_series.values.ndim # rank = 1"
   ]
  },
  {
   "cell_type": "code",
   "execution_count": 11,
   "metadata": {},
   "outputs": [
    {
     "data": {
      "text/plain": [
       "(3993, 1)"
      ]
     },
     "execution_count": 11,
     "metadata": {},
     "output_type": "execute_result"
    }
   ],
   "source": [
    "sgd_usd_df.values.shape"
   ]
  },
  {
   "cell_type": "code",
   "execution_count": 12,
   "metadata": {},
   "outputs": [
    {
     "data": {
      "text/plain": [
       "2"
      ]
     },
     "execution_count": 12,
     "metadata": {},
     "output_type": "execute_result"
    }
   ],
   "source": [
    "sgd_usd_df.values.ndim # rank = 2"
   ]
  },
  {
   "cell_type": "code",
   "execution_count": 15,
   "metadata": {},
   "outputs": [
    {
     "data": {
      "text/plain": [
       "array([ 2.0443,  2.0313,  2.0205, ...,  1.3763,  1.3834,  1.3827])"
      ]
     },
     "execution_count": 15,
     "metadata": {},
     "output_type": "execute_result"
    }
   ],
   "source": [
    "# Tip: you can flatten the 3993 x 1 numpy array\n",
    "sgd_usd_df.values.flatten()"
   ]
  },
  {
   "cell_type": "markdown",
   "metadata": {
    "slideshow": {
     "slide_type": "-"
    }
   },
   "source": [
    "The .index is the same whether it is a Series or a DataFrame"
   ]
  },
  {
   "cell_type": "code",
   "execution_count": 16,
   "metadata": {},
   "outputs": [
    {
     "data": {
      "text/plain": [
       "DatetimeIndex(['1988-01-08', '1988-01-15', '1988-01-22', '1988-01-29',\n",
       "               '1988-02-05', '1988-02-12', '1988-02-19', '1988-02-26',\n",
       "               '1988-03-04', '1988-03-11',\n",
       "               ...\n",
       "               '2015-10-06', '2015-10-07', '2015-10-08', '2015-10-09',\n",
       "               '2015-10-12', '2015-10-13', '2015-10-14', '2015-10-15',\n",
       "               '2015-10-16', '2015-10-19'],\n",
       "              dtype='datetime64[ns]', name='date', length=3993, freq=None)"
      ]
     },
     "execution_count": 16,
     "metadata": {},
     "output_type": "execute_result"
    }
   ],
   "source": [
    "sgd_usd_series.index"
   ]
  },
  {
   "cell_type": "code",
   "execution_count": 51,
   "metadata": {},
   "outputs": [
    {
     "data": {
      "text/plain": [
       "DatetimeIndex(['1988-01-08', '1988-01-15', '1988-01-22', '1988-01-29',\n",
       "               '1988-02-05', '1988-02-12', '1988-02-19', '1988-02-26',\n",
       "               '1988-03-04', '1988-03-11',\n",
       "               ...\n",
       "               '2015-10-06', '2015-10-07', '2015-10-08', '2015-10-09',\n",
       "               '2015-10-12', '2015-10-13', '2015-10-14', '2015-10-15',\n",
       "               '2015-10-16', '2015-10-19'],\n",
       "              dtype='datetime64[ns]', name='date', length=3993, freq=None)"
      ]
     },
     "execution_count": 51,
     "metadata": {},
     "output_type": "execute_result"
    }
   ],
   "source": [
    "sgd_usd_df.index"
   ]
  },
  {
   "cell_type": "markdown",
   "metadata": {
    "slideshow": {
     "slide_type": "-"
    }
   },
   "source": [
    "### Get the summary\n",
    "\n",
    "Try these on `sgd_usd_series` and `sgd_usd_df`. \n",
    "\n",
    "|  |  |\n",
    "|--|--|\n",
    "|df.columns | Describe DataFrame columns|\n",
    "|df.info() | Information on a DataFrame |\n",
    "|series.count(), df.count() | Number of non-NA values|\n",
    "|series.count() | Number of non-NA values|\n",
    "\n",
    "Note: these are from the Cheatsheet. Series supports fewer methods."
   ]
  },
  {
   "cell_type": "code",
   "execution_count": null,
   "metadata": {
    "slideshow": {
     "slide_type": "-"
    }
   },
   "outputs": [],
   "source": []
  },
  {
   "cell_type": "markdown",
   "metadata": {
    "slideshow": {
     "slide_type": "-"
    }
   },
   "source": [
    "### Get statistics\n",
    "\n",
    "Try these on `sgd_usd_series` and `sgd_usd_df`. \n",
    "\n",
    "|  |  |\n",
    "|--|--|\n",
    "|series.sum(), df.sum() | Sum of values|\n",
    "|series.cumsum(), df.cumsum() | Cummulative sum of values |\n",
    "|series.min()/series.max(), df.min()/df.max() | Minimum/maximum values|\n",
    "|series.idxmin()/series.idxmax(), df.idxmin()/df.idxmax() | Minimum/Maximum index value|\n",
    "|series.describe(), df.describe() | Summary statistics |\n",
    "|series.mean(), df.mean() | Mean of values |\n",
    "|series.median(), df.median() | Median of values | \n",
    "\n",
    "Note: these are from the Cheatsheet"
   ]
  },
  {
   "cell_type": "code",
   "execution_count": null,
   "metadata": {
    "slideshow": {
     "slide_type": "-"
    }
   },
   "outputs": [],
   "source": []
  },
  {
   "cell_type": "markdown",
   "metadata": {
    "slideshow": {
     "slide_type": "-"
    }
   },
   "source": [
    "### Joins\n",
    "\n",
    "Let's say we need to also show Singapore Dollar and Renminbi (CNY) exchange rates, but from a different data set.\n",
    "\n",
    "This dataset is already downloaded for you in the `data` folder."
   ]
  },
  {
   "cell_type": "code",
   "execution_count": 52,
   "metadata": {
    "slideshow": {
     "slide_type": "-"
    }
   },
   "outputs": [
    {
     "name": "stdout",
     "output_type": "stream",
     "text": [
      "First 5 entries:\n"
     ]
    },
    {
     "data": {
      "text/html": [
       "<div>\n",
       "<style scoped>\n",
       "    .dataframe tbody tr th:only-of-type {\n",
       "        vertical-align: middle;\n",
       "    }\n",
       "\n",
       "    .dataframe tbody tr th {\n",
       "        vertical-align: top;\n",
       "    }\n",
       "\n",
       "    .dataframe thead th {\n",
       "        text-align: right;\n",
       "    }\n",
       "</style>\n",
       "<table border=\"1\" class=\"dataframe\">\n",
       "  <thead>\n",
       "    <tr style=\"text-align: right;\">\n",
       "      <th></th>\n",
       "      <th>Singapore Dollar to Chinese Yuan</th>\n",
       "    </tr>\n",
       "    <tr>\n",
       "      <th>Date</th>\n",
       "      <th></th>\n",
       "    </tr>\n",
       "  </thead>\n",
       "  <tbody>\n",
       "    <tr>\n",
       "      <th>2018-05-27</th>\n",
       "      <td>4.7499</td>\n",
       "    </tr>\n",
       "    <tr>\n",
       "      <th>2018-05-26</th>\n",
       "      <td>4.7620</td>\n",
       "    </tr>\n",
       "    <tr>\n",
       "      <th>2018-05-25</th>\n",
       "      <td>4.7610</td>\n",
       "    </tr>\n",
       "    <tr>\n",
       "      <th>2018-05-24</th>\n",
       "      <td>4.7618</td>\n",
       "    </tr>\n",
       "    <tr>\n",
       "      <th>2018-05-23</th>\n",
       "      <td>4.7553</td>\n",
       "    </tr>\n",
       "  </tbody>\n",
       "</table>\n",
       "</div>"
      ],
      "text/plain": [
       "            Singapore Dollar to Chinese Yuan\n",
       "Date                                        \n",
       "2018-05-27                            4.7499\n",
       "2018-05-26                            4.7620\n",
       "2018-05-25                            4.7610\n",
       "2018-05-24                            4.7618\n",
       "2018-05-23                            4.7553"
      ]
     },
     "execution_count": 52,
     "metadata": {},
     "output_type": "execute_result"
    }
   ],
   "source": [
    "# data source: https://www.exchangerates.org.uk\n",
    "sgd_cny_df = pd.read_csv('data/sgd_cny_rates_daily.csv',\n",
    "                          parse_dates=True, index_col=0, infer_datetime_format=True)\n",
    "print('First 5 entries:')\n",
    "sgd_cny_df.head(5)"
   ]
  },
  {
   "cell_type": "code",
   "execution_count": 53,
   "metadata": {
    "slideshow": {
     "slide_type": "-"
    }
   },
   "outputs": [
    {
     "name": "stdout",
     "output_type": "stream",
     "text": [
      "<class 'pandas.core.frame.DataFrame'>\n",
      "DatetimeIndex: 3224 entries, 2018-05-27 to 2009-10-06\n",
      "Data columns (total 1 columns):\n",
      "Singapore Dollar to Chinese Yuan    3224 non-null float64\n",
      "dtypes: float64(1)\n",
      "memory usage: 50.4 KB\n"
     ]
    }
   ],
   "source": [
    "sgd_cny_df.info()"
   ]
  },
  {
   "cell_type": "code",
   "execution_count": 54,
   "metadata": {
    "slideshow": {
     "slide_type": "-"
    }
   },
   "outputs": [
    {
     "name": "stdout",
     "output_type": "stream",
     "text": [
      "<class 'pandas.core.frame.DataFrame'>\n",
      "DatetimeIndex: 3993 entries, 1988-01-08 to 2015-10-19\n",
      "Data columns (total 1 columns):\n",
      "exchange_rate_usd    3993 non-null float64\n",
      "dtypes: float64(1)\n",
      "memory usage: 222.4 KB\n"
     ]
    }
   ],
   "source": [
    "sgd_usd_df.info()"
   ]
  },
  {
   "cell_type": "markdown",
   "metadata": {
    "slideshow": {
     "slide_type": "-"
    }
   },
   "source": [
    "`sgd_cny_df`: DatetimeIndex: 3224 entries, 2018-05-27 to 2009-10-06\n",
    "\n",
    "`sgd_usd_df`: DatetimeIndex: 3993 entries, 1988-01-08 to 2015-10-19\n",
    "\n",
    "- have different date ranges\n",
    "- one is in decreasing time order, the other is increasing time order \n",
    "\n",
    "Pandas DataFrames make it easy to join these datasets together based on index.\n",
    "\n",
    "You can do this without looping over the data, using `DataFrame.join()`\n",
    "\n",
    "[more info..](https://pandas.pydata.org/pandas-docs/stable/merging.html#joining-on-index)"
   ]
  },
  {
   "cell_type": "code",
   "execution_count": 83,
   "metadata": {
    "slideshow": {
     "slide_type": "-"
    }
   },
   "outputs": [
    {
     "data": {
      "text/html": [
       "<div>\n",
       "<style scoped>\n",
       "    .dataframe tbody tr th:only-of-type {\n",
       "        vertical-align: middle;\n",
       "    }\n",
       "\n",
       "    .dataframe tbody tr th {\n",
       "        vertical-align: top;\n",
       "    }\n",
       "\n",
       "    .dataframe thead th {\n",
       "        text-align: right;\n",
       "    }\n",
       "</style>\n",
       "<table border=\"1\" class=\"dataframe\">\n",
       "  <thead>\n",
       "    <tr style=\"text-align: right;\">\n",
       "      <th></th>\n",
       "      <th>exchange_rate_usd</th>\n",
       "      <th>Singapore Dollar to Chinese Yuan</th>\n",
       "    </tr>\n",
       "  </thead>\n",
       "  <tbody>\n",
       "    <tr>\n",
       "      <th>1988-01-08</th>\n",
       "      <td>2.0443</td>\n",
       "      <td>NaN</td>\n",
       "    </tr>\n",
       "    <tr>\n",
       "      <th>1988-01-15</th>\n",
       "      <td>2.0313</td>\n",
       "      <td>NaN</td>\n",
       "    </tr>\n",
       "    <tr>\n",
       "      <th>1988-01-22</th>\n",
       "      <td>2.0205</td>\n",
       "      <td>NaN</td>\n",
       "    </tr>\n",
       "    <tr>\n",
       "      <th>1988-01-29</th>\n",
       "      <td>2.0182</td>\n",
       "      <td>NaN</td>\n",
       "    </tr>\n",
       "    <tr>\n",
       "      <th>1988-02-05</th>\n",
       "      <td>2.0160</td>\n",
       "      <td>NaN</td>\n",
       "    </tr>\n",
       "    <tr>\n",
       "      <th>1988-02-12</th>\n",
       "      <td>2.0173</td>\n",
       "      <td>NaN</td>\n",
       "    </tr>\n",
       "    <tr>\n",
       "      <th>1988-02-19</th>\n",
       "      <td>2.0189</td>\n",
       "      <td>NaN</td>\n",
       "    </tr>\n",
       "    <tr>\n",
       "      <th>1988-02-26</th>\n",
       "      <td>2.0130</td>\n",
       "      <td>NaN</td>\n",
       "    </tr>\n",
       "    <tr>\n",
       "      <th>1988-03-04</th>\n",
       "      <td>2.0154</td>\n",
       "      <td>NaN</td>\n",
       "    </tr>\n",
       "    <tr>\n",
       "      <th>1988-03-11</th>\n",
       "      <td>2.0131</td>\n",
       "      <td>NaN</td>\n",
       "    </tr>\n",
       "    <tr>\n",
       "      <th>1988-03-18</th>\n",
       "      <td>2.0184</td>\n",
       "      <td>NaN</td>\n",
       "    </tr>\n",
       "    <tr>\n",
       "      <th>1988-03-25</th>\n",
       "      <td>2.0132</td>\n",
       "      <td>NaN</td>\n",
       "    </tr>\n",
       "    <tr>\n",
       "      <th>1988-03-31</th>\n",
       "      <td>2.0045</td>\n",
       "      <td>NaN</td>\n",
       "    </tr>\n",
       "    <tr>\n",
       "      <th>1988-04-08</th>\n",
       "      <td>2.0030</td>\n",
       "      <td>NaN</td>\n",
       "    </tr>\n",
       "    <tr>\n",
       "      <th>1988-04-15</th>\n",
       "      <td>2.0019</td>\n",
       "      <td>NaN</td>\n",
       "    </tr>\n",
       "    <tr>\n",
       "      <th>1988-04-22</th>\n",
       "      <td>2.0037</td>\n",
       "      <td>NaN</td>\n",
       "    </tr>\n",
       "    <tr>\n",
       "      <th>1988-04-29</th>\n",
       "      <td>2.0016</td>\n",
       "      <td>NaN</td>\n",
       "    </tr>\n",
       "    <tr>\n",
       "      <th>1988-05-06</th>\n",
       "      <td>2.0039</td>\n",
       "      <td>NaN</td>\n",
       "    </tr>\n",
       "    <tr>\n",
       "      <th>1988-05-13</th>\n",
       "      <td>2.0052</td>\n",
       "      <td>NaN</td>\n",
       "    </tr>\n",
       "    <tr>\n",
       "      <th>1988-05-20</th>\n",
       "      <td>2.0128</td>\n",
       "      <td>NaN</td>\n",
       "    </tr>\n",
       "    <tr>\n",
       "      <th>1988-05-27</th>\n",
       "      <td>2.0168</td>\n",
       "      <td>NaN</td>\n",
       "    </tr>\n",
       "    <tr>\n",
       "      <th>1988-06-03</th>\n",
       "      <td>2.0217</td>\n",
       "      <td>NaN</td>\n",
       "    </tr>\n",
       "    <tr>\n",
       "      <th>1988-06-10</th>\n",
       "      <td>2.0180</td>\n",
       "      <td>NaN</td>\n",
       "    </tr>\n",
       "    <tr>\n",
       "      <th>1988-06-17</th>\n",
       "      <td>2.0246</td>\n",
       "      <td>NaN</td>\n",
       "    </tr>\n",
       "    <tr>\n",
       "      <th>1988-06-24</th>\n",
       "      <td>2.0346</td>\n",
       "      <td>NaN</td>\n",
       "    </tr>\n",
       "    <tr>\n",
       "      <th>1988-07-01</th>\n",
       "      <td>2.0483</td>\n",
       "      <td>NaN</td>\n",
       "    </tr>\n",
       "    <tr>\n",
       "      <th>1988-07-08</th>\n",
       "      <td>2.0443</td>\n",
       "      <td>NaN</td>\n",
       "    </tr>\n",
       "    <tr>\n",
       "      <th>1988-07-15</th>\n",
       "      <td>2.0503</td>\n",
       "      <td>NaN</td>\n",
       "    </tr>\n",
       "    <tr>\n",
       "      <th>1988-07-22</th>\n",
       "      <td>2.0384</td>\n",
       "      <td>NaN</td>\n",
       "    </tr>\n",
       "    <tr>\n",
       "      <th>1988-07-29</th>\n",
       "      <td>2.0378</td>\n",
       "      <td>NaN</td>\n",
       "    </tr>\n",
       "    <tr>\n",
       "      <th>...</th>\n",
       "      <td>...</td>\n",
       "      <td>...</td>\n",
       "    </tr>\n",
       "    <tr>\n",
       "      <th>2015-09-04</th>\n",
       "      <td>1.4183</td>\n",
       "      <td>4.4619</td>\n",
       "    </tr>\n",
       "    <tr>\n",
       "      <th>2015-09-07</th>\n",
       "      <td>1.4249</td>\n",
       "      <td>4.4597</td>\n",
       "    </tr>\n",
       "    <tr>\n",
       "      <th>2015-09-08</th>\n",
       "      <td>1.4262</td>\n",
       "      <td>4.4912</td>\n",
       "    </tr>\n",
       "    <tr>\n",
       "      <th>2015-09-09</th>\n",
       "      <td>1.4140</td>\n",
       "      <td>4.4943</td>\n",
       "    </tr>\n",
       "    <tr>\n",
       "      <th>2015-09-10</th>\n",
       "      <td>1.4212</td>\n",
       "      <td>4.5138</td>\n",
       "    </tr>\n",
       "    <tr>\n",
       "      <th>2015-09-14</th>\n",
       "      <td>1.4104</td>\n",
       "      <td>4.5322</td>\n",
       "    </tr>\n",
       "    <tr>\n",
       "      <th>2015-09-15</th>\n",
       "      <td>1.4011</td>\n",
       "      <td>4.5436</td>\n",
       "    </tr>\n",
       "    <tr>\n",
       "      <th>2015-09-16</th>\n",
       "      <td>1.4008</td>\n",
       "      <td>4.5603</td>\n",
       "    </tr>\n",
       "    <tr>\n",
       "      <th>2015-09-17</th>\n",
       "      <td>1.3988</td>\n",
       "      <td>4.5562</td>\n",
       "    </tr>\n",
       "    <tr>\n",
       "      <th>2015-09-18</th>\n",
       "      <td>1.4003</td>\n",
       "      <td>4.5492</td>\n",
       "    </tr>\n",
       "    <tr>\n",
       "      <th>2015-09-21</th>\n",
       "      <td>1.4050</td>\n",
       "      <td>4.5164</td>\n",
       "    </tr>\n",
       "    <tr>\n",
       "      <th>2015-09-22</th>\n",
       "      <td>1.4128</td>\n",
       "      <td>4.4982</td>\n",
       "    </tr>\n",
       "    <tr>\n",
       "      <th>2015-09-23</th>\n",
       "      <td>1.4219</td>\n",
       "      <td>4.4760</td>\n",
       "    </tr>\n",
       "    <tr>\n",
       "      <th>2015-09-25</th>\n",
       "      <td>1.4243</td>\n",
       "      <td>4.4727</td>\n",
       "    </tr>\n",
       "    <tr>\n",
       "      <th>2015-09-28</th>\n",
       "      <td>1.4259</td>\n",
       "      <td>4.4569</td>\n",
       "    </tr>\n",
       "    <tr>\n",
       "      <th>2015-09-29</th>\n",
       "      <td>1.4319</td>\n",
       "      <td>4.4568</td>\n",
       "    </tr>\n",
       "    <tr>\n",
       "      <th>2015-09-30</th>\n",
       "      <td>1.4253</td>\n",
       "      <td>4.4652</td>\n",
       "    </tr>\n",
       "    <tr>\n",
       "      <th>2015-10-01</th>\n",
       "      <td>1.4258</td>\n",
       "      <td>4.4436</td>\n",
       "    </tr>\n",
       "    <tr>\n",
       "      <th>2015-10-02</th>\n",
       "      <td>1.4356</td>\n",
       "      <td>4.4374</td>\n",
       "    </tr>\n",
       "    <tr>\n",
       "      <th>2015-10-05</th>\n",
       "      <td>1.4318</td>\n",
       "      <td>4.4740</td>\n",
       "    </tr>\n",
       "    <tr>\n",
       "      <th>2015-10-06</th>\n",
       "      <td>1.4237</td>\n",
       "      <td>4.4741</td>\n",
       "    </tr>\n",
       "    <tr>\n",
       "      <th>2015-10-07</th>\n",
       "      <td>1.4243</td>\n",
       "      <td>4.5019</td>\n",
       "    </tr>\n",
       "    <tr>\n",
       "      <th>2015-10-08</th>\n",
       "      <td>1.4140</td>\n",
       "      <td>4.5229</td>\n",
       "    </tr>\n",
       "    <tr>\n",
       "      <th>2015-10-09</th>\n",
       "      <td>1.4018</td>\n",
       "      <td>4.5500</td>\n",
       "    </tr>\n",
       "    <tr>\n",
       "      <th>2015-10-12</th>\n",
       "      <td>1.4020</td>\n",
       "      <td>4.5191</td>\n",
       "    </tr>\n",
       "    <tr>\n",
       "      <th>2015-10-13</th>\n",
       "      <td>1.4030</td>\n",
       "      <td>4.5226</td>\n",
       "    </tr>\n",
       "    <tr>\n",
       "      <th>2015-10-14</th>\n",
       "      <td>1.3933</td>\n",
       "      <td>4.6034</td>\n",
       "    </tr>\n",
       "    <tr>\n",
       "      <th>2015-10-15</th>\n",
       "      <td>1.3763</td>\n",
       "      <td>4.5995</td>\n",
       "    </tr>\n",
       "    <tr>\n",
       "      <th>2015-10-16</th>\n",
       "      <td>1.3834</td>\n",
       "      <td>4.5894</td>\n",
       "    </tr>\n",
       "    <tr>\n",
       "      <th>2015-10-19</th>\n",
       "      <td>1.3827</td>\n",
       "      <td>4.5781</td>\n",
       "    </tr>\n",
       "  </tbody>\n",
       "</table>\n",
       "<p>4041 rows × 2 columns</p>\n",
       "</div>"
      ],
      "text/plain": [
       "            exchange_rate_usd  Singapore Dollar to Chinese Yuan\n",
       "1988-01-08             2.0443                               NaN\n",
       "1988-01-15             2.0313                               NaN\n",
       "1988-01-22             2.0205                               NaN\n",
       "1988-01-29             2.0182                               NaN\n",
       "1988-02-05             2.0160                               NaN\n",
       "1988-02-12             2.0173                               NaN\n",
       "1988-02-19             2.0189                               NaN\n",
       "1988-02-26             2.0130                               NaN\n",
       "1988-03-04             2.0154                               NaN\n",
       "1988-03-11             2.0131                               NaN\n",
       "1988-03-18             2.0184                               NaN\n",
       "1988-03-25             2.0132                               NaN\n",
       "1988-03-31             2.0045                               NaN\n",
       "1988-04-08             2.0030                               NaN\n",
       "1988-04-15             2.0019                               NaN\n",
       "1988-04-22             2.0037                               NaN\n",
       "1988-04-29             2.0016                               NaN\n",
       "1988-05-06             2.0039                               NaN\n",
       "1988-05-13             2.0052                               NaN\n",
       "1988-05-20             2.0128                               NaN\n",
       "1988-05-27             2.0168                               NaN\n",
       "1988-06-03             2.0217                               NaN\n",
       "1988-06-10             2.0180                               NaN\n",
       "1988-06-17             2.0246                               NaN\n",
       "1988-06-24             2.0346                               NaN\n",
       "1988-07-01             2.0483                               NaN\n",
       "1988-07-08             2.0443                               NaN\n",
       "1988-07-15             2.0503                               NaN\n",
       "1988-07-22             2.0384                               NaN\n",
       "1988-07-29             2.0378                               NaN\n",
       "...                       ...                               ...\n",
       "2015-09-04             1.4183                            4.4619\n",
       "2015-09-07             1.4249                            4.4597\n",
       "2015-09-08             1.4262                            4.4912\n",
       "2015-09-09             1.4140                            4.4943\n",
       "2015-09-10             1.4212                            4.5138\n",
       "2015-09-14             1.4104                            4.5322\n",
       "2015-09-15             1.4011                            4.5436\n",
       "2015-09-16             1.4008                            4.5603\n",
       "2015-09-17             1.3988                            4.5562\n",
       "2015-09-18             1.4003                            4.5492\n",
       "2015-09-21             1.4050                            4.5164\n",
       "2015-09-22             1.4128                            4.4982\n",
       "2015-09-23             1.4219                            4.4760\n",
       "2015-09-25             1.4243                            4.4727\n",
       "2015-09-28             1.4259                            4.4569\n",
       "2015-09-29             1.4319                            4.4568\n",
       "2015-09-30             1.4253                            4.4652\n",
       "2015-10-01             1.4258                            4.4436\n",
       "2015-10-02             1.4356                            4.4374\n",
       "2015-10-05             1.4318                            4.4740\n",
       "2015-10-06             1.4237                            4.4741\n",
       "2015-10-07             1.4243                            4.5019\n",
       "2015-10-08             1.4140                            4.5229\n",
       "2015-10-09             1.4018                            4.5500\n",
       "2015-10-12             1.4020                            4.5191\n",
       "2015-10-13             1.4030                            4.5226\n",
       "2015-10-14             1.3933                            4.6034\n",
       "2015-10-15             1.3763                            4.5995\n",
       "2015-10-16             1.3834                            4.5894\n",
       "2015-10-19             1.3827                            4.5781\n",
       "\n",
       "[4041 rows x 2 columns]"
      ]
     },
     "execution_count": 83,
     "metadata": {},
     "output_type": "execute_result"
    }
   ],
   "source": [
    "# Default join is an `left` join, where the index of the left series (`sgd_usd_df`) is preserved.\n",
    "\n",
    "sgd_usd_cny = sgd_usd_df.join(sgd_cny_df)\n",
    "sgd_usd_cny"
   ]
  },
  {
   "cell_type": "markdown",
   "metadata": {
    "slideshow": {
     "slide_type": "-"
    }
   },
   "source": [
    "We can remove the NaN entries using dropna()"
   ]
  },
  {
   "cell_type": "code",
   "execution_count": 84,
   "metadata": {
    "slideshow": {
     "slide_type": "-"
    }
   },
   "outputs": [
    {
     "data": {
      "text/html": [
       "<div>\n",
       "<style scoped>\n",
       "    .dataframe tbody tr th:only-of-type {\n",
       "        vertical-align: middle;\n",
       "    }\n",
       "\n",
       "    .dataframe tbody tr th {\n",
       "        vertical-align: top;\n",
       "    }\n",
       "\n",
       "    .dataframe thead th {\n",
       "        text-align: right;\n",
       "    }\n",
       "</style>\n",
       "<table border=\"1\" class=\"dataframe\">\n",
       "  <thead>\n",
       "    <tr style=\"text-align: right;\">\n",
       "      <th></th>\n",
       "      <th>exchange_rate_usd</th>\n",
       "      <th>Singapore Dollar to Chinese Yuan</th>\n",
       "    </tr>\n",
       "  </thead>\n",
       "  <tbody>\n",
       "    <tr>\n",
       "      <th>2009-10-06</th>\n",
       "      <td>1.4046</td>\n",
       "      <td>4.8734</td>\n",
       "    </tr>\n",
       "    <tr>\n",
       "      <th>2009-10-07</th>\n",
       "      <td>1.4031</td>\n",
       "      <td>4.8754</td>\n",
       "    </tr>\n",
       "    <tr>\n",
       "      <th>2009-10-08</th>\n",
       "      <td>1.3949</td>\n",
       "      <td>4.9082</td>\n",
       "    </tr>\n",
       "    <tr>\n",
       "      <th>2009-10-09</th>\n",
       "      <td>1.3918</td>\n",
       "      <td>4.9039</td>\n",
       "    </tr>\n",
       "    <tr>\n",
       "      <th>2009-10-12</th>\n",
       "      <td>1.4014</td>\n",
       "      <td>4.8791</td>\n",
       "    </tr>\n",
       "    <tr>\n",
       "      <th>2009-10-13</th>\n",
       "      <td>1.3972</td>\n",
       "      <td>4.8871</td>\n",
       "    </tr>\n",
       "    <tr>\n",
       "      <th>2009-10-14</th>\n",
       "      <td>1.3939</td>\n",
       "      <td>4.9050</td>\n",
       "    </tr>\n",
       "    <tr>\n",
       "      <th>2009-10-15</th>\n",
       "      <td>1.3861</td>\n",
       "      <td>4.9157</td>\n",
       "    </tr>\n",
       "    <tr>\n",
       "      <th>2009-10-16</th>\n",
       "      <td>1.3884</td>\n",
       "      <td>4.9051</td>\n",
       "    </tr>\n",
       "    <tr>\n",
       "      <th>2009-10-19</th>\n",
       "      <td>1.3953</td>\n",
       "      <td>4.9037</td>\n",
       "    </tr>\n",
       "    <tr>\n",
       "      <th>2009-10-20</th>\n",
       "      <td>1.3882</td>\n",
       "      <td>4.9037</td>\n",
       "    </tr>\n",
       "    <tr>\n",
       "      <th>2009-10-21</th>\n",
       "      <td>1.3951</td>\n",
       "      <td>4.9015</td>\n",
       "    </tr>\n",
       "    <tr>\n",
       "      <th>2009-10-22</th>\n",
       "      <td>1.3964</td>\n",
       "      <td>4.8969</td>\n",
       "    </tr>\n",
       "    <tr>\n",
       "      <th>2009-10-23</th>\n",
       "      <td>1.3928</td>\n",
       "      <td>4.9017</td>\n",
       "    </tr>\n",
       "    <tr>\n",
       "      <th>2009-10-26</th>\n",
       "      <td>1.3925</td>\n",
       "      <td>4.8957</td>\n",
       "    </tr>\n",
       "    <tr>\n",
       "      <th>2009-10-27</th>\n",
       "      <td>1.3976</td>\n",
       "      <td>4.8869</td>\n",
       "    </tr>\n",
       "    <tr>\n",
       "      <th>2009-10-28</th>\n",
       "      <td>1.3995</td>\n",
       "      <td>4.8742</td>\n",
       "    </tr>\n",
       "    <tr>\n",
       "      <th>2009-10-29</th>\n",
       "      <td>1.4039</td>\n",
       "      <td>4.8788</td>\n",
       "    </tr>\n",
       "    <tr>\n",
       "      <th>2009-10-30</th>\n",
       "      <td>1.3968</td>\n",
       "      <td>4.8838</td>\n",
       "    </tr>\n",
       "    <tr>\n",
       "      <th>2009-11-02</th>\n",
       "      <td>1.4004</td>\n",
       "      <td>4.8791</td>\n",
       "    </tr>\n",
       "    <tr>\n",
       "      <th>2009-11-03</th>\n",
       "      <td>1.3976</td>\n",
       "      <td>4.8768</td>\n",
       "    </tr>\n",
       "    <tr>\n",
       "      <th>2009-11-04</th>\n",
       "      <td>1.3998</td>\n",
       "      <td>4.8842</td>\n",
       "    </tr>\n",
       "    <tr>\n",
       "      <th>2009-11-05</th>\n",
       "      <td>1.3975</td>\n",
       "      <td>4.8901</td>\n",
       "    </tr>\n",
       "    <tr>\n",
       "      <th>2009-11-06</th>\n",
       "      <td>1.3946</td>\n",
       "      <td>4.9008</td>\n",
       "    </tr>\n",
       "    <tr>\n",
       "      <th>2009-11-09</th>\n",
       "      <td>1.3884</td>\n",
       "      <td>4.9223</td>\n",
       "    </tr>\n",
       "    <tr>\n",
       "      <th>2009-11-10</th>\n",
       "      <td>1.3882</td>\n",
       "      <td>4.9190</td>\n",
       "    </tr>\n",
       "    <tr>\n",
       "      <th>2009-11-11</th>\n",
       "      <td>1.3874</td>\n",
       "      <td>4.9240</td>\n",
       "    </tr>\n",
       "    <tr>\n",
       "      <th>2009-11-12</th>\n",
       "      <td>1.3865</td>\n",
       "      <td>4.9194</td>\n",
       "    </tr>\n",
       "    <tr>\n",
       "      <th>2009-11-13</th>\n",
       "      <td>1.3890</td>\n",
       "      <td>4.9221</td>\n",
       "    </tr>\n",
       "    <tr>\n",
       "      <th>2009-11-16</th>\n",
       "      <td>1.3848</td>\n",
       "      <td>4.9291</td>\n",
       "    </tr>\n",
       "    <tr>\n",
       "      <th>...</th>\n",
       "      <td>...</td>\n",
       "      <td>...</td>\n",
       "    </tr>\n",
       "    <tr>\n",
       "      <th>2015-09-04</th>\n",
       "      <td>1.4183</td>\n",
       "      <td>4.4619</td>\n",
       "    </tr>\n",
       "    <tr>\n",
       "      <th>2015-09-07</th>\n",
       "      <td>1.4249</td>\n",
       "      <td>4.4597</td>\n",
       "    </tr>\n",
       "    <tr>\n",
       "      <th>2015-09-08</th>\n",
       "      <td>1.4262</td>\n",
       "      <td>4.4912</td>\n",
       "    </tr>\n",
       "    <tr>\n",
       "      <th>2015-09-09</th>\n",
       "      <td>1.4140</td>\n",
       "      <td>4.4943</td>\n",
       "    </tr>\n",
       "    <tr>\n",
       "      <th>2015-09-10</th>\n",
       "      <td>1.4212</td>\n",
       "      <td>4.5138</td>\n",
       "    </tr>\n",
       "    <tr>\n",
       "      <th>2015-09-14</th>\n",
       "      <td>1.4104</td>\n",
       "      <td>4.5322</td>\n",
       "    </tr>\n",
       "    <tr>\n",
       "      <th>2015-09-15</th>\n",
       "      <td>1.4011</td>\n",
       "      <td>4.5436</td>\n",
       "    </tr>\n",
       "    <tr>\n",
       "      <th>2015-09-16</th>\n",
       "      <td>1.4008</td>\n",
       "      <td>4.5603</td>\n",
       "    </tr>\n",
       "    <tr>\n",
       "      <th>2015-09-17</th>\n",
       "      <td>1.3988</td>\n",
       "      <td>4.5562</td>\n",
       "    </tr>\n",
       "    <tr>\n",
       "      <th>2015-09-18</th>\n",
       "      <td>1.4003</td>\n",
       "      <td>4.5492</td>\n",
       "    </tr>\n",
       "    <tr>\n",
       "      <th>2015-09-21</th>\n",
       "      <td>1.4050</td>\n",
       "      <td>4.5164</td>\n",
       "    </tr>\n",
       "    <tr>\n",
       "      <th>2015-09-22</th>\n",
       "      <td>1.4128</td>\n",
       "      <td>4.4982</td>\n",
       "    </tr>\n",
       "    <tr>\n",
       "      <th>2015-09-23</th>\n",
       "      <td>1.4219</td>\n",
       "      <td>4.4760</td>\n",
       "    </tr>\n",
       "    <tr>\n",
       "      <th>2015-09-25</th>\n",
       "      <td>1.4243</td>\n",
       "      <td>4.4727</td>\n",
       "    </tr>\n",
       "    <tr>\n",
       "      <th>2015-09-28</th>\n",
       "      <td>1.4259</td>\n",
       "      <td>4.4569</td>\n",
       "    </tr>\n",
       "    <tr>\n",
       "      <th>2015-09-29</th>\n",
       "      <td>1.4319</td>\n",
       "      <td>4.4568</td>\n",
       "    </tr>\n",
       "    <tr>\n",
       "      <th>2015-09-30</th>\n",
       "      <td>1.4253</td>\n",
       "      <td>4.4652</td>\n",
       "    </tr>\n",
       "    <tr>\n",
       "      <th>2015-10-01</th>\n",
       "      <td>1.4258</td>\n",
       "      <td>4.4436</td>\n",
       "    </tr>\n",
       "    <tr>\n",
       "      <th>2015-10-02</th>\n",
       "      <td>1.4356</td>\n",
       "      <td>4.4374</td>\n",
       "    </tr>\n",
       "    <tr>\n",
       "      <th>2015-10-05</th>\n",
       "      <td>1.4318</td>\n",
       "      <td>4.4740</td>\n",
       "    </tr>\n",
       "    <tr>\n",
       "      <th>2015-10-06</th>\n",
       "      <td>1.4237</td>\n",
       "      <td>4.4741</td>\n",
       "    </tr>\n",
       "    <tr>\n",
       "      <th>2015-10-07</th>\n",
       "      <td>1.4243</td>\n",
       "      <td>4.5019</td>\n",
       "    </tr>\n",
       "    <tr>\n",
       "      <th>2015-10-08</th>\n",
       "      <td>1.4140</td>\n",
       "      <td>4.5229</td>\n",
       "    </tr>\n",
       "    <tr>\n",
       "      <th>2015-10-09</th>\n",
       "      <td>1.4018</td>\n",
       "      <td>4.5500</td>\n",
       "    </tr>\n",
       "    <tr>\n",
       "      <th>2015-10-12</th>\n",
       "      <td>1.4020</td>\n",
       "      <td>4.5191</td>\n",
       "    </tr>\n",
       "    <tr>\n",
       "      <th>2015-10-13</th>\n",
       "      <td>1.4030</td>\n",
       "      <td>4.5226</td>\n",
       "    </tr>\n",
       "    <tr>\n",
       "      <th>2015-10-14</th>\n",
       "      <td>1.3933</td>\n",
       "      <td>4.6034</td>\n",
       "    </tr>\n",
       "    <tr>\n",
       "      <th>2015-10-15</th>\n",
       "      <td>1.3763</td>\n",
       "      <td>4.5995</td>\n",
       "    </tr>\n",
       "    <tr>\n",
       "      <th>2015-10-16</th>\n",
       "      <td>1.3834</td>\n",
       "      <td>4.5894</td>\n",
       "    </tr>\n",
       "    <tr>\n",
       "      <th>2015-10-19</th>\n",
       "      <td>1.3827</td>\n",
       "      <td>4.5781</td>\n",
       "    </tr>\n",
       "  </tbody>\n",
       "</table>\n",
       "<p>1562 rows × 2 columns</p>\n",
       "</div>"
      ],
      "text/plain": [
       "            exchange_rate_usd  Singapore Dollar to Chinese Yuan\n",
       "2009-10-06             1.4046                            4.8734\n",
       "2009-10-07             1.4031                            4.8754\n",
       "2009-10-08             1.3949                            4.9082\n",
       "2009-10-09             1.3918                            4.9039\n",
       "2009-10-12             1.4014                            4.8791\n",
       "2009-10-13             1.3972                            4.8871\n",
       "2009-10-14             1.3939                            4.9050\n",
       "2009-10-15             1.3861                            4.9157\n",
       "2009-10-16             1.3884                            4.9051\n",
       "2009-10-19             1.3953                            4.9037\n",
       "2009-10-20             1.3882                            4.9037\n",
       "2009-10-21             1.3951                            4.9015\n",
       "2009-10-22             1.3964                            4.8969\n",
       "2009-10-23             1.3928                            4.9017\n",
       "2009-10-26             1.3925                            4.8957\n",
       "2009-10-27             1.3976                            4.8869\n",
       "2009-10-28             1.3995                            4.8742\n",
       "2009-10-29             1.4039                            4.8788\n",
       "2009-10-30             1.3968                            4.8838\n",
       "2009-11-02             1.4004                            4.8791\n",
       "2009-11-03             1.3976                            4.8768\n",
       "2009-11-04             1.3998                            4.8842\n",
       "2009-11-05             1.3975                            4.8901\n",
       "2009-11-06             1.3946                            4.9008\n",
       "2009-11-09             1.3884                            4.9223\n",
       "2009-11-10             1.3882                            4.9190\n",
       "2009-11-11             1.3874                            4.9240\n",
       "2009-11-12             1.3865                            4.9194\n",
       "2009-11-13             1.3890                            4.9221\n",
       "2009-11-16             1.3848                            4.9291\n",
       "...                       ...                               ...\n",
       "2015-09-04             1.4183                            4.4619\n",
       "2015-09-07             1.4249                            4.4597\n",
       "2015-09-08             1.4262                            4.4912\n",
       "2015-09-09             1.4140                            4.4943\n",
       "2015-09-10             1.4212                            4.5138\n",
       "2015-09-14             1.4104                            4.5322\n",
       "2015-09-15             1.4011                            4.5436\n",
       "2015-09-16             1.4008                            4.5603\n",
       "2015-09-17             1.3988                            4.5562\n",
       "2015-09-18             1.4003                            4.5492\n",
       "2015-09-21             1.4050                            4.5164\n",
       "2015-09-22             1.4128                            4.4982\n",
       "2015-09-23             1.4219                            4.4760\n",
       "2015-09-25             1.4243                            4.4727\n",
       "2015-09-28             1.4259                            4.4569\n",
       "2015-09-29             1.4319                            4.4568\n",
       "2015-09-30             1.4253                            4.4652\n",
       "2015-10-01             1.4258                            4.4436\n",
       "2015-10-02             1.4356                            4.4374\n",
       "2015-10-05             1.4318                            4.4740\n",
       "2015-10-06             1.4237                            4.4741\n",
       "2015-10-07             1.4243                            4.5019\n",
       "2015-10-08             1.4140                            4.5229\n",
       "2015-10-09             1.4018                            4.5500\n",
       "2015-10-12             1.4020                            4.5191\n",
       "2015-10-13             1.4030                            4.5226\n",
       "2015-10-14             1.3933                            4.6034\n",
       "2015-10-15             1.3763                            4.5995\n",
       "2015-10-16             1.3834                            4.5894\n",
       "2015-10-19             1.3827                            4.5781\n",
       "\n",
       "[1562 rows x 2 columns]"
      ]
     },
     "execution_count": 84,
     "metadata": {},
     "output_type": "execute_result"
    }
   ],
   "source": [
    "sgd_usd_cny = sgd_usd_cny.dropna()\n",
    "sgd_usd_cny"
   ]
  },
  {
   "cell_type": "markdown",
   "metadata": {
    "slideshow": {
     "slide_type": "-"
    }
   },
   "source": [
    "The result is a DataFrame with entries where both exchange rates are present.\n",
    "\n",
    "Entries where either SGD-USD or SGD-CNY are missing are excluded.\n",
    "\n",
    "Note that even though the index for the series are in different order, join will still work because it matches the individual index values"
   ]
  },
  {
   "cell_type": "markdown",
   "metadata": {
    "slideshow": {
     "slide_type": "-"
    }
   },
   "source": [
    "### When in doubt, visualize"
   ]
  },
  {
   "cell_type": "markdown",
   "metadata": {
    "slideshow": {
     "slide_type": "-"
    }
   },
   "source": [
    "Let's visualize what we just did by plotting the dataframes.\n",
    "\n",
    "You should have already installed matplotlib. If not, do this:\n",
    "```\n",
    "conda install matplotlib\n",
    "```"
   ]
  },
  {
   "cell_type": "code",
   "execution_count": 85,
   "metadata": {},
   "outputs": [
    {
     "data": {
      "text/plain": [
       "Index(['exchange_rate_usd', 'Singapore Dollar to Chinese Yuan'], dtype='object')"
      ]
     },
     "execution_count": 85,
     "metadata": {},
     "output_type": "execute_result"
    }
   ],
   "source": [
    "# Find the names of the columns\n",
    "sgd_usd_cny.columns"
   ]
  },
  {
   "cell_type": "code",
   "execution_count": 86,
   "metadata": {},
   "outputs": [
    {
     "data": {
      "image/png": "[encoded data removed]",
      "text/plain": [
       "<matplotlib.figure.Figure at 0x2ab5e64be48>"
      ]
     },
     "metadata": {},
     "output_type": "display_data"
    }
   ],
   "source": [
    "import matplotlib.pyplot as plt\n",
    "\n",
    "fig, (ax1, ax2) = plt.subplots(nrows=2, ncols=1, figsize=(20,15),\n",
    "                              sharex=True) # common x-axis for all subplots\n",
    "\n",
    "ax1.set_title('Original series')\n",
    "ax1.plot(sgd_usd_df, label='SGD/USD')\n",
    "ax1.plot(sgd_cny_df, label='SGD/CNY')\n",
    "ax1.legend(loc='upper center', shadow=True, fontsize='x-large')\n",
    "\n",
    "ax2.set_title('After join() and dropna()')\n",
    "ax2.plot(sgd_usd_cny['exchange_rate_usd'], label='SGD/USD')\n",
    "ax2.plot(sgd_usd_cny['Singapore Dollar to Chinese Yuan'], label='SGD/CNY')\n",
    "ax2.legend(loc='upper center', shadow=True, fontsize='x-large')\n",
    "\n",
    "plt.show()"
   ]
  },
  {
   "cell_type": "markdown",
   "metadata": {
    "slideshow": {
     "slide_type": "-"
    }
   },
   "source": [
    "### Exercise\n",
    "\n",
    "1. Repeat the above using other types of join, such as `outer`\n",
    "\n",
    "2. What happens if you join the SGD/CNY DataFrame with the SGD/USD DataFrame?\n",
    "\n",
    "```\n",
    "sgd_cny_usd = sgd_cny_df.join(sgd_usd_df)\n",
    "```"
   ]
  },
  {
   "cell_type": "markdown",
   "metadata": {
    "slideshow": {
     "slide_type": "-"
    }
   },
   "source": [
    "### Pandas, like SQL\n",
    "\n",
    "If you have worked with SQL or databases before, the DataFrame.join() is conceptually the same as SQL.\n",
    "\n",
    "[Here's](https://pandas.pydata.org/pandas-docs/stable/comparison_with_sql.html) a guide that compares Pandas with SQL.\n",
    "\n",
    "We'll do an example with queries to demonstrate how you can think of Pandas as conceptually equivalent to SQL."
   ]
  },
  {
   "cell_type": "markdown",
   "metadata": {
    "slideshow": {
     "slide_type": "-"
    }
   },
   "source": [
    "### Exercise: Querying a DataFrame\n",
    "\n",
    "Let's say you want to query a DataFrame using something equivalent to this SQL syntax:\n",
    "\n",
    "```\n",
    "SELECT *\n",
    "FROM sgd_usd_cny\n",
    "WHERE date >= '2012-01-01' AND date < '2013-01-01';\n",
    "```\n",
    "\n",
    "What will you use in Pandas?"
   ]
  },
  {
   "cell_type": "code",
   "execution_count": null,
   "metadata": {
    "slideshow": {
     "slide_type": "-"
    }
   },
   "outputs": [],
   "source": [
    "# Use pandas to find all exchange rates from 2012\n",
    "#\n",
    "# Refer to https://pandas.pydata.org/pandas-docs/stable/comparison_with_sql.html\n",
    "#\n",
    "# Hint 1: use pd.to_datetime\n",
    "# start = pd.to_datetime('2012-01-01')\n",
    "# end = pd.to_datetime('2013-01-01')\n",
    "#\n",
    "# Hint 2: use sgd_usd_cny.index\n",
    "\n",
    "\n",
    "\n",
    "\n",
    "\n",
    "\n",
    "\n",
    "\n",
    "\n"
   ]
  },
  {
   "cell_type": "markdown",
   "metadata": {},
   "source": [
    "### loc, iloc"
   ]
  },
  {
   "cell_type": "code",
   "execution_count": null,
   "metadata": {},
   "outputs": [],
   "source": []
  },
  {
   "cell_type": "markdown",
   "metadata": {},
   "source": [
    "### Missing data\n",
    "\n",
    "|  |  |\n",
    "|--|--|\n",
    "|dropna|Drop missing values|\n",
    "|fillna(new_value)|Fill missing values with new_value|\n",
    "|interpolate()|Use linear interpolation|"
   ]
  },
  {
   "cell_type": "markdown",
   "metadata": {},
   "source": [
    "### Handling Categories\n",
    "\n",
    "The previous dataset shows how to use pandas for datasets with continous variables (the exchange rate).\n",
    "\n",
    "Let's see another dataset that demonstrates how to use pandas for discrete values."
   ]
  },
  {
   "cell_type": "code",
   "execution_count": null,
   "metadata": {},
   "outputs": [],
   "source": []
  }
 ],
 "metadata": {
  "celltoolbar": "Slideshow",
  "kernelspec": {
   "display_name": "Python 3",
   "language": "python",
   "name": "python3"
  },
  "language_info": {
   "codemirror_mode": {
    "name": "ipython",
    "version": 3
   },
   "file_extension": ".py",
   "mimetype": "text/x-python",
   "name": "python",
   "nbconvert_exporter": "python",
   "pygments_lexer": "ipython3",
   "version": "3.6.4"
  },
  "livereveal": {
   "autolaunch": false,
   "overlay": "<div class='logo'><img src='assets/Stackup_Logo_Small.png' width='90%'/></div>"
  }
 },
 "nbformat": 4,
 "nbformat_minor": 2
}
