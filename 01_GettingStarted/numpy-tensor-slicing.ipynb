{
 "cells": [
  {
   "cell_type": "markdown",
   "metadata": {},
   "source": [
    "# NumPy Tensors, Slicing, and Images\n",
    "\n",
    "Here's a more detailed example of how to interpret images as NumPy tensors.\n"
   ]
  },
  {
   "cell_type": "markdown",
   "metadata": {},
   "source": [
    "# Tensors\n",
    "\n",
    "(D = ndim)\n",
    "\n",
    "![Tensors](https://i.stack.imgur.com/Lv1qU.jpg)\n",
    "\n",
    "(source: https://stackoverflow.com/questions/37849322/how-to-understand-the-term-tensor-in-tensorflow)"
   ]
  },
  {
   "cell_type": "markdown",
   "metadata": {},
   "source": [
    "# 2D Color Image = 3D Tensor\n",
    "\n",
    "![image as tensor](https://image.slidesharecdn.com/tensordecomposition-170301235239/95/a-brief-survey-of-tensors-5-638.jpg)\n",
    "\n",
    "(source: https://www.slideshare.net/BertonEarnshaw/a-brief-survey-of-tensors)"
   ]
  },
  {
   "cell_type": "markdown",
   "metadata": {},
   "source": [
    "# Images and Videos: 2D, 3D, 4D, 5D\n",
    "\n",
    "|Image type|Coordinates|\n",
    "|--|--|\n",
    "|2D grayscale image|(row, col)|\n",
    "|2D color image (eg. RGB)|(row, col, channel)|\n",
    "|3D grayscale image|(plane, row, col)|\n",
    "|3D color image|(plane, row, col, channel)|\n",
    "\n",
    "\n",
    "|Video type|Coordinates|\n",
    "|--|--|\n",
    "|2D color video|(time, row, col, ch)|\n",
    "|3D multichannel video|(time, plane, row, col, ch)|\n",
    "\n",
    "(source: http://scikit-image.org/docs/dev/user_guide/numpy_images.html)"
   ]
  },
  {
   "cell_type": "markdown",
   "metadata": {},
   "source": [
    "# A simple 3D tensor\n",
    "\n",
    "Before diving into images, let's start with a simple 3-D tensor."
   ]
  },
  {
   "cell_type": "code",
   "execution_count": null,
   "metadata": {},
   "outputs": [],
   "source": [
    "import numpy as np\n",
    "\n",
    "t = np.array([[\n",
    "               [1, -1, 11, -11],\n",
    "               [2, -2, 22, -22]\n",
    "              ],\n",
    "              \n",
    "              [\n",
    "               [3, -3, 33, -33],\n",
    "               [4, -4, 44, -44]\n",
    "              ],\n",
    "              \n",
    "              [\n",
    "               [5, -5, 55, -55],\n",
    "               [6, -6, 66, -66]\n",
    "              ]])\n",
    "t"
   ]
  },
  {
   "cell_type": "code",
   "execution_count": null,
   "metadata": {},
   "outputs": [],
   "source": [
    "t.ndim # how many dimensions"
   ]
  },
  {
   "cell_type": "code",
   "execution_count": null,
   "metadata": {},
   "outputs": [],
   "source": [
    "t.shape # what the dimensions are"
   ]
  },
  {
   "cell_type": "markdown",
   "metadata": {},
   "source": [
    "### Tensor Lego\n",
    "\n",
    "Here's a Lego representation of our tensor.\n",
    "\n",
    "- Each 8-peg Lego brick represents one element.\n",
    "- There are 3 major blocks\n",
    "- Each major block contains 2 levels, each level has 4 elements.\n",
    "- The flat gray piece will be our \"slicer\"\n",
    "\n",
    "![setup tensor](assets/numpy/setup_tensor.jpg)"
   ]
  },
  {
   "cell_type": "markdown",
   "metadata": {},
   "source": [
    "### Terminology and Rules\n",
    "\n",
    "- By `array`, we refer to NumPy arrays (`np.array`), which can be multi-dimensional.\n",
    "\n",
    "- Given an array of N dimensions, a slice always returns an array of N-1 dimensions."
   ]
  },
  {
   "cell_type": "markdown",
   "metadata": {},
   "source": [
    "### Slicing along the first dimension\n",
    "\n",
    "The first dimension views our tensor this way:\n",
    "\n",
    "```\n",
    "\n",
    "t = np.array([\n",
    "               first_level_array0,  # [[  1,  -1,  11, -11],\n",
    "                                    #  [  2,  -2,  22, -22]]  <-- note the double square brackets\n",
    "                                                                  surrounding each chunk [[ ]]\n",
    "                            \n",
    "               first_level_array1,  # [[  3,  -3,  33, -33],\n",
    "                                    #  [  4,  -4,  44, -44]]\n",
    "                            \n",
    "               first_level_array2   # [[  5,  -5,  55, -55],\n",
    "                                    #  [  6,  -6,  66, -66]]\n",
    "             ])\n",
    "\n",
    "```\n",
    "\n",
    "Therefore, a slice along the first dimension will cut in between the chunks:\n",
    "\n",
    "![slice_dim0](assets/numpy/slice_dim0.jpg)"
   ]
  },
  {
   "cell_type": "markdown",
   "metadata": {},
   "source": [
    "Slice 0 along the first dimension returns the first big \"chunk\"."
   ]
  },
  {
   "cell_type": "code",
   "execution_count": null,
   "metadata": {},
   "outputs": [],
   "source": [
    "t[0, :, :]"
   ]
  },
  {
   "cell_type": "markdown",
   "metadata": {},
   "source": [
    "Slice 1 along the first dimension returns the next big \"chunk\"."
   ]
  },
  {
   "cell_type": "code",
   "execution_count": null,
   "metadata": {},
   "outputs": [],
   "source": [
    "t[1, :, :]"
   ]
  },
  {
   "cell_type": "markdown",
   "metadata": {},
   "source": [
    "### Slicing along the second dimension\n",
    "\n",
    "The second dimension views our tensor this way:\n",
    "\n",
    "```\n",
    "t = np.array([[\n",
    "               second_level_array0,  # [  1,  -1,  11, -11],\n",
    "               second_level_array1   # [  2,  -2,  22, -22]   <-- note the single square brackets\n",
    "                                                                  surrounding each second level array [ ]\n",
    "              ],\n",
    "              \n",
    "              [\n",
    "               second_level_array0,  # [  3,  -3,  33, -33],\n",
    "               second_level_array1   # [  4,  -4,  44, -44]\n",
    "              ],\n",
    "              \n",
    "              [\n",
    "               second_level_array0,  # [  5,  -5,  55, -55],\n",
    "               second_level_array1   # [  6,  -6,  66, -66]\n",
    "              ]])\n",
    "```\n",
    "\n",
    "Because this is a **slice**, each second-level array is actually composed of *3* vectors:\n",
    "\n",
    "```\n",
    "second_level_array[0]: [[  1,  -1,  11, -11], [  3,  -3,  33, -33], [  5,  -5,  55, -55]]\n",
    "\n",
    "second_level_array[1]: [[  2,  -2,  22, -22], [  4,  -4,  44, -44], [  6,  -6,  66, -66]]\n",
    "\n",
    "```\n",
    "\n",
    "A slice along the second dimension will \"slice the cake\" horizontally:\n",
    "\n",
    "![slice_dim1](assets/numpy/slice_dim1.jpg)"
   ]
  },
  {
   "cell_type": "markdown",
   "metadata": {},
   "source": [
    "Slice 0 along the 2nd dimension:"
   ]
  },
  {
   "cell_type": "code",
   "execution_count": null,
   "metadata": {},
   "outputs": [],
   "source": [
    "t[:, 0, :]"
   ]
  },
  {
   "cell_type": "markdown",
   "metadata": {},
   "source": [
    "Slice 1 along the 2nd dimension:"
   ]
  },
  {
   "cell_type": "code",
   "execution_count": null,
   "metadata": {},
   "outputs": [],
   "source": [
    "t[:, 1, :]"
   ]
  },
  {
   "cell_type": "markdown",
   "metadata": {},
   "source": [
    "### Slicing along the third dimension\n",
    "\n",
    "The third dimension is the hardest to visualize, because we need to look at each element in the deepest nested array.\n",
    "\n",
    "```\n",
    "t = np.array([[\n",
    "               [element0, element1, element2, element3],  # [  1,  -1,  11, -11],\n",
    "               [element0, element1, element2, element3]   # [  2,  -2,  22, -22]\n",
    "              ],\n",
    "              \n",
    "              [\n",
    "               [element0, element1, element2, element3],  # [  3,  -3,  33, -33],\n",
    "               [element0, element1, element2, element3]   # [  4,  -4,  44, -44]\n",
    "              ],\n",
    "              \n",
    "              [\n",
    "               [element0, element1, element2, element3],  # [  5,  -5,  55, -55],\n",
    "               [element0, element1, element2, element3]   # [  6,  -6,  66, -66]\n",
    "              ]])\n",
    "```\n",
    "\n",
    "In other words:\n",
    "- the 0th slice on the third dimension creates an array that \"collects\" all the `element0`s\n",
    "- the 1st slice \"collects\" all the `element1`s,\n",
    "- and so on\n",
    "\n",
    "Something like this:\n",
    "```\n",
    "third_dimension_slice[0]: [1, 2], [3, 4]  [5, 6]\n",
    "\n",
    "third_dimension_slice[1]: [-1, -2], [-3, -4], [-5, -6]\n",
    "\n",
    "```\n",
    "\n",
    "Here's slicing looks like for the 3rd dimension, for the first slice:\n",
    "\n",
    "![slice_dim2](assets/numpy/slice_dim2.jpg)"
   ]
  },
  {
   "cell_type": "code",
   "execution_count": null,
   "metadata": {},
   "outputs": [],
   "source": [
    "t[:, :, 0]"
   ]
  },
  {
   "cell_type": "code",
   "execution_count": null,
   "metadata": {},
   "outputs": [],
   "source": [
    "t[:, :, 1]"
   ]
  },
  {
   "cell_type": "code",
   "execution_count": null,
   "metadata": {},
   "outputs": [],
   "source": [
    "t[:, :, 2]"
   ]
  },
  {
   "cell_type": "code",
   "execution_count": null,
   "metadata": {},
   "outputs": [],
   "source": [
    "t[:, :, 3]"
   ]
  },
  {
   "cell_type": "markdown",
   "metadata": {},
   "source": []
  },
  {
   "cell_type": "markdown",
   "metadata": {},
   "source": [
    "## Tensor of a 2D image\n",
    "\n",
    "The tensor for a 2D image (3 rows, 2 columns, 3 channels) that in channels last ordering looks like:\n",
    "\n",
    "![tensor_2d_image](assets/numpy/tensor_2dimage.jpg)"
   ]
  },
  {
   "cell_type": "markdown",
   "metadata": {},
   "source": [
    "### Slicing by row\n",
    "\n",
    "(The 2D image is facing sideways)\n",
    "\n",
    "![slice row](assets/numpy/slice_img_dim0.jpg)"
   ]
  },
  {
   "cell_type": "markdown",
   "metadata": {},
   "source": [
    "### Slicing by column\n",
    "\n",
    "(The 2D image is facing sideways)\n",
    "\n",
    "![slice col](assets/numpy/slice_img_dim1.jpg)"
   ]
  },
  {
   "cell_type": "markdown",
   "metadata": {},
   "source": [
    "### Slicing by channel\n",
    "\n",
    "(The 2D image is facing sideways)\n",
    "\n",
    "![slice chan](assets/numpy/slice_img_dim2.jpg)"
   ]
  },
  {
   "cell_type": "markdown",
   "metadata": {},
   "source": [
    "# Slicing a 2D image using NumPy"
   ]
  },
  {
   "cell_type": "markdown",
   "metadata": {},
   "source": [
    "First, we'll download a color image from the web."
   ]
  },
  {
   "cell_type": "code",
   "execution_count": null,
   "metadata": {},
   "outputs": [],
   "source": [
    "from PIL import Image\n",
    "import requests\n",
    "import matplotlib.pyplot as plt\n",
    "\n",
    "url = 'https://edoras.sdsu.edu/doc/matlab/toolbox/images/colorcube.jpg'\n",
    "\n",
    "# download the image\n",
    "image = Image.open(requests.get(url, stream=True).raw)"
   ]
  },
  {
   "cell_type": "markdown",
   "metadata": {},
   "source": [
    "Next, we'll wrap the image in a numpy.array, which converts it to a tensor.\n",
    "\n",
    "We'll get its shape."
   ]
  },
  {
   "cell_type": "code",
   "execution_count": null,
   "metadata": {},
   "outputs": [],
   "source": [
    "tensor = np.array(image)\n",
    "\n",
    "tensor.shape"
   ]
  },
  {
   "cell_type": "markdown",
   "metadata": {},
   "source": [
    "Let's also check the number of dimensions"
   ]
  },
  {
   "cell_type": "code",
   "execution_count": null,
   "metadata": {},
   "outputs": [],
   "source": [
    "tensor.ndim # number of dimensions"
   ]
  },
  {
   "cell_type": "markdown",
   "metadata": {},
   "source": [
    "Finally, plot the image"
   ]
  },
  {
   "cell_type": "code",
   "execution_count": null,
   "metadata": {},
   "outputs": [],
   "source": [
    "plt.imshow(image)\n",
    "plt.axis('off')\n",
    "plt.show()"
   ]
  },
  {
   "cell_type": "markdown",
   "metadata": {},
   "source": [
    "Let's get the first 10 rows"
   ]
  },
  {
   "cell_type": "code",
   "execution_count": null,
   "metadata": {},
   "outputs": [],
   "source": [
    "tensor[:10, :, :].shape"
   ]
  },
  {
   "cell_type": "code",
   "execution_count": null,
   "metadata": {},
   "outputs": [],
   "source": [
    "plt.imshow(tensor[:10, :, :])\n",
    "plt.axis('off')\n",
    "plt.show()"
   ]
  },
  {
   "cell_type": "markdown",
   "metadata": {},
   "source": [
    "Let's get the first 100 columns"
   ]
  },
  {
   "cell_type": "code",
   "execution_count": null,
   "metadata": {},
   "outputs": [],
   "source": [
    "tensor[:, :100, :].shape"
   ]
  },
  {
   "cell_type": "code",
   "execution_count": null,
   "metadata": {},
   "outputs": [],
   "source": [
    "plt.imshow(tensor[:, :100, :])\n",
    "plt.axis('off')\n",
    "plt.show()"
   ]
  },
  {
   "cell_type": "markdown",
   "metadata": {},
   "source": [
    "Let's get the middle 10 rows. \n",
    "\n",
    "That's between `(num_rows / 2) - 5` and `(num_rows / 2) + 5` rows"
   ]
  },
  {
   "cell_type": "code",
   "execution_count": null,
   "metadata": {},
   "outputs": [],
   "source": [
    "num_rows = tensor.shape[0] # recall shape = (row, column, channel)\n",
    "num_rows"
   ]
  },
  {
   "cell_type": "code",
   "execution_count": null,
   "metadata": {},
   "outputs": [],
   "source": [
    "# // means divide and get the integer value, for example: 5//2 = 2\n",
    "\n",
    "middle_ten_rows = tensor[(num_rows//2 - 5):(num_rows//2 + 5):1, :, :]\n",
    "\n",
    "middle_ten_rows.shape"
   ]
  },
  {
   "cell_type": "code",
   "execution_count": null,
   "metadata": {},
   "outputs": [],
   "source": [
    "plt.imshow(middle_ten_rows)\n",
    "plt.axis('off')\n",
    "plt.show()"
   ]
  },
  {
   "cell_type": "markdown",
   "metadata": {},
   "source": [
    "Let's get the middle 10 columns.\n",
    "\n",
    "That's between (num_cols / 2) - 5 and (num_cols / 2) + 5 rows"
   ]
  },
  {
   "cell_type": "code",
   "execution_count": null,
   "metadata": {},
   "outputs": [],
   "source": [
    "num_cols = tensor.shape[1]\n",
    "num_cols"
   ]
  },
  {
   "cell_type": "code",
   "execution_count": null,
   "metadata": {},
   "outputs": [],
   "source": [
    "middle_ten_cols = tensor[:, (num_cols//2 - 5):(num_cols//2 + 5):1, :]\n",
    "\n",
    "middle_ten_cols.shape"
   ]
  },
  {
   "cell_type": "code",
   "execution_count": null,
   "metadata": {},
   "outputs": [],
   "source": [
    "plt.imshow(middle_ten_cols)\n",
    "plt.axis('off')\n",
    "plt.show()"
   ]
  },
  {
   "cell_type": "markdown",
   "metadata": {},
   "source": [
    "# Slicing to get per-channel data\n",
    "\n",
    "This image has 3 colour channels: `red, green, blue`. This is known as the `RGB colour space`, and is the most commonly used.\n",
    "\n",
    "An alternative colour space is `blue, green, red` on [libraries such as OpenCV](https://stackoverflow.com/questions/367449/bgr-color-space). There are converters available to convert between RGB to BGR, and other colour spaces.\n",
    "\n",
    "Let's see how we can get the first channel (red). \n",
    "\n",
    "Here's the syntax to get a slice\n",
    "\n",
    "```\n",
    "np.array[slice1, slice2, slice3, ...]\n",
    "```\n",
    "\n",
    "So for our 3-D tensor, we use `:` to denote the slice for all rows and all columns, and `0` as the index of the first channel."
   ]
  },
  {
   "cell_type": "code",
   "execution_count": null,
   "metadata": {},
   "outputs": [],
   "source": [
    "# all_rows, all_columns, red_channel\n",
    "\n",
    "tensor[:, :, 0].shape"
   ]
  },
  {
   "cell_type": "code",
   "execution_count": null,
   "metadata": {},
   "outputs": [],
   "source": [
    "# use grayscale colormap. Otherwise default is 'viridis' (see matplotlib.rcParams)\n",
    "plt.imshow(tensor[:, :, 0], cmap='gray') \n",
    "plt.axis('off')\n",
    "plt.title('Red channel only (black: 0, white: 255)')\n",
    "plt.show()"
   ]
  },
  {
   "cell_type": "code",
   "execution_count": null,
   "metadata": {},
   "outputs": [],
   "source": [
    "# all_rows, all_columns, green_channel\n",
    "\n",
    "tensor[:, :, 1].shape"
   ]
  },
  {
   "cell_type": "code",
   "execution_count": null,
   "metadata": {},
   "outputs": [],
   "source": [
    "plt.imshow(tensor[:, :, 1], cmap='gray')\n",
    "plt.axis('off')\n",
    "plt.title('Green channel only (black: 0, white: 255)')\n",
    "plt.show()"
   ]
  },
  {
   "cell_type": "code",
   "execution_count": null,
   "metadata": {},
   "outputs": [],
   "source": [
    "# all_rows, all_columns, blue_channel\n",
    "\n",
    "tensor[:, :, 2].shape"
   ]
  },
  {
   "cell_type": "code",
   "execution_count": null,
   "metadata": {},
   "outputs": [],
   "source": [
    "plt.imshow(tensor[:, :, 2], cmap='gray')\n",
    "plt.axis('off')\n",
    "plt.title('Blue channel only (black: 0, white: 255)')\n",
    "plt.show()"
   ]
  },
  {
   "cell_type": "markdown",
   "metadata": {},
   "source": [
    "# Channel-first ordering\n",
    "\n",
    "Our example image is using `channels-last` dimension ordering.\n",
    "\n",
    "[Some platforms](https://keras.io/backend/) prefer `channels-first` dimension ordering, where the shape is:\n",
    "\n",
    "```\n",
    "(channels, rows, columns)\n",
    "```\n",
    "\n",
    "Let's see how we can convert an image from `channels-last` to `channels-first` ordering.\n",
    "\n",
    "Note that MatplotLib will only accept images that are channels-last ordering.  It will fail to plot an image with channels-first ordering (you'll have to convert it back)."
   ]
  },
  {
   "cell_type": "code",
   "execution_count": null,
   "metadata": {},
   "outputs": [],
   "source": [
    "tensor.shape"
   ]
  },
  {
   "cell_type": "code",
   "execution_count": null,
   "metadata": {},
   "outputs": [],
   "source": [
    "np.moveaxis?"
   ]
  },
  {
   "cell_type": "code",
   "execution_count": null,
   "metadata": {},
   "outputs": [],
   "source": [
    "# np.moveaxis(a, source, destination)\n",
    "\n",
    "# move the last axis (-1) to become the first axis\n",
    "np.moveaxis(tensor, -1, 0).shape"
   ]
  },
  {
   "cell_type": "markdown",
   "metadata": {},
   "source": [
    "# Grayscale images\n",
    "\n",
    "Grayscale images (or black and white images) have only 1 channel. So, they are 2-D tensors.\n",
    "\n",
    "However, when you download them from the internet, they have 3 channels. This can get confusing."
   ]
  },
  {
   "cell_type": "code",
   "execution_count": null,
   "metadata": {},
   "outputs": [],
   "source": [
    "url = 'https://upload.wikimedia.org/wikipedia/commons/f/f2/Broadway_tower_grayscale.jpg'\n",
    "\n",
    "# download the image\n",
    "image_gray = Image.open(requests.get(url, stream=True).raw)\n",
    "\n",
    "# plot the image\n",
    "plt.imshow(image_gray)\n",
    "plt.axis('off')\n",
    "plt.show()"
   ]
  },
  {
   "cell_type": "markdown",
   "metadata": {},
   "source": [
    "The shape will show 3 channels."
   ]
  },
  {
   "cell_type": "code",
   "execution_count": null,
   "metadata": {},
   "outputs": [],
   "source": [
    "np.array(image_gray).shape"
   ]
  },
  {
   "cell_type": "markdown",
   "metadata": {},
   "source": [
    "The values of the 3 channels are all the same."
   ]
  },
  {
   "cell_type": "code",
   "execution_count": null,
   "metadata": {},
   "outputs": [],
   "source": [
    "gray = np.array(image_gray)\n",
    "\n",
    "np.testing.assert_array_equal(gray[:, :, 0], gray[:, :, 1]) # no assert means they are equal\n",
    "np.testing.assert_array_equal(gray[:, :, 0], gray[:, :, 2]) # no assert means they are equal\n",
    "np.testing.assert_array_equal(gray[:, :, 1], gray[:, :, 2]) # no assert means they are equal"
   ]
  },
  {
   "cell_type": "markdown",
   "metadata": {},
   "source": [
    "You can pick any one of them without loss of data."
   ]
  },
  {
   "cell_type": "code",
   "execution_count": null,
   "metadata": {},
   "outputs": [],
   "source": [
    "plt.imshow(gray[:, :, 0], cmap='gray')\n",
    "plt.axis('off')\n",
    "plt.show()"
   ]
  },
  {
   "cell_type": "code",
   "execution_count": null,
   "metadata": {},
   "outputs": [],
   "source": []
  }
 ],
 "metadata": {
  "kernelspec": {
   "display_name": "Python 3",
   "language": "python",
   "name": "python3"
  },
  "language_info": {
   "codemirror_mode": {
    "name": "ipython",
    "version": 3
   },
   "file_extension": ".py",
   "mimetype": "text/x-python",
   "name": "python",
   "nbconvert_exporter": "python",
   "pygments_lexer": "ipython3",
   "version": "3.5.2"
  }
 },
 "nbformat": 4,
 "nbformat_minor": 2
}
