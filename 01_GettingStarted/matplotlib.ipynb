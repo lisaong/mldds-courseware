{
 "cells": [
  {
   "cell_type": "markdown",
   "metadata": {},
   "source": [
    "![matplotlib](https://matplotlib.org/_static/logo2.png)\n",
    "\n",
    "(image: matplotlib.org)"
   ]
  },
  {
   "cell_type": "markdown",
   "metadata": {
    "slideshow": {
     "slide_type": "-"
    }
   },
   "source": [
    "## Workshop: Matplotlib and Data Visualization\n",
    "\n",
    "In this workshop, we will cover using Matplotlib to create data visualizations.\n",
    "\n",
    "By now, you have already seen Matplotlib in action in the NumPy and Pandas workshops. This workshop serves as a more structured introduction to Matplotlib.\n",
    "\n",
    "Specifically, we'll be focusing on `matplotlib.pyplot`."
   ]
  },
  {
   "cell_type": "markdown",
   "metadata": {
    "slideshow": {
     "slide_type": "-"
    }
   },
   "source": [
    "### Cheatsheet\n",
    "\n",
    "https://s3.amazonaws.com/assets.datacamp.com/blog_assets/Python_Matplotlib_Cheat_Sheet.pdf"
   ]
  },
  {
   "cell_type": "markdown",
   "metadata": {
    "slideshow": {
     "slide_type": "-"
    }
   },
   "source": [
    "### References\n",
    "\n",
    "1. https://matplotlib.org/api/pyplot_summary.html\n",
    "2. https://scipy-cookbook.readthedocs.io/items/idx_matplotlib_simple_plotting.html\n"
   ]
  },
  {
   "cell_type": "markdown",
   "metadata": {
    "slideshow": {
     "slide_type": "-"
    }
   },
   "source": [
    "### Installation\n",
    "Windows: Start Button -> \"Anaconda Prompt\"\n",
    "\n",
    "Ubuntu / MacOS: conda should be in your path\n",
    "\n",
    "Activate the environment\n",
    "\n",
    "```\n",
    "conda activate module1\n",
    "```"
   ]
  },
  {
   "cell_type": "markdown",
   "metadata": {
    "slideshow": {
     "slide_type": "-"
    }
   },
   "source": [
    "Matplotlib should already be installed. If not, install it:\n",
    "```\n",
    "conda install matplotlib\n",
    "```"
   ]
  },
  {
   "cell_type": "markdown",
   "metadata": {
    "slideshow": {
     "slide_type": "-"
    }
   },
   "source": [
    "### Average Daily Polyclinic Attendances for Selected Diseases\n",
    "\n",
    "We will be practicing `matplotlib` concepts on this dataset."
   ]
  },
  {
   "cell_type": "markdown",
   "metadata": {
    "slideshow": {
     "slide_type": "-"
    }
   },
   "source": [
    "### Download Instructions\n",
    "\n",
    "1. Go to https://data.gov.sg/dataset/average-daily-polyclinic-attendances-selected-diseases\n",
    "2. Click on the Download button\n",
    "3. Unzip and extract the .csv file. Note the path for use below\n",
    "\n",
    "Note: on Windows you may wish to rename the unzipped folder to something shorter."
   ]
  },
  {
   "cell_type": "code",
   "execution_count": 3,
   "metadata": {
    "slideshow": {
     "slide_type": "-"
    }
   },
   "outputs": [],
   "source": [
    "import matplotlib\n",
    "matplotlib?"
   ]
  },
  {
   "cell_type": "code",
   "execution_count": 2,
   "metadata": {
    "slideshow": {
     "slide_type": "-"
    }
   },
   "outputs": [],
   "source": [
    "import matplotlib.pyplot as plt\n",
    "plt?"
   ]
  },
  {
   "cell_type": "markdown",
   "metadata": {
    "slideshow": {
     "slide_type": "-"
    }
   },
   "source": [
    "### Read the data\n",
    "\n",
    "We'll use `pandas.read_csv` to read the data"
   ]
  },
  {
   "cell_type": "code",
   "execution_count": 23,
   "metadata": {
    "slideshow": {
     "slide_type": "-"
    }
   },
   "outputs": [
    {
     "data": {
      "text/html": [
       "<div>\n",
       "<style scoped>\n",
       "    .dataframe tbody tr th:only-of-type {\n",
       "        vertical-align: middle;\n",
       "    }\n",
       "\n",
       "    .dataframe tbody tr th {\n",
       "        vertical-align: top;\n",
       "    }\n",
       "\n",
       "    .dataframe thead th {\n",
       "        text-align: right;\n",
       "    }\n",
       "</style>\n",
       "<table border=\"1\" class=\"dataframe\">\n",
       "  <thead>\n",
       "    <tr style=\"text-align: right;\">\n",
       "      <th></th>\n",
       "      <th>disease</th>\n",
       "      <th>no._of_cases</th>\n",
       "    </tr>\n",
       "    <tr>\n",
       "      <th>epi_week</th>\n",
       "      <th></th>\n",
       "      <th></th>\n",
       "    </tr>\n",
       "  </thead>\n",
       "  <tbody>\n",
       "    <tr>\n",
       "      <th>2012-W01</th>\n",
       "      <td>Acute Upper Respiratory Tract infections</td>\n",
       "      <td>2932</td>\n",
       "    </tr>\n",
       "    <tr>\n",
       "      <th>2012-W01</th>\n",
       "      <td>Acute Conjunctivitis</td>\n",
       "      <td>120</td>\n",
       "    </tr>\n",
       "    <tr>\n",
       "      <th>2012-W01</th>\n",
       "      <td>Acute Diarrhoea</td>\n",
       "      <td>491</td>\n",
       "    </tr>\n",
       "    <tr>\n",
       "      <th>2012-W01</th>\n",
       "      <td>Chickenpox</td>\n",
       "      <td>18</td>\n",
       "    </tr>\n",
       "    <tr>\n",
       "      <th>2012-W02</th>\n",
       "      <td>Acute Upper Respiratory Tract infections</td>\n",
       "      <td>3189</td>\n",
       "    </tr>\n",
       "  </tbody>\n",
       "</table>\n",
       "</div>"
      ],
      "text/plain": [
       "                                           disease  no._of_cases\n",
       "epi_week                                                        \n",
       "2012-W01  Acute Upper Respiratory Tract infections          2932\n",
       "2012-W01                      Acute Conjunctivitis           120\n",
       "2012-W01                           Acute Diarrhoea           491\n",
       "2012-W01                                Chickenpox            18\n",
       "2012-W02  Acute Upper Respiratory Tract infections          3189"
      ]
     },
     "execution_count": 23,
     "metadata": {},
     "output_type": "execute_result"
    }
   ],
   "source": [
    "import pandas as pd\n",
    "\n",
    "# Use pandas to read the CSV file into a pandas.DataFrame,\n",
    "# setting the 0th column as the index\n",
    "\n",
    "df = pd.read_csv('D:/tmp/polyclinic-attendance/average-daily-polyclinic-attendances-for-selected-diseases.csv',\n",
    "                index_col=0)\n",
    "df.head(5)"
   ]
  },
  {
   "cell_type": "code",
   "execution_count": 11,
   "metadata": {
    "slideshow": {
     "slide_type": "-"
    }
   },
   "outputs": [
    {
     "data": {
      "text/plain": [
       "Index(['2012-W01', '2012-W01', '2012-W01', '2012-W01', '2012-W02', '2012-W02',\n",
       "       '2012-W02', '2012-W02', '2012-W03', '2012-W03',\n",
       "       ...\n",
       "       '2017-W50', '2017-W50', '2017-W51', '2017-W51', '2017-W51', '2017-W51',\n",
       "       '2017-W52', '2017-W52', '2017-W52', '2017-W52'],\n",
       "      dtype='object', name='epi_week', length=1252)"
      ]
     },
     "execution_count": 11,
     "metadata": {},
     "output_type": "execute_result"
    }
   ],
   "source": [
    "df.index"
   ]
  },
  {
   "cell_type": "markdown",
   "metadata": {
    "slideshow": {
     "slide_type": "-"
    }
   },
   "source": [
    "Hmm, looks like this date format isn't recognized.\n",
    "\n",
    "We'll need to supply a custom date parser."
   ]
  },
  {
   "cell_type": "code",
   "execution_count": 22,
   "metadata": {
    "slideshow": {
     "slide_type": "-"
    }
   },
   "outputs": [
    {
     "data": {
      "text/plain": [
       "[datetime.datetime(2012, 1, 8, 0, 0), datetime.datetime(2012, 12, 30, 0, 0)]"
      ]
     },
     "execution_count": 22,
     "metadata": {},
     "output_type": "execute_result"
    }
   ],
   "source": [
    "# create the parser \n",
    "def parse_date(date):\n",
    "    \"\"\"Parses a yyyy-WNN date string\n",
    "    Args:\n",
    "        date: a date string in the yyyy-WNN format\n",
    "    Returns:\n",
    "        A pandas.datetime64 \n",
    "    \"\"\"\n",
    "    # https://stackoverflow.com/questions/17087314/get-date-from-week-number\n",
    "    return pd.datetime.strptime(date + '-0', '%Y-W%W-%w')\n",
    "\n",
    "def parse_dates(dates):\n",
    "    \"\"\"Parses a list of dates\n",
    "    Args:\n",
    "        dates: a list of dates\n",
    "    Returns:\n",
    "        A list of pandas.datetime64\n",
    "    \"\"\"\n",
    "    return [parse_date(d) for d in dates]\n",
    "\n",
    "# test the parser\n",
    "parse_dates(['2012-W01', '2012-W52'])"
   ]
  },
  {
   "cell_type": "markdown",
   "metadata": {
    "slideshow": {
     "slide_type": "-"
    }
   },
   "source": [
    "### Re-read the CSV with custom date parser"
   ]
  },
  {
   "cell_type": "code",
   "execution_count": null,
   "metadata": {},
   "outputs": [],
   "source": []
  },
  {
   "cell_type": "markdown",
   "metadata": {
    "slideshow": {
     "slide_type": "-"
    }
   },
   "source": [
    "Let's try to plot the total number of cases over time."
   ]
  },
  {
   "cell_type": "markdown",
   "metadata": {
    "slideshow": {
     "slide_type": "-"
    }
   },
   "source": [
    "### Plot workflow\n",
    "\n",
    "Here's a basic workflow for creating a plot.\n",
    "\n",
    "```\n",
    "import matplotlib.pyplot as plt\n",
    "\n",
    "# create subplots lined up as 1 row and 2 columns\n",
    "# 20\n",
    "# ax1 and ax2 are the axes for each of the subplot\n",
    "fig, (ax1, ax2) = plot.subplots(nrows=1, ncols=2,\n",
    "                                figsize=(20, 10)\n",
    "\n",
    "ax1.plot(x1, y1)\n",
    "ax1.set(title='The left plot',\n",
    "        ylabel='the y-axis',\n",
    "        xlabel='the x-axis')\n",
    "\n",
    "ax2.plot(x2, y2)\n",
    "ax2.set(title='The right plot',\n",
    "        ylabel='the y-axis',\n",
    "        xlabel='the x-axis')\n",
    "plt.show()\n",
    "```"
   ]
  },
  {
   "cell_type": "markdown",
   "metadata": {
    "slideshow": {
     "slide_type": "-"
    }
   },
   "source": []
  }
 ],
 "metadata": {
  "celltoolbar": "Slideshow",
  "kernelspec": {
   "display_name": "Python 3",
   "language": "python",
   "name": "python3"
  },
  "language_info": {
   "codemirror_mode": {
    "name": "ipython",
    "version": 3
   },
   "file_extension": ".py",
   "mimetype": "text/x-python",
   "name": "python",
   "nbconvert_exporter": "python",
   "pygments_lexer": "ipython3",
   "version": "3.6.4"
  },
  "livereveal": {
   "autolaunch": false,
   "overlay": "<div class='logo'><img src='assets/Stackup_Logo_Small.png' width='90%'/></div>"
  }
 },
 "nbformat": 4,
 "nbformat_minor": 2
}
