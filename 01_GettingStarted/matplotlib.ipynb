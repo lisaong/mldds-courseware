{
 "cells": [
  {
   "cell_type": "markdown",
   "metadata": {
    "slideshow": {
     "slide_type": "-"
    }
   },
   "source": [
    "![matplotlib](https://matplotlib.org/_static/logo2.png)\n",
    "\n",
    "(image: matplotlib.org)"
   ]
  },
  {
   "cell_type": "markdown",
   "metadata": {
    "slideshow": {
     "slide_type": "slide"
    }
   },
   "source": [
    "# Topics\n",
    "\n",
    "- Basic plotting routines\n",
    "- Visualizing continuous data\n",
    "- Visualizing categorical data\n",
    "- Basic plot customizations"
   ]
  },
  {
   "cell_type": "markdown",
   "metadata": {
    "slideshow": {
     "slide_type": "slide"
    }
   },
   "source": [
    "## Workshop: Matplotlib and Data Visualization\n",
    "\n",
    "In this workshop, we will cover using Matplotlib to create data visualizations.\n",
    "\n",
    "By now, you have already seen Matplotlib in action in the NumPy and Pandas workshops. This workshop serves as a more structured introduction to Matplotlib.\n",
    "\n",
    "Specifically, we'll be focusing on `matplotlib.pyplot`."
   ]
  },
  {
   "cell_type": "markdown",
   "metadata": {
    "slideshow": {
     "slide_type": "slide"
    }
   },
   "source": [
    "### Cheatsheet\n",
    "\n",
    "https://s3.amazonaws.com/assets.datacamp.com/blog_assets/Python_Matplotlib_Cheat_Sheet.pdf"
   ]
  },
  {
   "cell_type": "markdown",
   "metadata": {
    "slideshow": {
     "slide_type": "slide"
    }
   },
   "source": [
    "### References\n",
    "\n",
    "1. https://matplotlib.org/api/pyplot_summary.html\n",
    "2. https://scipy-cookbook.readthedocs.io/items/idx_matplotlib_simple_plotting.html\n"
   ]
  },
  {
   "cell_type": "markdown",
   "metadata": {
    "slideshow": {
     "slide_type": "slide"
    }
   },
   "source": [
    "### Installation\n",
    "Windows: Start Button -> \"Anaconda Prompt\"\n",
    "\n",
    "Ubuntu / MacOS: conda should be in your path\n",
    "\n",
    "Activate the environment\n",
    "\n",
    "```\n",
    "conda activate mldds01\n",
    "```"
   ]
  },
  {
   "cell_type": "markdown",
   "metadata": {
    "slideshow": {
     "slide_type": "slide"
    }
   },
   "source": [
    "Matplotlib should already be installed. If not, install it:\n",
    "```\n",
    "conda install matplotlib\n",
    "```"
   ]
  },
  {
   "cell_type": "markdown",
   "metadata": {
    "slideshow": {
     "slide_type": "slide"
    }
   },
   "source": [
    "### Average Daily Polyclinic Attendances for Selected Diseases\n",
    "\n",
    "We will be practicing `matplotlib` concepts on this dataset."
   ]
  },
  {
   "cell_type": "markdown",
   "metadata": {
    "slideshow": {
     "slide_type": "slide"
    }
   },
   "source": [
    "### Download Instructions\n",
    "\n",
    "1. Go to https://data.gov.sg/dataset/average-daily-polyclinic-attendances-selected-diseases\n",
    "2. Click on the Download button\n",
    "3. Unzip and extract the .csv file. Note the path for use below\n",
    "\n",
    "Note: on Windows you may wish to rename the unzipped folder to something shorter."
   ]
  },
  {
   "cell_type": "code",
   "execution_count": null,
   "metadata": {
    "slideshow": {
     "slide_type": "slide"
    }
   },
   "outputs": [],
   "source": [
    "import matplotlib\n",
    "matplotlib?"
   ]
  },
  {
   "cell_type": "code",
   "execution_count": null,
   "metadata": {
    "slideshow": {
     "slide_type": "-"
    }
   },
   "outputs": [],
   "source": [
    "import matplotlib.pyplot as plt\n",
    "plt?"
   ]
  },
  {
   "cell_type": "markdown",
   "metadata": {
    "slideshow": {
     "slide_type": "-"
    }
   },
   "source": [
    "### Read the data\n",
    "\n",
    "We'll use `pandas.read_csv` to read the data"
   ]
  },
  {
   "cell_type": "code",
   "execution_count": null,
   "metadata": {
    "slideshow": {
     "slide_type": "-"
    }
   },
   "outputs": [],
   "source": [
    "import pandas as pd\n",
    "\n",
    "# Use pandas to read the CSV file into a pandas.DataFrame,\n",
    "#   parsing the dates for the `epi_week` column,\n",
    "#   setting the 0th column as the index\n",
    "#   renaming the columns (one of them `no._of_cases` is problematic with Python)\n",
    "\n",
    "df = pd.read_csv('/tmp/polyclinic-attendance/average-daily-polyclinic-attendances-for-selected-diseases.csv',\n",
    "                 parse_dates=['epi_week'],\n",
    "                 names=['epi_week', 'disease', 'cases'], header=0,\n",
    "                 index_col=0)\n",
    "df.head(5)"
   ]
  },
  {
   "cell_type": "markdown",
   "metadata": {
    "slideshow": {
     "slide_type": "-"
    }
   },
   "source": [
    "Uh oh, the date format is still a string. Let's double-check its type."
   ]
  },
  {
   "cell_type": "code",
   "execution_count": null,
   "metadata": {
    "slideshow": {
     "slide_type": "-"
    }
   },
   "outputs": [],
   "source": [
    "df.index"
   ]
  },
  {
   "cell_type": "markdown",
   "metadata": {
    "slideshow": {
     "slide_type": "-"
    }
   },
   "source": [
    "Hmm, looks like this date format isn't recognized.\n",
    "\n",
    "We'll need to supply a custom date parser."
   ]
  },
  {
   "cell_type": "code",
   "execution_count": null,
   "metadata": {
    "slideshow": {
     "slide_type": "-"
    }
   },
   "outputs": [],
   "source": [
    "# create the parser \n",
    "def parse_date(date):\n",
    "    \"\"\"Parses a yyyy-WNN date string\n",
    "    Args:\n",
    "        date: a date string in the yyyy-WNN format\n",
    "    Returns:\n",
    "        A pandas.datetime64 \n",
    "    \"\"\"\n",
    "    # https://stackoverflow.com/questions/17087314/get-date-from-week-number\n",
    "    return pd.datetime.strptime(date + '-0', '%Y-W%W-%w')\n",
    "\n",
    "def parse_dates(dates):\n",
    "    \"\"\"Parses a list of dates\n",
    "    Args:\n",
    "        dates: a list of dates\n",
    "    Returns:\n",
    "        A list of pandas.datetime64\n",
    "    \"\"\"\n",
    "    return [parse_date(d) for d in dates]\n",
    "\n",
    "# test the parser\n",
    "parse_dates(['2012-W01', '2012-W52'])"
   ]
  },
  {
   "cell_type": "markdown",
   "metadata": {
    "slideshow": {
     "slide_type": "-"
    }
   },
   "source": [
    "### Re-read the CSV with custom date parser"
   ]
  },
  {
   "cell_type": "code",
   "execution_count": null,
   "metadata": {},
   "outputs": [],
   "source": [
    "df = pd.read_csv('/tmp/polyclinic-attendance/average-daily-polyclinic-attendances-for-selected-diseases.csv',\n",
    "                 parse_dates=['epi_week'], date_parser=parse_dates,\n",
    "                 names=['epi_week', 'disease', 'cases'], header=0,\n",
    "                 index_col=0)\n",
    "\n",
    "df.head(5)"
   ]
  },
  {
   "cell_type": "code",
   "execution_count": null,
   "metadata": {},
   "outputs": [],
   "source": [
    "df.index"
   ]
  },
  {
   "cell_type": "markdown",
   "metadata": {
    "slideshow": {
     "slide_type": "-"
    }
   },
   "source": [
    "### Plots\n",
    "\n",
    "Let's try to plot these graphs:\n",
    "1. Line plot showing total number of cases over time\n",
    "2. Overlaid line plots showing number of cases per type, over time\n",
    "3. Bar chart showing distribution of types of cases over time"
   ]
  },
  {
   "cell_type": "markdown",
   "metadata": {
    "slideshow": {
     "slide_type": "-"
    }
   },
   "source": [
    "### Plot workflow\n",
    "\n",
    "Before we begin, here's a generic workflow for creating a plot.\n",
    "\n",
    "```\n",
    "import matplotlib.pyplot as plt\n",
    "\n",
    "# create subplots lined up as 1 row and 2 columns\n",
    "# 20 x 10 \"figure units\"\n",
    "# ax1 and ax2 are the axes for each of the subplot\n",
    "fig, (ax1, ax2) = plt.subplots(nrows=1, ncols=2,\n",
    "                               figsize=(20, 10))\n",
    "\n",
    "\n",
    "# get pandas DataFrames\n",
    "df1 = ...\n",
    "df2 = ...\n",
    "\n",
    "# plot the DataFrames\n",
    "df1.plot(ax=ax1)\n",
    "ax1.set(title='The left plot',\n",
    "        ylabel='the y-axis',\n",
    "        xlabel='the x-axis')\n",
    "\n",
    "df2.plot(ax=ax2)\n",
    "ax2.set(title='The right plot',\n",
    "        ylabel='the y-axis',\n",
    "        xlabel='the x-axis')\n",
    "\n",
    "```"
   ]
  },
  {
   "cell_type": "markdown",
   "metadata": {
    "slideshow": {
     "slide_type": "-"
    }
   },
   "source": [
    "The workflow can be adapted to create any number of plots. \n",
    "\n",
    "For example, to create 1 plot:\n",
    "```\n",
    "fig, (ax) = plt.subplots(figsize=(20, 10)) # default nrows=1, ncols=1\n",
    "```\n",
    "\n",
    "To create 2 rows of plots:\n",
    "```\n",
    "fig, (ax1, ax2) = plt.subplots(nrows=2, ncols=1,\n",
    "                               figsize=(20, 10))\n",
    "\n",
    "# ax1 is the top row\n",
    "# ax2 is the bottom row\n",
    "```\n",
    "\n",
    "To plot multiple graphs in the same plot:\n",
    "```\n",
    "fig, (ax) = plt.subplots(figsize=(20, 10))\n",
    "\n",
    "df1.plot(ax=ax)\n",
    "df2.plot(ax=ax)\n",
    "```"
   ]
  },
  {
   "cell_type": "markdown",
   "metadata": {
    "slideshow": {
     "slide_type": "-"
    }
   },
   "source": [
    "### Line plot showing total number of cases over time\n",
    "\n",
    "To plot this, we need to sum up the cases for each date.\n",
    "\n",
    "A pandas DataFrame already provides a `plot()` method that returns a `matplotlib` `AxesSubplot`. It's just a raw plot using the column names as the default axis labels."
   ]
  },
  {
   "cell_type": "code",
   "execution_count": null,
   "metadata": {
    "slideshow": {
     "slide_type": "-"
    }
   },
   "outputs": [],
   "source": [
    "df.groupby(df.index)['cases'].sum().plot(marker='o')"
   ]
  },
  {
   "cell_type": "markdown",
   "metadata": {
    "slideshow": {
     "slide_type": "-"
    }
   },
   "source": [
    "### Exercise: Plot Customization\n",
    "\n",
    "Use the workflow to create a customized plot:\n",
    "1. Make the plot bigger by setting figsize\n",
    "2. Set the X axis to 'Year'\n",
    "3. Set the Y axis to 'Number of cases'\n",
    "4. Set the title to 'Polyclinic Cases for Selected Diseases'\n",
    "\n",
    "You can add more customization options, such as `ax.grid()` to turn on the grid.\n",
    "See: https://matplotlib.org/api/axes_api.html#appearance"
   ]
  },
  {
   "cell_type": "code",
   "execution_count": null,
   "metadata": {},
   "outputs": [],
   "source": [
    "# Your code here\n",
    "\n",
    "\n",
    "\n",
    "\n",
    "\n",
    "\n",
    "\n",
    "\n",
    "\n"
   ]
  },
  {
   "cell_type": "markdown",
   "metadata": {
    "slideshow": {
     "slide_type": "-"
    }
   },
   "source": [
    "### Overlaid line plots showing number of cases per type, over time\n",
    "\n",
    "Based on the plot, it looks like something serious happened in early 2015.\n",
    "\n",
    "Let's find out what type of cases contributed to this spike, by plotting a line per type."
   ]
  },
  {
   "cell_type": "markdown",
   "metadata": {
    "slideshow": {
     "slide_type": "-"
    }
   },
   "source": [
    "First, we need to know what types of diseases there are."
   ]
  },
  {
   "cell_type": "code",
   "execution_count": null,
   "metadata": {
    "slideshow": {
     "slide_type": "-"
    }
   },
   "outputs": [],
   "source": [
    "# find the columns\n",
    "df.columns"
   ]
  },
  {
   "cell_type": "code",
   "execution_count": null,
   "metadata": {
    "slideshow": {
     "slide_type": "-"
    }
   },
   "outputs": [],
   "source": [
    "# find unique values for the `disease` column\n",
    "df.disease.unique()"
   ]
  },
  {
   "cell_type": "code",
   "execution_count": null,
   "metadata": {},
   "outputs": [],
   "source": [
    "# we can get the Series for number of cases for one disease\n",
    "df_diarrhoea = df[df.disease == 'Acute Diarrhoea']\n",
    "diarrhoea_cases = df_diarrhoea.groupby(df_diarrhoea.index)['cases'].sum()\n",
    "\n",
    "diarrhoea_cases"
   ]
  },
  {
   "cell_type": "code",
   "execution_count": null,
   "metadata": {
    "slideshow": {
     "slide_type": "-"
    }
   },
   "outputs": [],
   "source": [
    "# List comprehension will give us a list of Series\n",
    "cases_per_disease = [df[df.disease == d].groupby(\n",
    "    df[df.disease == d].index)['cases'].sum()\n",
    " for d in df.disease.unique()]\n",
    "\n",
    "cases_per_disease"
   ]
  },
  {
   "cell_type": "markdown",
   "metadata": {
    "slideshow": {
     "slide_type": "-"
    }
   },
   "source": [
    "### Exercise: Multi-line Plots\n",
    "\n",
    "Plot each Series in `cases_per_disease` as a line on the SAME plot.\n",
    "\n",
    "1. Plot each line on the same axis. You can skip marker='o' if the plot looks too dense.\n",
    "2. Make the plot bigger by setting figsize\n",
    "3. Set the X axis to 'Year', Y axis to 'Number of cases', title to 'Polyclinic Cases for Selected Diseases'\n",
    "4. Set the legend using `ax.legend(df.disease.unique())`"
   ]
  },
  {
   "cell_type": "code",
   "execution_count": null,
   "metadata": {
    "slideshow": {
     "slide_type": "-"
    }
   },
   "outputs": [],
   "source": [
    "# Your code here\n",
    "\n",
    "\n",
    "\n",
    "\n",
    "\n",
    "\n",
    "\n",
    "\n",
    "\n",
    "\n",
    "\n"
   ]
  },
  {
   "cell_type": "markdown",
   "metadata": {
    "slideshow": {
     "slide_type": "-"
    }
   },
   "source": [
    "So the majority of the cases in 2015 are due to \"Acute Upper Respiratory Tract infections.\"\n",
    "\n",
    "A search of the internet reveals that there was a serious haze around 2015, but the spike was still too large to seem normal.\n",
    "\n",
    "Just to confirm that we didn't plot things incorrectly, let's inspect the data around the first week of 2015:"
   ]
  },
  {
   "cell_type": "code",
   "execution_count": null,
   "metadata": {
    "slideshow": {
     "slide_type": "-"
    }
   },
   "outputs": [],
   "source": [
    "# using pandas' datetime helpers\n",
    "reference_date = pd.to_datetime('2015-01-01')\n",
    "start_date = reference_date - pd.DateOffset(weeks=1)\n",
    "end_date = reference_date + pd.DateOffset(weeks=3)\n",
    "\n",
    "# row_index, col_index\n",
    "df.loc[start_date:end_date, :]"
   ]
  },
  {
   "cell_type": "markdown",
   "metadata": {
    "slideshow": {
     "slide_type": "-"
    }
   },
   "source": [
    "Hmm, there are duplicate entries for `2015-01-11`. There could be some double-counting here."
   ]
  },
  {
   "cell_type": "code",
   "execution_count": null,
   "metadata": {
    "slideshow": {
     "slide_type": "-"
    }
   },
   "outputs": [],
   "source": [
    "df.loc[pd.to_datetime('2015-01-11'), :]"
   ]
  },
  {
   "cell_type": "markdown",
   "metadata": {
    "slideshow": {
     "slide_type": "-"
    }
   },
   "source": [
    "At this point, we would inspect the raw CSV, confirm things, and contact the data source owner to figure out whether this is expected.\n",
    "\n",
    "### Visualization can spot data abnormalities\n",
    "The insight here is that plotting **can reveal hidden issues in the data**. Before spending time creating a model, it's a good idea to plot and check that the plots make sense."
   ]
  },
  {
   "cell_type": "markdown",
   "metadata": {},
   "source": [
    "### Fixing invalid rows\n",
    "One way to fix the data is to replace the duplicate entries with their average value, divided by the number of entries."
   ]
  },
  {
   "cell_type": "code",
   "execution_count": null,
   "metadata": {
    "slideshow": {
     "slide_type": "-"
    }
   },
   "outputs": [],
   "source": [
    "# compute the mean cases\n",
    "date = pd.to_datetime('2015-01-11')\n",
    "means = df.loc[date].groupby('disease').mean()\n",
    "\n",
    "# make sure we know how to access these values\n",
    "for d in means.index:\n",
    "    print(means[means.index == d]['cases'].values[0])"
   ]
  },
  {
   "cell_type": "code",
   "execution_count": null,
   "metadata": {
    "slideshow": {
     "slide_type": "-"
    }
   },
   "outputs": [],
   "source": [
    "# for each disease on that date, replace the cases with the mean\n",
    "#\n",
    "# Note: Recall that loc must be used in order to modify the actual DataFrame\n",
    "# otherwise you'll get a warning about modifying a copy of the DataFrame\n",
    "\n",
    "for d in means.index:\n",
    "    # loc(row_selector, column_selector)\n",
    "    # the division by 2 is so that their combined sum is the average value\n",
    "    df.loc[(df.index == date) & (df.disease == d), 'cases'] = means[means.index == d]['cases'].values[0] / 2\n",
    "    \n",
    "df.loc[date, :]"
   ]
  },
  {
   "cell_type": "markdown",
   "metadata": {
    "slideshow": {
     "slide_type": "-"
    }
   },
   "source": [
    "Let's replot our graphs with the updated DataFrame:"
   ]
  },
  {
   "cell_type": "code",
   "execution_count": null,
   "metadata": {},
   "outputs": [],
   "source": [
    "fig, ax = plt.subplots(figsize=(20, 10))\n",
    "\n",
    "[s.plot(ax=ax) for s in [\n",
    "    df[df.disease == d].groupby(\n",
    "        df[df.disease == d].index)['cases'].sum()\n",
    "    for d in df.disease.unique()]\n",
    "]\n",
    "\n",
    "ax.set(title='Polyclinic Cases for Selected Diseases',\n",
    "      ylabel='Number of cases',\n",
    "      xlabel='Week of the year')\n",
    "ax.grid()\n",
    "ax.legend(df.disease.unique())"
   ]
  },
  {
   "cell_type": "markdown",
   "metadata": {
    "slideshow": {
     "slide_type": "-"
    }
   },
   "source": [
    "### Bar chart showing distribution of types of cases over time\n",
    "\n",
    "In our final plot, we'll do a bar chart.\n",
    "\n",
    "This should be similar to what we did in the pandas workshop."
   ]
  },
  {
   "cell_type": "markdown",
   "metadata": {
    "slideshow": {
     "slide_type": "-"
    }
   },
   "source": [
    "### Exercise: Pivot table and Bar chart\n",
    "\n",
    "1. Create a `pandas.pivot_table` using `index=df.index.weekofyear`, `disease` as columns, and `cases` as values\n",
    "2. Plot the pivot table as a stacked bar chart\n",
    "3. Customize the bar chart to your liking. For example, x-axis 'Week of year', y-axis 'Case distribution'\n",
    "\n",
    "Hint: refer to the final exercise in the pandas worksheet on how to setup the `pivot_table`, or try `pd.pivot_table?` for help."
   ]
  },
  {
   "cell_type": "code",
   "execution_count": null,
   "metadata": {
    "slideshow": {
     "slide_type": "-"
    }
   },
   "outputs": [],
   "source": [
    "# Your code here\n",
    "\n",
    "\n",
    "\n",
    "\n",
    "\n",
    "\n",
    "\n",
    "\n",
    "\n",
    "\n",
    "\n",
    "\n"
   ]
  },
  {
   "cell_type": "code",
   "execution_count": null,
   "metadata": {},
   "outputs": [],
   "source": []
  }
 ],
 "metadata": {
  "celltoolbar": "Slideshow",
  "kernelspec": {
   "display_name": "Python 3",
   "language": "python",
   "name": "python3"
  },
  "language_info": {
   "codemirror_mode": {
    "name": "ipython",
    "version": 3
   },
   "file_extension": ".py",
   "mimetype": "text/x-python",
   "name": "python",
   "nbconvert_exporter": "python",
   "pygments_lexer": "ipython3",
   "version": "3.6.5"
  },
  "livereveal": {
   "autolaunch": false,
   "overlay": "<div class='logo'><img src='assets/Stackup_Logo_Small.png' width='90%'/></div>"
  }
 },
 "nbformat": 4,
 "nbformat_minor": 2
}
