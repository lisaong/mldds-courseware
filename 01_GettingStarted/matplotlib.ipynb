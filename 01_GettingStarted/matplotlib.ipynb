{
 "cells": [
  {
   "cell_type": "markdown",
   "metadata": {},
   "source": [
    "![matplotlib](https://matplotlib.org/_static/logo2.png)\n",
    "\n",
    "(image: matplotlib.org)"
   ]
  },
  {
   "cell_type": "markdown",
   "metadata": {
    "slideshow": {
     "slide_type": "-"
    }
   },
   "source": [
    "## Workshop: Matplotlib and Data Visualization\n",
    "\n",
    "In this workshop, we will cover using Matplotlib to create data visualizations.\n",
    "\n",
    "By now, you have already seen Matplotlib in action in the NumPy and Pandas workshops. This workshop serves as a more structured introduction to Matplotlib.\n",
    "\n",
    "Specifically, we'll be focusing on `matplotlib.pyplot`."
   ]
  },
  {
   "cell_type": "markdown",
   "metadata": {
    "slideshow": {
     "slide_type": "-"
    }
   },
   "source": [
    "### Cheatsheet\n",
    "\n",
    "https://s3.amazonaws.com/assets.datacamp.com/blog_assets/Python_Matplotlib_Cheat_Sheet.pdf"
   ]
  },
  {
   "cell_type": "markdown",
   "metadata": {
    "slideshow": {
     "slide_type": "-"
    }
   },
   "source": [
    "### References\n",
    "\n",
    "1. https://matplotlib.org/api/pyplot_summary.html\n",
    "2. https://scipy-cookbook.readthedocs.io/items/idx_matplotlib_simple_plotting.html\n"
   ]
  },
  {
   "cell_type": "markdown",
   "metadata": {
    "slideshow": {
     "slide_type": "-"
    }
   },
   "source": [
    "### Installation\n",
    "Windows: Start Button -> \"Anaconda Prompt\"\n",
    "\n",
    "Ubuntu / MacOS: conda should be in your path\n",
    "\n",
    "Activate the environment\n",
    "\n",
    "```\n",
    "conda activate module1\n",
    "```"
   ]
  },
  {
   "cell_type": "markdown",
   "metadata": {
    "slideshow": {
     "slide_type": "-"
    }
   },
   "source": [
    "Matplotlib should already be installed. If not, install it:\n",
    "```\n",
    "conda install matplotlib\n",
    "```"
   ]
  },
  {
   "cell_type": "markdown",
   "metadata": {
    "slideshow": {
     "slide_type": "-"
    }
   },
   "source": [
    "### Average Daily Polyclinic Attendances for Selected Diseases\n",
    "\n",
    "We will be practicing `matplotlib` concepts on this dataset."
   ]
  },
  {
   "cell_type": "markdown",
   "metadata": {
    "slideshow": {
     "slide_type": "-"
    }
   },
   "source": [
    "### Download Instructions\n",
    "\n",
    "1. Go to https://data.gov.sg/dataset/average-daily-polyclinic-attendances-selected-diseases\n",
    "2. Click on the Download button\n",
    "3. Unzip and extract the .csv file. Note the path for use below\n",
    "\n",
    "Note: on Windows you may wish to rename the unzipped folder to something shorter."
   ]
  },
  {
   "cell_type": "code",
   "execution_count": 3,
   "metadata": {
    "slideshow": {
     "slide_type": "-"
    }
   },
   "outputs": [],
   "source": [
    "import matplotlib\n",
    "matplotlib?"
   ]
  },
  {
   "cell_type": "code",
   "execution_count": 2,
   "metadata": {
    "slideshow": {
     "slide_type": "-"
    }
   },
   "outputs": [],
   "source": [
    "import matplotlib.pyplot as plt\n",
    "plt?"
   ]
  },
  {
   "cell_type": "markdown",
   "metadata": {
    "slideshow": {
     "slide_type": "-"
    }
   },
   "source": [
    "### Read the data\n",
    "\n",
    "We'll use `pandas.read_csv` to read the data"
   ]
  },
  {
   "cell_type": "code",
   "execution_count": 33,
   "metadata": {
    "slideshow": {
     "slide_type": "-"
    }
   },
   "outputs": [
    {
     "data": {
      "text/html": [
       "<div>\n",
       "<style scoped>\n",
       "    .dataframe tbody tr th:only-of-type {\n",
       "        vertical-align: middle;\n",
       "    }\n",
       "\n",
       "    .dataframe tbody tr th {\n",
       "        vertical-align: top;\n",
       "    }\n",
       "\n",
       "    .dataframe thead th {\n",
       "        text-align: right;\n",
       "    }\n",
       "</style>\n",
       "<table border=\"1\" class=\"dataframe\">\n",
       "  <thead>\n",
       "    <tr style=\"text-align: right;\">\n",
       "      <th></th>\n",
       "      <th>disease</th>\n",
       "      <th>no._of_cases</th>\n",
       "    </tr>\n",
       "    <tr>\n",
       "      <th>epi_week</th>\n",
       "      <th></th>\n",
       "      <th></th>\n",
       "    </tr>\n",
       "  </thead>\n",
       "  <tbody>\n",
       "    <tr>\n",
       "      <th>2012-W01</th>\n",
       "      <td>Acute Upper Respiratory Tract infections</td>\n",
       "      <td>2932</td>\n",
       "    </tr>\n",
       "    <tr>\n",
       "      <th>2012-W01</th>\n",
       "      <td>Acute Conjunctivitis</td>\n",
       "      <td>120</td>\n",
       "    </tr>\n",
       "    <tr>\n",
       "      <th>2012-W01</th>\n",
       "      <td>Acute Diarrhoea</td>\n",
       "      <td>491</td>\n",
       "    </tr>\n",
       "    <tr>\n",
       "      <th>2012-W01</th>\n",
       "      <td>Chickenpox</td>\n",
       "      <td>18</td>\n",
       "    </tr>\n",
       "    <tr>\n",
       "      <th>2012-W02</th>\n",
       "      <td>Acute Upper Respiratory Tract infections</td>\n",
       "      <td>3189</td>\n",
       "    </tr>\n",
       "  </tbody>\n",
       "</table>\n",
       "</div>"
      ],
      "text/plain": [
       "                                           disease  no._of_cases\n",
       "epi_week                                                        \n",
       "2012-W01  Acute Upper Respiratory Tract infections          2932\n",
       "2012-W01                      Acute Conjunctivitis           120\n",
       "2012-W01                           Acute Diarrhoea           491\n",
       "2012-W01                                Chickenpox            18\n",
       "2012-W02  Acute Upper Respiratory Tract infections          3189"
      ]
     },
     "execution_count": 33,
     "metadata": {},
     "output_type": "execute_result"
    }
   ],
   "source": [
    "import pandas as pd\n",
    "\n",
    "# Use pandas to read the CSV file into a pandas.DataFrame,\n",
    "#   parsing the dates for the `epi_week` column,\n",
    "#   setting the 0th column as the index\n",
    "\n",
    "df = pd.read_csv('D:/tmp/polyclinic-attendance/average-daily-polyclinic-attendances-for-selected-diseases.csv',\n",
    "                 parse_dates=['epi_week'], index_col=0)\n",
    "df.head(5)"
   ]
  },
  {
   "cell_type": "markdown",
   "metadata": {
    "slideshow": {
     "slide_type": "-"
    }
   },
   "source": [
    "Uh oh, the date format is still a string. Let's double-check its type."
   ]
  },
  {
   "cell_type": "code",
   "execution_count": 34,
   "metadata": {
    "slideshow": {
     "slide_type": "-"
    }
   },
   "outputs": [
    {
     "data": {
      "text/plain": [
       "Index(['2012-W01', '2012-W01', '2012-W01', '2012-W01', '2012-W02', '2012-W02',\n",
       "       '2012-W02', '2012-W02', '2012-W03', '2012-W03',\n",
       "       ...\n",
       "       '2017-W50', '2017-W50', '2017-W51', '2017-W51', '2017-W51', '2017-W51',\n",
       "       '2017-W52', '2017-W52', '2017-W52', '2017-W52'],\n",
       "      dtype='object', name='epi_week', length=1252)"
      ]
     },
     "execution_count": 34,
     "metadata": {},
     "output_type": "execute_result"
    }
   ],
   "source": [
    "df.index"
   ]
  },
  {
   "cell_type": "markdown",
   "metadata": {
    "slideshow": {
     "slide_type": "-"
    }
   },
   "source": [
    "Hmm, looks like this date format isn't recognized.\n",
    "\n",
    "We'll need to supply a custom date parser."
   ]
  },
  {
   "cell_type": "code",
   "execution_count": 35,
   "metadata": {
    "slideshow": {
     "slide_type": "-"
    }
   },
   "outputs": [
    {
     "data": {
      "text/plain": [
       "[datetime.datetime(2012, 1, 8, 0, 0), datetime.datetime(2012, 12, 30, 0, 0)]"
      ]
     },
     "execution_count": 35,
     "metadata": {},
     "output_type": "execute_result"
    }
   ],
   "source": [
    "# create the parser \n",
    "def parse_date(date):\n",
    "    \"\"\"Parses a yyyy-WNN date string\n",
    "    Args:\n",
    "        date: a date string in the yyyy-WNN format\n",
    "    Returns:\n",
    "        A pandas.datetime64 \n",
    "    \"\"\"\n",
    "    # https://stackoverflow.com/questions/17087314/get-date-from-week-number\n",
    "    return pd.datetime.strptime(date + '-0', '%Y-W%W-%w')\n",
    "\n",
    "def parse_dates(dates):\n",
    "    \"\"\"Parses a list of dates\n",
    "    Args:\n",
    "        dates: a list of dates\n",
    "    Returns:\n",
    "        A list of pandas.datetime64\n",
    "    \"\"\"\n",
    "    return [parse_date(d) for d in dates]\n",
    "\n",
    "# test the parser\n",
    "parse_dates(['2012-W01', '2012-W52'])"
   ]
  },
  {
   "cell_type": "markdown",
   "metadata": {
    "slideshow": {
     "slide_type": "-"
    }
   },
   "source": [
    "### Re-read the CSV with custom date parser"
   ]
  },
  {
   "cell_type": "code",
   "execution_count": 36,
   "metadata": {},
   "outputs": [
    {
     "data": {
      "text/html": [
       "<div>\n",
       "<style scoped>\n",
       "    .dataframe tbody tr th:only-of-type {\n",
       "        vertical-align: middle;\n",
       "    }\n",
       "\n",
       "    .dataframe tbody tr th {\n",
       "        vertical-align: top;\n",
       "    }\n",
       "\n",
       "    .dataframe thead th {\n",
       "        text-align: right;\n",
       "    }\n",
       "</style>\n",
       "<table border=\"1\" class=\"dataframe\">\n",
       "  <thead>\n",
       "    <tr style=\"text-align: right;\">\n",
       "      <th></th>\n",
       "      <th>disease</th>\n",
       "      <th>no._of_cases</th>\n",
       "    </tr>\n",
       "    <tr>\n",
       "      <th>epi_week</th>\n",
       "      <th></th>\n",
       "      <th></th>\n",
       "    </tr>\n",
       "  </thead>\n",
       "  <tbody>\n",
       "    <tr>\n",
       "      <th>2012-01-08</th>\n",
       "      <td>Acute Upper Respiratory Tract infections</td>\n",
       "      <td>2932</td>\n",
       "    </tr>\n",
       "    <tr>\n",
       "      <th>2012-01-08</th>\n",
       "      <td>Acute Conjunctivitis</td>\n",
       "      <td>120</td>\n",
       "    </tr>\n",
       "    <tr>\n",
       "      <th>2012-01-08</th>\n",
       "      <td>Acute Diarrhoea</td>\n",
       "      <td>491</td>\n",
       "    </tr>\n",
       "    <tr>\n",
       "      <th>2012-01-08</th>\n",
       "      <td>Chickenpox</td>\n",
       "      <td>18</td>\n",
       "    </tr>\n",
       "    <tr>\n",
       "      <th>2012-01-15</th>\n",
       "      <td>Acute Upper Respiratory Tract infections</td>\n",
       "      <td>3189</td>\n",
       "    </tr>\n",
       "  </tbody>\n",
       "</table>\n",
       "</div>"
      ],
      "text/plain": [
       "                                             disease  no._of_cases\n",
       "epi_week                                                          \n",
       "2012-01-08  Acute Upper Respiratory Tract infections          2932\n",
       "2012-01-08                      Acute Conjunctivitis           120\n",
       "2012-01-08                           Acute Diarrhoea           491\n",
       "2012-01-08                                Chickenpox            18\n",
       "2012-01-15  Acute Upper Respiratory Tract infections          3189"
      ]
     },
     "execution_count": 36,
     "metadata": {},
     "output_type": "execute_result"
    }
   ],
   "source": [
    "df = pd.read_csv('D:/tmp/polyclinic-attendance/average-daily-polyclinic-attendances-for-selected-diseases.csv',\n",
    "                 parse_dates=['epi_week'], date_parser=parse_dates,\n",
    "                 index_col=0)\n",
    "\n",
    "df.head(5)"
   ]
  },
  {
   "cell_type": "code",
   "execution_count": 37,
   "metadata": {},
   "outputs": [
    {
     "data": {
      "text/plain": [
       "DatetimeIndex(['2012-01-08', '2012-01-08', '2012-01-08', '2012-01-08',\n",
       "               '2012-01-15', '2012-01-15', '2012-01-15', '2012-01-15',\n",
       "               '2012-01-22', '2012-01-22',\n",
       "               ...\n",
       "               '2017-12-17', '2017-12-17', '2017-12-24', '2017-12-24',\n",
       "               '2017-12-24', '2017-12-24', '2017-12-31', '2017-12-31',\n",
       "               '2017-12-31', '2017-12-31'],\n",
       "              dtype='datetime64[ns]', name='epi_week', length=1252, freq=None)"
      ]
     },
     "execution_count": 37,
     "metadata": {},
     "output_type": "execute_result"
    }
   ],
   "source": [
    "df.index"
   ]
  },
  {
   "cell_type": "markdown",
   "metadata": {
    "slideshow": {
     "slide_type": "-"
    }
   },
   "source": [
    "### Plots\n",
    "\n",
    "Let's try to plot these graphs:\n",
    "1. Line plot showing total number of cases over time\n",
    "2. Overlaid line plots showing number of cases per type, over time\n",
    "3. Bar chart showing distribution of types of cases over time"
   ]
  },
  {
   "cell_type": "markdown",
   "metadata": {
    "slideshow": {
     "slide_type": "-"
    }
   },
   "source": [
    "### Plot workflow\n",
    "\n",
    "Before we begin, here's a generic workflow for creating a plot.\n",
    "\n",
    "```\n",
    "import matplotlib.pyplot as plt\n",
    "\n",
    "# create subplots lined up as 1 row and 2 columns\n",
    "# 20 x 10 \"figure units\"\n",
    "# ax1 and ax2 are the axes for each of the subplot\n",
    "fig, (ax1, ax2) = plt.subplots(nrows=1, ncols=2,\n",
    "                               figsize=(20, 10))\n",
    "\n",
    "\n",
    "# get pandas DataFrames\n",
    "df1 = ...\n",
    "df2 = ...\n",
    "\n",
    "# plot the DataFrames\n",
    "df1.plot(ax=ax1)\n",
    "ax1.set(title='The left plot',\n",
    "        ylabel='the y-axis',\n",
    "        xlabel='the x-axis')\n",
    "\n",
    "df2.plot(ax=ax2)\n",
    "ax2.set(title='The right plot',\n",
    "        ylabel='the y-axis',\n",
    "        xlabel='the x-axis')\n",
    "\n",
    "```"
   ]
  },
  {
   "cell_type": "markdown",
   "metadata": {
    "slideshow": {
     "slide_type": "-"
    }
   },
   "source": [
    "The workflow can be adapted to create any number of plots. \n",
    "\n",
    "For example, to create 1 plot:\n",
    "```\n",
    "fig, (ax) = plt.subplots(figsize=(20, 10)) # default nrows=1, ncols=1\n",
    "```\n",
    "\n",
    "To create 2 rows of plots:\n",
    "```\n",
    "fig, (ax1, ax2) = plt.subplots(nrows=2, ncols=1,\n",
    "                               figsize=(20, 10))\n",
    "\n",
    "# ax1 is the top row\n",
    "# ax2 is the bottom row\n",
    "```\n",
    "\n",
    "To plot multiple graphs in the same plot:\n",
    "```\n",
    "fig, (ax) = plt.subplots(figsize=(20, 10))\n",
    "\n",
    "df1.plot(ax=ax)\n",
    "df2.plot(ax=ax)\n",
    "```"
   ]
  },
  {
   "cell_type": "markdown",
   "metadata": {
    "slideshow": {
     "slide_type": "-"
    }
   },
   "source": [
    "### Line plot showing total number of cases over time\n",
    "\n",
    "To plot this, we need to sum up the cases for each date.\n",
    "\n",
    "A pandas DataFrame already provides a `plot()` method that returns a `matplotlib` `AxesSubplot`. It's just a raw plot using the column names as the default axis labels."
   ]
  },
  {
   "cell_type": "code",
   "execution_count": 49,
   "metadata": {
    "slideshow": {
     "slide_type": "-"
    }
   },
   "outputs": [
    {
     "data": {
      "text/plain": [
       "<matplotlib.axes._subplots.AxesSubplot at 0x21382ab1a90>"
      ]
     },
     "execution_count": 49,
     "metadata": {},
     "output_type": "execute_result"
    },
    {
     "data": {
      "image/png": "[encoded data removed]",
      "text/plain": [
       "<matplotlib.figure.Figure at 0x21382b60940>"
      ]
     },
     "metadata": {},
     "output_type": "display_data"
    }
   ],
   "source": [
    "df.groupby(df.index)['no._of_cases'].sum().plot()"
   ]
  },
  {
   "cell_type": "markdown",
   "metadata": {
    "slideshow": {
     "slide_type": "-"
    }
   },
   "source": [
    "### Exercise: Plot Customization\n",
    "\n",
    "Use the workflow to create a customized plot:\n",
    "1. Make the plot bigger by setting figsize\n",
    "2. Set the X axis to 'Year'\n",
    "3. Set the Y axis to 'Number of cases'\n",
    "4. Set the title to 'Polyclinic Cases for Selected Diseases'\n",
    "\n",
    "You can add more customization options, such as `ax.grid()` to turn on the grid.\n",
    "See: https://matplotlib.org/api/axes_api.html#appearance"
   ]
  },
  {
   "cell_type": "code",
   "execution_count": 55,
   "metadata": {},
   "outputs": [
    {
     "data": {
      "image/png": "[encoded data removed]",
      "text/plain": [
       "<matplotlib.figure.Figure at 0x2138337a400>"
      ]
     },
     "metadata": {},
     "output_type": "display_data"
    }
   ],
   "source": [
    "# Your code here\n",
    "\n",
    "fig, ax = plt.subplots(figsize=(20, 10))\n",
    "\n",
    "df.groupby(df.index)['no._of_cases'].sum().plot(ax=ax)\n",
    "\n",
    "ax.set(title='Polyclinic Cases for Selected Diseases',\n",
    "      ylabel='Number of cases',\n",
    "      xlabel='Week of the year')\n",
    "ax.grid()"
   ]
  },
  {
   "cell_type": "markdown",
   "metadata": {
    "slideshow": {
     "slide_type": "-"
    }
   },
   "source": [
    "### Overlaid line plots showing number of cases per type, over time\n",
    "\n",
    "Based on the plot, it looks like something serious happened in early 2015.\n",
    "\n",
    "Let's find out what type of cases contributed to this spike, by plotting a line per type."
   ]
  },
  {
   "cell_type": "markdown",
   "metadata": {
    "slideshow": {
     "slide_type": "-"
    }
   },
   "source": [
    "First, we need to know what types of diseases there are."
   ]
  },
  {
   "cell_type": "code",
   "execution_count": 57,
   "metadata": {
    "slideshow": {
     "slide_type": "-"
    }
   },
   "outputs": [
    {
     "data": {
      "text/plain": [
       "Index(['disease', 'no._of_cases'], dtype='object')"
      ]
     },
     "execution_count": 57,
     "metadata": {},
     "output_type": "execute_result"
    }
   ],
   "source": [
    "# find the columns\n",
    "df.columns"
   ]
  },
  {
   "cell_type": "code",
   "execution_count": 59,
   "metadata": {
    "slideshow": {
     "slide_type": "-"
    }
   },
   "outputs": [
    {
     "data": {
      "text/plain": [
       "array(['Acute Upper Respiratory Tract infections', 'Acute Conjunctivitis',\n",
       "       'Acute Diarrhoea', 'Chickenpox'], dtype=object)"
      ]
     },
     "execution_count": 59,
     "metadata": {},
     "output_type": "execute_result"
    }
   ],
   "source": [
    "# find unique values for the `disease` column\n",
    "df.disease.unique()"
   ]
  },
  {
   "cell_type": "code",
   "execution_count": 85,
   "metadata": {},
   "outputs": [
    {
     "data": {
      "text/plain": [
       "epi_week\n",
       "2012-01-08    491\n",
       "2012-01-15    575\n",
       "2012-01-22    539\n",
       "2012-01-29    615\n",
       "2012-02-05    559\n",
       "2012-02-12    557\n",
       "2012-02-19    529\n",
       "2012-02-26    513\n",
       "2012-03-04    505\n",
       "2012-03-11    488\n",
       "2012-03-18    432\n",
       "2012-03-25    507\n",
       "2012-04-01    477\n",
       "2012-04-08    486\n",
       "2012-04-15    487\n",
       "2012-04-22    502\n",
       "2012-04-29    478\n",
       "2012-05-06    537\n",
       "2012-05-13    488\n",
       "2012-05-20    481\n",
       "2012-05-27    454\n",
       "2012-06-03    428\n",
       "2012-06-10    404\n",
       "2012-06-17    416\n",
       "2012-06-24    399\n",
       "2012-07-01    468\n",
       "2012-07-08    498\n",
       "2012-07-15    547\n",
       "2012-07-22    545\n",
       "2012-07-29    565\n",
       "             ... \n",
       "2017-06-11    468\n",
       "2017-06-18    464\n",
       "2017-06-25    455\n",
       "2017-07-02    617\n",
       "2017-07-09    529\n",
       "2017-07-16    616\n",
       "2017-07-23    612\n",
       "2017-07-30    605\n",
       "2017-08-06    576\n",
       "2017-08-13    597\n",
       "2017-08-20    599\n",
       "2017-08-27    568\n",
       "2017-09-03    481\n",
       "2017-09-10    461\n",
       "2017-09-17    529\n",
       "2017-09-24    510\n",
       "2017-10-01    483\n",
       "2017-10-08    504\n",
       "2017-10-15    518\n",
       "2017-10-22    575\n",
       "2017-10-29    532\n",
       "2017-11-05    507\n",
       "2017-11-12    519\n",
       "2017-11-19    544\n",
       "2017-11-26    504\n",
       "2017-12-03    502\n",
       "2017-12-10    500\n",
       "2017-12-17    483\n",
       "2017-12-24    466\n",
       "2017-12-31    485\n",
       "Name: no._of_cases, Length: 312, dtype: int64"
      ]
     },
     "execution_count": 85,
     "metadata": {},
     "output_type": "execute_result"
    }
   ],
   "source": [
    "# we can get the Series for number of cases for one disease\n",
    "df_diarrhoea = df[df.disease == 'Acute Diarrhoea']\n",
    "diarrhoea_cases = df_diarrhoea.groupby(df_diarrhoea.index)['no._of_cases'].sum()\n",
    "\n",
    "diarrhoea_cases"
   ]
  },
  {
   "cell_type": "code",
   "execution_count": 82,
   "metadata": {
    "slideshow": {
     "slide_type": "-"
    }
   },
   "outputs": [
    {
     "data": {
      "text/plain": [
       "[epi_week\n",
       " 2012-01-08    2932\n",
       " 2012-01-15    3189\n",
       " 2012-01-22    3185\n",
       " 2012-01-29    4001\n",
       " 2012-02-05    3356\n",
       " 2012-02-12    3358\n",
       " 2012-02-19    3033\n",
       " 2012-02-26    2953\n",
       " 2012-03-04    2855\n",
       " 2012-03-11    2868\n",
       " 2012-03-18    2615\n",
       " 2012-03-25    2803\n",
       " 2012-04-01    2711\n",
       " 2012-04-08    2935\n",
       " 2012-04-15    3098\n",
       " 2012-04-22    3056\n",
       " 2012-04-29    3022\n",
       " 2012-05-06    3090\n",
       " 2012-05-13    3100\n",
       " 2012-05-20    3167\n",
       " 2012-05-27    2982\n",
       " 2012-06-03    2719\n",
       " 2012-06-10    2550\n",
       " 2012-06-17    2495\n",
       " 2012-06-24    2381\n",
       " 2012-07-01    2471\n",
       " 2012-07-08    2597\n",
       " 2012-07-15    2949\n",
       " 2012-07-22    3168\n",
       " 2012-07-29    3214\n",
       "               ... \n",
       " 2017-06-11    2842\n",
       " 2017-06-18    2476\n",
       " 2017-06-25    2374\n",
       " 2017-07-02    2793\n",
       " 2017-07-09    2835\n",
       " 2017-07-16    3191\n",
       " 2017-07-23    3355\n",
       " 2017-07-30    3132\n",
       " 2017-08-06    2867\n",
       " 2017-08-13    2783\n",
       " 2017-08-20    2893\n",
       " 2017-08-27    2771\n",
       " 2017-09-03    2502\n",
       " 2017-09-10    2378\n",
       " 2017-09-17    2489\n",
       " 2017-09-24    2665\n",
       " 2017-10-01    2686\n",
       " 2017-10-08    2881\n",
       " 2017-10-15    3016\n",
       " 2017-10-22    3125\n",
       " 2017-10-29    2869\n",
       " 2017-11-05    2882\n",
       " 2017-11-12    2862\n",
       " 2017-11-19    2939\n",
       " 2017-11-26    2910\n",
       " 2017-12-03    2836\n",
       " 2017-12-10    2711\n",
       " 2017-12-17    2677\n",
       " 2017-12-24    2729\n",
       " 2017-12-31    2836\n",
       " Name: no._of_cases, Length: 312, dtype: int64, epi_week\n",
       " 2012-01-08    120\n",
       " 2012-01-15    114\n",
       " 2012-01-22    106\n",
       " 2012-01-29    118\n",
       " 2012-02-05    110\n",
       " 2012-02-12    111\n",
       " 2012-02-19    105\n",
       " 2012-02-26    102\n",
       " 2012-03-04    105\n",
       " 2012-03-11     95\n",
       " 2012-03-18    103\n",
       " 2012-03-25    112\n",
       " 2012-04-01    106\n",
       " 2012-04-08    110\n",
       " 2012-04-15     98\n",
       " 2012-04-22    114\n",
       " 2012-04-29    108\n",
       " 2012-05-06    106\n",
       " 2012-05-13    101\n",
       " 2012-05-20    117\n",
       " 2012-05-27     95\n",
       " 2012-06-03     91\n",
       " 2012-06-10     93\n",
       " 2012-06-17     91\n",
       " 2012-06-24     84\n",
       " 2012-07-01    101\n",
       " 2012-07-08     95\n",
       " 2012-07-15    103\n",
       " 2012-07-22     98\n",
       " 2012-07-29     97\n",
       "              ... \n",
       " 2017-06-11     87\n",
       " 2017-06-18     83\n",
       " 2017-06-25     82\n",
       " 2017-07-02     84\n",
       " 2017-07-09     77\n",
       " 2017-07-16     85\n",
       " 2017-07-23     96\n",
       " 2017-07-30     88\n",
       " 2017-08-06     87\n",
       " 2017-08-13     87\n",
       " 2017-08-20     80\n",
       " 2017-08-27     78\n",
       " 2017-09-03     81\n",
       " 2017-09-10     75\n",
       " 2017-09-17     80\n",
       " 2017-09-24     84\n",
       " 2017-10-01     80\n",
       " 2017-10-08     71\n",
       " 2017-10-15     80\n",
       " 2017-10-22     88\n",
       " 2017-10-29     74\n",
       " 2017-11-05     80\n",
       " 2017-11-12     77\n",
       " 2017-11-19     80\n",
       " 2017-11-26     76\n",
       " 2017-12-03     83\n",
       " 2017-12-10     82\n",
       " 2017-12-17     82\n",
       " 2017-12-24     93\n",
       " 2017-12-31     88\n",
       " Name: no._of_cases, Length: 312, dtype: int64, epi_week\n",
       " 2012-01-08    491\n",
       " 2012-01-15    575\n",
       " 2012-01-22    539\n",
       " 2012-01-29    615\n",
       " 2012-02-05    559\n",
       " 2012-02-12    557\n",
       " 2012-02-19    529\n",
       " 2012-02-26    513\n",
       " 2012-03-04    505\n",
       " 2012-03-11    488\n",
       " 2012-03-18    432\n",
       " 2012-03-25    507\n",
       " 2012-04-01    477\n",
       " 2012-04-08    486\n",
       " 2012-04-15    487\n",
       " 2012-04-22    502\n",
       " 2012-04-29    478\n",
       " 2012-05-06    537\n",
       " 2012-05-13    488\n",
       " 2012-05-20    481\n",
       " 2012-05-27    454\n",
       " 2012-06-03    428\n",
       " 2012-06-10    404\n",
       " 2012-06-17    416\n",
       " 2012-06-24    399\n",
       " 2012-07-01    468\n",
       " 2012-07-08    498\n",
       " 2012-07-15    547\n",
       " 2012-07-22    545\n",
       " 2012-07-29    565\n",
       "              ... \n",
       " 2017-06-11    468\n",
       " 2017-06-18    464\n",
       " 2017-06-25    455\n",
       " 2017-07-02    617\n",
       " 2017-07-09    529\n",
       " 2017-07-16    616\n",
       " 2017-07-23    612\n",
       " 2017-07-30    605\n",
       " 2017-08-06    576\n",
       " 2017-08-13    597\n",
       " 2017-08-20    599\n",
       " 2017-08-27    568\n",
       " 2017-09-03    481\n",
       " 2017-09-10    461\n",
       " 2017-09-17    529\n",
       " 2017-09-24    510\n",
       " 2017-10-01    483\n",
       " 2017-10-08    504\n",
       " 2017-10-15    518\n",
       " 2017-10-22    575\n",
       " 2017-10-29    532\n",
       " 2017-11-05    507\n",
       " 2017-11-12    519\n",
       " 2017-11-19    544\n",
       " 2017-11-26    504\n",
       " 2017-12-03    502\n",
       " 2017-12-10    500\n",
       " 2017-12-17    483\n",
       " 2017-12-24    466\n",
       " 2017-12-31    485\n",
       " Name: no._of_cases, Length: 312, dtype: int64, epi_week\n",
       " 2012-01-08    18\n",
       " 2012-01-15    19\n",
       " 2012-01-22    16\n",
       " 2012-01-29    24\n",
       " 2012-02-05    18\n",
       " 2012-02-12    20\n",
       " 2012-02-19    19\n",
       " 2012-02-26    21\n",
       " 2012-03-04    17\n",
       " 2012-03-11    19\n",
       " 2012-03-18    15\n",
       " 2012-03-25    21\n",
       " 2012-04-01    17\n",
       " 2012-04-08    20\n",
       " 2012-04-15    18\n",
       " 2012-04-22    19\n",
       " 2012-04-29    21\n",
       " 2012-05-06    26\n",
       " 2012-05-13    21\n",
       " 2012-05-20    26\n",
       " 2012-05-27    21\n",
       " 2012-06-03    19\n",
       " 2012-06-10    15\n",
       " 2012-06-17    14\n",
       " 2012-06-24    20\n",
       " 2012-07-01    20\n",
       " 2012-07-08    21\n",
       " 2012-07-15    16\n",
       " 2012-07-22    15\n",
       " 2012-07-29    18\n",
       "               ..\n",
       " 2017-06-11    14\n",
       " 2017-06-18    10\n",
       " 2017-06-25    12\n",
       " 2017-07-02    19\n",
       " 2017-07-09    13\n",
       " 2017-07-16    17\n",
       " 2017-07-23    14\n",
       " 2017-07-30    14\n",
       " 2017-08-06    16\n",
       " 2017-08-13    15\n",
       " 2017-08-20    12\n",
       " 2017-08-27    15\n",
       " 2017-09-03    17\n",
       " 2017-09-10    13\n",
       " 2017-09-17    13\n",
       " 2017-09-24    10\n",
       " 2017-10-01    10\n",
       " 2017-10-08    11\n",
       " 2017-10-15    12\n",
       " 2017-10-22    14\n",
       " 2017-10-29    11\n",
       " 2017-11-05    11\n",
       " 2017-11-12    13\n",
       " 2017-11-19    14\n",
       " 2017-11-26    14\n",
       " 2017-12-03    14\n",
       " 2017-12-10    10\n",
       " 2017-12-17    13\n",
       " 2017-12-24    10\n",
       " 2017-12-31    15\n",
       " Name: no._of_cases, Length: 312, dtype: int64]"
      ]
     },
     "execution_count": 82,
     "metadata": {},
     "output_type": "execute_result"
    }
   ],
   "source": [
    "# List comprehension will give us a list of Series\n",
    "cases_per_disease = [df[df.disease == d].groupby(\n",
    "    df[df.disease == d].index)['no._of_cases'].sum()\n",
    " for d in df.disease.unique()]\n",
    "\n",
    "cases_per_disease"
   ]
  },
  {
   "cell_type": "markdown",
   "metadata": {
    "slideshow": {
     "slide_type": "-"
    }
   },
   "source": [
    "### Exercise: Multi-line Plots\n",
    "\n",
    "Plot each Series in `cases_per_disease` as a line on the SAME plot.\n",
    "\n",
    "1. Plot each line on the same axis\n",
    "2. Make the plot bigger by setting figsize\n",
    "3. Set the X axis to 'Year', Y axis to 'Number of cases', title to 'Polyclinic Cases for Selected Diseases'\n",
    "4. Set the legend using `ax.legend(df.disease.unique())`"
   ]
  },
  {
   "cell_type": "code",
   "execution_count": 90,
   "metadata": {
    "slideshow": {
     "slide_type": "-"
    }
   },
   "outputs": [
    {
     "data": {
      "text/plain": [
       "<matplotlib.legend.Legend at 0x2138413af28>"
      ]
     },
     "execution_count": 90,
     "metadata": {},
     "output_type": "execute_result"
    },
    {
     "data": {
      "image/png": "[encoded data removed]",
      "text/plain": [
       "<matplotlib.figure.Figure at 0x213841052b0>"
      ]
     },
     "metadata": {},
     "output_type": "display_data"
    }
   ],
   "source": [
    "# Your code here\n",
    "\n",
    "fig, ax = plt.subplots(figsize=(20, 10))\n",
    "\n",
    "[s.plot(ax=ax) for s in cases_per_disease]\n",
    "\n",
    "ax.set(title='Polyclinic Cases for Selected Diseases',\n",
    "      ylabel='Number of cases',\n",
    "      xlabel='Week of the year')\n",
    "ax.grid()\n",
    "ax.legend(df.disease.unique())"
   ]
  },
  {
   "cell_type": "markdown",
   "metadata": {
    "slideshow": {
     "slide_type": "-"
    }
   },
   "source": [
    "So the majority of the cases in 2015 are due to \"Acute Upper Respiratory Tract infections.\"\n",
    "\n",
    "A search of the internet reveals that this coincided with the 2015 haze."
   ]
  },
  {
   "cell_type": "code",
   "execution_count": 92,
   "metadata": {},
   "outputs": [
    {
     "data": {
      "text/html": [
       "<div>\n",
       "<style scoped>\n",
       "    .dataframe tbody tr th:only-of-type {\n",
       "        vertical-align: middle;\n",
       "    }\n",
       "\n",
       "    .dataframe tbody tr th {\n",
       "        vertical-align: top;\n",
       "    }\n",
       "\n",
       "    .dataframe thead th {\n",
       "        text-align: right;\n",
       "    }\n",
       "</style>\n",
       "<table border=\"1\" class=\"dataframe\">\n",
       "  <thead>\n",
       "    <tr style=\"text-align: right;\">\n",
       "      <th></th>\n",
       "      <th>disease</th>\n",
       "      <th>no._of_cases</th>\n",
       "    </tr>\n",
       "    <tr>\n",
       "      <th>epi_week</th>\n",
       "      <th></th>\n",
       "      <th></th>\n",
       "    </tr>\n",
       "  </thead>\n",
       "  <tbody>\n",
       "    <tr>\n",
       "      <th>2012-01-08</th>\n",
       "      <td>Acute Upper Respiratory Tract infections</td>\n",
       "      <td>2932</td>\n",
       "    </tr>\n",
       "    <tr>\n",
       "      <th>2012-01-15</th>\n",
       "      <td>Acute Upper Respiratory Tract infections</td>\n",
       "      <td>3189</td>\n",
       "    </tr>\n",
       "    <tr>\n",
       "      <th>2012-01-22</th>\n",
       "      <td>Acute Upper Respiratory Tract infections</td>\n",
       "      <td>3185</td>\n",
       "    </tr>\n",
       "    <tr>\n",
       "      <th>2012-01-29</th>\n",
       "      <td>Acute Upper Respiratory Tract infections</td>\n",
       "      <td>4001</td>\n",
       "    </tr>\n",
       "    <tr>\n",
       "      <th>2012-02-05</th>\n",
       "      <td>Acute Upper Respiratory Tract infections</td>\n",
       "      <td>3356</td>\n",
       "    </tr>\n",
       "    <tr>\n",
       "      <th>2012-02-12</th>\n",
       "      <td>Acute Upper Respiratory Tract infections</td>\n",
       "      <td>3358</td>\n",
       "    </tr>\n",
       "    <tr>\n",
       "      <th>2012-02-19</th>\n",
       "      <td>Acute Upper Respiratory Tract infections</td>\n",
       "      <td>3033</td>\n",
       "    </tr>\n",
       "    <tr>\n",
       "      <th>2012-02-26</th>\n",
       "      <td>Acute Upper Respiratory Tract infections</td>\n",
       "      <td>2953</td>\n",
       "    </tr>\n",
       "    <tr>\n",
       "      <th>2012-03-04</th>\n",
       "      <td>Acute Upper Respiratory Tract infections</td>\n",
       "      <td>2855</td>\n",
       "    </tr>\n",
       "    <tr>\n",
       "      <th>2012-03-11</th>\n",
       "      <td>Acute Upper Respiratory Tract infections</td>\n",
       "      <td>2868</td>\n",
       "    </tr>\n",
       "    <tr>\n",
       "      <th>2012-03-18</th>\n",
       "      <td>Acute Upper Respiratory Tract infections</td>\n",
       "      <td>2615</td>\n",
       "    </tr>\n",
       "    <tr>\n",
       "      <th>2012-03-25</th>\n",
       "      <td>Acute Upper Respiratory Tract infections</td>\n",
       "      <td>2803</td>\n",
       "    </tr>\n",
       "    <tr>\n",
       "      <th>2012-04-01</th>\n",
       "      <td>Acute Upper Respiratory Tract infections</td>\n",
       "      <td>2711</td>\n",
       "    </tr>\n",
       "    <tr>\n",
       "      <th>2012-04-08</th>\n",
       "      <td>Acute Upper Respiratory Tract infections</td>\n",
       "      <td>2935</td>\n",
       "    </tr>\n",
       "    <tr>\n",
       "      <th>2012-04-15</th>\n",
       "      <td>Acute Upper Respiratory Tract infections</td>\n",
       "      <td>3098</td>\n",
       "    </tr>\n",
       "    <tr>\n",
       "      <th>2012-04-22</th>\n",
       "      <td>Acute Upper Respiratory Tract infections</td>\n",
       "      <td>3056</td>\n",
       "    </tr>\n",
       "    <tr>\n",
       "      <th>2012-04-29</th>\n",
       "      <td>Acute Upper Respiratory Tract infections</td>\n",
       "      <td>3022</td>\n",
       "    </tr>\n",
       "    <tr>\n",
       "      <th>2012-05-06</th>\n",
       "      <td>Acute Upper Respiratory Tract infections</td>\n",
       "      <td>3090</td>\n",
       "    </tr>\n",
       "    <tr>\n",
       "      <th>2012-05-13</th>\n",
       "      <td>Acute Upper Respiratory Tract infections</td>\n",
       "      <td>3100</td>\n",
       "    </tr>\n",
       "    <tr>\n",
       "      <th>2012-05-20</th>\n",
       "      <td>Acute Upper Respiratory Tract infections</td>\n",
       "      <td>3167</td>\n",
       "    </tr>\n",
       "    <tr>\n",
       "      <th>2012-05-27</th>\n",
       "      <td>Acute Upper Respiratory Tract infections</td>\n",
       "      <td>2982</td>\n",
       "    </tr>\n",
       "    <tr>\n",
       "      <th>2012-06-03</th>\n",
       "      <td>Acute Upper Respiratory Tract infections</td>\n",
       "      <td>2719</td>\n",
       "    </tr>\n",
       "    <tr>\n",
       "      <th>2012-06-10</th>\n",
       "      <td>Acute Upper Respiratory Tract infections</td>\n",
       "      <td>2550</td>\n",
       "    </tr>\n",
       "    <tr>\n",
       "      <th>2012-06-17</th>\n",
       "      <td>Acute Upper Respiratory Tract infections</td>\n",
       "      <td>2495</td>\n",
       "    </tr>\n",
       "    <tr>\n",
       "      <th>2012-06-24</th>\n",
       "      <td>Acute Upper Respiratory Tract infections</td>\n",
       "      <td>2381</td>\n",
       "    </tr>\n",
       "    <tr>\n",
       "      <th>2012-07-01</th>\n",
       "      <td>Acute Upper Respiratory Tract infections</td>\n",
       "      <td>2471</td>\n",
       "    </tr>\n",
       "    <tr>\n",
       "      <th>2012-07-08</th>\n",
       "      <td>Acute Upper Respiratory Tract infections</td>\n",
       "      <td>2597</td>\n",
       "    </tr>\n",
       "    <tr>\n",
       "      <th>2012-07-15</th>\n",
       "      <td>Acute Upper Respiratory Tract infections</td>\n",
       "      <td>2949</td>\n",
       "    </tr>\n",
       "    <tr>\n",
       "      <th>2012-07-22</th>\n",
       "      <td>Acute Upper Respiratory Tract infections</td>\n",
       "      <td>3168</td>\n",
       "    </tr>\n",
       "    <tr>\n",
       "      <th>2012-07-29</th>\n",
       "      <td>Acute Upper Respiratory Tract infections</td>\n",
       "      <td>3214</td>\n",
       "    </tr>\n",
       "    <tr>\n",
       "      <th>...</th>\n",
       "      <td>...</td>\n",
       "      <td>...</td>\n",
       "    </tr>\n",
       "    <tr>\n",
       "      <th>2017-06-11</th>\n",
       "      <td>Acute Upper Respiratory Tract infections</td>\n",
       "      <td>2842</td>\n",
       "    </tr>\n",
       "    <tr>\n",
       "      <th>2017-06-18</th>\n",
       "      <td>Acute Upper Respiratory Tract infections</td>\n",
       "      <td>2476</td>\n",
       "    </tr>\n",
       "    <tr>\n",
       "      <th>2017-06-25</th>\n",
       "      <td>Acute Upper Respiratory Tract infections</td>\n",
       "      <td>2374</td>\n",
       "    </tr>\n",
       "    <tr>\n",
       "      <th>2017-07-02</th>\n",
       "      <td>Acute Upper Respiratory Tract infections</td>\n",
       "      <td>2793</td>\n",
       "    </tr>\n",
       "    <tr>\n",
       "      <th>2017-07-09</th>\n",
       "      <td>Acute Upper Respiratory Tract infections</td>\n",
       "      <td>2835</td>\n",
       "    </tr>\n",
       "    <tr>\n",
       "      <th>2017-07-16</th>\n",
       "      <td>Acute Upper Respiratory Tract infections</td>\n",
       "      <td>3191</td>\n",
       "    </tr>\n",
       "    <tr>\n",
       "      <th>2017-07-23</th>\n",
       "      <td>Acute Upper Respiratory Tract infections</td>\n",
       "      <td>3355</td>\n",
       "    </tr>\n",
       "    <tr>\n",
       "      <th>2017-07-30</th>\n",
       "      <td>Acute Upper Respiratory Tract infections</td>\n",
       "      <td>3132</td>\n",
       "    </tr>\n",
       "    <tr>\n",
       "      <th>2017-08-06</th>\n",
       "      <td>Acute Upper Respiratory Tract infections</td>\n",
       "      <td>2867</td>\n",
       "    </tr>\n",
       "    <tr>\n",
       "      <th>2017-08-13</th>\n",
       "      <td>Acute Upper Respiratory Tract infections</td>\n",
       "      <td>2783</td>\n",
       "    </tr>\n",
       "    <tr>\n",
       "      <th>2017-08-20</th>\n",
       "      <td>Acute Upper Respiratory Tract infections</td>\n",
       "      <td>2893</td>\n",
       "    </tr>\n",
       "    <tr>\n",
       "      <th>2017-08-27</th>\n",
       "      <td>Acute Upper Respiratory Tract infections</td>\n",
       "      <td>2771</td>\n",
       "    </tr>\n",
       "    <tr>\n",
       "      <th>2017-09-03</th>\n",
       "      <td>Acute Upper Respiratory Tract infections</td>\n",
       "      <td>2502</td>\n",
       "    </tr>\n",
       "    <tr>\n",
       "      <th>2017-09-10</th>\n",
       "      <td>Acute Upper Respiratory Tract infections</td>\n",
       "      <td>2378</td>\n",
       "    </tr>\n",
       "    <tr>\n",
       "      <th>2017-09-17</th>\n",
       "      <td>Acute Upper Respiratory Tract infections</td>\n",
       "      <td>2489</td>\n",
       "    </tr>\n",
       "    <tr>\n",
       "      <th>2017-09-24</th>\n",
       "      <td>Acute Upper Respiratory Tract infections</td>\n",
       "      <td>2665</td>\n",
       "    </tr>\n",
       "    <tr>\n",
       "      <th>2017-10-01</th>\n",
       "      <td>Acute Upper Respiratory Tract infections</td>\n",
       "      <td>2686</td>\n",
       "    </tr>\n",
       "    <tr>\n",
       "      <th>2017-10-08</th>\n",
       "      <td>Acute Upper Respiratory Tract infections</td>\n",
       "      <td>2881</td>\n",
       "    </tr>\n",
       "    <tr>\n",
       "      <th>2017-10-15</th>\n",
       "      <td>Acute Upper Respiratory Tract infections</td>\n",
       "      <td>3016</td>\n",
       "    </tr>\n",
       "    <tr>\n",
       "      <th>2017-10-22</th>\n",
       "      <td>Acute Upper Respiratory Tract infections</td>\n",
       "      <td>3125</td>\n",
       "    </tr>\n",
       "    <tr>\n",
       "      <th>2017-10-29</th>\n",
       "      <td>Acute Upper Respiratory Tract infections</td>\n",
       "      <td>2869</td>\n",
       "    </tr>\n",
       "    <tr>\n",
       "      <th>2017-11-05</th>\n",
       "      <td>Acute Upper Respiratory Tract infections</td>\n",
       "      <td>2882</td>\n",
       "    </tr>\n",
       "    <tr>\n",
       "      <th>2017-11-12</th>\n",
       "      <td>Acute Upper Respiratory Tract infections</td>\n",
       "      <td>2862</td>\n",
       "    </tr>\n",
       "    <tr>\n",
       "      <th>2017-11-19</th>\n",
       "      <td>Acute Upper Respiratory Tract infections</td>\n",
       "      <td>2939</td>\n",
       "    </tr>\n",
       "    <tr>\n",
       "      <th>2017-11-26</th>\n",
       "      <td>Acute Upper Respiratory Tract infections</td>\n",
       "      <td>2910</td>\n",
       "    </tr>\n",
       "    <tr>\n",
       "      <th>2017-12-03</th>\n",
       "      <td>Acute Upper Respiratory Tract infections</td>\n",
       "      <td>2836</td>\n",
       "    </tr>\n",
       "    <tr>\n",
       "      <th>2017-12-10</th>\n",
       "      <td>Acute Upper Respiratory Tract infections</td>\n",
       "      <td>2711</td>\n",
       "    </tr>\n",
       "    <tr>\n",
       "      <th>2017-12-17</th>\n",
       "      <td>Acute Upper Respiratory Tract infections</td>\n",
       "      <td>2677</td>\n",
       "    </tr>\n",
       "    <tr>\n",
       "      <th>2017-12-24</th>\n",
       "      <td>Acute Upper Respiratory Tract infections</td>\n",
       "      <td>2729</td>\n",
       "    </tr>\n",
       "    <tr>\n",
       "      <th>2017-12-31</th>\n",
       "      <td>Acute Upper Respiratory Tract infections</td>\n",
       "      <td>2836</td>\n",
       "    </tr>\n",
       "  </tbody>\n",
       "</table>\n",
       "<p>313 rows × 2 columns</p>\n",
       "</div>"
      ],
      "text/plain": [
       "                                             disease  no._of_cases\n",
       "epi_week                                                          \n",
       "2012-01-08  Acute Upper Respiratory Tract infections          2932\n",
       "2012-01-15  Acute Upper Respiratory Tract infections          3189\n",
       "2012-01-22  Acute Upper Respiratory Tract infections          3185\n",
       "2012-01-29  Acute Upper Respiratory Tract infections          4001\n",
       "2012-02-05  Acute Upper Respiratory Tract infections          3356\n",
       "2012-02-12  Acute Upper Respiratory Tract infections          3358\n",
       "2012-02-19  Acute Upper Respiratory Tract infections          3033\n",
       "2012-02-26  Acute Upper Respiratory Tract infections          2953\n",
       "2012-03-04  Acute Upper Respiratory Tract infections          2855\n",
       "2012-03-11  Acute Upper Respiratory Tract infections          2868\n",
       "2012-03-18  Acute Upper Respiratory Tract infections          2615\n",
       "2012-03-25  Acute Upper Respiratory Tract infections          2803\n",
       "2012-04-01  Acute Upper Respiratory Tract infections          2711\n",
       "2012-04-08  Acute Upper Respiratory Tract infections          2935\n",
       "2012-04-15  Acute Upper Respiratory Tract infections          3098\n",
       "2012-04-22  Acute Upper Respiratory Tract infections          3056\n",
       "2012-04-29  Acute Upper Respiratory Tract infections          3022\n",
       "2012-05-06  Acute Upper Respiratory Tract infections          3090\n",
       "2012-05-13  Acute Upper Respiratory Tract infections          3100\n",
       "2012-05-20  Acute Upper Respiratory Tract infections          3167\n",
       "2012-05-27  Acute Upper Respiratory Tract infections          2982\n",
       "2012-06-03  Acute Upper Respiratory Tract infections          2719\n",
       "2012-06-10  Acute Upper Respiratory Tract infections          2550\n",
       "2012-06-17  Acute Upper Respiratory Tract infections          2495\n",
       "2012-06-24  Acute Upper Respiratory Tract infections          2381\n",
       "2012-07-01  Acute Upper Respiratory Tract infections          2471\n",
       "2012-07-08  Acute Upper Respiratory Tract infections          2597\n",
       "2012-07-15  Acute Upper Respiratory Tract infections          2949\n",
       "2012-07-22  Acute Upper Respiratory Tract infections          3168\n",
       "2012-07-29  Acute Upper Respiratory Tract infections          3214\n",
       "...                                              ...           ...\n",
       "2017-06-11  Acute Upper Respiratory Tract infections          2842\n",
       "2017-06-18  Acute Upper Respiratory Tract infections          2476\n",
       "2017-06-25  Acute Upper Respiratory Tract infections          2374\n",
       "2017-07-02  Acute Upper Respiratory Tract infections          2793\n",
       "2017-07-09  Acute Upper Respiratory Tract infections          2835\n",
       "2017-07-16  Acute Upper Respiratory Tract infections          3191\n",
       "2017-07-23  Acute Upper Respiratory Tract infections          3355\n",
       "2017-07-30  Acute Upper Respiratory Tract infections          3132\n",
       "2017-08-06  Acute Upper Respiratory Tract infections          2867\n",
       "2017-08-13  Acute Upper Respiratory Tract infections          2783\n",
       "2017-08-20  Acute Upper Respiratory Tract infections          2893\n",
       "2017-08-27  Acute Upper Respiratory Tract infections          2771\n",
       "2017-09-03  Acute Upper Respiratory Tract infections          2502\n",
       "2017-09-10  Acute Upper Respiratory Tract infections          2378\n",
       "2017-09-17  Acute Upper Respiratory Tract infections          2489\n",
       "2017-09-24  Acute Upper Respiratory Tract infections          2665\n",
       "2017-10-01  Acute Upper Respiratory Tract infections          2686\n",
       "2017-10-08  Acute Upper Respiratory Tract infections          2881\n",
       "2017-10-15  Acute Upper Respiratory Tract infections          3016\n",
       "2017-10-22  Acute Upper Respiratory Tract infections          3125\n",
       "2017-10-29  Acute Upper Respiratory Tract infections          2869\n",
       "2017-11-05  Acute Upper Respiratory Tract infections          2882\n",
       "2017-11-12  Acute Upper Respiratory Tract infections          2862\n",
       "2017-11-19  Acute Upper Respiratory Tract infections          2939\n",
       "2017-11-26  Acute Upper Respiratory Tract infections          2910\n",
       "2017-12-03  Acute Upper Respiratory Tract infections          2836\n",
       "2017-12-10  Acute Upper Respiratory Tract infections          2711\n",
       "2017-12-17  Acute Upper Respiratory Tract infections          2677\n",
       "2017-12-24  Acute Upper Respiratory Tract infections          2729\n",
       "2017-12-31  Acute Upper Respiratory Tract infections          2836\n",
       "\n",
       "[313 rows x 2 columns]"
      ]
     },
     "execution_count": 92,
     "metadata": {},
     "output_type": "execute_result"
    }
   ],
   "source": [
    "df[df.disease == 'Acute Upper Respiratory Tract infections']\n"
   ]
  },
  {
   "cell_type": "markdown",
   "metadata": {
    "slideshow": {
     "slide_type": "-"
    }
   },
   "source": [
    "### Bar chart showing distribution of types of cases over time\n",
    "\n",
    "In our final plot, we'll do a bar chart what shows "
   ]
  }
 ],
 "metadata": {
  "celltoolbar": "Slideshow",
  "kernelspec": {
   "display_name": "Python 3",
   "language": "python",
   "name": "python3"
  },
  "language_info": {
   "codemirror_mode": {
    "name": "ipython",
    "version": 3
   },
   "file_extension": ".py",
   "mimetype": "text/x-python",
   "name": "python",
   "nbconvert_exporter": "python",
   "pygments_lexer": "ipython3",
   "version": "3.6.4"
  },
  "livereveal": {
   "autolaunch": false,
   "overlay": "<div class='logo'><img src='assets/Stackup_Logo_Small.png' width='90%'/></div>"
  }
 },
 "nbformat": 4,
 "nbformat_minor": 2
}
