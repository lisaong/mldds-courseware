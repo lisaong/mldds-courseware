{
 "cells": [
  {
   "cell_type": "markdown",
   "metadata": {},
   "source": [
    "![matplotlib](https://matplotlib.org/_static/logo2.png)\n",
    "\n",
    "(image: matplotlib.org)"
   ]
  },
  {
   "cell_type": "markdown",
   "metadata": {
    "slideshow": {
     "slide_type": "-"
    }
   },
   "source": [
    "## Workshop: Matplotlib and Data Visualization\n",
    "\n",
    "In this workshop, we will cover using Matplotlib to create data visualizations.\n",
    "\n",
    "By now, you have already seen Matplotlib in action in the NumPy and Pandas workshops. This workshop serves as a more structured introduction to Matplotlib.\n",
    "\n",
    "Specifically, we'll be focusing on `matplotlib.pyplot`."
   ]
  },
  {
   "cell_type": "markdown",
   "metadata": {
    "slideshow": {
     "slide_type": "-"
    }
   },
   "source": [
    "### Cheatsheet\n",
    "\n",
    "https://s3.amazonaws.com/assets.datacamp.com/blog_assets/Python_Matplotlib_Cheat_Sheet.pdf"
   ]
  },
  {
   "cell_type": "markdown",
   "metadata": {
    "slideshow": {
     "slide_type": "-"
    }
   },
   "source": [
    "### References\n",
    "\n",
    "1. https://matplotlib.org/tutorials/index.html\n",
    "2. https://matplotlib.org/api/pyplot_summary.html\n"
   ]
  },
  {
   "cell_type": "markdown",
   "metadata": {
    "slideshow": {
     "slide_type": "-"
    }
   },
   "source": [
    "### Installation\n",
    "Windows: Start Button -> \"Anaconda Prompt\"\n",
    "\n",
    "Ubuntu / MacOS: conda should be in your path\n",
    "\n",
    "Activate the environment\n",
    "\n",
    "```\n",
    "conda activate module1\n",
    "```"
   ]
  },
  {
   "cell_type": "markdown",
   "metadata": {
    "slideshow": {
     "slide_type": "-"
    }
   },
   "source": [
    "Matplotlib should already be installed. If not, install it:\n",
    "```\n",
    "conda install matplotlib\n",
    "```"
   ]
  },
  {
   "cell_type": "markdown",
   "metadata": {
    "slideshow": {
     "slide_type": "-"
    }
   },
   "source": [
    "### Average Daily Polyclinic Attendances for Selected Diseases\n",
    "\n",
    "We will be practicing `matplotlib` concepts on this dataset."
   ]
  },
  {
   "cell_type": "markdown",
   "metadata": {
    "slideshow": {
     "slide_type": "-"
    }
   },
   "source": [
    "### Download Instructions\n",
    "\n",
    "1. Go to https://data.gov.sg/dataset/average-daily-polyclinic-attendances-selected-diseases\n",
    "2. Click on the Download button\n",
    "3. Unzip and extract the .csv file. Note the path for use below\n",
    "\n",
    "Note: on Windows you may wish to rename the unzipped folder to something shorter."
   ]
  },
  {
   "cell_type": "code",
   "execution_count": 3,
   "metadata": {
    "slideshow": {
     "slide_type": "-"
    }
   },
   "outputs": [],
   "source": [
    "import matplotlib\n",
    "matplotlib?"
   ]
  },
  {
   "cell_type": "code",
   "execution_count": 2,
   "metadata": {
    "slideshow": {
     "slide_type": "-"
    }
   },
   "outputs": [],
   "source": [
    "import matplotlib.pyplot as plt\n",
    "plt?"
   ]
  },
  {
   "cell_type": "markdown",
   "metadata": {
    "slideshow": {
     "slide_type": "-"
    }
   },
   "source": [
    "### Exercise: read the data\n",
    "\n",
    "By now, you should know how to read data into csv using pandas.\n",
    "\n",
    "Write the Python code to load the data into a dataframe `df`."
   ]
  },
  {
   "cell_type": "code",
   "execution_count": 4,
   "metadata": {
    "slideshow": {
     "slide_type": "-"
    }
   },
   "outputs": [
    {
     "data": {
      "text/html": [
       "<div>\n",
       "<style scoped>\n",
       "    .dataframe tbody tr th:only-of-type {\n",
       "        vertical-align: middle;\n",
       "    }\n",
       "\n",
       "    .dataframe tbody tr th {\n",
       "        vertical-align: top;\n",
       "    }\n",
       "\n",
       "    .dataframe thead th {\n",
       "        text-align: right;\n",
       "    }\n",
       "</style>\n",
       "<table border=\"1\" class=\"dataframe\">\n",
       "  <thead>\n",
       "    <tr style=\"text-align: right;\">\n",
       "      <th></th>\n",
       "      <th>epi_week</th>\n",
       "      <th>disease</th>\n",
       "      <th>no._of_cases</th>\n",
       "    </tr>\n",
       "  </thead>\n",
       "  <tbody>\n",
       "    <tr>\n",
       "      <th>0</th>\n",
       "      <td>2012-W01</td>\n",
       "      <td>Acute Upper Respiratory Tract infections</td>\n",
       "      <td>2932</td>\n",
       "    </tr>\n",
       "    <tr>\n",
       "      <th>1</th>\n",
       "      <td>2012-W01</td>\n",
       "      <td>Acute Conjunctivitis</td>\n",
       "      <td>120</td>\n",
       "    </tr>\n",
       "    <tr>\n",
       "      <th>2</th>\n",
       "      <td>2012-W01</td>\n",
       "      <td>Acute Diarrhoea</td>\n",
       "      <td>491</td>\n",
       "    </tr>\n",
       "    <tr>\n",
       "      <th>3</th>\n",
       "      <td>2012-W01</td>\n",
       "      <td>Chickenpox</td>\n",
       "      <td>18</td>\n",
       "    </tr>\n",
       "    <tr>\n",
       "      <th>4</th>\n",
       "      <td>2012-W02</td>\n",
       "      <td>Acute Upper Respiratory Tract infections</td>\n",
       "      <td>3189</td>\n",
       "    </tr>\n",
       "  </tbody>\n",
       "</table>\n",
       "</div>"
      ],
      "text/plain": [
       "   epi_week                                   disease  no._of_cases\n",
       "0  2012-W01  Acute Upper Respiratory Tract infections          2932\n",
       "1  2012-W01                      Acute Conjunctivitis           120\n",
       "2  2012-W01                           Acute Diarrhoea           491\n",
       "3  2012-W01                                Chickenpox            18\n",
       "4  2012-W02  Acute Upper Respiratory Tract infections          3189"
      ]
     },
     "execution_count": 4,
     "metadata": {},
     "output_type": "execute_result"
    }
   ],
   "source": [
    "# Use pandas to read the CSV file into a pandas.DataFrame\n",
    "# Hint: use read_csv\n",
    "\n",
    "# Your code here\n",
    "\n",
    "import pandas as pd\n",
    "\n",
    "df = pd.read_csv('D:/tmp/polyclinic-attendance/average-daily-polyclinic-attendances-for-selected-diseases.csv')\n",
    "df.head(5)"
   ]
  },
  {
   "cell_type": "code",
   "execution_count": null,
   "metadata": {},
   "outputs": [],
   "source": []
  }
 ],
 "metadata": {
  "celltoolbar": "Slideshow",
  "kernelspec": {
   "display_name": "Python 3",
   "language": "python",
   "name": "python3"
  },
  "language_info": {
   "codemirror_mode": {
    "name": "ipython",
    "version": 3
   },
   "file_extension": ".py",
   "mimetype": "text/x-python",
   "name": "python",
   "nbconvert_exporter": "python",
   "pygments_lexer": "ipython3",
   "version": "3.6.4"
  },
  "livereveal": {
   "autolaunch": false,
   "overlay": "<div class='logo'><img src='assets/Stackup_Logo_Small.png' width='90%'/></div>"
  }
 },
 "nbformat": 4,
 "nbformat_minor": 2
}
