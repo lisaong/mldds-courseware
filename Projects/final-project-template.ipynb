{
 "cells": [
  {
   "cell_type": "markdown",
   "metadata": {},
   "source": [
    "# Final Project Template\n",
    "\n",
    "This workbook provides the template for the final project. \n",
    "\n",
    "## Instructions\n",
    "- Work individually or in pairs\n",
    "- Each team is to complete 1 copy of this template.\n",
    "  - Complete all sections.\n",
    "  - Feel free to include supporting material / slides / documents as needed.\n",
    "- At the end of the project, you will get 15 minutes to present this workbook to the class.\n",
    "\n",
    "### Submission Instructions\n",
    "- Submit the .ipynb with the Output cells showing the results\n",
    "  - Naming convention:\n",
    "  ```\n",
    "      <name1>-<name2>-<project_short_name>.ipynb\n",
    "  ```\n",
    "- If you provide your own datasets, include the data with your .ipynb"
   ]
  },
  {
   "cell_type": "code",
   "execution_count": null,
   "metadata": {},
   "outputs": [],
   "source": []
  },
  {
   "cell_type": "markdown",
   "metadata": {},
   "source": [
    "## Section 0: Team Members\n",
    "- Member 1\n",
    "- Member 2"
   ]
  },
  {
   "cell_type": "markdown",
   "metadata": {},
   "source": [
    "## Section 1: Project Title\n",
    "\n",
    "- The title should 1 sentence that describes the goal of this project.\n",
    "- Example: Clustering analysis of COE premiums and quotas"
   ]
  },
  {
   "cell_type": "markdown",
   "metadata": {},
   "source": [
    "## Section 2: Project Definition\n",
    "\n",
    "### Goals\n",
    "\n",
    "Describe the goal of this project.\n",
    "\n",
    "Example:\n",
    "The goal of this project is to determine if the bid quotas and premiums can be > used to predict the vehicle category.\n",
    "\n",
    "Important:\n",
    "- If this is your first project, keep the project definition as simple as possible. \n",
    "- As a rule of thumb, pick something that can be completed in 2-3 days. There is always more you can add to it if you finish early. \n",
    "- If you are not sure, use the workshop problems as a reference.\n",
    "\n",
    "### Dataset\n",
    "\n",
    "Briefly describe the source(s) of data you are using.\n",
    "- Provide the URL to the data source.\n",
    "- If you are providing your own data set, include the data with your project submission.\n",
    "- You can find sample datasets from:\n",
    "  - http://archive.ics.uci.edu/ml/datasets.html\n",
    "  - http://data.gov.sg/\n",
    "\n",
    "Example:\n",
    "\n",
    "We will use the dataset from: https://data.gov.sg/dataset/coe-bidding-results\n",
    "\n",
    "#### Format: CSV\n",
    "\n",
    "#### Columns:\n",
    " \n",
    "|Name|Type|Unit of Measure|Description|\n",
    "|--|--|--|--|\n",
    "|month|Datetime, YYYY-MM|none|date range: Jan 1, 2010 to Mar 31, 2018|\n",
    "|bidding_no|Numeric|No. of Bids|Number of Bids|\n",
    "|vehicle_class|Text|none|Vehicle category: A to E|\n",
    "|quota|Numeric|No. of Bids|Number of Quota|\n",
    "|bids_success|Numeric|No. of Bids|Number of Successful Bids|\n",
    "|bids_received|Numeric|No. of Bids|Number of Bids Received|\n",
    "|premium|Numeric|S$|COE premium|\n",
    "\n",
    "### Tasks\n",
    "\n",
    "List the tasks you will perform. \n",
    "\n",
    "Example:\n",
    " \n",
    "1. Process the dataset to convert strings into labels.\n",
    "2. Shuffle and split into train and test sets\n",
    "3. Train a clustering algorithm, using Gaussian Mixture Model with 5 components, where each component is a vehicle category.\n",
    "4. Compute the metrics for the algorithm.\n",
    "5. Perform analysis for possible improvements."
   ]
  },
  {
   "cell_type": "markdown",
   "metadata": {},
   "source": [
    "## Section 3: Prepare Dataset\n",
    "\n",
    "Write your code below to prepare the dataset using pandas"
   ]
  },
  {
   "cell_type": "code",
   "execution_count": null,
   "metadata": {},
   "outputs": [],
   "source": []
  },
  {
   "cell_type": "code",
   "execution_count": null,
   "metadata": {},
   "outputs": [],
   "source": []
  },
  {
   "cell_type": "markdown",
   "metadata": {},
   "source": [
    "## Section 4: Select Features\n",
    "\n",
    "Write your code below to create X_train, X_test, y_train, y_test"
   ]
  },
  {
   "cell_type": "code",
   "execution_count": null,
   "metadata": {},
   "outputs": [],
   "source": []
  },
  {
   "cell_type": "code",
   "execution_count": null,
   "metadata": {},
   "outputs": [],
   "source": []
  },
  {
   "cell_type": "markdown",
   "metadata": {},
   "source": [
    "## Section 5: Train the algorithm(s)\n",
    "\n",
    "Write your code below to initialize and train the algorithm(s)"
   ]
  },
  {
   "cell_type": "code",
   "execution_count": null,
   "metadata": {},
   "outputs": [],
   "source": []
  },
  {
   "cell_type": "code",
   "execution_count": null,
   "metadata": {},
   "outputs": [],
   "source": []
  },
  {
   "cell_type": "markdown",
   "metadata": {},
   "source": [
    "## Section 6: Evaluate metrics\n",
    "\n",
    "Write your code below to evaluate metrics for the trained algorithm(s).\n",
    "\n",
    "Feel free to plot the algorithm to visualize it, as appropriately."
   ]
  },
  {
   "cell_type": "code",
   "execution_count": null,
   "metadata": {},
   "outputs": [],
   "source": []
  },
  {
   "cell_type": "code",
   "execution_count": null,
   "metadata": {},
   "outputs": [],
   "source": []
  },
  {
   "cell_type": "markdown",
   "metadata": {},
   "source": [
    "## Section 7: Observations and analysis\n",
    "\n",
    "Answer the following questions:\n",
    "1. How did you measure the algorithm? Specify the metrics you used.\n",
    "\n",
    "2. What is the outcome of the measurement? Explain the interpretation of the metrics.\n",
    "\n",
    "  - Is there overfitting or underfitting?\n",
    "  - Is there low accuracy or high error? If so, why do you think this is the case?\n",
    "\n",
    "3. What improvements do you propose? \n",
    "\n",
    "4. What is the most challenging part of this project?"
   ]
  },
  {
   "cell_type": "code",
   "execution_count": null,
   "metadata": {},
   "outputs": [],
   "source": []
  }
 ],
 "metadata": {
  "kernelspec": {
   "display_name": "Python 3",
   "language": "python",
   "name": "python3"
  },
  "language_info": {
   "codemirror_mode": {
    "name": "ipython",
    "version": 3
   },
   "file_extension": ".py",
   "mimetype": "text/x-python",
   "name": "python",
   "nbconvert_exporter": "python",
   "pygments_lexer": "ipython3",
   "version": "3.6.5"
  }
 },
 "nbformat": 4,
 "nbformat_minor": 2
}
